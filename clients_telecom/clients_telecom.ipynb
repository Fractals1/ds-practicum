{
 "cells": [
  {
   "cell_type": "markdown",
   "metadata": {},
   "source": [
    "# Рекомендация тарифов"
   ]
  },
  {
   "cell_type": "markdown",
   "metadata": {},
   "source": [
    "В вашем распоряжении данные о поведении клиентов, которые уже перешли на эти тарифы (из проекта курса «Статистический анализ данных»). Нужно построить модель для задачи классификации, которая выберет подходящий тариф. Предобработка данных не понадобится — вы её уже сделали.\n",
    "\n",
    "Постройте модель с максимально большим значением *accuracy*. Чтобы сдать проект успешно, нужно довести долю правильных ответов по крайней мере до 0.75. Проверьте *accuracy* на тестовой выборке самостоятельно."
   ]
  },
  {
   "cell_type": "markdown",
   "metadata": {},
   "source": [
    "# Описание проекта\n",
    "Оператор мобильной связи «Мегалайн» выяснил: многие клиенты пользуются архивными тарифами. Они хотят построить систему, способную проанализировать поведение клиентов и предложить пользователям новый тариф: «Смарт» или «Ультра».\n",
    "В вашем распоряжении данные о поведении клиентов, которые уже перешли на эти тарифы (из проекта курса «Статистический анализ данных»). Нужно построить модель для задачи классификации, которая выберет подходящий тариф. Предобработка данных не понадобится — вы её уже сделали.\n",
    "Постройте модель с максимально большим значением accuracy. Чтобы сдать проект успешно, нужно довести долю правильных ответов по крайней мере до 0.75. Проверьте accuracy на тестовой выборке самостоятельно."
   ]
  },
  {
   "cell_type": "markdown",
   "metadata": {},
   "source": [
    "## Описание данных\n",
    "Каждый объект в наборе данных — это информация о поведении одного пользователя за месяц. Известно:\n",
    "\n",
    "    сalls — количество звонков,\n",
    "    minutes — суммарная длительность звонков в минутах,\n",
    "    messages — количество sms-сообщений,\n",
    "    mb_used — израсходованный интернет-трафик в Мб,\n",
    "    is_ultra — каким тарифом пользовался в течение месяца («Ультра» — 1, «Смарт» — 0)."
   ]
  },
  {
   "cell_type": "markdown",
   "metadata": {},
   "source": [
    "## Откройте и изучите файл"
   ]
  },
  {
   "cell_type": "code",
   "execution_count": 1,
   "metadata": {},
   "outputs": [],
   "source": [
    "import pandas as pd\n",
    "from sklearn.tree import DecisionTreeClassifier\n",
    "from sklearn.linear_model import LogisticRegression\n",
    "from sklearn.ensemble import RandomForestClassifier\n",
    "from sklearn.model_selection import train_test_split\n",
    "from sklearn.metrics import mean_squared_error\n",
    "from sklearn.dummy import DummyClassifier"
   ]
  },
  {
   "cell_type": "code",
   "execution_count": 2,
   "metadata": {},
   "outputs": [],
   "source": [
    "df = pd.read_csv('/datasets/users_behavior.csv')"
   ]
  },
  {
   "cell_type": "code",
   "execution_count": 3,
   "metadata": {},
   "outputs": [
    {
     "name": "stdout",
     "output_type": "stream",
     "text": [
      "<class 'pandas.core.frame.DataFrame'>\n",
      "RangeIndex: 3214 entries, 0 to 3213\n",
      "Data columns (total 5 columns):\n",
      " #   Column    Non-Null Count  Dtype  \n",
      "---  ------    --------------  -----  \n",
      " 0   calls     3214 non-null   float64\n",
      " 1   minutes   3214 non-null   float64\n",
      " 2   messages  3214 non-null   float64\n",
      " 3   mb_used   3214 non-null   float64\n",
      " 4   is_ultra  3214 non-null   int64  \n",
      "dtypes: float64(4), int64(1)\n",
      "memory usage: 125.7 KB\n"
     ]
    }
   ],
   "source": [
    "df.info()"
   ]
  },
  {
   "cell_type": "code",
   "execution_count": 4,
   "metadata": {},
   "outputs": [
    {
     "data": {
      "text/html": [
       "<div>\n",
       "<style scoped>\n",
       "    .dataframe tbody tr th:only-of-type {\n",
       "        vertical-align: middle;\n",
       "    }\n",
       "\n",
       "    .dataframe tbody tr th {\n",
       "        vertical-align: top;\n",
       "    }\n",
       "\n",
       "    .dataframe thead th {\n",
       "        text-align: right;\n",
       "    }\n",
       "</style>\n",
       "<table border=\"1\" class=\"dataframe\">\n",
       "  <thead>\n",
       "    <tr style=\"text-align: right;\">\n",
       "      <th></th>\n",
       "      <th>calls</th>\n",
       "      <th>minutes</th>\n",
       "      <th>messages</th>\n",
       "      <th>mb_used</th>\n",
       "      <th>is_ultra</th>\n",
       "    </tr>\n",
       "  </thead>\n",
       "  <tbody>\n",
       "    <tr>\n",
       "      <th>0</th>\n",
       "      <td>40.0</td>\n",
       "      <td>311.90</td>\n",
       "      <td>83.0</td>\n",
       "      <td>19915.42</td>\n",
       "      <td>0</td>\n",
       "    </tr>\n",
       "    <tr>\n",
       "      <th>1</th>\n",
       "      <td>85.0</td>\n",
       "      <td>516.75</td>\n",
       "      <td>56.0</td>\n",
       "      <td>22696.96</td>\n",
       "      <td>0</td>\n",
       "    </tr>\n",
       "    <tr>\n",
       "      <th>2</th>\n",
       "      <td>77.0</td>\n",
       "      <td>467.66</td>\n",
       "      <td>86.0</td>\n",
       "      <td>21060.45</td>\n",
       "      <td>0</td>\n",
       "    </tr>\n",
       "    <tr>\n",
       "      <th>3</th>\n",
       "      <td>106.0</td>\n",
       "      <td>745.53</td>\n",
       "      <td>81.0</td>\n",
       "      <td>8437.39</td>\n",
       "      <td>1</td>\n",
       "    </tr>\n",
       "    <tr>\n",
       "      <th>4</th>\n",
       "      <td>66.0</td>\n",
       "      <td>418.74</td>\n",
       "      <td>1.0</td>\n",
       "      <td>14502.75</td>\n",
       "      <td>0</td>\n",
       "    </tr>\n",
       "  </tbody>\n",
       "</table>\n",
       "</div>"
      ],
      "text/plain": [
       "   calls  minutes  messages   mb_used  is_ultra\n",
       "0   40.0   311.90      83.0  19915.42         0\n",
       "1   85.0   516.75      56.0  22696.96         0\n",
       "2   77.0   467.66      86.0  21060.45         0\n",
       "3  106.0   745.53      81.0   8437.39         1\n",
       "4   66.0   418.74       1.0  14502.75         0"
      ]
     },
     "execution_count": 4,
     "metadata": {},
     "output_type": "execute_result"
    }
   ],
   "source": [
    "df.head()"
   ]
  },
  {
   "cell_type": "markdown",
   "metadata": {},
   "source": [
    "## Разбейте данные на выборки"
   ]
  },
  {
   "cell_type": "code",
   "execution_count": 5,
   "metadata": {},
   "outputs": [],
   "source": [
    "# выведем столбец is_ultra как целевой\n",
    "features = df.drop('is_ultra', axis=1)\n",
    "target = df['is_ultra']"
   ]
  },
  {
   "cell_type": "code",
   "execution_count": 6,
   "metadata": {},
   "outputs": [],
   "source": [
    "#разделим выборку на тренироваочную и валидационную\n",
    "features_train, features_valid, target_train, target_valid = train_test_split(\n",
    "    features, target, test_size=0.40, random_state=12345, stratify= target)"
   ]
  },
  {
   "cell_type": "code",
   "execution_count": 7,
   "metadata": {},
   "outputs": [
    {
     "data": {
      "text/plain": [
       "(1928, 4)"
      ]
     },
     "execution_count": 7,
     "metadata": {},
     "output_type": "execute_result"
    }
   ],
   "source": [
    "features_train.shape"
   ]
  },
  {
   "cell_type": "code",
   "execution_count": 8,
   "metadata": {},
   "outputs": [
    {
     "data": {
      "text/plain": [
       "(1286, 4)"
      ]
     },
     "execution_count": 8,
     "metadata": {},
     "output_type": "execute_result"
    }
   ],
   "source": [
    "features_valid.shape"
   ]
  },
  {
   "cell_type": "code",
   "execution_count": 9,
   "metadata": {},
   "outputs": [],
   "source": [
    "# разделим валидационную выборку еще пополом чтобы пролучить теустовую выборку\n",
    "features_valid, features_test, target_valid,target_test = train_test_split(\n",
    "    features_valid, target_valid, test_size=0.50, random_state=12345, stratify = target_valid)"
   ]
  },
  {
   "cell_type": "code",
   "execution_count": 10,
   "metadata": {},
   "outputs": [
    {
     "data": {
      "text/plain": [
       "(643, 4)"
      ]
     },
     "execution_count": 10,
     "metadata": {},
     "output_type": "execute_result"
    }
   ],
   "source": [
    "features_valid.shape"
   ]
  },
  {
   "cell_type": "code",
   "execution_count": 11,
   "metadata": {},
   "outputs": [
    {
     "data": {
      "text/plain": [
       "(643, 4)"
      ]
     },
     "execution_count": 11,
     "metadata": {},
     "output_type": "execute_result"
    }
   ],
   "source": [
    "features_test.shape"
   ]
  },
  {
   "cell_type": "markdown",
   "metadata": {},
   "source": [
    "Данные были разбиты по принципу 60/20/20.\n",
    "\n",
    "    features_train, target_train - обучающая выборка 60% от набора данных\n",
    "    features_valid, target_valid - валидационная выборка 20% от набора \n",
    "    feаatures_test, target_test - тестовая выборка 20% от набора \n"
   ]
  },
  {
   "cell_type": "markdown",
   "metadata": {},
   "source": [
    "## Исследуйте модели"
   ]
  },
  {
   "cell_type": "code",
   "execution_count": 12,
   "metadata": {},
   "outputs": [
    {
     "name": "stdout",
     "output_type": "stream",
     "text": [
      "Глубина дерева: 8     Точность: 0.80248833592535\n"
     ]
    }
   ],
   "source": [
    "#посчитаем точность и найдем лучшую глубину деревом решений\n",
    "best_accuracy = 0\n",
    "best_depth = 0\n",
    "for depth in range(1,10):\n",
    "    model = DecisionTreeClassifier(max_depth=depth, random_state=12345)\n",
    "    model.fit(features_train, target_train)\n",
    "    accuracy = model.score(features_valid, target_valid)\n",
    "    if accuracy > best_accuracy:\n",
    "        best_accuracy = accuracy\n",
    "        best_depth = depth\n",
    "print(\"Глубина дерева:\", best_depth, \"    Точность:\", best_accuracy)"
   ]
  },
  {
   "cell_type": "markdown",
   "metadata": {},
   "source": [
    "При использовании модели дерева решений лучшая глубина дерева для данной вывыборки  8. Точность при этом 0.80248833592535"
   ]
  },
  {
   "cell_type": "code",
   "execution_count": 13,
   "metadata": {},
   "outputs": [
    {
     "name": "stdout",
     "output_type": "stream",
     "text": [
      "Точность: 0.7387247278382582\n"
     ]
    }
   ],
   "source": [
    "#посчитаем точность логистической регрессии\n",
    "model = LogisticRegression()\n",
    "model.fit(features_train, target_train)\n",
    "accuracy = model.score(features_valid, target_valid)\n",
    "print(\"Точность:\", accuracy)"
   ]
  },
  {
   "cell_type": "markdown",
   "metadata": {},
   "source": [
    "точность логистической регрессии получилась 0.7387247278382582"
   ]
  },
  {
   "cell_type": "code",
   "execution_count": 14,
   "metadata": {},
   "outputs": [
    {
     "name": "stdout",
     "output_type": "stream",
     "text": [
      "Глубина дерева: 9     Количество деревьев: 40   Точность: 0.8211508553654744\n"
     ]
    }
   ],
   "source": [
    "#посчитаем качество и найдем лучшие параметры  в случайном лее\n",
    "best_accuracy = 0\n",
    "best_depth = 0\n",
    "for depth in range(1,10):\n",
    "    for est in range(5,50,5):\n",
    "        model = RandomForestClassifier(max_depth=depth, n_estimators=est, random_state=12345)\n",
    "        model.fit(features_train, target_train)\n",
    "        accuracy = model.score(features_valid, target_valid)\n",
    "        if accuracy > best_accuracy:\n",
    "            best_accuracy = accuracy\n",
    "            best_depth = depth\n",
    "            best_est = est\n",
    "print(\"Глубина дерева:\", best_depth, \"    Количество деревьев:\", best_est,\n",
    "      \"  Точность:\", best_accuracy)\n"
   ]
  },
  {
   "cell_type": "markdown",
   "metadata": {},
   "source": [
    "для модели случаный лес лучшими параметрами для данной выборки оказались : Глубина дерева - 9, Количество деревьев- 40\n",
    "\n",
    "Точность при этом на тенировочной выборке полусилась 0.8211508553654744"
   ]
  },
  {
   "cell_type": "markdown",
   "metadata": {},
   "source": [
    "## Проверьте модель на тестовой выборке"
   ]
  },
  {
   "cell_type": "code",
   "execution_count": 15,
   "metadata": {},
   "outputs": [
    {
     "name": "stdout",
     "output_type": "stream",
     "text": [
      "Точность: 0.7465007776049767\n"
     ]
    }
   ],
   "source": [
    "# проверка логистической регресси на тестовой выборке\n",
    "model = LogisticRegression()\n",
    "model.fit(features_train, target_train)\n",
    "accuracy = model.score(features_test, target_test)\n",
    "print(\"Точность:\", accuracy)"
   ]
  },
  {
   "cell_type": "code",
   "execution_count": 16,
   "metadata": {},
   "outputs": [
    {
     "name": "stdout",
     "output_type": "stream",
     "text": [
      "Точность: 0.7838258164852255\n"
     ]
    }
   ],
   "source": [
    "# проверка дерева решений на тестовой выборке\n",
    "model = DecisionTreeClassifier(max_depth=8, random_state=12345)\n",
    "model.fit(features_train, target_train)\n",
    "accuracy = model.score(features_test, target_test)\n",
    "print(\"Точность:\", accuracy)"
   ]
  },
  {
   "cell_type": "code",
   "execution_count": 17,
   "metadata": {},
   "outputs": [
    {
     "name": "stdout",
     "output_type": "stream",
     "text": [
      "Точность: 0.8087091757387247\n"
     ]
    }
   ],
   "source": [
    "# проверка случайный лес  на тестовой выборке\n",
    "model = RandomForestClassifier(max_depth=9, n_estimators=40, random_state=12345)\n",
    "model.fit(features_train, target_train)\n",
    "accuracy = model.score(features_test, target_test)\n",
    "print(\"Точность:\", accuracy)"
   ]
  },
  {
   "cell_type": "markdown",
   "metadata": {},
   "source": [
    "Лучшие показатели показала модель случайный лес с точностью  0.8087091757387247"
   ]
  },
  {
   "cell_type": "markdown",
   "metadata": {},
   "source": [
    "## (бонус) Проверьте модели на адекватность"
   ]
  },
  {
   "cell_type": "code",
   "execution_count": 18,
   "metadata": {
    "scrolled": true
   },
   "outputs": [
    {
     "name": "stdout",
     "output_type": "stream",
     "text": [
      "Точность наивного прогноза : 0.5567651632970451\n",
      "Точность нашего прогноза : 0.8087091757387247\n"
     ]
    }
   ],
   "source": [
    "dmb = DummyClassifier(strategy=\"stratified\" ,random_state=12345)\n",
    "dmb.fit(features_train, target_train)\n",
    "acc = dmb.score(features_test, target_test)\n",
    "print(\"Точность наивного прогноза :\", acc)\n",
    "print(\"Точность нашего прогноза :\", accuracy)"
   ]
  },
  {
   "cell_type": "code",
   "execution_count": 19,
   "metadata": {},
   "outputs": [
    {
     "name": "stdout",
     "output_type": "stream",
     "text": [
      "Точность наивного прогноза : 0.6936236391912908\n",
      "Точность нашего прогноза : 0.8087091757387247\n"
     ]
    }
   ],
   "source": [
    "dmb = DummyClassifier(strategy='most_frequent', random_state=12345)\n",
    "dmb.fit(features_train, target_train)\n",
    "acc = dmb.score(features_test, target_test)\n",
    "print(\"Точность наивного прогноза :\", acc)\n",
    "print(\"Точность нашего прогноза :\", accuracy)"
   ]
  },
  {
   "cell_type": "code",
   "execution_count": 20,
   "metadata": {},
   "outputs": [
    {
     "name": "stdout",
     "output_type": "stream",
     "text": [
      "Точность наивного прогноза : 0.49455676516329705\n",
      "Точность нашего прогноза : 0.8087091757387247\n"
     ]
    }
   ],
   "source": [
    "dmb = DummyClassifier(strategy='uniform', random_state=12345)\n",
    "dmb.fit(features_train, target_train)\n",
    "acc = dmb.score(features_test, target_test)\n",
    "print(\"Точность наивного прогноза :\", acc)\n",
    "print(\"Точность нашего прогноза :\", accuracy)"
   ]
  }
 ],
 "metadata": {
  "ExecuteTimeLog": [
   {
    "duration": 47,
    "start_time": "2023-03-02T13:15:48.990Z"
   },
   {
    "duration": 1250,
    "start_time": "2023-03-02T13:15:51.848Z"
   },
   {
    "duration": 74,
    "start_time": "2023-03-02T13:15:53.100Z"
   },
   {
    "duration": 13,
    "start_time": "2023-03-02T13:15:53.176Z"
   },
   {
    "duration": 18,
    "start_time": "2023-03-02T13:16:08.450Z"
   },
   {
    "duration": 53,
    "start_time": "2023-03-02T18:53:56.681Z"
   },
   {
    "duration": 43,
    "start_time": "2023-03-02T18:56:24.819Z"
   },
   {
    "duration": 1030,
    "start_time": "2023-03-02T18:56:35.995Z"
   },
   {
    "duration": 164,
    "start_time": "2023-03-02T18:56:37.027Z"
   },
   {
    "duration": 12,
    "start_time": "2023-03-02T18:56:37.291Z"
   },
   {
    "duration": 15,
    "start_time": "2023-03-02T18:56:40.268Z"
   },
   {
    "duration": 63,
    "start_time": "2023-03-02T18:56:42.621Z"
   },
   {
    "duration": 8,
    "start_time": "2023-03-02T18:57:38.852Z"
   },
   {
    "duration": 4,
    "start_time": "2023-03-02T18:57:47.182Z"
   },
   {
    "duration": 11,
    "start_time": "2023-03-02T18:57:47.903Z"
   },
   {
    "duration": 6,
    "start_time": "2023-03-02T19:05:48.699Z"
   },
   {
    "duration": 8,
    "start_time": "2023-03-02T19:06:23.930Z"
   },
   {
    "duration": 5,
    "start_time": "2023-03-02T19:06:40.468Z"
   },
   {
    "duration": 8,
    "start_time": "2023-03-02T19:06:41.292Z"
   },
   {
    "duration": 11,
    "start_time": "2023-03-02T19:06:49.255Z"
   },
   {
    "duration": 10,
    "start_time": "2023-03-02T19:07:08.997Z"
   },
   {
    "duration": 4,
    "start_time": "2023-03-02T19:13:19.598Z"
   },
   {
    "duration": 3,
    "start_time": "2023-03-02T19:13:27.776Z"
   },
   {
    "duration": 5,
    "start_time": "2023-03-02T19:14:14.192Z"
   },
   {
    "duration": 4,
    "start_time": "2023-03-02T19:14:14.711Z"
   },
   {
    "duration": 4,
    "start_time": "2023-03-02T19:14:15.328Z"
   },
   {
    "duration": 5,
    "start_time": "2023-03-02T19:20:18.761Z"
   },
   {
    "duration": 4,
    "start_time": "2023-03-02T19:20:27.474Z"
   },
   {
    "duration": 3,
    "start_time": "2023-03-02T19:20:33.210Z"
   },
   {
    "duration": 8,
    "start_time": "2023-03-02T19:27:00.764Z"
   },
   {
    "duration": 4,
    "start_time": "2023-03-02T19:27:03.117Z"
   },
   {
    "duration": 4,
    "start_time": "2023-03-02T19:27:03.983Z"
   },
   {
    "duration": 9,
    "start_time": "2023-03-02T19:27:06.285Z"
   },
   {
    "duration": 4,
    "start_time": "2023-03-02T19:27:16.401Z"
   },
   {
    "duration": 6,
    "start_time": "2023-03-02T19:27:17.341Z"
   },
   {
    "duration": 4,
    "start_time": "2023-03-02T19:27:18.349Z"
   },
   {
    "duration": 3,
    "start_time": "2023-03-02T19:27:18.829Z"
   },
   {
    "duration": 1113,
    "start_time": "2023-03-02T19:27:26.293Z"
   },
   {
    "duration": 31,
    "start_time": "2023-03-02T19:27:27.408Z"
   },
   {
    "duration": 12,
    "start_time": "2023-03-02T19:27:27.443Z"
   },
   {
    "duration": 25,
    "start_time": "2023-03-02T19:27:27.457Z"
   },
   {
    "duration": 9,
    "start_time": "2023-03-02T19:27:27.484Z"
   },
   {
    "duration": 15,
    "start_time": "2023-03-02T19:27:27.495Z"
   },
   {
    "duration": 109,
    "start_time": "2023-03-02T19:27:27.511Z"
   },
   {
    "duration": 0,
    "start_time": "2023-03-02T19:27:27.621Z"
   },
   {
    "duration": 0,
    "start_time": "2023-03-02T19:27:27.623Z"
   },
   {
    "duration": 4,
    "start_time": "2023-03-02T19:27:43.143Z"
   },
   {
    "duration": 4,
    "start_time": "2023-03-02T19:27:54.032Z"
   },
   {
    "duration": 7,
    "start_time": "2023-03-02T19:37:18.720Z"
   },
   {
    "duration": 4,
    "start_time": "2023-03-02T19:37:19.550Z"
   },
   {
    "duration": 3,
    "start_time": "2023-03-02T19:37:20.791Z"
   },
   {
    "duration": 5,
    "start_time": "2023-03-02T19:37:34.398Z"
   },
   {
    "duration": 4,
    "start_time": "2023-03-02T19:37:35.768Z"
   },
   {
    "duration": 4,
    "start_time": "2023-03-02T19:37:37.783Z"
   },
   {
    "duration": 6,
    "start_time": "2023-03-02T19:39:08.721Z"
   },
   {
    "duration": 5,
    "start_time": "2023-03-02T19:39:26.716Z"
   },
   {
    "duration": 3,
    "start_time": "2023-03-02T19:39:38.452Z"
   },
   {
    "duration": 3,
    "start_time": "2023-03-02T19:39:47.334Z"
   },
   {
    "duration": 4,
    "start_time": "2023-03-02T19:40:00.258Z"
   },
   {
    "duration": 13,
    "start_time": "2023-03-02T19:46:16.703Z"
   },
   {
    "duration": 21,
    "start_time": "2023-03-02T19:46:38.064Z"
   },
   {
    "duration": 31,
    "start_time": "2023-03-02T19:46:43.263Z"
   },
   {
    "duration": 100,
    "start_time": "2023-03-02T19:48:19.245Z"
   },
   {
    "duration": 11,
    "start_time": "2023-03-02T19:49:12.892Z"
   },
   {
    "duration": 14,
    "start_time": "2023-03-02T19:49:42.284Z"
   },
   {
    "duration": 10,
    "start_time": "2023-03-02T19:49:47.581Z"
   },
   {
    "duration": 3,
    "start_time": "2023-03-02T19:50:49.654Z"
   },
   {
    "duration": 43,
    "start_time": "2023-03-02T19:50:54.152Z"
   },
   {
    "duration": 108,
    "start_time": "2023-03-02T19:50:57.600Z"
   },
   {
    "duration": 102,
    "start_time": "2023-03-02T19:53:00.122Z"
   },
   {
    "duration": 106,
    "start_time": "2023-03-02T19:53:19.428Z"
   },
   {
    "duration": 34,
    "start_time": "2023-03-02T19:53:22.011Z"
   },
   {
    "duration": 106,
    "start_time": "2023-03-02T19:53:59.917Z"
   },
   {
    "duration": 101,
    "start_time": "2023-03-02T19:54:23.847Z"
   },
   {
    "duration": 103,
    "start_time": "2023-03-02T19:54:47.479Z"
   },
   {
    "duration": 106,
    "start_time": "2023-03-02T19:54:54.352Z"
   },
   {
    "duration": 112,
    "start_time": "2023-03-02T19:55:29.044Z"
   },
   {
    "duration": 108,
    "start_time": "2023-03-02T19:55:33.936Z"
   },
   {
    "duration": 37,
    "start_time": "2023-03-02T19:55:34.673Z"
   },
   {
    "duration": 14861,
    "start_time": "2023-03-02T19:56:26.922Z"
   },
   {
    "duration": 12,
    "start_time": "2023-03-02T19:59:08.125Z"
   },
   {
    "duration": 37,
    "start_time": "2023-03-02T19:59:24.837Z"
   },
   {
    "duration": 125,
    "start_time": "2023-03-02T19:59:49.774Z"
   },
   {
    "duration": 57,
    "start_time": "2023-03-02T19:59:52.085Z"
   },
   {
    "duration": 15010,
    "start_time": "2023-03-02T19:59:54.025Z"
   },
   {
    "duration": 139,
    "start_time": "2023-03-02T20:00:31.535Z"
   },
   {
    "duration": 140,
    "start_time": "2023-03-02T20:00:46.753Z"
   },
   {
    "duration": 10,
    "start_time": "2023-03-02T20:01:17.800Z"
   },
   {
    "duration": 3,
    "start_time": "2023-03-02T20:01:35.305Z"
   },
   {
    "duration": 6,
    "start_time": "2023-03-02T20:01:42.700Z"
   },
   {
    "duration": 7,
    "start_time": "2023-03-02T20:02:02.650Z"
   },
   {
    "duration": 6,
    "start_time": "2023-03-02T20:02:35.491Z"
   },
   {
    "duration": 6,
    "start_time": "2023-03-02T20:03:22.892Z"
   },
   {
    "duration": 6,
    "start_time": "2023-03-02T20:05:13.911Z"
   },
   {
    "duration": 1127,
    "start_time": "2023-03-02T20:05:17.515Z"
   },
   {
    "duration": 31,
    "start_time": "2023-03-02T20:05:18.645Z"
   },
   {
    "duration": 12,
    "start_time": "2023-03-02T20:05:18.680Z"
   },
   {
    "duration": 19,
    "start_time": "2023-03-02T20:05:18.694Z"
   },
   {
    "duration": 3,
    "start_time": "2023-03-02T20:05:18.715Z"
   },
   {
    "duration": 7,
    "start_time": "2023-03-02T20:05:18.720Z"
   },
   {
    "duration": 8,
    "start_time": "2023-03-02T20:05:18.728Z"
   },
   {
    "duration": 13,
    "start_time": "2023-03-02T20:05:18.737Z"
   },
   {
    "duration": 16,
    "start_time": "2023-03-02T20:05:18.752Z"
   },
   {
    "duration": 13,
    "start_time": "2023-03-02T20:05:18.769Z"
   },
   {
    "duration": 6,
    "start_time": "2023-03-02T20:05:18.784Z"
   },
   {
    "duration": 114,
    "start_time": "2023-03-02T20:05:18.791Z"
   },
   {
    "duration": 44,
    "start_time": "2023-03-02T20:05:18.907Z"
   },
   {
    "duration": 14749,
    "start_time": "2023-03-02T20:05:18.953Z"
   },
   {
    "duration": 12,
    "start_time": "2023-03-02T20:05:33.704Z"
   },
   {
    "duration": 55,
    "start_time": "2023-03-02T20:05:33.717Z"
   },
   {
    "duration": 39,
    "start_time": "2023-03-02T20:05:33.773Z"
   },
   {
    "duration": 7,
    "start_time": "2023-03-02T20:05:33.814Z"
   },
   {
    "duration": 28,
    "start_time": "2023-03-02T20:05:33.822Z"
   },
   {
    "duration": 6,
    "start_time": "2023-03-02T20:05:33.852Z"
   },
   {
    "duration": 5,
    "start_time": "2023-03-02T20:06:30.794Z"
   },
   {
    "duration": 5,
    "start_time": "2023-03-02T20:06:33.619Z"
   },
   {
    "duration": 108,
    "start_time": "2023-03-02T20:06:36.836Z"
   },
   {
    "duration": 24,
    "start_time": "2023-03-02T20:06:38.906Z"
   },
   {
    "duration": 14573,
    "start_time": "2023-03-02T20:06:41.364Z"
   },
   {
    "duration": 5,
    "start_time": "2023-03-02T20:09:33.543Z"
   },
   {
    "duration": 1069,
    "start_time": "2023-03-02T20:09:48.865Z"
   },
   {
    "duration": 31,
    "start_time": "2023-03-02T20:09:49.936Z"
   },
   {
    "duration": 12,
    "start_time": "2023-03-02T20:09:49.968Z"
   },
   {
    "duration": 22,
    "start_time": "2023-03-02T20:09:49.981Z"
   },
   {
    "duration": 5,
    "start_time": "2023-03-02T20:09:50.004Z"
   },
   {
    "duration": 7,
    "start_time": "2023-03-02T20:09:50.010Z"
   },
   {
    "duration": 8,
    "start_time": "2023-03-02T20:09:50.019Z"
   },
   {
    "duration": 7,
    "start_time": "2023-03-02T20:09:50.028Z"
   },
   {
    "duration": 99,
    "start_time": "2023-03-02T20:09:50.036Z"
   },
   {
    "duration": 0,
    "start_time": "2023-03-02T20:09:50.137Z"
   },
   {
    "duration": 0,
    "start_time": "2023-03-02T20:09:50.139Z"
   },
   {
    "duration": 0,
    "start_time": "2023-03-02T20:09:50.140Z"
   },
   {
    "duration": 0,
    "start_time": "2023-03-02T20:09:50.141Z"
   },
   {
    "duration": 0,
    "start_time": "2023-03-02T20:09:50.149Z"
   },
   {
    "duration": 0,
    "start_time": "2023-03-02T20:09:50.151Z"
   },
   {
    "duration": 0,
    "start_time": "2023-03-02T20:09:50.152Z"
   },
   {
    "duration": 0,
    "start_time": "2023-03-02T20:09:50.154Z"
   },
   {
    "duration": 0,
    "start_time": "2023-03-02T20:09:50.155Z"
   },
   {
    "duration": 0,
    "start_time": "2023-03-02T20:09:50.156Z"
   },
   {
    "duration": 0,
    "start_time": "2023-03-02T20:09:50.158Z"
   },
   {
    "duration": 4,
    "start_time": "2023-03-02T20:10:17.753Z"
   },
   {
    "duration": 5,
    "start_time": "2023-03-02T20:10:52.905Z"
   },
   {
    "duration": 4,
    "start_time": "2023-03-02T20:10:53.665Z"
   },
   {
    "duration": 4,
    "start_time": "2023-03-02T20:10:54.505Z"
   },
   {
    "duration": 1133,
    "start_time": "2023-03-02T20:10:59.657Z"
   },
   {
    "duration": 33,
    "start_time": "2023-03-02T20:11:00.793Z"
   },
   {
    "duration": 13,
    "start_time": "2023-03-02T20:11:00.827Z"
   },
   {
    "duration": 43,
    "start_time": "2023-03-02T20:11:00.843Z"
   },
   {
    "duration": 19,
    "start_time": "2023-03-02T20:11:00.888Z"
   },
   {
    "duration": 26,
    "start_time": "2023-03-02T20:11:00.909Z"
   },
   {
    "duration": 16,
    "start_time": "2023-03-02T20:11:00.936Z"
   },
   {
    "duration": 15,
    "start_time": "2023-03-02T20:11:00.953Z"
   },
   {
    "duration": 20,
    "start_time": "2023-03-02T20:11:00.970Z"
   },
   {
    "duration": 39,
    "start_time": "2023-03-02T20:11:00.993Z"
   },
   {
    "duration": 35,
    "start_time": "2023-03-02T20:11:01.034Z"
   },
   {
    "duration": 155,
    "start_time": "2023-03-02T20:11:01.071Z"
   },
   {
    "duration": 28,
    "start_time": "2023-03-02T20:11:01.228Z"
   },
   {
    "duration": 14583,
    "start_time": "2023-03-02T20:11:01.258Z"
   },
   {
    "duration": 15,
    "start_time": "2023-03-02T20:11:15.843Z"
   },
   {
    "duration": 24,
    "start_time": "2023-03-02T20:11:15.860Z"
   },
   {
    "duration": 25,
    "start_time": "2023-03-02T20:11:15.885Z"
   },
   {
    "duration": 6,
    "start_time": "2023-03-02T20:11:15.912Z"
   },
   {
    "duration": 5,
    "start_time": "2023-03-02T20:11:15.948Z"
   },
   {
    "duration": 11,
    "start_time": "2023-03-02T20:11:15.955Z"
   },
   {
    "duration": 10,
    "start_time": "2023-03-02T20:12:58.535Z"
   },
   {
    "duration": 10,
    "start_time": "2023-03-02T20:13:15.502Z"
   },
   {
    "duration": 23,
    "start_time": "2023-03-02T20:13:20.429Z"
   },
   {
    "duration": 5,
    "start_time": "2023-03-02T20:13:23.301Z"
   },
   {
    "duration": 6,
    "start_time": "2023-03-02T20:13:24.478Z"
   },
   {
    "duration": 6,
    "start_time": "2023-03-02T20:13:26.841Z"
   },
   {
    "duration": 1136,
    "start_time": "2023-03-02T20:14:13.317Z"
   },
   {
    "duration": 33,
    "start_time": "2023-03-02T20:14:14.455Z"
   },
   {
    "duration": 12,
    "start_time": "2023-03-02T20:14:14.490Z"
   },
   {
    "duration": 18,
    "start_time": "2023-03-02T20:14:14.504Z"
   },
   {
    "duration": 3,
    "start_time": "2023-03-02T20:14:14.524Z"
   },
   {
    "duration": 6,
    "start_time": "2023-03-02T20:14:14.529Z"
   },
   {
    "duration": 5,
    "start_time": "2023-03-02T20:14:14.536Z"
   },
   {
    "duration": 7,
    "start_time": "2023-03-02T20:14:14.542Z"
   },
   {
    "duration": 6,
    "start_time": "2023-03-02T20:14:14.551Z"
   },
   {
    "duration": 4,
    "start_time": "2023-03-02T20:14:14.560Z"
   },
   {
    "duration": 5,
    "start_time": "2023-03-02T20:14:14.566Z"
   },
   {
    "duration": 139,
    "start_time": "2023-03-02T20:14:14.572Z"
   },
   {
    "duration": 35,
    "start_time": "2023-03-02T20:14:14.713Z"
   },
   {
    "duration": 14556,
    "start_time": "2023-03-02T20:14:14.750Z"
   },
   {
    "duration": 9,
    "start_time": "2023-03-02T20:14:29.308Z"
   },
   {
    "duration": 33,
    "start_time": "2023-03-02T20:14:29.319Z"
   },
   {
    "duration": 24,
    "start_time": "2023-03-02T20:14:29.354Z"
   },
   {
    "duration": 5,
    "start_time": "2023-03-02T20:14:29.380Z"
   },
   {
    "duration": 8,
    "start_time": "2023-03-02T20:14:29.386Z"
   },
   {
    "duration": 6,
    "start_time": "2023-03-02T20:14:29.395Z"
   },
   {
    "duration": 19396,
    "start_time": "2023-03-02T20:15:40.025Z"
   },
   {
    "duration": 4871,
    "start_time": "2023-03-02T20:16:37.027Z"
   },
   {
    "duration": 139,
    "start_time": "2023-03-02T20:17:16.660Z"
   },
   {
    "duration": 5,
    "start_time": "2023-03-02T20:17:22.164Z"
   },
   {
    "duration": 141,
    "start_time": "2023-03-02T20:17:35.396Z"
   },
   {
    "duration": 5063,
    "start_time": "2023-03-02T20:17:57.028Z"
   },
   {
    "duration": 6,
    "start_time": "2023-03-02T20:18:14.831Z"
   },
   {
    "duration": 7,
    "start_time": "2023-03-02T20:18:15.877Z"
   },
   {
    "duration": 6,
    "start_time": "2023-03-02T20:18:16.815Z"
   },
   {
    "duration": 1108,
    "start_time": "2023-03-02T20:18:26.112Z"
   },
   {
    "duration": 31,
    "start_time": "2023-03-02T20:18:27.222Z"
   },
   {
    "duration": 11,
    "start_time": "2023-03-02T20:18:27.255Z"
   },
   {
    "duration": 16,
    "start_time": "2023-03-02T20:18:27.269Z"
   },
   {
    "duration": 4,
    "start_time": "2023-03-02T20:18:27.286Z"
   },
   {
    "duration": 6,
    "start_time": "2023-03-02T20:18:27.292Z"
   },
   {
    "duration": 4,
    "start_time": "2023-03-02T20:18:27.300Z"
   },
   {
    "duration": 7,
    "start_time": "2023-03-02T20:18:27.305Z"
   },
   {
    "duration": 8,
    "start_time": "2023-03-02T20:18:27.314Z"
   },
   {
    "duration": 3,
    "start_time": "2023-03-02T20:18:27.349Z"
   },
   {
    "duration": 5,
    "start_time": "2023-03-02T20:18:27.354Z"
   },
   {
    "duration": 128,
    "start_time": "2023-03-02T20:18:27.361Z"
   },
   {
    "duration": 24,
    "start_time": "2023-03-02T20:18:27.491Z"
   },
   {
    "duration": 4846,
    "start_time": "2023-03-02T20:18:27.516Z"
   },
   {
    "duration": 8,
    "start_time": "2023-03-02T20:18:32.364Z"
   },
   {
    "duration": 24,
    "start_time": "2023-03-02T20:18:32.374Z"
   },
   {
    "duration": 22,
    "start_time": "2023-03-02T20:18:32.399Z"
   },
   {
    "duration": 25,
    "start_time": "2023-03-02T20:18:32.423Z"
   },
   {
    "duration": 5,
    "start_time": "2023-03-02T20:18:32.450Z"
   },
   {
    "duration": 20,
    "start_time": "2023-03-02T20:18:32.456Z"
   },
   {
    "duration": 23,
    "start_time": "2023-03-02T20:19:31.840Z"
   },
   {
    "duration": 4850,
    "start_time": "2023-03-02T20:19:41.590Z"
   },
   {
    "duration": 68,
    "start_time": "2023-03-02T20:20:38.471Z"
   },
   {
    "duration": 28,
    "start_time": "2023-03-02T20:20:40.667Z"
   },
   {
    "duration": 25,
    "start_time": "2023-03-02T20:21:09.400Z"
   },
   {
    "duration": 24,
    "start_time": "2023-03-02T20:21:10.492Z"
   },
   {
    "duration": 10,
    "start_time": "2023-03-02T20:21:11.202Z"
   },
   {
    "duration": 6,
    "start_time": "2023-03-02T20:21:14.195Z"
   },
   {
    "duration": 5,
    "start_time": "2023-03-02T20:21:15.169Z"
   },
   {
    "duration": 6,
    "start_time": "2023-03-02T20:21:16.083Z"
   },
   {
    "duration": 1113,
    "start_time": "2023-03-06T07:29:42.180Z"
   },
   {
    "duration": 63,
    "start_time": "2023-03-06T07:29:43.294Z"
   },
   {
    "duration": 12,
    "start_time": "2023-03-06T07:29:43.359Z"
   },
   {
    "duration": 19,
    "start_time": "2023-03-06T07:29:43.374Z"
   },
   {
    "duration": 4,
    "start_time": "2023-03-06T07:29:43.395Z"
   },
   {
    "duration": 96,
    "start_time": "2023-03-06T07:29:43.400Z"
   },
   {
    "duration": 0,
    "start_time": "2023-03-06T07:29:43.498Z"
   },
   {
    "duration": 0,
    "start_time": "2023-03-06T07:29:43.499Z"
   },
   {
    "duration": 0,
    "start_time": "2023-03-06T07:29:43.500Z"
   },
   {
    "duration": 0,
    "start_time": "2023-03-06T07:29:43.501Z"
   },
   {
    "duration": 0,
    "start_time": "2023-03-06T07:29:43.502Z"
   },
   {
    "duration": 0,
    "start_time": "2023-03-06T07:29:43.503Z"
   },
   {
    "duration": 0,
    "start_time": "2023-03-06T07:29:43.504Z"
   },
   {
    "duration": 0,
    "start_time": "2023-03-06T07:29:43.512Z"
   },
   {
    "duration": 0,
    "start_time": "2023-03-06T07:29:43.513Z"
   },
   {
    "duration": 0,
    "start_time": "2023-03-06T07:29:43.514Z"
   },
   {
    "duration": 0,
    "start_time": "2023-03-06T07:29:43.516Z"
   },
   {
    "duration": 0,
    "start_time": "2023-03-06T07:29:43.517Z"
   },
   {
    "duration": 0,
    "start_time": "2023-03-06T07:29:43.518Z"
   },
   {
    "duration": 0,
    "start_time": "2023-03-06T07:29:43.519Z"
   },
   {
    "duration": 9,
    "start_time": "2023-03-06T07:30:04.444Z"
   },
   {
    "duration": 10,
    "start_time": "2023-03-06T07:31:06.131Z"
   },
   {
    "duration": 35,
    "start_time": "2023-03-06T07:31:07.860Z"
   },
   {
    "duration": 8,
    "start_time": "2023-03-06T07:31:28.732Z"
   },
   {
    "duration": 9,
    "start_time": "2023-03-06T07:31:30.933Z"
   },
   {
    "duration": 1178,
    "start_time": "2023-03-06T07:31:41.222Z"
   },
   {
    "duration": 29,
    "start_time": "2023-03-06T07:31:42.402Z"
   },
   {
    "duration": 12,
    "start_time": "2023-03-06T07:31:42.433Z"
   },
   {
    "duration": 23,
    "start_time": "2023-03-06T07:31:42.447Z"
   },
   {
    "duration": 5,
    "start_time": "2023-03-06T07:31:42.471Z"
   },
   {
    "duration": 9,
    "start_time": "2023-03-06T07:31:42.478Z"
   },
   {
    "duration": 6,
    "start_time": "2023-03-06T07:31:42.489Z"
   },
   {
    "duration": 19,
    "start_time": "2023-03-06T07:31:42.497Z"
   },
   {
    "duration": 8,
    "start_time": "2023-03-06T07:31:42.518Z"
   },
   {
    "duration": 7,
    "start_time": "2023-03-06T07:31:42.529Z"
   },
   {
    "duration": 11,
    "start_time": "2023-03-06T07:31:42.538Z"
   },
   {
    "duration": 64,
    "start_time": "2023-03-06T07:31:42.551Z"
   },
   {
    "duration": 37,
    "start_time": "2023-03-06T07:31:42.616Z"
   },
   {
    "duration": 4969,
    "start_time": "2023-03-06T07:31:42.654Z"
   },
   {
    "duration": 35,
    "start_time": "2023-03-06T07:31:47.625Z"
   },
   {
    "duration": 36,
    "start_time": "2023-03-06T07:31:47.662Z"
   },
   {
    "duration": 11,
    "start_time": "2023-03-06T07:31:47.713Z"
   },
   {
    "duration": 6,
    "start_time": "2023-03-06T07:31:47.726Z"
   },
   {
    "duration": 36,
    "start_time": "2023-03-06T07:31:47.734Z"
   },
   {
    "duration": 6,
    "start_time": "2023-03-06T07:31:47.772Z"
   },
   {
    "duration": 4878,
    "start_time": "2023-03-06T07:32:25.873Z"
   },
   {
    "duration": 13,
    "start_time": "2023-03-06T07:32:41.332Z"
   },
   {
    "duration": 1091,
    "start_time": "2023-03-06T07:32:51.623Z"
   },
   {
    "duration": 29,
    "start_time": "2023-03-06T07:32:52.717Z"
   },
   {
    "duration": 12,
    "start_time": "2023-03-06T07:32:52.748Z"
   },
   {
    "duration": 17,
    "start_time": "2023-03-06T07:32:52.762Z"
   },
   {
    "duration": 3,
    "start_time": "2023-03-06T07:32:52.781Z"
   },
   {
    "duration": 8,
    "start_time": "2023-03-06T07:32:52.786Z"
   },
   {
    "duration": 18,
    "start_time": "2023-03-06T07:32:52.796Z"
   },
   {
    "duration": 10,
    "start_time": "2023-03-06T07:32:52.815Z"
   },
   {
    "duration": 20,
    "start_time": "2023-03-06T07:32:52.826Z"
   },
   {
    "duration": 6,
    "start_time": "2023-03-06T07:32:52.848Z"
   },
   {
    "duration": 6,
    "start_time": "2023-03-06T07:32:52.855Z"
   },
   {
    "duration": 70,
    "start_time": "2023-03-06T07:32:52.863Z"
   },
   {
    "duration": 35,
    "start_time": "2023-03-06T07:32:52.935Z"
   },
   {
    "duration": 5084,
    "start_time": "2023-03-06T07:32:52.972Z"
   },
   {
    "duration": 35,
    "start_time": "2023-03-06T07:32:58.058Z"
   },
   {
    "duration": 47,
    "start_time": "2023-03-06T07:32:58.095Z"
   },
   {
    "duration": 13,
    "start_time": "2023-03-06T07:32:58.144Z"
   },
   {
    "duration": 6,
    "start_time": "2023-03-06T07:32:58.158Z"
   },
   {
    "duration": 6,
    "start_time": "2023-03-06T07:32:58.165Z"
   },
   {
    "duration": 42,
    "start_time": "2023-03-06T07:32:58.173Z"
   },
   {
    "duration": 125,
    "start_time": "2023-03-06T07:36:46.250Z"
   },
   {
    "duration": 18,
    "start_time": "2023-03-06T07:36:47.595Z"
   },
   {
    "duration": 47,
    "start_time": "2023-03-06T07:36:49.403Z"
   },
   {
    "duration": 1086,
    "start_time": "2023-03-06T07:36:52.958Z"
   },
   {
    "duration": 29,
    "start_time": "2023-03-06T07:36:54.046Z"
   },
   {
    "duration": 64,
    "start_time": "2023-03-06T07:36:54.077Z"
   },
   {
    "duration": 51,
    "start_time": "2023-03-06T07:36:54.144Z"
   },
   {
    "duration": 15,
    "start_time": "2023-03-06T07:36:54.198Z"
   },
   {
    "duration": 25,
    "start_time": "2023-03-06T07:36:54.215Z"
   },
   {
    "duration": 5,
    "start_time": "2023-03-06T07:36:54.243Z"
   },
   {
    "duration": 6,
    "start_time": "2023-03-06T07:36:54.250Z"
   },
   {
    "duration": 7,
    "start_time": "2023-03-06T07:36:54.258Z"
   },
   {
    "duration": 5,
    "start_time": "2023-03-06T07:36:54.269Z"
   },
   {
    "duration": 5,
    "start_time": "2023-03-06T07:36:54.277Z"
   },
   {
    "duration": 84,
    "start_time": "2023-03-06T07:36:54.312Z"
   },
   {
    "duration": 50,
    "start_time": "2023-03-06T07:36:54.398Z"
   },
   {
    "duration": 5212,
    "start_time": "2023-03-06T07:36:54.449Z"
   },
   {
    "duration": 37,
    "start_time": "2023-03-06T07:36:59.663Z"
   },
   {
    "duration": 132,
    "start_time": "2023-03-06T07:36:59.712Z"
   },
   {
    "duration": 12,
    "start_time": "2023-03-06T07:36:59.846Z"
   },
   {
    "duration": 6,
    "start_time": "2023-03-06T07:36:59.860Z"
   },
   {
    "duration": 13,
    "start_time": "2023-03-06T07:36:59.868Z"
   },
   {
    "duration": 5,
    "start_time": "2023-03-06T07:36:59.883Z"
   },
   {
    "duration": 1149,
    "start_time": "2023-03-06T08:41:24.900Z"
   },
   {
    "duration": 29,
    "start_time": "2023-03-06T08:41:26.051Z"
   },
   {
    "duration": 14,
    "start_time": "2023-03-06T08:41:26.081Z"
   },
   {
    "duration": 31,
    "start_time": "2023-03-06T08:41:26.096Z"
   },
   {
    "duration": 13,
    "start_time": "2023-03-06T08:41:26.129Z"
   },
   {
    "duration": 10,
    "start_time": "2023-03-06T08:41:26.144Z"
   },
   {
    "duration": 9,
    "start_time": "2023-03-06T08:41:26.156Z"
   },
   {
    "duration": 11,
    "start_time": "2023-03-06T08:41:26.167Z"
   },
   {
    "duration": 7,
    "start_time": "2023-03-06T08:41:26.180Z"
   },
   {
    "duration": 4,
    "start_time": "2023-03-06T08:41:26.189Z"
   },
   {
    "duration": 10,
    "start_time": "2023-03-06T08:41:26.195Z"
   },
   {
    "duration": 60,
    "start_time": "2023-03-06T08:41:26.212Z"
   },
   {
    "duration": 47,
    "start_time": "2023-03-06T08:41:26.274Z"
   },
   {
    "duration": 5081,
    "start_time": "2023-03-06T08:41:26.323Z"
   },
   {
    "duration": 37,
    "start_time": "2023-03-06T08:41:31.413Z"
   },
   {
    "duration": 14,
    "start_time": "2023-03-06T08:41:31.452Z"
   },
   {
    "duration": 153,
    "start_time": "2023-03-06T08:41:31.468Z"
   },
   {
    "duration": 6,
    "start_time": "2023-03-06T08:41:31.624Z"
   },
   {
    "duration": 12,
    "start_time": "2023-03-06T08:41:31.631Z"
   },
   {
    "duration": 11,
    "start_time": "2023-03-06T08:41:31.645Z"
   },
   {
    "duration": 977,
    "start_time": "2023-03-06T11:09:42.294Z"
   },
   {
    "duration": 58,
    "start_time": "2023-03-06T11:09:55.842Z"
   },
   {
    "duration": 38,
    "start_time": "2023-03-06T13:39:02.086Z"
   },
   {
    "duration": 45,
    "start_time": "2023-03-06T13:39:18.889Z"
   },
   {
    "duration": 4,
    "start_time": "2023-03-06T13:47:48.451Z"
   },
   {
    "duration": 54,
    "start_time": "2023-03-06T13:48:14.561Z"
   },
   {
    "duration": 1092,
    "start_time": "2023-03-06T13:49:16.465Z"
   },
   {
    "duration": 110,
    "start_time": "2023-03-06T14:13:57.390Z"
   },
   {
    "duration": 1182,
    "start_time": "2023-03-06T14:14:04.296Z"
   },
   {
    "duration": 30,
    "start_time": "2023-03-06T14:14:05.480Z"
   },
   {
    "duration": 13,
    "start_time": "2023-03-06T14:14:05.511Z"
   },
   {
    "duration": 38,
    "start_time": "2023-03-06T14:14:05.527Z"
   },
   {
    "duration": 5,
    "start_time": "2023-03-06T14:14:05.566Z"
   },
   {
    "duration": 28,
    "start_time": "2023-03-06T14:14:05.573Z"
   },
   {
    "duration": 6,
    "start_time": "2023-03-06T14:14:05.603Z"
   },
   {
    "duration": 11,
    "start_time": "2023-03-06T14:14:05.611Z"
   },
   {
    "duration": 9,
    "start_time": "2023-03-06T14:14:05.624Z"
   },
   {
    "duration": 4,
    "start_time": "2023-03-06T14:14:05.637Z"
   },
   {
    "duration": 15,
    "start_time": "2023-03-06T14:14:05.644Z"
   },
   {
    "duration": 94,
    "start_time": "2023-03-06T14:14:05.661Z"
   },
   {
    "duration": 37,
    "start_time": "2023-03-06T14:14:05.757Z"
   },
   {
    "duration": 5175,
    "start_time": "2023-03-06T14:14:05.796Z"
   },
   {
    "duration": 70,
    "start_time": "2023-03-06T14:14:10.974Z"
   },
   {
    "duration": 13,
    "start_time": "2023-03-06T14:14:11.046Z"
   },
   {
    "duration": 151,
    "start_time": "2023-03-06T14:14:11.061Z"
   },
   {
    "duration": 5,
    "start_time": "2023-03-06T14:14:11.214Z"
   },
   {
    "duration": 14,
    "start_time": "2023-03-06T14:14:11.221Z"
   },
   {
    "duration": 7,
    "start_time": "2023-03-06T14:14:11.237Z"
   },
   {
    "duration": 160,
    "start_time": "2023-03-06T14:18:14.131Z"
   },
   {
    "duration": 3,
    "start_time": "2023-03-06T14:18:19.905Z"
   },
   {
    "duration": 44,
    "start_time": "2023-03-06T14:18:26.607Z"
   },
   {
    "duration": 1162,
    "start_time": "2023-03-06T14:18:40.788Z"
   },
   {
    "duration": 30,
    "start_time": "2023-03-06T14:18:41.953Z"
   },
   {
    "duration": 12,
    "start_time": "2023-03-06T14:18:41.985Z"
   },
   {
    "duration": 19,
    "start_time": "2023-03-06T14:18:41.999Z"
   },
   {
    "duration": 5,
    "start_time": "2023-03-06T14:18:42.020Z"
   },
   {
    "duration": 9,
    "start_time": "2023-03-06T14:18:42.026Z"
   },
   {
    "duration": 7,
    "start_time": "2023-03-06T14:18:42.036Z"
   },
   {
    "duration": 6,
    "start_time": "2023-03-06T14:18:42.044Z"
   },
   {
    "duration": 7,
    "start_time": "2023-03-06T14:18:42.051Z"
   },
   {
    "duration": 5,
    "start_time": "2023-03-06T14:18:42.060Z"
   },
   {
    "duration": 5,
    "start_time": "2023-03-06T14:18:42.067Z"
   },
   {
    "duration": 88,
    "start_time": "2023-03-06T14:18:42.074Z"
   },
   {
    "duration": 36,
    "start_time": "2023-03-06T14:18:42.164Z"
   },
   {
    "duration": 5123,
    "start_time": "2023-03-06T14:18:42.213Z"
   },
   {
    "duration": 154,
    "start_time": "2023-03-06T14:18:47.337Z"
   },
   {
    "duration": 0,
    "start_time": "2023-03-06T14:18:47.493Z"
   },
   {
    "duration": 0,
    "start_time": "2023-03-06T14:18:47.494Z"
   },
   {
    "duration": 0,
    "start_time": "2023-03-06T14:18:47.495Z"
   },
   {
    "duration": 0,
    "start_time": "2023-03-06T14:18:47.497Z"
   },
   {
    "duration": 0,
    "start_time": "2023-03-06T14:18:47.498Z"
   },
   {
    "duration": 3,
    "start_time": "2023-03-06T14:19:20.650Z"
   },
   {
    "duration": 43,
    "start_time": "2023-03-06T14:19:28.307Z"
   },
   {
    "duration": 42,
    "start_time": "2023-03-06T14:19:52.834Z"
   },
   {
    "duration": 1149,
    "start_time": "2023-03-06T14:21:12.805Z"
   },
   {
    "duration": 29,
    "start_time": "2023-03-06T14:21:13.956Z"
   },
   {
    "duration": 14,
    "start_time": "2023-03-06T14:21:13.991Z"
   },
   {
    "duration": 20,
    "start_time": "2023-03-06T14:21:14.006Z"
   },
   {
    "duration": 4,
    "start_time": "2023-03-06T14:21:14.029Z"
   },
   {
    "duration": 9,
    "start_time": "2023-03-06T14:21:14.034Z"
   },
   {
    "duration": 4,
    "start_time": "2023-03-06T14:21:14.046Z"
   },
   {
    "duration": 6,
    "start_time": "2023-03-06T14:21:14.052Z"
   },
   {
    "duration": 8,
    "start_time": "2023-03-06T14:21:14.060Z"
   },
   {
    "duration": 9,
    "start_time": "2023-03-06T14:21:14.070Z"
   },
   {
    "duration": 35,
    "start_time": "2023-03-06T14:21:14.082Z"
   },
   {
    "duration": 73,
    "start_time": "2023-03-06T14:21:14.120Z"
   },
   {
    "duration": 47,
    "start_time": "2023-03-06T14:21:14.213Z"
   },
   {
    "duration": 4994,
    "start_time": "2023-03-06T14:21:14.264Z"
   },
   {
    "duration": 37,
    "start_time": "2023-03-06T14:21:19.260Z"
   },
   {
    "duration": 25,
    "start_time": "2023-03-06T14:21:19.298Z"
   },
   {
    "duration": 136,
    "start_time": "2023-03-06T14:21:19.325Z"
   },
   {
    "duration": 7,
    "start_time": "2023-03-06T14:21:19.463Z"
   },
   {
    "duration": 7,
    "start_time": "2023-03-06T14:21:19.471Z"
   },
   {
    "duration": 6,
    "start_time": "2023-03-06T14:21:19.480Z"
   },
   {
    "duration": 1120,
    "start_time": "2023-03-06T14:55:25.509Z"
   },
   {
    "duration": 30,
    "start_time": "2023-03-06T14:55:26.631Z"
   },
   {
    "duration": 10,
    "start_time": "2023-03-06T14:55:26.663Z"
   },
   {
    "duration": 20,
    "start_time": "2023-03-06T14:55:26.675Z"
   },
   {
    "duration": 3,
    "start_time": "2023-03-06T14:55:26.697Z"
   },
   {
    "duration": 10,
    "start_time": "2023-03-06T14:55:26.701Z"
   },
   {
    "duration": 3,
    "start_time": "2023-03-06T14:55:26.712Z"
   },
   {
    "duration": 7,
    "start_time": "2023-03-06T14:55:26.717Z"
   },
   {
    "duration": 7,
    "start_time": "2023-03-06T14:55:26.725Z"
   },
   {
    "duration": 5,
    "start_time": "2023-03-06T14:55:26.734Z"
   },
   {
    "duration": 6,
    "start_time": "2023-03-06T14:55:26.740Z"
   },
   {
    "duration": 76,
    "start_time": "2023-03-06T14:55:26.748Z"
   },
   {
    "duration": 34,
    "start_time": "2023-03-06T14:55:26.825Z"
   },
   {
    "duration": 4885,
    "start_time": "2023-03-06T14:55:26.861Z"
   },
   {
    "duration": 35,
    "start_time": "2023-03-06T14:55:31.747Z"
   },
   {
    "duration": 28,
    "start_time": "2023-03-06T14:55:31.784Z"
   },
   {
    "duration": 140,
    "start_time": "2023-03-06T14:55:31.813Z"
   },
   {
    "duration": 6,
    "start_time": "2023-03-06T14:55:31.954Z"
   },
   {
    "duration": 5,
    "start_time": "2023-03-06T14:55:31.961Z"
   },
   {
    "duration": 6,
    "start_time": "2023-03-06T14:55:31.968Z"
   },
   {
    "duration": 2176,
    "start_time": "2023-03-06T19:24:44.633Z"
   },
   {
    "duration": 47,
    "start_time": "2023-03-06T19:24:46.811Z"
   },
   {
    "duration": 14,
    "start_time": "2023-03-06T19:24:46.862Z"
   },
   {
    "duration": 20,
    "start_time": "2023-03-06T19:24:46.877Z"
   },
   {
    "duration": 4,
    "start_time": "2023-03-06T19:24:46.899Z"
   },
   {
    "duration": 11,
    "start_time": "2023-03-06T19:24:46.904Z"
   },
   {
    "duration": 6,
    "start_time": "2023-03-06T19:24:46.916Z"
   },
   {
    "duration": 24,
    "start_time": "2023-03-06T19:24:46.923Z"
   },
   {
    "duration": 41,
    "start_time": "2023-03-06T19:24:46.952Z"
   },
   {
    "duration": 4,
    "start_time": "2023-03-06T19:24:46.995Z"
   },
   {
    "duration": 6,
    "start_time": "2023-03-06T19:24:47.000Z"
   },
   {
    "duration": 61,
    "start_time": "2023-03-06T19:24:47.007Z"
   },
   {
    "duration": 34,
    "start_time": "2023-03-06T19:24:47.070Z"
   },
   {
    "duration": 4999,
    "start_time": "2023-03-06T19:24:47.106Z"
   },
   {
    "duration": 49,
    "start_time": "2023-03-06T19:24:52.107Z"
   },
   {
    "duration": 13,
    "start_time": "2023-03-06T19:24:52.158Z"
   },
   {
    "duration": 137,
    "start_time": "2023-03-06T19:24:52.172Z"
   },
   {
    "duration": 6,
    "start_time": "2023-03-06T19:24:52.310Z"
   },
   {
    "duration": 7,
    "start_time": "2023-03-06T19:24:52.317Z"
   },
   {
    "duration": 46,
    "start_time": "2023-03-06T19:24:52.325Z"
   },
   {
    "duration": 1047,
    "start_time": "2023-03-07T06:20:19.975Z"
   },
   {
    "duration": 30,
    "start_time": "2023-03-07T06:20:21.024Z"
   },
   {
    "duration": 13,
    "start_time": "2023-03-07T06:20:21.056Z"
   },
   {
    "duration": 19,
    "start_time": "2023-03-07T06:20:21.071Z"
   },
   {
    "duration": 5,
    "start_time": "2023-03-07T06:20:21.091Z"
   },
   {
    "duration": 14,
    "start_time": "2023-03-07T06:20:21.098Z"
   },
   {
    "duration": 5,
    "start_time": "2023-03-07T06:20:21.113Z"
   },
   {
    "duration": 7,
    "start_time": "2023-03-07T06:20:21.119Z"
   },
   {
    "duration": 7,
    "start_time": "2023-03-07T06:20:21.128Z"
   },
   {
    "duration": 4,
    "start_time": "2023-03-07T06:20:21.137Z"
   },
   {
    "duration": 11,
    "start_time": "2023-03-07T06:20:21.142Z"
   },
   {
    "duration": 78,
    "start_time": "2023-03-07T06:20:21.155Z"
   },
   {
    "duration": 35,
    "start_time": "2023-03-07T06:20:21.235Z"
   },
   {
    "duration": 4970,
    "start_time": "2023-03-07T06:20:21.272Z"
   },
   {
    "duration": 33,
    "start_time": "2023-03-07T06:20:26.243Z"
   },
   {
    "duration": 12,
    "start_time": "2023-03-07T06:20:26.278Z"
   },
   {
    "duration": 148,
    "start_time": "2023-03-07T06:20:26.291Z"
   },
   {
    "duration": 5,
    "start_time": "2023-03-07T06:20:26.441Z"
   },
   {
    "duration": 6,
    "start_time": "2023-03-07T06:20:26.448Z"
   },
   {
    "duration": 5,
    "start_time": "2023-03-07T06:20:26.455Z"
   }
  ],
  "kernelspec": {
   "display_name": "Python 3 (ipykernel)",
   "language": "python",
   "name": "python3"
  },
  "language_info": {
   "codemirror_mode": {
    "name": "ipython",
    "version": 3
   },
   "file_extension": ".py",
   "mimetype": "text/x-python",
   "name": "python",
   "nbconvert_exporter": "python",
   "pygments_lexer": "ipython3",
   "version": "3.9.5"
  },
  "toc": {
   "base_numbering": 1,
   "nav_menu": {},
   "number_sections": true,
   "sideBar": true,
   "skip_h1_title": true,
   "title_cell": "Table of Contents",
   "title_sidebar": "Contents",
   "toc_cell": false,
   "toc_position": {},
   "toc_section_display": true,
   "toc_window_display": true
  }
 },
 "nbformat": 4,
 "nbformat_minor": 2
}
