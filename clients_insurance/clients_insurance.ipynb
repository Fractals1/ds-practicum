{
 "cells": [
  {
   "cell_type": "markdown",
   "metadata": {},
   "source": [
    "# Защита персональных данных клиентов"
   ]
  },
  {
   "cell_type": "markdown",
   "metadata": {},
   "source": [
    "Вам нужно защитить данные клиентов страховой компании «Хоть потоп». Разработайте такой метод преобразования данных, чтобы по ним было сложно восстановить персональную информацию. Обоснуйте корректность его работы.\n",
    "\n",
    "Нужно защитить данные, чтобы при преобразовании качество моделей машинного обучения не ухудшилось. Подбирать наилучшую модель не требуется."
   ]
  },
  {
   "cell_type": "code",
   "execution_count": 1,
   "metadata": {},
   "outputs": [
    {
     "data": {
      "text/html": [
       "<style>.container { width:90% !important; }</style>"
      ],
      "text/plain": [
       "<IPython.core.display.HTML object>"
      ]
     },
     "metadata": {},
     "output_type": "display_data"
    }
   ],
   "source": [
    "from IPython.core.display import display, HTML\n",
    "display(HTML(\"<style>.container { width:90% !important; }</style>\"))"
   ]
  },
  {
   "cell_type": "markdown",
   "metadata": {},
   "source": [
    "## Загрузка данных"
   ]
  },
  {
   "cell_type": "code",
   "execution_count": 2,
   "metadata": {},
   "outputs": [],
   "source": [
    "import pandas as pd\n",
    "import numpy as np\n",
    "#from sklearn.datasets import make_spd_matrix\n",
    "from sklearn.model_selection import train_test_split, cross_val_score\n",
    "from sklearn.linear_model import LinearRegression\n",
    "\n",
    "from sklearn.metrics import r2_score\n",
    "from numpy.linalg import inv, cond, det\n",
    "from numpy.random import RandomState\n",
    "\n",
    "\n",
    "import warnings\n",
    "warnings.filterwarnings('ignore')"
   ]
  },
  {
   "cell_type": "code",
   "execution_count": 3,
   "metadata": {},
   "outputs": [],
   "source": [
    "data = pd.read_csv('/datasets/insurance.csv')"
   ]
  },
  {
   "cell_type": "code",
   "execution_count": 4,
   "metadata": {},
   "outputs": [
    {
     "name": "stdout",
     "output_type": "stream",
     "text": [
      "<class 'pandas.core.frame.DataFrame'>\n",
      "RangeIndex: 5000 entries, 0 to 4999\n",
      "Data columns (total 5 columns):\n",
      " #   Column             Non-Null Count  Dtype  \n",
      "---  ------             --------------  -----  \n",
      " 0   Пол                5000 non-null   int64  \n",
      " 1   Возраст            5000 non-null   float64\n",
      " 2   Зарплата           5000 non-null   float64\n",
      " 3   Члены семьи        5000 non-null   int64  \n",
      " 4   Страховые выплаты  5000 non-null   int64  \n",
      "dtypes: float64(2), int64(3)\n",
      "memory usage: 195.4 KB\n"
     ]
    },
    {
     "data": {
      "text/plain": [
       "None"
      ]
     },
     "metadata": {},
     "output_type": "display_data"
    },
    {
     "data": {
      "text/html": [
       "<div>\n",
       "<style scoped>\n",
       "    .dataframe tbody tr th:only-of-type {\n",
       "        vertical-align: middle;\n",
       "    }\n",
       "\n",
       "    .dataframe tbody tr th {\n",
       "        vertical-align: top;\n",
       "    }\n",
       "\n",
       "    .dataframe thead th {\n",
       "        text-align: right;\n",
       "    }\n",
       "</style>\n",
       "<table border=\"1\" class=\"dataframe\">\n",
       "  <thead>\n",
       "    <tr style=\"text-align: right;\">\n",
       "      <th></th>\n",
       "      <th>Пол</th>\n",
       "      <th>Возраст</th>\n",
       "      <th>Зарплата</th>\n",
       "      <th>Члены семьи</th>\n",
       "      <th>Страховые выплаты</th>\n",
       "    </tr>\n",
       "  </thead>\n",
       "  <tbody>\n",
       "    <tr>\n",
       "      <th>0</th>\n",
       "      <td>1</td>\n",
       "      <td>41.0</td>\n",
       "      <td>49600.0</td>\n",
       "      <td>1</td>\n",
       "      <td>0</td>\n",
       "    </tr>\n",
       "    <tr>\n",
       "      <th>1</th>\n",
       "      <td>0</td>\n",
       "      <td>46.0</td>\n",
       "      <td>38000.0</td>\n",
       "      <td>1</td>\n",
       "      <td>1</td>\n",
       "    </tr>\n",
       "    <tr>\n",
       "      <th>2</th>\n",
       "      <td>0</td>\n",
       "      <td>29.0</td>\n",
       "      <td>21000.0</td>\n",
       "      <td>0</td>\n",
       "      <td>0</td>\n",
       "    </tr>\n",
       "    <tr>\n",
       "      <th>3</th>\n",
       "      <td>0</td>\n",
       "      <td>21.0</td>\n",
       "      <td>41700.0</td>\n",
       "      <td>2</td>\n",
       "      <td>0</td>\n",
       "    </tr>\n",
       "    <tr>\n",
       "      <th>4</th>\n",
       "      <td>1</td>\n",
       "      <td>28.0</td>\n",
       "      <td>26100.0</td>\n",
       "      <td>0</td>\n",
       "      <td>0</td>\n",
       "    </tr>\n",
       "  </tbody>\n",
       "</table>\n",
       "</div>"
      ],
      "text/plain": [
       "   Пол  Возраст  Зарплата  Члены семьи  Страховые выплаты\n",
       "0    1     41.0   49600.0            1                  0\n",
       "1    0     46.0   38000.0            1                  1\n",
       "2    0     29.0   21000.0            0                  0\n",
       "3    0     21.0   41700.0            2                  0\n",
       "4    1     28.0   26100.0            0                  0"
      ]
     },
     "metadata": {},
     "output_type": "display_data"
    },
    {
     "data": {
      "text/plain": [
       "'Количество явных дубликтов:'"
      ]
     },
     "metadata": {},
     "output_type": "display_data"
    },
    {
     "data": {
      "text/plain": [
       "153"
      ]
     },
     "metadata": {},
     "output_type": "display_data"
    }
   ],
   "source": [
    "display(data.info())\n",
    "display(data.head(5))\n",
    "display('Количество явных дубликтов:', data.duplicated().sum())"
   ]
  },
  {
   "cell_type": "markdown",
   "metadata": {},
   "source": [
    "Предоставленные данные состоят из 5 столбцов. 4 из них - признаки, а один - Страховые выплаты - целевой признак. Пропущенных значений нет.\n",
    "Дубликаты есть. Так как совпадение по всем признакам крайне маловероятно, избавимся от них."
   ]
  },
  {
   "cell_type": "code",
   "execution_count": 5,
   "metadata": {},
   "outputs": [
    {
     "data": {
      "text/plain": [
       "Пол                  int64\n",
       "Возраст              int64\n",
       "Зарплата             int64\n",
       "Члены семьи          int64\n",
       "Страховые выплаты    int64\n",
       "dtype: object"
      ]
     },
     "execution_count": 5,
     "metadata": {},
     "output_type": "execute_result"
    }
   ],
   "source": [
    "data['Возраст'] = data['Возраст'].astype('int')\n",
    "data['Зарплата'] = data['Зарплата'].astype('int')\n",
    "data.dtypes"
   ]
  },
  {
   "cell_type": "markdown",
   "metadata": {},
   "source": [
    "Столбцы 'Возраст' и 'Зарплата'  думаю лучше перевести в целочисленный вид."
   ]
  },
  {
   "cell_type": "markdown",
   "metadata": {},
   "source": [
    "## Умножение матриц"
   ]
  },
  {
   "cell_type": "markdown",
   "metadata": {},
   "source": [
    "В этом задании вы можете записывать формулы в *Jupyter Notebook.*\n",
    "\n",
    "Чтобы записать формулу внутри текста, окружите её символами доллара \\\\$; если снаружи —  двойными символами \\\\$\\\\$. Эти формулы записываются на языке вёрстки *LaTeX.* \n",
    "\n",
    "Для примера мы записали формулы линейной регрессии. Можете их скопировать и отредактировать, чтобы решить задачу.\n",
    "\n",
    "Работать в *LaTeX* необязательно."
   ]
  },
  {
   "cell_type": "markdown",
   "metadata": {},
   "source": [
    "Обозначения:\n",
    "\n",
    "- $X$ — матрица признаков (нулевой столбец состоит из единиц)\n",
    "\n",
    "- $y$ — вектор целевого признака\n",
    "\n",
    "- $P$ — матрица, на которую умножаются признаки\n",
    "\n",
    "- $w$ — вектор весов линейной регрессии (нулевой элемент равен сдвигу)"
   ]
  },
  {
   "cell_type": "markdown",
   "metadata": {},
   "source": [
    "Предсказания:\n",
    "\n",
    "$$\n",
    "a = Xw\n",
    "$$\n",
    "\n",
    "Задача обучения:\n",
    "\n",
    "$$\n",
    "w = \\arg\\min_w MSE(Xw, y)\n",
    "$$\n",
    "\n",
    "Формула обучения:\n",
    "\n",
    "$$\n",
    "w = (X^T X)^{-1} X^T y\n",
    "$$"
   ]
  },
  {
   "cell_type": "markdown",
   "metadata": {},
   "source": [
    "**Вопрос:** Признаки умножают на обратимую матрицу. Изменится ли качество линейной регрессии?"
   ]
  },
  {
   "cell_type": "markdown",
   "metadata": {},
   "source": [
    "Докажем, что:\n",
    "\n",
    "$$\n",
    "a = Xw = X'w' = XPw' = a'\n",
    "$$"
   ]
  },
  {
   "cell_type": "markdown",
   "metadata": {},
   "source": [
    "Чтобы это равенство выполнялось, необходимо соблюсти условие:\n",
    "\n",
    "$$\n",
    "w' = P^{-1} w\n",
    "$$\n"
   ]
  },
  {
   "cell_type": "markdown",
   "metadata": {},
   "source": [
    "Получим следующее равенство:\n",
    "\n",
    "$$\n",
    "a = Xw = X'(P^{-1} w) = XP(P^{-1} w) = XEw = Xw = a\n",
    "$$"
   ]
  },
  {
   "cell_type": "markdown",
   "metadata": {},
   "source": [
    "**Ответ:** Нет, не изменится.\n",
    "\n",
    "**Обоснование:** Обратная для квадратной матрицы P — матрица P с верхним индексом -1, произведение которой на P равно единичной матрице. Если любую матрицу умножить на единичную (или наоборот), получится эта же матрица. Поэтому качество линейной регрессии не изменится - матрицы будут одинаковы."
   ]
  },
  {
   "cell_type": "markdown",
   "metadata": {},
   "source": [
    "\n",
    "Формула расчета весов для линейной регрессии:\n",
    "\n",
    "$$\n",
    "w = (X^T X)^{-1} X^T y\n",
    "$$\n",
    "\n",
    "Представим новую матрицу признаков $X1$ как произведение старой $X$ на матрицу $P$ (обратимую):\n",
    "\n",
    "$$\n",
    "X1 = X * P\n",
    "$$\n",
    "Подставим новое значение X1 в формулу $w1$:\n",
    "\n",
    "$$\n",
    "w1 = ((X P)^T X P)^{-1} (X P)^T y\n",
    "$$\n",
    "Раскроем первое произведение $ (XP)^T $:\n",
    "\n",
    "$$\n",
    "w1 = (P^T X^T X P)^{-1} P^T X^T y\n",
    "$$\n",
    "Перегруппируем множители в скобках, чтобы это выглядело как произведение трех множителей:\n",
    "\n",
    "$$\n",
    "w1 = (P^T (X^T X) P)^{-1} P^T X^T y\n",
    "$$\n",
    "Раскроем скобки $ (P^T (X^T X) P)^{-1} $:\n",
    "\n",
    "$$\n",
    "w1 = P^{-1} (X^T X)^{-1} (P^T)^{-1} P^T X^T y\n",
    "$$\n",
    "Так как $P$ по условию обратимая, то произведение $(P^T)^{-1} P^T$ равно $E$ (единичная матрица):\n",
    "\n",
    "$$\n",
    "w1 = P^{-1} (X^T X)^{-1} E X^T y = P^{-1} (X^T X)^{-1} X^T y\n",
    "$$\n",
    "Можно заметить, что справа получилась формула для $w$:\n",
    "\n",
    "$$\n",
    "w1 = P^{-1} (X^T X)^{-1} X^T y = P^{-1} w\n",
    "$$"
   ]
  },
  {
   "cell_type": "markdown",
   "metadata": {},
   "source": [
    "## Алгоритм преобразования"
   ]
  },
  {
   "cell_type": "markdown",
   "metadata": {},
   "source": [
    "**Алгоритм**\n",
    "\n",
    "Создадим случайную обратимую матрицу P, затем умножим матрицу с признаками X на матрицу P.\n",
    "\n",
    "$$\n",
    "X@P=Z\n",
    "$$"
   ]
  },
  {
   "cell_type": "markdown",
   "metadata": {},
   "source": [
    "Для возврата к исходной матрице X, умножим новую матрицу Z на обратную матрицу P^-1.\n",
    "\n",
    "$$\n",
    "Z@P^{-1}=X\n",
    "$$"
   ]
  },
  {
   "cell_type": "markdown",
   "metadata": {},
   "source": [
    "**Обоснование**\n",
    "Как было доказано в шаге 2, качество линейной регрессии не изменится при умножении матрицы признаков на любую обратимую матрицу P. Поэтому можно следовать описанному выше алгоритму без опасения получить другой результат линейной регрессии."
   ]
  },
  {
   "cell_type": "markdown",
   "metadata": {},
   "source": [
    "## Проверка алгоритма"
   ]
  },
  {
   "cell_type": "markdown",
   "metadata": {},
   "source": [
    "Выделим из датасета набор признаков и целевой признак."
   ]
  },
  {
   "cell_type": "code",
   "execution_count": 6,
   "metadata": {},
   "outputs": [],
   "source": [
    "features = data.drop('Страховые выплаты', axis=1)\n",
    "target = data['Страховые выплаты']"
   ]
  },
  {
   "cell_type": "markdown",
   "metadata": {},
   "source": [
    "Получим матрицу из значений набора признаков."
   ]
  },
  {
   "cell_type": "code",
   "execution_count": 7,
   "metadata": {},
   "outputs": [
    {
     "data": {
      "text/plain": [
       "array([[    1,    41, 49600,     1],\n",
       "       [    0,    46, 38000,     1],\n",
       "       [    0,    29, 21000,     0],\n",
       "       ...,\n",
       "       [    0,    20, 33900,     2],\n",
       "       [    1,    22, 32700,     3],\n",
       "       [    1,    28, 40600,     1]])"
      ]
     },
     "execution_count": 7,
     "metadata": {},
     "output_type": "execute_result"
    }
   ],
   "source": [
    "features_matrix = features.values\n",
    "features_matrix"
   ]
  },
  {
   "cell_type": "markdown",
   "metadata": {},
   "source": [
    "Создадим рандомную матрицу нужного размера"
   ]
  },
  {
   "cell_type": "code",
   "execution_count": 8,
   "metadata": {},
   "outputs": [
    {
     "data": {
      "text/plain": [
       "array([[4.46201551, 1.76551356, 4.517603  , 2.19405044],\n",
       "       [2.48589271, 2.18714045, 3.10722211, 1.82427286],\n",
       "       [3.54653478, 2.15987341, 2.30255531, 2.96077874],\n",
       "       [3.68381173, 4.49756573, 2.41729188, 3.73917543]])"
      ]
     },
     "metadata": {},
     "output_type": "display_data"
    }
   ],
   "source": [
    "random_matrix = np.random.normal(3,size=(4,4))\n",
    "display(random_matrix)"
   ]
  },
  {
   "cell_type": "markdown",
   "metadata": {},
   "source": [
    "Проверим матрицу на обратимость - вероятность сгенерировать необратимую матрицу очень мала, но все же. При использовании необратимой матрицы  алгоритм работать не будет. Для проверки будем использовать функцию __numpy.linalg.inv()__, если матрица необратима, то код упадет с ошибкой."
   ]
  },
  {
   "cell_type": "code",
   "execution_count": 9,
   "metadata": {},
   "outputs": [
    {
     "data": {
      "text/plain": [
       "array([[ 1.12210087, -1.66462973, -0.69095726,  0.70084021],\n",
       "       [ 0.39340648, -0.43968069, -0.95654379,  0.7410881 ],\n",
       "       [-0.39935528,  1.11168079,  0.24326722, -0.50066222],\n",
       "       [-1.3205108 ,  1.45016421,  1.6740127 , -0.99075563]])"
      ]
     },
     "execution_count": 9,
     "metadata": {},
     "output_type": "execute_result"
    }
   ],
   "source": [
    "inv(random_matrix)"
   ]
  },
  {
   "cell_type": "code",
   "execution_count": 10,
   "metadata": {},
   "outputs": [
    {
     "data": {
      "text/plain": [
       "8.993817378643326"
      ]
     },
     "execution_count": 10,
     "metadata": {},
     "output_type": "execute_result"
    }
   ],
   "source": [
    "det(random_matrix)"
   ]
  },
  {
   "cell_type": "markdown",
   "metadata": {},
   "source": [
    "Матрица обратима. Определитель матрицы не равен 0 "
   ]
  },
  {
   "cell_type": "markdown",
   "metadata": {},
   "source": [
    "Перемножим матрицы."
   ]
  },
  {
   "cell_type": "code",
   "execution_count": 11,
   "metadata": {},
   "outputs": [],
   "source": [
    "transformed_matrix = features_matrix @ random_matrix\n",
    "features_transformed = list(transformed_matrix)"
   ]
  },
  {
   "cell_type": "markdown",
   "metadata": {},
   "source": [
    "Разделим набор признаков и целевой признак исходного датасета на обучающую и тестовую выборки."
   ]
  },
  {
   "cell_type": "code",
   "execution_count": 12,
   "metadata": {},
   "outputs": [],
   "source": [
    "features_train_origin, features_test_origin, target_train_origin, target_test_origin = train_test_split(features,target, test_size=0.25, random_state = 42)"
   ]
  },
  {
   "cell_type": "markdown",
   "metadata": {},
   "source": [
    "<div class=\"alert alert-info\"> <b>Комментарий студента:</b> Внес небольшие исправления - поделил на тренировочную и тестовую оригинальный выборки одной строкой.\n",
    "    По поводу random_state - почему-то он не применялся когда указывался через константу. </div>\n"
   ]
  },
  {
   "cell_type": "markdown",
   "metadata": {},
   "source": [
    "Создадим модели."
   ]
  },
  {
   "cell_type": "code",
   "execution_count": 13,
   "metadata": {},
   "outputs": [],
   "source": [
    "lro = LinearRegression()\n",
    "lrt = LinearRegression()"
   ]
  },
  {
   "cell_type": "markdown",
   "metadata": {},
   "source": [
    "Обучим первую модель, сделаем предсказание и оценим качество модели."
   ]
  },
  {
   "cell_type": "code",
   "execution_count": 14,
   "metadata": {},
   "outputs": [
    {
     "name": "stdout",
     "output_type": "stream",
     "text": [
      "R2 исходного набора данных: 0.4254778535754763\n"
     ]
    }
   ],
   "source": [
    "lro.fit(features_train_origin, target_train_origin)\n",
    "predicted_origin = lro.predict(features_test_origin)\n",
    "print('R2 исходного набора данных:', r2_score(target_test_origin,predicted_origin))"
   ]
  },
  {
   "cell_type": "markdown",
   "metadata": {},
   "source": [
    "Разделим набор признаков преобразованного датасета на обучающую и тестовую выборки. Обучим вторую модель, сделаем предсказание и оценим качество модели."
   ]
  },
  {
   "cell_type": "code",
   "execution_count": 15,
   "metadata": {},
   "outputs": [],
   "source": [
    "features_train_transformed, features_test_transformed = train_test_split(features_transformed, test_size=0.25, random_state =42)"
   ]
  },
  {
   "cell_type": "code",
   "execution_count": 16,
   "metadata": {},
   "outputs": [
    {
     "name": "stdout",
     "output_type": "stream",
     "text": [
      "R2 преобразованного набора данных: 0.4254778535765814\n"
     ]
    }
   ],
   "source": [
    "lrt.fit(features_train_transformed, target_train_origin)\n",
    "predicted_transformed = lrt.predict(features_test_transformed)\n",
    "print(\"R2 преобразованного набора данных:\", r2_score(target_test_origin,predicted_transformed))"
   ]
  },
  {
   "cell_type": "markdown",
   "metadata": {},
   "source": [
    "Показатели R2 низкие, но отличаются незначительно."
   ]
  },
  {
   "cell_type": "markdown",
   "metadata": {},
   "source": [
    "Попробуем восстановить исходную матрицу, используя формулу из шага 3.\n",
    "\n",
    "$$\n",
    "Z@P^{-1}=X\n",
    "$$"
   ]
  },
  {
   "cell_type": "code",
   "execution_count": 17,
   "metadata": {},
   "outputs": [],
   "source": [
    "final_matrix = transformed_matrix.dot(inv(random_matrix))"
   ]
  },
  {
   "cell_type": "code",
   "execution_count": 18,
   "metadata": {},
   "outputs": [
    {
     "data": {
      "text/plain": [
       "array([[ True,  True,  True,  True],\n",
       "       [ True,  True,  True,  True],\n",
       "       [ True,  True,  True,  True],\n",
       "       ...,\n",
       "       [ True,  True,  True,  True],\n",
       "       [ True,  True,  True,  True],\n",
       "       [ True,  True,  True,  True]])"
      ]
     },
     "execution_count": 18,
     "metadata": {},
     "output_type": "execute_result"
    }
   ],
   "source": [
    "#сравним округленные матрицы\n",
    "np.round(final_matrix) == np.round(features_matrix)"
   ]
  },
  {
   "cell_type": "markdown",
   "metadata": {},
   "source": [
    "Матрицы одинаковы. Мы реализовали алгоритм, описанный в шаге 3 и доказали, что качество линейной регрессии не меняется при умножении матрицы признаков на любую обратимую матрицу P."
   ]
  }
 ],
 "metadata": {
  "ExecuteTimeLog": [
   {
    "duration": 79,
    "start_time": "2023-04-25T12:07:58.689Z"
   },
   {
    "duration": 1331,
    "start_time": "2023-04-25T12:08:00.452Z"
   },
   {
    "duration": 70,
    "start_time": "2023-04-25T12:08:01.785Z"
   },
   {
    "duration": 30,
    "start_time": "2023-04-25T12:08:13.947Z"
   },
   {
    "duration": 14,
    "start_time": "2023-04-25T12:08:40.601Z"
   },
   {
    "duration": 4,
    "start_time": "2023-04-25T12:31:46.076Z"
   },
   {
    "duration": 28,
    "start_time": "2023-04-25T12:31:48.687Z"
   },
   {
    "duration": 20,
    "start_time": "2023-04-25T12:31:49.457Z"
   },
   {
    "duration": 14,
    "start_time": "2023-04-25T12:32:06.389Z"
   },
   {
    "duration": 4,
    "start_time": "2023-04-25T12:32:06.978Z"
   },
   {
    "duration": 1117,
    "start_time": "2023-04-25T12:45:24.866Z"
   },
   {
    "duration": 27,
    "start_time": "2023-04-25T12:45:25.985Z"
   },
   {
    "duration": 29,
    "start_time": "2023-04-25T12:45:26.016Z"
   },
   {
    "duration": 15,
    "start_time": "2023-04-25T12:45:26.047Z"
   },
   {
    "duration": 9,
    "start_time": "2023-04-25T12:45:26.064Z"
   },
   {
    "duration": 110,
    "start_time": "2023-04-25T14:25:13.289Z"
   },
   {
    "duration": 4,
    "start_time": "2023-04-25T14:25:40.385Z"
   },
   {
    "duration": 2,
    "start_time": "2023-04-25T14:25:42.097Z"
   },
   {
    "duration": 9,
    "start_time": "2023-04-25T14:25:56.837Z"
   },
   {
    "duration": 3,
    "start_time": "2023-04-25T14:26:03.805Z"
   },
   {
    "duration": 4,
    "start_time": "2023-04-25T14:26:04.268Z"
   },
   {
    "duration": 6,
    "start_time": "2023-04-25T14:26:43.838Z"
   },
   {
    "duration": 10,
    "start_time": "2023-04-25T14:27:03.133Z"
   },
   {
    "duration": 4,
    "start_time": "2023-04-25T14:27:37.092Z"
   },
   {
    "duration": 5,
    "start_time": "2023-04-25T14:27:42.199Z"
   },
   {
    "duration": 4,
    "start_time": "2023-04-25T14:31:11.812Z"
   },
   {
    "duration": 8,
    "start_time": "2023-04-25T14:32:52.261Z"
   },
   {
    "duration": 4,
    "start_time": "2023-04-25T14:33:18.935Z"
   },
   {
    "duration": 5,
    "start_time": "2023-04-25T14:33:23.445Z"
   },
   {
    "duration": 4,
    "start_time": "2023-04-25T14:33:30.473Z"
   },
   {
    "duration": 3,
    "start_time": "2023-04-25T14:34:18.621Z"
   },
   {
    "duration": 8,
    "start_time": "2023-04-25T14:34:19.430Z"
   },
   {
    "duration": 4,
    "start_time": "2023-04-25T14:34:42.029Z"
   },
   {
    "duration": 5,
    "start_time": "2023-04-25T14:35:01.681Z"
   },
   {
    "duration": 5,
    "start_time": "2023-04-25T14:42:01.806Z"
   },
   {
    "duration": 8,
    "start_time": "2023-04-25T14:42:02.531Z"
   },
   {
    "duration": 5,
    "start_time": "2023-04-25T14:42:23.185Z"
   },
   {
    "duration": 5,
    "start_time": "2023-04-25T14:42:38.572Z"
   },
   {
    "duration": 53,
    "start_time": "2023-04-26T14:10:35.070Z"
   },
   {
    "duration": 1239,
    "start_time": "2023-04-26T14:10:39.189Z"
   },
   {
    "duration": 107,
    "start_time": "2023-04-26T14:10:40.430Z"
   },
   {
    "duration": 39,
    "start_time": "2023-04-26T14:10:40.539Z"
   },
   {
    "duration": 14,
    "start_time": "2023-04-26T14:10:40.580Z"
   },
   {
    "duration": 7,
    "start_time": "2023-04-26T14:10:40.596Z"
   },
   {
    "duration": 8,
    "start_time": "2023-04-26T14:10:40.605Z"
   },
   {
    "duration": 8,
    "start_time": "2023-04-26T14:10:40.614Z"
   },
   {
    "duration": 7,
    "start_time": "2023-04-26T14:10:40.623Z"
   },
   {
    "duration": 20,
    "start_time": "2023-04-26T14:10:40.631Z"
   },
   {
    "duration": 5,
    "start_time": "2023-04-26T14:10:40.652Z"
   },
   {
    "duration": 41,
    "start_time": "2023-04-26T14:10:40.659Z"
   },
   {
    "duration": 9,
    "start_time": "2023-04-26T14:10:40.702Z"
   },
   {
    "duration": 83,
    "start_time": "2023-04-26T14:10:40.713Z"
   },
   {
    "duration": 11,
    "start_time": "2023-04-26T14:10:40.799Z"
   },
   {
    "duration": 16,
    "start_time": "2023-04-26T14:10:40.812Z"
   },
   {
    "duration": 22,
    "start_time": "2023-04-26T14:10:40.830Z"
   },
   {
    "duration": 50,
    "start_time": "2023-04-26T14:10:40.853Z"
   },
   {
    "duration": 8,
    "start_time": "2023-04-26T14:10:40.905Z"
   },
   {
    "duration": 16,
    "start_time": "2023-04-26T14:10:40.914Z"
   },
   {
    "duration": 5,
    "start_time": "2023-04-26T14:10:40.932Z"
   },
   {
    "duration": 21,
    "start_time": "2023-04-26T14:10:40.938Z"
   },
   {
    "duration": 120,
    "start_time": "2023-04-26T14:48:05.944Z"
   },
   {
    "duration": 5,
    "start_time": "2023-04-26T14:48:15.427Z"
   },
   {
    "duration": 3,
    "start_time": "2023-04-26T14:53:04.151Z"
   },
   {
    "duration": 102,
    "start_time": "2023-04-26T14:53:22.445Z"
   },
   {
    "duration": 5,
    "start_time": "2023-04-26T14:53:30.523Z"
   },
   {
    "duration": 1201,
    "start_time": "2023-04-26T14:56:54.239Z"
   },
   {
    "duration": 38,
    "start_time": "2023-04-26T14:56:55.443Z"
   },
   {
    "duration": 43,
    "start_time": "2023-04-26T14:56:55.483Z"
   },
   {
    "duration": 19,
    "start_time": "2023-04-26T14:56:55.528Z"
   },
   {
    "duration": 9,
    "start_time": "2023-04-26T14:56:55.550Z"
   },
   {
    "duration": 34,
    "start_time": "2023-04-26T14:56:55.561Z"
   },
   {
    "duration": 3,
    "start_time": "2023-04-26T14:56:55.597Z"
   },
   {
    "duration": 14,
    "start_time": "2023-04-26T14:56:55.601Z"
   },
   {
    "duration": 7,
    "start_time": "2023-04-26T14:56:55.617Z"
   },
   {
    "duration": 11,
    "start_time": "2023-04-26T14:56:55.626Z"
   },
   {
    "duration": 55,
    "start_time": "2023-04-26T14:56:55.639Z"
   },
   {
    "duration": 8,
    "start_time": "2023-04-26T14:56:55.699Z"
   },
   {
    "duration": 84,
    "start_time": "2023-04-26T14:56:55.709Z"
   },
   {
    "duration": 13,
    "start_time": "2023-04-26T14:56:55.796Z"
   },
   {
    "duration": 6,
    "start_time": "2023-04-26T14:56:55.811Z"
   },
   {
    "duration": 21,
    "start_time": "2023-04-26T14:56:55.819Z"
   },
   {
    "duration": 5,
    "start_time": "2023-04-26T14:56:55.842Z"
   },
   {
    "duration": 45,
    "start_time": "2023-04-26T14:56:55.849Z"
   },
   {
    "duration": 52,
    "start_time": "2023-04-26T15:00:19.282Z"
   },
   {
    "duration": 5,
    "start_time": "2023-04-26T15:00:50.537Z"
   },
   {
    "duration": 60,
    "start_time": "2023-04-26T15:02:05.359Z"
   },
   {
    "duration": 1377,
    "start_time": "2023-04-26T15:02:05.423Z"
   },
   {
    "duration": 37,
    "start_time": "2023-04-26T15:02:06.805Z"
   },
   {
    "duration": 32,
    "start_time": "2023-04-26T15:02:06.844Z"
   },
   {
    "duration": 18,
    "start_time": "2023-04-26T15:02:06.878Z"
   },
   {
    "duration": 9,
    "start_time": "2023-04-26T15:02:06.899Z"
   },
   {
    "duration": 9,
    "start_time": "2023-04-26T15:02:06.911Z"
   },
   {
    "duration": 13,
    "start_time": "2023-04-26T15:02:06.923Z"
   },
   {
    "duration": 25,
    "start_time": "2023-04-26T15:02:06.940Z"
   },
   {
    "duration": 180,
    "start_time": "2023-04-26T15:02:06.967Z"
   },
   {
    "duration": 0,
    "start_time": "2023-04-26T15:02:07.149Z"
   },
   {
    "duration": 0,
    "start_time": "2023-04-26T15:02:07.151Z"
   },
   {
    "duration": 0,
    "start_time": "2023-04-26T15:02:07.154Z"
   },
   {
    "duration": 0,
    "start_time": "2023-04-26T15:02:07.155Z"
   },
   {
    "duration": 0,
    "start_time": "2023-04-26T15:02:07.157Z"
   },
   {
    "duration": 0,
    "start_time": "2023-04-26T15:02:07.159Z"
   },
   {
    "duration": 0,
    "start_time": "2023-04-26T15:02:07.161Z"
   },
   {
    "duration": 0,
    "start_time": "2023-04-26T15:02:07.162Z"
   },
   {
    "duration": 0,
    "start_time": "2023-04-26T15:02:07.164Z"
   },
   {
    "duration": 66,
    "start_time": "2023-04-26T15:03:00.606Z"
   },
   {
    "duration": 1264,
    "start_time": "2023-04-26T15:03:00.675Z"
   },
   {
    "duration": 33,
    "start_time": "2023-04-26T15:03:01.940Z"
   },
   {
    "duration": 45,
    "start_time": "2023-04-26T15:03:01.976Z"
   },
   {
    "duration": 22,
    "start_time": "2023-04-26T15:03:02.024Z"
   },
   {
    "duration": 9,
    "start_time": "2023-04-26T15:03:02.051Z"
   },
   {
    "duration": 41,
    "start_time": "2023-04-26T15:03:02.063Z"
   },
   {
    "duration": 19,
    "start_time": "2023-04-26T15:03:02.107Z"
   },
   {
    "duration": 27,
    "start_time": "2023-04-26T15:03:02.128Z"
   },
   {
    "duration": 21,
    "start_time": "2023-04-26T15:03:02.160Z"
   },
   {
    "duration": 39,
    "start_time": "2023-04-26T15:03:02.184Z"
   },
   {
    "duration": 71,
    "start_time": "2023-04-26T15:03:02.225Z"
   },
   {
    "duration": 23,
    "start_time": "2023-04-26T15:03:02.298Z"
   },
   {
    "duration": 32,
    "start_time": "2023-04-26T15:03:02.392Z"
   },
   {
    "duration": 28,
    "start_time": "2023-04-26T15:03:02.426Z"
   },
   {
    "duration": 23,
    "start_time": "2023-04-26T15:03:02.458Z"
   },
   {
    "duration": 28,
    "start_time": "2023-04-26T15:03:02.483Z"
   },
   {
    "duration": 20,
    "start_time": "2023-04-26T15:03:02.513Z"
   },
   {
    "duration": 61,
    "start_time": "2023-04-26T15:03:02.535Z"
   },
   {
    "duration": 64,
    "start_time": "2023-04-27T09:00:51.752Z"
   },
   {
    "duration": 107,
    "start_time": "2023-04-27T09:00:56.597Z"
   },
   {
    "duration": 1182,
    "start_time": "2023-04-27T09:00:56.706Z"
   },
   {
    "duration": 70,
    "start_time": "2023-04-27T09:00:57.889Z"
   },
   {
    "duration": 23,
    "start_time": "2023-04-27T09:00:57.961Z"
   },
   {
    "duration": 12,
    "start_time": "2023-04-27T09:00:57.986Z"
   },
   {
    "duration": 7,
    "start_time": "2023-04-27T09:00:58.000Z"
   },
   {
    "duration": 7,
    "start_time": "2023-04-27T09:00:58.009Z"
   },
   {
    "duration": 18,
    "start_time": "2023-04-27T09:00:58.017Z"
   },
   {
    "duration": 7,
    "start_time": "2023-04-27T09:00:58.037Z"
   },
   {
    "duration": 23,
    "start_time": "2023-04-27T09:00:58.046Z"
   },
   {
    "duration": 65,
    "start_time": "2023-04-27T09:00:58.071Z"
   },
   {
    "duration": 8,
    "start_time": "2023-04-27T09:00:58.139Z"
   },
   {
    "duration": 86,
    "start_time": "2023-04-27T09:00:58.149Z"
   },
   {
    "duration": 11,
    "start_time": "2023-04-27T09:00:58.237Z"
   },
   {
    "duration": 7,
    "start_time": "2023-04-27T09:00:58.249Z"
   },
   {
    "duration": 12,
    "start_time": "2023-04-27T09:00:58.258Z"
   },
   {
    "duration": 4,
    "start_time": "2023-04-27T09:00:58.272Z"
   },
   {
    "duration": 10,
    "start_time": "2023-04-27T09:00:58.278Z"
   },
   {
    "duration": 128,
    "start_time": "2023-04-28T08:34:10.609Z"
   },
   {
    "duration": 2079,
    "start_time": "2023-04-28T08:34:10.740Z"
   },
   {
    "duration": 80,
    "start_time": "2023-04-28T08:34:12.821Z"
   },
   {
    "duration": 33,
    "start_time": "2023-04-28T08:34:12.903Z"
   },
   {
    "duration": 18,
    "start_time": "2023-04-28T08:34:12.939Z"
   },
   {
    "duration": 9,
    "start_time": "2023-04-28T08:34:12.958Z"
   },
   {
    "duration": 14,
    "start_time": "2023-04-28T08:34:12.969Z"
   },
   {
    "duration": 9,
    "start_time": "2023-04-28T08:34:12.986Z"
   },
   {
    "duration": 13,
    "start_time": "2023-04-28T08:34:12.998Z"
   },
   {
    "duration": 31,
    "start_time": "2023-04-28T08:34:13.013Z"
   },
   {
    "duration": 17,
    "start_time": "2023-04-28T08:34:13.046Z"
   },
   {
    "duration": 83,
    "start_time": "2023-04-28T08:34:13.066Z"
   },
   {
    "duration": 17,
    "start_time": "2023-04-28T08:34:13.151Z"
   },
   {
    "duration": 77,
    "start_time": "2023-04-28T08:34:13.170Z"
   },
   {
    "duration": 10,
    "start_time": "2023-04-28T08:34:33.386Z"
   },
   {
    "duration": 7,
    "start_time": "2023-04-28T08:35:15.472Z"
   },
   {
    "duration": 3,
    "start_time": "2023-04-28T08:35:18.149Z"
   },
   {
    "duration": 10,
    "start_time": "2023-04-28T08:35:18.799Z"
   },
   {
    "duration": 128,
    "start_time": "2023-04-28T08:35:32.725Z"
   },
   {
    "duration": 2033,
    "start_time": "2023-04-28T08:35:32.855Z"
   },
   {
    "duration": 32,
    "start_time": "2023-04-28T08:35:34.890Z"
   },
   {
    "duration": 30,
    "start_time": "2023-04-28T08:35:34.924Z"
   },
   {
    "duration": 16,
    "start_time": "2023-04-28T08:35:34.957Z"
   },
   {
    "duration": 9,
    "start_time": "2023-04-28T08:35:34.974Z"
   },
   {
    "duration": 18,
    "start_time": "2023-04-28T08:35:34.985Z"
   },
   {
    "duration": 13,
    "start_time": "2023-04-28T08:35:35.005Z"
   },
   {
    "duration": 24,
    "start_time": "2023-04-28T08:35:35.020Z"
   },
   {
    "duration": 27,
    "start_time": "2023-04-28T08:35:35.046Z"
   },
   {
    "duration": 66,
    "start_time": "2023-04-28T08:35:35.075Z"
   },
   {
    "duration": 101,
    "start_time": "2023-04-28T08:35:35.143Z"
   },
   {
    "duration": 14,
    "start_time": "2023-04-28T08:35:35.246Z"
   },
   {
    "duration": 29,
    "start_time": "2023-04-28T08:35:35.263Z"
   },
   {
    "duration": 14,
    "start_time": "2023-04-28T08:35:35.294Z"
   },
   {
    "duration": 17,
    "start_time": "2023-04-28T08:35:35.310Z"
   },
   {
    "duration": 17,
    "start_time": "2023-04-28T08:35:35.329Z"
   },
   {
    "duration": 15,
    "start_time": "2023-04-28T08:35:35.348Z"
   },
   {
    "duration": 71,
    "start_time": "2023-04-28T11:36:28.499Z"
   },
   {
    "duration": 1091,
    "start_time": "2023-04-28T11:36:28.572Z"
   },
   {
    "duration": 99,
    "start_time": "2023-04-28T11:36:29.664Z"
   },
   {
    "duration": 22,
    "start_time": "2023-04-28T11:36:29.765Z"
   },
   {
    "duration": 12,
    "start_time": "2023-04-28T11:36:29.789Z"
   },
   {
    "duration": 6,
    "start_time": "2023-04-28T11:36:29.803Z"
   },
   {
    "duration": 4,
    "start_time": "2023-04-28T11:36:29.810Z"
   },
   {
    "duration": 20,
    "start_time": "2023-04-28T11:36:29.815Z"
   },
   {
    "duration": 5,
    "start_time": "2023-04-28T11:36:29.837Z"
   },
   {
    "duration": 10,
    "start_time": "2023-04-28T11:36:29.844Z"
   },
   {
    "duration": 7,
    "start_time": "2023-04-28T11:36:29.856Z"
   },
   {
    "duration": 6,
    "start_time": "2023-04-28T11:36:29.923Z"
   },
   {
    "duration": 11,
    "start_time": "2023-04-28T11:36:29.930Z"
   },
   {
    "duration": 83,
    "start_time": "2023-04-28T11:36:29.943Z"
   },
   {
    "duration": 15,
    "start_time": "2023-04-28T11:36:30.027Z"
   },
   {
    "duration": 11,
    "start_time": "2023-04-28T11:36:30.044Z"
   },
   {
    "duration": 15,
    "start_time": "2023-04-28T11:36:30.057Z"
   },
   {
    "duration": 49,
    "start_time": "2023-04-28T11:36:30.073Z"
   },
   {
    "duration": 72,
    "start_time": "2023-04-28T11:38:07.134Z"
   },
   {
    "duration": 1133,
    "start_time": "2023-04-28T11:38:07.207Z"
   },
   {
    "duration": 30,
    "start_time": "2023-04-28T11:38:08.342Z"
   },
   {
    "duration": 24,
    "start_time": "2023-04-28T11:38:08.373Z"
   },
   {
    "duration": 13,
    "start_time": "2023-04-28T11:38:08.399Z"
   },
   {
    "duration": 19,
    "start_time": "2023-04-28T11:38:08.413Z"
   },
   {
    "duration": 5,
    "start_time": "2023-04-28T11:38:08.434Z"
   },
   {
    "duration": 4,
    "start_time": "2023-04-28T11:38:08.441Z"
   },
   {
    "duration": 8,
    "start_time": "2023-04-28T11:38:08.446Z"
   },
   {
    "duration": 4,
    "start_time": "2023-04-28T11:38:08.456Z"
   },
   {
    "duration": 6,
    "start_time": "2023-04-28T11:38:08.461Z"
   },
   {
    "duration": 67,
    "start_time": "2023-04-28T11:38:08.468Z"
   },
   {
    "duration": 4,
    "start_time": "2023-04-28T11:38:08.537Z"
   },
   {
    "duration": 86,
    "start_time": "2023-04-28T11:38:08.544Z"
   },
   {
    "duration": 5,
    "start_time": "2023-04-28T11:38:08.632Z"
   },
   {
    "duration": 14,
    "start_time": "2023-04-28T11:38:08.639Z"
   },
   {
    "duration": 3,
    "start_time": "2023-04-28T11:38:08.655Z"
   },
   {
    "duration": 7,
    "start_time": "2023-04-28T11:38:08.660Z"
   },
   {
    "duration": 5,
    "start_time": "2023-04-28T11:39:31.007Z"
   },
   {
    "duration": 46,
    "start_time": "2023-04-28T11:39:35.836Z"
   },
   {
    "duration": 1078,
    "start_time": "2023-04-28T11:39:35.884Z"
   },
   {
    "duration": 29,
    "start_time": "2023-04-28T11:39:36.964Z"
   },
   {
    "duration": 37,
    "start_time": "2023-04-28T11:39:36.995Z"
   },
   {
    "duration": 14,
    "start_time": "2023-04-28T11:39:37.034Z"
   },
   {
    "duration": 6,
    "start_time": "2023-04-28T11:39:37.050Z"
   },
   {
    "duration": 6,
    "start_time": "2023-04-28T11:39:37.057Z"
   },
   {
    "duration": 4,
    "start_time": "2023-04-28T11:39:37.064Z"
   },
   {
    "duration": 6,
    "start_time": "2023-04-28T11:39:37.069Z"
   },
   {
    "duration": 54,
    "start_time": "2023-04-28T11:39:37.076Z"
   },
   {
    "duration": 8,
    "start_time": "2023-04-28T11:39:37.132Z"
   },
   {
    "duration": 77,
    "start_time": "2023-04-28T11:39:37.142Z"
   },
   {
    "duration": 9,
    "start_time": "2023-04-28T11:39:37.225Z"
   },
   {
    "duration": 8,
    "start_time": "2023-04-28T11:39:37.237Z"
   },
   {
    "duration": 4,
    "start_time": "2023-04-28T11:39:37.246Z"
   },
   {
    "duration": 13,
    "start_time": "2023-04-28T11:39:37.252Z"
   },
   {
    "duration": 4,
    "start_time": "2023-04-28T11:39:37.267Z"
   },
   {
    "duration": 59,
    "start_time": "2023-04-28T11:39:37.272Z"
   },
   {
    "duration": 50,
    "start_time": "2023-04-28T11:43:40.337Z"
   },
   {
    "duration": 1146,
    "start_time": "2023-04-28T11:43:40.389Z"
   },
   {
    "duration": 29,
    "start_time": "2023-04-28T11:43:41.537Z"
   },
   {
    "duration": 24,
    "start_time": "2023-04-28T11:43:41.568Z"
   },
   {
    "duration": 5,
    "start_time": "2023-04-28T11:43:41.594Z"
   },
   {
    "duration": 11,
    "start_time": "2023-04-28T11:43:41.601Z"
   },
   {
    "duration": 21,
    "start_time": "2023-04-28T11:43:41.614Z"
   },
   {
    "duration": 6,
    "start_time": "2023-04-28T11:43:41.637Z"
   },
   {
    "duration": 6,
    "start_time": "2023-04-28T11:43:41.644Z"
   },
   {
    "duration": 8,
    "start_time": "2023-04-28T11:43:41.652Z"
   },
   {
    "duration": 6,
    "start_time": "2023-04-28T11:43:41.661Z"
   },
   {
    "duration": 58,
    "start_time": "2023-04-28T11:43:41.669Z"
   },
   {
    "duration": 2,
    "start_time": "2023-04-28T11:43:41.728Z"
   },
   {
    "duration": 14,
    "start_time": "2023-04-28T11:43:41.732Z"
   },
   {
    "duration": 7,
    "start_time": "2023-04-28T11:43:41.827Z"
   },
   {
    "duration": 10,
    "start_time": "2023-04-28T11:43:41.836Z"
   },
   {
    "duration": 4,
    "start_time": "2023-04-28T11:43:41.847Z"
   },
   {
    "duration": 9,
    "start_time": "2023-04-28T11:43:41.853Z"
   },
   {
    "duration": 4,
    "start_time": "2023-04-28T11:44:16.468Z"
   },
   {
    "duration": 10,
    "start_time": "2023-04-28T11:44:20.769Z"
   },
   {
    "duration": 52,
    "start_time": "2023-04-28T11:44:31.885Z"
   },
   {
    "duration": 1134,
    "start_time": "2023-04-28T11:44:31.939Z"
   },
   {
    "duration": 30,
    "start_time": "2023-04-28T11:44:33.075Z"
   },
   {
    "duration": 37,
    "start_time": "2023-04-28T11:44:33.107Z"
   },
   {
    "duration": 8,
    "start_time": "2023-04-28T11:44:33.145Z"
   },
   {
    "duration": 12,
    "start_time": "2023-04-28T11:44:33.154Z"
   },
   {
    "duration": 6,
    "start_time": "2023-04-28T11:44:33.168Z"
   },
   {
    "duration": 15,
    "start_time": "2023-04-28T11:44:33.176Z"
   },
   {
    "duration": 13,
    "start_time": "2023-04-28T11:44:33.193Z"
   },
   {
    "duration": 35,
    "start_time": "2023-04-28T11:44:33.209Z"
   },
   {
    "duration": 7,
    "start_time": "2023-04-28T11:44:33.246Z"
   },
   {
    "duration": 74,
    "start_time": "2023-04-28T11:44:33.256Z"
   },
   {
    "duration": 6,
    "start_time": "2023-04-28T11:44:33.338Z"
   },
   {
    "duration": 75,
    "start_time": "2023-04-28T11:44:33.347Z"
   },
   {
    "duration": 6,
    "start_time": "2023-04-28T11:44:33.424Z"
   },
   {
    "duration": 12,
    "start_time": "2023-04-28T11:44:33.432Z"
   },
   {
    "duration": 6,
    "start_time": "2023-04-28T11:44:33.446Z"
   },
   {
    "duration": 6,
    "start_time": "2023-04-28T11:44:33.454Z"
   },
   {
    "duration": 6,
    "start_time": "2023-04-28T11:48:10.282Z"
   },
   {
    "duration": 5,
    "start_time": "2023-04-28T11:48:11.907Z"
   },
   {
    "duration": 51,
    "start_time": "2023-04-28T11:48:25.442Z"
   },
   {
    "duration": 1155,
    "start_time": "2023-04-28T11:48:25.495Z"
   },
   {
    "duration": 30,
    "start_time": "2023-04-28T11:48:26.652Z"
   },
   {
    "duration": 25,
    "start_time": "2023-04-28T11:48:26.684Z"
   },
   {
    "duration": 24,
    "start_time": "2023-04-28T11:48:26.712Z"
   },
   {
    "duration": 6,
    "start_time": "2023-04-28T11:48:26.738Z"
   },
   {
    "duration": 4,
    "start_time": "2023-04-28T11:48:26.745Z"
   },
   {
    "duration": 4,
    "start_time": "2023-04-28T11:48:26.750Z"
   },
   {
    "duration": 4,
    "start_time": "2023-04-28T11:48:26.756Z"
   },
   {
    "duration": 7,
    "start_time": "2023-04-28T11:48:26.762Z"
   },
   {
    "duration": 64,
    "start_time": "2023-04-28T11:48:26.771Z"
   },
   {
    "duration": 8,
    "start_time": "2023-04-28T11:48:26.840Z"
   },
   {
    "duration": 7,
    "start_time": "2023-04-28T11:48:26.927Z"
   },
   {
    "duration": 16,
    "start_time": "2023-04-28T11:48:26.937Z"
   },
   {
    "duration": 11,
    "start_time": "2023-04-28T11:48:26.955Z"
   },
   {
    "duration": 10,
    "start_time": "2023-04-28T11:48:26.968Z"
   },
   {
    "duration": 8,
    "start_time": "2023-04-28T11:48:26.981Z"
   },
   {
    "duration": 37,
    "start_time": "2023-04-28T11:48:26.991Z"
   },
   {
    "duration": 5,
    "start_time": "2023-04-28T11:52:23.048Z"
   },
   {
    "duration": 5,
    "start_time": "2023-04-28T11:52:25.585Z"
   },
   {
    "duration": 58,
    "start_time": "2023-04-28T11:53:36.354Z"
   },
   {
    "duration": 1226,
    "start_time": "2023-04-28T11:53:36.414Z"
   },
   {
    "duration": 29,
    "start_time": "2023-04-28T11:53:37.642Z"
   },
   {
    "duration": 25,
    "start_time": "2023-04-28T11:53:37.673Z"
   },
   {
    "duration": 8,
    "start_time": "2023-04-28T11:53:37.700Z"
   },
   {
    "duration": 26,
    "start_time": "2023-04-28T11:53:37.709Z"
   },
   {
    "duration": 4,
    "start_time": "2023-04-28T11:53:37.737Z"
   },
   {
    "duration": 10,
    "start_time": "2023-04-28T11:53:37.743Z"
   },
   {
    "duration": 6,
    "start_time": "2023-04-28T11:53:37.755Z"
   },
   {
    "duration": 5,
    "start_time": "2023-04-28T11:53:37.764Z"
   },
   {
    "duration": 5,
    "start_time": "2023-04-28T11:53:37.771Z"
   },
   {
    "duration": 16,
    "start_time": "2023-04-28T11:53:37.823Z"
   },
   {
    "duration": 3,
    "start_time": "2023-04-28T11:53:37.841Z"
   },
   {
    "duration": 87,
    "start_time": "2023-04-28T11:53:37.846Z"
   },
   {
    "duration": 5,
    "start_time": "2023-04-28T11:53:37.935Z"
   },
   {
    "duration": 9,
    "start_time": "2023-04-28T11:53:37.942Z"
   },
   {
    "duration": 3,
    "start_time": "2023-04-28T11:53:37.953Z"
   },
   {
    "duration": 8,
    "start_time": "2023-04-28T11:53:37.958Z"
   },
   {
    "duration": 4,
    "start_time": "2023-04-28T11:55:52.998Z"
   },
   {
    "duration": 47,
    "start_time": "2023-04-28T11:55:57.233Z"
   },
   {
    "duration": 1168,
    "start_time": "2023-04-28T11:55:57.282Z"
   },
   {
    "duration": 29,
    "start_time": "2023-04-28T11:55:58.451Z"
   },
   {
    "duration": 21,
    "start_time": "2023-04-28T11:55:58.482Z"
   },
   {
    "duration": 12,
    "start_time": "2023-04-28T11:55:58.505Z"
   },
   {
    "duration": 13,
    "start_time": "2023-04-28T11:55:58.526Z"
   },
   {
    "duration": 4,
    "start_time": "2023-04-28T11:55:58.540Z"
   },
   {
    "duration": 11,
    "start_time": "2023-04-28T11:55:58.546Z"
   },
   {
    "duration": 5,
    "start_time": "2023-04-28T11:55:58.558Z"
   },
   {
    "duration": 11,
    "start_time": "2023-04-28T11:55:58.565Z"
   },
   {
    "duration": 46,
    "start_time": "2023-04-28T11:55:58.578Z"
   },
   {
    "duration": 17,
    "start_time": "2023-04-28T11:55:58.626Z"
   },
   {
    "duration": 3,
    "start_time": "2023-04-28T11:55:58.645Z"
   },
   {
    "duration": 16,
    "start_time": "2023-04-28T11:55:58.719Z"
   },
   {
    "duration": 8,
    "start_time": "2023-04-28T11:55:58.736Z"
   },
   {
    "duration": 11,
    "start_time": "2023-04-28T11:55:58.746Z"
   },
   {
    "duration": 3,
    "start_time": "2023-04-28T11:55:58.759Z"
   },
   {
    "duration": 56,
    "start_time": "2023-04-28T11:55:58.763Z"
   },
   {
    "duration": 16,
    "start_time": "2023-04-28T12:05:55.015Z"
   },
   {
    "duration": 53,
    "start_time": "2023-04-28T12:05:59.712Z"
   },
   {
    "duration": 1136,
    "start_time": "2023-04-28T12:05:59.767Z"
   },
   {
    "duration": 50,
    "start_time": "2023-04-28T12:06:00.905Z"
   },
   {
    "duration": 23,
    "start_time": "2023-04-28T12:06:00.957Z"
   },
   {
    "duration": 7,
    "start_time": "2023-04-28T12:06:00.982Z"
   },
   {
    "duration": 39,
    "start_time": "2023-04-28T12:06:00.991Z"
   },
   {
    "duration": 26,
    "start_time": "2023-04-28T12:06:01.033Z"
   },
   {
    "duration": 30,
    "start_time": "2023-04-28T12:06:01.060Z"
   },
   {
    "duration": 18,
    "start_time": "2023-04-28T12:06:01.091Z"
   },
   {
    "duration": 30,
    "start_time": "2023-04-28T12:06:01.111Z"
   },
   {
    "duration": 79,
    "start_time": "2023-04-28T12:06:01.143Z"
   },
   {
    "duration": 18,
    "start_time": "2023-04-28T12:06:01.224Z"
   },
   {
    "duration": 78,
    "start_time": "2023-04-28T12:06:01.244Z"
   },
   {
    "duration": 135,
    "start_time": "2023-04-28T12:06:01.324Z"
   },
   {
    "duration": 0,
    "start_time": "2023-04-28T12:06:01.460Z"
   },
   {
    "duration": 1,
    "start_time": "2023-04-28T12:06:01.461Z"
   },
   {
    "duration": 0,
    "start_time": "2023-04-28T12:06:01.462Z"
   },
   {
    "duration": 0,
    "start_time": "2023-04-28T12:06:01.463Z"
   },
   {
    "duration": 69,
    "start_time": "2023-04-28T12:06:30.669Z"
   },
   {
    "duration": 1146,
    "start_time": "2023-04-28T12:06:30.744Z"
   },
   {
    "duration": 35,
    "start_time": "2023-04-28T12:06:31.891Z"
   },
   {
    "duration": 33,
    "start_time": "2023-04-28T12:06:31.928Z"
   },
   {
    "duration": 11,
    "start_time": "2023-04-28T12:06:31.963Z"
   },
   {
    "duration": 60,
    "start_time": "2023-04-28T12:06:31.976Z"
   },
   {
    "duration": 12,
    "start_time": "2023-04-28T12:06:32.038Z"
   },
   {
    "duration": 27,
    "start_time": "2023-04-28T12:06:32.052Z"
   },
   {
    "duration": 23,
    "start_time": "2023-04-28T12:06:32.081Z"
   },
   {
    "duration": 32,
    "start_time": "2023-04-28T12:06:32.107Z"
   },
   {
    "duration": 93,
    "start_time": "2023-04-28T12:06:32.141Z"
   },
   {
    "duration": 5,
    "start_time": "2023-04-28T12:06:32.236Z"
   },
   {
    "duration": 90,
    "start_time": "2023-04-28T12:06:32.242Z"
   },
   {
    "duration": 9,
    "start_time": "2023-04-28T12:06:32.334Z"
   },
   {
    "duration": 9,
    "start_time": "2023-04-28T12:06:32.345Z"
   },
   {
    "duration": 11,
    "start_time": "2023-04-28T12:06:32.356Z"
   },
   {
    "duration": 4,
    "start_time": "2023-04-28T12:06:32.369Z"
   },
   {
    "duration": 56,
    "start_time": "2023-04-28T12:06:32.374Z"
   },
   {
    "duration": 123,
    "start_time": "2023-04-28T12:10:31.672Z"
   },
   {
    "duration": 5,
    "start_time": "2023-04-28T12:10:55.107Z"
   },
   {
    "duration": 9,
    "start_time": "2023-04-28T12:11:00.902Z"
   },
   {
    "duration": 4,
    "start_time": "2023-04-28T12:11:06.758Z"
   },
   {
    "duration": 6,
    "start_time": "2023-04-28T12:14:28.204Z"
   },
   {
    "duration": 62,
    "start_time": "2023-04-28T12:14:33.821Z"
   },
   {
    "duration": 1076,
    "start_time": "2023-04-28T12:14:33.885Z"
   },
   {
    "duration": 29,
    "start_time": "2023-04-28T12:14:34.963Z"
   },
   {
    "duration": 25,
    "start_time": "2023-04-28T12:14:34.994Z"
   },
   {
    "duration": 18,
    "start_time": "2023-04-28T12:14:35.020Z"
   },
   {
    "duration": 21,
    "start_time": "2023-04-28T12:14:35.040Z"
   },
   {
    "duration": 31,
    "start_time": "2023-04-28T12:14:35.063Z"
   },
   {
    "duration": 33,
    "start_time": "2023-04-28T12:14:35.096Z"
   },
   {
    "duration": 27,
    "start_time": "2023-04-28T12:14:35.131Z"
   },
   {
    "duration": 19,
    "start_time": "2023-04-28T12:14:35.162Z"
   },
   {
    "duration": 42,
    "start_time": "2023-04-28T12:14:35.182Z"
   },
   {
    "duration": 25,
    "start_time": "2023-04-28T12:14:35.225Z"
   },
   {
    "duration": 82,
    "start_time": "2023-04-28T12:14:35.252Z"
   },
   {
    "duration": 10,
    "start_time": "2023-04-28T12:14:35.336Z"
   },
   {
    "duration": 36,
    "start_time": "2023-04-28T12:14:35.349Z"
   },
   {
    "duration": 6,
    "start_time": "2023-04-28T12:14:35.391Z"
   },
   {
    "duration": 43,
    "start_time": "2023-04-28T12:14:35.399Z"
   },
   {
    "duration": 12,
    "start_time": "2023-04-28T12:14:35.444Z"
   },
   {
    "duration": 65,
    "start_time": "2023-04-28T12:14:35.459Z"
   },
   {
    "duration": 6,
    "start_time": "2023-04-28T12:15:19.543Z"
   },
   {
    "duration": 5,
    "start_time": "2023-04-28T12:15:21.110Z"
   },
   {
    "duration": 4,
    "start_time": "2023-04-28T12:15:22.145Z"
   },
   {
    "duration": 4,
    "start_time": "2023-04-28T12:15:26.309Z"
   },
   {
    "duration": 9,
    "start_time": "2023-04-28T12:15:27.845Z"
   },
   {
    "duration": 17,
    "start_time": "2023-04-28T12:15:30.435Z"
   },
   {
    "duration": 27,
    "start_time": "2023-04-28T12:15:31.915Z"
   },
   {
    "duration": 5,
    "start_time": "2023-04-28T12:15:32.996Z"
   },
   {
    "duration": 9,
    "start_time": "2023-04-28T12:15:33.344Z"
   },
   {
    "duration": 60,
    "start_time": "2023-04-28T12:15:38.547Z"
   },
   {
    "duration": 1141,
    "start_time": "2023-04-28T12:15:38.609Z"
   },
   {
    "duration": 30,
    "start_time": "2023-04-28T12:15:39.752Z"
   },
   {
    "duration": 22,
    "start_time": "2023-04-28T12:15:39.783Z"
   },
   {
    "duration": 7,
    "start_time": "2023-04-28T12:15:39.807Z"
   },
   {
    "duration": 6,
    "start_time": "2023-04-28T12:15:39.815Z"
   },
   {
    "duration": 4,
    "start_time": "2023-04-28T12:15:39.822Z"
   },
   {
    "duration": 12,
    "start_time": "2023-04-28T12:15:39.828Z"
   },
   {
    "duration": 9,
    "start_time": "2023-04-28T12:15:39.841Z"
   },
   {
    "duration": 5,
    "start_time": "2023-04-28T12:15:39.851Z"
   },
   {
    "duration": 7,
    "start_time": "2023-04-28T12:15:39.857Z"
   },
   {
    "duration": 18,
    "start_time": "2023-04-28T12:15:39.928Z"
   },
   {
    "duration": 10,
    "start_time": "2023-04-28T12:15:39.947Z"
   },
   {
    "duration": 68,
    "start_time": "2023-04-28T12:15:39.961Z"
   },
   {
    "duration": 19,
    "start_time": "2023-04-28T12:15:40.031Z"
   },
   {
    "duration": 16,
    "start_time": "2023-04-28T12:15:40.052Z"
   },
   {
    "duration": 23,
    "start_time": "2023-04-28T12:15:40.070Z"
   },
   {
    "duration": 4,
    "start_time": "2023-04-28T12:15:40.095Z"
   },
   {
    "duration": 36,
    "start_time": "2023-04-28T12:15:40.100Z"
   },
   {
    "duration": 4,
    "start_time": "2023-04-28T12:16:33.676Z"
   },
   {
    "duration": 6,
    "start_time": "2023-04-28T12:16:46.862Z"
   },
   {
    "duration": 66,
    "start_time": "2023-04-28T12:37:21.986Z"
   },
   {
    "duration": 1092,
    "start_time": "2023-04-28T12:37:22.055Z"
   },
   {
    "duration": 30,
    "start_time": "2023-04-28T12:37:23.149Z"
   },
   {
    "duration": 21,
    "start_time": "2023-04-28T12:37:23.181Z"
   },
   {
    "duration": 7,
    "start_time": "2023-04-28T12:37:23.204Z"
   },
   {
    "duration": 27,
    "start_time": "2023-04-28T12:37:23.213Z"
   },
   {
    "duration": 8,
    "start_time": "2023-04-28T12:37:23.242Z"
   },
   {
    "duration": 4,
    "start_time": "2023-04-28T12:37:23.252Z"
   },
   {
    "duration": 6,
    "start_time": "2023-04-28T12:37:23.257Z"
   },
   {
    "duration": 4,
    "start_time": "2023-04-28T12:37:23.265Z"
   },
   {
    "duration": 7,
    "start_time": "2023-04-28T12:37:23.270Z"
   },
   {
    "duration": 10,
    "start_time": "2023-04-28T12:37:23.318Z"
   },
   {
    "duration": 17,
    "start_time": "2023-04-28T12:37:23.329Z"
   },
   {
    "duration": 73,
    "start_time": "2023-04-28T12:37:23.348Z"
   },
   {
    "duration": 19,
    "start_time": "2023-04-28T12:37:23.423Z"
   },
   {
    "duration": 7,
    "start_time": "2023-04-28T12:37:23.444Z"
   },
   {
    "duration": 14,
    "start_time": "2023-04-28T12:37:23.453Z"
   },
   {
    "duration": 15,
    "start_time": "2023-04-28T12:37:23.468Z"
   },
   {
    "duration": 8,
    "start_time": "2023-04-28T12:37:23.485Z"
   },
   {
    "duration": 470,
    "start_time": "2023-04-28T12:37:46.911Z"
   },
   {
    "duration": 4,
    "start_time": "2023-04-28T12:38:14.741Z"
   },
   {
    "duration": 5,
    "start_time": "2023-04-28T12:38:18.092Z"
   },
   {
    "duration": 3,
    "start_time": "2023-04-28T12:38:18.797Z"
   },
   {
    "duration": 6,
    "start_time": "2023-04-28T12:38:29.561Z"
   },
   {
    "duration": 4,
    "start_time": "2023-04-28T12:38:34.163Z"
   },
   {
    "duration": 4,
    "start_time": "2023-04-28T12:39:01.008Z"
   },
   {
    "duration": 71,
    "start_time": "2023-04-28T12:41:33.908Z"
   },
   {
    "duration": 1097,
    "start_time": "2023-04-28T12:41:33.980Z"
   },
   {
    "duration": 29,
    "start_time": "2023-04-28T12:41:35.079Z"
   },
   {
    "duration": 41,
    "start_time": "2023-04-28T12:41:35.110Z"
   },
   {
    "duration": 7,
    "start_time": "2023-04-28T12:41:35.153Z"
   },
   {
    "duration": 16,
    "start_time": "2023-04-28T12:41:35.162Z"
   },
   {
    "duration": 5,
    "start_time": "2023-04-28T12:41:35.180Z"
   },
   {
    "duration": 19,
    "start_time": "2023-04-28T12:41:35.186Z"
   },
   {
    "duration": 24,
    "start_time": "2023-04-28T12:41:35.206Z"
   },
   {
    "duration": 7,
    "start_time": "2023-04-28T12:41:35.241Z"
   },
   {
    "duration": 14,
    "start_time": "2023-04-28T12:41:35.249Z"
   },
   {
    "duration": 76,
    "start_time": "2023-04-28T12:41:35.264Z"
   },
   {
    "duration": 4,
    "start_time": "2023-04-28T12:41:35.342Z"
   },
   {
    "duration": 74,
    "start_time": "2023-04-28T12:41:35.352Z"
   },
   {
    "duration": 36,
    "start_time": "2023-04-28T12:41:35.428Z"
   },
   {
    "duration": 15,
    "start_time": "2023-04-28T12:41:35.465Z"
   },
   {
    "duration": 9,
    "start_time": "2023-04-28T12:41:35.482Z"
   },
   {
    "duration": 4,
    "start_time": "2023-04-28T12:41:35.492Z"
   },
   {
    "duration": 7,
    "start_time": "2023-04-28T12:41:35.497Z"
   },
   {
    "duration": 3,
    "start_time": "2023-04-28T12:42:42.443Z"
   },
   {
    "duration": 7,
    "start_time": "2023-04-28T12:42:45.331Z"
   },
   {
    "duration": 3,
    "start_time": "2023-04-28T12:42:45.711Z"
   },
   {
    "duration": 3,
    "start_time": "2023-04-28T12:42:48.340Z"
   },
   {
    "duration": 13,
    "start_time": "2023-04-28T12:42:49.513Z"
   },
   {
    "duration": 4,
    "start_time": "2023-04-28T12:42:51.073Z"
   },
   {
    "duration": 124,
    "start_time": "2023-04-28T12:42:51.457Z"
   },
   {
    "duration": 5,
    "start_time": "2023-04-28T12:45:27.192Z"
   },
   {
    "duration": 4,
    "start_time": "2023-04-28T12:45:28.935Z"
   },
   {
    "duration": 9,
    "start_time": "2023-04-28T12:45:53.694Z"
   },
   {
    "duration": 9,
    "start_time": "2023-04-28T12:46:28.346Z"
   },
   {
    "duration": 14,
    "start_time": "2023-04-28T12:46:43.544Z"
   },
   {
    "duration": 11,
    "start_time": "2023-04-28T12:46:49.468Z"
   },
   {
    "duration": 5,
    "start_time": "2023-04-28T12:46:52.748Z"
   },
   {
    "duration": 7,
    "start_time": "2023-04-28T12:46:53.191Z"
   },
   {
    "duration": 11,
    "start_time": "2023-04-28T12:46:53.952Z"
   },
   {
    "duration": 7,
    "start_time": "2023-04-28T12:47:43.663Z"
   },
   {
    "duration": 3,
    "start_time": "2023-04-28T12:47:45.297Z"
   },
   {
    "duration": 9,
    "start_time": "2023-04-28T12:49:49.722Z"
   },
   {
    "duration": 10,
    "start_time": "2023-04-28T12:50:04.054Z"
   },
   {
    "duration": 9,
    "start_time": "2023-04-28T12:50:16.254Z"
   },
   {
    "duration": 11,
    "start_time": "2023-04-28T12:50:36.575Z"
   },
   {
    "duration": 4,
    "start_time": "2023-04-28T12:50:44.880Z"
   },
   {
    "duration": 2,
    "start_time": "2023-04-28T12:50:56.182Z"
   },
   {
    "duration": 17,
    "start_time": "2023-04-28T12:50:58.342Z"
   },
   {
    "duration": 17,
    "start_time": "2023-04-28T12:53:36.939Z"
   },
   {
    "duration": 50,
    "start_time": "2023-04-28T12:55:32.539Z"
   },
   {
    "duration": 1182,
    "start_time": "2023-04-28T12:55:32.592Z"
   },
   {
    "duration": 30,
    "start_time": "2023-04-28T12:55:33.775Z"
   },
   {
    "duration": 45,
    "start_time": "2023-04-28T12:55:33.806Z"
   },
   {
    "duration": 8,
    "start_time": "2023-04-28T12:55:33.854Z"
   },
   {
    "duration": 7,
    "start_time": "2023-04-28T12:55:33.864Z"
   },
   {
    "duration": 4,
    "start_time": "2023-04-28T12:55:33.872Z"
   },
   {
    "duration": 3,
    "start_time": "2023-04-28T12:55:33.878Z"
   },
   {
    "duration": 39,
    "start_time": "2023-04-28T12:55:33.883Z"
   },
   {
    "duration": 75,
    "start_time": "2023-04-28T12:55:33.928Z"
   },
   {
    "duration": 4,
    "start_time": "2023-04-28T12:55:34.005Z"
   },
   {
    "duration": 6,
    "start_time": "2023-04-28T12:55:34.011Z"
   },
   {
    "duration": 15,
    "start_time": "2023-04-28T12:55:34.018Z"
   },
   {
    "duration": 18,
    "start_time": "2023-04-28T12:55:34.036Z"
   },
   {
    "duration": 6,
    "start_time": "2023-04-28T12:55:34.056Z"
   },
   {
    "duration": 62,
    "start_time": "2023-04-28T12:55:34.064Z"
   },
   {
    "duration": 12,
    "start_time": "2023-04-28T12:55:34.128Z"
   },
   {
    "duration": 9,
    "start_time": "2023-04-28T12:55:34.141Z"
   },
   {
    "duration": 129,
    "start_time": "2023-04-28T12:55:34.152Z"
   },
   {
    "duration": 0,
    "start_time": "2023-04-28T12:55:34.283Z"
   },
   {
    "duration": 4,
    "start_time": "2023-04-28T13:21:18.135Z"
   },
   {
    "duration": 14,
    "start_time": "2023-04-28T13:21:20.036Z"
   },
   {
    "duration": 4,
    "start_time": "2023-04-28T13:29:09.433Z"
   },
   {
    "duration": 5,
    "start_time": "2023-04-28T13:29:11.028Z"
   },
   {
    "duration": 3,
    "start_time": "2023-04-28T13:29:12.544Z"
   },
   {
    "duration": 9,
    "start_time": "2023-04-28T13:29:13.837Z"
   },
   {
    "duration": 4,
    "start_time": "2023-04-28T13:29:21.999Z"
   },
   {
    "duration": 8,
    "start_time": "2023-04-28T13:29:23.931Z"
   },
   {
    "duration": 5,
    "start_time": "2023-04-28T13:30:34.037Z"
   },
   {
    "duration": 8,
    "start_time": "2023-04-28T13:30:34.534Z"
   },
   {
    "duration": 55,
    "start_time": "2023-04-28T13:30:39.673Z"
   },
   {
    "duration": 1065,
    "start_time": "2023-04-28T13:30:39.730Z"
   },
   {
    "duration": 33,
    "start_time": "2023-04-28T13:30:40.797Z"
   },
   {
    "duration": 32,
    "start_time": "2023-04-28T13:30:40.832Z"
   },
   {
    "duration": 7,
    "start_time": "2023-04-28T13:30:40.867Z"
   },
   {
    "duration": 7,
    "start_time": "2023-04-28T13:30:40.876Z"
   },
   {
    "duration": 4,
    "start_time": "2023-04-28T13:30:40.884Z"
   },
   {
    "duration": 28,
    "start_time": "2023-04-28T13:30:40.890Z"
   },
   {
    "duration": 4,
    "start_time": "2023-04-28T13:30:40.920Z"
   },
   {
    "duration": 9,
    "start_time": "2023-04-28T13:30:40.925Z"
   },
   {
    "duration": 11,
    "start_time": "2023-04-28T13:30:40.935Z"
   },
   {
    "duration": 6,
    "start_time": "2023-04-28T13:30:41.017Z"
   },
   {
    "duration": 16,
    "start_time": "2023-04-28T13:30:41.024Z"
   },
   {
    "duration": 3,
    "start_time": "2023-04-28T13:30:41.118Z"
   },
   {
    "duration": 20,
    "start_time": "2023-04-28T13:30:41.122Z"
   },
   {
    "duration": 13,
    "start_time": "2023-04-28T13:30:41.144Z"
   },
   {
    "duration": 9,
    "start_time": "2023-04-28T13:30:41.159Z"
   },
   {
    "duration": 122,
    "start_time": "2023-04-28T13:30:41.169Z"
   },
   {
    "duration": 0,
    "start_time": "2023-04-28T13:30:41.293Z"
   },
   {
    "duration": 3,
    "start_time": "2023-04-28T13:31:31.729Z"
   },
   {
    "duration": 5,
    "start_time": "2023-04-28T13:31:33.941Z"
   },
   {
    "duration": 8,
    "start_time": "2023-04-28T13:33:58.960Z"
   },
   {
    "duration": 9,
    "start_time": "2023-04-28T13:34:17.471Z"
   },
   {
    "duration": 84,
    "start_time": "2023-04-28T13:34:24.114Z"
   },
   {
    "duration": 1109,
    "start_time": "2023-04-28T13:34:24.200Z"
   },
   {
    "duration": 34,
    "start_time": "2023-04-28T13:34:25.310Z"
   },
   {
    "duration": 22,
    "start_time": "2023-04-28T13:34:25.345Z"
   },
   {
    "duration": 7,
    "start_time": "2023-04-28T13:34:25.369Z"
   },
   {
    "duration": 6,
    "start_time": "2023-04-28T13:34:25.377Z"
   },
   {
    "duration": 9,
    "start_time": "2023-04-28T13:34:25.385Z"
   },
   {
    "duration": 4,
    "start_time": "2023-04-28T13:34:25.395Z"
   },
   {
    "duration": 4,
    "start_time": "2023-04-28T13:34:25.400Z"
   },
   {
    "duration": 25,
    "start_time": "2023-04-28T13:34:25.405Z"
   },
   {
    "duration": 7,
    "start_time": "2023-04-28T13:34:25.431Z"
   },
   {
    "duration": 88,
    "start_time": "2023-04-28T13:34:25.440Z"
   },
   {
    "duration": 8,
    "start_time": "2023-04-28T13:34:25.531Z"
   },
   {
    "duration": 187,
    "start_time": "2023-04-28T13:34:25.542Z"
   },
   {
    "duration": 0,
    "start_time": "2023-04-28T13:34:25.730Z"
   },
   {
    "duration": 0,
    "start_time": "2023-04-28T13:34:25.732Z"
   },
   {
    "duration": 0,
    "start_time": "2023-04-28T13:34:25.733Z"
   },
   {
    "duration": 0,
    "start_time": "2023-04-28T13:34:25.735Z"
   },
   {
    "duration": 0,
    "start_time": "2023-04-28T13:34:25.736Z"
   },
   {
    "duration": 0,
    "start_time": "2023-04-28T13:34:25.737Z"
   },
   {
    "duration": 8,
    "start_time": "2023-04-28T13:36:01.455Z"
   },
   {
    "duration": 2,
    "start_time": "2023-04-28T13:37:08.398Z"
   },
   {
    "duration": 8,
    "start_time": "2023-04-28T13:37:10.158Z"
   },
   {
    "duration": 4,
    "start_time": "2023-04-28T13:37:25.888Z"
   },
   {
    "duration": 9,
    "start_time": "2023-04-28T13:37:28.534Z"
   },
   {
    "duration": 4,
    "start_time": "2023-04-28T13:37:56.158Z"
   },
   {
    "duration": 8,
    "start_time": "2023-04-28T13:37:56.829Z"
   },
   {
    "duration": 3,
    "start_time": "2023-04-28T13:38:13.542Z"
   },
   {
    "duration": 7,
    "start_time": "2023-04-28T13:38:14.133Z"
   },
   {
    "duration": 52,
    "start_time": "2023-04-28T13:40:53.115Z"
   },
   {
    "duration": 1061,
    "start_time": "2023-04-28T13:40:53.169Z"
   },
   {
    "duration": 30,
    "start_time": "2023-04-28T13:40:54.232Z"
   },
   {
    "duration": 27,
    "start_time": "2023-04-28T13:40:54.263Z"
   },
   {
    "duration": 7,
    "start_time": "2023-04-28T13:40:54.292Z"
   },
   {
    "duration": 16,
    "start_time": "2023-04-28T13:40:54.301Z"
   },
   {
    "duration": 12,
    "start_time": "2023-04-28T13:40:54.328Z"
   },
   {
    "duration": 10,
    "start_time": "2023-04-28T13:40:54.341Z"
   },
   {
    "duration": 12,
    "start_time": "2023-04-28T13:40:54.352Z"
   },
   {
    "duration": 8,
    "start_time": "2023-04-28T13:40:54.365Z"
   },
   {
    "duration": 52,
    "start_time": "2023-04-28T13:40:54.375Z"
   },
   {
    "duration": 5,
    "start_time": "2023-04-28T13:40:54.429Z"
   },
   {
    "duration": 10,
    "start_time": "2023-04-28T13:40:54.436Z"
   },
   {
    "duration": 9,
    "start_time": "2023-04-28T13:40:54.529Z"
   },
   {
    "duration": 16,
    "start_time": "2023-04-28T13:40:54.540Z"
   },
   {
    "duration": 22,
    "start_time": "2023-04-28T13:40:54.557Z"
   },
   {
    "duration": 3,
    "start_time": "2023-04-28T13:40:54.581Z"
   },
   {
    "duration": 37,
    "start_time": "2023-04-28T13:40:54.585Z"
   },
   {
    "duration": 3,
    "start_time": "2023-04-28T13:42:35.729Z"
   },
   {
    "duration": 4,
    "start_time": "2023-04-28T13:42:53.007Z"
   },
   {
    "duration": 123,
    "start_time": "2023-04-28T13:43:12.013Z"
   },
   {
    "duration": 4,
    "start_time": "2023-04-28T13:43:15.433Z"
   },
   {
    "duration": 3,
    "start_time": "2023-04-28T13:43:17.410Z"
   },
   {
    "duration": 3,
    "start_time": "2023-04-28T13:43:30.440Z"
   },
   {
    "duration": 93,
    "start_time": "2023-04-28T13:46:54.741Z"
   },
   {
    "duration": 5,
    "start_time": "2023-04-28T13:47:14.477Z"
   },
   {
    "duration": 6,
    "start_time": "2023-04-28T13:47:29.742Z"
   },
   {
    "duration": 3,
    "start_time": "2023-04-28T13:47:46.085Z"
   },
   {
    "duration": 12,
    "start_time": "2023-04-28T13:47:47.714Z"
   },
   {
    "duration": 4,
    "start_time": "2023-04-28T13:47:58.208Z"
   },
   {
    "duration": 5,
    "start_time": "2023-04-28T13:47:59.251Z"
   },
   {
    "duration": 4,
    "start_time": "2023-04-28T13:48:08.539Z"
   },
   {
    "duration": 7,
    "start_time": "2023-04-28T13:48:09.239Z"
   },
   {
    "duration": 4,
    "start_time": "2023-04-28T13:48:14.668Z"
   },
   {
    "duration": 5,
    "start_time": "2023-04-28T13:48:16.174Z"
   },
   {
    "duration": 4,
    "start_time": "2023-04-28T13:49:34.159Z"
   },
   {
    "duration": 4,
    "start_time": "2023-04-28T13:49:36.580Z"
   },
   {
    "duration": 3,
    "start_time": "2023-04-28T13:49:36.960Z"
   },
   {
    "duration": 3,
    "start_time": "2023-04-28T13:49:37.403Z"
   },
   {
    "duration": 4,
    "start_time": "2023-04-28T13:49:37.843Z"
   },
   {
    "duration": 3,
    "start_time": "2023-04-28T13:49:41.275Z"
   },
   {
    "duration": 10,
    "start_time": "2023-04-28T13:49:42.238Z"
   },
   {
    "duration": 3,
    "start_time": "2023-04-28T13:49:44.884Z"
   },
   {
    "duration": 5,
    "start_time": "2023-04-28T13:49:45.780Z"
   },
   {
    "duration": 3,
    "start_time": "2023-04-28T13:49:55.541Z"
   },
   {
    "duration": 5,
    "start_time": "2023-04-28T13:49:55.940Z"
   },
   {
    "duration": 74,
    "start_time": "2023-04-28T13:51:18.004Z"
   },
   {
    "duration": 1071,
    "start_time": "2023-04-28T13:51:18.080Z"
   },
   {
    "duration": 29,
    "start_time": "2023-04-28T13:51:19.153Z"
   },
   {
    "duration": 22,
    "start_time": "2023-04-28T13:51:19.184Z"
   },
   {
    "duration": 7,
    "start_time": "2023-04-28T13:51:19.208Z"
   },
   {
    "duration": 26,
    "start_time": "2023-04-28T13:51:19.217Z"
   },
   {
    "duration": 7,
    "start_time": "2023-04-28T13:51:19.245Z"
   },
   {
    "duration": 5,
    "start_time": "2023-04-28T13:51:19.253Z"
   },
   {
    "duration": 9,
    "start_time": "2023-04-28T13:51:19.260Z"
   },
   {
    "duration": 67,
    "start_time": "2023-04-28T13:51:19.271Z"
   },
   {
    "duration": 7,
    "start_time": "2023-04-28T13:51:19.339Z"
   },
   {
    "duration": 86,
    "start_time": "2023-04-28T13:51:19.348Z"
   },
   {
    "duration": 8,
    "start_time": "2023-04-28T13:51:19.436Z"
   },
   {
    "duration": 4,
    "start_time": "2023-04-28T13:51:19.447Z"
   },
   {
    "duration": 9,
    "start_time": "2023-04-28T13:51:19.453Z"
   },
   {
    "duration": 10,
    "start_time": "2023-04-28T13:51:19.463Z"
   },
   {
    "duration": 12,
    "start_time": "2023-04-28T13:51:19.474Z"
   },
   {
    "duration": 13,
    "start_time": "2023-04-28T13:51:19.488Z"
   },
   {
    "duration": 5,
    "start_time": "2023-04-28T13:51:19.502Z"
   },
   {
    "duration": 6,
    "start_time": "2023-04-28T13:51:19.509Z"
   },
   {
    "duration": 26,
    "start_time": "2023-04-28T13:51:19.517Z"
   },
   {
    "duration": 5,
    "start_time": "2023-04-28T13:51:19.548Z"
   },
   {
    "duration": 111,
    "start_time": "2023-04-28T13:55:11.548Z"
   },
   {
    "duration": 3,
    "start_time": "2023-04-28T13:55:16.953Z"
   },
   {
    "duration": 7,
    "start_time": "2023-04-28T13:55:18.104Z"
   },
   {
    "duration": 3,
    "start_time": "2023-04-28T13:55:19.207Z"
   },
   {
    "duration": 4,
    "start_time": "2023-04-28T13:55:19.705Z"
   },
   {
    "duration": 4,
    "start_time": "2023-04-28T13:56:53.689Z"
   },
   {
    "duration": 55,
    "start_time": "2023-04-28T13:56:57.417Z"
   },
   {
    "duration": 1090,
    "start_time": "2023-04-28T13:56:57.474Z"
   },
   {
    "duration": 29,
    "start_time": "2023-04-28T13:56:58.566Z"
   },
   {
    "duration": 39,
    "start_time": "2023-04-28T13:56:58.597Z"
   },
   {
    "duration": 14,
    "start_time": "2023-04-28T13:56:58.639Z"
   },
   {
    "duration": 5,
    "start_time": "2023-04-28T13:56:58.654Z"
   },
   {
    "duration": 4,
    "start_time": "2023-04-28T13:56:58.660Z"
   },
   {
    "duration": 5,
    "start_time": "2023-04-28T13:56:58.665Z"
   },
   {
    "duration": 5,
    "start_time": "2023-04-28T13:56:58.671Z"
   },
   {
    "duration": 58,
    "start_time": "2023-04-28T13:56:58.678Z"
   },
   {
    "duration": 7,
    "start_time": "2023-04-28T13:56:58.737Z"
   },
   {
    "duration": 6,
    "start_time": "2023-04-28T13:56:58.746Z"
   },
   {
    "duration": 12,
    "start_time": "2023-04-28T13:56:58.826Z"
   },
   {
    "duration": 14,
    "start_time": "2023-04-28T13:56:58.841Z"
   },
   {
    "duration": 7,
    "start_time": "2023-04-28T13:56:58.857Z"
   },
   {
    "duration": 7,
    "start_time": "2023-04-28T13:56:58.865Z"
   },
   {
    "duration": 3,
    "start_time": "2023-04-28T13:56:58.873Z"
   },
   {
    "duration": 9,
    "start_time": "2023-04-28T13:56:58.877Z"
   },
   {
    "duration": 6,
    "start_time": "2023-04-28T13:56:58.888Z"
   },
   {
    "duration": 5,
    "start_time": "2023-04-28T13:56:58.896Z"
   },
   {
    "duration": 2,
    "start_time": "2023-04-28T13:56:58.903Z"
   },
   {
    "duration": 7,
    "start_time": "2023-04-28T13:56:58.930Z"
   },
   {
    "duration": 9,
    "start_time": "2023-04-28T13:57:18.919Z"
   },
   {
    "duration": 61,
    "start_time": "2023-04-28T13:57:22.315Z"
   },
   {
    "duration": 1051,
    "start_time": "2023-04-28T13:57:22.378Z"
   },
   {
    "duration": 31,
    "start_time": "2023-04-28T13:57:23.439Z"
   },
   {
    "duration": 22,
    "start_time": "2023-04-28T13:57:23.472Z"
   },
   {
    "duration": 16,
    "start_time": "2023-04-28T13:57:23.495Z"
   },
   {
    "duration": 34,
    "start_time": "2023-04-28T13:57:23.512Z"
   },
   {
    "duration": 13,
    "start_time": "2023-04-28T13:57:23.548Z"
   },
   {
    "duration": 27,
    "start_time": "2023-04-28T13:57:23.562Z"
   },
   {
    "duration": 8,
    "start_time": "2023-04-28T13:57:23.590Z"
   },
   {
    "duration": 29,
    "start_time": "2023-04-28T13:57:23.601Z"
   },
   {
    "duration": 10,
    "start_time": "2023-04-28T13:57:23.632Z"
   },
   {
    "duration": 199,
    "start_time": "2023-04-28T13:57:23.646Z"
   },
   {
    "duration": 0,
    "start_time": "2023-04-28T13:57:23.846Z"
   },
   {
    "duration": 0,
    "start_time": "2023-04-28T13:57:23.848Z"
   },
   {
    "duration": 0,
    "start_time": "2023-04-28T13:57:23.849Z"
   },
   {
    "duration": 0,
    "start_time": "2023-04-28T13:57:23.850Z"
   },
   {
    "duration": 0,
    "start_time": "2023-04-28T13:57:23.852Z"
   },
   {
    "duration": 0,
    "start_time": "2023-04-28T13:57:23.854Z"
   },
   {
    "duration": 0,
    "start_time": "2023-04-28T13:57:23.855Z"
   },
   {
    "duration": 0,
    "start_time": "2023-04-28T13:57:23.856Z"
   },
   {
    "duration": 0,
    "start_time": "2023-04-28T13:57:23.858Z"
   },
   {
    "duration": 1,
    "start_time": "2023-04-28T13:57:23.859Z"
   },
   {
    "duration": 6,
    "start_time": "2023-04-28T13:57:40.845Z"
   },
   {
    "duration": 4,
    "start_time": "2023-04-28T13:57:41.886Z"
   },
   {
    "duration": 4,
    "start_time": "2023-04-28T13:57:42.310Z"
   },
   {
    "duration": 4,
    "start_time": "2023-04-28T13:57:42.806Z"
   },
   {
    "duration": 3,
    "start_time": "2023-04-28T13:57:43.302Z"
   },
   {
    "duration": 2,
    "start_time": "2023-04-28T13:57:46.165Z"
   },
   {
    "duration": 8,
    "start_time": "2023-04-28T13:57:48.545Z"
   },
   {
    "duration": 4,
    "start_time": "2023-04-28T13:57:56.097Z"
   },
   {
    "duration": 6,
    "start_time": "2023-04-28T13:57:56.804Z"
   },
   {
    "duration": 3,
    "start_time": "2023-04-28T14:17:23.796Z"
   },
   {
    "duration": 10,
    "start_time": "2023-04-28T14:17:24.312Z"
   },
   {
    "duration": 4,
    "start_time": "2023-04-28T14:19:10.398Z"
   },
   {
    "duration": 5,
    "start_time": "2023-04-28T14:19:10.862Z"
   },
   {
    "duration": 56,
    "start_time": "2023-04-28T14:19:14.251Z"
   },
   {
    "duration": 1354,
    "start_time": "2023-04-28T14:19:14.309Z"
   },
   {
    "duration": 29,
    "start_time": "2023-04-28T14:19:15.665Z"
   },
   {
    "duration": 54,
    "start_time": "2023-04-28T14:19:15.696Z"
   },
   {
    "duration": 9,
    "start_time": "2023-04-28T14:19:15.753Z"
   },
   {
    "duration": 24,
    "start_time": "2023-04-28T14:19:15.764Z"
   },
   {
    "duration": 11,
    "start_time": "2023-04-28T14:19:15.790Z"
   },
   {
    "duration": 27,
    "start_time": "2023-04-28T14:19:15.803Z"
   },
   {
    "duration": 11,
    "start_time": "2023-04-28T14:19:15.843Z"
   },
   {
    "duration": 10,
    "start_time": "2023-04-28T14:19:15.856Z"
   },
   {
    "duration": 60,
    "start_time": "2023-04-28T14:19:15.868Z"
   },
   {
    "duration": 19,
    "start_time": "2023-04-28T14:19:15.930Z"
   },
   {
    "duration": 6,
    "start_time": "2023-04-28T14:19:15.951Z"
   },
   {
    "duration": 4,
    "start_time": "2023-04-28T14:19:15.960Z"
   },
   {
    "duration": 64,
    "start_time": "2023-04-28T14:19:15.966Z"
   },
   {
    "duration": 4,
    "start_time": "2023-04-28T14:19:16.032Z"
   },
   {
    "duration": 8,
    "start_time": "2023-04-28T14:19:16.042Z"
   },
   {
    "duration": 2,
    "start_time": "2023-04-28T14:19:16.052Z"
   },
   {
    "duration": 10,
    "start_time": "2023-04-28T14:19:16.059Z"
   },
   {
    "duration": 6,
    "start_time": "2023-04-28T14:19:16.071Z"
   },
   {
    "duration": 51,
    "start_time": "2023-04-28T14:19:16.079Z"
   },
   {
    "duration": 5,
    "start_time": "2023-04-28T14:19:16.135Z"
   },
   {
    "duration": 5,
    "start_time": "2023-04-28T14:20:00.061Z"
   },
   {
    "duration": 91,
    "start_time": "2023-04-28T14:20:04.372Z"
   },
   {
    "duration": 1110,
    "start_time": "2023-04-28T14:20:04.465Z"
   },
   {
    "duration": 31,
    "start_time": "2023-04-28T14:20:05.577Z"
   },
   {
    "duration": 45,
    "start_time": "2023-04-28T14:20:05.610Z"
   },
   {
    "duration": 8,
    "start_time": "2023-04-28T14:20:05.657Z"
   },
   {
    "duration": 6,
    "start_time": "2023-04-28T14:20:05.667Z"
   },
   {
    "duration": 10,
    "start_time": "2023-04-28T14:20:05.675Z"
   },
   {
    "duration": 14,
    "start_time": "2023-04-28T14:20:05.687Z"
   },
   {
    "duration": 39,
    "start_time": "2023-04-28T14:20:05.703Z"
   },
   {
    "duration": 5,
    "start_time": "2023-04-28T14:20:05.744Z"
   },
   {
    "duration": 5,
    "start_time": "2023-04-28T14:20:05.752Z"
   },
   {
    "duration": 77,
    "start_time": "2023-04-28T14:20:05.758Z"
   },
   {
    "duration": 10,
    "start_time": "2023-04-28T14:20:05.843Z"
   },
   {
    "duration": 80,
    "start_time": "2023-04-28T14:20:05.854Z"
   },
   {
    "duration": 18,
    "start_time": "2023-04-28T14:20:05.935Z"
   },
   {
    "duration": 17,
    "start_time": "2023-04-28T14:20:05.955Z"
   },
   {
    "duration": 15,
    "start_time": "2023-04-28T14:20:05.974Z"
   },
   {
    "duration": 45,
    "start_time": "2023-04-28T14:20:05.991Z"
   },
   {
    "duration": 4,
    "start_time": "2023-04-28T14:20:52.746Z"
   },
   {
    "duration": 5,
    "start_time": "2023-04-28T14:20:55.102Z"
   },
   {
    "duration": 54,
    "start_time": "2023-04-28T14:20:57.944Z"
   },
   {
    "duration": 1088,
    "start_time": "2023-04-28T14:20:58.000Z"
   },
   {
    "duration": 40,
    "start_time": "2023-04-28T14:20:59.090Z"
   },
   {
    "duration": 27,
    "start_time": "2023-04-28T14:20:59.132Z"
   },
   {
    "duration": 7,
    "start_time": "2023-04-28T14:20:59.161Z"
   },
   {
    "duration": 8,
    "start_time": "2023-04-28T14:20:59.170Z"
   },
   {
    "duration": 6,
    "start_time": "2023-04-28T14:20:59.180Z"
   },
   {
    "duration": 5,
    "start_time": "2023-04-28T14:20:59.188Z"
   },
   {
    "duration": 38,
    "start_time": "2023-04-28T14:20:59.195Z"
   },
   {
    "duration": 11,
    "start_time": "2023-04-28T14:20:59.234Z"
   },
   {
    "duration": 79,
    "start_time": "2023-04-28T14:20:59.252Z"
   },
   {
    "duration": 7,
    "start_time": "2023-04-28T14:20:59.339Z"
   },
   {
    "duration": 11,
    "start_time": "2023-04-28T14:20:59.349Z"
   },
   {
    "duration": 12,
    "start_time": "2023-04-28T14:20:59.362Z"
   },
   {
    "duration": 10,
    "start_time": "2023-04-28T14:20:59.376Z"
   },
   {
    "duration": 8,
    "start_time": "2023-04-28T14:20:59.387Z"
   },
   {
    "duration": 6,
    "start_time": "2023-04-28T14:20:59.422Z"
   },
   {
    "duration": 9,
    "start_time": "2023-04-28T14:20:59.429Z"
   },
   {
    "duration": 69,
    "start_time": "2023-04-28T14:24:33.242Z"
   },
   {
    "duration": 1131,
    "start_time": "2023-04-28T14:24:33.314Z"
   },
   {
    "duration": 29,
    "start_time": "2023-04-28T14:24:34.447Z"
   },
   {
    "duration": 22,
    "start_time": "2023-04-28T14:24:34.478Z"
   },
   {
    "duration": 7,
    "start_time": "2023-04-28T14:24:34.502Z"
   },
   {
    "duration": 5,
    "start_time": "2023-04-28T14:24:34.511Z"
   },
   {
    "duration": 5,
    "start_time": "2023-04-28T14:24:34.535Z"
   },
   {
    "duration": 7,
    "start_time": "2023-04-28T14:24:34.543Z"
   },
   {
    "duration": 7,
    "start_time": "2023-04-28T14:24:34.552Z"
   },
   {
    "duration": 4,
    "start_time": "2023-04-28T14:24:34.562Z"
   },
   {
    "duration": 63,
    "start_time": "2023-04-28T14:24:34.567Z"
   },
   {
    "duration": 10,
    "start_time": "2023-04-28T14:24:34.632Z"
   },
   {
    "duration": 8,
    "start_time": "2023-04-28T14:24:34.644Z"
   },
   {
    "duration": 83,
    "start_time": "2023-04-28T14:24:34.655Z"
   },
   {
    "duration": 8,
    "start_time": "2023-04-28T14:24:34.743Z"
   },
   {
    "duration": 7,
    "start_time": "2023-04-28T14:24:34.753Z"
   },
   {
    "duration": 3,
    "start_time": "2023-04-28T14:24:34.761Z"
   },
   {
    "duration": 4,
    "start_time": "2023-04-28T14:24:34.766Z"
   },
   {
    "duration": 72,
    "start_time": "2023-04-28T14:25:30.581Z"
   },
   {
    "duration": 1118,
    "start_time": "2023-04-28T14:25:30.655Z"
   },
   {
    "duration": 29,
    "start_time": "2023-04-28T14:25:31.775Z"
   },
   {
    "duration": 23,
    "start_time": "2023-04-28T14:25:31.805Z"
   },
   {
    "duration": 18,
    "start_time": "2023-04-28T14:25:31.830Z"
   },
   {
    "duration": 21,
    "start_time": "2023-04-28T14:25:31.850Z"
   },
   {
    "duration": 16,
    "start_time": "2023-04-28T14:25:31.872Z"
   },
   {
    "duration": 45,
    "start_time": "2023-04-28T14:25:31.889Z"
   },
   {
    "duration": 16,
    "start_time": "2023-04-28T14:25:31.935Z"
   },
   {
    "duration": 83,
    "start_time": "2023-04-28T14:25:31.953Z"
   },
   {
    "duration": 12,
    "start_time": "2023-04-28T14:25:32.040Z"
   },
   {
    "duration": 85,
    "start_time": "2023-04-28T14:25:32.054Z"
   },
   {
    "duration": 11,
    "start_time": "2023-04-28T14:25:32.141Z"
   },
   {
    "duration": 6,
    "start_time": "2023-04-28T14:25:32.154Z"
   },
   {
    "duration": 12,
    "start_time": "2023-04-28T14:25:32.161Z"
   },
   {
    "duration": 9,
    "start_time": "2023-04-28T14:25:32.174Z"
   },
   {
    "duration": 37,
    "start_time": "2023-04-28T14:25:32.185Z"
   },
   {
    "duration": 10,
    "start_time": "2023-04-28T14:25:32.224Z"
   },
   {
    "duration": 4,
    "start_time": "2023-04-28T14:25:49.411Z"
   },
   {
    "duration": 59,
    "start_time": "2023-04-28T14:25:56.947Z"
   },
   {
    "duration": 1192,
    "start_time": "2023-04-28T14:25:57.009Z"
   },
   {
    "duration": 46,
    "start_time": "2023-04-28T14:25:58.203Z"
   },
   {
    "duration": 23,
    "start_time": "2023-04-28T14:25:58.251Z"
   },
   {
    "duration": 6,
    "start_time": "2023-04-28T14:25:58.276Z"
   },
   {
    "duration": 5,
    "start_time": "2023-04-28T14:25:58.283Z"
   },
   {
    "duration": 7,
    "start_time": "2023-04-28T14:25:58.289Z"
   },
   {
    "duration": 4,
    "start_time": "2023-04-28T14:25:58.298Z"
   },
   {
    "duration": 38,
    "start_time": "2023-04-28T14:25:58.304Z"
   },
   {
    "duration": 5,
    "start_time": "2023-04-28T14:25:58.351Z"
   },
   {
    "duration": 88,
    "start_time": "2023-04-28T14:25:58.358Z"
   },
   {
    "duration": 6,
    "start_time": "2023-04-28T14:25:58.451Z"
   },
   {
    "duration": 5,
    "start_time": "2023-04-28T14:25:58.459Z"
   },
   {
    "duration": 3,
    "start_time": "2023-04-28T14:25:58.468Z"
   },
   {
    "duration": 51,
    "start_time": "2023-04-28T14:25:58.472Z"
   },
   {
    "duration": 15,
    "start_time": "2023-04-28T14:25:58.526Z"
   },
   {
    "duration": 5,
    "start_time": "2023-04-28T14:25:58.543Z"
   },
   {
    "duration": 6,
    "start_time": "2023-04-28T14:25:58.550Z"
   },
   {
    "duration": 6,
    "start_time": "2023-04-28T14:26:51.750Z"
   },
   {
    "duration": 65,
    "start_time": "2023-04-28T14:26:57.273Z"
   },
   {
    "duration": 1108,
    "start_time": "2023-04-28T14:26:57.340Z"
   },
   {
    "duration": 30,
    "start_time": "2023-04-28T14:26:58.449Z"
   },
   {
    "duration": 22,
    "start_time": "2023-04-28T14:26:58.481Z"
   },
   {
    "duration": 7,
    "start_time": "2023-04-28T14:26:58.504Z"
   },
   {
    "duration": 26,
    "start_time": "2023-04-28T14:26:58.512Z"
   },
   {
    "duration": 4,
    "start_time": "2023-04-28T14:26:58.544Z"
   },
   {
    "duration": 8,
    "start_time": "2023-04-28T14:26:58.549Z"
   },
   {
    "duration": 12,
    "start_time": "2023-04-28T14:26:58.558Z"
   },
   {
    "duration": 7,
    "start_time": "2023-04-28T14:26:58.572Z"
   },
   {
    "duration": 54,
    "start_time": "2023-04-28T14:26:58.580Z"
   },
   {
    "duration": 14,
    "start_time": "2023-04-28T14:26:58.635Z"
   },
   {
    "duration": 83,
    "start_time": "2023-04-28T14:26:58.651Z"
   },
   {
    "duration": 16,
    "start_time": "2023-04-28T14:26:58.735Z"
   },
   {
    "duration": 22,
    "start_time": "2023-04-28T14:26:58.752Z"
   },
   {
    "duration": 10,
    "start_time": "2023-04-28T14:26:58.775Z"
   },
   {
    "duration": 3,
    "start_time": "2023-04-28T14:26:58.786Z"
   },
   {
    "duration": 5,
    "start_time": "2023-04-28T14:26:58.791Z"
   },
   {
    "duration": 49,
    "start_time": "2023-04-28T14:34:40.844Z"
   },
   {
    "duration": 1049,
    "start_time": "2023-04-28T14:34:40.894Z"
   },
   {
    "duration": 29,
    "start_time": "2023-04-28T14:34:41.945Z"
   },
   {
    "duration": 24,
    "start_time": "2023-04-28T14:34:41.977Z"
   },
   {
    "duration": 6,
    "start_time": "2023-04-28T14:34:42.003Z"
   },
   {
    "duration": 13,
    "start_time": "2023-04-28T14:34:42.010Z"
   },
   {
    "duration": 4,
    "start_time": "2023-04-28T14:34:42.032Z"
   },
   {
    "duration": 10,
    "start_time": "2023-04-28T14:34:42.039Z"
   },
   {
    "duration": 11,
    "start_time": "2023-04-28T14:34:42.050Z"
   },
   {
    "duration": 5,
    "start_time": "2023-04-28T14:34:42.063Z"
   },
   {
    "duration": 68,
    "start_time": "2023-04-28T14:34:42.070Z"
   },
   {
    "duration": 10,
    "start_time": "2023-04-28T14:34:42.140Z"
   },
   {
    "duration": 70,
    "start_time": "2023-04-28T14:34:42.152Z"
   },
   {
    "duration": 6,
    "start_time": "2023-04-28T14:34:42.224Z"
   },
   {
    "duration": 14,
    "start_time": "2023-04-28T14:34:42.232Z"
   },
   {
    "duration": 8,
    "start_time": "2023-04-28T14:34:42.248Z"
   },
   {
    "duration": 3,
    "start_time": "2023-04-28T14:34:42.257Z"
   },
   {
    "duration": 64,
    "start_time": "2023-04-28T14:34:42.262Z"
   },
   {
    "duration": 6,
    "start_time": "2023-04-28T14:35:07.739Z"
   },
   {
    "duration": 49,
    "start_time": "2023-04-28T14:35:10.942Z"
   },
   {
    "duration": 1145,
    "start_time": "2023-04-28T14:35:10.993Z"
   },
   {
    "duration": 30,
    "start_time": "2023-04-28T14:35:12.140Z"
   },
   {
    "duration": 22,
    "start_time": "2023-04-28T14:35:12.171Z"
   },
   {
    "duration": 6,
    "start_time": "2023-04-28T14:35:12.195Z"
   },
   {
    "duration": 5,
    "start_time": "2023-04-28T14:35:12.202Z"
   },
   {
    "duration": 30,
    "start_time": "2023-04-28T14:35:12.208Z"
   },
   {
    "duration": 6,
    "start_time": "2023-04-28T14:35:12.240Z"
   },
   {
    "duration": 7,
    "start_time": "2023-04-28T14:35:12.247Z"
   },
   {
    "duration": 6,
    "start_time": "2023-04-28T14:35:12.255Z"
   },
   {
    "duration": 67,
    "start_time": "2023-04-28T14:35:12.263Z"
   },
   {
    "duration": 16,
    "start_time": "2023-04-28T14:35:12.331Z"
   },
   {
    "duration": 3,
    "start_time": "2023-04-28T14:35:12.349Z"
   },
   {
    "duration": 20,
    "start_time": "2023-04-28T14:35:12.424Z"
   },
   {
    "duration": 5,
    "start_time": "2023-04-28T14:35:12.446Z"
   },
   {
    "duration": 8,
    "start_time": "2023-04-28T14:35:12.452Z"
   },
   {
    "duration": 3,
    "start_time": "2023-04-28T14:35:12.461Z"
   },
   {
    "duration": 68,
    "start_time": "2023-04-28T14:35:12.466Z"
   },
   {
    "duration": 48,
    "start_time": "2023-04-28T14:35:25.857Z"
   },
   {
    "duration": 1140,
    "start_time": "2023-04-28T14:35:25.907Z"
   },
   {
    "duration": 32,
    "start_time": "2023-04-28T14:35:27.049Z"
   },
   {
    "duration": 27,
    "start_time": "2023-04-28T14:35:27.085Z"
   },
   {
    "duration": 24,
    "start_time": "2023-04-28T14:35:27.114Z"
   },
   {
    "duration": 8,
    "start_time": "2023-04-28T14:35:27.145Z"
   },
   {
    "duration": 10,
    "start_time": "2023-04-28T14:35:27.154Z"
   },
   {
    "duration": 5,
    "start_time": "2023-04-28T14:35:27.166Z"
   },
   {
    "duration": 9,
    "start_time": "2023-04-28T14:35:27.172Z"
   },
   {
    "duration": 7,
    "start_time": "2023-04-28T14:35:27.183Z"
   },
   {
    "duration": 9,
    "start_time": "2023-04-28T14:35:27.223Z"
   },
   {
    "duration": 18,
    "start_time": "2023-04-28T14:35:27.233Z"
   },
   {
    "duration": 77,
    "start_time": "2023-04-28T14:35:27.253Z"
   },
   {
    "duration": 19,
    "start_time": "2023-04-28T14:35:27.332Z"
   },
   {
    "duration": 7,
    "start_time": "2023-04-28T14:35:27.353Z"
   },
   {
    "duration": 8,
    "start_time": "2023-04-28T14:35:27.362Z"
   },
   {
    "duration": 3,
    "start_time": "2023-04-28T14:35:27.372Z"
   },
   {
    "duration": 61,
    "start_time": "2023-04-28T14:35:27.377Z"
   }
  ],
  "kernelspec": {
   "display_name": "Python 3 (ipykernel)",
   "language": "python",
   "name": "python3"
  },
  "language_info": {
   "codemirror_mode": {
    "name": "ipython",
    "version": 3
   },
   "file_extension": ".py",
   "mimetype": "text/x-python",
   "name": "python",
   "nbconvert_exporter": "python",
   "pygments_lexer": "ipython3",
   "version": "3.9.5"
  },
  "toc": {
   "base_numbering": 1,
   "nav_menu": {},
   "number_sections": true,
   "sideBar": true,
   "skip_h1_title": true,
   "title_cell": "Содержание",
   "title_sidebar": "Contents",
   "toc_cell": true,
   "toc_position": {
    "height": "calc(100% - 180px)",
    "left": "10px",
    "top": "150px",
    "width": "165px"
   },
   "toc_section_display": true,
   "toc_window_display": true
  }
 },
 "nbformat": 4,
 "nbformat_minor": 2
}
