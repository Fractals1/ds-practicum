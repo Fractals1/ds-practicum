{
 "cells": [
  {
   "cell_type": "markdown",
   "id": "1f2a8d0a",
   "metadata": {
    "deletable": false,
    "editable": false,
    "id": "c81daeeb"
   },
   "source": [
    "# Исследование надежности заемщиков\n"
   ]
  },
  {
   "cell_type": "markdown",
   "id": "140e0654",
   "metadata": {
    "deletable": false,
    "editable": false,
    "id": "827c20bf"
   },
   "source": [
    "Во второй части проекта вы выполните шаги 3 и 4. Их вручную проверит ревьюер.\n",
    "Чтобы вам не пришлось писать код заново для шагов 1 и 2, мы добавили авторские решения в ячейки с кодом. \n",
    "\n"
   ]
  },
  {
   "cell_type": "markdown",
   "id": "d9fdefda",
   "metadata": {
    "deletable": false,
    "editable": false,
    "id": "744d7639"
   },
   "source": [
    "## Откройте таблицу и изучите общую информацию о данных"
   ]
  },
  {
   "cell_type": "markdown",
   "id": "3d111631",
   "metadata": {
    "deletable": false,
    "editable": false,
    "id": "e7a14c31"
   },
   "source": [
    "**Задание 1. Импортируйте библиотеку pandas. Считайте данные из csv-файла в датафрейм и сохраните в переменную `data`. Путь к файлу:**\n",
    "\n",
    "`/datasets/data.csv`"
   ]
  },
  {
   "cell_type": "code",
   "execution_count": 1,
   "id": "0443b7c2",
   "metadata": {
    "deletable": false,
    "id": "7bcf75c9"
   },
   "outputs": [],
   "source": [
    "import pandas as pd\n",
    "\n",
    "try:\n",
    "    data = pd.read_csv('/datasets/data.csv')\n",
    "except:\n",
    "    data = pd.read_csv('https://code.s3.yandex.net/datasets/data.csv')"
   ]
  },
  {
   "cell_type": "markdown",
   "id": "7def5dd3",
   "metadata": {
    "deletable": false,
    "editable": false,
    "id": "b8038fe3"
   },
   "source": [
    "**Задание 2. Выведите первые 20 строчек датафрейма `data` на экран.**"
   ]
  },
  {
   "cell_type": "code",
   "execution_count": 2,
   "id": "bd4adbc3",
   "metadata": {
    "deletable": false,
    "id": "2a7cab99",
    "outputId": "1a8f3ef2-d323-4ec2-ddf7-89670b5944c4"
   },
   "outputs": [
    {
     "data": {
      "text/html": [
       "<div>\n",
       "<style scoped>\n",
       "    .dataframe tbody tr th:only-of-type {\n",
       "        vertical-align: middle;\n",
       "    }\n",
       "\n",
       "    .dataframe tbody tr th {\n",
       "        vertical-align: top;\n",
       "    }\n",
       "\n",
       "    .dataframe thead th {\n",
       "        text-align: right;\n",
       "    }\n",
       "</style>\n",
       "<table border=\"1\" class=\"dataframe\">\n",
       "  <thead>\n",
       "    <tr style=\"text-align: right;\">\n",
       "      <th></th>\n",
       "      <th>children</th>\n",
       "      <th>days_employed</th>\n",
       "      <th>dob_years</th>\n",
       "      <th>education</th>\n",
       "      <th>education_id</th>\n",
       "      <th>family_status</th>\n",
       "      <th>family_status_id</th>\n",
       "      <th>gender</th>\n",
       "      <th>income_type</th>\n",
       "      <th>debt</th>\n",
       "      <th>total_income</th>\n",
       "      <th>purpose</th>\n",
       "    </tr>\n",
       "  </thead>\n",
       "  <tbody>\n",
       "    <tr>\n",
       "      <th>0</th>\n",
       "      <td>1</td>\n",
       "      <td>-8437.673028</td>\n",
       "      <td>42</td>\n",
       "      <td>высшее</td>\n",
       "      <td>0</td>\n",
       "      <td>женат / замужем</td>\n",
       "      <td>0</td>\n",
       "      <td>F</td>\n",
       "      <td>сотрудник</td>\n",
       "      <td>0</td>\n",
       "      <td>253875.639453</td>\n",
       "      <td>покупка жилья</td>\n",
       "    </tr>\n",
       "    <tr>\n",
       "      <th>1</th>\n",
       "      <td>1</td>\n",
       "      <td>-4024.803754</td>\n",
       "      <td>36</td>\n",
       "      <td>среднее</td>\n",
       "      <td>1</td>\n",
       "      <td>женат / замужем</td>\n",
       "      <td>0</td>\n",
       "      <td>F</td>\n",
       "      <td>сотрудник</td>\n",
       "      <td>0</td>\n",
       "      <td>112080.014102</td>\n",
       "      <td>приобретение автомобиля</td>\n",
       "    </tr>\n",
       "    <tr>\n",
       "      <th>2</th>\n",
       "      <td>0</td>\n",
       "      <td>-5623.422610</td>\n",
       "      <td>33</td>\n",
       "      <td>Среднее</td>\n",
       "      <td>1</td>\n",
       "      <td>женат / замужем</td>\n",
       "      <td>0</td>\n",
       "      <td>M</td>\n",
       "      <td>сотрудник</td>\n",
       "      <td>0</td>\n",
       "      <td>145885.952297</td>\n",
       "      <td>покупка жилья</td>\n",
       "    </tr>\n",
       "    <tr>\n",
       "      <th>3</th>\n",
       "      <td>3</td>\n",
       "      <td>-4124.747207</td>\n",
       "      <td>32</td>\n",
       "      <td>среднее</td>\n",
       "      <td>1</td>\n",
       "      <td>женат / замужем</td>\n",
       "      <td>0</td>\n",
       "      <td>M</td>\n",
       "      <td>сотрудник</td>\n",
       "      <td>0</td>\n",
       "      <td>267628.550329</td>\n",
       "      <td>дополнительное образование</td>\n",
       "    </tr>\n",
       "    <tr>\n",
       "      <th>4</th>\n",
       "      <td>0</td>\n",
       "      <td>340266.072047</td>\n",
       "      <td>53</td>\n",
       "      <td>среднее</td>\n",
       "      <td>1</td>\n",
       "      <td>гражданский брак</td>\n",
       "      <td>1</td>\n",
       "      <td>F</td>\n",
       "      <td>пенсионер</td>\n",
       "      <td>0</td>\n",
       "      <td>158616.077870</td>\n",
       "      <td>сыграть свадьбу</td>\n",
       "    </tr>\n",
       "    <tr>\n",
       "      <th>5</th>\n",
       "      <td>0</td>\n",
       "      <td>-926.185831</td>\n",
       "      <td>27</td>\n",
       "      <td>высшее</td>\n",
       "      <td>0</td>\n",
       "      <td>гражданский брак</td>\n",
       "      <td>1</td>\n",
       "      <td>M</td>\n",
       "      <td>компаньон</td>\n",
       "      <td>0</td>\n",
       "      <td>255763.565419</td>\n",
       "      <td>покупка жилья</td>\n",
       "    </tr>\n",
       "    <tr>\n",
       "      <th>6</th>\n",
       "      <td>0</td>\n",
       "      <td>-2879.202052</td>\n",
       "      <td>43</td>\n",
       "      <td>высшее</td>\n",
       "      <td>0</td>\n",
       "      <td>женат / замужем</td>\n",
       "      <td>0</td>\n",
       "      <td>F</td>\n",
       "      <td>компаньон</td>\n",
       "      <td>0</td>\n",
       "      <td>240525.971920</td>\n",
       "      <td>операции с жильем</td>\n",
       "    </tr>\n",
       "    <tr>\n",
       "      <th>7</th>\n",
       "      <td>0</td>\n",
       "      <td>-152.779569</td>\n",
       "      <td>50</td>\n",
       "      <td>СРЕДНЕЕ</td>\n",
       "      <td>1</td>\n",
       "      <td>женат / замужем</td>\n",
       "      <td>0</td>\n",
       "      <td>M</td>\n",
       "      <td>сотрудник</td>\n",
       "      <td>0</td>\n",
       "      <td>135823.934197</td>\n",
       "      <td>образование</td>\n",
       "    </tr>\n",
       "    <tr>\n",
       "      <th>8</th>\n",
       "      <td>2</td>\n",
       "      <td>-6929.865299</td>\n",
       "      <td>35</td>\n",
       "      <td>ВЫСШЕЕ</td>\n",
       "      <td>0</td>\n",
       "      <td>гражданский брак</td>\n",
       "      <td>1</td>\n",
       "      <td>F</td>\n",
       "      <td>сотрудник</td>\n",
       "      <td>0</td>\n",
       "      <td>95856.832424</td>\n",
       "      <td>на проведение свадьбы</td>\n",
       "    </tr>\n",
       "    <tr>\n",
       "      <th>9</th>\n",
       "      <td>0</td>\n",
       "      <td>-2188.756445</td>\n",
       "      <td>41</td>\n",
       "      <td>среднее</td>\n",
       "      <td>1</td>\n",
       "      <td>женат / замужем</td>\n",
       "      <td>0</td>\n",
       "      <td>M</td>\n",
       "      <td>сотрудник</td>\n",
       "      <td>0</td>\n",
       "      <td>144425.938277</td>\n",
       "      <td>покупка жилья для семьи</td>\n",
       "    </tr>\n",
       "    <tr>\n",
       "      <th>10</th>\n",
       "      <td>2</td>\n",
       "      <td>-4171.483647</td>\n",
       "      <td>36</td>\n",
       "      <td>высшее</td>\n",
       "      <td>0</td>\n",
       "      <td>женат / замужем</td>\n",
       "      <td>0</td>\n",
       "      <td>M</td>\n",
       "      <td>компаньон</td>\n",
       "      <td>0</td>\n",
       "      <td>113943.491460</td>\n",
       "      <td>покупка недвижимости</td>\n",
       "    </tr>\n",
       "    <tr>\n",
       "      <th>11</th>\n",
       "      <td>0</td>\n",
       "      <td>-792.701887</td>\n",
       "      <td>40</td>\n",
       "      <td>среднее</td>\n",
       "      <td>1</td>\n",
       "      <td>женат / замужем</td>\n",
       "      <td>0</td>\n",
       "      <td>F</td>\n",
       "      <td>сотрудник</td>\n",
       "      <td>0</td>\n",
       "      <td>77069.234271</td>\n",
       "      <td>покупка коммерческой недвижимости</td>\n",
       "    </tr>\n",
       "    <tr>\n",
       "      <th>12</th>\n",
       "      <td>0</td>\n",
       "      <td>NaN</td>\n",
       "      <td>65</td>\n",
       "      <td>среднее</td>\n",
       "      <td>1</td>\n",
       "      <td>гражданский брак</td>\n",
       "      <td>1</td>\n",
       "      <td>M</td>\n",
       "      <td>пенсионер</td>\n",
       "      <td>0</td>\n",
       "      <td>NaN</td>\n",
       "      <td>сыграть свадьбу</td>\n",
       "    </tr>\n",
       "    <tr>\n",
       "      <th>13</th>\n",
       "      <td>0</td>\n",
       "      <td>-1846.641941</td>\n",
       "      <td>54</td>\n",
       "      <td>неоконченное высшее</td>\n",
       "      <td>2</td>\n",
       "      <td>женат / замужем</td>\n",
       "      <td>0</td>\n",
       "      <td>F</td>\n",
       "      <td>сотрудник</td>\n",
       "      <td>0</td>\n",
       "      <td>130458.228857</td>\n",
       "      <td>приобретение автомобиля</td>\n",
       "    </tr>\n",
       "    <tr>\n",
       "      <th>14</th>\n",
       "      <td>0</td>\n",
       "      <td>-1844.956182</td>\n",
       "      <td>56</td>\n",
       "      <td>высшее</td>\n",
       "      <td>0</td>\n",
       "      <td>гражданский брак</td>\n",
       "      <td>1</td>\n",
       "      <td>F</td>\n",
       "      <td>компаньон</td>\n",
       "      <td>1</td>\n",
       "      <td>165127.911772</td>\n",
       "      <td>покупка жилой недвижимости</td>\n",
       "    </tr>\n",
       "    <tr>\n",
       "      <th>15</th>\n",
       "      <td>1</td>\n",
       "      <td>-972.364419</td>\n",
       "      <td>26</td>\n",
       "      <td>среднее</td>\n",
       "      <td>1</td>\n",
       "      <td>женат / замужем</td>\n",
       "      <td>0</td>\n",
       "      <td>F</td>\n",
       "      <td>сотрудник</td>\n",
       "      <td>0</td>\n",
       "      <td>116820.904450</td>\n",
       "      <td>строительство собственной недвижимости</td>\n",
       "    </tr>\n",
       "    <tr>\n",
       "      <th>16</th>\n",
       "      <td>0</td>\n",
       "      <td>-1719.934226</td>\n",
       "      <td>35</td>\n",
       "      <td>среднее</td>\n",
       "      <td>1</td>\n",
       "      <td>женат / замужем</td>\n",
       "      <td>0</td>\n",
       "      <td>F</td>\n",
       "      <td>сотрудник</td>\n",
       "      <td>0</td>\n",
       "      <td>289202.704229</td>\n",
       "      <td>недвижимость</td>\n",
       "    </tr>\n",
       "    <tr>\n",
       "      <th>17</th>\n",
       "      <td>0</td>\n",
       "      <td>-2369.999720</td>\n",
       "      <td>33</td>\n",
       "      <td>высшее</td>\n",
       "      <td>0</td>\n",
       "      <td>гражданский брак</td>\n",
       "      <td>1</td>\n",
       "      <td>M</td>\n",
       "      <td>сотрудник</td>\n",
       "      <td>0</td>\n",
       "      <td>90410.586745</td>\n",
       "      <td>строительство недвижимости</td>\n",
       "    </tr>\n",
       "    <tr>\n",
       "      <th>18</th>\n",
       "      <td>0</td>\n",
       "      <td>400281.136913</td>\n",
       "      <td>53</td>\n",
       "      <td>среднее</td>\n",
       "      <td>1</td>\n",
       "      <td>вдовец / вдова</td>\n",
       "      <td>2</td>\n",
       "      <td>F</td>\n",
       "      <td>пенсионер</td>\n",
       "      <td>0</td>\n",
       "      <td>56823.777243</td>\n",
       "      <td>на покупку подержанного автомобиля</td>\n",
       "    </tr>\n",
       "    <tr>\n",
       "      <th>19</th>\n",
       "      <td>0</td>\n",
       "      <td>-10038.818549</td>\n",
       "      <td>48</td>\n",
       "      <td>СРЕДНЕЕ</td>\n",
       "      <td>1</td>\n",
       "      <td>в разводе</td>\n",
       "      <td>3</td>\n",
       "      <td>F</td>\n",
       "      <td>сотрудник</td>\n",
       "      <td>0</td>\n",
       "      <td>242831.107982</td>\n",
       "      <td>на покупку своего автомобиля</td>\n",
       "    </tr>\n",
       "  </tbody>\n",
       "</table>\n",
       "</div>"
      ],
      "text/plain": [
       "    children  days_employed  dob_years            education  education_id  \\\n",
       "0          1   -8437.673028         42               высшее             0   \n",
       "1          1   -4024.803754         36              среднее             1   \n",
       "2          0   -5623.422610         33              Среднее             1   \n",
       "3          3   -4124.747207         32              среднее             1   \n",
       "4          0  340266.072047         53              среднее             1   \n",
       "5          0    -926.185831         27               высшее             0   \n",
       "6          0   -2879.202052         43               высшее             0   \n",
       "7          0    -152.779569         50              СРЕДНЕЕ             1   \n",
       "8          2   -6929.865299         35               ВЫСШЕЕ             0   \n",
       "9          0   -2188.756445         41              среднее             1   \n",
       "10         2   -4171.483647         36               высшее             0   \n",
       "11         0    -792.701887         40              среднее             1   \n",
       "12         0            NaN         65              среднее             1   \n",
       "13         0   -1846.641941         54  неоконченное высшее             2   \n",
       "14         0   -1844.956182         56               высшее             0   \n",
       "15         1    -972.364419         26              среднее             1   \n",
       "16         0   -1719.934226         35              среднее             1   \n",
       "17         0   -2369.999720         33               высшее             0   \n",
       "18         0  400281.136913         53              среднее             1   \n",
       "19         0  -10038.818549         48              СРЕДНЕЕ             1   \n",
       "\n",
       "       family_status  family_status_id gender income_type  debt  \\\n",
       "0    женат / замужем                 0      F   сотрудник     0   \n",
       "1    женат / замужем                 0      F   сотрудник     0   \n",
       "2    женат / замужем                 0      M   сотрудник     0   \n",
       "3    женат / замужем                 0      M   сотрудник     0   \n",
       "4   гражданский брак                 1      F   пенсионер     0   \n",
       "5   гражданский брак                 1      M   компаньон     0   \n",
       "6    женат / замужем                 0      F   компаньон     0   \n",
       "7    женат / замужем                 0      M   сотрудник     0   \n",
       "8   гражданский брак                 1      F   сотрудник     0   \n",
       "9    женат / замужем                 0      M   сотрудник     0   \n",
       "10   женат / замужем                 0      M   компаньон     0   \n",
       "11   женат / замужем                 0      F   сотрудник     0   \n",
       "12  гражданский брак                 1      M   пенсионер     0   \n",
       "13   женат / замужем                 0      F   сотрудник     0   \n",
       "14  гражданский брак                 1      F   компаньон     1   \n",
       "15   женат / замужем                 0      F   сотрудник     0   \n",
       "16   женат / замужем                 0      F   сотрудник     0   \n",
       "17  гражданский брак                 1      M   сотрудник     0   \n",
       "18    вдовец / вдова                 2      F   пенсионер     0   \n",
       "19         в разводе                 3      F   сотрудник     0   \n",
       "\n",
       "     total_income                                 purpose  \n",
       "0   253875.639453                           покупка жилья  \n",
       "1   112080.014102                 приобретение автомобиля  \n",
       "2   145885.952297                           покупка жилья  \n",
       "3   267628.550329              дополнительное образование  \n",
       "4   158616.077870                         сыграть свадьбу  \n",
       "5   255763.565419                           покупка жилья  \n",
       "6   240525.971920                       операции с жильем  \n",
       "7   135823.934197                             образование  \n",
       "8    95856.832424                   на проведение свадьбы  \n",
       "9   144425.938277                 покупка жилья для семьи  \n",
       "10  113943.491460                    покупка недвижимости  \n",
       "11   77069.234271       покупка коммерческой недвижимости  \n",
       "12            NaN                         сыграть свадьбу  \n",
       "13  130458.228857                 приобретение автомобиля  \n",
       "14  165127.911772              покупка жилой недвижимости  \n",
       "15  116820.904450  строительство собственной недвижимости  \n",
       "16  289202.704229                            недвижимость  \n",
       "17   90410.586745              строительство недвижимости  \n",
       "18   56823.777243      на покупку подержанного автомобиля  \n",
       "19  242831.107982            на покупку своего автомобиля  "
      ]
     },
     "execution_count": 2,
     "metadata": {},
     "output_type": "execute_result"
    }
   ],
   "source": [
    "data.head(20)"
   ]
  },
  {
   "cell_type": "markdown",
   "id": "51f841de",
   "metadata": {
    "deletable": false,
    "editable": false,
    "id": "1c12e233"
   },
   "source": [
    "**Задание 3. Выведите основную информацию о датафрейме с помощью метода `info()`.**"
   ]
  },
  {
   "cell_type": "code",
   "execution_count": 3,
   "id": "03574fd6",
   "metadata": {
    "deletable": false,
    "id": "2b757bca",
    "outputId": "15376089-8dad-46c9-b520-c05248d43158"
   },
   "outputs": [
    {
     "name": "stdout",
     "output_type": "stream",
     "text": [
      "<class 'pandas.core.frame.DataFrame'>\n",
      "RangeIndex: 21525 entries, 0 to 21524\n",
      "Data columns (total 12 columns):\n",
      " #   Column            Non-Null Count  Dtype  \n",
      "---  ------            --------------  -----  \n",
      " 0   children          21525 non-null  int64  \n",
      " 1   days_employed     19351 non-null  float64\n",
      " 2   dob_years         21525 non-null  int64  \n",
      " 3   education         21525 non-null  object \n",
      " 4   education_id      21525 non-null  int64  \n",
      " 5   family_status     21525 non-null  object \n",
      " 6   family_status_id  21525 non-null  int64  \n",
      " 7   gender            21525 non-null  object \n",
      " 8   income_type       21525 non-null  object \n",
      " 9   debt              21525 non-null  int64  \n",
      " 10  total_income      19351 non-null  float64\n",
      " 11  purpose           21525 non-null  object \n",
      "dtypes: float64(2), int64(5), object(5)\n",
      "memory usage: 2.0+ MB\n"
     ]
    }
   ],
   "source": [
    "data.info()"
   ]
  },
  {
   "cell_type": "markdown",
   "id": "f2d7a413",
   "metadata": {
    "deletable": false,
    "editable": false,
    "id": "333ec665"
   },
   "source": [
    "## Предобработка данных"
   ]
  },
  {
   "cell_type": "markdown",
   "id": "47cd7546",
   "metadata": {
    "deletable": false,
    "editable": false,
    "id": "02d92d53"
   },
   "source": [
    "### Удаление пропусков"
   ]
  },
  {
   "cell_type": "markdown",
   "id": "1ef28f71",
   "metadata": {
    "deletable": false,
    "editable": false,
    "id": "cd84967c"
   },
   "source": [
    "**Задание 4. Выведите количество пропущенных значений для каждого столбца. Используйте комбинацию двух методов.**"
   ]
  },
  {
   "cell_type": "code",
   "execution_count": 4,
   "id": "f3e1ccf3",
   "metadata": {
    "deletable": false,
    "id": "7f9b2309",
    "outputId": "81f4d817-781c-465c-ed15-91ce4446810d"
   },
   "outputs": [
    {
     "data": {
      "text/plain": [
       "children               0\n",
       "days_employed       2174\n",
       "dob_years              0\n",
       "education              0\n",
       "education_id           0\n",
       "family_status          0\n",
       "family_status_id       0\n",
       "gender                 0\n",
       "income_type            0\n",
       "debt                   0\n",
       "total_income        2174\n",
       "purpose                0\n",
       "dtype: int64"
      ]
     },
     "execution_count": 4,
     "metadata": {},
     "output_type": "execute_result"
    }
   ],
   "source": [
    "data.isna().sum()"
   ]
  },
  {
   "cell_type": "markdown",
   "id": "f461b9a2",
   "metadata": {
    "deletable": false,
    "editable": false,
    "id": "db86e27b"
   },
   "source": [
    "**Задание 5. В двух столбцах есть пропущенные значения. Один из них — `days_employed`. Пропуски в этом столбце вы обработаете на следующем этапе. Другой столбец с пропущенными значениями — `total_income` — хранит данные о доходах. На сумму дохода сильнее всего влияет тип занятости, поэтому заполнить пропуски в этом столбце нужно медианным значением по каждому типу из столбца `income_type`. Например, у человека с типом занятости `сотрудник` пропуск в столбце `total_income` должен быть заполнен медианным доходом среди всех записей с тем же типом.**"
   ]
  },
  {
   "cell_type": "code",
   "execution_count": 5,
   "id": "f04b2596",
   "metadata": {
    "deletable": false,
    "id": "42006a93"
   },
   "outputs": [],
   "source": [
    "for t in data['income_type'].unique():\n",
    "    data.loc[(data['income_type'] == t) & (data['total_income'].isna()), 'total_income'] = \\\n",
    "    data.loc[(data['income_type'] == t), 'total_income'].median()"
   ]
  },
  {
   "cell_type": "markdown",
   "id": "fb85b51a",
   "metadata": {
    "deletable": false,
    "editable": false,
    "id": "89da5ece"
   },
   "source": [
    "### Обработка аномальных значений"
   ]
  },
  {
   "cell_type": "markdown",
   "id": "ad353541",
   "metadata": {
    "deletable": false,
    "editable": false,
    "id": "57964554"
   },
   "source": [
    "**Задание 6. В данных могут встречаться артефакты (аномалии) — значения, которые не отражают действительность и появились по какой-то ошибке. таким артефактом будет отрицательное количество дней трудового стажа в столбце `days_employed`. Для реальных данных это нормально. Обработайте значения в этом столбце: замените все отрицательные значения положительными с помощью метода `abs()`.**"
   ]
  },
  {
   "cell_type": "code",
   "execution_count": 6,
   "id": "f6c1330a",
   "metadata": {
    "deletable": false,
    "id": "f6f055bf"
   },
   "outputs": [],
   "source": [
    "data['days_employed'] = data['days_employed'].abs()"
   ]
  },
  {
   "cell_type": "markdown",
   "id": "d31a5ef4",
   "metadata": {
    "deletable": false,
    "editable": false,
    "id": "6107dd2f"
   },
   "source": [
    "**Задание 7. Для каждого типа занятости выведите медианное значение трудового стажа `days_employed` в днях.**"
   ]
  },
  {
   "cell_type": "code",
   "execution_count": 7,
   "id": "175ccf05",
   "metadata": {
    "deletable": false,
    "id": "85a5faf6",
    "outputId": "801ef80e-522b-4668-f34e-565af7432bcf"
   },
   "outputs": [
    {
     "data": {
      "text/plain": [
       "income_type\n",
       "безработный        366413.652744\n",
       "в декрете            3296.759962\n",
       "госслужащий          2689.368353\n",
       "компаньон            1547.382223\n",
       "пенсионер          365213.306266\n",
       "предприниматель       520.848083\n",
       "сотрудник            1574.202821\n",
       "студент               578.751554\n",
       "Name: days_employed, dtype: float64"
      ]
     },
     "execution_count": 7,
     "metadata": {},
     "output_type": "execute_result"
    }
   ],
   "source": [
    "data.groupby('income_type')['days_employed'].agg('median')"
   ]
  },
  {
   "cell_type": "markdown",
   "id": "eedb24c7",
   "metadata": {
    "deletable": false,
    "editable": false,
    "id": "38d1a030"
   },
   "source": [
    "У двух типов (безработные и пенсионеры) получатся аномально большие значения. Исправить такие значения сложно, поэтому оставьте их как есть. Тем более этот столбец не понадобится вам для исследования."
   ]
  },
  {
   "cell_type": "markdown",
   "id": "87196dd6",
   "metadata": {
    "deletable": false,
    "editable": false,
    "id": "d8a9f147"
   },
   "source": [
    "**Задание 8. Выведите перечень уникальных значений столбца `children`.**"
   ]
  },
  {
   "cell_type": "code",
   "execution_count": 8,
   "id": "00520e56",
   "metadata": {
    "deletable": false,
    "id": "ef5056eb",
    "outputId": "6975b15c-7f95-4697-d16d-a0c79b657b03"
   },
   "outputs": [
    {
     "data": {
      "text/plain": [
       "array([ 1,  0,  3,  2, -1,  4, 20,  5])"
      ]
     },
     "execution_count": 8,
     "metadata": {},
     "output_type": "execute_result"
    }
   ],
   "source": [
    "data['children'].unique()"
   ]
  },
  {
   "cell_type": "markdown",
   "id": "bc347d89",
   "metadata": {
    "deletable": false,
    "editable": false,
    "id": "40b9ebf2"
   },
   "source": [
    "**Задание 9. В столбце `children` есть два аномальных значения. Удалите строки, в которых встречаются такие аномальные значения из датафрейма `data`.**"
   ]
  },
  {
   "cell_type": "code",
   "execution_count": 9,
   "id": "d386a179",
   "metadata": {
    "deletable": false,
    "id": "3ff9801d"
   },
   "outputs": [],
   "source": [
    "data = data[(data['children'] != -1) & (data['children'] != 20)]"
   ]
  },
  {
   "cell_type": "markdown",
   "id": "d9a6bd36",
   "metadata": {
    "deletable": false,
    "editable": false,
    "id": "bbc4d0ce"
   },
   "source": [
    "**Задание 10. Ещё раз выведите перечень уникальных значений столбца `children`, чтобы убедиться, что артефакты удалены.**"
   ]
  },
  {
   "cell_type": "code",
   "execution_count": 10,
   "id": "1e195568",
   "metadata": {
    "deletable": false,
    "id": "ad4fa8b7",
    "outputId": "b2097101-d49d-44d9-901b-32a65c9463d1"
   },
   "outputs": [
    {
     "data": {
      "text/plain": [
       "array([1, 0, 3, 2, 4, 5])"
      ]
     },
     "execution_count": 10,
     "metadata": {},
     "output_type": "execute_result"
    }
   ],
   "source": [
    "data['children'].unique()"
   ]
  },
  {
   "cell_type": "markdown",
   "id": "a451bf0d",
   "metadata": {
    "deletable": false,
    "editable": false,
    "id": "75440b63"
   },
   "source": [
    "### Удаление пропусков (продолжение)"
   ]
  },
  {
   "cell_type": "markdown",
   "id": "aee5a0b0",
   "metadata": {
    "deletable": false,
    "editable": false,
    "id": "f4ea573f"
   },
   "source": [
    "**Задание 11. Заполните пропуски в столбце `days_employed` медианными значениями по каждого типа занятости `income_type`.**"
   ]
  },
  {
   "cell_type": "code",
   "execution_count": 11,
   "id": "248a6156",
   "metadata": {
    "deletable": false,
    "id": "af6b1a7e"
   },
   "outputs": [],
   "source": [
    "for t in data['income_type'].unique():\n",
    "    data.loc[(data['income_type'] == t) & (data['days_employed'].isna()), 'days_employed'] = \\\n",
    "    data.loc[(data['income_type'] == t), 'days_employed'].median()"
   ]
  },
  {
   "cell_type": "markdown",
   "id": "4609dc8c",
   "metadata": {
    "deletable": false,
    "editable": false,
    "id": "2753f40d"
   },
   "source": [
    "**Задание 12. Убедитесь, что все пропуски заполнены. Проверьте себя и ещё раз выведите количество пропущенных значений для каждого столбца с помощью двух методов.**"
   ]
  },
  {
   "cell_type": "code",
   "execution_count": 12,
   "id": "ea7fed78",
   "metadata": {
    "deletable": false,
    "id": "55f78bc2",
    "outputId": "8da1e4e1-358e-4e87-98c9-f261bce0a7b2"
   },
   "outputs": [
    {
     "data": {
      "text/plain": [
       "children            0\n",
       "days_employed       0\n",
       "dob_years           0\n",
       "education           0\n",
       "education_id        0\n",
       "family_status       0\n",
       "family_status_id    0\n",
       "gender              0\n",
       "income_type         0\n",
       "debt                0\n",
       "total_income        0\n",
       "purpose             0\n",
       "dtype: int64"
      ]
     },
     "execution_count": 12,
     "metadata": {},
     "output_type": "execute_result"
    }
   ],
   "source": [
    "data.isna().sum()"
   ]
  },
  {
   "cell_type": "markdown",
   "id": "cf894283",
   "metadata": {
    "deletable": false,
    "editable": false,
    "id": "ddc81e43"
   },
   "source": [
    "### Изменение типов данных"
   ]
  },
  {
   "cell_type": "markdown",
   "id": "32e286a3",
   "metadata": {
    "deletable": false,
    "editable": false,
    "id": "42d19d24"
   },
   "source": [
    "**Задание 13. Замените вещественный тип данных в столбце `total_income` на целочисленный с помощью метода `astype()`.**"
   ]
  },
  {
   "cell_type": "code",
   "execution_count": 13,
   "id": "49a90fdd",
   "metadata": {
    "deletable": false,
    "id": "920b65ad"
   },
   "outputs": [],
   "source": [
    "data['total_income'] = data['total_income'].astype(int)"
   ]
  },
  {
   "cell_type": "markdown",
   "id": "4a0b5ac4",
   "metadata": {
    "deletable": false,
    "editable": false,
    "id": "80c420ba"
   },
   "source": [
    "### Обработка дубликатов"
   ]
  },
  {
   "cell_type": "markdown",
   "id": "bbe39716",
   "metadata": {
    "deletable": false,
    "editable": false
   },
   "source": [
    "**Задание 14. Обработайте неявные дубликаты в столбце `education`. В этом столбце есть одни и те же значения, но записанные по-разному: с использованием заглавных и строчных букв. Приведите их к нижнему регистру. Проверьте остальные столбцы.**"
   ]
  },
  {
   "cell_type": "code",
   "execution_count": 14,
   "id": "a13b9cc3",
   "metadata": {
    "deletable": false
   },
   "outputs": [],
   "source": [
    "data['education'] = data['education'].str.lower()"
   ]
  },
  {
   "cell_type": "markdown",
   "id": "1d8e9eda",
   "metadata": {
    "deletable": false,
    "editable": false,
    "id": "dc587695"
   },
   "source": [
    "**Задание 15. Выведите на экран количество строк-дубликатов в данных. Если такие строки присутствуют, удалите их.**"
   ]
  },
  {
   "cell_type": "code",
   "execution_count": 15,
   "id": "8c31720b",
   "metadata": {
    "deletable": false,
    "id": "3ee445e4",
    "outputId": "9684deba-1934-42d1-99e1-cda61740f822"
   },
   "outputs": [
    {
     "data": {
      "text/plain": [
       "71"
      ]
     },
     "execution_count": 15,
     "metadata": {},
     "output_type": "execute_result"
    }
   ],
   "source": [
    "data.duplicated().sum()"
   ]
  },
  {
   "cell_type": "code",
   "execution_count": 16,
   "id": "56a9f23c",
   "metadata": {
    "deletable": false,
    "id": "8575fe05"
   },
   "outputs": [],
   "source": [
    "data = data.drop_duplicates()"
   ]
  },
  {
   "cell_type": "markdown",
   "id": "7deacb6a",
   "metadata": {
    "deletable": false,
    "editable": false,
    "id": "9904cf55"
   },
   "source": [
    "### Категоризация данных"
   ]
  },
  {
   "cell_type": "markdown",
   "id": "47083711",
   "metadata": {
    "deletable": false,
    "editable": false,
    "id": "72fcc8a2"
   },
   "source": [
    "**Задание 16. На основании диапазонов, указанных ниже, создайте в датафрейме `data` столбец `total_income_category` с категориями:**\n",
    "\n",
    "- 0–30000 — `'E'`;\n",
    "- 30001–50000 — `'D'`;\n",
    "- 50001–200000 — `'C'`;\n",
    "- 200001–1000000 — `'B'`;\n",
    "- 1000001 и выше — `'A'`.\n",
    "\n",
    "\n",
    "**Например, кредитополучателю с доходом 25000 нужно назначить категорию `'E'`, а клиенту, получающему 235000, — `'B'`. Используйте собственную функцию с именем `categorize_income()` и метод `apply()`.**"
   ]
  },
  {
   "cell_type": "code",
   "execution_count": 17,
   "id": "a4339c76",
   "metadata": {
    "deletable": false,
    "id": "e1771346"
   },
   "outputs": [],
   "source": [
    "def categorize_income(income):\n",
    "    try:\n",
    "        if 0 <= income <= 30000:\n",
    "            return 'E'\n",
    "        elif 30001 <= income <= 50000:\n",
    "            return 'D'\n",
    "        elif 50001 <= income <= 200000:\n",
    "            return 'C'\n",
    "        elif 200001 <= income <= 1000000:\n",
    "            return 'B'\n",
    "        elif income >= 1000001:\n",
    "            return 'A'\n",
    "    except:\n",
    "        pass"
   ]
  },
  {
   "cell_type": "code",
   "execution_count": 18,
   "id": "5b6b6169",
   "metadata": {
    "deletable": false,
    "id": "d5f3586d"
   },
   "outputs": [],
   "source": [
    "data['total_income_category'] = data['total_income'].apply(categorize_income)"
   ]
  },
  {
   "cell_type": "markdown",
   "id": "353842f5",
   "metadata": {
    "deletable": false,
    "editable": false,
    "id": "dde49b5c"
   },
   "source": [
    "**Задание 17. Выведите на экран перечень уникальных целей взятия кредита из столбца `purpose`.**"
   ]
  },
  {
   "cell_type": "code",
   "execution_count": 19,
   "id": "ff0490f9",
   "metadata": {
    "deletable": false,
    "id": "f67ce9b3",
    "outputId": "673c12d9-7d7e-4ae0-9812-c622c89dd244"
   },
   "outputs": [
    {
     "data": {
      "text/plain": [
       "array(['покупка жилья', 'приобретение автомобиля',\n",
       "       'дополнительное образование', 'сыграть свадьбу',\n",
       "       'операции с жильем', 'образование', 'на проведение свадьбы',\n",
       "       'покупка жилья для семьи', 'покупка недвижимости',\n",
       "       'покупка коммерческой недвижимости', 'покупка жилой недвижимости',\n",
       "       'строительство собственной недвижимости', 'недвижимость',\n",
       "       'строительство недвижимости', 'на покупку подержанного автомобиля',\n",
       "       'на покупку своего автомобиля',\n",
       "       'операции с коммерческой недвижимостью',\n",
       "       'строительство жилой недвижимости', 'жилье',\n",
       "       'операции со своей недвижимостью', 'автомобили',\n",
       "       'заняться образованием', 'сделка с подержанным автомобилем',\n",
       "       'получение образования', 'автомобиль', 'свадьба',\n",
       "       'получение дополнительного образования', 'покупка своего жилья',\n",
       "       'операции с недвижимостью', 'получение высшего образования',\n",
       "       'свой автомобиль', 'сделка с автомобилем',\n",
       "       'профильное образование', 'высшее образование',\n",
       "       'покупка жилья для сдачи', 'на покупку автомобиля', 'ремонт жилью',\n",
       "       'заняться высшим образованием'], dtype=object)"
      ]
     },
     "execution_count": 19,
     "metadata": {},
     "output_type": "execute_result"
    }
   ],
   "source": [
    "data['purpose'].unique()"
   ]
  },
  {
   "cell_type": "markdown",
   "id": "de36df6f",
   "metadata": {
    "deletable": false,
    "editable": false,
    "id": "85d0aef0"
   },
   "source": [
    "**Задание 18. Создайте функцию, которая на основании данных из столбца `purpose` сформирует новый столбец `purpose_category`, в который войдут следующие категории:**\n",
    "\n",
    "- `'операции с автомобилем'`,\n",
    "- `'операции с недвижимостью'`,\n",
    "- `'проведение свадьбы'`,\n",
    "- `'получение образования'`.\n",
    "\n",
    "**Например, если в столбце `purpose` находится подстрока `'на покупку автомобиля'`, то в столбце `purpose_category` должна появиться строка `'операции с автомобилем'`.**\n",
    "\n",
    "**Используйте собственную функцию с именем `categorize_purpose()` и метод `apply()`. Изучите данные в столбце `purpose` и определите, какие подстроки помогут вам правильно определить категорию.**"
   ]
  },
  {
   "cell_type": "code",
   "execution_count": 20,
   "id": "1c440ab2",
   "metadata": {
    "deletable": false,
    "id": "e149fab4"
   },
   "outputs": [],
   "source": [
    "def categorize_purpose(row):\n",
    "    try:\n",
    "        if 'автом' in row:\n",
    "            return 'операции с автомобилем'\n",
    "        elif 'жил' in row or 'недвиж' in row:\n",
    "            return 'операции с недвижимостью'\n",
    "        elif 'свад' in row:\n",
    "            return 'проведение свадьбы'\n",
    "        elif 'образов' in row:\n",
    "            return 'получение образования'\n",
    "    except:\n",
    "        return 'нет категории'"
   ]
  },
  {
   "cell_type": "code",
   "execution_count": 21,
   "id": "0b088db9",
   "metadata": {
    "deletable": false,
    "id": "bf36e69b"
   },
   "outputs": [],
   "source": [
    "data['purpose_category'] = data['purpose'].apply(categorize_purpose)"
   ]
  },
  {
   "cell_type": "markdown",
   "id": "bbf90982",
   "metadata": {
    "deletable": false,
    "editable": false,
    "id": "09b242bf"
   },
   "source": [
    "### Шаг 3. Исследуйте данные и ответьте на вопросы"
   ]
  },
  {
   "cell_type": "markdown",
   "id": "d0b54f65",
   "metadata": {
    "deletable": false,
    "editable": false,
    "id": "c5d66278"
   },
   "source": [
    "#### 3.1 Есть ли зависимость между количеством детей и возвратом кредита в срок?"
   ]
  },
  {
   "cell_type": "code",
   "execution_count": 22,
   "id": "b4371977",
   "metadata": {
    "deletable": false,
    "id": "2cacfc4a"
   },
   "outputs": [
    {
     "data": {
      "text/html": [
       "<style  type=\"text/css\" >\n",
       "</style><table id=\"T_0a1c6_\" ><thead>    <tr>        <th class=\"blank level0\" ></th>        <th class=\"col_heading level0 col0\" >count</th>        <th class=\"col_heading level0 col1\" >sum</th>        <th class=\"col_heading level0 col2\" >mean</th>    </tr>    <tr>        <th class=\"index_name level0\" >children</th>        <th class=\"blank\" ></th>        <th class=\"blank\" ></th>        <th class=\"blank\" ></th>    </tr></thead><tbody>\n",
       "                <tr>\n",
       "                        <th id=\"T_0a1c6_level0_row0\" class=\"row_heading level0 row0\" >4</th>\n",
       "                        <td id=\"T_0a1c6_row0_col0\" class=\"data row0 col0\" >4100</td>\n",
       "                        <td id=\"T_0a1c6_row0_col1\" class=\"data row0 col1\" >400</td>\n",
       "                        <td id=\"T_0a1c6_row0_col2\" class=\"data row0 col2\" >9.76%</td>\n",
       "            </tr>\n",
       "            <tr>\n",
       "                        <th id=\"T_0a1c6_level0_row1\" class=\"row_heading level0 row1\" >2</th>\n",
       "                        <td id=\"T_0a1c6_row1_col0\" class=\"data row1 col0\" >205200</td>\n",
       "                        <td id=\"T_0a1c6_row1_col1\" class=\"data row1 col1\" >19400</td>\n",
       "                        <td id=\"T_0a1c6_row1_col2\" class=\"data row1 col2\" >9.45%</td>\n",
       "            </tr>\n",
       "            <tr>\n",
       "                        <th id=\"T_0a1c6_level0_row2\" class=\"row_heading level0 row2\" >1</th>\n",
       "                        <td id=\"T_0a1c6_row2_col0\" class=\"data row2 col0\" >480800</td>\n",
       "                        <td id=\"T_0a1c6_row2_col1\" class=\"data row2 col1\" >44400</td>\n",
       "                        <td id=\"T_0a1c6_row2_col2\" class=\"data row2 col2\" >9.23%</td>\n",
       "            </tr>\n",
       "            <tr>\n",
       "                        <th id=\"T_0a1c6_level0_row3\" class=\"row_heading level0 row3\" >3</th>\n",
       "                        <td id=\"T_0a1c6_row3_col0\" class=\"data row3 col0\" >33000</td>\n",
       "                        <td id=\"T_0a1c6_row3_col1\" class=\"data row3 col1\" >2700</td>\n",
       "                        <td id=\"T_0a1c6_row3_col2\" class=\"data row3 col2\" >8.18%</td>\n",
       "            </tr>\n",
       "            <tr>\n",
       "                        <th id=\"T_0a1c6_level0_row4\" class=\"row_heading level0 row4\" >0</th>\n",
       "                        <td id=\"T_0a1c6_row4_col0\" class=\"data row4 col0\" >1409100</td>\n",
       "                        <td id=\"T_0a1c6_row4_col1\" class=\"data row4 col1\" >106300</td>\n",
       "                        <td id=\"T_0a1c6_row4_col2\" class=\"data row4 col2\" >7.54%</td>\n",
       "            </tr>\n",
       "            <tr>\n",
       "                        <th id=\"T_0a1c6_level0_row5\" class=\"row_heading level0 row5\" >5</th>\n",
       "                        <td id=\"T_0a1c6_row5_col0\" class=\"data row5 col0\" >900</td>\n",
       "                        <td id=\"T_0a1c6_row5_col1\" class=\"data row5 col1\" >0</td>\n",
       "                        <td id=\"T_0a1c6_row5_col2\" class=\"data row5 col2\" >0.00%</td>\n",
       "            </tr>\n",
       "    </tbody></table>"
      ],
      "text/plain": [
       "<pandas.io.formats.style.Styler at 0x7fa7274e41c0>"
      ]
     },
     "execution_count": 22,
     "metadata": {},
     "output_type": "execute_result"
    }
   ],
   "source": [
    "debt_with_children = pd.DataFrame()\n",
    "debt_with_children['count'] = data.groupby('children')['debt'].count()\n",
    "debt_with_children['sum'] = data.groupby('children')['debt'].sum() \n",
    "#debt_with_children['result'] = debt_with_children['sum'] / debt_with_children['count']\n",
    "#debt_with_children.sort_values('result', ascending = False)\n",
    "data.groupby('children')['debt'].agg(['count', 'sum', 'mean'\n",
    "        ]).sort_values(by='mean',\n",
    "                       ascending=False).mul(100).style.format({'mean': '{:.2f}%'\n",
    "        })\n"
   ]
  },
  {
   "cell_type": "markdown",
   "id": "402e3071",
   "metadata": {
    "deletable": false,
    "id": "3a6b99ec"
   },
   "source": [
    "**Вывод:** С увеличением количества детей мы видим увеличение количества просроченных задолженностей, хотя заемщики с 3 детьми пропускают платежи меньше."
   ]
  },
  {
   "cell_type": "markdown",
   "id": "55dea0cf",
   "metadata": {
    "deletable": false,
    "editable": false,
    "id": "97be82ca"
   },
   "source": [
    "#### 3.2 Есть ли зависимость между семейным положением и возвратом кредита в срок?"
   ]
  },
  {
   "cell_type": "code",
   "execution_count": 23,
   "id": "81564eba",
   "metadata": {
    "deletable": false,
    "id": "dc3f7ee8"
   },
   "outputs": [
    {
     "data": {
      "text/html": [
       "<style  type=\"text/css\" >\n",
       "</style><table id=\"T_8e1d7_\" ><thead>    <tr>        <th class=\"blank level0\" ></th>        <th class=\"col_heading level0 col0\" >count</th>        <th class=\"col_heading level0 col1\" >sum</th>        <th class=\"col_heading level0 col2\" >mean</th>    </tr>    <tr>        <th class=\"index_name level0\" >family_status</th>        <th class=\"blank\" ></th>        <th class=\"blank\" ></th>        <th class=\"blank\" ></th>    </tr></thead><tbody>\n",
       "                <tr>\n",
       "                        <th id=\"T_8e1d7_level0_row0\" class=\"row_heading level0 row0\" >Не женат / не замужем</th>\n",
       "                        <td id=\"T_8e1d7_row0_col0\" class=\"data row0 col0\" >279600</td>\n",
       "                        <td id=\"T_8e1d7_row0_col1\" class=\"data row0 col1\" >27300</td>\n",
       "                        <td id=\"T_8e1d7_row0_col2\" class=\"data row0 col2\" >9.76%</td>\n",
       "            </tr>\n",
       "            <tr>\n",
       "                        <th id=\"T_8e1d7_level0_row1\" class=\"row_heading level0 row1\" >гражданский брак</th>\n",
       "                        <td id=\"T_8e1d7_row1_col0\" class=\"data row1 col0\" >413400</td>\n",
       "                        <td id=\"T_8e1d7_row1_col1\" class=\"data row1 col1\" >38500</td>\n",
       "                        <td id=\"T_8e1d7_row1_col2\" class=\"data row1 col2\" >9.31%</td>\n",
       "            </tr>\n",
       "            <tr>\n",
       "                        <th id=\"T_8e1d7_level0_row2\" class=\"row_heading level0 row2\" >женат / замужем</th>\n",
       "                        <td id=\"T_8e1d7_row2_col0\" class=\"data row2 col0\" >1226100</td>\n",
       "                        <td id=\"T_8e1d7_row2_col1\" class=\"data row2 col1\" >92700</td>\n",
       "                        <td id=\"T_8e1d7_row2_col2\" class=\"data row2 col2\" >7.56%</td>\n",
       "            </tr>\n",
       "            <tr>\n",
       "                        <th id=\"T_8e1d7_level0_row3\" class=\"row_heading level0 row3\" >в разводе</th>\n",
       "                        <td id=\"T_8e1d7_row3_col0\" class=\"data row3 col0\" >118900</td>\n",
       "                        <td id=\"T_8e1d7_row3_col1\" class=\"data row3 col1\" >8400</td>\n",
       "                        <td id=\"T_8e1d7_row3_col2\" class=\"data row3 col2\" >7.06%</td>\n",
       "            </tr>\n",
       "            <tr>\n",
       "                        <th id=\"T_8e1d7_level0_row4\" class=\"row_heading level0 row4\" >вдовец / вдова</th>\n",
       "                        <td id=\"T_8e1d7_row4_col0\" class=\"data row4 col0\" >95100</td>\n",
       "                        <td id=\"T_8e1d7_row4_col1\" class=\"data row4 col1\" >6300</td>\n",
       "                        <td id=\"T_8e1d7_row4_col2\" class=\"data row4 col2\" >6.62%</td>\n",
       "            </tr>\n",
       "    </tbody></table>"
      ],
      "text/plain": [
       "<pandas.io.formats.style.Styler at 0x7fa6bc99e970>"
      ]
     },
     "execution_count": 23,
     "metadata": {},
     "output_type": "execute_result"
    }
   ],
   "source": [
    "debt_family = pd.DataFrame()\n",
    "debt_family['count'] = data.groupby('family_status')['debt'].count()\n",
    "debt_family['sum'] = data.groupby('family_status')['debt'].sum()\n",
    "#debt_family['result'] = debt_family['sum'] / debt_family['count']\n",
    "#debt_family.sort_values('result', ascending = False)в\n",
    "data.groupby('family_status')['debt'].agg(['count', 'sum', 'mean'\n",
    "        ]).sort_values(by='mean',\n",
    "                       ascending=False).mul(100).style.format({'mean': '{:.2f}%'\n",
    "        })"
   ]
  },
  {
   "cell_type": "markdown",
   "id": "4277404f",
   "metadata": {
    "deletable": false,
    "id": "1cef7837"
   },
   "source": [
    "**Вывод:** Зависимость есть. Заемщики находящие не в браке(Не женат/ не замужем) чаще всего имеют больший процент просрочек по платежам 9.76% , в то время как вдовцы и состоящие в разводе более отвественные заемщики их процент пропуска платежей ниже 6.62%"
   ]
  },
  {
   "cell_type": "markdown",
   "id": "a8a3cd01",
   "metadata": {
    "deletable": false,
    "editable": false,
    "id": "1e8b2fca"
   },
   "source": [
    "#### 3.3 Есть ли зависимость между уровнем дохода и возвратом кредита в срок?"
   ]
  },
  {
   "cell_type": "code",
   "execution_count": 24,
   "id": "49ed2790",
   "metadata": {},
   "outputs": [
    {
     "data": {
      "text/plain": [
       "0        (195842.0, 2265604.0]\n",
       "1         (107507.0, 142594.0]\n",
       "2         (142594.0, 195842.0]\n",
       "3        (195842.0, 2265604.0]\n",
       "4         (142594.0, 195842.0]\n",
       "                 ...          \n",
       "21520    (195842.0, 2265604.0]\n",
       "21521     (142594.0, 195842.0]\n",
       "21522    (20666.999, 107507.0]\n",
       "21523    (195842.0, 2265604.0]\n",
       "21524    (20666.999, 107507.0]\n",
       "Name: total_income, Length: 21331, dtype: category\n",
       "Categories (4, interval[float64]): [(20666.999, 107507.0] < (107507.0, 142594.0] < (142594.0, 195842.0] < (195842.0, 2265604.0]]"
      ]
     },
     "execution_count": 24,
     "metadata": {},
     "output_type": "execute_result"
    }
   ],
   "source": [
    "pd.qcut(data['total_income'], 4)"
   ]
  },
  {
   "cell_type": "code",
   "execution_count": 25,
   "id": "77830ff6",
   "metadata": {
    "deletable": false,
    "id": "cd7e3720"
   },
   "outputs": [
    {
     "data": {
      "text/html": [
       "<style  type=\"text/css\" >\n",
       "</style><table id=\"T_c8e99_\" ><thead>    <tr>        <th class=\"blank level0\" ></th>        <th class=\"col_heading level0 col0\" >count</th>        <th class=\"col_heading level0 col1\" >sum</th>        <th class=\"col_heading level0 col2\" >mean</th>    </tr>    <tr>        <th class=\"index_name level0\" >total_income_category</th>        <th class=\"blank\" ></th>        <th class=\"blank\" ></th>        <th class=\"blank\" ></th>    </tr></thead><tbody>\n",
       "                <tr>\n",
       "                        <th id=\"T_c8e99_level0_row0\" class=\"row_heading level0 row0\" >от 107507 до 142594</th>\n",
       "                        <td id=\"T_c8e99_row0_col0\" class=\"data row0 col0\" >438400</td>\n",
       "                        <td id=\"T_c8e99_row0_col1\" class=\"data row0 col1\" >38200</td>\n",
       "                        <td id=\"T_c8e99_row0_col2\" class=\"data row0 col2\" >8.71%</td>\n",
       "            </tr>\n",
       "            <tr>\n",
       "                        <th id=\"T_c8e99_level0_row1\" class=\"row_heading level0 row1\" >от 142594 до 195842</th>\n",
       "                        <td id=\"T_c8e99_row1_col0\" class=\"data row1 col0\" >628000</td>\n",
       "                        <td id=\"T_c8e99_row1_col1\" class=\"data row1 col1\" >54200</td>\n",
       "                        <td id=\"T_c8e99_row1_col2\" class=\"data row1 col2\" >8.63%</td>\n",
       "            </tr>\n",
       "            <tr>\n",
       "                        <th id=\"T_c8e99_level0_row2\" class=\"row_heading level0 row2\" >менее 107507</th>\n",
       "                        <td id=\"T_c8e99_row2_col0\" class=\"data row2 col0\" >533300</td>\n",
       "                        <td id=\"T_c8e99_row2_col1\" class=\"data row2 col1\" >42700</td>\n",
       "                        <td id=\"T_c8e99_row2_col2\" class=\"data row2 col2\" >8.01%</td>\n",
       "            </tr>\n",
       "            <tr>\n",
       "                        <th id=\"T_c8e99_level0_row3\" class=\"row_heading level0 row3\" >более 195842</th>\n",
       "                        <td id=\"T_c8e99_row3_col0\" class=\"data row3 col0\" >533400</td>\n",
       "                        <td id=\"T_c8e99_row3_col1\" class=\"data row3 col1\" >38100</td>\n",
       "                        <td id=\"T_c8e99_row3_col2\" class=\"data row3 col2\" >7.14%</td>\n",
       "            </tr>\n",
       "    </tbody></table>"
      ],
      "text/plain": [
       "<pandas.io.formats.style.Styler at 0x7fa6bac848e0>"
      ]
     },
     "execution_count": 25,
     "metadata": {},
     "output_type": "execute_result"
    }
   ],
   "source": [
    "def total_income_category(total_income):\n",
    "    if total_income < 107507:\n",
    "        return 'менее 107507'\n",
    "    if total_income >= 107507 and total_income < 142594:\n",
    "        return 'от 107507 до 142594'\n",
    "    if total_income >= 142594 and total_income < 195842:\n",
    "        return 'от 142594 до 195842'\n",
    "    if total_income >= 195842:\n",
    "        return 'более 195842'\n",
    "\n",
    "debt_total_income = pd.DataFrame()\n",
    "data['total_income_category'] = data['total_income'].apply(total_income_category)\n",
    "debt_total_income['sum'] = data.groupby('total_income_category')['debt'].sum()\n",
    "debt_total_income['count'] = data.groupby('total_income_category')['debt'].count()\n",
    "#debt_total_income['result'] = debt_total_income['sum'] / debt_total_income['count']\n",
    "#debt_total_income.sort_values('result', ascending = False)\n",
    "data.groupby('total_income_category')['debt'].agg(['count', 'sum',\n",
    "        'mean']).sort_values(by='mean',\n",
    "                             ascending=False).mul(100).style.format({'mean': '{:.2f}%'\n",
    "        })"
   ]
  },
  {
   "cell_type": "markdown",
   "id": "d93e88c8",
   "metadata": {
    "deletable": false,
    "id": "e8593def"
   },
   "source": [
    "**Вывод:** Заемщики с доходом более 195842, более ответственные - 7.14% пропусков платежей, следом идут заемщики доход котрых менее 107507 - 8.01%, а вот заемщики с доходом от 107507 до 142594 чаще доспусают просрочки - 8.71%."
   ]
  },
  {
   "cell_type": "markdown",
   "id": "35f8f41b",
   "metadata": {
    "deletable": false,
    "editable": false,
    "id": "99ecbd1f"
   },
   "source": [
    "#### 3.4 Как разные цели кредита влияют на его возврат в срок?"
   ]
  },
  {
   "cell_type": "code",
   "execution_count": 26,
   "id": "e0b270e2",
   "metadata": {
    "deletable": false,
    "id": "2b687290"
   },
   "outputs": [
    {
     "data": {
      "text/html": [
       "<style  type=\"text/css\" >\n",
       "</style><table id=\"T_cc09b_\" ><thead>    <tr>        <th class=\"blank level0\" ></th>        <th class=\"col_heading level0 col0\" >count</th>        <th class=\"col_heading level0 col1\" >sum</th>        <th class=\"col_heading level0 col2\" >mean</th>    </tr>    <tr>        <th class=\"index_name level0\" >purpose_category</th>        <th class=\"blank\" ></th>        <th class=\"blank\" ></th>        <th class=\"blank\" ></th>    </tr></thead><tbody>\n",
       "                <tr>\n",
       "                        <th id=\"T_cc09b_level0_row0\" class=\"row_heading level0 row0\" >операции с автомобилем</th>\n",
       "                        <td id=\"T_cc09b_row0_col0\" class=\"data row0 col0\" >427900</td>\n",
       "                        <td id=\"T_cc09b_row0_col1\" class=\"data row0 col1\" >40000</td>\n",
       "                        <td id=\"T_cc09b_row0_col2\" class=\"data row0 col2\" >9.35%</td>\n",
       "            </tr>\n",
       "            <tr>\n",
       "                        <th id=\"T_cc09b_level0_row1\" class=\"row_heading level0 row1\" >получение образования</th>\n",
       "                        <td id=\"T_cc09b_row1_col0\" class=\"data row1 col0\" >398800</td>\n",
       "                        <td id=\"T_cc09b_row1_col1\" class=\"data row1 col1\" >36900</td>\n",
       "                        <td id=\"T_cc09b_row1_col2\" class=\"data row1 col2\" >9.25%</td>\n",
       "            </tr>\n",
       "            <tr>\n",
       "                        <th id=\"T_cc09b_level0_row2\" class=\"row_heading level0 row2\" >проведение свадьбы</th>\n",
       "                        <td id=\"T_cc09b_row2_col0\" class=\"data row2 col0\" >231300</td>\n",
       "                        <td id=\"T_cc09b_row2_col1\" class=\"data row2 col1\" >18300</td>\n",
       "                        <td id=\"T_cc09b_row2_col2\" class=\"data row2 col2\" >7.91%</td>\n",
       "            </tr>\n",
       "            <tr>\n",
       "                        <th id=\"T_cc09b_level0_row3\" class=\"row_heading level0 row3\" >операции с недвижимостью</th>\n",
       "                        <td id=\"T_cc09b_row3_col0\" class=\"data row3 col0\" >1075100</td>\n",
       "                        <td id=\"T_cc09b_row3_col1\" class=\"data row3 col1\" >78000</td>\n",
       "                        <td id=\"T_cc09b_row3_col2\" class=\"data row3 col2\" >7.26%</td>\n",
       "            </tr>\n",
       "    </tbody></table>"
      ],
      "text/plain": [
       "<pandas.io.formats.style.Styler at 0x7fa6bacba370>"
      ]
     },
     "execution_count": 26,
     "metadata": {},
     "output_type": "execute_result"
    }
   ],
   "source": [
    "debt_purpose_category = pd.DataFrame()\n",
    "debt_purpose_category['sum'] = data.groupby('purpose_category')['debt'].sum()\n",
    "debt_purpose_category['count'] = data.groupby('purpose_category')['debt'].count()\n",
    "#debt_purpose_category['result'] = debt_purpose_category['sum'] / debt_purpose_category['count'] \n",
    "#debt_purpose_category.sort_values('result', ascending = False)\n",
    "data.groupby('purpose_category')['debt'].agg(['count', 'sum', 'mean']\n",
    "                                         ).sort_values(by='mean',\n",
    "                             ascending=False).mul(100).style.format({'mean': '{:.2f}%'\n",
    "        })"
   ]
  },
  {
   "cell_type": "markdown",
   "id": "aae7018f",
   "metadata": {
    "deletable": false,
    "id": "b4bb2ce6"
   },
   "source": [
    "**Вывод:** Чаще всего не имеют просрочек клиенты берущие кредит на недвижимость 7.26% и на свадьбу и 7.91% , больше всего просрочек у клиентов которые берут кредит на автомобиль 9.35% или образование 9.25%"
   ]
  },
  {
   "cell_type": "markdown",
   "id": "114928e8",
   "metadata": {
    "deletable": false,
    "editable": false,
    "id": "09c3ac4c"
   },
   "source": [
    "#### 3.5 Приведите возможные причины появления пропусков в исходных данных."
   ]
  },
  {
   "cell_type": "markdown",
   "id": "fedd5937",
   "metadata": {
    "deletable": false,
    "id": "9da2ceda"
   },
   "source": [
    "*Ответ:* Ошибки в заполениии оператом, ошибки в расчетах самой системы"
   ]
  },
  {
   "cell_type": "markdown",
   "id": "1165d3c3",
   "metadata": {
    "deletable": false,
    "editable": false,
    "id": "7b0487d6"
   },
   "source": [
    "#### 3.6 Объясните, почему заполнить пропуски медианным значением — лучшее решение для количественных переменных."
   ]
  },
  {
   "cell_type": "markdown",
   "id": "38776894",
   "metadata": {
    "deletable": false,
    "id": "7ecf2b8e"
   },
   "source": [
    "*Ответ:* Потому что если мы строки удалим пропусками то данные в других столбцах будут очень сильно искажены, применяя медианные значения мы оставляем другие столбцы не изменными.  "
   ]
  },
  {
   "cell_type": "markdown",
   "id": "d25cc6ba",
   "metadata": {
    "deletable": false,
    "editable": false,
    "id": "6db5255a"
   },
   "source": [
    "### Шаг 4: общий вывод."
   ]
  },
  {
   "cell_type": "markdown",
   "id": "2b765509",
   "metadata": {
    "deletable": false,
    "id": "bad65432"
   },
   "source": [
    "**Вывод**: \n",
    "Если считать проценты просрочек платежей можно сделать вывод:\n",
    "Самые надежные заемщики - вдовцы 6.62%, уровнем дохода более 195 тыс. 7.14%, берущие кредит на недвижимость 7.26%.\n",
    "Самые ненадежные это не женатые 9.76%, с доходом от 107507 до 142594 8.71%, берущие в кредит автомобиль 9.35%.\n",
    "Выборка по детям оказалась не очень показательной, поэтому в даном выводе мы не будем их применять"
   ]
  }
 ],
 "metadata": {
  "ExecuteTimeLog": [
   {
    "duration": 423,
    "start_time": "2023-01-04T13:09:21.827Z"
   },
   {
    "duration": 21,
    "start_time": "2023-01-04T13:09:43.988Z"
   },
   {
    "duration": 14,
    "start_time": "2023-01-04T13:09:48.660Z"
   },
   {
    "duration": 10,
    "start_time": "2023-01-04T13:09:51.035Z"
   },
   {
    "duration": 32,
    "start_time": "2023-01-04T13:09:51.760Z"
   },
   {
    "duration": 3,
    "start_time": "2023-01-04T13:09:53.269Z"
   },
   {
    "duration": 8,
    "start_time": "2023-01-04T13:09:54.518Z"
   },
   {
    "duration": 5,
    "start_time": "2023-01-04T13:09:56.153Z"
   },
   {
    "duration": 7,
    "start_time": "2023-01-04T13:09:58.727Z"
   },
   {
    "duration": 4,
    "start_time": "2023-01-04T13:09:59.985Z"
   },
   {
    "duration": 40,
    "start_time": "2023-01-04T13:10:02.272Z"
   },
   {
    "duration": 13,
    "start_time": "2023-01-04T13:10:03.327Z"
   },
   {
    "duration": 4,
    "start_time": "2023-01-04T13:10:04.842Z"
   },
   {
    "duration": 12,
    "start_time": "2023-01-04T13:10:07.154Z"
   },
   {
    "duration": 18,
    "start_time": "2023-01-04T13:10:09.661Z"
   },
   {
    "duration": 17,
    "start_time": "2023-01-04T13:10:10.300Z"
   },
   {
    "duration": 4,
    "start_time": "2023-01-04T13:10:16.655Z"
   },
   {
    "duration": 9,
    "start_time": "2023-01-04T13:10:17.331Z"
   },
   {
    "duration": 6,
    "start_time": "2023-01-04T13:10:18.657Z"
   },
   {
    "duration": 4,
    "start_time": "2023-01-04T13:10:20.670Z"
   },
   {
    "duration": 7,
    "start_time": "2023-01-04T13:10:21.426Z"
   },
   {
    "duration": 2,
    "start_time": "2023-01-04T13:10:23.547Z"
   },
   {
    "duration": 58,
    "start_time": "2023-01-04T13:22:34.741Z"
   },
   {
    "duration": 5,
    "start_time": "2023-01-04T13:22:41.640Z"
   },
   {
    "duration": 5,
    "start_time": "2023-01-04T13:23:47.205Z"
   },
   {
    "duration": 8,
    "start_time": "2023-01-04T13:24:05.373Z"
   },
   {
    "duration": 9,
    "start_time": "2023-01-04T13:26:55.677Z"
   },
   {
    "duration": 8,
    "start_time": "2023-01-04T13:27:14.523Z"
   },
   {
    "duration": 8,
    "start_time": "2023-01-04T13:27:37.389Z"
   },
   {
    "duration": 9,
    "start_time": "2023-01-04T13:27:42.432Z"
   },
   {
    "duration": 8,
    "start_time": "2023-01-04T13:27:58.867Z"
   },
   {
    "duration": 13,
    "start_time": "2023-01-04T13:30:39.206Z"
   },
   {
    "duration": 14,
    "start_time": "2023-01-04T13:31:52.583Z"
   },
   {
    "duration": 12,
    "start_time": "2023-01-04T13:32:22.565Z"
   },
   {
    "duration": 13,
    "start_time": "2023-01-04T13:33:09.779Z"
   },
   {
    "duration": 12,
    "start_time": "2023-01-04T13:38:16.164Z"
   },
   {
    "duration": 10,
    "start_time": "2023-01-04T14:13:24.641Z"
   },
   {
    "duration": 11,
    "start_time": "2023-01-04T14:13:36.714Z"
   },
   {
    "duration": 11,
    "start_time": "2023-01-04T14:13:44.474Z"
   },
   {
    "duration": 13,
    "start_time": "2023-01-04T14:14:06.185Z"
   },
   {
    "duration": 11,
    "start_time": "2023-01-04T14:14:16.057Z"
   },
   {
    "duration": 3,
    "start_time": "2023-01-04T14:14:23.869Z"
   },
   {
    "duration": 10,
    "start_time": "2023-01-04T14:14:30.609Z"
   },
   {
    "duration": 13,
    "start_time": "2023-01-04T14:14:56.350Z"
   },
   {
    "duration": 11,
    "start_time": "2023-01-04T14:23:10.436Z"
   },
   {
    "duration": 17,
    "start_time": "2023-01-04T16:04:06.553Z"
   },
   {
    "duration": 15,
    "start_time": "2023-01-04T16:07:43.475Z"
   },
   {
    "duration": 45,
    "start_time": "2023-01-09T10:55:22.731Z"
   },
   {
    "duration": 8,
    "start_time": "2023-01-09T10:55:51.007Z"
   },
   {
    "duration": 7,
    "start_time": "2023-01-09T10:56:35.604Z"
   },
   {
    "duration": 8,
    "start_time": "2023-01-09T10:56:51.908Z"
   },
   {
    "duration": 1037,
    "start_time": "2023-01-09T10:57:06.591Z"
   },
   {
    "duration": 22,
    "start_time": "2023-01-09T10:57:07.651Z"
   },
   {
    "duration": 14,
    "start_time": "2023-01-09T10:57:08.195Z"
   },
   {
    "duration": 10,
    "start_time": "2023-01-09T10:57:09.236Z"
   },
   {
    "duration": 34,
    "start_time": "2023-01-09T10:57:09.809Z"
   },
   {
    "duration": 4,
    "start_time": "2023-01-09T10:57:10.586Z"
   },
   {
    "duration": 8,
    "start_time": "2023-01-09T10:57:11.113Z"
   },
   {
    "duration": 4,
    "start_time": "2023-01-09T10:57:12.538Z"
   },
   {
    "duration": 7,
    "start_time": "2023-01-09T10:57:13.426Z"
   },
   {
    "duration": 5,
    "start_time": "2023-01-09T10:57:14.266Z"
   },
   {
    "duration": 32,
    "start_time": "2023-01-09T10:57:15.549Z"
   },
   {
    "duration": 9,
    "start_time": "2023-01-09T10:57:16.073Z"
   },
   {
    "duration": 4,
    "start_time": "2023-01-09T10:57:17.260Z"
   },
   {
    "duration": 17,
    "start_time": "2023-01-09T10:57:19.243Z"
   },
   {
    "duration": 22,
    "start_time": "2023-01-09T10:57:20.210Z"
   },
   {
    "duration": 17,
    "start_time": "2023-01-09T10:57:20.706Z"
   },
   {
    "duration": 3,
    "start_time": "2023-01-09T10:57:22.274Z"
   },
   {
    "duration": 15,
    "start_time": "2023-01-09T10:57:22.792Z"
   },
   {
    "duration": 6,
    "start_time": "2023-01-09T10:57:23.824Z"
   },
   {
    "duration": 3,
    "start_time": "2023-01-09T10:57:24.865Z"
   },
   {
    "duration": 8,
    "start_time": "2023-01-09T10:57:25.550Z"
   },
   {
    "duration": 16,
    "start_time": "2023-01-09T10:57:27.890Z"
   },
   {
    "duration": 17,
    "start_time": "2023-01-09T10:57:30.840Z"
   },
   {
    "duration": 24,
    "start_time": "2023-01-09T10:57:33.892Z"
   },
   {
    "duration": 88,
    "start_time": "2023-01-09T11:29:04.069Z"
   },
   {
    "duration": 16,
    "start_time": "2023-01-09T11:29:16.771Z"
   },
   {
    "duration": 22,
    "start_time": "2023-01-09T12:11:03.691Z"
   },
   {
    "duration": 23,
    "start_time": "2023-01-09T12:11:29.865Z"
   },
   {
    "duration": 26,
    "start_time": "2023-01-09T12:14:02.030Z"
   },
   {
    "duration": 24,
    "start_time": "2023-01-09T12:15:17.054Z"
   },
   {
    "duration": 24,
    "start_time": "2023-01-09T12:17:02.339Z"
   },
   {
    "duration": 19,
    "start_time": "2023-01-09T12:35:45.118Z"
   },
   {
    "duration": 17,
    "start_time": "2023-01-09T12:35:49.637Z"
   },
   {
    "duration": 29,
    "start_time": "2023-01-09T12:35:53.117Z"
   },
   {
    "duration": 16,
    "start_time": "2023-01-09T12:57:36.550Z"
   },
   {
    "duration": 23,
    "start_time": "2023-01-09T12:58:04.992Z"
   },
   {
    "duration": 24,
    "start_time": "2023-01-09T12:59:39.770Z"
   },
   {
    "duration": 16,
    "start_time": "2023-01-09T13:10:39.271Z"
   },
   {
    "duration": 492,
    "start_time": "2023-01-10T10:41:23.927Z"
   },
   {
    "duration": 22,
    "start_time": "2023-01-10T10:41:24.421Z"
   },
   {
    "duration": 39,
    "start_time": "2023-01-10T10:41:24.445Z"
   },
   {
    "duration": 21,
    "start_time": "2023-01-10T10:41:24.485Z"
   },
   {
    "duration": 56,
    "start_time": "2023-01-10T10:41:24.508Z"
   },
   {
    "duration": 4,
    "start_time": "2023-01-10T10:41:24.566Z"
   },
   {
    "duration": 37,
    "start_time": "2023-01-10T10:41:24.572Z"
   },
   {
    "duration": 37,
    "start_time": "2023-01-10T10:41:24.611Z"
   },
   {
    "duration": 152,
    "start_time": "2023-01-10T10:41:24.649Z"
   },
   {
    "duration": 62,
    "start_time": "2023-01-10T10:41:24.804Z"
   },
   {
    "duration": 58,
    "start_time": "2023-01-10T10:41:24.868Z"
   },
   {
    "duration": 20,
    "start_time": "2023-01-10T10:41:24.928Z"
   },
   {
    "duration": 34,
    "start_time": "2023-01-10T10:41:24.950Z"
   },
   {
    "duration": 23,
    "start_time": "2023-01-10T10:41:24.986Z"
   },
   {
    "duration": 50,
    "start_time": "2023-01-10T10:41:25.011Z"
   },
   {
    "duration": 26,
    "start_time": "2023-01-10T10:41:25.063Z"
   },
   {
    "duration": 26,
    "start_time": "2023-01-10T10:41:25.091Z"
   },
   {
    "duration": 266,
    "start_time": "2023-01-10T10:41:25.119Z"
   },
   {
    "duration": 53,
    "start_time": "2023-01-10T10:41:25.386Z"
   },
   {
    "duration": 53,
    "start_time": "2023-01-10T10:41:25.441Z"
   },
   {
    "duration": 61,
    "start_time": "2023-01-10T10:41:25.496Z"
   },
   {
    "duration": 66,
    "start_time": "2023-01-10T10:41:25.559Z"
   },
   {
    "duration": 61,
    "start_time": "2023-01-10T10:41:25.626Z"
   },
   {
    "duration": 51,
    "start_time": "2023-01-10T10:41:25.690Z"
   },
   {
    "duration": 65,
    "start_time": "2023-01-10T10:41:25.744Z"
   },
   {
    "duration": 51,
    "start_time": "2023-01-10T17:05:06.322Z"
   },
   {
    "duration": 580,
    "start_time": "2023-01-10T17:06:48.922Z"
   },
   {
    "duration": 25,
    "start_time": "2023-01-10T17:06:51.965Z"
   },
   {
    "duration": 23,
    "start_time": "2023-01-10T17:06:52.703Z"
   },
   {
    "duration": 9,
    "start_time": "2023-01-10T17:06:54.234Z"
   },
   {
    "duration": 36,
    "start_time": "2023-01-10T17:06:55.224Z"
   },
   {
    "duration": 4,
    "start_time": "2023-01-10T17:06:56.930Z"
   },
   {
    "duration": 8,
    "start_time": "2023-01-10T17:06:57.968Z"
   },
   {
    "duration": 6,
    "start_time": "2023-01-10T17:06:59.605Z"
   },
   {
    "duration": 8,
    "start_time": "2023-01-10T17:07:00.722Z"
   },
   {
    "duration": 5,
    "start_time": "2023-01-10T17:07:01.686Z"
   },
   {
    "duration": 36,
    "start_time": "2023-01-10T17:07:03.125Z"
   },
   {
    "duration": 10,
    "start_time": "2023-01-10T17:07:04.094Z"
   },
   {
    "duration": 4,
    "start_time": "2023-01-10T17:07:06.887Z"
   },
   {
    "duration": 12,
    "start_time": "2023-01-10T17:07:08.346Z"
   },
   {
    "duration": 21,
    "start_time": "2023-01-10T17:07:09.379Z"
   },
   {
    "duration": 18,
    "start_time": "2023-01-10T17:07:09.969Z"
   },
   {
    "duration": 3,
    "start_time": "2023-01-10T17:07:11.389Z"
   },
   {
    "duration": 10,
    "start_time": "2023-01-10T17:07:12.085Z"
   },
   {
    "duration": 6,
    "start_time": "2023-01-10T17:07:13.918Z"
   },
   {
    "duration": 12,
    "start_time": "2023-01-10T17:07:15.202Z"
   },
   {
    "duration": 9,
    "start_time": "2023-01-10T17:07:15.953Z"
   },
   {
    "duration": 18,
    "start_time": "2023-01-10T17:07:17.929Z"
   },
   {
    "duration": 26,
    "start_time": "2023-01-10T17:07:51.902Z"
   },
   {
    "duration": 22,
    "start_time": "2023-01-10T17:09:18.281Z"
   },
   {
    "duration": 36,
    "start_time": "2023-01-10T17:26:49.982Z"
   },
   {
    "duration": 29,
    "start_time": "2023-01-10T17:29:25.741Z"
   },
   {
    "duration": 17,
    "start_time": "2023-01-10T17:29:33.474Z"
   },
   {
    "duration": 71,
    "start_time": "2023-01-10T17:54:36.625Z"
   },
   {
    "duration": 477,
    "start_time": "2023-01-10T17:54:51.453Z"
   },
   {
    "duration": 28,
    "start_time": "2023-01-10T17:54:51.932Z"
   },
   {
    "duration": 15,
    "start_time": "2023-01-10T17:54:51.961Z"
   },
   {
    "duration": 28,
    "start_time": "2023-01-10T17:54:51.978Z"
   },
   {
    "duration": 38,
    "start_time": "2023-01-10T17:54:52.007Z"
   },
   {
    "duration": 4,
    "start_time": "2023-01-10T17:54:52.046Z"
   },
   {
    "duration": 14,
    "start_time": "2023-01-10T17:54:52.052Z"
   },
   {
    "duration": 8,
    "start_time": "2023-01-10T17:54:52.068Z"
   },
   {
    "duration": 33,
    "start_time": "2023-01-10T17:54:52.078Z"
   },
   {
    "duration": 15,
    "start_time": "2023-01-10T17:54:52.114Z"
   },
   {
    "duration": 44,
    "start_time": "2023-01-10T17:54:52.130Z"
   },
   {
    "duration": 12,
    "start_time": "2023-01-10T17:54:52.176Z"
   },
   {
    "duration": 16,
    "start_time": "2023-01-10T17:54:52.189Z"
   },
   {
    "duration": 26,
    "start_time": "2023-01-10T17:54:52.206Z"
   },
   {
    "duration": 24,
    "start_time": "2023-01-10T17:54:52.234Z"
   },
   {
    "duration": 17,
    "start_time": "2023-01-10T17:54:52.260Z"
   },
   {
    "duration": 4,
    "start_time": "2023-01-10T17:54:52.278Z"
   },
   {
    "duration": 36,
    "start_time": "2023-01-10T17:54:52.284Z"
   },
   {
    "duration": 21,
    "start_time": "2023-01-10T17:54:52.323Z"
   },
   {
    "duration": 20,
    "start_time": "2023-01-10T17:54:52.346Z"
   },
   {
    "duration": 30,
    "start_time": "2023-01-10T17:54:52.368Z"
   },
   {
    "duration": 33,
    "start_time": "2023-01-10T17:54:52.400Z"
   },
   {
    "duration": 25,
    "start_time": "2023-01-10T17:54:52.436Z"
   },
   {
    "duration": 35,
    "start_time": "2023-01-10T17:54:52.463Z"
   },
   {
    "duration": 28,
    "start_time": "2023-01-10T17:54:52.500Z"
   },
   {
    "duration": 20,
    "start_time": "2023-01-10T17:54:52.530Z"
   },
   {
    "duration": 12,
    "start_time": "2023-01-10T17:55:53.976Z"
   },
   {
    "duration": 14,
    "start_time": "2023-01-10T17:57:14.144Z"
   },
   {
    "duration": 40,
    "start_time": "2023-01-10T17:58:57.937Z"
   },
   {
    "duration": 547,
    "start_time": "2023-01-10T18:12:08.693Z"
   },
   {
    "duration": 22,
    "start_time": "2023-01-10T18:12:09.242Z"
   },
   {
    "duration": 15,
    "start_time": "2023-01-10T18:12:09.265Z"
   },
   {
    "duration": 27,
    "start_time": "2023-01-10T18:12:09.282Z"
   },
   {
    "duration": 36,
    "start_time": "2023-01-10T18:12:09.311Z"
   },
   {
    "duration": 3,
    "start_time": "2023-01-10T18:12:09.349Z"
   },
   {
    "duration": 14,
    "start_time": "2023-01-10T18:12:09.354Z"
   },
   {
    "duration": 35,
    "start_time": "2023-01-10T18:12:09.370Z"
   },
   {
    "duration": 9,
    "start_time": "2023-01-10T18:12:09.407Z"
   },
   {
    "duration": 6,
    "start_time": "2023-01-10T18:12:09.421Z"
   },
   {
    "duration": 63,
    "start_time": "2023-01-10T18:12:09.429Z"
   },
   {
    "duration": 25,
    "start_time": "2023-01-10T18:12:09.494Z"
   },
   {
    "duration": 8,
    "start_time": "2023-01-10T18:12:09.521Z"
   },
   {
    "duration": 24,
    "start_time": "2023-01-10T18:12:09.530Z"
   },
   {
    "duration": 22,
    "start_time": "2023-01-10T18:12:09.555Z"
   },
   {
    "duration": 44,
    "start_time": "2023-01-10T18:12:09.579Z"
   },
   {
    "duration": 4,
    "start_time": "2023-01-10T18:12:09.626Z"
   },
   {
    "duration": 17,
    "start_time": "2023-01-10T18:12:09.632Z"
   },
   {
    "duration": 8,
    "start_time": "2023-01-10T18:12:09.652Z"
   },
   {
    "duration": 3,
    "start_time": "2023-01-10T18:12:09.662Z"
   },
   {
    "duration": 14,
    "start_time": "2023-01-10T18:12:09.668Z"
   },
   {
    "duration": 18,
    "start_time": "2023-01-10T18:12:09.705Z"
   },
   {
    "duration": 19,
    "start_time": "2023-01-10T18:12:09.725Z"
   },
   {
    "duration": 13,
    "start_time": "2023-01-10T18:12:09.746Z"
   },
   {
    "duration": 55,
    "start_time": "2023-01-10T18:12:09.761Z"
   },
   {
    "duration": 23,
    "start_time": "2023-01-10T18:12:09.818Z"
   },
   {
    "duration": 12,
    "start_time": "2023-01-10T19:09:28.842Z"
   },
   {
    "duration": 29,
    "start_time": "2023-01-10T19:09:29.492Z"
   },
   {
    "duration": 23,
    "start_time": "2023-01-10T19:35:35.200Z"
   },
   {
    "duration": 69,
    "start_time": "2023-01-10T20:16:04.826Z"
   },
   {
    "duration": 69,
    "start_time": "2023-01-10T20:16:18.818Z"
   },
   {
    "duration": 72,
    "start_time": "2023-01-10T20:16:25.123Z"
   },
   {
    "duration": 22,
    "start_time": "2023-01-10T20:17:00.458Z"
   },
   {
    "duration": 23,
    "start_time": "2023-01-10T20:17:12.970Z"
   },
   {
    "duration": 23,
    "start_time": "2023-01-10T20:18:59.038Z"
   },
   {
    "duration": 19,
    "start_time": "2023-01-10T20:19:19.718Z"
   },
   {
    "duration": 22,
    "start_time": "2023-01-10T20:19:45.920Z"
   },
   {
    "duration": 28,
    "start_time": "2023-01-10T20:20:33.786Z"
   },
   {
    "duration": 21,
    "start_time": "2023-01-10T20:21:31.374Z"
   },
   {
    "duration": 20,
    "start_time": "2023-01-10T20:22:38.227Z"
   },
   {
    "duration": 19,
    "start_time": "2023-01-10T20:23:34.200Z"
   },
   {
    "duration": 30,
    "start_time": "2023-01-10T20:24:12.567Z"
   },
   {
    "duration": 20,
    "start_time": "2023-01-10T20:24:20.023Z"
   },
   {
    "duration": 20,
    "start_time": "2023-01-10T20:24:31.942Z"
   },
   {
    "duration": 56,
    "start_time": "2023-01-11T05:53:24.487Z"
   },
   {
    "duration": 726,
    "start_time": "2023-01-11T05:53:40.148Z"
   },
   {
    "duration": 21,
    "start_time": "2023-01-11T05:53:40.876Z"
   },
   {
    "duration": 13,
    "start_time": "2023-01-11T05:53:40.899Z"
   },
   {
    "duration": 28,
    "start_time": "2023-01-11T05:53:40.913Z"
   },
   {
    "duration": 56,
    "start_time": "2023-01-11T05:53:40.943Z"
   },
   {
    "duration": 9,
    "start_time": "2023-01-11T05:53:41.001Z"
   },
   {
    "duration": 21,
    "start_time": "2023-01-11T05:53:41.012Z"
   },
   {
    "duration": 16,
    "start_time": "2023-01-11T05:53:41.035Z"
   },
   {
    "duration": 11,
    "start_time": "2023-01-11T05:53:41.052Z"
   },
   {
    "duration": 18,
    "start_time": "2023-01-11T05:53:41.066Z"
   },
   {
    "duration": 55,
    "start_time": "2023-01-11T05:53:41.085Z"
   },
   {
    "duration": 21,
    "start_time": "2023-01-11T05:53:41.141Z"
   },
   {
    "duration": 15,
    "start_time": "2023-01-11T05:53:41.164Z"
   },
   {
    "duration": 20,
    "start_time": "2023-01-11T05:53:41.181Z"
   },
   {
    "duration": 56,
    "start_time": "2023-01-11T05:53:41.203Z"
   },
   {
    "duration": 25,
    "start_time": "2023-01-11T05:53:41.260Z"
   },
   {
    "duration": 6,
    "start_time": "2023-01-11T05:53:41.286Z"
   },
   {
    "duration": 23,
    "start_time": "2023-01-11T05:53:41.293Z"
   },
   {
    "duration": 41,
    "start_time": "2023-01-11T05:53:41.318Z"
   },
   {
    "duration": 7,
    "start_time": "2023-01-11T05:53:41.361Z"
   },
   {
    "duration": 22,
    "start_time": "2023-01-11T05:53:41.370Z"
   },
   {
    "duration": 20,
    "start_time": "2023-01-11T05:53:41.394Z"
   },
   {
    "duration": 18,
    "start_time": "2023-01-11T05:53:41.415Z"
   },
   {
    "duration": 26,
    "start_time": "2023-01-11T05:53:41.434Z"
   },
   {
    "duration": 24,
    "start_time": "2023-01-11T05:53:41.462Z"
   },
   {
    "duration": 500,
    "start_time": "2023-01-11T05:53:41.487Z"
   },
   {
    "duration": 89,
    "start_time": "2023-01-11T05:53:51.121Z"
   },
   {
    "duration": 32,
    "start_time": "2023-01-11T05:54:00.640Z"
   },
   {
    "duration": 30,
    "start_time": "2023-01-11T05:55:35.209Z"
   },
   {
    "duration": 29,
    "start_time": "2023-01-11T05:55:41.613Z"
   },
   {
    "duration": 49,
    "start_time": "2023-01-11T05:56:08.438Z"
   },
   {
    "duration": 483,
    "start_time": "2023-01-11T05:56:46.386Z"
   },
   {
    "duration": 20,
    "start_time": "2023-01-11T05:56:46.871Z"
   },
   {
    "duration": 15,
    "start_time": "2023-01-11T05:56:46.893Z"
   },
   {
    "duration": 10,
    "start_time": "2023-01-11T05:56:46.910Z"
   },
   {
    "duration": 32,
    "start_time": "2023-01-11T05:56:46.921Z"
   },
   {
    "duration": 4,
    "start_time": "2023-01-11T05:56:46.954Z"
   },
   {
    "duration": 14,
    "start_time": "2023-01-11T05:56:46.959Z"
   },
   {
    "duration": 25,
    "start_time": "2023-01-11T05:56:46.974Z"
   },
   {
    "duration": 9,
    "start_time": "2023-01-11T05:56:47.001Z"
   },
   {
    "duration": 20,
    "start_time": "2023-01-11T05:56:47.013Z"
   },
   {
    "duration": 35,
    "start_time": "2023-01-11T05:56:47.034Z"
   },
   {
    "duration": 10,
    "start_time": "2023-01-11T05:56:47.070Z"
   },
   {
    "duration": 17,
    "start_time": "2023-01-11T05:56:47.082Z"
   },
   {
    "duration": 11,
    "start_time": "2023-01-11T05:56:47.101Z"
   },
   {
    "duration": 20,
    "start_time": "2023-01-11T05:56:47.114Z"
   },
   {
    "duration": 17,
    "start_time": "2023-01-11T05:56:47.136Z"
   },
   {
    "duration": 3,
    "start_time": "2023-01-11T05:56:47.155Z"
   },
   {
    "duration": 43,
    "start_time": "2023-01-11T05:56:47.160Z"
   },
   {
    "duration": 6,
    "start_time": "2023-01-11T05:56:47.205Z"
   },
   {
    "duration": 4,
    "start_time": "2023-01-11T05:56:47.212Z"
   },
   {
    "duration": 16,
    "start_time": "2023-01-11T05:56:47.217Z"
   },
   {
    "duration": 19,
    "start_time": "2023-01-11T05:56:47.234Z"
   },
   {
    "duration": 20,
    "start_time": "2023-01-11T05:56:47.255Z"
   },
   {
    "duration": 34,
    "start_time": "2023-01-11T05:56:47.276Z"
   },
   {
    "duration": 28,
    "start_time": "2023-01-11T05:56:47.311Z"
   },
   {
    "duration": 307,
    "start_time": "2023-01-11T05:56:47.341Z"
   },
   {
    "duration": 29,
    "start_time": "2023-01-11T05:57:01.973Z"
   },
   {
    "duration": 31,
    "start_time": "2023-01-11T06:00:15.185Z"
   },
   {
    "duration": 5,
    "start_time": "2023-01-11T06:03:21.646Z"
   },
   {
    "duration": 24,
    "start_time": "2023-01-11T06:03:54.917Z"
   },
   {
    "duration": 26,
    "start_time": "2023-01-11T06:04:02.540Z"
   },
   {
    "duration": 31,
    "start_time": "2023-01-11T06:04:09.965Z"
   },
   {
    "duration": 28,
    "start_time": "2023-01-11T06:04:18.572Z"
   },
   {
    "duration": 34,
    "start_time": "2023-01-11T06:04:22.653Z"
   },
   {
    "duration": 27,
    "start_time": "2023-01-11T06:04:28.605Z"
   },
   {
    "duration": 28,
    "start_time": "2023-01-11T06:04:57.156Z"
   },
   {
    "duration": 78,
    "start_time": "2023-01-11T06:07:42.315Z"
   },
   {
    "duration": 15,
    "start_time": "2023-01-11T06:07:50.593Z"
   },
   {
    "duration": 15,
    "start_time": "2023-01-11T06:09:52.566Z"
   },
   {
    "duration": 19,
    "start_time": "2023-01-11T06:10:48.790Z"
   },
   {
    "duration": 19,
    "start_time": "2023-01-11T06:11:44.037Z"
   },
   {
    "duration": 25,
    "start_time": "2023-01-11T06:12:09.807Z"
   },
   {
    "duration": 21,
    "start_time": "2023-01-11T06:37:00.921Z"
   },
   {
    "duration": 481,
    "start_time": "2023-01-11T06:55:18.042Z"
   },
   {
    "duration": 28,
    "start_time": "2023-01-11T06:55:18.526Z"
   },
   {
    "duration": 22,
    "start_time": "2023-01-11T06:55:18.556Z"
   },
   {
    "duration": 14,
    "start_time": "2023-01-11T06:55:18.596Z"
   },
   {
    "duration": 47,
    "start_time": "2023-01-11T06:55:18.612Z"
   },
   {
    "duration": 4,
    "start_time": "2023-01-11T06:55:18.661Z"
   },
   {
    "duration": 35,
    "start_time": "2023-01-11T06:55:18.667Z"
   },
   {
    "duration": 5,
    "start_time": "2023-01-11T06:55:18.704Z"
   },
   {
    "duration": 19,
    "start_time": "2023-01-11T06:55:18.710Z"
   },
   {
    "duration": 6,
    "start_time": "2023-01-11T06:55:18.733Z"
   },
   {
    "duration": 56,
    "start_time": "2023-01-11T06:55:18.740Z"
   },
   {
    "duration": 13,
    "start_time": "2023-01-11T06:55:18.799Z"
   },
   {
    "duration": 7,
    "start_time": "2023-01-11T06:55:18.813Z"
   },
   {
    "duration": 18,
    "start_time": "2023-01-11T06:55:18.821Z"
   },
   {
    "duration": 26,
    "start_time": "2023-01-11T06:55:18.842Z"
   },
   {
    "duration": 40,
    "start_time": "2023-01-11T06:55:18.870Z"
   },
   {
    "duration": 4,
    "start_time": "2023-01-11T06:55:18.911Z"
   },
   {
    "duration": 16,
    "start_time": "2023-01-11T06:55:18.917Z"
   },
   {
    "duration": 7,
    "start_time": "2023-01-11T06:55:18.935Z"
   },
   {
    "duration": 5,
    "start_time": "2023-01-11T06:55:18.944Z"
   },
   {
    "duration": 15,
    "start_time": "2023-01-11T06:55:18.951Z"
   },
   {
    "duration": 349,
    "start_time": "2023-01-11T06:55:18.968Z"
   },
   {
    "duration": 29,
    "start_time": "2023-01-11T06:55:19.319Z"
   },
   {
    "duration": 14,
    "start_time": "2023-01-11T06:55:19.350Z"
   },
   {
    "duration": 45,
    "start_time": "2023-01-11T06:55:19.366Z"
   },
   {
    "duration": 20,
    "start_time": "2023-01-11T06:55:19.413Z"
   },
   {
    "duration": 460,
    "start_time": "2023-01-11T06:56:36.230Z"
   },
   {
    "duration": 25,
    "start_time": "2023-01-11T06:56:36.692Z"
   },
   {
    "duration": 16,
    "start_time": "2023-01-11T06:56:36.719Z"
   },
   {
    "duration": 14,
    "start_time": "2023-01-11T06:56:36.738Z"
   },
   {
    "duration": 79,
    "start_time": "2023-01-11T06:56:36.754Z"
   },
   {
    "duration": 4,
    "start_time": "2023-01-11T06:56:36.835Z"
   },
   {
    "duration": 13,
    "start_time": "2023-01-11T06:56:36.841Z"
   },
   {
    "duration": 5,
    "start_time": "2023-01-11T06:56:36.856Z"
   },
   {
    "duration": 34,
    "start_time": "2023-01-11T06:56:36.863Z"
   },
   {
    "duration": 5,
    "start_time": "2023-01-11T06:56:36.902Z"
   },
   {
    "duration": 47,
    "start_time": "2023-01-11T06:56:36.909Z"
   },
   {
    "duration": 13,
    "start_time": "2023-01-11T06:56:36.958Z"
   },
   {
    "duration": 5,
    "start_time": "2023-01-11T06:56:36.998Z"
   },
   {
    "duration": 20,
    "start_time": "2023-01-11T06:56:37.005Z"
   },
   {
    "duration": 24,
    "start_time": "2023-01-11T06:56:37.027Z"
   },
   {
    "duration": 44,
    "start_time": "2023-01-11T06:56:37.053Z"
   },
   {
    "duration": 3,
    "start_time": "2023-01-11T06:56:37.099Z"
   },
   {
    "duration": 18,
    "start_time": "2023-01-11T06:56:37.104Z"
   },
   {
    "duration": 9,
    "start_time": "2023-01-11T06:56:37.124Z"
   },
   {
    "duration": 5,
    "start_time": "2023-01-11T06:56:37.134Z"
   },
   {
    "duration": 11,
    "start_time": "2023-01-11T06:56:37.140Z"
   },
   {
    "duration": 331,
    "start_time": "2023-01-11T06:56:37.153Z"
   },
   {
    "duration": 27,
    "start_time": "2023-01-11T06:56:37.486Z"
   },
   {
    "duration": 16,
    "start_time": "2023-01-11T06:56:37.515Z"
   },
   {
    "duration": 34,
    "start_time": "2023-01-11T06:56:37.533Z"
   },
   {
    "duration": 46,
    "start_time": "2023-01-11T06:56:37.569Z"
   },
   {
    "duration": 450,
    "start_time": "2023-01-11T09:43:37.519Z"
   },
   {
    "duration": 21,
    "start_time": "2023-01-11T09:43:37.971Z"
   },
   {
    "duration": 14,
    "start_time": "2023-01-11T09:43:37.993Z"
   },
   {
    "duration": 12,
    "start_time": "2023-01-11T09:43:38.009Z"
   },
   {
    "duration": 56,
    "start_time": "2023-01-11T09:43:38.023Z"
   },
   {
    "duration": 3,
    "start_time": "2023-01-11T09:43:38.081Z"
   },
   {
    "duration": 54,
    "start_time": "2023-01-11T09:43:38.086Z"
   },
   {
    "duration": 4,
    "start_time": "2023-01-11T09:43:38.142Z"
   },
   {
    "duration": 13,
    "start_time": "2023-01-11T09:43:38.148Z"
   },
   {
    "duration": 8,
    "start_time": "2023-01-11T09:43:38.163Z"
   },
   {
    "duration": 46,
    "start_time": "2023-01-11T09:43:38.172Z"
   },
   {
    "duration": 10,
    "start_time": "2023-01-11T09:43:38.219Z"
   },
   {
    "duration": 6,
    "start_time": "2023-01-11T09:43:38.231Z"
   },
   {
    "duration": 14,
    "start_time": "2023-01-11T09:43:38.239Z"
   },
   {
    "duration": 23,
    "start_time": "2023-01-11T09:43:38.255Z"
   },
   {
    "duration": 17,
    "start_time": "2023-01-11T09:43:38.279Z"
   },
   {
    "duration": 4,
    "start_time": "2023-01-11T09:43:38.297Z"
   },
   {
    "duration": 15,
    "start_time": "2023-01-11T09:43:38.302Z"
   },
   {
    "duration": 5,
    "start_time": "2023-01-11T09:43:38.319Z"
   },
   {
    "duration": 3,
    "start_time": "2023-01-11T09:43:38.326Z"
   },
   {
    "duration": 10,
    "start_time": "2023-01-11T09:43:38.331Z"
   },
   {
    "duration": 296,
    "start_time": "2023-01-11T09:43:38.343Z"
   },
   {
    "duration": 18,
    "start_time": "2023-01-11T09:43:38.641Z"
   },
   {
    "duration": 31,
    "start_time": "2023-01-11T09:43:38.661Z"
   },
   {
    "duration": 26,
    "start_time": "2023-01-11T09:43:38.693Z"
   },
   {
    "duration": 19,
    "start_time": "2023-01-11T09:43:38.720Z"
   }
  ],
  "colab": {
   "name": "dpp_template_part2.ipynb",
   "provenance": []
  },
  "kernelspec": {
   "display_name": "Python 3 (ipykernel)",
   "language": "python",
   "name": "python3"
  },
  "language_info": {
   "codemirror_mode": {
    "name": "ipython",
    "version": 3
   },
   "file_extension": ".py",
   "mimetype": "text/x-python",
   "name": "python",
   "nbconvert_exporter": "python",
   "pygments_lexer": "ipython3",
   "version": "3.9.5"
  },
  "toc": {
   "base_numbering": 1,
   "nav_menu": {},
   "number_sections": true,
   "sideBar": true,
   "skip_h1_title": true,
   "title_cell": "Table of Contents",
   "title_sidebar": "Contents",
   "toc_cell": false,
   "toc_position": {
    "height": "calc(100% - 180px)",
    "left": "10px",
    "top": "150px",
    "width": "410.933px"
   },
   "toc_section_display": true,
   "toc_window_display": true
  }
 },
 "nbformat": 4,
 "nbformat_minor": 5
}
