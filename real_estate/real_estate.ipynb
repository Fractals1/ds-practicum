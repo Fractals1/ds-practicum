{
 "cells": [
  {
   "cell_type": "markdown",
   "metadata": {},
   "source": [
    "# Исследование объявлений о продаже квартир\n",
    "\n",
    "В вашем распоряжении данные сервиса Яндекс.Недвижимость — архив объявлений о продаже квартир в Санкт-Петербурге и соседних населённых пунктов за несколько лет. Нужно научиться определять рыночную стоимость объектов недвижимости. Ваша задача — установить параметры. Это позволит построить автоматизированную систему: она отследит аномалии и мошенническую деятельность. \n",
    "\n",
    "По каждой квартире на продажу доступны два вида данных. Первые вписаны пользователем, вторые — получены автоматически на основе картографических данных. Например, расстояние до центра, аэропорта, ближайшего парка и водоёма. "
   ]
  },
  {
   "cell_type": "markdown",
   "metadata": {},
   "source": [
    "### Откройте файл с данными и изучите общую информацию. "
   ]
  },
  {
   "cell_type": "code",
   "execution_count": 1,
   "metadata": {},
   "outputs": [],
   "source": [
    "import pandas as pd\n",
    "import matplotlib.pyplot as plt\n",
    "import seaborn as sns\n",
    "import datetime as dt"
   ]
  },
  {
   "cell_type": "code",
   "execution_count": 2,
   "metadata": {},
   "outputs": [
    {
     "data": {
      "text/html": [
       "<div>\n",
       "<style scoped>\n",
       "    .dataframe tbody tr th:only-of-type {\n",
       "        vertical-align: middle;\n",
       "    }\n",
       "\n",
       "    .dataframe tbody tr th {\n",
       "        vertical-align: top;\n",
       "    }\n",
       "\n",
       "    .dataframe thead th {\n",
       "        text-align: right;\n",
       "    }\n",
       "</style>\n",
       "<table border=\"1\" class=\"dataframe\">\n",
       "  <thead>\n",
       "    <tr style=\"text-align: right;\">\n",
       "      <th></th>\n",
       "      <th>total_images</th>\n",
       "      <th>last_price</th>\n",
       "      <th>total_area</th>\n",
       "      <th>first_day_exposition</th>\n",
       "      <th>rooms</th>\n",
       "      <th>ceiling_height</th>\n",
       "      <th>floors_total</th>\n",
       "      <th>living_area</th>\n",
       "      <th>floor</th>\n",
       "      <th>is_apartment</th>\n",
       "      <th>studio</th>\n",
       "      <th>open_plan</th>\n",
       "      <th>kitchen_area</th>\n",
       "      <th>balcony</th>\n",
       "      <th>locality_name</th>\n",
       "      <th>airports_nearest</th>\n",
       "      <th>cityCenters_nearest</th>\n",
       "      <th>parks_around3000</th>\n",
       "      <th>parks_nearest</th>\n",
       "      <th>ponds_around3000</th>\n",
       "      <th>ponds_nearest</th>\n",
       "      <th>days_exposition</th>\n",
       "    </tr>\n",
       "  </thead>\n",
       "  <tbody>\n",
       "    <tr>\n",
       "      <th>0</th>\n",
       "      <td>20</td>\n",
       "      <td>13000000.0</td>\n",
       "      <td>108.00</td>\n",
       "      <td>2019-03-07T00:00:00</td>\n",
       "      <td>3</td>\n",
       "      <td>2.70</td>\n",
       "      <td>16.0</td>\n",
       "      <td>51.00</td>\n",
       "      <td>8</td>\n",
       "      <td>NaN</td>\n",
       "      <td>False</td>\n",
       "      <td>False</td>\n",
       "      <td>25.00</td>\n",
       "      <td>NaN</td>\n",
       "      <td>Санкт-Петербург</td>\n",
       "      <td>18863.0</td>\n",
       "      <td>16028.0</td>\n",
       "      <td>1.0</td>\n",
       "      <td>482.0</td>\n",
       "      <td>2.0</td>\n",
       "      <td>755.0</td>\n",
       "      <td>NaN</td>\n",
       "    </tr>\n",
       "    <tr>\n",
       "      <th>1</th>\n",
       "      <td>7</td>\n",
       "      <td>3350000.0</td>\n",
       "      <td>40.40</td>\n",
       "      <td>2018-12-04T00:00:00</td>\n",
       "      <td>1</td>\n",
       "      <td>NaN</td>\n",
       "      <td>11.0</td>\n",
       "      <td>18.60</td>\n",
       "      <td>1</td>\n",
       "      <td>NaN</td>\n",
       "      <td>False</td>\n",
       "      <td>False</td>\n",
       "      <td>11.00</td>\n",
       "      <td>2.0</td>\n",
       "      <td>посёлок Шушары</td>\n",
       "      <td>12817.0</td>\n",
       "      <td>18603.0</td>\n",
       "      <td>0.0</td>\n",
       "      <td>NaN</td>\n",
       "      <td>0.0</td>\n",
       "      <td>NaN</td>\n",
       "      <td>81.0</td>\n",
       "    </tr>\n",
       "    <tr>\n",
       "      <th>2</th>\n",
       "      <td>10</td>\n",
       "      <td>5196000.0</td>\n",
       "      <td>56.00</td>\n",
       "      <td>2015-08-20T00:00:00</td>\n",
       "      <td>2</td>\n",
       "      <td>NaN</td>\n",
       "      <td>5.0</td>\n",
       "      <td>34.30</td>\n",
       "      <td>4</td>\n",
       "      <td>NaN</td>\n",
       "      <td>False</td>\n",
       "      <td>False</td>\n",
       "      <td>8.30</td>\n",
       "      <td>0.0</td>\n",
       "      <td>Санкт-Петербург</td>\n",
       "      <td>21741.0</td>\n",
       "      <td>13933.0</td>\n",
       "      <td>1.0</td>\n",
       "      <td>90.0</td>\n",
       "      <td>2.0</td>\n",
       "      <td>574.0</td>\n",
       "      <td>558.0</td>\n",
       "    </tr>\n",
       "    <tr>\n",
       "      <th>3</th>\n",
       "      <td>0</td>\n",
       "      <td>64900000.0</td>\n",
       "      <td>159.00</td>\n",
       "      <td>2015-07-24T00:00:00</td>\n",
       "      <td>3</td>\n",
       "      <td>NaN</td>\n",
       "      <td>14.0</td>\n",
       "      <td>NaN</td>\n",
       "      <td>9</td>\n",
       "      <td>NaN</td>\n",
       "      <td>False</td>\n",
       "      <td>False</td>\n",
       "      <td>NaN</td>\n",
       "      <td>0.0</td>\n",
       "      <td>Санкт-Петербург</td>\n",
       "      <td>28098.0</td>\n",
       "      <td>6800.0</td>\n",
       "      <td>2.0</td>\n",
       "      <td>84.0</td>\n",
       "      <td>3.0</td>\n",
       "      <td>234.0</td>\n",
       "      <td>424.0</td>\n",
       "    </tr>\n",
       "    <tr>\n",
       "      <th>4</th>\n",
       "      <td>2</td>\n",
       "      <td>10000000.0</td>\n",
       "      <td>100.00</td>\n",
       "      <td>2018-06-19T00:00:00</td>\n",
       "      <td>2</td>\n",
       "      <td>3.03</td>\n",
       "      <td>14.0</td>\n",
       "      <td>32.00</td>\n",
       "      <td>13</td>\n",
       "      <td>NaN</td>\n",
       "      <td>False</td>\n",
       "      <td>False</td>\n",
       "      <td>41.00</td>\n",
       "      <td>NaN</td>\n",
       "      <td>Санкт-Петербург</td>\n",
       "      <td>31856.0</td>\n",
       "      <td>8098.0</td>\n",
       "      <td>2.0</td>\n",
       "      <td>112.0</td>\n",
       "      <td>1.0</td>\n",
       "      <td>48.0</td>\n",
       "      <td>121.0</td>\n",
       "    </tr>\n",
       "    <tr>\n",
       "      <th>5</th>\n",
       "      <td>10</td>\n",
       "      <td>2890000.0</td>\n",
       "      <td>30.40</td>\n",
       "      <td>2018-09-10T00:00:00</td>\n",
       "      <td>1</td>\n",
       "      <td>NaN</td>\n",
       "      <td>12.0</td>\n",
       "      <td>14.40</td>\n",
       "      <td>5</td>\n",
       "      <td>NaN</td>\n",
       "      <td>False</td>\n",
       "      <td>False</td>\n",
       "      <td>9.10</td>\n",
       "      <td>NaN</td>\n",
       "      <td>городской посёлок Янино-1</td>\n",
       "      <td>NaN</td>\n",
       "      <td>NaN</td>\n",
       "      <td>NaN</td>\n",
       "      <td>NaN</td>\n",
       "      <td>NaN</td>\n",
       "      <td>NaN</td>\n",
       "      <td>55.0</td>\n",
       "    </tr>\n",
       "    <tr>\n",
       "      <th>6</th>\n",
       "      <td>6</td>\n",
       "      <td>3700000.0</td>\n",
       "      <td>37.30</td>\n",
       "      <td>2017-11-02T00:00:00</td>\n",
       "      <td>1</td>\n",
       "      <td>NaN</td>\n",
       "      <td>26.0</td>\n",
       "      <td>10.60</td>\n",
       "      <td>6</td>\n",
       "      <td>NaN</td>\n",
       "      <td>False</td>\n",
       "      <td>False</td>\n",
       "      <td>14.40</td>\n",
       "      <td>1.0</td>\n",
       "      <td>посёлок Парголово</td>\n",
       "      <td>52996.0</td>\n",
       "      <td>19143.0</td>\n",
       "      <td>0.0</td>\n",
       "      <td>NaN</td>\n",
       "      <td>0.0</td>\n",
       "      <td>NaN</td>\n",
       "      <td>155.0</td>\n",
       "    </tr>\n",
       "    <tr>\n",
       "      <th>7</th>\n",
       "      <td>5</td>\n",
       "      <td>7915000.0</td>\n",
       "      <td>71.60</td>\n",
       "      <td>2019-04-18T00:00:00</td>\n",
       "      <td>2</td>\n",
       "      <td>NaN</td>\n",
       "      <td>24.0</td>\n",
       "      <td>NaN</td>\n",
       "      <td>22</td>\n",
       "      <td>NaN</td>\n",
       "      <td>False</td>\n",
       "      <td>False</td>\n",
       "      <td>18.90</td>\n",
       "      <td>2.0</td>\n",
       "      <td>Санкт-Петербург</td>\n",
       "      <td>23982.0</td>\n",
       "      <td>11634.0</td>\n",
       "      <td>0.0</td>\n",
       "      <td>NaN</td>\n",
       "      <td>0.0</td>\n",
       "      <td>NaN</td>\n",
       "      <td>NaN</td>\n",
       "    </tr>\n",
       "    <tr>\n",
       "      <th>8</th>\n",
       "      <td>20</td>\n",
       "      <td>2900000.0</td>\n",
       "      <td>33.16</td>\n",
       "      <td>2018-05-23T00:00:00</td>\n",
       "      <td>1</td>\n",
       "      <td>NaN</td>\n",
       "      <td>27.0</td>\n",
       "      <td>15.43</td>\n",
       "      <td>26</td>\n",
       "      <td>NaN</td>\n",
       "      <td>False</td>\n",
       "      <td>False</td>\n",
       "      <td>8.81</td>\n",
       "      <td>NaN</td>\n",
       "      <td>посёлок Мурино</td>\n",
       "      <td>NaN</td>\n",
       "      <td>NaN</td>\n",
       "      <td>NaN</td>\n",
       "      <td>NaN</td>\n",
       "      <td>NaN</td>\n",
       "      <td>NaN</td>\n",
       "      <td>189.0</td>\n",
       "    </tr>\n",
       "    <tr>\n",
       "      <th>9</th>\n",
       "      <td>18</td>\n",
       "      <td>5400000.0</td>\n",
       "      <td>61.00</td>\n",
       "      <td>2017-02-26T00:00:00</td>\n",
       "      <td>3</td>\n",
       "      <td>2.50</td>\n",
       "      <td>9.0</td>\n",
       "      <td>43.60</td>\n",
       "      <td>7</td>\n",
       "      <td>NaN</td>\n",
       "      <td>False</td>\n",
       "      <td>False</td>\n",
       "      <td>6.50</td>\n",
       "      <td>2.0</td>\n",
       "      <td>Санкт-Петербург</td>\n",
       "      <td>50898.0</td>\n",
       "      <td>15008.0</td>\n",
       "      <td>0.0</td>\n",
       "      <td>NaN</td>\n",
       "      <td>0.0</td>\n",
       "      <td>NaN</td>\n",
       "      <td>289.0</td>\n",
       "    </tr>\n",
       "  </tbody>\n",
       "</table>\n",
       "</div>"
      ],
      "text/plain": [
       "   total_images  last_price  total_area first_day_exposition  rooms  \\\n",
       "0            20  13000000.0      108.00  2019-03-07T00:00:00      3   \n",
       "1             7   3350000.0       40.40  2018-12-04T00:00:00      1   \n",
       "2            10   5196000.0       56.00  2015-08-20T00:00:00      2   \n",
       "3             0  64900000.0      159.00  2015-07-24T00:00:00      3   \n",
       "4             2  10000000.0      100.00  2018-06-19T00:00:00      2   \n",
       "5            10   2890000.0       30.40  2018-09-10T00:00:00      1   \n",
       "6             6   3700000.0       37.30  2017-11-02T00:00:00      1   \n",
       "7             5   7915000.0       71.60  2019-04-18T00:00:00      2   \n",
       "8            20   2900000.0       33.16  2018-05-23T00:00:00      1   \n",
       "9            18   5400000.0       61.00  2017-02-26T00:00:00      3   \n",
       "\n",
       "   ceiling_height  floors_total  living_area  floor is_apartment  studio  \\\n",
       "0            2.70          16.0        51.00      8          NaN   False   \n",
       "1             NaN          11.0        18.60      1          NaN   False   \n",
       "2             NaN           5.0        34.30      4          NaN   False   \n",
       "3             NaN          14.0          NaN      9          NaN   False   \n",
       "4            3.03          14.0        32.00     13          NaN   False   \n",
       "5             NaN          12.0        14.40      5          NaN   False   \n",
       "6             NaN          26.0        10.60      6          NaN   False   \n",
       "7             NaN          24.0          NaN     22          NaN   False   \n",
       "8             NaN          27.0        15.43     26          NaN   False   \n",
       "9            2.50           9.0        43.60      7          NaN   False   \n",
       "\n",
       "   open_plan  kitchen_area  balcony              locality_name  \\\n",
       "0      False         25.00      NaN            Санкт-Петербург   \n",
       "1      False         11.00      2.0             посёлок Шушары   \n",
       "2      False          8.30      0.0            Санкт-Петербург   \n",
       "3      False           NaN      0.0            Санкт-Петербург   \n",
       "4      False         41.00      NaN            Санкт-Петербург   \n",
       "5      False          9.10      NaN  городской посёлок Янино-1   \n",
       "6      False         14.40      1.0          посёлок Парголово   \n",
       "7      False         18.90      2.0            Санкт-Петербург   \n",
       "8      False          8.81      NaN             посёлок Мурино   \n",
       "9      False          6.50      2.0            Санкт-Петербург   \n",
       "\n",
       "   airports_nearest  cityCenters_nearest  parks_around3000  parks_nearest  \\\n",
       "0           18863.0              16028.0               1.0          482.0   \n",
       "1           12817.0              18603.0               0.0            NaN   \n",
       "2           21741.0              13933.0               1.0           90.0   \n",
       "3           28098.0               6800.0               2.0           84.0   \n",
       "4           31856.0               8098.0               2.0          112.0   \n",
       "5               NaN                  NaN               NaN            NaN   \n",
       "6           52996.0              19143.0               0.0            NaN   \n",
       "7           23982.0              11634.0               0.0            NaN   \n",
       "8               NaN                  NaN               NaN            NaN   \n",
       "9           50898.0              15008.0               0.0            NaN   \n",
       "\n",
       "   ponds_around3000  ponds_nearest  days_exposition  \n",
       "0               2.0          755.0              NaN  \n",
       "1               0.0            NaN             81.0  \n",
       "2               2.0          574.0            558.0  \n",
       "3               3.0          234.0            424.0  \n",
       "4               1.0           48.0            121.0  \n",
       "5               NaN            NaN             55.0  \n",
       "6               0.0            NaN            155.0  \n",
       "7               0.0            NaN              NaN  \n",
       "8               NaN            NaN            189.0  \n",
       "9               0.0            NaN            289.0  "
      ]
     },
     "execution_count": 2,
     "metadata": {},
     "output_type": "execute_result"
    }
   ],
   "source": [
    "data = pd.read_csv('/datasets/real_estate_data.csv', sep = '\\t')\n",
    "pd.set_option('display.max_columns', None)\n",
    "data.head(10)"
   ]
  },
  {
   "cell_type": "code",
   "execution_count": 3,
   "metadata": {
    "scrolled": true
   },
   "outputs": [
    {
     "name": "stdout",
     "output_type": "stream",
     "text": [
      "<class 'pandas.core.frame.DataFrame'>\n",
      "RangeIndex: 23699 entries, 0 to 23698\n",
      "Data columns (total 22 columns):\n",
      " #   Column                Non-Null Count  Dtype  \n",
      "---  ------                --------------  -----  \n",
      " 0   total_images          23699 non-null  int64  \n",
      " 1   last_price            23699 non-null  float64\n",
      " 2   total_area            23699 non-null  float64\n",
      " 3   first_day_exposition  23699 non-null  object \n",
      " 4   rooms                 23699 non-null  int64  \n",
      " 5   ceiling_height        14504 non-null  float64\n",
      " 6   floors_total          23613 non-null  float64\n",
      " 7   living_area           21796 non-null  float64\n",
      " 8   floor                 23699 non-null  int64  \n",
      " 9   is_apartment          2775 non-null   object \n",
      " 10  studio                23699 non-null  bool   \n",
      " 11  open_plan             23699 non-null  bool   \n",
      " 12  kitchen_area          21421 non-null  float64\n",
      " 13  balcony               12180 non-null  float64\n",
      " 14  locality_name         23650 non-null  object \n",
      " 15  airports_nearest      18157 non-null  float64\n",
      " 16  cityCenters_nearest   18180 non-null  float64\n",
      " 17  parks_around3000      18181 non-null  float64\n",
      " 18  parks_nearest         8079 non-null   float64\n",
      " 19  ponds_around3000      18181 non-null  float64\n",
      " 20  ponds_nearest         9110 non-null   float64\n",
      " 21  days_exposition       20518 non-null  float64\n",
      "dtypes: bool(2), float64(14), int64(3), object(3)\n",
      "memory usage: 3.7+ MB\n"
     ]
    }
   ],
   "source": [
    "data.info()"
   ]
  },
  {
   "cell_type": "code",
   "execution_count": 4,
   "metadata": {
    "scrolled": true
   },
   "outputs": [
    {
     "data": {
      "image/png": "[encoded data removed]",
      "text/plain": [
       "<Figure size 1080x1440 with 20 Axes>"
      ]
     },
     "metadata": {
      "needs_background": "light"
     },
     "output_type": "display_data"
    }
   ],
   "source": [
    "data.hist(figsize = (15, 20));"
   ]
  },
  {
   "cell_type": "code",
   "execution_count": 5,
   "metadata": {
    "scrolled": false
   },
   "outputs": [
    {
     "data": {
      "text/html": [
       "<div>\n",
       "<style scoped>\n",
       "    .dataframe tbody tr th:only-of-type {\n",
       "        vertical-align: middle;\n",
       "    }\n",
       "\n",
       "    .dataframe tbody tr th {\n",
       "        vertical-align: top;\n",
       "    }\n",
       "\n",
       "    .dataframe thead th {\n",
       "        text-align: right;\n",
       "    }\n",
       "</style>\n",
       "<table border=\"1\" class=\"dataframe\">\n",
       "  <thead>\n",
       "    <tr style=\"text-align: right;\">\n",
       "      <th></th>\n",
       "      <th>total_images</th>\n",
       "      <th>last_price</th>\n",
       "      <th>total_area</th>\n",
       "      <th>rooms</th>\n",
       "      <th>ceiling_height</th>\n",
       "      <th>floors_total</th>\n",
       "      <th>living_area</th>\n",
       "      <th>floor</th>\n",
       "      <th>kitchen_area</th>\n",
       "      <th>balcony</th>\n",
       "      <th>airports_nearest</th>\n",
       "      <th>cityCenters_nearest</th>\n",
       "      <th>parks_around3000</th>\n",
       "      <th>parks_nearest</th>\n",
       "      <th>ponds_around3000</th>\n",
       "      <th>ponds_nearest</th>\n",
       "      <th>days_exposition</th>\n",
       "    </tr>\n",
       "  </thead>\n",
       "  <tbody>\n",
       "    <tr>\n",
       "      <th>count</th>\n",
       "      <td>23699.000000</td>\n",
       "      <td>2.369900e+04</td>\n",
       "      <td>23699.000000</td>\n",
       "      <td>23699.000000</td>\n",
       "      <td>14504.000000</td>\n",
       "      <td>23613.000000</td>\n",
       "      <td>21796.000000</td>\n",
       "      <td>23699.000000</td>\n",
       "      <td>21421.000000</td>\n",
       "      <td>12180.000000</td>\n",
       "      <td>18157.000000</td>\n",
       "      <td>18180.000000</td>\n",
       "      <td>18181.000000</td>\n",
       "      <td>8079.000000</td>\n",
       "      <td>18181.000000</td>\n",
       "      <td>9110.000000</td>\n",
       "      <td>20518.000000</td>\n",
       "    </tr>\n",
       "    <tr>\n",
       "      <th>mean</th>\n",
       "      <td>9.858475</td>\n",
       "      <td>6.541549e+06</td>\n",
       "      <td>60.348651</td>\n",
       "      <td>2.070636</td>\n",
       "      <td>2.771499</td>\n",
       "      <td>10.673824</td>\n",
       "      <td>34.457852</td>\n",
       "      <td>5.892358</td>\n",
       "      <td>10.569807</td>\n",
       "      <td>1.150082</td>\n",
       "      <td>28793.672193</td>\n",
       "      <td>14191.277833</td>\n",
       "      <td>0.611408</td>\n",
       "      <td>490.804555</td>\n",
       "      <td>0.770255</td>\n",
       "      <td>517.980900</td>\n",
       "      <td>180.888634</td>\n",
       "    </tr>\n",
       "    <tr>\n",
       "      <th>std</th>\n",
       "      <td>5.682529</td>\n",
       "      <td>1.088701e+07</td>\n",
       "      <td>35.654083</td>\n",
       "      <td>1.078405</td>\n",
       "      <td>1.261056</td>\n",
       "      <td>6.597173</td>\n",
       "      <td>22.030445</td>\n",
       "      <td>4.885249</td>\n",
       "      <td>5.905438</td>\n",
       "      <td>1.071300</td>\n",
       "      <td>12630.880622</td>\n",
       "      <td>8608.386210</td>\n",
       "      <td>0.802074</td>\n",
       "      <td>342.317995</td>\n",
       "      <td>0.938346</td>\n",
       "      <td>277.720643</td>\n",
       "      <td>219.727988</td>\n",
       "    </tr>\n",
       "    <tr>\n",
       "      <th>min</th>\n",
       "      <td>0.000000</td>\n",
       "      <td>1.219000e+04</td>\n",
       "      <td>12.000000</td>\n",
       "      <td>0.000000</td>\n",
       "      <td>1.000000</td>\n",
       "      <td>1.000000</td>\n",
       "      <td>2.000000</td>\n",
       "      <td>1.000000</td>\n",
       "      <td>1.300000</td>\n",
       "      <td>0.000000</td>\n",
       "      <td>0.000000</td>\n",
       "      <td>181.000000</td>\n",
       "      <td>0.000000</td>\n",
       "      <td>1.000000</td>\n",
       "      <td>0.000000</td>\n",
       "      <td>13.000000</td>\n",
       "      <td>1.000000</td>\n",
       "    </tr>\n",
       "    <tr>\n",
       "      <th>25%</th>\n",
       "      <td>6.000000</td>\n",
       "      <td>3.400000e+06</td>\n",
       "      <td>40.000000</td>\n",
       "      <td>1.000000</td>\n",
       "      <td>2.520000</td>\n",
       "      <td>5.000000</td>\n",
       "      <td>18.600000</td>\n",
       "      <td>2.000000</td>\n",
       "      <td>7.000000</td>\n",
       "      <td>0.000000</td>\n",
       "      <td>18585.000000</td>\n",
       "      <td>9238.000000</td>\n",
       "      <td>0.000000</td>\n",
       "      <td>288.000000</td>\n",
       "      <td>0.000000</td>\n",
       "      <td>294.000000</td>\n",
       "      <td>45.000000</td>\n",
       "    </tr>\n",
       "    <tr>\n",
       "      <th>50%</th>\n",
       "      <td>9.000000</td>\n",
       "      <td>4.650000e+06</td>\n",
       "      <td>52.000000</td>\n",
       "      <td>2.000000</td>\n",
       "      <td>2.650000</td>\n",
       "      <td>9.000000</td>\n",
       "      <td>30.000000</td>\n",
       "      <td>4.000000</td>\n",
       "      <td>9.100000</td>\n",
       "      <td>1.000000</td>\n",
       "      <td>26726.000000</td>\n",
       "      <td>13098.500000</td>\n",
       "      <td>0.000000</td>\n",
       "      <td>455.000000</td>\n",
       "      <td>1.000000</td>\n",
       "      <td>502.000000</td>\n",
       "      <td>95.000000</td>\n",
       "    </tr>\n",
       "    <tr>\n",
       "      <th>75%</th>\n",
       "      <td>14.000000</td>\n",
       "      <td>6.800000e+06</td>\n",
       "      <td>69.900000</td>\n",
       "      <td>3.000000</td>\n",
       "      <td>2.800000</td>\n",
       "      <td>16.000000</td>\n",
       "      <td>42.300000</td>\n",
       "      <td>8.000000</td>\n",
       "      <td>12.000000</td>\n",
       "      <td>2.000000</td>\n",
       "      <td>37273.000000</td>\n",
       "      <td>16293.000000</td>\n",
       "      <td>1.000000</td>\n",
       "      <td>612.000000</td>\n",
       "      <td>1.000000</td>\n",
       "      <td>729.000000</td>\n",
       "      <td>232.000000</td>\n",
       "    </tr>\n",
       "    <tr>\n",
       "      <th>max</th>\n",
       "      <td>50.000000</td>\n",
       "      <td>7.630000e+08</td>\n",
       "      <td>900.000000</td>\n",
       "      <td>19.000000</td>\n",
       "      <td>100.000000</td>\n",
       "      <td>60.000000</td>\n",
       "      <td>409.700000</td>\n",
       "      <td>33.000000</td>\n",
       "      <td>112.000000</td>\n",
       "      <td>5.000000</td>\n",
       "      <td>84869.000000</td>\n",
       "      <td>65968.000000</td>\n",
       "      <td>3.000000</td>\n",
       "      <td>3190.000000</td>\n",
       "      <td>3.000000</td>\n",
       "      <td>1344.000000</td>\n",
       "      <td>1580.000000</td>\n",
       "    </tr>\n",
       "  </tbody>\n",
       "</table>\n",
       "</div>"
      ],
      "text/plain": [
       "       total_images    last_price    total_area         rooms  ceiling_height  \\\n",
       "count  23699.000000  2.369900e+04  23699.000000  23699.000000    14504.000000   \n",
       "mean       9.858475  6.541549e+06     60.348651      2.070636        2.771499   \n",
       "std        5.682529  1.088701e+07     35.654083      1.078405        1.261056   \n",
       "min        0.000000  1.219000e+04     12.000000      0.000000        1.000000   \n",
       "25%        6.000000  3.400000e+06     40.000000      1.000000        2.520000   \n",
       "50%        9.000000  4.650000e+06     52.000000      2.000000        2.650000   \n",
       "75%       14.000000  6.800000e+06     69.900000      3.000000        2.800000   \n",
       "max       50.000000  7.630000e+08    900.000000     19.000000      100.000000   \n",
       "\n",
       "       floors_total   living_area         floor  kitchen_area       balcony  \\\n",
       "count  23613.000000  21796.000000  23699.000000  21421.000000  12180.000000   \n",
       "mean      10.673824     34.457852      5.892358     10.569807      1.150082   \n",
       "std        6.597173     22.030445      4.885249      5.905438      1.071300   \n",
       "min        1.000000      2.000000      1.000000      1.300000      0.000000   \n",
       "25%        5.000000     18.600000      2.000000      7.000000      0.000000   \n",
       "50%        9.000000     30.000000      4.000000      9.100000      1.000000   \n",
       "75%       16.000000     42.300000      8.000000     12.000000      2.000000   \n",
       "max       60.000000    409.700000     33.000000    112.000000      5.000000   \n",
       "\n",
       "       airports_nearest  cityCenters_nearest  parks_around3000  parks_nearest  \\\n",
       "count      18157.000000         18180.000000      18181.000000    8079.000000   \n",
       "mean       28793.672193         14191.277833          0.611408     490.804555   \n",
       "std        12630.880622          8608.386210          0.802074     342.317995   \n",
       "min            0.000000           181.000000          0.000000       1.000000   \n",
       "25%        18585.000000          9238.000000          0.000000     288.000000   \n",
       "50%        26726.000000         13098.500000          0.000000     455.000000   \n",
       "75%        37273.000000         16293.000000          1.000000     612.000000   \n",
       "max        84869.000000         65968.000000          3.000000    3190.000000   \n",
       "\n",
       "       ponds_around3000  ponds_nearest  days_exposition  \n",
       "count      18181.000000    9110.000000     20518.000000  \n",
       "mean           0.770255     517.980900       180.888634  \n",
       "std            0.938346     277.720643       219.727988  \n",
       "min            0.000000      13.000000         1.000000  \n",
       "25%            0.000000     294.000000        45.000000  \n",
       "50%            1.000000     502.000000        95.000000  \n",
       "75%            1.000000     729.000000       232.000000  \n",
       "max            3.000000    1344.000000      1580.000000  "
      ]
     },
     "execution_count": 5,
     "metadata": {},
     "output_type": "execute_result"
    }
   ],
   "source": [
    "data.describe()"
   ]
  },
  {
   "cell_type": "markdown",
   "metadata": {},
   "source": [
    "### Предобработка данных"
   ]
  },
  {
   "cell_type": "markdown",
   "metadata": {},
   "source": [
    "####  Поиск и изучение пропущенных значения в столбцах\n",
    "\n",
    "Всего в датасете 23699 строки. Есть проблема с пропущенными значениями и есть столбцы с неправильным типом данных. Cтолбцы с пропусками данных: ceiling_height, floors_total, living_area, is_apartment, kitchen_area, balcony,locality_name\n",
    "Например как минимум необходимо перевести last_price в целочисленный тип. Так же необходимо перевести first_day_exposition в тип datetime и тд. Есть аномальные значия такие как 19 комнатная квартира, и потолки 100м"
   ]
  },
  {
   "cell_type": "code",
   "execution_count": 6,
   "metadata": {
    "scrolled": true
   },
   "outputs": [],
   "source": [
    "#Заменим пропуски balcony на  0 и переведем в целочисленный тип\n",
    "data['balcony'] = data['balcony'].fillna(value=0).astype(int)\n",
    "#Заполним пропуски is_apartment и преобразуем в bool\n",
    "data['is_apartment'] = data['is_apartment'].fillna(value=False).astype(bool)\n",
    "#Удаляем записи, где отсутствует этажность и перобразуем  в int\n",
    "data.dropna(subset=['floors_total'], inplace=True)\n",
    "data['floors_total'] = data['floors_total'].astype(int)\n",
    "#переимнуем столбец cityCenters_nearest в citycenters_nearest\n",
    "data.rename(columns = {'cityCenters_nearest':'citycenters_nearest'}, inplace=True)"
   ]
  },
  {
   "cell_type": "markdown",
   "metadata": {},
   "source": [
    "Возможные причины пропусков данных is_apartment неправильный тип данных при заполнении"
   ]
  },
  {
   "cell_type": "markdown",
   "metadata": {},
   "source": [
    "#### \n"
   ]
  },
  {
   "cell_type": "code",
   "execution_count": 7,
   "metadata": {},
   "outputs": [],
   "source": [
    "#Преобразуем last_price и в целочисленный тип\n",
    "data['last_price'] = data['last_price'].astype(int)\n",
    "# Преобразуем first_day_exposition в тип datetime\n",
    "data['first_day_exposition'] = pd.to_datetime(data['first_day_exposition'], format = '%Y-%m-%d')\n",
    "\n",
    "data['living_area'] = data['living_area'].where(data['living_area']>data['kitchen_area'])\n",
    "data['living_area'].fillna(data['living_area'].median(), inplace=True)\n",
    "data['kitchen_area'] = data['kitchen_area'].where(data['living_area']>data['kitchen_area'])\n",
    "data['kitchen_area'].fillna(data['kitchen_area'].median(), inplace=True)"
   ]
  },
  {
   "cell_type": "code",
   "execution_count": 8,
   "metadata": {},
   "outputs": [
    {
     "name": "stdout",
     "output_type": "stream",
     "text": [
      "<class 'pandas.core.frame.DataFrame'>\n",
      "Int64Index: 23613 entries, 0 to 23698\n",
      "Data columns (total 22 columns):\n",
      " #   Column                Non-Null Count  Dtype         \n",
      "---  ------                --------------  -----         \n",
      " 0   total_images          23613 non-null  int64         \n",
      " 1   last_price            23613 non-null  int64         \n",
      " 2   total_area            23613 non-null  float64       \n",
      " 3   first_day_exposition  23613 non-null  datetime64[ns]\n",
      " 4   rooms                 23613 non-null  int64         \n",
      " 5   ceiling_height        14495 non-null  float64       \n",
      " 6   floors_total          23613 non-null  int64         \n",
      " 7   living_area           23613 non-null  float64       \n",
      " 8   floor                 23613 non-null  int64         \n",
      " 9   is_apartment          23613 non-null  bool          \n",
      " 10  studio                23613 non-null  bool          \n",
      " 11  open_plan             23613 non-null  bool          \n",
      " 12  kitchen_area          23613 non-null  float64       \n",
      " 13  balcony               23613 non-null  int64         \n",
      " 14  locality_name         23565 non-null  object        \n",
      " 15  airports_nearest      18081 non-null  float64       \n",
      " 16  citycenters_nearest   18104 non-null  float64       \n",
      " 17  parks_around3000      18105 non-null  float64       \n",
      " 18  parks_nearest         8045 non-null   float64       \n",
      " 19  ponds_around3000      18105 non-null  float64       \n",
      " 20  ponds_nearest         9061 non-null   float64       \n",
      " 21  days_exposition       20441 non-null  float64       \n",
      "dtypes: bool(3), datetime64[ns](1), float64(11), int64(6), object(1)\n",
      "memory usage: 3.7+ MB\n"
     ]
    }
   ],
   "source": [
    "data.info()"
   ]
  },
  {
   "cell_type": "markdown",
   "metadata": {},
   "source": [
    "#### поиск и исправление неявных дубликатов"
   ]
  },
  {
   "cell_type": "code",
   "execution_count": 9,
   "metadata": {},
   "outputs": [],
   "source": [
    "# Перведем значения столбца locality_name\n",
    "data['locality_name'] = data['locality_name'].str.lower()\n",
    "data['locality_name'] = data['locality_name'].str.replace('ё', 'е')\n",
    "\n",
    "cut_words = ['городской поселок ', 'деревня ', 'коттеджный поселок ', 'поселок ', 'садоводческое некоммерческое товарищество ', 'садовое товарищество ', 'село ', 'городского типа ', 'пансионат ', 'при железнодорожной станции ', 'платформа ', 'форт '] \n",
    "for word in cut_words: \n",
    "    data['locality_name'] = data['locality_name'].str.replace(word, '')\n",
    "\n",
    "data.dropna(subset=['locality_name'], inplace=True)"
   ]
  },
  {
   "cell_type": "code",
   "execution_count": 10,
   "metadata": {
    "scrolled": false
   },
   "outputs": [],
   "source": [
    "data['ceiling_height'] = data['ceiling_height'\n",
    "                             ].where(data['ceiling_height'\n",
    "                                         ]< 4, other = data['ceiling_height'].div(10) )\n",
    "data['ceiling_height'].fillna(data['ceiling_height'].median(), inplace=True)"
   ]
  },
  {
   "cell_type": "code",
   "execution_count": 11,
   "metadata": {},
   "outputs": [
    {
     "data": {
      "text/plain": [
       "count    23565.000000\n",
       "mean         2.682797\n",
       "std          0.246221\n",
       "min          0.400000\n",
       "25%          2.600000\n",
       "50%          2.650000\n",
       "75%          2.700000\n",
       "max         10.000000\n",
       "Name: ceiling_height, dtype: float64"
      ]
     },
     "execution_count": 11,
     "metadata": {},
     "output_type": "execute_result"
    }
   ],
   "source": [
    "data['ceiling_height'].describe()"
   ]
  },
  {
   "cell_type": "code",
   "execution_count": 12,
   "metadata": {},
   "outputs": [
    {
     "data": {
      "text/plain": [
       "0.001400381922342457"
      ]
     },
     "execution_count": 12,
     "metadata": {},
     "output_type": "execute_result"
    }
   ],
   "source": [
    "ceiling_height_anomaly = data.query('ceiling_height >= 4 or ceiling_height <= 2').pivot_table(index = 'ceiling_height',\n",
    "                            values = ['total_area','last_price','rooms','is_apartment', 'studio'])\n",
    "\n",
    "ceiling_height_anomaly.shape[0]/data.shape[0]"
   ]
  },
  {
   "cell_type": "code",
   "execution_count": 13,
   "metadata": {},
   "outputs": [
    {
     "data": {
      "text/plain": [
       "is_apartment    33\n",
       "last_price      33\n",
       "rooms           33\n",
       "studio          33\n",
       "total_area      33\n",
       "dtype: int64"
      ]
     },
     "execution_count": 13,
     "metadata": {},
     "output_type": "execute_result"
    }
   ],
   "source": [
    "ceiling_height_anomaly.count()"
   ]
  },
  {
   "cell_type": "markdown",
   "metadata": {},
   "source": [
    "Всего 33 значений в данных с выбросами по высоте потолка. Это 0.14% от всей выборки - думаю от этих данных можно смело избавится"
   ]
  },
  {
   "cell_type": "code",
   "execution_count": 14,
   "metadata": {},
   "outputs": [],
   "source": [
    "data['ceiling_height']= data.query('ceiling_height > 2 and ceiling_height <= 4')['ceiling_height']\n",
    "data.dropna(subset=['ceiling_height'], inplace=True)"
   ]
  },
  {
   "cell_type": "code",
   "execution_count": 15,
   "metadata": {},
   "outputs": [
    {
     "data": {
      "image/png": "[encoded data removed]",
      "text/plain": [
       "<Figure size 432x288 with 1 Axes>"
      ]
     },
     "metadata": {
      "needs_background": "light"
     },
     "output_type": "display_data"
    }
   ],
   "source": [
    "data.boxplot(column='ceiling_height');"
   ]
  },
  {
   "cell_type": "code",
   "execution_count": 17,
   "metadata": {},
   "outputs": [
    {
     "data": {
      "text/plain": [
       "211"
      ]
     },
     "execution_count": 17,
     "metadata": {},
     "output_type": "execute_result"
    }
   ],
   "source": [
    "#проверим столбец с общей площадью\n",
    "total_area_anomaly = data.query('total_area >= 200')['total_area']\n",
    "total_area_anomaly.count()"
   ]
  },
  {
   "cell_type": "code",
   "execution_count": 18,
   "metadata": {},
   "outputs": [
    {
     "data": {
      "text/plain": [
       "0.00899441578924933"
      ]
     },
     "execution_count": 18,
     "metadata": {},
     "output_type": "execute_result"
    }
   ],
   "source": [
    "total_area_anomaly.shape[0]/data.shape[0]"
   ]
  },
  {
   "cell_type": "markdown",
   "metadata": {},
   "source": [
    "еще 211 значений, еще 0.9 процента - думаю тоже можно избавится этих данных"
   ]
  },
  {
   "cell_type": "code",
   "execution_count": 19,
   "metadata": {},
   "outputs": [],
   "source": [
    "data['total_area'] = data.query('total_area <= 200')['total_area']\n",
    "data.dropna(subset=['total_area'], inplace=True)"
   ]
  },
  {
   "cell_type": "code",
   "execution_count": 20,
   "metadata": {},
   "outputs": [
    {
     "data": {
      "image/png": "[encoded data removed]",
      "text/plain": [
       "<Figure size 432x288 with 1 Axes>"
      ]
     },
     "metadata": {
      "needs_background": "light"
     },
     "output_type": "display_data"
    }
   ],
   "source": [
    "data['total_area'].hist(bins=30);"
   ]
  },
  {
   "cell_type": "markdown",
   "metadata": {},
   "source": [
    "### Посчитайте и добавьте в таблицу новые столбцы"
   ]
  },
  {
   "cell_type": "code",
   "execution_count": 21,
   "metadata": {},
   "outputs": [],
   "source": [
    "# Добавим столбец цены 1 квадратного метра\n",
    "data['m2_price'] = (data['last_price']/data['total_area']).astype(int)\n",
    "\n",
    "#Добавим столбец день недели публикации объявления\n",
    "data['week_day_exposition'] = data['first_day_exposition'].apply(lambda x: x.isoweekday())\n",
    "dict_of_weekdays = {1: 'понедельник', 2: 'вторник', 3: 'среда', 4: 'четверг', \n",
    "                    5: 'пятница', 6: 'суббота', 7: 'воскресенье'}\n",
    "\n",
    "data['week_day_exposition'] = data['week_day_exposition'].map(dict_of_weekdays)\n",
    "# Добавим столбец месяц публикации объявления\n",
    "data['month_exposition'] = data['first_day_exposition'].dt.month\n",
    "# Добавим столбец год публикации объявления\n",
    "data['year_exposition'] = data['first_day_exposition'].dt.year\n",
    "\n",
    "\n",
    "# категоризуем тип эатажа квартиры\n",
    "def floor_category(row):\n",
    "    floors_total = row['floors_total']\n",
    "    floor = row['floor']\n",
    "    if floor == 1:\n",
    "        return 'первый'\n",
    "    elif floor == floors_total:\n",
    "        return 'последний'\n",
    "    elif 1 < floor < floors_total:\n",
    "        return 'другой'\n",
    "# запишем категори  в столбец\n",
    "data['floor_category'] = data.apply(floor_category, axis = 1)\n",
    "#Переведем расстояние до центра города в километры\n",
    "data['citycenters_nearest_km'] = (data['citycenters_nearest']/1000)\n",
    "data['citycenters_nearest_km'] = data['citycenters_nearest_km'].fillna(999999).astype('int')\n"
   ]
  },
  {
   "cell_type": "code",
   "execution_count": 22,
   "metadata": {},
   "outputs": [
    {
     "data": {
      "text/html": [
       "<div>\n",
       "<style scoped>\n",
       "    .dataframe tbody tr th:only-of-type {\n",
       "        vertical-align: middle;\n",
       "    }\n",
       "\n",
       "    .dataframe tbody tr th {\n",
       "        vertical-align: top;\n",
       "    }\n",
       "\n",
       "    .dataframe thead th {\n",
       "        text-align: right;\n",
       "    }\n",
       "</style>\n",
       "<table border=\"1\" class=\"dataframe\">\n",
       "  <thead>\n",
       "    <tr style=\"text-align: right;\">\n",
       "      <th></th>\n",
       "      <th>total_images</th>\n",
       "      <th>last_price</th>\n",
       "      <th>total_area</th>\n",
       "      <th>first_day_exposition</th>\n",
       "      <th>rooms</th>\n",
       "      <th>ceiling_height</th>\n",
       "      <th>floors_total</th>\n",
       "      <th>living_area</th>\n",
       "      <th>floor</th>\n",
       "      <th>is_apartment</th>\n",
       "      <th>studio</th>\n",
       "      <th>open_plan</th>\n",
       "      <th>kitchen_area</th>\n",
       "      <th>balcony</th>\n",
       "      <th>locality_name</th>\n",
       "      <th>airports_nearest</th>\n",
       "      <th>citycenters_nearest</th>\n",
       "      <th>parks_around3000</th>\n",
       "      <th>parks_nearest</th>\n",
       "      <th>ponds_around3000</th>\n",
       "      <th>ponds_nearest</th>\n",
       "      <th>days_exposition</th>\n",
       "      <th>m2_price</th>\n",
       "      <th>week_day_exposition</th>\n",
       "      <th>month_exposition</th>\n",
       "      <th>year_exposition</th>\n",
       "      <th>floor_category</th>\n",
       "      <th>citycenters_nearest_km</th>\n",
       "    </tr>\n",
       "  </thead>\n",
       "  <tbody>\n",
       "    <tr>\n",
       "      <th>0</th>\n",
       "      <td>20</td>\n",
       "      <td>13000000</td>\n",
       "      <td>108.00</td>\n",
       "      <td>2019-03-07</td>\n",
       "      <td>3</td>\n",
       "      <td>2.70</td>\n",
       "      <td>16</td>\n",
       "      <td>51.00</td>\n",
       "      <td>8</td>\n",
       "      <td>False</td>\n",
       "      <td>False</td>\n",
       "      <td>False</td>\n",
       "      <td>25.000</td>\n",
       "      <td>0</td>\n",
       "      <td>санкт-петербург</td>\n",
       "      <td>18863.0</td>\n",
       "      <td>16028.0</td>\n",
       "      <td>1.0</td>\n",
       "      <td>482.0</td>\n",
       "      <td>2.0</td>\n",
       "      <td>755.0</td>\n",
       "      <td>NaN</td>\n",
       "      <td>120370</td>\n",
       "      <td>четверг</td>\n",
       "      <td>3</td>\n",
       "      <td>2019</td>\n",
       "      <td>другой</td>\n",
       "      <td>16</td>\n",
       "    </tr>\n",
       "    <tr>\n",
       "      <th>1</th>\n",
       "      <td>7</td>\n",
       "      <td>3350000</td>\n",
       "      <td>40.40</td>\n",
       "      <td>2018-12-04</td>\n",
       "      <td>1</td>\n",
       "      <td>2.65</td>\n",
       "      <td>11</td>\n",
       "      <td>18.60</td>\n",
       "      <td>1</td>\n",
       "      <td>False</td>\n",
       "      <td>False</td>\n",
       "      <td>False</td>\n",
       "      <td>11.000</td>\n",
       "      <td>2</td>\n",
       "      <td>шушары</td>\n",
       "      <td>12817.0</td>\n",
       "      <td>18603.0</td>\n",
       "      <td>0.0</td>\n",
       "      <td>NaN</td>\n",
       "      <td>0.0</td>\n",
       "      <td>NaN</td>\n",
       "      <td>81.0</td>\n",
       "      <td>82920</td>\n",
       "      <td>вторник</td>\n",
       "      <td>12</td>\n",
       "      <td>2018</td>\n",
       "      <td>первый</td>\n",
       "      <td>18</td>\n",
       "    </tr>\n",
       "    <tr>\n",
       "      <th>2</th>\n",
       "      <td>10</td>\n",
       "      <td>5196000</td>\n",
       "      <td>56.00</td>\n",
       "      <td>2015-08-20</td>\n",
       "      <td>2</td>\n",
       "      <td>2.65</td>\n",
       "      <td>5</td>\n",
       "      <td>34.30</td>\n",
       "      <td>4</td>\n",
       "      <td>False</td>\n",
       "      <td>False</td>\n",
       "      <td>False</td>\n",
       "      <td>8.300</td>\n",
       "      <td>0</td>\n",
       "      <td>санкт-петербург</td>\n",
       "      <td>21741.0</td>\n",
       "      <td>13933.0</td>\n",
       "      <td>1.0</td>\n",
       "      <td>90.0</td>\n",
       "      <td>2.0</td>\n",
       "      <td>574.0</td>\n",
       "      <td>558.0</td>\n",
       "      <td>92785</td>\n",
       "      <td>четверг</td>\n",
       "      <td>8</td>\n",
       "      <td>2015</td>\n",
       "      <td>другой</td>\n",
       "      <td>13</td>\n",
       "    </tr>\n",
       "    <tr>\n",
       "      <th>3</th>\n",
       "      <td>0</td>\n",
       "      <td>64900000</td>\n",
       "      <td>159.00</td>\n",
       "      <td>2015-07-24</td>\n",
       "      <td>3</td>\n",
       "      <td>2.65</td>\n",
       "      <td>14</td>\n",
       "      <td>30.40</td>\n",
       "      <td>9</td>\n",
       "      <td>False</td>\n",
       "      <td>False</td>\n",
       "      <td>False</td>\n",
       "      <td>9.045</td>\n",
       "      <td>0</td>\n",
       "      <td>санкт-петербург</td>\n",
       "      <td>28098.0</td>\n",
       "      <td>6800.0</td>\n",
       "      <td>2.0</td>\n",
       "      <td>84.0</td>\n",
       "      <td>3.0</td>\n",
       "      <td>234.0</td>\n",
       "      <td>424.0</td>\n",
       "      <td>408176</td>\n",
       "      <td>пятница</td>\n",
       "      <td>7</td>\n",
       "      <td>2015</td>\n",
       "      <td>другой</td>\n",
       "      <td>6</td>\n",
       "    </tr>\n",
       "    <tr>\n",
       "      <th>4</th>\n",
       "      <td>2</td>\n",
       "      <td>10000000</td>\n",
       "      <td>100.00</td>\n",
       "      <td>2018-06-19</td>\n",
       "      <td>2</td>\n",
       "      <td>3.03</td>\n",
       "      <td>14</td>\n",
       "      <td>30.40</td>\n",
       "      <td>13</td>\n",
       "      <td>False</td>\n",
       "      <td>False</td>\n",
       "      <td>False</td>\n",
       "      <td>9.045</td>\n",
       "      <td>0</td>\n",
       "      <td>санкт-петербург</td>\n",
       "      <td>31856.0</td>\n",
       "      <td>8098.0</td>\n",
       "      <td>2.0</td>\n",
       "      <td>112.0</td>\n",
       "      <td>1.0</td>\n",
       "      <td>48.0</td>\n",
       "      <td>121.0</td>\n",
       "      <td>100000</td>\n",
       "      <td>вторник</td>\n",
       "      <td>6</td>\n",
       "      <td>2018</td>\n",
       "      <td>другой</td>\n",
       "      <td>8</td>\n",
       "    </tr>\n",
       "    <tr>\n",
       "      <th>5</th>\n",
       "      <td>10</td>\n",
       "      <td>2890000</td>\n",
       "      <td>30.40</td>\n",
       "      <td>2018-09-10</td>\n",
       "      <td>1</td>\n",
       "      <td>2.65</td>\n",
       "      <td>12</td>\n",
       "      <td>14.40</td>\n",
       "      <td>5</td>\n",
       "      <td>False</td>\n",
       "      <td>False</td>\n",
       "      <td>False</td>\n",
       "      <td>9.100</td>\n",
       "      <td>0</td>\n",
       "      <td>янино-1</td>\n",
       "      <td>NaN</td>\n",
       "      <td>NaN</td>\n",
       "      <td>NaN</td>\n",
       "      <td>NaN</td>\n",
       "      <td>NaN</td>\n",
       "      <td>NaN</td>\n",
       "      <td>55.0</td>\n",
       "      <td>95065</td>\n",
       "      <td>понедельник</td>\n",
       "      <td>9</td>\n",
       "      <td>2018</td>\n",
       "      <td>другой</td>\n",
       "      <td>999999</td>\n",
       "    </tr>\n",
       "    <tr>\n",
       "      <th>6</th>\n",
       "      <td>6</td>\n",
       "      <td>3700000</td>\n",
       "      <td>37.30</td>\n",
       "      <td>2017-11-02</td>\n",
       "      <td>1</td>\n",
       "      <td>2.65</td>\n",
       "      <td>26</td>\n",
       "      <td>30.40</td>\n",
       "      <td>6</td>\n",
       "      <td>False</td>\n",
       "      <td>False</td>\n",
       "      <td>False</td>\n",
       "      <td>14.400</td>\n",
       "      <td>1</td>\n",
       "      <td>парголово</td>\n",
       "      <td>52996.0</td>\n",
       "      <td>19143.0</td>\n",
       "      <td>0.0</td>\n",
       "      <td>NaN</td>\n",
       "      <td>0.0</td>\n",
       "      <td>NaN</td>\n",
       "      <td>155.0</td>\n",
       "      <td>99195</td>\n",
       "      <td>четверг</td>\n",
       "      <td>11</td>\n",
       "      <td>2017</td>\n",
       "      <td>другой</td>\n",
       "      <td>19</td>\n",
       "    </tr>\n",
       "    <tr>\n",
       "      <th>7</th>\n",
       "      <td>5</td>\n",
       "      <td>7915000</td>\n",
       "      <td>71.60</td>\n",
       "      <td>2019-04-18</td>\n",
       "      <td>2</td>\n",
       "      <td>2.65</td>\n",
       "      <td>24</td>\n",
       "      <td>30.40</td>\n",
       "      <td>22</td>\n",
       "      <td>False</td>\n",
       "      <td>False</td>\n",
       "      <td>False</td>\n",
       "      <td>18.900</td>\n",
       "      <td>2</td>\n",
       "      <td>санкт-петербург</td>\n",
       "      <td>23982.0</td>\n",
       "      <td>11634.0</td>\n",
       "      <td>0.0</td>\n",
       "      <td>NaN</td>\n",
       "      <td>0.0</td>\n",
       "      <td>NaN</td>\n",
       "      <td>NaN</td>\n",
       "      <td>110544</td>\n",
       "      <td>четверг</td>\n",
       "      <td>4</td>\n",
       "      <td>2019</td>\n",
       "      <td>другой</td>\n",
       "      <td>11</td>\n",
       "    </tr>\n",
       "    <tr>\n",
       "      <th>8</th>\n",
       "      <td>20</td>\n",
       "      <td>2900000</td>\n",
       "      <td>33.16</td>\n",
       "      <td>2018-05-23</td>\n",
       "      <td>1</td>\n",
       "      <td>2.65</td>\n",
       "      <td>27</td>\n",
       "      <td>15.43</td>\n",
       "      <td>26</td>\n",
       "      <td>False</td>\n",
       "      <td>False</td>\n",
       "      <td>False</td>\n",
       "      <td>8.810</td>\n",
       "      <td>0</td>\n",
       "      <td>мурино</td>\n",
       "      <td>NaN</td>\n",
       "      <td>NaN</td>\n",
       "      <td>NaN</td>\n",
       "      <td>NaN</td>\n",
       "      <td>NaN</td>\n",
       "      <td>NaN</td>\n",
       "      <td>189.0</td>\n",
       "      <td>87454</td>\n",
       "      <td>среда</td>\n",
       "      <td>5</td>\n",
       "      <td>2018</td>\n",
       "      <td>другой</td>\n",
       "      <td>999999</td>\n",
       "    </tr>\n",
       "    <tr>\n",
       "      <th>9</th>\n",
       "      <td>18</td>\n",
       "      <td>5400000</td>\n",
       "      <td>61.00</td>\n",
       "      <td>2017-02-26</td>\n",
       "      <td>3</td>\n",
       "      <td>2.50</td>\n",
       "      <td>9</td>\n",
       "      <td>43.60</td>\n",
       "      <td>7</td>\n",
       "      <td>False</td>\n",
       "      <td>False</td>\n",
       "      <td>False</td>\n",
       "      <td>6.500</td>\n",
       "      <td>2</td>\n",
       "      <td>санкт-петербург</td>\n",
       "      <td>50898.0</td>\n",
       "      <td>15008.0</td>\n",
       "      <td>0.0</td>\n",
       "      <td>NaN</td>\n",
       "      <td>0.0</td>\n",
       "      <td>NaN</td>\n",
       "      <td>289.0</td>\n",
       "      <td>88524</td>\n",
       "      <td>воскресенье</td>\n",
       "      <td>2</td>\n",
       "      <td>2017</td>\n",
       "      <td>другой</td>\n",
       "      <td>15</td>\n",
       "    </tr>\n",
       "  </tbody>\n",
       "</table>\n",
       "</div>"
      ],
      "text/plain": [
       "   total_images  last_price  total_area first_day_exposition  rooms  \\\n",
       "0            20    13000000      108.00           2019-03-07      3   \n",
       "1             7     3350000       40.40           2018-12-04      1   \n",
       "2            10     5196000       56.00           2015-08-20      2   \n",
       "3             0    64900000      159.00           2015-07-24      3   \n",
       "4             2    10000000      100.00           2018-06-19      2   \n",
       "5            10     2890000       30.40           2018-09-10      1   \n",
       "6             6     3700000       37.30           2017-11-02      1   \n",
       "7             5     7915000       71.60           2019-04-18      2   \n",
       "8            20     2900000       33.16           2018-05-23      1   \n",
       "9            18     5400000       61.00           2017-02-26      3   \n",
       "\n",
       "   ceiling_height  floors_total  living_area  floor  is_apartment  studio  \\\n",
       "0            2.70            16        51.00      8         False   False   \n",
       "1            2.65            11        18.60      1         False   False   \n",
       "2            2.65             5        34.30      4         False   False   \n",
       "3            2.65            14        30.40      9         False   False   \n",
       "4            3.03            14        30.40     13         False   False   \n",
       "5            2.65            12        14.40      5         False   False   \n",
       "6            2.65            26        30.40      6         False   False   \n",
       "7            2.65            24        30.40     22         False   False   \n",
       "8            2.65            27        15.43     26         False   False   \n",
       "9            2.50             9        43.60      7         False   False   \n",
       "\n",
       "   open_plan  kitchen_area  balcony    locality_name  airports_nearest  \\\n",
       "0      False        25.000        0  санкт-петербург           18863.0   \n",
       "1      False        11.000        2           шушары           12817.0   \n",
       "2      False         8.300        0  санкт-петербург           21741.0   \n",
       "3      False         9.045        0  санкт-петербург           28098.0   \n",
       "4      False         9.045        0  санкт-петербург           31856.0   \n",
       "5      False         9.100        0          янино-1               NaN   \n",
       "6      False        14.400        1        парголово           52996.0   \n",
       "7      False        18.900        2  санкт-петербург           23982.0   \n",
       "8      False         8.810        0           мурино               NaN   \n",
       "9      False         6.500        2  санкт-петербург           50898.0   \n",
       "\n",
       "   citycenters_nearest  parks_around3000  parks_nearest  ponds_around3000  \\\n",
       "0              16028.0               1.0          482.0               2.0   \n",
       "1              18603.0               0.0            NaN               0.0   \n",
       "2              13933.0               1.0           90.0               2.0   \n",
       "3               6800.0               2.0           84.0               3.0   \n",
       "4               8098.0               2.0          112.0               1.0   \n",
       "5                  NaN               NaN            NaN               NaN   \n",
       "6              19143.0               0.0            NaN               0.0   \n",
       "7              11634.0               0.0            NaN               0.0   \n",
       "8                  NaN               NaN            NaN               NaN   \n",
       "9              15008.0               0.0            NaN               0.0   \n",
       "\n",
       "   ponds_nearest  days_exposition  m2_price week_day_exposition  \\\n",
       "0          755.0              NaN    120370             четверг   \n",
       "1            NaN             81.0     82920             вторник   \n",
       "2          574.0            558.0     92785             четверг   \n",
       "3          234.0            424.0    408176             пятница   \n",
       "4           48.0            121.0    100000             вторник   \n",
       "5            NaN             55.0     95065         понедельник   \n",
       "6            NaN            155.0     99195             четверг   \n",
       "7            NaN              NaN    110544             четверг   \n",
       "8            NaN            189.0     87454               среда   \n",
       "9            NaN            289.0     88524         воскресенье   \n",
       "\n",
       "   month_exposition  year_exposition floor_category  citycenters_nearest_km  \n",
       "0                 3             2019         другой                      16  \n",
       "1                12             2018         первый                      18  \n",
       "2                 8             2015         другой                      13  \n",
       "3                 7             2015         другой                       6  \n",
       "4                 6             2018         другой                       8  \n",
       "5                 9             2018         другой                  999999  \n",
       "6                11             2017         другой                      19  \n",
       "7                 4             2019         другой                      11  \n",
       "8                 5             2018         другой                  999999  \n",
       "9                 2             2017         другой                      15  "
      ]
     },
     "execution_count": 22,
     "metadata": {},
     "output_type": "execute_result"
    }
   ],
   "source": [
    "data.head(10)"
   ]
  },
  {
   "cell_type": "markdown",
   "metadata": {},
   "source": [
    "### Проведите исследовательский анализ данных"
   ]
  },
  {
   "cell_type": "markdown",
   "metadata": {},
   "source": [
    "#### "
   ]
  },
  {
   "cell_type": "code",
   "execution_count": 23,
   "metadata": {
    "scrolled": true
   },
   "outputs": [
    {
     "data": {
      "image/png": "[encoded data removed]",
      "text/plain": [
       "<Figure size 432x288 with 1 Axes>"
      ]
     },
     "metadata": {
      "needs_background": "light"
     },
     "output_type": "display_data"
    }
   ],
   "source": [
    "plt.ylim(0, 200)\n",
    "data.boxplot(column='total_area');"
   ]
  },
  {
   "cell_type": "code",
   "execution_count": 24,
   "metadata": {},
   "outputs": [
    {
     "data": {
      "text/plain": [
       "count    23252.000000\n",
       "mean        58.078330\n",
       "std         26.436568\n",
       "min         12.000000\n",
       "25%         40.000000\n",
       "50%         51.600000\n",
       "75%         68.600000\n",
       "max        200.000000\n",
       "Name: total_area, dtype: float64"
      ]
     },
     "execution_count": 24,
     "metadata": {},
     "output_type": "execute_result"
    }
   ],
   "source": [
    "data['total_area'].describe()"
   ]
  },
  {
   "cell_type": "markdown",
   "metadata": {},
   "source": [
    "**Вывод:** Общая площадь в выборке от 12 до 200 м2, среднее значение 58м2 , а медиана 51 м2"
   ]
  },
  {
   "cell_type": "code",
   "execution_count": 25,
   "metadata": {},
   "outputs": [
    {
     "data": {
      "text/plain": [
       "count    23252.000000\n",
       "mean        33.255944\n",
       "std         16.160144\n",
       "min          8.300000\n",
       "25%         20.000000\n",
       "50%         30.400000\n",
       "75%         40.000000\n",
       "max        164.700000\n",
       "Name: living_area, dtype: float64"
      ]
     },
     "execution_count": 25,
     "metadata": {},
     "output_type": "execute_result"
    },
    {
     "data": {
      "image/png": "[encoded data removed]",
      "text/plain": [
       "<Figure size 432x288 with 1 Axes>"
      ]
     },
     "metadata": {
      "needs_background": "light"
     },
     "output_type": "display_data"
    }
   ],
   "source": [
    "plt.ylim(0, 165)\n",
    "data.boxplot(column='living_area');\n",
    "data['living_area'].describe()"
   ]
  },
  {
   "cell_type": "markdown",
   "metadata": {},
   "source": [
    "**Вывод:** Жилая площадь выборке от 8 до 164 м2, среднее значение 33м2 , медиана 30 м2."
   ]
  },
  {
   "cell_type": "code",
   "execution_count": 26,
   "metadata": {},
   "outputs": [
    {
     "data": {
      "image/png": "[encoded data removed]",
      "text/plain": [
       "<Figure size 432x288 with 1 Axes>"
      ]
     },
     "metadata": {
      "needs_background": "light"
     },
     "output_type": "display_data"
    }
   ],
   "source": [
    "plt.ylim(0, 50)\n",
    "data.boxplot(column='kitchen_area');\n",
    "data['kitchen_area'].describe();"
   ]
  },
  {
   "cell_type": "markdown",
   "metadata": {},
   "source": [
    "**Вывод:** Площадь кухни в выборке от 1.3 до 77 м2, среднее значение 10м2 , а медиана 9 м2.\n"
   ]
  },
  {
   "cell_type": "code",
   "execution_count": 27,
   "metadata": {},
   "outputs": [
    {
     "data": {
      "text/plain": [
       "count    23252.000000\n",
       "mean         6.001423\n",
       "std          6.176898\n",
       "min          0.012190\n",
       "25%          3.400000\n",
       "50%          4.600000\n",
       "75%          6.660000\n",
       "max        330.000000\n",
       "Name: last_price, dtype: float64"
      ]
     },
     "execution_count": 27,
     "metadata": {},
     "output_type": "execute_result"
    },
    {
     "data": {
      "image/png": "[encoded data removed]",
      "text/plain": [
       "<Figure size 432x288 with 1 Axes>"
      ]
     },
     "metadata": {
      "needs_background": "light"
     },
     "output_type": "display_data"
    }
   ],
   "source": [
    "data['last_price'] = (data['last_price']/1000000)\n",
    "data['last_price'].hist(bins=30,range=(0,50));\n",
    "data['last_price'].describe()"
   ]
  },
  {
   "cell_type": "code",
   "execution_count": 28,
   "metadata": {
    "scrolled": false
   },
   "outputs": [
    {
     "data": {
      "image/png": "[encoded data removed]",
      "text/plain": [
       "<Figure size 432x288 with 1 Axes>"
      ]
     },
     "metadata": {
      "needs_background": "light"
     },
     "output_type": "display_data"
    }
   ],
   "source": [
    "plt.ylim(0,50)\n",
    "data.boxplot(column='last_price');"
   ]
  },
  {
   "cell_type": "code",
   "execution_count": 29,
   "metadata": {},
   "outputs": [
    {
     "data": {
      "text/plain": [
       "is_apartment    100\n",
       "rooms           100\n",
       "studio          100\n",
       "total_area      100\n",
       "dtype: int64"
      ]
     },
     "execution_count": 29,
     "metadata": {},
     "output_type": "execute_result"
    }
   ],
   "source": [
    "price_anomaly = data.query('last_price >= 50 or last_price <= 1').pivot_table(index = 'last_price',\n",
    "                            values = ['total_area','rooms','is_apartment', 'studio'])\n",
    "#посчитаем скольо аномальных значений \n",
    "price_anomaly.count()"
   ]
  },
  {
   "cell_type": "code",
   "execution_count": 30,
   "metadata": {},
   "outputs": [
    {
     "data": {
      "text/plain": [
       "0.00430070531567177"
      ]
     },
     "execution_count": 30,
     "metadata": {},
     "output_type": "execute_result"
    }
   ],
   "source": [
    "price_anomaly.shape[0]/data.shape[0]"
   ]
  },
  {
   "cell_type": "markdown",
   "metadata": {},
   "source": [
    "100 значени 0.4 процента от выборки  - тоже не очень много - думаю можно и от этих данных избавиться"
   ]
  },
  {
   "cell_type": "code",
   "execution_count": 31,
   "metadata": {},
   "outputs": [
    {
     "data": {
      "text/plain": [
       "count    22980.000000\n",
       "mean         5.897026\n",
       "std          4.608121\n",
       "min          1.000000\n",
       "25%          3.450000\n",
       "50%          4.600000\n",
       "75%          6.690000\n",
       "max         50.000000\n",
       "Name: last_price, dtype: float64"
      ]
     },
     "execution_count": 31,
     "metadata": {},
     "output_type": "execute_result"
    }
   ],
   "source": [
    "data['last_price']= data.query('last_price >= 1 and last_price <= 50')['last_price']\n",
    "data['last_price'].describe()\n",
    "#data.boxplot(column='last_price');"
   ]
  },
  {
   "cell_type": "markdown",
   "metadata": {},
   "source": [
    "**Вывод:** Минимальная цена 1млн - максимальная 50 млн. Средняя цена в выборке 5,9 млн , а медиана 4,6 млн."
   ]
  },
  {
   "cell_type": "code",
   "execution_count": 32,
   "metadata": {},
   "outputs": [
    {
     "data": {
      "image/png": "[encoded data removed]",
      "text/plain": [
       "<Figure size 432x288 with 1 Axes>"
      ]
     },
     "metadata": {
      "needs_background": "light"
     },
     "output_type": "display_data"
    }
   ],
   "source": [
    "data['rooms'].hist(bins=12);"
   ]
  },
  {
   "cell_type": "code",
   "execution_count": 33,
   "metadata": {},
   "outputs": [
    {
     "data": {
      "image/png": "[encoded data removed]",
      "text/plain": [
       "<Figure size 432x288 with 1 Axes>"
      ]
     },
     "metadata": {
      "needs_background": "light"
     },
     "output_type": "display_data"
    }
   ],
   "source": [
    "data.boxplot(column='rooms');"
   ]
  },
  {
   "cell_type": "code",
   "execution_count": 34,
   "metadata": {
    "scrolled": false
   },
   "outputs": [
    {
     "data": {
      "text/plain": [
       "count    23252.000000\n",
       "mean         2.033416\n",
       "std          0.994913\n",
       "min          0.000000\n",
       "25%          1.000000\n",
       "50%          2.000000\n",
       "75%          3.000000\n",
       "max         11.000000\n",
       "Name: rooms, dtype: float64"
      ]
     },
     "execution_count": 34,
     "metadata": {},
     "output_type": "execute_result"
    }
   ],
   "source": [
    "data['rooms'].describe()"
   ]
  },
  {
   "cell_type": "code",
   "execution_count": 35,
   "metadata": {},
   "outputs": [
    {
     "data": {
      "image/png": "[encoded data removed]",
      "text/plain": [
       "<Figure size 432x288 with 1 Axes>"
      ]
     },
     "metadata": {
      "needs_background": "light"
     },
     "output_type": "display_data"
    }
   ],
   "source": [
    "data['rooms'].hist(bins=11, range=(0,6));"
   ]
  },
  {
   "cell_type": "markdown",
   "metadata": {},
   "source": [
    "**Вывод:** в выборке есть картиры как без комнат так и 11 комнатные. Больше всего 1 комнатных квартир, чуть меньше 2х комнатных. Среднее количество комнат 2. Больше 6 комнат можно считать выбросами"
   ]
  },
  {
   "cell_type": "code",
   "execution_count": 36,
   "metadata": {
    "scrolled": true
   },
   "outputs": [
    {
     "data": {
      "text/plain": [
       "count    23252.000000\n",
       "mean         2.688478\n",
       "std          0.192164\n",
       "min          2.200000\n",
       "25%          2.600000\n",
       "50%          2.650000\n",
       "75%          2.700000\n",
       "max          3.980000\n",
       "Name: ceiling_height, dtype: float64"
      ]
     },
     "execution_count": 36,
     "metadata": {},
     "output_type": "execute_result"
    },
    {
     "data": {
      "image/png": "[encoded data removed]",
      "text/plain": [
       "<Figure size 432x288 with 1 Axes>"
      ]
     },
     "metadata": {
      "needs_background": "light"
     },
     "output_type": "display_data"
    }
   ],
   "source": [
    "data['ceiling_height'].hist(bins=30,range = (2,5));\n",
    "data['ceiling_height'].describe()"
   ]
  },
  {
   "cell_type": "markdown",
   "metadata": {},
   "source": [
    "**Вывод:** Высота потолков среднее значение 2,69м что в принципе нормально. Медианное значение 2,7 м"
   ]
  },
  {
   "cell_type": "code",
   "execution_count": 37,
   "metadata": {
    "scrolled": true
   },
   "outputs": [
    {
     "data": {
      "text/plain": [
       "count    23252.000000\n",
       "mean         5.893256\n",
       "std          4.883456\n",
       "min          1.000000\n",
       "25%          2.000000\n",
       "50%          4.000000\n",
       "75%          8.000000\n",
       "max         33.000000\n",
       "Name: floor, dtype: float64"
      ]
     },
     "execution_count": 37,
     "metadata": {},
     "output_type": "execute_result"
    },
    {
     "data": {
      "image/png": "[encoded data removed]",
      "text/plain": [
       "<Figure size 432x288 with 1 Axes>"
      ]
     },
     "metadata": {
      "needs_background": "light"
     },
     "output_type": "display_data"
    }
   ],
   "source": [
    "data['floor'].hist(bins=30);\n",
    "data['floor'].describe()"
   ]
  },
  {
   "cell_type": "markdown",
   "metadata": {},
   "source": [
    "**Вывод:** Этажи кавртир находятся в диапазоне от 1 до 33 этажа. Большинство объявлний с 1 по 5 этаж скрее всего связано с  массовой спальной застройко в советское время. Среднее значение почти 6, а медианное 4. "
   ]
  },
  {
   "cell_type": "code",
   "execution_count": 38,
   "metadata": {
    "scrolled": true
   },
   "outputs": [
    {
     "data": {
      "text/plain": [
       "count      23252\n",
       "unique         3\n",
       "top       другой\n",
       "freq       17138\n",
       "Name: floor_category, dtype: object"
      ]
     },
     "execution_count": 38,
     "metadata": {},
     "output_type": "execute_result"
    },
    {
     "data": {
      "image/png": "[encoded data removed]",
      "text/plain": [
       "<Figure size 432x288 with 1 Axes>"
      ]
     },
     "metadata": {
      "needs_background": "light"
     },
     "output_type": "display_data"
    }
   ],
   "source": [
    "data['floor_category'].hist(bins=3);\n",
    "data['floor_category'].describe()"
   ]
  },
  {
   "cell_type": "markdown",
   "metadata": {},
   "source": [
    "**Вывод:** в выборке большинстов квартир расположено не на первом и не на поледнем этажах"
   ]
  },
  {
   "cell_type": "code",
   "execution_count": 39,
   "metadata": {
    "scrolled": true
   },
   "outputs": [
    {
     "data": {
      "text/plain": [
       "count    23252.000000\n",
       "mean        10.731679\n",
       "std          6.602624\n",
       "min          1.000000\n",
       "25%          5.000000\n",
       "50%          9.000000\n",
       "75%         16.000000\n",
       "max         60.000000\n",
       "Name: floors_total, dtype: float64"
      ]
     },
     "execution_count": 39,
     "metadata": {},
     "output_type": "execute_result"
    },
    {
     "data": {
      "image/png": "[encoded data removed]",
      "text/plain": [
       "<Figure size 432x288 with 1 Axes>"
      ]
     },
     "metadata": {
      "needs_background": "light"
     },
     "output_type": "display_data"
    }
   ],
   "source": [
    "data['floors_total'].hist(bins=60);\n",
    "data['floors_total'].describe()"
   ]
  },
  {
   "cell_type": "markdown",
   "metadata": {},
   "source": [
    "**Вывод:** В выборке есть дома как 1 этажные так и 60 этажные. Большинство домов представленных в выборке имеют этажность 5 этажей, далее 9 этажные дома. Из личных наблюдений: типичная советская массовая застройка спальных районов как раз состояла из домов 5 и 9 этажей"
   ]
  },
  {
   "cell_type": "code",
   "execution_count": 40,
   "metadata": {
    "scrolled": false
   },
   "outputs": [
    {
     "data": {
      "text/plain": [
       "count    17773.000000\n",
       "mean     14304.842401\n",
       "std       8588.752134\n",
       "min        181.000000\n",
       "25%       9467.000000\n",
       "50%      13166.000000\n",
       "75%      16319.000000\n",
       "max      65968.000000\n",
       "Name: citycenters_nearest, dtype: float64"
      ]
     },
     "execution_count": 40,
     "metadata": {},
     "output_type": "execute_result"
    },
    {
     "data": {
      "image/png": "[encoded data removed]",
      "text/plain": [
       "<Figure size 432x288 with 1 Axes>"
      ]
     },
     "metadata": {
      "needs_background": "light"
     },
     "output_type": "display_data"
    }
   ],
   "source": [
    "data['citycenters_nearest'].hist(bins=60);\n",
    "data['citycenters_nearest'].describe()"
   ]
  },
  {
   "cell_type": "markdown",
   "metadata": {},
   "source": [
    "**Вывод:** Расстояния до цента в диапазоне от 181м до почти 66 тыс м. Большинство квартир расположено в диапазоне от 10км до 20км до центар. Среднее расстояние до центра 14 км."
   ]
  },
  {
   "cell_type": "code",
   "execution_count": 41,
   "metadata": {
    "scrolled": true
   },
   "outputs": [
    {
     "data": {
      "text/plain": [
       "count    17753.000000\n",
       "mean     28834.935448\n",
       "std      12688.797379\n",
       "min          0.000000\n",
       "25%      18490.000000\n",
       "50%      26880.000000\n",
       "75%      37368.000000\n",
       "max      84869.000000\n",
       "Name: airports_nearest, dtype: float64"
      ]
     },
     "execution_count": 41,
     "metadata": {},
     "output_type": "execute_result"
    },
    {
     "data": {
      "image/png": "[encoded data removed]",
      "text/plain": [
       "<Figure size 432x288 with 1 Axes>"
      ]
     },
     "metadata": {
      "needs_background": "light"
     },
     "output_type": "display_data"
    }
   ],
   "source": [
    "data['airports_nearest'].hist(bins=60);\n",
    "data['airports_nearest'].describe()"
   ]
  },
  {
   "cell_type": "markdown",
   "metadata": {},
   "source": [
    "**Вывод:** Расстояния до аэропорта в диапазоне от 0м до почти 85км. Большинство квартир расположено на расстоянии от 10 до 50 км. Среднее расстояние до аэропорта 28 км."
   ]
  },
  {
   "cell_type": "code",
   "execution_count": 42,
   "metadata": {
    "scrolled": false
   },
   "outputs": [
    {
     "data": {
      "text/plain": [
       "count    7836.000000\n",
       "mean      491.724604\n",
       "std       342.835007\n",
       "min         1.000000\n",
       "25%       288.000000\n",
       "50%       455.500000\n",
       "75%       613.000000\n",
       "max      3190.000000\n",
       "Name: parks_nearest, dtype: float64"
      ]
     },
     "execution_count": 42,
     "metadata": {},
     "output_type": "execute_result"
    },
    {
     "data": {
      "image/png": "[encoded data removed]",
      "text/plain": [
       "<Figure size 432x288 with 1 Axes>"
      ]
     },
     "metadata": {
      "needs_background": "light"
     },
     "output_type": "display_data"
    }
   ],
   "source": [
    "data['parks_nearest'].hist(bins=60);\n",
    "data['parks_nearest'].describe()"
   ]
  },
  {
   "cell_type": "markdown",
   "metadata": {},
   "source": [
    "**Вывод:** Расстояния до парка указано в 8030 объявлениях. Диапазон от 1м до 3км. Большинство квартир расположено на расстоянии до 800м от парка. Среднее расстояние до парка 491м."
   ]
  },
  {
   "cell_type": "code",
   "execution_count": 43,
   "metadata": {
    "scrolled": true
   },
   "outputs": [
    {
     "data": {
      "image/png": "[encoded data removed]",
      "text/plain": [
       "<Figure size 720x720 with 1 Axes>"
      ]
     },
     "metadata": {
      "needs_background": "light"
     },
     "output_type": "display_data"
    }
   ],
   "source": [
    "data['week_day_exposition'].hist(bins=7,figsize=(10, 10));"
   ]
  },
  {
   "cell_type": "markdown",
   "metadata": {},
   "source": [
    "**Вывод:** Меньше всего объявления подавали в субботу и воскресень"
   ]
  },
  {
   "cell_type": "code",
   "execution_count": 44,
   "metadata": {
    "scrolled": false
   },
   "outputs": [
    {
     "data": {
      "image/png": "[encoded data removed]",
      "text/plain": [
       "<Figure size 432x288 with 1 Axes>"
      ]
     },
     "metadata": {
      "needs_background": "light"
     },
     "output_type": "display_data"
    }
   ],
   "source": [
    "data['month_exposition'].hist(bins=12,range=(1,12));"
   ]
  },
  {
   "cell_type": "markdown",
   "metadata": {},
   "source": [
    "**Вывод:** Меньше всего объявления подавали  в декабре январе и мае - это скорее всего связано с продолжительными праздничными каникулами"
   ]
  },
  {
   "cell_type": "markdown",
   "metadata": {},
   "source": [
    "#### "
   ]
  },
  {
   "cell_type": "code",
   "execution_count": 45,
   "metadata": {
    "scrolled": false
   },
   "outputs": [
    {
     "data": {
      "text/plain": [
       "count    20156.000000\n",
       "mean       179.408662\n",
       "std        218.264842\n",
       "min          1.000000\n",
       "25%         45.000000\n",
       "50%         95.000000\n",
       "75%        229.000000\n",
       "max       1580.000000\n",
       "Name: days_exposition, dtype: float64"
      ]
     },
     "execution_count": 45,
     "metadata": {},
     "output_type": "execute_result"
    },
    {
     "data": {
      "image/png": "[encoded data removed]",
      "text/plain": [
       "<Figure size 720x360 with 1 Axes>"
      ]
     },
     "metadata": {
      "needs_background": "light"
     },
     "output_type": "display_data"
    }
   ],
   "source": [
    "data['days_exposition'].hist(bins=70, figsize=(10,5));\n",
    "data['days_exposition'].describe()"
   ]
  },
  {
   "cell_type": "markdown",
   "metadata": {},
   "source": [
    "Средний срок размещения объявления 180 дней, медиана 95 дня. Максимальное 1580 дней это больше 4 лет"
   ]
  },
  {
   "cell_type": "code",
   "execution_count": 46,
   "metadata": {},
   "outputs": [
    {
     "data": {
      "image/png": "[encoded data removed]",
      "text/plain": [
       "<Figure size 432x288 with 1 Axes>"
      ]
     },
     "metadata": {
      "needs_background": "light"
     },
     "output_type": "display_data"
    }
   ],
   "source": [
    "data.boxplot(column='days_exposition');"
   ]
  },
  {
   "cell_type": "markdown",
   "metadata": {},
   "source": [
    "**Вывод** Большая часть обявлений закрывается в течении 200 дней. Быстрые продажи в течении 1 дня. Все что больше 500 дней будем считать необычно долгими продажами."
   ]
  },
  {
   "cell_type": "code",
   "execution_count": 47,
   "metadata": {},
   "outputs": [
    {
     "data": {
      "image/png": "[encoded data removed]",
      "text/plain": [
       "<Figure size 432x288 with 1 Axes>"
      ]
     },
     "metadata": {
      "needs_background": "light"
     },
     "output_type": "display_data"
    }
   ],
   "source": [
    "#удалим выбросы из данны \n",
    "filtered = data.query('total_area < 125' or 'living_area < 75' or 'kitchen_area < 19' or 'last_price < 17' )\n",
    "\n",
    "price_to_area = filtered.pivot_table(index='last_price', values=['total_area','living_area','kitchen_area'],aggfunc = ['median'])\n",
    "price_to_area.columns = ['Общая площадь', 'жилая площадь','площадь кухни']\n",
    "price_to_area.plot(style='o');"
   ]
  },
  {
   "cell_type": "code",
   "execution_count": 48,
   "metadata": {},
   "outputs": [
    {
     "data": {
      "text/html": [
       "<div>\n",
       "<style scoped>\n",
       "    .dataframe tbody tr th:only-of-type {\n",
       "        vertical-align: middle;\n",
       "    }\n",
       "\n",
       "    .dataframe tbody tr th {\n",
       "        vertical-align: top;\n",
       "    }\n",
       "\n",
       "    .dataframe thead th {\n",
       "        text-align: right;\n",
       "    }\n",
       "</style>\n",
       "<table border=\"1\" class=\"dataframe\">\n",
       "  <thead>\n",
       "    <tr style=\"text-align: right;\">\n",
       "      <th></th>\n",
       "      <th>total_area</th>\n",
       "      <th>living_area</th>\n",
       "      <th>kitchen_area</th>\n",
       "      <th>last_price</th>\n",
       "    </tr>\n",
       "  </thead>\n",
       "  <tbody>\n",
       "    <tr>\n",
       "      <th>total_area</th>\n",
       "      <td>1.000000</td>\n",
       "      <td>0.849359</td>\n",
       "      <td>0.474426</td>\n",
       "      <td>0.706924</td>\n",
       "    </tr>\n",
       "    <tr>\n",
       "      <th>living_area</th>\n",
       "      <td>0.849359</td>\n",
       "      <td>1.000000</td>\n",
       "      <td>0.265318</td>\n",
       "      <td>0.534505</td>\n",
       "    </tr>\n",
       "    <tr>\n",
       "      <th>kitchen_area</th>\n",
       "      <td>0.474426</td>\n",
       "      <td>0.265318</td>\n",
       "      <td>1.000000</td>\n",
       "      <td>0.490345</td>\n",
       "    </tr>\n",
       "    <tr>\n",
       "      <th>last_price</th>\n",
       "      <td>0.706924</td>\n",
       "      <td>0.534505</td>\n",
       "      <td>0.490345</td>\n",
       "      <td>1.000000</td>\n",
       "    </tr>\n",
       "  </tbody>\n",
       "</table>\n",
       "</div>"
      ],
      "text/plain": [
       "              total_area  living_area  kitchen_area  last_price\n",
       "total_area      1.000000     0.849359      0.474426    0.706924\n",
       "living_area     0.849359     1.000000      0.265318    0.534505\n",
       "kitchen_area    0.474426     0.265318      1.000000    0.490345\n",
       "last_price      0.706924     0.534505      0.490345    1.000000"
      ]
     },
     "execution_count": 48,
     "metadata": {},
     "output_type": "execute_result"
    }
   ],
   "source": [
    "filtered[['total_area','living_area','kitchen_area','last_price']].corr()"
   ]
  },
  {
   "cell_type": "markdown",
   "metadata": {},
   "source": [
    "Посчитав коэффициент пирсона можно увидеть что цена и общая площадь зависят друг от друга больше чем  цена от жилой площади и площади кухни"
   ]
  },
  {
   "cell_type": "code",
   "execution_count": 49,
   "metadata": {},
   "outputs": [
    {
     "data": {
      "image/png": "[encoded data removed]",
      "text/plain": [
       "<Figure size 432x288 with 1 Axes>"
      ]
     },
     "metadata": {
      "needs_background": "light"
     },
     "output_type": "display_data"
    }
   ],
   "source": [
    "price_to_rooms = data.pivot_table(index='rooms', values='last_price',aggfunc = ['mean','count', 'median'])\n",
    "price_to_rooms.columns = ['mean','count', 'median']\n",
    "price_to_rooms.query('count > 50').sort_values('median', ascending = False)\n",
    "price_to_rooms.query('count > 50').plot(y = 'median');"
   ]
  },
  {
   "cell_type": "code",
   "execution_count": 50,
   "metadata": {},
   "outputs": [
    {
     "data": {
      "text/html": [
       "<div>\n",
       "<style scoped>\n",
       "    .dataframe tbody tr th:only-of-type {\n",
       "        vertical-align: middle;\n",
       "    }\n",
       "\n",
       "    .dataframe tbody tr th {\n",
       "        vertical-align: top;\n",
       "    }\n",
       "\n",
       "    .dataframe thead th {\n",
       "        text-align: right;\n",
       "    }\n",
       "</style>\n",
       "<table border=\"1\" class=\"dataframe\">\n",
       "  <thead>\n",
       "    <tr style=\"text-align: right;\">\n",
       "      <th></th>\n",
       "      <th>mean</th>\n",
       "      <th>count</th>\n",
       "      <th>median</th>\n",
       "    </tr>\n",
       "    <tr>\n",
       "      <th>rooms</th>\n",
       "      <th></th>\n",
       "      <th></th>\n",
       "      <th></th>\n",
       "    </tr>\n",
       "  </thead>\n",
       "  <tbody>\n",
       "    <tr>\n",
       "      <th>0</th>\n",
       "      <td>2.977413</td>\n",
       "      <td>191</td>\n",
       "      <td>2.700</td>\n",
       "    </tr>\n",
       "    <tr>\n",
       "      <th>1</th>\n",
       "      <td>3.865128</td>\n",
       "      <td>7883</td>\n",
       "      <td>3.600</td>\n",
       "    </tr>\n",
       "    <tr>\n",
       "      <th>2</th>\n",
       "      <td>5.564356</td>\n",
       "      <td>7771</td>\n",
       "      <td>4.800</td>\n",
       "    </tr>\n",
       "    <tr>\n",
       "      <th>3</th>\n",
       "      <td>7.720735</td>\n",
       "      <td>5681</td>\n",
       "      <td>6.190</td>\n",
       "    </tr>\n",
       "    <tr>\n",
       "      <th>4</th>\n",
       "      <td>11.033637</td>\n",
       "      <td>1112</td>\n",
       "      <td>8.800</td>\n",
       "    </tr>\n",
       "    <tr>\n",
       "      <th>5</th>\n",
       "      <td>14.387583</td>\n",
       "      <td>259</td>\n",
       "      <td>12.500</td>\n",
       "    </tr>\n",
       "    <tr>\n",
       "      <th>6</th>\n",
       "      <td>15.522844</td>\n",
       "      <td>59</td>\n",
       "      <td>13.450</td>\n",
       "    </tr>\n",
       "    <tr>\n",
       "      <th>7</th>\n",
       "      <td>18.682000</td>\n",
       "      <td>20</td>\n",
       "      <td>16.750</td>\n",
       "    </tr>\n",
       "    <tr>\n",
       "      <th>8</th>\n",
       "      <td>19.145000</td>\n",
       "      <td>2</td>\n",
       "      <td>19.145</td>\n",
       "    </tr>\n",
       "    <tr>\n",
       "      <th>11</th>\n",
       "      <td>25.250000</td>\n",
       "      <td>2</td>\n",
       "      <td>25.250</td>\n",
       "    </tr>\n",
       "  </tbody>\n",
       "</table>\n",
       "</div>"
      ],
      "text/plain": [
       "            mean  count  median\n",
       "rooms                          \n",
       "0       2.977413    191   2.700\n",
       "1       3.865128   7883   3.600\n",
       "2       5.564356   7771   4.800\n",
       "3       7.720735   5681   6.190\n",
       "4      11.033637   1112   8.800\n",
       "5      14.387583    259  12.500\n",
       "6      15.522844     59  13.450\n",
       "7      18.682000     20  16.750\n",
       "8      19.145000      2  19.145\n",
       "11     25.250000      2  25.250"
      ]
     },
     "execution_count": 50,
     "metadata": {},
     "output_type": "execute_result"
    }
   ],
   "source": [
    "price_to_rooms"
   ]
  },
  {
   "cell_type": "markdown",
   "metadata": {},
   "source": [
    "Зависимость количества комнат и цены почти линейная. цена 1комнатной квартиры в среднем 3.8 млн, 2х комнатной 4,8 млн "
   ]
  },
  {
   "cell_type": "code",
   "execution_count": 51,
   "metadata": {},
   "outputs": [
    {
     "data": {
      "text/html": [
       "<div>\n",
       "<style scoped>\n",
       "    .dataframe tbody tr th:only-of-type {\n",
       "        vertical-align: middle;\n",
       "    }\n",
       "\n",
       "    .dataframe tbody tr th {\n",
       "        vertical-align: top;\n",
       "    }\n",
       "\n",
       "    .dataframe thead th {\n",
       "        text-align: right;\n",
       "    }\n",
       "</style>\n",
       "<table border=\"1\" class=\"dataframe\">\n",
       "  <thead>\n",
       "    <tr style=\"text-align: right;\">\n",
       "      <th></th>\n",
       "      <th>mean</th>\n",
       "      <th>count</th>\n",
       "      <th>median</th>\n",
       "    </tr>\n",
       "    <tr>\n",
       "      <th>floor_category</th>\n",
       "      <th></th>\n",
       "      <th></th>\n",
       "      <th></th>\n",
       "    </tr>\n",
       "  </thead>\n",
       "  <tbody>\n",
       "    <tr>\n",
       "      <th>другой</th>\n",
       "      <td>6.140009</td>\n",
       "      <td>17023</td>\n",
       "      <td>4.80</td>\n",
       "    </tr>\n",
       "    <tr>\n",
       "      <th>первый</th>\n",
       "      <td>4.673124</td>\n",
       "      <td>2806</td>\n",
       "      <td>3.95</td>\n",
       "    </tr>\n",
       "    <tr>\n",
       "      <th>последний</th>\n",
       "      <td>5.674233</td>\n",
       "      <td>3151</td>\n",
       "      <td>4.30</td>\n",
       "    </tr>\n",
       "  </tbody>\n",
       "</table>\n",
       "</div>"
      ],
      "text/plain": [
       "                    mean  count  median\n",
       "floor_category                         \n",
       "другой          6.140009  17023    4.80\n",
       "первый          4.673124   2806    3.95\n",
       "последний       5.674233   3151    4.30"
      ]
     },
     "execution_count": 51,
     "metadata": {},
     "output_type": "execute_result"
    },
    {
     "data": {
      "image/png": "[encoded data removed]",
      "text/plain": [
       "<Figure size 432x288 with 1 Axes>"
      ]
     },
     "metadata": {
      "needs_background": "light"
     },
     "output_type": "display_data"
    }
   ],
   "source": [
    "pivot_table_floor_category = data.pivot_table(index = 'floor_category', values = 'last_price', aggfunc = ['mean','count','median'])\n",
    "pivot_table_floor_category.columns = ['mean','count','median']\n",
    "pivot_table_floor_category.plot(y = 'median');\n",
    "pivot_table_floor_category"
   ]
  },
  {
   "cell_type": "markdown",
   "metadata": {},
   "source": [
    "Можно сделать вывод что квартиры на первом этаже дешевле чем на последнем, а они в свою очередь дешевле квартир расположенных в середине дома\n"
   ]
  },
  {
   "cell_type": "code",
   "execution_count": 52,
   "metadata": {},
   "outputs": [
    {
     "data": {
      "text/html": [
       "<div>\n",
       "<style scoped>\n",
       "    .dataframe tbody tr th:only-of-type {\n",
       "        vertical-align: middle;\n",
       "    }\n",
       "\n",
       "    .dataframe tbody tr th {\n",
       "        vertical-align: top;\n",
       "    }\n",
       "\n",
       "    .dataframe thead th {\n",
       "        text-align: right;\n",
       "    }\n",
       "</style>\n",
       "<table border=\"1\" class=\"dataframe\">\n",
       "  <thead>\n",
       "    <tr style=\"text-align: right;\">\n",
       "      <th></th>\n",
       "      <th>mean</th>\n",
       "      <th>count</th>\n",
       "      <th>median</th>\n",
       "    </tr>\n",
       "    <tr>\n",
       "      <th>week_day_exposition</th>\n",
       "      <th></th>\n",
       "      <th></th>\n",
       "      <th></th>\n",
       "    </tr>\n",
       "  </thead>\n",
       "  <tbody>\n",
       "    <tr>\n",
       "      <th>вторник</th>\n",
       "      <td>5.930706</td>\n",
       "      <td>4078</td>\n",
       "      <td>4.7000</td>\n",
       "    </tr>\n",
       "    <tr>\n",
       "      <th>среда</th>\n",
       "      <td>5.955626</td>\n",
       "      <td>3840</td>\n",
       "      <td>4.7000</td>\n",
       "    </tr>\n",
       "    <tr>\n",
       "      <th>понедельник</th>\n",
       "      <td>5.963437</td>\n",
       "      <td>3523</td>\n",
       "      <td>4.6500</td>\n",
       "    </tr>\n",
       "    <tr>\n",
       "      <th>четверг</th>\n",
       "      <td>6.019409</td>\n",
       "      <td>4156</td>\n",
       "      <td>4.6000</td>\n",
       "    </tr>\n",
       "    <tr>\n",
       "      <th>суббота</th>\n",
       "      <td>5.731505</td>\n",
       "      <td>1854</td>\n",
       "      <td>4.5675</td>\n",
       "    </tr>\n",
       "    <tr>\n",
       "      <th>пятница</th>\n",
       "      <td>5.759791</td>\n",
       "      <td>3886</td>\n",
       "      <td>4.5500</td>\n",
       "    </tr>\n",
       "    <tr>\n",
       "      <th>воскресенье</th>\n",
       "      <td>5.735869</td>\n",
       "      <td>1643</td>\n",
       "      <td>4.5300</td>\n",
       "    </tr>\n",
       "  </tbody>\n",
       "</table>\n",
       "</div>"
      ],
      "text/plain": [
       "                         mean  count  median\n",
       "week_day_exposition                         \n",
       "вторник              5.930706   4078  4.7000\n",
       "среда                5.955626   3840  4.7000\n",
       "понедельник          5.963437   3523  4.6500\n",
       "четверг              6.019409   4156  4.6000\n",
       "суббота              5.731505   1854  4.5675\n",
       "пятница              5.759791   3886  4.5500\n",
       "воскресенье          5.735869   1643  4.5300"
      ]
     },
     "execution_count": 52,
     "metadata": {},
     "output_type": "execute_result"
    },
    {
     "data": {
      "image/png": "[encoded data removed]",
      "text/plain": [
       "<Figure size 432x288 with 1 Axes>"
      ]
     },
     "metadata": {
      "needs_background": "light"
     },
     "output_type": "display_data"
    }
   ],
   "source": [
    "pivot_table_weekday_exposition = data.pivot_table(index = 'week_day_exposition', values = 'last_price', aggfunc = ['mean','count','median'])\n",
    "pivot_table_weekday_exposition.columns = ['mean','count','median']\n",
    "\n",
    "pivot_table_weekday_exposition.plot(y = 'median');\n",
    "pivot_table_weekday_exposition.sort_values('median', ascending = False)"
   ]
  },
  {
   "cell_type": "code",
   "execution_count": 53,
   "metadata": {},
   "outputs": [
    {
     "data": {
      "text/html": [
       "<div>\n",
       "<style scoped>\n",
       "    .dataframe tbody tr th:only-of-type {\n",
       "        vertical-align: middle;\n",
       "    }\n",
       "\n",
       "    .dataframe tbody tr th {\n",
       "        vertical-align: top;\n",
       "    }\n",
       "\n",
       "    .dataframe thead th {\n",
       "        text-align: right;\n",
       "    }\n",
       "</style>\n",
       "<table border=\"1\" class=\"dataframe\">\n",
       "  <thead>\n",
       "    <tr style=\"text-align: right;\">\n",
       "      <th></th>\n",
       "      <th>mean</th>\n",
       "      <th>count</th>\n",
       "      <th>median</th>\n",
       "    </tr>\n",
       "    <tr>\n",
       "      <th>month_exposition</th>\n",
       "      <th></th>\n",
       "      <th></th>\n",
       "      <th></th>\n",
       "    </tr>\n",
       "  </thead>\n",
       "  <tbody>\n",
       "    <tr>\n",
       "      <th>4</th>\n",
       "      <td>5.901638</td>\n",
       "      <td>2304</td>\n",
       "      <td>4.8000</td>\n",
       "    </tr>\n",
       "    <tr>\n",
       "      <th>9</th>\n",
       "      <td>5.956183</td>\n",
       "      <td>1920</td>\n",
       "      <td>4.6945</td>\n",
       "    </tr>\n",
       "    <tr>\n",
       "      <th>11</th>\n",
       "      <td>6.019229</td>\n",
       "      <td>2306</td>\n",
       "      <td>4.6800</td>\n",
       "    </tr>\n",
       "    <tr>\n",
       "      <th>2</th>\n",
       "      <td>6.024276</td>\n",
       "      <td>2575</td>\n",
       "      <td>4.6500</td>\n",
       "    </tr>\n",
       "    <tr>\n",
       "      <th>3</th>\n",
       "      <td>5.778733</td>\n",
       "      <td>2510</td>\n",
       "      <td>4.6500</td>\n",
       "    </tr>\n",
       "    <tr>\n",
       "      <th>12</th>\n",
       "      <td>5.910755</td>\n",
       "      <td>1589</td>\n",
       "      <td>4.6500</td>\n",
       "    </tr>\n",
       "    <tr>\n",
       "      <th>1</th>\n",
       "      <td>5.986119</td>\n",
       "      <td>1447</td>\n",
       "      <td>4.6000</td>\n",
       "    </tr>\n",
       "    <tr>\n",
       "      <th>7</th>\n",
       "      <td>5.859023</td>\n",
       "      <td>1637</td>\n",
       "      <td>4.6000</td>\n",
       "    </tr>\n",
       "    <tr>\n",
       "      <th>8</th>\n",
       "      <td>5.917427</td>\n",
       "      <td>1704</td>\n",
       "      <td>4.5500</td>\n",
       "    </tr>\n",
       "    <tr>\n",
       "      <th>10</th>\n",
       "      <td>5.745796</td>\n",
       "      <td>2063</td>\n",
       "      <td>4.5500</td>\n",
       "    </tr>\n",
       "    <tr>\n",
       "      <th>5</th>\n",
       "      <td>5.885488</td>\n",
       "      <td>1227</td>\n",
       "      <td>4.5000</td>\n",
       "    </tr>\n",
       "    <tr>\n",
       "      <th>6</th>\n",
       "      <td>5.759280</td>\n",
       "      <td>1698</td>\n",
       "      <td>4.4000</td>\n",
       "    </tr>\n",
       "  </tbody>\n",
       "</table>\n",
       "</div>"
      ],
      "text/plain": [
       "                      mean  count  median\n",
       "month_exposition                         \n",
       "4                 5.901638   2304  4.8000\n",
       "9                 5.956183   1920  4.6945\n",
       "11                6.019229   2306  4.6800\n",
       "2                 6.024276   2575  4.6500\n",
       "3                 5.778733   2510  4.6500\n",
       "12                5.910755   1589  4.6500\n",
       "1                 5.986119   1447  4.6000\n",
       "7                 5.859023   1637  4.6000\n",
       "8                 5.917427   1704  4.5500\n",
       "10                5.745796   2063  4.5500\n",
       "5                 5.885488   1227  4.5000\n",
       "6                 5.759280   1698  4.4000"
      ]
     },
     "execution_count": 53,
     "metadata": {},
     "output_type": "execute_result"
    },
    {
     "data": {
      "image/png": "[encoded data removed]",
      "text/plain": [
       "<Figure size 432x288 with 1 Axes>"
      ]
     },
     "metadata": {
      "needs_background": "light"
     },
     "output_type": "display_data"
    }
   ],
   "source": [
    "pivot_table_month_exposition = data.pivot_table(index = 'month_exposition', values = 'last_price', aggfunc = ['mean', 'count', 'median'])\n",
    "pivot_table_month_exposition.columns = ['mean', 'count', 'median']\n",
    "pivot_table_month_exposition.plot(y = 'median');\n",
    "\n",
    "pivot_table_month_exposition.sort_values('median', ascending = False)"
   ]
  },
  {
   "cell_type": "markdown",
   "metadata": {},
   "source": [
    "Май и июнь самая низкая стоимость квартир это скорее всего связано с сезоном отпусков "
   ]
  },
  {
   "cell_type": "code",
   "execution_count": 54,
   "metadata": {},
   "outputs": [
    {
     "data": {
      "text/html": [
       "<div>\n",
       "<style scoped>\n",
       "    .dataframe tbody tr th:only-of-type {\n",
       "        vertical-align: middle;\n",
       "    }\n",
       "\n",
       "    .dataframe tbody tr th {\n",
       "        vertical-align: top;\n",
       "    }\n",
       "\n",
       "    .dataframe thead th {\n",
       "        text-align: right;\n",
       "    }\n",
       "</style>\n",
       "<table border=\"1\" class=\"dataframe\">\n",
       "  <thead>\n",
       "    <tr style=\"text-align: right;\">\n",
       "      <th></th>\n",
       "      <th>mean</th>\n",
       "      <th>count</th>\n",
       "      <th>median</th>\n",
       "    </tr>\n",
       "    <tr>\n",
       "      <th>year_exposition</th>\n",
       "      <th></th>\n",
       "      <th></th>\n",
       "      <th></th>\n",
       "    </tr>\n",
       "  </thead>\n",
       "  <tbody>\n",
       "    <tr>\n",
       "      <th>2014</th>\n",
       "      <td>10.498943</td>\n",
       "      <td>132</td>\n",
       "      <td>7.500</td>\n",
       "    </tr>\n",
       "    <tr>\n",
       "      <th>2015</th>\n",
       "      <td>6.801124</td>\n",
       "      <td>1115</td>\n",
       "      <td>5.200</td>\n",
       "    </tr>\n",
       "    <tr>\n",
       "      <th>2019</th>\n",
       "      <td>6.228523</td>\n",
       "      <td>2803</td>\n",
       "      <td>5.047</td>\n",
       "    </tr>\n",
       "    <tr>\n",
       "      <th>2018</th>\n",
       "      <td>5.671780</td>\n",
       "      <td>8284</td>\n",
       "      <td>4.590</td>\n",
       "    </tr>\n",
       "    <tr>\n",
       "      <th>2016</th>\n",
       "      <td>5.982653</td>\n",
       "      <td>2671</td>\n",
       "      <td>4.500</td>\n",
       "    </tr>\n",
       "    <tr>\n",
       "      <th>2017</th>\n",
       "      <td>5.783236</td>\n",
       "      <td>7975</td>\n",
       "      <td>4.500</td>\n",
       "    </tr>\n",
       "  </tbody>\n",
       "</table>\n",
       "</div>"
      ],
      "text/plain": [
       "                      mean  count  median\n",
       "year_exposition                          \n",
       "2014             10.498943    132   7.500\n",
       "2015              6.801124   1115   5.200\n",
       "2019              6.228523   2803   5.047\n",
       "2018              5.671780   8284   4.590\n",
       "2016              5.982653   2671   4.500\n",
       "2017              5.783236   7975   4.500"
      ]
     },
     "execution_count": 54,
     "metadata": {},
     "output_type": "execute_result"
    },
    {
     "data": {
      "image/png": "[encoded data removed]",
      "text/plain": [
       "<Figure size 432x288 with 1 Axes>"
      ]
     },
     "metadata": {
      "needs_background": "light"
     },
     "output_type": "display_data"
    }
   ],
   "source": [
    "pivot_table_year_exposition = data.pivot_table(index = 'year_exposition', values = 'last_price', aggfunc = ['mean', 'count', 'median'])\n",
    "pivot_table_year_exposition.columns = ['mean', 'count', 'median']\n",
    "pivot_table_year_exposition.plot(y = 'median');\n",
    "\n",
    "pivot_table_year_exposition.sort_values('median', ascending = False)"
   ]
  },
  {
   "cell_type": "markdown",
   "metadata": {},
   "source": [
    "Видно падение стоимости квартир с 2014 года до 2017, далее началься рост"
   ]
  },
  {
   "cell_type": "code",
   "execution_count": 55,
   "metadata": {},
   "outputs": [
    {
     "data": {
      "text/html": [
       "<div>\n",
       "<style scoped>\n",
       "    .dataframe tbody tr th:only-of-type {\n",
       "        vertical-align: middle;\n",
       "    }\n",
       "\n",
       "    .dataframe tbody tr th {\n",
       "        vertical-align: top;\n",
       "    }\n",
       "\n",
       "    .dataframe thead th {\n",
       "        text-align: right;\n",
       "    }\n",
       "</style>\n",
       "<table border=\"1\" class=\"dataframe\">\n",
       "  <thead>\n",
       "    <tr style=\"text-align: right;\">\n",
       "      <th></th>\n",
       "      <th>count</th>\n",
       "      <th>mean</th>\n",
       "    </tr>\n",
       "    <tr>\n",
       "      <th>locality_name</th>\n",
       "      <th></th>\n",
       "      <th></th>\n",
       "    </tr>\n",
       "  </thead>\n",
       "  <tbody>\n",
       "    <tr>\n",
       "      <th>санкт-петербург</th>\n",
       "      <td>15376</td>\n",
       "      <td>113364.6702</td>\n",
       "    </tr>\n",
       "  </tbody>\n",
       "</table>\n",
       "</div>"
      ],
      "text/plain": [
       "                 count         mean\n",
       "locality_name                      \n",
       "санкт-петербург  15376  113364.6702"
      ]
     },
     "execution_count": 55,
     "metadata": {},
     "output_type": "execute_result"
    }
   ],
   "source": [
    "locality_pivot_table = data.pivot_table(index = 'locality_name', values = 'm2_price', aggfunc=['count', 'mean'])\n",
    "locality_pivot_table.columns = ['count', 'mean']\n",
    "locality_pivot_table = locality_pivot_table.sort_values('count', ascending = False).head(10)\n",
    "#самая высокая стоимость\n",
    "locality_pivot_table[locality_pivot_table['mean']==locality_pivot_table['mean'].max()]"
   ]
  },
  {
   "cell_type": "markdown",
   "metadata": {},
   "source": [
    "самая высокая цена м2 в санкт-петербург 113364р "
   ]
  },
  {
   "cell_type": "code",
   "execution_count": 56,
   "metadata": {},
   "outputs": [
    {
     "data": {
      "text/html": [
       "<div>\n",
       "<style scoped>\n",
       "    .dataframe tbody tr th:only-of-type {\n",
       "        vertical-align: middle;\n",
       "    }\n",
       "\n",
       "    .dataframe tbody tr th {\n",
       "        vertical-align: top;\n",
       "    }\n",
       "\n",
       "    .dataframe thead th {\n",
       "        text-align: right;\n",
       "    }\n",
       "</style>\n",
       "<table border=\"1\" class=\"dataframe\">\n",
       "  <thead>\n",
       "    <tr style=\"text-align: right;\">\n",
       "      <th></th>\n",
       "      <th>count</th>\n",
       "      <th>mean</th>\n",
       "    </tr>\n",
       "    <tr>\n",
       "      <th>locality_name</th>\n",
       "      <th></th>\n",
       "      <th></th>\n",
       "    </tr>\n",
       "  </thead>\n",
       "  <tbody>\n",
       "    <tr>\n",
       "      <th>выборг</th>\n",
       "      <td>233</td>\n",
       "      <td>58250.240343</td>\n",
       "    </tr>\n",
       "  </tbody>\n",
       "</table>\n",
       "</div>"
      ],
      "text/plain": [
       "               count          mean\n",
       "locality_name                     \n",
       "выборг           233  58250.240343"
      ]
     },
     "execution_count": 56,
     "metadata": {},
     "output_type": "execute_result"
    }
   ],
   "source": [
    "#самая низкая стоимость\n",
    "locality_pivot_table[locality_pivot_table['mean']==locality_pivot_table['mean'].min()]"
   ]
  },
  {
   "cell_type": "markdown",
   "metadata": {},
   "source": [
    "самая низкая цена м2 Выборг 58250р "
   ]
  },
  {
   "cell_type": "code",
   "execution_count": 57,
   "metadata": {},
   "outputs": [
    {
     "data": {
      "image/png": "[encoded data removed]",
      "text/plain": [
       "<Figure size 432x288 with 1 Axes>"
      ]
     },
     "metadata": {
      "needs_background": "light"
     },
     "output_type": "display_data"
    }
   ],
   "source": [
    "pivot_table_km = data.query('locality_name == \"санкт-петербург\" and citycenters_nearest_km !=999999'\n",
    "                           ).pivot_table(index = 'citycenters_nearest_km',\n",
    "                            values = 'last_price', aggfunc = ['mean','median'])\n",
    "\n",
    "pivot_table_km.plot(y = 'median');"
   ]
  },
  {
   "cell_type": "code",
   "execution_count": 58,
   "metadata": {
    "scrolled": true
   },
   "outputs": [
    {
     "data": {
      "text/html": [
       "<div>\n",
       "<style scoped>\n",
       "    .dataframe tbody tr th:only-of-type {\n",
       "        vertical-align: middle;\n",
       "    }\n",
       "\n",
       "    .dataframe tbody tr th {\n",
       "        vertical-align: top;\n",
       "    }\n",
       "\n",
       "    .dataframe thead tr th {\n",
       "        text-align: left;\n",
       "    }\n",
       "\n",
       "    .dataframe thead tr:last-of-type th {\n",
       "        text-align: right;\n",
       "    }\n",
       "</style>\n",
       "<table border=\"1\" class=\"dataframe\">\n",
       "  <thead>\n",
       "    <tr>\n",
       "      <th></th>\n",
       "      <th>mean</th>\n",
       "      <th>median</th>\n",
       "    </tr>\n",
       "    <tr>\n",
       "      <th></th>\n",
       "      <th>last_price</th>\n",
       "      <th>last_price</th>\n",
       "    </tr>\n",
       "    <tr>\n",
       "      <th>citycenters_nearest_km</th>\n",
       "      <th></th>\n",
       "      <th></th>\n",
       "    </tr>\n",
       "  </thead>\n",
       "  <tbody>\n",
       "    <tr>\n",
       "      <th>0</th>\n",
       "      <td>15.210342</td>\n",
       "      <td>10.450000</td>\n",
       "    </tr>\n",
       "    <tr>\n",
       "      <th>1</th>\n",
       "      <td>11.883711</td>\n",
       "      <td>9.950000</td>\n",
       "    </tr>\n",
       "    <tr>\n",
       "      <th>2</th>\n",
       "      <td>10.866755</td>\n",
       "      <td>9.200000</td>\n",
       "    </tr>\n",
       "    <tr>\n",
       "      <th>3</th>\n",
       "      <td>10.286842</td>\n",
       "      <td>8.389000</td>\n",
       "    </tr>\n",
       "    <tr>\n",
       "      <th>4</th>\n",
       "      <td>11.525196</td>\n",
       "      <td>9.500000</td>\n",
       "    </tr>\n",
       "    <tr>\n",
       "      <th>5</th>\n",
       "      <td>11.169287</td>\n",
       "      <td>8.500000</td>\n",
       "    </tr>\n",
       "    <tr>\n",
       "      <th>6</th>\n",
       "      <td>11.086711</td>\n",
       "      <td>7.600000</td>\n",
       "    </tr>\n",
       "    <tr>\n",
       "      <th>7</th>\n",
       "      <td>9.451509</td>\n",
       "      <td>7.275000</td>\n",
       "    </tr>\n",
       "    <tr>\n",
       "      <th>8</th>\n",
       "      <td>8.287100</td>\n",
       "      <td>6.500000</td>\n",
       "    </tr>\n",
       "    <tr>\n",
       "      <th>9</th>\n",
       "      <td>6.370917</td>\n",
       "      <td>5.000000</td>\n",
       "    </tr>\n",
       "    <tr>\n",
       "      <th>10</th>\n",
       "      <td>6.230892</td>\n",
       "      <td>5.000000</td>\n",
       "    </tr>\n",
       "    <tr>\n",
       "      <th>11</th>\n",
       "      <td>5.866415</td>\n",
       "      <td>4.994000</td>\n",
       "    </tr>\n",
       "    <tr>\n",
       "      <th>12</th>\n",
       "      <td>5.953809</td>\n",
       "      <td>5.000000</td>\n",
       "    </tr>\n",
       "    <tr>\n",
       "      <th>13</th>\n",
       "      <td>5.952170</td>\n",
       "      <td>5.197500</td>\n",
       "    </tr>\n",
       "    <tr>\n",
       "      <th>14</th>\n",
       "      <td>5.743067</td>\n",
       "      <td>4.900000</td>\n",
       "    </tr>\n",
       "    <tr>\n",
       "      <th>15</th>\n",
       "      <td>5.475532</td>\n",
       "      <td>4.800000</td>\n",
       "    </tr>\n",
       "    <tr>\n",
       "      <th>16</th>\n",
       "      <td>5.449863</td>\n",
       "      <td>4.600000</td>\n",
       "    </tr>\n",
       "    <tr>\n",
       "      <th>17</th>\n",
       "      <td>4.850221</td>\n",
       "      <td>4.441742</td>\n",
       "    </tr>\n",
       "    <tr>\n",
       "      <th>18</th>\n",
       "      <td>5.014898</td>\n",
       "      <td>4.375000</td>\n",
       "    </tr>\n",
       "    <tr>\n",
       "      <th>19</th>\n",
       "      <td>4.678756</td>\n",
       "      <td>4.499500</td>\n",
       "    </tr>\n",
       "    <tr>\n",
       "      <th>20</th>\n",
       "      <td>6.393164</td>\n",
       "      <td>6.100000</td>\n",
       "    </tr>\n",
       "    <tr>\n",
       "      <th>21</th>\n",
       "      <td>5.183239</td>\n",
       "      <td>4.700000</td>\n",
       "    </tr>\n",
       "    <tr>\n",
       "      <th>22</th>\n",
       "      <td>5.252893</td>\n",
       "      <td>5.000000</td>\n",
       "    </tr>\n",
       "    <tr>\n",
       "      <th>23</th>\n",
       "      <td>4.126867</td>\n",
       "      <td>3.940000</td>\n",
       "    </tr>\n",
       "    <tr>\n",
       "      <th>24</th>\n",
       "      <td>3.862235</td>\n",
       "      <td>3.480000</td>\n",
       "    </tr>\n",
       "    <tr>\n",
       "      <th>25</th>\n",
       "      <td>4.048664</td>\n",
       "      <td>3.499000</td>\n",
       "    </tr>\n",
       "    <tr>\n",
       "      <th>26</th>\n",
       "      <td>3.575000</td>\n",
       "      <td>3.975000</td>\n",
       "    </tr>\n",
       "    <tr>\n",
       "      <th>27</th>\n",
       "      <td>8.300000</td>\n",
       "      <td>8.300000</td>\n",
       "    </tr>\n",
       "    <tr>\n",
       "      <th>28</th>\n",
       "      <td>4.910500</td>\n",
       "      <td>4.775000</td>\n",
       "    </tr>\n",
       "    <tr>\n",
       "      <th>29</th>\n",
       "      <td>3.833333</td>\n",
       "      <td>4.200000</td>\n",
       "    </tr>\n",
       "  </tbody>\n",
       "</table>\n",
       "</div>"
      ],
      "text/plain": [
       "                             mean     median\n",
       "                       last_price last_price\n",
       "citycenters_nearest_km                      \n",
       "0                       15.210342  10.450000\n",
       "1                       11.883711   9.950000\n",
       "2                       10.866755   9.200000\n",
       "3                       10.286842   8.389000\n",
       "4                       11.525196   9.500000\n",
       "5                       11.169287   8.500000\n",
       "6                       11.086711   7.600000\n",
       "7                        9.451509   7.275000\n",
       "8                        8.287100   6.500000\n",
       "9                        6.370917   5.000000\n",
       "10                       6.230892   5.000000\n",
       "11                       5.866415   4.994000\n",
       "12                       5.953809   5.000000\n",
       "13                       5.952170   5.197500\n",
       "14                       5.743067   4.900000\n",
       "15                       5.475532   4.800000\n",
       "16                       5.449863   4.600000\n",
       "17                       4.850221   4.441742\n",
       "18                       5.014898   4.375000\n",
       "19                       4.678756   4.499500\n",
       "20                       6.393164   6.100000\n",
       "21                       5.183239   4.700000\n",
       "22                       5.252893   5.000000\n",
       "23                       4.126867   3.940000\n",
       "24                       3.862235   3.480000\n",
       "25                       4.048664   3.499000\n",
       "26                       3.575000   3.975000\n",
       "27                       8.300000   8.300000\n",
       "28                       4.910500   4.775000\n",
       "29                       3.833333   4.200000"
      ]
     },
     "execution_count": 58,
     "metadata": {},
     "output_type": "execute_result"
    }
   ],
   "source": [
    "pivot_table_km"
   ]
  },
  {
   "cell_type": "markdown",
   "metadata": {},
   "source": [
    "Стоимость уменьшается от ценра 0 км к окраинам. В раойне 25-30 км есть вспелск по ценам возможно там рассположены какие-то \"клубные дома\" в которых стоимость квартир досточно высока. Судя по графику самый центр города располжен на расстоянии 5 км. От 10 до 25 км идет достаточно плавное сниженеи цены"
   ]
  },
  {
   "cell_type": "markdown",
   "metadata": {},
   "source": [
    "### Общий вывод"
   ]
  },
  {
   "cell_type": "markdown",
   "metadata": {},
   "source": [
    "На стоимость квартиры в большей степени влияет общая площадь, чем жилая или площадь кухни. Чем больше площадь, тем цена выше.\n",
    "Так же обнаружена почти прямолинейная зависимость цены квартиры от количества комнат, чем больше комнат, тем дороже квартира\n",
    "Квартиры на первом этаже дешевле чем на последнем, а они в свою очередь дешевле квартир расположенных в середине дома\n",
    "Цена квартир, выставленных во вторник и среду выше цены квартир в остальные дни недели. Квартиры выстваленные в пятницу и воскресенье имеют цену ниже.\n",
    "Есть влияние месяца на цену, в мае и июне цены на квартиры ниже чем в остальное месяцы года. Самые высокие цены у квартир выставленных в апреле и сентябре.\n",
    "Цены на квартиры в 2014 году были самыми высокими далее произошел спад, которы продолжался до 2017 года, далее начался подьем в стоимостях квартир.\n",
    "Самая высокая цена м2 из данной выбрки в Санкт-Петербурге 113364руб. за м2, самая низкая в Выборге 58250 руб за М2\n",
    "На цену квартиры влияет расстояни от центра города. Самые дорогие картиры расположены в 5 км от центра\n",
    "\n",
    "Средняя продающаяся квартира имеет параметры: общая площадь 60м2, жилая площадь 34м2, площадь кухни 10м2, стоимостью 6 млн, 2 комнаты, высота потолков 2,69 м, расположенная на 5 этаже 10 этажного дома, расстояние от центра 14 км  Санкт-Петербурга и 28 км от аэропорта, с парком в 500 метрах. Объявление должно быть подано в рабочий день с февраля по апрель или с сентября по ноябрь"
   ]
  }
 ],
 "metadata": {
  "ExecuteTimeLog": [
   {
    "duration": 57,
    "start_time": "2023-01-25T05:47:32.637Z"
   },
   {
    "duration": 673,
    "start_time": "2023-01-25T05:58:08.886Z"
   },
   {
    "duration": 86,
    "start_time": "2023-01-25T05:58:35.029Z"
   },
   {
    "duration": 105,
    "start_time": "2023-01-25T06:00:01.772Z"
   },
   {
    "duration": 2356,
    "start_time": "2023-01-25T06:00:47.379Z"
   },
   {
    "duration": 2105,
    "start_time": "2023-01-25T06:01:36.420Z"
   },
   {
    "duration": 2015,
    "start_time": "2023-01-25T06:01:49.913Z"
   },
   {
    "duration": 107,
    "start_time": "2023-01-25T06:01:54.898Z"
   },
   {
    "duration": 116,
    "start_time": "2023-01-25T06:02:05.907Z"
   },
   {
    "duration": 113,
    "start_time": "2023-01-25T06:03:48.472Z"
   },
   {
    "duration": 1964,
    "start_time": "2023-01-25T06:03:54.120Z"
   },
   {
    "duration": 107,
    "start_time": "2023-01-25T06:10:13.759Z"
   },
   {
    "duration": 82,
    "start_time": "2023-01-25T06:10:51.792Z"
   },
   {
    "duration": 104,
    "start_time": "2023-01-25T06:11:35.038Z"
   },
   {
    "duration": 14,
    "start_time": "2023-01-25T06:11:58.813Z"
   },
   {
    "duration": 44,
    "start_time": "2023-01-25T06:12:50.160Z"
   },
   {
    "duration": 17,
    "start_time": "2023-01-25T06:12:57.172Z"
   },
   {
    "duration": 2007,
    "start_time": "2023-01-25T06:13:09.268Z"
   },
   {
    "duration": 105,
    "start_time": "2023-01-25T07:33:13.159Z"
   },
   {
    "duration": 1935,
    "start_time": "2023-01-25T07:33:32.623Z"
   },
   {
    "duration": 14,
    "start_time": "2023-01-25T07:33:39.269Z"
   },
   {
    "duration": 82,
    "start_time": "2023-01-25T07:34:52.163Z"
   },
   {
    "duration": 2,
    "start_time": "2023-01-25T07:35:23.009Z"
   },
   {
    "duration": 3,
    "start_time": "2023-01-25T07:35:39.843Z"
   },
   {
    "duration": 4,
    "start_time": "2023-01-25T07:37:04.792Z"
   },
   {
    "duration": 65,
    "start_time": "2023-01-25T18:35:28.787Z"
   },
   {
    "duration": 1099,
    "start_time": "2023-01-25T18:35:40.988Z"
   },
   {
    "duration": 2216,
    "start_time": "2023-01-25T18:35:42.090Z"
   },
   {
    "duration": 18,
    "start_time": "2023-01-25T18:35:44.307Z"
   },
   {
    "duration": 12,
    "start_time": "2023-01-25T18:35:44.328Z"
   },
   {
    "duration": 27,
    "start_time": "2023-01-25T18:36:06.358Z"
   },
   {
    "duration": 16,
    "start_time": "2023-01-25T18:38:05.701Z"
   },
   {
    "duration": 842,
    "start_time": "2023-01-25T18:38:52.602Z"
   },
   {
    "duration": 18,
    "start_time": "2023-01-25T18:38:53.446Z"
   },
   {
    "duration": 2281,
    "start_time": "2023-01-25T18:38:53.466Z"
   },
   {
    "duration": 5,
    "start_time": "2023-01-25T18:38:55.749Z"
   },
   {
    "duration": 23,
    "start_time": "2023-01-25T18:38:55.756Z"
   },
   {
    "duration": 32,
    "start_time": "2023-01-25T18:38:55.781Z"
   },
   {
    "duration": 108,
    "start_time": "2023-01-25T19:05:05.111Z"
   },
   {
    "duration": 15,
    "start_time": "2023-01-25T19:13:55.764Z"
   },
   {
    "duration": 2,
    "start_time": "2023-01-25T19:14:08.920Z"
   },
   {
    "duration": 147,
    "start_time": "2023-01-25T19:16:57.202Z"
   },
   {
    "duration": 848,
    "start_time": "2023-01-25T19:18:16.040Z"
   },
   {
    "duration": 18,
    "start_time": "2023-01-25T19:18:16.897Z"
   },
   {
    "duration": 2393,
    "start_time": "2023-01-25T19:18:16.917Z"
   },
   {
    "duration": 94,
    "start_time": "2023-01-25T19:18:19.314Z"
   },
   {
    "duration": 36,
    "start_time": "2023-01-25T19:18:19.410Z"
   },
   {
    "duration": 22,
    "start_time": "2023-01-25T19:18:19.448Z"
   },
   {
    "duration": 122,
    "start_time": "2023-01-25T19:23:43.760Z"
   },
   {
    "duration": 33,
    "start_time": "2023-01-25T19:23:53.098Z"
   },
   {
    "duration": 33,
    "start_time": "2023-01-25T19:24:54.739Z"
   },
   {
    "duration": 43,
    "start_time": "2023-01-25T19:25:20.867Z"
   },
   {
    "duration": 24,
    "start_time": "2023-01-25T19:25:28.406Z"
   },
   {
    "duration": 31,
    "start_time": "2023-01-25T19:30:01.465Z"
   },
   {
    "duration": 103,
    "start_time": "2023-01-25T19:30:10.961Z"
   },
   {
    "duration": 25,
    "start_time": "2023-01-25T19:31:24.886Z"
   },
   {
    "duration": 27,
    "start_time": "2023-01-25T19:31:53.628Z"
   },
   {
    "duration": 22,
    "start_time": "2023-01-25T19:34:16.706Z"
   },
   {
    "duration": 27,
    "start_time": "2023-01-25T19:36:52.644Z"
   },
   {
    "duration": 810,
    "start_time": "2023-01-25T19:38:20.891Z"
   },
   {
    "duration": 15,
    "start_time": "2023-01-25T19:38:21.704Z"
   },
   {
    "duration": 2093,
    "start_time": "2023-01-25T19:38:21.721Z"
   },
   {
    "duration": 79,
    "start_time": "2023-01-25T19:38:23.816Z"
   },
   {
    "duration": 88,
    "start_time": "2023-01-25T19:38:23.897Z"
   },
   {
    "duration": 0,
    "start_time": "2023-01-25T19:38:23.987Z"
   },
   {
    "duration": 22,
    "start_time": "2023-01-25T19:39:26.206Z"
   },
   {
    "duration": 13,
    "start_time": "2023-01-25T19:39:32.610Z"
   },
   {
    "duration": 13,
    "start_time": "2023-01-25T19:39:34.507Z"
   },
   {
    "duration": 17,
    "start_time": "2023-01-25T19:39:36.379Z"
   },
   {
    "duration": 16,
    "start_time": "2023-01-25T19:43:14.773Z"
   },
   {
    "duration": 17,
    "start_time": "2023-01-25T19:43:16.934Z"
   },
   {
    "duration": 18,
    "start_time": "2023-01-25T19:46:56.773Z"
   },
   {
    "duration": 16,
    "start_time": "2023-01-25T19:46:58.396Z"
   },
   {
    "duration": 24,
    "start_time": "2023-01-25T19:50:23.269Z"
   },
   {
    "duration": 14,
    "start_time": "2023-01-25T19:50:25.186Z"
   },
   {
    "duration": 99,
    "start_time": "2023-01-25T19:52:23.019Z"
   },
   {
    "duration": 27,
    "start_time": "2023-01-25T19:58:55.487Z"
   },
   {
    "duration": 14,
    "start_time": "2023-01-25T19:58:57.753Z"
   },
   {
    "duration": 31,
    "start_time": "2023-01-25T20:15:50.551Z"
   },
   {
    "duration": 16,
    "start_time": "2023-01-25T20:19:57.796Z"
   },
   {
    "duration": 16,
    "start_time": "2023-01-25T20:19:59.054Z"
   },
   {
    "duration": 43,
    "start_time": "2023-01-26T11:46:59.262Z"
   },
   {
    "duration": 1050,
    "start_time": "2023-01-26T11:47:04.562Z"
   },
   {
    "duration": 15,
    "start_time": "2023-01-26T11:47:05.614Z"
   },
   {
    "duration": 2050,
    "start_time": "2023-01-26T11:47:05.631Z"
   },
   {
    "duration": 75,
    "start_time": "2023-01-26T11:47:07.683Z"
   },
   {
    "duration": 11,
    "start_time": "2023-01-26T11:47:07.760Z"
   },
   {
    "duration": 12,
    "start_time": "2023-01-26T11:47:07.772Z"
   },
   {
    "duration": 26,
    "start_time": "2023-01-26T11:47:07.786Z"
   },
   {
    "duration": 86,
    "start_time": "2023-01-26T11:47:07.814Z"
   },
   {
    "duration": 12,
    "start_time": "2023-01-26T11:48:08.502Z"
   },
   {
    "duration": 12,
    "start_time": "2023-01-26T11:48:10.462Z"
   },
   {
    "duration": 13,
    "start_time": "2023-01-26T11:48:11.294Z"
   },
   {
    "duration": 88,
    "start_time": "2023-01-26T11:48:13.962Z"
   },
   {
    "duration": 2239,
    "start_time": "2023-01-26T12:01:11.914Z"
   },
   {
    "duration": 15,
    "start_time": "2023-01-26T12:14:48.167Z"
   },
   {
    "duration": 14,
    "start_time": "2023-01-26T12:14:51.287Z"
   },
   {
    "duration": 2549,
    "start_time": "2023-01-26T12:14:56.521Z"
   },
   {
    "duration": 2443,
    "start_time": "2023-01-26T12:15:10.886Z"
   },
   {
    "duration": 65,
    "start_time": "2023-01-26T12:15:49.359Z"
   },
   {
    "duration": 1319,
    "start_time": "2023-01-26T12:22:07.602Z"
   },
   {
    "duration": 11,
    "start_time": "2023-01-26T12:22:14.408Z"
   },
   {
    "duration": 6,
    "start_time": "2023-01-26T12:22:21.669Z"
   },
   {
    "duration": 9,
    "start_time": "2023-01-26T12:22:30.630Z"
   },
   {
    "duration": 6,
    "start_time": "2023-01-26T12:22:36.760Z"
   },
   {
    "duration": 6,
    "start_time": "2023-01-26T12:24:31.326Z"
   },
   {
    "duration": 11,
    "start_time": "2023-01-26T12:25:04.642Z"
   },
   {
    "duration": 94,
    "start_time": "2023-01-26T12:25:18.549Z"
   },
   {
    "duration": 15,
    "start_time": "2023-01-26T12:25:24.718Z"
   },
   {
    "duration": 9,
    "start_time": "2023-01-26T12:34:12.641Z"
   },
   {
    "duration": 17,
    "start_time": "2023-01-26T12:34:13.928Z"
   },
   {
    "duration": 9,
    "start_time": "2023-01-26T12:44:48.822Z"
   },
   {
    "duration": 7,
    "start_time": "2023-01-26T12:45:05.474Z"
   },
   {
    "duration": 9,
    "start_time": "2023-01-26T12:45:14.410Z"
   },
   {
    "duration": 13,
    "start_time": "2023-01-26T12:46:06.984Z"
   },
   {
    "duration": 30,
    "start_time": "2023-01-26T12:46:21.867Z"
   },
   {
    "duration": 20,
    "start_time": "2023-01-26T12:46:34.868Z"
   },
   {
    "duration": 27,
    "start_time": "2023-01-26T12:46:39.908Z"
   },
   {
    "duration": 28,
    "start_time": "2023-01-26T12:52:31.974Z"
   },
   {
    "duration": 24,
    "start_time": "2023-01-26T12:52:40.389Z"
   },
   {
    "duration": 139,
    "start_time": "2023-01-26T12:53:40.194Z"
   },
   {
    "duration": 13,
    "start_time": "2023-01-26T12:53:42.840Z"
   },
   {
    "duration": 6,
    "start_time": "2023-01-26T12:58:05.549Z"
   },
   {
    "duration": 10,
    "start_time": "2023-01-26T12:58:16.442Z"
   },
   {
    "duration": 27,
    "start_time": "2023-01-26T12:58:24.354Z"
   },
   {
    "duration": 18,
    "start_time": "2023-01-26T12:58:28.321Z"
   },
   {
    "duration": 19,
    "start_time": "2023-01-26T12:58:46.570Z"
   },
   {
    "duration": 21,
    "start_time": "2023-01-26T12:58:56.107Z"
   },
   {
    "duration": 839,
    "start_time": "2023-01-26T12:59:00.467Z"
   },
   {
    "duration": 24,
    "start_time": "2023-01-26T12:59:01.309Z"
   },
   {
    "duration": 2389,
    "start_time": "2023-01-26T12:59:01.335Z"
   },
   {
    "duration": 107,
    "start_time": "2023-01-26T12:59:03.726Z"
   },
   {
    "duration": 19,
    "start_time": "2023-01-26T12:59:03.834Z"
   },
   {
    "duration": 71,
    "start_time": "2023-01-26T12:59:03.855Z"
   },
   {
    "duration": 49,
    "start_time": "2023-01-26T12:59:03.930Z"
   },
   {
    "duration": 120,
    "start_time": "2023-01-26T12:59:03.981Z"
   },
   {
    "duration": 70,
    "start_time": "2023-01-26T12:59:04.103Z"
   },
   {
    "duration": 22,
    "start_time": "2023-01-26T12:59:10.394Z"
   },
   {
    "duration": 93,
    "start_time": "2023-01-26T12:59:48.872Z"
   },
   {
    "duration": 22,
    "start_time": "2023-01-26T12:59:53.732Z"
   },
   {
    "duration": 3,
    "start_time": "2023-01-26T13:00:29.550Z"
   },
   {
    "duration": 13,
    "start_time": "2023-01-26T13:00:51.339Z"
   },
   {
    "duration": 794,
    "start_time": "2023-01-26T13:18:07.499Z"
   },
   {
    "duration": 17,
    "start_time": "2023-01-26T13:18:08.298Z"
   },
   {
    "duration": 2124,
    "start_time": "2023-01-26T13:18:08.317Z"
   },
   {
    "duration": 87,
    "start_time": "2023-01-26T13:18:10.444Z"
   },
   {
    "duration": 21,
    "start_time": "2023-01-26T13:18:10.533Z"
   },
   {
    "duration": 11,
    "start_time": "2023-01-26T13:18:10.556Z"
   },
   {
    "duration": 38,
    "start_time": "2023-01-26T13:18:10.569Z"
   },
   {
    "duration": 23,
    "start_time": "2023-01-26T13:18:10.609Z"
   },
   {
    "duration": 35,
    "start_time": "2023-01-26T13:18:10.633Z"
   },
   {
    "duration": 6,
    "start_time": "2023-01-26T13:18:10.671Z"
   },
   {
    "duration": 19,
    "start_time": "2023-01-26T13:18:37.102Z"
   },
   {
    "duration": 15,
    "start_time": "2023-01-26T13:18:45.507Z"
   },
   {
    "duration": 19,
    "start_time": "2023-01-26T13:36:05.342Z"
   },
   {
    "duration": 130,
    "start_time": "2023-01-26T13:40:53.514Z"
   },
   {
    "duration": 17,
    "start_time": "2023-01-26T13:40:55.968Z"
   },
   {
    "duration": 95,
    "start_time": "2023-01-26T13:41:58.878Z"
   },
   {
    "duration": 17,
    "start_time": "2023-01-26T13:42:00.525Z"
   },
   {
    "duration": 107,
    "start_time": "2023-01-26T13:42:22.285Z"
   },
   {
    "duration": 771,
    "start_time": "2023-01-26T13:42:28.586Z"
   },
   {
    "duration": 17,
    "start_time": "2023-01-26T13:42:29.359Z"
   },
   {
    "duration": 2052,
    "start_time": "2023-01-26T13:42:29.377Z"
   },
   {
    "duration": 81,
    "start_time": "2023-01-26T13:42:31.432Z"
   },
   {
    "duration": 21,
    "start_time": "2023-01-26T13:42:31.515Z"
   },
   {
    "duration": 14,
    "start_time": "2023-01-26T13:42:31.538Z"
   },
   {
    "duration": 21,
    "start_time": "2023-01-26T13:42:31.554Z"
   },
   {
    "duration": 125,
    "start_time": "2023-01-26T13:42:31.577Z"
   },
   {
    "duration": 14,
    "start_time": "2023-01-26T13:42:31.704Z"
   },
   {
    "duration": 27,
    "start_time": "2023-01-26T13:42:31.720Z"
   },
   {
    "duration": 9,
    "start_time": "2023-01-26T13:42:54.862Z"
   },
   {
    "duration": 368,
    "start_time": "2023-01-26T14:04:59.293Z"
   },
   {
    "duration": 183,
    "start_time": "2023-01-26T14:10:43.872Z"
   },
   {
    "duration": 168,
    "start_time": "2023-01-26T14:10:49.731Z"
   },
   {
    "duration": 13,
    "start_time": "2023-01-26T14:10:52.340Z"
   },
   {
    "duration": 26,
    "start_time": "2023-01-26T14:12:53.834Z"
   },
   {
    "duration": 6,
    "start_time": "2023-01-26T14:13:08.360Z"
   },
   {
    "duration": 162,
    "start_time": "2023-01-26T14:16:06.350Z"
   },
   {
    "duration": 5,
    "start_time": "2023-01-26T14:16:07.678Z"
   },
   {
    "duration": 15,
    "start_time": "2023-01-26T14:16:26.396Z"
   },
   {
    "duration": 142,
    "start_time": "2023-01-26T14:26:24.899Z"
   },
   {
    "duration": 16,
    "start_time": "2023-01-26T14:26:26.961Z"
   },
   {
    "duration": 798,
    "start_time": "2023-01-26T14:26:38.679Z"
   },
   {
    "duration": 15,
    "start_time": "2023-01-26T14:26:39.478Z"
   },
   {
    "duration": 2235,
    "start_time": "2023-01-26T14:26:39.499Z"
   },
   {
    "duration": 103,
    "start_time": "2023-01-26T14:26:41.740Z"
   },
   {
    "duration": 24,
    "start_time": "2023-01-26T14:26:41.845Z"
   },
   {
    "duration": 10,
    "start_time": "2023-01-26T14:26:41.870Z"
   },
   {
    "duration": 31,
    "start_time": "2023-01-26T14:26:41.882Z"
   },
   {
    "duration": 207,
    "start_time": "2023-01-26T14:26:41.917Z"
   },
   {
    "duration": 18,
    "start_time": "2023-01-26T14:26:42.128Z"
   },
   {
    "duration": 7,
    "start_time": "2023-01-26T14:26:42.149Z"
   },
   {
    "duration": 104,
    "start_time": "2023-01-26T14:27:16.178Z"
   },
   {
    "duration": 870,
    "start_time": "2023-01-26T14:27:33.165Z"
   },
   {
    "duration": 23,
    "start_time": "2023-01-26T14:27:34.038Z"
   },
   {
    "duration": 2161,
    "start_time": "2023-01-26T14:27:34.064Z"
   },
   {
    "duration": 75,
    "start_time": "2023-01-26T14:27:36.227Z"
   },
   {
    "duration": 20,
    "start_time": "2023-01-26T14:27:36.304Z"
   },
   {
    "duration": 8,
    "start_time": "2023-01-26T14:27:36.326Z"
   },
   {
    "duration": 22,
    "start_time": "2023-01-26T14:27:36.336Z"
   },
   {
    "duration": 162,
    "start_time": "2023-01-26T14:27:36.360Z"
   },
   {
    "duration": 12,
    "start_time": "2023-01-26T14:27:36.523Z"
   },
   {
    "duration": 5,
    "start_time": "2023-01-26T14:27:36.537Z"
   },
   {
    "duration": 8,
    "start_time": "2023-01-26T14:28:16.542Z"
   },
   {
    "duration": 768,
    "start_time": "2023-01-26T14:28:20.662Z"
   },
   {
    "duration": 15,
    "start_time": "2023-01-26T14:28:21.432Z"
   },
   {
    "duration": 2076,
    "start_time": "2023-01-26T14:28:21.449Z"
   },
   {
    "duration": 89,
    "start_time": "2023-01-26T14:28:23.529Z"
   },
   {
    "duration": 26,
    "start_time": "2023-01-26T14:28:23.620Z"
   },
   {
    "duration": 10,
    "start_time": "2023-01-26T14:28:23.648Z"
   },
   {
    "duration": 20,
    "start_time": "2023-01-26T14:28:23.659Z"
   },
   {
    "duration": 140,
    "start_time": "2023-01-26T14:28:23.682Z"
   },
   {
    "duration": 16,
    "start_time": "2023-01-26T14:28:23.824Z"
   },
   {
    "duration": 8,
    "start_time": "2023-01-26T14:28:23.843Z"
   },
   {
    "duration": 205,
    "start_time": "2023-01-26T14:29:24.854Z"
   },
   {
    "duration": 20,
    "start_time": "2023-01-26T14:29:26.559Z"
   },
   {
    "duration": 6,
    "start_time": "2023-01-26T14:29:36.023Z"
   },
   {
    "duration": 10,
    "start_time": "2023-01-26T14:34:05.456Z"
   },
   {
    "duration": 130,
    "start_time": "2023-01-26T14:36:14.669Z"
   },
   {
    "duration": 8,
    "start_time": "2023-01-26T14:36:26.123Z"
   },
   {
    "duration": 17,
    "start_time": "2023-01-26T14:36:34.720Z"
   },
   {
    "duration": 15,
    "start_time": "2023-01-26T14:37:13.031Z"
   },
   {
    "duration": 16,
    "start_time": "2023-01-26T14:37:37.036Z"
   },
   {
    "duration": 11,
    "start_time": "2023-01-26T14:37:44.233Z"
   },
   {
    "duration": 13,
    "start_time": "2023-01-26T14:37:46.741Z"
   },
   {
    "duration": 876,
    "start_time": "2023-01-26T14:38:00.125Z"
   },
   {
    "duration": 25,
    "start_time": "2023-01-26T14:38:01.004Z"
   },
   {
    "duration": 2274,
    "start_time": "2023-01-26T14:38:01.031Z"
   },
   {
    "duration": 105,
    "start_time": "2023-01-26T14:38:03.309Z"
   },
   {
    "duration": 22,
    "start_time": "2023-01-26T14:38:03.418Z"
   },
   {
    "duration": 22,
    "start_time": "2023-01-26T14:38:03.442Z"
   },
   {
    "duration": 36,
    "start_time": "2023-01-26T14:38:03.468Z"
   },
   {
    "duration": 134,
    "start_time": "2023-01-26T14:38:03.506Z"
   },
   {
    "duration": 15,
    "start_time": "2023-01-26T14:38:03.641Z"
   },
   {
    "duration": 21,
    "start_time": "2023-01-26T14:38:03.658Z"
   },
   {
    "duration": 32,
    "start_time": "2023-01-26T14:38:03.681Z"
   },
   {
    "duration": 22,
    "start_time": "2023-01-26T14:45:20.306Z"
   },
   {
    "duration": 20,
    "start_time": "2023-01-26T14:45:44.615Z"
   },
   {
    "duration": 914,
    "start_time": "2023-01-26T14:45:57.086Z"
   },
   {
    "duration": 32,
    "start_time": "2023-01-26T14:45:58.004Z"
   },
   {
    "duration": 2269,
    "start_time": "2023-01-26T14:45:58.037Z"
   },
   {
    "duration": 107,
    "start_time": "2023-01-26T14:46:00.309Z"
   },
   {
    "duration": 21,
    "start_time": "2023-01-26T14:46:00.425Z"
   },
   {
    "duration": 38,
    "start_time": "2023-01-26T14:46:00.448Z"
   },
   {
    "duration": 45,
    "start_time": "2023-01-26T14:46:00.488Z"
   },
   {
    "duration": 151,
    "start_time": "2023-01-26T14:46:00.535Z"
   },
   {
    "duration": 21,
    "start_time": "2023-01-26T14:46:00.688Z"
   },
   {
    "duration": 26,
    "start_time": "2023-01-26T14:46:00.723Z"
   },
   {
    "duration": 39,
    "start_time": "2023-01-26T14:46:00.751Z"
   },
   {
    "duration": 15,
    "start_time": "2023-01-26T14:46:53.945Z"
   },
   {
    "duration": 936,
    "start_time": "2023-01-26T14:51:36.776Z"
   },
   {
    "duration": 21,
    "start_time": "2023-01-26T14:51:37.714Z"
   },
   {
    "duration": 2244,
    "start_time": "2023-01-26T14:51:37.737Z"
   },
   {
    "duration": 82,
    "start_time": "2023-01-26T14:51:39.983Z"
   },
   {
    "duration": 32,
    "start_time": "2023-01-26T14:51:40.067Z"
   },
   {
    "duration": 22,
    "start_time": "2023-01-26T14:51:40.103Z"
   },
   {
    "duration": 28,
    "start_time": "2023-01-26T14:51:40.127Z"
   },
   {
    "duration": 125,
    "start_time": "2023-01-26T14:51:40.157Z"
   },
   {
    "duration": 32,
    "start_time": "2023-01-26T14:51:40.284Z"
   },
   {
    "duration": 15,
    "start_time": "2023-01-26T14:51:40.321Z"
   },
   {
    "duration": 17,
    "start_time": "2023-01-26T14:51:40.339Z"
   },
   {
    "duration": 9,
    "start_time": "2023-01-26T14:52:00.258Z"
   },
   {
    "duration": 14,
    "start_time": "2023-01-26T14:52:17.259Z"
   },
   {
    "duration": 11,
    "start_time": "2023-01-26T14:52:19.938Z"
   },
   {
    "duration": 201,
    "start_time": "2023-01-26T14:53:30.868Z"
   },
   {
    "duration": 212,
    "start_time": "2023-01-26T14:53:50.682Z"
   },
   {
    "duration": 1021,
    "start_time": "2023-01-26T14:53:56.958Z"
   },
   {
    "duration": 24,
    "start_time": "2023-01-26T14:53:57.981Z"
   },
   {
    "duration": 2312,
    "start_time": "2023-01-26T14:53:58.009Z"
   },
   {
    "duration": 118,
    "start_time": "2023-01-26T14:54:00.325Z"
   },
   {
    "duration": 27,
    "start_time": "2023-01-26T14:54:00.445Z"
   },
   {
    "duration": 80,
    "start_time": "2023-01-26T14:54:00.475Z"
   },
   {
    "duration": 75,
    "start_time": "2023-01-26T14:54:00.558Z"
   },
   {
    "duration": 231,
    "start_time": "2023-01-26T14:54:00.635Z"
   },
   {
    "duration": 15,
    "start_time": "2023-01-26T14:54:00.868Z"
   },
   {
    "duration": 321,
    "start_time": "2023-01-26T14:54:00.886Z"
   },
   {
    "duration": 5,
    "start_time": "2023-01-26T14:54:01.214Z"
   },
   {
    "duration": 68,
    "start_time": "2023-01-26T14:54:01.227Z"
   },
   {
    "duration": 194,
    "start_time": "2023-01-26T14:54:22.690Z"
   },
   {
    "duration": 165,
    "start_time": "2023-01-26T14:54:27.568Z"
   },
   {
    "duration": 151,
    "start_time": "2023-01-26T14:54:36.545Z"
   },
   {
    "duration": 183,
    "start_time": "2023-01-26T14:56:09.215Z"
   },
   {
    "duration": 191,
    "start_time": "2023-01-26T14:56:15.782Z"
   },
   {
    "duration": 269,
    "start_time": "2023-01-26T14:56:24.495Z"
   },
   {
    "duration": 77,
    "start_time": "2023-01-26T14:57:18.214Z"
   },
   {
    "duration": 9,
    "start_time": "2023-01-26T14:57:42.825Z"
   },
   {
    "duration": 120,
    "start_time": "2023-01-26T14:58:13.556Z"
   },
   {
    "duration": 571,
    "start_time": "2023-01-26T14:58:19.492Z"
   },
   {
    "duration": 177,
    "start_time": "2023-01-26T14:58:45.316Z"
   },
   {
    "duration": 161,
    "start_time": "2023-01-26T14:59:28.125Z"
   },
   {
    "duration": 17,
    "start_time": "2023-01-26T15:01:29.759Z"
   },
   {
    "duration": 207,
    "start_time": "2023-01-26T15:01:32.632Z"
   },
   {
    "duration": 11,
    "start_time": "2023-01-26T15:02:02.546Z"
   },
   {
    "duration": 1591,
    "start_time": "2023-01-26T18:26:18.606Z"
   },
   {
    "duration": 16,
    "start_time": "2023-01-26T18:26:20.199Z"
   },
   {
    "duration": 2046,
    "start_time": "2023-01-26T18:26:20.217Z"
   },
   {
    "duration": 71,
    "start_time": "2023-01-26T18:26:22.265Z"
   },
   {
    "duration": 16,
    "start_time": "2023-01-26T18:26:22.339Z"
   },
   {
    "duration": 10,
    "start_time": "2023-01-26T18:26:22.356Z"
   },
   {
    "duration": 12,
    "start_time": "2023-01-26T18:26:22.367Z"
   },
   {
    "duration": 144,
    "start_time": "2023-01-26T18:26:22.381Z"
   },
   {
    "duration": 22,
    "start_time": "2023-01-26T18:26:22.527Z"
   },
   {
    "duration": 197,
    "start_time": "2023-01-26T18:26:22.552Z"
   },
   {
    "duration": 12,
    "start_time": "2023-01-26T18:26:22.750Z"
   },
   {
    "duration": 8,
    "start_time": "2023-01-26T18:26:22.763Z"
   },
   {
    "duration": 159,
    "start_time": "2023-01-26T19:32:51.463Z"
   },
   {
    "duration": 13,
    "start_time": "2023-01-26T19:32:52.951Z"
   },
   {
    "duration": 162,
    "start_time": "2023-01-26T19:33:01.454Z"
   },
   {
    "duration": 151,
    "start_time": "2023-01-26T19:33:52.020Z"
   },
   {
    "duration": 15,
    "start_time": "2023-01-26T19:34:42.563Z"
   },
   {
    "duration": 7,
    "start_time": "2023-01-26T19:34:57.442Z"
   },
   {
    "duration": 51,
    "start_time": "2023-01-26T19:35:38.108Z"
   },
   {
    "duration": 6,
    "start_time": "2023-01-26T19:35:46.211Z"
   },
   {
    "duration": 6,
    "start_time": "2023-01-26T19:36:00.764Z"
   },
   {
    "duration": 29,
    "start_time": "2023-01-26T19:39:41.146Z"
   },
   {
    "duration": 28,
    "start_time": "2023-01-26T19:41:53.462Z"
   },
   {
    "duration": 73,
    "start_time": "2023-01-26T19:42:35.927Z"
   },
   {
    "duration": 26,
    "start_time": "2023-01-26T19:42:53.271Z"
   },
   {
    "duration": 8,
    "start_time": "2023-01-26T19:59:52.172Z"
   },
   {
    "duration": 8,
    "start_time": "2023-01-26T20:00:01.249Z"
   },
   {
    "duration": 125,
    "start_time": "2023-01-26T20:00:05.897Z"
   },
   {
    "duration": 13,
    "start_time": "2023-01-26T20:01:15.196Z"
   },
   {
    "duration": 11,
    "start_time": "2023-01-26T20:01:33.979Z"
   },
   {
    "duration": 725,
    "start_time": "2023-01-26T20:02:12.488Z"
   },
   {
    "duration": 16,
    "start_time": "2023-01-26T20:02:13.215Z"
   },
   {
    "duration": 2072,
    "start_time": "2023-01-26T20:02:13.232Z"
   },
   {
    "duration": 77,
    "start_time": "2023-01-26T20:02:15.307Z"
   },
   {
    "duration": 19,
    "start_time": "2023-01-26T20:02:15.385Z"
   },
   {
    "duration": 31,
    "start_time": "2023-01-26T20:02:15.407Z"
   },
   {
    "duration": 13,
    "start_time": "2023-01-26T20:02:15.440Z"
   },
   {
    "duration": 147,
    "start_time": "2023-01-26T20:02:15.455Z"
   },
   {
    "duration": 7,
    "start_time": "2023-01-26T20:02:15.604Z"
   },
   {
    "duration": 40,
    "start_time": "2023-01-26T20:02:15.613Z"
   },
   {
    "duration": 53,
    "start_time": "2023-01-26T20:02:15.655Z"
   },
   {
    "duration": 314,
    "start_time": "2023-01-26T20:03:48.438Z"
   },
   {
    "duration": 318,
    "start_time": "2023-01-26T20:04:05.375Z"
   },
   {
    "duration": 430,
    "start_time": "2023-01-26T20:05:17.110Z"
   },
   {
    "duration": 328,
    "start_time": "2023-01-26T20:22:21.055Z"
   },
   {
    "duration": 305,
    "start_time": "2023-01-26T20:22:51.433Z"
   },
   {
    "duration": 349,
    "start_time": "2023-01-26T20:22:59.247Z"
   },
   {
    "duration": 806,
    "start_time": "2023-01-26T20:23:08.943Z"
   },
   {
    "duration": 16,
    "start_time": "2023-01-26T20:23:09.751Z"
   },
   {
    "duration": 2035,
    "start_time": "2023-01-26T20:23:09.768Z"
   },
   {
    "duration": 73,
    "start_time": "2023-01-26T20:23:11.806Z"
   },
   {
    "duration": 17,
    "start_time": "2023-01-26T20:23:11.881Z"
   },
   {
    "duration": 9,
    "start_time": "2023-01-26T20:23:11.900Z"
   },
   {
    "duration": 27,
    "start_time": "2023-01-26T20:23:11.911Z"
   },
   {
    "duration": 138,
    "start_time": "2023-01-26T20:23:11.940Z"
   },
   {
    "duration": 8,
    "start_time": "2023-01-26T20:23:12.080Z"
   },
   {
    "duration": 12,
    "start_time": "2023-01-26T20:23:12.090Z"
   },
   {
    "duration": 349,
    "start_time": "2023-01-26T20:23:12.104Z"
   },
   {
    "duration": 282,
    "start_time": "2023-01-26T20:24:01.385Z"
   },
   {
    "duration": 435,
    "start_time": "2023-01-26T20:24:33.034Z"
   },
   {
    "duration": 325,
    "start_time": "2023-01-26T20:25:27.883Z"
   },
   {
    "duration": 834,
    "start_time": "2023-01-26T20:25:34.027Z"
   },
   {
    "duration": 17,
    "start_time": "2023-01-26T20:25:34.864Z"
   },
   {
    "duration": 2092,
    "start_time": "2023-01-26T20:25:34.884Z"
   },
   {
    "duration": 89,
    "start_time": "2023-01-26T20:25:36.978Z"
   },
   {
    "duration": 19,
    "start_time": "2023-01-26T20:25:37.069Z"
   },
   {
    "duration": 13,
    "start_time": "2023-01-26T20:25:37.089Z"
   },
   {
    "duration": 25,
    "start_time": "2023-01-26T20:25:37.103Z"
   },
   {
    "duration": 152,
    "start_time": "2023-01-26T20:25:37.138Z"
   },
   {
    "duration": 8,
    "start_time": "2023-01-26T20:25:37.292Z"
   },
   {
    "duration": 20,
    "start_time": "2023-01-26T20:25:37.302Z"
   },
   {
    "duration": 340,
    "start_time": "2023-01-26T20:25:37.324Z"
   },
   {
    "duration": 6,
    "start_time": "2023-01-26T20:30:27.034Z"
   },
   {
    "duration": 296,
    "start_time": "2023-01-26T20:30:33.627Z"
   },
   {
    "duration": 1206,
    "start_time": "2023-01-26T20:33:15.078Z"
   },
   {
    "duration": 467,
    "start_time": "2023-01-26T20:33:39.767Z"
   },
   {
    "duration": 315,
    "start_time": "2023-01-26T20:34:11.736Z"
   },
   {
    "duration": 544,
    "start_time": "2023-01-26T20:34:21.816Z"
   },
   {
    "duration": 339,
    "start_time": "2023-01-26T20:35:07.024Z"
   },
   {
    "duration": 850,
    "start_time": "2023-01-26T20:35:18.091Z"
   },
   {
    "duration": 18,
    "start_time": "2023-01-26T20:35:18.944Z"
   },
   {
    "duration": 2144,
    "start_time": "2023-01-26T20:35:18.964Z"
   },
   {
    "duration": 79,
    "start_time": "2023-01-26T20:35:21.111Z"
   },
   {
    "duration": 19,
    "start_time": "2023-01-26T20:35:21.193Z"
   },
   {
    "duration": 24,
    "start_time": "2023-01-26T20:35:21.214Z"
   },
   {
    "duration": 14,
    "start_time": "2023-01-26T20:35:21.239Z"
   },
   {
    "duration": 167,
    "start_time": "2023-01-26T20:35:21.256Z"
   },
   {
    "duration": 14,
    "start_time": "2023-01-26T20:35:21.425Z"
   },
   {
    "duration": 12,
    "start_time": "2023-01-26T20:35:21.442Z"
   },
   {
    "duration": 489,
    "start_time": "2023-01-26T20:35:21.456Z"
   },
   {
    "duration": 343,
    "start_time": "2023-01-26T20:35:52.618Z"
   },
   {
    "duration": 758,
    "start_time": "2023-01-26T20:36:25.332Z"
   },
   {
    "duration": 15,
    "start_time": "2023-01-26T20:36:26.092Z"
   },
   {
    "duration": 2035,
    "start_time": "2023-01-26T20:36:26.109Z"
   },
   {
    "duration": 93,
    "start_time": "2023-01-26T20:36:28.146Z"
   },
   {
    "duration": 20,
    "start_time": "2023-01-26T20:36:28.241Z"
   },
   {
    "duration": 13,
    "start_time": "2023-01-26T20:36:28.262Z"
   },
   {
    "duration": 21,
    "start_time": "2023-01-26T20:36:28.277Z"
   },
   {
    "duration": 147,
    "start_time": "2023-01-26T20:36:28.300Z"
   },
   {
    "duration": 7,
    "start_time": "2023-01-26T20:36:28.449Z"
   },
   {
    "duration": 28,
    "start_time": "2023-01-26T20:36:28.458Z"
   },
   {
    "duration": 395,
    "start_time": "2023-01-26T20:36:28.487Z"
   },
   {
    "duration": 302,
    "start_time": "2023-01-26T20:39:26.241Z"
   },
   {
    "duration": 416,
    "start_time": "2023-01-26T20:40:13.281Z"
   },
   {
    "duration": 441,
    "start_time": "2023-01-26T20:40:24.699Z"
   },
   {
    "duration": 843,
    "start_time": "2023-01-26T20:41:06.422Z"
   },
   {
    "duration": 17,
    "start_time": "2023-01-26T20:41:07.268Z"
   },
   {
    "duration": 2289,
    "start_time": "2023-01-26T20:41:07.287Z"
   },
   {
    "duration": 76,
    "start_time": "2023-01-26T20:41:09.577Z"
   },
   {
    "duration": 21,
    "start_time": "2023-01-26T20:41:09.655Z"
   },
   {
    "duration": 12,
    "start_time": "2023-01-26T20:41:09.678Z"
   },
   {
    "duration": 14,
    "start_time": "2023-01-26T20:41:09.692Z"
   },
   {
    "duration": 191,
    "start_time": "2023-01-26T20:41:09.708Z"
   },
   {
    "duration": 6,
    "start_time": "2023-01-26T20:41:09.901Z"
   },
   {
    "duration": 22,
    "start_time": "2023-01-26T20:41:09.909Z"
   },
   {
    "duration": 472,
    "start_time": "2023-01-26T20:41:09.932Z"
   },
   {
    "duration": 752,
    "start_time": "2023-01-26T20:41:25.960Z"
   },
   {
    "duration": 16,
    "start_time": "2023-01-26T20:41:26.714Z"
   },
   {
    "duration": 2094,
    "start_time": "2023-01-26T20:41:26.738Z"
   },
   {
    "duration": 74,
    "start_time": "2023-01-26T20:41:28.834Z"
   },
   {
    "duration": 29,
    "start_time": "2023-01-26T20:41:28.909Z"
   },
   {
    "duration": 11,
    "start_time": "2023-01-26T20:41:28.939Z"
   },
   {
    "duration": 26,
    "start_time": "2023-01-26T20:41:28.951Z"
   },
   {
    "duration": 144,
    "start_time": "2023-01-26T20:41:28.979Z"
   },
   {
    "duration": 14,
    "start_time": "2023-01-26T20:41:29.125Z"
   },
   {
    "duration": 24,
    "start_time": "2023-01-26T20:41:29.141Z"
   },
   {
    "duration": 473,
    "start_time": "2023-01-26T20:41:29.167Z"
   },
   {
    "duration": 523,
    "start_time": "2023-01-26T20:42:48.198Z"
   },
   {
    "duration": 449,
    "start_time": "2023-01-26T20:43:28.687Z"
   },
   {
    "duration": 391,
    "start_time": "2023-01-26T20:45:03.395Z"
   },
   {
    "duration": 1165,
    "start_time": "2023-01-27T12:05:37.441Z"
   },
   {
    "duration": 14,
    "start_time": "2023-01-27T12:05:38.608Z"
   },
   {
    "duration": 2016,
    "start_time": "2023-01-27T12:05:38.624Z"
   },
   {
    "duration": 84,
    "start_time": "2023-01-27T12:05:40.642Z"
   },
   {
    "duration": 17,
    "start_time": "2023-01-27T12:05:40.727Z"
   },
   {
    "duration": 11,
    "start_time": "2023-01-27T12:05:40.746Z"
   },
   {
    "duration": 44,
    "start_time": "2023-01-27T12:05:40.759Z"
   },
   {
    "duration": 149,
    "start_time": "2023-01-27T12:05:40.805Z"
   },
   {
    "duration": 7,
    "start_time": "2023-01-27T12:05:40.956Z"
   },
   {
    "duration": 21,
    "start_time": "2023-01-27T12:05:40.965Z"
   },
   {
    "duration": 413,
    "start_time": "2023-01-27T12:05:40.988Z"
   },
   {
    "duration": 311,
    "start_time": "2023-01-27T12:30:01.145Z"
   },
   {
    "duration": 246,
    "start_time": "2023-01-27T12:31:53.378Z"
   },
   {
    "duration": 170,
    "start_time": "2023-01-27T12:32:48.025Z"
   },
   {
    "duration": 136,
    "start_time": "2023-01-27T12:35:28.670Z"
   },
   {
    "duration": 167,
    "start_time": "2023-01-27T12:35:38.919Z"
   },
   {
    "duration": 173,
    "start_time": "2023-01-27T12:35:57.669Z"
   },
   {
    "duration": 159,
    "start_time": "2023-01-27T12:42:22.799Z"
   },
   {
    "duration": 245,
    "start_time": "2023-01-27T12:42:42.230Z"
   },
   {
    "duration": 246,
    "start_time": "2023-01-27T12:54:21.791Z"
   },
   {
    "duration": 324,
    "start_time": "2023-01-27T13:32:32.956Z"
   },
   {
    "duration": 7,
    "start_time": "2023-01-27T13:37:04.142Z"
   },
   {
    "duration": 267,
    "start_time": "2023-01-27T13:37:13.980Z"
   },
   {
    "duration": 304,
    "start_time": "2023-01-27T13:37:26.106Z"
   },
   {
    "duration": 8,
    "start_time": "2023-01-27T13:37:31.440Z"
   },
   {
    "duration": 12,
    "start_time": "2023-01-27T13:37:36.949Z"
   },
   {
    "duration": 255,
    "start_time": "2023-01-27T13:37:41.988Z"
   },
   {
    "duration": 255,
    "start_time": "2023-01-27T13:39:31.163Z"
   },
   {
    "duration": 280,
    "start_time": "2023-01-27T13:50:54.781Z"
   },
   {
    "duration": 352,
    "start_time": "2023-01-27T13:55:58.545Z"
   },
   {
    "duration": 146,
    "start_time": "2023-01-27T13:57:02.278Z"
   },
   {
    "duration": 152,
    "start_time": "2023-01-27T14:00:24.044Z"
   },
   {
    "duration": 146,
    "start_time": "2023-01-27T14:00:45.268Z"
   },
   {
    "duration": 158,
    "start_time": "2023-01-27T14:01:25.466Z"
   },
   {
    "duration": 17,
    "start_time": "2023-01-27T14:06:40.386Z"
   },
   {
    "duration": 154,
    "start_time": "2023-01-27T14:07:05.042Z"
   },
   {
    "duration": 46,
    "start_time": "2023-01-27T14:07:19.074Z"
   },
   {
    "duration": 9,
    "start_time": "2023-01-27T14:07:26.035Z"
   },
   {
    "duration": 734,
    "start_time": "2023-01-27T14:07:41.800Z"
   },
   {
    "duration": 14,
    "start_time": "2023-01-27T14:07:42.536Z"
   },
   {
    "duration": 1985,
    "start_time": "2023-01-27T14:07:42.551Z"
   },
   {
    "duration": 73,
    "start_time": "2023-01-27T14:07:44.538Z"
   },
   {
    "duration": 17,
    "start_time": "2023-01-27T14:07:44.613Z"
   },
   {
    "duration": 11,
    "start_time": "2023-01-27T14:07:44.632Z"
   },
   {
    "duration": 15,
    "start_time": "2023-01-27T14:07:44.645Z"
   },
   {
    "duration": 151,
    "start_time": "2023-01-27T14:07:44.662Z"
   },
   {
    "duration": 7,
    "start_time": "2023-01-27T14:07:44.815Z"
   },
   {
    "duration": 13,
    "start_time": "2023-01-27T14:07:44.824Z"
   },
   {
    "duration": 309,
    "start_time": "2023-01-27T14:07:44.838Z"
   },
   {
    "duration": 246,
    "start_time": "2023-01-27T14:07:45.149Z"
   },
   {
    "duration": 8,
    "start_time": "2023-01-27T14:07:45.397Z"
   },
   {
    "duration": 292,
    "start_time": "2023-01-27T14:07:50.391Z"
   },
   {
    "duration": 128,
    "start_time": "2023-01-27T14:09:37.599Z"
   },
   {
    "duration": 132,
    "start_time": "2023-01-27T14:11:42.709Z"
   },
   {
    "duration": 141,
    "start_time": "2023-01-27T14:16:20.024Z"
   },
   {
    "duration": 1296,
    "start_time": "2023-01-27T14:25:52.263Z"
   },
   {
    "duration": 624,
    "start_time": "2023-01-27T14:26:47.204Z"
   },
   {
    "duration": 526,
    "start_time": "2023-01-27T14:26:53.462Z"
   },
   {
    "duration": 59,
    "start_time": "2023-01-27T14:27:46.067Z"
   },
   {
    "duration": 220,
    "start_time": "2023-01-27T14:27:52.245Z"
   },
   {
    "duration": 125,
    "start_time": "2023-01-27T14:28:26.466Z"
   },
   {
    "duration": 13,
    "start_time": "2023-01-27T14:28:42.010Z"
   },
   {
    "duration": 165,
    "start_time": "2023-01-27T14:29:01.275Z"
   },
   {
    "duration": 221,
    "start_time": "2023-01-27T14:29:25.761Z"
   },
   {
    "duration": 227,
    "start_time": "2023-01-27T14:29:35.539Z"
   },
   {
    "duration": 202,
    "start_time": "2023-01-27T14:29:44.518Z"
   },
   {
    "duration": 222,
    "start_time": "2023-01-27T14:30:22.120Z"
   },
   {
    "duration": 43,
    "start_time": "2023-01-30T18:55:00.118Z"
   },
   {
    "duration": 1227,
    "start_time": "2023-01-30T18:55:09.512Z"
   },
   {
    "duration": 14,
    "start_time": "2023-01-30T18:55:10.741Z"
   },
   {
    "duration": 2058,
    "start_time": "2023-01-30T18:55:10.759Z"
   },
   {
    "duration": 84,
    "start_time": "2023-01-30T18:55:12.819Z"
   },
   {
    "duration": 18,
    "start_time": "2023-01-30T18:55:12.905Z"
   },
   {
    "duration": 11,
    "start_time": "2023-01-30T18:55:12.924Z"
   },
   {
    "duration": 13,
    "start_time": "2023-01-30T18:55:12.936Z"
   },
   {
    "duration": 178,
    "start_time": "2023-01-30T18:55:12.950Z"
   },
   {
    "duration": 7,
    "start_time": "2023-01-30T18:55:13.130Z"
   },
   {
    "duration": 10,
    "start_time": "2023-01-30T18:55:13.138Z"
   },
   {
    "duration": 410,
    "start_time": "2023-01-30T18:55:13.150Z"
   },
   {
    "duration": 277,
    "start_time": "2023-01-30T18:55:13.562Z"
   },
   {
    "duration": 172,
    "start_time": "2023-01-30T18:55:13.841Z"
   },
   {
    "duration": 149,
    "start_time": "2023-01-30T18:55:14.015Z"
   },
   {
    "duration": 208,
    "start_time": "2023-01-30T18:55:34.196Z"
   },
   {
    "duration": 113,
    "start_time": "2023-01-30T18:56:06.729Z"
   },
   {
    "duration": 146,
    "start_time": "2023-01-30T19:08:06.061Z"
   },
   {
    "duration": 126,
    "start_time": "2023-01-30T19:08:15.716Z"
   },
   {
    "duration": 216,
    "start_time": "2023-01-30T19:08:23.771Z"
   },
   {
    "duration": 187,
    "start_time": "2023-01-30T19:11:41.337Z"
   },
   {
    "duration": 111,
    "start_time": "2023-01-30T19:12:11.937Z"
   },
   {
    "duration": 99,
    "start_time": "2023-01-30T19:12:23.616Z"
   },
   {
    "duration": 117,
    "start_time": "2023-01-30T19:18:15.815Z"
   },
   {
    "duration": 188,
    "start_time": "2023-01-30T19:19:37.648Z"
   },
   {
    "duration": 124,
    "start_time": "2023-01-30T19:20:40.743Z"
   },
   {
    "duration": 4,
    "start_time": "2023-01-30T19:23:36.156Z"
   },
   {
    "duration": 96,
    "start_time": "2023-01-30T19:23:41.037Z"
   },
   {
    "duration": 113,
    "start_time": "2023-01-30T19:23:58.246Z"
   },
   {
    "duration": 113,
    "start_time": "2023-01-30T19:24:28.322Z"
   },
   {
    "duration": 119,
    "start_time": "2023-01-30T19:24:35.998Z"
   },
   {
    "duration": 112,
    "start_time": "2023-01-30T19:24:43.221Z"
   },
   {
    "duration": 126,
    "start_time": "2023-01-30T19:24:59.782Z"
   },
   {
    "duration": 122,
    "start_time": "2023-01-30T19:25:20.135Z"
   },
   {
    "duration": 216,
    "start_time": "2023-01-30T19:25:50.656Z"
   },
   {
    "duration": 326,
    "start_time": "2023-01-30T19:26:01.176Z"
   },
   {
    "duration": 150,
    "start_time": "2023-01-30T19:26:16.241Z"
   },
   {
    "duration": 236,
    "start_time": "2023-01-30T19:26:52.770Z"
   },
   {
    "duration": 119,
    "start_time": "2023-01-30T19:27:17.938Z"
   },
   {
    "duration": 121,
    "start_time": "2023-01-30T19:33:13.188Z"
   },
   {
    "duration": 214,
    "start_time": "2023-01-30T19:33:33.218Z"
   },
   {
    "duration": 214,
    "start_time": "2023-01-30T19:33:42.837Z"
   },
   {
    "duration": 331,
    "start_time": "2023-01-30T19:33:53.388Z"
   },
   {
    "duration": 231,
    "start_time": "2023-01-30T19:42:13.027Z"
   },
   {
    "duration": 235,
    "start_time": "2023-01-30T19:42:27.690Z"
   },
   {
    "duration": 240,
    "start_time": "2023-01-30T19:42:38.434Z"
   },
   {
    "duration": 134,
    "start_time": "2023-01-30T19:46:37.658Z"
   },
   {
    "duration": 124,
    "start_time": "2023-01-30T19:47:50.587Z"
   },
   {
    "duration": 139,
    "start_time": "2023-01-30T19:47:55.935Z"
   },
   {
    "duration": 160,
    "start_time": "2023-01-30T19:48:05.940Z"
   },
   {
    "duration": 261,
    "start_time": "2023-01-30T19:48:18.737Z"
   },
   {
    "duration": 125,
    "start_time": "2023-01-30T19:48:28.286Z"
   },
   {
    "duration": 150,
    "start_time": "2023-01-30T19:48:39.276Z"
   },
   {
    "duration": 152,
    "start_time": "2023-01-30T19:48:57.364Z"
   },
   {
    "duration": 163,
    "start_time": "2023-01-30T19:50:04.729Z"
   },
   {
    "duration": 148,
    "start_time": "2023-01-30T19:50:12.313Z"
   },
   {
    "duration": 176,
    "start_time": "2023-01-30T19:50:21.136Z"
   },
   {
    "duration": 167,
    "start_time": "2023-01-30T19:50:28.935Z"
   },
   {
    "duration": 171,
    "start_time": "2023-01-30T19:50:37.329Z"
   },
   {
    "duration": 182,
    "start_time": "2023-01-30T19:51:04.960Z"
   },
   {
    "duration": 158,
    "start_time": "2023-01-30T19:51:13.464Z"
   },
   {
    "duration": 235,
    "start_time": "2023-01-30T19:51:24.889Z"
   },
   {
    "duration": 139,
    "start_time": "2023-01-30T19:52:31.202Z"
   },
   {
    "duration": 172,
    "start_time": "2023-01-30T19:53:41.731Z"
   },
   {
    "duration": 146,
    "start_time": "2023-01-30T19:56:52.610Z"
   },
   {
    "duration": 116,
    "start_time": "2023-01-30T19:57:03.378Z"
   },
   {
    "duration": 115,
    "start_time": "2023-01-30T19:57:24.347Z"
   },
   {
    "duration": 169,
    "start_time": "2023-01-30T19:57:53.340Z"
   },
   {
    "duration": 97,
    "start_time": "2023-01-30T19:58:02.437Z"
   },
   {
    "duration": 101,
    "start_time": "2023-01-30T19:58:09.956Z"
   },
   {
    "duration": 128,
    "start_time": "2023-01-30T19:58:24.176Z"
   },
   {
    "duration": 111,
    "start_time": "2023-01-30T19:59:16.543Z"
   },
   {
    "duration": 11,
    "start_time": "2023-01-30T19:59:22.358Z"
   },
   {
    "duration": 148,
    "start_time": "2023-01-30T19:59:31.550Z"
   },
   {
    "duration": 110,
    "start_time": "2023-01-30T19:59:47.423Z"
   },
   {
    "duration": 235,
    "start_time": "2023-01-30T20:10:31.539Z"
   },
   {
    "duration": 115,
    "start_time": "2023-01-30T20:10:41.841Z"
   },
   {
    "duration": 154,
    "start_time": "2023-01-30T20:11:12.934Z"
   },
   {
    "duration": 175,
    "start_time": "2023-01-30T20:11:42.321Z"
   },
   {
    "duration": 160,
    "start_time": "2023-01-30T20:16:44.791Z"
   },
   {
    "duration": 166,
    "start_time": "2023-01-30T20:17:27.691Z"
   },
   {
    "duration": 161,
    "start_time": "2023-01-30T20:20:04.580Z"
   },
   {
    "duration": 194,
    "start_time": "2023-01-30T20:20:36.156Z"
   },
   {
    "duration": 778,
    "start_time": "2023-01-30T20:23:03.945Z"
   },
   {
    "duration": 165,
    "start_time": "2023-01-30T20:23:33.523Z"
   },
   {
    "duration": 200,
    "start_time": "2023-01-30T20:24:04.077Z"
   },
   {
    "duration": 282,
    "start_time": "2023-01-30T20:30:10.037Z"
   },
   {
    "duration": 188,
    "start_time": "2023-01-30T20:30:39.534Z"
   },
   {
    "duration": 720,
    "start_time": "2023-01-30T20:35:35.079Z"
   },
   {
    "duration": 13,
    "start_time": "2023-01-30T20:35:35.801Z"
   },
   {
    "duration": 2014,
    "start_time": "2023-01-30T20:35:35.815Z"
   },
   {
    "duration": 75,
    "start_time": "2023-01-30T20:35:37.832Z"
   },
   {
    "duration": 19,
    "start_time": "2023-01-30T20:35:37.909Z"
   },
   {
    "duration": 11,
    "start_time": "2023-01-30T20:35:37.930Z"
   },
   {
    "duration": 11,
    "start_time": "2023-01-30T20:35:37.943Z"
   },
   {
    "duration": 132,
    "start_time": "2023-01-30T20:35:37.980Z"
   },
   {
    "duration": 6,
    "start_time": "2023-01-30T20:35:38.113Z"
   },
   {
    "duration": 8,
    "start_time": "2023-01-30T20:35:38.121Z"
   },
   {
    "duration": 1015,
    "start_time": "2023-01-30T20:35:38.130Z"
   },
   {
    "duration": 0,
    "start_time": "2023-01-30T20:35:39.147Z"
   },
   {
    "duration": 0,
    "start_time": "2023-01-30T20:35:39.148Z"
   },
   {
    "duration": 0,
    "start_time": "2023-01-30T20:35:39.149Z"
   },
   {
    "duration": 0,
    "start_time": "2023-01-30T20:35:39.150Z"
   },
   {
    "duration": 0,
    "start_time": "2023-01-30T20:35:39.151Z"
   },
   {
    "duration": 0,
    "start_time": "2023-01-30T20:35:39.152Z"
   },
   {
    "duration": 0,
    "start_time": "2023-01-30T20:35:39.153Z"
   },
   {
    "duration": 0,
    "start_time": "2023-01-30T20:35:39.154Z"
   },
   {
    "duration": 0,
    "start_time": "2023-01-30T20:35:39.155Z"
   },
   {
    "duration": 0,
    "start_time": "2023-01-30T20:35:39.156Z"
   },
   {
    "duration": 110,
    "start_time": "2023-01-30T20:36:32.696Z"
   },
   {
    "duration": 14,
    "start_time": "2023-01-30T20:36:34.696Z"
   },
   {
    "duration": 1853,
    "start_time": "2023-01-30T20:36:38.929Z"
   },
   {
    "duration": 73,
    "start_time": "2023-01-30T20:36:44.329Z"
   },
   {
    "duration": 17,
    "start_time": "2023-01-30T20:36:48.118Z"
   },
   {
    "duration": 13,
    "start_time": "2023-01-30T20:36:56.214Z"
   },
   {
    "duration": 12,
    "start_time": "2023-01-30T20:36:57.927Z"
   },
   {
    "duration": 14,
    "start_time": "2023-01-30T20:37:05.928Z"
   },
   {
    "duration": 125,
    "start_time": "2023-01-30T20:37:08.047Z"
   },
   {
    "duration": 7,
    "start_time": "2023-01-30T20:37:25.343Z"
   },
   {
    "duration": 10,
    "start_time": "2023-01-30T20:37:27.721Z"
   },
   {
    "duration": 938,
    "start_time": "2023-01-30T20:37:31.113Z"
   },
   {
    "duration": 12,
    "start_time": "2023-01-30T20:38:25.649Z"
   },
   {
    "duration": 1047,
    "start_time": "2023-01-30T20:38:59.070Z"
   },
   {
    "duration": 300,
    "start_time": "2023-01-30T20:39:27.349Z"
   },
   {
    "duration": 702,
    "start_time": "2023-01-30T20:39:39.416Z"
   },
   {
    "duration": 14,
    "start_time": "2023-01-30T20:39:40.120Z"
   },
   {
    "duration": 1921,
    "start_time": "2023-01-30T20:39:40.136Z"
   },
   {
    "duration": 75,
    "start_time": "2023-01-30T20:39:42.058Z"
   },
   {
    "duration": 17,
    "start_time": "2023-01-30T20:39:42.135Z"
   },
   {
    "duration": 28,
    "start_time": "2023-01-30T20:39:42.154Z"
   },
   {
    "duration": 12,
    "start_time": "2023-01-30T20:39:42.184Z"
   },
   {
    "duration": 134,
    "start_time": "2023-01-30T20:39:42.198Z"
   },
   {
    "duration": 8,
    "start_time": "2023-01-30T20:39:42.333Z"
   },
   {
    "duration": 10,
    "start_time": "2023-01-30T20:39:42.343Z"
   },
   {
    "duration": 1136,
    "start_time": "2023-01-30T20:39:42.355Z"
   },
   {
    "duration": 0,
    "start_time": "2023-01-30T20:39:43.493Z"
   },
   {
    "duration": 0,
    "start_time": "2023-01-30T20:39:43.494Z"
   },
   {
    "duration": 0,
    "start_time": "2023-01-30T20:39:43.495Z"
   },
   {
    "duration": 0,
    "start_time": "2023-01-30T20:39:43.496Z"
   },
   {
    "duration": 0,
    "start_time": "2023-01-30T20:39:43.497Z"
   },
   {
    "duration": 0,
    "start_time": "2023-01-30T20:39:43.498Z"
   },
   {
    "duration": 0,
    "start_time": "2023-01-30T20:39:43.499Z"
   },
   {
    "duration": 0,
    "start_time": "2023-01-30T20:39:43.500Z"
   },
   {
    "duration": 0,
    "start_time": "2023-01-30T20:39:43.501Z"
   },
   {
    "duration": 0,
    "start_time": "2023-01-30T20:39:43.502Z"
   },
   {
    "duration": 991,
    "start_time": "2023-01-30T20:40:33.527Z"
   },
   {
    "duration": 1050,
    "start_time": "2023-01-30T20:40:47.240Z"
   },
   {
    "duration": 955,
    "start_time": "2023-01-30T20:41:32.329Z"
   },
   {
    "duration": 11,
    "start_time": "2023-01-30T20:42:09.231Z"
   },
   {
    "duration": 919,
    "start_time": "2023-01-30T20:42:15.721Z"
   },
   {
    "duration": 12,
    "start_time": "2023-01-30T20:42:52.034Z"
   },
   {
    "duration": 13,
    "start_time": "2023-01-30T20:42:53.698Z"
   },
   {
    "duration": 14,
    "start_time": "2023-01-30T20:42:54.266Z"
   },
   {
    "duration": 115,
    "start_time": "2023-01-30T20:43:01.889Z"
   },
   {
    "duration": 6,
    "start_time": "2023-01-30T20:43:04.058Z"
   },
   {
    "duration": 9,
    "start_time": "2023-01-30T20:43:04.642Z"
   },
   {
    "duration": 1055,
    "start_time": "2023-01-30T20:43:10.571Z"
   },
   {
    "duration": 960,
    "start_time": "2023-01-30T20:43:38.220Z"
   },
   {
    "duration": 943,
    "start_time": "2023-01-30T20:44:19.277Z"
   },
   {
    "duration": 10,
    "start_time": "2023-01-30T20:45:35.942Z"
   },
   {
    "duration": 971,
    "start_time": "2023-01-30T20:45:47.585Z"
   },
   {
    "duration": 1037,
    "start_time": "2023-01-30T20:45:56.097Z"
   },
   {
    "duration": 715,
    "start_time": "2023-01-30T20:47:04.484Z"
   },
   {
    "duration": 14,
    "start_time": "2023-01-30T20:47:05.200Z"
   },
   {
    "duration": 1922,
    "start_time": "2023-01-30T20:47:05.215Z"
   },
   {
    "duration": 78,
    "start_time": "2023-01-30T20:47:07.140Z"
   },
   {
    "duration": 18,
    "start_time": "2023-01-30T20:47:07.221Z"
   },
   {
    "duration": 11,
    "start_time": "2023-01-30T20:47:07.240Z"
   },
   {
    "duration": 30,
    "start_time": "2023-01-30T20:47:07.253Z"
   },
   {
    "duration": 135,
    "start_time": "2023-01-30T20:47:07.285Z"
   },
   {
    "duration": 6,
    "start_time": "2023-01-30T20:47:07.422Z"
   },
   {
    "duration": 15,
    "start_time": "2023-01-30T20:47:07.430Z"
   },
   {
    "duration": 306,
    "start_time": "2023-01-30T20:47:07.446Z"
   },
   {
    "duration": 123,
    "start_time": "2023-01-30T20:47:07.753Z"
   },
   {
    "duration": 124,
    "start_time": "2023-01-30T20:47:07.880Z"
   },
   {
    "duration": 117,
    "start_time": "2023-01-30T20:47:08.006Z"
   },
   {
    "duration": 309,
    "start_time": "2023-01-30T20:47:08.124Z"
   },
   {
    "duration": 177,
    "start_time": "2023-01-30T20:47:08.435Z"
   },
   {
    "duration": 158,
    "start_time": "2023-01-30T20:47:08.614Z"
   },
   {
    "duration": 165,
    "start_time": "2023-01-30T20:47:08.774Z"
   },
   {
    "duration": 121,
    "start_time": "2023-01-30T20:47:08.940Z"
   },
   {
    "duration": 218,
    "start_time": "2023-01-30T20:47:09.063Z"
   },
   {
    "duration": 760,
    "start_time": "2023-01-30T20:47:09.282Z"
   },
   {
    "duration": 710,
    "start_time": "2023-01-30T20:47:38.276Z"
   },
   {
    "duration": 13,
    "start_time": "2023-01-30T20:47:38.988Z"
   },
   {
    "duration": 1810,
    "start_time": "2023-01-30T20:47:39.003Z"
   },
   {
    "duration": 70,
    "start_time": "2023-01-30T20:47:40.815Z"
   },
   {
    "duration": 19,
    "start_time": "2023-01-30T20:47:40.886Z"
   },
   {
    "duration": 14,
    "start_time": "2023-01-30T20:47:40.907Z"
   },
   {
    "duration": 12,
    "start_time": "2023-01-30T20:47:40.923Z"
   },
   {
    "duration": 148,
    "start_time": "2023-01-30T20:47:40.937Z"
   },
   {
    "duration": 6,
    "start_time": "2023-01-30T20:47:41.086Z"
   },
   {
    "duration": 9,
    "start_time": "2023-01-30T20:47:41.094Z"
   },
   {
    "duration": 1039,
    "start_time": "2023-01-30T20:47:41.105Z"
   },
   {
    "duration": 0,
    "start_time": "2023-01-30T20:47:42.145Z"
   },
   {
    "duration": 0,
    "start_time": "2023-01-30T20:47:42.147Z"
   },
   {
    "duration": 0,
    "start_time": "2023-01-30T20:47:42.148Z"
   },
   {
    "duration": 0,
    "start_time": "2023-01-30T20:47:42.149Z"
   },
   {
    "duration": 0,
    "start_time": "2023-01-30T20:47:42.150Z"
   },
   {
    "duration": 0,
    "start_time": "2023-01-30T20:47:42.151Z"
   },
   {
    "duration": 0,
    "start_time": "2023-01-30T20:47:42.152Z"
   },
   {
    "duration": 0,
    "start_time": "2023-01-30T20:47:42.153Z"
   },
   {
    "duration": 0,
    "start_time": "2023-01-30T20:47:42.154Z"
   },
   {
    "duration": 0,
    "start_time": "2023-01-30T20:47:42.155Z"
   },
   {
    "duration": 271,
    "start_time": "2023-01-30T20:48:34.415Z"
   },
   {
    "duration": 327,
    "start_time": "2023-01-30T20:48:40.317Z"
   },
   {
    "duration": 275,
    "start_time": "2023-01-30T20:48:44.459Z"
   },
   {
    "duration": 271,
    "start_time": "2023-01-30T20:48:57.182Z"
   },
   {
    "duration": 438,
    "start_time": "2023-01-30T20:49:13.261Z"
   },
   {
    "duration": 786,
    "start_time": "2023-01-30T20:49:18.397Z"
   },
   {
    "duration": 15,
    "start_time": "2023-01-30T20:49:19.185Z"
   },
   {
    "duration": 1910,
    "start_time": "2023-01-30T20:49:19.202Z"
   },
   {
    "duration": 71,
    "start_time": "2023-01-30T20:49:21.114Z"
   },
   {
    "duration": 17,
    "start_time": "2023-01-30T20:49:21.187Z"
   },
   {
    "duration": 18,
    "start_time": "2023-01-30T20:49:21.206Z"
   },
   {
    "duration": 19,
    "start_time": "2023-01-30T20:49:21.226Z"
   },
   {
    "duration": 141,
    "start_time": "2023-01-30T20:49:21.247Z"
   },
   {
    "duration": 7,
    "start_time": "2023-01-30T20:49:21.391Z"
   },
   {
    "duration": 32,
    "start_time": "2023-01-30T20:49:21.400Z"
   },
   {
    "duration": 382,
    "start_time": "2023-01-30T20:49:21.434Z"
   },
   {
    "duration": 0,
    "start_time": "2023-01-30T20:49:21.818Z"
   },
   {
    "duration": 0,
    "start_time": "2023-01-30T20:49:21.820Z"
   },
   {
    "duration": 0,
    "start_time": "2023-01-30T20:49:21.821Z"
   },
   {
    "duration": 0,
    "start_time": "2023-01-30T20:49:21.823Z"
   },
   {
    "duration": 0,
    "start_time": "2023-01-30T20:49:21.825Z"
   },
   {
    "duration": 0,
    "start_time": "2023-01-30T20:49:21.827Z"
   },
   {
    "duration": 0,
    "start_time": "2023-01-30T20:49:21.828Z"
   },
   {
    "duration": 0,
    "start_time": "2023-01-30T20:49:21.829Z"
   },
   {
    "duration": 0,
    "start_time": "2023-01-30T20:49:21.831Z"
   },
   {
    "duration": 0,
    "start_time": "2023-01-30T20:49:21.832Z"
   },
   {
    "duration": 942,
    "start_time": "2023-01-30T20:49:41.167Z"
   },
   {
    "duration": 391,
    "start_time": "2023-01-30T20:49:56.322Z"
   },
   {
    "duration": 294,
    "start_time": "2023-01-30T20:50:12.985Z"
   },
   {
    "duration": 297,
    "start_time": "2023-01-30T20:50:28.886Z"
   },
   {
    "duration": 739,
    "start_time": "2023-01-30T20:50:39.281Z"
   },
   {
    "duration": 15,
    "start_time": "2023-01-30T20:50:40.022Z"
   },
   {
    "duration": 1871,
    "start_time": "2023-01-30T20:50:40.038Z"
   },
   {
    "duration": 71,
    "start_time": "2023-01-30T20:50:41.911Z"
   },
   {
    "duration": 17,
    "start_time": "2023-01-30T20:50:41.983Z"
   },
   {
    "duration": 11,
    "start_time": "2023-01-30T20:50:42.002Z"
   },
   {
    "duration": 13,
    "start_time": "2023-01-30T20:50:42.014Z"
   },
   {
    "duration": 157,
    "start_time": "2023-01-30T20:50:42.028Z"
   },
   {
    "duration": 7,
    "start_time": "2023-01-30T20:50:42.186Z"
   },
   {
    "duration": 14,
    "start_time": "2023-01-30T20:50:42.195Z"
   },
   {
    "duration": 310,
    "start_time": "2023-01-30T20:50:42.210Z"
   },
   {
    "duration": 125,
    "start_time": "2023-01-30T20:50:42.522Z"
   },
   {
    "duration": 120,
    "start_time": "2023-01-30T20:50:42.649Z"
   },
   {
    "duration": 107,
    "start_time": "2023-01-30T20:50:42.780Z"
   },
   {
    "duration": 316,
    "start_time": "2023-01-30T20:50:42.889Z"
   },
   {
    "duration": 178,
    "start_time": "2023-01-30T20:50:43.207Z"
   },
   {
    "duration": 188,
    "start_time": "2023-01-30T20:50:43.387Z"
   },
   {
    "duration": 172,
    "start_time": "2023-01-30T20:50:43.576Z"
   },
   {
    "duration": 131,
    "start_time": "2023-01-30T20:50:43.750Z"
   },
   {
    "duration": 207,
    "start_time": "2023-01-30T20:50:43.883Z"
   },
   {
    "duration": 775,
    "start_time": "2023-01-30T20:50:44.091Z"
   },
   {
    "duration": 113,
    "start_time": "2023-01-30T20:50:56.890Z"
   },
   {
    "duration": 120,
    "start_time": "2023-01-30T20:51:02.906Z"
   },
   {
    "duration": 727,
    "start_time": "2023-01-30T20:51:19.779Z"
   },
   {
    "duration": 294,
    "start_time": "2023-01-30T20:51:37.226Z"
   },
   {
    "duration": 80,
    "start_time": "2023-01-31T05:56:26.643Z"
   },
   {
    "duration": 977,
    "start_time": "2023-01-31T06:00:43.233Z"
   },
   {
    "duration": 27,
    "start_time": "2023-01-31T06:00:44.213Z"
   },
   {
    "duration": 2081,
    "start_time": "2023-01-31T06:00:44.242Z"
   },
   {
    "duration": 96,
    "start_time": "2023-01-31T06:00:46.326Z"
   },
   {
    "duration": 21,
    "start_time": "2023-01-31T06:00:46.435Z"
   },
   {
    "duration": 18,
    "start_time": "2023-01-31T06:00:46.458Z"
   },
   {
    "duration": 24,
    "start_time": "2023-01-31T06:00:46.478Z"
   },
   {
    "duration": 296,
    "start_time": "2023-01-31T06:00:46.504Z"
   },
   {
    "duration": 0,
    "start_time": "2023-01-31T06:00:46.803Z"
   },
   {
    "duration": 0,
    "start_time": "2023-01-31T06:00:46.804Z"
   },
   {
    "duration": 0,
    "start_time": "2023-01-31T06:00:46.805Z"
   },
   {
    "duration": 0,
    "start_time": "2023-01-31T06:00:46.806Z"
   },
   {
    "duration": 0,
    "start_time": "2023-01-31T06:00:46.807Z"
   },
   {
    "duration": 0,
    "start_time": "2023-01-31T06:00:46.808Z"
   },
   {
    "duration": 0,
    "start_time": "2023-01-31T06:00:46.809Z"
   },
   {
    "duration": 0,
    "start_time": "2023-01-31T06:00:46.827Z"
   },
   {
    "duration": 0,
    "start_time": "2023-01-31T06:00:46.828Z"
   },
   {
    "duration": 0,
    "start_time": "2023-01-31T06:00:46.830Z"
   },
   {
    "duration": 0,
    "start_time": "2023-01-31T06:00:46.831Z"
   },
   {
    "duration": 0,
    "start_time": "2023-01-31T06:00:46.833Z"
   },
   {
    "duration": 0,
    "start_time": "2023-01-31T06:00:46.834Z"
   },
   {
    "duration": 37,
    "start_time": "2023-01-31T06:01:23.335Z"
   },
   {
    "duration": 47,
    "start_time": "2023-01-31T06:01:34.761Z"
   },
   {
    "duration": 11,
    "start_time": "2023-01-31T06:02:00.800Z"
   },
   {
    "duration": 40,
    "start_time": "2023-01-31T06:05:13.948Z"
   },
   {
    "duration": 31,
    "start_time": "2023-01-31T06:05:40.010Z"
   },
   {
    "duration": 782,
    "start_time": "2023-01-31T06:07:29.390Z"
   },
   {
    "duration": 30,
    "start_time": "2023-01-31T06:07:30.174Z"
   },
   {
    "duration": 2372,
    "start_time": "2023-01-31T06:07:30.207Z"
   },
   {
    "duration": 83,
    "start_time": "2023-01-31T06:07:32.581Z"
   },
   {
    "duration": 19,
    "start_time": "2023-01-31T06:07:32.667Z"
   },
   {
    "duration": 38,
    "start_time": "2023-01-31T06:07:32.688Z"
   },
   {
    "duration": 30,
    "start_time": "2023-01-31T06:07:32.728Z"
   },
   {
    "duration": 108,
    "start_time": "2023-01-31T06:07:32.760Z"
   },
   {
    "duration": 0,
    "start_time": "2023-01-31T06:07:32.869Z"
   },
   {
    "duration": 0,
    "start_time": "2023-01-31T06:07:32.870Z"
   },
   {
    "duration": 0,
    "start_time": "2023-01-31T06:07:32.872Z"
   },
   {
    "duration": 0,
    "start_time": "2023-01-31T06:07:32.873Z"
   },
   {
    "duration": 0,
    "start_time": "2023-01-31T06:07:32.874Z"
   },
   {
    "duration": 0,
    "start_time": "2023-01-31T06:07:32.875Z"
   },
   {
    "duration": 0,
    "start_time": "2023-01-31T06:07:32.876Z"
   },
   {
    "duration": 0,
    "start_time": "2023-01-31T06:07:32.877Z"
   },
   {
    "duration": 0,
    "start_time": "2023-01-31T06:07:32.878Z"
   },
   {
    "duration": 0,
    "start_time": "2023-01-31T06:07:32.879Z"
   },
   {
    "duration": 0,
    "start_time": "2023-01-31T06:07:32.880Z"
   },
   {
    "duration": 0,
    "start_time": "2023-01-31T06:07:32.881Z"
   },
   {
    "duration": 0,
    "start_time": "2023-01-31T06:07:32.882Z"
   },
   {
    "duration": 167,
    "start_time": "2023-01-31T06:07:49.951Z"
   },
   {
    "duration": 7,
    "start_time": "2023-01-31T06:07:54.996Z"
   },
   {
    "duration": 722,
    "start_time": "2023-01-31T06:08:02.182Z"
   },
   {
    "duration": 21,
    "start_time": "2023-01-31T06:08:02.906Z"
   },
   {
    "duration": 2122,
    "start_time": "2023-01-31T06:08:02.929Z"
   },
   {
    "duration": 136,
    "start_time": "2023-01-31T06:08:05.054Z"
   },
   {
    "duration": 33,
    "start_time": "2023-01-31T06:08:05.194Z"
   },
   {
    "duration": 18,
    "start_time": "2023-01-31T06:08:05.229Z"
   },
   {
    "duration": 23,
    "start_time": "2023-01-31T06:08:05.249Z"
   },
   {
    "duration": 197,
    "start_time": "2023-01-31T06:08:05.274Z"
   },
   {
    "duration": 6,
    "start_time": "2023-01-31T06:08:05.473Z"
   },
   {
    "duration": 18,
    "start_time": "2023-01-31T06:08:05.481Z"
   },
   {
    "duration": 338,
    "start_time": "2023-01-31T06:08:05.500Z"
   },
   {
    "duration": 175,
    "start_time": "2023-01-31T06:08:05.840Z"
   },
   {
    "duration": 138,
    "start_time": "2023-01-31T06:08:06.017Z"
   },
   {
    "duration": 137,
    "start_time": "2023-01-31T06:08:06.158Z"
   },
   {
    "duration": 442,
    "start_time": "2023-01-31T06:08:06.297Z"
   },
   {
    "duration": 210,
    "start_time": "2023-01-31T06:08:06.742Z"
   },
   {
    "duration": 199,
    "start_time": "2023-01-31T06:08:06.954Z"
   },
   {
    "duration": 228,
    "start_time": "2023-01-31T06:08:07.156Z"
   },
   {
    "duration": 181,
    "start_time": "2023-01-31T06:08:07.386Z"
   },
   {
    "duration": 251,
    "start_time": "2023-01-31T06:08:07.569Z"
   },
   {
    "duration": 262,
    "start_time": "2023-01-31T06:08:07.822Z"
   },
   {
    "duration": 207,
    "start_time": "2023-01-31T06:16:08.837Z"
   },
   {
    "duration": 307,
    "start_time": "2023-01-31T06:18:02.754Z"
   },
   {
    "duration": 780,
    "start_time": "2023-01-31T06:24:08.906Z"
   },
   {
    "duration": 15,
    "start_time": "2023-01-31T06:24:09.688Z"
   },
   {
    "duration": 2162,
    "start_time": "2023-01-31T06:24:09.705Z"
   },
   {
    "duration": 82,
    "start_time": "2023-01-31T06:24:11.870Z"
   },
   {
    "duration": 18,
    "start_time": "2023-01-31T06:24:11.954Z"
   },
   {
    "duration": 11,
    "start_time": "2023-01-31T06:24:11.974Z"
   },
   {
    "duration": 24,
    "start_time": "2023-01-31T06:24:11.987Z"
   },
   {
    "duration": 178,
    "start_time": "2023-01-31T06:24:12.028Z"
   },
   {
    "duration": 7,
    "start_time": "2023-01-31T06:24:12.208Z"
   },
   {
    "duration": 18,
    "start_time": "2023-01-31T06:24:12.217Z"
   },
   {
    "duration": 312,
    "start_time": "2023-01-31T06:24:12.238Z"
   },
   {
    "duration": 138,
    "start_time": "2023-01-31T06:24:12.552Z"
   },
   {
    "duration": 130,
    "start_time": "2023-01-31T06:24:12.691Z"
   },
   {
    "duration": 131,
    "start_time": "2023-01-31T06:24:12.828Z"
   },
   {
    "duration": 346,
    "start_time": "2023-01-31T06:24:12.961Z"
   },
   {
    "duration": 213,
    "start_time": "2023-01-31T06:24:13.309Z"
   },
   {
    "duration": 195,
    "start_time": "2023-01-31T06:24:13.524Z"
   },
   {
    "duration": 193,
    "start_time": "2023-01-31T06:24:13.721Z"
   },
   {
    "duration": 126,
    "start_time": "2023-01-31T06:24:13.915Z"
   },
   {
    "duration": 223,
    "start_time": "2023-01-31T06:24:14.042Z"
   },
   {
    "duration": 271,
    "start_time": "2023-01-31T06:24:14.267Z"
   },
   {
    "duration": 59,
    "start_time": "2023-01-31T19:22:36.393Z"
   },
   {
    "duration": 995,
    "start_time": "2023-01-31T19:22:43.593Z"
   },
   {
    "duration": 14,
    "start_time": "2023-01-31T19:22:44.590Z"
   },
   {
    "duration": 1855,
    "start_time": "2023-01-31T19:22:44.605Z"
   },
   {
    "duration": 79,
    "start_time": "2023-01-31T19:22:46.463Z"
   },
   {
    "duration": 20,
    "start_time": "2023-01-31T19:22:46.544Z"
   },
   {
    "duration": 13,
    "start_time": "2023-01-31T19:22:46.565Z"
   },
   {
    "duration": 31,
    "start_time": "2023-01-31T19:22:46.580Z"
   },
   {
    "duration": 175,
    "start_time": "2023-01-31T19:22:46.613Z"
   },
   {
    "duration": 6,
    "start_time": "2023-01-31T19:22:46.790Z"
   },
   {
    "duration": 18,
    "start_time": "2023-01-31T19:22:46.798Z"
   },
   {
    "duration": 73,
    "start_time": "2023-01-31T19:22:46.817Z"
   },
   {
    "duration": 0,
    "start_time": "2023-01-31T19:22:46.891Z"
   },
   {
    "duration": 0,
    "start_time": "2023-01-31T19:22:46.892Z"
   },
   {
    "duration": 0,
    "start_time": "2023-01-31T19:22:46.893Z"
   },
   {
    "duration": 0,
    "start_time": "2023-01-31T19:22:46.895Z"
   },
   {
    "duration": 0,
    "start_time": "2023-01-31T19:22:46.896Z"
   },
   {
    "duration": 0,
    "start_time": "2023-01-31T19:22:46.898Z"
   },
   {
    "duration": 0,
    "start_time": "2023-01-31T19:22:46.899Z"
   },
   {
    "duration": 0,
    "start_time": "2023-01-31T19:22:46.901Z"
   },
   {
    "duration": 0,
    "start_time": "2023-01-31T19:22:46.903Z"
   },
   {
    "duration": 0,
    "start_time": "2023-01-31T19:22:46.904Z"
   },
   {
    "duration": 0,
    "start_time": "2023-01-31T19:22:46.905Z"
   },
   {
    "duration": 333,
    "start_time": "2023-01-31T19:23:16.291Z"
   },
   {
    "duration": 116,
    "start_time": "2023-01-31T19:23:21.632Z"
   },
   {
    "duration": 755,
    "start_time": "2023-01-31T19:23:27.891Z"
   },
   {
    "duration": 15,
    "start_time": "2023-01-31T19:23:28.648Z"
   },
   {
    "duration": 1840,
    "start_time": "2023-01-31T19:23:28.664Z"
   },
   {
    "duration": 70,
    "start_time": "2023-01-31T19:23:30.506Z"
   },
   {
    "duration": 16,
    "start_time": "2023-01-31T19:23:30.578Z"
   },
   {
    "duration": 33,
    "start_time": "2023-01-31T19:23:30.595Z"
   },
   {
    "duration": 35,
    "start_time": "2023-01-31T19:23:30.629Z"
   },
   {
    "duration": 228,
    "start_time": "2023-01-31T19:23:30.665Z"
   },
   {
    "duration": 7,
    "start_time": "2023-01-31T19:23:30.895Z"
   },
   {
    "duration": 38,
    "start_time": "2023-01-31T19:23:30.903Z"
   },
   {
    "duration": 342,
    "start_time": "2023-01-31T19:23:30.942Z"
   },
   {
    "duration": 138,
    "start_time": "2023-01-31T19:23:31.286Z"
   },
   {
    "duration": 134,
    "start_time": "2023-01-31T19:23:31.427Z"
   },
   {
    "duration": 115,
    "start_time": "2023-01-31T19:23:31.564Z"
   },
   {
    "duration": 303,
    "start_time": "2023-01-31T19:23:31.681Z"
   },
   {
    "duration": 177,
    "start_time": "2023-01-31T19:23:31.986Z"
   },
   {
    "duration": 163,
    "start_time": "2023-01-31T19:23:32.165Z"
   },
   {
    "duration": 166,
    "start_time": "2023-01-31T19:23:32.330Z"
   },
   {
    "duration": 125,
    "start_time": "2023-01-31T19:23:32.498Z"
   },
   {
    "duration": 184,
    "start_time": "2023-01-31T19:23:32.624Z"
   },
   {
    "duration": 205,
    "start_time": "2023-01-31T19:23:32.810Z"
   },
   {
    "duration": 189,
    "start_time": "2023-01-31T19:23:33.017Z"
   },
   {
    "duration": 286,
    "start_time": "2023-01-31T19:28:31.703Z"
   },
   {
    "duration": 78,
    "start_time": "2023-01-31T19:45:00.199Z"
   },
   {
    "duration": 15,
    "start_time": "2023-01-31T19:45:08.269Z"
   },
   {
    "duration": 13,
    "start_time": "2023-01-31T19:45:24.510Z"
   },
   {
    "duration": 178,
    "start_time": "2023-01-31T19:48:44.465Z"
   },
   {
    "duration": 169,
    "start_time": "2023-01-31T19:49:00.523Z"
   },
   {
    "duration": 174,
    "start_time": "2023-01-31T19:49:04.130Z"
   },
   {
    "duration": 169,
    "start_time": "2023-01-31T19:49:08.860Z"
   },
   {
    "duration": 12,
    "start_time": "2023-01-31T19:49:41.725Z"
   },
   {
    "duration": 773,
    "start_time": "2023-01-31T19:49:51.305Z"
   },
   {
    "duration": 15,
    "start_time": "2023-01-31T19:49:52.080Z"
   },
   {
    "duration": 1857,
    "start_time": "2023-01-31T19:49:52.096Z"
   },
   {
    "duration": 70,
    "start_time": "2023-01-31T19:49:53.954Z"
   },
   {
    "duration": 17,
    "start_time": "2023-01-31T19:49:54.025Z"
   },
   {
    "duration": 32,
    "start_time": "2023-01-31T19:49:54.044Z"
   },
   {
    "duration": 21,
    "start_time": "2023-01-31T19:49:54.077Z"
   },
   {
    "duration": 186,
    "start_time": "2023-01-31T19:49:54.100Z"
   },
   {
    "duration": 7,
    "start_time": "2023-01-31T19:49:54.287Z"
   },
   {
    "duration": 31,
    "start_time": "2023-01-31T19:49:54.297Z"
   },
   {
    "duration": 49,
    "start_time": "2023-01-31T19:49:54.330Z"
   },
   {
    "duration": 334,
    "start_time": "2023-01-31T19:49:54.381Z"
   },
   {
    "duration": 125,
    "start_time": "2023-01-31T19:49:54.716Z"
   },
   {
    "duration": 128,
    "start_time": "2023-01-31T19:49:54.843Z"
   },
   {
    "duration": 121,
    "start_time": "2023-01-31T19:49:54.972Z"
   },
   {
    "duration": 289,
    "start_time": "2023-01-31T19:49:55.095Z"
   },
   {
    "duration": 165,
    "start_time": "2023-01-31T19:49:55.386Z"
   },
   {
    "duration": 161,
    "start_time": "2023-01-31T19:49:55.552Z"
   },
   {
    "duration": 151,
    "start_time": "2023-01-31T19:49:55.714Z"
   },
   {
    "duration": 115,
    "start_time": "2023-01-31T19:49:55.866Z"
   },
   {
    "duration": 187,
    "start_time": "2023-01-31T19:49:55.983Z"
   },
   {
    "duration": 190,
    "start_time": "2023-01-31T19:49:56.171Z"
   },
   {
    "duration": 166,
    "start_time": "2023-01-31T19:49:56.362Z"
   },
   {
    "duration": 254,
    "start_time": "2023-01-31T19:49:56.530Z"
   },
   {
    "duration": 86,
    "start_time": "2023-01-31T19:50:22.450Z"
   },
   {
    "duration": 10,
    "start_time": "2023-01-31T19:50:33.699Z"
   },
   {
    "duration": 15,
    "start_time": "2023-01-31T19:50:55.862Z"
   },
   {
    "duration": 14,
    "start_time": "2023-01-31T19:51:58.024Z"
   },
   {
    "duration": 743,
    "start_time": "2023-01-31T19:52:10.468Z"
   },
   {
    "duration": 14,
    "start_time": "2023-01-31T19:52:11.214Z"
   },
   {
    "duration": 1844,
    "start_time": "2023-01-31T19:52:11.229Z"
   },
   {
    "duration": 72,
    "start_time": "2023-01-31T19:52:13.075Z"
   },
   {
    "duration": 17,
    "start_time": "2023-01-31T19:52:13.149Z"
   },
   {
    "duration": 12,
    "start_time": "2023-01-31T19:52:13.168Z"
   },
   {
    "duration": 32,
    "start_time": "2023-01-31T19:52:13.182Z"
   },
   {
    "duration": 197,
    "start_time": "2023-01-31T19:52:13.215Z"
   },
   {
    "duration": 7,
    "start_time": "2023-01-31T19:52:13.414Z"
   },
   {
    "duration": 11,
    "start_time": "2023-01-31T19:52:13.423Z"
   },
   {
    "duration": 14,
    "start_time": "2023-01-31T19:52:13.437Z"
   },
   {
    "duration": 351,
    "start_time": "2023-01-31T19:52:13.453Z"
   },
   {
    "duration": 129,
    "start_time": "2023-01-31T19:52:13.806Z"
   },
   {
    "duration": 123,
    "start_time": "2023-01-31T19:52:13.936Z"
   },
   {
    "duration": 109,
    "start_time": "2023-01-31T19:52:14.061Z"
   },
   {
    "duration": 278,
    "start_time": "2023-01-31T19:52:14.171Z"
   },
   {
    "duration": 162,
    "start_time": "2023-01-31T19:52:14.450Z"
   },
   {
    "duration": 153,
    "start_time": "2023-01-31T19:52:14.614Z"
   },
   {
    "duration": 166,
    "start_time": "2023-01-31T19:52:14.769Z"
   },
   {
    "duration": 118,
    "start_time": "2023-01-31T19:52:14.937Z"
   },
   {
    "duration": 187,
    "start_time": "2023-01-31T19:52:15.057Z"
   },
   {
    "duration": 202,
    "start_time": "2023-01-31T19:52:15.246Z"
   },
   {
    "duration": 171,
    "start_time": "2023-01-31T19:52:15.450Z"
   },
   {
    "duration": 244,
    "start_time": "2023-01-31T19:52:15.624Z"
   },
   {
    "duration": 180,
    "start_time": "2023-01-31T19:53:25.954Z"
   },
   {
    "duration": 178,
    "start_time": "2023-01-31T19:53:53.390Z"
   },
   {
    "duration": 711,
    "start_time": "2023-01-31T19:54:00.745Z"
   },
   {
    "duration": 14,
    "start_time": "2023-01-31T19:54:01.457Z"
   },
   {
    "duration": 1800,
    "start_time": "2023-01-31T19:54:01.472Z"
   },
   {
    "duration": 92,
    "start_time": "2023-01-31T19:54:03.274Z"
   },
   {
    "duration": 17,
    "start_time": "2023-01-31T19:54:03.367Z"
   },
   {
    "duration": 13,
    "start_time": "2023-01-31T19:54:03.385Z"
   },
   {
    "duration": 44,
    "start_time": "2023-01-31T19:54:03.400Z"
   },
   {
    "duration": 197,
    "start_time": "2023-01-31T19:54:03.446Z"
   },
   {
    "duration": 6,
    "start_time": "2023-01-31T19:54:03.644Z"
   },
   {
    "duration": 41,
    "start_time": "2023-01-31T19:54:03.653Z"
   },
   {
    "duration": 31,
    "start_time": "2023-01-31T19:54:03.695Z"
   },
   {
    "duration": 318,
    "start_time": "2023-01-31T19:54:03.728Z"
   },
   {
    "duration": 125,
    "start_time": "2023-01-31T19:54:04.048Z"
   },
   {
    "duration": 121,
    "start_time": "2023-01-31T19:54:04.175Z"
   },
   {
    "duration": 119,
    "start_time": "2023-01-31T19:54:04.298Z"
   },
   {
    "duration": 274,
    "start_time": "2023-01-31T19:54:04.418Z"
   },
   {
    "duration": 163,
    "start_time": "2023-01-31T19:54:04.693Z"
   },
   {
    "duration": 152,
    "start_time": "2023-01-31T19:54:04.858Z"
   },
   {
    "duration": 155,
    "start_time": "2023-01-31T19:54:05.012Z"
   },
   {
    "duration": 120,
    "start_time": "2023-01-31T19:54:05.168Z"
   },
   {
    "duration": 196,
    "start_time": "2023-01-31T19:54:05.290Z"
   },
   {
    "duration": 195,
    "start_time": "2023-01-31T19:54:05.487Z"
   },
   {
    "duration": 176,
    "start_time": "2023-01-31T19:54:05.684Z"
   },
   {
    "duration": 249,
    "start_time": "2023-01-31T19:54:05.861Z"
   },
   {
    "duration": 753,
    "start_time": "2023-01-31T19:54:46.422Z"
   },
   {
    "duration": 15,
    "start_time": "2023-01-31T19:54:47.177Z"
   },
   {
    "duration": 1818,
    "start_time": "2023-01-31T19:54:47.194Z"
   },
   {
    "duration": 67,
    "start_time": "2023-01-31T19:54:49.015Z"
   },
   {
    "duration": 26,
    "start_time": "2023-01-31T19:54:49.084Z"
   },
   {
    "duration": 11,
    "start_time": "2023-01-31T19:54:49.112Z"
   },
   {
    "duration": 38,
    "start_time": "2023-01-31T19:54:49.124Z"
   },
   {
    "duration": 175,
    "start_time": "2023-01-31T19:54:49.163Z"
   },
   {
    "duration": 6,
    "start_time": "2023-01-31T19:54:49.340Z"
   },
   {
    "duration": 34,
    "start_time": "2023-01-31T19:54:49.349Z"
   },
   {
    "duration": 327,
    "start_time": "2023-01-31T19:54:49.385Z"
   },
   {
    "duration": 125,
    "start_time": "2023-01-31T19:54:49.714Z"
   },
   {
    "duration": 129,
    "start_time": "2023-01-31T19:54:49.841Z"
   },
   {
    "duration": 127,
    "start_time": "2023-01-31T19:54:49.972Z"
   },
   {
    "duration": 290,
    "start_time": "2023-01-31T19:54:50.101Z"
   },
   {
    "duration": 162,
    "start_time": "2023-01-31T19:54:50.392Z"
   },
   {
    "duration": 159,
    "start_time": "2023-01-31T19:54:50.556Z"
   },
   {
    "duration": 156,
    "start_time": "2023-01-31T19:54:50.717Z"
   },
   {
    "duration": 122,
    "start_time": "2023-01-31T19:54:50.875Z"
   },
   {
    "duration": 192,
    "start_time": "2023-01-31T19:54:50.999Z"
   },
   {
    "duration": 207,
    "start_time": "2023-01-31T19:54:51.192Z"
   },
   {
    "duration": 165,
    "start_time": "2023-01-31T19:54:51.400Z"
   },
   {
    "duration": 258,
    "start_time": "2023-01-31T19:54:51.566Z"
   },
   {
    "duration": 69,
    "start_time": "2023-01-31T20:06:25.786Z"
   },
   {
    "duration": 988,
    "start_time": "2023-01-31T20:06:34.562Z"
   },
   {
    "duration": 11,
    "start_time": "2023-01-31T20:09:49.439Z"
   },
   {
    "duration": 12,
    "start_time": "2023-01-31T20:10:03.847Z"
   },
   {
    "duration": 325,
    "start_time": "2023-01-31T20:10:23.241Z"
   },
   {
    "duration": 26,
    "start_time": "2023-01-31T20:11:17.734Z"
   },
   {
    "duration": 15,
    "start_time": "2023-01-31T20:15:40.317Z"
   },
   {
    "duration": 321,
    "start_time": "2023-01-31T20:16:07.720Z"
   },
   {
    "duration": 765,
    "start_time": "2023-01-31T20:16:31.839Z"
   },
   {
    "duration": 16,
    "start_time": "2023-01-31T20:16:32.606Z"
   },
   {
    "duration": 1880,
    "start_time": "2023-01-31T20:16:32.624Z"
   },
   {
    "duration": 70,
    "start_time": "2023-01-31T20:16:34.506Z"
   },
   {
    "duration": 17,
    "start_time": "2023-01-31T20:16:34.577Z"
   },
   {
    "duration": 24,
    "start_time": "2023-01-31T20:16:34.595Z"
   },
   {
    "duration": 12,
    "start_time": "2023-01-31T20:16:34.620Z"
   },
   {
    "duration": 176,
    "start_time": "2023-01-31T20:16:34.634Z"
   },
   {
    "duration": 6,
    "start_time": "2023-01-31T20:16:34.812Z"
   },
   {
    "duration": 7,
    "start_time": "2023-01-31T20:16:34.821Z"
   },
   {
    "duration": 325,
    "start_time": "2023-01-31T20:16:34.830Z"
   },
   {
    "duration": 23,
    "start_time": "2023-01-31T20:16:35.157Z"
   },
   {
    "duration": 129,
    "start_time": "2023-01-31T20:16:35.181Z"
   },
   {
    "duration": 126,
    "start_time": "2023-01-31T20:16:35.311Z"
   },
   {
    "duration": 111,
    "start_time": "2023-01-31T20:16:35.439Z"
   },
   {
    "duration": 264,
    "start_time": "2023-01-31T20:16:35.552Z"
   },
   {
    "duration": 165,
    "start_time": "2023-01-31T20:16:35.818Z"
   },
   {
    "duration": 156,
    "start_time": "2023-01-31T20:16:35.985Z"
   },
   {
    "duration": 153,
    "start_time": "2023-01-31T20:16:36.143Z"
   },
   {
    "duration": 117,
    "start_time": "2023-01-31T20:16:36.298Z"
   },
   {
    "duration": 176,
    "start_time": "2023-01-31T20:16:36.417Z"
   },
   {
    "duration": 189,
    "start_time": "2023-01-31T20:16:36.594Z"
   },
   {
    "duration": 229,
    "start_time": "2023-01-31T20:16:36.784Z"
   },
   {
    "duration": 272,
    "start_time": "2023-01-31T20:16:37.015Z"
   },
   {
    "duration": 181,
    "start_time": "2023-01-31T20:16:37.289Z"
   },
   {
    "duration": 707,
    "start_time": "2023-01-31T20:17:39.938Z"
   },
   {
    "duration": 14,
    "start_time": "2023-01-31T20:17:40.646Z"
   },
   {
    "duration": 1842,
    "start_time": "2023-01-31T20:17:40.662Z"
   },
   {
    "duration": 69,
    "start_time": "2023-01-31T20:17:42.507Z"
   },
   {
    "duration": 17,
    "start_time": "2023-01-31T20:17:42.577Z"
   },
   {
    "duration": 24,
    "start_time": "2023-01-31T20:17:42.595Z"
   },
   {
    "duration": 27,
    "start_time": "2023-01-31T20:17:42.621Z"
   },
   {
    "duration": 172,
    "start_time": "2023-01-31T20:17:42.649Z"
   },
   {
    "duration": 6,
    "start_time": "2023-01-31T20:17:42.823Z"
   },
   {
    "duration": 10,
    "start_time": "2023-01-31T20:17:42.831Z"
   },
   {
    "duration": 358,
    "start_time": "2023-01-31T20:17:42.842Z"
   },
   {
    "duration": 31,
    "start_time": "2023-01-31T20:17:43.202Z"
   },
   {
    "duration": 139,
    "start_time": "2023-01-31T20:17:43.235Z"
   },
   {
    "duration": 149,
    "start_time": "2023-01-31T20:17:43.376Z"
   },
   {
    "duration": 144,
    "start_time": "2023-01-31T20:17:43.527Z"
   },
   {
    "duration": 290,
    "start_time": "2023-01-31T20:17:43.673Z"
   },
   {
    "duration": 165,
    "start_time": "2023-01-31T20:17:43.964Z"
   },
   {
    "duration": 162,
    "start_time": "2023-01-31T20:17:44.131Z"
   },
   {
    "duration": 153,
    "start_time": "2023-01-31T20:17:44.295Z"
   },
   {
    "duration": 132,
    "start_time": "2023-01-31T20:17:44.450Z"
   },
   {
    "duration": 187,
    "start_time": "2023-01-31T20:17:44.584Z"
   },
   {
    "duration": 201,
    "start_time": "2023-01-31T20:17:44.773Z"
   },
   {
    "duration": 164,
    "start_time": "2023-01-31T20:17:44.975Z"
   },
   {
    "duration": 260,
    "start_time": "2023-01-31T20:17:45.141Z"
   },
   {
    "duration": 188,
    "start_time": "2023-01-31T20:17:45.402Z"
   },
   {
    "duration": 188,
    "start_time": "2023-01-31T20:18:34.862Z"
   },
   {
    "duration": 140,
    "start_time": "2023-01-31T20:18:45.288Z"
   },
   {
    "duration": 312,
    "start_time": "2023-01-31T20:23:37.924Z"
   },
   {
    "duration": 742,
    "start_time": "2023-01-31T20:24:33.191Z"
   },
   {
    "duration": 13,
    "start_time": "2023-01-31T20:24:33.935Z"
   },
   {
    "duration": 1899,
    "start_time": "2023-01-31T20:24:33.949Z"
   },
   {
    "duration": 74,
    "start_time": "2023-01-31T20:24:35.851Z"
   },
   {
    "duration": 18,
    "start_time": "2023-01-31T20:24:35.927Z"
   },
   {
    "duration": 33,
    "start_time": "2023-01-31T20:24:35.947Z"
   },
   {
    "duration": 31,
    "start_time": "2023-01-31T20:24:35.982Z"
   },
   {
    "duration": 197,
    "start_time": "2023-01-31T20:24:36.015Z"
   },
   {
    "duration": 6,
    "start_time": "2023-01-31T20:24:36.213Z"
   },
   {
    "duration": 30,
    "start_time": "2023-01-31T20:24:36.221Z"
   },
   {
    "duration": 348,
    "start_time": "2023-01-31T20:24:36.253Z"
   },
   {
    "duration": 27,
    "start_time": "2023-01-31T20:24:36.603Z"
   },
   {
    "duration": 142,
    "start_time": "2023-01-31T20:24:36.632Z"
   },
   {
    "duration": 156,
    "start_time": "2023-01-31T20:24:36.775Z"
   },
   {
    "duration": 161,
    "start_time": "2023-01-31T20:24:36.933Z"
   },
   {
    "duration": 293,
    "start_time": "2023-01-31T20:24:37.096Z"
   },
   {
    "duration": 173,
    "start_time": "2023-01-31T20:24:37.390Z"
   },
   {
    "duration": 161,
    "start_time": "2023-01-31T20:24:37.565Z"
   },
   {
    "duration": 240,
    "start_time": "2023-01-31T20:24:37.728Z"
   },
   {
    "duration": 129,
    "start_time": "2023-01-31T20:24:37.969Z"
   },
   {
    "duration": 172,
    "start_time": "2023-01-31T20:24:38.109Z"
   },
   {
    "duration": 200,
    "start_time": "2023-01-31T20:24:38.282Z"
   },
   {
    "duration": 180,
    "start_time": "2023-01-31T20:24:38.483Z"
   },
   {
    "duration": 272,
    "start_time": "2023-01-31T20:24:38.665Z"
   },
   {
    "duration": 142,
    "start_time": "2023-01-31T20:24:38.939Z"
   },
   {
    "duration": 14,
    "start_time": "2023-01-31T20:25:07.740Z"
   },
   {
    "duration": 340,
    "start_time": "2023-01-31T20:27:56.618Z"
   },
   {
    "duration": 26,
    "start_time": "2023-01-31T20:28:08.010Z"
   },
   {
    "duration": 766,
    "start_time": "2023-01-31T20:29:53.998Z"
   },
   {
    "duration": 16,
    "start_time": "2023-01-31T20:29:54.766Z"
   },
   {
    "duration": 1840,
    "start_time": "2023-01-31T20:29:54.784Z"
   },
   {
    "duration": 67,
    "start_time": "2023-01-31T20:29:56.626Z"
   },
   {
    "duration": 16,
    "start_time": "2023-01-31T20:29:56.695Z"
   },
   {
    "duration": 12,
    "start_time": "2023-01-31T20:29:56.713Z"
   },
   {
    "duration": 12,
    "start_time": "2023-01-31T20:29:56.726Z"
   },
   {
    "duration": 215,
    "start_time": "2023-01-31T20:29:56.739Z"
   },
   {
    "duration": 9,
    "start_time": "2023-01-31T20:29:56.956Z"
   },
   {
    "duration": 18,
    "start_time": "2023-01-31T20:29:56.968Z"
   },
   {
    "duration": 382,
    "start_time": "2023-01-31T20:29:56.989Z"
   },
   {
    "duration": 25,
    "start_time": "2023-01-31T20:29:57.372Z"
   },
   {
    "duration": 131,
    "start_time": "2023-01-31T20:29:57.398Z"
   },
   {
    "duration": 127,
    "start_time": "2023-01-31T20:29:57.530Z"
   },
   {
    "duration": 117,
    "start_time": "2023-01-31T20:29:57.658Z"
   },
   {
    "duration": 298,
    "start_time": "2023-01-31T20:29:57.777Z"
   },
   {
    "duration": 171,
    "start_time": "2023-01-31T20:29:58.076Z"
   },
   {
    "duration": 162,
    "start_time": "2023-01-31T20:29:58.248Z"
   },
   {
    "duration": 147,
    "start_time": "2023-01-31T20:29:58.411Z"
   },
   {
    "duration": 116,
    "start_time": "2023-01-31T20:29:58.560Z"
   },
   {
    "duration": 177,
    "start_time": "2023-01-31T20:29:58.678Z"
   },
   {
    "duration": 187,
    "start_time": "2023-01-31T20:29:58.856Z"
   },
   {
    "duration": 165,
    "start_time": "2023-01-31T20:29:59.044Z"
   },
   {
    "duration": 260,
    "start_time": "2023-01-31T20:29:59.211Z"
   },
   {
    "duration": 127,
    "start_time": "2023-01-31T20:29:59.473Z"
   },
   {
    "duration": 88,
    "start_time": "2023-01-31T20:30:40.670Z"
   },
   {
    "duration": 309,
    "start_time": "2023-01-31T20:32:20.248Z"
   },
   {
    "duration": 311,
    "start_time": "2023-01-31T20:32:49.217Z"
   },
   {
    "duration": 375,
    "start_time": "2023-01-31T20:32:58.928Z"
   },
   {
    "duration": 19,
    "start_time": "2023-01-31T20:35:00.108Z"
   },
   {
    "duration": 18,
    "start_time": "2023-01-31T20:35:11.296Z"
   },
   {
    "duration": 330,
    "start_time": "2023-01-31T20:35:18.306Z"
   },
   {
    "duration": 306,
    "start_time": "2023-01-31T20:35:35.561Z"
   },
   {
    "duration": 309,
    "start_time": "2023-01-31T20:36:34.770Z"
   },
   {
    "duration": 369,
    "start_time": "2023-01-31T20:36:48.000Z"
   },
   {
    "duration": 314,
    "start_time": "2023-01-31T20:36:58.897Z"
   },
   {
    "duration": 335,
    "start_time": "2023-01-31T20:37:22.272Z"
   },
   {
    "duration": 323,
    "start_time": "2023-01-31T20:41:41.687Z"
   },
   {
    "duration": 777,
    "start_time": "2023-01-31T20:41:50.717Z"
   },
   {
    "duration": 14,
    "start_time": "2023-01-31T20:41:51.496Z"
   },
   {
    "duration": 1821,
    "start_time": "2023-01-31T20:41:51.511Z"
   },
   {
    "duration": 69,
    "start_time": "2023-01-31T20:41:53.335Z"
   },
   {
    "duration": 17,
    "start_time": "2023-01-31T20:41:53.406Z"
   },
   {
    "duration": 22,
    "start_time": "2023-01-31T20:41:53.424Z"
   },
   {
    "duration": 16,
    "start_time": "2023-01-31T20:41:53.448Z"
   },
   {
    "duration": 177,
    "start_time": "2023-01-31T20:41:53.466Z"
   },
   {
    "duration": 7,
    "start_time": "2023-01-31T20:41:53.644Z"
   },
   {
    "duration": 20,
    "start_time": "2023-01-31T20:41:53.652Z"
   },
   {
    "duration": 338,
    "start_time": "2023-01-31T20:41:53.673Z"
   },
   {
    "duration": 23,
    "start_time": "2023-01-31T20:41:54.013Z"
   },
   {
    "duration": 128,
    "start_time": "2023-01-31T20:41:54.037Z"
   },
   {
    "duration": 123,
    "start_time": "2023-01-31T20:41:54.167Z"
   },
   {
    "duration": 113,
    "start_time": "2023-01-31T20:41:54.291Z"
   },
   {
    "duration": 273,
    "start_time": "2023-01-31T20:41:54.410Z"
   },
   {
    "duration": 163,
    "start_time": "2023-01-31T20:41:54.684Z"
   },
   {
    "duration": 150,
    "start_time": "2023-01-31T20:41:54.848Z"
   },
   {
    "duration": 156,
    "start_time": "2023-01-31T20:41:54.999Z"
   },
   {
    "duration": 117,
    "start_time": "2023-01-31T20:41:55.156Z"
   },
   {
    "duration": 183,
    "start_time": "2023-01-31T20:41:55.275Z"
   },
   {
    "duration": 182,
    "start_time": "2023-01-31T20:41:55.459Z"
   },
   {
    "duration": 162,
    "start_time": "2023-01-31T20:41:55.643Z"
   },
   {
    "duration": 264,
    "start_time": "2023-01-31T20:41:55.810Z"
   },
   {
    "duration": 117,
    "start_time": "2023-01-31T20:41:56.075Z"
   },
   {
    "duration": 335,
    "start_time": "2023-01-31T20:42:19.224Z"
   },
   {
    "duration": 325,
    "start_time": "2023-01-31T20:42:37.790Z"
   },
   {
    "duration": 762,
    "start_time": "2023-01-31T20:42:45.168Z"
   },
   {
    "duration": 16,
    "start_time": "2023-01-31T20:42:45.932Z"
   },
   {
    "duration": 1930,
    "start_time": "2023-01-31T20:42:45.950Z"
   },
   {
    "duration": 67,
    "start_time": "2023-01-31T20:42:47.882Z"
   },
   {
    "duration": 17,
    "start_time": "2023-01-31T20:42:47.951Z"
   },
   {
    "duration": 25,
    "start_time": "2023-01-31T20:42:47.969Z"
   },
   {
    "duration": 27,
    "start_time": "2023-01-31T20:42:47.995Z"
   },
   {
    "duration": 179,
    "start_time": "2023-01-31T20:42:48.024Z"
   },
   {
    "duration": 8,
    "start_time": "2023-01-31T20:42:48.205Z"
   },
   {
    "duration": 26,
    "start_time": "2023-01-31T20:42:48.215Z"
   },
   {
    "duration": 343,
    "start_time": "2023-01-31T20:42:48.242Z"
   },
   {
    "duration": 30,
    "start_time": "2023-01-31T20:42:48.587Z"
   },
   {
    "duration": 143,
    "start_time": "2023-01-31T20:42:48.618Z"
   },
   {
    "duration": 123,
    "start_time": "2023-01-31T20:42:48.763Z"
   },
   {
    "duration": 123,
    "start_time": "2023-01-31T20:42:48.888Z"
   },
   {
    "duration": 293,
    "start_time": "2023-01-31T20:42:49.013Z"
   },
   {
    "duration": 172,
    "start_time": "2023-01-31T20:42:49.308Z"
   },
   {
    "duration": 180,
    "start_time": "2023-01-31T20:42:49.481Z"
   },
   {
    "duration": 151,
    "start_time": "2023-01-31T20:42:49.662Z"
   },
   {
    "duration": 117,
    "start_time": "2023-01-31T20:42:49.814Z"
   },
   {
    "duration": 183,
    "start_time": "2023-01-31T20:42:49.933Z"
   },
   {
    "duration": 198,
    "start_time": "2023-01-31T20:42:50.118Z"
   },
   {
    "duration": 164,
    "start_time": "2023-01-31T20:42:50.318Z"
   },
   {
    "duration": 266,
    "start_time": "2023-01-31T20:42:50.484Z"
   },
   {
    "duration": 137,
    "start_time": "2023-01-31T20:42:50.752Z"
   },
   {
    "duration": 719,
    "start_time": "2023-01-31T20:43:13.251Z"
   },
   {
    "duration": 21,
    "start_time": "2023-01-31T20:43:13.972Z"
   },
   {
    "duration": 1817,
    "start_time": "2023-01-31T20:43:13.995Z"
   },
   {
    "duration": 70,
    "start_time": "2023-01-31T20:43:15.814Z"
   },
   {
    "duration": 28,
    "start_time": "2023-01-31T20:43:15.885Z"
   },
   {
    "duration": 12,
    "start_time": "2023-01-31T20:43:15.914Z"
   },
   {
    "duration": 12,
    "start_time": "2023-01-31T20:43:15.927Z"
   },
   {
    "duration": 189,
    "start_time": "2023-01-31T20:43:15.941Z"
   },
   {
    "duration": 6,
    "start_time": "2023-01-31T20:43:16.132Z"
   },
   {
    "duration": 7,
    "start_time": "2023-01-31T20:43:16.141Z"
   },
   {
    "duration": 340,
    "start_time": "2023-01-31T20:43:16.150Z"
   },
   {
    "duration": 28,
    "start_time": "2023-01-31T20:43:16.492Z"
   },
   {
    "duration": 128,
    "start_time": "2023-01-31T20:43:16.521Z"
   },
   {
    "duration": 118,
    "start_time": "2023-01-31T20:43:16.650Z"
   },
   {
    "duration": 111,
    "start_time": "2023-01-31T20:43:16.770Z"
   },
   {
    "duration": 308,
    "start_time": "2023-01-31T20:43:16.883Z"
   },
   {
    "duration": 168,
    "start_time": "2023-01-31T20:43:17.192Z"
   },
   {
    "duration": 174,
    "start_time": "2023-01-31T20:43:17.362Z"
   },
   {
    "duration": 168,
    "start_time": "2023-01-31T20:43:17.538Z"
   },
   {
    "duration": 120,
    "start_time": "2023-01-31T20:43:17.709Z"
   },
   {
    "duration": 186,
    "start_time": "2023-01-31T20:43:17.830Z"
   },
   {
    "duration": 200,
    "start_time": "2023-01-31T20:43:18.018Z"
   },
   {
    "duration": 166,
    "start_time": "2023-01-31T20:43:18.219Z"
   },
   {
    "duration": 263,
    "start_time": "2023-01-31T20:43:18.386Z"
   },
   {
    "duration": 129,
    "start_time": "2023-01-31T20:43:18.651Z"
   },
   {
    "duration": 363,
    "start_time": "2023-01-31T20:43:36.647Z"
   },
   {
    "duration": 784,
    "start_time": "2023-01-31T20:43:53.670Z"
   },
   {
    "duration": 15,
    "start_time": "2023-01-31T20:43:54.455Z"
   },
   {
    "duration": 1849,
    "start_time": "2023-01-31T20:43:54.471Z"
   },
   {
    "duration": 68,
    "start_time": "2023-01-31T20:43:56.322Z"
   },
   {
    "duration": 19,
    "start_time": "2023-01-31T20:43:56.393Z"
   },
   {
    "duration": 11,
    "start_time": "2023-01-31T20:43:56.414Z"
   },
   {
    "duration": 12,
    "start_time": "2023-01-31T20:43:56.426Z"
   },
   {
    "duration": 187,
    "start_time": "2023-01-31T20:43:56.439Z"
   },
   {
    "duration": 6,
    "start_time": "2023-01-31T20:43:56.628Z"
   },
   {
    "duration": 8,
    "start_time": "2023-01-31T20:43:56.636Z"
   },
   {
    "duration": 377,
    "start_time": "2023-01-31T20:43:56.645Z"
   },
   {
    "duration": 25,
    "start_time": "2023-01-31T20:43:57.023Z"
   },
   {
    "duration": 138,
    "start_time": "2023-01-31T20:43:57.050Z"
   },
   {
    "duration": 139,
    "start_time": "2023-01-31T20:43:57.190Z"
   },
   {
    "duration": 120,
    "start_time": "2023-01-31T20:43:57.331Z"
   },
   {
    "duration": 287,
    "start_time": "2023-01-31T20:43:57.453Z"
   },
   {
    "duration": 176,
    "start_time": "2023-01-31T20:43:57.741Z"
   },
   {
    "duration": 164,
    "start_time": "2023-01-31T20:43:57.918Z"
   },
   {
    "duration": 164,
    "start_time": "2023-01-31T20:43:58.084Z"
   },
   {
    "duration": 130,
    "start_time": "2023-01-31T20:43:58.250Z"
   },
   {
    "duration": 187,
    "start_time": "2023-01-31T20:43:58.382Z"
   },
   {
    "duration": 213,
    "start_time": "2023-01-31T20:43:58.571Z"
   },
   {
    "duration": 174,
    "start_time": "2023-01-31T20:43:58.785Z"
   },
   {
    "duration": 268,
    "start_time": "2023-01-31T20:43:58.961Z"
   },
   {
    "duration": 141,
    "start_time": "2023-01-31T20:43:59.231Z"
   },
   {
    "duration": 96,
    "start_time": "2023-01-31T20:45:36.807Z"
   },
   {
    "duration": 366,
    "start_time": "2023-01-31T20:45:46.615Z"
   },
   {
    "duration": 315,
    "start_time": "2023-01-31T20:46:27.575Z"
   },
   {
    "duration": 763,
    "start_time": "2023-01-31T20:46:37.891Z"
   },
   {
    "duration": 14,
    "start_time": "2023-01-31T20:46:38.656Z"
   },
   {
    "duration": 1813,
    "start_time": "2023-01-31T20:46:38.671Z"
   },
   {
    "duration": 68,
    "start_time": "2023-01-31T20:46:40.486Z"
   },
   {
    "duration": 18,
    "start_time": "2023-01-31T20:46:40.556Z"
   },
   {
    "duration": 13,
    "start_time": "2023-01-31T20:46:40.576Z"
   },
   {
    "duration": 29,
    "start_time": "2023-01-31T20:46:40.591Z"
   },
   {
    "duration": 188,
    "start_time": "2023-01-31T20:46:40.622Z"
   },
   {
    "duration": 8,
    "start_time": "2023-01-31T20:46:40.811Z"
   },
   {
    "duration": 8,
    "start_time": "2023-01-31T20:46:40.822Z"
   },
   {
    "duration": 353,
    "start_time": "2023-01-31T20:46:40.831Z"
   },
   {
    "duration": 31,
    "start_time": "2023-01-31T20:46:41.186Z"
   },
   {
    "duration": 142,
    "start_time": "2023-01-31T20:46:41.219Z"
   },
   {
    "duration": 127,
    "start_time": "2023-01-31T20:46:41.363Z"
   },
   {
    "duration": 109,
    "start_time": "2023-01-31T20:46:41.491Z"
   },
   {
    "duration": 268,
    "start_time": "2023-01-31T20:46:41.610Z"
   },
   {
    "duration": 160,
    "start_time": "2023-01-31T20:46:41.880Z"
   },
   {
    "duration": 156,
    "start_time": "2023-01-31T20:46:42.041Z"
   },
   {
    "duration": 153,
    "start_time": "2023-01-31T20:46:42.199Z"
   },
   {
    "duration": 123,
    "start_time": "2023-01-31T20:46:42.353Z"
   },
   {
    "duration": 179,
    "start_time": "2023-01-31T20:46:42.477Z"
   },
   {
    "duration": 189,
    "start_time": "2023-01-31T20:46:42.658Z"
   },
   {
    "duration": 176,
    "start_time": "2023-01-31T20:46:42.848Z"
   },
   {
    "duration": 279,
    "start_time": "2023-01-31T20:46:43.027Z"
   },
   {
    "duration": 159,
    "start_time": "2023-01-31T20:46:43.310Z"
   },
   {
    "duration": 332,
    "start_time": "2023-01-31T20:47:54.381Z"
   },
   {
    "duration": 744,
    "start_time": "2023-01-31T20:48:06.046Z"
   },
   {
    "duration": 22,
    "start_time": "2023-01-31T20:48:06.794Z"
   },
   {
    "duration": 1874,
    "start_time": "2023-01-31T20:48:06.818Z"
   },
   {
    "duration": 93,
    "start_time": "2023-01-31T20:48:08.695Z"
   },
   {
    "duration": 25,
    "start_time": "2023-01-31T20:48:08.790Z"
   },
   {
    "duration": 28,
    "start_time": "2023-01-31T20:48:08.817Z"
   },
   {
    "duration": 40,
    "start_time": "2023-01-31T20:48:08.847Z"
   },
   {
    "duration": 227,
    "start_time": "2023-01-31T20:48:08.889Z"
   },
   {
    "duration": 8,
    "start_time": "2023-01-31T20:48:09.117Z"
   },
   {
    "duration": 34,
    "start_time": "2023-01-31T20:48:09.129Z"
   },
   {
    "duration": 361,
    "start_time": "2023-01-31T20:48:09.165Z"
   },
   {
    "duration": 36,
    "start_time": "2023-01-31T20:48:09.528Z"
   },
   {
    "duration": 233,
    "start_time": "2023-01-31T20:48:09.566Z"
   },
   {
    "duration": 176,
    "start_time": "2023-01-31T20:48:09.801Z"
   },
   {
    "duration": 117,
    "start_time": "2023-01-31T20:48:09.978Z"
   },
   {
    "duration": 352,
    "start_time": "2023-01-31T20:48:10.097Z"
   },
   {
    "duration": 182,
    "start_time": "2023-01-31T20:48:10.450Z"
   },
   {
    "duration": 177,
    "start_time": "2023-01-31T20:48:10.634Z"
   },
   {
    "duration": 164,
    "start_time": "2023-01-31T20:48:10.813Z"
   },
   {
    "duration": 120,
    "start_time": "2023-01-31T20:48:10.979Z"
   },
   {
    "duration": 202,
    "start_time": "2023-01-31T20:48:11.101Z"
   },
   {
    "duration": 204,
    "start_time": "2023-01-31T20:48:11.310Z"
   },
   {
    "duration": 170,
    "start_time": "2023-01-31T20:48:11.516Z"
   },
   {
    "duration": 278,
    "start_time": "2023-01-31T20:48:11.688Z"
   },
   {
    "duration": 147,
    "start_time": "2023-01-31T20:48:11.968Z"
   },
   {
    "duration": 318,
    "start_time": "2023-01-31T20:51:23.496Z"
   },
   {
    "duration": 776,
    "start_time": "2023-01-31T20:51:30.176Z"
   },
   {
    "duration": 13,
    "start_time": "2023-01-31T20:51:30.954Z"
   },
   {
    "duration": 1835,
    "start_time": "2023-01-31T20:51:30.969Z"
   },
   {
    "duration": 67,
    "start_time": "2023-01-31T20:51:32.806Z"
   },
   {
    "duration": 22,
    "start_time": "2023-01-31T20:51:32.875Z"
   },
   {
    "duration": 75,
    "start_time": "2023-01-31T20:51:32.909Z"
   },
   {
    "duration": 20,
    "start_time": "2023-01-31T20:51:32.985Z"
   },
   {
    "duration": 202,
    "start_time": "2023-01-31T20:51:33.006Z"
   },
   {
    "duration": 6,
    "start_time": "2023-01-31T20:51:33.210Z"
   },
   {
    "duration": 7,
    "start_time": "2023-01-31T20:51:33.219Z"
   },
   {
    "duration": 332,
    "start_time": "2023-01-31T20:51:33.227Z"
   },
   {
    "duration": 23,
    "start_time": "2023-01-31T20:51:33.561Z"
   },
   {
    "duration": 126,
    "start_time": "2023-01-31T20:51:33.585Z"
   },
   {
    "duration": 128,
    "start_time": "2023-01-31T20:51:33.713Z"
   },
   {
    "duration": 112,
    "start_time": "2023-01-31T20:51:33.843Z"
   },
   {
    "duration": 274,
    "start_time": "2023-01-31T20:51:33.957Z"
   },
   {
    "duration": 155,
    "start_time": "2023-01-31T20:51:34.232Z"
   },
   {
    "duration": 153,
    "start_time": "2023-01-31T20:51:34.389Z"
   },
   {
    "duration": 149,
    "start_time": "2023-01-31T20:51:34.544Z"
   },
   {
    "duration": 122,
    "start_time": "2023-01-31T20:51:34.694Z"
   },
   {
    "duration": 177,
    "start_time": "2023-01-31T20:51:34.817Z"
   },
   {
    "duration": 200,
    "start_time": "2023-01-31T20:51:34.995Z"
   },
   {
    "duration": 164,
    "start_time": "2023-01-31T20:51:35.196Z"
   },
   {
    "duration": 260,
    "start_time": "2023-01-31T20:51:35.362Z"
   },
   {
    "duration": 137,
    "start_time": "2023-01-31T20:51:35.624Z"
   },
   {
    "duration": 323,
    "start_time": "2023-01-31T20:51:51.272Z"
   },
   {
    "duration": 323,
    "start_time": "2023-01-31T20:52:12.340Z"
   },
   {
    "duration": 723,
    "start_time": "2023-01-31T20:52:19.040Z"
   },
   {
    "duration": 15,
    "start_time": "2023-01-31T20:52:19.765Z"
   },
   {
    "duration": 1810,
    "start_time": "2023-01-31T20:52:19.782Z"
   },
   {
    "duration": 67,
    "start_time": "2023-01-31T20:52:21.594Z"
   },
   {
    "duration": 16,
    "start_time": "2023-01-31T20:52:21.663Z"
   },
   {
    "duration": 29,
    "start_time": "2023-01-31T20:52:21.681Z"
   },
   {
    "duration": 23,
    "start_time": "2023-01-31T20:52:21.712Z"
   },
   {
    "duration": 186,
    "start_time": "2023-01-31T20:52:21.737Z"
   },
   {
    "duration": 6,
    "start_time": "2023-01-31T20:52:21.925Z"
   },
   {
    "duration": 26,
    "start_time": "2023-01-31T20:52:21.933Z"
   },
   {
    "duration": 379,
    "start_time": "2023-01-31T20:52:21.960Z"
   },
   {
    "duration": 23,
    "start_time": "2023-01-31T20:52:22.340Z"
   },
   {
    "duration": 130,
    "start_time": "2023-01-31T20:52:22.365Z"
   },
   {
    "duration": 132,
    "start_time": "2023-01-31T20:52:22.497Z"
   },
   {
    "duration": 115,
    "start_time": "2023-01-31T20:52:22.631Z"
   },
   {
    "duration": 288,
    "start_time": "2023-01-31T20:52:22.748Z"
   },
   {
    "duration": 176,
    "start_time": "2023-01-31T20:52:23.038Z"
   },
   {
    "duration": 150,
    "start_time": "2023-01-31T20:52:23.216Z"
   },
   {
    "duration": 153,
    "start_time": "2023-01-31T20:52:23.368Z"
   },
   {
    "duration": 117,
    "start_time": "2023-01-31T20:52:23.523Z"
   },
   {
    "duration": 186,
    "start_time": "2023-01-31T20:52:23.641Z"
   },
   {
    "duration": 191,
    "start_time": "2023-01-31T20:52:23.828Z"
   },
   {
    "duration": 175,
    "start_time": "2023-01-31T20:52:24.022Z"
   },
   {
    "duration": 280,
    "start_time": "2023-01-31T20:52:24.199Z"
   },
   {
    "duration": 147,
    "start_time": "2023-01-31T20:52:24.481Z"
   },
   {
    "duration": 86,
    "start_time": "2023-01-31T20:53:05.205Z"
   },
   {
    "duration": 15,
    "start_time": "2023-01-31T20:53:20.292Z"
   },
   {
    "duration": 21,
    "start_time": "2023-01-31T20:53:26.324Z"
   },
   {
    "duration": 326,
    "start_time": "2023-01-31T20:53:48.630Z"
   },
   {
    "duration": 761,
    "start_time": "2023-01-31T20:53:54.992Z"
   },
   {
    "duration": 14,
    "start_time": "2023-01-31T20:53:55.755Z"
   },
   {
    "duration": 1850,
    "start_time": "2023-01-31T20:53:55.770Z"
   },
   {
    "duration": 67,
    "start_time": "2023-01-31T20:53:57.622Z"
   },
   {
    "duration": 20,
    "start_time": "2023-01-31T20:53:57.690Z"
   },
   {
    "duration": 13,
    "start_time": "2023-01-31T20:53:57.711Z"
   },
   {
    "duration": 14,
    "start_time": "2023-01-31T20:53:57.726Z"
   },
   {
    "duration": 180,
    "start_time": "2023-01-31T20:53:57.741Z"
   },
   {
    "duration": 6,
    "start_time": "2023-01-31T20:53:57.923Z"
   },
   {
    "duration": 17,
    "start_time": "2023-01-31T20:53:57.931Z"
   },
   {
    "duration": 336,
    "start_time": "2023-01-31T20:53:57.950Z"
   },
   {
    "duration": 36,
    "start_time": "2023-01-31T20:53:58.288Z"
   },
   {
    "duration": 124,
    "start_time": "2023-01-31T20:53:58.326Z"
   },
   {
    "duration": 120,
    "start_time": "2023-01-31T20:53:58.451Z"
   },
   {
    "duration": 114,
    "start_time": "2023-01-31T20:53:58.572Z"
   },
   {
    "duration": 284,
    "start_time": "2023-01-31T20:53:58.687Z"
   },
   {
    "duration": 171,
    "start_time": "2023-01-31T20:53:58.973Z"
   },
   {
    "duration": 150,
    "start_time": "2023-01-31T20:53:59.145Z"
   },
   {
    "duration": 163,
    "start_time": "2023-01-31T20:53:59.297Z"
   },
   {
    "duration": 119,
    "start_time": "2023-01-31T20:53:59.461Z"
   },
   {
    "duration": 185,
    "start_time": "2023-01-31T20:53:59.582Z"
   },
   {
    "duration": 195,
    "start_time": "2023-01-31T20:53:59.770Z"
   },
   {
    "duration": 175,
    "start_time": "2023-01-31T20:53:59.966Z"
   },
   {
    "duration": 282,
    "start_time": "2023-01-31T20:54:00.143Z"
   },
   {
    "duration": 140,
    "start_time": "2023-01-31T20:54:00.426Z"
   },
   {
    "duration": 99,
    "start_time": "2023-01-31T20:56:45.226Z"
   },
   {
    "duration": 400,
    "start_time": "2023-01-31T20:56:55.250Z"
   },
   {
    "duration": 726,
    "start_time": "2023-01-31T20:57:04.744Z"
   },
   {
    "duration": 14,
    "start_time": "2023-01-31T20:57:05.471Z"
   },
   {
    "duration": 1893,
    "start_time": "2023-01-31T20:57:05.487Z"
   },
   {
    "duration": 70,
    "start_time": "2023-01-31T20:57:07.382Z"
   },
   {
    "duration": 18,
    "start_time": "2023-01-31T20:57:07.453Z"
   },
   {
    "duration": 12,
    "start_time": "2023-01-31T20:57:07.472Z"
   },
   {
    "duration": 28,
    "start_time": "2023-01-31T20:57:07.485Z"
   },
   {
    "duration": 185,
    "start_time": "2023-01-31T20:57:07.515Z"
   },
   {
    "duration": 11,
    "start_time": "2023-01-31T20:57:07.702Z"
   },
   {
    "duration": 20,
    "start_time": "2023-01-31T20:57:07.715Z"
   },
   {
    "duration": 391,
    "start_time": "2023-01-31T20:57:07.737Z"
   },
   {
    "duration": 25,
    "start_time": "2023-01-31T20:57:08.129Z"
   },
   {
    "duration": 190,
    "start_time": "2023-01-31T20:57:08.156Z"
   },
   {
    "duration": 122,
    "start_time": "2023-01-31T20:57:08.347Z"
   },
   {
    "duration": 108,
    "start_time": "2023-01-31T20:57:08.471Z"
   },
   {
    "duration": 226,
    "start_time": "2023-01-31T20:57:08.581Z"
   },
   {
    "duration": 176,
    "start_time": "2023-01-31T20:57:08.809Z"
   },
   {
    "duration": 155,
    "start_time": "2023-01-31T20:57:08.987Z"
   },
   {
    "duration": 153,
    "start_time": "2023-01-31T20:57:09.144Z"
   },
   {
    "duration": 115,
    "start_time": "2023-01-31T20:57:09.299Z"
   },
   {
    "duration": 180,
    "start_time": "2023-01-31T20:57:09.416Z"
   },
   {
    "duration": 262,
    "start_time": "2023-01-31T20:57:09.597Z"
   },
   {
    "duration": 176,
    "start_time": "2023-01-31T20:57:09.861Z"
   },
   {
    "duration": 182,
    "start_time": "2023-01-31T20:57:10.039Z"
   },
   {
    "duration": 147,
    "start_time": "2023-01-31T20:57:10.223Z"
   },
   {
    "duration": 475,
    "start_time": "2023-01-31T20:58:03.583Z"
   },
   {
    "duration": 149,
    "start_time": "2023-01-31T20:58:10.405Z"
   },
   {
    "duration": 217,
    "start_time": "2023-01-31T20:58:36.917Z"
   },
   {
    "duration": 207,
    "start_time": "2023-01-31T20:58:48.949Z"
   },
   {
    "duration": 177,
    "start_time": "2023-01-31T20:58:58.517Z"
   },
   {
    "duration": 171,
    "start_time": "2023-01-31T20:59:05.182Z"
   },
   {
    "duration": 158,
    "start_time": "2023-01-31T20:59:22.182Z"
   },
   {
    "duration": 163,
    "start_time": "2023-01-31T20:59:31.943Z"
   },
   {
    "duration": 157,
    "start_time": "2023-01-31T20:59:39.623Z"
   },
   {
    "duration": 138,
    "start_time": "2023-01-31T21:02:11.779Z"
   },
   {
    "duration": 94,
    "start_time": "2023-01-31T21:02:46.044Z"
   },
   {
    "duration": 116,
    "start_time": "2023-01-31T21:02:59.765Z"
   },
   {
    "duration": 50,
    "start_time": "2023-02-01T18:49:44.938Z"
   },
   {
    "duration": 1139,
    "start_time": "2023-02-01T18:50:26.044Z"
   },
   {
    "duration": 16,
    "start_time": "2023-02-01T18:50:27.185Z"
   },
   {
    "duration": 2007,
    "start_time": "2023-02-01T18:50:27.202Z"
   },
   {
    "duration": 76,
    "start_time": "2023-02-01T18:50:29.212Z"
   },
   {
    "duration": 19,
    "start_time": "2023-02-01T18:50:29.290Z"
   },
   {
    "duration": 11,
    "start_time": "2023-02-01T18:50:29.311Z"
   },
   {
    "duration": 14,
    "start_time": "2023-02-01T18:50:29.323Z"
   },
   {
    "duration": 181,
    "start_time": "2023-02-01T18:50:29.338Z"
   },
   {
    "duration": 7,
    "start_time": "2023-02-01T18:50:29.521Z"
   },
   {
    "duration": 9,
    "start_time": "2023-02-01T18:50:29.530Z"
   },
   {
    "duration": 384,
    "start_time": "2023-02-01T18:50:29.541Z"
   },
   {
    "duration": 24,
    "start_time": "2023-02-01T18:50:29.926Z"
   },
   {
    "duration": 208,
    "start_time": "2023-02-01T18:50:29.952Z"
   },
   {
    "duration": 140,
    "start_time": "2023-02-01T18:50:30.162Z"
   },
   {
    "duration": 123,
    "start_time": "2023-02-01T18:50:30.304Z"
   },
   {
    "duration": 255,
    "start_time": "2023-02-01T18:50:30.429Z"
   },
   {
    "duration": 180,
    "start_time": "2023-02-01T18:50:30.685Z"
   },
   {
    "duration": 180,
    "start_time": "2023-02-01T18:50:30.866Z"
   },
   {
    "duration": 181,
    "start_time": "2023-02-01T18:50:31.048Z"
   },
   {
    "duration": 132,
    "start_time": "2023-02-01T18:50:31.231Z"
   },
   {
    "duration": 215,
    "start_time": "2023-02-01T18:50:31.365Z"
   },
   {
    "duration": 312,
    "start_time": "2023-02-01T18:50:31.581Z"
   },
   {
    "duration": 183,
    "start_time": "2023-02-01T18:50:31.894Z"
   },
   {
    "duration": 207,
    "start_time": "2023-02-01T18:50:32.079Z"
   },
   {
    "duration": 176,
    "start_time": "2023-02-01T18:50:32.291Z"
   },
   {
    "duration": 137,
    "start_time": "2023-02-01T18:50:32.469Z"
   },
   {
    "duration": 161,
    "start_time": "2023-02-01T18:50:32.608Z"
   },
   {
    "duration": 163,
    "start_time": "2023-02-01T18:53:38.980Z"
   },
   {
    "duration": 166,
    "start_time": "2023-02-01T19:06:01.357Z"
   },
   {
    "duration": 260,
    "start_time": "2023-02-01T19:06:08.249Z"
   },
   {
    "duration": 242,
    "start_time": "2023-02-01T19:08:08.826Z"
   },
   {
    "duration": 71,
    "start_time": "2023-02-01T19:14:14.305Z"
   },
   {
    "duration": 127,
    "start_time": "2023-02-01T19:14:21.716Z"
   },
   {
    "duration": 217,
    "start_time": "2023-02-01T19:16:15.352Z"
   },
   {
    "duration": 236,
    "start_time": "2023-02-01T19:17:14.704Z"
   },
   {
    "duration": 235,
    "start_time": "2023-02-01T19:17:32.453Z"
   },
   {
    "duration": 313,
    "start_time": "2023-02-01T19:19:56.533Z"
   },
   {
    "duration": 230,
    "start_time": "2023-02-01T19:20:35.536Z"
   },
   {
    "duration": 9,
    "start_time": "2023-02-01T19:23:00.677Z"
   },
   {
    "duration": 9,
    "start_time": "2023-02-01T19:23:05.921Z"
   },
   {
    "duration": 221,
    "start_time": "2023-02-01T19:23:10.317Z"
   },
   {
    "duration": 12,
    "start_time": "2023-02-01T19:49:45.883Z"
   },
   {
    "duration": 9,
    "start_time": "2023-02-01T19:51:56.590Z"
   },
   {
    "duration": 14,
    "start_time": "2023-02-01T19:52:07.587Z"
   },
   {
    "duration": 27853,
    "start_time": "2023-02-01T19:52:33.404Z"
   },
   {
    "duration": 713,
    "start_time": "2023-02-01T19:53:12.316Z"
   },
   {
    "duration": 812,
    "start_time": "2023-02-01T19:54:34.093Z"
   },
   {
    "duration": 680,
    "start_time": "2023-02-01T19:55:10.262Z"
   },
   {
    "duration": 746,
    "start_time": "2023-02-01T19:55:20.396Z"
   },
   {
    "duration": 825,
    "start_time": "2023-02-01T19:55:35.814Z"
   },
   {
    "duration": 14,
    "start_time": "2023-02-01T19:55:36.641Z"
   },
   {
    "duration": 2048,
    "start_time": "2023-02-01T19:55:36.657Z"
   },
   {
    "duration": 79,
    "start_time": "2023-02-01T19:55:38.708Z"
   },
   {
    "duration": 18,
    "start_time": "2023-02-01T19:55:38.791Z"
   },
   {
    "duration": 12,
    "start_time": "2023-02-01T19:55:38.811Z"
   },
   {
    "duration": 13,
    "start_time": "2023-02-01T19:55:38.825Z"
   },
   {
    "duration": 198,
    "start_time": "2023-02-01T19:55:38.840Z"
   },
   {
    "duration": 7,
    "start_time": "2023-02-01T19:55:39.040Z"
   },
   {
    "duration": 10,
    "start_time": "2023-02-01T19:55:39.049Z"
   },
   {
    "duration": 396,
    "start_time": "2023-02-01T19:55:39.061Z"
   },
   {
    "duration": 34,
    "start_time": "2023-02-01T19:55:39.459Z"
   },
   {
    "duration": 199,
    "start_time": "2023-02-01T19:55:39.494Z"
   },
   {
    "duration": 136,
    "start_time": "2023-02-01T19:55:39.695Z"
   },
   {
    "duration": 131,
    "start_time": "2023-02-01T19:55:39.833Z"
   },
   {
    "duration": 272,
    "start_time": "2023-02-01T19:55:39.967Z"
   },
   {
    "duration": 187,
    "start_time": "2023-02-01T19:55:40.241Z"
   },
   {
    "duration": 234,
    "start_time": "2023-02-01T19:55:40.430Z"
   },
   {
    "duration": 217,
    "start_time": "2023-02-01T19:55:40.666Z"
   },
   {
    "duration": 138,
    "start_time": "2023-02-01T19:55:40.885Z"
   },
   {
    "duration": 228,
    "start_time": "2023-02-01T19:55:41.025Z"
   },
   {
    "duration": 347,
    "start_time": "2023-02-01T19:55:41.255Z"
   },
   {
    "duration": 203,
    "start_time": "2023-02-01T19:55:41.603Z"
   },
   {
    "duration": 213,
    "start_time": "2023-02-01T19:55:41.808Z"
   },
   {
    "duration": 197,
    "start_time": "2023-02-01T19:55:42.023Z"
   },
   {
    "duration": 150,
    "start_time": "2023-02-01T19:55:42.221Z"
   },
   {
    "duration": 245,
    "start_time": "2023-02-01T19:55:42.373Z"
   },
   {
    "duration": 140,
    "start_time": "2023-02-01T19:55:42.622Z"
   },
   {
    "duration": 776,
    "start_time": "2023-02-01T19:55:42.764Z"
   },
   {
    "duration": 718,
    "start_time": "2023-02-01T19:56:12.091Z"
   },
   {
    "duration": 18,
    "start_time": "2023-02-01T19:56:17.548Z"
   },
   {
    "duration": 13,
    "start_time": "2023-02-01T19:56:52.947Z"
   },
   {
    "duration": 0,
    "start_time": "2023-02-01T19:57:14.610Z"
   },
   {
    "duration": 803,
    "start_time": "2023-02-01T19:57:33.446Z"
   },
   {
    "duration": 806,
    "start_time": "2023-02-01T19:57:58.056Z"
   },
   {
    "duration": 29,
    "start_time": "2023-02-01T19:58:50.178Z"
   },
   {
    "duration": 160,
    "start_time": "2023-02-01T20:03:31.863Z"
   },
   {
    "duration": 886,
    "start_time": "2023-02-01T20:03:57.088Z"
   },
   {
    "duration": 149,
    "start_time": "2023-02-01T20:04:11.850Z"
   },
   {
    "duration": 156,
    "start_time": "2023-02-01T20:05:41.689Z"
   },
   {
    "duration": 160,
    "start_time": "2023-02-01T20:06:59.877Z"
   },
   {
    "duration": 226,
    "start_time": "2023-02-01T20:07:16.189Z"
   },
   {
    "duration": 712,
    "start_time": "2023-02-01T20:07:32.849Z"
   },
   {
    "duration": 189,
    "start_time": "2023-02-01T20:07:46.044Z"
   },
   {
    "duration": 179,
    "start_time": "2023-02-01T20:11:17.089Z"
   },
   {
    "duration": 194,
    "start_time": "2023-02-01T20:14:59.600Z"
   },
   {
    "duration": 31,
    "start_time": "2023-02-01T20:15:53.953Z"
   },
   {
    "duration": 31,
    "start_time": "2023-02-01T20:16:29.461Z"
   },
   {
    "duration": 42,
    "start_time": "2023-02-01T20:16:35.290Z"
   },
   {
    "duration": 33,
    "start_time": "2023-02-01T20:16:52.510Z"
   },
   {
    "duration": 40,
    "start_time": "2023-02-01T20:17:39.013Z"
   },
   {
    "duration": 39,
    "start_time": "2023-02-01T20:18:04.039Z"
   },
   {
    "duration": 4043,
    "start_time": "2023-02-01T20:19:02.174Z"
   },
   {
    "duration": 33,
    "start_time": "2023-02-01T20:22:23.215Z"
   },
   {
    "duration": 4044,
    "start_time": "2023-02-01T20:22:29.605Z"
   },
   {
    "duration": 4101,
    "start_time": "2023-02-01T20:23:00.423Z"
   },
   {
    "duration": 785,
    "start_time": "2023-02-01T20:23:25.571Z"
   },
   {
    "duration": 650,
    "start_time": "2023-02-01T20:25:29.051Z"
   },
   {
    "duration": 635,
    "start_time": "2023-02-01T20:25:41.842Z"
   },
   {
    "duration": 653,
    "start_time": "2023-02-01T20:26:09.748Z"
   },
   {
    "duration": 1078,
    "start_time": "2023-02-01T20:26:44.171Z"
   },
   {
    "duration": 939,
    "start_time": "2023-02-01T20:27:16.722Z"
   },
   {
    "duration": 922,
    "start_time": "2023-02-01T20:27:53.952Z"
   },
   {
    "duration": 987,
    "start_time": "2023-02-01T20:28:19.423Z"
   },
   {
    "duration": 1278,
    "start_time": "2023-02-01T20:33:13.880Z"
   },
   {
    "duration": 146,
    "start_time": "2023-02-01T20:34:11.347Z"
   },
   {
    "duration": 199,
    "start_time": "2023-02-01T20:35:05.860Z"
   },
   {
    "duration": 32200,
    "start_time": "2023-02-01T20:35:35.360Z"
   },
   {
    "duration": 0,
    "start_time": "2023-02-01T20:36:07.612Z"
   },
   {
    "duration": 758,
    "start_time": "2023-02-01T20:36:51.776Z"
   },
   {
    "duration": 41365,
    "start_time": "2023-02-01T20:38:03.533Z"
   },
   {
    "duration": 20,
    "start_time": "2023-02-01T20:42:57.490Z"
   },
   {
    "duration": 21,
    "start_time": "2023-02-01T20:43:32.180Z"
   },
   {
    "duration": 732,
    "start_time": "2023-02-01T20:43:53.702Z"
   },
   {
    "duration": 840,
    "start_time": "2023-02-01T20:45:10.467Z"
   },
   {
    "duration": 722,
    "start_time": "2023-02-01T20:45:21.643Z"
   },
   {
    "duration": 806,
    "start_time": "2023-02-01T20:45:51.753Z"
   },
   {
    "duration": 20,
    "start_time": "2023-02-01T20:46:09.586Z"
   },
   {
    "duration": 854,
    "start_time": "2023-02-01T20:46:57.059Z"
   },
   {
    "duration": 835,
    "start_time": "2023-02-01T20:47:14.883Z"
   },
   {
    "duration": 20,
    "start_time": "2023-02-01T20:47:49.748Z"
   },
   {
    "duration": 20,
    "start_time": "2023-02-01T20:47:58.417Z"
   },
   {
    "duration": 49,
    "start_time": "2023-02-01T20:48:20.185Z"
   },
   {
    "duration": 14,
    "start_time": "2023-02-01T20:48:32.788Z"
   },
   {
    "duration": 14,
    "start_time": "2023-02-01T20:48:45.124Z"
   },
   {
    "duration": 19,
    "start_time": "2023-02-01T20:48:52.726Z"
   },
   {
    "duration": 889,
    "start_time": "2023-02-01T20:49:37.253Z"
   },
   {
    "duration": 774,
    "start_time": "2023-02-01T20:49:58.729Z"
   },
   {
    "duration": 169,
    "start_time": "2023-02-01T20:50:27.585Z"
   },
   {
    "duration": 199,
    "start_time": "2023-02-01T20:50:48.507Z"
   },
   {
    "duration": 206,
    "start_time": "2023-02-01T20:51:25.036Z"
   },
   {
    "duration": 187,
    "start_time": "2023-02-01T20:51:55.023Z"
   },
   {
    "duration": 187,
    "start_time": "2023-02-01T20:52:47.557Z"
   },
   {
    "duration": 186,
    "start_time": "2023-02-01T20:53:40.828Z"
   },
   {
    "duration": 6,
    "start_time": "2023-02-01T20:53:56.086Z"
   },
   {
    "duration": 187,
    "start_time": "2023-02-01T20:53:58.622Z"
   },
   {
    "duration": 911,
    "start_time": "2023-02-01T20:55:11.561Z"
   },
   {
    "duration": 45,
    "start_time": "2023-02-01T20:56:12.685Z"
   },
   {
    "duration": 208,
    "start_time": "2023-02-01T20:56:17.436Z"
   },
   {
    "duration": 218,
    "start_time": "2023-02-01T20:56:58.783Z"
   },
   {
    "duration": 965,
    "start_time": "2023-02-01T20:57:20.003Z"
   },
   {
    "duration": 841,
    "start_time": "2023-02-01T20:57:43.924Z"
   },
   {
    "duration": 187,
    "start_time": "2023-02-01T20:58:27.452Z"
   },
   {
    "duration": 200,
    "start_time": "2023-02-01T20:59:05.392Z"
   },
   {
    "duration": 6,
    "start_time": "2023-02-01T20:59:08.745Z"
   },
   {
    "duration": 5,
    "start_time": "2023-02-01T20:59:12.864Z"
   },
   {
    "duration": 8,
    "start_time": "2023-02-01T20:59:16.221Z"
   },
   {
    "duration": 5,
    "start_time": "2023-02-01T20:59:35.408Z"
   },
   {
    "duration": 242,
    "start_time": "2023-02-01T21:03:20.928Z"
   },
   {
    "duration": 141,
    "start_time": "2023-02-01T21:03:36.219Z"
   },
   {
    "duration": 112,
    "start_time": "2023-02-01T21:03:50.702Z"
   },
   {
    "duration": 127,
    "start_time": "2023-02-01T21:04:05.136Z"
   },
   {
    "duration": 293,
    "start_time": "2023-02-01T21:04:15.489Z"
   },
   {
    "duration": 11,
    "start_time": "2023-02-01T21:04:59.449Z"
   },
   {
    "duration": 10,
    "start_time": "2023-02-01T21:05:03.755Z"
   },
   {
    "duration": 54,
    "start_time": "2023-02-01T21:20:43.484Z"
   },
   {
    "duration": 1049,
    "start_time": "2023-02-01T21:20:55.197Z"
   },
   {
    "duration": 29,
    "start_time": "2023-02-01T21:20:56.251Z"
   },
   {
    "duration": 2179,
    "start_time": "2023-02-01T21:20:56.282Z"
   },
   {
    "duration": 75,
    "start_time": "2023-02-01T21:20:58.463Z"
   },
   {
    "duration": 25,
    "start_time": "2023-02-01T21:20:58.544Z"
   },
   {
    "duration": 13,
    "start_time": "2023-02-01T21:20:58.571Z"
   },
   {
    "duration": 19,
    "start_time": "2023-02-01T21:20:58.585Z"
   },
   {
    "duration": 211,
    "start_time": "2023-02-01T21:20:58.606Z"
   },
   {
    "duration": 9,
    "start_time": "2023-02-01T21:20:58.819Z"
   },
   {
    "duration": 34,
    "start_time": "2023-02-01T21:20:58.839Z"
   },
   {
    "duration": 451,
    "start_time": "2023-02-01T21:20:58.875Z"
   },
   {
    "duration": 34,
    "start_time": "2023-02-01T21:20:59.328Z"
   },
   {
    "duration": 240,
    "start_time": "2023-02-01T21:20:59.364Z"
   },
   {
    "duration": 150,
    "start_time": "2023-02-01T21:20:59.606Z"
   },
   {
    "duration": 145,
    "start_time": "2023-02-01T21:20:59.757Z"
   },
   {
    "duration": 278,
    "start_time": "2023-02-01T21:20:59.904Z"
   },
   {
    "duration": 213,
    "start_time": "2023-02-01T21:21:00.184Z"
   },
   {
    "duration": 194,
    "start_time": "2023-02-01T21:21:00.399Z"
   },
   {
    "duration": 184,
    "start_time": "2023-02-01T21:21:00.594Z"
   },
   {
    "duration": 141,
    "start_time": "2023-02-01T21:21:00.780Z"
   },
   {
    "duration": 226,
    "start_time": "2023-02-01T21:21:00.923Z"
   },
   {
    "duration": 335,
    "start_time": "2023-02-01T21:21:01.151Z"
   },
   {
    "duration": 212,
    "start_time": "2023-02-01T21:21:01.488Z"
   },
   {
    "duration": 248,
    "start_time": "2023-02-01T21:21:01.702Z"
   },
   {
    "duration": 182,
    "start_time": "2023-02-01T21:21:01.954Z"
   },
   {
    "duration": 154,
    "start_time": "2023-02-01T21:21:02.139Z"
   },
   {
    "duration": 251,
    "start_time": "2023-02-01T21:21:02.294Z"
   },
   {
    "duration": 155,
    "start_time": "2023-02-01T21:21:02.553Z"
   },
   {
    "duration": 321,
    "start_time": "2023-02-01T21:21:02.709Z"
   },
   {
    "duration": 88,
    "start_time": "2023-02-01T21:21:03.032Z"
   },
   {
    "duration": 0,
    "start_time": "2023-02-01T21:21:03.123Z"
   },
   {
    "duration": 0,
    "start_time": "2023-02-01T21:21:03.126Z"
   },
   {
    "duration": 0,
    "start_time": "2023-02-01T21:21:03.127Z"
   },
   {
    "duration": 0,
    "start_time": "2023-02-01T21:21:03.140Z"
   },
   {
    "duration": 8,
    "start_time": "2023-02-01T21:21:41.454Z"
   },
   {
    "duration": 151,
    "start_time": "2023-02-01T21:21:58.037Z"
   },
   {
    "duration": 10,
    "start_time": "2023-02-01T21:22:02.552Z"
   },
   {
    "duration": 148,
    "start_time": "2023-02-01T21:22:08.214Z"
   },
   {
    "duration": 265,
    "start_time": "2023-02-01T21:22:20.998Z"
   },
   {
    "duration": 44,
    "start_time": "2023-02-01T21:22:35.125Z"
   },
   {
    "duration": 16,
    "start_time": "2023-02-01T21:22:41.119Z"
   },
   {
    "duration": 138,
    "start_time": "2023-02-01T21:24:42.308Z"
   },
   {
    "duration": 281,
    "start_time": "2023-02-01T21:27:56.602Z"
   },
   {
    "duration": 912,
    "start_time": "2023-02-02T18:53:23.390Z"
   },
   {
    "duration": 14,
    "start_time": "2023-02-02T18:53:24.304Z"
   },
   {
    "duration": 1870,
    "start_time": "2023-02-02T18:53:24.320Z"
   },
   {
    "duration": 73,
    "start_time": "2023-02-02T18:53:26.193Z"
   },
   {
    "duration": 18,
    "start_time": "2023-02-02T18:53:26.268Z"
   },
   {
    "duration": 11,
    "start_time": "2023-02-02T18:53:26.288Z"
   },
   {
    "duration": 17,
    "start_time": "2023-02-02T18:53:26.301Z"
   },
   {
    "duration": 206,
    "start_time": "2023-02-02T18:53:26.319Z"
   },
   {
    "duration": 7,
    "start_time": "2023-02-02T18:53:26.527Z"
   },
   {
    "duration": 23,
    "start_time": "2023-02-02T18:53:26.536Z"
   },
   {
    "duration": 369,
    "start_time": "2023-02-02T18:53:26.560Z"
   },
   {
    "duration": 29,
    "start_time": "2023-02-02T18:53:26.931Z"
   },
   {
    "duration": 194,
    "start_time": "2023-02-02T18:53:26.962Z"
   },
   {
    "duration": 8,
    "start_time": "2023-02-02T18:53:27.158Z"
   },
   {
    "duration": 134,
    "start_time": "2023-02-02T18:53:27.168Z"
   },
   {
    "duration": 120,
    "start_time": "2023-02-02T18:53:27.303Z"
   },
   {
    "duration": 307,
    "start_time": "2023-02-02T18:53:27.425Z"
   },
   {
    "duration": 183,
    "start_time": "2023-02-02T18:53:27.734Z"
   },
   {
    "duration": 174,
    "start_time": "2023-02-02T18:53:27.919Z"
   },
   {
    "duration": 168,
    "start_time": "2023-02-02T18:53:28.094Z"
   },
   {
    "duration": 121,
    "start_time": "2023-02-02T18:53:28.264Z"
   },
   {
    "duration": 201,
    "start_time": "2023-02-02T18:53:28.387Z"
   },
   {
    "duration": 296,
    "start_time": "2023-02-02T18:53:28.589Z"
   },
   {
    "duration": 175,
    "start_time": "2023-02-02T18:53:28.886Z"
   },
   {
    "duration": 205,
    "start_time": "2023-02-02T18:53:29.063Z"
   },
   {
    "duration": 153,
    "start_time": "2023-02-02T18:53:29.270Z"
   },
   {
    "duration": 138,
    "start_time": "2023-02-02T18:53:29.425Z"
   },
   {
    "duration": 317,
    "start_time": "2023-02-02T18:53:29.567Z"
   },
   {
    "duration": 128,
    "start_time": "2023-02-02T18:53:29.886Z"
   },
   {
    "duration": 287,
    "start_time": "2023-02-02T18:53:30.016Z"
   },
   {
    "duration": 12,
    "start_time": "2023-02-02T18:53:30.305Z"
   },
   {
    "duration": 28,
    "start_time": "2023-02-02T18:53:30.318Z"
   },
   {
    "duration": 23,
    "start_time": "2023-02-02T18:53:30.348Z"
   },
   {
    "duration": 1285,
    "start_time": "2023-02-02T18:53:30.372Z"
   },
   {
    "duration": 0,
    "start_time": "2023-02-02T18:53:31.659Z"
   },
   {
    "duration": 14,
    "start_time": "2023-02-02T18:59:22.655Z"
   },
   {
    "duration": 28,
    "start_time": "2023-02-02T19:03:47.616Z"
   },
   {
    "duration": 194,
    "start_time": "2023-02-02T19:07:58.348Z"
   },
   {
    "duration": 195,
    "start_time": "2023-02-02T19:08:47.488Z"
   },
   {
    "duration": 228,
    "start_time": "2023-02-02T19:09:00.920Z"
   },
   {
    "duration": 305,
    "start_time": "2023-02-02T19:09:52.276Z"
   },
   {
    "duration": 270,
    "start_time": "2023-02-02T19:10:16.269Z"
   },
   {
    "duration": 275,
    "start_time": "2023-02-02T19:11:19.099Z"
   },
   {
    "duration": 7,
    "start_time": "2023-02-02T19:12:15.944Z"
   },
   {
    "duration": 6,
    "start_time": "2023-02-02T19:12:42.049Z"
   },
   {
    "duration": 5,
    "start_time": "2023-02-02T19:12:55.482Z"
   },
   {
    "duration": 6,
    "start_time": "2023-02-02T19:12:57.794Z"
   },
   {
    "duration": 5,
    "start_time": "2023-02-02T19:13:03.961Z"
   },
   {
    "duration": 66,
    "start_time": "2023-02-02T19:13:18.241Z"
   },
   {
    "duration": 318,
    "start_time": "2023-02-02T19:13:25.713Z"
   },
   {
    "duration": 258,
    "start_time": "2023-02-02T19:13:43.906Z"
   },
   {
    "duration": 292,
    "start_time": "2023-02-02T19:20:18.951Z"
   },
   {
    "duration": 286,
    "start_time": "2023-02-02T19:20:26.352Z"
   },
   {
    "duration": 293,
    "start_time": "2023-02-02T19:20:52.314Z"
   },
   {
    "duration": 296,
    "start_time": "2023-02-02T19:21:01.098Z"
   },
   {
    "duration": 272,
    "start_time": "2023-02-02T19:21:10.770Z"
   },
   {
    "duration": 426,
    "start_time": "2023-02-02T19:21:27.442Z"
   },
   {
    "duration": 285,
    "start_time": "2023-02-02T19:22:26.230Z"
   },
   {
    "duration": 70,
    "start_time": "2023-02-02T19:23:33.543Z"
   },
   {
    "duration": 274,
    "start_time": "2023-02-02T19:23:48.905Z"
   },
   {
    "duration": 299,
    "start_time": "2023-02-02T19:24:16.886Z"
   },
   {
    "duration": 266,
    "start_time": "2023-02-02T19:24:29.905Z"
   },
   {
    "duration": 6,
    "start_time": "2023-02-02T19:24:34.292Z"
   },
   {
    "duration": 6,
    "start_time": "2023-02-02T19:24:37.843Z"
   },
   {
    "duration": 5,
    "start_time": "2023-02-02T19:24:40.548Z"
   },
   {
    "duration": 251,
    "start_time": "2023-02-02T19:25:17.804Z"
   },
   {
    "duration": 5,
    "start_time": "2023-02-02T19:25:52.265Z"
   },
   {
    "duration": 227,
    "start_time": "2023-02-02T19:27:12.867Z"
   },
   {
    "duration": 198,
    "start_time": "2023-02-02T19:27:44.766Z"
   },
   {
    "duration": 214,
    "start_time": "2023-02-02T19:28:55.641Z"
   },
   {
    "duration": 193,
    "start_time": "2023-02-02T19:29:20.239Z"
   },
   {
    "duration": 742,
    "start_time": "2023-02-02T19:29:27.858Z"
   },
   {
    "duration": 14,
    "start_time": "2023-02-02T19:29:28.602Z"
   },
   {
    "duration": 1937,
    "start_time": "2023-02-02T19:29:28.617Z"
   },
   {
    "duration": 71,
    "start_time": "2023-02-02T19:29:30.556Z"
   },
   {
    "duration": 35,
    "start_time": "2023-02-02T19:29:30.629Z"
   },
   {
    "duration": 26,
    "start_time": "2023-02-02T19:29:30.665Z"
   },
   {
    "duration": 46,
    "start_time": "2023-02-02T19:29:30.693Z"
   },
   {
    "duration": 212,
    "start_time": "2023-02-02T19:29:30.741Z"
   },
   {
    "duration": 6,
    "start_time": "2023-02-02T19:29:30.955Z"
   },
   {
    "duration": 27,
    "start_time": "2023-02-02T19:29:30.963Z"
   },
   {
    "duration": 381,
    "start_time": "2023-02-02T19:29:30.992Z"
   },
   {
    "duration": 24,
    "start_time": "2023-02-02T19:29:31.375Z"
   },
   {
    "duration": 217,
    "start_time": "2023-02-02T19:29:31.401Z"
   },
   {
    "duration": 10,
    "start_time": "2023-02-02T19:29:31.619Z"
   },
   {
    "duration": 140,
    "start_time": "2023-02-02T19:29:31.631Z"
   },
   {
    "duration": 132,
    "start_time": "2023-02-02T19:29:31.773Z"
   },
   {
    "duration": 242,
    "start_time": "2023-02-02T19:29:31.907Z"
   },
   {
    "duration": 179,
    "start_time": "2023-02-02T19:29:32.153Z"
   },
   {
    "duration": 161,
    "start_time": "2023-02-02T19:29:32.333Z"
   },
   {
    "duration": 169,
    "start_time": "2023-02-02T19:29:32.496Z"
   },
   {
    "duration": 133,
    "start_time": "2023-02-02T19:29:32.667Z"
   },
   {
    "duration": 202,
    "start_time": "2023-02-02T19:29:32.801Z"
   },
   {
    "duration": 319,
    "start_time": "2023-02-02T19:29:33.005Z"
   },
   {
    "duration": 185,
    "start_time": "2023-02-02T19:29:33.326Z"
   },
   {
    "duration": 205,
    "start_time": "2023-02-02T19:29:33.513Z"
   },
   {
    "duration": 208,
    "start_time": "2023-02-02T19:29:33.720Z"
   },
   {
    "duration": 144,
    "start_time": "2023-02-02T19:29:33.930Z"
   },
   {
    "duration": 338,
    "start_time": "2023-02-02T19:29:34.077Z"
   },
   {
    "duration": 183,
    "start_time": "2023-02-02T19:29:34.417Z"
   },
   {
    "duration": 90,
    "start_time": "2023-02-02T19:29:34.602Z"
   },
   {
    "duration": 0,
    "start_time": "2023-02-02T19:29:34.694Z"
   },
   {
    "duration": 0,
    "start_time": "2023-02-02T19:29:34.696Z"
   },
   {
    "duration": 0,
    "start_time": "2023-02-02T19:29:34.697Z"
   },
   {
    "duration": 1,
    "start_time": "2023-02-02T19:29:34.698Z"
   },
   {
    "duration": 0,
    "start_time": "2023-02-02T19:29:34.700Z"
   },
   {
    "duration": 263,
    "start_time": "2023-02-02T19:31:20.515Z"
   },
   {
    "duration": 200,
    "start_time": "2023-02-02T19:31:39.371Z"
   },
   {
    "duration": 208,
    "start_time": "2023-02-02T19:31:48.709Z"
   },
   {
    "duration": 6,
    "start_time": "2023-02-02T19:32:01.043Z"
   },
   {
    "duration": 5,
    "start_time": "2023-02-02T19:32:01.852Z"
   },
   {
    "duration": 6,
    "start_time": "2023-02-02T19:32:02.594Z"
   },
   {
    "duration": 26,
    "start_time": "2023-02-02T19:33:21.520Z"
   },
   {
    "duration": 205,
    "start_time": "2023-02-02T19:33:36.195Z"
   },
   {
    "duration": 201,
    "start_time": "2023-02-02T19:36:41.119Z"
   },
   {
    "duration": 189,
    "start_time": "2023-02-02T19:36:47.726Z"
   },
   {
    "duration": 188,
    "start_time": "2023-02-02T19:36:54.755Z"
   },
   {
    "duration": 161,
    "start_time": "2023-02-02T19:42:06.520Z"
   },
   {
    "duration": 152,
    "start_time": "2023-02-02T19:42:15.584Z"
   },
   {
    "duration": 111,
    "start_time": "2023-02-02T19:42:23.072Z"
   },
   {
    "duration": 159,
    "start_time": "2023-02-02T19:43:11.531Z"
   },
   {
    "duration": 141,
    "start_time": "2023-02-02T19:43:41.281Z"
   },
   {
    "duration": 231,
    "start_time": "2023-02-02T19:43:49.715Z"
   },
   {
    "duration": 157,
    "start_time": "2023-02-02T19:43:58.803Z"
   },
   {
    "duration": 137,
    "start_time": "2023-02-02T19:45:03.997Z"
   },
   {
    "duration": 72,
    "start_time": "2023-02-02T19:48:09.108Z"
   },
   {
    "duration": 70,
    "start_time": "2023-02-02T19:48:30.760Z"
   },
   {
    "duration": 68,
    "start_time": "2023-02-02T19:48:41.162Z"
   },
   {
    "duration": 69,
    "start_time": "2023-02-02T19:49:02.222Z"
   },
   {
    "duration": 23,
    "start_time": "2023-02-02T19:49:24.235Z"
   },
   {
    "duration": 22,
    "start_time": "2023-02-02T19:49:40.973Z"
   },
   {
    "duration": 20,
    "start_time": "2023-02-02T19:50:09.313Z"
   },
   {
    "duration": 13,
    "start_time": "2023-02-02T19:50:18.399Z"
   },
   {
    "duration": 22,
    "start_time": "2023-02-02T19:50:46.505Z"
   },
   {
    "duration": 163,
    "start_time": "2023-02-02T19:50:51.841Z"
   },
   {
    "duration": 171,
    "start_time": "2023-02-02T19:51:08.752Z"
   },
   {
    "duration": 190,
    "start_time": "2023-02-02T19:51:16.604Z"
   },
   {
    "duration": 187,
    "start_time": "2023-02-02T19:52:02.228Z"
   },
   {
    "duration": 201,
    "start_time": "2023-02-02T19:52:16.381Z"
   },
   {
    "duration": 195,
    "start_time": "2023-02-02T19:52:27.057Z"
   },
   {
    "duration": 7,
    "start_time": "2023-02-02T19:52:39.808Z"
   },
   {
    "duration": 177,
    "start_time": "2023-02-02T19:54:56.463Z"
   },
   {
    "duration": 195,
    "start_time": "2023-02-02T19:55:12.252Z"
   },
   {
    "duration": 83,
    "start_time": "2023-02-02T19:57:10.169Z"
   },
   {
    "duration": 31,
    "start_time": "2023-02-02T19:57:20.477Z"
   },
   {
    "duration": 28,
    "start_time": "2023-02-02T19:57:35.667Z"
   },
   {
    "duration": 36,
    "start_time": "2023-02-02T19:57:50.542Z"
   },
   {
    "duration": 268,
    "start_time": "2023-02-02T19:58:02.854Z"
   },
   {
    "duration": 196,
    "start_time": "2023-02-02T19:58:27.082Z"
   },
   {
    "duration": 188,
    "start_time": "2023-02-02T19:58:40.903Z"
   },
   {
    "duration": 26,
    "start_time": "2023-02-02T19:59:04.423Z"
   },
   {
    "duration": 42,
    "start_time": "2023-02-02T19:59:28.370Z"
   },
   {
    "duration": 43,
    "start_time": "2023-02-02T19:59:56.877Z"
   },
   {
    "duration": 46,
    "start_time": "2023-02-02T20:01:10.772Z"
   },
   {
    "duration": 48,
    "start_time": "2023-02-02T20:01:34.041Z"
   },
   {
    "duration": 37,
    "start_time": "2023-02-02T20:02:02.511Z"
   },
   {
    "duration": 38,
    "start_time": "2023-02-02T20:02:34.623Z"
   },
   {
    "duration": 52,
    "start_time": "2023-02-02T20:02:48.297Z"
   },
   {
    "duration": 763,
    "start_time": "2023-02-02T20:02:54.479Z"
   },
   {
    "duration": 20,
    "start_time": "2023-02-02T20:02:55.253Z"
   },
   {
    "duration": 2059,
    "start_time": "2023-02-02T20:02:55.275Z"
   },
   {
    "duration": 75,
    "start_time": "2023-02-02T20:02:57.336Z"
   },
   {
    "duration": 18,
    "start_time": "2023-02-02T20:02:57.413Z"
   },
   {
    "duration": 26,
    "start_time": "2023-02-02T20:02:57.433Z"
   },
   {
    "duration": 13,
    "start_time": "2023-02-02T20:02:57.461Z"
   },
   {
    "duration": 229,
    "start_time": "2023-02-02T20:02:57.475Z"
   },
   {
    "duration": 9,
    "start_time": "2023-02-02T20:02:57.707Z"
   },
   {
    "duration": 12,
    "start_time": "2023-02-02T20:02:57.720Z"
   },
   {
    "duration": 414,
    "start_time": "2023-02-02T20:02:57.734Z"
   },
   {
    "duration": 23,
    "start_time": "2023-02-02T20:02:58.150Z"
   },
   {
    "duration": 210,
    "start_time": "2023-02-02T20:02:58.175Z"
   },
   {
    "duration": 12,
    "start_time": "2023-02-02T20:02:58.387Z"
   },
   {
    "duration": 130,
    "start_time": "2023-02-02T20:02:58.401Z"
   },
   {
    "duration": 135,
    "start_time": "2023-02-02T20:02:58.532Z"
   },
   {
    "duration": 258,
    "start_time": "2023-02-02T20:02:58.668Z"
   },
   {
    "duration": 180,
    "start_time": "2023-02-02T20:02:58.928Z"
   },
   {
    "duration": 145,
    "start_time": "2023-02-02T20:02:59.110Z"
   },
   {
    "duration": 166,
    "start_time": "2023-02-02T20:02:59.256Z"
   },
   {
    "duration": 200,
    "start_time": "2023-02-02T20:02:59.424Z"
   },
   {
    "duration": 129,
    "start_time": "2023-02-02T20:02:59.626Z"
   },
   {
    "duration": 210,
    "start_time": "2023-02-02T20:02:59.757Z"
   },
   {
    "duration": 311,
    "start_time": "2023-02-02T20:02:59.969Z"
   },
   {
    "duration": 186,
    "start_time": "2023-02-02T20:03:00.282Z"
   },
   {
    "duration": 219,
    "start_time": "2023-02-02T20:03:00.470Z"
   },
   {
    "duration": 176,
    "start_time": "2023-02-02T20:03:00.691Z"
   },
   {
    "duration": 137,
    "start_time": "2023-02-02T20:03:00.872Z"
   },
   {
    "duration": 247,
    "start_time": "2023-02-02T20:03:01.011Z"
   },
   {
    "duration": 140,
    "start_time": "2023-02-02T20:03:01.261Z"
   },
   {
    "duration": 331,
    "start_time": "2023-02-02T20:03:01.403Z"
   },
   {
    "duration": 6,
    "start_time": "2023-02-02T20:03:01.736Z"
   },
   {
    "duration": 35,
    "start_time": "2023-02-02T20:03:01.753Z"
   },
   {
    "duration": 40,
    "start_time": "2023-02-02T20:03:01.790Z"
   },
   {
    "duration": 119,
    "start_time": "2023-02-02T20:03:01.832Z"
   },
   {
    "duration": 0,
    "start_time": "2023-02-02T20:03:01.953Z"
   },
   {
    "duration": 0,
    "start_time": "2023-02-02T20:03:01.955Z"
   },
   {
    "duration": 50,
    "start_time": "2023-02-02T20:04:02.537Z"
   },
   {
    "duration": 41,
    "start_time": "2023-02-02T20:04:08.250Z"
   },
   {
    "duration": 23,
    "start_time": "2023-02-02T20:04:31.884Z"
   },
   {
    "duration": 160,
    "start_time": "2023-02-02T20:04:45.954Z"
   },
   {
    "duration": 163,
    "start_time": "2023-02-02T20:05:17.799Z"
   },
   {
    "duration": 308,
    "start_time": "2023-02-02T20:05:28.848Z"
   },
   {
    "duration": 342,
    "start_time": "2023-02-02T20:06:17.372Z"
   },
   {
    "duration": 160,
    "start_time": "2023-02-02T20:06:49.407Z"
   },
   {
    "duration": 156,
    "start_time": "2023-02-02T20:07:10.635Z"
   },
   {
    "duration": 1104,
    "start_time": "2023-02-02T20:07:38.406Z"
   },
   {
    "duration": 1139,
    "start_time": "2023-02-02T20:08:02.215Z"
   },
   {
    "duration": 217,
    "start_time": "2023-02-02T20:08:48.210Z"
   },
   {
    "duration": 5,
    "start_time": "2023-02-02T20:08:52.133Z"
   },
   {
    "duration": 5,
    "start_time": "2023-02-02T20:08:54.372Z"
   },
   {
    "duration": 6,
    "start_time": "2023-02-02T20:08:56.365Z"
   },
   {
    "duration": 225,
    "start_time": "2023-02-02T20:09:05.049Z"
   },
   {
    "duration": 209,
    "start_time": "2023-02-02T20:09:24.113Z"
   },
   {
    "duration": 155,
    "start_time": "2023-02-02T20:09:56.891Z"
   },
   {
    "duration": 781,
    "start_time": "2023-02-02T20:10:03.079Z"
   },
   {
    "duration": 17,
    "start_time": "2023-02-02T20:10:03.862Z"
   },
   {
    "duration": 1917,
    "start_time": "2023-02-02T20:10:03.881Z"
   },
   {
    "duration": 72,
    "start_time": "2023-02-02T20:10:05.800Z"
   },
   {
    "duration": 18,
    "start_time": "2023-02-02T20:10:05.873Z"
   },
   {
    "duration": 10,
    "start_time": "2023-02-02T20:10:05.892Z"
   },
   {
    "duration": 35,
    "start_time": "2023-02-02T20:10:05.904Z"
   },
   {
    "duration": 175,
    "start_time": "2023-02-02T20:10:05.941Z"
   },
   {
    "duration": 7,
    "start_time": "2023-02-02T20:10:06.118Z"
   },
   {
    "duration": 12,
    "start_time": "2023-02-02T20:10:06.127Z"
   },
   {
    "duration": 373,
    "start_time": "2023-02-02T20:10:06.140Z"
   },
   {
    "duration": 25,
    "start_time": "2023-02-02T20:10:06.514Z"
   },
   {
    "duration": 212,
    "start_time": "2023-02-02T20:10:06.541Z"
   },
   {
    "duration": 10,
    "start_time": "2023-02-02T20:10:06.755Z"
   },
   {
    "duration": 149,
    "start_time": "2023-02-02T20:10:06.766Z"
   },
   {
    "duration": 114,
    "start_time": "2023-02-02T20:10:06.917Z"
   },
   {
    "duration": 241,
    "start_time": "2023-02-02T20:10:07.032Z"
   },
   {
    "duration": 154,
    "start_time": "2023-02-02T20:10:07.275Z"
   },
   {
    "duration": 189,
    "start_time": "2023-02-02T20:10:07.431Z"
   },
   {
    "duration": 217,
    "start_time": "2023-02-02T20:10:07.623Z"
   },
   {
    "duration": 157,
    "start_time": "2023-02-02T20:10:07.842Z"
   },
   {
    "duration": 137,
    "start_time": "2023-02-02T20:10:08.001Z"
   },
   {
    "duration": 199,
    "start_time": "2023-02-02T20:10:08.140Z"
   },
   {
    "duration": 280,
    "start_time": "2023-02-02T20:10:08.341Z"
   },
   {
    "duration": 188,
    "start_time": "2023-02-02T20:10:08.622Z"
   },
   {
    "duration": 192,
    "start_time": "2023-02-02T20:10:08.812Z"
   },
   {
    "duration": 167,
    "start_time": "2023-02-02T20:10:09.005Z"
   },
   {
    "duration": 122,
    "start_time": "2023-02-02T20:10:09.175Z"
   },
   {
    "duration": 224,
    "start_time": "2023-02-02T20:10:09.299Z"
   },
   {
    "duration": 152,
    "start_time": "2023-02-02T20:10:09.525Z"
   },
   {
    "duration": 310,
    "start_time": "2023-02-02T20:10:09.678Z"
   },
   {
    "duration": 6,
    "start_time": "2023-02-02T20:10:09.989Z"
   },
   {
    "duration": 16,
    "start_time": "2023-02-02T20:10:09.996Z"
   },
   {
    "duration": 7,
    "start_time": "2023-02-02T20:10:10.013Z"
   },
   {
    "duration": 161,
    "start_time": "2023-02-02T20:10:10.021Z"
   },
   {
    "duration": 5,
    "start_time": "2023-02-02T20:10:10.184Z"
   },
   {
    "duration": 71,
    "start_time": "2023-02-02T20:10:10.190Z"
   },
   {
    "duration": 150,
    "start_time": "2023-02-02T20:11:19.725Z"
   },
   {
    "duration": 170,
    "start_time": "2023-02-02T20:11:42.452Z"
   },
   {
    "duration": 156,
    "start_time": "2023-02-02T20:11:52.750Z"
   },
   {
    "duration": 148,
    "start_time": "2023-02-02T20:12:14.311Z"
   },
   {
    "duration": 140,
    "start_time": "2023-02-02T20:12:32.293Z"
   },
   {
    "duration": 132,
    "start_time": "2023-02-02T20:13:24.497Z"
   },
   {
    "duration": 1272,
    "start_time": "2023-02-02T20:13:45.603Z"
   },
   {
    "duration": 5,
    "start_time": "2023-02-02T20:14:03.442Z"
   },
   {
    "duration": 11,
    "start_time": "2023-02-02T20:14:27.405Z"
   },
   {
    "duration": 13,
    "start_time": "2023-02-02T20:14:38.381Z"
   },
   {
    "duration": 5,
    "start_time": "2023-02-02T20:14:46.296Z"
   },
   {
    "duration": 12,
    "start_time": "2023-02-02T20:17:05.788Z"
   },
   {
    "duration": 150,
    "start_time": "2023-02-02T20:17:51.470Z"
   },
   {
    "duration": 219,
    "start_time": "2023-02-02T20:18:56.455Z"
   },
   {
    "duration": 139,
    "start_time": "2023-02-02T20:19:41.550Z"
   },
   {
    "duration": 135,
    "start_time": "2023-02-02T20:20:22.658Z"
   },
   {
    "duration": 70,
    "start_time": "2023-02-02T20:24:57.820Z"
   },
   {
    "duration": 437,
    "start_time": "2023-02-02T20:25:58.283Z"
   },
   {
    "duration": 412,
    "start_time": "2023-02-02T20:26:17.269Z"
   },
   {
    "duration": 24,
    "start_time": "2023-02-02T20:26:20.242Z"
   },
   {
    "duration": 739,
    "start_time": "2023-02-02T20:26:51.470Z"
   },
   {
    "duration": 15,
    "start_time": "2023-02-02T20:26:52.210Z"
   },
   {
    "duration": 1999,
    "start_time": "2023-02-02T20:26:52.227Z"
   },
   {
    "duration": 72,
    "start_time": "2023-02-02T20:26:54.228Z"
   },
   {
    "duration": 18,
    "start_time": "2023-02-02T20:26:54.302Z"
   },
   {
    "duration": 10,
    "start_time": "2023-02-02T20:26:54.322Z"
   },
   {
    "duration": 28,
    "start_time": "2023-02-02T20:26:54.334Z"
   },
   {
    "duration": 172,
    "start_time": "2023-02-02T20:26:54.363Z"
   },
   {
    "duration": 16,
    "start_time": "2023-02-02T20:26:54.537Z"
   },
   {
    "duration": 9,
    "start_time": "2023-02-02T20:26:54.555Z"
   },
   {
    "duration": 369,
    "start_time": "2023-02-02T20:26:54.566Z"
   },
   {
    "duration": 30,
    "start_time": "2023-02-02T20:26:54.936Z"
   },
   {
    "duration": 216,
    "start_time": "2023-02-02T20:26:54.968Z"
   },
   {
    "duration": 9,
    "start_time": "2023-02-02T20:26:55.187Z"
   },
   {
    "duration": 138,
    "start_time": "2023-02-02T20:26:55.198Z"
   },
   {
    "duration": 123,
    "start_time": "2023-02-02T20:26:55.337Z"
   },
   {
    "duration": 263,
    "start_time": "2023-02-02T20:26:55.461Z"
   },
   {
    "duration": 158,
    "start_time": "2023-02-02T20:26:55.726Z"
   },
   {
    "duration": 150,
    "start_time": "2023-02-02T20:26:55.887Z"
   },
   {
    "duration": 187,
    "start_time": "2023-02-02T20:26:56.039Z"
   },
   {
    "duration": 188,
    "start_time": "2023-02-02T20:26:56.228Z"
   },
   {
    "duration": 137,
    "start_time": "2023-02-02T20:26:56.418Z"
   },
   {
    "duration": 218,
    "start_time": "2023-02-02T20:26:56.556Z"
   },
   {
    "duration": 309,
    "start_time": "2023-02-02T20:26:56.775Z"
   },
   {
    "duration": 205,
    "start_time": "2023-02-02T20:26:57.086Z"
   },
   {
    "duration": 282,
    "start_time": "2023-02-02T20:26:57.292Z"
   },
   {
    "duration": 1213,
    "start_time": "2023-02-02T20:26:57.575Z"
   },
   {
    "duration": 0,
    "start_time": "2023-02-02T20:26:58.789Z"
   },
   {
    "duration": 0,
    "start_time": "2023-02-02T20:26:58.790Z"
   },
   {
    "duration": 0,
    "start_time": "2023-02-02T20:26:58.792Z"
   },
   {
    "duration": 0,
    "start_time": "2023-02-02T20:26:58.792Z"
   },
   {
    "duration": 0,
    "start_time": "2023-02-02T20:26:58.794Z"
   },
   {
    "duration": 0,
    "start_time": "2023-02-02T20:26:58.794Z"
   },
   {
    "duration": 0,
    "start_time": "2023-02-02T20:26:58.796Z"
   },
   {
    "duration": 0,
    "start_time": "2023-02-02T20:26:58.796Z"
   },
   {
    "duration": 0,
    "start_time": "2023-02-02T20:26:58.797Z"
   },
   {
    "duration": 0,
    "start_time": "2023-02-02T20:26:58.799Z"
   },
   {
    "duration": 159,
    "start_time": "2023-02-02T20:27:39.975Z"
   },
   {
    "duration": 128,
    "start_time": "2023-02-02T20:27:56.174Z"
   },
   {
    "duration": 202,
    "start_time": "2023-02-02T20:27:58.974Z"
   },
   {
    "duration": 118,
    "start_time": "2023-02-02T20:28:04.001Z"
   },
   {
    "duration": 316,
    "start_time": "2023-02-02T20:28:07.531Z"
   },
   {
    "duration": 74,
    "start_time": "2023-02-02T20:28:19.286Z"
   },
   {
    "duration": 756,
    "start_time": "2023-02-02T20:28:25.418Z"
   },
   {
    "duration": 15,
    "start_time": "2023-02-02T20:28:26.176Z"
   },
   {
    "duration": 1966,
    "start_time": "2023-02-02T20:28:26.192Z"
   },
   {
    "duration": 68,
    "start_time": "2023-02-02T20:28:28.159Z"
   },
   {
    "duration": 25,
    "start_time": "2023-02-02T20:28:28.229Z"
   },
   {
    "duration": 11,
    "start_time": "2023-02-02T20:28:28.255Z"
   },
   {
    "duration": 17,
    "start_time": "2023-02-02T20:28:28.267Z"
   },
   {
    "duration": 168,
    "start_time": "2023-02-02T20:28:28.285Z"
   },
   {
    "duration": 6,
    "start_time": "2023-02-02T20:28:28.455Z"
   },
   {
    "duration": 8,
    "start_time": "2023-02-02T20:28:28.462Z"
   },
   {
    "duration": 357,
    "start_time": "2023-02-02T20:28:28.471Z"
   },
   {
    "duration": 30,
    "start_time": "2023-02-02T20:28:28.830Z"
   },
   {
    "duration": 177,
    "start_time": "2023-02-02T20:28:28.862Z"
   },
   {
    "duration": 17,
    "start_time": "2023-02-02T20:28:29.041Z"
   },
   {
    "duration": 127,
    "start_time": "2023-02-02T20:28:29.059Z"
   },
   {
    "duration": 114,
    "start_time": "2023-02-02T20:28:29.187Z"
   },
   {
    "duration": 230,
    "start_time": "2023-02-02T20:28:29.302Z"
   },
   {
    "duration": 178,
    "start_time": "2023-02-02T20:28:29.534Z"
   },
   {
    "duration": 166,
    "start_time": "2023-02-02T20:28:29.713Z"
   },
   {
    "duration": 169,
    "start_time": "2023-02-02T20:28:29.880Z"
   },
   {
    "duration": 164,
    "start_time": "2023-02-02T20:28:30.050Z"
   },
   {
    "duration": 119,
    "start_time": "2023-02-02T20:28:30.215Z"
   },
   {
    "duration": 202,
    "start_time": "2023-02-02T20:28:30.336Z"
   },
   {
    "duration": 323,
    "start_time": "2023-02-02T20:28:30.540Z"
   },
   {
    "duration": 194,
    "start_time": "2023-02-02T20:28:30.864Z"
   },
   {
    "duration": 197,
    "start_time": "2023-02-02T20:28:31.059Z"
   },
   {
    "duration": 163,
    "start_time": "2023-02-02T20:28:31.258Z"
   },
   {
    "duration": 134,
    "start_time": "2023-02-02T20:28:31.423Z"
   },
   {
    "duration": 232,
    "start_time": "2023-02-02T20:28:31.559Z"
   },
   {
    "duration": 138,
    "start_time": "2023-02-02T20:28:31.793Z"
   },
   {
    "duration": 295,
    "start_time": "2023-02-02T20:28:31.932Z"
   },
   {
    "duration": 5,
    "start_time": "2023-02-02T20:28:32.228Z"
   },
   {
    "duration": 19,
    "start_time": "2023-02-02T20:28:32.235Z"
   },
   {
    "duration": 6,
    "start_time": "2023-02-02T20:28:32.255Z"
   },
   {
    "duration": 160,
    "start_time": "2023-02-02T20:28:32.262Z"
   },
   {
    "duration": 138,
    "start_time": "2023-02-02T20:28:32.423Z"
   },
   {
    "duration": 74,
    "start_time": "2023-02-02T20:28:32.563Z"
   },
   {
    "duration": 159,
    "start_time": "2023-02-02T20:28:34.603Z"
   },
   {
    "duration": 159,
    "start_time": "2023-02-02T20:30:14.060Z"
   },
   {
    "duration": 179,
    "start_time": "2023-02-02T20:30:24.481Z"
   },
   {
    "duration": 392,
    "start_time": "2023-02-02T20:30:56.217Z"
   },
   {
    "duration": 196,
    "start_time": "2023-02-02T20:31:15.473Z"
   },
   {
    "duration": 150,
    "start_time": "2023-02-02T20:32:21.000Z"
   },
   {
    "duration": 142,
    "start_time": "2023-02-02T20:32:52.331Z"
   },
   {
    "duration": 147,
    "start_time": "2023-02-02T20:33:53.342Z"
   },
   {
    "duration": 172,
    "start_time": "2023-02-02T20:34:26.326Z"
   },
   {
    "duration": 237,
    "start_time": "2023-02-02T20:35:27.403Z"
   },
   {
    "duration": 192,
    "start_time": "2023-02-02T20:35:41.596Z"
   },
   {
    "duration": 161,
    "start_time": "2023-02-02T20:35:58.103Z"
   },
   {
    "duration": 309,
    "start_time": "2023-02-02T20:36:17.377Z"
   },
   {
    "duration": 158,
    "start_time": "2023-02-02T20:38:06.895Z"
   },
   {
    "duration": 160,
    "start_time": "2023-02-02T20:41:57.988Z"
   },
   {
    "duration": 17,
    "start_time": "2023-02-02T20:47:02.231Z"
   },
   {
    "duration": 29,
    "start_time": "2023-02-02T20:47:20.591Z"
   },
   {
    "duration": 45,
    "start_time": "2023-02-02T20:47:56.791Z"
   },
   {
    "duration": 8,
    "start_time": "2023-02-02T20:47:59.523Z"
   },
   {
    "duration": 25,
    "start_time": "2023-02-02T20:48:43.209Z"
   },
   {
    "duration": 1081,
    "start_time": "2023-02-04T05:06:19.385Z"
   },
   {
    "duration": 15,
    "start_time": "2023-02-04T05:06:20.468Z"
   },
   {
    "duration": 2116,
    "start_time": "2023-02-04T05:06:20.484Z"
   },
   {
    "duration": 79,
    "start_time": "2023-02-04T05:06:22.602Z"
   },
   {
    "duration": 19,
    "start_time": "2023-02-04T05:06:22.683Z"
   },
   {
    "duration": 30,
    "start_time": "2023-02-04T05:06:22.704Z"
   },
   {
    "duration": 15,
    "start_time": "2023-02-04T05:06:22.736Z"
   },
   {
    "duration": 210,
    "start_time": "2023-02-04T05:06:22.753Z"
   },
   {
    "duration": 6,
    "start_time": "2023-02-04T05:06:22.965Z"
   },
   {
    "duration": 8,
    "start_time": "2023-02-04T05:06:22.974Z"
   },
   {
    "duration": 411,
    "start_time": "2023-02-04T05:06:22.984Z"
   },
   {
    "duration": 39,
    "start_time": "2023-02-04T05:06:23.396Z"
   },
   {
    "duration": 208,
    "start_time": "2023-02-04T05:06:23.437Z"
   },
   {
    "duration": 9,
    "start_time": "2023-02-04T05:06:23.647Z"
   },
   {
    "duration": 172,
    "start_time": "2023-02-04T05:06:23.658Z"
   },
   {
    "duration": 128,
    "start_time": "2023-02-04T05:06:23.832Z"
   },
   {
    "duration": 295,
    "start_time": "2023-02-04T05:06:23.962Z"
   },
   {
    "duration": 245,
    "start_time": "2023-02-04T05:06:24.260Z"
   },
   {
    "duration": 228,
    "start_time": "2023-02-04T05:06:24.507Z"
   },
   {
    "duration": 203,
    "start_time": "2023-02-04T05:06:24.737Z"
   },
   {
    "duration": 213,
    "start_time": "2023-02-04T05:06:24.942Z"
   },
   {
    "duration": 144,
    "start_time": "2023-02-04T05:06:25.157Z"
   },
   {
    "duration": 217,
    "start_time": "2023-02-04T05:06:25.303Z"
   },
   {
    "duration": 322,
    "start_time": "2023-02-04T05:06:25.522Z"
   },
   {
    "duration": 204,
    "start_time": "2023-02-04T05:06:25.846Z"
   },
   {
    "duration": 233,
    "start_time": "2023-02-04T05:06:26.051Z"
   },
   {
    "duration": 194,
    "start_time": "2023-02-04T05:06:26.285Z"
   },
   {
    "duration": 160,
    "start_time": "2023-02-04T05:06:26.483Z"
   },
   {
    "duration": 261,
    "start_time": "2023-02-04T05:06:26.645Z"
   },
   {
    "duration": 150,
    "start_time": "2023-02-04T05:06:26.907Z"
   },
   {
    "duration": 341,
    "start_time": "2023-02-04T05:06:27.059Z"
   },
   {
    "duration": 6,
    "start_time": "2023-02-04T05:06:27.402Z"
   },
   {
    "duration": 24,
    "start_time": "2023-02-04T05:06:27.409Z"
   },
   {
    "duration": 7,
    "start_time": "2023-02-04T05:06:27.434Z"
   },
   {
    "duration": 175,
    "start_time": "2023-02-04T05:06:27.443Z"
   },
   {
    "duration": 155,
    "start_time": "2023-02-04T05:06:27.629Z"
   },
   {
    "duration": 196,
    "start_time": "2023-02-04T05:06:27.785Z"
   },
   {
    "duration": 181,
    "start_time": "2023-02-04T05:06:27.983Z"
   },
   {
    "duration": 180,
    "start_time": "2023-02-04T05:06:28.166Z"
   },
   {
    "duration": 29,
    "start_time": "2023-02-04T05:06:28.348Z"
   },
   {
    "duration": 7,
    "start_time": "2023-02-04T05:06:28.379Z"
   },
   {
    "duration": 19,
    "start_time": "2023-02-04T05:09:45.043Z"
   },
   {
    "duration": 7,
    "start_time": "2023-02-04T05:10:25.945Z"
   },
   {
    "duration": 19,
    "start_time": "2023-02-04T05:10:44.816Z"
   },
   {
    "duration": 101,
    "start_time": "2023-02-04T05:10:58.037Z"
   },
   {
    "duration": 9,
    "start_time": "2023-02-04T05:11:12.861Z"
   },
   {
    "duration": 793,
    "start_time": "2023-02-06T06:01:31.100Z"
   },
   {
    "duration": 185,
    "start_time": "2023-02-06T06:01:31.895Z"
   },
   {
    "duration": 14,
    "start_time": "2023-02-06T06:01:32.082Z"
   },
   {
    "duration": 1999,
    "start_time": "2023-02-06T06:01:32.098Z"
   },
   {
    "duration": 107,
    "start_time": "2023-02-06T06:01:34.098Z"
   },
   {
    "duration": 20,
    "start_time": "2023-02-06T06:01:34.207Z"
   },
   {
    "duration": 22,
    "start_time": "2023-02-06T06:01:34.229Z"
   },
   {
    "duration": 26,
    "start_time": "2023-02-06T06:01:34.254Z"
   },
   {
    "duration": 209,
    "start_time": "2023-02-06T06:01:34.283Z"
   },
   {
    "duration": 14,
    "start_time": "2023-02-06T06:01:34.494Z"
   },
   {
    "duration": 8,
    "start_time": "2023-02-06T06:01:34.510Z"
   },
   {
    "duration": 10,
    "start_time": "2023-02-06T06:01:34.520Z"
   },
   {
    "duration": 448,
    "start_time": "2023-02-06T06:01:34.531Z"
   },
   {
    "duration": 32,
    "start_time": "2023-02-06T06:01:34.980Z"
   },
   {
    "duration": 130,
    "start_time": "2023-02-06T06:01:35.014Z"
   },
   {
    "duration": 10,
    "start_time": "2023-02-06T06:01:35.146Z"
   },
   {
    "duration": 136,
    "start_time": "2023-02-06T06:01:35.158Z"
   },
   {
    "duration": 134,
    "start_time": "2023-02-06T06:01:35.295Z"
   },
   {
    "duration": 230,
    "start_time": "2023-02-06T06:01:35.431Z"
   },
   {
    "duration": 152,
    "start_time": "2023-02-06T06:01:35.662Z"
   },
   {
    "duration": 148,
    "start_time": "2023-02-06T06:01:35.815Z"
   },
   {
    "duration": 166,
    "start_time": "2023-02-06T06:01:35.964Z"
   },
   {
    "duration": 165,
    "start_time": "2023-02-06T06:01:36.132Z"
   },
   {
    "duration": 124,
    "start_time": "2023-02-06T06:01:36.299Z"
   },
   {
    "duration": 276,
    "start_time": "2023-02-06T06:01:36.424Z"
   },
   {
    "duration": 213,
    "start_time": "2023-02-06T06:01:36.703Z"
   },
   {
    "duration": 182,
    "start_time": "2023-02-06T06:01:36.917Z"
   },
   {
    "duration": 227,
    "start_time": "2023-02-06T06:01:37.102Z"
   },
   {
    "duration": 168,
    "start_time": "2023-02-06T06:01:37.330Z"
   },
   {
    "duration": 125,
    "start_time": "2023-02-06T06:01:37.503Z"
   },
   {
    "duration": 297,
    "start_time": "2023-02-06T06:01:37.630Z"
   },
   {
    "duration": 145,
    "start_time": "2023-02-06T06:01:37.929Z"
   },
   {
    "duration": 253,
    "start_time": "2023-02-06T06:01:38.076Z"
   },
   {
    "duration": 1194,
    "start_time": "2023-02-06T06:01:38.331Z"
   },
   {
    "duration": 0,
    "start_time": "2023-02-06T06:01:39.526Z"
   },
   {
    "duration": 1,
    "start_time": "2023-02-06T06:01:39.527Z"
   },
   {
    "duration": 0,
    "start_time": "2023-02-06T06:01:39.528Z"
   },
   {
    "duration": 0,
    "start_time": "2023-02-06T06:01:39.529Z"
   },
   {
    "duration": 0,
    "start_time": "2023-02-06T06:01:39.530Z"
   },
   {
    "duration": 0,
    "start_time": "2023-02-06T06:01:39.531Z"
   },
   {
    "duration": 0,
    "start_time": "2023-02-06T06:01:39.533Z"
   },
   {
    "duration": 0,
    "start_time": "2023-02-06T06:01:39.534Z"
   },
   {
    "duration": 0,
    "start_time": "2023-02-06T06:01:39.535Z"
   },
   {
    "duration": 254,
    "start_time": "2023-02-06T06:25:29.102Z"
   },
   {
    "duration": 212,
    "start_time": "2023-02-06T06:25:42.253Z"
   },
   {
    "duration": 234,
    "start_time": "2023-02-06T06:26:00.941Z"
   },
   {
    "duration": 124,
    "start_time": "2023-02-06T06:26:22.077Z"
   },
   {
    "duration": 121,
    "start_time": "2023-02-06T06:26:35.604Z"
   },
   {
    "duration": 72,
    "start_time": "2023-02-06T18:41:00.727Z"
   },
   {
    "duration": 819,
    "start_time": "2023-02-06T18:41:15.940Z"
   },
   {
    "duration": 199,
    "start_time": "2023-02-06T18:41:18.438Z"
   },
   {
    "duration": 92,
    "start_time": "2023-02-06T18:44:55.300Z"
   },
   {
    "duration": 17,
    "start_time": "2023-02-06T18:45:47.853Z"
   },
   {
    "duration": 14,
    "start_time": "2023-02-06T18:47:29.613Z"
   },
   {
    "duration": 70,
    "start_time": "2023-02-06T18:59:49.077Z"
   },
   {
    "duration": 17,
    "start_time": "2023-02-06T19:00:19.150Z"
   },
   {
    "duration": 16,
    "start_time": "2023-02-06T19:01:17.824Z"
   },
   {
    "duration": 14,
    "start_time": "2023-02-06T19:01:23.688Z"
   },
   {
    "duration": 191,
    "start_time": "2023-02-06T19:01:27.220Z"
   },
   {
    "duration": 17,
    "start_time": "2023-02-06T19:02:15.118Z"
   },
   {
    "duration": 192,
    "start_time": "2023-02-06T19:02:24.458Z"
   },
   {
    "duration": 10,
    "start_time": "2023-02-06T19:02:26.826Z"
   },
   {
    "duration": 11,
    "start_time": "2023-02-06T19:02:31.795Z"
   },
   {
    "duration": 410,
    "start_time": "2023-02-06T19:03:47.976Z"
   },
   {
    "duration": 3,
    "start_time": "2023-02-06T19:13:21.922Z"
   },
   {
    "duration": 6,
    "start_time": "2023-02-06T19:13:45.925Z"
   },
   {
    "duration": 177,
    "start_time": "2023-02-06T19:16:48.019Z"
   },
   {
    "duration": 151,
    "start_time": "2023-02-06T19:16:56.836Z"
   },
   {
    "duration": 117,
    "start_time": "2023-02-06T19:17:01.789Z"
   },
   {
    "duration": 118,
    "start_time": "2023-02-06T19:17:05.863Z"
   },
   {
    "duration": 12,
    "start_time": "2023-02-06T19:20:00.721Z"
   },
   {
    "duration": 9,
    "start_time": "2023-02-06T19:20:12.169Z"
   },
   {
    "duration": 23,
    "start_time": "2023-02-06T19:20:29.521Z"
   },
   {
    "duration": 20,
    "start_time": "2023-02-06T19:20:51.467Z"
   },
   {
    "duration": 20,
    "start_time": "2023-02-06T19:21:43.305Z"
   },
   {
    "duration": 15,
    "start_time": "2023-02-06T19:22:09.243Z"
   },
   {
    "duration": 15,
    "start_time": "2023-02-06T19:22:51.661Z"
   },
   {
    "duration": 15,
    "start_time": "2023-02-06T19:22:57.534Z"
   },
   {
    "duration": 16,
    "start_time": "2023-02-06T19:24:07.846Z"
   },
   {
    "duration": 13,
    "start_time": "2023-02-06T19:25:57.785Z"
   },
   {
    "duration": 14,
    "start_time": "2023-02-06T19:26:05.937Z"
   },
   {
    "duration": 33,
    "start_time": "2023-02-06T19:26:25.644Z"
   },
   {
    "duration": 20,
    "start_time": "2023-02-06T19:27:17.965Z"
   },
   {
    "duration": 25,
    "start_time": "2023-02-06T19:27:23.997Z"
   },
   {
    "duration": 19,
    "start_time": "2023-02-06T19:28:56.918Z"
   },
   {
    "duration": 14,
    "start_time": "2023-02-06T19:29:08.352Z"
   },
   {
    "duration": 13,
    "start_time": "2023-02-06T19:29:19.375Z"
   },
   {
    "duration": 19,
    "start_time": "2023-02-06T19:29:34.894Z"
   },
   {
    "duration": 18,
    "start_time": "2023-02-06T19:30:10.639Z"
   },
   {
    "duration": 22,
    "start_time": "2023-02-06T19:30:16.665Z"
   },
   {
    "duration": 20,
    "start_time": "2023-02-06T19:30:25.457Z"
   },
   {
    "duration": 18,
    "start_time": "2023-02-06T19:30:36.059Z"
   },
   {
    "duration": 586,
    "start_time": "2023-02-06T19:30:43.752Z"
   },
   {
    "duration": 110,
    "start_time": "2023-02-06T19:30:44.340Z"
   },
   {
    "duration": 14,
    "start_time": "2023-02-06T19:30:44.452Z"
   },
   {
    "duration": 1796,
    "start_time": "2023-02-06T19:30:44.468Z"
   },
   {
    "duration": 68,
    "start_time": "2023-02-06T19:30:46.266Z"
   },
   {
    "duration": 15,
    "start_time": "2023-02-06T19:30:46.336Z"
   },
   {
    "duration": 14,
    "start_time": "2023-02-06T19:30:46.352Z"
   },
   {
    "duration": 12,
    "start_time": "2023-02-06T19:30:46.367Z"
   },
   {
    "duration": 202,
    "start_time": "2023-02-06T19:30:46.380Z"
   },
   {
    "duration": 6,
    "start_time": "2023-02-06T19:30:46.586Z"
   },
   {
    "duration": 19,
    "start_time": "2023-02-06T19:30:46.594Z"
   },
   {
    "duration": 114,
    "start_time": "2023-02-06T19:30:46.615Z"
   },
   {
    "duration": 0,
    "start_time": "2023-02-06T19:30:46.732Z"
   },
   {
    "duration": 0,
    "start_time": "2023-02-06T19:30:46.733Z"
   },
   {
    "duration": 0,
    "start_time": "2023-02-06T19:30:46.736Z"
   },
   {
    "duration": 0,
    "start_time": "2023-02-06T19:30:46.737Z"
   },
   {
    "duration": 0,
    "start_time": "2023-02-06T19:30:46.739Z"
   },
   {
    "duration": 0,
    "start_time": "2023-02-06T19:30:46.740Z"
   },
   {
    "duration": 0,
    "start_time": "2023-02-06T19:30:46.741Z"
   },
   {
    "duration": 0,
    "start_time": "2023-02-06T19:30:46.744Z"
   },
   {
    "duration": 0,
    "start_time": "2023-02-06T19:30:46.745Z"
   },
   {
    "duration": 1,
    "start_time": "2023-02-06T19:30:46.745Z"
   },
   {
    "duration": 0,
    "start_time": "2023-02-06T19:30:46.747Z"
   },
   {
    "duration": 0,
    "start_time": "2023-02-06T19:30:46.748Z"
   },
   {
    "duration": 0,
    "start_time": "2023-02-06T19:30:46.749Z"
   },
   {
    "duration": 0,
    "start_time": "2023-02-06T19:30:46.750Z"
   },
   {
    "duration": 0,
    "start_time": "2023-02-06T19:30:46.752Z"
   },
   {
    "duration": 0,
    "start_time": "2023-02-06T19:30:46.753Z"
   },
   {
    "duration": 0,
    "start_time": "2023-02-06T19:30:46.754Z"
   },
   {
    "duration": 0,
    "start_time": "2023-02-06T19:30:46.755Z"
   },
   {
    "duration": 0,
    "start_time": "2023-02-06T19:30:46.756Z"
   },
   {
    "duration": 0,
    "start_time": "2023-02-06T19:30:46.757Z"
   },
   {
    "duration": 0,
    "start_time": "2023-02-06T19:30:46.758Z"
   },
   {
    "duration": 0,
    "start_time": "2023-02-06T19:30:46.759Z"
   },
   {
    "duration": 0,
    "start_time": "2023-02-06T19:30:46.760Z"
   },
   {
    "duration": 0,
    "start_time": "2023-02-06T19:30:46.760Z"
   },
   {
    "duration": 0,
    "start_time": "2023-02-06T19:30:46.761Z"
   },
   {
    "duration": 0,
    "start_time": "2023-02-06T19:30:46.762Z"
   },
   {
    "duration": 0,
    "start_time": "2023-02-06T19:30:46.809Z"
   },
   {
    "duration": 0,
    "start_time": "2023-02-06T19:30:46.811Z"
   },
   {
    "duration": 0,
    "start_time": "2023-02-06T19:30:46.812Z"
   },
   {
    "duration": 0,
    "start_time": "2023-02-06T19:30:46.812Z"
   },
   {
    "duration": 0,
    "start_time": "2023-02-06T19:30:46.813Z"
   },
   {
    "duration": 0,
    "start_time": "2023-02-06T19:30:46.814Z"
   },
   {
    "duration": 12,
    "start_time": "2023-02-06T19:31:12.667Z"
   },
   {
    "duration": 12,
    "start_time": "2023-02-06T19:31:21.962Z"
   },
   {
    "duration": 19,
    "start_time": "2023-02-06T19:32:03.053Z"
   },
   {
    "duration": 31,
    "start_time": "2023-02-06T19:32:16.822Z"
   },
   {
    "duration": 17,
    "start_time": "2023-02-06T19:32:39.972Z"
   },
   {
    "duration": 16,
    "start_time": "2023-02-06T19:32:50.836Z"
   },
   {
    "duration": 19,
    "start_time": "2023-02-06T19:33:05.533Z"
   },
   {
    "duration": 19,
    "start_time": "2023-02-06T19:33:10.869Z"
   },
   {
    "duration": 19,
    "start_time": "2023-02-06T19:33:22.047Z"
   },
   {
    "duration": 649,
    "start_time": "2023-02-06T19:34:07.731Z"
   },
   {
    "duration": 109,
    "start_time": "2023-02-06T19:34:08.381Z"
   },
   {
    "duration": 21,
    "start_time": "2023-02-06T19:34:08.492Z"
   },
   {
    "duration": 1835,
    "start_time": "2023-02-06T19:34:08.515Z"
   },
   {
    "duration": 72,
    "start_time": "2023-02-06T19:34:10.351Z"
   },
   {
    "duration": 14,
    "start_time": "2023-02-06T19:34:10.425Z"
   },
   {
    "duration": 13,
    "start_time": "2023-02-06T19:34:10.440Z"
   },
   {
    "duration": 15,
    "start_time": "2023-02-06T19:34:10.455Z"
   },
   {
    "duration": 202,
    "start_time": "2023-02-06T19:34:10.471Z"
   },
   {
    "duration": 5,
    "start_time": "2023-02-06T19:34:10.675Z"
   },
   {
    "duration": 13,
    "start_time": "2023-02-06T19:34:10.681Z"
   },
   {
    "duration": 28,
    "start_time": "2023-02-06T19:34:10.695Z"
   },
   {
    "duration": 386,
    "start_time": "2023-02-06T19:34:10.725Z"
   },
   {
    "duration": 28,
    "start_time": "2023-02-06T19:34:11.112Z"
   },
   {
    "duration": 189,
    "start_time": "2023-02-06T19:34:11.142Z"
   },
   {
    "duration": 10,
    "start_time": "2023-02-06T19:34:11.333Z"
   },
   {
    "duration": 133,
    "start_time": "2023-02-06T19:34:11.345Z"
   },
   {
    "duration": 109,
    "start_time": "2023-02-06T19:34:11.479Z"
   },
   {
    "duration": 125,
    "start_time": "2023-02-06T19:34:11.589Z"
   },
   {
    "duration": 125,
    "start_time": "2023-02-06T19:34:11.715Z"
   },
   {
    "duration": 143,
    "start_time": "2023-02-06T19:34:11.841Z"
   },
   {
    "duration": 142,
    "start_time": "2023-02-06T19:34:11.986Z"
   },
   {
    "duration": 152,
    "start_time": "2023-02-06T19:34:12.130Z"
   },
   {
    "duration": 155,
    "start_time": "2023-02-06T19:34:12.284Z"
   },
   {
    "duration": 120,
    "start_time": "2023-02-06T19:34:12.440Z"
   },
   {
    "duration": 173,
    "start_time": "2023-02-06T19:34:12.561Z"
   },
   {
    "duration": 248,
    "start_time": "2023-02-06T19:34:12.735Z"
   },
   {
    "duration": 185,
    "start_time": "2023-02-06T19:34:12.986Z"
   },
   {
    "duration": 197,
    "start_time": "2023-02-06T19:34:13.173Z"
   },
   {
    "duration": 186,
    "start_time": "2023-02-06T19:34:13.372Z"
   },
   {
    "duration": 136,
    "start_time": "2023-02-06T19:34:13.560Z"
   },
   {
    "duration": 208,
    "start_time": "2023-02-06T19:34:13.698Z"
   },
   {
    "duration": 125,
    "start_time": "2023-02-06T19:34:13.907Z"
   },
   {
    "duration": 257,
    "start_time": "2023-02-06T19:34:14.034Z"
   },
   {
    "duration": 1246,
    "start_time": "2023-02-06T19:34:14.293Z"
   },
   {
    "duration": 0,
    "start_time": "2023-02-06T19:34:15.541Z"
   },
   {
    "duration": 0,
    "start_time": "2023-02-06T19:34:15.542Z"
   },
   {
    "duration": 0,
    "start_time": "2023-02-06T19:34:15.543Z"
   },
   {
    "duration": 0,
    "start_time": "2023-02-06T19:34:15.544Z"
   },
   {
    "duration": 0,
    "start_time": "2023-02-06T19:34:15.545Z"
   },
   {
    "duration": 0,
    "start_time": "2023-02-06T19:34:15.547Z"
   },
   {
    "duration": 0,
    "start_time": "2023-02-06T19:34:15.548Z"
   },
   {
    "duration": 0,
    "start_time": "2023-02-06T19:34:15.549Z"
   },
   {
    "duration": 0,
    "start_time": "2023-02-06T19:34:15.550Z"
   },
   {
    "duration": 20,
    "start_time": "2023-02-06T19:34:55.231Z"
   },
   {
    "duration": 672,
    "start_time": "2023-02-06T19:35:39.904Z"
   },
   {
    "duration": 106,
    "start_time": "2023-02-06T19:35:40.578Z"
   },
   {
    "duration": 14,
    "start_time": "2023-02-06T19:35:40.685Z"
   },
   {
    "duration": 1812,
    "start_time": "2023-02-06T19:35:40.700Z"
   },
   {
    "duration": 69,
    "start_time": "2023-02-06T19:35:42.514Z"
   },
   {
    "duration": 27,
    "start_time": "2023-02-06T19:35:42.585Z"
   },
   {
    "duration": 14,
    "start_time": "2023-02-06T19:35:42.613Z"
   },
   {
    "duration": 12,
    "start_time": "2023-02-06T19:35:42.629Z"
   },
   {
    "duration": 191,
    "start_time": "2023-02-06T19:35:42.643Z"
   },
   {
    "duration": 65,
    "start_time": "2023-02-06T19:35:42.837Z"
   },
   {
    "duration": 0,
    "start_time": "2023-02-06T19:35:42.904Z"
   },
   {
    "duration": 0,
    "start_time": "2023-02-06T19:35:42.905Z"
   },
   {
    "duration": 0,
    "start_time": "2023-02-06T19:35:42.906Z"
   },
   {
    "duration": 0,
    "start_time": "2023-02-06T19:35:42.907Z"
   },
   {
    "duration": 0,
    "start_time": "2023-02-06T19:35:42.908Z"
   },
   {
    "duration": 0,
    "start_time": "2023-02-06T19:35:42.909Z"
   },
   {
    "duration": 0,
    "start_time": "2023-02-06T19:35:42.910Z"
   },
   {
    "duration": 0,
    "start_time": "2023-02-06T19:35:42.911Z"
   },
   {
    "duration": 0,
    "start_time": "2023-02-06T19:35:42.912Z"
   },
   {
    "duration": 0,
    "start_time": "2023-02-06T19:35:42.913Z"
   },
   {
    "duration": 0,
    "start_time": "2023-02-06T19:35:42.914Z"
   },
   {
    "duration": 0,
    "start_time": "2023-02-06T19:35:42.915Z"
   },
   {
    "duration": 0,
    "start_time": "2023-02-06T19:35:42.916Z"
   },
   {
    "duration": 0,
    "start_time": "2023-02-06T19:35:42.917Z"
   },
   {
    "duration": 0,
    "start_time": "2023-02-06T19:35:42.918Z"
   },
   {
    "duration": 0,
    "start_time": "2023-02-06T19:35:42.919Z"
   },
   {
    "duration": 0,
    "start_time": "2023-02-06T19:35:42.920Z"
   },
   {
    "duration": 0,
    "start_time": "2023-02-06T19:35:42.921Z"
   },
   {
    "duration": 0,
    "start_time": "2023-02-06T19:35:42.922Z"
   },
   {
    "duration": 0,
    "start_time": "2023-02-06T19:35:42.923Z"
   },
   {
    "duration": 0,
    "start_time": "2023-02-06T19:35:42.923Z"
   },
   {
    "duration": 0,
    "start_time": "2023-02-06T19:35:42.924Z"
   },
   {
    "duration": 0,
    "start_time": "2023-02-06T19:35:42.926Z"
   },
   {
    "duration": 0,
    "start_time": "2023-02-06T19:35:42.926Z"
   },
   {
    "duration": 0,
    "start_time": "2023-02-06T19:35:42.927Z"
   },
   {
    "duration": 0,
    "start_time": "2023-02-06T19:35:42.928Z"
   },
   {
    "duration": 0,
    "start_time": "2023-02-06T19:35:42.929Z"
   },
   {
    "duration": 0,
    "start_time": "2023-02-06T19:35:42.930Z"
   },
   {
    "duration": 0,
    "start_time": "2023-02-06T19:35:42.931Z"
   },
   {
    "duration": 0,
    "start_time": "2023-02-06T19:35:42.932Z"
   },
   {
    "duration": 0,
    "start_time": "2023-02-06T19:35:42.933Z"
   },
   {
    "duration": 0,
    "start_time": "2023-02-06T19:35:42.933Z"
   },
   {
    "duration": 0,
    "start_time": "2023-02-06T19:35:42.934Z"
   },
   {
    "duration": 0,
    "start_time": "2023-02-06T19:35:42.935Z"
   },
   {
    "duration": 2,
    "start_time": "2023-02-06T19:36:13.323Z"
   },
   {
    "duration": 10,
    "start_time": "2023-02-06T19:36:15.627Z"
   },
   {
    "duration": 21,
    "start_time": "2023-02-06T19:36:21.353Z"
   },
   {
    "duration": 14,
    "start_time": "2023-02-06T19:36:38.207Z"
   },
   {
    "duration": 17,
    "start_time": "2023-02-06T19:36:55.243Z"
   },
   {
    "duration": 7,
    "start_time": "2023-02-06T19:38:19.349Z"
   },
   {
    "duration": 8,
    "start_time": "2023-02-06T19:38:21.524Z"
   },
   {
    "duration": 17,
    "start_time": "2023-02-06T19:38:30.837Z"
   },
   {
    "duration": 17,
    "start_time": "2023-02-06T19:38:54.398Z"
   },
   {
    "duration": 19,
    "start_time": "2023-02-06T19:41:34.491Z"
   },
   {
    "duration": 24,
    "start_time": "2023-02-06T19:42:02.165Z"
   },
   {
    "duration": 78,
    "start_time": "2023-02-06T19:46:11.304Z"
   },
   {
    "duration": 8,
    "start_time": "2023-02-06T19:47:21.396Z"
   },
   {
    "duration": 103,
    "start_time": "2023-02-06T19:47:35.957Z"
   },
   {
    "duration": 108,
    "start_time": "2023-02-06T19:48:09.237Z"
   },
   {
    "duration": 7,
    "start_time": "2023-02-06T19:48:43.604Z"
   },
   {
    "duration": 6,
    "start_time": "2023-02-06T19:48:55.249Z"
   },
   {
    "duration": 28,
    "start_time": "2023-02-06T19:49:02.558Z"
   },
   {
    "duration": 15,
    "start_time": "2023-02-06T19:49:13.736Z"
   },
   {
    "duration": 8,
    "start_time": "2023-02-06T19:49:28.858Z"
   },
   {
    "duration": 587,
    "start_time": "2023-02-06T19:49:33.237Z"
   },
   {
    "duration": 109,
    "start_time": "2023-02-06T19:49:33.826Z"
   },
   {
    "duration": 13,
    "start_time": "2023-02-06T19:49:33.937Z"
   },
   {
    "duration": 1852,
    "start_time": "2023-02-06T19:49:33.952Z"
   },
   {
    "duration": 70,
    "start_time": "2023-02-06T19:49:35.806Z"
   },
   {
    "duration": 16,
    "start_time": "2023-02-06T19:49:35.877Z"
   },
   {
    "duration": 24,
    "start_time": "2023-02-06T19:49:35.894Z"
   },
   {
    "duration": 12,
    "start_time": "2023-02-06T19:49:35.920Z"
   },
   {
    "duration": 193,
    "start_time": "2023-02-06T19:49:35.933Z"
   },
   {
    "duration": 7,
    "start_time": "2023-02-06T19:49:36.129Z"
   },
   {
    "duration": 10,
    "start_time": "2023-02-06T19:49:36.138Z"
   },
   {
    "duration": 27,
    "start_time": "2023-02-06T19:49:36.150Z"
   },
   {
    "duration": 437,
    "start_time": "2023-02-06T19:49:36.178Z"
   },
   {
    "duration": 37,
    "start_time": "2023-02-06T19:49:36.619Z"
   },
   {
    "duration": 233,
    "start_time": "2023-02-06T19:49:36.658Z"
   },
   {
    "duration": 18,
    "start_time": "2023-02-06T19:49:36.893Z"
   },
   {
    "duration": 143,
    "start_time": "2023-02-06T19:49:36.914Z"
   },
   {
    "duration": 111,
    "start_time": "2023-02-06T19:49:37.058Z"
   },
   {
    "duration": 125,
    "start_time": "2023-02-06T19:49:37.171Z"
   },
   {
    "duration": 133,
    "start_time": "2023-02-06T19:49:37.298Z"
   },
   {
    "duration": 154,
    "start_time": "2023-02-06T19:49:37.432Z"
   },
   {
    "duration": 134,
    "start_time": "2023-02-06T19:49:37.588Z"
   },
   {
    "duration": 163,
    "start_time": "2023-02-06T19:49:37.724Z"
   },
   {
    "duration": 173,
    "start_time": "2023-02-06T19:49:37.889Z"
   },
   {
    "duration": 133,
    "start_time": "2023-02-06T19:49:38.064Z"
   },
   {
    "duration": 189,
    "start_time": "2023-02-06T19:49:38.199Z"
   },
   {
    "duration": 265,
    "start_time": "2023-02-06T19:49:38.389Z"
   },
   {
    "duration": 212,
    "start_time": "2023-02-06T19:49:38.657Z"
   },
   {
    "duration": 208,
    "start_time": "2023-02-06T19:49:38.870Z"
   },
   {
    "duration": 178,
    "start_time": "2023-02-06T19:49:39.080Z"
   },
   {
    "duration": 133,
    "start_time": "2023-02-06T19:49:39.260Z"
   },
   {
    "duration": 210,
    "start_time": "2023-02-06T19:49:39.395Z"
   },
   {
    "duration": 133,
    "start_time": "2023-02-06T19:49:39.610Z"
   },
   {
    "duration": 268,
    "start_time": "2023-02-06T19:49:39.744Z"
   },
   {
    "duration": 1179,
    "start_time": "2023-02-06T19:49:40.014Z"
   },
   {
    "duration": 0,
    "start_time": "2023-02-06T19:49:41.195Z"
   },
   {
    "duration": 0,
    "start_time": "2023-02-06T19:49:41.197Z"
   },
   {
    "duration": 0,
    "start_time": "2023-02-06T19:49:41.198Z"
   },
   {
    "duration": 0,
    "start_time": "2023-02-06T19:49:41.199Z"
   },
   {
    "duration": 0,
    "start_time": "2023-02-06T19:49:41.200Z"
   },
   {
    "duration": 0,
    "start_time": "2023-02-06T19:49:41.201Z"
   },
   {
    "duration": 0,
    "start_time": "2023-02-06T19:49:41.202Z"
   },
   {
    "duration": 0,
    "start_time": "2023-02-06T19:49:41.203Z"
   },
   {
    "duration": 0,
    "start_time": "2023-02-06T19:49:41.204Z"
   },
   {
    "duration": 90,
    "start_time": "2023-02-06T19:57:23.603Z"
   },
   {
    "duration": 80,
    "start_time": "2023-02-06T19:57:37.222Z"
   },
   {
    "duration": 659,
    "start_time": "2023-02-06T19:57:43.397Z"
   },
   {
    "duration": 115,
    "start_time": "2023-02-06T19:57:44.058Z"
   },
   {
    "duration": 14,
    "start_time": "2023-02-06T19:57:44.175Z"
   },
   {
    "duration": 1881,
    "start_time": "2023-02-06T19:57:44.191Z"
   },
   {
    "duration": 71,
    "start_time": "2023-02-06T19:57:46.074Z"
   },
   {
    "duration": 15,
    "start_time": "2023-02-06T19:57:46.146Z"
   },
   {
    "duration": 13,
    "start_time": "2023-02-06T19:57:46.162Z"
   },
   {
    "duration": 11,
    "start_time": "2023-02-06T19:57:46.177Z"
   },
   {
    "duration": 192,
    "start_time": "2023-02-06T19:57:46.189Z"
   },
   {
    "duration": 6,
    "start_time": "2023-02-06T19:57:46.384Z"
   },
   {
    "duration": 7,
    "start_time": "2023-02-06T19:57:46.391Z"
   },
   {
    "duration": 21,
    "start_time": "2023-02-06T19:57:46.410Z"
   },
   {
    "duration": 108,
    "start_time": "2023-02-06T19:57:46.434Z"
   },
   {
    "duration": 529,
    "start_time": "2023-02-06T19:57:46.544Z"
   },
   {
    "duration": 25,
    "start_time": "2023-02-06T19:57:47.075Z"
   },
   {
    "duration": 121,
    "start_time": "2023-02-06T19:57:47.102Z"
   },
   {
    "duration": 8,
    "start_time": "2023-02-06T19:57:47.225Z"
   },
   {
    "duration": 140,
    "start_time": "2023-02-06T19:57:47.234Z"
   },
   {
    "duration": 126,
    "start_time": "2023-02-06T19:57:47.375Z"
   },
   {
    "duration": 129,
    "start_time": "2023-02-06T19:57:47.503Z"
   },
   {
    "duration": 132,
    "start_time": "2023-02-06T19:57:47.633Z"
   },
   {
    "duration": 161,
    "start_time": "2023-02-06T19:57:47.766Z"
   },
   {
    "duration": 148,
    "start_time": "2023-02-06T19:57:47.928Z"
   },
   {
    "duration": 166,
    "start_time": "2023-02-06T19:57:48.077Z"
   },
   {
    "duration": 215,
    "start_time": "2023-02-06T19:57:48.244Z"
   },
   {
    "duration": 126,
    "start_time": "2023-02-06T19:57:48.461Z"
   },
   {
    "duration": 199,
    "start_time": "2023-02-06T19:57:48.589Z"
   },
   {
    "duration": 202,
    "start_time": "2023-02-06T19:57:48.791Z"
   },
   {
    "duration": 171,
    "start_time": "2023-02-06T19:57:48.994Z"
   },
   {
    "duration": 210,
    "start_time": "2023-02-06T19:57:49.167Z"
   },
   {
    "duration": 177,
    "start_time": "2023-02-06T19:57:49.379Z"
   },
   {
    "duration": 195,
    "start_time": "2023-02-06T19:57:49.558Z"
   },
   {
    "duration": 218,
    "start_time": "2023-02-06T19:57:49.754Z"
   },
   {
    "duration": 133,
    "start_time": "2023-02-06T19:57:49.973Z"
   },
   {
    "duration": 227,
    "start_time": "2023-02-06T19:57:50.110Z"
   },
   {
    "duration": 1248,
    "start_time": "2023-02-06T19:57:50.338Z"
   },
   {
    "duration": 0,
    "start_time": "2023-02-06T19:57:51.588Z"
   },
   {
    "duration": 0,
    "start_time": "2023-02-06T19:57:51.589Z"
   },
   {
    "duration": 0,
    "start_time": "2023-02-06T19:57:51.590Z"
   },
   {
    "duration": 0,
    "start_time": "2023-02-06T19:57:51.590Z"
   },
   {
    "duration": 0,
    "start_time": "2023-02-06T19:57:51.591Z"
   },
   {
    "duration": 0,
    "start_time": "2023-02-06T19:57:51.592Z"
   },
   {
    "duration": 0,
    "start_time": "2023-02-06T19:57:51.593Z"
   },
   {
    "duration": 0,
    "start_time": "2023-02-06T19:57:51.594Z"
   },
   {
    "duration": 0,
    "start_time": "2023-02-06T19:57:51.595Z"
   },
   {
    "duration": 27,
    "start_time": "2023-02-06T19:58:32.110Z"
   },
   {
    "duration": 19,
    "start_time": "2023-02-06T19:58:40.926Z"
   },
   {
    "duration": 20,
    "start_time": "2023-02-06T19:58:58.479Z"
   },
   {
    "duration": 23,
    "start_time": "2023-02-06T19:59:11.538Z"
   },
   {
    "duration": 657,
    "start_time": "2023-02-06T19:59:33.064Z"
   },
   {
    "duration": 119,
    "start_time": "2023-02-06T19:59:33.723Z"
   },
   {
    "duration": 14,
    "start_time": "2023-02-06T19:59:33.843Z"
   },
   {
    "duration": 1993,
    "start_time": "2023-02-06T19:59:33.859Z"
   },
   {
    "duration": 72,
    "start_time": "2023-02-06T19:59:35.854Z"
   },
   {
    "duration": 16,
    "start_time": "2023-02-06T19:59:35.928Z"
   },
   {
    "duration": 14,
    "start_time": "2023-02-06T19:59:35.946Z"
   },
   {
    "duration": 13,
    "start_time": "2023-02-06T19:59:35.962Z"
   },
   {
    "duration": 213,
    "start_time": "2023-02-06T19:59:35.977Z"
   },
   {
    "duration": 7,
    "start_time": "2023-02-06T19:59:36.192Z"
   },
   {
    "duration": 17,
    "start_time": "2023-02-06T19:59:36.200Z"
   },
   {
    "duration": 28,
    "start_time": "2023-02-06T19:59:36.219Z"
   },
   {
    "duration": 105,
    "start_time": "2023-02-06T19:59:36.248Z"
   },
   {
    "duration": 530,
    "start_time": "2023-02-06T19:59:36.354Z"
   },
   {
    "duration": 45,
    "start_time": "2023-02-06T19:59:36.886Z"
   },
   {
    "duration": 119,
    "start_time": "2023-02-06T19:59:36.933Z"
   },
   {
    "duration": 9,
    "start_time": "2023-02-06T19:59:37.054Z"
   },
   {
    "duration": 145,
    "start_time": "2023-02-06T19:59:37.064Z"
   },
   {
    "duration": 135,
    "start_time": "2023-02-06T19:59:37.211Z"
   },
   {
    "duration": 131,
    "start_time": "2023-02-06T19:59:37.347Z"
   },
   {
    "duration": 134,
    "start_time": "2023-02-06T19:59:37.479Z"
   },
   {
    "duration": 155,
    "start_time": "2023-02-06T19:59:37.615Z"
   },
   {
    "duration": 144,
    "start_time": "2023-02-06T19:59:37.772Z"
   },
   {
    "duration": 159,
    "start_time": "2023-02-06T19:59:37.918Z"
   },
   {
    "duration": 236,
    "start_time": "2023-02-06T19:59:38.078Z"
   },
   {
    "duration": 119,
    "start_time": "2023-02-06T19:59:38.316Z"
   },
   {
    "duration": 194,
    "start_time": "2023-02-06T19:59:38.436Z"
   },
   {
    "duration": 207,
    "start_time": "2023-02-06T19:59:38.634Z"
   },
   {
    "duration": 177,
    "start_time": "2023-02-06T19:59:38.842Z"
   },
   {
    "duration": 192,
    "start_time": "2023-02-06T19:59:39.021Z"
   },
   {
    "duration": 175,
    "start_time": "2023-02-06T19:59:39.214Z"
   },
   {
    "duration": 213,
    "start_time": "2023-02-06T19:59:39.390Z"
   },
   {
    "duration": 220,
    "start_time": "2023-02-06T19:59:39.604Z"
   },
   {
    "duration": 139,
    "start_time": "2023-02-06T19:59:39.826Z"
   },
   {
    "duration": 228,
    "start_time": "2023-02-06T19:59:39.967Z"
   },
   {
    "duration": 1328,
    "start_time": "2023-02-06T19:59:40.197Z"
   },
   {
    "duration": 0,
    "start_time": "2023-02-06T19:59:41.527Z"
   },
   {
    "duration": 0,
    "start_time": "2023-02-06T19:59:41.528Z"
   },
   {
    "duration": 0,
    "start_time": "2023-02-06T19:59:41.530Z"
   },
   {
    "duration": 0,
    "start_time": "2023-02-06T19:59:41.531Z"
   },
   {
    "duration": 0,
    "start_time": "2023-02-06T19:59:41.532Z"
   },
   {
    "duration": 0,
    "start_time": "2023-02-06T19:59:41.533Z"
   },
   {
    "duration": 0,
    "start_time": "2023-02-06T19:59:41.535Z"
   },
   {
    "duration": 0,
    "start_time": "2023-02-06T19:59:41.536Z"
   },
   {
    "duration": 0,
    "start_time": "2023-02-06T19:59:41.538Z"
   },
   {
    "duration": 120,
    "start_time": "2023-02-06T20:00:24.603Z"
   },
   {
    "duration": 21,
    "start_time": "2023-02-06T20:00:36.128Z"
   },
   {
    "duration": 29,
    "start_time": "2023-02-06T20:01:11.396Z"
   },
   {
    "duration": 27,
    "start_time": "2023-02-06T20:01:15.493Z"
   },
   {
    "duration": 15,
    "start_time": "2023-02-06T20:01:25.150Z"
   },
   {
    "duration": 16,
    "start_time": "2023-02-06T20:01:39.391Z"
   },
   {
    "duration": 18,
    "start_time": "2023-02-06T20:02:23.229Z"
   },
   {
    "duration": 17,
    "start_time": "2023-02-06T20:02:29.526Z"
   },
   {
    "duration": 10,
    "start_time": "2023-02-06T20:02:49.870Z"
   },
   {
    "duration": 17,
    "start_time": "2023-02-06T20:02:55.624Z"
   },
   {
    "duration": 24,
    "start_time": "2023-02-06T20:03:13.063Z"
   },
   {
    "duration": 178,
    "start_time": "2023-02-06T20:04:10.975Z"
   },
   {
    "duration": 162,
    "start_time": "2023-02-06T20:04:53.635Z"
   },
   {
    "duration": 20,
    "start_time": "2023-02-06T20:05:21.961Z"
   },
   {
    "duration": 8,
    "start_time": "2023-02-06T20:05:26.945Z"
   },
   {
    "duration": 118,
    "start_time": "2023-02-06T20:05:31.326Z"
   },
   {
    "duration": 694,
    "start_time": "2023-02-06T20:05:49.910Z"
   },
   {
    "duration": 136,
    "start_time": "2023-02-06T20:05:50.606Z"
   },
   {
    "duration": 15,
    "start_time": "2023-02-06T20:05:50.743Z"
   },
   {
    "duration": 2032,
    "start_time": "2023-02-06T20:05:50.760Z"
   },
   {
    "duration": 72,
    "start_time": "2023-02-06T20:05:52.794Z"
   },
   {
    "duration": 16,
    "start_time": "2023-02-06T20:05:52.867Z"
   },
   {
    "duration": 25,
    "start_time": "2023-02-06T20:05:52.885Z"
   },
   {
    "duration": 17,
    "start_time": "2023-02-06T20:05:52.912Z"
   },
   {
    "duration": 239,
    "start_time": "2023-02-06T20:05:52.930Z"
   },
   {
    "duration": 8,
    "start_time": "2023-02-06T20:05:53.172Z"
   },
   {
    "duration": 8,
    "start_time": "2023-02-06T20:05:53.181Z"
   },
   {
    "duration": 128,
    "start_time": "2023-02-06T20:05:53.191Z"
   },
   {
    "duration": 108,
    "start_time": "2023-02-06T20:05:53.323Z"
   },
   {
    "duration": 471,
    "start_time": "2023-02-06T20:05:53.432Z"
   },
   {
    "duration": 31,
    "start_time": "2023-02-06T20:05:53.905Z"
   },
   {
    "duration": 119,
    "start_time": "2023-02-06T20:05:53.938Z"
   },
   {
    "duration": 7,
    "start_time": "2023-02-06T20:05:54.059Z"
   },
   {
    "duration": 157,
    "start_time": "2023-02-06T20:05:54.068Z"
   },
   {
    "duration": 115,
    "start_time": "2023-02-06T20:05:54.227Z"
   },
   {
    "duration": 139,
    "start_time": "2023-02-06T20:05:54.343Z"
   },
   {
    "duration": 134,
    "start_time": "2023-02-06T20:05:54.483Z"
   },
   {
    "duration": 155,
    "start_time": "2023-02-06T20:05:54.620Z"
   },
   {
    "duration": 155,
    "start_time": "2023-02-06T20:05:54.776Z"
   },
   {
    "duration": 209,
    "start_time": "2023-02-06T20:05:54.933Z"
   },
   {
    "duration": 235,
    "start_time": "2023-02-06T20:05:55.144Z"
   },
   {
    "duration": 131,
    "start_time": "2023-02-06T20:05:55.381Z"
   },
   {
    "duration": 221,
    "start_time": "2023-02-06T20:05:55.514Z"
   },
   {
    "duration": 207,
    "start_time": "2023-02-06T20:05:55.738Z"
   },
   {
    "duration": 194,
    "start_time": "2023-02-06T20:05:55.946Z"
   },
   {
    "duration": 209,
    "start_time": "2023-02-06T20:05:56.141Z"
   },
   {
    "duration": 178,
    "start_time": "2023-02-06T20:05:56.352Z"
   },
   {
    "duration": 225,
    "start_time": "2023-02-06T20:05:56.532Z"
   },
   {
    "duration": 271,
    "start_time": "2023-02-06T20:05:56.759Z"
   },
   {
    "duration": 150,
    "start_time": "2023-02-06T20:05:57.032Z"
   },
   {
    "duration": 243,
    "start_time": "2023-02-06T20:05:57.183Z"
   },
   {
    "duration": 1338,
    "start_time": "2023-02-06T20:05:57.428Z"
   },
   {
    "duration": 0,
    "start_time": "2023-02-06T20:05:58.768Z"
   },
   {
    "duration": 0,
    "start_time": "2023-02-06T20:05:58.769Z"
   },
   {
    "duration": 0,
    "start_time": "2023-02-06T20:05:58.770Z"
   },
   {
    "duration": 0,
    "start_time": "2023-02-06T20:05:58.771Z"
   },
   {
    "duration": 0,
    "start_time": "2023-02-06T20:05:58.772Z"
   },
   {
    "duration": 0,
    "start_time": "2023-02-06T20:05:58.774Z"
   },
   {
    "duration": 0,
    "start_time": "2023-02-06T20:05:58.775Z"
   },
   {
    "duration": 0,
    "start_time": "2023-02-06T20:05:58.776Z"
   },
   {
    "duration": 0,
    "start_time": "2023-02-06T20:05:58.777Z"
   },
   {
    "duration": 8,
    "start_time": "2023-02-06T20:07:15.235Z"
   },
   {
    "duration": 152,
    "start_time": "2023-02-06T20:07:22.380Z"
   },
   {
    "duration": 21,
    "start_time": "2023-02-06T20:07:34.589Z"
   },
   {
    "duration": 12,
    "start_time": "2023-02-06T20:07:37.251Z"
   },
   {
    "duration": 18,
    "start_time": "2023-02-06T20:07:52.073Z"
   },
   {
    "duration": 16,
    "start_time": "2023-02-06T20:07:56.261Z"
   },
   {
    "duration": 19,
    "start_time": "2023-02-06T20:08:00.909Z"
   },
   {
    "duration": 81,
    "start_time": "2023-02-06T20:08:37.654Z"
   },
   {
    "duration": 698,
    "start_time": "2023-02-06T20:08:42.763Z"
   },
   {
    "duration": 136,
    "start_time": "2023-02-06T20:08:43.462Z"
   },
   {
    "duration": 22,
    "start_time": "2023-02-06T20:08:43.600Z"
   },
   {
    "duration": 1963,
    "start_time": "2023-02-06T20:08:43.625Z"
   },
   {
    "duration": 83,
    "start_time": "2023-02-06T20:08:45.590Z"
   },
   {
    "duration": 15,
    "start_time": "2023-02-06T20:08:45.675Z"
   },
   {
    "duration": 29,
    "start_time": "2023-02-06T20:08:45.692Z"
   },
   {
    "duration": 15,
    "start_time": "2023-02-06T20:08:45.723Z"
   },
   {
    "duration": 218,
    "start_time": "2023-02-06T20:08:45.740Z"
   },
   {
    "duration": 7,
    "start_time": "2023-02-06T20:08:45.962Z"
   },
   {
    "duration": 12,
    "start_time": "2023-02-06T20:08:45.971Z"
   },
   {
    "duration": 25,
    "start_time": "2023-02-06T20:08:45.985Z"
   },
   {
    "duration": 133,
    "start_time": "2023-02-06T20:08:46.012Z"
   },
   {
    "duration": 581,
    "start_time": "2023-02-06T20:08:46.147Z"
   },
   {
    "duration": 39,
    "start_time": "2023-02-06T20:08:46.729Z"
   },
   {
    "duration": 185,
    "start_time": "2023-02-06T20:08:46.771Z"
   },
   {
    "duration": 12,
    "start_time": "2023-02-06T20:08:46.958Z"
   },
   {
    "duration": 165,
    "start_time": "2023-02-06T20:08:46.972Z"
   },
   {
    "duration": 165,
    "start_time": "2023-02-06T20:08:47.139Z"
   },
   {
    "duration": 172,
    "start_time": "2023-02-06T20:08:47.306Z"
   },
   {
    "duration": 171,
    "start_time": "2023-02-06T20:08:47.480Z"
   },
   {
    "duration": 205,
    "start_time": "2023-02-06T20:08:47.653Z"
   },
   {
    "duration": 152,
    "start_time": "2023-02-06T20:08:47.860Z"
   },
   {
    "duration": 162,
    "start_time": "2023-02-06T20:08:48.013Z"
   },
   {
    "duration": 299,
    "start_time": "2023-02-06T20:08:48.177Z"
   },
   {
    "duration": 136,
    "start_time": "2023-02-06T20:08:48.478Z"
   },
   {
    "duration": 198,
    "start_time": "2023-02-06T20:08:48.616Z"
   },
   {
    "duration": 265,
    "start_time": "2023-02-06T20:08:48.819Z"
   },
   {
    "duration": 241,
    "start_time": "2023-02-06T20:08:49.085Z"
   },
   {
    "duration": 256,
    "start_time": "2023-02-06T20:08:49.328Z"
   },
   {
    "duration": 250,
    "start_time": "2023-02-06T20:08:49.586Z"
   },
   {
    "duration": 206,
    "start_time": "2023-02-06T20:08:49.838Z"
   },
   {
    "duration": 279,
    "start_time": "2023-02-06T20:08:50.046Z"
   },
   {
    "duration": 161,
    "start_time": "2023-02-06T20:08:50.338Z"
   },
   {
    "duration": 256,
    "start_time": "2023-02-06T20:08:50.501Z"
   },
   {
    "duration": 1388,
    "start_time": "2023-02-06T20:08:50.759Z"
   },
   {
    "duration": 0,
    "start_time": "2023-02-06T20:08:52.148Z"
   },
   {
    "duration": 0,
    "start_time": "2023-02-06T20:08:52.149Z"
   },
   {
    "duration": 0,
    "start_time": "2023-02-06T20:08:52.151Z"
   },
   {
    "duration": 0,
    "start_time": "2023-02-06T20:08:52.152Z"
   },
   {
    "duration": 0,
    "start_time": "2023-02-06T20:08:52.153Z"
   },
   {
    "duration": 0,
    "start_time": "2023-02-06T20:08:52.154Z"
   },
   {
    "duration": 0,
    "start_time": "2023-02-06T20:08:52.155Z"
   },
   {
    "duration": 0,
    "start_time": "2023-02-06T20:08:52.156Z"
   },
   {
    "duration": 0,
    "start_time": "2023-02-06T20:08:52.157Z"
   },
   {
    "duration": 106,
    "start_time": "2023-02-06T20:09:15.736Z"
   },
   {
    "duration": 117,
    "start_time": "2023-02-06T20:09:24.536Z"
   },
   {
    "duration": 265,
    "start_time": "2023-02-06T20:09:46.599Z"
   },
   {
    "duration": 153,
    "start_time": "2023-02-06T20:10:03.035Z"
   },
   {
    "duration": 16,
    "start_time": "2023-02-06T20:10:11.937Z"
   },
   {
    "duration": 681,
    "start_time": "2023-02-06T20:10:17.573Z"
   },
   {
    "duration": 121,
    "start_time": "2023-02-06T20:10:18.255Z"
   },
   {
    "duration": 15,
    "start_time": "2023-02-06T20:10:18.378Z"
   },
   {
    "duration": 1934,
    "start_time": "2023-02-06T20:10:18.395Z"
   },
   {
    "duration": 73,
    "start_time": "2023-02-06T20:10:20.331Z"
   },
   {
    "duration": 25,
    "start_time": "2023-02-06T20:10:20.406Z"
   },
   {
    "duration": 31,
    "start_time": "2023-02-06T20:10:20.432Z"
   },
   {
    "duration": 12,
    "start_time": "2023-02-06T20:10:20.465Z"
   },
   {
    "duration": 220,
    "start_time": "2023-02-06T20:10:20.480Z"
   },
   {
    "duration": 8,
    "start_time": "2023-02-06T20:10:20.709Z"
   },
   {
    "duration": 50,
    "start_time": "2023-02-06T20:10:20.719Z"
   },
   {
    "duration": 14,
    "start_time": "2023-02-06T20:10:20.771Z"
   },
   {
    "duration": 20,
    "start_time": "2023-02-06T20:10:20.787Z"
   },
   {
    "duration": 443,
    "start_time": "2023-02-06T20:10:20.809Z"
   },
   {
    "duration": 27,
    "start_time": "2023-02-06T20:10:21.253Z"
   },
   {
    "duration": 211,
    "start_time": "2023-02-06T20:10:21.282Z"
   },
   {
    "duration": 25,
    "start_time": "2023-02-06T20:10:21.494Z"
   },
   {
    "duration": 137,
    "start_time": "2023-02-06T20:10:21.522Z"
   },
   {
    "duration": 131,
    "start_time": "2023-02-06T20:10:21.661Z"
   },
   {
    "duration": 146,
    "start_time": "2023-02-06T20:10:21.794Z"
   },
   {
    "duration": 140,
    "start_time": "2023-02-06T20:10:21.941Z"
   },
   {
    "duration": 166,
    "start_time": "2023-02-06T20:10:22.083Z"
   },
   {
    "duration": 150,
    "start_time": "2023-02-06T20:10:22.251Z"
   },
   {
    "duration": 193,
    "start_time": "2023-02-06T20:10:22.403Z"
   },
   {
    "duration": 187,
    "start_time": "2023-02-06T20:10:22.597Z"
   },
   {
    "duration": 133,
    "start_time": "2023-02-06T20:10:22.786Z"
   },
   {
    "duration": 249,
    "start_time": "2023-02-06T20:10:22.921Z"
   },
   {
    "duration": 305,
    "start_time": "2023-02-06T20:10:23.175Z"
   },
   {
    "duration": 189,
    "start_time": "2023-02-06T20:10:23.482Z"
   },
   {
    "duration": 209,
    "start_time": "2023-02-06T20:10:23.673Z"
   },
   {
    "duration": 180,
    "start_time": "2023-02-06T20:10:23.884Z"
   },
   {
    "duration": 135,
    "start_time": "2023-02-06T20:10:24.065Z"
   },
   {
    "duration": 251,
    "start_time": "2023-02-06T20:10:24.202Z"
   },
   {
    "duration": 155,
    "start_time": "2023-02-06T20:10:24.456Z"
   },
   {
    "duration": 326,
    "start_time": "2023-02-06T20:10:24.613Z"
   },
   {
    "duration": 1962,
    "start_time": "2023-02-06T20:10:24.941Z"
   },
   {
    "duration": 0,
    "start_time": "2023-02-06T20:10:26.906Z"
   },
   {
    "duration": 0,
    "start_time": "2023-02-06T20:10:26.907Z"
   },
   {
    "duration": 0,
    "start_time": "2023-02-06T20:10:26.908Z"
   },
   {
    "duration": 0,
    "start_time": "2023-02-06T20:10:26.910Z"
   },
   {
    "duration": 0,
    "start_time": "2023-02-06T20:10:26.911Z"
   },
   {
    "duration": 0,
    "start_time": "2023-02-06T20:10:26.912Z"
   },
   {
    "duration": 0,
    "start_time": "2023-02-06T20:10:26.913Z"
   },
   {
    "duration": 0,
    "start_time": "2023-02-06T20:10:26.914Z"
   },
   {
    "duration": 0,
    "start_time": "2023-02-06T20:10:26.915Z"
   },
   {
    "duration": 130,
    "start_time": "2023-02-06T20:10:39.536Z"
   },
   {
    "duration": 44,
    "start_time": "2023-02-06T20:11:41.167Z"
   },
   {
    "duration": 15,
    "start_time": "2023-02-06T20:12:28.228Z"
   },
   {
    "duration": 14,
    "start_time": "2023-02-06T20:12:36.291Z"
   },
   {
    "duration": 705,
    "start_time": "2023-02-06T20:12:42.979Z"
   },
   {
    "duration": 117,
    "start_time": "2023-02-06T20:12:43.686Z"
   },
   {
    "duration": 20,
    "start_time": "2023-02-06T20:12:43.810Z"
   },
   {
    "duration": 1788,
    "start_time": "2023-02-06T20:12:43.832Z"
   },
   {
    "duration": 67,
    "start_time": "2023-02-06T20:12:45.622Z"
   },
   {
    "duration": 23,
    "start_time": "2023-02-06T20:12:45.691Z"
   },
   {
    "duration": 14,
    "start_time": "2023-02-06T20:12:45.716Z"
   },
   {
    "duration": 12,
    "start_time": "2023-02-06T20:12:45.732Z"
   },
   {
    "duration": 266,
    "start_time": "2023-02-06T20:12:45.746Z"
   },
   {
    "duration": 6,
    "start_time": "2023-02-06T20:12:46.015Z"
   },
   {
    "duration": 11,
    "start_time": "2023-02-06T20:12:46.022Z"
   },
   {
    "duration": 24,
    "start_time": "2023-02-06T20:12:46.034Z"
   },
   {
    "duration": 124,
    "start_time": "2023-02-06T20:12:46.060Z"
   },
   {
    "duration": 527,
    "start_time": "2023-02-06T20:12:46.185Z"
   },
   {
    "duration": 33,
    "start_time": "2023-02-06T20:12:46.714Z"
   },
   {
    "duration": 134,
    "start_time": "2023-02-06T20:12:46.749Z"
   },
   {
    "duration": 9,
    "start_time": "2023-02-06T20:12:46.885Z"
   },
   {
    "duration": 172,
    "start_time": "2023-02-06T20:12:46.896Z"
   },
   {
    "duration": 121,
    "start_time": "2023-02-06T20:12:47.070Z"
   },
   {
    "duration": 146,
    "start_time": "2023-02-06T20:12:47.193Z"
   },
   {
    "duration": 139,
    "start_time": "2023-02-06T20:12:47.341Z"
   },
   {
    "duration": 169,
    "start_time": "2023-02-06T20:12:47.482Z"
   },
   {
    "duration": 142,
    "start_time": "2023-02-06T20:12:47.653Z"
   },
   {
    "duration": 178,
    "start_time": "2023-02-06T20:12:47.797Z"
   },
   {
    "duration": 156,
    "start_time": "2023-02-06T20:12:47.976Z"
   },
   {
    "duration": 128,
    "start_time": "2023-02-06T20:12:48.134Z"
   },
   {
    "duration": 236,
    "start_time": "2023-02-06T20:12:48.264Z"
   },
   {
    "duration": 203,
    "start_time": "2023-02-06T20:12:48.511Z"
   },
   {
    "duration": 178,
    "start_time": "2023-02-06T20:12:48.716Z"
   },
   {
    "duration": 188,
    "start_time": "2023-02-06T20:12:48.896Z"
   },
   {
    "duration": 164,
    "start_time": "2023-02-06T20:12:49.086Z"
   },
   {
    "duration": 131,
    "start_time": "2023-02-06T20:12:49.252Z"
   },
   {
    "duration": 271,
    "start_time": "2023-02-06T20:12:49.384Z"
   },
   {
    "duration": 177,
    "start_time": "2023-02-06T20:12:49.657Z"
   },
   {
    "duration": 233,
    "start_time": "2023-02-06T20:12:49.835Z"
   },
   {
    "duration": 1253,
    "start_time": "2023-02-06T20:12:50.070Z"
   },
   {
    "duration": 0,
    "start_time": "2023-02-06T20:12:51.325Z"
   },
   {
    "duration": 0,
    "start_time": "2023-02-06T20:12:51.326Z"
   },
   {
    "duration": 0,
    "start_time": "2023-02-06T20:12:51.328Z"
   },
   {
    "duration": 0,
    "start_time": "2023-02-06T20:12:51.329Z"
   },
   {
    "duration": 0,
    "start_time": "2023-02-06T20:12:51.330Z"
   },
   {
    "duration": 0,
    "start_time": "2023-02-06T20:12:51.332Z"
   },
   {
    "duration": 0,
    "start_time": "2023-02-06T20:12:51.333Z"
   },
   {
    "duration": 0,
    "start_time": "2023-02-06T20:12:51.334Z"
   },
   {
    "duration": 0,
    "start_time": "2023-02-06T20:12:51.336Z"
   },
   {
    "duration": 18,
    "start_time": "2023-02-06T20:13:25.956Z"
   },
   {
    "duration": 729,
    "start_time": "2023-02-06T20:13:36.147Z"
   },
   {
    "duration": 127,
    "start_time": "2023-02-06T20:13:36.879Z"
   },
   {
    "duration": 16,
    "start_time": "2023-02-06T20:13:37.008Z"
   },
   {
    "duration": 1858,
    "start_time": "2023-02-06T20:13:37.026Z"
   },
   {
    "duration": 70,
    "start_time": "2023-02-06T20:13:38.886Z"
   },
   {
    "duration": 17,
    "start_time": "2023-02-06T20:13:38.958Z"
   },
   {
    "duration": 15,
    "start_time": "2023-02-06T20:13:38.976Z"
   },
   {
    "duration": 28,
    "start_time": "2023-02-06T20:13:38.993Z"
   },
   {
    "duration": 184,
    "start_time": "2023-02-06T20:13:39.022Z"
   },
   {
    "duration": 8,
    "start_time": "2023-02-06T20:13:39.209Z"
   },
   {
    "duration": 9,
    "start_time": "2023-02-06T20:13:39.219Z"
   },
   {
    "duration": 24,
    "start_time": "2023-02-06T20:13:39.230Z"
   },
   {
    "duration": 181,
    "start_time": "2023-02-06T20:13:39.256Z"
   },
   {
    "duration": 518,
    "start_time": "2023-02-06T20:13:39.439Z"
   },
   {
    "duration": 25,
    "start_time": "2023-02-06T20:13:39.958Z"
   },
   {
    "duration": 172,
    "start_time": "2023-02-06T20:13:39.985Z"
   },
   {
    "duration": 11,
    "start_time": "2023-02-06T20:13:40.159Z"
   },
   {
    "duration": 162,
    "start_time": "2023-02-06T20:13:40.171Z"
   },
   {
    "duration": 119,
    "start_time": "2023-02-06T20:13:40.335Z"
   },
   {
    "duration": 155,
    "start_time": "2023-02-06T20:13:40.456Z"
   },
   {
    "duration": 128,
    "start_time": "2023-02-06T20:13:40.613Z"
   },
   {
    "duration": 151,
    "start_time": "2023-02-06T20:13:40.743Z"
   },
   {
    "duration": 145,
    "start_time": "2023-02-06T20:13:40.896Z"
   },
   {
    "duration": 157,
    "start_time": "2023-02-06T20:13:41.043Z"
   },
   {
    "duration": 163,
    "start_time": "2023-02-06T20:13:41.202Z"
   },
   {
    "duration": 121,
    "start_time": "2023-02-06T20:13:41.367Z"
   },
   {
    "duration": 238,
    "start_time": "2023-02-06T20:13:41.489Z"
   },
   {
    "duration": 191,
    "start_time": "2023-02-06T20:13:41.730Z"
   },
   {
    "duration": 188,
    "start_time": "2023-02-06T20:13:41.923Z"
   },
   {
    "duration": 234,
    "start_time": "2023-02-06T20:13:42.113Z"
   },
   {
    "duration": 180,
    "start_time": "2023-02-06T20:13:42.349Z"
   },
   {
    "duration": 126,
    "start_time": "2023-02-06T20:13:42.531Z"
   },
   {
    "duration": 329,
    "start_time": "2023-02-06T20:13:42.659Z"
   },
   {
    "duration": 177,
    "start_time": "2023-02-06T20:13:42.990Z"
   },
   {
    "duration": 267,
    "start_time": "2023-02-06T20:13:43.169Z"
   },
   {
    "duration": 1197,
    "start_time": "2023-02-06T20:13:43.437Z"
   },
   {
    "duration": 0,
    "start_time": "2023-02-06T20:13:44.636Z"
   },
   {
    "duration": 0,
    "start_time": "2023-02-06T20:13:44.637Z"
   },
   {
    "duration": 0,
    "start_time": "2023-02-06T20:13:44.639Z"
   },
   {
    "duration": 0,
    "start_time": "2023-02-06T20:13:44.640Z"
   },
   {
    "duration": 0,
    "start_time": "2023-02-06T20:13:44.641Z"
   },
   {
    "duration": 0,
    "start_time": "2023-02-06T20:13:44.642Z"
   },
   {
    "duration": 0,
    "start_time": "2023-02-06T20:13:44.643Z"
   },
   {
    "duration": 0,
    "start_time": "2023-02-06T20:13:44.644Z"
   },
   {
    "duration": 0,
    "start_time": "2023-02-06T20:13:44.645Z"
   },
   {
    "duration": 140,
    "start_time": "2023-02-06T20:14:14.332Z"
   },
   {
    "duration": 635,
    "start_time": "2023-02-06T20:14:28.452Z"
   },
   {
    "duration": 162,
    "start_time": "2023-02-06T20:14:29.089Z"
   },
   {
    "duration": 15,
    "start_time": "2023-02-06T20:14:29.253Z"
   },
   {
    "duration": 1942,
    "start_time": "2023-02-06T20:14:29.270Z"
   },
   {
    "duration": 91,
    "start_time": "2023-02-06T20:14:31.214Z"
   },
   {
    "duration": 19,
    "start_time": "2023-02-06T20:14:31.310Z"
   },
   {
    "duration": 18,
    "start_time": "2023-02-06T20:14:31.331Z"
   },
   {
    "duration": 25,
    "start_time": "2023-02-06T20:14:31.351Z"
   },
   {
    "duration": 248,
    "start_time": "2023-02-06T20:14:31.379Z"
   },
   {
    "duration": 7,
    "start_time": "2023-02-06T20:14:31.630Z"
   },
   {
    "duration": 13,
    "start_time": "2023-02-06T20:14:31.639Z"
   },
   {
    "duration": 44,
    "start_time": "2023-02-06T20:14:31.654Z"
   },
   {
    "duration": 122,
    "start_time": "2023-02-06T20:14:31.701Z"
   },
   {
    "duration": 493,
    "start_time": "2023-02-06T20:14:31.825Z"
   },
   {
    "duration": 26,
    "start_time": "2023-02-06T20:14:32.319Z"
   },
   {
    "duration": 124,
    "start_time": "2023-02-06T20:14:32.346Z"
   },
   {
    "duration": 9,
    "start_time": "2023-02-06T20:14:32.473Z"
   },
   {
    "duration": 143,
    "start_time": "2023-02-06T20:14:32.484Z"
   },
   {
    "duration": 125,
    "start_time": "2023-02-06T20:14:32.629Z"
   },
   {
    "duration": 129,
    "start_time": "2023-02-06T20:14:32.756Z"
   },
   {
    "duration": 163,
    "start_time": "2023-02-06T20:14:32.887Z"
   },
   {
    "duration": 199,
    "start_time": "2023-02-06T20:14:33.053Z"
   },
   {
    "duration": 185,
    "start_time": "2023-02-06T20:14:33.254Z"
   },
   {
    "duration": 161,
    "start_time": "2023-02-06T20:14:33.440Z"
   },
   {
    "duration": 198,
    "start_time": "2023-02-06T20:14:33.603Z"
   },
   {
    "duration": 142,
    "start_time": "2023-02-06T20:14:33.809Z"
   },
   {
    "duration": 253,
    "start_time": "2023-02-06T20:14:33.952Z"
   },
   {
    "duration": 231,
    "start_time": "2023-02-06T20:14:34.213Z"
   },
   {
    "duration": 196,
    "start_time": "2023-02-06T20:14:34.446Z"
   },
   {
    "duration": 253,
    "start_time": "2023-02-06T20:14:34.644Z"
   },
   {
    "duration": 166,
    "start_time": "2023-02-06T20:14:34.899Z"
   },
   {
    "duration": 178,
    "start_time": "2023-02-06T20:14:35.067Z"
   },
   {
    "duration": 417,
    "start_time": "2023-02-06T20:14:35.247Z"
   },
   {
    "duration": 125,
    "start_time": "2023-02-06T20:14:35.666Z"
   },
   {
    "duration": 244,
    "start_time": "2023-02-06T20:14:35.793Z"
   },
   {
    "duration": 1198,
    "start_time": "2023-02-06T20:14:36.039Z"
   },
   {
    "duration": 0,
    "start_time": "2023-02-06T20:14:37.239Z"
   },
   {
    "duration": 0,
    "start_time": "2023-02-06T20:14:37.241Z"
   },
   {
    "duration": 0,
    "start_time": "2023-02-06T20:14:37.242Z"
   },
   {
    "duration": 0,
    "start_time": "2023-02-06T20:14:37.243Z"
   },
   {
    "duration": 0,
    "start_time": "2023-02-06T20:14:37.244Z"
   },
   {
    "duration": 0,
    "start_time": "2023-02-06T20:14:37.245Z"
   },
   {
    "duration": 0,
    "start_time": "2023-02-06T20:14:37.246Z"
   },
   {
    "duration": 0,
    "start_time": "2023-02-06T20:14:37.247Z"
   },
   {
    "duration": 0,
    "start_time": "2023-02-06T20:14:37.249Z"
   },
   {
    "duration": 47,
    "start_time": "2023-02-06T20:15:25.670Z"
   },
   {
    "duration": 50,
    "start_time": "2023-02-06T20:16:05.249Z"
   },
   {
    "duration": 39,
    "start_time": "2023-02-06T20:16:12.442Z"
   },
   {
    "duration": 20,
    "start_time": "2023-02-06T20:16:19.946Z"
   },
   {
    "duration": 655,
    "start_time": "2023-02-06T20:16:28.765Z"
   },
   {
    "duration": 141,
    "start_time": "2023-02-06T20:16:29.423Z"
   },
   {
    "duration": 15,
    "start_time": "2023-02-06T20:16:29.566Z"
   },
   {
    "duration": 1853,
    "start_time": "2023-02-06T20:16:29.583Z"
   },
   {
    "duration": 70,
    "start_time": "2023-02-06T20:16:31.438Z"
   },
   {
    "duration": 16,
    "start_time": "2023-02-06T20:16:31.510Z"
   },
   {
    "duration": 25,
    "start_time": "2023-02-06T20:16:31.527Z"
   },
   {
    "duration": 13,
    "start_time": "2023-02-06T20:16:31.554Z"
   },
   {
    "duration": 179,
    "start_time": "2023-02-06T20:16:31.569Z"
   },
   {
    "duration": 8,
    "start_time": "2023-02-06T20:16:31.751Z"
   },
   {
    "duration": 8,
    "start_time": "2023-02-06T20:16:31.761Z"
   },
   {
    "duration": 40,
    "start_time": "2023-02-06T20:16:31.771Z"
   },
   {
    "duration": 130,
    "start_time": "2023-02-06T20:16:31.812Z"
   },
   {
    "duration": 471,
    "start_time": "2023-02-06T20:16:31.944Z"
   },
   {
    "duration": 26,
    "start_time": "2023-02-06T20:16:32.417Z"
   },
   {
    "duration": 123,
    "start_time": "2023-02-06T20:16:32.444Z"
   },
   {
    "duration": 8,
    "start_time": "2023-02-06T20:16:32.568Z"
   },
   {
    "duration": 132,
    "start_time": "2023-02-06T20:16:32.578Z"
   },
   {
    "duration": 126,
    "start_time": "2023-02-06T20:16:32.714Z"
   },
   {
    "duration": 127,
    "start_time": "2023-02-06T20:16:32.841Z"
   },
   {
    "duration": 144,
    "start_time": "2023-02-06T20:16:32.969Z"
   },
   {
    "duration": 151,
    "start_time": "2023-02-06T20:16:33.116Z"
   },
   {
    "duration": 154,
    "start_time": "2023-02-06T20:16:33.269Z"
   },
   {
    "duration": 156,
    "start_time": "2023-02-06T20:16:33.424Z"
   },
   {
    "duration": 153,
    "start_time": "2023-02-06T20:16:33.582Z"
   },
   {
    "duration": 120,
    "start_time": "2023-02-06T20:16:33.737Z"
   },
   {
    "duration": 259,
    "start_time": "2023-02-06T20:16:33.858Z"
   },
   {
    "duration": 202,
    "start_time": "2023-02-06T20:16:34.121Z"
   },
   {
    "duration": 172,
    "start_time": "2023-02-06T20:16:34.325Z"
   },
   {
    "duration": 175,
    "start_time": "2023-02-06T20:16:34.499Z"
   },
   {
    "duration": 161,
    "start_time": "2023-02-06T20:16:34.676Z"
   },
   {
    "duration": 125,
    "start_time": "2023-02-06T20:16:34.839Z"
   },
   {
    "duration": 271,
    "start_time": "2023-02-06T20:16:34.965Z"
   },
   {
    "duration": 125,
    "start_time": "2023-02-06T20:16:35.238Z"
   },
   {
    "duration": 230,
    "start_time": "2023-02-06T20:16:35.364Z"
   },
   {
    "duration": 1392,
    "start_time": "2023-02-06T20:16:35.596Z"
   },
   {
    "duration": 0,
    "start_time": "2023-02-06T20:16:36.989Z"
   },
   {
    "duration": 0,
    "start_time": "2023-02-06T20:16:36.991Z"
   },
   {
    "duration": 0,
    "start_time": "2023-02-06T20:16:36.992Z"
   },
   {
    "duration": 0,
    "start_time": "2023-02-06T20:16:36.993Z"
   },
   {
    "duration": 0,
    "start_time": "2023-02-06T20:16:36.994Z"
   },
   {
    "duration": 0,
    "start_time": "2023-02-06T20:16:36.995Z"
   },
   {
    "duration": 0,
    "start_time": "2023-02-06T20:16:36.996Z"
   },
   {
    "duration": 0,
    "start_time": "2023-02-06T20:16:36.997Z"
   },
   {
    "duration": 0,
    "start_time": "2023-02-06T20:16:37.010Z"
   },
   {
    "duration": 20,
    "start_time": "2023-02-06T20:17:04.251Z"
   },
   {
    "duration": 611,
    "start_time": "2023-02-06T20:17:14.444Z"
   },
   {
    "duration": 116,
    "start_time": "2023-02-06T20:17:15.056Z"
   },
   {
    "duration": 20,
    "start_time": "2023-02-06T20:17:15.174Z"
   },
   {
    "duration": 1902,
    "start_time": "2023-02-06T20:17:15.210Z"
   },
   {
    "duration": 68,
    "start_time": "2023-02-06T20:17:17.114Z"
   },
   {
    "duration": 26,
    "start_time": "2023-02-06T20:17:17.184Z"
   },
   {
    "duration": 15,
    "start_time": "2023-02-06T20:17:17.211Z"
   },
   {
    "duration": 34,
    "start_time": "2023-02-06T20:17:17.228Z"
   },
   {
    "duration": 191,
    "start_time": "2023-02-06T20:17:17.264Z"
   },
   {
    "duration": 6,
    "start_time": "2023-02-06T20:17:17.458Z"
   },
   {
    "duration": 12,
    "start_time": "2023-02-06T20:17:17.466Z"
   },
   {
    "duration": 40,
    "start_time": "2023-02-06T20:17:17.480Z"
   },
   {
    "duration": 122,
    "start_time": "2023-02-06T20:17:17.522Z"
   },
   {
    "duration": 456,
    "start_time": "2023-02-06T20:17:17.646Z"
   },
   {
    "duration": 25,
    "start_time": "2023-02-06T20:17:18.104Z"
   },
   {
    "duration": 158,
    "start_time": "2023-02-06T20:17:18.131Z"
   },
   {
    "duration": 9,
    "start_time": "2023-02-06T20:17:18.290Z"
   },
   {
    "duration": 124,
    "start_time": "2023-02-06T20:17:18.310Z"
   },
   {
    "duration": 123,
    "start_time": "2023-02-06T20:17:18.435Z"
   },
   {
    "duration": 128,
    "start_time": "2023-02-06T20:17:18.560Z"
   },
   {
    "duration": 130,
    "start_time": "2023-02-06T20:17:18.689Z"
   },
   {
    "duration": 151,
    "start_time": "2023-02-06T20:17:18.821Z"
   },
   {
    "duration": 185,
    "start_time": "2023-02-06T20:17:18.974Z"
   },
   {
    "duration": 157,
    "start_time": "2023-02-06T20:17:19.161Z"
   },
   {
    "duration": 159,
    "start_time": "2023-02-06T20:17:19.320Z"
   },
   {
    "duration": 139,
    "start_time": "2023-02-06T20:17:19.480Z"
   },
   {
    "duration": 247,
    "start_time": "2023-02-06T20:17:19.622Z"
   },
   {
    "duration": 199,
    "start_time": "2023-02-06T20:17:19.872Z"
   },
   {
    "duration": 203,
    "start_time": "2023-02-06T20:17:20.074Z"
   },
   {
    "duration": 220,
    "start_time": "2023-02-06T20:17:20.279Z"
   },
   {
    "duration": 194,
    "start_time": "2023-02-06T20:17:20.501Z"
   },
   {
    "duration": 131,
    "start_time": "2023-02-06T20:17:20.698Z"
   },
   {
    "duration": 264,
    "start_time": "2023-02-06T20:17:20.831Z"
   },
   {
    "duration": 130,
    "start_time": "2023-02-06T20:17:21.097Z"
   },
   {
    "duration": 238,
    "start_time": "2023-02-06T20:17:21.229Z"
   },
   {
    "duration": 1298,
    "start_time": "2023-02-06T20:17:21.469Z"
   },
   {
    "duration": 0,
    "start_time": "2023-02-06T20:17:22.769Z"
   },
   {
    "duration": 0,
    "start_time": "2023-02-06T20:17:22.771Z"
   },
   {
    "duration": 0,
    "start_time": "2023-02-06T20:17:22.772Z"
   },
   {
    "duration": 0,
    "start_time": "2023-02-06T20:17:22.773Z"
   },
   {
    "duration": 0,
    "start_time": "2023-02-06T20:17:22.774Z"
   },
   {
    "duration": 0,
    "start_time": "2023-02-06T20:17:22.776Z"
   },
   {
    "duration": 0,
    "start_time": "2023-02-06T20:17:22.777Z"
   },
   {
    "duration": 0,
    "start_time": "2023-02-06T20:17:22.779Z"
   },
   {
    "duration": 0,
    "start_time": "2023-02-06T20:17:22.780Z"
   },
   {
    "duration": 20,
    "start_time": "2023-02-06T20:17:36.521Z"
   },
   {
    "duration": 22,
    "start_time": "2023-02-06T20:17:53.643Z"
   },
   {
    "duration": 722,
    "start_time": "2023-02-06T20:18:06.261Z"
   },
   {
    "duration": 115,
    "start_time": "2023-02-06T20:18:06.986Z"
   },
   {
    "duration": 18,
    "start_time": "2023-02-06T20:18:07.102Z"
   },
   {
    "duration": 1825,
    "start_time": "2023-02-06T20:18:07.123Z"
   },
   {
    "duration": 71,
    "start_time": "2023-02-06T20:18:08.950Z"
   },
   {
    "duration": 16,
    "start_time": "2023-02-06T20:18:09.023Z"
   },
   {
    "duration": 15,
    "start_time": "2023-02-06T20:18:09.040Z"
   },
   {
    "duration": 15,
    "start_time": "2023-02-06T20:18:09.057Z"
   },
   {
    "duration": 204,
    "start_time": "2023-02-06T20:18:09.073Z"
   },
   {
    "duration": 8,
    "start_time": "2023-02-06T20:18:09.280Z"
   },
   {
    "duration": 21,
    "start_time": "2023-02-06T20:18:09.290Z"
   },
   {
    "duration": 30,
    "start_time": "2023-02-06T20:18:09.312Z"
   },
   {
    "duration": 132,
    "start_time": "2023-02-06T20:18:09.344Z"
   },
   {
    "duration": 472,
    "start_time": "2023-02-06T20:18:09.478Z"
   },
   {
    "duration": 25,
    "start_time": "2023-02-06T20:18:09.952Z"
   },
   {
    "duration": 117,
    "start_time": "2023-02-06T20:18:09.979Z"
   },
   {
    "duration": 18,
    "start_time": "2023-02-06T20:18:10.098Z"
   },
   {
    "duration": 129,
    "start_time": "2023-02-06T20:18:10.117Z"
   },
   {
    "duration": 122,
    "start_time": "2023-02-06T20:18:10.248Z"
   },
   {
    "duration": 130,
    "start_time": "2023-02-06T20:18:10.372Z"
   },
   {
    "duration": 130,
    "start_time": "2023-02-06T20:18:10.509Z"
   },
   {
    "duration": 165,
    "start_time": "2023-02-06T20:18:10.641Z"
   },
   {
    "duration": 172,
    "start_time": "2023-02-06T20:18:10.809Z"
   },
   {
    "duration": 172,
    "start_time": "2023-02-06T20:18:10.983Z"
   },
   {
    "duration": 210,
    "start_time": "2023-02-06T20:18:11.157Z"
   },
   {
    "duration": 117,
    "start_time": "2023-02-06T20:18:11.369Z"
   },
   {
    "duration": 244,
    "start_time": "2023-02-06T20:18:11.488Z"
   },
   {
    "duration": 191,
    "start_time": "2023-02-06T20:18:11.735Z"
   },
   {
    "duration": 176,
    "start_time": "2023-02-06T20:18:11.928Z"
   },
   {
    "duration": 218,
    "start_time": "2023-02-06T20:18:12.106Z"
   },
   {
    "duration": 188,
    "start_time": "2023-02-06T20:18:12.326Z"
   },
   {
    "duration": 128,
    "start_time": "2023-02-06T20:18:12.516Z"
   },
   {
    "duration": 264,
    "start_time": "2023-02-06T20:18:12.646Z"
   },
   {
    "duration": 143,
    "start_time": "2023-02-06T20:18:12.912Z"
   },
   {
    "duration": 222,
    "start_time": "2023-02-06T20:18:13.056Z"
   },
   {
    "duration": 1163,
    "start_time": "2023-02-06T20:18:13.280Z"
   },
   {
    "duration": 0,
    "start_time": "2023-02-06T20:18:14.445Z"
   },
   {
    "duration": 0,
    "start_time": "2023-02-06T20:18:14.446Z"
   },
   {
    "duration": 0,
    "start_time": "2023-02-06T20:18:14.448Z"
   },
   {
    "duration": 0,
    "start_time": "2023-02-06T20:18:14.449Z"
   },
   {
    "duration": 0,
    "start_time": "2023-02-06T20:18:14.451Z"
   },
   {
    "duration": 0,
    "start_time": "2023-02-06T20:18:14.452Z"
   },
   {
    "duration": 0,
    "start_time": "2023-02-06T20:18:14.454Z"
   },
   {
    "duration": 0,
    "start_time": "2023-02-06T20:18:14.455Z"
   },
   {
    "duration": 0,
    "start_time": "2023-02-06T20:18:14.456Z"
   },
   {
    "duration": 19,
    "start_time": "2023-02-06T20:18:25.188Z"
   },
   {
    "duration": 709,
    "start_time": "2023-02-06T20:19:07.611Z"
   },
   {
    "duration": 113,
    "start_time": "2023-02-06T20:19:08.322Z"
   },
   {
    "duration": 15,
    "start_time": "2023-02-06T20:19:08.437Z"
   },
   {
    "duration": 1832,
    "start_time": "2023-02-06T20:19:08.455Z"
   },
   {
    "duration": 73,
    "start_time": "2023-02-06T20:19:10.288Z"
   },
   {
    "duration": 16,
    "start_time": "2023-02-06T20:19:10.362Z"
   },
   {
    "duration": 14,
    "start_time": "2023-02-06T20:19:10.380Z"
   },
   {
    "duration": 13,
    "start_time": "2023-02-06T20:19:10.410Z"
   },
   {
    "duration": 186,
    "start_time": "2023-02-06T20:19:10.425Z"
   },
   {
    "duration": 7,
    "start_time": "2023-02-06T20:19:10.615Z"
   },
   {
    "duration": 8,
    "start_time": "2023-02-06T20:19:10.624Z"
   },
   {
    "duration": 17,
    "start_time": "2023-02-06T20:19:10.633Z"
   },
   {
    "duration": 134,
    "start_time": "2023-02-06T20:19:10.652Z"
   },
   {
    "duration": 445,
    "start_time": "2023-02-06T20:19:10.787Z"
   },
   {
    "duration": 26,
    "start_time": "2023-02-06T20:19:11.233Z"
   },
   {
    "duration": 141,
    "start_time": "2023-02-06T20:19:11.260Z"
   },
   {
    "duration": 13,
    "start_time": "2023-02-06T20:19:11.403Z"
   },
   {
    "duration": 131,
    "start_time": "2023-02-06T20:19:11.418Z"
   },
   {
    "duration": 121,
    "start_time": "2023-02-06T20:19:11.550Z"
   },
   {
    "duration": 128,
    "start_time": "2023-02-06T20:19:11.673Z"
   },
   {
    "duration": 127,
    "start_time": "2023-02-06T20:19:11.809Z"
   },
   {
    "duration": 148,
    "start_time": "2023-02-06T20:19:11.937Z"
   },
   {
    "duration": 143,
    "start_time": "2023-02-06T20:19:12.087Z"
   },
   {
    "duration": 168,
    "start_time": "2023-02-06T20:19:12.232Z"
   },
   {
    "duration": 159,
    "start_time": "2023-02-06T20:19:12.402Z"
   },
   {
    "duration": 113,
    "start_time": "2023-02-06T20:19:12.563Z"
   },
   {
    "duration": 295,
    "start_time": "2023-02-06T20:19:12.678Z"
   },
   {
    "duration": 240,
    "start_time": "2023-02-06T20:19:12.977Z"
   },
   {
    "duration": 191,
    "start_time": "2023-02-06T20:19:13.219Z"
   },
   {
    "duration": 224,
    "start_time": "2023-02-06T20:19:13.414Z"
   },
   {
    "duration": 170,
    "start_time": "2023-02-06T20:19:13.640Z"
   },
   {
    "duration": 128,
    "start_time": "2023-02-06T20:19:13.812Z"
   },
   {
    "duration": 268,
    "start_time": "2023-02-06T20:19:13.942Z"
   },
   {
    "duration": 141,
    "start_time": "2023-02-06T20:19:14.212Z"
   },
   {
    "duration": 227,
    "start_time": "2023-02-06T20:19:14.355Z"
   },
   {
    "duration": 1180,
    "start_time": "2023-02-06T20:19:14.584Z"
   },
   {
    "duration": 0,
    "start_time": "2023-02-06T20:19:15.766Z"
   },
   {
    "duration": 0,
    "start_time": "2023-02-06T20:19:15.767Z"
   },
   {
    "duration": 0,
    "start_time": "2023-02-06T20:19:15.769Z"
   },
   {
    "duration": 0,
    "start_time": "2023-02-06T20:19:15.770Z"
   },
   {
    "duration": 0,
    "start_time": "2023-02-06T20:19:15.771Z"
   },
   {
    "duration": 0,
    "start_time": "2023-02-06T20:19:15.772Z"
   },
   {
    "duration": 0,
    "start_time": "2023-02-06T20:19:15.774Z"
   },
   {
    "duration": 0,
    "start_time": "2023-02-06T20:19:15.775Z"
   },
   {
    "duration": 1,
    "start_time": "2023-02-06T20:19:15.775Z"
   },
   {
    "duration": 71,
    "start_time": "2023-02-06T20:20:45.564Z"
   },
   {
    "duration": 29,
    "start_time": "2023-02-06T20:20:52.842Z"
   },
   {
    "duration": 25,
    "start_time": "2023-02-06T20:21:02.441Z"
   },
   {
    "duration": 16,
    "start_time": "2023-02-06T20:21:17.640Z"
   },
   {
    "duration": 21,
    "start_time": "2023-02-06T20:21:25.933Z"
   },
   {
    "duration": 20,
    "start_time": "2023-02-06T20:21:31.695Z"
   },
   {
    "duration": 17,
    "start_time": "2023-02-06T20:22:37.113Z"
   },
   {
    "duration": 19,
    "start_time": "2023-02-06T20:22:44.303Z"
   },
   {
    "duration": 125,
    "start_time": "2023-02-06T20:23:44.231Z"
   },
   {
    "duration": 18,
    "start_time": "2023-02-06T20:24:02.201Z"
   },
   {
    "duration": 18,
    "start_time": "2023-02-06T20:24:44.246Z"
   },
   {
    "duration": 654,
    "start_time": "2023-02-06T20:24:53.331Z"
   },
   {
    "duration": 115,
    "start_time": "2023-02-06T20:24:53.987Z"
   },
   {
    "duration": 18,
    "start_time": "2023-02-06T20:24:54.104Z"
   },
   {
    "duration": 1868,
    "start_time": "2023-02-06T20:24:54.124Z"
   },
   {
    "duration": 71,
    "start_time": "2023-02-06T20:24:55.994Z"
   },
   {
    "duration": 17,
    "start_time": "2023-02-06T20:24:56.066Z"
   },
   {
    "duration": 30,
    "start_time": "2023-02-06T20:24:56.085Z"
   },
   {
    "duration": 14,
    "start_time": "2023-02-06T20:24:56.116Z"
   },
   {
    "duration": 185,
    "start_time": "2023-02-06T20:24:56.132Z"
   },
   {
    "duration": 7,
    "start_time": "2023-02-06T20:24:56.321Z"
   },
   {
    "duration": 17,
    "start_time": "2023-02-06T20:24:56.329Z"
   },
   {
    "duration": 20,
    "start_time": "2023-02-06T20:24:56.348Z"
   },
   {
    "duration": 13,
    "start_time": "2023-02-06T20:24:56.370Z"
   },
   {
    "duration": 501,
    "start_time": "2023-02-06T20:24:56.385Z"
   },
   {
    "duration": 40,
    "start_time": "2023-02-06T20:24:56.888Z"
   },
   {
    "duration": 237,
    "start_time": "2023-02-06T20:24:56.929Z"
   },
   {
    "duration": 9,
    "start_time": "2023-02-06T20:24:57.167Z"
   },
   {
    "duration": 138,
    "start_time": "2023-02-06T20:24:57.177Z"
   },
   {
    "duration": 116,
    "start_time": "2023-02-06T20:24:57.316Z"
   },
   {
    "duration": 136,
    "start_time": "2023-02-06T20:24:57.434Z"
   },
   {
    "duration": 125,
    "start_time": "2023-02-06T20:24:57.572Z"
   },
   {
    "duration": 154,
    "start_time": "2023-02-06T20:24:57.699Z"
   },
   {
    "duration": 167,
    "start_time": "2023-02-06T20:24:57.855Z"
   },
   {
    "duration": 151,
    "start_time": "2023-02-06T20:24:58.024Z"
   },
   {
    "duration": 156,
    "start_time": "2023-02-06T20:24:58.177Z"
   },
   {
    "duration": 122,
    "start_time": "2023-02-06T20:24:58.335Z"
   },
   {
    "duration": 187,
    "start_time": "2023-02-06T20:24:58.459Z"
   },
   {
    "duration": 265,
    "start_time": "2023-02-06T20:24:58.650Z"
   },
   {
    "duration": 215,
    "start_time": "2023-02-06T20:24:58.917Z"
   },
   {
    "duration": 200,
    "start_time": "2023-02-06T20:24:59.134Z"
   },
   {
    "duration": 165,
    "start_time": "2023-02-06T20:24:59.336Z"
   },
   {
    "duration": 137,
    "start_time": "2023-02-06T20:24:59.503Z"
   },
   {
    "duration": 215,
    "start_time": "2023-02-06T20:24:59.642Z"
   },
   {
    "duration": 128,
    "start_time": "2023-02-06T20:24:59.859Z"
   },
   {
    "duration": 281,
    "start_time": "2023-02-06T20:24:59.988Z"
   },
   {
    "duration": 1254,
    "start_time": "2023-02-06T20:25:00.271Z"
   },
   {
    "duration": 0,
    "start_time": "2023-02-06T20:25:01.527Z"
   },
   {
    "duration": 0,
    "start_time": "2023-02-06T20:25:01.528Z"
   },
   {
    "duration": 0,
    "start_time": "2023-02-06T20:25:01.529Z"
   },
   {
    "duration": 0,
    "start_time": "2023-02-06T20:25:01.531Z"
   },
   {
    "duration": 0,
    "start_time": "2023-02-06T20:25:01.533Z"
   },
   {
    "duration": 0,
    "start_time": "2023-02-06T20:25:01.534Z"
   },
   {
    "duration": 0,
    "start_time": "2023-02-06T20:25:01.536Z"
   },
   {
    "duration": 0,
    "start_time": "2023-02-06T20:25:01.537Z"
   },
   {
    "duration": 0,
    "start_time": "2023-02-06T20:25:01.539Z"
   },
   {
    "duration": 142,
    "start_time": "2023-02-06T20:25:49.312Z"
   },
   {
    "duration": 43,
    "start_time": "2023-02-06T20:25:59.287Z"
   },
   {
    "duration": 43,
    "start_time": "2023-02-06T20:26:14.050Z"
   },
   {
    "duration": 72,
    "start_time": "2023-02-06T20:26:33.259Z"
   },
   {
    "duration": 118,
    "start_time": "2023-02-06T20:26:37.035Z"
   },
   {
    "duration": 16,
    "start_time": "2023-02-06T20:26:49.418Z"
   },
   {
    "duration": 22,
    "start_time": "2023-02-06T20:27:26.919Z"
   },
   {
    "duration": 120,
    "start_time": "2023-02-06T20:27:34.603Z"
   },
   {
    "duration": 387,
    "start_time": "2023-02-06T20:28:15.584Z"
   },
   {
    "duration": 28,
    "start_time": "2023-02-06T20:28:18.493Z"
   },
   {
    "duration": 120,
    "start_time": "2023-02-06T20:28:35.707Z"
   },
   {
    "duration": 186,
    "start_time": "2023-02-06T20:29:00.079Z"
   },
   {
    "duration": 135,
    "start_time": "2023-02-06T20:29:29.081Z"
   },
   {
    "duration": 111,
    "start_time": "2023-02-06T20:30:19.787Z"
   },
   {
    "duration": 208,
    "start_time": "2023-02-06T20:30:35.155Z"
   },
   {
    "duration": 228,
    "start_time": "2023-02-06T20:30:40.010Z"
   },
   {
    "duration": 117,
    "start_time": "2023-02-06T20:30:45.523Z"
   },
   {
    "duration": 187,
    "start_time": "2023-02-06T20:31:00.314Z"
   },
   {
    "duration": 135,
    "start_time": "2023-02-06T20:31:07.027Z"
   },
   {
    "duration": 131,
    "start_time": "2023-02-06T20:31:25.388Z"
   },
   {
    "duration": 192,
    "start_time": "2023-02-06T20:31:38.372Z"
   },
   {
    "duration": 125,
    "start_time": "2023-02-06T20:31:47.844Z"
   },
   {
    "duration": 666,
    "start_time": "2023-02-06T20:32:21.022Z"
   },
   {
    "duration": 132,
    "start_time": "2023-02-06T20:32:21.690Z"
   },
   {
    "duration": 15,
    "start_time": "2023-02-06T20:32:21.823Z"
   },
   {
    "duration": 2024,
    "start_time": "2023-02-06T20:32:21.840Z"
   },
   {
    "duration": 74,
    "start_time": "2023-02-06T20:32:23.867Z"
   },
   {
    "duration": 16,
    "start_time": "2023-02-06T20:32:23.943Z"
   },
   {
    "duration": 15,
    "start_time": "2023-02-06T20:32:23.961Z"
   },
   {
    "duration": 12,
    "start_time": "2023-02-06T20:32:23.977Z"
   },
   {
    "duration": 202,
    "start_time": "2023-02-06T20:32:23.991Z"
   },
   {
    "duration": 15,
    "start_time": "2023-02-06T20:32:24.195Z"
   },
   {
    "duration": 9,
    "start_time": "2023-02-06T20:32:24.211Z"
   },
   {
    "duration": 23,
    "start_time": "2023-02-06T20:32:24.227Z"
   },
   {
    "duration": 126,
    "start_time": "2023-02-06T20:32:24.252Z"
   },
   {
    "duration": 544,
    "start_time": "2023-02-06T20:32:24.380Z"
   },
   {
    "duration": 28,
    "start_time": "2023-02-06T20:32:24.927Z"
   },
   {
    "duration": 133,
    "start_time": "2023-02-06T20:32:24.956Z"
   },
   {
    "duration": 8,
    "start_time": "2023-02-06T20:32:25.090Z"
   },
   {
    "duration": 162,
    "start_time": "2023-02-06T20:32:25.110Z"
   },
   {
    "duration": 124,
    "start_time": "2023-02-06T20:32:25.274Z"
   },
   {
    "duration": 176,
    "start_time": "2023-02-06T20:32:25.400Z"
   },
   {
    "duration": 153,
    "start_time": "2023-02-06T20:32:25.578Z"
   },
   {
    "duration": 157,
    "start_time": "2023-02-06T20:32:25.732Z"
   },
   {
    "duration": 151,
    "start_time": "2023-02-06T20:32:25.891Z"
   },
   {
    "duration": 168,
    "start_time": "2023-02-06T20:32:26.044Z"
   },
   {
    "duration": 162,
    "start_time": "2023-02-06T20:32:26.213Z"
   },
   {
    "duration": 118,
    "start_time": "2023-02-06T20:32:26.377Z"
   },
   {
    "duration": 280,
    "start_time": "2023-02-06T20:32:26.496Z"
   },
   {
    "duration": 236,
    "start_time": "2023-02-06T20:32:26.780Z"
   },
   {
    "duration": 198,
    "start_time": "2023-02-06T20:32:27.017Z"
   },
   {
    "duration": 194,
    "start_time": "2023-02-06T20:32:27.216Z"
   },
   {
    "duration": 186,
    "start_time": "2023-02-06T20:32:27.411Z"
   },
   {
    "duration": 132,
    "start_time": "2023-02-06T20:32:27.599Z"
   },
   {
    "duration": 270,
    "start_time": "2023-02-06T20:32:27.733Z"
   },
   {
    "duration": 135,
    "start_time": "2023-02-06T20:32:28.005Z"
   },
   {
    "duration": 220,
    "start_time": "2023-02-06T20:32:28.141Z"
   },
   {
    "duration": 1238,
    "start_time": "2023-02-06T20:32:28.362Z"
   },
   {
    "duration": 0,
    "start_time": "2023-02-06T20:32:29.602Z"
   },
   {
    "duration": 0,
    "start_time": "2023-02-06T20:32:29.602Z"
   },
   {
    "duration": 0,
    "start_time": "2023-02-06T20:32:29.603Z"
   },
   {
    "duration": 0,
    "start_time": "2023-02-06T20:32:29.604Z"
   },
   {
    "duration": 0,
    "start_time": "2023-02-06T20:32:29.606Z"
   },
   {
    "duration": 0,
    "start_time": "2023-02-06T20:32:29.607Z"
   },
   {
    "duration": 0,
    "start_time": "2023-02-06T20:32:29.608Z"
   },
   {
    "duration": 0,
    "start_time": "2023-02-06T20:32:29.609Z"
   },
   {
    "duration": 0,
    "start_time": "2023-02-06T20:32:29.610Z"
   },
   {
    "duration": 153,
    "start_time": "2023-02-06T20:33:07.078Z"
   },
   {
    "duration": 135,
    "start_time": "2023-02-06T20:33:13.685Z"
   },
   {
    "duration": 680,
    "start_time": "2023-02-06T20:33:39.502Z"
   },
   {
    "duration": 136,
    "start_time": "2023-02-06T20:33:40.184Z"
   },
   {
    "duration": 17,
    "start_time": "2023-02-06T20:33:40.322Z"
   },
   {
    "duration": 1883,
    "start_time": "2023-02-06T20:33:40.341Z"
   },
   {
    "duration": 69,
    "start_time": "2023-02-06T20:33:42.226Z"
   },
   {
    "duration": 17,
    "start_time": "2023-02-06T20:33:42.297Z"
   },
   {
    "duration": 18,
    "start_time": "2023-02-06T20:33:42.315Z"
   },
   {
    "duration": 12,
    "start_time": "2023-02-06T20:33:42.335Z"
   },
   {
    "duration": 217,
    "start_time": "2023-02-06T20:33:42.349Z"
   },
   {
    "duration": 6,
    "start_time": "2023-02-06T20:33:42.568Z"
   },
   {
    "duration": 13,
    "start_time": "2023-02-06T20:33:42.576Z"
   },
   {
    "duration": 30,
    "start_time": "2023-02-06T20:33:42.591Z"
   },
   {
    "duration": 121,
    "start_time": "2023-02-06T20:33:42.623Z"
   },
   {
    "duration": 498,
    "start_time": "2023-02-06T20:33:42.746Z"
   },
   {
    "duration": 26,
    "start_time": "2023-02-06T20:33:43.246Z"
   },
   {
    "duration": 159,
    "start_time": "2023-02-06T20:33:43.273Z"
   },
   {
    "duration": 13,
    "start_time": "2023-02-06T20:33:43.434Z"
   },
   {
    "duration": 142,
    "start_time": "2023-02-06T20:33:43.449Z"
   },
   {
    "duration": 125,
    "start_time": "2023-02-06T20:33:43.593Z"
   },
   {
    "duration": 145,
    "start_time": "2023-02-06T20:33:43.720Z"
   },
   {
    "duration": 126,
    "start_time": "2023-02-06T20:33:43.866Z"
   },
   {
    "duration": 155,
    "start_time": "2023-02-06T20:33:43.994Z"
   },
   {
    "duration": 141,
    "start_time": "2023-02-06T20:33:44.150Z"
   },
   {
    "duration": 159,
    "start_time": "2023-02-06T20:33:44.293Z"
   },
   {
    "duration": 162,
    "start_time": "2023-02-06T20:33:44.454Z"
   },
   {
    "duration": 128,
    "start_time": "2023-02-06T20:33:44.618Z"
   },
   {
    "duration": 247,
    "start_time": "2023-02-06T20:33:44.748Z"
   },
   {
    "duration": 207,
    "start_time": "2023-02-06T20:33:44.998Z"
   },
   {
    "duration": 178,
    "start_time": "2023-02-06T20:33:45.206Z"
   },
   {
    "duration": 196,
    "start_time": "2023-02-06T20:33:45.385Z"
   },
   {
    "duration": 174,
    "start_time": "2023-02-06T20:33:45.582Z"
   },
   {
    "duration": 136,
    "start_time": "2023-02-06T20:33:45.757Z"
   },
   {
    "duration": 290,
    "start_time": "2023-02-06T20:33:45.895Z"
   },
   {
    "duration": 131,
    "start_time": "2023-02-06T20:33:46.187Z"
   },
   {
    "duration": 250,
    "start_time": "2023-02-06T20:33:46.320Z"
   },
   {
    "duration": 1363,
    "start_time": "2023-02-06T20:33:46.573Z"
   },
   {
    "duration": 0,
    "start_time": "2023-02-06T20:33:47.938Z"
   },
   {
    "duration": 0,
    "start_time": "2023-02-06T20:33:47.939Z"
   },
   {
    "duration": 0,
    "start_time": "2023-02-06T20:33:47.940Z"
   },
   {
    "duration": 0,
    "start_time": "2023-02-06T20:33:47.942Z"
   },
   {
    "duration": 0,
    "start_time": "2023-02-06T20:33:47.943Z"
   },
   {
    "duration": 0,
    "start_time": "2023-02-06T20:33:47.944Z"
   },
   {
    "duration": 0,
    "start_time": "2023-02-06T20:33:47.946Z"
   },
   {
    "duration": 0,
    "start_time": "2023-02-06T20:33:47.947Z"
   },
   {
    "duration": 0,
    "start_time": "2023-02-06T20:33:47.948Z"
   },
   {
    "duration": 100,
    "start_time": "2023-02-06T20:35:38.243Z"
   },
   {
    "duration": 101,
    "start_time": "2023-02-06T20:35:54.040Z"
   },
   {
    "duration": 122,
    "start_time": "2023-02-06T20:36:14.188Z"
   },
   {
    "duration": 633,
    "start_time": "2023-02-06T20:36:19.049Z"
   },
   {
    "duration": 134,
    "start_time": "2023-02-06T20:36:19.684Z"
   },
   {
    "duration": 28,
    "start_time": "2023-02-06T20:36:19.820Z"
   },
   {
    "duration": 1942,
    "start_time": "2023-02-06T20:36:19.850Z"
   },
   {
    "duration": 72,
    "start_time": "2023-02-06T20:36:21.794Z"
   },
   {
    "duration": 16,
    "start_time": "2023-02-06T20:36:21.867Z"
   },
   {
    "duration": 34,
    "start_time": "2023-02-06T20:36:21.884Z"
   },
   {
    "duration": 14,
    "start_time": "2023-02-06T20:36:21.921Z"
   },
   {
    "duration": 207,
    "start_time": "2023-02-06T20:36:21.937Z"
   },
   {
    "duration": 7,
    "start_time": "2023-02-06T20:36:22.147Z"
   },
   {
    "duration": 9,
    "start_time": "2023-02-06T20:36:22.156Z"
   },
   {
    "duration": 18,
    "start_time": "2023-02-06T20:36:22.167Z"
   },
   {
    "duration": 153,
    "start_time": "2023-02-06T20:36:22.187Z"
   },
   {
    "duration": 500,
    "start_time": "2023-02-06T20:36:22.342Z"
   },
   {
    "duration": 25,
    "start_time": "2023-02-06T20:36:22.844Z"
   },
   {
    "duration": 131,
    "start_time": "2023-02-06T20:36:22.870Z"
   },
   {
    "duration": 14,
    "start_time": "2023-02-06T20:36:23.003Z"
   },
   {
    "duration": 150,
    "start_time": "2023-02-06T20:36:23.018Z"
   },
   {
    "duration": 125,
    "start_time": "2023-02-06T20:36:23.170Z"
   },
   {
    "duration": 160,
    "start_time": "2023-02-06T20:36:23.297Z"
   },
   {
    "duration": 113,
    "start_time": "2023-02-06T20:36:23.459Z"
   },
   {
    "duration": 164,
    "start_time": "2023-02-06T20:36:23.573Z"
   },
   {
    "duration": 145,
    "start_time": "2023-02-06T20:36:23.739Z"
   },
   {
    "duration": 198,
    "start_time": "2023-02-06T20:36:23.886Z"
   },
   {
    "duration": 221,
    "start_time": "2023-02-06T20:36:24.085Z"
   },
   {
    "duration": 133,
    "start_time": "2023-02-06T20:36:24.310Z"
   },
   {
    "duration": 259,
    "start_time": "2023-02-06T20:36:24.445Z"
   },
   {
    "duration": 187,
    "start_time": "2023-02-06T20:36:24.712Z"
   },
   {
    "duration": 185,
    "start_time": "2023-02-06T20:36:24.901Z"
   },
   {
    "duration": 189,
    "start_time": "2023-02-06T20:36:25.088Z"
   },
   {
    "duration": 184,
    "start_time": "2023-02-06T20:36:25.278Z"
   },
   {
    "duration": 119,
    "start_time": "2023-02-06T20:36:25.463Z"
   },
   {
    "duration": 286,
    "start_time": "2023-02-06T20:36:25.583Z"
   },
   {
    "duration": 135,
    "start_time": "2023-02-06T20:36:25.870Z"
   },
   {
    "duration": 228,
    "start_time": "2023-02-06T20:36:26.009Z"
   },
   {
    "duration": 1290,
    "start_time": "2023-02-06T20:36:26.239Z"
   },
   {
    "duration": 0,
    "start_time": "2023-02-06T20:36:27.531Z"
   },
   {
    "duration": 0,
    "start_time": "2023-02-06T20:36:27.532Z"
   },
   {
    "duration": 0,
    "start_time": "2023-02-06T20:36:27.532Z"
   },
   {
    "duration": 0,
    "start_time": "2023-02-06T20:36:27.534Z"
   },
   {
    "duration": 0,
    "start_time": "2023-02-06T20:36:27.534Z"
   },
   {
    "duration": 0,
    "start_time": "2023-02-06T20:36:27.535Z"
   },
   {
    "duration": 0,
    "start_time": "2023-02-06T20:36:27.536Z"
   },
   {
    "duration": 0,
    "start_time": "2023-02-06T20:36:27.537Z"
   },
   {
    "duration": 0,
    "start_time": "2023-02-06T20:36:27.537Z"
   },
   {
    "duration": 130,
    "start_time": "2023-02-06T20:36:49.667Z"
   },
   {
    "duration": 636,
    "start_time": "2023-02-06T20:36:55.375Z"
   },
   {
    "duration": 133,
    "start_time": "2023-02-06T20:36:56.013Z"
   },
   {
    "duration": 16,
    "start_time": "2023-02-06T20:36:56.148Z"
   },
   {
    "duration": 1966,
    "start_time": "2023-02-06T20:36:56.166Z"
   },
   {
    "duration": 69,
    "start_time": "2023-02-06T20:36:58.134Z"
   },
   {
    "duration": 21,
    "start_time": "2023-02-06T20:36:58.205Z"
   },
   {
    "duration": 22,
    "start_time": "2023-02-06T20:36:58.228Z"
   },
   {
    "duration": 15,
    "start_time": "2023-02-06T20:36:58.252Z"
   },
   {
    "duration": 230,
    "start_time": "2023-02-06T20:36:58.269Z"
   },
   {
    "duration": 8,
    "start_time": "2023-02-06T20:36:58.502Z"
   },
   {
    "duration": 25,
    "start_time": "2023-02-06T20:36:58.511Z"
   },
   {
    "duration": 18,
    "start_time": "2023-02-06T20:36:58.538Z"
   },
   {
    "duration": 125,
    "start_time": "2023-02-06T20:36:58.557Z"
   },
   {
    "duration": 505,
    "start_time": "2023-02-06T20:36:58.684Z"
   },
   {
    "duration": 32,
    "start_time": "2023-02-06T20:36:59.190Z"
   },
   {
    "duration": 138,
    "start_time": "2023-02-06T20:36:59.224Z"
   },
   {
    "duration": 8,
    "start_time": "2023-02-06T20:36:59.364Z"
   },
   {
    "duration": 138,
    "start_time": "2023-02-06T20:36:59.373Z"
   },
   {
    "duration": 122,
    "start_time": "2023-02-06T20:36:59.513Z"
   },
   {
    "duration": 160,
    "start_time": "2023-02-06T20:36:59.637Z"
   },
   {
    "duration": 113,
    "start_time": "2023-02-06T20:36:59.799Z"
   },
   {
    "duration": 160,
    "start_time": "2023-02-06T20:36:59.914Z"
   },
   {
    "duration": 142,
    "start_time": "2023-02-06T20:37:00.076Z"
   },
   {
    "duration": 162,
    "start_time": "2023-02-06T20:37:00.220Z"
   },
   {
    "duration": 166,
    "start_time": "2023-02-06T20:37:00.384Z"
   },
   {
    "duration": 123,
    "start_time": "2023-02-06T20:37:00.552Z"
   },
   {
    "duration": 254,
    "start_time": "2023-02-06T20:37:00.676Z"
   },
   {
    "duration": 224,
    "start_time": "2023-02-06T20:37:00.935Z"
   },
   {
    "duration": 193,
    "start_time": "2023-02-06T20:37:01.160Z"
   },
   {
    "duration": 195,
    "start_time": "2023-02-06T20:37:01.354Z"
   },
   {
    "duration": 176,
    "start_time": "2023-02-06T20:37:01.551Z"
   },
   {
    "duration": 131,
    "start_time": "2023-02-06T20:37:01.729Z"
   },
   {
    "duration": 304,
    "start_time": "2023-02-06T20:37:01.861Z"
   },
   {
    "duration": 133,
    "start_time": "2023-02-06T20:37:02.166Z"
   },
   {
    "duration": 224,
    "start_time": "2023-02-06T20:37:02.309Z"
   },
   {
    "duration": 1322,
    "start_time": "2023-02-06T20:37:02.534Z"
   },
   {
    "duration": 0,
    "start_time": "2023-02-06T20:37:03.857Z"
   },
   {
    "duration": 0,
    "start_time": "2023-02-06T20:37:03.858Z"
   },
   {
    "duration": 0,
    "start_time": "2023-02-06T20:37:03.859Z"
   },
   {
    "duration": 0,
    "start_time": "2023-02-06T20:37:03.860Z"
   },
   {
    "duration": 0,
    "start_time": "2023-02-06T20:37:03.861Z"
   },
   {
    "duration": 0,
    "start_time": "2023-02-06T20:37:03.862Z"
   },
   {
    "duration": 0,
    "start_time": "2023-02-06T20:37:03.863Z"
   },
   {
    "duration": 0,
    "start_time": "2023-02-06T20:37:03.864Z"
   },
   {
    "duration": 0,
    "start_time": "2023-02-06T20:37:03.865Z"
   },
   {
    "duration": 112,
    "start_time": "2023-02-06T20:39:20.563Z"
   },
   {
    "duration": 102,
    "start_time": "2023-02-06T20:43:18.181Z"
   },
   {
    "duration": 21,
    "start_time": "2023-02-06T20:43:52.334Z"
   },
   {
    "duration": 24,
    "start_time": "2023-02-06T20:44:00.401Z"
   },
   {
    "duration": 175,
    "start_time": "2023-02-06T20:44:37.239Z"
   },
   {
    "duration": 18,
    "start_time": "2023-02-06T20:45:21.993Z"
   },
   {
    "duration": 113,
    "start_time": "2023-02-06T20:47:30.783Z"
   },
   {
    "duration": 108,
    "start_time": "2023-02-06T20:47:46.822Z"
   },
   {
    "duration": 20,
    "start_time": "2023-02-06T20:48:00.759Z"
   },
   {
    "duration": 16,
    "start_time": "2023-02-06T20:49:25.689Z"
   },
   {
    "duration": 709,
    "start_time": "2023-02-06T20:49:34.405Z"
   },
   {
    "duration": 117,
    "start_time": "2023-02-06T20:49:35.116Z"
   },
   {
    "duration": 21,
    "start_time": "2023-02-06T20:49:35.235Z"
   },
   {
    "duration": 1881,
    "start_time": "2023-02-06T20:49:35.259Z"
   },
   {
    "duration": 81,
    "start_time": "2023-02-06T20:49:37.142Z"
   },
   {
    "duration": 18,
    "start_time": "2023-02-06T20:49:37.225Z"
   },
   {
    "duration": 15,
    "start_time": "2023-02-06T20:49:37.244Z"
   },
   {
    "duration": 16,
    "start_time": "2023-02-06T20:49:37.261Z"
   },
   {
    "duration": 202,
    "start_time": "2023-02-06T20:49:37.279Z"
   },
   {
    "duration": 7,
    "start_time": "2023-02-06T20:49:37.485Z"
   },
   {
    "duration": 19,
    "start_time": "2023-02-06T20:49:37.493Z"
   },
   {
    "duration": 19,
    "start_time": "2023-02-06T20:49:37.514Z"
   },
   {
    "duration": 129,
    "start_time": "2023-02-06T20:49:37.535Z"
   },
   {
    "duration": 490,
    "start_time": "2023-02-06T20:49:37.665Z"
   },
   {
    "duration": 24,
    "start_time": "2023-02-06T20:49:38.157Z"
   },
   {
    "duration": 120,
    "start_time": "2023-02-06T20:49:38.183Z"
   },
   {
    "duration": 12,
    "start_time": "2023-02-06T20:49:38.305Z"
   },
   {
    "duration": 157,
    "start_time": "2023-02-06T20:49:38.319Z"
   },
   {
    "duration": 121,
    "start_time": "2023-02-06T20:49:38.478Z"
   },
   {
    "duration": 155,
    "start_time": "2023-02-06T20:49:38.600Z"
   },
   {
    "duration": 177,
    "start_time": "2023-02-06T20:49:38.756Z"
   },
   {
    "duration": 22,
    "start_time": "2023-02-06T20:49:38.935Z"
   },
   {
    "duration": 2,
    "start_time": "2023-02-06T20:49:38.959Z"
   },
   {
    "duration": 175,
    "start_time": "2023-02-06T20:49:38.962Z"
   },
   {
    "duration": 144,
    "start_time": "2023-02-06T20:49:39.139Z"
   },
   {
    "duration": 161,
    "start_time": "2023-02-06T20:49:39.286Z"
   },
   {
    "duration": 153,
    "start_time": "2023-02-06T20:49:39.449Z"
   },
   {
    "duration": 120,
    "start_time": "2023-02-06T20:49:39.605Z"
   },
   {
    "duration": 234,
    "start_time": "2023-02-06T20:49:39.727Z"
   },
   {
    "duration": 194,
    "start_time": "2023-02-06T20:49:39.963Z"
   },
   {
    "duration": 176,
    "start_time": "2023-02-06T20:49:40.158Z"
   },
   {
    "duration": 217,
    "start_time": "2023-02-06T20:49:40.336Z"
   },
   {
    "duration": 196,
    "start_time": "2023-02-06T20:49:40.555Z"
   },
   {
    "duration": 131,
    "start_time": "2023-02-06T20:49:40.753Z"
   },
   {
    "duration": 287,
    "start_time": "2023-02-06T20:49:40.886Z"
   },
   {
    "duration": 137,
    "start_time": "2023-02-06T20:49:41.175Z"
   },
   {
    "duration": 224,
    "start_time": "2023-02-06T20:49:41.315Z"
   },
   {
    "duration": 1245,
    "start_time": "2023-02-06T20:49:41.541Z"
   },
   {
    "duration": 0,
    "start_time": "2023-02-06T20:49:42.787Z"
   },
   {
    "duration": 0,
    "start_time": "2023-02-06T20:49:42.789Z"
   },
   {
    "duration": 0,
    "start_time": "2023-02-06T20:49:42.790Z"
   },
   {
    "duration": 0,
    "start_time": "2023-02-06T20:49:42.791Z"
   },
   {
    "duration": 0,
    "start_time": "2023-02-06T20:49:42.792Z"
   },
   {
    "duration": 0,
    "start_time": "2023-02-06T20:49:42.793Z"
   },
   {
    "duration": 0,
    "start_time": "2023-02-06T20:49:42.795Z"
   },
   {
    "duration": 1,
    "start_time": "2023-02-06T20:49:42.795Z"
   },
   {
    "duration": 0,
    "start_time": "2023-02-06T20:49:42.797Z"
   },
   {
    "duration": 131,
    "start_time": "2023-02-06T20:50:47.181Z"
   },
   {
    "duration": 131,
    "start_time": "2023-02-06T20:50:54.268Z"
   },
   {
    "duration": 643,
    "start_time": "2023-02-06T20:50:59.191Z"
   },
   {
    "duration": 110,
    "start_time": "2023-02-06T20:50:59.836Z"
   },
   {
    "duration": 15,
    "start_time": "2023-02-06T20:50:59.947Z"
   },
   {
    "duration": 1820,
    "start_time": "2023-02-06T20:50:59.964Z"
   },
   {
    "duration": 68,
    "start_time": "2023-02-06T20:51:01.786Z"
   },
   {
    "duration": 17,
    "start_time": "2023-02-06T20:51:01.856Z"
   },
   {
    "duration": 27,
    "start_time": "2023-02-06T20:51:01.875Z"
   },
   {
    "duration": 28,
    "start_time": "2023-02-06T20:51:01.904Z"
   },
   {
    "duration": 186,
    "start_time": "2023-02-06T20:51:01.933Z"
   },
   {
    "duration": 8,
    "start_time": "2023-02-06T20:51:02.121Z"
   },
   {
    "duration": 18,
    "start_time": "2023-02-06T20:51:02.131Z"
   },
   {
    "duration": 22,
    "start_time": "2023-02-06T20:51:02.150Z"
   },
   {
    "duration": 141,
    "start_time": "2023-02-06T20:51:02.174Z"
   },
   {
    "duration": 439,
    "start_time": "2023-02-06T20:51:02.316Z"
   },
   {
    "duration": 24,
    "start_time": "2023-02-06T20:51:02.757Z"
   },
   {
    "duration": 118,
    "start_time": "2023-02-06T20:51:02.783Z"
   },
   {
    "duration": 15,
    "start_time": "2023-02-06T20:51:02.903Z"
   },
   {
    "duration": 153,
    "start_time": "2023-02-06T20:51:02.920Z"
   },
   {
    "duration": 170,
    "start_time": "2023-02-06T20:51:03.075Z"
   },
   {
    "duration": 178,
    "start_time": "2023-02-06T20:51:03.247Z"
   },
   {
    "duration": 130,
    "start_time": "2023-02-06T20:51:03.427Z"
   },
   {
    "duration": 20,
    "start_time": "2023-02-06T20:51:03.559Z"
   },
   {
    "duration": 5,
    "start_time": "2023-02-06T20:51:03.581Z"
   },
   {
    "duration": 165,
    "start_time": "2023-02-06T20:51:03.588Z"
   },
   {
    "duration": 133,
    "start_time": "2023-02-06T20:51:03.755Z"
   },
   {
    "duration": 165,
    "start_time": "2023-02-06T20:51:03.890Z"
   },
   {
    "duration": 157,
    "start_time": "2023-02-06T20:51:04.057Z"
   },
   {
    "duration": 129,
    "start_time": "2023-02-06T20:51:04.218Z"
   },
   {
    "duration": 245,
    "start_time": "2023-02-06T20:51:04.348Z"
   },
   {
    "duration": 191,
    "start_time": "2023-02-06T20:51:04.594Z"
   },
   {
    "duration": 164,
    "start_time": "2023-02-06T20:51:04.786Z"
   },
   {
    "duration": 190,
    "start_time": "2023-02-06T20:51:04.952Z"
   },
   {
    "duration": 180,
    "start_time": "2023-02-06T20:51:05.144Z"
   },
   {
    "duration": 129,
    "start_time": "2023-02-06T20:51:05.326Z"
   },
   {
    "duration": 261,
    "start_time": "2023-02-06T20:51:05.457Z"
   },
   {
    "duration": 136,
    "start_time": "2023-02-06T20:51:05.719Z"
   },
   {
    "duration": 213,
    "start_time": "2023-02-06T20:51:05.857Z"
   },
   {
    "duration": 1397,
    "start_time": "2023-02-06T20:51:06.072Z"
   },
   {
    "duration": 0,
    "start_time": "2023-02-06T20:51:07.470Z"
   },
   {
    "duration": 0,
    "start_time": "2023-02-06T20:51:07.471Z"
   },
   {
    "duration": 0,
    "start_time": "2023-02-06T20:51:07.472Z"
   },
   {
    "duration": 0,
    "start_time": "2023-02-06T20:51:07.473Z"
   },
   {
    "duration": 0,
    "start_time": "2023-02-06T20:51:07.474Z"
   },
   {
    "duration": 0,
    "start_time": "2023-02-06T20:51:07.475Z"
   },
   {
    "duration": 0,
    "start_time": "2023-02-06T20:51:07.476Z"
   },
   {
    "duration": 0,
    "start_time": "2023-02-06T20:51:07.478Z"
   },
   {
    "duration": 0,
    "start_time": "2023-02-06T20:51:07.479Z"
   },
   {
    "duration": 176,
    "start_time": "2023-02-06T20:52:17.214Z"
   },
   {
    "duration": 18,
    "start_time": "2023-02-06T20:52:25.374Z"
   },
   {
    "duration": 662,
    "start_time": "2023-02-06T20:54:15.086Z"
   },
   {
    "duration": 113,
    "start_time": "2023-02-06T20:54:15.750Z"
   },
   {
    "duration": 15,
    "start_time": "2023-02-06T20:54:15.864Z"
   },
   {
    "duration": 1900,
    "start_time": "2023-02-06T20:54:15.880Z"
   },
   {
    "duration": 67,
    "start_time": "2023-02-06T20:54:17.782Z"
   },
   {
    "duration": 16,
    "start_time": "2023-02-06T20:54:17.850Z"
   },
   {
    "duration": 16,
    "start_time": "2023-02-06T20:54:17.867Z"
   },
   {
    "duration": 27,
    "start_time": "2023-02-06T20:54:17.885Z"
   },
   {
    "duration": 198,
    "start_time": "2023-02-06T20:54:17.914Z"
   },
   {
    "duration": 7,
    "start_time": "2023-02-06T20:54:18.114Z"
   },
   {
    "duration": 10,
    "start_time": "2023-02-06T20:54:18.122Z"
   },
   {
    "duration": 16,
    "start_time": "2023-02-06T20:54:18.134Z"
   },
   {
    "duration": 132,
    "start_time": "2023-02-06T20:54:18.152Z"
   },
   {
    "duration": 457,
    "start_time": "2023-02-06T20:54:18.285Z"
   },
   {
    "duration": 25,
    "start_time": "2023-02-06T20:54:18.743Z"
   },
   {
    "duration": 167,
    "start_time": "2023-02-06T20:54:18.770Z"
   },
   {
    "duration": 12,
    "start_time": "2023-02-06T20:54:18.939Z"
   },
   {
    "duration": 133,
    "start_time": "2023-02-06T20:54:18.953Z"
   },
   {
    "duration": 123,
    "start_time": "2023-02-06T20:54:19.087Z"
   },
   {
    "duration": 143,
    "start_time": "2023-02-06T20:54:19.211Z"
   },
   {
    "duration": 113,
    "start_time": "2023-02-06T20:54:19.355Z"
   },
   {
    "duration": 19,
    "start_time": "2023-02-06T20:54:19.469Z"
   },
   {
    "duration": 25,
    "start_time": "2023-02-06T20:54:19.490Z"
   },
   {
    "duration": 152,
    "start_time": "2023-02-06T20:54:19.516Z"
   },
   {
    "duration": 150,
    "start_time": "2023-02-06T20:54:19.670Z"
   },
   {
    "duration": 164,
    "start_time": "2023-02-06T20:54:19.821Z"
   },
   {
    "duration": 168,
    "start_time": "2023-02-06T20:54:19.987Z"
   },
   {
    "duration": 154,
    "start_time": "2023-02-06T20:54:20.160Z"
   },
   {
    "duration": 255,
    "start_time": "2023-02-06T20:54:20.315Z"
   },
   {
    "duration": 191,
    "start_time": "2023-02-06T20:54:20.572Z"
   },
   {
    "duration": 172,
    "start_time": "2023-02-06T20:54:20.765Z"
   },
   {
    "duration": 192,
    "start_time": "2023-02-06T20:54:20.939Z"
   },
   {
    "duration": 172,
    "start_time": "2023-02-06T20:54:21.133Z"
   },
   {
    "duration": 135,
    "start_time": "2023-02-06T20:54:21.309Z"
   },
   {
    "duration": 270,
    "start_time": "2023-02-06T20:54:21.446Z"
   },
   {
    "duration": 129,
    "start_time": "2023-02-06T20:54:21.717Z"
   },
   {
    "duration": 209,
    "start_time": "2023-02-06T20:54:21.847Z"
   },
   {
    "duration": 1172,
    "start_time": "2023-02-06T20:54:22.057Z"
   },
   {
    "duration": 0,
    "start_time": "2023-02-06T20:54:23.231Z"
   },
   {
    "duration": 0,
    "start_time": "2023-02-06T20:54:23.232Z"
   },
   {
    "duration": 0,
    "start_time": "2023-02-06T20:54:23.233Z"
   },
   {
    "duration": 0,
    "start_time": "2023-02-06T20:54:23.235Z"
   },
   {
    "duration": 0,
    "start_time": "2023-02-06T20:54:23.236Z"
   },
   {
    "duration": 0,
    "start_time": "2023-02-06T20:54:23.239Z"
   },
   {
    "duration": 0,
    "start_time": "2023-02-06T20:54:23.240Z"
   },
   {
    "duration": 0,
    "start_time": "2023-02-06T20:54:23.241Z"
   },
   {
    "duration": 0,
    "start_time": "2023-02-06T20:54:23.242Z"
   },
   {
    "duration": 145,
    "start_time": "2023-02-06T20:55:59.838Z"
   },
   {
    "duration": 150,
    "start_time": "2023-02-06T20:57:49.832Z"
   },
   {
    "duration": 154,
    "start_time": "2023-02-06T20:57:57.201Z"
   },
   {
    "duration": 178,
    "start_time": "2023-02-06T20:58:12.276Z"
   },
   {
    "duration": 172,
    "start_time": "2023-02-06T20:58:40.915Z"
   },
   {
    "duration": 176,
    "start_time": "2023-02-06T20:58:47.874Z"
   },
   {
    "duration": 189,
    "start_time": "2023-02-06T20:59:14.875Z"
   },
   {
    "duration": 187,
    "start_time": "2023-02-06T20:59:39.948Z"
   },
   {
    "duration": 266,
    "start_time": "2023-02-06T20:59:49.464Z"
   },
   {
    "duration": 212,
    "start_time": "2023-02-06T21:00:22.406Z"
   },
   {
    "duration": 195,
    "start_time": "2023-02-06T21:00:43.878Z"
   },
   {
    "duration": 149,
    "start_time": "2023-02-06T21:01:05.856Z"
   },
   {
    "duration": 180,
    "start_time": "2023-02-06T21:01:59.867Z"
   },
   {
    "duration": 144,
    "start_time": "2023-02-06T21:02:10.537Z"
   },
   {
    "duration": 147,
    "start_time": "2023-02-06T21:02:15.609Z"
   },
   {
    "duration": 152,
    "start_time": "2023-02-06T21:04:46.021Z"
   },
   {
    "duration": 111,
    "start_time": "2023-02-06T21:04:56.285Z"
   },
   {
    "duration": 181,
    "start_time": "2023-02-06T21:05:00.301Z"
   },
   {
    "duration": 288,
    "start_time": "2023-02-06T21:05:14.598Z"
   },
   {
    "duration": 180,
    "start_time": "2023-02-06T21:05:19.701Z"
   },
   {
    "duration": 183,
    "start_time": "2023-02-06T21:05:23.782Z"
   },
   {
    "duration": 164,
    "start_time": "2023-02-06T21:05:29.967Z"
   },
   {
    "duration": 115,
    "start_time": "2023-02-06T21:05:43.110Z"
   },
   {
    "duration": 211,
    "start_time": "2023-02-06T21:05:49.304Z"
   },
   {
    "duration": 146,
    "start_time": "2023-02-06T21:05:57.294Z"
   },
   {
    "duration": 268,
    "start_time": "2023-02-06T21:09:10.141Z"
   },
   {
    "duration": 208,
    "start_time": "2023-02-06T21:09:25.165Z"
   },
   {
    "duration": 212,
    "start_time": "2023-02-06T21:11:44.977Z"
   },
   {
    "duration": 7,
    "start_time": "2023-02-06T21:12:37.914Z"
   },
   {
    "duration": 25,
    "start_time": "2023-02-06T21:12:40.314Z"
   },
   {
    "duration": 139,
    "start_time": "2023-02-06T21:12:48.491Z"
   },
   {
    "duration": 71,
    "start_time": "2023-02-06T21:13:45.124Z"
   },
   {
    "duration": 207,
    "start_time": "2023-02-06T21:14:48.310Z"
   },
   {
    "duration": 114,
    "start_time": "2023-02-06T21:18:48.909Z"
   },
   {
    "duration": 82,
    "start_time": "2023-02-06T21:19:04.006Z"
   },
   {
    "duration": 13,
    "start_time": "2023-02-06T21:19:12.519Z"
   },
   {
    "duration": 10,
    "start_time": "2023-02-06T21:19:50.656Z"
   },
   {
    "duration": 5,
    "start_time": "2023-02-06T21:19:58.926Z"
   },
   {
    "duration": 563,
    "start_time": "2023-02-06T21:21:21.857Z"
   },
   {
    "duration": 203,
    "start_time": "2023-02-06T21:24:01.527Z"
   },
   {
    "duration": 221,
    "start_time": "2023-02-06T21:24:12.885Z"
   },
   {
    "duration": 203,
    "start_time": "2023-02-06T21:25:21.288Z"
   },
   {
    "duration": 16,
    "start_time": "2023-02-06T21:26:22.690Z"
   },
   {
    "duration": 10,
    "start_time": "2023-02-06T21:28:11.758Z"
   },
   {
    "duration": 11,
    "start_time": "2023-02-06T21:28:29.773Z"
   },
   {
    "duration": 280,
    "start_time": "2023-02-06T21:29:56.573Z"
   },
   {
    "duration": 610,
    "start_time": "2023-02-06T21:30:07.649Z"
   },
   {
    "duration": 111,
    "start_time": "2023-02-06T21:30:08.261Z"
   },
   {
    "duration": 14,
    "start_time": "2023-02-06T21:30:08.374Z"
   },
   {
    "duration": 1826,
    "start_time": "2023-02-06T21:30:08.390Z"
   },
   {
    "duration": 69,
    "start_time": "2023-02-06T21:30:10.218Z"
   },
   {
    "duration": 21,
    "start_time": "2023-02-06T21:30:10.289Z"
   },
   {
    "duration": 13,
    "start_time": "2023-02-06T21:30:10.311Z"
   },
   {
    "duration": 12,
    "start_time": "2023-02-06T21:30:10.326Z"
   },
   {
    "duration": 184,
    "start_time": "2023-02-06T21:30:10.340Z"
   },
   {
    "duration": 6,
    "start_time": "2023-02-06T21:30:10.527Z"
   },
   {
    "duration": 8,
    "start_time": "2023-02-06T21:30:10.535Z"
   },
   {
    "duration": 18,
    "start_time": "2023-02-06T21:30:10.544Z"
   },
   {
    "duration": 130,
    "start_time": "2023-02-06T21:30:10.564Z"
   },
   {
    "duration": 498,
    "start_time": "2023-02-06T21:30:10.696Z"
   },
   {
    "duration": 27,
    "start_time": "2023-02-06T21:30:11.196Z"
   },
   {
    "duration": 131,
    "start_time": "2023-02-06T21:30:11.225Z"
   },
   {
    "duration": 8,
    "start_time": "2023-02-06T21:30:11.357Z"
   },
   {
    "duration": 149,
    "start_time": "2023-02-06T21:30:11.367Z"
   },
   {
    "duration": 138,
    "start_time": "2023-02-06T21:30:11.517Z"
   },
   {
    "duration": 139,
    "start_time": "2023-02-06T21:30:11.657Z"
   },
   {
    "duration": 114,
    "start_time": "2023-02-06T21:30:11.797Z"
   },
   {
    "duration": 18,
    "start_time": "2023-02-06T21:30:11.913Z"
   },
   {
    "duration": 15,
    "start_time": "2023-02-06T21:30:11.932Z"
   },
   {
    "duration": 164,
    "start_time": "2023-02-06T21:30:11.948Z"
   },
   {
    "duration": 177,
    "start_time": "2023-02-06T21:30:12.113Z"
   },
   {
    "duration": 159,
    "start_time": "2023-02-06T21:30:12.292Z"
   },
   {
    "duration": 154,
    "start_time": "2023-02-06T21:30:12.452Z"
   },
   {
    "duration": 118,
    "start_time": "2023-02-06T21:30:12.612Z"
   },
   {
    "duration": 241,
    "start_time": "2023-02-06T21:30:12.732Z"
   },
   {
    "duration": 230,
    "start_time": "2023-02-06T21:30:12.975Z"
   },
   {
    "duration": 184,
    "start_time": "2023-02-06T21:30:13.210Z"
   },
   {
    "duration": 205,
    "start_time": "2023-02-06T21:30:13.396Z"
   },
   {
    "duration": 181,
    "start_time": "2023-02-06T21:30:13.603Z"
   },
   {
    "duration": 119,
    "start_time": "2023-02-06T21:30:13.786Z"
   },
   {
    "duration": 267,
    "start_time": "2023-02-06T21:30:13.906Z"
   },
   {
    "duration": 120,
    "start_time": "2023-02-06T21:30:14.174Z"
   },
   {
    "duration": 208,
    "start_time": "2023-02-06T21:30:14.296Z"
   },
   {
    "duration": 14,
    "start_time": "2023-02-06T21:30:14.505Z"
   },
   {
    "duration": 165,
    "start_time": "2023-02-06T21:30:14.521Z"
   },
   {
    "duration": 144,
    "start_time": "2023-02-06T21:30:14.688Z"
   },
   {
    "duration": 168,
    "start_time": "2023-02-06T21:30:14.833Z"
   },
   {
    "duration": 169,
    "start_time": "2023-02-06T21:30:15.003Z"
   },
   {
    "duration": 164,
    "start_time": "2023-02-06T21:30:15.174Z"
   },
   {
    "duration": 27,
    "start_time": "2023-02-06T21:30:15.340Z"
   },
   {
    "duration": 7,
    "start_time": "2023-02-06T21:30:15.369Z"
   },
   {
    "duration": 149,
    "start_time": "2023-02-06T21:31:13.711Z"
   },
   {
    "duration": 134,
    "start_time": "2023-02-06T21:31:32.047Z"
   },
   {
    "duration": 161,
    "start_time": "2023-02-06T21:31:41.343Z"
   },
   {
    "duration": 26,
    "start_time": "2023-02-06T21:32:24.946Z"
   },
   {
    "duration": 8,
    "start_time": "2023-02-06T21:32:28.448Z"
   },
   {
    "duration": 842,
    "start_time": "2023-02-07T10:52:04.691Z"
   },
   {
    "duration": 339,
    "start_time": "2023-02-07T10:52:05.535Z"
   },
   {
    "duration": 15,
    "start_time": "2023-02-07T10:52:05.876Z"
   },
   {
    "duration": 2260,
    "start_time": "2023-02-07T10:52:05.893Z"
   },
   {
    "duration": 76,
    "start_time": "2023-02-07T10:52:08.155Z"
   },
   {
    "duration": 17,
    "start_time": "2023-02-07T10:52:08.233Z"
   },
   {
    "duration": 15,
    "start_time": "2023-02-07T10:52:08.252Z"
   },
   {
    "duration": 23,
    "start_time": "2023-02-07T10:52:08.268Z"
   },
   {
    "duration": 175,
    "start_time": "2023-02-07T10:52:08.292Z"
   },
   {
    "duration": 12,
    "start_time": "2023-02-07T10:52:08.470Z"
   },
   {
    "duration": 8,
    "start_time": "2023-02-07T10:52:08.484Z"
   },
   {
    "duration": 18,
    "start_time": "2023-02-07T10:52:08.494Z"
   },
   {
    "duration": 159,
    "start_time": "2023-02-07T10:52:08.514Z"
   },
   {
    "duration": 58,
    "start_time": "2023-02-07T10:52:08.676Z"
   },
   {
    "duration": 0,
    "start_time": "2023-02-07T10:52:08.737Z"
   },
   {
    "duration": 0,
    "start_time": "2023-02-07T10:52:08.738Z"
   },
   {
    "duration": 0,
    "start_time": "2023-02-07T10:52:08.740Z"
   },
   {
    "duration": 0,
    "start_time": "2023-02-07T10:52:08.741Z"
   },
   {
    "duration": 0,
    "start_time": "2023-02-07T10:52:08.742Z"
   },
   {
    "duration": 0,
    "start_time": "2023-02-07T10:52:08.743Z"
   },
   {
    "duration": 0,
    "start_time": "2023-02-07T10:52:08.745Z"
   },
   {
    "duration": 0,
    "start_time": "2023-02-07T10:52:08.746Z"
   },
   {
    "duration": 0,
    "start_time": "2023-02-07T10:52:08.747Z"
   },
   {
    "duration": 1,
    "start_time": "2023-02-07T10:52:08.748Z"
   },
   {
    "duration": 0,
    "start_time": "2023-02-07T10:52:08.750Z"
   },
   {
    "duration": 0,
    "start_time": "2023-02-07T10:52:08.751Z"
   },
   {
    "duration": 0,
    "start_time": "2023-02-07T10:52:08.753Z"
   },
   {
    "duration": 0,
    "start_time": "2023-02-07T10:52:08.756Z"
   },
   {
    "duration": 0,
    "start_time": "2023-02-07T10:52:08.757Z"
   },
   {
    "duration": 0,
    "start_time": "2023-02-07T10:52:08.759Z"
   },
   {
    "duration": 0,
    "start_time": "2023-02-07T10:52:08.760Z"
   },
   {
    "duration": 0,
    "start_time": "2023-02-07T10:52:08.761Z"
   },
   {
    "duration": 0,
    "start_time": "2023-02-07T10:52:08.762Z"
   },
   {
    "duration": 0,
    "start_time": "2023-02-07T10:52:08.764Z"
   },
   {
    "duration": 0,
    "start_time": "2023-02-07T10:52:08.765Z"
   },
   {
    "duration": 0,
    "start_time": "2023-02-07T10:52:08.766Z"
   },
   {
    "duration": 0,
    "start_time": "2023-02-07T10:52:08.768Z"
   },
   {
    "duration": 0,
    "start_time": "2023-02-07T10:52:08.770Z"
   },
   {
    "duration": 0,
    "start_time": "2023-02-07T10:52:08.771Z"
   },
   {
    "duration": 0,
    "start_time": "2023-02-07T10:52:08.772Z"
   },
   {
    "duration": 0,
    "start_time": "2023-02-07T10:52:08.773Z"
   },
   {
    "duration": 0,
    "start_time": "2023-02-07T10:52:08.773Z"
   },
   {
    "duration": 0,
    "start_time": "2023-02-07T10:52:08.774Z"
   },
   {
    "duration": 0,
    "start_time": "2023-02-07T10:52:08.780Z"
   },
   {
    "duration": 0,
    "start_time": "2023-02-07T10:52:08.782Z"
   },
   {
    "duration": 618,
    "start_time": "2023-02-07T10:53:39.304Z"
   },
   {
    "duration": 128,
    "start_time": "2023-02-07T10:53:39.925Z"
   },
   {
    "duration": 17,
    "start_time": "2023-02-07T10:53:40.054Z"
   },
   {
    "duration": 2063,
    "start_time": "2023-02-07T10:53:40.082Z"
   },
   {
    "duration": 77,
    "start_time": "2023-02-07T10:53:42.146Z"
   },
   {
    "duration": 16,
    "start_time": "2023-02-07T10:53:42.225Z"
   },
   {
    "duration": 16,
    "start_time": "2023-02-07T10:53:42.243Z"
   },
   {
    "duration": 26,
    "start_time": "2023-02-07T10:53:42.261Z"
   },
   {
    "duration": 179,
    "start_time": "2023-02-07T10:53:42.289Z"
   },
   {
    "duration": 11,
    "start_time": "2023-02-07T10:53:42.470Z"
   },
   {
    "duration": 14,
    "start_time": "2023-02-07T10:53:42.482Z"
   },
   {
    "duration": 19,
    "start_time": "2023-02-07T10:53:42.497Z"
   },
   {
    "duration": 126,
    "start_time": "2023-02-07T10:53:42.518Z"
   },
   {
    "duration": 439,
    "start_time": "2023-02-07T10:53:42.645Z"
   },
   {
    "duration": 30,
    "start_time": "2023-02-07T10:53:43.085Z"
   },
   {
    "duration": 142,
    "start_time": "2023-02-07T10:53:43.117Z"
   },
   {
    "duration": 8,
    "start_time": "2023-02-07T10:53:43.261Z"
   },
   {
    "duration": 151,
    "start_time": "2023-02-07T10:53:43.271Z"
   },
   {
    "duration": 145,
    "start_time": "2023-02-07T10:53:43.424Z"
   },
   {
    "duration": 176,
    "start_time": "2023-02-07T10:53:43.570Z"
   },
   {
    "duration": 137,
    "start_time": "2023-02-07T10:53:43.748Z"
   },
   {
    "duration": 27,
    "start_time": "2023-02-07T10:53:43.887Z"
   },
   {
    "duration": 22,
    "start_time": "2023-02-07T10:53:43.916Z"
   },
   {
    "duration": 198,
    "start_time": "2023-02-07T10:53:43.940Z"
   },
   {
    "duration": 172,
    "start_time": "2023-02-07T10:53:44.140Z"
   },
   {
    "duration": 186,
    "start_time": "2023-02-07T10:53:44.313Z"
   },
   {
    "duration": 180,
    "start_time": "2023-02-07T10:53:44.501Z"
   },
   {
    "duration": 127,
    "start_time": "2023-02-07T10:53:44.685Z"
   },
   {
    "duration": 274,
    "start_time": "2023-02-07T10:53:44.813Z"
   },
   {
    "duration": 211,
    "start_time": "2023-02-07T10:53:45.088Z"
   },
   {
    "duration": 212,
    "start_time": "2023-02-07T10:53:45.301Z"
   },
   {
    "duration": 244,
    "start_time": "2023-02-07T10:53:45.515Z"
   },
   {
    "duration": 177,
    "start_time": "2023-02-07T10:53:45.760Z"
   },
   {
    "duration": 130,
    "start_time": "2023-02-07T10:53:45.939Z"
   },
   {
    "duration": 332,
    "start_time": "2023-02-07T10:53:46.071Z"
   },
   {
    "duration": 165,
    "start_time": "2023-02-07T10:53:46.405Z"
   },
   {
    "duration": 244,
    "start_time": "2023-02-07T10:53:46.572Z"
   },
   {
    "duration": 12,
    "start_time": "2023-02-07T10:53:46.818Z"
   },
   {
    "duration": 170,
    "start_time": "2023-02-07T10:53:46.832Z"
   },
   {
    "duration": 158,
    "start_time": "2023-02-07T10:53:47.004Z"
   },
   {
    "duration": 188,
    "start_time": "2023-02-07T10:53:47.164Z"
   },
   {
    "duration": 175,
    "start_time": "2023-02-07T10:53:47.354Z"
   },
   {
    "duration": 193,
    "start_time": "2023-02-07T10:53:47.531Z"
   },
   {
    "duration": 30,
    "start_time": "2023-02-07T10:53:47.726Z"
   },
   {
    "duration": 29,
    "start_time": "2023-02-07T10:53:47.758Z"
   },
   {
    "duration": 23,
    "start_time": "2023-02-07T10:54:42.842Z"
   },
   {
    "duration": 166,
    "start_time": "2023-02-07T10:55:26.145Z"
   },
   {
    "duration": 141,
    "start_time": "2023-02-07T10:56:31.264Z"
   },
   {
    "duration": 214,
    "start_time": "2023-02-07T10:56:46.296Z"
   },
   {
    "duration": 90,
    "start_time": "2023-02-07T10:58:27.847Z"
   },
   {
    "duration": 1075,
    "start_time": "2023-02-07T10:58:42.405Z"
   },
   {
    "duration": 282,
    "start_time": "2023-02-07T10:59:52.068Z"
   },
   {
    "duration": 155,
    "start_time": "2023-02-07T11:01:35.546Z"
   },
   {
    "duration": 177,
    "start_time": "2023-02-07T14:29:13.032Z"
   },
   {
    "duration": 215,
    "start_time": "2023-02-07T14:29:20.599Z"
   },
   {
    "duration": 208,
    "start_time": "2023-02-07T14:47:13.508Z"
   },
   {
    "duration": 33,
    "start_time": "2023-02-07T14:47:27.053Z"
   },
   {
    "duration": 179,
    "start_time": "2023-02-07T14:47:34.082Z"
   },
   {
    "duration": 172,
    "start_time": "2023-02-07T14:50:34.744Z"
   },
   {
    "duration": 242,
    "start_time": "2023-02-07T14:50:52.372Z"
   },
   {
    "duration": 1144,
    "start_time": "2023-02-07T14:55:30.370Z"
   },
   {
    "duration": 1202,
    "start_time": "2023-02-07T14:56:00.144Z"
   },
   {
    "duration": 1220,
    "start_time": "2023-02-07T14:56:49.791Z"
   },
   {
    "duration": 164,
    "start_time": "2023-02-07T14:57:02.546Z"
   },
   {
    "duration": 174,
    "start_time": "2023-02-07T14:57:07.238Z"
   },
   {
    "duration": 28,
    "start_time": "2023-02-07T14:57:43.487Z"
   },
   {
    "duration": 276,
    "start_time": "2023-02-07T14:58:01.357Z"
   },
   {
    "duration": 190,
    "start_time": "2023-02-07T14:58:31.454Z"
   },
   {
    "duration": 169,
    "start_time": "2023-02-07T14:59:02.292Z"
   },
   {
    "duration": 216,
    "start_time": "2023-02-07T15:03:03.712Z"
   },
   {
    "duration": 18,
    "start_time": "2023-02-07T19:00:35.185Z"
   },
   {
    "duration": 601,
    "start_time": "2023-02-07T19:00:51.792Z"
   },
   {
    "duration": 113,
    "start_time": "2023-02-07T19:00:52.395Z"
   },
   {
    "duration": 14,
    "start_time": "2023-02-07T19:00:52.510Z"
   },
   {
    "duration": 1959,
    "start_time": "2023-02-07T19:00:52.526Z"
   },
   {
    "duration": 73,
    "start_time": "2023-02-07T19:00:54.487Z"
   },
   {
    "duration": 34,
    "start_time": "2023-02-07T19:00:54.562Z"
   },
   {
    "duration": 17,
    "start_time": "2023-02-07T19:00:54.598Z"
   },
   {
    "duration": 14,
    "start_time": "2023-02-07T19:00:54.616Z"
   },
   {
    "duration": 190,
    "start_time": "2023-02-07T19:00:54.632Z"
   },
   {
    "duration": 8,
    "start_time": "2023-02-07T19:00:54.826Z"
   },
   {
    "duration": 29,
    "start_time": "2023-02-07T19:00:54.835Z"
   },
   {
    "duration": 23,
    "start_time": "2023-02-07T19:00:54.866Z"
   },
   {
    "duration": 12,
    "start_time": "2023-02-07T19:00:54.891Z"
   },
   {
    "duration": 144,
    "start_time": "2023-02-07T19:00:54.904Z"
   },
   {
    "duration": 455,
    "start_time": "2023-02-07T19:00:55.051Z"
   },
   {
    "duration": 26,
    "start_time": "2023-02-07T19:00:55.508Z"
   },
   {
    "duration": 144,
    "start_time": "2023-02-07T19:00:55.536Z"
   },
   {
    "duration": 10,
    "start_time": "2023-02-07T19:00:55.682Z"
   },
   {
    "duration": 153,
    "start_time": "2023-02-07T19:00:55.693Z"
   },
   {
    "duration": 122,
    "start_time": "2023-02-07T19:00:55.848Z"
   },
   {
    "duration": 155,
    "start_time": "2023-02-07T19:00:55.980Z"
   },
   {
    "duration": 130,
    "start_time": "2023-02-07T19:00:56.136Z"
   },
   {
    "duration": 33,
    "start_time": "2023-02-07T19:00:56.268Z"
   },
   {
    "duration": 16,
    "start_time": "2023-02-07T19:00:56.303Z"
   },
   {
    "duration": 166,
    "start_time": "2023-02-07T19:00:56.320Z"
   },
   {
    "duration": 164,
    "start_time": "2023-02-07T19:00:56.488Z"
   },
   {
    "duration": 233,
    "start_time": "2023-02-07T19:00:56.655Z"
   },
   {
    "duration": 171,
    "start_time": "2023-02-07T19:00:56.891Z"
   },
   {
    "duration": 142,
    "start_time": "2023-02-07T19:00:57.064Z"
   },
   {
    "duration": 276,
    "start_time": "2023-02-07T19:00:57.208Z"
   },
   {
    "duration": 256,
    "start_time": "2023-02-07T19:00:57.486Z"
   },
   {
    "duration": 204,
    "start_time": "2023-02-07T19:00:57.744Z"
   },
   {
    "duration": 211,
    "start_time": "2023-02-07T19:00:57.950Z"
   },
   {
    "duration": 170,
    "start_time": "2023-02-07T19:00:58.163Z"
   },
   {
    "duration": 128,
    "start_time": "2023-02-07T19:00:58.334Z"
   },
   {
    "duration": 296,
    "start_time": "2023-02-07T19:00:58.464Z"
   },
   {
    "duration": 128,
    "start_time": "2023-02-07T19:00:58.762Z"
   },
   {
    "duration": 212,
    "start_time": "2023-02-07T19:00:58.892Z"
   },
   {
    "duration": 15,
    "start_time": "2023-02-07T19:00:59.106Z"
   },
   {
    "duration": 176,
    "start_time": "2023-02-07T19:00:59.123Z"
   },
   {
    "duration": 155,
    "start_time": "2023-02-07T19:00:59.300Z"
   },
   {
    "duration": 191,
    "start_time": "2023-02-07T19:00:59.457Z"
   },
   {
    "duration": 175,
    "start_time": "2023-02-07T19:00:59.650Z"
   },
   {
    "duration": 173,
    "start_time": "2023-02-07T19:00:59.827Z"
   },
   {
    "duration": 44,
    "start_time": "2023-02-07T19:01:00.002Z"
   },
   {
    "duration": 11,
    "start_time": "2023-02-07T19:01:00.048Z"
   },
   {
    "duration": 202,
    "start_time": "2023-02-07T19:01:00.081Z"
   },
   {
    "duration": 8,
    "start_time": "2023-02-07T19:01:41.287Z"
   },
   {
    "duration": 134,
    "start_time": "2023-02-07T19:22:01.835Z"
   },
   {
    "duration": 121,
    "start_time": "2023-02-07T19:23:11.396Z"
   },
   {
    "duration": 270,
    "start_time": "2023-02-07T19:23:28.441Z"
   },
   {
    "duration": 125,
    "start_time": "2023-02-07T19:23:38.467Z"
   },
   {
    "duration": 135,
    "start_time": "2023-02-07T19:23:45.065Z"
   },
   {
    "duration": 73,
    "start_time": "2023-02-07T19:32:17.370Z"
   },
   {
    "duration": 154,
    "start_time": "2023-02-07T19:36:52.057Z"
   },
   {
    "duration": 153,
    "start_time": "2023-02-07T19:37:17.212Z"
   },
   {
    "duration": 210,
    "start_time": "2023-02-07T19:37:56.450Z"
   },
   {
    "duration": 162,
    "start_time": "2023-02-07T19:38:18.462Z"
   },
   {
    "duration": 148,
    "start_time": "2023-02-07T19:38:33.260Z"
   },
   {
    "duration": 577,
    "start_time": "2023-02-07T19:51:03.222Z"
   },
   {
    "duration": 125,
    "start_time": "2023-02-07T19:51:03.801Z"
   },
   {
    "duration": 15,
    "start_time": "2023-02-07T19:51:03.928Z"
   },
   {
    "duration": 1847,
    "start_time": "2023-02-07T19:51:03.945Z"
   },
   {
    "duration": 68,
    "start_time": "2023-02-07T19:51:05.793Z"
   },
   {
    "duration": 24,
    "start_time": "2023-02-07T19:51:05.863Z"
   },
   {
    "duration": 13,
    "start_time": "2023-02-07T19:51:05.889Z"
   },
   {
    "duration": 11,
    "start_time": "2023-02-07T19:51:05.904Z"
   },
   {
    "duration": 180,
    "start_time": "2023-02-07T19:51:05.916Z"
   },
   {
    "duration": 7,
    "start_time": "2023-02-07T19:51:06.098Z"
   },
   {
    "duration": 9,
    "start_time": "2023-02-07T19:51:06.107Z"
   },
   {
    "duration": 18,
    "start_time": "2023-02-07T19:51:06.118Z"
   },
   {
    "duration": 6,
    "start_time": "2023-02-07T19:51:06.138Z"
   },
   {
    "duration": 165,
    "start_time": "2023-02-07T19:51:06.146Z"
   },
   {
    "duration": 497,
    "start_time": "2023-02-07T19:51:06.313Z"
   },
   {
    "duration": 26,
    "start_time": "2023-02-07T19:51:06.812Z"
   },
   {
    "duration": 125,
    "start_time": "2023-02-07T19:51:06.839Z"
   },
   {
    "duration": 19,
    "start_time": "2023-02-07T19:51:06.966Z"
   },
   {
    "duration": 127,
    "start_time": "2023-02-07T19:51:06.986Z"
   },
   {
    "duration": 118,
    "start_time": "2023-02-07T19:51:07.114Z"
   },
   {
    "duration": 149,
    "start_time": "2023-02-07T19:51:07.234Z"
   },
   {
    "duration": 128,
    "start_time": "2023-02-07T19:51:07.386Z"
   },
   {
    "duration": 26,
    "start_time": "2023-02-07T19:51:07.516Z"
   },
   {
    "duration": 46,
    "start_time": "2023-02-07T19:51:07.543Z"
   },
   {
    "duration": 158,
    "start_time": "2023-02-07T19:51:07.591Z"
   },
   {
    "duration": 155,
    "start_time": "2023-02-07T19:51:07.751Z"
   },
   {
    "duration": 166,
    "start_time": "2023-02-07T19:51:07.908Z"
   },
   {
    "duration": 161,
    "start_time": "2023-02-07T19:51:08.082Z"
   },
   {
    "duration": 119,
    "start_time": "2023-02-07T19:51:08.245Z"
   },
   {
    "duration": 289,
    "start_time": "2023-02-07T19:51:08.366Z"
   },
   {
    "duration": 249,
    "start_time": "2023-02-07T19:51:08.657Z"
   },
   {
    "duration": 206,
    "start_time": "2023-02-07T19:51:08.908Z"
   },
   {
    "duration": 224,
    "start_time": "2023-02-07T19:51:09.115Z"
   },
   {
    "duration": 182,
    "start_time": "2023-02-07T19:51:09.341Z"
   },
   {
    "duration": 132,
    "start_time": "2023-02-07T19:51:09.526Z"
   },
   {
    "duration": 313,
    "start_time": "2023-02-07T19:51:09.660Z"
   },
   {
    "duration": 118,
    "start_time": "2023-02-07T19:51:09.974Z"
   },
   {
    "duration": 195,
    "start_time": "2023-02-07T19:51:10.094Z"
   },
   {
    "duration": 11,
    "start_time": "2023-02-07T19:51:10.290Z"
   },
   {
    "duration": 156,
    "start_time": "2023-02-07T19:51:10.303Z"
   },
   {
    "duration": 148,
    "start_time": "2023-02-07T19:51:10.461Z"
   },
   {
    "duration": 193,
    "start_time": "2023-02-07T19:51:10.610Z"
   },
   {
    "duration": 162,
    "start_time": "2023-02-07T19:51:10.805Z"
   },
   {
    "duration": 165,
    "start_time": "2023-02-07T19:51:10.969Z"
   },
   {
    "duration": 25,
    "start_time": "2023-02-07T19:51:11.135Z"
   },
   {
    "duration": 21,
    "start_time": "2023-02-07T19:51:11.162Z"
   },
   {
    "duration": 166,
    "start_time": "2023-02-07T19:51:11.185Z"
   },
   {
    "duration": 723,
    "start_time": "2023-02-08T19:02:51.972Z"
   },
   {
    "duration": 177,
    "start_time": "2023-02-08T19:02:52.698Z"
   },
   {
    "duration": 16,
    "start_time": "2023-02-08T19:02:52.878Z"
   },
   {
    "duration": 2362,
    "start_time": "2023-02-08T19:02:52.896Z"
   },
   {
    "duration": 99,
    "start_time": "2023-02-08T19:02:55.266Z"
   },
   {
    "duration": 20,
    "start_time": "2023-02-08T19:02:55.371Z"
   },
   {
    "duration": 33,
    "start_time": "2023-02-08T19:02:55.392Z"
   },
   {
    "duration": 74,
    "start_time": "2023-02-08T19:02:55.428Z"
   },
   {
    "duration": 254,
    "start_time": "2023-02-08T19:02:55.505Z"
   },
   {
    "duration": 10,
    "start_time": "2023-02-08T19:02:55.761Z"
   },
   {
    "duration": 49,
    "start_time": "2023-02-08T19:02:55.780Z"
   },
   {
    "duration": 57,
    "start_time": "2023-02-08T19:02:55.831Z"
   },
   {
    "duration": 46,
    "start_time": "2023-02-08T19:02:55.890Z"
   },
   {
    "duration": 184,
    "start_time": "2023-02-08T19:02:55.940Z"
   },
   {
    "duration": 562,
    "start_time": "2023-02-08T19:02:56.126Z"
   },
   {
    "duration": 47,
    "start_time": "2023-02-08T19:02:56.696Z"
   },
   {
    "duration": 224,
    "start_time": "2023-02-08T19:02:56.746Z"
   },
   {
    "duration": 9,
    "start_time": "2023-02-08T19:02:56.972Z"
   },
   {
    "duration": 227,
    "start_time": "2023-02-08T19:02:56.984Z"
   },
   {
    "duration": 163,
    "start_time": "2023-02-08T19:02:57.213Z"
   },
   {
    "duration": 200,
    "start_time": "2023-02-08T19:02:57.378Z"
   },
   {
    "duration": 122,
    "start_time": "2023-02-08T19:02:57.580Z"
   },
   {
    "duration": 22,
    "start_time": "2023-02-08T19:02:57.704Z"
   },
   {
    "duration": 60,
    "start_time": "2023-02-08T19:02:57.728Z"
   },
   {
    "duration": 245,
    "start_time": "2023-02-08T19:02:57.791Z"
   },
   {
    "duration": 183,
    "start_time": "2023-02-08T19:02:58.038Z"
   },
   {
    "duration": 254,
    "start_time": "2023-02-08T19:02:58.224Z"
   },
   {
    "duration": 192,
    "start_time": "2023-02-08T19:02:58.480Z"
   },
   {
    "duration": 161,
    "start_time": "2023-02-08T19:02:58.675Z"
   },
   {
    "duration": 304,
    "start_time": "2023-02-08T19:02:58.838Z"
   },
   {
    "duration": 224,
    "start_time": "2023-02-08T19:02:59.151Z"
   },
   {
    "duration": 218,
    "start_time": "2023-02-08T19:02:59.377Z"
   },
   {
    "duration": 262,
    "start_time": "2023-02-08T19:02:59.598Z"
   },
   {
    "duration": 219,
    "start_time": "2023-02-08T19:02:59.862Z"
   },
   {
    "duration": 194,
    "start_time": "2023-02-08T19:03:00.084Z"
   },
   {
    "duration": 380,
    "start_time": "2023-02-08T19:03:00.279Z"
   },
   {
    "duration": 156,
    "start_time": "2023-02-08T19:03:00.661Z"
   },
   {
    "duration": 266,
    "start_time": "2023-02-08T19:03:00.819Z"
   },
   {
    "duration": 12,
    "start_time": "2023-02-08T19:03:01.087Z"
   },
   {
    "duration": 231,
    "start_time": "2023-02-08T19:03:01.102Z"
   },
   {
    "duration": 183,
    "start_time": "2023-02-08T19:03:01.337Z"
   },
   {
    "duration": 302,
    "start_time": "2023-02-08T19:03:01.522Z"
   },
   {
    "duration": 268,
    "start_time": "2023-02-08T19:03:01.826Z"
   },
   {
    "duration": 185,
    "start_time": "2023-02-08T19:03:02.096Z"
   },
   {
    "duration": 30,
    "start_time": "2023-02-08T19:03:02.283Z"
   },
   {
    "duration": 25,
    "start_time": "2023-02-08T19:03:02.314Z"
   },
   {
    "duration": 238,
    "start_time": "2023-02-08T19:03:02.341Z"
   },
   {
    "duration": 16,
    "start_time": "2023-02-08T19:03:30.587Z"
   },
   {
    "duration": 92,
    "start_time": "2023-02-08T19:03:34.023Z"
   },
   {
    "duration": 741,
    "start_time": "2023-02-08T19:03:44.892Z"
   },
   {
    "duration": 159,
    "start_time": "2023-02-08T19:03:45.636Z"
   },
   {
    "duration": 23,
    "start_time": "2023-02-08T19:03:45.797Z"
   },
   {
    "duration": 2747,
    "start_time": "2023-02-08T19:03:45.824Z"
   },
   {
    "duration": 101,
    "start_time": "2023-02-08T19:03:48.576Z"
   },
   {
    "duration": 23,
    "start_time": "2023-02-08T19:03:48.688Z"
   },
   {
    "duration": 41,
    "start_time": "2023-02-08T19:03:48.714Z"
   },
   {
    "duration": 21,
    "start_time": "2023-02-08T19:03:48.768Z"
   },
   {
    "duration": 295,
    "start_time": "2023-02-08T19:03:48.792Z"
   },
   {
    "duration": 9,
    "start_time": "2023-02-08T19:03:49.091Z"
   },
   {
    "duration": 13,
    "start_time": "2023-02-08T19:03:49.103Z"
   },
   {
    "duration": 48,
    "start_time": "2023-02-08T19:03:49.119Z"
   },
   {
    "duration": 27,
    "start_time": "2023-02-08T19:03:49.171Z"
   },
   {
    "duration": 165,
    "start_time": "2023-02-08T19:03:49.201Z"
   },
   {
    "duration": 104,
    "start_time": "2023-02-08T19:03:49.368Z"
   },
   {
    "duration": 717,
    "start_time": "2023-02-08T19:03:49.479Z"
   },
   {
    "duration": 38,
    "start_time": "2023-02-08T19:03:50.199Z"
   },
   {
    "duration": 185,
    "start_time": "2023-02-08T19:03:50.240Z"
   },
   {
    "duration": 29,
    "start_time": "2023-02-08T19:03:50.428Z"
   },
   {
    "duration": 209,
    "start_time": "2023-02-08T19:03:50.458Z"
   },
   {
    "duration": 140,
    "start_time": "2023-02-08T19:03:50.669Z"
   },
   {
    "duration": 157,
    "start_time": "2023-02-08T19:03:50.811Z"
   },
   {
    "duration": 145,
    "start_time": "2023-02-08T19:03:50.970Z"
   },
   {
    "duration": 37,
    "start_time": "2023-02-08T19:03:51.117Z"
   },
   {
    "duration": 31,
    "start_time": "2023-02-08T19:03:51.156Z"
   },
   {
    "duration": 271,
    "start_time": "2023-02-08T19:03:51.189Z"
   },
   {
    "duration": 211,
    "start_time": "2023-02-08T19:03:51.465Z"
   },
   {
    "duration": 204,
    "start_time": "2023-02-08T19:03:51.681Z"
   },
   {
    "duration": 196,
    "start_time": "2023-02-08T19:03:51.888Z"
   },
   {
    "duration": 169,
    "start_time": "2023-02-08T19:03:52.086Z"
   },
   {
    "duration": 318,
    "start_time": "2023-02-08T19:03:52.257Z"
   },
   {
    "duration": 319,
    "start_time": "2023-02-08T19:03:52.577Z"
   },
   {
    "duration": 229,
    "start_time": "2023-02-08T19:03:52.899Z"
   },
   {
    "duration": 271,
    "start_time": "2023-02-08T19:03:53.130Z"
   },
   {
    "duration": 206,
    "start_time": "2023-02-08T19:03:53.404Z"
   },
   {
    "duration": 175,
    "start_time": "2023-02-08T19:03:53.612Z"
   },
   {
    "duration": 349,
    "start_time": "2023-02-08T19:03:53.789Z"
   },
   {
    "duration": 138,
    "start_time": "2023-02-08T19:03:54.139Z"
   },
   {
    "duration": 235,
    "start_time": "2023-02-08T19:03:54.278Z"
   },
   {
    "duration": 14,
    "start_time": "2023-02-08T19:03:54.514Z"
   },
   {
    "duration": 184,
    "start_time": "2023-02-08T19:03:54.529Z"
   },
   {
    "duration": 200,
    "start_time": "2023-02-08T19:03:54.714Z"
   },
   {
    "duration": 264,
    "start_time": "2023-02-08T19:03:54.916Z"
   },
   {
    "duration": 260,
    "start_time": "2023-02-08T19:03:55.182Z"
   },
   {
    "duration": 226,
    "start_time": "2023-02-08T19:03:55.444Z"
   },
   {
    "duration": 30,
    "start_time": "2023-02-08T19:03:55.673Z"
   },
   {
    "duration": 12,
    "start_time": "2023-02-08T19:03:55.706Z"
   },
   {
    "duration": 273,
    "start_time": "2023-02-08T19:03:55.721Z"
   },
   {
    "duration": 365,
    "start_time": "2023-02-08T19:04:26.682Z"
   },
   {
    "duration": 839,
    "start_time": "2023-02-09T06:00:24.045Z"
   },
   {
    "duration": 858,
    "start_time": "2023-02-09T06:00:24.887Z"
   },
   {
    "duration": 15,
    "start_time": "2023-02-09T06:00:25.747Z"
   },
   {
    "duration": 2394,
    "start_time": "2023-02-09T06:00:25.764Z"
   },
   {
    "duration": 120,
    "start_time": "2023-02-09T06:00:28.160Z"
   },
   {
    "duration": 15,
    "start_time": "2023-02-09T06:00:28.282Z"
   },
   {
    "duration": 55,
    "start_time": "2023-02-09T06:00:28.299Z"
   },
   {
    "duration": 18,
    "start_time": "2023-02-09T06:00:28.356Z"
   },
   {
    "duration": 275,
    "start_time": "2023-02-09T06:00:28.375Z"
   },
   {
    "duration": 7,
    "start_time": "2023-02-09T06:00:28.655Z"
   },
   {
    "duration": 15,
    "start_time": "2023-02-09T06:00:28.663Z"
   },
   {
    "duration": 42,
    "start_time": "2023-02-09T06:00:28.679Z"
   },
   {
    "duration": 31,
    "start_time": "2023-02-09T06:00:28.723Z"
   },
   {
    "duration": 95,
    "start_time": "2023-02-09T06:00:28.755Z"
   },
   {
    "duration": 0,
    "start_time": "2023-02-09T06:00:28.852Z"
   },
   {
    "duration": 0,
    "start_time": "2023-02-09T06:00:28.854Z"
   },
   {
    "duration": 0,
    "start_time": "2023-02-09T06:00:28.855Z"
   },
   {
    "duration": 0,
    "start_time": "2023-02-09T06:00:28.856Z"
   },
   {
    "duration": 0,
    "start_time": "2023-02-09T06:00:28.857Z"
   },
   {
    "duration": 0,
    "start_time": "2023-02-09T06:00:28.859Z"
   },
   {
    "duration": 0,
    "start_time": "2023-02-09T06:00:28.861Z"
   },
   {
    "duration": 0,
    "start_time": "2023-02-09T06:00:28.862Z"
   },
   {
    "duration": 0,
    "start_time": "2023-02-09T06:00:28.863Z"
   },
   {
    "duration": 0,
    "start_time": "2023-02-09T06:00:28.864Z"
   },
   {
    "duration": 0,
    "start_time": "2023-02-09T06:00:28.865Z"
   },
   {
    "duration": 0,
    "start_time": "2023-02-09T06:00:28.867Z"
   },
   {
    "duration": 0,
    "start_time": "2023-02-09T06:00:28.868Z"
   },
   {
    "duration": 0,
    "start_time": "2023-02-09T06:00:28.869Z"
   },
   {
    "duration": 0,
    "start_time": "2023-02-09T06:00:28.870Z"
   },
   {
    "duration": 0,
    "start_time": "2023-02-09T06:00:28.871Z"
   },
   {
    "duration": 0,
    "start_time": "2023-02-09T06:00:28.872Z"
   },
   {
    "duration": 0,
    "start_time": "2023-02-09T06:00:28.873Z"
   },
   {
    "duration": 0,
    "start_time": "2023-02-09T06:00:28.874Z"
   },
   {
    "duration": 0,
    "start_time": "2023-02-09T06:00:28.875Z"
   },
   {
    "duration": 0,
    "start_time": "2023-02-09T06:00:28.876Z"
   },
   {
    "duration": 0,
    "start_time": "2023-02-09T06:00:28.877Z"
   },
   {
    "duration": 0,
    "start_time": "2023-02-09T06:00:28.878Z"
   },
   {
    "duration": 0,
    "start_time": "2023-02-09T06:00:28.879Z"
   },
   {
    "duration": 0,
    "start_time": "2023-02-09T06:00:28.880Z"
   },
   {
    "duration": 0,
    "start_time": "2023-02-09T06:00:28.882Z"
   },
   {
    "duration": 0,
    "start_time": "2023-02-09T06:00:28.883Z"
   },
   {
    "duration": 0,
    "start_time": "2023-02-09T06:00:28.884Z"
   },
   {
    "duration": 0,
    "start_time": "2023-02-09T06:00:28.885Z"
   },
   {
    "duration": 0,
    "start_time": "2023-02-09T06:00:28.886Z"
   },
   {
    "duration": 0,
    "start_time": "2023-02-09T06:00:28.903Z"
   },
   {
    "duration": 0,
    "start_time": "2023-02-09T06:00:28.907Z"
   },
   {
    "duration": 0,
    "start_time": "2023-02-09T06:00:28.907Z"
   },
   {
    "duration": 0,
    "start_time": "2023-02-09T06:00:28.908Z"
   },
   {
    "duration": 126,
    "start_time": "2023-02-09T06:01:09.829Z"
   },
   {
    "duration": 688,
    "start_time": "2023-02-09T06:02:15.686Z"
   },
   {
    "duration": 166,
    "start_time": "2023-02-09T06:02:16.376Z"
   },
   {
    "duration": 16,
    "start_time": "2023-02-09T06:02:16.547Z"
   },
   {
    "duration": 2414,
    "start_time": "2023-02-09T06:02:16.565Z"
   },
   {
    "duration": 85,
    "start_time": "2023-02-09T06:02:18.981Z"
   },
   {
    "duration": 16,
    "start_time": "2023-02-09T06:02:19.068Z"
   },
   {
    "duration": 35,
    "start_time": "2023-02-09T06:02:19.087Z"
   },
   {
    "duration": 21,
    "start_time": "2023-02-09T06:02:19.124Z"
   },
   {
    "duration": 276,
    "start_time": "2023-02-09T06:02:19.147Z"
   },
   {
    "duration": 8,
    "start_time": "2023-02-09T06:02:19.432Z"
   },
   {
    "duration": 11,
    "start_time": "2023-02-09T06:02:19.443Z"
   },
   {
    "duration": 26,
    "start_time": "2023-02-09T06:02:19.456Z"
   },
   {
    "duration": 9,
    "start_time": "2023-02-09T06:02:19.483Z"
   },
   {
    "duration": 77,
    "start_time": "2023-02-09T06:02:19.509Z"
   },
   {
    "duration": 0,
    "start_time": "2023-02-09T06:02:19.588Z"
   },
   {
    "duration": 0,
    "start_time": "2023-02-09T06:02:19.589Z"
   },
   {
    "duration": 0,
    "start_time": "2023-02-09T06:02:19.591Z"
   },
   {
    "duration": 0,
    "start_time": "2023-02-09T06:02:19.591Z"
   },
   {
    "duration": 0,
    "start_time": "2023-02-09T06:02:19.593Z"
   },
   {
    "duration": 0,
    "start_time": "2023-02-09T06:02:19.594Z"
   },
   {
    "duration": 0,
    "start_time": "2023-02-09T06:02:19.595Z"
   },
   {
    "duration": 0,
    "start_time": "2023-02-09T06:02:19.596Z"
   },
   {
    "duration": 0,
    "start_time": "2023-02-09T06:02:19.597Z"
   },
   {
    "duration": 0,
    "start_time": "2023-02-09T06:02:19.598Z"
   },
   {
    "duration": 0,
    "start_time": "2023-02-09T06:02:19.599Z"
   },
   {
    "duration": 0,
    "start_time": "2023-02-09T06:02:19.600Z"
   },
   {
    "duration": 0,
    "start_time": "2023-02-09T06:02:19.601Z"
   },
   {
    "duration": 0,
    "start_time": "2023-02-09T06:02:19.602Z"
   },
   {
    "duration": 0,
    "start_time": "2023-02-09T06:02:19.607Z"
   },
   {
    "duration": 0,
    "start_time": "2023-02-09T06:02:19.608Z"
   },
   {
    "duration": 0,
    "start_time": "2023-02-09T06:02:19.609Z"
   },
   {
    "duration": 0,
    "start_time": "2023-02-09T06:02:19.610Z"
   },
   {
    "duration": 0,
    "start_time": "2023-02-09T06:02:19.610Z"
   },
   {
    "duration": 0,
    "start_time": "2023-02-09T06:02:19.613Z"
   },
   {
    "duration": 0,
    "start_time": "2023-02-09T06:02:19.614Z"
   },
   {
    "duration": 0,
    "start_time": "2023-02-09T06:02:19.615Z"
   },
   {
    "duration": 0,
    "start_time": "2023-02-09T06:02:19.616Z"
   },
   {
    "duration": 0,
    "start_time": "2023-02-09T06:02:19.617Z"
   },
   {
    "duration": 0,
    "start_time": "2023-02-09T06:02:19.617Z"
   },
   {
    "duration": 0,
    "start_time": "2023-02-09T06:02:19.618Z"
   },
   {
    "duration": 0,
    "start_time": "2023-02-09T06:02:19.619Z"
   },
   {
    "duration": 0,
    "start_time": "2023-02-09T06:02:19.620Z"
   },
   {
    "duration": 0,
    "start_time": "2023-02-09T06:02:19.621Z"
   },
   {
    "duration": 0,
    "start_time": "2023-02-09T06:02:19.622Z"
   },
   {
    "duration": 0,
    "start_time": "2023-02-09T06:02:19.625Z"
   },
   {
    "duration": 0,
    "start_time": "2023-02-09T06:02:19.626Z"
   },
   {
    "duration": 0,
    "start_time": "2023-02-09T06:02:19.627Z"
   },
   {
    "duration": 0,
    "start_time": "2023-02-09T06:02:19.628Z"
   },
   {
    "duration": 702,
    "start_time": "2023-02-09T06:02:37.297Z"
   },
   {
    "duration": 161,
    "start_time": "2023-02-09T06:02:38.000Z"
   },
   {
    "duration": 15,
    "start_time": "2023-02-09T06:02:38.164Z"
   },
   {
    "duration": 2439,
    "start_time": "2023-02-09T06:02:38.181Z"
   },
   {
    "duration": 90,
    "start_time": "2023-02-09T06:02:40.629Z"
   },
   {
    "duration": 51,
    "start_time": "2023-02-09T06:02:40.725Z"
   },
   {
    "duration": 15,
    "start_time": "2023-02-09T06:02:40.778Z"
   },
   {
    "duration": 24,
    "start_time": "2023-02-09T06:02:40.795Z"
   },
   {
    "duration": 221,
    "start_time": "2023-02-09T06:02:40.824Z"
   },
   {
    "duration": 7,
    "start_time": "2023-02-09T06:02:41.049Z"
   },
   {
    "duration": 8,
    "start_time": "2023-02-09T06:02:41.057Z"
   },
   {
    "duration": 17,
    "start_time": "2023-02-09T06:02:41.067Z"
   },
   {
    "duration": 34,
    "start_time": "2023-02-09T06:02:41.085Z"
   },
   {
    "duration": 190,
    "start_time": "2023-02-09T06:02:41.121Z"
   },
   {
    "duration": 273,
    "start_time": "2023-02-09T06:02:41.314Z"
   },
   {
    "duration": 537,
    "start_time": "2023-02-09T06:02:41.589Z"
   },
   {
    "duration": 36,
    "start_time": "2023-02-09T06:02:42.128Z"
   },
   {
    "duration": 173,
    "start_time": "2023-02-09T06:02:42.166Z"
   },
   {
    "duration": 11,
    "start_time": "2023-02-09T06:02:42.343Z"
   },
   {
    "duration": 189,
    "start_time": "2023-02-09T06:02:42.355Z"
   },
   {
    "duration": 140,
    "start_time": "2023-02-09T06:02:42.546Z"
   },
   {
    "duration": 163,
    "start_time": "2023-02-09T06:02:42.687Z"
   },
   {
    "duration": 127,
    "start_time": "2023-02-09T06:02:42.852Z"
   },
   {
    "duration": 39,
    "start_time": "2023-02-09T06:02:42.980Z"
   },
   {
    "duration": 41,
    "start_time": "2023-02-09T06:02:43.022Z"
   },
   {
    "duration": 185,
    "start_time": "2023-02-09T06:02:43.066Z"
   },
   {
    "duration": 161,
    "start_time": "2023-02-09T06:02:43.253Z"
   },
   {
    "duration": 224,
    "start_time": "2023-02-09T06:02:43.417Z"
   },
   {
    "duration": 201,
    "start_time": "2023-02-09T06:02:43.643Z"
   },
   {
    "duration": 213,
    "start_time": "2023-02-09T06:02:43.845Z"
   },
   {
    "duration": 238,
    "start_time": "2023-02-09T06:02:44.060Z"
   },
   {
    "duration": 249,
    "start_time": "2023-02-09T06:02:44.300Z"
   },
   {
    "duration": 234,
    "start_time": "2023-02-09T06:02:44.551Z"
   },
   {
    "duration": 240,
    "start_time": "2023-02-09T06:02:44.787Z"
   },
   {
    "duration": 222,
    "start_time": "2023-02-09T06:02:45.034Z"
   },
   {
    "duration": 187,
    "start_time": "2023-02-09T06:02:45.258Z"
   },
   {
    "duration": 344,
    "start_time": "2023-02-09T06:02:45.448Z"
   },
   {
    "duration": 153,
    "start_time": "2023-02-09T06:02:45.793Z"
   },
   {
    "duration": 229,
    "start_time": "2023-02-09T06:02:45.948Z"
   },
   {
    "duration": 11,
    "start_time": "2023-02-09T06:02:46.179Z"
   },
   {
    "duration": 215,
    "start_time": "2023-02-09T06:02:46.191Z"
   },
   {
    "duration": 176,
    "start_time": "2023-02-09T06:02:46.408Z"
   },
   {
    "duration": 258,
    "start_time": "2023-02-09T06:02:46.587Z"
   },
   {
    "duration": 213,
    "start_time": "2023-02-09T06:02:46.847Z"
   },
   {
    "duration": 181,
    "start_time": "2023-02-09T06:02:47.062Z"
   },
   {
    "duration": 28,
    "start_time": "2023-02-09T06:02:47.245Z"
   },
   {
    "duration": 20,
    "start_time": "2023-02-09T06:02:47.275Z"
   },
   {
    "duration": 224,
    "start_time": "2023-02-09T06:02:47.306Z"
   },
   {
    "duration": 15,
    "start_time": "2023-02-09T06:05:16.252Z"
   },
   {
    "duration": 650,
    "start_time": "2023-02-09T06:05:22.659Z"
   },
   {
    "duration": 125,
    "start_time": "2023-02-09T06:05:23.313Z"
   },
   {
    "duration": 15,
    "start_time": "2023-02-09T06:05:23.440Z"
   },
   {
    "duration": 2235,
    "start_time": "2023-02-09T06:05:23.457Z"
   },
   {
    "duration": 105,
    "start_time": "2023-02-09T06:05:25.695Z"
   },
   {
    "duration": 39,
    "start_time": "2023-02-09T06:05:25.801Z"
   },
   {
    "duration": 15,
    "start_time": "2023-02-09T06:05:25.842Z"
   },
   {
    "duration": 13,
    "start_time": "2023-02-09T06:05:25.859Z"
   },
   {
    "duration": 225,
    "start_time": "2023-02-09T06:05:25.874Z"
   },
   {
    "duration": 31,
    "start_time": "2023-02-09T06:05:26.102Z"
   },
   {
    "duration": 15,
    "start_time": "2023-02-09T06:05:26.137Z"
   },
   {
    "duration": 20,
    "start_time": "2023-02-09T06:05:26.153Z"
   },
   {
    "duration": 7,
    "start_time": "2023-02-09T06:05:26.175Z"
   },
   {
    "duration": 161,
    "start_time": "2023-02-09T06:05:26.183Z"
   },
   {
    "duration": 273,
    "start_time": "2023-02-09T06:05:26.346Z"
   },
   {
    "duration": 538,
    "start_time": "2023-02-09T06:05:26.628Z"
   },
   {
    "duration": 27,
    "start_time": "2023-02-09T06:05:27.168Z"
   },
   {
    "duration": 134,
    "start_time": "2023-02-09T06:05:27.197Z"
   },
   {
    "duration": 9,
    "start_time": "2023-02-09T06:05:27.334Z"
   },
   {
    "duration": 144,
    "start_time": "2023-02-09T06:05:27.345Z"
   },
   {
    "duration": 136,
    "start_time": "2023-02-09T06:05:27.490Z"
   },
   {
    "duration": 165,
    "start_time": "2023-02-09T06:05:27.629Z"
   },
   {
    "duration": 126,
    "start_time": "2023-02-09T06:05:27.797Z"
   },
   {
    "duration": 21,
    "start_time": "2023-02-09T06:05:27.925Z"
   },
   {
    "duration": 15,
    "start_time": "2023-02-09T06:05:27.947Z"
   },
   {
    "duration": 191,
    "start_time": "2023-02-09T06:05:27.964Z"
   },
   {
    "duration": 172,
    "start_time": "2023-02-09T06:05:28.156Z"
   },
   {
    "duration": 187,
    "start_time": "2023-02-09T06:05:28.331Z"
   },
   {
    "duration": 162,
    "start_time": "2023-02-09T06:05:28.520Z"
   },
   {
    "duration": 189,
    "start_time": "2023-02-09T06:05:28.684Z"
   },
   {
    "duration": 250,
    "start_time": "2023-02-09T06:05:28.875Z"
   },
   {
    "duration": 218,
    "start_time": "2023-02-09T06:05:29.139Z"
   },
   {
    "duration": 220,
    "start_time": "2023-02-09T06:05:29.359Z"
   },
   {
    "duration": 260,
    "start_time": "2023-02-09T06:05:29.581Z"
   },
   {
    "duration": 196,
    "start_time": "2023-02-09T06:05:29.843Z"
   },
   {
    "duration": 155,
    "start_time": "2023-02-09T06:05:30.045Z"
   },
   {
    "duration": 378,
    "start_time": "2023-02-09T06:05:30.203Z"
   },
   {
    "duration": 169,
    "start_time": "2023-02-09T06:05:30.582Z"
   },
   {
    "duration": 239,
    "start_time": "2023-02-09T06:05:30.752Z"
   },
   {
    "duration": 34,
    "start_time": "2023-02-09T06:05:30.992Z"
   },
   {
    "duration": 248,
    "start_time": "2023-02-09T06:05:31.028Z"
   },
   {
    "duration": 195,
    "start_time": "2023-02-09T06:05:31.277Z"
   },
   {
    "duration": 218,
    "start_time": "2023-02-09T06:05:31.474Z"
   },
   {
    "duration": 204,
    "start_time": "2023-02-09T06:05:31.693Z"
   },
   {
    "duration": 203,
    "start_time": "2023-02-09T06:05:31.899Z"
   },
   {
    "duration": 52,
    "start_time": "2023-02-09T06:05:32.114Z"
   },
   {
    "duration": 9,
    "start_time": "2023-02-09T06:05:32.168Z"
   },
   {
    "duration": 241,
    "start_time": "2023-02-09T06:05:32.178Z"
   },
   {
    "duration": 128,
    "start_time": "2023-02-09T06:06:02.935Z"
   },
   {
    "duration": 7,
    "start_time": "2023-02-09T06:06:13.639Z"
   },
   {
    "duration": 623,
    "start_time": "2023-02-09T06:06:27.758Z"
   },
   {
    "duration": 150,
    "start_time": "2023-02-09T06:06:28.383Z"
   },
   {
    "duration": 21,
    "start_time": "2023-02-09T06:06:28.536Z"
   },
   {
    "duration": 2252,
    "start_time": "2023-02-09T06:06:28.560Z"
   },
   {
    "duration": 95,
    "start_time": "2023-02-09T06:06:30.816Z"
   },
   {
    "duration": 31,
    "start_time": "2023-02-09T06:06:30.913Z"
   },
   {
    "duration": 25,
    "start_time": "2023-02-09T06:06:30.947Z"
   },
   {
    "duration": 13,
    "start_time": "2023-02-09T06:06:30.973Z"
   },
   {
    "duration": 257,
    "start_time": "2023-02-09T06:06:30.988Z"
   },
   {
    "duration": 7,
    "start_time": "2023-02-09T06:06:31.250Z"
   },
   {
    "duration": 11,
    "start_time": "2023-02-09T06:06:31.259Z"
   },
   {
    "duration": 21,
    "start_time": "2023-02-09T06:06:31.271Z"
   },
   {
    "duration": 15,
    "start_time": "2023-02-09T06:06:31.294Z"
   },
   {
    "duration": 160,
    "start_time": "2023-02-09T06:06:31.311Z"
   },
   {
    "duration": 281,
    "start_time": "2023-02-09T06:06:31.473Z"
   },
   {
    "duration": 521,
    "start_time": "2023-02-09T06:06:31.756Z"
   },
   {
    "duration": 30,
    "start_time": "2023-02-09T06:06:32.278Z"
   },
   {
    "duration": 163,
    "start_time": "2023-02-09T06:06:32.310Z"
   },
   {
    "duration": 8,
    "start_time": "2023-02-09T06:06:32.474Z"
   },
   {
    "duration": 166,
    "start_time": "2023-02-09T06:06:32.484Z"
   },
   {
    "duration": 131,
    "start_time": "2023-02-09T06:06:32.652Z"
   },
   {
    "duration": 164,
    "start_time": "2023-02-09T06:06:32.785Z"
   },
   {
    "duration": 128,
    "start_time": "2023-02-09T06:06:32.951Z"
   },
   {
    "duration": 42,
    "start_time": "2023-02-09T06:06:33.081Z"
   },
   {
    "duration": 27,
    "start_time": "2023-02-09T06:06:33.125Z"
   },
   {
    "duration": 194,
    "start_time": "2023-02-09T06:06:33.154Z"
   },
   {
    "duration": 194,
    "start_time": "2023-02-09T06:06:33.350Z"
   },
   {
    "duration": 202,
    "start_time": "2023-02-09T06:06:33.547Z"
   },
   {
    "duration": 196,
    "start_time": "2023-02-09T06:06:33.751Z"
   },
   {
    "duration": 213,
    "start_time": "2023-02-09T06:06:33.949Z"
   },
   {
    "duration": 230,
    "start_time": "2023-02-09T06:06:34.164Z"
   },
   {
    "duration": 263,
    "start_time": "2023-02-09T06:06:34.395Z"
   },
   {
    "duration": 231,
    "start_time": "2023-02-09T06:06:34.660Z"
   },
   {
    "duration": 269,
    "start_time": "2023-02-09T06:06:34.892Z"
   },
   {
    "duration": 194,
    "start_time": "2023-02-09T06:06:35.163Z"
   },
   {
    "duration": 160,
    "start_time": "2023-02-09T06:06:35.358Z"
   },
   {
    "duration": 363,
    "start_time": "2023-02-09T06:06:35.520Z"
   },
   {
    "duration": 151,
    "start_time": "2023-02-09T06:06:35.884Z"
   },
   {
    "duration": 240,
    "start_time": "2023-02-09T06:06:36.037Z"
   },
   {
    "duration": 10,
    "start_time": "2023-02-09T06:06:36.279Z"
   },
   {
    "duration": 182,
    "start_time": "2023-02-09T06:06:36.291Z"
   },
   {
    "duration": 190,
    "start_time": "2023-02-09T06:06:36.475Z"
   },
   {
    "duration": 285,
    "start_time": "2023-02-09T06:06:36.667Z"
   },
   {
    "duration": 224,
    "start_time": "2023-02-09T06:06:36.953Z"
   },
   {
    "duration": 180,
    "start_time": "2023-02-09T06:06:37.179Z"
   },
   {
    "duration": 28,
    "start_time": "2023-02-09T06:06:37.360Z"
   },
   {
    "duration": 27,
    "start_time": "2023-02-09T06:06:37.389Z"
   },
   {
    "duration": 184,
    "start_time": "2023-02-09T06:06:37.418Z"
   },
   {
    "duration": 170,
    "start_time": "2023-02-09T06:09:56.585Z"
   },
   {
    "duration": 704,
    "start_time": "2023-02-09T06:11:26.976Z"
   },
   {
    "duration": 164,
    "start_time": "2023-02-09T06:11:27.682Z"
   },
   {
    "duration": 21,
    "start_time": "2023-02-09T06:11:27.848Z"
   },
   {
    "duration": 2145,
    "start_time": "2023-02-09T06:11:27.871Z"
   },
   {
    "duration": 95,
    "start_time": "2023-02-09T06:11:30.019Z"
   },
   {
    "duration": 31,
    "start_time": "2023-02-09T06:11:30.119Z"
   },
   {
    "duration": 41,
    "start_time": "2023-02-09T06:11:30.152Z"
   },
   {
    "duration": 69,
    "start_time": "2023-02-09T06:11:30.195Z"
   },
   {
    "duration": 229,
    "start_time": "2023-02-09T06:11:30.266Z"
   },
   {
    "duration": 8,
    "start_time": "2023-02-09T06:11:30.498Z"
   },
   {
    "duration": 51,
    "start_time": "2023-02-09T06:11:30.508Z"
   },
   {
    "duration": 24,
    "start_time": "2023-02-09T06:11:30.561Z"
   },
   {
    "duration": 16,
    "start_time": "2023-02-09T06:11:30.586Z"
   },
   {
    "duration": 180,
    "start_time": "2023-02-09T06:11:30.603Z"
   },
   {
    "duration": 310,
    "start_time": "2023-02-09T06:11:30.784Z"
   },
   {
    "duration": 601,
    "start_time": "2023-02-09T06:11:31.095Z"
   },
   {
    "duration": 51,
    "start_time": "2023-02-09T06:11:31.698Z"
   },
   {
    "duration": 139,
    "start_time": "2023-02-09T06:11:31.752Z"
   },
   {
    "duration": 8,
    "start_time": "2023-02-09T06:11:31.893Z"
   },
   {
    "duration": 219,
    "start_time": "2023-02-09T06:11:31.902Z"
   },
   {
    "duration": 150,
    "start_time": "2023-02-09T06:11:32.123Z"
   },
   {
    "duration": 172,
    "start_time": "2023-02-09T06:11:32.274Z"
   },
   {
    "duration": 143,
    "start_time": "2023-02-09T06:11:32.448Z"
   },
   {
    "duration": 42,
    "start_time": "2023-02-09T06:11:32.593Z"
   },
   {
    "duration": 31,
    "start_time": "2023-02-09T06:11:32.639Z"
   },
   {
    "duration": 185,
    "start_time": "2023-02-09T06:11:32.672Z"
   },
   {
    "duration": 171,
    "start_time": "2023-02-09T06:11:32.858Z"
   },
   {
    "duration": 188,
    "start_time": "2023-02-09T06:11:33.034Z"
   },
   {
    "duration": 227,
    "start_time": "2023-02-09T06:11:33.224Z"
   },
   {
    "duration": 216,
    "start_time": "2023-02-09T06:11:33.452Z"
   },
   {
    "duration": 237,
    "start_time": "2023-02-09T06:11:33.670Z"
   },
   {
    "duration": 254,
    "start_time": "2023-02-09T06:11:33.908Z"
   },
   {
    "duration": 223,
    "start_time": "2023-02-09T06:11:34.163Z"
   },
   {
    "duration": 253,
    "start_time": "2023-02-09T06:11:34.388Z"
   },
   {
    "duration": 182,
    "start_time": "2023-02-09T06:11:34.644Z"
   },
   {
    "duration": 159,
    "start_time": "2023-02-09T06:11:34.829Z"
   },
   {
    "duration": 393,
    "start_time": "2023-02-09T06:11:34.990Z"
   },
   {
    "duration": 152,
    "start_time": "2023-02-09T06:11:35.385Z"
   },
   {
    "duration": 259,
    "start_time": "2023-02-09T06:11:35.538Z"
   },
   {
    "duration": 17,
    "start_time": "2023-02-09T06:11:35.799Z"
   },
   {
    "duration": 209,
    "start_time": "2023-02-09T06:11:35.818Z"
   },
   {
    "duration": 173,
    "start_time": "2023-02-09T06:11:36.031Z"
   },
   {
    "duration": 223,
    "start_time": "2023-02-09T06:11:36.206Z"
   },
   {
    "duration": 190,
    "start_time": "2023-02-09T06:11:36.431Z"
   },
   {
    "duration": 255,
    "start_time": "2023-02-09T06:11:36.625Z"
   },
   {
    "duration": 55,
    "start_time": "2023-02-09T06:11:36.883Z"
   },
   {
    "duration": 9,
    "start_time": "2023-02-09T06:11:36.940Z"
   },
   {
    "duration": 272,
    "start_time": "2023-02-09T06:11:36.952Z"
   },
   {
    "duration": 132,
    "start_time": "2023-02-09T06:12:22.044Z"
   },
   {
    "duration": 241,
    "start_time": "2023-02-09T06:13:15.732Z"
   },
   {
    "duration": 170,
    "start_time": "2023-02-09T06:13:27.170Z"
   },
   {
    "duration": 148,
    "start_time": "2023-02-09T06:13:33.818Z"
   },
   {
    "duration": 18,
    "start_time": "2023-02-09T06:14:58.945Z"
   },
   {
    "duration": 760,
    "start_time": "2023-02-09T06:15:03.318Z"
   },
   {
    "duration": 168,
    "start_time": "2023-02-09T06:15:04.080Z"
   },
   {
    "duration": 15,
    "start_time": "2023-02-09T06:15:04.250Z"
   },
   {
    "duration": 2437,
    "start_time": "2023-02-09T06:15:04.267Z"
   },
   {
    "duration": 116,
    "start_time": "2023-02-09T06:15:06.708Z"
   },
   {
    "duration": 22,
    "start_time": "2023-02-09T06:15:06.826Z"
   },
   {
    "duration": 18,
    "start_time": "2023-02-09T06:15:06.850Z"
   },
   {
    "duration": 39,
    "start_time": "2023-02-09T06:15:06.870Z"
   },
   {
    "duration": 280,
    "start_time": "2023-02-09T06:15:06.912Z"
   },
   {
    "duration": 18,
    "start_time": "2023-02-09T06:15:07.193Z"
   },
   {
    "duration": 39,
    "start_time": "2023-02-09T06:15:07.213Z"
   },
   {
    "duration": 22,
    "start_time": "2023-02-09T06:15:07.255Z"
   },
   {
    "duration": 9,
    "start_time": "2023-02-09T06:15:07.279Z"
   },
   {
    "duration": 156,
    "start_time": "2023-02-09T06:15:07.293Z"
   },
   {
    "duration": 267,
    "start_time": "2023-02-09T06:15:07.450Z"
   },
   {
    "duration": 528,
    "start_time": "2023-02-09T06:15:07.719Z"
   },
   {
    "duration": 27,
    "start_time": "2023-02-09T06:15:08.249Z"
   },
   {
    "duration": 160,
    "start_time": "2023-02-09T06:15:08.279Z"
   },
   {
    "duration": 11,
    "start_time": "2023-02-09T06:15:08.441Z"
   },
   {
    "duration": 160,
    "start_time": "2023-02-09T06:15:08.454Z"
   },
   {
    "duration": 155,
    "start_time": "2023-02-09T06:15:08.616Z"
   },
   {
    "duration": 184,
    "start_time": "2023-02-09T06:15:08.773Z"
   },
   {
    "duration": 135,
    "start_time": "2023-02-09T06:15:08.958Z"
   },
   {
    "duration": 37,
    "start_time": "2023-02-09T06:15:09.095Z"
   },
   {
    "duration": 39,
    "start_time": "2023-02-09T06:15:09.133Z"
   },
   {
    "duration": 198,
    "start_time": "2023-02-09T06:15:09.174Z"
   },
   {
    "duration": 168,
    "start_time": "2023-02-09T06:15:09.373Z"
   },
   {
    "duration": 206,
    "start_time": "2023-02-09T06:15:09.543Z"
   },
   {
    "duration": 201,
    "start_time": "2023-02-09T06:15:09.751Z"
   },
   {
    "duration": 236,
    "start_time": "2023-02-09T06:15:09.954Z"
   },
   {
    "duration": 271,
    "start_time": "2023-02-09T06:15:10.191Z"
   },
   {
    "duration": 271,
    "start_time": "2023-02-09T06:15:10.464Z"
   },
   {
    "duration": 220,
    "start_time": "2023-02-09T06:15:10.738Z"
   },
   {
    "duration": 308,
    "start_time": "2023-02-09T06:15:10.960Z"
   },
   {
    "duration": 202,
    "start_time": "2023-02-09T06:15:11.270Z"
   },
   {
    "duration": 173,
    "start_time": "2023-02-09T06:15:11.474Z"
   },
   {
    "duration": 340,
    "start_time": "2023-02-09T06:15:11.648Z"
   },
   {
    "duration": 166,
    "start_time": "2023-02-09T06:15:11.989Z"
   },
   {
    "duration": 256,
    "start_time": "2023-02-09T06:15:12.157Z"
   },
   {
    "duration": 15,
    "start_time": "2023-02-09T06:15:12.415Z"
   },
   {
    "duration": 204,
    "start_time": "2023-02-09T06:15:12.434Z"
   },
   {
    "duration": 175,
    "start_time": "2023-02-09T06:15:12.641Z"
   },
   {
    "duration": 221,
    "start_time": "2023-02-09T06:15:12.819Z"
   },
   {
    "duration": 209,
    "start_time": "2023-02-09T06:15:13.042Z"
   },
   {
    "duration": 201,
    "start_time": "2023-02-09T06:15:13.255Z"
   },
   {
    "duration": 29,
    "start_time": "2023-02-09T06:15:13.458Z"
   },
   {
    "duration": 8,
    "start_time": "2023-02-09T06:15:13.488Z"
   },
   {
    "duration": 219,
    "start_time": "2023-02-09T06:15:13.497Z"
   },
   {
    "duration": 769,
    "start_time": "2023-02-09T06:15:27.579Z"
   },
   {
    "duration": 139,
    "start_time": "2023-02-09T06:15:28.351Z"
   },
   {
    "duration": 22,
    "start_time": "2023-02-09T06:15:28.492Z"
   },
   {
    "duration": 2227,
    "start_time": "2023-02-09T06:15:28.517Z"
   },
   {
    "duration": 90,
    "start_time": "2023-02-09T06:15:30.746Z"
   },
   {
    "duration": 22,
    "start_time": "2023-02-09T06:15:30.839Z"
   },
   {
    "duration": 32,
    "start_time": "2023-02-09T06:15:30.862Z"
   },
   {
    "duration": 31,
    "start_time": "2023-02-09T06:15:30.896Z"
   },
   {
    "duration": 321,
    "start_time": "2023-02-09T06:15:30.930Z"
   },
   {
    "duration": 7,
    "start_time": "2023-02-09T06:15:31.256Z"
   },
   {
    "duration": 11,
    "start_time": "2023-02-09T06:15:31.265Z"
   },
   {
    "duration": 23,
    "start_time": "2023-02-09T06:15:31.278Z"
   },
   {
    "duration": 54,
    "start_time": "2023-02-09T06:15:31.303Z"
   },
   {
    "duration": 175,
    "start_time": "2023-02-09T06:15:31.359Z"
   },
   {
    "duration": 313,
    "start_time": "2023-02-09T06:15:31.538Z"
   },
   {
    "duration": 545,
    "start_time": "2023-02-09T06:15:31.853Z"
   },
   {
    "duration": 41,
    "start_time": "2023-02-09T06:15:32.400Z"
   },
   {
    "duration": 134,
    "start_time": "2023-02-09T06:15:32.445Z"
   },
   {
    "duration": 9,
    "start_time": "2023-02-09T06:15:32.581Z"
   },
   {
    "duration": 159,
    "start_time": "2023-02-09T06:15:32.605Z"
   },
   {
    "duration": 132,
    "start_time": "2023-02-09T06:15:32.765Z"
   },
   {
    "duration": 186,
    "start_time": "2023-02-09T06:15:32.898Z"
   },
   {
    "duration": 147,
    "start_time": "2023-02-09T06:15:33.086Z"
   },
   {
    "duration": 24,
    "start_time": "2023-02-09T06:15:33.236Z"
   },
   {
    "duration": 18,
    "start_time": "2023-02-09T06:15:33.263Z"
   },
   {
    "duration": 198,
    "start_time": "2023-02-09T06:15:33.283Z"
   },
   {
    "duration": 173,
    "start_time": "2023-02-09T06:15:33.482Z"
   },
   {
    "duration": 191,
    "start_time": "2023-02-09T06:15:33.658Z"
   },
   {
    "duration": 180,
    "start_time": "2023-02-09T06:15:33.851Z"
   },
   {
    "duration": 239,
    "start_time": "2023-02-09T06:15:34.033Z"
   },
   {
    "duration": 244,
    "start_time": "2023-02-09T06:15:34.273Z"
   },
   {
    "duration": 251,
    "start_time": "2023-02-09T06:15:34.531Z"
   },
   {
    "duration": 218,
    "start_time": "2023-02-09T06:15:34.784Z"
   },
   {
    "duration": 260,
    "start_time": "2023-02-09T06:15:35.010Z"
   },
   {
    "duration": 197,
    "start_time": "2023-02-09T06:15:35.272Z"
   },
   {
    "duration": 174,
    "start_time": "2023-02-09T06:15:35.471Z"
   },
   {
    "duration": 365,
    "start_time": "2023-02-09T06:15:35.647Z"
   },
   {
    "duration": 157,
    "start_time": "2023-02-09T06:15:36.015Z"
   },
   {
    "duration": 255,
    "start_time": "2023-02-09T06:15:36.174Z"
   },
   {
    "duration": 13,
    "start_time": "2023-02-09T06:15:36.435Z"
   },
   {
    "duration": 190,
    "start_time": "2023-02-09T06:15:36.449Z"
   },
   {
    "duration": 241,
    "start_time": "2023-02-09T06:15:36.641Z"
   },
   {
    "duration": 269,
    "start_time": "2023-02-09T06:15:36.884Z"
   },
   {
    "duration": 192,
    "start_time": "2023-02-09T06:15:37.155Z"
   },
   {
    "duration": 195,
    "start_time": "2023-02-09T06:15:37.349Z"
   },
   {
    "duration": 30,
    "start_time": "2023-02-09T06:15:37.546Z"
   },
   {
    "duration": 7,
    "start_time": "2023-02-09T06:15:37.578Z"
   },
   {
    "duration": 212,
    "start_time": "2023-02-09T06:15:37.586Z"
   },
   {
    "duration": 30,
    "start_time": "2023-02-09T06:35:05.362Z"
   },
   {
    "duration": 29,
    "start_time": "2023-02-09T06:35:54.560Z"
   },
   {
    "duration": 731,
    "start_time": "2023-02-09T06:35:58.703Z"
   },
   {
    "duration": 132,
    "start_time": "2023-02-09T06:35:59.438Z"
   },
   {
    "duration": 16,
    "start_time": "2023-02-09T06:35:59.571Z"
   },
   {
    "duration": 2603,
    "start_time": "2023-02-09T06:35:59.589Z"
   },
   {
    "duration": 82,
    "start_time": "2023-02-09T06:36:02.194Z"
   },
   {
    "duration": 32,
    "start_time": "2023-02-09T06:36:02.278Z"
   },
   {
    "duration": 24,
    "start_time": "2023-02-09T06:36:02.319Z"
   },
   {
    "duration": 12,
    "start_time": "2023-02-09T06:36:02.344Z"
   },
   {
    "duration": 194,
    "start_time": "2023-02-09T06:36:02.358Z"
   },
   {
    "duration": 7,
    "start_time": "2023-02-09T06:36:02.555Z"
   },
   {
    "duration": 17,
    "start_time": "2023-02-09T06:36:02.563Z"
   },
   {
    "duration": 50,
    "start_time": "2023-02-09T06:36:02.582Z"
   },
   {
    "duration": 21,
    "start_time": "2023-02-09T06:36:02.633Z"
   },
   {
    "duration": 161,
    "start_time": "2023-02-09T06:36:02.656Z"
   },
   {
    "duration": 241,
    "start_time": "2023-02-09T06:36:02.819Z"
   },
   {
    "duration": 527,
    "start_time": "2023-02-09T06:36:03.062Z"
   },
   {
    "duration": 49,
    "start_time": "2023-02-09T06:36:03.591Z"
   },
   {
    "duration": 131,
    "start_time": "2023-02-09T06:36:03.643Z"
   },
   {
    "duration": 10,
    "start_time": "2023-02-09T06:36:03.776Z"
   },
   {
    "duration": 167,
    "start_time": "2023-02-09T06:36:03.788Z"
   },
   {
    "duration": 132,
    "start_time": "2023-02-09T06:36:03.957Z"
   },
   {
    "duration": 173,
    "start_time": "2023-02-09T06:36:04.091Z"
   },
   {
    "duration": 136,
    "start_time": "2023-02-09T06:36:04.266Z"
   },
   {
    "duration": 29,
    "start_time": "2023-02-09T06:36:04.403Z"
   },
   {
    "duration": 30,
    "start_time": "2023-02-09T06:36:04.434Z"
   },
   {
    "duration": 173,
    "start_time": "2023-02-09T06:36:04.466Z"
   },
   {
    "duration": 170,
    "start_time": "2023-02-09T06:36:04.641Z"
   },
   {
    "duration": 180,
    "start_time": "2023-02-09T06:36:04.815Z"
   },
   {
    "duration": 195,
    "start_time": "2023-02-09T06:36:04.996Z"
   },
   {
    "duration": 238,
    "start_time": "2023-02-09T06:36:05.193Z"
   },
   {
    "duration": 211,
    "start_time": "2023-02-09T06:36:05.433Z"
   },
   {
    "duration": 239,
    "start_time": "2023-02-09T06:36:05.646Z"
   },
   {
    "duration": 231,
    "start_time": "2023-02-09T06:36:05.887Z"
   },
   {
    "duration": 234,
    "start_time": "2023-02-09T06:36:06.124Z"
   },
   {
    "duration": 194,
    "start_time": "2023-02-09T06:36:06.361Z"
   },
   {
    "duration": 197,
    "start_time": "2023-02-09T06:36:06.556Z"
   },
   {
    "duration": 419,
    "start_time": "2023-02-09T06:36:06.755Z"
   },
   {
    "duration": 199,
    "start_time": "2023-02-09T06:36:07.176Z"
   },
   {
    "duration": 249,
    "start_time": "2023-02-09T06:36:07.376Z"
   },
   {
    "duration": 15,
    "start_time": "2023-02-09T06:36:07.627Z"
   },
   {
    "duration": 183,
    "start_time": "2023-02-09T06:36:07.644Z"
   },
   {
    "duration": 164,
    "start_time": "2023-02-09T06:36:07.832Z"
   },
   {
    "duration": 200,
    "start_time": "2023-02-09T06:36:07.997Z"
   },
   {
    "duration": 188,
    "start_time": "2023-02-09T06:36:08.198Z"
   },
   {
    "duration": 250,
    "start_time": "2023-02-09T06:36:08.388Z"
   },
   {
    "duration": 45,
    "start_time": "2023-02-09T06:36:08.640Z"
   },
   {
    "duration": 7,
    "start_time": "2023-02-09T06:36:08.687Z"
   },
   {
    "duration": 205,
    "start_time": "2023-02-09T06:36:08.707Z"
   },
   {
    "duration": 17,
    "start_time": "2023-02-09T06:36:47.944Z"
   },
   {
    "duration": 660,
    "start_time": "2023-02-09T06:36:52.370Z"
   },
   {
    "duration": 140,
    "start_time": "2023-02-09T06:36:53.034Z"
   },
   {
    "duration": 16,
    "start_time": "2023-02-09T06:36:53.179Z"
   },
   {
    "duration": 2223,
    "start_time": "2023-02-09T06:36:53.207Z"
   },
   {
    "duration": 80,
    "start_time": "2023-02-09T06:36:55.433Z"
   },
   {
    "duration": 27,
    "start_time": "2023-02-09T06:36:55.515Z"
   },
   {
    "duration": 18,
    "start_time": "2023-02-09T06:36:55.544Z"
   },
   {
    "duration": 12,
    "start_time": "2023-02-09T06:36:55.563Z"
   },
   {
    "duration": 219,
    "start_time": "2023-02-09T06:36:55.578Z"
   },
   {
    "duration": 21,
    "start_time": "2023-02-09T06:36:55.799Z"
   },
   {
    "duration": 24,
    "start_time": "2023-02-09T06:36:55.828Z"
   },
   {
    "duration": 25,
    "start_time": "2023-02-09T06:36:55.854Z"
   },
   {
    "duration": 8,
    "start_time": "2023-02-09T06:36:55.881Z"
   },
   {
    "duration": 143,
    "start_time": "2023-02-09T06:36:55.891Z"
   },
   {
    "duration": 247,
    "start_time": "2023-02-09T06:36:56.039Z"
   },
   {
    "duration": 507,
    "start_time": "2023-02-09T06:36:56.287Z"
   },
   {
    "duration": 51,
    "start_time": "2023-02-09T06:36:56.796Z"
   },
   {
    "duration": 163,
    "start_time": "2023-02-09T06:36:56.849Z"
   },
   {
    "duration": 28,
    "start_time": "2023-02-09T06:36:57.013Z"
   },
   {
    "duration": 166,
    "start_time": "2023-02-09T06:36:57.047Z"
   },
   {
    "duration": 130,
    "start_time": "2023-02-09T06:36:57.214Z"
   },
   {
    "duration": 186,
    "start_time": "2023-02-09T06:36:57.346Z"
   },
   {
    "duration": 116,
    "start_time": "2023-02-09T06:36:57.536Z"
   },
   {
    "duration": 23,
    "start_time": "2023-02-09T06:36:57.653Z"
   },
   {
    "duration": 43,
    "start_time": "2023-02-09T06:36:57.678Z"
   },
   {
    "duration": 161,
    "start_time": "2023-02-09T06:36:57.723Z"
   },
   {
    "duration": 165,
    "start_time": "2023-02-09T06:36:57.887Z"
   },
   {
    "duration": 196,
    "start_time": "2023-02-09T06:36:58.053Z"
   },
   {
    "duration": 185,
    "start_time": "2023-02-09T06:36:58.251Z"
   },
   {
    "duration": 204,
    "start_time": "2023-02-09T06:36:58.437Z"
   },
   {
    "duration": 204,
    "start_time": "2023-02-09T06:36:58.643Z"
   },
   {
    "duration": 223,
    "start_time": "2023-02-09T06:36:58.849Z"
   },
   {
    "duration": 204,
    "start_time": "2023-02-09T06:36:59.074Z"
   },
   {
    "duration": 230,
    "start_time": "2023-02-09T06:36:59.280Z"
   },
   {
    "duration": 245,
    "start_time": "2023-02-09T06:36:59.519Z"
   },
   {
    "duration": 190,
    "start_time": "2023-02-09T06:36:59.766Z"
   },
   {
    "duration": 396,
    "start_time": "2023-02-09T06:36:59.960Z"
   },
   {
    "duration": 182,
    "start_time": "2023-02-09T06:37:00.359Z"
   },
   {
    "duration": 230,
    "start_time": "2023-02-09T06:37:00.544Z"
   },
   {
    "duration": 16,
    "start_time": "2023-02-09T06:37:00.776Z"
   },
   {
    "duration": 207,
    "start_time": "2023-02-09T06:37:00.794Z"
   },
   {
    "duration": 209,
    "start_time": "2023-02-09T06:37:01.006Z"
   },
   {
    "duration": 218,
    "start_time": "2023-02-09T06:37:01.217Z"
   },
   {
    "duration": 189,
    "start_time": "2023-02-09T06:37:01.437Z"
   },
   {
    "duration": 187,
    "start_time": "2023-02-09T06:37:01.628Z"
   },
   {
    "duration": 35,
    "start_time": "2023-02-09T06:37:01.820Z"
   },
   {
    "duration": 26,
    "start_time": "2023-02-09T06:37:01.856Z"
   },
   {
    "duration": 247,
    "start_time": "2023-02-09T06:37:01.884Z"
   },
   {
    "duration": 30,
    "start_time": "2023-02-09T06:37:32.095Z"
   },
   {
    "duration": 720,
    "start_time": "2023-02-09T06:37:36.881Z"
   },
   {
    "duration": 152,
    "start_time": "2023-02-09T06:37:37.603Z"
   },
   {
    "duration": 15,
    "start_time": "2023-02-09T06:37:37.757Z"
   },
   {
    "duration": 2126,
    "start_time": "2023-02-09T06:37:37.774Z"
   },
   {
    "duration": 91,
    "start_time": "2023-02-09T06:37:39.902Z"
   },
   {
    "duration": 24,
    "start_time": "2023-02-09T06:37:39.995Z"
   },
   {
    "duration": 35,
    "start_time": "2023-02-09T06:37:40.025Z"
   },
   {
    "duration": 13,
    "start_time": "2023-02-09T06:37:40.062Z"
   },
   {
    "duration": 233,
    "start_time": "2023-02-09T06:37:40.077Z"
   },
   {
    "duration": 12,
    "start_time": "2023-02-09T06:37:40.315Z"
   },
   {
    "duration": 40,
    "start_time": "2023-02-09T06:37:40.328Z"
   },
   {
    "duration": 21,
    "start_time": "2023-02-09T06:37:40.370Z"
   },
   {
    "duration": 9,
    "start_time": "2023-02-09T06:37:40.392Z"
   },
   {
    "duration": 160,
    "start_time": "2023-02-09T06:37:40.403Z"
   },
   {
    "duration": 289,
    "start_time": "2023-02-09T06:37:40.565Z"
   },
   {
    "duration": 490,
    "start_time": "2023-02-09T06:37:40.855Z"
   },
   {
    "duration": 27,
    "start_time": "2023-02-09T06:37:41.346Z"
   },
   {
    "duration": 161,
    "start_time": "2023-02-09T06:37:41.375Z"
   },
   {
    "duration": 14,
    "start_time": "2023-02-09T06:37:41.539Z"
   },
   {
    "duration": 136,
    "start_time": "2023-02-09T06:37:41.554Z"
   },
   {
    "duration": 130,
    "start_time": "2023-02-09T06:37:41.691Z"
   },
   {
    "duration": 170,
    "start_time": "2023-02-09T06:37:41.833Z"
   },
   {
    "duration": 144,
    "start_time": "2023-02-09T06:37:42.006Z"
   },
   {
    "duration": 28,
    "start_time": "2023-02-09T06:37:42.152Z"
   },
   {
    "duration": 39,
    "start_time": "2023-02-09T06:37:42.182Z"
   },
   {
    "duration": 158,
    "start_time": "2023-02-09T06:37:42.229Z"
   },
   {
    "duration": 165,
    "start_time": "2023-02-09T06:37:42.388Z"
   },
   {
    "duration": 179,
    "start_time": "2023-02-09T06:37:42.557Z"
   },
   {
    "duration": 189,
    "start_time": "2023-02-09T06:37:42.737Z"
   },
   {
    "duration": 214,
    "start_time": "2023-02-09T06:37:42.928Z"
   },
   {
    "duration": 225,
    "start_time": "2023-02-09T06:37:43.144Z"
   },
   {
    "duration": 245,
    "start_time": "2023-02-09T06:37:43.370Z"
   },
   {
    "duration": 235,
    "start_time": "2023-02-09T06:37:43.616Z"
   },
   {
    "duration": 232,
    "start_time": "2023-02-09T06:37:43.853Z"
   },
   {
    "duration": 187,
    "start_time": "2023-02-09T06:37:44.087Z"
   },
   {
    "duration": 144,
    "start_time": "2023-02-09T06:37:44.275Z"
   },
   {
    "duration": 320,
    "start_time": "2023-02-09T06:37:44.422Z"
   },
   {
    "duration": 125,
    "start_time": "2023-02-09T06:37:44.744Z"
   },
   {
    "duration": 260,
    "start_time": "2023-02-09T06:37:44.870Z"
   },
   {
    "duration": 16,
    "start_time": "2023-02-09T06:37:45.136Z"
   },
   {
    "duration": 179,
    "start_time": "2023-02-09T06:37:45.155Z"
   },
   {
    "duration": 177,
    "start_time": "2023-02-09T06:37:45.335Z"
   },
   {
    "duration": 208,
    "start_time": "2023-02-09T06:37:45.514Z"
   },
   {
    "duration": 195,
    "start_time": "2023-02-09T06:37:45.729Z"
   },
   {
    "duration": 173,
    "start_time": "2023-02-09T06:37:45.929Z"
   },
   {
    "duration": 37,
    "start_time": "2023-02-09T06:37:46.103Z"
   },
   {
    "duration": 15,
    "start_time": "2023-02-09T06:37:46.142Z"
   },
   {
    "duration": 185,
    "start_time": "2023-02-09T06:37:46.159Z"
   },
   {
    "duration": 128,
    "start_time": "2023-02-09T06:57:45.987Z"
   },
   {
    "duration": 207,
    "start_time": "2023-02-09T06:57:57.467Z"
   },
   {
    "duration": 670,
    "start_time": "2023-02-09T06:58:14.875Z"
   },
   {
    "duration": 130,
    "start_time": "2023-02-09T06:58:15.547Z"
   },
   {
    "duration": 32,
    "start_time": "2023-02-09T06:58:15.679Z"
   },
   {
    "duration": 2130,
    "start_time": "2023-02-09T06:58:15.714Z"
   },
   {
    "duration": 81,
    "start_time": "2023-02-09T06:58:17.845Z"
   },
   {
    "duration": 18,
    "start_time": "2023-02-09T06:58:17.929Z"
   },
   {
    "duration": 16,
    "start_time": "2023-02-09T06:58:17.948Z"
   },
   {
    "duration": 13,
    "start_time": "2023-02-09T06:58:17.965Z"
   },
   {
    "duration": 214,
    "start_time": "2023-02-09T06:58:17.979Z"
   },
   {
    "duration": 8,
    "start_time": "2023-02-09T06:58:18.195Z"
   },
   {
    "duration": 32,
    "start_time": "2023-02-09T06:58:18.205Z"
   },
   {
    "duration": 17,
    "start_time": "2023-02-09T06:58:18.239Z"
   },
   {
    "duration": 5,
    "start_time": "2023-02-09T06:58:18.258Z"
   },
   {
    "duration": 133,
    "start_time": "2023-02-09T06:58:18.265Z"
   },
   {
    "duration": 272,
    "start_time": "2023-02-09T06:58:18.400Z"
   },
   {
    "duration": 472,
    "start_time": "2023-02-09T06:58:18.674Z"
   },
   {
    "duration": 25,
    "start_time": "2023-02-09T06:58:19.148Z"
   },
   {
    "duration": 140,
    "start_time": "2023-02-09T06:58:19.174Z"
   },
   {
    "duration": 17,
    "start_time": "2023-02-09T06:58:19.318Z"
   },
   {
    "duration": 133,
    "start_time": "2023-02-09T06:58:19.336Z"
   },
   {
    "duration": 116,
    "start_time": "2023-02-09T06:58:19.471Z"
   },
   {
    "duration": 159,
    "start_time": "2023-02-09T06:58:19.589Z"
   },
   {
    "duration": 119,
    "start_time": "2023-02-09T06:58:19.750Z"
   },
   {
    "duration": 47,
    "start_time": "2023-02-09T06:58:19.871Z"
   },
   {
    "duration": 19,
    "start_time": "2023-02-09T06:58:19.925Z"
   },
   {
    "duration": 178,
    "start_time": "2023-02-09T06:58:19.945Z"
   },
   {
    "duration": 154,
    "start_time": "2023-02-09T06:58:20.127Z"
   },
   {
    "duration": 184,
    "start_time": "2023-02-09T06:58:20.284Z"
   },
   {
    "duration": 192,
    "start_time": "2023-02-09T06:58:20.471Z"
   },
   {
    "duration": 202,
    "start_time": "2023-02-09T06:58:20.665Z"
   },
   {
    "duration": 218,
    "start_time": "2023-02-09T06:58:20.868Z"
   },
   {
    "duration": 252,
    "start_time": "2023-02-09T06:58:21.088Z"
   },
   {
    "duration": 197,
    "start_time": "2023-02-09T06:58:21.342Z"
   },
   {
    "duration": 225,
    "start_time": "2023-02-09T06:58:21.541Z"
   },
   {
    "duration": 176,
    "start_time": "2023-02-09T06:58:21.768Z"
   },
   {
    "duration": 130,
    "start_time": "2023-02-09T06:58:21.946Z"
   },
   {
    "duration": 323,
    "start_time": "2023-02-09T06:58:22.078Z"
   },
   {
    "duration": 140,
    "start_time": "2023-02-09T06:58:22.404Z"
   },
   {
    "duration": 222,
    "start_time": "2023-02-09T06:58:22.545Z"
   },
   {
    "duration": 11,
    "start_time": "2023-02-09T06:58:22.768Z"
   },
   {
    "duration": 174,
    "start_time": "2023-02-09T06:58:22.780Z"
   },
   {
    "duration": 187,
    "start_time": "2023-02-09T06:58:22.957Z"
   },
   {
    "duration": 187,
    "start_time": "2023-02-09T06:58:23.146Z"
   },
   {
    "duration": 158,
    "start_time": "2023-02-09T06:58:23.335Z"
   },
   {
    "duration": 168,
    "start_time": "2023-02-09T06:58:23.503Z"
   },
   {
    "duration": 42,
    "start_time": "2023-02-09T06:58:23.672Z"
   },
   {
    "duration": 17,
    "start_time": "2023-02-09T06:58:23.716Z"
   },
   {
    "duration": 176,
    "start_time": "2023-02-09T06:58:23.735Z"
   },
   {
    "duration": 117,
    "start_time": "2023-02-09T06:58:42.930Z"
   },
   {
    "duration": 689,
    "start_time": "2023-02-09T06:58:59.590Z"
   },
   {
    "duration": 157,
    "start_time": "2023-02-09T06:59:00.281Z"
   },
   {
    "duration": 16,
    "start_time": "2023-02-09T06:59:00.440Z"
   },
   {
    "duration": 2197,
    "start_time": "2023-02-09T06:59:00.459Z"
   },
   {
    "duration": 84,
    "start_time": "2023-02-09T06:59:02.658Z"
   },
   {
    "duration": 17,
    "start_time": "2023-02-09T06:59:02.744Z"
   },
   {
    "duration": 24,
    "start_time": "2023-02-09T06:59:02.763Z"
   },
   {
    "duration": 26,
    "start_time": "2023-02-09T06:59:02.788Z"
   },
   {
    "duration": 211,
    "start_time": "2023-02-09T06:59:02.815Z"
   },
   {
    "duration": 7,
    "start_time": "2023-02-09T06:59:03.030Z"
   },
   {
    "duration": 18,
    "start_time": "2023-02-09T06:59:03.040Z"
   },
   {
    "duration": 26,
    "start_time": "2023-02-09T06:59:03.060Z"
   },
   {
    "duration": 31,
    "start_time": "2023-02-09T06:59:03.089Z"
   },
   {
    "duration": 142,
    "start_time": "2023-02-09T06:59:03.125Z"
   },
   {
    "duration": 263,
    "start_time": "2023-02-09T06:59:03.269Z"
   },
   {
    "duration": 499,
    "start_time": "2023-02-09T06:59:03.534Z"
   },
   {
    "duration": 27,
    "start_time": "2023-02-09T06:59:04.034Z"
   },
   {
    "duration": 143,
    "start_time": "2023-02-09T06:59:04.063Z"
   },
   {
    "duration": 10,
    "start_time": "2023-02-09T06:59:04.208Z"
   },
   {
    "duration": 146,
    "start_time": "2023-02-09T06:59:04.220Z"
   },
   {
    "duration": 128,
    "start_time": "2023-02-09T06:59:04.368Z"
   },
   {
    "duration": 161,
    "start_time": "2023-02-09T06:59:04.498Z"
   },
   {
    "duration": 135,
    "start_time": "2023-02-09T06:59:04.661Z"
   },
   {
    "duration": 32,
    "start_time": "2023-02-09T06:59:04.798Z"
   },
   {
    "duration": 21,
    "start_time": "2023-02-09T06:59:04.832Z"
   },
   {
    "duration": 183,
    "start_time": "2023-02-09T06:59:04.855Z"
   },
   {
    "duration": 177,
    "start_time": "2023-02-09T06:59:05.040Z"
   },
   {
    "duration": 195,
    "start_time": "2023-02-09T06:59:05.229Z"
   },
   {
    "duration": 196,
    "start_time": "2023-02-09T06:59:05.426Z"
   },
   {
    "duration": 211,
    "start_time": "2023-02-09T06:59:05.629Z"
   },
   {
    "duration": 237,
    "start_time": "2023-02-09T06:59:05.842Z"
   },
   {
    "duration": 257,
    "start_time": "2023-02-09T06:59:06.081Z"
   },
   {
    "duration": 223,
    "start_time": "2023-02-09T06:59:06.341Z"
   },
   {
    "duration": 266,
    "start_time": "2023-02-09T06:59:06.566Z"
   },
   {
    "duration": 227,
    "start_time": "2023-02-09T06:59:06.840Z"
   },
   {
    "duration": 177,
    "start_time": "2023-02-09T06:59:07.069Z"
   },
   {
    "duration": 324,
    "start_time": "2023-02-09T06:59:07.248Z"
   },
   {
    "duration": 165,
    "start_time": "2023-02-09T06:59:07.574Z"
   },
   {
    "duration": 226,
    "start_time": "2023-02-09T06:59:07.741Z"
   },
   {
    "duration": 10,
    "start_time": "2023-02-09T06:59:07.969Z"
   },
   {
    "duration": 172,
    "start_time": "2023-02-09T06:59:07.981Z"
   },
   {
    "duration": 180,
    "start_time": "2023-02-09T06:59:08.155Z"
   },
   {
    "duration": 201,
    "start_time": "2023-02-09T06:59:08.337Z"
   },
   {
    "duration": 197,
    "start_time": "2023-02-09T06:59:08.540Z"
   },
   {
    "duration": 177,
    "start_time": "2023-02-09T06:59:08.739Z"
   },
   {
    "duration": 35,
    "start_time": "2023-02-09T06:59:08.917Z"
   },
   {
    "duration": 7,
    "start_time": "2023-02-09T06:59:08.954Z"
   },
   {
    "duration": 198,
    "start_time": "2023-02-09T06:59:08.962Z"
   },
   {
    "duration": 16,
    "start_time": "2023-02-09T07:36:02.471Z"
   },
   {
    "duration": 672,
    "start_time": "2023-02-09T07:36:24.192Z"
   },
   {
    "duration": 137,
    "start_time": "2023-02-09T07:36:24.866Z"
   },
   {
    "duration": 27,
    "start_time": "2023-02-09T07:36:25.005Z"
   },
   {
    "duration": 2316,
    "start_time": "2023-02-09T07:36:25.034Z"
   },
   {
    "duration": 86,
    "start_time": "2023-02-09T07:36:27.352Z"
   },
   {
    "duration": 20,
    "start_time": "2023-02-09T07:36:27.440Z"
   },
   {
    "duration": 20,
    "start_time": "2023-02-09T07:36:27.461Z"
   },
   {
    "duration": 12,
    "start_time": "2023-02-09T07:36:27.483Z"
   },
   {
    "duration": 206,
    "start_time": "2023-02-09T07:36:27.504Z"
   },
   {
    "duration": 9,
    "start_time": "2023-02-09T07:36:27.713Z"
   },
   {
    "duration": 20,
    "start_time": "2023-02-09T07:36:27.724Z"
   },
   {
    "duration": 17,
    "start_time": "2023-02-09T07:36:27.745Z"
   },
   {
    "duration": 8,
    "start_time": "2023-02-09T07:36:27.763Z"
   },
   {
    "duration": 145,
    "start_time": "2023-02-09T07:36:27.773Z"
   },
   {
    "duration": 257,
    "start_time": "2023-02-09T07:36:27.920Z"
   },
   {
    "duration": 486,
    "start_time": "2023-02-09T07:36:28.179Z"
   },
   {
    "duration": 26,
    "start_time": "2023-02-09T07:36:28.667Z"
   },
   {
    "duration": 141,
    "start_time": "2023-02-09T07:36:28.704Z"
   },
   {
    "duration": 9,
    "start_time": "2023-02-09T07:36:28.847Z"
   },
   {
    "duration": 163,
    "start_time": "2023-02-09T07:36:28.858Z"
   },
   {
    "duration": 124,
    "start_time": "2023-02-09T07:36:29.030Z"
   },
   {
    "duration": 148,
    "start_time": "2023-02-09T07:36:29.156Z"
   },
   {
    "duration": 130,
    "start_time": "2023-02-09T07:36:29.305Z"
   },
   {
    "duration": 21,
    "start_time": "2023-02-09T07:36:29.437Z"
   },
   {
    "duration": 16,
    "start_time": "2023-02-09T07:36:29.459Z"
   },
   {
    "duration": 176,
    "start_time": "2023-02-09T07:36:29.476Z"
   },
   {
    "duration": 164,
    "start_time": "2023-02-09T07:36:29.653Z"
   },
   {
    "duration": 169,
    "start_time": "2023-02-09T07:36:29.824Z"
   },
   {
    "duration": 177,
    "start_time": "2023-02-09T07:36:29.995Z"
   },
   {
    "duration": 219,
    "start_time": "2023-02-09T07:36:30.173Z"
   },
   {
    "duration": 228,
    "start_time": "2023-02-09T07:36:30.393Z"
   },
   {
    "duration": 241,
    "start_time": "2023-02-09T07:36:30.626Z"
   },
   {
    "duration": 218,
    "start_time": "2023-02-09T07:36:30.869Z"
   },
   {
    "duration": 257,
    "start_time": "2023-02-09T07:36:31.089Z"
   },
   {
    "duration": 190,
    "start_time": "2023-02-09T07:36:31.347Z"
   },
   {
    "duration": 133,
    "start_time": "2023-02-09T07:36:31.538Z"
   },
   {
    "duration": 351,
    "start_time": "2023-02-09T07:36:31.673Z"
   },
   {
    "duration": 127,
    "start_time": "2023-02-09T07:36:32.027Z"
   },
   {
    "duration": 230,
    "start_time": "2023-02-09T07:36:32.156Z"
   },
   {
    "duration": 17,
    "start_time": "2023-02-09T07:36:32.387Z"
   },
   {
    "duration": 181,
    "start_time": "2023-02-09T07:36:32.407Z"
   },
   {
    "duration": 174,
    "start_time": "2023-02-09T07:36:32.590Z"
   },
   {
    "duration": 197,
    "start_time": "2023-02-09T07:36:32.766Z"
   },
   {
    "duration": 205,
    "start_time": "2023-02-09T07:36:32.965Z"
   },
   {
    "duration": 174,
    "start_time": "2023-02-09T07:36:33.172Z"
   },
   {
    "duration": 31,
    "start_time": "2023-02-09T07:36:33.348Z"
   },
   {
    "duration": 36,
    "start_time": "2023-02-09T07:36:33.381Z"
   },
   {
    "duration": 181,
    "start_time": "2023-02-09T07:36:33.419Z"
   },
   {
    "duration": 13,
    "start_time": "2023-02-09T07:37:14.819Z"
   },
   {
    "duration": 590,
    "start_time": "2023-02-09T07:37:19.354Z"
   },
   {
    "duration": 120,
    "start_time": "2023-02-09T07:37:19.946Z"
   },
   {
    "duration": 14,
    "start_time": "2023-02-09T07:37:20.068Z"
   },
   {
    "duration": 2000,
    "start_time": "2023-02-09T07:37:20.084Z"
   },
   {
    "duration": 76,
    "start_time": "2023-02-09T07:37:22.085Z"
   },
   {
    "duration": 19,
    "start_time": "2023-02-09T07:37:22.163Z"
   },
   {
    "duration": 29,
    "start_time": "2023-02-09T07:37:22.183Z"
   },
   {
    "duration": 14,
    "start_time": "2023-02-09T07:37:22.214Z"
   },
   {
    "duration": 184,
    "start_time": "2023-02-09T07:37:22.229Z"
   },
   {
    "duration": 8,
    "start_time": "2023-02-09T07:37:22.416Z"
   },
   {
    "duration": 15,
    "start_time": "2023-02-09T07:37:22.425Z"
   },
   {
    "duration": 29,
    "start_time": "2023-02-09T07:37:22.442Z"
   },
   {
    "duration": 6,
    "start_time": "2023-02-09T07:37:22.473Z"
   },
   {
    "duration": 135,
    "start_time": "2023-02-09T07:37:22.482Z"
   },
   {
    "duration": 228,
    "start_time": "2023-02-09T07:37:22.619Z"
   },
   {
    "duration": 432,
    "start_time": "2023-02-09T07:37:22.849Z"
   },
   {
    "duration": 31,
    "start_time": "2023-02-09T07:37:23.283Z"
   },
   {
    "duration": 125,
    "start_time": "2023-02-09T07:37:23.316Z"
   },
   {
    "duration": 10,
    "start_time": "2023-02-09T07:37:23.443Z"
   },
   {
    "duration": 162,
    "start_time": "2023-02-09T07:37:23.454Z"
   },
   {
    "duration": 125,
    "start_time": "2023-02-09T07:37:23.618Z"
   },
   {
    "duration": 138,
    "start_time": "2023-02-09T07:37:23.745Z"
   },
   {
    "duration": 120,
    "start_time": "2023-02-09T07:37:23.885Z"
   },
   {
    "duration": 22,
    "start_time": "2023-02-09T07:37:24.006Z"
   },
   {
    "duration": 15,
    "start_time": "2023-02-09T07:37:24.030Z"
   },
   {
    "duration": 175,
    "start_time": "2023-02-09T07:37:24.047Z"
   },
   {
    "duration": 153,
    "start_time": "2023-02-09T07:37:24.223Z"
   },
   {
    "duration": 177,
    "start_time": "2023-02-09T07:37:24.381Z"
   },
   {
    "duration": 192,
    "start_time": "2023-02-09T07:37:24.560Z"
   },
   {
    "duration": 195,
    "start_time": "2023-02-09T07:37:24.754Z"
   },
   {
    "duration": 208,
    "start_time": "2023-02-09T07:37:24.951Z"
   },
   {
    "duration": 226,
    "start_time": "2023-02-09T07:37:25.161Z"
   },
   {
    "duration": 185,
    "start_time": "2023-02-09T07:37:25.389Z"
   },
   {
    "duration": 207,
    "start_time": "2023-02-09T07:37:25.576Z"
   },
   {
    "duration": 169,
    "start_time": "2023-02-09T07:37:25.784Z"
   },
   {
    "duration": 119,
    "start_time": "2023-02-09T07:37:25.955Z"
   },
   {
    "duration": 305,
    "start_time": "2023-02-09T07:37:26.076Z"
   },
   {
    "duration": 130,
    "start_time": "2023-02-09T07:37:26.383Z"
   },
   {
    "duration": 228,
    "start_time": "2023-02-09T07:37:26.515Z"
   },
   {
    "duration": 17,
    "start_time": "2023-02-09T07:37:26.746Z"
   },
   {
    "duration": 193,
    "start_time": "2023-02-09T07:37:26.765Z"
   },
   {
    "duration": 165,
    "start_time": "2023-02-09T07:37:26.961Z"
   },
   {
    "duration": 190,
    "start_time": "2023-02-09T07:37:27.127Z"
   },
   {
    "duration": 170,
    "start_time": "2023-02-09T07:37:27.318Z"
   },
   {
    "duration": 160,
    "start_time": "2023-02-09T07:37:27.490Z"
   },
   {
    "duration": 26,
    "start_time": "2023-02-09T07:37:27.652Z"
   },
   {
    "duration": 7,
    "start_time": "2023-02-09T07:37:27.680Z"
   },
   {
    "duration": 179,
    "start_time": "2023-02-09T07:37:27.704Z"
   },
   {
    "duration": 17,
    "start_time": "2023-02-09T07:38:05.834Z"
   },
   {
    "duration": 687,
    "start_time": "2023-02-09T07:38:24.745Z"
   },
   {
    "duration": 131,
    "start_time": "2023-02-09T07:38:25.434Z"
   },
   {
    "duration": 15,
    "start_time": "2023-02-09T07:38:25.567Z"
   },
   {
    "duration": 2108,
    "start_time": "2023-02-09T07:38:25.584Z"
   },
   {
    "duration": 73,
    "start_time": "2023-02-09T07:38:27.693Z"
   },
   {
    "duration": 17,
    "start_time": "2023-02-09T07:38:27.768Z"
   },
   {
    "duration": 18,
    "start_time": "2023-02-09T07:38:27.787Z"
   },
   {
    "duration": 12,
    "start_time": "2023-02-09T07:38:27.807Z"
   },
   {
    "duration": 176,
    "start_time": "2023-02-09T07:38:27.820Z"
   },
   {
    "duration": 10,
    "start_time": "2023-02-09T07:38:27.998Z"
   },
   {
    "duration": 12,
    "start_time": "2023-02-09T07:38:28.009Z"
   },
   {
    "duration": 19,
    "start_time": "2023-02-09T07:38:28.022Z"
   },
   {
    "duration": 8,
    "start_time": "2023-02-09T07:38:28.042Z"
   },
   {
    "duration": 163,
    "start_time": "2023-02-09T07:38:28.051Z"
   },
   {
    "duration": 230,
    "start_time": "2023-02-09T07:38:28.216Z"
   },
   {
    "duration": 417,
    "start_time": "2023-02-09T07:38:28.448Z"
   },
   {
    "duration": 25,
    "start_time": "2023-02-09T07:38:28.867Z"
   },
   {
    "duration": 124,
    "start_time": "2023-02-09T07:38:28.894Z"
   },
   {
    "duration": 9,
    "start_time": "2023-02-09T07:38:29.019Z"
   },
   {
    "duration": 148,
    "start_time": "2023-02-09T07:38:29.029Z"
   },
   {
    "duration": 127,
    "start_time": "2023-02-09T07:38:29.179Z"
   },
   {
    "duration": 144,
    "start_time": "2023-02-09T07:38:29.308Z"
   },
   {
    "duration": 115,
    "start_time": "2023-02-09T07:38:29.454Z"
   },
   {
    "duration": 33,
    "start_time": "2023-02-09T07:38:29.571Z"
   },
   {
    "duration": 15,
    "start_time": "2023-02-09T07:38:29.606Z"
   },
   {
    "duration": 154,
    "start_time": "2023-02-09T07:38:29.623Z"
   },
   {
    "duration": 150,
    "start_time": "2023-02-09T07:38:29.779Z"
   },
   {
    "duration": 166,
    "start_time": "2023-02-09T07:38:29.934Z"
   },
   {
    "duration": 190,
    "start_time": "2023-02-09T07:38:30.104Z"
   },
   {
    "duration": 198,
    "start_time": "2023-02-09T07:38:30.296Z"
   },
   {
    "duration": 214,
    "start_time": "2023-02-09T07:38:30.503Z"
   },
   {
    "duration": 222,
    "start_time": "2023-02-09T07:38:30.719Z"
   },
   {
    "duration": 193,
    "start_time": "2023-02-09T07:38:30.943Z"
   },
   {
    "duration": 212,
    "start_time": "2023-02-09T07:38:31.139Z"
   },
   {
    "duration": 165,
    "start_time": "2023-02-09T07:38:31.352Z"
   },
   {
    "duration": 130,
    "start_time": "2023-02-09T07:38:31.519Z"
   },
   {
    "duration": 306,
    "start_time": "2023-02-09T07:38:31.650Z"
   },
   {
    "duration": 134,
    "start_time": "2023-02-09T07:38:31.957Z"
   },
   {
    "duration": 227,
    "start_time": "2023-02-09T07:38:32.093Z"
   },
   {
    "duration": 12,
    "start_time": "2023-02-09T07:38:32.322Z"
   },
   {
    "duration": 168,
    "start_time": "2023-02-09T07:38:32.336Z"
   },
   {
    "duration": 157,
    "start_time": "2023-02-09T07:38:32.506Z"
   },
   {
    "duration": 187,
    "start_time": "2023-02-09T07:38:32.665Z"
   },
   {
    "duration": 170,
    "start_time": "2023-02-09T07:38:32.854Z"
   },
   {
    "duration": 166,
    "start_time": "2023-02-09T07:38:33.025Z"
   },
   {
    "duration": 32,
    "start_time": "2023-02-09T07:38:33.192Z"
   },
   {
    "duration": 14,
    "start_time": "2023-02-09T07:38:33.226Z"
   },
   {
    "duration": 185,
    "start_time": "2023-02-09T07:38:33.241Z"
   },
   {
    "duration": 20,
    "start_time": "2023-02-09T07:40:46.223Z"
   },
   {
    "duration": 650,
    "start_time": "2023-02-09T07:40:51.184Z"
   },
   {
    "duration": 120,
    "start_time": "2023-02-09T07:40:51.836Z"
   },
   {
    "duration": 15,
    "start_time": "2023-02-09T07:40:51.958Z"
   },
   {
    "duration": 1897,
    "start_time": "2023-02-09T07:40:51.975Z"
   },
   {
    "duration": 76,
    "start_time": "2023-02-09T07:40:53.873Z"
   },
   {
    "duration": 17,
    "start_time": "2023-02-09T07:40:53.950Z"
   },
   {
    "duration": 15,
    "start_time": "2023-02-09T07:40:53.969Z"
   },
   {
    "duration": 25,
    "start_time": "2023-02-09T07:40:53.986Z"
   },
   {
    "duration": 184,
    "start_time": "2023-02-09T07:40:54.013Z"
   },
   {
    "duration": 7,
    "start_time": "2023-02-09T07:40:54.203Z"
   },
   {
    "duration": 10,
    "start_time": "2023-02-09T07:40:54.211Z"
   },
   {
    "duration": 21,
    "start_time": "2023-02-09T07:40:54.223Z"
   },
   {
    "duration": 6,
    "start_time": "2023-02-09T07:40:54.245Z"
   },
   {
    "duration": 156,
    "start_time": "2023-02-09T07:40:54.253Z"
   },
   {
    "duration": 236,
    "start_time": "2023-02-09T07:40:54.411Z"
   },
   {
    "duration": 432,
    "start_time": "2023-02-09T07:40:54.650Z"
   },
   {
    "duration": 47,
    "start_time": "2023-02-09T07:40:55.085Z"
   },
   {
    "duration": 142,
    "start_time": "2023-02-09T07:40:55.133Z"
   },
   {
    "duration": 11,
    "start_time": "2023-02-09T07:40:55.276Z"
   },
   {
    "duration": 160,
    "start_time": "2023-02-09T07:40:55.289Z"
   },
   {
    "duration": 117,
    "start_time": "2023-02-09T07:40:55.451Z"
   },
   {
    "duration": 156,
    "start_time": "2023-02-09T07:40:55.570Z"
   },
   {
    "duration": 120,
    "start_time": "2023-02-09T07:40:55.728Z"
   },
   {
    "duration": 31,
    "start_time": "2023-02-09T07:40:55.850Z"
   },
   {
    "duration": 26,
    "start_time": "2023-02-09T07:40:55.883Z"
   },
   {
    "duration": 164,
    "start_time": "2023-02-09T07:40:55.910Z"
   },
   {
    "duration": 149,
    "start_time": "2023-02-09T07:40:56.076Z"
   },
   {
    "duration": 168,
    "start_time": "2023-02-09T07:40:56.228Z"
   },
   {
    "duration": 161,
    "start_time": "2023-02-09T07:40:56.398Z"
   },
   {
    "duration": 210,
    "start_time": "2023-02-09T07:40:56.561Z"
   },
   {
    "duration": 238,
    "start_time": "2023-02-09T07:40:56.774Z"
   },
   {
    "duration": 222,
    "start_time": "2023-02-09T07:40:57.014Z"
   },
   {
    "duration": 195,
    "start_time": "2023-02-09T07:40:57.238Z"
   },
   {
    "duration": 199,
    "start_time": "2023-02-09T07:40:57.435Z"
   },
   {
    "duration": 173,
    "start_time": "2023-02-09T07:40:57.636Z"
   },
   {
    "duration": 123,
    "start_time": "2023-02-09T07:40:57.810Z"
   },
   {
    "duration": 293,
    "start_time": "2023-02-09T07:40:57.935Z"
   },
   {
    "duration": 121,
    "start_time": "2023-02-09T07:40:58.230Z"
   },
   {
    "duration": 206,
    "start_time": "2023-02-09T07:40:58.353Z"
   },
   {
    "duration": 11,
    "start_time": "2023-02-09T07:40:58.561Z"
   },
   {
    "duration": 166,
    "start_time": "2023-02-09T07:40:58.573Z"
   },
   {
    "duration": 148,
    "start_time": "2023-02-09T07:40:58.741Z"
   },
   {
    "duration": 177,
    "start_time": "2023-02-09T07:40:58.891Z"
   },
   {
    "duration": 170,
    "start_time": "2023-02-09T07:40:59.070Z"
   },
   {
    "duration": 148,
    "start_time": "2023-02-09T07:40:59.241Z"
   },
   {
    "duration": 37,
    "start_time": "2023-02-09T07:40:59.390Z"
   },
   {
    "duration": 7,
    "start_time": "2023-02-09T07:40:59.429Z"
   },
   {
    "duration": 169,
    "start_time": "2023-02-09T07:40:59.438Z"
   },
   {
    "duration": 39,
    "start_time": "2023-02-09T07:42:15.479Z"
   },
   {
    "duration": 22,
    "start_time": "2023-02-09T07:42:25.664Z"
   },
   {
    "duration": 10,
    "start_time": "2023-02-09T07:42:30.466Z"
   },
   {
    "duration": 20,
    "start_time": "2023-02-09T07:43:06.677Z"
   },
   {
    "duration": 643,
    "start_time": "2023-02-09T07:43:10.480Z"
   },
   {
    "duration": 129,
    "start_time": "2023-02-09T07:43:11.125Z"
   },
   {
    "duration": 13,
    "start_time": "2023-02-09T07:43:11.256Z"
   },
   {
    "duration": 1929,
    "start_time": "2023-02-09T07:43:11.271Z"
   },
   {
    "duration": 75,
    "start_time": "2023-02-09T07:43:13.201Z"
   },
   {
    "duration": 16,
    "start_time": "2023-02-09T07:43:13.277Z"
   },
   {
    "duration": 20,
    "start_time": "2023-02-09T07:43:13.295Z"
   },
   {
    "duration": 12,
    "start_time": "2023-02-09T07:43:13.316Z"
   },
   {
    "duration": 198,
    "start_time": "2023-02-09T07:43:13.329Z"
   },
   {
    "duration": 9,
    "start_time": "2023-02-09T07:43:13.531Z"
   },
   {
    "duration": 13,
    "start_time": "2023-02-09T07:43:13.541Z"
   },
   {
    "duration": 26,
    "start_time": "2023-02-09T07:43:13.556Z"
   },
   {
    "duration": 21,
    "start_time": "2023-02-09T07:43:13.584Z"
   },
   {
    "duration": 15,
    "start_time": "2023-02-09T07:43:13.607Z"
   },
   {
    "duration": 128,
    "start_time": "2023-02-09T07:43:13.624Z"
   },
   {
    "duration": 227,
    "start_time": "2023-02-09T07:43:13.754Z"
   },
   {
    "duration": 420,
    "start_time": "2023-02-09T07:43:13.983Z"
   },
   {
    "duration": 25,
    "start_time": "2023-02-09T07:43:14.405Z"
   },
   {
    "duration": 131,
    "start_time": "2023-02-09T07:43:14.431Z"
   },
   {
    "duration": 9,
    "start_time": "2023-02-09T07:43:14.564Z"
   },
   {
    "duration": 146,
    "start_time": "2023-02-09T07:43:14.575Z"
   },
   {
    "duration": 115,
    "start_time": "2023-02-09T07:43:14.723Z"
   },
   {
    "duration": 147,
    "start_time": "2023-02-09T07:43:14.839Z"
   },
   {
    "duration": 125,
    "start_time": "2023-02-09T07:43:14.987Z"
   },
   {
    "duration": 26,
    "start_time": "2023-02-09T07:43:15.114Z"
   },
   {
    "duration": 16,
    "start_time": "2023-02-09T07:43:15.141Z"
   },
   {
    "duration": 171,
    "start_time": "2023-02-09T07:43:15.158Z"
   },
   {
    "duration": 150,
    "start_time": "2023-02-09T07:43:15.333Z"
   },
   {
    "duration": 178,
    "start_time": "2023-02-09T07:43:15.485Z"
   },
   {
    "duration": 167,
    "start_time": "2023-02-09T07:43:15.665Z"
   },
   {
    "duration": 188,
    "start_time": "2023-02-09T07:43:15.834Z"
   },
   {
    "duration": 199,
    "start_time": "2023-02-09T07:43:16.023Z"
   },
   {
    "duration": 214,
    "start_time": "2023-02-09T07:43:16.223Z"
   },
   {
    "duration": 193,
    "start_time": "2023-02-09T07:43:16.439Z"
   },
   {
    "duration": 206,
    "start_time": "2023-02-09T07:43:16.633Z"
   },
   {
    "duration": 197,
    "start_time": "2023-02-09T07:43:16.841Z"
   },
   {
    "duration": 167,
    "start_time": "2023-02-09T07:43:17.040Z"
   },
   {
    "duration": 297,
    "start_time": "2023-02-09T07:43:17.209Z"
   },
   {
    "duration": 126,
    "start_time": "2023-02-09T07:43:17.508Z"
   },
   {
    "duration": 236,
    "start_time": "2023-02-09T07:43:17.637Z"
   },
   {
    "duration": 13,
    "start_time": "2023-02-09T07:43:17.875Z"
   },
   {
    "duration": 169,
    "start_time": "2023-02-09T07:43:17.890Z"
   },
   {
    "duration": 162,
    "start_time": "2023-02-09T07:43:18.061Z"
   },
   {
    "duration": 180,
    "start_time": "2023-02-09T07:43:18.224Z"
   },
   {
    "duration": 176,
    "start_time": "2023-02-09T07:43:18.406Z"
   },
   {
    "duration": 176,
    "start_time": "2023-02-09T07:43:18.583Z"
   },
   {
    "duration": 27,
    "start_time": "2023-02-09T07:43:18.761Z"
   },
   {
    "duration": 15,
    "start_time": "2023-02-09T07:43:18.790Z"
   },
   {
    "duration": 187,
    "start_time": "2023-02-09T07:43:18.807Z"
   },
   {
    "duration": 8,
    "start_time": "2023-02-09T07:44:26.268Z"
   },
   {
    "duration": 656,
    "start_time": "2023-02-09T07:44:29.979Z"
   },
   {
    "duration": 123,
    "start_time": "2023-02-09T07:44:30.637Z"
   },
   {
    "duration": 16,
    "start_time": "2023-02-09T07:44:30.761Z"
   },
   {
    "duration": 1941,
    "start_time": "2023-02-09T07:44:30.779Z"
   },
   {
    "duration": 81,
    "start_time": "2023-02-09T07:44:32.721Z"
   },
   {
    "duration": 17,
    "start_time": "2023-02-09T07:44:32.804Z"
   },
   {
    "duration": 16,
    "start_time": "2023-02-09T07:44:32.823Z"
   },
   {
    "duration": 14,
    "start_time": "2023-02-09T07:44:32.840Z"
   },
   {
    "duration": 198,
    "start_time": "2023-02-09T07:44:32.856Z"
   },
   {
    "duration": 8,
    "start_time": "2023-02-09T07:44:33.058Z"
   },
   {
    "duration": 17,
    "start_time": "2023-02-09T07:44:33.067Z"
   },
   {
    "duration": 30,
    "start_time": "2023-02-09T07:44:33.085Z"
   },
   {
    "duration": 7,
    "start_time": "2023-02-09T07:44:33.117Z"
   },
   {
    "duration": 14,
    "start_time": "2023-02-09T07:44:33.126Z"
   },
   {
    "duration": 125,
    "start_time": "2023-02-09T07:44:33.142Z"
   },
   {
    "duration": 225,
    "start_time": "2023-02-09T07:44:33.268Z"
   },
   {
    "duration": 435,
    "start_time": "2023-02-09T07:44:33.494Z"
   },
   {
    "duration": 25,
    "start_time": "2023-02-09T07:44:33.931Z"
   },
   {
    "duration": 146,
    "start_time": "2023-02-09T07:44:33.958Z"
   },
   {
    "duration": 9,
    "start_time": "2023-02-09T07:44:34.106Z"
   },
   {
    "duration": 137,
    "start_time": "2023-02-09T07:44:34.117Z"
   },
   {
    "duration": 113,
    "start_time": "2023-02-09T07:44:34.256Z"
   },
   {
    "duration": 148,
    "start_time": "2023-02-09T07:44:34.371Z"
   },
   {
    "duration": 116,
    "start_time": "2023-02-09T07:44:34.521Z"
   },
   {
    "duration": 24,
    "start_time": "2023-02-09T07:44:34.639Z"
   },
   {
    "duration": 18,
    "start_time": "2023-02-09T07:44:34.665Z"
   },
   {
    "duration": 176,
    "start_time": "2023-02-09T07:44:34.684Z"
   },
   {
    "duration": 143,
    "start_time": "2023-02-09T07:44:34.864Z"
   },
   {
    "duration": 168,
    "start_time": "2023-02-09T07:44:35.009Z"
   },
   {
    "duration": 169,
    "start_time": "2023-02-09T07:44:35.179Z"
   },
   {
    "duration": 193,
    "start_time": "2023-02-09T07:44:35.350Z"
   },
   {
    "duration": 201,
    "start_time": "2023-02-09T07:44:35.545Z"
   },
   {
    "duration": 212,
    "start_time": "2023-02-09T07:44:35.748Z"
   },
   {
    "duration": 180,
    "start_time": "2023-02-09T07:44:35.962Z"
   },
   {
    "duration": 192,
    "start_time": "2023-02-09T07:44:36.143Z"
   },
   {
    "duration": 157,
    "start_time": "2023-02-09T07:44:36.336Z"
   },
   {
    "duration": 128,
    "start_time": "2023-02-09T07:44:36.494Z"
   },
   {
    "duration": 367,
    "start_time": "2023-02-09T07:44:36.623Z"
   },
   {
    "duration": 124,
    "start_time": "2023-02-09T07:44:36.992Z"
   },
   {
    "duration": 213,
    "start_time": "2023-02-09T07:44:37.118Z"
   },
   {
    "duration": 12,
    "start_time": "2023-02-09T07:44:37.333Z"
   },
   {
    "duration": 158,
    "start_time": "2023-02-09T07:44:37.347Z"
   },
   {
    "duration": 145,
    "start_time": "2023-02-09T07:44:37.507Z"
   },
   {
    "duration": 176,
    "start_time": "2023-02-09T07:44:37.653Z"
   },
   {
    "duration": 165,
    "start_time": "2023-02-09T07:44:37.831Z"
   },
   {
    "duration": 155,
    "start_time": "2023-02-09T07:44:37.998Z"
   },
   {
    "duration": 26,
    "start_time": "2023-02-09T07:44:38.155Z"
   },
   {
    "duration": 6,
    "start_time": "2023-02-09T07:44:38.182Z"
   },
   {
    "duration": 160,
    "start_time": "2023-02-09T07:44:38.204Z"
   },
   {
    "duration": 615,
    "start_time": "2023-02-09T07:45:10.621Z"
   },
   {
    "duration": 127,
    "start_time": "2023-02-09T07:45:11.238Z"
   },
   {
    "duration": 15,
    "start_time": "2023-02-09T07:45:11.367Z"
   },
   {
    "duration": 1974,
    "start_time": "2023-02-09T07:45:11.386Z"
   },
   {
    "duration": 80,
    "start_time": "2023-02-09T07:45:13.362Z"
   },
   {
    "duration": 20,
    "start_time": "2023-02-09T07:45:13.445Z"
   },
   {
    "duration": 38,
    "start_time": "2023-02-09T07:45:13.467Z"
   },
   {
    "duration": 17,
    "start_time": "2023-02-09T07:45:13.507Z"
   },
   {
    "duration": 179,
    "start_time": "2023-02-09T07:45:13.526Z"
   },
   {
    "duration": 6,
    "start_time": "2023-02-09T07:45:13.708Z"
   },
   {
    "duration": 14,
    "start_time": "2023-02-09T07:45:13.715Z"
   },
   {
    "duration": 42,
    "start_time": "2023-02-09T07:45:13.730Z"
   },
   {
    "duration": 7,
    "start_time": "2023-02-09T07:45:13.774Z"
   },
   {
    "duration": 28,
    "start_time": "2023-02-09T07:45:13.783Z"
   },
   {
    "duration": 117,
    "start_time": "2023-02-09T07:45:13.812Z"
   },
   {
    "duration": 225,
    "start_time": "2023-02-09T07:45:13.931Z"
   },
   {
    "duration": 421,
    "start_time": "2023-02-09T07:45:14.157Z"
   },
   {
    "duration": 25,
    "start_time": "2023-02-09T07:45:14.580Z"
   },
   {
    "duration": 128,
    "start_time": "2023-02-09T07:45:14.607Z"
   },
   {
    "duration": 8,
    "start_time": "2023-02-09T07:45:14.737Z"
   },
   {
    "duration": 130,
    "start_time": "2023-02-09T07:45:14.746Z"
   },
   {
    "duration": 128,
    "start_time": "2023-02-09T07:45:14.878Z"
   },
   {
    "duration": 150,
    "start_time": "2023-02-09T07:45:15.008Z"
   },
   {
    "duration": 121,
    "start_time": "2023-02-09T07:45:15.160Z"
   },
   {
    "duration": 35,
    "start_time": "2023-02-09T07:45:15.283Z"
   },
   {
    "duration": 18,
    "start_time": "2023-02-09T07:45:15.320Z"
   },
   {
    "duration": 166,
    "start_time": "2023-02-09T07:45:15.339Z"
   },
   {
    "duration": 138,
    "start_time": "2023-02-09T07:45:15.509Z"
   },
   {
    "duration": 165,
    "start_time": "2023-02-09T07:45:15.649Z"
   },
   {
    "duration": 175,
    "start_time": "2023-02-09T07:45:15.815Z"
   },
   {
    "duration": 188,
    "start_time": "2023-02-09T07:45:15.992Z"
   },
   {
    "duration": 208,
    "start_time": "2023-02-09T07:45:16.182Z"
   },
   {
    "duration": 204,
    "start_time": "2023-02-09T07:45:16.392Z"
   },
   {
    "duration": 264,
    "start_time": "2023-02-09T07:45:16.598Z"
   },
   {
    "duration": 206,
    "start_time": "2023-02-09T07:45:16.864Z"
   },
   {
    "duration": 167,
    "start_time": "2023-02-09T07:45:17.072Z"
   },
   {
    "duration": 124,
    "start_time": "2023-02-09T07:45:17.241Z"
   },
   {
    "duration": 291,
    "start_time": "2023-02-09T07:45:17.367Z"
   },
   {
    "duration": 128,
    "start_time": "2023-02-09T07:45:17.659Z"
   },
   {
    "duration": 206,
    "start_time": "2023-02-09T07:45:17.788Z"
   },
   {
    "duration": 10,
    "start_time": "2023-02-09T07:45:18.004Z"
   },
   {
    "duration": 151,
    "start_time": "2023-02-09T07:45:18.016Z"
   },
   {
    "duration": 144,
    "start_time": "2023-02-09T07:45:18.168Z"
   },
   {
    "duration": 184,
    "start_time": "2023-02-09T07:45:18.314Z"
   },
   {
    "duration": 159,
    "start_time": "2023-02-09T07:45:18.500Z"
   },
   {
    "duration": 154,
    "start_time": "2023-02-09T07:45:18.661Z"
   },
   {
    "duration": 27,
    "start_time": "2023-02-09T07:45:18.817Z"
   },
   {
    "duration": 8,
    "start_time": "2023-02-09T07:45:18.846Z"
   },
   {
    "duration": 181,
    "start_time": "2023-02-09T07:45:18.855Z"
   },
   {
    "duration": 574,
    "start_time": "2023-02-09T07:45:47.747Z"
   },
   {
    "duration": 118,
    "start_time": "2023-02-09T07:45:48.323Z"
   },
   {
    "duration": 15,
    "start_time": "2023-02-09T07:45:48.442Z"
   },
   {
    "duration": 1908,
    "start_time": "2023-02-09T07:45:48.460Z"
   },
   {
    "duration": 73,
    "start_time": "2023-02-09T07:45:50.369Z"
   },
   {
    "duration": 19,
    "start_time": "2023-02-09T07:45:50.444Z"
   },
   {
    "duration": 16,
    "start_time": "2023-02-09T07:45:50.465Z"
   },
   {
    "duration": 12,
    "start_time": "2023-02-09T07:45:50.482Z"
   },
   {
    "duration": 170,
    "start_time": "2023-02-09T07:45:50.503Z"
   },
   {
    "duration": 7,
    "start_time": "2023-02-09T07:45:50.675Z"
   },
   {
    "duration": 21,
    "start_time": "2023-02-09T07:45:50.683Z"
   },
   {
    "duration": 19,
    "start_time": "2023-02-09T07:45:50.706Z"
   },
   {
    "duration": 7,
    "start_time": "2023-02-09T07:45:50.727Z"
   },
   {
    "duration": 11,
    "start_time": "2023-02-09T07:45:50.735Z"
   },
   {
    "duration": 137,
    "start_time": "2023-02-09T07:45:50.748Z"
   },
   {
    "duration": 224,
    "start_time": "2023-02-09T07:45:50.886Z"
   },
   {
    "duration": 422,
    "start_time": "2023-02-09T07:45:51.112Z"
   },
   {
    "duration": 27,
    "start_time": "2023-02-09T07:45:51.535Z"
   },
   {
    "duration": 127,
    "start_time": "2023-02-09T07:45:51.564Z"
   },
   {
    "duration": 15,
    "start_time": "2023-02-09T07:45:51.693Z"
   },
   {
    "duration": 137,
    "start_time": "2023-02-09T07:45:51.710Z"
   },
   {
    "duration": 115,
    "start_time": "2023-02-09T07:45:51.849Z"
   },
   {
    "duration": 144,
    "start_time": "2023-02-09T07:45:51.966Z"
   },
   {
    "duration": 120,
    "start_time": "2023-02-09T07:45:52.112Z"
   },
   {
    "duration": 21,
    "start_time": "2023-02-09T07:45:52.234Z"
   },
   {
    "duration": 15,
    "start_time": "2023-02-09T07:45:52.257Z"
   },
   {
    "duration": 166,
    "start_time": "2023-02-09T07:45:52.274Z"
   },
   {
    "duration": 145,
    "start_time": "2023-02-09T07:45:52.443Z"
   },
   {
    "duration": 166,
    "start_time": "2023-02-09T07:45:52.590Z"
   },
   {
    "duration": 167,
    "start_time": "2023-02-09T07:45:52.757Z"
   },
   {
    "duration": 188,
    "start_time": "2023-02-09T07:45:52.926Z"
   },
   {
    "duration": 204,
    "start_time": "2023-02-09T07:45:53.116Z"
   },
   {
    "duration": 205,
    "start_time": "2023-02-09T07:45:53.321Z"
   },
   {
    "duration": 178,
    "start_time": "2023-02-09T07:45:53.527Z"
   },
   {
    "duration": 196,
    "start_time": "2023-02-09T07:45:53.706Z"
   },
   {
    "duration": 153,
    "start_time": "2023-02-09T07:45:53.903Z"
   },
   {
    "duration": 121,
    "start_time": "2023-02-09T07:45:54.057Z"
   },
   {
    "duration": 294,
    "start_time": "2023-02-09T07:45:54.180Z"
   },
   {
    "duration": 132,
    "start_time": "2023-02-09T07:45:54.477Z"
   },
   {
    "duration": 219,
    "start_time": "2023-02-09T07:45:54.611Z"
   },
   {
    "duration": 12,
    "start_time": "2023-02-09T07:45:54.831Z"
   },
   {
    "duration": 167,
    "start_time": "2023-02-09T07:45:54.845Z"
   },
   {
    "duration": 160,
    "start_time": "2023-02-09T07:45:55.015Z"
   },
   {
    "duration": 184,
    "start_time": "2023-02-09T07:45:55.177Z"
   },
   {
    "duration": 170,
    "start_time": "2023-02-09T07:45:55.363Z"
   },
   {
    "duration": 163,
    "start_time": "2023-02-09T07:45:55.535Z"
   },
   {
    "duration": 30,
    "start_time": "2023-02-09T07:45:55.700Z"
   },
   {
    "duration": 7,
    "start_time": "2023-02-09T07:45:55.732Z"
   },
   {
    "duration": 188,
    "start_time": "2023-02-09T07:45:55.740Z"
   },
   {
    "duration": 661,
    "start_time": "2023-02-09T07:46:44.878Z"
   },
   {
    "duration": 113,
    "start_time": "2023-02-09T07:46:45.541Z"
   },
   {
    "duration": 14,
    "start_time": "2023-02-09T07:46:45.656Z"
   },
   {
    "duration": 1991,
    "start_time": "2023-02-09T07:46:45.673Z"
   },
   {
    "duration": 73,
    "start_time": "2023-02-09T07:46:47.666Z"
   },
   {
    "duration": 16,
    "start_time": "2023-02-09T07:46:47.741Z"
   },
   {
    "duration": 14,
    "start_time": "2023-02-09T07:46:47.759Z"
   },
   {
    "duration": 15,
    "start_time": "2023-02-09T07:46:47.774Z"
   },
   {
    "duration": 165,
    "start_time": "2023-02-09T07:46:47.804Z"
   },
   {
    "duration": 6,
    "start_time": "2023-02-09T07:46:47.972Z"
   },
   {
    "duration": 8,
    "start_time": "2023-02-09T07:46:47.980Z"
   },
   {
    "duration": 26,
    "start_time": "2023-02-09T07:46:47.990Z"
   },
   {
    "duration": 5,
    "start_time": "2023-02-09T07:46:48.017Z"
   },
   {
    "duration": 16,
    "start_time": "2023-02-09T07:46:48.023Z"
   },
   {
    "duration": 118,
    "start_time": "2023-02-09T07:46:48.040Z"
   },
   {
    "duration": 224,
    "start_time": "2023-02-09T07:46:48.160Z"
   },
   {
    "duration": 412,
    "start_time": "2023-02-09T07:46:48.386Z"
   },
   {
    "duration": 25,
    "start_time": "2023-02-09T07:46:48.800Z"
   },
   {
    "duration": 125,
    "start_time": "2023-02-09T07:46:48.827Z"
   },
   {
    "duration": 8,
    "start_time": "2023-02-09T07:46:48.953Z"
   },
   {
    "duration": 127,
    "start_time": "2023-02-09T07:46:48.962Z"
   },
   {
    "duration": 126,
    "start_time": "2023-02-09T07:46:49.090Z"
   },
   {
    "duration": 143,
    "start_time": "2023-02-09T07:46:49.219Z"
   },
   {
    "duration": 118,
    "start_time": "2023-02-09T07:46:49.363Z"
   },
   {
    "duration": 30,
    "start_time": "2023-02-09T07:46:49.483Z"
   },
   {
    "duration": 17,
    "start_time": "2023-02-09T07:46:49.515Z"
   },
   {
    "duration": 152,
    "start_time": "2023-02-09T07:46:49.533Z"
   },
   {
    "duration": 153,
    "start_time": "2023-02-09T07:46:49.689Z"
   },
   {
    "duration": 170,
    "start_time": "2023-02-09T07:46:49.843Z"
   },
   {
    "duration": 174,
    "start_time": "2023-02-09T07:46:50.015Z"
   },
   {
    "duration": 193,
    "start_time": "2023-02-09T07:46:50.191Z"
   },
   {
    "duration": 202,
    "start_time": "2023-02-09T07:46:50.386Z"
   },
   {
    "duration": 197,
    "start_time": "2023-02-09T07:46:50.590Z"
   },
   {
    "duration": 173,
    "start_time": "2023-02-09T07:46:50.789Z"
   },
   {
    "duration": 214,
    "start_time": "2023-02-09T07:46:50.964Z"
   },
   {
    "duration": 163,
    "start_time": "2023-02-09T07:46:51.180Z"
   },
   {
    "duration": 120,
    "start_time": "2023-02-09T07:46:51.345Z"
   },
   {
    "duration": 298,
    "start_time": "2023-02-09T07:46:51.468Z"
   },
   {
    "duration": 123,
    "start_time": "2023-02-09T07:46:51.768Z"
   },
   {
    "duration": 215,
    "start_time": "2023-02-09T07:46:51.893Z"
   },
   {
    "duration": 11,
    "start_time": "2023-02-09T07:46:52.110Z"
   },
   {
    "duration": 166,
    "start_time": "2023-02-09T07:46:52.123Z"
   },
   {
    "duration": 161,
    "start_time": "2023-02-09T07:46:52.291Z"
   },
   {
    "duration": 175,
    "start_time": "2023-02-09T07:46:52.455Z"
   },
   {
    "duration": 171,
    "start_time": "2023-02-09T07:46:52.632Z"
   },
   {
    "duration": 169,
    "start_time": "2023-02-09T07:46:52.805Z"
   },
   {
    "duration": 37,
    "start_time": "2023-02-09T07:46:52.976Z"
   },
   {
    "duration": 6,
    "start_time": "2023-02-09T07:46:53.015Z"
   },
   {
    "duration": 187,
    "start_time": "2023-02-09T07:46:53.023Z"
   },
   {
    "duration": 53,
    "start_time": "2023-02-09T07:47:34.929Z"
   },
   {
    "duration": 3,
    "start_time": "2023-02-09T07:47:44.666Z"
   },
   {
    "duration": 12,
    "start_time": "2023-02-09T07:47:57.257Z"
   },
   {
    "duration": 637,
    "start_time": "2023-02-09T07:48:15.402Z"
   },
   {
    "duration": 116,
    "start_time": "2023-02-09T07:48:16.042Z"
   },
   {
    "duration": 16,
    "start_time": "2023-02-09T07:48:16.159Z"
   },
   {
    "duration": 1958,
    "start_time": "2023-02-09T07:48:16.178Z"
   },
   {
    "duration": 74,
    "start_time": "2023-02-09T07:48:18.138Z"
   },
   {
    "duration": 16,
    "start_time": "2023-02-09T07:48:18.213Z"
   },
   {
    "duration": 14,
    "start_time": "2023-02-09T07:48:18.231Z"
   },
   {
    "duration": 12,
    "start_time": "2023-02-09T07:48:18.246Z"
   },
   {
    "duration": 180,
    "start_time": "2023-02-09T07:48:18.260Z"
   },
   {
    "duration": 6,
    "start_time": "2023-02-09T07:48:18.443Z"
   },
   {
    "duration": 8,
    "start_time": "2023-02-09T07:48:18.450Z"
   },
   {
    "duration": 12,
    "start_time": "2023-02-09T07:48:18.460Z"
   },
   {
    "duration": 5,
    "start_time": "2023-02-09T07:48:18.473Z"
   },
   {
    "duration": 10,
    "start_time": "2023-02-09T07:48:18.504Z"
   },
   {
    "duration": 114,
    "start_time": "2023-02-09T07:48:18.515Z"
   },
   {
    "duration": 223,
    "start_time": "2023-02-09T07:48:18.630Z"
   },
   {
    "duration": 457,
    "start_time": "2023-02-09T07:48:18.854Z"
   },
   {
    "duration": 26,
    "start_time": "2023-02-09T07:48:19.313Z"
   },
   {
    "duration": 130,
    "start_time": "2023-02-09T07:48:19.340Z"
   },
   {
    "duration": 9,
    "start_time": "2023-02-09T07:48:19.472Z"
   },
   {
    "duration": 136,
    "start_time": "2023-02-09T07:48:19.483Z"
   },
   {
    "duration": 131,
    "start_time": "2023-02-09T07:48:19.621Z"
   },
   {
    "duration": 139,
    "start_time": "2023-02-09T07:48:19.754Z"
   },
   {
    "duration": 123,
    "start_time": "2023-02-09T07:48:19.895Z"
   },
   {
    "duration": 22,
    "start_time": "2023-02-09T07:48:20.019Z"
   },
   {
    "duration": 21,
    "start_time": "2023-02-09T07:48:20.042Z"
   },
   {
    "duration": 167,
    "start_time": "2023-02-09T07:48:20.065Z"
   },
   {
    "duration": 159,
    "start_time": "2023-02-09T07:48:20.236Z"
   },
   {
    "duration": 171,
    "start_time": "2023-02-09T07:48:20.397Z"
   },
   {
    "duration": 165,
    "start_time": "2023-02-09T07:48:20.570Z"
   },
   {
    "duration": 195,
    "start_time": "2023-02-09T07:48:20.737Z"
   },
   {
    "duration": 214,
    "start_time": "2023-02-09T07:48:20.933Z"
   },
   {
    "duration": 225,
    "start_time": "2023-02-09T07:48:21.149Z"
   },
   {
    "duration": 200,
    "start_time": "2023-02-09T07:48:21.375Z"
   },
   {
    "duration": 209,
    "start_time": "2023-02-09T07:48:21.576Z"
   },
   {
    "duration": 170,
    "start_time": "2023-02-09T07:48:21.787Z"
   },
   {
    "duration": 124,
    "start_time": "2023-02-09T07:48:21.959Z"
   },
   {
    "duration": 310,
    "start_time": "2023-02-09T07:48:22.084Z"
   },
   {
    "duration": 128,
    "start_time": "2023-02-09T07:48:22.395Z"
   },
   {
    "duration": 214,
    "start_time": "2023-02-09T07:48:22.525Z"
   },
   {
    "duration": 12,
    "start_time": "2023-02-09T07:48:22.741Z"
   },
   {
    "duration": 165,
    "start_time": "2023-02-09T07:48:22.755Z"
   },
   {
    "duration": 154,
    "start_time": "2023-02-09T07:48:22.922Z"
   },
   {
    "duration": 190,
    "start_time": "2023-02-09T07:48:23.078Z"
   },
   {
    "duration": 181,
    "start_time": "2023-02-09T07:48:23.270Z"
   },
   {
    "duration": 160,
    "start_time": "2023-02-09T07:48:23.453Z"
   },
   {
    "duration": 28,
    "start_time": "2023-02-09T07:48:23.614Z"
   },
   {
    "duration": 8,
    "start_time": "2023-02-09T07:48:23.644Z"
   },
   {
    "duration": 190,
    "start_time": "2023-02-09T07:48:23.654Z"
   },
   {
    "duration": 14,
    "start_time": "2023-02-09T07:49:26.496Z"
   },
   {
    "duration": 5,
    "start_time": "2023-02-09T07:49:31.007Z"
   },
   {
    "duration": 604,
    "start_time": "2023-02-09T07:49:47.232Z"
   },
   {
    "duration": 118,
    "start_time": "2023-02-09T07:49:47.838Z"
   },
   {
    "duration": 14,
    "start_time": "2023-02-09T07:49:47.957Z"
   },
   {
    "duration": 1847,
    "start_time": "2023-02-09T07:49:47.973Z"
   },
   {
    "duration": 76,
    "start_time": "2023-02-09T07:49:49.821Z"
   },
   {
    "duration": 17,
    "start_time": "2023-02-09T07:49:49.900Z"
   },
   {
    "duration": 14,
    "start_time": "2023-02-09T07:49:49.918Z"
   },
   {
    "duration": 21,
    "start_time": "2023-02-09T07:49:49.933Z"
   },
   {
    "duration": 181,
    "start_time": "2023-02-09T07:49:49.955Z"
   },
   {
    "duration": 6,
    "start_time": "2023-02-09T07:49:50.139Z"
   },
   {
    "duration": 15,
    "start_time": "2023-02-09T07:49:50.147Z"
   },
   {
    "duration": 23,
    "start_time": "2023-02-09T07:49:50.164Z"
   },
   {
    "duration": 26,
    "start_time": "2023-02-09T07:49:50.188Z"
   },
   {
    "duration": 14,
    "start_time": "2023-02-09T07:49:50.215Z"
   },
   {
    "duration": 139,
    "start_time": "2023-02-09T07:49:50.230Z"
   },
   {
    "duration": 228,
    "start_time": "2023-02-09T07:49:50.371Z"
   },
   {
    "duration": 430,
    "start_time": "2023-02-09T07:49:50.600Z"
   },
   {
    "duration": 25,
    "start_time": "2023-02-09T07:49:51.032Z"
   },
   {
    "duration": 140,
    "start_time": "2023-02-09T07:49:51.059Z"
   },
   {
    "duration": 10,
    "start_time": "2023-02-09T07:49:51.204Z"
   },
   {
    "duration": 144,
    "start_time": "2023-02-09T07:49:51.216Z"
   },
   {
    "duration": 124,
    "start_time": "2023-02-09T07:49:51.362Z"
   },
   {
    "duration": 167,
    "start_time": "2023-02-09T07:49:51.488Z"
   },
   {
    "duration": 123,
    "start_time": "2023-02-09T07:49:51.657Z"
   },
   {
    "duration": 40,
    "start_time": "2023-02-09T07:49:51.782Z"
   },
   {
    "duration": 18,
    "start_time": "2023-02-09T07:49:51.824Z"
   },
   {
    "duration": 175,
    "start_time": "2023-02-09T07:49:51.843Z"
   },
   {
    "duration": 152,
    "start_time": "2023-02-09T07:49:52.023Z"
   },
   {
    "duration": 175,
    "start_time": "2023-02-09T07:49:52.177Z"
   },
   {
    "duration": 162,
    "start_time": "2023-02-09T07:49:52.354Z"
   },
   {
    "duration": 196,
    "start_time": "2023-02-09T07:49:52.518Z"
   },
   {
    "duration": 200,
    "start_time": "2023-02-09T07:49:52.715Z"
   },
   {
    "duration": 216,
    "start_time": "2023-02-09T07:49:52.916Z"
   },
   {
    "duration": 180,
    "start_time": "2023-02-09T07:49:53.136Z"
   },
   {
    "duration": 213,
    "start_time": "2023-02-09T07:49:53.317Z"
   },
   {
    "duration": 162,
    "start_time": "2023-02-09T07:49:53.532Z"
   },
   {
    "duration": 125,
    "start_time": "2023-02-09T07:49:53.695Z"
   },
   {
    "duration": 284,
    "start_time": "2023-02-09T07:49:53.821Z"
   },
   {
    "duration": 124,
    "start_time": "2023-02-09T07:49:54.107Z"
   },
   {
    "duration": 217,
    "start_time": "2023-02-09T07:49:54.233Z"
   },
   {
    "duration": 12,
    "start_time": "2023-02-09T07:49:54.452Z"
   },
   {
    "duration": 159,
    "start_time": "2023-02-09T07:49:54.466Z"
   },
   {
    "duration": 150,
    "start_time": "2023-02-09T07:49:54.626Z"
   },
   {
    "duration": 183,
    "start_time": "2023-02-09T07:49:54.777Z"
   },
   {
    "duration": 174,
    "start_time": "2023-02-09T07:49:54.961Z"
   },
   {
    "duration": 167,
    "start_time": "2023-02-09T07:49:55.137Z"
   },
   {
    "duration": 27,
    "start_time": "2023-02-09T07:49:55.306Z"
   },
   {
    "duration": 12,
    "start_time": "2023-02-09T07:49:55.334Z"
   },
   {
    "duration": 174,
    "start_time": "2023-02-09T07:49:55.348Z"
   },
   {
    "duration": 16,
    "start_time": "2023-02-09T07:50:36.062Z"
   },
   {
    "duration": 110,
    "start_time": "2023-02-09T07:50:40.919Z"
   },
   {
    "duration": 34,
    "start_time": "2023-02-09T07:51:11.318Z"
   },
   {
    "duration": 10,
    "start_time": "2023-02-09T07:51:16.640Z"
   },
   {
    "duration": 10,
    "start_time": "2023-02-09T07:51:29.829Z"
   },
   {
    "duration": 79,
    "start_time": "2023-02-09T07:51:39.445Z"
   },
   {
    "duration": 15,
    "start_time": "2023-02-09T07:51:55.086Z"
   },
   {
    "duration": 644,
    "start_time": "2023-02-09T07:51:59.000Z"
   },
   {
    "duration": 126,
    "start_time": "2023-02-09T07:51:59.646Z"
   },
   {
    "duration": 14,
    "start_time": "2023-02-09T07:51:59.773Z"
   },
   {
    "duration": 2055,
    "start_time": "2023-02-09T07:51:59.789Z"
   },
   {
    "duration": 73,
    "start_time": "2023-02-09T07:52:01.845Z"
   },
   {
    "duration": 15,
    "start_time": "2023-02-09T07:52:01.919Z"
   },
   {
    "duration": 20,
    "start_time": "2023-02-09T07:52:01.936Z"
   },
   {
    "duration": 11,
    "start_time": "2023-02-09T07:52:01.958Z"
   },
   {
    "duration": 189,
    "start_time": "2023-02-09T07:52:01.971Z"
   },
   {
    "duration": 7,
    "start_time": "2023-02-09T07:52:02.163Z"
   },
   {
    "duration": 27,
    "start_time": "2023-02-09T07:52:02.171Z"
   },
   {
    "duration": 20,
    "start_time": "2023-02-09T07:52:02.199Z"
   },
   {
    "duration": 5,
    "start_time": "2023-02-09T07:52:02.221Z"
   },
   {
    "duration": 12,
    "start_time": "2023-02-09T07:52:02.228Z"
   },
   {
    "duration": 16,
    "start_time": "2023-02-09T07:52:02.241Z"
   },
   {
    "duration": 120,
    "start_time": "2023-02-09T07:52:02.259Z"
   },
   {
    "duration": 224,
    "start_time": "2023-02-09T07:52:02.381Z"
   },
   {
    "duration": 420,
    "start_time": "2023-02-09T07:52:02.607Z"
   },
   {
    "duration": 25,
    "start_time": "2023-02-09T07:52:03.029Z"
   },
   {
    "duration": 127,
    "start_time": "2023-02-09T07:52:03.056Z"
   },
   {
    "duration": 8,
    "start_time": "2023-02-09T07:52:03.185Z"
   },
   {
    "duration": 127,
    "start_time": "2023-02-09T07:52:03.204Z"
   },
   {
    "duration": 122,
    "start_time": "2023-02-09T07:52:03.333Z"
   },
   {
    "duration": 138,
    "start_time": "2023-02-09T07:52:03.457Z"
   },
   {
    "duration": 115,
    "start_time": "2023-02-09T07:52:03.604Z"
   },
   {
    "duration": 22,
    "start_time": "2023-02-09T07:52:03.720Z"
   },
   {
    "duration": 16,
    "start_time": "2023-02-09T07:52:03.743Z"
   },
   {
    "duration": 174,
    "start_time": "2023-02-09T07:52:03.762Z"
   },
   {
    "duration": 139,
    "start_time": "2023-02-09T07:52:03.937Z"
   },
   {
    "duration": 166,
    "start_time": "2023-02-09T07:52:04.077Z"
   },
   {
    "duration": 158,
    "start_time": "2023-02-09T07:52:04.245Z"
   },
   {
    "duration": 186,
    "start_time": "2023-02-09T07:52:04.405Z"
   },
   {
    "duration": 210,
    "start_time": "2023-02-09T07:52:04.593Z"
   },
   {
    "duration": 227,
    "start_time": "2023-02-09T07:52:04.805Z"
   },
   {
    "duration": 196,
    "start_time": "2023-02-09T07:52:05.034Z"
   },
   {
    "duration": 210,
    "start_time": "2023-02-09T07:52:05.232Z"
   },
   {
    "duration": 161,
    "start_time": "2023-02-09T07:52:05.444Z"
   },
   {
    "duration": 125,
    "start_time": "2023-02-09T07:52:05.607Z"
   },
   {
    "duration": 343,
    "start_time": "2023-02-09T07:52:05.734Z"
   },
   {
    "duration": 136,
    "start_time": "2023-02-09T07:52:06.079Z"
   },
   {
    "duration": 223,
    "start_time": "2023-02-09T07:52:06.216Z"
   },
   {
    "duration": 12,
    "start_time": "2023-02-09T07:52:06.440Z"
   },
   {
    "duration": 167,
    "start_time": "2023-02-09T07:52:06.453Z"
   },
   {
    "duration": 183,
    "start_time": "2023-02-09T07:52:06.622Z"
   },
   {
    "duration": 208,
    "start_time": "2023-02-09T07:52:06.807Z"
   },
   {
    "duration": 171,
    "start_time": "2023-02-09T07:52:07.017Z"
   },
   {
    "duration": 170,
    "start_time": "2023-02-09T07:52:07.189Z"
   },
   {
    "duration": 28,
    "start_time": "2023-02-09T07:52:07.361Z"
   },
   {
    "duration": 16,
    "start_time": "2023-02-09T07:52:07.391Z"
   },
   {
    "duration": 180,
    "start_time": "2023-02-09T07:52:07.408Z"
   },
   {
    "duration": 15,
    "start_time": "2023-02-09T07:52:25.494Z"
   },
   {
    "duration": 5,
    "start_time": "2023-02-09T07:52:27.443Z"
   },
   {
    "duration": 10,
    "start_time": "2023-02-09T07:52:33.755Z"
   },
   {
    "duration": 17,
    "start_time": "2023-02-09T07:52:49.323Z"
   },
   {
    "duration": 108,
    "start_time": "2023-02-09T07:53:04.972Z"
   },
   {
    "duration": 325,
    "start_time": "2023-02-09T07:53:07.764Z"
   },
   {
    "duration": 79,
    "start_time": "2023-02-09T07:53:13.259Z"
   },
   {
    "duration": 8,
    "start_time": "2023-02-09T07:55:37.896Z"
   },
   {
    "duration": 17,
    "start_time": "2023-02-09T07:55:43.616Z"
   },
   {
    "duration": 110,
    "start_time": "2023-02-09T07:55:45.937Z"
   },
   {
    "duration": 224,
    "start_time": "2023-02-09T07:55:49.311Z"
   },
   {
    "duration": 16,
    "start_time": "2023-02-09T07:55:51.955Z"
   },
   {
    "duration": 626,
    "start_time": "2023-02-09T07:56:21.712Z"
   },
   {
    "duration": 118,
    "start_time": "2023-02-09T07:56:22.340Z"
   },
   {
    "duration": 20,
    "start_time": "2023-02-09T07:56:22.459Z"
   },
   {
    "duration": 1894,
    "start_time": "2023-02-09T07:56:22.481Z"
   },
   {
    "duration": 70,
    "start_time": "2023-02-09T07:56:24.377Z"
   },
   {
    "duration": 17,
    "start_time": "2023-02-09T07:56:24.449Z"
   },
   {
    "duration": 13,
    "start_time": "2023-02-09T07:56:24.467Z"
   },
   {
    "duration": 24,
    "start_time": "2023-02-09T07:56:24.482Z"
   },
   {
    "duration": 161,
    "start_time": "2023-02-09T07:56:24.507Z"
   },
   {
    "duration": 6,
    "start_time": "2023-02-09T07:56:24.670Z"
   },
   {
    "duration": 9,
    "start_time": "2023-02-09T07:56:24.677Z"
   },
   {
    "duration": 26,
    "start_time": "2023-02-09T07:56:24.687Z"
   },
   {
    "duration": 6,
    "start_time": "2023-02-09T07:56:24.714Z"
   },
   {
    "duration": 10,
    "start_time": "2023-02-09T07:56:24.722Z"
   },
   {
    "duration": 8,
    "start_time": "2023-02-09T07:56:24.734Z"
   },
   {
    "duration": 17,
    "start_time": "2023-02-09T07:56:24.744Z"
   },
   {
    "duration": 117,
    "start_time": "2023-02-09T07:56:24.763Z"
   },
   {
    "duration": 221,
    "start_time": "2023-02-09T07:56:24.882Z"
   },
   {
    "duration": 428,
    "start_time": "2023-02-09T07:56:25.104Z"
   },
   {
    "duration": 27,
    "start_time": "2023-02-09T07:56:25.534Z"
   },
   {
    "duration": 127,
    "start_time": "2023-02-09T07:56:25.563Z"
   },
   {
    "duration": 14,
    "start_time": "2023-02-09T07:56:25.691Z"
   },
   {
    "duration": 127,
    "start_time": "2023-02-09T07:56:25.706Z"
   },
   {
    "duration": 111,
    "start_time": "2023-02-09T07:56:25.834Z"
   },
   {
    "duration": 146,
    "start_time": "2023-02-09T07:56:25.947Z"
   },
   {
    "duration": 113,
    "start_time": "2023-02-09T07:56:26.094Z"
   },
   {
    "duration": 21,
    "start_time": "2023-02-09T07:56:26.209Z"
   },
   {
    "duration": 15,
    "start_time": "2023-02-09T07:56:26.234Z"
   },
   {
    "duration": 171,
    "start_time": "2023-02-09T07:56:26.250Z"
   },
   {
    "duration": 137,
    "start_time": "2023-02-09T07:56:26.423Z"
   },
   {
    "duration": 195,
    "start_time": "2023-02-09T07:56:26.562Z"
   },
   {
    "duration": 199,
    "start_time": "2023-02-09T07:56:26.759Z"
   },
   {
    "duration": 191,
    "start_time": "2023-02-09T07:56:26.960Z"
   },
   {
    "duration": 206,
    "start_time": "2023-02-09T07:56:27.152Z"
   },
   {
    "duration": 207,
    "start_time": "2023-02-09T07:56:27.360Z"
   },
   {
    "duration": 177,
    "start_time": "2023-02-09T07:56:27.568Z"
   },
   {
    "duration": 204,
    "start_time": "2023-02-09T07:56:27.747Z"
   },
   {
    "duration": 163,
    "start_time": "2023-02-09T07:56:27.953Z"
   },
   {
    "duration": 137,
    "start_time": "2023-02-09T07:56:28.117Z"
   },
   {
    "duration": 288,
    "start_time": "2023-02-09T07:56:28.256Z"
   },
   {
    "duration": 129,
    "start_time": "2023-02-09T07:56:28.546Z"
   },
   {
    "duration": 206,
    "start_time": "2023-02-09T07:56:28.676Z"
   },
   {
    "duration": 21,
    "start_time": "2023-02-09T07:56:28.883Z"
   },
   {
    "duration": 151,
    "start_time": "2023-02-09T07:56:28.905Z"
   },
   {
    "duration": 154,
    "start_time": "2023-02-09T07:56:29.057Z"
   },
   {
    "duration": 179,
    "start_time": "2023-02-09T07:56:29.213Z"
   },
   {
    "duration": 167,
    "start_time": "2023-02-09T07:56:29.394Z"
   },
   {
    "duration": 174,
    "start_time": "2023-02-09T07:56:29.562Z"
   },
   {
    "duration": 29,
    "start_time": "2023-02-09T07:56:29.738Z"
   },
   {
    "duration": 7,
    "start_time": "2023-02-09T07:56:29.768Z"
   },
   {
    "duration": 206,
    "start_time": "2023-02-09T07:56:29.777Z"
   },
   {
    "duration": 9,
    "start_time": "2023-02-09T07:56:30.007Z"
   },
   {
    "duration": 640,
    "start_time": "2023-02-09T07:57:28.190Z"
   },
   {
    "duration": 119,
    "start_time": "2023-02-09T07:57:28.832Z"
   },
   {
    "duration": 14,
    "start_time": "2023-02-09T07:57:28.953Z"
   },
   {
    "duration": 1911,
    "start_time": "2023-02-09T07:57:28.969Z"
   },
   {
    "duration": 76,
    "start_time": "2023-02-09T07:57:30.881Z"
   },
   {
    "duration": 17,
    "start_time": "2023-02-09T07:57:30.959Z"
   },
   {
    "duration": 28,
    "start_time": "2023-02-09T07:57:30.978Z"
   },
   {
    "duration": 17,
    "start_time": "2023-02-09T07:57:31.008Z"
   },
   {
    "duration": 228,
    "start_time": "2023-02-09T07:57:31.027Z"
   },
   {
    "duration": 7,
    "start_time": "2023-02-09T07:57:31.258Z"
   },
   {
    "duration": 12,
    "start_time": "2023-02-09T07:57:31.267Z"
   },
   {
    "duration": 28,
    "start_time": "2023-02-09T07:57:31.281Z"
   },
   {
    "duration": 12,
    "start_time": "2023-02-09T07:57:31.311Z"
   },
   {
    "duration": 25,
    "start_time": "2023-02-09T07:57:31.325Z"
   },
   {
    "duration": 31,
    "start_time": "2023-02-09T07:57:31.352Z"
   },
   {
    "duration": 28,
    "start_time": "2023-02-09T07:57:31.385Z"
   },
   {
    "duration": 120,
    "start_time": "2023-02-09T07:57:31.415Z"
   },
   {
    "duration": 240,
    "start_time": "2023-02-09T07:57:31.536Z"
   },
   {
    "duration": 426,
    "start_time": "2023-02-09T07:57:31.777Z"
   },
   {
    "duration": 25,
    "start_time": "2023-02-09T07:57:32.205Z"
   },
   {
    "duration": 124,
    "start_time": "2023-02-09T07:57:32.232Z"
   },
   {
    "duration": 8,
    "start_time": "2023-02-09T07:57:32.358Z"
   },
   {
    "duration": 155,
    "start_time": "2023-02-09T07:57:32.368Z"
   },
   {
    "duration": 122,
    "start_time": "2023-02-09T07:57:32.524Z"
   },
   {
    "duration": 159,
    "start_time": "2023-02-09T07:57:32.647Z"
   },
   {
    "duration": 118,
    "start_time": "2023-02-09T07:57:32.808Z"
   },
   {
    "duration": 23,
    "start_time": "2023-02-09T07:57:32.928Z"
   },
   {
    "duration": 20,
    "start_time": "2023-02-09T07:57:32.954Z"
   },
   {
    "duration": 190,
    "start_time": "2023-02-09T07:57:32.976Z"
   },
   {
    "duration": 150,
    "start_time": "2023-02-09T07:57:33.168Z"
   },
   {
    "duration": 173,
    "start_time": "2023-02-09T07:57:33.320Z"
   },
   {
    "duration": 176,
    "start_time": "2023-02-09T07:57:33.503Z"
   },
   {
    "duration": 198,
    "start_time": "2023-02-09T07:57:33.681Z"
   },
   {
    "duration": 203,
    "start_time": "2023-02-09T07:57:33.881Z"
   },
   {
    "duration": 222,
    "start_time": "2023-02-09T07:57:34.087Z"
   },
   {
    "duration": 188,
    "start_time": "2023-02-09T07:57:34.311Z"
   },
   {
    "duration": 205,
    "start_time": "2023-02-09T07:57:34.501Z"
   },
   {
    "duration": 158,
    "start_time": "2023-02-09T07:57:34.708Z"
   },
   {
    "duration": 124,
    "start_time": "2023-02-09T07:57:34.867Z"
   },
   {
    "duration": 320,
    "start_time": "2023-02-09T07:57:34.992Z"
   },
   {
    "duration": 144,
    "start_time": "2023-02-09T07:57:35.314Z"
   },
   {
    "duration": 217,
    "start_time": "2023-02-09T07:57:35.460Z"
   },
   {
    "duration": 12,
    "start_time": "2023-02-09T07:57:35.679Z"
   },
   {
    "duration": 180,
    "start_time": "2023-02-09T07:57:35.692Z"
   },
   {
    "duration": 147,
    "start_time": "2023-02-09T07:57:35.874Z"
   },
   {
    "duration": 173,
    "start_time": "2023-02-09T07:57:36.022Z"
   },
   {
    "duration": 172,
    "start_time": "2023-02-09T07:57:36.197Z"
   },
   {
    "duration": 180,
    "start_time": "2023-02-09T07:57:36.371Z"
   },
   {
    "duration": 31,
    "start_time": "2023-02-09T07:57:36.553Z"
   },
   {
    "duration": 21,
    "start_time": "2023-02-09T07:57:36.586Z"
   },
   {
    "duration": 217,
    "start_time": "2023-02-09T07:57:36.609Z"
   },
   {
    "duration": 705,
    "start_time": "2023-02-09T07:58:10.331Z"
   },
   {
    "duration": 150,
    "start_time": "2023-02-09T07:58:11.038Z"
   },
   {
    "duration": 27,
    "start_time": "2023-02-09T07:58:11.190Z"
   },
   {
    "duration": 2129,
    "start_time": "2023-02-09T07:58:11.219Z"
   },
   {
    "duration": 94,
    "start_time": "2023-02-09T07:58:13.350Z"
   },
   {
    "duration": 20,
    "start_time": "2023-02-09T07:58:13.446Z"
   },
   {
    "duration": 16,
    "start_time": "2023-02-09T07:58:13.468Z"
   },
   {
    "duration": 31,
    "start_time": "2023-02-09T07:58:13.486Z"
   },
   {
    "duration": 217,
    "start_time": "2023-02-09T07:58:13.520Z"
   },
   {
    "duration": 8,
    "start_time": "2023-02-09T07:58:13.740Z"
   },
   {
    "duration": 11,
    "start_time": "2023-02-09T07:58:13.750Z"
   },
   {
    "duration": 41,
    "start_time": "2023-02-09T07:58:13.763Z"
   },
   {
    "duration": 6,
    "start_time": "2023-02-09T07:58:13.805Z"
   },
   {
    "duration": 17,
    "start_time": "2023-02-09T07:58:13.813Z"
   },
   {
    "duration": 11,
    "start_time": "2023-02-09T07:58:13.831Z"
   },
   {
    "duration": 23,
    "start_time": "2023-02-09T07:58:13.843Z"
   },
   {
    "duration": 156,
    "start_time": "2023-02-09T07:58:13.868Z"
   },
   {
    "duration": 254,
    "start_time": "2023-02-09T07:58:14.026Z"
   },
   {
    "duration": 473,
    "start_time": "2023-02-09T07:58:14.282Z"
   },
   {
    "duration": 29,
    "start_time": "2023-02-09T07:58:14.757Z"
   },
   {
    "duration": 154,
    "start_time": "2023-02-09T07:58:14.788Z"
   },
   {
    "duration": 10,
    "start_time": "2023-02-09T07:58:14.943Z"
   },
   {
    "duration": 153,
    "start_time": "2023-02-09T07:58:14.955Z"
   },
   {
    "duration": 159,
    "start_time": "2023-02-09T07:58:15.111Z"
   },
   {
    "duration": 186,
    "start_time": "2023-02-09T07:58:15.272Z"
   },
   {
    "duration": 134,
    "start_time": "2023-02-09T07:58:15.460Z"
   },
   {
    "duration": 25,
    "start_time": "2023-02-09T07:58:15.604Z"
   },
   {
    "duration": 15,
    "start_time": "2023-02-09T07:58:15.633Z"
   },
   {
    "duration": 172,
    "start_time": "2023-02-09T07:58:15.650Z"
   },
   {
    "duration": 180,
    "start_time": "2023-02-09T07:58:15.824Z"
   },
   {
    "duration": 209,
    "start_time": "2023-02-09T07:58:16.007Z"
   },
   {
    "duration": 170,
    "start_time": "2023-02-09T07:58:16.217Z"
   },
   {
    "duration": 208,
    "start_time": "2023-02-09T07:58:16.388Z"
   },
   {
    "duration": 287,
    "start_time": "2023-02-09T07:58:16.598Z"
   },
   {
    "duration": 234,
    "start_time": "2023-02-09T07:58:16.887Z"
   },
   {
    "duration": 191,
    "start_time": "2023-02-09T07:58:17.122Z"
   },
   {
    "duration": 203,
    "start_time": "2023-02-09T07:58:17.315Z"
   },
   {
    "duration": 172,
    "start_time": "2023-02-09T07:58:17.520Z"
   },
   {
    "duration": 167,
    "start_time": "2023-02-09T07:58:17.694Z"
   },
   {
    "duration": 341,
    "start_time": "2023-02-09T07:58:17.862Z"
   },
   {
    "duration": 124,
    "start_time": "2023-02-09T07:58:18.205Z"
   },
   {
    "duration": 223,
    "start_time": "2023-02-09T07:58:18.330Z"
   },
   {
    "duration": 13,
    "start_time": "2023-02-09T07:58:18.555Z"
   },
   {
    "duration": 189,
    "start_time": "2023-02-09T07:58:18.569Z"
   },
   {
    "duration": 161,
    "start_time": "2023-02-09T07:58:18.760Z"
   },
   {
    "duration": 223,
    "start_time": "2023-02-09T07:58:18.923Z"
   },
   {
    "duration": 179,
    "start_time": "2023-02-09T07:58:19.148Z"
   },
   {
    "duration": 165,
    "start_time": "2023-02-09T07:58:19.328Z"
   },
   {
    "duration": 38,
    "start_time": "2023-02-09T07:58:19.494Z"
   },
   {
    "duration": 9,
    "start_time": "2023-02-09T07:58:19.535Z"
   },
   {
    "duration": 209,
    "start_time": "2023-02-09T07:58:19.546Z"
   },
   {
    "duration": 15,
    "start_time": "2023-02-09T08:01:03.394Z"
   },
   {
    "duration": 114,
    "start_time": "2023-02-09T08:01:06.903Z"
   },
   {
    "duration": 149,
    "start_time": "2023-02-09T08:01:11.761Z"
   },
   {
    "duration": 26,
    "start_time": "2023-02-09T08:01:14.714Z"
   },
   {
    "duration": 687,
    "start_time": "2023-02-09T08:01:20.399Z"
   },
   {
    "duration": 141,
    "start_time": "2023-02-09T08:01:21.088Z"
   },
   {
    "duration": 15,
    "start_time": "2023-02-09T08:01:21.231Z"
   },
   {
    "duration": 1944,
    "start_time": "2023-02-09T08:01:21.248Z"
   },
   {
    "duration": 85,
    "start_time": "2023-02-09T08:01:23.194Z"
   },
   {
    "duration": 18,
    "start_time": "2023-02-09T08:01:23.282Z"
   },
   {
    "duration": 33,
    "start_time": "2023-02-09T08:01:23.303Z"
   },
   {
    "duration": 22,
    "start_time": "2023-02-09T08:01:23.338Z"
   },
   {
    "duration": 164,
    "start_time": "2023-02-09T08:01:23.362Z"
   },
   {
    "duration": 6,
    "start_time": "2023-02-09T08:01:23.529Z"
   },
   {
    "duration": 29,
    "start_time": "2023-02-09T08:01:23.536Z"
   },
   {
    "duration": 20,
    "start_time": "2023-02-09T08:01:23.566Z"
   },
   {
    "duration": 16,
    "start_time": "2023-02-09T08:01:23.587Z"
   },
   {
    "duration": 23,
    "start_time": "2023-02-09T08:01:23.605Z"
   },
   {
    "duration": 26,
    "start_time": "2023-02-09T08:01:23.630Z"
   },
   {
    "duration": 103,
    "start_time": "2023-02-09T08:01:23.658Z"
   },
   {
    "duration": 221,
    "start_time": "2023-02-09T08:01:23.762Z"
   },
   {
    "duration": 435,
    "start_time": "2023-02-09T08:01:23.985Z"
   },
   {
    "duration": 25,
    "start_time": "2023-02-09T08:01:24.422Z"
   },
   {
    "duration": 129,
    "start_time": "2023-02-09T08:01:24.449Z"
   },
   {
    "duration": 9,
    "start_time": "2023-02-09T08:01:24.580Z"
   },
   {
    "duration": 145,
    "start_time": "2023-02-09T08:01:24.590Z"
   },
   {
    "duration": 123,
    "start_time": "2023-02-09T08:01:24.736Z"
   },
   {
    "duration": 143,
    "start_time": "2023-02-09T08:01:24.861Z"
   },
   {
    "duration": 127,
    "start_time": "2023-02-09T08:01:25.005Z"
   },
   {
    "duration": 24,
    "start_time": "2023-02-09T08:01:25.134Z"
   },
   {
    "duration": 24,
    "start_time": "2023-02-09T08:01:25.160Z"
   },
   {
    "duration": 172,
    "start_time": "2023-02-09T08:01:25.189Z"
   },
   {
    "duration": 158,
    "start_time": "2023-02-09T08:01:25.364Z"
   },
   {
    "duration": 176,
    "start_time": "2023-02-09T08:01:25.524Z"
   },
   {
    "duration": 173,
    "start_time": "2023-02-09T08:01:25.703Z"
   },
   {
    "duration": 206,
    "start_time": "2023-02-09T08:01:25.878Z"
   },
   {
    "duration": 210,
    "start_time": "2023-02-09T08:01:26.085Z"
   },
   {
    "duration": 223,
    "start_time": "2023-02-09T08:01:26.297Z"
   },
   {
    "duration": 219,
    "start_time": "2023-02-09T08:01:26.522Z"
   },
   {
    "duration": 224,
    "start_time": "2023-02-09T08:01:26.743Z"
   },
   {
    "duration": 158,
    "start_time": "2023-02-09T08:01:26.968Z"
   },
   {
    "duration": 122,
    "start_time": "2023-02-09T08:01:27.128Z"
   },
   {
    "duration": 291,
    "start_time": "2023-02-09T08:01:27.252Z"
   },
   {
    "duration": 122,
    "start_time": "2023-02-09T08:01:27.545Z"
   },
   {
    "duration": 231,
    "start_time": "2023-02-09T08:01:27.669Z"
   },
   {
    "duration": 12,
    "start_time": "2023-02-09T08:01:27.903Z"
   },
   {
    "duration": 150,
    "start_time": "2023-02-09T08:01:27.916Z"
   },
   {
    "duration": 155,
    "start_time": "2023-02-09T08:01:28.068Z"
   },
   {
    "duration": 174,
    "start_time": "2023-02-09T08:01:28.225Z"
   },
   {
    "duration": 163,
    "start_time": "2023-02-09T08:01:28.400Z"
   },
   {
    "duration": 159,
    "start_time": "2023-02-09T08:01:28.565Z"
   },
   {
    "duration": 28,
    "start_time": "2023-02-09T08:01:28.725Z"
   },
   {
    "duration": 7,
    "start_time": "2023-02-09T08:01:28.754Z"
   },
   {
    "duration": 173,
    "start_time": "2023-02-09T08:01:28.763Z"
   },
   {
    "duration": 16,
    "start_time": "2023-02-09T08:02:54.831Z"
   },
   {
    "duration": 111,
    "start_time": "2023-02-09T08:02:56.551Z"
   },
   {
    "duration": 26,
    "start_time": "2023-02-09T08:03:13.527Z"
   },
   {
    "duration": 855,
    "start_time": "2023-02-10T14:08:33.754Z"
   },
   {
    "duration": 194,
    "start_time": "2023-02-10T14:08:34.612Z"
   },
   {
    "duration": 16,
    "start_time": "2023-02-10T14:08:34.808Z"
   },
   {
    "duration": 2099,
    "start_time": "2023-02-10T14:08:34.826Z"
   },
   {
    "duration": 77,
    "start_time": "2023-02-10T14:08:36.927Z"
   },
   {
    "duration": 20,
    "start_time": "2023-02-10T14:08:37.006Z"
   },
   {
    "duration": 25,
    "start_time": "2023-02-10T14:08:37.028Z"
   },
   {
    "duration": 14,
    "start_time": "2023-02-10T14:08:37.055Z"
   },
   {
    "duration": 231,
    "start_time": "2023-02-10T14:08:37.071Z"
   },
   {
    "duration": 7,
    "start_time": "2023-02-10T14:08:37.305Z"
   },
   {
    "duration": 10,
    "start_time": "2023-02-10T14:08:37.313Z"
   },
   {
    "duration": 21,
    "start_time": "2023-02-10T14:08:37.339Z"
   },
   {
    "duration": 7,
    "start_time": "2023-02-10T14:08:37.362Z"
   },
   {
    "duration": 13,
    "start_time": "2023-02-10T14:08:37.371Z"
   },
   {
    "duration": 12,
    "start_time": "2023-02-10T14:08:37.386Z"
   },
   {
    "duration": 151,
    "start_time": "2023-02-10T14:08:37.400Z"
   },
   {
    "duration": 16,
    "start_time": "2023-02-10T14:08:37.553Z"
   },
   {
    "duration": 259,
    "start_time": "2023-02-10T14:08:37.571Z"
   },
   {
    "duration": 484,
    "start_time": "2023-02-10T14:08:37.832Z"
   },
   {
    "duration": 34,
    "start_time": "2023-02-10T14:08:38.317Z"
   },
   {
    "duration": 133,
    "start_time": "2023-02-10T14:08:38.352Z"
   },
   {
    "duration": 10,
    "start_time": "2023-02-10T14:08:38.487Z"
   },
   {
    "duration": 150,
    "start_time": "2023-02-10T14:08:38.498Z"
   },
   {
    "duration": 147,
    "start_time": "2023-02-10T14:08:38.650Z"
   },
   {
    "duration": 169,
    "start_time": "2023-02-10T14:08:38.799Z"
   },
   {
    "duration": 153,
    "start_time": "2023-02-10T14:08:38.970Z"
   },
   {
    "duration": 36,
    "start_time": "2023-02-10T14:08:39.126Z"
   },
   {
    "duration": 23,
    "start_time": "2023-02-10T14:08:39.166Z"
   },
   {
    "duration": 175,
    "start_time": "2023-02-10T14:08:39.191Z"
   },
   {
    "duration": 174,
    "start_time": "2023-02-10T14:08:39.368Z"
   },
   {
    "duration": 186,
    "start_time": "2023-02-10T14:08:39.543Z"
   },
   {
    "duration": 175,
    "start_time": "2023-02-10T14:08:39.731Z"
   },
   {
    "duration": 204,
    "start_time": "2023-02-10T14:08:39.908Z"
   },
   {
    "duration": 224,
    "start_time": "2023-02-10T14:08:40.113Z"
   },
   {
    "duration": 224,
    "start_time": "2023-02-10T14:08:40.339Z"
   },
   {
    "duration": 190,
    "start_time": "2023-02-10T14:08:40.564Z"
   },
   {
    "duration": 221,
    "start_time": "2023-02-10T14:08:40.756Z"
   },
   {
    "duration": 200,
    "start_time": "2023-02-10T14:08:40.979Z"
   },
   {
    "duration": 138,
    "start_time": "2023-02-10T14:08:41.181Z"
   },
   {
    "duration": 334,
    "start_time": "2023-02-10T14:08:41.321Z"
   },
   {
    "duration": 156,
    "start_time": "2023-02-10T14:08:41.657Z"
   },
   {
    "duration": 244,
    "start_time": "2023-02-10T14:08:41.815Z"
   },
   {
    "duration": 12,
    "start_time": "2023-02-10T14:08:42.061Z"
   },
   {
    "duration": 203,
    "start_time": "2023-02-10T14:08:42.075Z"
   },
   {
    "duration": 176,
    "start_time": "2023-02-10T14:08:42.280Z"
   },
   {
    "duration": 200,
    "start_time": "2023-02-10T14:08:42.458Z"
   },
   {
    "duration": 194,
    "start_time": "2023-02-10T14:08:42.660Z"
   },
   {
    "duration": 189,
    "start_time": "2023-02-10T14:08:42.857Z"
   },
   {
    "duration": 36,
    "start_time": "2023-02-10T14:08:43.048Z"
   },
   {
    "duration": 9,
    "start_time": "2023-02-10T14:08:43.085Z"
   },
   {
    "duration": 222,
    "start_time": "2023-02-10T14:08:43.096Z"
   },
   {
    "duration": 688,
    "start_time": "2023-02-10T14:11:13.358Z"
   },
   {
    "duration": 125,
    "start_time": "2023-02-10T14:11:14.048Z"
   },
   {
    "duration": 17,
    "start_time": "2023-02-10T14:11:14.175Z"
   },
   {
    "duration": 2083,
    "start_time": "2023-02-10T14:11:14.194Z"
   },
   {
    "duration": 93,
    "start_time": "2023-02-10T14:11:16.280Z"
   },
   {
    "duration": 21,
    "start_time": "2023-02-10T14:11:16.376Z"
   },
   {
    "duration": 59,
    "start_time": "2023-02-10T14:11:16.399Z"
   },
   {
    "duration": 33,
    "start_time": "2023-02-10T14:11:16.460Z"
   },
   {
    "duration": 225,
    "start_time": "2023-02-10T14:11:16.495Z"
   },
   {
    "duration": 7,
    "start_time": "2023-02-10T14:11:16.722Z"
   },
   {
    "duration": 14,
    "start_time": "2023-02-10T14:11:16.731Z"
   },
   {
    "duration": 18,
    "start_time": "2023-02-10T14:11:16.747Z"
   },
   {
    "duration": 6,
    "start_time": "2023-02-10T14:11:16.767Z"
   },
   {
    "duration": 5,
    "start_time": "2023-02-10T14:11:16.775Z"
   },
   {
    "duration": 10,
    "start_time": "2023-02-10T14:11:16.781Z"
   },
   {
    "duration": 138,
    "start_time": "2023-02-10T14:11:16.793Z"
   },
   {
    "duration": 18,
    "start_time": "2023-02-10T14:11:16.933Z"
   },
   {
    "duration": 251,
    "start_time": "2023-02-10T14:11:16.953Z"
   },
   {
    "duration": 462,
    "start_time": "2023-02-10T14:11:17.205Z"
   },
   {
    "duration": 26,
    "start_time": "2023-02-10T14:11:17.669Z"
   },
   {
    "duration": 129,
    "start_time": "2023-02-10T14:11:17.696Z"
   },
   {
    "duration": 19,
    "start_time": "2023-02-10T14:11:17.827Z"
   },
   {
    "duration": 153,
    "start_time": "2023-02-10T14:11:17.848Z"
   },
   {
    "duration": 128,
    "start_time": "2023-02-10T14:11:18.003Z"
   },
   {
    "duration": 178,
    "start_time": "2023-02-10T14:11:18.133Z"
   },
   {
    "duration": 130,
    "start_time": "2023-02-10T14:11:18.313Z"
   },
   {
    "duration": 25,
    "start_time": "2023-02-10T14:11:18.445Z"
   },
   {
    "duration": 22,
    "start_time": "2023-02-10T14:11:18.474Z"
   },
   {
    "duration": 191,
    "start_time": "2023-02-10T14:11:18.498Z"
   },
   {
    "duration": 163,
    "start_time": "2023-02-10T14:11:18.691Z"
   },
   {
    "duration": 216,
    "start_time": "2023-02-10T14:11:18.856Z"
   },
   {
    "duration": 232,
    "start_time": "2023-02-10T14:11:19.074Z"
   },
   {
    "duration": 203,
    "start_time": "2023-02-10T14:11:19.308Z"
   },
   {
    "duration": 204,
    "start_time": "2023-02-10T14:11:19.513Z"
   },
   {
    "duration": 229,
    "start_time": "2023-02-10T14:11:19.719Z"
   },
   {
    "duration": 210,
    "start_time": "2023-02-10T14:11:19.951Z"
   },
   {
    "duration": 219,
    "start_time": "2023-02-10T14:11:20.163Z"
   },
   {
    "duration": 197,
    "start_time": "2023-02-10T14:11:20.385Z"
   },
   {
    "duration": 130,
    "start_time": "2023-02-10T14:11:20.584Z"
   },
   {
    "duration": 333,
    "start_time": "2023-02-10T14:11:20.716Z"
   },
   {
    "duration": 152,
    "start_time": "2023-02-10T14:11:21.052Z"
   },
   {
    "duration": 257,
    "start_time": "2023-02-10T14:11:21.206Z"
   },
   {
    "duration": 13,
    "start_time": "2023-02-10T14:11:21.464Z"
   },
   {
    "duration": 180,
    "start_time": "2023-02-10T14:11:21.479Z"
   },
   {
    "duration": 164,
    "start_time": "2023-02-10T14:11:21.661Z"
   },
   {
    "duration": 195,
    "start_time": "2023-02-10T14:11:21.827Z"
   },
   {
    "duration": 204,
    "start_time": "2023-02-10T14:11:22.024Z"
   },
   {
    "duration": 186,
    "start_time": "2023-02-10T14:11:22.230Z"
   },
   {
    "duration": 38,
    "start_time": "2023-02-10T14:11:22.418Z"
   },
   {
    "duration": 7,
    "start_time": "2023-02-10T14:11:22.458Z"
   },
   {
    "duration": 188,
    "start_time": "2023-02-10T14:11:22.467Z"
   },
   {
    "duration": 18,
    "start_time": "2023-02-10T14:13:49.921Z"
   },
   {
    "duration": 120,
    "start_time": "2023-02-10T14:13:51.643Z"
   },
   {
    "duration": 87,
    "start_time": "2023-02-10T14:16:47.046Z"
   },
   {
    "duration": 88,
    "start_time": "2023-02-10T14:17:39.858Z"
   },
   {
    "duration": 8,
    "start_time": "2023-02-10T14:18:01.085Z"
   },
   {
    "duration": 11,
    "start_time": "2023-02-10T14:18:10.037Z"
   },
   {
    "duration": 5,
    "start_time": "2023-02-10T14:18:18.216Z"
   },
   {
    "duration": 751,
    "start_time": "2023-02-10T14:18:29.225Z"
   },
   {
    "duration": 128,
    "start_time": "2023-02-10T14:18:29.978Z"
   },
   {
    "duration": 18,
    "start_time": "2023-02-10T14:18:30.108Z"
   },
   {
    "duration": 2107,
    "start_time": "2023-02-10T14:18:30.129Z"
   },
   {
    "duration": 76,
    "start_time": "2023-02-10T14:18:32.239Z"
   },
   {
    "duration": 36,
    "start_time": "2023-02-10T14:18:32.317Z"
   },
   {
    "duration": 20,
    "start_time": "2023-02-10T14:18:32.355Z"
   },
   {
    "duration": 15,
    "start_time": "2023-02-10T14:18:32.377Z"
   },
   {
    "duration": 192,
    "start_time": "2023-02-10T14:18:32.394Z"
   },
   {
    "duration": 7,
    "start_time": "2023-02-10T14:18:32.590Z"
   },
   {
    "duration": 15,
    "start_time": "2023-02-10T14:18:32.599Z"
   },
   {
    "duration": 31,
    "start_time": "2023-02-10T14:18:32.616Z"
   },
   {
    "duration": 7,
    "start_time": "2023-02-10T14:18:32.649Z"
   },
   {
    "duration": 36,
    "start_time": "2023-02-10T14:18:32.657Z"
   },
   {
    "duration": 120,
    "start_time": "2023-02-10T14:18:32.695Z"
   },
   {
    "duration": 231,
    "start_time": "2023-02-10T14:18:32.816Z"
   },
   {
    "duration": 9,
    "start_time": "2023-02-10T14:18:33.050Z"
   },
   {
    "duration": 3,
    "start_time": "2023-02-10T14:18:33.061Z"
   },
   {
    "duration": 459,
    "start_time": "2023-02-10T14:18:33.066Z"
   },
   {
    "duration": 30,
    "start_time": "2023-02-10T14:18:33.527Z"
   },
   {
    "duration": 136,
    "start_time": "2023-02-10T14:18:33.559Z"
   },
   {
    "duration": 8,
    "start_time": "2023-02-10T14:18:33.697Z"
   },
   {
    "duration": 149,
    "start_time": "2023-02-10T14:18:33.707Z"
   },
   {
    "duration": 138,
    "start_time": "2023-02-10T14:18:33.858Z"
   },
   {
    "duration": 157,
    "start_time": "2023-02-10T14:18:33.998Z"
   },
   {
    "duration": 130,
    "start_time": "2023-02-10T14:18:34.156Z"
   },
   {
    "duration": 28,
    "start_time": "2023-02-10T14:18:34.288Z"
   },
   {
    "duration": 32,
    "start_time": "2023-02-10T14:18:34.320Z"
   },
   {
    "duration": 166,
    "start_time": "2023-02-10T14:18:34.353Z"
   },
   {
    "duration": 161,
    "start_time": "2023-02-10T14:18:34.521Z"
   },
   {
    "duration": 187,
    "start_time": "2023-02-10T14:18:34.684Z"
   },
   {
    "duration": 183,
    "start_time": "2023-02-10T14:18:34.872Z"
   },
   {
    "duration": 140,
    "start_time": "2023-02-10T14:18:35.056Z"
   },
   {
    "duration": 267,
    "start_time": "2023-02-10T14:18:35.198Z"
   },
   {
    "duration": 214,
    "start_time": "2023-02-10T14:18:35.467Z"
   },
   {
    "duration": 194,
    "start_time": "2023-02-10T14:18:35.683Z"
   },
   {
    "duration": 214,
    "start_time": "2023-02-10T14:18:35.879Z"
   },
   {
    "duration": 177,
    "start_time": "2023-02-10T14:18:36.094Z"
   },
   {
    "duration": 136,
    "start_time": "2023-02-10T14:18:36.273Z"
   },
   {
    "duration": 250,
    "start_time": "2023-02-10T14:18:36.411Z"
   },
   {
    "duration": 221,
    "start_time": "2023-02-10T14:18:36.662Z"
   },
   {
    "duration": 232,
    "start_time": "2023-02-10T14:18:36.885Z"
   },
   {
    "duration": 27,
    "start_time": "2023-02-10T14:18:37.119Z"
   },
   {
    "duration": 162,
    "start_time": "2023-02-10T14:18:37.148Z"
   },
   {
    "duration": 162,
    "start_time": "2023-02-10T14:18:37.311Z"
   },
   {
    "duration": 194,
    "start_time": "2023-02-10T14:18:37.475Z"
   },
   {
    "duration": 183,
    "start_time": "2023-02-10T14:18:37.671Z"
   },
   {
    "duration": 195,
    "start_time": "2023-02-10T14:18:37.856Z"
   },
   {
    "duration": 29,
    "start_time": "2023-02-10T14:18:38.053Z"
   },
   {
    "duration": 8,
    "start_time": "2023-02-10T14:18:38.084Z"
   },
   {
    "duration": 208,
    "start_time": "2023-02-10T14:18:38.093Z"
   },
   {
    "duration": 7,
    "start_time": "2023-02-10T14:20:14.580Z"
   },
   {
    "duration": 8,
    "start_time": "2023-02-10T14:20:18.659Z"
   },
   {
    "duration": 4,
    "start_time": "2023-02-10T14:20:20.051Z"
   },
   {
    "duration": 659,
    "start_time": "2023-02-10T14:20:40.968Z"
   },
   {
    "duration": 125,
    "start_time": "2023-02-10T14:20:41.629Z"
   },
   {
    "duration": 18,
    "start_time": "2023-02-10T14:20:41.756Z"
   },
   {
    "duration": 2216,
    "start_time": "2023-02-10T14:20:41.777Z"
   },
   {
    "duration": 75,
    "start_time": "2023-02-10T14:20:43.994Z"
   },
   {
    "duration": 18,
    "start_time": "2023-02-10T14:20:44.070Z"
   },
   {
    "duration": 15,
    "start_time": "2023-02-10T14:20:44.090Z"
   },
   {
    "duration": 13,
    "start_time": "2023-02-10T14:20:44.107Z"
   },
   {
    "duration": 184,
    "start_time": "2023-02-10T14:20:44.140Z"
   },
   {
    "duration": 13,
    "start_time": "2023-02-10T14:20:44.327Z"
   },
   {
    "duration": 10,
    "start_time": "2023-02-10T14:20:44.341Z"
   },
   {
    "duration": 23,
    "start_time": "2023-02-10T14:20:44.353Z"
   },
   {
    "duration": 7,
    "start_time": "2023-02-10T14:20:44.377Z"
   },
   {
    "duration": 18,
    "start_time": "2023-02-10T14:20:44.386Z"
   },
   {
    "duration": 137,
    "start_time": "2023-02-10T14:20:44.405Z"
   },
   {
    "duration": 241,
    "start_time": "2023-02-10T14:20:44.544Z"
   },
   {
    "duration": 9,
    "start_time": "2023-02-10T14:20:44.786Z"
   },
   {
    "duration": 5,
    "start_time": "2023-02-10T14:20:44.797Z"
   },
   {
    "duration": 463,
    "start_time": "2023-02-10T14:20:44.803Z"
   },
   {
    "duration": 26,
    "start_time": "2023-02-10T14:20:45.268Z"
   },
   {
    "duration": 133,
    "start_time": "2023-02-10T14:20:45.295Z"
   },
   {
    "duration": 12,
    "start_time": "2023-02-10T14:20:45.429Z"
   },
   {
    "duration": 139,
    "start_time": "2023-02-10T14:20:45.443Z"
   },
   {
    "duration": 124,
    "start_time": "2023-02-10T14:20:45.584Z"
   },
   {
    "duration": 165,
    "start_time": "2023-02-10T14:20:45.710Z"
   },
   {
    "duration": 144,
    "start_time": "2023-02-10T14:20:45.877Z"
   },
   {
    "duration": 37,
    "start_time": "2023-02-10T14:20:46.023Z"
   },
   {
    "duration": 17,
    "start_time": "2023-02-10T14:20:46.063Z"
   },
   {
    "duration": 189,
    "start_time": "2023-02-10T14:20:46.082Z"
   },
   {
    "duration": 167,
    "start_time": "2023-02-10T14:20:46.273Z"
   },
   {
    "duration": 193,
    "start_time": "2023-02-10T14:20:46.441Z"
   },
   {
    "duration": 172,
    "start_time": "2023-02-10T14:20:46.637Z"
   },
   {
    "duration": 131,
    "start_time": "2023-02-10T14:20:46.811Z"
   },
   {
    "duration": 282,
    "start_time": "2023-02-10T14:20:46.943Z"
   },
   {
    "duration": 226,
    "start_time": "2023-02-10T14:20:47.227Z"
   },
   {
    "duration": 199,
    "start_time": "2023-02-10T14:20:47.455Z"
   },
   {
    "duration": 228,
    "start_time": "2023-02-10T14:20:47.656Z"
   },
   {
    "duration": 179,
    "start_time": "2023-02-10T14:20:47.886Z"
   },
   {
    "duration": 150,
    "start_time": "2023-02-10T14:20:48.066Z"
   },
   {
    "duration": 270,
    "start_time": "2023-02-10T14:20:48.218Z"
   },
   {
    "duration": 224,
    "start_time": "2023-02-10T14:20:48.490Z"
   },
   {
    "duration": 227,
    "start_time": "2023-02-10T14:20:48.715Z"
   },
   {
    "duration": 12,
    "start_time": "2023-02-10T14:20:48.944Z"
   },
   {
    "duration": 204,
    "start_time": "2023-02-10T14:20:48.958Z"
   },
   {
    "duration": 189,
    "start_time": "2023-02-10T14:20:49.164Z"
   },
   {
    "duration": 187,
    "start_time": "2023-02-10T14:20:49.355Z"
   },
   {
    "duration": 181,
    "start_time": "2023-02-10T14:20:49.544Z"
   },
   {
    "duration": 182,
    "start_time": "2023-02-10T14:20:49.727Z"
   },
   {
    "duration": 35,
    "start_time": "2023-02-10T14:20:49.910Z"
   },
   {
    "duration": 21,
    "start_time": "2023-02-10T14:20:49.947Z"
   },
   {
    "duration": 204,
    "start_time": "2023-02-10T14:20:49.970Z"
   },
   {
    "duration": 4,
    "start_time": "2023-02-10T14:21:09.034Z"
   },
   {
    "duration": 171,
    "start_time": "2023-02-10T14:21:15.379Z"
   },
   {
    "duration": 714,
    "start_time": "2023-02-10T14:21:40.448Z"
   },
   {
    "duration": 125,
    "start_time": "2023-02-10T14:21:41.164Z"
   },
   {
    "duration": 16,
    "start_time": "2023-02-10T14:21:41.291Z"
   },
   {
    "duration": 2036,
    "start_time": "2023-02-10T14:21:41.309Z"
   },
   {
    "duration": 77,
    "start_time": "2023-02-10T14:21:43.346Z"
   },
   {
    "duration": 27,
    "start_time": "2023-02-10T14:21:43.424Z"
   },
   {
    "duration": 16,
    "start_time": "2023-02-10T14:21:43.453Z"
   },
   {
    "duration": 16,
    "start_time": "2023-02-10T14:21:43.471Z"
   },
   {
    "duration": 245,
    "start_time": "2023-02-10T14:21:43.489Z"
   },
   {
    "duration": 8,
    "start_time": "2023-02-10T14:21:43.737Z"
   },
   {
    "duration": 10,
    "start_time": "2023-02-10T14:21:43.747Z"
   },
   {
    "duration": 20,
    "start_time": "2023-02-10T14:21:43.759Z"
   },
   {
    "duration": 8,
    "start_time": "2023-02-10T14:21:43.781Z"
   },
   {
    "duration": 49,
    "start_time": "2023-02-10T14:21:43.791Z"
   },
   {
    "duration": 129,
    "start_time": "2023-02-10T14:21:43.842Z"
   },
   {
    "duration": 239,
    "start_time": "2023-02-10T14:21:43.973Z"
   },
   {
    "duration": 10,
    "start_time": "2023-02-10T14:21:44.214Z"
   },
   {
    "duration": 16,
    "start_time": "2023-02-10T14:21:44.225Z"
   },
   {
    "duration": 157,
    "start_time": "2023-02-10T14:21:44.243Z"
   },
   {
    "duration": 467,
    "start_time": "2023-02-10T14:21:44.402Z"
   },
   {
    "duration": 28,
    "start_time": "2023-02-10T14:21:44.871Z"
   },
   {
    "duration": 143,
    "start_time": "2023-02-10T14:21:44.900Z"
   },
   {
    "duration": 9,
    "start_time": "2023-02-10T14:21:45.045Z"
   },
   {
    "duration": 153,
    "start_time": "2023-02-10T14:21:45.056Z"
   },
   {
    "duration": 133,
    "start_time": "2023-02-10T14:21:45.210Z"
   },
   {
    "duration": 156,
    "start_time": "2023-02-10T14:21:45.344Z"
   },
   {
    "duration": 123,
    "start_time": "2023-02-10T14:21:45.502Z"
   },
   {
    "duration": 38,
    "start_time": "2023-02-10T14:21:45.629Z"
   },
   {
    "duration": 16,
    "start_time": "2023-02-10T14:21:45.669Z"
   },
   {
    "duration": 179,
    "start_time": "2023-02-10T14:21:45.686Z"
   },
   {
    "duration": 160,
    "start_time": "2023-02-10T14:21:45.866Z"
   },
   {
    "duration": 175,
    "start_time": "2023-02-10T14:21:46.028Z"
   },
   {
    "duration": 255,
    "start_time": "2023-02-10T14:21:46.205Z"
   },
   {
    "duration": 143,
    "start_time": "2023-02-10T14:21:46.462Z"
   },
   {
    "duration": 226,
    "start_time": "2023-02-10T14:21:46.607Z"
   },
   {
    "duration": 213,
    "start_time": "2023-02-10T14:21:46.840Z"
   },
   {
    "duration": 197,
    "start_time": "2023-02-10T14:21:47.055Z"
   },
   {
    "duration": 208,
    "start_time": "2023-02-10T14:21:47.254Z"
   },
   {
    "duration": 185,
    "start_time": "2023-02-10T14:21:47.464Z"
   },
   {
    "duration": 220,
    "start_time": "2023-02-10T14:21:47.651Z"
   },
   {
    "duration": 263,
    "start_time": "2023-02-10T14:21:47.873Z"
   },
   {
    "duration": 162,
    "start_time": "2023-02-10T14:21:48.140Z"
   },
   {
    "duration": 249,
    "start_time": "2023-02-10T14:21:48.304Z"
   },
   {
    "duration": 13,
    "start_time": "2023-02-10T14:21:48.554Z"
   },
   {
    "duration": 183,
    "start_time": "2023-02-10T14:21:48.569Z"
   },
   {
    "duration": 168,
    "start_time": "2023-02-10T14:21:48.754Z"
   },
   {
    "duration": 193,
    "start_time": "2023-02-10T14:21:48.924Z"
   },
   {
    "duration": 199,
    "start_time": "2023-02-10T14:21:49.119Z"
   },
   {
    "duration": 217,
    "start_time": "2023-02-10T14:21:49.320Z"
   },
   {
    "duration": 35,
    "start_time": "2023-02-10T14:21:49.540Z"
   },
   {
    "duration": 7,
    "start_time": "2023-02-10T14:21:49.577Z"
   },
   {
    "duration": 195,
    "start_time": "2023-02-10T14:21:49.586Z"
   },
   {
    "duration": 11,
    "start_time": "2023-02-10T14:23:07.332Z"
   },
   {
    "duration": 8,
    "start_time": "2023-02-10T14:24:42.488Z"
   },
   {
    "duration": 9,
    "start_time": "2023-02-10T14:26:30.085Z"
   },
   {
    "duration": 239,
    "start_time": "2023-02-10T14:26:30.861Z"
   },
   {
    "duration": 726,
    "start_time": "2023-02-10T14:26:47.261Z"
   },
   {
    "duration": 129,
    "start_time": "2023-02-10T14:26:47.989Z"
   },
   {
    "duration": 30,
    "start_time": "2023-02-10T14:26:48.123Z"
   },
   {
    "duration": 2242,
    "start_time": "2023-02-10T14:26:48.155Z"
   },
   {
    "duration": 86,
    "start_time": "2023-02-10T14:26:50.399Z"
   },
   {
    "duration": 19,
    "start_time": "2023-02-10T14:26:50.487Z"
   },
   {
    "duration": 32,
    "start_time": "2023-02-10T14:26:50.508Z"
   },
   {
    "duration": 14,
    "start_time": "2023-02-10T14:26:50.542Z"
   },
   {
    "duration": 206,
    "start_time": "2023-02-10T14:26:50.560Z"
   },
   {
    "duration": 9,
    "start_time": "2023-02-10T14:26:50.768Z"
   },
   {
    "duration": 11,
    "start_time": "2023-02-10T14:26:50.779Z"
   },
   {
    "duration": 20,
    "start_time": "2023-02-10T14:26:50.792Z"
   },
   {
    "duration": 32,
    "start_time": "2023-02-10T14:26:50.814Z"
   },
   {
    "duration": 34,
    "start_time": "2023-02-10T14:26:50.848Z"
   },
   {
    "duration": 126,
    "start_time": "2023-02-10T14:26:50.883Z"
   },
   {
    "duration": 252,
    "start_time": "2023-02-10T14:26:51.011Z"
   },
   {
    "duration": 9,
    "start_time": "2023-02-10T14:26:51.264Z"
   },
   {
    "duration": 12,
    "start_time": "2023-02-10T14:26:51.275Z"
   },
   {
    "duration": 13,
    "start_time": "2023-02-10T14:26:51.288Z"
   },
   {
    "duration": 186,
    "start_time": "2023-02-10T14:26:51.303Z"
   },
   {
    "duration": 98,
    "start_time": "2023-02-10T14:26:51.490Z"
   },
   {
    "duration": 0,
    "start_time": "2023-02-10T14:26:51.591Z"
   },
   {
    "duration": 1,
    "start_time": "2023-02-10T14:26:51.592Z"
   },
   {
    "duration": 0,
    "start_time": "2023-02-10T14:26:51.594Z"
   },
   {
    "duration": 0,
    "start_time": "2023-02-10T14:26:51.595Z"
   },
   {
    "duration": 0,
    "start_time": "2023-02-10T14:26:51.597Z"
   },
   {
    "duration": 0,
    "start_time": "2023-02-10T14:26:51.598Z"
   },
   {
    "duration": 0,
    "start_time": "2023-02-10T14:26:51.599Z"
   },
   {
    "duration": 0,
    "start_time": "2023-02-10T14:26:51.601Z"
   },
   {
    "duration": 0,
    "start_time": "2023-02-10T14:26:51.602Z"
   },
   {
    "duration": 0,
    "start_time": "2023-02-10T14:26:51.604Z"
   },
   {
    "duration": 0,
    "start_time": "2023-02-10T14:26:51.605Z"
   },
   {
    "duration": 0,
    "start_time": "2023-02-10T14:26:51.607Z"
   },
   {
    "duration": 0,
    "start_time": "2023-02-10T14:26:51.608Z"
   },
   {
    "duration": 0,
    "start_time": "2023-02-10T14:26:51.609Z"
   },
   {
    "duration": 0,
    "start_time": "2023-02-10T14:26:51.610Z"
   },
   {
    "duration": 0,
    "start_time": "2023-02-10T14:26:51.640Z"
   },
   {
    "duration": 0,
    "start_time": "2023-02-10T14:26:51.642Z"
   },
   {
    "duration": 0,
    "start_time": "2023-02-10T14:26:51.643Z"
   },
   {
    "duration": 0,
    "start_time": "2023-02-10T14:26:51.644Z"
   },
   {
    "duration": 0,
    "start_time": "2023-02-10T14:26:51.645Z"
   },
   {
    "duration": 0,
    "start_time": "2023-02-10T14:26:51.646Z"
   },
   {
    "duration": 0,
    "start_time": "2023-02-10T14:26:51.648Z"
   },
   {
    "duration": 0,
    "start_time": "2023-02-10T14:26:51.649Z"
   },
   {
    "duration": 0,
    "start_time": "2023-02-10T14:26:51.650Z"
   },
   {
    "duration": 0,
    "start_time": "2023-02-10T14:26:51.651Z"
   },
   {
    "duration": 0,
    "start_time": "2023-02-10T14:26:51.653Z"
   },
   {
    "duration": 0,
    "start_time": "2023-02-10T14:26:51.653Z"
   },
   {
    "duration": 0,
    "start_time": "2023-02-10T14:26:51.655Z"
   },
   {
    "duration": 0,
    "start_time": "2023-02-10T14:26:51.656Z"
   },
   {
    "duration": 0,
    "start_time": "2023-02-10T14:26:51.657Z"
   },
   {
    "duration": 0,
    "start_time": "2023-02-10T14:26:51.659Z"
   },
   {
    "duration": 0,
    "start_time": "2023-02-10T14:26:51.661Z"
   },
   {
    "duration": 15,
    "start_time": "2023-02-10T14:27:50.275Z"
   },
   {
    "duration": 172,
    "start_time": "2023-02-10T14:27:51.260Z"
   },
   {
    "duration": 479,
    "start_time": "2023-02-10T14:27:56.644Z"
   },
   {
    "duration": 33,
    "start_time": "2023-02-10T14:27:58.883Z"
   },
   {
    "duration": 135,
    "start_time": "2023-02-10T14:28:16.491Z"
   },
   {
    "duration": 10,
    "start_time": "2023-02-10T14:28:22.970Z"
   },
   {
    "duration": 129,
    "start_time": "2023-02-10T14:29:01.948Z"
   },
   {
    "duration": 140,
    "start_time": "2023-02-10T14:29:20.034Z"
   },
   {
    "duration": 127,
    "start_time": "2023-02-10T14:29:59.193Z"
   },
   {
    "duration": 165,
    "start_time": "2023-02-10T14:30:19.304Z"
   },
   {
    "duration": 130,
    "start_time": "2023-02-10T14:30:32.913Z"
   },
   {
    "duration": 24,
    "start_time": "2023-02-10T14:30:42.537Z"
   },
   {
    "duration": 17,
    "start_time": "2023-02-10T14:30:55.425Z"
   },
   {
    "duration": 157,
    "start_time": "2023-02-10T14:31:13.192Z"
   },
   {
    "duration": 156,
    "start_time": "2023-02-10T14:31:29.720Z"
   },
   {
    "duration": 219,
    "start_time": "2023-02-10T14:31:48.535Z"
   },
   {
    "duration": 9,
    "start_time": "2023-02-10T14:31:50.728Z"
   },
   {
    "duration": 145,
    "start_time": "2023-02-10T14:32:15.670Z"
   },
   {
    "duration": 111,
    "start_time": "2023-02-10T14:32:17.581Z"
   },
   {
    "duration": 10,
    "start_time": "2023-02-10T14:32:22.622Z"
   },
   {
    "duration": 154,
    "start_time": "2023-02-10T14:32:27.717Z"
   },
   {
    "duration": 139,
    "start_time": "2023-02-10T14:33:04.078Z"
   },
   {
    "duration": 182,
    "start_time": "2023-02-10T14:33:52.540Z"
   },
   {
    "duration": 134,
    "start_time": "2023-02-10T14:33:58.283Z"
   },
   {
    "duration": 135,
    "start_time": "2023-02-10T14:34:07.317Z"
   },
   {
    "duration": 9,
    "start_time": "2023-02-10T14:34:12.516Z"
   },
   {
    "duration": 142,
    "start_time": "2023-02-10T14:34:16.268Z"
   },
   {
    "duration": 151,
    "start_time": "2023-02-10T14:34:26.929Z"
   },
   {
    "duration": 182,
    "start_time": "2023-02-10T14:34:34.201Z"
   },
   {
    "duration": 1160,
    "start_time": "2023-02-11T10:57:55.279Z"
   },
   {
    "duration": 573,
    "start_time": "2023-02-11T10:57:56.441Z"
   },
   {
    "duration": 24,
    "start_time": "2023-02-11T10:57:57.016Z"
   },
   {
    "duration": 2391,
    "start_time": "2023-02-11T10:57:57.043Z"
   },
   {
    "duration": 115,
    "start_time": "2023-02-11T10:57:59.437Z"
   },
   {
    "duration": 23,
    "start_time": "2023-02-11T10:57:59.555Z"
   },
   {
    "duration": 124,
    "start_time": "2023-02-11T10:57:59.580Z"
   },
   {
    "duration": 45,
    "start_time": "2023-02-11T10:57:59.716Z"
   },
   {
    "duration": 335,
    "start_time": "2023-02-11T10:57:59.763Z"
   },
   {
    "duration": 12,
    "start_time": "2023-02-11T10:58:00.104Z"
   },
   {
    "duration": 114,
    "start_time": "2023-02-11T10:58:00.122Z"
   },
   {
    "duration": 120,
    "start_time": "2023-02-11T10:58:00.240Z"
   },
   {
    "duration": 57,
    "start_time": "2023-02-11T10:58:00.363Z"
   },
   {
    "duration": 34,
    "start_time": "2023-02-11T10:58:00.424Z"
   },
   {
    "duration": 189,
    "start_time": "2023-02-11T10:58:00.460Z"
   },
   {
    "duration": 462,
    "start_time": "2023-02-11T10:58:00.651Z"
   },
   {
    "duration": 8,
    "start_time": "2023-02-11T10:58:01.115Z"
   },
   {
    "duration": 4,
    "start_time": "2023-02-11T10:58:01.125Z"
   },
   {
    "duration": 17,
    "start_time": "2023-02-11T10:58:01.130Z"
   },
   {
    "duration": 280,
    "start_time": "2023-02-11T10:58:01.148Z"
   },
   {
    "duration": 599,
    "start_time": "2023-02-11T10:58:01.430Z"
   },
   {
    "duration": 34,
    "start_time": "2023-02-11T10:58:02.032Z"
   },
   {
    "duration": 192,
    "start_time": "2023-02-11T10:58:02.075Z"
   },
   {
    "duration": 11,
    "start_time": "2023-02-11T10:58:02.269Z"
   },
   {
    "duration": 215,
    "start_time": "2023-02-11T10:58:02.283Z"
   },
   {
    "duration": 166,
    "start_time": "2023-02-11T10:58:02.500Z"
   },
   {
    "duration": 177,
    "start_time": "2023-02-11T10:58:02.676Z"
   },
   {
    "duration": 166,
    "start_time": "2023-02-11T10:58:02.856Z"
   },
   {
    "duration": 33,
    "start_time": "2023-02-11T10:58:03.031Z"
   },
   {
    "duration": 72,
    "start_time": "2023-02-11T10:58:03.065Z"
   },
   {
    "duration": 199,
    "start_time": "2023-02-11T10:58:03.140Z"
   },
   {
    "duration": 143,
    "start_time": "2023-02-11T10:58:03.341Z"
   },
   {
    "duration": 11,
    "start_time": "2023-02-11T10:58:03.486Z"
   },
   {
    "duration": 213,
    "start_time": "2023-02-11T10:58:03.499Z"
   },
   {
    "duration": 203,
    "start_time": "2023-02-11T10:58:03.714Z"
   },
   {
    "duration": 293,
    "start_time": "2023-02-11T10:58:03.921Z"
   },
   {
    "duration": 152,
    "start_time": "2023-02-11T10:58:04.219Z"
   },
   {
    "duration": 297,
    "start_time": "2023-02-11T10:58:04.376Z"
   },
   {
    "duration": 283,
    "start_time": "2023-02-11T10:58:04.675Z"
   },
   {
    "duration": 268,
    "start_time": "2023-02-11T10:58:04.960Z"
   },
   {
    "duration": 424,
    "start_time": "2023-02-11T10:58:05.234Z"
   },
   {
    "duration": 294,
    "start_time": "2023-02-11T10:58:05.661Z"
   },
   {
    "duration": 302,
    "start_time": "2023-02-11T10:58:05.959Z"
   },
   {
    "duration": 349,
    "start_time": "2023-02-11T10:58:06.263Z"
   },
   {
    "duration": 190,
    "start_time": "2023-02-11T10:58:06.617Z"
   },
   {
    "duration": 302,
    "start_time": "2023-02-11T10:58:06.815Z"
   },
   {
    "duration": 13,
    "start_time": "2023-02-11T10:58:07.120Z"
   },
   {
    "duration": 262,
    "start_time": "2023-02-11T10:58:07.135Z"
   },
   {
    "duration": 222,
    "start_time": "2023-02-11T10:58:07.399Z"
   },
   {
    "duration": 220,
    "start_time": "2023-02-11T10:58:07.623Z"
   },
   {
    "duration": 193,
    "start_time": "2023-02-11T10:58:07.846Z"
   },
   {
    "duration": 195,
    "start_time": "2023-02-11T10:58:08.041Z"
   },
   {
    "duration": 44,
    "start_time": "2023-02-11T10:58:08.238Z"
   },
   {
    "duration": 49,
    "start_time": "2023-02-11T10:58:08.284Z"
   },
   {
    "duration": 318,
    "start_time": "2023-02-11T10:58:08.335Z"
   },
   {
    "duration": 304,
    "start_time": "2023-02-11T11:06:10.606Z"
   },
   {
    "duration": 145,
    "start_time": "2023-02-11T11:06:28.212Z"
   },
   {
    "duration": 138,
    "start_time": "2023-02-11T11:07:05.809Z"
   },
   {
    "duration": 150,
    "start_time": "2023-02-11T11:09:28.342Z"
   },
   {
    "duration": 172,
    "start_time": "2023-02-11T11:09:55.023Z"
   },
   {
    "duration": 127,
    "start_time": "2023-02-11T11:10:01.892Z"
   },
   {
    "duration": 143,
    "start_time": "2023-02-11T11:10:09.535Z"
   },
   {
    "duration": 147,
    "start_time": "2023-02-11T11:11:32.688Z"
   },
   {
    "duration": 129,
    "start_time": "2023-02-11T11:14:32.084Z"
   },
   {
    "duration": 193,
    "start_time": "2023-02-11T11:19:23.697Z"
   },
   {
    "duration": 132,
    "start_time": "2023-02-11T11:19:31.324Z"
   },
   {
    "duration": 209,
    "start_time": "2023-02-11T11:19:37.940Z"
   },
   {
    "duration": 153,
    "start_time": "2023-02-11T11:20:08.036Z"
   },
   {
    "duration": 153,
    "start_time": "2023-02-11T11:20:15.209Z"
   },
   {
    "duration": 123,
    "start_time": "2023-02-11T11:20:25.636Z"
   },
   {
    "duration": 824,
    "start_time": "2023-02-11T11:20:33.496Z"
   },
   {
    "duration": 132,
    "start_time": "2023-02-11T11:20:34.322Z"
   },
   {
    "duration": 28,
    "start_time": "2023-02-11T11:20:34.456Z"
   },
   {
    "duration": 2261,
    "start_time": "2023-02-11T11:20:34.491Z"
   },
   {
    "duration": 98,
    "start_time": "2023-02-11T11:20:36.755Z"
   },
   {
    "duration": 28,
    "start_time": "2023-02-11T11:20:36.855Z"
   },
   {
    "duration": 54,
    "start_time": "2023-02-11T11:20:36.887Z"
   },
   {
    "duration": 71,
    "start_time": "2023-02-11T11:20:36.943Z"
   },
   {
    "duration": 223,
    "start_time": "2023-02-11T11:20:37.016Z"
   },
   {
    "duration": 6,
    "start_time": "2023-02-11T11:20:37.243Z"
   },
   {
    "duration": 60,
    "start_time": "2023-02-11T11:20:37.251Z"
   },
   {
    "duration": 18,
    "start_time": "2023-02-11T11:20:37.313Z"
   },
   {
    "duration": 18,
    "start_time": "2023-02-11T11:20:37.333Z"
   },
   {
    "duration": 63,
    "start_time": "2023-02-11T11:20:37.353Z"
   },
   {
    "duration": 163,
    "start_time": "2023-02-11T11:20:37.418Z"
   },
   {
    "duration": 255,
    "start_time": "2023-02-11T11:20:37.582Z"
   },
   {
    "duration": 11,
    "start_time": "2023-02-11T11:20:37.839Z"
   },
   {
    "duration": 22,
    "start_time": "2023-02-11T11:20:37.852Z"
   },
   {
    "duration": 44,
    "start_time": "2023-02-11T11:20:37.880Z"
   },
   {
    "duration": 202,
    "start_time": "2023-02-11T11:20:37.926Z"
   },
   {
    "duration": 509,
    "start_time": "2023-02-11T11:20:38.130Z"
   },
   {
    "duration": 37,
    "start_time": "2023-02-11T11:20:38.640Z"
   },
   {
    "duration": 213,
    "start_time": "2023-02-11T11:20:38.684Z"
   },
   {
    "duration": 11,
    "start_time": "2023-02-11T11:20:38.904Z"
   },
   {
    "duration": 198,
    "start_time": "2023-02-11T11:20:38.916Z"
   },
   {
    "duration": 182,
    "start_time": "2023-02-11T11:20:39.117Z"
   },
   {
    "duration": 164,
    "start_time": "2023-02-11T11:20:39.301Z"
   },
   {
    "duration": 142,
    "start_time": "2023-02-11T11:20:39.469Z"
   },
   {
    "duration": 21,
    "start_time": "2023-02-11T11:20:39.612Z"
   },
   {
    "duration": 44,
    "start_time": "2023-02-11T11:20:39.635Z"
   },
   {
    "duration": 181,
    "start_time": "2023-02-11T11:20:39.689Z"
   },
   {
    "duration": 115,
    "start_time": "2023-02-11T11:20:39.875Z"
   },
   {
    "duration": 16,
    "start_time": "2023-02-11T11:20:39.992Z"
   },
   {
    "duration": 141,
    "start_time": "2023-02-11T11:20:40.010Z"
   },
   {
    "duration": 180,
    "start_time": "2023-02-11T11:20:40.153Z"
   },
   {
    "duration": 274,
    "start_time": "2023-02-11T11:20:40.335Z"
   },
   {
    "duration": 178,
    "start_time": "2023-02-11T11:20:40.611Z"
   },
   {
    "duration": 275,
    "start_time": "2023-02-11T11:20:40.791Z"
   },
   {
    "duration": 265,
    "start_time": "2023-02-11T11:20:41.068Z"
   },
   {
    "duration": 206,
    "start_time": "2023-02-11T11:20:41.335Z"
   },
   {
    "duration": 241,
    "start_time": "2023-02-11T11:20:41.543Z"
   },
   {
    "duration": 202,
    "start_time": "2023-02-11T11:20:41.786Z"
   },
   {
    "duration": 220,
    "start_time": "2023-02-11T11:20:41.990Z"
   },
   {
    "duration": 254,
    "start_time": "2023-02-11T11:20:42.214Z"
   },
   {
    "duration": 137,
    "start_time": "2023-02-11T11:20:42.473Z"
   },
   {
    "duration": 233,
    "start_time": "2023-02-11T11:20:42.613Z"
   },
   {
    "duration": 31,
    "start_time": "2023-02-11T11:20:42.848Z"
   },
   {
    "duration": 222,
    "start_time": "2023-02-11T11:20:42.884Z"
   },
   {
    "duration": 236,
    "start_time": "2023-02-11T11:20:43.108Z"
   },
   {
    "duration": 194,
    "start_time": "2023-02-11T11:20:43.345Z"
   },
   {
    "duration": 211,
    "start_time": "2023-02-11T11:20:43.542Z"
   },
   {
    "duration": 187,
    "start_time": "2023-02-11T11:20:43.755Z"
   },
   {
    "duration": 48,
    "start_time": "2023-02-11T11:20:43.944Z"
   },
   {
    "duration": 22,
    "start_time": "2023-02-11T11:20:43.998Z"
   },
   {
    "duration": 192,
    "start_time": "2023-02-11T11:20:44.021Z"
   },
   {
    "duration": 246,
    "start_time": "2023-02-11T11:21:46.823Z"
   },
   {
    "duration": 409,
    "start_time": "2023-02-11T11:21:58.204Z"
   },
   {
    "duration": 299,
    "start_time": "2023-02-11T11:22:12.119Z"
   },
   {
    "duration": 139,
    "start_time": "2023-02-11T11:22:24.686Z"
   },
   {
    "duration": 175,
    "start_time": "2023-02-11T11:22:40.230Z"
   },
   {
    "duration": 138,
    "start_time": "2023-02-11T11:22:49.118Z"
   },
   {
    "duration": 127,
    "start_time": "2023-02-11T11:22:53.007Z"
   },
   {
    "duration": 190,
    "start_time": "2023-02-11T11:22:58.532Z"
   },
   {
    "duration": 231,
    "start_time": "2023-02-11T11:23:03.199Z"
   },
   {
    "duration": 236,
    "start_time": "2023-02-11T11:23:13.002Z"
   },
   {
    "duration": 177,
    "start_time": "2023-02-11T11:23:21.968Z"
   },
   {
    "duration": 41,
    "start_time": "2023-02-11T11:24:06.691Z"
   },
   {
    "duration": 37,
    "start_time": "2023-02-11T11:24:13.528Z"
   },
   {
    "duration": 58,
    "start_time": "2023-02-11T11:24:25.571Z"
   },
   {
    "duration": 36,
    "start_time": "2023-02-11T11:24:30.161Z"
   },
   {
    "duration": 40,
    "start_time": "2023-02-11T11:24:39.291Z"
   },
   {
    "duration": 855,
    "start_time": "2023-02-11T11:24:47.023Z"
   },
   {
    "duration": 193,
    "start_time": "2023-02-11T11:24:47.883Z"
   },
   {
    "duration": 31,
    "start_time": "2023-02-11T11:24:48.081Z"
   },
   {
    "duration": 2897,
    "start_time": "2023-02-11T11:24:48.120Z"
   },
   {
    "duration": 129,
    "start_time": "2023-02-11T11:24:51.019Z"
   },
   {
    "duration": 35,
    "start_time": "2023-02-11T11:24:51.151Z"
   },
   {
    "duration": 48,
    "start_time": "2023-02-11T11:24:51.198Z"
   },
   {
    "duration": 31,
    "start_time": "2023-02-11T11:24:51.248Z"
   },
   {
    "duration": 365,
    "start_time": "2023-02-11T11:24:51.286Z"
   },
   {
    "duration": 15,
    "start_time": "2023-02-11T11:24:51.657Z"
   },
   {
    "duration": 62,
    "start_time": "2023-02-11T11:24:51.674Z"
   },
   {
    "duration": 27,
    "start_time": "2023-02-11T11:24:51.739Z"
   },
   {
    "duration": 6,
    "start_time": "2023-02-11T11:24:51.768Z"
   },
   {
    "duration": 73,
    "start_time": "2023-02-11T11:24:51.778Z"
   },
   {
    "duration": 170,
    "start_time": "2023-02-11T11:24:51.853Z"
   },
   {
    "duration": 392,
    "start_time": "2023-02-11T11:24:52.032Z"
   },
   {
    "duration": 74,
    "start_time": "2023-02-11T11:24:52.426Z"
   },
   {
    "duration": 125,
    "start_time": "2023-02-11T11:24:52.503Z"
   },
   {
    "duration": 45,
    "start_time": "2023-02-11T11:24:52.631Z"
   },
   {
    "duration": 402,
    "start_time": "2023-02-11T11:24:52.679Z"
   },
   {
    "duration": 747,
    "start_time": "2023-02-11T11:24:53.094Z"
   },
   {
    "duration": 57,
    "start_time": "2023-02-11T11:24:53.845Z"
   },
   {
    "duration": 198,
    "start_time": "2023-02-11T11:24:53.905Z"
   },
   {
    "duration": 19,
    "start_time": "2023-02-11T11:24:54.106Z"
   },
   {
    "duration": 244,
    "start_time": "2023-02-11T11:24:54.131Z"
   },
   {
    "duration": 220,
    "start_time": "2023-02-11T11:24:54.381Z"
   },
   {
    "duration": 230,
    "start_time": "2023-02-11T11:24:54.607Z"
   },
   {
    "duration": 255,
    "start_time": "2023-02-11T11:24:54.852Z"
   },
   {
    "duration": 55,
    "start_time": "2023-02-11T11:24:55.116Z"
   },
   {
    "duration": 110,
    "start_time": "2023-02-11T11:24:55.177Z"
   },
   {
    "duration": 301,
    "start_time": "2023-02-11T11:24:55.297Z"
   },
   {
    "duration": 192,
    "start_time": "2023-02-11T11:24:55.603Z"
   },
   {
    "duration": 15,
    "start_time": "2023-02-11T11:24:55.802Z"
   },
   {
    "duration": 205,
    "start_time": "2023-02-11T11:24:55.824Z"
   },
   {
    "duration": 249,
    "start_time": "2023-02-11T11:24:56.034Z"
   },
   {
    "duration": 371,
    "start_time": "2023-02-11T11:24:56.287Z"
   },
   {
    "duration": 197,
    "start_time": "2023-02-11T11:24:56.662Z"
   },
   {
    "duration": 390,
    "start_time": "2023-02-11T11:24:56.869Z"
   },
   {
    "duration": 325,
    "start_time": "2023-02-11T11:24:57.261Z"
   },
   {
    "duration": 316,
    "start_time": "2023-02-11T11:24:57.593Z"
   },
   {
    "duration": 391,
    "start_time": "2023-02-11T11:24:57.915Z"
   },
   {
    "duration": 279,
    "start_time": "2023-02-11T11:24:58.316Z"
   },
   {
    "duration": 283,
    "start_time": "2023-02-11T11:24:58.601Z"
   },
   {
    "duration": 386,
    "start_time": "2023-02-11T11:24:58.891Z"
   },
   {
    "duration": 226,
    "start_time": "2023-02-11T11:24:59.290Z"
   },
   {
    "duration": 344,
    "start_time": "2023-02-11T11:24:59.523Z"
   },
   {
    "duration": 19,
    "start_time": "2023-02-11T11:24:59.869Z"
   },
   {
    "duration": 261,
    "start_time": "2023-02-11T11:24:59.890Z"
   },
   {
    "duration": 247,
    "start_time": "2023-02-11T11:25:00.153Z"
   },
   {
    "duration": 289,
    "start_time": "2023-02-11T11:25:00.403Z"
   },
   {
    "duration": 251,
    "start_time": "2023-02-11T11:25:00.695Z"
   },
   {
    "duration": 316,
    "start_time": "2023-02-11T11:25:00.949Z"
   },
   {
    "duration": 61,
    "start_time": "2023-02-11T11:25:01.268Z"
   },
   {
    "duration": 79,
    "start_time": "2023-02-11T11:25:01.331Z"
   },
   {
    "duration": 329,
    "start_time": "2023-02-11T11:25:01.412Z"
   },
   {
    "duration": 28,
    "start_time": "2023-02-11T11:25:16.185Z"
   },
   {
    "duration": 23,
    "start_time": "2023-02-11T11:25:21.627Z"
   },
   {
    "duration": 22,
    "start_time": "2023-02-11T11:25:36.231Z"
   },
   {
    "duration": 824,
    "start_time": "2023-02-11T11:25:44.748Z"
   },
   {
    "duration": 191,
    "start_time": "2023-02-11T11:25:45.579Z"
   },
   {
    "duration": 28,
    "start_time": "2023-02-11T11:25:45.772Z"
   },
   {
    "duration": 2383,
    "start_time": "2023-02-11T11:25:45.802Z"
   },
   {
    "duration": 79,
    "start_time": "2023-02-11T11:25:48.187Z"
   },
   {
    "duration": 34,
    "start_time": "2023-02-11T11:25:48.272Z"
   },
   {
    "duration": 21,
    "start_time": "2023-02-11T11:25:48.311Z"
   },
   {
    "duration": 13,
    "start_time": "2023-02-11T11:25:48.334Z"
   },
   {
    "duration": 203,
    "start_time": "2023-02-11T11:25:48.349Z"
   },
   {
    "duration": 18,
    "start_time": "2023-02-11T11:25:48.554Z"
   },
   {
    "duration": 21,
    "start_time": "2023-02-11T11:25:48.577Z"
   },
   {
    "duration": 27,
    "start_time": "2023-02-11T11:25:48.605Z"
   },
   {
    "duration": 6,
    "start_time": "2023-02-11T11:25:48.634Z"
   },
   {
    "duration": 28,
    "start_time": "2023-02-11T11:25:48.642Z"
   },
   {
    "duration": 145,
    "start_time": "2023-02-11T11:25:48.684Z"
   },
   {
    "duration": 283,
    "start_time": "2023-02-11T11:25:48.831Z"
   },
   {
    "duration": 9,
    "start_time": "2023-02-11T11:25:49.116Z"
   },
   {
    "duration": 22,
    "start_time": "2023-02-11T11:25:49.127Z"
   },
   {
    "duration": 51,
    "start_time": "2023-02-11T11:25:49.151Z"
   },
   {
    "duration": 180,
    "start_time": "2023-02-11T11:25:49.209Z"
   },
   {
    "duration": 515,
    "start_time": "2023-02-11T11:25:49.390Z"
   },
   {
    "duration": 28,
    "start_time": "2023-02-11T11:25:49.907Z"
   },
   {
    "duration": 152,
    "start_time": "2023-02-11T11:25:49.937Z"
   },
   {
    "duration": 13,
    "start_time": "2023-02-11T11:25:50.099Z"
   },
   {
    "duration": 171,
    "start_time": "2023-02-11T11:25:50.114Z"
   },
   {
    "duration": 157,
    "start_time": "2023-02-11T11:25:50.287Z"
   },
   {
    "duration": 198,
    "start_time": "2023-02-11T11:25:50.447Z"
   },
   {
    "duration": 173,
    "start_time": "2023-02-11T11:25:50.649Z"
   },
   {
    "duration": 48,
    "start_time": "2023-02-11T11:25:50.824Z"
   },
   {
    "duration": 33,
    "start_time": "2023-02-11T11:25:50.873Z"
   },
   {
    "duration": 179,
    "start_time": "2023-02-11T11:25:50.911Z"
   },
   {
    "duration": 130,
    "start_time": "2023-02-11T11:25:51.092Z"
   },
   {
    "duration": 9,
    "start_time": "2023-02-11T11:25:51.223Z"
   },
   {
    "duration": 193,
    "start_time": "2023-02-11T11:25:51.233Z"
   },
   {
    "duration": 183,
    "start_time": "2023-02-11T11:25:51.428Z"
   },
   {
    "duration": 260,
    "start_time": "2023-02-11T11:25:51.613Z"
   },
   {
    "duration": 143,
    "start_time": "2023-02-11T11:25:51.876Z"
   },
   {
    "duration": 210,
    "start_time": "2023-02-11T11:25:52.021Z"
   },
   {
    "duration": 261,
    "start_time": "2023-02-11T11:25:52.233Z"
   },
   {
    "duration": 206,
    "start_time": "2023-02-11T11:25:52.497Z"
   },
   {
    "duration": 216,
    "start_time": "2023-02-11T11:25:52.706Z"
   },
   {
    "duration": 201,
    "start_time": "2023-02-11T11:25:52.924Z"
   },
   {
    "duration": 218,
    "start_time": "2023-02-11T11:25:53.127Z"
   },
   {
    "duration": 264,
    "start_time": "2023-02-11T11:25:53.346Z"
   },
   {
    "duration": 160,
    "start_time": "2023-02-11T11:25:53.612Z"
   },
   {
    "duration": 328,
    "start_time": "2023-02-11T11:25:53.779Z"
   },
   {
    "duration": 15,
    "start_time": "2023-02-11T11:25:54.110Z"
   },
   {
    "duration": 183,
    "start_time": "2023-02-11T11:25:54.127Z"
   },
   {
    "duration": 182,
    "start_time": "2023-02-11T11:25:54.312Z"
   },
   {
    "duration": 202,
    "start_time": "2023-02-11T11:25:54.504Z"
   },
   {
    "duration": 211,
    "start_time": "2023-02-11T11:25:54.710Z"
   },
   {
    "duration": 222,
    "start_time": "2023-02-11T11:25:54.923Z"
   },
   {
    "duration": 51,
    "start_time": "2023-02-11T11:25:55.148Z"
   },
   {
    "duration": 50,
    "start_time": "2023-02-11T11:25:55.201Z"
   },
   {
    "duration": 319,
    "start_time": "2023-02-11T11:25:55.254Z"
   },
   {
    "duration": 328,
    "start_time": "2023-02-11T11:26:32.509Z"
   },
   {
    "duration": 129,
    "start_time": "2023-02-11T11:26:48.785Z"
   },
   {
    "duration": 32,
    "start_time": "2023-02-11T11:27:01.424Z"
   },
   {
    "duration": 174,
    "start_time": "2023-02-11T11:27:09.903Z"
   },
   {
    "duration": 184,
    "start_time": "2023-02-11T11:27:49.211Z"
   },
   {
    "duration": 27,
    "start_time": "2023-02-11T11:27:52.815Z"
   },
   {
    "duration": 216,
    "start_time": "2023-02-11T11:27:55.481Z"
   },
   {
    "duration": 16,
    "start_time": "2023-02-11T11:28:34.495Z"
   },
   {
    "duration": 903,
    "start_time": "2023-02-11T11:28:56.154Z"
   },
   {
    "duration": 172,
    "start_time": "2023-02-11T11:28:57.060Z"
   },
   {
    "duration": 23,
    "start_time": "2023-02-11T11:28:57.234Z"
   },
   {
    "duration": 2713,
    "start_time": "2023-02-11T11:28:57.272Z"
   },
   {
    "duration": 137,
    "start_time": "2023-02-11T11:29:00.000Z"
   },
   {
    "duration": 29,
    "start_time": "2023-02-11T11:29:00.140Z"
   },
   {
    "duration": 49,
    "start_time": "2023-02-11T11:29:00.174Z"
   },
   {
    "duration": 58,
    "start_time": "2023-02-11T11:29:00.227Z"
   },
   {
    "duration": 383,
    "start_time": "2023-02-11T11:29:00.288Z"
   },
   {
    "duration": 12,
    "start_time": "2023-02-11T11:29:00.681Z"
   },
   {
    "duration": 54,
    "start_time": "2023-02-11T11:29:00.700Z"
   },
   {
    "duration": 93,
    "start_time": "2023-02-11T11:29:00.757Z"
   },
   {
    "duration": 12,
    "start_time": "2023-02-11T11:29:00.852Z"
   },
   {
    "duration": 77,
    "start_time": "2023-02-11T11:29:00.866Z"
   },
   {
    "duration": 190,
    "start_time": "2023-02-11T11:29:00.946Z"
   },
   {
    "duration": 393,
    "start_time": "2023-02-11T11:29:01.139Z"
   },
   {
    "duration": 11,
    "start_time": "2023-02-11T11:29:01.538Z"
   },
   {
    "duration": 55,
    "start_time": "2023-02-11T11:29:01.551Z"
   },
   {
    "duration": 74,
    "start_time": "2023-02-11T11:29:01.609Z"
   },
   {
    "duration": 288,
    "start_time": "2023-02-11T11:29:01.689Z"
   },
   {
    "duration": 709,
    "start_time": "2023-02-11T11:29:01.979Z"
   },
   {
    "duration": 52,
    "start_time": "2023-02-11T11:29:02.694Z"
   },
   {
    "duration": 167,
    "start_time": "2023-02-11T11:29:02.750Z"
   },
   {
    "duration": 17,
    "start_time": "2023-02-11T11:29:02.922Z"
   },
   {
    "duration": 196,
    "start_time": "2023-02-11T11:29:02.940Z"
   },
   {
    "duration": 195,
    "start_time": "2023-02-11T11:29:03.141Z"
   },
   {
    "duration": 309,
    "start_time": "2023-02-11T11:29:03.338Z"
   },
   {
    "duration": 208,
    "start_time": "2023-02-11T11:29:03.652Z"
   },
   {
    "duration": 35,
    "start_time": "2023-02-11T11:29:03.863Z"
   },
   {
    "duration": 41,
    "start_time": "2023-02-11T11:29:03.900Z"
   },
   {
    "duration": 179,
    "start_time": "2023-02-11T11:29:03.946Z"
   },
   {
    "duration": 130,
    "start_time": "2023-02-11T11:29:04.127Z"
   },
   {
    "duration": 14,
    "start_time": "2023-02-11T11:29:04.260Z"
   },
   {
    "duration": 259,
    "start_time": "2023-02-11T11:29:04.280Z"
   },
   {
    "duration": 240,
    "start_time": "2023-02-11T11:29:04.541Z"
   },
   {
    "duration": 428,
    "start_time": "2023-02-11T11:29:04.784Z"
   },
   {
    "duration": 229,
    "start_time": "2023-02-11T11:29:05.214Z"
   },
   {
    "duration": 361,
    "start_time": "2023-02-11T11:29:05.446Z"
   },
   {
    "duration": 334,
    "start_time": "2023-02-11T11:29:05.809Z"
   },
   {
    "duration": 340,
    "start_time": "2023-02-11T11:29:06.150Z"
   },
   {
    "duration": 366,
    "start_time": "2023-02-11T11:29:06.495Z"
   },
   {
    "duration": 277,
    "start_time": "2023-02-11T11:29:06.867Z"
   },
   {
    "duration": 359,
    "start_time": "2023-02-11T11:29:07.151Z"
   },
   {
    "duration": 401,
    "start_time": "2023-02-11T11:29:07.520Z"
   },
   {
    "duration": 203,
    "start_time": "2023-02-11T11:29:07.927Z"
   },
   {
    "duration": 358,
    "start_time": "2023-02-11T11:29:08.134Z"
   },
   {
    "duration": 20,
    "start_time": "2023-02-11T11:29:08.500Z"
   },
   {
    "duration": 313,
    "start_time": "2023-02-11T11:29:08.527Z"
   },
   {
    "duration": 263,
    "start_time": "2023-02-11T11:29:08.841Z"
   },
   {
    "duration": 270,
    "start_time": "2023-02-11T11:29:09.106Z"
   },
   {
    "duration": 246,
    "start_time": "2023-02-11T11:29:09.385Z"
   },
   {
    "duration": 252,
    "start_time": "2023-02-11T11:29:09.637Z"
   },
   {
    "duration": 46,
    "start_time": "2023-02-11T11:29:09.897Z"
   },
   {
    "duration": 8,
    "start_time": "2023-02-11T11:29:09.946Z"
   },
   {
    "duration": 278,
    "start_time": "2023-02-11T11:29:09.956Z"
   },
   {
    "duration": 207,
    "start_time": "2023-02-11T11:30:09.204Z"
   },
   {
    "duration": 290,
    "start_time": "2023-02-11T11:31:10.115Z"
   },
   {
    "duration": 201,
    "start_time": "2023-02-11T11:31:19.595Z"
   },
   {
    "duration": 195,
    "start_time": "2023-02-11T11:31:49.298Z"
   },
   {
    "duration": 781,
    "start_time": "2023-02-11T11:31:58.457Z"
   },
   {
    "duration": 152,
    "start_time": "2023-02-11T11:31:59.240Z"
   },
   {
    "duration": 20,
    "start_time": "2023-02-11T11:31:59.394Z"
   },
   {
    "duration": 2366,
    "start_time": "2023-02-11T11:31:59.417Z"
   },
   {
    "duration": 103,
    "start_time": "2023-02-11T11:32:01.784Z"
   },
   {
    "duration": 29,
    "start_time": "2023-02-11T11:32:01.897Z"
   },
   {
    "duration": 37,
    "start_time": "2023-02-11T11:32:01.928Z"
   },
   {
    "duration": 78,
    "start_time": "2023-02-11T11:32:01.973Z"
   },
   {
    "duration": 294,
    "start_time": "2023-02-11T11:32:02.053Z"
   },
   {
    "duration": 7,
    "start_time": "2023-02-11T11:32:02.350Z"
   },
   {
    "duration": 36,
    "start_time": "2023-02-11T11:32:02.359Z"
   },
   {
    "duration": 56,
    "start_time": "2023-02-11T11:32:02.397Z"
   },
   {
    "duration": 9,
    "start_time": "2023-02-11T11:32:02.455Z"
   },
   {
    "duration": 72,
    "start_time": "2023-02-11T11:32:02.466Z"
   },
   {
    "duration": 156,
    "start_time": "2023-02-11T11:32:02.540Z"
   },
   {
    "duration": 272,
    "start_time": "2023-02-11T11:32:02.699Z"
   },
   {
    "duration": 14,
    "start_time": "2023-02-11T11:32:02.978Z"
   },
   {
    "duration": 31,
    "start_time": "2023-02-11T11:32:02.996Z"
   },
   {
    "duration": 23,
    "start_time": "2023-02-11T11:32:03.029Z"
   },
   {
    "duration": 227,
    "start_time": "2023-02-11T11:32:03.054Z"
   },
   {
    "duration": 746,
    "start_time": "2023-02-11T11:32:03.284Z"
   },
   {
    "duration": 25,
    "start_time": "2023-02-11T11:32:04.032Z"
   },
   {
    "duration": 173,
    "start_time": "2023-02-11T11:32:04.058Z"
   },
   {
    "duration": 10,
    "start_time": "2023-02-11T11:32:04.233Z"
   },
   {
    "duration": 222,
    "start_time": "2023-02-11T11:32:04.245Z"
   },
   {
    "duration": 161,
    "start_time": "2023-02-11T11:32:04.469Z"
   },
   {
    "duration": 183,
    "start_time": "2023-02-11T11:32:04.632Z"
   },
   {
    "duration": 161,
    "start_time": "2023-02-11T11:32:04.822Z"
   },
   {
    "duration": 41,
    "start_time": "2023-02-11T11:32:04.984Z"
   },
   {
    "duration": 106,
    "start_time": "2023-02-11T11:32:05.027Z"
   },
   {
    "duration": 291,
    "start_time": "2023-02-11T11:32:05.135Z"
   },
   {
    "duration": 185,
    "start_time": "2023-02-11T11:32:05.432Z"
   },
   {
    "duration": 13,
    "start_time": "2023-02-11T11:32:05.619Z"
   },
   {
    "duration": 286,
    "start_time": "2023-02-11T11:32:05.634Z"
   },
   {
    "duration": 213,
    "start_time": "2023-02-11T11:32:05.923Z"
   },
   {
    "duration": 294,
    "start_time": "2023-02-11T11:32:06.138Z"
   },
   {
    "duration": 164,
    "start_time": "2023-02-11T11:32:06.435Z"
   },
   {
    "duration": 302,
    "start_time": "2023-02-11T11:32:06.601Z"
   },
   {
    "duration": 272,
    "start_time": "2023-02-11T11:32:06.907Z"
   },
   {
    "duration": 256,
    "start_time": "2023-02-11T11:32:07.183Z"
   },
   {
    "duration": 266,
    "start_time": "2023-02-11T11:32:07.441Z"
   },
   {
    "duration": 220,
    "start_time": "2023-02-11T11:32:07.709Z"
   },
   {
    "duration": 232,
    "start_time": "2023-02-11T11:32:07.931Z"
   },
   {
    "duration": 270,
    "start_time": "2023-02-11T11:32:08.166Z"
   },
   {
    "duration": 166,
    "start_time": "2023-02-11T11:32:08.438Z"
   },
   {
    "duration": 245,
    "start_time": "2023-02-11T11:32:08.606Z"
   },
   {
    "duration": 35,
    "start_time": "2023-02-11T11:32:08.853Z"
   },
   {
    "duration": 188,
    "start_time": "2023-02-11T11:32:08.893Z"
   },
   {
    "duration": 207,
    "start_time": "2023-02-11T11:32:09.095Z"
   },
   {
    "duration": 211,
    "start_time": "2023-02-11T11:32:09.304Z"
   },
   {
    "duration": 208,
    "start_time": "2023-02-11T11:32:09.517Z"
   },
   {
    "duration": 178,
    "start_time": "2023-02-11T11:32:09.728Z"
   },
   {
    "duration": 27,
    "start_time": "2023-02-11T11:32:09.910Z"
   },
   {
    "duration": 7,
    "start_time": "2023-02-11T11:32:09.939Z"
   },
   {
    "duration": 209,
    "start_time": "2023-02-11T11:32:09.948Z"
   },
   {
    "duration": 347,
    "start_time": "2023-02-11T11:33:18.867Z"
   },
   {
    "duration": 766,
    "start_time": "2023-02-11T11:33:23.115Z"
   },
   {
    "duration": 176,
    "start_time": "2023-02-11T11:33:23.883Z"
   },
   {
    "duration": 31,
    "start_time": "2023-02-11T11:33:24.061Z"
   },
   {
    "duration": 2740,
    "start_time": "2023-02-11T11:33:24.094Z"
   },
   {
    "duration": 131,
    "start_time": "2023-02-11T11:33:26.837Z"
   },
   {
    "duration": 37,
    "start_time": "2023-02-11T11:33:26.972Z"
   },
   {
    "duration": 70,
    "start_time": "2023-02-11T11:33:27.015Z"
   },
   {
    "duration": 60,
    "start_time": "2023-02-11T11:33:27.092Z"
   },
   {
    "duration": 279,
    "start_time": "2023-02-11T11:33:27.155Z"
   },
   {
    "duration": 7,
    "start_time": "2023-02-11T11:33:27.436Z"
   },
   {
    "duration": 111,
    "start_time": "2023-02-11T11:33:27.445Z"
   },
   {
    "duration": 26,
    "start_time": "2023-02-11T11:33:27.558Z"
   },
   {
    "duration": 53,
    "start_time": "2023-02-11T11:33:27.589Z"
   },
   {
    "duration": 30,
    "start_time": "2023-02-11T11:33:27.646Z"
   },
   {
    "duration": 155,
    "start_time": "2023-02-11T11:33:27.679Z"
   },
   {
    "duration": 299,
    "start_time": "2023-02-11T11:33:27.836Z"
   },
   {
    "duration": 10,
    "start_time": "2023-02-11T11:33:28.137Z"
   },
   {
    "duration": 11,
    "start_time": "2023-02-11T11:33:28.149Z"
   },
   {
    "duration": 64,
    "start_time": "2023-02-11T11:33:28.167Z"
   },
   {
    "duration": 197,
    "start_time": "2023-02-11T11:33:28.233Z"
   },
   {
    "duration": 614,
    "start_time": "2023-02-11T11:33:28.431Z"
   },
   {
    "duration": 42,
    "start_time": "2023-02-11T11:33:29.047Z"
   },
   {
    "duration": 225,
    "start_time": "2023-02-11T11:33:29.091Z"
   },
   {
    "duration": 15,
    "start_time": "2023-02-11T11:33:29.325Z"
   },
   {
    "duration": 182,
    "start_time": "2023-02-11T11:33:29.342Z"
   },
   {
    "duration": 150,
    "start_time": "2023-02-11T11:33:29.539Z"
   },
   {
    "duration": 208,
    "start_time": "2023-02-11T11:33:29.692Z"
   },
   {
    "duration": 139,
    "start_time": "2023-02-11T11:33:29.904Z"
   },
   {
    "duration": 42,
    "start_time": "2023-02-11T11:33:30.046Z"
   },
   {
    "duration": 23,
    "start_time": "2023-02-11T11:33:30.101Z"
   },
   {
    "duration": 206,
    "start_time": "2023-02-11T11:33:30.125Z"
   },
   {
    "duration": 173,
    "start_time": "2023-02-11T11:33:30.333Z"
   },
   {
    "duration": 15,
    "start_time": "2023-02-11T11:33:30.510Z"
   },
   {
    "duration": 230,
    "start_time": "2023-02-11T11:33:30.532Z"
   },
   {
    "duration": 246,
    "start_time": "2023-02-11T11:33:30.774Z"
   },
   {
    "duration": 317,
    "start_time": "2023-02-11T11:33:31.023Z"
   },
   {
    "duration": 175,
    "start_time": "2023-02-11T11:33:31.343Z"
   },
   {
    "duration": 318,
    "start_time": "2023-02-11T11:33:31.521Z"
   },
   {
    "duration": 348,
    "start_time": "2023-02-11T11:33:31.843Z"
   },
   {
    "duration": 286,
    "start_time": "2023-02-11T11:33:32.198Z"
   },
   {
    "duration": 327,
    "start_time": "2023-02-11T11:33:32.494Z"
   },
   {
    "duration": 274,
    "start_time": "2023-02-11T11:33:32.827Z"
   },
   {
    "duration": 453,
    "start_time": "2023-02-11T11:33:33.108Z"
   },
   {
    "duration": 376,
    "start_time": "2023-02-11T11:33:33.564Z"
   },
   {
    "duration": 196,
    "start_time": "2023-02-11T11:33:33.942Z"
   },
   {
    "duration": 443,
    "start_time": "2023-02-11T11:33:34.143Z"
   },
   {
    "duration": 25,
    "start_time": "2023-02-11T11:33:34.596Z"
   },
   {
    "duration": 623,
    "start_time": "2023-02-11T11:33:34.628Z"
   },
   {
    "duration": 229,
    "start_time": "2023-02-11T11:33:35.255Z"
   },
   {
    "duration": 263,
    "start_time": "2023-02-11T11:33:35.486Z"
   },
   {
    "duration": 243,
    "start_time": "2023-02-11T11:33:35.755Z"
   },
   {
    "duration": 356,
    "start_time": "2023-02-11T11:33:36.005Z"
   },
   {
    "duration": 99,
    "start_time": "2023-02-11T11:33:36.364Z"
   },
   {
    "duration": 22,
    "start_time": "2023-02-11T11:33:36.469Z"
   },
   {
    "duration": 361,
    "start_time": "2023-02-11T11:33:36.499Z"
   },
   {
    "duration": 317,
    "start_time": "2023-02-11T11:33:57.214Z"
   },
   {
    "duration": 983,
    "start_time": "2023-02-11T11:34:05.393Z"
   },
   {
    "duration": 163,
    "start_time": "2023-02-11T11:34:06.391Z"
   },
   {
    "duration": 34,
    "start_time": "2023-02-11T11:34:06.556Z"
   },
   {
    "duration": 3068,
    "start_time": "2023-02-11T11:34:06.597Z"
   },
   {
    "duration": 123,
    "start_time": "2023-02-11T11:34:09.667Z"
   },
   {
    "duration": 31,
    "start_time": "2023-02-11T11:34:09.793Z"
   },
   {
    "duration": 31,
    "start_time": "2023-02-11T11:34:09.827Z"
   },
   {
    "duration": 21,
    "start_time": "2023-02-11T11:34:09.860Z"
   },
   {
    "duration": 263,
    "start_time": "2023-02-11T11:34:09.895Z"
   },
   {
    "duration": 13,
    "start_time": "2023-02-11T11:34:10.161Z"
   },
   {
    "duration": 67,
    "start_time": "2023-02-11T11:34:10.176Z"
   },
   {
    "duration": 24,
    "start_time": "2023-02-11T11:34:10.246Z"
   },
   {
    "duration": 7,
    "start_time": "2023-02-11T11:34:10.272Z"
   },
   {
    "duration": 66,
    "start_time": "2023-02-11T11:34:10.281Z"
   },
   {
    "duration": 187,
    "start_time": "2023-02-11T11:34:10.350Z"
   },
   {
    "duration": 305,
    "start_time": "2023-02-11T11:34:10.538Z"
   },
   {
    "duration": 9,
    "start_time": "2023-02-11T11:34:10.845Z"
   },
   {
    "duration": 55,
    "start_time": "2023-02-11T11:34:10.870Z"
   },
   {
    "duration": 26,
    "start_time": "2023-02-11T11:34:10.927Z"
   },
   {
    "duration": 256,
    "start_time": "2023-02-11T11:34:10.956Z"
   },
   {
    "duration": 649,
    "start_time": "2023-02-11T11:34:11.213Z"
   },
   {
    "duration": 48,
    "start_time": "2023-02-11T11:34:11.864Z"
   },
   {
    "duration": 176,
    "start_time": "2023-02-11T11:34:11.914Z"
   },
   {
    "duration": 16,
    "start_time": "2023-02-11T11:34:12.092Z"
   },
   {
    "duration": 220,
    "start_time": "2023-02-11T11:34:12.110Z"
   },
   {
    "duration": 153,
    "start_time": "2023-02-11T11:34:12.339Z"
   },
   {
    "duration": 217,
    "start_time": "2023-02-11T11:34:12.497Z"
   },
   {
    "duration": 193,
    "start_time": "2023-02-11T11:34:12.718Z"
   },
   {
    "duration": 35,
    "start_time": "2023-02-11T11:34:12.913Z"
   },
   {
    "duration": 25,
    "start_time": "2023-02-11T11:34:12.950Z"
   },
   {
    "duration": 203,
    "start_time": "2023-02-11T11:34:12.977Z"
   },
   {
    "duration": 145,
    "start_time": "2023-02-11T11:34:13.184Z"
   },
   {
    "duration": 12,
    "start_time": "2023-02-11T11:34:13.330Z"
   },
   {
    "duration": 195,
    "start_time": "2023-02-11T11:34:13.345Z"
   },
   {
    "duration": 302,
    "start_time": "2023-02-11T11:34:13.543Z"
   },
   {
    "duration": 327,
    "start_time": "2023-02-11T11:34:13.848Z"
   },
   {
    "duration": 180,
    "start_time": "2023-02-11T11:34:14.178Z"
   },
   {
    "duration": 314,
    "start_time": "2023-02-11T11:34:14.361Z"
   },
   {
    "duration": 351,
    "start_time": "2023-02-11T11:34:14.680Z"
   },
   {
    "duration": 262,
    "start_time": "2023-02-11T11:34:15.036Z"
   },
   {
    "duration": 296,
    "start_time": "2023-02-11T11:34:15.304Z"
   },
   {
    "duration": 258,
    "start_time": "2023-02-11T11:34:15.606Z"
   },
   {
    "duration": 296,
    "start_time": "2023-02-11T11:34:15.867Z"
   },
   {
    "duration": 383,
    "start_time": "2023-02-11T11:34:16.168Z"
   },
   {
    "duration": 200,
    "start_time": "2023-02-11T11:34:16.554Z"
   },
   {
    "duration": 391,
    "start_time": "2023-02-11T11:34:16.756Z"
   },
   {
    "duration": 15,
    "start_time": "2023-02-11T11:34:17.157Z"
   },
   {
    "duration": 229,
    "start_time": "2023-02-11T11:34:17.174Z"
   },
   {
    "duration": 213,
    "start_time": "2023-02-11T11:34:17.406Z"
   },
   {
    "duration": 260,
    "start_time": "2023-02-11T11:34:17.621Z"
   },
   {
    "duration": 245,
    "start_time": "2023-02-11T11:34:17.885Z"
   },
   {
    "duration": 223,
    "start_time": "2023-02-11T11:34:18.141Z"
   },
   {
    "duration": 53,
    "start_time": "2023-02-11T11:34:18.366Z"
   },
   {
    "duration": 11,
    "start_time": "2023-02-11T11:34:18.425Z"
   },
   {
    "duration": 226,
    "start_time": "2023-02-11T11:34:18.438Z"
   },
   {
    "duration": 376,
    "start_time": "2023-02-11T11:35:42.761Z"
   },
   {
    "duration": 896,
    "start_time": "2023-02-11T11:35:47.938Z"
   },
   {
    "duration": 198,
    "start_time": "2023-02-11T11:35:48.839Z"
   },
   {
    "duration": 26,
    "start_time": "2023-02-11T11:35:49.039Z"
   },
   {
    "duration": 2765,
    "start_time": "2023-02-11T11:35:49.071Z"
   },
   {
    "duration": 94,
    "start_time": "2023-02-11T11:35:51.838Z"
   },
   {
    "duration": 26,
    "start_time": "2023-02-11T11:35:51.934Z"
   },
   {
    "duration": 38,
    "start_time": "2023-02-11T11:35:51.962Z"
   },
   {
    "duration": 47,
    "start_time": "2023-02-11T11:35:52.007Z"
   },
   {
    "duration": 270,
    "start_time": "2023-02-11T11:35:52.056Z"
   },
   {
    "duration": 7,
    "start_time": "2023-02-11T11:35:52.329Z"
   },
   {
    "duration": 9,
    "start_time": "2023-02-11T11:35:52.338Z"
   },
   {
    "duration": 46,
    "start_time": "2023-02-11T11:35:52.349Z"
   },
   {
    "duration": 14,
    "start_time": "2023-02-11T11:35:52.398Z"
   },
   {
    "duration": 29,
    "start_time": "2023-02-11T11:35:52.414Z"
   },
   {
    "duration": 145,
    "start_time": "2023-02-11T11:35:52.445Z"
   },
   {
    "duration": 319,
    "start_time": "2023-02-11T11:35:52.591Z"
   },
   {
    "duration": 17,
    "start_time": "2023-02-11T11:35:52.912Z"
   },
   {
    "duration": 15,
    "start_time": "2023-02-11T11:35:52.933Z"
   },
   {
    "duration": 37,
    "start_time": "2023-02-11T11:35:52.950Z"
   },
   {
    "duration": 247,
    "start_time": "2023-02-11T11:35:52.989Z"
   },
   {
    "duration": 670,
    "start_time": "2023-02-11T11:35:53.238Z"
   },
   {
    "duration": 32,
    "start_time": "2023-02-11T11:35:53.918Z"
   },
   {
    "duration": 160,
    "start_time": "2023-02-11T11:35:53.952Z"
   },
   {
    "duration": 10,
    "start_time": "2023-02-11T11:35:54.114Z"
   },
   {
    "duration": 163,
    "start_time": "2023-02-11T11:35:54.126Z"
   },
   {
    "duration": 155,
    "start_time": "2023-02-11T11:35:54.292Z"
   },
   {
    "duration": 219,
    "start_time": "2023-02-11T11:35:54.450Z"
   },
   {
    "duration": 149,
    "start_time": "2023-02-11T11:35:54.673Z"
   },
   {
    "duration": 29,
    "start_time": "2023-02-11T11:35:54.824Z"
   },
   {
    "duration": 38,
    "start_time": "2023-02-11T11:35:54.855Z"
   },
   {
    "duration": 238,
    "start_time": "2023-02-11T11:35:54.899Z"
   },
   {
    "duration": 150,
    "start_time": "2023-02-11T11:35:55.142Z"
   },
   {
    "duration": 13,
    "start_time": "2023-02-11T11:35:55.297Z"
   },
   {
    "duration": 275,
    "start_time": "2023-02-11T11:35:55.315Z"
   },
   {
    "duration": 245,
    "start_time": "2023-02-11T11:35:55.595Z"
   },
   {
    "duration": 371,
    "start_time": "2023-02-11T11:35:55.843Z"
   },
   {
    "duration": 216,
    "start_time": "2023-02-11T11:35:56.221Z"
   },
   {
    "duration": 362,
    "start_time": "2023-02-11T11:35:56.443Z"
   },
   {
    "duration": 408,
    "start_time": "2023-02-11T11:35:56.812Z"
   },
   {
    "duration": 285,
    "start_time": "2023-02-11T11:35:57.238Z"
   },
   {
    "duration": 291,
    "start_time": "2023-02-11T11:35:57.530Z"
   },
   {
    "duration": 209,
    "start_time": "2023-02-11T11:35:57.823Z"
   },
   {
    "duration": 248,
    "start_time": "2023-02-11T11:35:58.034Z"
   },
   {
    "duration": 374,
    "start_time": "2023-02-11T11:35:58.284Z"
   },
   {
    "duration": 181,
    "start_time": "2023-02-11T11:35:58.659Z"
   },
   {
    "duration": 306,
    "start_time": "2023-02-11T11:35:58.843Z"
   },
   {
    "duration": 41,
    "start_time": "2023-02-11T11:35:59.152Z"
   },
   {
    "duration": 241,
    "start_time": "2023-02-11T11:35:59.199Z"
   },
   {
    "duration": 233,
    "start_time": "2023-02-11T11:35:59.443Z"
   },
   {
    "duration": 248,
    "start_time": "2023-02-11T11:35:59.685Z"
   },
   {
    "duration": 244,
    "start_time": "2023-02-11T11:35:59.936Z"
   },
   {
    "duration": 229,
    "start_time": "2023-02-11T11:36:00.182Z"
   },
   {
    "duration": 39,
    "start_time": "2023-02-11T11:36:00.413Z"
   },
   {
    "duration": 18,
    "start_time": "2023-02-11T11:36:00.473Z"
   },
   {
    "duration": 284,
    "start_time": "2023-02-11T11:36:00.498Z"
   },
   {
    "duration": 31,
    "start_time": "2023-02-11T11:41:57.120Z"
   },
   {
    "duration": 287,
    "start_time": "2023-02-11T12:05:13.427Z"
   },
   {
    "duration": 198,
    "start_time": "2023-02-11T12:05:19.416Z"
   },
   {
    "duration": 232,
    "start_time": "2023-02-11T12:05:27.523Z"
   },
   {
    "duration": 215,
    "start_time": "2023-02-11T12:05:33.818Z"
   },
   {
    "duration": 263,
    "start_time": "2023-02-11T12:10:21.843Z"
   },
   {
    "duration": 825,
    "start_time": "2023-02-11T12:11:49.972Z"
   },
   {
    "duration": 295,
    "start_time": "2023-02-11T12:11:50.800Z"
   },
   {
    "duration": 22,
    "start_time": "2023-02-11T12:11:51.100Z"
   },
   {
    "duration": 2754,
    "start_time": "2023-02-11T12:11:51.128Z"
   },
   {
    "duration": 94,
    "start_time": "2023-02-11T12:11:53.884Z"
   },
   {
    "duration": 23,
    "start_time": "2023-02-11T12:11:53.983Z"
   },
   {
    "duration": 44,
    "start_time": "2023-02-11T12:11:54.012Z"
   },
   {
    "duration": 22,
    "start_time": "2023-02-11T12:11:54.057Z"
   },
   {
    "duration": 303,
    "start_time": "2023-02-11T12:11:54.081Z"
   },
   {
    "duration": 9,
    "start_time": "2023-02-11T12:11:54.387Z"
   },
   {
    "duration": 51,
    "start_time": "2023-02-11T12:11:54.397Z"
   },
   {
    "duration": 43,
    "start_time": "2023-02-11T12:11:54.451Z"
   },
   {
    "duration": 13,
    "start_time": "2023-02-11T12:11:54.501Z"
   },
   {
    "duration": 31,
    "start_time": "2023-02-11T12:11:54.519Z"
   },
   {
    "duration": 139,
    "start_time": "2023-02-11T12:11:54.552Z"
   },
   {
    "duration": 288,
    "start_time": "2023-02-11T12:11:54.692Z"
   },
   {
    "duration": 11,
    "start_time": "2023-02-11T12:11:54.981Z"
   },
   {
    "duration": 56,
    "start_time": "2023-02-11T12:11:54.994Z"
   },
   {
    "duration": 57,
    "start_time": "2023-02-11T12:11:55.052Z"
   },
   {
    "duration": 315,
    "start_time": "2023-02-11T12:11:55.111Z"
   },
   {
    "duration": 749,
    "start_time": "2023-02-11T12:11:55.436Z"
   },
   {
    "duration": 65,
    "start_time": "2023-02-11T12:11:56.187Z"
   },
   {
    "duration": 177,
    "start_time": "2023-02-11T12:11:56.259Z"
   },
   {
    "duration": 15,
    "start_time": "2023-02-11T12:11:56.439Z"
   },
   {
    "duration": 343,
    "start_time": "2023-02-11T12:11:56.458Z"
   },
   {
    "duration": 193,
    "start_time": "2023-02-11T12:11:56.807Z"
   },
   {
    "duration": 276,
    "start_time": "2023-02-11T12:11:57.006Z"
   },
   {
    "duration": 178,
    "start_time": "2023-02-11T12:11:57.289Z"
   },
   {
    "duration": 28,
    "start_time": "2023-02-11T12:11:57.472Z"
   },
   {
    "duration": 129,
    "start_time": "2023-02-11T12:11:57.504Z"
   },
   {
    "duration": 55,
    "start_time": "2023-02-11T12:11:57.638Z"
   },
   {
    "duration": 286,
    "start_time": "2023-02-11T12:11:57.700Z"
   },
   {
    "duration": 152,
    "start_time": "2023-02-11T12:11:57.990Z"
   },
   {
    "duration": 33,
    "start_time": "2023-02-11T12:11:58.144Z"
   },
   {
    "duration": 255,
    "start_time": "2023-02-11T12:11:58.179Z"
   },
   {
    "duration": 281,
    "start_time": "2023-02-11T12:11:58.445Z"
   },
   {
    "duration": 289,
    "start_time": "2023-02-11T12:11:58.735Z"
   },
   {
    "duration": 151,
    "start_time": "2023-02-11T12:11:59.029Z"
   },
   {
    "duration": 245,
    "start_time": "2023-02-11T12:11:59.183Z"
   },
   {
    "duration": 254,
    "start_time": "2023-02-11T12:11:59.430Z"
   },
   {
    "duration": 215,
    "start_time": "2023-02-11T12:11:59.687Z"
   },
   {
    "duration": 355,
    "start_time": "2023-02-11T12:11:59.903Z"
   },
   {
    "duration": 277,
    "start_time": "2023-02-11T12:12:00.260Z"
   },
   {
    "duration": 256,
    "start_time": "2023-02-11T12:12:00.539Z"
   },
   {
    "duration": 305,
    "start_time": "2023-02-11T12:12:00.797Z"
   },
   {
    "duration": 158,
    "start_time": "2023-02-11T12:12:01.103Z"
   },
   {
    "duration": 310,
    "start_time": "2023-02-11T12:12:01.264Z"
   },
   {
    "duration": 21,
    "start_time": "2023-02-11T12:12:01.575Z"
   },
   {
    "duration": 234,
    "start_time": "2023-02-11T12:12:01.598Z"
   },
   {
    "duration": 229,
    "start_time": "2023-02-11T12:12:01.834Z"
   },
   {
    "duration": 267,
    "start_time": "2023-02-11T12:12:02.072Z"
   },
   {
    "duration": 199,
    "start_time": "2023-02-11T12:12:02.341Z"
   },
   {
    "duration": 249,
    "start_time": "2023-02-11T12:12:02.543Z"
   },
   {
    "duration": 40,
    "start_time": "2023-02-11T12:12:02.794Z"
   },
   {
    "duration": 15,
    "start_time": "2023-02-11T12:12:02.836Z"
   },
   {
    "duration": 332,
    "start_time": "2023-02-11T12:12:02.853Z"
   },
   {
    "duration": 12,
    "start_time": "2023-02-11T12:13:15.514Z"
   },
   {
    "duration": 25,
    "start_time": "2023-02-11T12:13:18.163Z"
   },
   {
    "duration": 24,
    "start_time": "2023-02-11T12:13:20.823Z"
   },
   {
    "duration": 15,
    "start_time": "2023-02-11T12:13:23.011Z"
   },
   {
    "duration": 845,
    "start_time": "2023-02-11T12:13:28.189Z"
   },
   {
    "duration": 209,
    "start_time": "2023-02-11T12:13:29.039Z"
   },
   {
    "duration": 31,
    "start_time": "2023-02-11T12:13:29.251Z"
   },
   {
    "duration": 3259,
    "start_time": "2023-02-11T12:13:29.285Z"
   },
   {
    "duration": 112,
    "start_time": "2023-02-11T12:13:32.548Z"
   },
   {
    "duration": 28,
    "start_time": "2023-02-11T12:13:32.662Z"
   },
   {
    "duration": 73,
    "start_time": "2023-02-11T12:13:32.692Z"
   },
   {
    "duration": 67,
    "start_time": "2023-02-11T12:13:32.771Z"
   },
   {
    "duration": 380,
    "start_time": "2023-02-11T12:13:32.844Z"
   },
   {
    "duration": 12,
    "start_time": "2023-02-11T12:13:33.226Z"
   },
   {
    "duration": 34,
    "start_time": "2023-02-11T12:13:33.240Z"
   },
   {
    "duration": 58,
    "start_time": "2023-02-11T12:13:33.276Z"
   },
   {
    "duration": 33,
    "start_time": "2023-02-11T12:13:33.337Z"
   },
   {
    "duration": 92,
    "start_time": "2023-02-11T12:13:33.374Z"
   },
   {
    "duration": 172,
    "start_time": "2023-02-11T12:13:33.475Z"
   },
   {
    "duration": 323,
    "start_time": "2023-02-11T12:13:33.649Z"
   },
   {
    "duration": 11,
    "start_time": "2023-02-11T12:13:33.976Z"
   },
   {
    "duration": 53,
    "start_time": "2023-02-11T12:13:33.989Z"
   },
   {
    "duration": 20,
    "start_time": "2023-02-11T12:13:34.044Z"
   },
   {
    "duration": 280,
    "start_time": "2023-02-11T12:13:34.066Z"
   },
   {
    "duration": 685,
    "start_time": "2023-02-11T12:13:34.351Z"
   },
   {
    "duration": 68,
    "start_time": "2023-02-11T12:13:35.042Z"
   },
   {
    "duration": 247,
    "start_time": "2023-02-11T12:13:35.123Z"
   },
   {
    "duration": 16,
    "start_time": "2023-02-11T12:13:35.373Z"
   },
   {
    "duration": 227,
    "start_time": "2023-02-11T12:13:35.391Z"
   },
   {
    "duration": 186,
    "start_time": "2023-02-11T12:13:35.620Z"
   },
   {
    "duration": 256,
    "start_time": "2023-02-11T12:13:35.811Z"
   },
   {
    "duration": 210,
    "start_time": "2023-02-11T12:13:36.074Z"
   },
   {
    "duration": 34,
    "start_time": "2023-02-11T12:13:36.302Z"
   },
   {
    "duration": 26,
    "start_time": "2023-02-11T12:13:36.339Z"
   },
   {
    "duration": 85,
    "start_time": "2023-02-11T12:13:36.368Z"
   },
   {
    "duration": 185,
    "start_time": "2023-02-11T12:13:36.455Z"
   },
   {
    "duration": 160,
    "start_time": "2023-02-11T12:13:36.642Z"
   },
   {
    "duration": 37,
    "start_time": "2023-02-11T12:13:36.810Z"
   },
   {
    "duration": 211,
    "start_time": "2023-02-11T12:13:36.858Z"
   },
   {
    "duration": 223,
    "start_time": "2023-02-11T12:13:37.071Z"
   },
   {
    "duration": 390,
    "start_time": "2023-02-11T12:13:37.297Z"
   },
   {
    "duration": 178,
    "start_time": "2023-02-11T12:13:37.693Z"
   },
   {
    "duration": 245,
    "start_time": "2023-02-11T12:13:37.876Z"
   },
   {
    "duration": 278,
    "start_time": "2023-02-11T12:13:38.123Z"
   },
   {
    "duration": 230,
    "start_time": "2023-02-11T12:13:38.409Z"
   },
   {
    "duration": 305,
    "start_time": "2023-02-11T12:13:38.641Z"
   },
   {
    "duration": 302,
    "start_time": "2023-02-11T12:13:38.948Z"
   },
   {
    "duration": 260,
    "start_time": "2023-02-11T12:13:39.259Z"
   },
   {
    "duration": 294,
    "start_time": "2023-02-11T12:13:39.520Z"
   },
   {
    "duration": 146,
    "start_time": "2023-02-11T12:13:39.816Z"
   },
   {
    "duration": 313,
    "start_time": "2023-02-11T12:13:39.964Z"
   },
   {
    "duration": 15,
    "start_time": "2023-02-11T12:13:40.281Z"
   },
   {
    "duration": 277,
    "start_time": "2023-02-11T12:13:40.301Z"
   },
   {
    "duration": 207,
    "start_time": "2023-02-11T12:13:40.580Z"
   },
   {
    "duration": 256,
    "start_time": "2023-02-11T12:13:40.789Z"
   },
   {
    "duration": 239,
    "start_time": "2023-02-11T12:13:41.047Z"
   },
   {
    "duration": 256,
    "start_time": "2023-02-11T12:13:41.292Z"
   },
   {
    "duration": 44,
    "start_time": "2023-02-11T12:13:41.550Z"
   },
   {
    "duration": 38,
    "start_time": "2023-02-11T12:13:41.596Z"
   },
   {
    "duration": 201,
    "start_time": "2023-02-11T12:13:41.636Z"
   },
   {
    "duration": 12,
    "start_time": "2023-02-11T12:14:21.319Z"
   },
   {
    "duration": 803,
    "start_time": "2023-02-11T12:21:42.996Z"
   },
   {
    "duration": 174,
    "start_time": "2023-02-11T12:21:45.411Z"
   },
   {
    "duration": 23,
    "start_time": "2023-02-11T12:22:19.738Z"
   },
   {
    "duration": 2610,
    "start_time": "2023-02-11T12:22:21.450Z"
   },
   {
    "duration": 113,
    "start_time": "2023-02-11T12:22:30.929Z"
   },
   {
    "duration": 28,
    "start_time": "2023-02-11T12:22:34.952Z"
   },
   {
    "duration": 15,
    "start_time": "2023-02-11T12:22:44.238Z"
   },
   {
    "duration": 29,
    "start_time": "2023-02-11T12:22:48.194Z"
   },
   {
    "duration": 292,
    "start_time": "2023-02-11T12:22:50.790Z"
   },
   {
    "duration": 7,
    "start_time": "2023-02-11T12:22:53.132Z"
   },
   {
    "duration": 14,
    "start_time": "2023-02-11T12:22:56.085Z"
   },
   {
    "duration": 30,
    "start_time": "2023-02-11T12:22:59.906Z"
   },
   {
    "duration": 8,
    "start_time": "2023-02-11T12:23:02.307Z"
   },
   {
    "duration": 23,
    "start_time": "2023-02-11T12:23:14.229Z"
   },
   {
    "duration": 207,
    "start_time": "2023-02-11T12:23:15.312Z"
   },
   {
    "duration": 348,
    "start_time": "2023-02-11T12:23:25.563Z"
   },
   {
    "duration": 9,
    "start_time": "2023-02-11T12:23:28.024Z"
   },
   {
    "duration": 5,
    "start_time": "2023-02-11T12:23:29.143Z"
   },
   {
    "duration": 27,
    "start_time": "2023-02-11T12:23:32.292Z"
   },
   {
    "duration": 271,
    "start_time": "2023-02-11T12:23:33.411Z"
   },
   {
    "duration": 562,
    "start_time": "2023-02-11T12:23:58.022Z"
   },
   {
    "duration": 56,
    "start_time": "2023-02-11T12:23:59.093Z"
   },
   {
    "duration": 75,
    "start_time": "2023-02-11T12:24:12.663Z"
   },
   {
    "duration": 178,
    "start_time": "2023-02-11T12:24:20.198Z"
   },
   {
    "duration": 17,
    "start_time": "2023-02-11T12:24:37.796Z"
   },
   {
    "duration": 166,
    "start_time": "2023-02-11T12:24:42.171Z"
   },
   {
    "duration": 173,
    "start_time": "2023-02-11T12:24:46.602Z"
   },
   {
    "duration": 197,
    "start_time": "2023-02-11T12:25:01.817Z"
   },
   {
    "duration": 159,
    "start_time": "2023-02-11T12:25:03.912Z"
   },
   {
    "duration": 34,
    "start_time": "2023-02-11T12:25:31.428Z"
   },
   {
    "duration": 8,
    "start_time": "2023-02-11T12:25:36.693Z"
   },
   {
    "duration": 21,
    "start_time": "2023-02-11T12:25:44.767Z"
   },
   {
    "duration": 323,
    "start_time": "2023-02-11T12:31:32.188Z"
   },
   {
    "duration": 158,
    "start_time": "2023-02-11T12:33:30.620Z"
   },
   {
    "duration": 326,
    "start_time": "2023-02-11T12:33:58.061Z"
   },
   {
    "duration": 124,
    "start_time": "2023-02-11T12:35:50.609Z"
   },
   {
    "duration": 245,
    "start_time": "2023-02-11T12:35:57.749Z"
   },
   {
    "duration": 17,
    "start_time": "2023-02-11T12:36:03.102Z"
   },
   {
    "duration": 187,
    "start_time": "2023-02-11T12:36:39.224Z"
   },
   {
    "duration": 167,
    "start_time": "2023-02-11T12:36:58.229Z"
   },
   {
    "duration": 215,
    "start_time": "2023-02-11T12:37:11.056Z"
   },
   {
    "duration": 202,
    "start_time": "2023-02-11T12:37:13.295Z"
   },
   {
    "duration": 251,
    "start_time": "2023-02-11T12:37:39.294Z"
   },
   {
    "duration": 31,
    "start_time": "2023-02-11T12:37:44.598Z"
   },
   {
    "duration": 10,
    "start_time": "2023-02-11T12:37:47.547Z"
   },
   {
    "duration": 91,
    "start_time": "2023-02-11T12:39:14.567Z"
   },
   {
    "duration": 8,
    "start_time": "2023-02-11T12:40:35.918Z"
   },
   {
    "duration": 206,
    "start_time": "2023-02-11T12:41:00.745Z"
   },
   {
    "duration": 211,
    "start_time": "2023-02-11T12:42:00.998Z"
   },
   {
    "duration": 960,
    "start_time": "2023-02-11T12:42:17.601Z"
   },
   {
    "duration": 1036,
    "start_time": "2023-02-11T12:42:33.699Z"
   },
   {
    "duration": 999,
    "start_time": "2023-02-11T12:42:53.713Z"
   },
   {
    "duration": 1013,
    "start_time": "2023-02-11T12:42:59.302Z"
   },
   {
    "duration": 207,
    "start_time": "2023-02-11T12:43:08.603Z"
   },
   {
    "duration": 18,
    "start_time": "2023-02-11T12:44:15.039Z"
   },
   {
    "duration": 11,
    "start_time": "2023-02-11T12:44:24.227Z"
   },
   {
    "duration": 290,
    "start_time": "2023-02-11T12:44:50.417Z"
   },
   {
    "duration": 196,
    "start_time": "2023-02-11T12:45:06.525Z"
   },
   {
    "duration": 14,
    "start_time": "2023-02-11T12:45:11.002Z"
   },
   {
    "duration": 17,
    "start_time": "2023-02-11T12:53:37.767Z"
   },
   {
    "duration": 213,
    "start_time": "2023-02-11T12:53:47.290Z"
   },
   {
    "duration": 137,
    "start_time": "2023-02-11T13:01:07.601Z"
   },
   {
    "duration": 123,
    "start_time": "2023-02-11T13:01:29.696Z"
   },
   {
    "duration": 174,
    "start_time": "2023-02-11T13:01:33.665Z"
   },
   {
    "duration": 28,
    "start_time": "2023-02-11T13:01:41.367Z"
   },
   {
    "duration": 28,
    "start_time": "2023-02-11T13:01:46.319Z"
   },
   {
    "duration": 92,
    "start_time": "2023-02-11T13:01:59.766Z"
   },
   {
    "duration": 14,
    "start_time": "2023-02-11T13:02:28.269Z"
   },
   {
    "duration": 10,
    "start_time": "2023-02-11T13:02:32.345Z"
   },
   {
    "duration": 6,
    "start_time": "2023-02-11T13:02:36.525Z"
   },
   {
    "duration": 7,
    "start_time": "2023-02-11T13:02:39.929Z"
   },
   {
    "duration": 15,
    "start_time": "2023-02-11T13:48:03.598Z"
   },
   {
    "duration": 706,
    "start_time": "2023-02-11T13:48:10.393Z"
   },
   {
    "duration": 519,
    "start_time": "2023-02-11T13:48:16.308Z"
   },
   {
    "duration": 542,
    "start_time": "2023-02-11T13:48:31.702Z"
   },
   {
    "duration": 596,
    "start_time": "2023-02-11T13:51:47.716Z"
   },
   {
    "duration": 26,
    "start_time": "2023-02-11T13:54:04.294Z"
   },
   {
    "duration": 1539,
    "start_time": "2023-02-11T13:55:25.896Z"
   },
   {
    "duration": 423,
    "start_time": "2023-02-11T13:55:27.438Z"
   },
   {
    "duration": 29,
    "start_time": "2023-02-11T13:55:27.863Z"
   },
   {
    "duration": 2550,
    "start_time": "2023-02-11T13:55:27.894Z"
   },
   {
    "duration": 99,
    "start_time": "2023-02-11T13:55:30.449Z"
   },
   {
    "duration": 42,
    "start_time": "2023-02-11T13:55:30.550Z"
   },
   {
    "duration": 37,
    "start_time": "2023-02-11T13:55:30.595Z"
   },
   {
    "duration": 37,
    "start_time": "2023-02-11T13:55:30.633Z"
   },
   {
    "duration": 351,
    "start_time": "2023-02-11T13:55:30.676Z"
   },
   {
    "duration": 12,
    "start_time": "2023-02-11T13:55:31.029Z"
   },
   {
    "duration": 29,
    "start_time": "2023-02-11T13:55:31.043Z"
   },
   {
    "duration": 82,
    "start_time": "2023-02-11T13:55:31.074Z"
   },
   {
    "duration": 7,
    "start_time": "2023-02-11T13:55:31.158Z"
   },
   {
    "duration": 69,
    "start_time": "2023-02-11T13:55:31.169Z"
   },
   {
    "duration": 194,
    "start_time": "2023-02-11T13:55:31.240Z"
   },
   {
    "duration": 308,
    "start_time": "2023-02-11T13:55:31.437Z"
   },
   {
    "duration": 11,
    "start_time": "2023-02-11T13:55:31.748Z"
   },
   {
    "duration": 27,
    "start_time": "2023-02-11T13:55:31.763Z"
   },
   {
    "duration": 24,
    "start_time": "2023-02-11T13:55:31.792Z"
   },
   {
    "duration": 216,
    "start_time": "2023-02-11T13:55:31.818Z"
   },
   {
    "duration": 475,
    "start_time": "2023-02-11T13:55:32.036Z"
   },
   {
    "duration": 31,
    "start_time": "2023-02-11T13:55:32.514Z"
   },
   {
    "duration": 219,
    "start_time": "2023-02-11T13:55:32.548Z"
   },
   {
    "duration": 23,
    "start_time": "2023-02-11T13:55:32.770Z"
   },
   {
    "duration": 341,
    "start_time": "2023-02-11T13:55:32.795Z"
   },
   {
    "duration": 154,
    "start_time": "2023-02-11T13:55:33.138Z"
   },
   {
    "duration": 222,
    "start_time": "2023-02-11T13:55:33.294Z"
   },
   {
    "duration": 138,
    "start_time": "2023-02-11T13:55:33.518Z"
   },
   {
    "duration": 44,
    "start_time": "2023-02-11T13:55:33.658Z"
   },
   {
    "duration": 15,
    "start_time": "2023-02-11T13:55:33.708Z"
   },
   {
    "duration": 27,
    "start_time": "2023-02-11T13:55:33.725Z"
   },
   {
    "duration": 179,
    "start_time": "2023-02-11T13:55:33.753Z"
   },
   {
    "duration": 203,
    "start_time": "2023-02-11T13:55:33.934Z"
   },
   {
    "duration": 11,
    "start_time": "2023-02-11T13:55:34.141Z"
   },
   {
    "duration": 194,
    "start_time": "2023-02-11T13:55:34.154Z"
   },
   {
    "duration": 267,
    "start_time": "2023-02-11T13:55:34.350Z"
   },
   {
    "duration": 262,
    "start_time": "2023-02-11T13:55:34.619Z"
   },
   {
    "duration": 211,
    "start_time": "2023-02-11T13:55:34.885Z"
   },
   {
    "duration": 306,
    "start_time": "2023-02-11T13:55:35.100Z"
   },
   {
    "duration": 479,
    "start_time": "2023-02-11T13:55:35.407Z"
   },
   {
    "duration": 283,
    "start_time": "2023-02-11T13:55:35.905Z"
   },
   {
    "duration": 298,
    "start_time": "2023-02-11T13:55:36.189Z"
   },
   {
    "duration": 214,
    "start_time": "2023-02-11T13:55:36.489Z"
   },
   {
    "duration": 235,
    "start_time": "2023-02-11T13:55:36.709Z"
   },
   {
    "duration": 335,
    "start_time": "2023-02-11T13:55:36.947Z"
   },
   {
    "duration": 153,
    "start_time": "2023-02-11T13:55:37.284Z"
   },
   {
    "duration": 415,
    "start_time": "2023-02-11T13:55:37.439Z"
   },
   {
    "duration": 22,
    "start_time": "2023-02-11T13:55:37.856Z"
   },
   {
    "duration": 213,
    "start_time": "2023-02-11T13:55:37.882Z"
   },
   {
    "duration": 19,
    "start_time": "2023-02-11T13:55:38.098Z"
   },
   {
    "duration": 206,
    "start_time": "2023-02-11T13:55:38.119Z"
   },
   {
    "duration": 260,
    "start_time": "2023-02-11T13:55:38.327Z"
   },
   {
    "duration": 302,
    "start_time": "2023-02-11T13:55:38.593Z"
   },
   {
    "duration": 233,
    "start_time": "2023-02-11T13:55:38.897Z"
   },
   {
    "duration": 45,
    "start_time": "2023-02-11T13:55:39.133Z"
   },
   {
    "duration": 10,
    "start_time": "2023-02-11T13:55:39.180Z"
   },
   {
    "duration": 230,
    "start_time": "2023-02-11T13:55:39.192Z"
   },
   {
    "duration": 14,
    "start_time": "2023-02-11T13:55:39.425Z"
   },
   {
    "duration": 45,
    "start_time": "2023-02-11T13:55:39.442Z"
   },
   {
    "duration": 720,
    "start_time": "2023-02-11T13:55:39.493Z"
   },
   {
    "duration": 1229,
    "start_time": "2023-02-11T20:36:52.916Z"
   },
   {
    "duration": 116,
    "start_time": "2023-02-11T20:36:54.148Z"
   },
   {
    "duration": 15,
    "start_time": "2023-02-11T20:36:54.266Z"
   },
   {
    "duration": 2018,
    "start_time": "2023-02-11T20:36:54.283Z"
   },
   {
    "duration": 110,
    "start_time": "2023-02-11T20:36:56.303Z"
   },
   {
    "duration": 28,
    "start_time": "2023-02-11T20:36:56.416Z"
   },
   {
    "duration": 19,
    "start_time": "2023-02-11T20:36:56.446Z"
   },
   {
    "duration": 15,
    "start_time": "2023-02-11T20:36:56.467Z"
   },
   {
    "duration": 191,
    "start_time": "2023-02-11T20:36:56.484Z"
   },
   {
    "duration": 8,
    "start_time": "2023-02-11T20:36:56.678Z"
   },
   {
    "duration": 8,
    "start_time": "2023-02-11T20:36:56.687Z"
   },
   {
    "duration": 38,
    "start_time": "2023-02-11T20:36:56.697Z"
   },
   {
    "duration": 6,
    "start_time": "2023-02-11T20:36:56.736Z"
   },
   {
    "duration": 18,
    "start_time": "2023-02-11T20:36:56.743Z"
   },
   {
    "duration": 135,
    "start_time": "2023-02-11T20:36:56.763Z"
   },
   {
    "duration": 231,
    "start_time": "2023-02-11T20:36:56.899Z"
   },
   {
    "duration": 8,
    "start_time": "2023-02-11T20:36:57.132Z"
   },
   {
    "duration": 7,
    "start_time": "2023-02-11T20:36:57.141Z"
   },
   {
    "duration": 14,
    "start_time": "2023-02-11T20:36:57.150Z"
   },
   {
    "duration": 185,
    "start_time": "2023-02-11T20:36:57.166Z"
   },
   {
    "duration": 372,
    "start_time": "2023-02-11T20:36:57.353Z"
   },
   {
    "duration": 27,
    "start_time": "2023-02-11T20:36:57.727Z"
   },
   {
    "duration": 120,
    "start_time": "2023-02-11T20:36:57.755Z"
   },
   {
    "duration": 9,
    "start_time": "2023-02-11T20:36:57.876Z"
   },
   {
    "duration": 255,
    "start_time": "2023-02-11T20:36:57.886Z"
   },
   {
    "duration": 112,
    "start_time": "2023-02-11T20:36:58.143Z"
   },
   {
    "duration": 177,
    "start_time": "2023-02-11T20:36:58.256Z"
   },
   {
    "duration": 120,
    "start_time": "2023-02-11T20:36:58.437Z"
   },
   {
    "duration": 23,
    "start_time": "2023-02-11T20:36:58.558Z"
   },
   {
    "duration": 4,
    "start_time": "2023-02-11T20:36:58.582Z"
   },
   {
    "duration": 40,
    "start_time": "2023-02-11T20:36:58.587Z"
   },
   {
    "duration": 161,
    "start_time": "2023-02-11T20:36:58.629Z"
   },
   {
    "duration": 110,
    "start_time": "2023-02-11T20:36:58.792Z"
   },
   {
    "duration": 10,
    "start_time": "2023-02-11T20:36:58.904Z"
   },
   {
    "duration": 149,
    "start_time": "2023-02-11T20:36:58.928Z"
   },
   {
    "duration": 174,
    "start_time": "2023-02-11T20:36:59.079Z"
   },
   {
    "duration": 172,
    "start_time": "2023-02-11T20:36:59.255Z"
   },
   {
    "duration": 143,
    "start_time": "2023-02-11T20:36:59.429Z"
   },
   {
    "duration": 197,
    "start_time": "2023-02-11T20:36:59.574Z"
   },
   {
    "duration": 311,
    "start_time": "2023-02-11T20:36:59.773Z"
   },
   {
    "duration": 231,
    "start_time": "2023-02-11T20:37:00.087Z"
   },
   {
    "duration": 247,
    "start_time": "2023-02-11T20:37:00.328Z"
   },
   {
    "duration": 175,
    "start_time": "2023-02-11T20:37:00.577Z"
   },
   {
    "duration": 129,
    "start_time": "2023-02-11T20:37:00.755Z"
   },
   {
    "duration": 260,
    "start_time": "2023-02-11T20:37:00.885Z"
   },
   {
    "duration": 145,
    "start_time": "2023-02-11T20:37:01.147Z"
   },
   {
    "duration": 316,
    "start_time": "2023-02-11T20:37:01.293Z"
   },
   {
    "duration": 22,
    "start_time": "2023-02-11T20:37:01.611Z"
   },
   {
    "duration": 155,
    "start_time": "2023-02-11T20:37:01.634Z"
   },
   {
    "duration": 8,
    "start_time": "2023-02-11T20:37:01.790Z"
   },
   {
    "duration": 167,
    "start_time": "2023-02-11T20:37:01.800Z"
   },
   {
    "duration": 187,
    "start_time": "2023-02-11T20:37:01.969Z"
   },
   {
    "duration": 199,
    "start_time": "2023-02-11T20:37:02.157Z"
   },
   {
    "duration": 171,
    "start_time": "2023-02-11T20:37:02.357Z"
   },
   {
    "duration": 28,
    "start_time": "2023-02-11T20:37:02.530Z"
   },
   {
    "duration": 7,
    "start_time": "2023-02-11T20:37:02.559Z"
   },
   {
    "duration": 173,
    "start_time": "2023-02-11T20:37:02.567Z"
   },
   {
    "duration": 10,
    "start_time": "2023-02-11T20:37:02.741Z"
   },
   {
    "duration": 15,
    "start_time": "2023-02-11T20:38:02.036Z"
   },
   {
    "duration": 80,
    "start_time": "2023-02-11T20:38:05.292Z"
   }
  ],
  "kernelspec": {
   "display_name": "Python 3 (ipykernel)",
   "language": "python",
   "name": "python3"
  },
  "language_info": {
   "codemirror_mode": {
    "name": "ipython",
    "version": 3
   },
   "file_extension": ".py",
   "mimetype": "text/x-python",
   "name": "python",
   "nbconvert_exporter": "python",
   "pygments_lexer": "ipython3",
   "version": "3.9.5"
  },
  "toc": {
   "base_numbering": 1,
   "nav_menu": {
    "height": "242px",
    "width": "431px"
   },
   "number_sections": true,
   "sideBar": true,
   "skip_h1_title": true,
   "title_cell": "Table of Contents",
   "title_sidebar": "Contents",
   "toc_cell": false,
   "toc_position": {},
   "toc_section_display": true,
   "toc_window_display": true
  }
 },
 "nbformat": 4,
 "nbformat_minor": 2
}
