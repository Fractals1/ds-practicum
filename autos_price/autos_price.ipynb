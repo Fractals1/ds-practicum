{
 "cells": [
  {
   "cell_type": "markdown",
   "metadata": {
    "id": "kyjOdfd5xM64"
   },
   "source": [
    "# Определение стоимости автомобилей"
   ]
  },
  {
   "cell_type": "markdown",
   "metadata": {
    "id": "ETIi0qr1wI1Q"
   },
   "source": [
    "Сервис по продаже автомобилей с пробегом «Не бит, не крашен» разрабатывает приложение для привлечения новых клиентов. В нём можно быстро узнать рыночную стоимость своего автомобиля. В вашем распоряжении исторические данные: технические характеристики, комплектации и цены автомобилей. Вам нужно построить модель для определения стоимости. \n",
    "\n",
    "Заказчику важны:\n",
    "\n",
    "- качество предсказания;\n",
    "- скорость предсказания;\n",
    "- время обучения."
   ]
  },
  {
   "cell_type": "code",
   "execution_count": 1,
   "metadata": {
    "colab": {
     "base_uri": "https://localhost:8080/",
     "height": 17
    },
    "id": "ixO6MVR5PRSZ",
    "outputId": "68ebf509-7ab9-4ca8-ef22-ce0f0f707ec8"
   },
   "outputs": [
    {
     "data": {
      "text/html": [
       "<style>.container { width:90% !important; }</style>"
      ],
      "text/plain": [
       "<IPython.core.display.HTML object>"
      ]
     },
     "metadata": {},
     "output_type": "display_data"
    }
   ],
   "source": [
    "from IPython.core.display import display, HTML\n",
    "display(HTML('<style>.container { width:90% !important; }</style>'))"
   ]
  },
  {
   "cell_type": "markdown",
   "metadata": {
    "id": "sKKEPKovwOzg"
   },
   "source": [
    "## Подготовка данных"
   ]
  },
  {
   "cell_type": "code",
   "execution_count": 2,
   "metadata": {
    "colab": {
     "base_uri": "https://localhost:8080/"
    },
    "id": "O8chP0W2Pdaz",
    "outputId": "c5a99a56-e3e6-413e-db7f-948e668d36b0"
   },
   "outputs": [
    {
     "name": "stdout",
     "output_type": "stream",
     "text": [
      "Requirement already satisfied: catboost in /opt/conda/lib/python3.9/site-packages (1.0.3)\n",
      "Requirement already satisfied: plotly in /opt/conda/lib/python3.9/site-packages (from catboost) (5.4.0)\n",
      "Requirement already satisfied: pandas>=0.24.0 in /opt/conda/lib/python3.9/site-packages (from catboost) (1.2.4)\n",
      "Requirement already satisfied: six in /opt/conda/lib/python3.9/site-packages (from catboost) (1.16.0)\n",
      "Requirement already satisfied: graphviz in /opt/conda/lib/python3.9/site-packages (from catboost) (0.20.1)\n",
      "Requirement already satisfied: numpy>=1.16.0 in /opt/conda/lib/python3.9/site-packages (from catboost) (1.21.1)\n",
      "Requirement already satisfied: scipy in /opt/conda/lib/python3.9/site-packages (from catboost) (1.9.1)\n",
      "Requirement already satisfied: matplotlib in /opt/conda/lib/python3.9/site-packages (from catboost) (3.3.4)\n",
      "Requirement already satisfied: python-dateutil>=2.7.3 in /opt/conda/lib/python3.9/site-packages (from pandas>=0.24.0->catboost) (2.8.1)\n",
      "Requirement already satisfied: pytz>=2017.3 in /opt/conda/lib/python3.9/site-packages (from pandas>=0.24.0->catboost) (2021.1)\n",
      "Requirement already satisfied: pyparsing!=2.0.4,!=2.1.2,!=2.1.6,>=2.0.3 in /opt/conda/lib/python3.9/site-packages (from matplotlib->catboost) (2.4.7)\n",
      "Requirement already satisfied: kiwisolver>=1.0.1 in /opt/conda/lib/python3.9/site-packages (from matplotlib->catboost) (1.4.4)\n",
      "Requirement already satisfied: cycler>=0.10 in /opt/conda/lib/python3.9/site-packages (from matplotlib->catboost) (0.11.0)\n",
      "Requirement already satisfied: pillow>=6.2.0 in /opt/conda/lib/python3.9/site-packages (from matplotlib->catboost) (8.4.0)\n",
      "Requirement already satisfied: tenacity>=6.2.0 in /opt/conda/lib/python3.9/site-packages (from plotly->catboost) (8.0.1)\n"
     ]
    }
   ],
   "source": [
    "!pip install catboost"
   ]
  },
  {
   "cell_type": "code",
   "execution_count": 3,
   "metadata": {
    "id": "KrMi44_pPXQs"
   },
   "outputs": [],
   "source": [
    "import pandas as pd\n",
    "import time\n",
    "import numpy as np\n",
    "from matplotlib import pyplot as plt\n",
    "from catboost import CatBoostRegressor, Pool\n",
    "\n",
    "from sklearn.model_selection import train_test_split\n",
    "from sklearn.preprocessing import StandardScaler\n",
    "from sklearn.preprocessing import OrdinalEncoder\n",
    "from sklearn.metrics import mean_squared_error\n",
    "from sklearn.linear_model import LinearRegression\n",
    "from sklearn.ensemble import RandomForestRegressor\n",
    "from sklearn.model_selection import GridSearchCV, RandomizedSearchCV\n",
    "import lightgbm as lgb\n",
    "\n",
    "import warnings\n",
    "warnings.filterwarnings('ignore')"
   ]
  },
  {
   "cell_type": "code",
   "execution_count": 4,
   "metadata": {
    "colab": {
     "base_uri": "https://localhost:8080/"
    },
    "id": "Zzja_-rcQTyc",
    "outputId": "29b33947-f75c-49be-ad52-0dcfa1e303b1"
   },
   "outputs": [],
   "source": [
    "try:\n",
    "    from google.colab import drive\n",
    "    drive.mount('/content/drive')\n",
    "    data = pd.read_csv('/content/drive/MyDrive/Colab Notebooks/autos/autos.csv')\n",
    "except:\n",
    "    data = pd.read_csv('/datasets/autos.csv')"
   ]
  },
  {
   "cell_type": "code",
   "execution_count": 5,
   "metadata": {
    "id": "BDdeyBChSsNz"
   },
   "outputs": [],
   "source": [
    "def df_analyse(data):\n",
    "    data.info()\n",
    "    display(data.head(10))\n",
    "    display(data.describe())\n",
    "    print(f'размер:    {data.shape}')\n",
    "    print('пропусков:         ', data.isna().sum().sum())"
   ]
  },
  {
   "cell_type": "code",
   "execution_count": 6,
   "metadata": {
    "colab": {
     "base_uri": "https://localhost:8080/",
     "height": 1000
    },
    "id": "RFD0EIVmSxlU",
    "outputId": "26deca1f-9b0e-41aa-de9b-16003fee6a34"
   },
   "outputs": [
    {
     "name": "stdout",
     "output_type": "stream",
     "text": [
      "<class 'pandas.core.frame.DataFrame'>\n",
      "RangeIndex: 354369 entries, 0 to 354368\n",
      "Data columns (total 16 columns):\n",
      " #   Column             Non-Null Count   Dtype \n",
      "---  ------             --------------   ----- \n",
      " 0   DateCrawled        354369 non-null  object\n",
      " 1   Price              354369 non-null  int64 \n",
      " 2   VehicleType        316879 non-null  object\n",
      " 3   RegistrationYear   354369 non-null  int64 \n",
      " 4   Gearbox            334536 non-null  object\n",
      " 5   Power              354369 non-null  int64 \n",
      " 6   Model              334664 non-null  object\n",
      " 7   Kilometer          354369 non-null  int64 \n",
      " 8   RegistrationMonth  354369 non-null  int64 \n",
      " 9   FuelType           321474 non-null  object\n",
      " 10  Brand              354369 non-null  object\n",
      " 11  Repaired           283215 non-null  object\n",
      " 12  DateCreated        354369 non-null  object\n",
      " 13  NumberOfPictures   354369 non-null  int64 \n",
      " 14  PostalCode         354369 non-null  int64 \n",
      " 15  LastSeen           354369 non-null  object\n",
      "dtypes: int64(7), object(9)\n",
      "memory usage: 43.3+ MB\n"
     ]
    },
    {
     "data": {
      "text/html": [
       "<div>\n",
       "<style scoped>\n",
       "    .dataframe tbody tr th:only-of-type {\n",
       "        vertical-align: middle;\n",
       "    }\n",
       "\n",
       "    .dataframe tbody tr th {\n",
       "        vertical-align: top;\n",
       "    }\n",
       "\n",
       "    .dataframe thead th {\n",
       "        text-align: right;\n",
       "    }\n",
       "</style>\n",
       "<table border=\"1\" class=\"dataframe\">\n",
       "  <thead>\n",
       "    <tr style=\"text-align: right;\">\n",
       "      <th></th>\n",
       "      <th>DateCrawled</th>\n",
       "      <th>Price</th>\n",
       "      <th>VehicleType</th>\n",
       "      <th>RegistrationYear</th>\n",
       "      <th>Gearbox</th>\n",
       "      <th>Power</th>\n",
       "      <th>Model</th>\n",
       "      <th>Kilometer</th>\n",
       "      <th>RegistrationMonth</th>\n",
       "      <th>FuelType</th>\n",
       "      <th>Brand</th>\n",
       "      <th>Repaired</th>\n",
       "      <th>DateCreated</th>\n",
       "      <th>NumberOfPictures</th>\n",
       "      <th>PostalCode</th>\n",
       "      <th>LastSeen</th>\n",
       "    </tr>\n",
       "  </thead>\n",
       "  <tbody>\n",
       "    <tr>\n",
       "      <th>0</th>\n",
       "      <td>2016-03-24 11:52:17</td>\n",
       "      <td>480</td>\n",
       "      <td>NaN</td>\n",
       "      <td>1993</td>\n",
       "      <td>manual</td>\n",
       "      <td>0</td>\n",
       "      <td>golf</td>\n",
       "      <td>150000</td>\n",
       "      <td>0</td>\n",
       "      <td>petrol</td>\n",
       "      <td>volkswagen</td>\n",
       "      <td>NaN</td>\n",
       "      <td>2016-03-24 00:00:00</td>\n",
       "      <td>0</td>\n",
       "      <td>70435</td>\n",
       "      <td>2016-04-07 03:16:57</td>\n",
       "    </tr>\n",
       "    <tr>\n",
       "      <th>1</th>\n",
       "      <td>2016-03-24 10:58:45</td>\n",
       "      <td>18300</td>\n",
       "      <td>coupe</td>\n",
       "      <td>2011</td>\n",
       "      <td>manual</td>\n",
       "      <td>190</td>\n",
       "      <td>NaN</td>\n",
       "      <td>125000</td>\n",
       "      <td>5</td>\n",
       "      <td>gasoline</td>\n",
       "      <td>audi</td>\n",
       "      <td>yes</td>\n",
       "      <td>2016-03-24 00:00:00</td>\n",
       "      <td>0</td>\n",
       "      <td>66954</td>\n",
       "      <td>2016-04-07 01:46:50</td>\n",
       "    </tr>\n",
       "    <tr>\n",
       "      <th>2</th>\n",
       "      <td>2016-03-14 12:52:21</td>\n",
       "      <td>9800</td>\n",
       "      <td>suv</td>\n",
       "      <td>2004</td>\n",
       "      <td>auto</td>\n",
       "      <td>163</td>\n",
       "      <td>grand</td>\n",
       "      <td>125000</td>\n",
       "      <td>8</td>\n",
       "      <td>gasoline</td>\n",
       "      <td>jeep</td>\n",
       "      <td>NaN</td>\n",
       "      <td>2016-03-14 00:00:00</td>\n",
       "      <td>0</td>\n",
       "      <td>90480</td>\n",
       "      <td>2016-04-05 12:47:46</td>\n",
       "    </tr>\n",
       "    <tr>\n",
       "      <th>3</th>\n",
       "      <td>2016-03-17 16:54:04</td>\n",
       "      <td>1500</td>\n",
       "      <td>small</td>\n",
       "      <td>2001</td>\n",
       "      <td>manual</td>\n",
       "      <td>75</td>\n",
       "      <td>golf</td>\n",
       "      <td>150000</td>\n",
       "      <td>6</td>\n",
       "      <td>petrol</td>\n",
       "      <td>volkswagen</td>\n",
       "      <td>no</td>\n",
       "      <td>2016-03-17 00:00:00</td>\n",
       "      <td>0</td>\n",
       "      <td>91074</td>\n",
       "      <td>2016-03-17 17:40:17</td>\n",
       "    </tr>\n",
       "    <tr>\n",
       "      <th>4</th>\n",
       "      <td>2016-03-31 17:25:20</td>\n",
       "      <td>3600</td>\n",
       "      <td>small</td>\n",
       "      <td>2008</td>\n",
       "      <td>manual</td>\n",
       "      <td>69</td>\n",
       "      <td>fabia</td>\n",
       "      <td>90000</td>\n",
       "      <td>7</td>\n",
       "      <td>gasoline</td>\n",
       "      <td>skoda</td>\n",
       "      <td>no</td>\n",
       "      <td>2016-03-31 00:00:00</td>\n",
       "      <td>0</td>\n",
       "      <td>60437</td>\n",
       "      <td>2016-04-06 10:17:21</td>\n",
       "    </tr>\n",
       "    <tr>\n",
       "      <th>5</th>\n",
       "      <td>2016-04-04 17:36:23</td>\n",
       "      <td>650</td>\n",
       "      <td>sedan</td>\n",
       "      <td>1995</td>\n",
       "      <td>manual</td>\n",
       "      <td>102</td>\n",
       "      <td>3er</td>\n",
       "      <td>150000</td>\n",
       "      <td>10</td>\n",
       "      <td>petrol</td>\n",
       "      <td>bmw</td>\n",
       "      <td>yes</td>\n",
       "      <td>2016-04-04 00:00:00</td>\n",
       "      <td>0</td>\n",
       "      <td>33775</td>\n",
       "      <td>2016-04-06 19:17:07</td>\n",
       "    </tr>\n",
       "    <tr>\n",
       "      <th>6</th>\n",
       "      <td>2016-04-01 20:48:51</td>\n",
       "      <td>2200</td>\n",
       "      <td>convertible</td>\n",
       "      <td>2004</td>\n",
       "      <td>manual</td>\n",
       "      <td>109</td>\n",
       "      <td>2_reihe</td>\n",
       "      <td>150000</td>\n",
       "      <td>8</td>\n",
       "      <td>petrol</td>\n",
       "      <td>peugeot</td>\n",
       "      <td>no</td>\n",
       "      <td>2016-04-01 00:00:00</td>\n",
       "      <td>0</td>\n",
       "      <td>67112</td>\n",
       "      <td>2016-04-05 18:18:39</td>\n",
       "    </tr>\n",
       "    <tr>\n",
       "      <th>7</th>\n",
       "      <td>2016-03-21 18:54:38</td>\n",
       "      <td>0</td>\n",
       "      <td>sedan</td>\n",
       "      <td>1980</td>\n",
       "      <td>manual</td>\n",
       "      <td>50</td>\n",
       "      <td>other</td>\n",
       "      <td>40000</td>\n",
       "      <td>7</td>\n",
       "      <td>petrol</td>\n",
       "      <td>volkswagen</td>\n",
       "      <td>no</td>\n",
       "      <td>2016-03-21 00:00:00</td>\n",
       "      <td>0</td>\n",
       "      <td>19348</td>\n",
       "      <td>2016-03-25 16:47:58</td>\n",
       "    </tr>\n",
       "    <tr>\n",
       "      <th>8</th>\n",
       "      <td>2016-04-04 23:42:13</td>\n",
       "      <td>14500</td>\n",
       "      <td>bus</td>\n",
       "      <td>2014</td>\n",
       "      <td>manual</td>\n",
       "      <td>125</td>\n",
       "      <td>c_max</td>\n",
       "      <td>30000</td>\n",
       "      <td>8</td>\n",
       "      <td>petrol</td>\n",
       "      <td>ford</td>\n",
       "      <td>NaN</td>\n",
       "      <td>2016-04-04 00:00:00</td>\n",
       "      <td>0</td>\n",
       "      <td>94505</td>\n",
       "      <td>2016-04-04 23:42:13</td>\n",
       "    </tr>\n",
       "    <tr>\n",
       "      <th>9</th>\n",
       "      <td>2016-03-17 10:53:50</td>\n",
       "      <td>999</td>\n",
       "      <td>small</td>\n",
       "      <td>1998</td>\n",
       "      <td>manual</td>\n",
       "      <td>101</td>\n",
       "      <td>golf</td>\n",
       "      <td>150000</td>\n",
       "      <td>0</td>\n",
       "      <td>NaN</td>\n",
       "      <td>volkswagen</td>\n",
       "      <td>NaN</td>\n",
       "      <td>2016-03-17 00:00:00</td>\n",
       "      <td>0</td>\n",
       "      <td>27472</td>\n",
       "      <td>2016-03-31 17:17:06</td>\n",
       "    </tr>\n",
       "  </tbody>\n",
       "</table>\n",
       "</div>"
      ],
      "text/plain": [
       "           DateCrawled  Price  VehicleType  RegistrationYear Gearbox  Power  \\\n",
       "0  2016-03-24 11:52:17    480          NaN              1993  manual      0   \n",
       "1  2016-03-24 10:58:45  18300        coupe              2011  manual    190   \n",
       "2  2016-03-14 12:52:21   9800          suv              2004    auto    163   \n",
       "3  2016-03-17 16:54:04   1500        small              2001  manual     75   \n",
       "4  2016-03-31 17:25:20   3600        small              2008  manual     69   \n",
       "5  2016-04-04 17:36:23    650        sedan              1995  manual    102   \n",
       "6  2016-04-01 20:48:51   2200  convertible              2004  manual    109   \n",
       "7  2016-03-21 18:54:38      0        sedan              1980  manual     50   \n",
       "8  2016-04-04 23:42:13  14500          bus              2014  manual    125   \n",
       "9  2016-03-17 10:53:50    999        small              1998  manual    101   \n",
       "\n",
       "     Model  Kilometer  RegistrationMonth  FuelType       Brand Repaired  \\\n",
       "0     golf     150000                  0    petrol  volkswagen      NaN   \n",
       "1      NaN     125000                  5  gasoline        audi      yes   \n",
       "2    grand     125000                  8  gasoline        jeep      NaN   \n",
       "3     golf     150000                  6    petrol  volkswagen       no   \n",
       "4    fabia      90000                  7  gasoline       skoda       no   \n",
       "5      3er     150000                 10    petrol         bmw      yes   \n",
       "6  2_reihe     150000                  8    petrol     peugeot       no   \n",
       "7    other      40000                  7    petrol  volkswagen       no   \n",
       "8    c_max      30000                  8    petrol        ford      NaN   \n",
       "9     golf     150000                  0       NaN  volkswagen      NaN   \n",
       "\n",
       "           DateCreated  NumberOfPictures  PostalCode             LastSeen  \n",
       "0  2016-03-24 00:00:00                 0       70435  2016-04-07 03:16:57  \n",
       "1  2016-03-24 00:00:00                 0       66954  2016-04-07 01:46:50  \n",
       "2  2016-03-14 00:00:00                 0       90480  2016-04-05 12:47:46  \n",
       "3  2016-03-17 00:00:00                 0       91074  2016-03-17 17:40:17  \n",
       "4  2016-03-31 00:00:00                 0       60437  2016-04-06 10:17:21  \n",
       "5  2016-04-04 00:00:00                 0       33775  2016-04-06 19:17:07  \n",
       "6  2016-04-01 00:00:00                 0       67112  2016-04-05 18:18:39  \n",
       "7  2016-03-21 00:00:00                 0       19348  2016-03-25 16:47:58  \n",
       "8  2016-04-04 00:00:00                 0       94505  2016-04-04 23:42:13  \n",
       "9  2016-03-17 00:00:00                 0       27472  2016-03-31 17:17:06  "
      ]
     },
     "metadata": {},
     "output_type": "display_data"
    },
    {
     "data": {
      "text/html": [
       "<div>\n",
       "<style scoped>\n",
       "    .dataframe tbody tr th:only-of-type {\n",
       "        vertical-align: middle;\n",
       "    }\n",
       "\n",
       "    .dataframe tbody tr th {\n",
       "        vertical-align: top;\n",
       "    }\n",
       "\n",
       "    .dataframe thead th {\n",
       "        text-align: right;\n",
       "    }\n",
       "</style>\n",
       "<table border=\"1\" class=\"dataframe\">\n",
       "  <thead>\n",
       "    <tr style=\"text-align: right;\">\n",
       "      <th></th>\n",
       "      <th>Price</th>\n",
       "      <th>RegistrationYear</th>\n",
       "      <th>Power</th>\n",
       "      <th>Kilometer</th>\n",
       "      <th>RegistrationMonth</th>\n",
       "      <th>NumberOfPictures</th>\n",
       "      <th>PostalCode</th>\n",
       "    </tr>\n",
       "  </thead>\n",
       "  <tbody>\n",
       "    <tr>\n",
       "      <th>count</th>\n",
       "      <td>354369.000000</td>\n",
       "      <td>354369.000000</td>\n",
       "      <td>354369.000000</td>\n",
       "      <td>354369.000000</td>\n",
       "      <td>354369.000000</td>\n",
       "      <td>354369.0</td>\n",
       "      <td>354369.000000</td>\n",
       "    </tr>\n",
       "    <tr>\n",
       "      <th>mean</th>\n",
       "      <td>4416.656776</td>\n",
       "      <td>2004.234448</td>\n",
       "      <td>110.094337</td>\n",
       "      <td>128211.172535</td>\n",
       "      <td>5.714645</td>\n",
       "      <td>0.0</td>\n",
       "      <td>50508.689087</td>\n",
       "    </tr>\n",
       "    <tr>\n",
       "      <th>std</th>\n",
       "      <td>4514.158514</td>\n",
       "      <td>90.227958</td>\n",
       "      <td>189.850405</td>\n",
       "      <td>37905.341530</td>\n",
       "      <td>3.726421</td>\n",
       "      <td>0.0</td>\n",
       "      <td>25783.096248</td>\n",
       "    </tr>\n",
       "    <tr>\n",
       "      <th>min</th>\n",
       "      <td>0.000000</td>\n",
       "      <td>1000.000000</td>\n",
       "      <td>0.000000</td>\n",
       "      <td>5000.000000</td>\n",
       "      <td>0.000000</td>\n",
       "      <td>0.0</td>\n",
       "      <td>1067.000000</td>\n",
       "    </tr>\n",
       "    <tr>\n",
       "      <th>25%</th>\n",
       "      <td>1050.000000</td>\n",
       "      <td>1999.000000</td>\n",
       "      <td>69.000000</td>\n",
       "      <td>125000.000000</td>\n",
       "      <td>3.000000</td>\n",
       "      <td>0.0</td>\n",
       "      <td>30165.000000</td>\n",
       "    </tr>\n",
       "    <tr>\n",
       "      <th>50%</th>\n",
       "      <td>2700.000000</td>\n",
       "      <td>2003.000000</td>\n",
       "      <td>105.000000</td>\n",
       "      <td>150000.000000</td>\n",
       "      <td>6.000000</td>\n",
       "      <td>0.0</td>\n",
       "      <td>49413.000000</td>\n",
       "    </tr>\n",
       "    <tr>\n",
       "      <th>75%</th>\n",
       "      <td>6400.000000</td>\n",
       "      <td>2008.000000</td>\n",
       "      <td>143.000000</td>\n",
       "      <td>150000.000000</td>\n",
       "      <td>9.000000</td>\n",
       "      <td>0.0</td>\n",
       "      <td>71083.000000</td>\n",
       "    </tr>\n",
       "    <tr>\n",
       "      <th>max</th>\n",
       "      <td>20000.000000</td>\n",
       "      <td>9999.000000</td>\n",
       "      <td>20000.000000</td>\n",
       "      <td>150000.000000</td>\n",
       "      <td>12.000000</td>\n",
       "      <td>0.0</td>\n",
       "      <td>99998.000000</td>\n",
       "    </tr>\n",
       "  </tbody>\n",
       "</table>\n",
       "</div>"
      ],
      "text/plain": [
       "               Price  RegistrationYear          Power      Kilometer  \\\n",
       "count  354369.000000     354369.000000  354369.000000  354369.000000   \n",
       "mean     4416.656776       2004.234448     110.094337  128211.172535   \n",
       "std      4514.158514         90.227958     189.850405   37905.341530   \n",
       "min         0.000000       1000.000000       0.000000    5000.000000   \n",
       "25%      1050.000000       1999.000000      69.000000  125000.000000   \n",
       "50%      2700.000000       2003.000000     105.000000  150000.000000   \n",
       "75%      6400.000000       2008.000000     143.000000  150000.000000   \n",
       "max     20000.000000       9999.000000   20000.000000  150000.000000   \n",
       "\n",
       "       RegistrationMonth  NumberOfPictures     PostalCode  \n",
       "count      354369.000000          354369.0  354369.000000  \n",
       "mean            5.714645               0.0   50508.689087  \n",
       "std             3.726421               0.0   25783.096248  \n",
       "min             0.000000               0.0    1067.000000  \n",
       "25%             3.000000               0.0   30165.000000  \n",
       "50%             6.000000               0.0   49413.000000  \n",
       "75%             9.000000               0.0   71083.000000  \n",
       "max            12.000000               0.0   99998.000000  "
      ]
     },
     "metadata": {},
     "output_type": "display_data"
    },
    {
     "name": "stdout",
     "output_type": "stream",
     "text": [
      "размер:    (354369, 16)\n",
      "пропусков:          181077\n"
     ]
    }
   ],
   "source": [
    "df_analyse(data)"
   ]
  },
  {
   "cell_type": "code",
   "execution_count": 7,
   "metadata": {
    "id": "_TiVt3RES5vi"
   },
   "outputs": [],
   "source": [
    "data.columns = data.columns.str.replace(r'([A-Z])', r' \\1').str.lower().str.replace(' ', '_').str[1:]"
   ]
  },
  {
   "cell_type": "code",
   "execution_count": 8,
   "metadata": {
    "colab": {
     "base_uri": "https://localhost:8080/"
    },
    "id": "mkldiP4_S98T",
    "outputId": "ba40e749-7e0a-462b-d3bc-ae0dbfada7ba"
   },
   "outputs": [
    {
     "data": {
      "text/plain": [
       "Index(['date_crawled', 'price', 'vehicle_type', 'registration_year', 'gearbox',\n",
       "       'power', 'model', 'kilometer', 'registration_month', 'fuel_type',\n",
       "       'brand', 'repaired', 'date_created', 'number_of_pictures',\n",
       "       'postal_code', 'last_seen'],\n",
       "      dtype='object')"
      ]
     },
     "execution_count": 8,
     "metadata": {},
     "output_type": "execute_result"
    }
   ],
   "source": [
    "data.columns"
   ]
  },
  {
   "cell_type": "markdown",
   "metadata": {
    "id": "KxjMYaSDRoG-"
   },
   "source": [
    "найдем число уникальных значений в стобце \"количество фотографий\""
   ]
  },
  {
   "cell_type": "code",
   "execution_count": 9,
   "metadata": {
    "colab": {
     "base_uri": "https://localhost:8080/"
    },
    "id": "NOWJwJL0RF92",
    "outputId": "cc5df543-bd3c-4e57-823f-cfaf53ada895"
   },
   "outputs": [
    {
     "data": {
      "text/plain": [
       "0    354369\n",
       "Name: number_of_pictures, dtype: int64"
      ]
     },
     "execution_count": 9,
     "metadata": {},
     "output_type": "execute_result"
    }
   ],
   "source": [
    "data.number_of_pictures.value_counts()"
   ]
  },
  {
   "cell_type": "markdown",
   "metadata": {
    "id": "TLzc2YsFBs7p"
   },
   "source": [
    "удалим это столбец, и другие неинформативные столбцы: Почтовый код, кол-во фотографий автомобиля, псоледний визит пользоватлея, дата создания карточки, месяц регистрации "
   ]
  },
  {
   "cell_type": "code",
   "execution_count": 10,
   "metadata": {
    "id": "Ndxfueg_TaUa"
   },
   "outputs": [],
   "source": [
    "data = data.drop(['number_of_pictures', 'postal_code', 'date_created', 'last_seen', 'registration_month', 'date_crawled'], axis=1)"
   ]
  },
  {
   "cell_type": "code",
   "execution_count": 11,
   "metadata": {
    "colab": {
     "base_uri": "https://localhost:8080/"
    },
    "id": "nBL-xOjkTdxK",
    "outputId": "7929d6d2-5ff6-4f4a-f670-ffbc060ee1da"
   },
   "outputs": [
    {
     "data": {
      "text/plain": [
       "petrol      216352\n",
       "gasoline     98720\n",
       "lpg           5310\n",
       "cng            565\n",
       "hybrid         233\n",
       "other          204\n",
       "electric        90\n",
       "Name: fuel_type, dtype: int64"
      ]
     },
     "execution_count": 11,
     "metadata": {},
     "output_type": "execute_result"
    }
   ],
   "source": [
    "data.fuel_type.value_counts()"
   ]
  },
  {
   "cell_type": "markdown",
   "metadata": {
    "id": "Ta8pCu3RJ1y-"
   },
   "source": [
    "переименуем gasoline в petrol, поскольку оба означают 'бензин' и заполним пропуски значением other."
   ]
  },
  {
   "cell_type": "code",
   "execution_count": 12,
   "metadata": {
    "id": "O4s8MLFGThVh"
   },
   "outputs": [],
   "source": [
    "data['fuel_type'] = data['fuel_type'].replace(['gasoline'],'petrol')\n",
    "data.fuel_type.fillna('other', inplace=True)"
   ]
  },
  {
   "cell_type": "markdown",
   "metadata": {
    "id": "49kmk2h5CGtx"
   },
   "source": [
    "найдем уникальные значения в столбце 'тип кузова'"
   ]
  },
  {
   "cell_type": "code",
   "execution_count": 13,
   "metadata": {
    "colab": {
     "base_uri": "https://localhost:8080/"
    },
    "id": "6SEqiBnjTk8R",
    "outputId": "b3d20896-b95e-40fb-ea58-b26e29e951a6"
   },
   "outputs": [
    {
     "data": {
      "text/plain": [
       "sedan          91457\n",
       "small          79831\n",
       "wagon          65166\n",
       "bus            28775\n",
       "convertible    20203\n",
       "coupe          16163\n",
       "suv            11996\n",
       "other           3288\n",
       "Name: vehicle_type, dtype: int64"
      ]
     },
     "execution_count": 13,
     "metadata": {},
     "output_type": "execute_result"
    }
   ],
   "source": [
    "data.vehicle_type.value_counts()"
   ]
  },
  {
   "cell_type": "code",
   "execution_count": 14,
   "metadata": {
    "id": "ShD_ets9TpfS"
   },
   "outputs": [],
   "source": [
    "data.vehicle_type.fillna('other', inplace=True)"
   ]
  },
  {
   "cell_type": "markdown",
   "metadata": {
    "id": "i_v2A4RzCKQw"
   },
   "source": [
    "найдем уникальные значения стобца 'коробка передач'"
   ]
  },
  {
   "cell_type": "code",
   "execution_count": 15,
   "metadata": {
    "colab": {
     "base_uri": "https://localhost:8080/"
    },
    "id": "Nsun_rd6Ts4Z",
    "outputId": "f720e5de-621d-4deb-ab74-66d019a94d33"
   },
   "outputs": [
    {
     "data": {
      "text/plain": [
       "manual    268251\n",
       "auto       66285\n",
       "Name: gearbox, dtype: int64"
      ]
     },
     "execution_count": 15,
     "metadata": {},
     "output_type": "execute_result"
    }
   ],
   "source": [
    "data.gearbox.value_counts()"
   ]
  },
  {
   "cell_type": "markdown",
   "metadata": {
    "id": "LufPto3KCPnQ"
   },
   "source": [
    "заполним пропуски значением 'unknown'"
   ]
  },
  {
   "cell_type": "code",
   "execution_count": 16,
   "metadata": {
    "id": "ATthAejzTwPR"
   },
   "outputs": [],
   "source": [
    "data.gearbox.fillna('unknown', inplace=True)"
   ]
  },
  {
   "cell_type": "markdown",
   "metadata": {
    "id": "OOwmF6-SCUlt"
   },
   "source": [
    "в столбце 'модель' и 'была машина в ремонте или нет' тоже заполним пропуски на unknown"
   ]
  },
  {
   "cell_type": "code",
   "execution_count": 17,
   "metadata": {
    "id": "hwseK6cSTy9g"
   },
   "outputs": [],
   "source": [
    "data.model.fillna('unknown', inplace=True)\n",
    "data.repaired.fillna('unknown', inplace=True)"
   ]
  },
  {
   "cell_type": "code",
   "execution_count": 18,
   "metadata": {
    "colab": {
     "base_uri": "https://localhost:8080/"
    },
    "id": "rLSsb6nQT2uJ",
    "outputId": "62b49aac-183b-480b-c561-7081797072f8"
   },
   "outputs": [
    {
     "data": {
      "text/plain": [
       "price                0\n",
       "vehicle_type         0\n",
       "registration_year    0\n",
       "gearbox              0\n",
       "power                0\n",
       "model                0\n",
       "kilometer            0\n",
       "fuel_type            0\n",
       "brand                0\n",
       "repaired             0\n",
       "dtype: int64"
      ]
     },
     "execution_count": 18,
     "metadata": {},
     "output_type": "execute_result"
    }
   ],
   "source": [
    "data.isna().sum()"
   ]
  },
  {
   "cell_type": "markdown",
   "metadata": {
    "id": "NAAApbbnEfN3"
   },
   "source": [
    " найдем уникальные значения в столбце \"год регистрации\""
   ]
  },
  {
   "cell_type": "code",
   "execution_count": 19,
   "metadata": {
    "colab": {
     "base_uri": "https://localhost:8080/"
    },
    "id": "0kS3BvFST5mh",
    "outputId": "6eec3640-7f79-42b2-f89d-1d2d4682f12f"
   },
   "outputs": [
    {
     "data": {
      "text/plain": [
       "array([1993, 2011, 2004, 2001, 2008, 1995, 1980, 2014, 1998, 2005, 1910,\n",
       "       2016, 2007, 2009, 2002, 2018, 1997, 1990, 2017, 1981, 2003, 1994,\n",
       "       1991, 1984, 2006, 1999, 2012, 2010, 2000, 1992, 2013, 1996, 1985,\n",
       "       1989, 2015, 1982, 1976, 1983, 1973, 1111, 1969, 1971, 1987, 1986,\n",
       "       1988, 1970, 1965, 1945, 1925, 1974, 1979, 1955, 1978, 1972, 1968,\n",
       "       1977, 1961, 1960, 1966, 1975, 1963, 1964, 5000, 1954, 1958, 1967,\n",
       "       1959, 9999, 1956, 3200, 1000, 1941, 8888, 1500, 2200, 4100, 1962,\n",
       "       1929, 1957, 1940, 3000, 2066, 1949, 2019, 1937, 1951, 1800, 1953,\n",
       "       1234, 8000, 5300, 9000, 2900, 6000, 5900, 5911, 1933, 1400, 1950,\n",
       "       4000, 1948, 1952, 1200, 8500, 1932, 1255, 3700, 3800, 4800, 1942,\n",
       "       7000, 1935, 1936, 6500, 1923, 2290, 2500, 1930, 1001, 9450, 1944,\n",
       "       1943, 1934, 1938, 1688, 2800, 1253, 1928, 1919, 5555, 5600, 1600,\n",
       "       2222, 1039, 9996, 1300, 8455, 1931, 1915, 4500, 1920, 1602, 7800,\n",
       "       9229, 1947, 1927, 7100, 8200, 1946, 7500, 3500])"
      ]
     },
     "execution_count": 19,
     "metadata": {},
     "output_type": "execute_result"
    }
   ],
   "source": [
    "data['registration_year'].unique()"
   ]
  },
  {
   "cell_type": "markdown",
   "metadata": {
    "id": "l9vN6-rOEamB"
   },
   "source": [
    "поскольку наши данные на 2016 год, удалим все строки с годом после 2016, и, поскольку автомобили до 1900 года это скорее всего аномалии, удалим их тоже"
   ]
  },
  {
   "cell_type": "code",
   "execution_count": 20,
   "metadata": {
    "colab": {
     "base_uri": "https://localhost:8080/"
    },
    "id": "da96myfMUAwa",
    "outputId": "1b0d0fbc-e010-4a1c-85ae-855983411f6a"
   },
   "outputs": [
    {
     "data": {
      "text/plain": [
       "array([1993, 2011, 2004, 2001, 2008, 1995, 1980, 2014, 1998, 2005, 1910,\n",
       "       2016, 2007, 2009, 2002, 1997, 1990, 1981, 2003, 1994, 1991, 1984,\n",
       "       2006, 1999, 2012, 2010, 2000, 1992, 2013, 1996, 1985, 1989, 2015,\n",
       "       1982, 1976, 1983, 1973, 1969, 1971, 1987, 1986, 1988, 1970, 1965,\n",
       "       1945, 1925, 1974, 1979, 1955, 1978, 1972, 1968, 1977, 1961, 1960,\n",
       "       1966, 1975, 1963, 1964, 1954, 1958, 1967, 1959, 1956, 1941, 1962,\n",
       "       1929, 1957, 1940, 1949, 1937, 1951, 1953, 1933, 1950, 1948, 1952,\n",
       "       1932, 1942, 1935, 1936, 1923, 1930, 1944, 1943, 1934, 1938, 1928,\n",
       "       1919, 1931, 1915, 1920, 1947, 1927, 1946])"
      ]
     },
     "execution_count": 20,
     "metadata": {},
     "output_type": "execute_result"
    }
   ],
   "source": [
    "df_years_filtred = data.loc[(data['registration_year'] <= 2016) & (data['registration_year'] >= 1900)]\n",
    "df_years_filtred['registration_year'].unique()"
   ]
  },
  {
   "cell_type": "markdown",
   "metadata": {
    "id": "h1SBbeBrFdfX"
   },
   "source": [
    "найдем уникальные значения в столбце 'мощность'"
   ]
  },
  {
   "cell_type": "code",
   "execution_count": 21,
   "metadata": {
    "colab": {
     "base_uri": "https://localhost:8080/"
    },
    "id": "MoWXZUntUD06",
    "outputId": "6faed4b1-3d4f-49fd-897e-b4b29e8243ff"
   },
   "outputs": [
    {
     "data": {
      "text/plain": [
       "0       36453\n",
       "75      22806\n",
       "60      15169\n",
       "150     14150\n",
       "101     12732\n",
       "        ...  \n",
       "1704        1\n",
       "2729        1\n",
       "1703        1\n",
       "3750        1\n",
       "903         1\n",
       "Name: power, Length: 699, dtype: int64"
      ]
     },
     "execution_count": 21,
     "metadata": {},
     "output_type": "execute_result"
    }
   ],
   "source": [
    "df_years_filtred.power.value_counts()"
   ]
  },
  {
   "cell_type": "code",
   "execution_count": 22,
   "metadata": {
    "colab": {
     "base_uri": "https://localhost:8080/",
     "height": 461
    },
    "id": "Yxk4HaA5UHvB",
    "outputId": "a6faac1e-3712-47e3-9b53-ca7edac029e2"
   },
   "outputs": [
    {
     "data": {
      "text/plain": [
       "<AxesSubplot:>"
      ]
     },
     "execution_count": 22,
     "metadata": {},
     "output_type": "execute_result"
    },
    {
     "data": {
      "image/png": "[encoded data removed]",
      "text/plain": [
       "<Figure size 1440x720 with 1 Axes>"
      ]
     },
     "metadata": {
      "needs_background": "light"
     },
     "output_type": "display_data"
    }
   ],
   "source": [
    "plt.figure(figsize=(20,10))\n",
    "df_years_filtred['power'].hist(bins = 40)"
   ]
  },
  {
   "cell_type": "markdown",
   "metadata": {
    "id": "O8YOMtO8FlLo"
   },
   "source": [
    "удалим аномалии - мощность больше 700 лошадиных сил"
   ]
  },
  {
   "cell_type": "code",
   "execution_count": 23,
   "metadata": {
    "id": "owIZD4TBUMV5"
   },
   "outputs": [],
   "source": [
    "df_years_filtred = df_years_filtred.loc[df_years_filtred['power'] <= 700]"
   ]
  },
  {
   "cell_type": "markdown",
   "metadata": {
    "id": "qTHFvD_ZFmb4"
   },
   "source": [
    "заменим нули медианой "
   ]
  },
  {
   "cell_type": "code",
   "execution_count": 24,
   "metadata": {
    "id": "e__3BFFNUPUK"
   },
   "outputs": [],
   "source": [
    "df_years_filtred['power'] = df_years_filtred['power'].replace(0, df_years_filtred['power'].median())"
   ]
  },
  {
   "cell_type": "code",
   "execution_count": 25,
   "metadata": {
    "colab": {
     "base_uri": "https://localhost:8080/",
     "height": 463
    },
    "id": "FRTK6EIbUSDp",
    "outputId": "3b369436-8e61-48a1-b3e3-4186db5ed88e"
   },
   "outputs": [
    {
     "data": {
      "text/plain": [
       "<AxesSubplot:>"
      ]
     },
     "execution_count": 25,
     "metadata": {},
     "output_type": "execute_result"
    },
    {
     "data": {
      "image/png": "[encoded data removed]",
      "text/plain": [
       "<Figure size 1440x720 with 1 Axes>"
      ]
     },
     "metadata": {
      "needs_background": "light"
     },
     "output_type": "display_data"
    }
   ],
   "source": [
    "plt.figure(figsize=(20,10))\n",
    "df_years_filtred['power'].hist(bins = 40)"
   ]
  },
  {
   "cell_type": "markdown",
   "metadata": {
    "id": "kp2EzHBvGT8n"
   },
   "source": [
    "проверим на аномалии значения столбца \"цена\""
   ]
  },
  {
   "cell_type": "code",
   "execution_count": 26,
   "metadata": {
    "colab": {
     "base_uri": "https://localhost:8080/"
    },
    "id": "bJYeEwv1GReo",
    "outputId": "d2160dcc-5b48-4e07-d11a-a2d2b80ceca2"
   },
   "outputs": [
    {
     "data": {
      "text/plain": [
       "0       9989\n",
       "500     5461\n",
       "1500    5082\n",
       "1000    4359\n",
       "1200    4328\n",
       "        ... \n",
       "4782       1\n",
       "6575       1\n",
       "6208       1\n",
       "2221       1\n",
       "8188       1\n",
       "Name: price, Length: 3693, dtype: int64"
      ]
     },
     "execution_count": 26,
     "metadata": {},
     "output_type": "execute_result"
    }
   ],
   "source": [
    "df_years_filtred['price'].value_counts()"
   ]
  },
  {
   "cell_type": "code",
   "execution_count": 27,
   "metadata": {
    "colab": {
     "base_uri": "https://localhost:8080/",
     "height": 463
    },
    "id": "nbUIge-sUWq0",
    "outputId": "8c0f0ae2-ee40-4c8f-afca-02f9b8a236ad"
   },
   "outputs": [
    {
     "data": {
      "text/plain": [
       "<AxesSubplot:>"
      ]
     },
     "execution_count": 27,
     "metadata": {},
     "output_type": "execute_result"
    },
    {
     "data": {
      "image/png": "[encoded data removed]",
      "text/plain": [
       "<Figure size 1440x720 with 1 Axes>"
      ]
     },
     "metadata": {
      "needs_background": "light"
     },
     "output_type": "display_data"
    }
   ],
   "source": [
    "plt.figure(figsize=(20,10))\n",
    "df_years_filtred['price'].hist(bins = 50)"
   ]
  },
  {
   "cell_type": "code",
   "execution_count": 28,
   "metadata": {
    "id": "n-mXocYnUe3i"
   },
   "outputs": [],
   "source": [
    "df_years_filtred= df_years_filtred.loc[df_years_filtred['price']>0]"
   ]
  },
  {
   "cell_type": "code",
   "execution_count": 29,
   "metadata": {
    "colab": {
     "base_uri": "https://localhost:8080/"
    },
    "id": "33tPcZ_eJSpv",
    "outputId": "14cce53c-7c40-4b04-d344-459a1b2e459b"
   },
   "outputs": [
    {
     "data": {
      "text/plain": [
       "500      5461\n",
       "1500     5082\n",
       "1000     4359\n",
       "1200     4328\n",
       "2500     4239\n",
       "         ... \n",
       "11897       1\n",
       "5246        1\n",
       "6783        1\n",
       "13949       1\n",
       "8188        1\n",
       "Name: price, Length: 3692, dtype: int64"
      ]
     },
     "execution_count": 29,
     "metadata": {},
     "output_type": "execute_result"
    }
   ],
   "source": [
    "df_years_filtred['price'].value_counts()"
   ]
  },
  {
   "cell_type": "code",
   "execution_count": 30,
   "metadata": {
    "colab": {
     "base_uri": "https://localhost:8080/",
     "height": 463
    },
    "id": "jgSnHDOWUiCa",
    "outputId": "245b89c5-642b-4135-a0be-3ff3852ec777"
   },
   "outputs": [
    {
     "data": {
      "text/plain": [
       "<AxesSubplot:>"
      ]
     },
     "execution_count": 30,
     "metadata": {},
     "output_type": "execute_result"
    },
    {
     "data": {
      "image/png": "[encoded data removed]",
      "text/plain": [
       "<Figure size 1440x720 with 1 Axes>"
      ]
     },
     "metadata": {
      "needs_background": "light"
     },
     "output_type": "display_data"
    }
   ],
   "source": [
    "plt.figure(figsize=(20,10))\n",
    "df_years_filtred['price'].hist(bins = 50)"
   ]
  },
  {
   "cell_type": "code",
   "execution_count": 31,
   "metadata": {
    "colab": {
     "base_uri": "https://localhost:8080/"
    },
    "id": "EFXYutZuUmXC",
    "outputId": "ee23ce61-6171-4778-879d-6ee6a3961ea0"
   },
   "outputs": [
    {
     "data": {
      "text/plain": [
       "43248"
      ]
     },
     "execution_count": 31,
     "metadata": {},
     "output_type": "execute_result"
    }
   ],
   "source": [
    "df_years_filtred.duplicated().sum()"
   ]
  },
  {
   "cell_type": "code",
   "execution_count": 32,
   "metadata": {
    "colab": {
     "base_uri": "https://localhost:8080/"
    },
    "id": "gvUVzpYZUqGp",
    "outputId": "438a71bc-3c1e-499d-93f5-147ac6b6df4d"
   },
   "outputs": [
    {
     "data": {
      "text/plain": [
       "0.1312681545423917"
      ]
     },
     "execution_count": 32,
     "metadata": {},
     "output_type": "execute_result"
    }
   ],
   "source": [
    "df_years_filtred.duplicated().sum()/len(df_years_filtred)"
   ]
  },
  {
   "cell_type": "code",
   "execution_count": 33,
   "metadata": {
    "colab": {
     "base_uri": "https://localhost:8080/"
    },
    "id": "YC8rGv-WUusZ",
    "outputId": "ccf7cddf-b36e-4ea7-c77f-5248bfe91ebc"
   },
   "outputs": [
    {
     "data": {
      "text/plain": [
       "0"
      ]
     },
     "execution_count": 33,
     "metadata": {},
     "output_type": "execute_result"
    }
   ],
   "source": [
    "#удалим дубликаты(с удалением старых индексов и формированием новых)\n",
    "df = df_years_filtred.drop_duplicates().reset_index(drop=True)\n",
    "df.duplicated().sum()#проверим"
   ]
  },
  {
   "cell_type": "markdown",
   "metadata": {
    "id": "lPtC1LMGp-4E"
   },
   "source": [
    "### Вывод \n",
    "В этом разделе мы произвели предобработку данных. На входе мы получили таблицу с более чем 350 тыс. строк и 16 столбцами. Мы перевели названия столбцов в более удобочитаемый нижний и змеиный регистр, удалили неинформативные столбцы, заполнили пропуски, избавились от аномалий."
   ]
  },
  {
   "cell_type": "markdown",
   "metadata": {
    "id": "s2ttNkozUz-R"
   },
   "source": [
    "## Обучение моделей"
   ]
  },
  {
   "cell_type": "code",
   "execution_count": 34,
   "metadata": {
    "colab": {
     "base_uri": "https://localhost:8080/",
     "height": 300
    },
    "id": "MPZ52e9yUzGI",
    "outputId": "04d1a994-82cb-4cfd-9458-6ada9a02e8c0"
   },
   "outputs": [
    {
     "data": {
      "text/html": [
       "<div>\n",
       "<style scoped>\n",
       "    .dataframe tbody tr th:only-of-type {\n",
       "        vertical-align: middle;\n",
       "    }\n",
       "\n",
       "    .dataframe tbody tr th {\n",
       "        vertical-align: top;\n",
       "    }\n",
       "\n",
       "    .dataframe thead th {\n",
       "        text-align: right;\n",
       "    }\n",
       "</style>\n",
       "<table border=\"1\" class=\"dataframe\">\n",
       "  <thead>\n",
       "    <tr style=\"text-align: right;\">\n",
       "      <th></th>\n",
       "      <th>price</th>\n",
       "      <th>registration_year</th>\n",
       "      <th>power</th>\n",
       "      <th>kilometer</th>\n",
       "      <th>vehicle_type_convertible</th>\n",
       "      <th>vehicle_type_coupe</th>\n",
       "      <th>vehicle_type_other</th>\n",
       "      <th>vehicle_type_sedan</th>\n",
       "      <th>vehicle_type_small</th>\n",
       "      <th>vehicle_type_suv</th>\n",
       "      <th>...</th>\n",
       "      <th>brand_smart</th>\n",
       "      <th>brand_sonstige_autos</th>\n",
       "      <th>brand_subaru</th>\n",
       "      <th>brand_suzuki</th>\n",
       "      <th>brand_toyota</th>\n",
       "      <th>brand_trabant</th>\n",
       "      <th>brand_volkswagen</th>\n",
       "      <th>brand_volvo</th>\n",
       "      <th>repaired_unknown</th>\n",
       "      <th>repaired_yes</th>\n",
       "    </tr>\n",
       "  </thead>\n",
       "  <tbody>\n",
       "    <tr>\n",
       "      <th>0</th>\n",
       "      <td>480</td>\n",
       "      <td>1993</td>\n",
       "      <td>105.0</td>\n",
       "      <td>150000</td>\n",
       "      <td>0</td>\n",
       "      <td>0</td>\n",
       "      <td>1</td>\n",
       "      <td>0</td>\n",
       "      <td>0</td>\n",
       "      <td>0</td>\n",
       "      <td>...</td>\n",
       "      <td>0</td>\n",
       "      <td>0</td>\n",
       "      <td>0</td>\n",
       "      <td>0</td>\n",
       "      <td>0</td>\n",
       "      <td>0</td>\n",
       "      <td>1</td>\n",
       "      <td>0</td>\n",
       "      <td>1</td>\n",
       "      <td>0</td>\n",
       "    </tr>\n",
       "    <tr>\n",
       "      <th>1</th>\n",
       "      <td>18300</td>\n",
       "      <td>2011</td>\n",
       "      <td>190.0</td>\n",
       "      <td>125000</td>\n",
       "      <td>0</td>\n",
       "      <td>1</td>\n",
       "      <td>0</td>\n",
       "      <td>0</td>\n",
       "      <td>0</td>\n",
       "      <td>0</td>\n",
       "      <td>...</td>\n",
       "      <td>0</td>\n",
       "      <td>0</td>\n",
       "      <td>0</td>\n",
       "      <td>0</td>\n",
       "      <td>0</td>\n",
       "      <td>0</td>\n",
       "      <td>0</td>\n",
       "      <td>0</td>\n",
       "      <td>0</td>\n",
       "      <td>1</td>\n",
       "    </tr>\n",
       "    <tr>\n",
       "      <th>2</th>\n",
       "      <td>9800</td>\n",
       "      <td>2004</td>\n",
       "      <td>163.0</td>\n",
       "      <td>125000</td>\n",
       "      <td>0</td>\n",
       "      <td>0</td>\n",
       "      <td>0</td>\n",
       "      <td>0</td>\n",
       "      <td>0</td>\n",
       "      <td>1</td>\n",
       "      <td>...</td>\n",
       "      <td>0</td>\n",
       "      <td>0</td>\n",
       "      <td>0</td>\n",
       "      <td>0</td>\n",
       "      <td>0</td>\n",
       "      <td>0</td>\n",
       "      <td>0</td>\n",
       "      <td>0</td>\n",
       "      <td>1</td>\n",
       "      <td>0</td>\n",
       "    </tr>\n",
       "    <tr>\n",
       "      <th>3</th>\n",
       "      <td>1500</td>\n",
       "      <td>2001</td>\n",
       "      <td>75.0</td>\n",
       "      <td>150000</td>\n",
       "      <td>0</td>\n",
       "      <td>0</td>\n",
       "      <td>0</td>\n",
       "      <td>0</td>\n",
       "      <td>1</td>\n",
       "      <td>0</td>\n",
       "      <td>...</td>\n",
       "      <td>0</td>\n",
       "      <td>0</td>\n",
       "      <td>0</td>\n",
       "      <td>0</td>\n",
       "      <td>0</td>\n",
       "      <td>0</td>\n",
       "      <td>1</td>\n",
       "      <td>0</td>\n",
       "      <td>0</td>\n",
       "      <td>0</td>\n",
       "    </tr>\n",
       "    <tr>\n",
       "      <th>4</th>\n",
       "      <td>3600</td>\n",
       "      <td>2008</td>\n",
       "      <td>69.0</td>\n",
       "      <td>90000</td>\n",
       "      <td>0</td>\n",
       "      <td>0</td>\n",
       "      <td>0</td>\n",
       "      <td>0</td>\n",
       "      <td>1</td>\n",
       "      <td>0</td>\n",
       "      <td>...</td>\n",
       "      <td>0</td>\n",
       "      <td>0</td>\n",
       "      <td>0</td>\n",
       "      <td>0</td>\n",
       "      <td>0</td>\n",
       "      <td>0</td>\n",
       "      <td>0</td>\n",
       "      <td>0</td>\n",
       "      <td>0</td>\n",
       "      <td>0</td>\n",
       "    </tr>\n",
       "  </tbody>\n",
       "</table>\n",
       "<p>5 rows × 309 columns</p>\n",
       "</div>"
      ],
      "text/plain": [
       "   price  registration_year  power  kilometer  vehicle_type_convertible  \\\n",
       "0    480               1993  105.0     150000                         0   \n",
       "1  18300               2011  190.0     125000                         0   \n",
       "2   9800               2004  163.0     125000                         0   \n",
       "3   1500               2001   75.0     150000                         0   \n",
       "4   3600               2008   69.0      90000                         0   \n",
       "\n",
       "   vehicle_type_coupe  vehicle_type_other  vehicle_type_sedan  \\\n",
       "0                   0                   1                   0   \n",
       "1                   1                   0                   0   \n",
       "2                   0                   0                   0   \n",
       "3                   0                   0                   0   \n",
       "4                   0                   0                   0   \n",
       "\n",
       "   vehicle_type_small  vehicle_type_suv  ...  brand_smart  \\\n",
       "0                   0                 0  ...            0   \n",
       "1                   0                 0  ...            0   \n",
       "2                   0                 1  ...            0   \n",
       "3                   1                 0  ...            0   \n",
       "4                   1                 0  ...            0   \n",
       "\n",
       "   brand_sonstige_autos  brand_subaru  brand_suzuki  brand_toyota  \\\n",
       "0                     0             0             0             0   \n",
       "1                     0             0             0             0   \n",
       "2                     0             0             0             0   \n",
       "3                     0             0             0             0   \n",
       "4                     0             0             0             0   \n",
       "\n",
       "   brand_trabant  brand_volkswagen  brand_volvo  repaired_unknown  \\\n",
       "0              0                 1            0                 1   \n",
       "1              0                 0            0                 0   \n",
       "2              0                 0            0                 1   \n",
       "3              0                 1            0                 0   \n",
       "4              0                 0            0                 0   \n",
       "\n",
       "   repaired_yes  \n",
       "0             0  \n",
       "1             1  \n",
       "2             0  \n",
       "3             0  \n",
       "4             0  \n",
       "\n",
       "[5 rows x 309 columns]"
      ]
     },
     "execution_count": 34,
     "metadata": {},
     "output_type": "execute_result"
    }
   ],
   "source": [
    "#переведем категориальные значения столбцов в количественные\n",
    "data_ohe = pd.get_dummies(df, drop_first=True)\n",
    "data_ohe.head()"
   ]
  },
  {
   "cell_type": "code",
   "execution_count": 35,
   "metadata": {
    "colab": {
     "base_uri": "https://localhost:8080/",
     "height": 54
    },
    "id": "tMQrrKhIU3z6",
    "outputId": "f8ec90ec-b285-4082-e3e4-3aa8ecf9ff15"
   },
   "outputs": [
    {
     "data": {
      "text/plain": [
       "(214661, 308)"
      ]
     },
     "metadata": {},
     "output_type": "display_data"
    },
    {
     "data": {
      "text/plain": [
       "(71554, 308)"
      ]
     },
     "metadata": {},
     "output_type": "display_data"
    }
   ],
   "source": [
    "#разделим выборки на обучающую и тестовую\n",
    "target_ohe = data_ohe['price']\n",
    "features_ohe = data_ohe.drop('price', axis=1)\n",
    "features_train_ohe, features_test_ohe, target_train_ohe, target_test_ohe = train_test_split(\n",
    "    features_ohe, target_ohe, test_size=0.25, random_state=12345) \n",
    "display(features_train_ohe.shape)\n",
    "display(features_test_ohe.shape)"
   ]
  },
  {
   "cell_type": "code",
   "execution_count": 36,
   "metadata": {
    "colab": {
     "base_uri": "https://localhost:8080/",
     "height": 35
    },
    "id": "lkFU7_kwVI_J",
    "outputId": "6031dd04-b703-47b6-9a51-3c95e9a56d22"
   },
   "outputs": [
    {
     "data": {
      "text/plain": [
       "['power', 'kilometer']"
      ]
     },
     "metadata": {},
     "output_type": "display_data"
    }
   ],
   "source": [
    "numeric = ['power','kilometer']\n",
    "display(numeric)"
   ]
  },
  {
   "cell_type": "markdown",
   "metadata": {
    "id": "Yw2eXnIGzm-f"
   },
   "source": [
    "масштабируем признаки"
   ]
  },
  {
   "cell_type": "code",
   "execution_count": 37,
   "metadata": {
    "id": "tj-M_1zT7fmr"
   },
   "outputs": [],
   "source": [
    "scaler = StandardScaler()\n",
    "scaler.fit(features_train_ohe[numeric])\n",
    "features_train_ohe[numeric] = scaler.transform(features_train_ohe[numeric])\n",
    "features_test_ohe[numeric] = scaler.transform(features_test_ohe[numeric])"
   ]
  },
  {
   "cell_type": "code",
   "execution_count": 38,
   "metadata": {
    "colab": {
     "base_uri": "https://localhost:8080/",
     "height": 300
    },
    "id": "VXhVSqj2WWCZ",
    "outputId": "fd64f1a2-c8aa-4c3f-d388-19b75ef37401"
   },
   "outputs": [
    {
     "data": {
      "text/html": [
       "<div>\n",
       "<style scoped>\n",
       "    .dataframe tbody tr th:only-of-type {\n",
       "        vertical-align: middle;\n",
       "    }\n",
       "\n",
       "    .dataframe tbody tr th {\n",
       "        vertical-align: top;\n",
       "    }\n",
       "\n",
       "    .dataframe thead th {\n",
       "        text-align: right;\n",
       "    }\n",
       "</style>\n",
       "<table border=\"1\" class=\"dataframe\">\n",
       "  <thead>\n",
       "    <tr style=\"text-align: right;\">\n",
       "      <th></th>\n",
       "      <th>registration_year</th>\n",
       "      <th>power</th>\n",
       "      <th>kilometer</th>\n",
       "      <th>vehicle_type_convertible</th>\n",
       "      <th>vehicle_type_coupe</th>\n",
       "      <th>vehicle_type_other</th>\n",
       "      <th>vehicle_type_sedan</th>\n",
       "      <th>vehicle_type_small</th>\n",
       "      <th>vehicle_type_suv</th>\n",
       "      <th>vehicle_type_wagon</th>\n",
       "      <th>...</th>\n",
       "      <th>brand_smart</th>\n",
       "      <th>brand_sonstige_autos</th>\n",
       "      <th>brand_subaru</th>\n",
       "      <th>brand_suzuki</th>\n",
       "      <th>brand_toyota</th>\n",
       "      <th>brand_trabant</th>\n",
       "      <th>brand_volkswagen</th>\n",
       "      <th>brand_volvo</th>\n",
       "      <th>repaired_unknown</th>\n",
       "      <th>repaired_yes</th>\n",
       "    </tr>\n",
       "  </thead>\n",
       "  <tbody>\n",
       "    <tr>\n",
       "      <th>65347</th>\n",
       "      <td>2006</td>\n",
       "      <td>1.043425</td>\n",
       "      <td>0.598993</td>\n",
       "      <td>0</td>\n",
       "      <td>0</td>\n",
       "      <td>0</td>\n",
       "      <td>0</td>\n",
       "      <td>0</td>\n",
       "      <td>0</td>\n",
       "      <td>0</td>\n",
       "      <td>...</td>\n",
       "      <td>0</td>\n",
       "      <td>0</td>\n",
       "      <td>0</td>\n",
       "      <td>0</td>\n",
       "      <td>0</td>\n",
       "      <td>0</td>\n",
       "      <td>1</td>\n",
       "      <td>0</td>\n",
       "      <td>0</td>\n",
       "      <td>0</td>\n",
       "    </tr>\n",
       "    <tr>\n",
       "      <th>3141</th>\n",
       "      <td>2000</td>\n",
       "      <td>-0.575898</td>\n",
       "      <td>0.598993</td>\n",
       "      <td>0</td>\n",
       "      <td>0</td>\n",
       "      <td>0</td>\n",
       "      <td>0</td>\n",
       "      <td>0</td>\n",
       "      <td>0</td>\n",
       "      <td>1</td>\n",
       "      <td>...</td>\n",
       "      <td>0</td>\n",
       "      <td>0</td>\n",
       "      <td>0</td>\n",
       "      <td>0</td>\n",
       "      <td>0</td>\n",
       "      <td>0</td>\n",
       "      <td>1</td>\n",
       "      <td>0</td>\n",
       "      <td>0</td>\n",
       "      <td>0</td>\n",
       "    </tr>\n",
       "    <tr>\n",
       "      <th>254162</th>\n",
       "      <td>2004</td>\n",
       "      <td>-1.154228</td>\n",
       "      <td>0.598993</td>\n",
       "      <td>0</td>\n",
       "      <td>0</td>\n",
       "      <td>0</td>\n",
       "      <td>0</td>\n",
       "      <td>1</td>\n",
       "      <td>0</td>\n",
       "      <td>0</td>\n",
       "      <td>...</td>\n",
       "      <td>0</td>\n",
       "      <td>0</td>\n",
       "      <td>0</td>\n",
       "      <td>0</td>\n",
       "      <td>0</td>\n",
       "      <td>0</td>\n",
       "      <td>0</td>\n",
       "      <td>0</td>\n",
       "      <td>0</td>\n",
       "      <td>1</td>\n",
       "    </tr>\n",
       "    <tr>\n",
       "      <th>87782</th>\n",
       "      <td>2014</td>\n",
       "      <td>0.310874</td>\n",
       "      <td>-2.794649</td>\n",
       "      <td>0</td>\n",
       "      <td>0</td>\n",
       "      <td>0</td>\n",
       "      <td>1</td>\n",
       "      <td>0</td>\n",
       "      <td>0</td>\n",
       "      <td>0</td>\n",
       "      <td>...</td>\n",
       "      <td>0</td>\n",
       "      <td>0</td>\n",
       "      <td>0</td>\n",
       "      <td>0</td>\n",
       "      <td>0</td>\n",
       "      <td>0</td>\n",
       "      <td>0</td>\n",
       "      <td>0</td>\n",
       "      <td>0</td>\n",
       "      <td>0</td>\n",
       "    </tr>\n",
       "    <tr>\n",
       "      <th>191041</th>\n",
       "      <td>2001</td>\n",
       "      <td>-1.154228</td>\n",
       "      <td>0.598993</td>\n",
       "      <td>0</td>\n",
       "      <td>0</td>\n",
       "      <td>0</td>\n",
       "      <td>0</td>\n",
       "      <td>1</td>\n",
       "      <td>0</td>\n",
       "      <td>0</td>\n",
       "      <td>...</td>\n",
       "      <td>0</td>\n",
       "      <td>0</td>\n",
       "      <td>0</td>\n",
       "      <td>0</td>\n",
       "      <td>0</td>\n",
       "      <td>0</td>\n",
       "      <td>0</td>\n",
       "      <td>0</td>\n",
       "      <td>1</td>\n",
       "      <td>0</td>\n",
       "    </tr>\n",
       "  </tbody>\n",
       "</table>\n",
       "<p>5 rows × 308 columns</p>\n",
       "</div>"
      ],
      "text/plain": [
       "        registration_year     power  kilometer  vehicle_type_convertible  \\\n",
       "65347                2006  1.043425   0.598993                         0   \n",
       "3141                 2000 -0.575898   0.598993                         0   \n",
       "254162               2004 -1.154228   0.598993                         0   \n",
       "87782                2014  0.310874  -2.794649                         0   \n",
       "191041               2001 -1.154228   0.598993                         0   \n",
       "\n",
       "        vehicle_type_coupe  vehicle_type_other  vehicle_type_sedan  \\\n",
       "65347                    0                   0                   0   \n",
       "3141                     0                   0                   0   \n",
       "254162                   0                   0                   0   \n",
       "87782                    0                   0                   1   \n",
       "191041                   0                   0                   0   \n",
       "\n",
       "        vehicle_type_small  vehicle_type_suv  vehicle_type_wagon  ...  \\\n",
       "65347                    0                 0                   0  ...   \n",
       "3141                     0                 0                   1  ...   \n",
       "254162                   1                 0                   0  ...   \n",
       "87782                    0                 0                   0  ...   \n",
       "191041                   1                 0                   0  ...   \n",
       "\n",
       "        brand_smart  brand_sonstige_autos  brand_subaru  brand_suzuki  \\\n",
       "65347             0                     0             0             0   \n",
       "3141              0                     0             0             0   \n",
       "254162            0                     0             0             0   \n",
       "87782             0                     0             0             0   \n",
       "191041            0                     0             0             0   \n",
       "\n",
       "        brand_toyota  brand_trabant  brand_volkswagen  brand_volvo  \\\n",
       "65347              0              0                 1            0   \n",
       "3141               0              0                 1            0   \n",
       "254162             0              0                 0            0   \n",
       "87782              0              0                 0            0   \n",
       "191041             0              0                 0            0   \n",
       "\n",
       "        repaired_unknown  repaired_yes  \n",
       "65347                  0             0  \n",
       "3141                   0             0  \n",
       "254162                 0             1  \n",
       "87782                  0             0  \n",
       "191041                 1             0  \n",
       "\n",
       "[5 rows x 308 columns]"
      ]
     },
     "execution_count": 38,
     "metadata": {},
     "output_type": "execute_result"
    }
   ],
   "source": [
    "features_train_ohe.head()"
   ]
  },
  {
   "cell_type": "markdown",
   "metadata": {
    "id": "nDWhFKh205qU"
   },
   "source": [
    "### Линейная регрессия"
   ]
  },
  {
   "cell_type": "markdown",
   "metadata": {
    "id": "cv-VqXr61ip8"
   },
   "source": [
    "обучим модель линейной регрессии и произведем замеры"
   ]
  },
  {
   "cell_type": "code",
   "execution_count": 39,
   "metadata": {
    "colab": {
     "base_uri": "https://localhost:8080/",
     "height": 111
    },
    "id": "OYcHbOFGWxrY",
    "outputId": "3e30bcdd-e943-4415-b67c-16fc93aa370d",
    "scrolled": true
   },
   "outputs": [
    {
     "name": "stdout",
     "output_type": "stream",
     "text": [
      "CPU times: user 12.8 s, sys: 5.35 s, total: 18.1 s\n",
      "Wall time: 18.1 s\n"
     ]
    },
    {
     "data": {
      "text/plain": [
       "LinearRegression()"
      ]
     },
     "execution_count": 39,
     "metadata": {},
     "output_type": "execute_result"
    }
   ],
   "source": [
    "%%time\n",
    "lr = LinearRegression()\n",
    "time_fit_start = time.time()\n",
    "lr.fit(features_train_ohe, target_train_ohe)"
   ]
  },
  {
   "cell_type": "code",
   "execution_count": 40,
   "metadata": {
    "colab": {
     "base_uri": "https://localhost:8080/"
    },
    "id": "-j0KpJdRMAfe",
    "outputId": "45f7914e-aaed-46a4-87f4-ad4641e67e84"
   },
   "outputs": [
    {
     "name": "stdout",
     "output_type": "stream",
     "text": [
      "RMSE: 2782.73208974118\n",
      "CPU times: user 179 ms, sys: 212 ms, total: 391 ms\n",
      "Wall time: 395 ms\n"
     ]
    }
   ],
   "source": [
    "%%time\n",
    "predictions_train_ohe = lr.predict(features_train_ohe)\n",
    "print('RMSE:',mean_squared_error(target_train_ohe, predictions_train_ohe, squared=False))"
   ]
  },
  {
   "cell_type": "markdown",
   "metadata": {
    "id": "iu1vw1AwNDbd"
   },
   "source": [
    " Обучение и предсказние на тренировчкой выборке дали результаты: обучение 21.7 предсказание длилось 494мс. при этом получили RMSE: 2782.7320897411796"
   ]
  },
  {
   "cell_type": "markdown",
   "metadata": {
    "id": "fjCAcUVu6knu"
   },
   "source": [
    "разделим выборки на обучающую и тестовую"
   ]
  },
  {
   "cell_type": "code",
   "execution_count": 41,
   "metadata": {},
   "outputs": [],
   "source": [
    "target_oe = df['price']\n",
    "features_oe = df.drop('price', axis=1)"
   ]
  },
  {
   "cell_type": "code",
   "execution_count": 42,
   "metadata": {
    "colab": {
     "base_uri": "https://localhost:8080/"
    },
    "id": "ANPRQD5zXKNw",
    "outputId": "acb460bc-d197-41f3-a64f-116475da5a59"
   },
   "outputs": [
    {
     "name": "stdout",
     "output_type": "stream",
     "text": [
      "(214661, 9)\n",
      "(71554, 9)\n"
     ]
    }
   ],
   "source": [
    "features_train_oe, features_test_oe, target_train_oe, target_test_oe = train_test_split(\n",
    "    features_oe, target_oe, test_size=0.25, random_state=12345) \n",
    "\n",
    "print(features_train_oe.shape)\n",
    "print(features_test_oe.shape)"
   ]
  },
  {
   "cell_type": "code",
   "execution_count": 43,
   "metadata": {},
   "outputs": [
    {
     "data": {
      "text/html": [
       "<div>\n",
       "<style scoped>\n",
       "    .dataframe tbody tr th:only-of-type {\n",
       "        vertical-align: middle;\n",
       "    }\n",
       "\n",
       "    .dataframe tbody tr th {\n",
       "        vertical-align: top;\n",
       "    }\n",
       "\n",
       "    .dataframe thead th {\n",
       "        text-align: right;\n",
       "    }\n",
       "</style>\n",
       "<table border=\"1\" class=\"dataframe\">\n",
       "  <thead>\n",
       "    <tr style=\"text-align: right;\">\n",
       "      <th></th>\n",
       "      <th>vehicle_type</th>\n",
       "      <th>registration_year</th>\n",
       "      <th>gearbox</th>\n",
       "      <th>power</th>\n",
       "      <th>model</th>\n",
       "      <th>kilometer</th>\n",
       "      <th>fuel_type</th>\n",
       "      <th>brand</th>\n",
       "      <th>repaired</th>\n",
       "    </tr>\n",
       "  </thead>\n",
       "  <tbody>\n",
       "    <tr>\n",
       "      <th>65347</th>\n",
       "      <td>bus</td>\n",
       "      <td>2006</td>\n",
       "      <td>manual</td>\n",
       "      <td>174.0</td>\n",
       "      <td>transporter</td>\n",
       "      <td>150000</td>\n",
       "      <td>petrol</td>\n",
       "      <td>volkswagen</td>\n",
       "      <td>no</td>\n",
       "    </tr>\n",
       "    <tr>\n",
       "      <th>3141</th>\n",
       "      <td>wagon</td>\n",
       "      <td>2000</td>\n",
       "      <td>manual</td>\n",
       "      <td>90.0</td>\n",
       "      <td>golf</td>\n",
       "      <td>150000</td>\n",
       "      <td>petrol</td>\n",
       "      <td>volkswagen</td>\n",
       "      <td>no</td>\n",
       "    </tr>\n",
       "    <tr>\n",
       "      <th>254162</th>\n",
       "      <td>small</td>\n",
       "      <td>2004</td>\n",
       "      <td>manual</td>\n",
       "      <td>60.0</td>\n",
       "      <td>twingo</td>\n",
       "      <td>150000</td>\n",
       "      <td>petrol</td>\n",
       "      <td>renault</td>\n",
       "      <td>yes</td>\n",
       "    </tr>\n",
       "    <tr>\n",
       "      <th>87782</th>\n",
       "      <td>sedan</td>\n",
       "      <td>2014</td>\n",
       "      <td>manual</td>\n",
       "      <td>136.0</td>\n",
       "      <td>1er</td>\n",
       "      <td>20000</td>\n",
       "      <td>petrol</td>\n",
       "      <td>bmw</td>\n",
       "      <td>no</td>\n",
       "    </tr>\n",
       "    <tr>\n",
       "      <th>191041</th>\n",
       "      <td>small</td>\n",
       "      <td>2001</td>\n",
       "      <td>manual</td>\n",
       "      <td>60.0</td>\n",
       "      <td>ibiza</td>\n",
       "      <td>150000</td>\n",
       "      <td>petrol</td>\n",
       "      <td>seat</td>\n",
       "      <td>unknown</td>\n",
       "    </tr>\n",
       "  </tbody>\n",
       "</table>\n",
       "</div>"
      ],
      "text/plain": [
       "       vehicle_type  registration_year gearbox  power        model  kilometer  \\\n",
       "65347           bus               2006  manual  174.0  transporter     150000   \n",
       "3141          wagon               2000  manual   90.0         golf     150000   \n",
       "254162        small               2004  manual   60.0       twingo     150000   \n",
       "87782         sedan               2014  manual  136.0          1er      20000   \n",
       "191041        small               2001  manual   60.0        ibiza     150000   \n",
       "\n",
       "       fuel_type       brand repaired  \n",
       "65347     petrol  volkswagen       no  \n",
       "3141      petrol  volkswagen       no  \n",
       "254162    petrol     renault      yes  \n",
       "87782     petrol         bmw       no  \n",
       "191041    petrol        seat  unknown  "
      ]
     },
     "execution_count": 43,
     "metadata": {},
     "output_type": "execute_result"
    }
   ],
   "source": [
    "features_train_oe.head()"
   ]
  },
  {
   "cell_type": "code",
   "execution_count": 44,
   "metadata": {
    "id": "lPoYhWCNXH9K"
   },
   "outputs": [],
   "source": [
    "# закодируем признаки с помощью порядкового кодирования\n",
    "enc = OrdinalEncoder()\n",
    "features_train_w_oe =pd.DataFrame(enc.fit_transform(features_train_oe[['vehicle_type','registration_year', 'gearbox', \n",
    "            'model','fuel_type',\n",
    "            'brand', 'repaired']]),columns=['vehicle_type','registration_year', 'gearbox', \n",
    "            'model', 'fuel_type',\n",
    "            'brand', 'repaired'])\n",
    "features_test_w_oe = pd.DataFrame(enc.fit_transform(features_test_oe[['vehicle_type','registration_year', 'gearbox', \n",
    "            'model','fuel_type',\n",
    "            'brand', 'repaired']]),columns=['vehicle_type','registration_year', 'gearbox', \n",
    "            'model', 'fuel_type',\n",
    "            'brand', 'repaired'])"
   ]
  },
  {
   "cell_type": "code",
   "execution_count": 45,
   "metadata": {},
   "outputs": [
    {
     "data": {
      "text/html": [
       "<div>\n",
       "<style scoped>\n",
       "    .dataframe tbody tr th:only-of-type {\n",
       "        vertical-align: middle;\n",
       "    }\n",
       "\n",
       "    .dataframe tbody tr th {\n",
       "        vertical-align: top;\n",
       "    }\n",
       "\n",
       "    .dataframe thead th {\n",
       "        text-align: right;\n",
       "    }\n",
       "</style>\n",
       "<table border=\"1\" class=\"dataframe\">\n",
       "  <thead>\n",
       "    <tr style=\"text-align: right;\">\n",
       "      <th></th>\n",
       "      <th>vehicle_type</th>\n",
       "      <th>registration_year</th>\n",
       "      <th>gearbox</th>\n",
       "      <th>model</th>\n",
       "      <th>fuel_type</th>\n",
       "      <th>brand</th>\n",
       "      <th>repaired</th>\n",
       "    </tr>\n",
       "  </thead>\n",
       "  <tbody>\n",
       "    <tr>\n",
       "      <th>0</th>\n",
       "      <td>0.0</td>\n",
       "      <td>77.0</td>\n",
       "      <td>1.0</td>\n",
       "      <td>223.0</td>\n",
       "      <td>5.0</td>\n",
       "      <td>38.0</td>\n",
       "      <td>0.0</td>\n",
       "    </tr>\n",
       "    <tr>\n",
       "      <th>1</th>\n",
       "      <td>7.0</td>\n",
       "      <td>71.0</td>\n",
       "      <td>1.0</td>\n",
       "      <td>116.0</td>\n",
       "      <td>5.0</td>\n",
       "      <td>38.0</td>\n",
       "      <td>0.0</td>\n",
       "    </tr>\n",
       "    <tr>\n",
       "      <th>2</th>\n",
       "      <td>5.0</td>\n",
       "      <td>75.0</td>\n",
       "      <td>1.0</td>\n",
       "      <td>226.0</td>\n",
       "      <td>5.0</td>\n",
       "      <td>27.0</td>\n",
       "      <td>2.0</td>\n",
       "    </tr>\n",
       "    <tr>\n",
       "      <th>3</th>\n",
       "      <td>4.0</td>\n",
       "      <td>85.0</td>\n",
       "      <td>1.0</td>\n",
       "      <td>6.0</td>\n",
       "      <td>5.0</td>\n",
       "      <td>2.0</td>\n",
       "      <td>0.0</td>\n",
       "    </tr>\n",
       "    <tr>\n",
       "      <th>4</th>\n",
       "      <td>5.0</td>\n",
       "      <td>72.0</td>\n",
       "      <td>1.0</td>\n",
       "      <td>120.0</td>\n",
       "      <td>5.0</td>\n",
       "      <td>30.0</td>\n",
       "      <td>1.0</td>\n",
       "    </tr>\n",
       "  </tbody>\n",
       "</table>\n",
       "</div>"
      ],
      "text/plain": [
       "   vehicle_type  registration_year  gearbox  model  fuel_type  brand  repaired\n",
       "0           0.0               77.0      1.0  223.0        5.0   38.0       0.0\n",
       "1           7.0               71.0      1.0  116.0        5.0   38.0       0.0\n",
       "2           5.0               75.0      1.0  226.0        5.0   27.0       2.0\n",
       "3           4.0               85.0      1.0    6.0        5.0    2.0       0.0\n",
       "4           5.0               72.0      1.0  120.0        5.0   30.0       1.0"
      ]
     },
     "execution_count": 45,
     "metadata": {},
     "output_type": "execute_result"
    }
   ],
   "source": [
    "features_train_w_oe.head()"
   ]
  },
  {
   "cell_type": "markdown",
   "metadata": {
    "id": "GUfepa0f1_Yb"
   },
   "source": [
    "результаты подбора гипепараметров : max_depth= 20 и n_estimators = 500 показали RMSE 1758.9999144453432 3.5min"
   ]
  },
  {
   "cell_type": "markdown",
   "metadata": {
    "id": "vLGISwWbTfOp"
   },
   "source": [
    "Произведем замеры Случаного леса"
   ]
  },
  {
   "cell_type": "code",
   "execution_count": 46,
   "metadata": {
    "colab": {
     "base_uri": "https://localhost:8080/",
     "height": 129
    },
    "id": "FeDNhWOtkTYi",
    "outputId": "84564603-9132-4769-8fd7-57f32f23269e"
   },
   "outputs": [
    {
     "name": "stdout",
     "output_type": "stream",
     "text": [
      "CPU times: user 2min 14s, sys: 1.62 s, total: 2min 16s\n",
      "Wall time: 2min 16s\n"
     ]
    },
    {
     "data": {
      "text/plain": [
       "RandomForestRegressor(max_depth=20, n_estimators=500, n_jobs=-1,\n",
       "                      random_state=12345)"
      ]
     },
     "execution_count": 46,
     "metadata": {},
     "output_type": "execute_result"
    }
   ],
   "source": [
    "%%time\n",
    "rfr = RandomForestRegressor(random_state=12345,n_jobs=-1 ,max_depth=20, n_estimators=500)\n",
    "rfr.fit(features_train_w_oe, target_train_oe)"
   ]
  },
  {
   "cell_type": "code",
   "execution_count": 47,
   "metadata": {
    "colab": {
     "base_uri": "https://localhost:8080/"
    },
    "id": "JgXXADBpkVvT",
    "outputId": "9e8696f3-1678-42e2-dde8-a8f14da753db"
   },
   "outputs": [
    {
     "name": "stdout",
     "output_type": "stream",
     "text": [
      "1619.6435702116605\n",
      "CPU times: user 23.7 s, sys: 39.3 ms, total: 23.7 s\n",
      "Wall time: 23.8 s\n"
     ]
    }
   ],
   "source": [
    "%%time\n",
    "rfr_predicted = rfr.predict(features_train_w_oe)\n",
    "print(mean_squared_error(target_train_oe,rfr_predicted,squared=False))"
   ]
  },
  {
   "cell_type": "markdown",
   "metadata": {
    "id": "ocSyaz5ELq5u"
   },
   "source": [
    "На тренировочной выборке случайный лес показал скорость обучения 4минут 8с а предсказание длилось 31.7с , RMSE при этом 1068.1959113577552"
   ]
  },
  {
   "cell_type": "markdown",
   "metadata": {
    "id": "ca-6mbaiysB_"
   },
   "source": [
    "### LightGBM"
   ]
  },
  {
   "cell_type": "code",
   "execution_count": 48,
   "metadata": {
    "colab": {
     "base_uri": "https://localhost:8080/"
    },
    "id": "ZDo1-BRNj9-k",
    "outputId": "32d7fce3-7391-4c50-81b2-f34127bb57b4"
   },
   "outputs": [
    {
     "name": "stdout",
     "output_type": "stream",
     "text": [
      "(214661, 9)\n",
      "(71554, 9)\n"
     ]
    }
   ],
   "source": [
    "# выделим признаки и целевой признак\n",
    "target = df['price']\n",
    "features = df.drop('price', axis=1)\n",
    "\n",
    "# переведем категориальные признаки в тип category, который требуется для LightGBM\n",
    "for c in features.columns:\n",
    "    col_type = features[c].dtype\n",
    "    if col_type == 'object':\n",
    "        features[c] = features[c].astype('category')\n",
    "\n",
    "#разделим выборки на обучающую и тестовую\n",
    "features_train, features_test, target_train, target_test = train_test_split(features, target, test_size=0.25, random_state=12345) \n",
    "\n",
    "# проверим размер выборок\n",
    "print(features_train.shape)\n",
    "print(features_test.shape)"
   ]
  },
  {
   "cell_type": "code",
   "execution_count": 49,
   "metadata": {
    "id": "OUOqzVoVkItD"
   },
   "outputs": [],
   "source": [
    "#Эти параметры я оставил для наглядности. Подбор уж очень долго происходит\n",
    "lgbm_param_grid = {'n_estimators':  [500], 'num_leaves': [n for n in range (120, 140, 20)]}"
   ]
  },
  {
   "cell_type": "code",
   "execution_count": 50,
   "metadata": {
    "colab": {
     "base_uri": "https://localhost:8080/",
     "height": 127
    },
    "id": "iLGT2RWtkLLK",
    "outputId": "d7a6a5aa-8664-4010-90aa-9680e25516af"
   },
   "outputs": [
    {
     "name": "stdout",
     "output_type": "stream",
     "text": [
      "Fitting 3 folds for each of 1 candidates, totalling 3 fits\n",
      "[CV 1/3] END ...............n_estimators=500, num_leaves=120; total time=  34.7s\n",
      "[CV 2/3] END ...............n_estimators=500, num_leaves=120; total time=  44.0s\n",
      "[CV 3/3] END ...............n_estimators=500, num_leaves=120; total time=  40.8s\n"
     ]
    },
    {
     "data": {
      "text/plain": [
       "{'n_estimators': 500, 'num_leaves': 120}"
      ]
     },
     "metadata": {},
     "output_type": "display_data"
    },
    {
     "data": {
      "text/plain": [
       "1645.5473577173623"
      ]
     },
     "metadata": {},
     "output_type": "display_data"
    }
   ],
   "source": [
    "lgbm= lgb.LGBMRegressor(random_state=12345)\n",
    "\n",
    "gs_lgbm=GridSearchCV(estimator=lgbm,\n",
    "                          param_grid=lgbm_param_grid,\n",
    "                          scoring='neg_root_mean_squared_error',\n",
    "                          cv=3,\n",
    "                          verbose=3)\n",
    "\n",
    "gs_lgbm.fit(features_train, target_train, categorical_feature =[\"vehicle_type\",\"gearbox\",\n",
    "                                                             \"model\",\"fuel_type\",\n",
    "                                                             \"brand\",\"repaired\"])\n",
    "display(gs_lgbm.best_params_)\n",
    "display(gs_lgbm.best_score_*-1)"
   ]
  },
  {
   "cell_type": "markdown",
   "metadata": {
    "id": "EGNanSMYXQhP"
   },
   "source": [
    "Лучшие парметры для этой модели n_estimators= 500 и num_leaves = 120\n",
    "RMSE 1659.3915019631042"
   ]
  },
  {
   "cell_type": "code",
   "execution_count": 51,
   "metadata": {
    "colab": {
     "base_uri": "https://localhost:8080/",
     "height": 111
    },
    "id": "9S6_bzKSEYIM",
    "outputId": "c940b104-9f3c-469a-95fb-f16749dc600a"
   },
   "outputs": [
    {
     "name": "stdout",
     "output_type": "stream",
     "text": [
      "CPU times: user 37.2 s, sys: 794 ms, total: 38 s\n",
      "Wall time: 38.2 s\n"
     ]
    },
    {
     "data": {
      "text/plain": [
       "LGBMRegressor(n_estimators=500, num_leaves=120, random_state=12345)"
      ]
     },
     "execution_count": 51,
     "metadata": {},
     "output_type": "execute_result"
    }
   ],
   "source": [
    "%%time\n",
    "lgbm = lgb.LGBMRegressor(random_state=12345, n_estimators= 500, num_leaves = 120)\n",
    "lgbm.fit(features_train, target_train,  categorical_feature =[\"vehicle_type\",\"gearbox\",\n",
    "                                                             \"model\",\"fuel_type\",\n",
    "                                                             \"brand\",\"repaired\"])"
   ]
  },
  {
   "cell_type": "code",
   "execution_count": 52,
   "metadata": {
    "colab": {
     "base_uri": "https://localhost:8080/"
    },
    "id": "E5BlUb2IEYIN",
    "outputId": "332e7edd-a09d-47cb-e672-e179e6b76f6f"
   },
   "outputs": [
    {
     "name": "stdout",
     "output_type": "stream",
     "text": [
      "1337.3506373634418\n",
      "CPU times: user 19 s, sys: 43.7 ms, total: 19 s\n",
      "Wall time: 19 s\n"
     ]
    }
   ],
   "source": [
    "%%time\n",
    "lgbm_predicted = lgbm.predict(features_train)\n",
    "print(mean_squared_error(target_train,lgbm_predicted,squared=False))"
   ]
  },
  {
   "cell_type": "markdown",
   "metadata": {
    "id": "u1n5r5S6EYIN"
   },
   "source": [
    "На тренировочной выборке LGBM показал скорость обучения 15.9с, а предсказание длилось 20.2с , RMSE при этом 1336.8322918623821"
   ]
  },
  {
   "cell_type": "markdown",
   "metadata": {
    "id": "gjrm_qbNCFMZ"
   },
   "source": [
    "### CatBoost"
   ]
  },
  {
   "cell_type": "code",
   "execution_count": 53,
   "metadata": {
    "id": "VC3jhmBoDtvP"
   },
   "outputs": [],
   "source": [
    "#Эти параметры я оставил для наглядности. Подбор уж люто долго происходит\n",
    "cbr_param_grid = {'depth':[10],'learning_rate':np.arange(0.1,0.3,0.2)}"
   ]
  },
  {
   "cell_type": "code",
   "execution_count": 54,
   "metadata": {
    "colab": {
     "base_uri": "https://localhost:8080/"
    },
    "id": "4dl4AUGmCEti",
    "outputId": "8f441767-ac31-435c-d805-3fcca05d1fff"
   },
   "outputs": [
    {
     "name": "stdout",
     "output_type": "stream",
     "text": [
      "Fitting 3 folds for each of 1 candidates, totalling 3 fits\n",
      "0:\tlearn: 4282.1238247\ttotal: 382ms\tremaining: 6m 22s\n",
      "1:\tlearn: 3988.8362806\ttotal: 677ms\tremaining: 5m 37s\n",
      "2:\tlearn: 3738.0929966\ttotal: 993ms\tremaining: 5m 30s\n",
      "3:\tlearn: 3512.5122351\ttotal: 1.31s\tremaining: 5m 26s\n",
      "4:\tlearn: 3313.4484840\ttotal: 1.61s\tremaining: 5m 20s\n",
      "5:\tlearn: 3144.1473474\ttotal: 1.92s\tremaining: 5m 17s\n",
      "6:\tlearn: 2988.1370243\ttotal: 2.22s\tremaining: 5m 14s\n",
      "7:\tlearn: 2846.8034668\ttotal: 2.56s\tremaining: 5m 17s\n",
      "8:\tlearn: 2725.1408432\ttotal: 2.85s\tremaining: 5m 13s\n",
      "9:\tlearn: 2617.8955433\ttotal: 3.15s\tremaining: 5m 12s\n",
      "10:\tlearn: 2525.3474362\ttotal: 3.46s\tremaining: 5m 11s\n",
      "11:\tlearn: 2445.3536837\ttotal: 3.83s\tremaining: 5m 15s\n",
      "12:\tlearn: 2374.3360556\ttotal: 4.2s\tremaining: 5m 18s\n",
      "13:\tlearn: 2312.7986143\ttotal: 4.6s\tremaining: 5m 23s\n",
      "14:\tlearn: 2260.1496305\ttotal: 4.9s\tremaining: 5m 21s\n",
      "15:\tlearn: 2215.6843116\ttotal: 5.33s\tremaining: 5m 27s\n",
      "16:\tlearn: 2166.1712494\ttotal: 5.67s\tremaining: 5m 27s\n",
      "17:\tlearn: 2126.4188883\ttotal: 5.97s\tremaining: 5m 25s\n",
      "18:\tlearn: 2092.0729804\ttotal: 6.3s\tremaining: 5m 25s\n",
      "19:\tlearn: 2060.0485338\ttotal: 6.63s\tremaining: 5m 24s\n",
      "20:\tlearn: 2032.7807962\ttotal: 7.02s\tremaining: 5m 27s\n",
      "21:\tlearn: 2007.2069185\ttotal: 7.38s\tremaining: 5m 28s\n",
      "22:\tlearn: 1984.6019150\ttotal: 7.72s\tremaining: 5m 27s\n",
      "23:\tlearn: 1963.6806259\ttotal: 8.08s\tremaining: 5m 28s\n",
      "24:\tlearn: 1945.0286414\ttotal: 8.45s\tremaining: 5m 29s\n",
      "25:\tlearn: 1929.4488461\ttotal: 8.78s\tremaining: 5m 28s\n",
      "26:\tlearn: 1913.5998726\ttotal: 9.09s\tremaining: 5m 27s\n",
      "27:\tlearn: 1900.9701683\ttotal: 9.39s\tremaining: 5m 25s\n",
      "28:\tlearn: 1891.2492974\ttotal: 9.69s\tremaining: 5m 24s\n",
      "29:\tlearn: 1880.2422353\ttotal: 10s\tremaining: 5m 23s\n",
      "30:\tlearn: 1871.9111867\ttotal: 10.2s\tremaining: 5m 19s\n",
      "31:\tlearn: 1862.1545131\ttotal: 10.5s\tremaining: 5m 18s\n",
      "32:\tlearn: 1854.8161974\ttotal: 10.9s\tremaining: 5m 18s\n",
      "33:\tlearn: 1845.3581824\ttotal: 11.2s\tremaining: 5m 17s\n",
      "34:\tlearn: 1839.3779937\ttotal: 11.4s\tremaining: 5m 14s\n",
      "35:\tlearn: 1831.6590277\ttotal: 11.7s\tremaining: 5m 12s\n",
      "36:\tlearn: 1824.1248545\ttotal: 11.9s\tremaining: 5m 11s\n",
      "37:\tlearn: 1819.6769168\ttotal: 12.3s\tremaining: 5m 10s\n",
      "38:\tlearn: 1813.7816114\ttotal: 12.6s\tremaining: 5m 10s\n",
      "39:\tlearn: 1808.8572304\ttotal: 12.9s\tremaining: 5m 9s\n",
      "40:\tlearn: 1803.9252078\ttotal: 13.2s\tremaining: 5m 8s\n",
      "41:\tlearn: 1800.3343561\ttotal: 13.5s\tremaining: 5m 8s\n",
      "42:\tlearn: 1796.4925691\ttotal: 13.8s\tremaining: 5m 6s\n",
      "43:\tlearn: 1793.0173226\ttotal: 14.1s\tremaining: 5m 5s\n",
      "44:\tlearn: 1790.3046649\ttotal: 14.3s\tremaining: 5m 4s\n",
      "45:\tlearn: 1786.7831549\ttotal: 14.6s\tremaining: 5m 3s\n",
      "46:\tlearn: 1783.6423900\ttotal: 14.9s\tremaining: 5m 2s\n",
      "47:\tlearn: 1780.3766629\ttotal: 15.2s\tremaining: 5m 1s\n",
      "48:\tlearn: 1776.5091433\ttotal: 15.5s\tremaining: 5m 1s\n",
      "49:\tlearn: 1773.0720735\ttotal: 15.8s\tremaining: 5m\n",
      "50:\tlearn: 1770.2246119\ttotal: 16.1s\tremaining: 4m 59s\n",
      "51:\tlearn: 1767.3007424\ttotal: 16.4s\tremaining: 4m 58s\n",
      "52:\tlearn: 1764.9354125\ttotal: 16.7s\tremaining: 4m 58s\n",
      "53:\tlearn: 1762.5600040\ttotal: 17s\tremaining: 4m 57s\n",
      "54:\tlearn: 1760.1394656\ttotal: 17.3s\tremaining: 4m 57s\n",
      "55:\tlearn: 1757.1988014\ttotal: 17.6s\tremaining: 4m 56s\n",
      "56:\tlearn: 1755.0590334\ttotal: 17.9s\tremaining: 4m 56s\n",
      "57:\tlearn: 1752.6203331\ttotal: 18.2s\tremaining: 4m 55s\n",
      "58:\tlearn: 1750.8745582\ttotal: 18.5s\tremaining: 4m 54s\n",
      "59:\tlearn: 1746.7991199\ttotal: 18.8s\tremaining: 4m 54s\n",
      "60:\tlearn: 1745.3554593\ttotal: 19.2s\tremaining: 4m 55s\n",
      "61:\tlearn: 1743.8640822\ttotal: 19.5s\tremaining: 4m 54s\n",
      "62:\tlearn: 1740.6240380\ttotal: 19.7s\tremaining: 4m 53s\n",
      "63:\tlearn: 1737.3081067\ttotal: 20s\tremaining: 4m 53s\n",
      "64:\tlearn: 1735.7130315\ttotal: 20.3s\tremaining: 4m 52s\n",
      "65:\tlearn: 1734.3833153\ttotal: 20.6s\tremaining: 4m 51s\n",
      "66:\tlearn: 1731.2979480\ttotal: 20.9s\tremaining: 4m 51s\n",
      "67:\tlearn: 1729.3147855\ttotal: 21.2s\tremaining: 4m 50s\n",
      "68:\tlearn: 1727.2839980\ttotal: 21.5s\tremaining: 4m 50s\n",
      "69:\tlearn: 1725.8972264\ttotal: 21.8s\tremaining: 4m 49s\n",
      "70:\tlearn: 1724.6907531\ttotal: 22s\tremaining: 4m 48s\n",
      "71:\tlearn: 1722.6391206\ttotal: 22.3s\tremaining: 4m 47s\n",
      "72:\tlearn: 1720.4210074\ttotal: 22.6s\tremaining: 4m 47s\n",
      "73:\tlearn: 1719.5146494\ttotal: 22.9s\tremaining: 4m 46s\n",
      "74:\tlearn: 1716.8318094\ttotal: 23.2s\tremaining: 4m 45s\n",
      "75:\tlearn: 1715.9679891\ttotal: 23.5s\tremaining: 4m 45s\n",
      "76:\tlearn: 1713.0120058\ttotal: 23.8s\tremaining: 4m 45s\n",
      "77:\tlearn: 1711.7421954\ttotal: 24.1s\tremaining: 4m 45s\n",
      "78:\tlearn: 1709.8284122\ttotal: 24.4s\tremaining: 4m 44s\n",
      "79:\tlearn: 1707.7830587\ttotal: 24.7s\tremaining: 4m 44s\n",
      "80:\tlearn: 1705.8049423\ttotal: 25.1s\tremaining: 4m 44s\n",
      "81:\tlearn: 1703.8320789\ttotal: 25.4s\tremaining: 4m 44s\n",
      "82:\tlearn: 1700.9612918\ttotal: 25.7s\tremaining: 4m 43s\n",
      "83:\tlearn: 1699.0123351\ttotal: 26s\tremaining: 4m 43s\n",
      "84:\tlearn: 1697.9434161\ttotal: 26.3s\tremaining: 4m 43s\n",
      "85:\tlearn: 1695.7319339\ttotal: 26.7s\tremaining: 4m 44s\n",
      "86:\tlearn: 1694.9263484\ttotal: 27s\tremaining: 4m 43s\n",
      "87:\tlearn: 1693.4604211\ttotal: 27.3s\tremaining: 4m 42s\n",
      "88:\tlearn: 1691.7248239\ttotal: 27.6s\tremaining: 4m 42s\n",
      "89:\tlearn: 1690.0264387\ttotal: 27.9s\tremaining: 4m 42s\n",
      "90:\tlearn: 1687.4817346\ttotal: 28.2s\tremaining: 4m 42s\n",
      "91:\tlearn: 1686.3372339\ttotal: 28.5s\tremaining: 4m 41s\n",
      "92:\tlearn: 1684.8387782\ttotal: 28.8s\tremaining: 4m 41s\n",
      "93:\tlearn: 1683.4951940\ttotal: 29.2s\tremaining: 4m 40s\n",
      "94:\tlearn: 1682.7022955\ttotal: 29.5s\tremaining: 4m 41s\n",
      "95:\tlearn: 1681.1028155\ttotal: 29.8s\tremaining: 4m 40s\n",
      "96:\tlearn: 1679.5397794\ttotal: 30.1s\tremaining: 4m 40s\n",
      "97:\tlearn: 1678.1337341\ttotal: 30.4s\tremaining: 4m 39s\n",
      "98:\tlearn: 1677.3881433\ttotal: 30.7s\tremaining: 4m 39s\n",
      "99:\tlearn: 1675.9243707\ttotal: 31s\tremaining: 4m 39s\n",
      "100:\tlearn: 1674.2352254\ttotal: 31.3s\tremaining: 4m 38s\n",
      "101:\tlearn: 1673.1762651\ttotal: 31.6s\tremaining: 4m 37s\n",
      "102:\tlearn: 1671.1303533\ttotal: 31.9s\tremaining: 4m 37s\n",
      "103:\tlearn: 1670.3859023\ttotal: 32.2s\tremaining: 4m 37s\n",
      "104:\tlearn: 1669.0587647\ttotal: 32.6s\tremaining: 4m 37s\n",
      "105:\tlearn: 1666.9859560\ttotal: 32.9s\tremaining: 4m 37s\n",
      "106:\tlearn: 1666.3136861\ttotal: 33.2s\tremaining: 4m 36s\n",
      "107:\tlearn: 1664.8703574\ttotal: 33.5s\tremaining: 4m 36s\n",
      "108:\tlearn: 1663.1890849\ttotal: 33.7s\tremaining: 4m 35s\n",
      "109:\tlearn: 1661.6468169\ttotal: 34s\tremaining: 4m 35s\n",
      "110:\tlearn: 1661.3281134\ttotal: 34.4s\tremaining: 4m 35s\n",
      "111:\tlearn: 1660.0248062\ttotal: 34.7s\tremaining: 4m 34s\n",
      "112:\tlearn: 1659.0227717\ttotal: 35s\tremaining: 4m 34s\n",
      "113:\tlearn: 1656.8169506\ttotal: 35.3s\tremaining: 4m 34s\n",
      "114:\tlearn: 1656.3288032\ttotal: 35.6s\tremaining: 4m 34s\n",
      "115:\tlearn: 1654.9965518\ttotal: 36s\tremaining: 4m 34s\n",
      "116:\tlearn: 1653.8678059\ttotal: 36.3s\tremaining: 4m 34s\n",
      "117:\tlearn: 1652.8337058\ttotal: 36.7s\tremaining: 4m 34s\n",
      "118:\tlearn: 1651.4944688\ttotal: 37.1s\tremaining: 4m 34s\n",
      "119:\tlearn: 1650.2719039\ttotal: 37.4s\tremaining: 4m 34s\n",
      "120:\tlearn: 1648.6871437\ttotal: 37.7s\tremaining: 4m 33s\n",
      "121:\tlearn: 1648.2725099\ttotal: 38.1s\tremaining: 4m 34s\n",
      "122:\tlearn: 1646.9774047\ttotal: 38.4s\tremaining: 4m 33s\n",
      "123:\tlearn: 1645.9732670\ttotal: 38.7s\tremaining: 4m 33s\n",
      "124:\tlearn: 1645.3100090\ttotal: 39s\tremaining: 4m 33s\n",
      "125:\tlearn: 1644.5320616\ttotal: 39.4s\tremaining: 4m 33s\n",
      "126:\tlearn: 1642.7953467\ttotal: 39.7s\tremaining: 4m 32s\n",
      "127:\tlearn: 1641.8559571\ttotal: 40s\tremaining: 4m 32s\n",
      "128:\tlearn: 1641.0082628\ttotal: 40.4s\tremaining: 4m 32s\n",
      "129:\tlearn: 1639.4101174\ttotal: 40.7s\tremaining: 4m 32s\n",
      "130:\tlearn: 1637.0880926\ttotal: 41s\tremaining: 4m 31s\n",
      "131:\tlearn: 1636.5446255\ttotal: 41.3s\tremaining: 4m 31s\n",
      "132:\tlearn: 1634.8475824\ttotal: 41.6s\tremaining: 4m 31s\n",
      "133:\tlearn: 1633.3051364\ttotal: 41.8s\tremaining: 4m 30s\n",
      "134:\tlearn: 1632.2428782\ttotal: 42.2s\tremaining: 4m 30s\n",
      "135:\tlearn: 1631.3310528\ttotal: 42.4s\tremaining: 4m 29s\n",
      "136:\tlearn: 1630.5121498\ttotal: 42.7s\tremaining: 4m 29s\n",
      "137:\tlearn: 1629.6259392\ttotal: 43s\tremaining: 4m 28s\n",
      "138:\tlearn: 1628.6425567\ttotal: 43.3s\tremaining: 4m 28s\n",
      "139:\tlearn: 1627.2165789\ttotal: 43.6s\tremaining: 4m 27s\n",
      "140:\tlearn: 1626.7504787\ttotal: 44s\tremaining: 4m 27s\n",
      "141:\tlearn: 1625.0522901\ttotal: 44.3s\tremaining: 4m 27s\n",
      "142:\tlearn: 1624.6092276\ttotal: 44.6s\tremaining: 4m 27s\n",
      "143:\tlearn: 1623.5232947\ttotal: 44.9s\tremaining: 4m 26s\n",
      "144:\tlearn: 1622.3458801\ttotal: 45.2s\tremaining: 4m 26s\n",
      "145:\tlearn: 1621.1417444\ttotal: 45.5s\tremaining: 4m 26s\n",
      "146:\tlearn: 1620.2740713\ttotal: 45.9s\tremaining: 4m 26s\n",
      "147:\tlearn: 1619.3413671\ttotal: 46.2s\tremaining: 4m 26s\n",
      "148:\tlearn: 1618.3727545\ttotal: 46.6s\tremaining: 4m 25s\n",
      "149:\tlearn: 1618.0650301\ttotal: 47s\tremaining: 4m 26s\n",
      "150:\tlearn: 1616.9060381\ttotal: 47.3s\tremaining: 4m 26s\n",
      "151:\tlearn: 1616.0189654\ttotal: 47.6s\tremaining: 4m 25s\n",
      "152:\tlearn: 1615.0918175\ttotal: 47.9s\tremaining: 4m 25s\n",
      "153:\tlearn: 1614.1245593\ttotal: 48.3s\tremaining: 4m 25s\n",
      "154:\tlearn: 1613.1571052\ttotal: 48.6s\tremaining: 4m 24s\n",
      "155:\tlearn: 1612.5827514\ttotal: 48.8s\tremaining: 4m 24s\n",
      "156:\tlearn: 1612.1657898\ttotal: 49.1s\tremaining: 4m 23s\n",
      "157:\tlearn: 1611.1612370\ttotal: 49.4s\tremaining: 4m 23s\n",
      "158:\tlearn: 1609.8090840\ttotal: 49.8s\tremaining: 4m 23s\n",
      "159:\tlearn: 1608.7482141\ttotal: 50.1s\tremaining: 4m 22s\n",
      "160:\tlearn: 1608.4931984\ttotal: 50.4s\tremaining: 4m 22s\n",
      "161:\tlearn: 1607.4607101\ttotal: 50.7s\tremaining: 4m 22s\n",
      "162:\tlearn: 1606.6050668\ttotal: 51s\tremaining: 4m 21s\n",
      "163:\tlearn: 1605.6660859\ttotal: 51.3s\tremaining: 4m 21s\n",
      "164:\tlearn: 1604.5875973\ttotal: 51.6s\tremaining: 4m 20s\n",
      "165:\tlearn: 1604.0165405\ttotal: 51.9s\tremaining: 4m 20s\n",
      "166:\tlearn: 1602.5855360\ttotal: 52.2s\tremaining: 4m 20s\n",
      "167:\tlearn: 1601.6111403\ttotal: 52.4s\tremaining: 4m 19s\n",
      "168:\tlearn: 1601.0655147\ttotal: 52.7s\tremaining: 4m 19s\n",
      "169:\tlearn: 1599.8552098\ttotal: 53s\tremaining: 4m 18s\n",
      "170:\tlearn: 1599.2835283\ttotal: 53.4s\tremaining: 4m 18s\n",
      "171:\tlearn: 1598.5832323\ttotal: 53.7s\tremaining: 4m 18s\n",
      "172:\tlearn: 1598.3940043\ttotal: 54s\tremaining: 4m 18s\n",
      "173:\tlearn: 1597.5212150\ttotal: 54.3s\tremaining: 4m 17s\n",
      "174:\tlearn: 1596.6099172\ttotal: 54.6s\tremaining: 4m 17s\n",
      "175:\tlearn: 1596.0925854\ttotal: 54.9s\tremaining: 4m 17s\n",
      "176:\tlearn: 1595.3984675\ttotal: 55.3s\tremaining: 4m 16s\n",
      "177:\tlearn: 1595.0866376\ttotal: 55.6s\tremaining: 4m 16s\n",
      "178:\tlearn: 1594.7441981\ttotal: 55.9s\tremaining: 4m 16s\n",
      "179:\tlearn: 1593.9930901\ttotal: 56.2s\tremaining: 4m 16s\n",
      "180:\tlearn: 1593.5174680\ttotal: 56.7s\tremaining: 4m 16s\n",
      "181:\tlearn: 1592.6454053\ttotal: 57.1s\tremaining: 4m 16s\n",
      "182:\tlearn: 1591.8984078\ttotal: 57.3s\tremaining: 4m 15s\n",
      "183:\tlearn: 1591.4433503\ttotal: 57.7s\tremaining: 4m 15s\n",
      "184:\tlearn: 1590.3508142\ttotal: 58s\tremaining: 4m 15s\n",
      "185:\tlearn: 1589.4409730\ttotal: 58.3s\tremaining: 4m 15s\n",
      "186:\tlearn: 1589.1852136\ttotal: 58.7s\tremaining: 4m 15s\n",
      "187:\tlearn: 1588.5426983\ttotal: 58.9s\tremaining: 4m 14s\n",
      "188:\tlearn: 1587.3276202\ttotal: 59.3s\tremaining: 4m 14s\n",
      "189:\tlearn: 1587.1409707\ttotal: 59.7s\tremaining: 4m 14s\n",
      "190:\tlearn: 1586.6164927\ttotal: 1m\tremaining: 4m 14s\n",
      "191:\tlearn: 1586.2054250\ttotal: 1m\tremaining: 4m 14s\n",
      "192:\tlearn: 1585.5582131\ttotal: 1m\tremaining: 4m 13s\n",
      "193:\tlearn: 1584.5403830\ttotal: 1m\tremaining: 4m 13s\n",
      "194:\tlearn: 1583.8571038\ttotal: 1m 1s\tremaining: 4m 12s\n",
      "195:\tlearn: 1583.4285422\ttotal: 1m 1s\tremaining: 4m 12s\n",
      "196:\tlearn: 1583.1374420\ttotal: 1m 1s\tremaining: 4m 12s\n",
      "197:\tlearn: 1582.7476942\ttotal: 1m 2s\tremaining: 4m 12s\n",
      "198:\tlearn: 1581.9585331\ttotal: 1m 2s\tremaining: 4m 11s\n",
      "199:\tlearn: 1581.3662738\ttotal: 1m 2s\tremaining: 4m 11s\n",
      "200:\tlearn: 1581.1146624\ttotal: 1m 3s\tremaining: 4m 11s\n",
      "201:\tlearn: 1580.2635880\ttotal: 1m 3s\tremaining: 4m 11s\n",
      "202:\tlearn: 1580.0707799\ttotal: 1m 3s\tremaining: 4m 10s\n",
      "203:\tlearn: 1579.5795793\ttotal: 1m 4s\tremaining: 4m 10s\n",
      "204:\tlearn: 1579.0663872\ttotal: 1m 4s\tremaining: 4m 10s\n",
      "205:\tlearn: 1577.6682458\ttotal: 1m 4s\tremaining: 4m 10s\n",
      "206:\tlearn: 1577.1971218\ttotal: 1m 5s\tremaining: 4m 9s\n",
      "207:\tlearn: 1576.5941985\ttotal: 1m 5s\tremaining: 4m 9s\n",
      "208:\tlearn: 1575.6650762\ttotal: 1m 5s\tremaining: 4m 9s\n",
      "209:\tlearn: 1575.3464624\ttotal: 1m 6s\tremaining: 4m 9s\n",
      "210:\tlearn: 1574.7814797\ttotal: 1m 6s\tremaining: 4m 8s\n",
      "211:\tlearn: 1573.4151074\ttotal: 1m 6s\tremaining: 4m 8s\n",
      "212:\tlearn: 1572.7258922\ttotal: 1m 7s\tremaining: 4m 8s\n",
      "213:\tlearn: 1572.3959477\ttotal: 1m 7s\tremaining: 4m 8s\n",
      "214:\tlearn: 1571.8844545\ttotal: 1m 7s\tremaining: 4m 7s\n",
      "215:\tlearn: 1570.9857567\ttotal: 1m 8s\tremaining: 4m 7s\n",
      "216:\tlearn: 1570.2867994\ttotal: 1m 8s\tremaining: 4m 7s\n",
      "217:\tlearn: 1570.0592894\ttotal: 1m 8s\tremaining: 4m 7s\n",
      "218:\tlearn: 1569.6574315\ttotal: 1m 9s\tremaining: 4m 6s\n",
      "219:\tlearn: 1568.4790464\ttotal: 1m 9s\tremaining: 4m 6s\n",
      "220:\tlearn: 1568.1172372\ttotal: 1m 9s\tremaining: 4m 6s\n",
      "221:\tlearn: 1567.1737974\ttotal: 1m 10s\tremaining: 4m 5s\n",
      "222:\tlearn: 1566.1736262\ttotal: 1m 10s\tremaining: 4m 5s\n",
      "223:\tlearn: 1565.2233225\ttotal: 1m 10s\tremaining: 4m 5s\n",
      "224:\tlearn: 1564.9481877\ttotal: 1m 11s\tremaining: 4m 5s\n",
      "225:\tlearn: 1564.2631795\ttotal: 1m 11s\tremaining: 4m 4s\n",
      "226:\tlearn: 1563.6125230\ttotal: 1m 11s\tremaining: 4m 4s\n",
      "227:\tlearn: 1563.2440639\ttotal: 1m 12s\tremaining: 4m 4s\n",
      "228:\tlearn: 1563.0461217\ttotal: 1m 12s\tremaining: 4m 3s\n",
      "229:\tlearn: 1562.4503271\ttotal: 1m 12s\tremaining: 4m 3s\n",
      "230:\tlearn: 1561.8344905\ttotal: 1m 13s\tremaining: 4m 3s\n",
      "231:\tlearn: 1561.3518887\ttotal: 1m 13s\tremaining: 4m 2s\n",
      "232:\tlearn: 1560.3575364\ttotal: 1m 13s\tremaining: 4m 2s\n",
      "233:\tlearn: 1559.8412424\ttotal: 1m 14s\tremaining: 4m 2s\n",
      "234:\tlearn: 1558.9572170\ttotal: 1m 14s\tremaining: 4m 2s\n",
      "235:\tlearn: 1558.2390506\ttotal: 1m 14s\tremaining: 4m 1s\n",
      "236:\tlearn: 1557.8626622\ttotal: 1m 15s\tremaining: 4m 1s\n",
      "237:\tlearn: 1557.1394539\ttotal: 1m 15s\tremaining: 4m 1s\n",
      "238:\tlearn: 1556.2905935\ttotal: 1m 15s\tremaining: 4m 1s\n",
      "239:\tlearn: 1555.2027355\ttotal: 1m 16s\tremaining: 4m\n",
      "240:\tlearn: 1554.7605063\ttotal: 1m 16s\tremaining: 4m\n",
      "241:\tlearn: 1554.0566233\ttotal: 1m 16s\tremaining: 4m\n",
      "242:\tlearn: 1553.5493771\ttotal: 1m 17s\tremaining: 4m\n",
      "243:\tlearn: 1552.9431000\ttotal: 1m 17s\tremaining: 3m 59s\n",
      "244:\tlearn: 1552.5651894\ttotal: 1m 17s\tremaining: 3m 59s\n",
      "245:\tlearn: 1552.1718307\ttotal: 1m 17s\tremaining: 3m 58s\n",
      "246:\tlearn: 1551.8535879\ttotal: 1m 18s\tremaining: 3m 58s\n",
      "247:\tlearn: 1551.6131047\ttotal: 1m 18s\tremaining: 3m 58s\n",
      "248:\tlearn: 1551.0487777\ttotal: 1m 18s\tremaining: 3m 57s\n",
      "249:\tlearn: 1550.0791841\ttotal: 1m 19s\tremaining: 3m 57s\n",
      "250:\tlearn: 1549.5559895\ttotal: 1m 19s\tremaining: 3m 57s\n",
      "251:\tlearn: 1548.9267388\ttotal: 1m 19s\tremaining: 3m 57s\n",
      "252:\tlearn: 1548.3332701\ttotal: 1m 20s\tremaining: 3m 56s\n",
      "253:\tlearn: 1547.6497926\ttotal: 1m 20s\tremaining: 3m 56s\n",
      "254:\tlearn: 1546.9942619\ttotal: 1m 20s\tremaining: 3m 56s\n",
      "255:\tlearn: 1546.5362723\ttotal: 1m 21s\tremaining: 3m 56s\n",
      "256:\tlearn: 1545.9395706\ttotal: 1m 21s\tremaining: 3m 56s\n",
      "257:\tlearn: 1545.0946970\ttotal: 1m 21s\tremaining: 3m 55s\n",
      "258:\tlearn: 1544.7605135\ttotal: 1m 22s\tremaining: 3m 55s\n",
      "259:\tlearn: 1543.6639933\ttotal: 1m 22s\tremaining: 3m 55s\n",
      "260:\tlearn: 1543.3608773\ttotal: 1m 22s\tremaining: 3m 54s\n",
      "261:\tlearn: 1542.9081448\ttotal: 1m 23s\tremaining: 3m 54s\n",
      "262:\tlearn: 1542.3666588\ttotal: 1m 23s\tremaining: 3m 53s\n",
      "263:\tlearn: 1541.8088633\ttotal: 1m 23s\tremaining: 3m 53s\n",
      "264:\tlearn: 1540.9128844\ttotal: 1m 24s\tremaining: 3m 53s\n",
      "265:\tlearn: 1540.6407569\ttotal: 1m 24s\tremaining: 3m 53s\n",
      "266:\tlearn: 1540.1206694\ttotal: 1m 24s\tremaining: 3m 52s\n",
      "267:\tlearn: 1539.3679806\ttotal: 1m 25s\tremaining: 3m 52s\n",
      "268:\tlearn: 1538.8327517\ttotal: 1m 25s\tremaining: 3m 52s\n",
      "269:\tlearn: 1538.3703062\ttotal: 1m 25s\tremaining: 3m 51s\n",
      "270:\tlearn: 1538.1103037\ttotal: 1m 26s\tremaining: 3m 51s\n",
      "271:\tlearn: 1537.5369997\ttotal: 1m 26s\tremaining: 3m 51s\n",
      "272:\tlearn: 1537.4069759\ttotal: 1m 26s\tremaining: 3m 51s\n",
      "273:\tlearn: 1537.0853100\ttotal: 1m 27s\tremaining: 3m 50s\n",
      "274:\tlearn: 1536.4840220\ttotal: 1m 27s\tremaining: 3m 50s\n",
      "275:\tlearn: 1536.1959015\ttotal: 1m 27s\tremaining: 3m 50s\n",
      "276:\tlearn: 1535.2964068\ttotal: 1m 28s\tremaining: 3m 49s\n",
      "277:\tlearn: 1535.0918946\ttotal: 1m 28s\tremaining: 3m 49s\n",
      "278:\tlearn: 1534.6565041\ttotal: 1m 28s\tremaining: 3m 49s\n",
      "279:\tlearn: 1534.2825523\ttotal: 1m 28s\tremaining: 3m 48s\n",
      "280:\tlearn: 1533.9203735\ttotal: 1m 29s\tremaining: 3m 48s\n",
      "281:\tlearn: 1533.7257998\ttotal: 1m 29s\tremaining: 3m 48s\n",
      "282:\tlearn: 1532.8823181\ttotal: 1m 29s\tremaining: 3m 47s\n",
      "283:\tlearn: 1532.6545480\ttotal: 1m 30s\tremaining: 3m 47s\n",
      "284:\tlearn: 1532.3097650\ttotal: 1m 30s\tremaining: 3m 47s\n",
      "285:\tlearn: 1531.7178940\ttotal: 1m 30s\tremaining: 3m 47s\n",
      "286:\tlearn: 1530.9330200\ttotal: 1m 31s\tremaining: 3m 46s\n",
      "287:\tlearn: 1530.7254646\ttotal: 1m 31s\tremaining: 3m 46s\n",
      "288:\tlearn: 1530.5339167\ttotal: 1m 31s\tremaining: 3m 46s\n",
      "289:\tlearn: 1530.3873871\ttotal: 1m 32s\tremaining: 3m 45s\n",
      "290:\tlearn: 1530.1916843\ttotal: 1m 32s\tremaining: 3m 45s\n",
      "291:\tlearn: 1529.5535435\ttotal: 1m 32s\tremaining: 3m 44s\n",
      "292:\tlearn: 1529.1478524\ttotal: 1m 33s\tremaining: 3m 44s\n",
      "293:\tlearn: 1528.9560092\ttotal: 1m 33s\tremaining: 3m 44s\n",
      "294:\tlearn: 1528.6306077\ttotal: 1m 33s\tremaining: 3m 43s\n",
      "295:\tlearn: 1528.4992503\ttotal: 1m 33s\tremaining: 3m 43s\n",
      "296:\tlearn: 1528.2095557\ttotal: 1m 34s\tremaining: 3m 43s\n",
      "297:\tlearn: 1527.6017119\ttotal: 1m 34s\tremaining: 3m 43s\n",
      "298:\tlearn: 1526.9360610\ttotal: 1m 35s\tremaining: 3m 42s\n",
      "299:\tlearn: 1526.4557714\ttotal: 1m 35s\tremaining: 3m 42s\n",
      "300:\tlearn: 1526.3365422\ttotal: 1m 35s\tremaining: 3m 42s\n",
      "301:\tlearn: 1526.1405981\ttotal: 1m 35s\tremaining: 3m 41s\n",
      "302:\tlearn: 1525.4419701\ttotal: 1m 36s\tremaining: 3m 41s\n",
      "303:\tlearn: 1525.0569802\ttotal: 1m 36s\tremaining: 3m 41s\n",
      "304:\tlearn: 1524.4789991\ttotal: 1m 36s\tremaining: 3m 40s\n",
      "305:\tlearn: 1523.6472726\ttotal: 1m 37s\tremaining: 3m 40s\n",
      "306:\tlearn: 1522.7174045\ttotal: 1m 37s\tremaining: 3m 40s\n",
      "307:\tlearn: 1522.4725707\ttotal: 1m 38s\tremaining: 3m 40s\n",
      "308:\tlearn: 1522.4360629\ttotal: 1m 38s\tremaining: 3m 39s\n",
      "309:\tlearn: 1521.9177239\ttotal: 1m 38s\tremaining: 3m 39s\n",
      "310:\tlearn: 1521.7247626\ttotal: 1m 38s\tremaining: 3m 39s\n",
      "311:\tlearn: 1521.2593948\ttotal: 1m 39s\tremaining: 3m 39s\n",
      "312:\tlearn: 1520.9640379\ttotal: 1m 39s\tremaining: 3m 38s\n",
      "313:\tlearn: 1520.4348092\ttotal: 1m 39s\tremaining: 3m 38s\n",
      "314:\tlearn: 1519.8137656\ttotal: 1m 40s\tremaining: 3m 38s\n",
      "315:\tlearn: 1519.2998863\ttotal: 1m 40s\tremaining: 3m 37s\n",
      "316:\tlearn: 1519.0498156\ttotal: 1m 40s\tremaining: 3m 37s\n",
      "317:\tlearn: 1518.3250122\ttotal: 1m 41s\tremaining: 3m 37s\n",
      "318:\tlearn: 1517.8992923\ttotal: 1m 41s\tremaining: 3m 36s\n",
      "319:\tlearn: 1517.7570685\ttotal: 1m 41s\tremaining: 3m 36s\n",
      "320:\tlearn: 1517.3640204\ttotal: 1m 42s\tremaining: 3m 36s\n",
      "321:\tlearn: 1516.9145483\ttotal: 1m 42s\tremaining: 3m 35s\n",
      "322:\tlearn: 1516.7825166\ttotal: 1m 42s\tremaining: 3m 35s\n",
      "323:\tlearn: 1516.6188081\ttotal: 1m 43s\tremaining: 3m 35s\n",
      "324:\tlearn: 1515.9813492\ttotal: 1m 43s\tremaining: 3m 34s\n",
      "325:\tlearn: 1515.4462836\ttotal: 1m 43s\tremaining: 3m 34s\n",
      "326:\tlearn: 1515.2492207\ttotal: 1m 44s\tremaining: 3m 34s\n",
      "327:\tlearn: 1514.8286318\ttotal: 1m 44s\tremaining: 3m 33s\n",
      "328:\tlearn: 1514.5562212\ttotal: 1m 44s\tremaining: 3m 33s\n",
      "329:\tlearn: 1514.1066793\ttotal: 1m 44s\tremaining: 3m 33s\n",
      "330:\tlearn: 1513.7682030\ttotal: 1m 45s\tremaining: 3m 32s\n",
      "331:\tlearn: 1513.6852388\ttotal: 1m 45s\tremaining: 3m 32s\n",
      "332:\tlearn: 1513.2832657\ttotal: 1m 45s\tremaining: 3m 32s\n",
      "333:\tlearn: 1512.6031113\ttotal: 1m 46s\tremaining: 3m 31s\n",
      "334:\tlearn: 1511.8911640\ttotal: 1m 46s\tremaining: 3m 31s\n",
      "335:\tlearn: 1511.6596177\ttotal: 1m 46s\tremaining: 3m 31s\n",
      "336:\tlearn: 1511.0174085\ttotal: 1m 47s\tremaining: 3m 31s\n",
      "337:\tlearn: 1510.7574286\ttotal: 1m 47s\tremaining: 3m 30s\n",
      "338:\tlearn: 1510.1084149\ttotal: 1m 47s\tremaining: 3m 30s\n",
      "339:\tlearn: 1509.8656107\ttotal: 1m 48s\tremaining: 3m 30s\n",
      "340:\tlearn: 1509.2005566\ttotal: 1m 48s\tremaining: 3m 29s\n",
      "341:\tlearn: 1508.9560166\ttotal: 1m 48s\tremaining: 3m 29s\n",
      "342:\tlearn: 1508.3933803\ttotal: 1m 49s\tremaining: 3m 29s\n",
      "343:\tlearn: 1508.0761580\ttotal: 1m 49s\tremaining: 3m 28s\n",
      "344:\tlearn: 1507.5436847\ttotal: 1m 49s\tremaining: 3m 28s\n",
      "345:\tlearn: 1507.0783803\ttotal: 1m 50s\tremaining: 3m 28s\n",
      "346:\tlearn: 1507.0410719\ttotal: 1m 50s\tremaining: 3m 27s\n",
      "347:\tlearn: 1506.4180786\ttotal: 1m 50s\tremaining: 3m 27s\n",
      "348:\tlearn: 1506.1254384\ttotal: 1m 50s\tremaining: 3m 27s\n",
      "349:\tlearn: 1505.9643878\ttotal: 1m 51s\tremaining: 3m 26s\n",
      "350:\tlearn: 1505.4976536\ttotal: 1m 51s\tremaining: 3m 26s\n",
      "351:\tlearn: 1505.0337638\ttotal: 1m 51s\tremaining: 3m 26s\n",
      "352:\tlearn: 1504.2464297\ttotal: 1m 52s\tremaining: 3m 25s\n",
      "353:\tlearn: 1504.1057135\ttotal: 1m 52s\tremaining: 3m 25s\n",
      "354:\tlearn: 1503.7853014\ttotal: 1m 53s\tremaining: 3m 25s\n",
      "355:\tlearn: 1503.5761960\ttotal: 1m 53s\tremaining: 3m 25s\n",
      "356:\tlearn: 1502.8777625\ttotal: 1m 53s\tremaining: 3m 24s\n",
      "357:\tlearn: 1502.5160214\ttotal: 1m 54s\tremaining: 3m 24s\n",
      "358:\tlearn: 1502.2023230\ttotal: 1m 54s\tremaining: 3m 24s\n",
      "359:\tlearn: 1501.7394532\ttotal: 1m 54s\tremaining: 3m 24s\n",
      "360:\tlearn: 1501.2527293\ttotal: 1m 55s\tremaining: 3m 23s\n",
      "361:\tlearn: 1501.0344221\ttotal: 1m 55s\tremaining: 3m 23s\n",
      "362:\tlearn: 1500.6480123\ttotal: 1m 55s\tremaining: 3m 23s\n",
      "363:\tlearn: 1500.2948357\ttotal: 1m 56s\tremaining: 3m 22s\n",
      "364:\tlearn: 1500.0717293\ttotal: 1m 56s\tremaining: 3m 22s\n",
      "365:\tlearn: 1499.7164058\ttotal: 1m 56s\tremaining: 3m 22s\n",
      "366:\tlearn: 1499.2546651\ttotal: 1m 57s\tremaining: 3m 22s\n",
      "367:\tlearn: 1498.6788421\ttotal: 1m 57s\tremaining: 3m 21s\n",
      "368:\tlearn: 1498.2050328\ttotal: 1m 57s\tremaining: 3m 21s\n",
      "369:\tlearn: 1497.7143764\ttotal: 1m 58s\tremaining: 3m 21s\n",
      "370:\tlearn: 1497.6948756\ttotal: 1m 58s\tremaining: 3m 20s\n",
      "371:\tlearn: 1496.9667668\ttotal: 1m 58s\tremaining: 3m 20s\n",
      "372:\tlearn: 1496.2367308\ttotal: 1m 59s\tremaining: 3m 20s\n",
      "373:\tlearn: 1495.9873039\ttotal: 1m 59s\tremaining: 3m 20s\n",
      "374:\tlearn: 1495.9797018\ttotal: 1m 59s\tremaining: 3m 19s\n",
      "375:\tlearn: 1495.3362077\ttotal: 2m\tremaining: 3m 19s\n",
      "376:\tlearn: 1494.8080031\ttotal: 2m\tremaining: 3m 19s\n",
      "377:\tlearn: 1494.7253836\ttotal: 2m\tremaining: 3m 18s\n",
      "378:\tlearn: 1494.6464692\ttotal: 2m 1s\tremaining: 3m 18s\n",
      "379:\tlearn: 1494.3783339\ttotal: 2m 1s\tremaining: 3m 18s\n",
      "380:\tlearn: 1494.1939459\ttotal: 2m 1s\tremaining: 3m 17s\n",
      "381:\tlearn: 1493.6519790\ttotal: 2m 2s\tremaining: 3m 17s\n",
      "382:\tlearn: 1493.4605638\ttotal: 2m 2s\tremaining: 3m 17s\n",
      "383:\tlearn: 1492.8568882\ttotal: 2m 2s\tremaining: 3m 16s\n",
      "384:\tlearn: 1492.5569268\ttotal: 2m 3s\tremaining: 3m 16s\n",
      "385:\tlearn: 1492.2638677\ttotal: 2m 3s\tremaining: 3m 16s\n",
      "386:\tlearn: 1492.1581272\ttotal: 2m 3s\tremaining: 3m 16s\n",
      "387:\tlearn: 1492.0414490\ttotal: 2m 4s\tremaining: 3m 16s\n",
      "388:\tlearn: 1491.7171930\ttotal: 2m 4s\tremaining: 3m 15s\n",
      "389:\tlearn: 1491.0188599\ttotal: 2m 4s\tremaining: 3m 15s\n",
      "390:\tlearn: 1490.7171820\ttotal: 2m 5s\tremaining: 3m 15s\n",
      "391:\tlearn: 1490.2721608\ttotal: 2m 5s\tremaining: 3m 15s\n",
      "392:\tlearn: 1489.9836133\ttotal: 2m 6s\tremaining: 3m 14s\n",
      "393:\tlearn: 1489.5090877\ttotal: 2m 6s\tremaining: 3m 14s\n",
      "394:\tlearn: 1488.9314582\ttotal: 2m 6s\tremaining: 3m 14s\n",
      "395:\tlearn: 1488.4068027\ttotal: 2m 6s\tremaining: 3m 13s\n",
      "396:\tlearn: 1488.2341736\ttotal: 2m 7s\tremaining: 3m 13s\n",
      "397:\tlearn: 1488.1009820\ttotal: 2m 7s\tremaining: 3m 13s\n",
      "398:\tlearn: 1487.8040246\ttotal: 2m 8s\tremaining: 3m 12s\n",
      "399:\tlearn: 1487.2660829\ttotal: 2m 8s\tremaining: 3m 12s\n",
      "400:\tlearn: 1487.1821904\ttotal: 2m 8s\tremaining: 3m 12s\n",
      "401:\tlearn: 1486.8223312\ttotal: 2m 9s\tremaining: 3m 11s\n",
      "402:\tlearn: 1486.3829791\ttotal: 2m 9s\tremaining: 3m 11s\n",
      "403:\tlearn: 1485.8371713\ttotal: 2m 9s\tremaining: 3m 11s\n",
      "404:\tlearn: 1484.8038809\ttotal: 2m 10s\tremaining: 3m 11s\n",
      "405:\tlearn: 1484.4768311\ttotal: 2m 10s\tremaining: 3m 10s\n",
      "406:\tlearn: 1483.6944451\ttotal: 2m 10s\tremaining: 3m 10s\n",
      "407:\tlearn: 1483.2629436\ttotal: 2m 11s\tremaining: 3m 10s\n",
      "408:\tlearn: 1482.5661510\ttotal: 2m 11s\tremaining: 3m 10s\n",
      "409:\tlearn: 1481.8698710\ttotal: 2m 11s\tremaining: 3m 9s\n",
      "410:\tlearn: 1481.6969572\ttotal: 2m 12s\tremaining: 3m 9s\n",
      "411:\tlearn: 1481.3934161\ttotal: 2m 12s\tremaining: 3m 9s\n",
      "412:\tlearn: 1481.2761852\ttotal: 2m 12s\tremaining: 3m 8s\n",
      "413:\tlearn: 1480.5520226\ttotal: 2m 13s\tremaining: 3m 8s\n",
      "414:\tlearn: 1480.0695755\ttotal: 2m 13s\tremaining: 3m 8s\n",
      "415:\tlearn: 1479.5709464\ttotal: 2m 13s\tremaining: 3m 7s\n",
      "416:\tlearn: 1478.8262724\ttotal: 2m 14s\tremaining: 3m 7s\n",
      "417:\tlearn: 1478.4961652\ttotal: 2m 14s\tremaining: 3m 7s\n",
      "418:\tlearn: 1477.9262306\ttotal: 2m 14s\tremaining: 3m 6s\n",
      "419:\tlearn: 1477.7480197\ttotal: 2m 15s\tremaining: 3m 6s\n",
      "420:\tlearn: 1477.1888315\ttotal: 2m 15s\tremaining: 3m 6s\n",
      "421:\tlearn: 1476.6256722\ttotal: 2m 15s\tremaining: 3m 5s\n",
      "422:\tlearn: 1476.0358393\ttotal: 2m 16s\tremaining: 3m 5s\n",
      "423:\tlearn: 1475.4758307\ttotal: 2m 16s\tremaining: 3m 5s\n",
      "424:\tlearn: 1474.8095178\ttotal: 2m 16s\tremaining: 3m 5s\n",
      "425:\tlearn: 1474.5752667\ttotal: 2m 17s\tremaining: 3m 4s\n",
      "426:\tlearn: 1474.2869255\ttotal: 2m 17s\tremaining: 3m 4s\n",
      "427:\tlearn: 1474.1790488\ttotal: 2m 17s\tremaining: 3m 4s\n",
      "428:\tlearn: 1474.0332948\ttotal: 2m 18s\tremaining: 3m 3s\n",
      "429:\tlearn: 1473.8534676\ttotal: 2m 18s\tremaining: 3m 3s\n",
      "430:\tlearn: 1473.3122490\ttotal: 2m 18s\tremaining: 3m 3s\n",
      "431:\tlearn: 1473.1861519\ttotal: 2m 19s\tremaining: 3m 2s\n",
      "432:\tlearn: 1472.9428383\ttotal: 2m 19s\tremaining: 3m 2s\n",
      "433:\tlearn: 1472.7262614\ttotal: 2m 19s\tremaining: 3m 2s\n",
      "434:\tlearn: 1472.3794375\ttotal: 2m 20s\tremaining: 3m 1s\n",
      "435:\tlearn: 1472.1468452\ttotal: 2m 20s\tremaining: 3m 1s\n",
      "436:\tlearn: 1471.7615674\ttotal: 2m 20s\tremaining: 3m 1s\n",
      "437:\tlearn: 1471.3446237\ttotal: 2m 21s\tremaining: 3m 1s\n",
      "438:\tlearn: 1471.2560281\ttotal: 2m 21s\tremaining: 3m\n",
      "439:\tlearn: 1470.9038013\ttotal: 2m 21s\tremaining: 3m\n",
      "440:\tlearn: 1470.4112735\ttotal: 2m 22s\tremaining: 3m\n",
      "441:\tlearn: 1470.0725679\ttotal: 2m 22s\tremaining: 2m 59s\n",
      "442:\tlearn: 1469.9264741\ttotal: 2m 22s\tremaining: 2m 59s\n",
      "443:\tlearn: 1469.7615897\ttotal: 2m 23s\tremaining: 2m 59s\n",
      "444:\tlearn: 1469.5035698\ttotal: 2m 23s\tremaining: 2m 58s\n",
      "445:\tlearn: 1468.9482644\ttotal: 2m 23s\tremaining: 2m 58s\n",
      "446:\tlearn: 1468.7354425\ttotal: 2m 24s\tremaining: 2m 58s\n",
      "447:\tlearn: 1468.4129185\ttotal: 2m 24s\tremaining: 2m 57s\n",
      "448:\tlearn: 1468.0633911\ttotal: 2m 24s\tremaining: 2m 57s\n",
      "449:\tlearn: 1467.6962126\ttotal: 2m 25s\tremaining: 2m 57s\n",
      "450:\tlearn: 1467.0451153\ttotal: 2m 25s\tremaining: 2m 57s\n",
      "451:\tlearn: 1466.6451928\ttotal: 2m 25s\tremaining: 2m 56s\n",
      "452:\tlearn: 1466.3216490\ttotal: 2m 26s\tremaining: 2m 56s\n",
      "453:\tlearn: 1465.7818941\ttotal: 2m 26s\tremaining: 2m 56s\n",
      "454:\tlearn: 1465.4408755\ttotal: 2m 26s\tremaining: 2m 55s\n",
      "455:\tlearn: 1465.0587262\ttotal: 2m 27s\tremaining: 2m 55s\n",
      "456:\tlearn: 1464.7885507\ttotal: 2m 27s\tremaining: 2m 55s\n",
      "457:\tlearn: 1464.3346569\ttotal: 2m 27s\tremaining: 2m 54s\n",
      "458:\tlearn: 1464.2699473\ttotal: 2m 28s\tremaining: 2m 54s\n",
      "459:\tlearn: 1464.1446554\ttotal: 2m 28s\tremaining: 2m 54s\n",
      "460:\tlearn: 1463.8021968\ttotal: 2m 28s\tremaining: 2m 53s\n",
      "461:\tlearn: 1463.6024089\ttotal: 2m 29s\tremaining: 2m 53s\n",
      "462:\tlearn: 1463.3191994\ttotal: 2m 29s\tremaining: 2m 53s\n",
      "463:\tlearn: 1463.0995722\ttotal: 2m 29s\tremaining: 2m 52s\n",
      "464:\tlearn: 1462.8202557\ttotal: 2m 30s\tremaining: 2m 52s\n",
      "465:\tlearn: 1462.6704744\ttotal: 2m 30s\tremaining: 2m 52s\n",
      "466:\tlearn: 1462.4995797\ttotal: 2m 30s\tremaining: 2m 52s\n",
      "467:\tlearn: 1462.1999552\ttotal: 2m 31s\tremaining: 2m 51s\n",
      "468:\tlearn: 1461.7842921\ttotal: 2m 31s\tremaining: 2m 51s\n",
      "469:\tlearn: 1461.0268531\ttotal: 2m 31s\tremaining: 2m 51s\n",
      "470:\tlearn: 1460.9147965\ttotal: 2m 32s\tremaining: 2m 50s\n",
      "471:\tlearn: 1460.5708584\ttotal: 2m 32s\tremaining: 2m 50s\n",
      "472:\tlearn: 1459.8059476\ttotal: 2m 32s\tremaining: 2m 50s\n",
      "473:\tlearn: 1459.5246048\ttotal: 2m 33s\tremaining: 2m 49s\n",
      "474:\tlearn: 1459.0951552\ttotal: 2m 33s\tremaining: 2m 49s\n",
      "475:\tlearn: 1458.9104702\ttotal: 2m 33s\tremaining: 2m 49s\n",
      "476:\tlearn: 1458.7805751\ttotal: 2m 34s\tremaining: 2m 48s\n",
      "477:\tlearn: 1458.3804591\ttotal: 2m 34s\tremaining: 2m 48s\n",
      "478:\tlearn: 1457.7534339\ttotal: 2m 34s\tremaining: 2m 48s\n",
      "479:\tlearn: 1457.5378842\ttotal: 2m 35s\tremaining: 2m 48s\n",
      "480:\tlearn: 1456.8128728\ttotal: 2m 35s\tremaining: 2m 47s\n",
      "481:\tlearn: 1456.5631700\ttotal: 2m 35s\tremaining: 2m 47s\n",
      "482:\tlearn: 1456.2023843\ttotal: 2m 36s\tremaining: 2m 47s\n",
      "483:\tlearn: 1455.9383229\ttotal: 2m 36s\tremaining: 2m 46s\n",
      "484:\tlearn: 1455.6237475\ttotal: 2m 36s\tremaining: 2m 46s\n",
      "485:\tlearn: 1455.3005175\ttotal: 2m 37s\tremaining: 2m 46s\n",
      "486:\tlearn: 1454.6518423\ttotal: 2m 37s\tremaining: 2m 45s\n",
      "487:\tlearn: 1454.2480303\ttotal: 2m 37s\tremaining: 2m 45s\n",
      "488:\tlearn: 1453.8781774\ttotal: 2m 38s\tremaining: 2m 45s\n",
      "489:\tlearn: 1453.5694498\ttotal: 2m 38s\tremaining: 2m 44s\n",
      "490:\tlearn: 1453.1676173\ttotal: 2m 38s\tremaining: 2m 44s\n",
      "491:\tlearn: 1452.9794414\ttotal: 2m 39s\tremaining: 2m 44s\n",
      "492:\tlearn: 1452.8391942\ttotal: 2m 39s\tremaining: 2m 44s\n",
      "493:\tlearn: 1452.5900629\ttotal: 2m 39s\tremaining: 2m 43s\n",
      "494:\tlearn: 1452.4026981\ttotal: 2m 40s\tremaining: 2m 43s\n",
      "495:\tlearn: 1452.1570283\ttotal: 2m 40s\tremaining: 2m 43s\n",
      "496:\tlearn: 1451.9884633\ttotal: 2m 40s\tremaining: 2m 42s\n",
      "497:\tlearn: 1451.8799138\ttotal: 2m 41s\tremaining: 2m 42s\n",
      "498:\tlearn: 1451.7108648\ttotal: 2m 41s\tremaining: 2m 42s\n",
      "499:\tlearn: 1451.5408391\ttotal: 2m 41s\tremaining: 2m 41s\n",
      "500:\tlearn: 1451.3563093\ttotal: 2m 42s\tremaining: 2m 41s\n",
      "501:\tlearn: 1450.8861793\ttotal: 2m 42s\tremaining: 2m 41s\n",
      "502:\tlearn: 1450.5265485\ttotal: 2m 42s\tremaining: 2m 40s\n",
      "503:\tlearn: 1450.3270096\ttotal: 2m 43s\tremaining: 2m 40s\n",
      "504:\tlearn: 1450.0583101\ttotal: 2m 43s\tremaining: 2m 40s\n",
      "505:\tlearn: 1449.7944223\ttotal: 2m 43s\tremaining: 2m 39s\n",
      "506:\tlearn: 1449.7544412\ttotal: 2m 44s\tremaining: 2m 39s\n",
      "507:\tlearn: 1449.4398277\ttotal: 2m 44s\tremaining: 2m 39s\n",
      "508:\tlearn: 1449.1903696\ttotal: 2m 44s\tremaining: 2m 39s\n",
      "509:\tlearn: 1448.9788331\ttotal: 2m 45s\tremaining: 2m 38s\n",
      "510:\tlearn: 1448.9011296\ttotal: 2m 45s\tremaining: 2m 38s\n",
      "511:\tlearn: 1448.3050582\ttotal: 2m 46s\tremaining: 2m 38s\n",
      "512:\tlearn: 1447.9385872\ttotal: 2m 46s\tremaining: 2m 37s\n",
      "513:\tlearn: 1447.6979382\ttotal: 2m 46s\tremaining: 2m 37s\n",
      "514:\tlearn: 1447.5430858\ttotal: 2m 47s\tremaining: 2m 37s\n",
      "515:\tlearn: 1447.1675351\ttotal: 2m 47s\tremaining: 2m 37s\n",
      "516:\tlearn: 1447.0371815\ttotal: 2m 47s\tremaining: 2m 36s\n",
      "517:\tlearn: 1446.8971684\ttotal: 2m 48s\tremaining: 2m 36s\n",
      "518:\tlearn: 1446.6152194\ttotal: 2m 48s\tremaining: 2m 36s\n",
      "519:\tlearn: 1446.3448179\ttotal: 2m 48s\tremaining: 2m 35s\n",
      "520:\tlearn: 1446.0880111\ttotal: 2m 49s\tremaining: 2m 35s\n",
      "521:\tlearn: 1445.5525341\ttotal: 2m 49s\tremaining: 2m 35s\n",
      "522:\tlearn: 1445.0599456\ttotal: 2m 49s\tremaining: 2m 34s\n",
      "523:\tlearn: 1444.8961083\ttotal: 2m 50s\tremaining: 2m 34s\n",
      "524:\tlearn: 1444.4540621\ttotal: 2m 50s\tremaining: 2m 34s\n",
      "525:\tlearn: 1444.0838358\ttotal: 2m 50s\tremaining: 2m 33s\n",
      "526:\tlearn: 1443.7660999\ttotal: 2m 51s\tremaining: 2m 33s\n",
      "527:\tlearn: 1443.3376982\ttotal: 2m 51s\tremaining: 2m 33s\n",
      "528:\tlearn: 1442.9373861\ttotal: 2m 51s\tremaining: 2m 33s\n",
      "529:\tlearn: 1442.5006986\ttotal: 2m 52s\tremaining: 2m 32s\n",
      "530:\tlearn: 1442.0213862\ttotal: 2m 52s\tremaining: 2m 32s\n",
      "531:\tlearn: 1441.7785990\ttotal: 2m 52s\tremaining: 2m 32s\n",
      "532:\tlearn: 1441.6064120\ttotal: 2m 53s\tremaining: 2m 31s\n",
      "533:\tlearn: 1441.3950326\ttotal: 2m 53s\tremaining: 2m 31s\n",
      "534:\tlearn: 1441.0155499\ttotal: 2m 54s\tremaining: 2m 31s\n",
      "535:\tlearn: 1440.5065030\ttotal: 2m 54s\tremaining: 2m 30s\n",
      "536:\tlearn: 1439.7984780\ttotal: 2m 54s\tremaining: 2m 30s\n",
      "537:\tlearn: 1439.2912303\ttotal: 2m 54s\tremaining: 2m 30s\n",
      "538:\tlearn: 1439.1616273\ttotal: 2m 55s\tremaining: 2m 29s\n",
      "539:\tlearn: 1439.0610183\ttotal: 2m 55s\tremaining: 2m 29s\n",
      "540:\tlearn: 1438.8868999\ttotal: 2m 56s\tremaining: 2m 29s\n",
      "541:\tlearn: 1438.5952011\ttotal: 2m 56s\tremaining: 2m 29s\n",
      "542:\tlearn: 1438.3190238\ttotal: 2m 56s\tremaining: 2m 28s\n",
      "543:\tlearn: 1438.2296896\ttotal: 2m 57s\tremaining: 2m 28s\n",
      "544:\tlearn: 1437.8659542\ttotal: 2m 57s\tremaining: 2m 28s\n",
      "545:\tlearn: 1437.6878572\ttotal: 2m 57s\tremaining: 2m 27s\n",
      "546:\tlearn: 1437.6374096\ttotal: 2m 58s\tremaining: 2m 27s\n",
      "547:\tlearn: 1437.4960278\ttotal: 2m 58s\tremaining: 2m 27s\n",
      "548:\tlearn: 1437.0129956\ttotal: 2m 58s\tremaining: 2m 26s\n",
      "549:\tlearn: 1436.8462713\ttotal: 2m 59s\tremaining: 2m 26s\n",
      "550:\tlearn: 1436.7427976\ttotal: 2m 59s\tremaining: 2m 26s\n",
      "551:\tlearn: 1436.5480760\ttotal: 3m\tremaining: 2m 26s\n",
      "552:\tlearn: 1436.4246042\ttotal: 3m\tremaining: 2m 25s\n",
      "553:\tlearn: 1436.2783576\ttotal: 3m\tremaining: 2m 25s\n",
      "554:\tlearn: 1436.0848097\ttotal: 3m 1s\tremaining: 2m 25s\n",
      "555:\tlearn: 1435.7867738\ttotal: 3m 1s\tremaining: 2m 24s\n",
      "556:\tlearn: 1435.5904975\ttotal: 3m 1s\tremaining: 2m 24s\n",
      "557:\tlearn: 1435.3362021\ttotal: 3m 2s\tremaining: 2m 24s\n",
      "558:\tlearn: 1435.2989429\ttotal: 3m 2s\tremaining: 2m 24s\n",
      "559:\tlearn: 1434.9357683\ttotal: 3m 2s\tremaining: 2m 23s\n",
      "560:\tlearn: 1434.3864920\ttotal: 3m 3s\tremaining: 2m 23s\n",
      "561:\tlearn: 1433.9723461\ttotal: 3m 3s\tremaining: 2m 23s\n",
      "562:\tlearn: 1433.6247745\ttotal: 3m 3s\tremaining: 2m 22s\n",
      "563:\tlearn: 1433.5411727\ttotal: 3m 4s\tremaining: 2m 22s\n",
      "564:\tlearn: 1433.4867396\ttotal: 3m 4s\tremaining: 2m 22s\n",
      "565:\tlearn: 1433.4459034\ttotal: 3m 5s\tremaining: 2m 21s\n",
      "566:\tlearn: 1433.0369706\ttotal: 3m 5s\tremaining: 2m 21s\n",
      "567:\tlearn: 1432.5410918\ttotal: 3m 5s\tremaining: 2m 21s\n",
      "568:\tlearn: 1432.3503888\ttotal: 3m 6s\tremaining: 2m 20s\n",
      "569:\tlearn: 1432.2275982\ttotal: 3m 6s\tremaining: 2m 20s\n",
      "570:\tlearn: 1432.1234230\ttotal: 3m 6s\tremaining: 2m 20s\n",
      "571:\tlearn: 1431.9755338\ttotal: 3m 7s\tremaining: 2m 20s\n",
      "572:\tlearn: 1431.5946817\ttotal: 3m 7s\tremaining: 2m 19s\n",
      "573:\tlearn: 1431.3195694\ttotal: 3m 8s\tremaining: 2m 19s\n",
      "574:\tlearn: 1431.0907697\ttotal: 3m 8s\tremaining: 2m 19s\n",
      "575:\tlearn: 1430.9398748\ttotal: 3m 8s\tremaining: 2m 18s\n",
      "576:\tlearn: 1430.6557940\ttotal: 3m 9s\tremaining: 2m 18s\n",
      "577:\tlearn: 1430.4621575\ttotal: 3m 9s\tremaining: 2m 18s\n",
      "578:\tlearn: 1429.7797327\ttotal: 3m 9s\tremaining: 2m 18s\n",
      "579:\tlearn: 1429.4506671\ttotal: 3m 10s\tremaining: 2m 17s\n",
      "580:\tlearn: 1429.2188728\ttotal: 3m 10s\tremaining: 2m 17s\n",
      "581:\tlearn: 1428.9533573\ttotal: 3m 11s\tremaining: 2m 17s\n",
      "582:\tlearn: 1428.7302045\ttotal: 3m 11s\tremaining: 2m 16s\n",
      "583:\tlearn: 1428.3700049\ttotal: 3m 11s\tremaining: 2m 16s\n",
      "584:\tlearn: 1428.2327988\ttotal: 3m 12s\tremaining: 2m 16s\n",
      "585:\tlearn: 1427.9866471\ttotal: 3m 12s\tremaining: 2m 15s\n",
      "586:\tlearn: 1427.7552838\ttotal: 3m 12s\tremaining: 2m 15s\n",
      "587:\tlearn: 1427.6600791\ttotal: 3m 13s\tremaining: 2m 15s\n",
      "588:\tlearn: 1427.3871724\ttotal: 3m 13s\tremaining: 2m 14s\n",
      "589:\tlearn: 1427.3450253\ttotal: 3m 13s\tremaining: 2m 14s\n",
      "590:\tlearn: 1427.1278831\ttotal: 3m 14s\tremaining: 2m 14s\n",
      "591:\tlearn: 1427.0643388\ttotal: 3m 14s\tremaining: 2m 13s\n",
      "592:\tlearn: 1426.7850507\ttotal: 3m 14s\tremaining: 2m 13s\n",
      "593:\tlearn: 1426.6171411\ttotal: 3m 14s\tremaining: 2m 13s\n",
      "594:\tlearn: 1426.4195985\ttotal: 3m 15s\tremaining: 2m 12s\n",
      "595:\tlearn: 1426.0898060\ttotal: 3m 15s\tremaining: 2m 12s\n",
      "596:\tlearn: 1426.0072704\ttotal: 3m 16s\tremaining: 2m 12s\n",
      "597:\tlearn: 1425.7890130\ttotal: 3m 16s\tremaining: 2m 12s\n",
      "598:\tlearn: 1425.6191201\ttotal: 3m 16s\tremaining: 2m 11s\n",
      "599:\tlearn: 1425.0428974\ttotal: 3m 17s\tremaining: 2m 11s\n",
      "600:\tlearn: 1424.7864623\ttotal: 3m 17s\tremaining: 2m 11s\n",
      "601:\tlearn: 1424.7263265\ttotal: 3m 17s\tremaining: 2m 10s\n",
      "602:\tlearn: 1424.2794104\ttotal: 3m 18s\tremaining: 2m 10s\n",
      "603:\tlearn: 1424.2174847\ttotal: 3m 18s\tremaining: 2m 10s\n",
      "604:\tlearn: 1424.0937858\ttotal: 3m 18s\tremaining: 2m 9s\n",
      "605:\tlearn: 1423.9506400\ttotal: 3m 19s\tremaining: 2m 9s\n",
      "606:\tlearn: 1423.7219988\ttotal: 3m 19s\tremaining: 2m 9s\n",
      "607:\tlearn: 1423.4397852\ttotal: 3m 19s\tremaining: 2m 8s\n",
      "608:\tlearn: 1423.2414100\ttotal: 3m 20s\tremaining: 2m 8s\n",
      "609:\tlearn: 1422.6739934\ttotal: 3m 20s\tremaining: 2m 8s\n",
      "610:\tlearn: 1422.4592317\ttotal: 3m 20s\tremaining: 2m 7s\n",
      "611:\tlearn: 1422.1615218\ttotal: 3m 21s\tremaining: 2m 7s\n",
      "612:\tlearn: 1422.0924097\ttotal: 3m 21s\tremaining: 2m 7s\n",
      "613:\tlearn: 1421.8336007\ttotal: 3m 21s\tremaining: 2m 6s\n",
      "614:\tlearn: 1421.6514737\ttotal: 3m 22s\tremaining: 2m 6s\n",
      "615:\tlearn: 1421.1500605\ttotal: 3m 22s\tremaining: 2m 6s\n",
      "616:\tlearn: 1421.0016558\ttotal: 3m 23s\tremaining: 2m 6s\n",
      "617:\tlearn: 1420.6800479\ttotal: 3m 23s\tremaining: 2m 5s\n",
      "618:\tlearn: 1420.1673992\ttotal: 3m 23s\tremaining: 2m 5s\n",
      "619:\tlearn: 1419.8267170\ttotal: 3m 24s\tremaining: 2m 5s\n",
      "620:\tlearn: 1419.7160936\ttotal: 3m 24s\tremaining: 2m 4s\n",
      "621:\tlearn: 1419.7013557\ttotal: 3m 24s\tremaining: 2m 4s\n",
      "622:\tlearn: 1419.6479622\ttotal: 3m 24s\tremaining: 2m 4s\n",
      "623:\tlearn: 1419.4237227\ttotal: 3m 25s\tremaining: 2m 3s\n",
      "624:\tlearn: 1419.2600859\ttotal: 3m 25s\tremaining: 2m 3s\n",
      "625:\tlearn: 1418.7145673\ttotal: 3m 26s\tremaining: 2m 3s\n",
      "626:\tlearn: 1418.6002179\ttotal: 3m 26s\tremaining: 2m 2s\n",
      "627:\tlearn: 1418.2925022\ttotal: 3m 26s\tremaining: 2m 2s\n",
      "628:\tlearn: 1418.2298303\ttotal: 3m 27s\tremaining: 2m 2s\n",
      "629:\tlearn: 1418.0622997\ttotal: 3m 27s\tremaining: 2m 1s\n",
      "630:\tlearn: 1417.9229867\ttotal: 3m 27s\tremaining: 2m 1s\n",
      "631:\tlearn: 1417.8990837\ttotal: 3m 28s\tremaining: 2m 1s\n",
      "632:\tlearn: 1417.4973232\ttotal: 3m 28s\tremaining: 2m\n",
      "633:\tlearn: 1417.2608430\ttotal: 3m 28s\tremaining: 2m\n",
      "634:\tlearn: 1417.1524318\ttotal: 3m 29s\tremaining: 2m\n",
      "635:\tlearn: 1416.9511998\ttotal: 3m 29s\tremaining: 1m 59s\n",
      "636:\tlearn: 1416.4607706\ttotal: 3m 29s\tremaining: 1m 59s\n",
      "637:\tlearn: 1416.1566168\ttotal: 3m 30s\tremaining: 1m 59s\n",
      "638:\tlearn: 1415.8796972\ttotal: 3m 30s\tremaining: 1m 58s\n",
      "639:\tlearn: 1415.5854375\ttotal: 3m 30s\tremaining: 1m 58s\n",
      "640:\tlearn: 1415.4589577\ttotal: 3m 31s\tremaining: 1m 58s\n",
      "641:\tlearn: 1414.8264778\ttotal: 3m 31s\tremaining: 1m 57s\n",
      "642:\tlearn: 1414.5562391\ttotal: 3m 31s\tremaining: 1m 57s\n",
      "643:\tlearn: 1414.3674937\ttotal: 3m 32s\tremaining: 1m 57s\n",
      "644:\tlearn: 1414.2196386\ttotal: 3m 32s\tremaining: 1m 56s\n",
      "645:\tlearn: 1413.8831623\ttotal: 3m 32s\tremaining: 1m 56s\n",
      "646:\tlearn: 1413.7083829\ttotal: 3m 33s\tremaining: 1m 56s\n",
      "647:\tlearn: 1413.6589382\ttotal: 3m 33s\tremaining: 1m 56s\n",
      "648:\tlearn: 1413.2803199\ttotal: 3m 34s\tremaining: 1m 55s\n",
      "649:\tlearn: 1413.0786524\ttotal: 3m 34s\tremaining: 1m 55s\n",
      "650:\tlearn: 1412.5869711\ttotal: 3m 34s\tremaining: 1m 55s\n",
      "651:\tlearn: 1412.4392222\ttotal: 3m 35s\tremaining: 1m 54s\n",
      "652:\tlearn: 1412.1525458\ttotal: 3m 35s\tremaining: 1m 54s\n",
      "653:\tlearn: 1411.6446605\ttotal: 3m 35s\tremaining: 1m 54s\n",
      "654:\tlearn: 1411.1488568\ttotal: 3m 36s\tremaining: 1m 53s\n",
      "655:\tlearn: 1410.8464931\ttotal: 3m 36s\tremaining: 1m 53s\n",
      "656:\tlearn: 1410.6828075\ttotal: 3m 36s\tremaining: 1m 53s\n",
      "657:\tlearn: 1410.6012324\ttotal: 3m 37s\tremaining: 1m 52s\n",
      "658:\tlearn: 1410.4167042\ttotal: 3m 37s\tremaining: 1m 52s\n",
      "659:\tlearn: 1409.9319599\ttotal: 3m 37s\tremaining: 1m 52s\n",
      "660:\tlearn: 1409.5528741\ttotal: 3m 38s\tremaining: 1m 51s\n",
      "661:\tlearn: 1409.4275887\ttotal: 3m 38s\tremaining: 1m 51s\n",
      "662:\tlearn: 1409.2795507\ttotal: 3m 38s\tremaining: 1m 51s\n",
      "663:\tlearn: 1409.2305214\ttotal: 3m 39s\tremaining: 1m 50s\n",
      "664:\tlearn: 1409.0283203\ttotal: 3m 39s\tremaining: 1m 50s\n",
      "665:\tlearn: 1408.8787126\ttotal: 3m 39s\tremaining: 1m 50s\n",
      "666:\tlearn: 1408.5628271\ttotal: 3m 40s\tremaining: 1m 49s\n",
      "667:\tlearn: 1408.1958830\ttotal: 3m 40s\tremaining: 1m 49s\n",
      "668:\tlearn: 1407.9211388\ttotal: 3m 40s\tremaining: 1m 49s\n",
      "669:\tlearn: 1407.6585460\ttotal: 3m 41s\tremaining: 1m 48s\n",
      "670:\tlearn: 1407.5619807\ttotal: 3m 41s\tremaining: 1m 48s\n",
      "671:\tlearn: 1407.1830952\ttotal: 3m 42s\tremaining: 1m 48s\n",
      "672:\tlearn: 1406.8484603\ttotal: 3m 42s\tremaining: 1m 48s\n",
      "673:\tlearn: 1406.6385659\ttotal: 3m 42s\tremaining: 1m 47s\n",
      "674:\tlearn: 1406.3083451\ttotal: 3m 43s\tremaining: 1m 47s\n",
      "675:\tlearn: 1406.1817156\ttotal: 3m 43s\tremaining: 1m 47s\n",
      "676:\tlearn: 1406.0343852\ttotal: 3m 43s\tremaining: 1m 46s\n",
      "677:\tlearn: 1405.8334996\ttotal: 3m 44s\tremaining: 1m 46s\n",
      "678:\tlearn: 1405.4700311\ttotal: 3m 44s\tremaining: 1m 46s\n",
      "679:\tlearn: 1405.3903020\ttotal: 3m 44s\tremaining: 1m 45s\n",
      "680:\tlearn: 1405.0415095\ttotal: 3m 45s\tremaining: 1m 45s\n",
      "681:\tlearn: 1404.9540103\ttotal: 3m 45s\tremaining: 1m 45s\n",
      "682:\tlearn: 1404.7396068\ttotal: 3m 45s\tremaining: 1m 44s\n",
      "683:\tlearn: 1404.2787754\ttotal: 3m 46s\tremaining: 1m 44s\n",
      "684:\tlearn: 1404.1345900\ttotal: 3m 46s\tremaining: 1m 44s\n",
      "685:\tlearn: 1403.2765707\ttotal: 3m 46s\tremaining: 1m 43s\n",
      "686:\tlearn: 1402.8763283\ttotal: 3m 47s\tremaining: 1m 43s\n",
      "687:\tlearn: 1402.7745226\ttotal: 3m 47s\tremaining: 1m 43s\n",
      "688:\tlearn: 1402.6041355\ttotal: 3m 47s\tremaining: 1m 42s\n",
      "689:\tlearn: 1402.5669497\ttotal: 3m 48s\tremaining: 1m 42s\n",
      "690:\tlearn: 1402.5468854\ttotal: 3m 48s\tremaining: 1m 42s\n",
      "691:\tlearn: 1402.2118879\ttotal: 3m 49s\tremaining: 1m 41s\n",
      "692:\tlearn: 1401.7695061\ttotal: 3m 49s\tremaining: 1m 41s\n",
      "693:\tlearn: 1401.5197343\ttotal: 3m 49s\tremaining: 1m 41s\n",
      "694:\tlearn: 1401.0165298\ttotal: 3m 50s\tremaining: 1m 40s\n",
      "695:\tlearn: 1400.9268869\ttotal: 3m 50s\tremaining: 1m 40s\n",
      "696:\tlearn: 1400.8520435\ttotal: 3m 50s\tremaining: 1m 40s\n",
      "697:\tlearn: 1400.3064314\ttotal: 3m 51s\tremaining: 1m 39s\n",
      "698:\tlearn: 1399.9865572\ttotal: 3m 51s\tremaining: 1m 39s\n",
      "699:\tlearn: 1399.7231103\ttotal: 3m 51s\tremaining: 1m 39s\n",
      "700:\tlearn: 1399.4548489\ttotal: 3m 52s\tremaining: 1m 39s\n",
      "701:\tlearn: 1399.1302546\ttotal: 3m 52s\tremaining: 1m 38s\n",
      "702:\tlearn: 1398.9519279\ttotal: 3m 52s\tremaining: 1m 38s\n",
      "703:\tlearn: 1398.6696162\ttotal: 3m 53s\tremaining: 1m 38s\n",
      "704:\tlearn: 1398.3399037\ttotal: 3m 53s\tremaining: 1m 37s\n",
      "705:\tlearn: 1397.7871957\ttotal: 3m 53s\tremaining: 1m 37s\n",
      "706:\tlearn: 1397.4709364\ttotal: 3m 54s\tremaining: 1m 37s\n",
      "707:\tlearn: 1397.0933972\ttotal: 3m 54s\tremaining: 1m 36s\n",
      "708:\tlearn: 1396.9128668\ttotal: 3m 54s\tremaining: 1m 36s\n",
      "709:\tlearn: 1396.7321768\ttotal: 3m 55s\tremaining: 1m 36s\n",
      "710:\tlearn: 1396.6115445\ttotal: 3m 55s\tremaining: 1m 35s\n",
      "711:\tlearn: 1396.3762829\ttotal: 3m 55s\tremaining: 1m 35s\n",
      "712:\tlearn: 1396.1913386\ttotal: 3m 56s\tremaining: 1m 35s\n",
      "713:\tlearn: 1396.0104406\ttotal: 3m 56s\tremaining: 1m 34s\n",
      "714:\tlearn: 1395.6061223\ttotal: 3m 56s\tremaining: 1m 34s\n",
      "715:\tlearn: 1395.4909328\ttotal: 3m 57s\tremaining: 1m 34s\n",
      "716:\tlearn: 1395.3994129\ttotal: 3m 57s\tremaining: 1m 33s\n",
      "717:\tlearn: 1395.1477598\ttotal: 3m 58s\tremaining: 1m 33s\n",
      "718:\tlearn: 1394.6794645\ttotal: 3m 58s\tremaining: 1m 33s\n",
      "719:\tlearn: 1394.6135668\ttotal: 3m 58s\tremaining: 1m 32s\n",
      "720:\tlearn: 1394.4298162\ttotal: 3m 59s\tremaining: 1m 32s\n",
      "721:\tlearn: 1394.2932829\ttotal: 3m 59s\tremaining: 1m 32s\n",
      "722:\tlearn: 1394.1226340\ttotal: 3m 59s\tremaining: 1m 31s\n",
      "723:\tlearn: 1393.9222549\ttotal: 4m\tremaining: 1m 31s\n",
      "724:\tlearn: 1393.8982440\ttotal: 4m\tremaining: 1m 31s\n",
      "725:\tlearn: 1393.7922355\ttotal: 4m\tremaining: 1m 30s\n",
      "726:\tlearn: 1393.7760658\ttotal: 4m 1s\tremaining: 1m 30s\n",
      "727:\tlearn: 1393.4574886\ttotal: 4m 1s\tremaining: 1m 30s\n",
      "728:\tlearn: 1393.1245897\ttotal: 4m 1s\tremaining: 1m 29s\n",
      "729:\tlearn: 1393.0550488\ttotal: 4m 2s\tremaining: 1m 29s\n",
      "730:\tlearn: 1392.6525319\ttotal: 4m 2s\tremaining: 1m 29s\n",
      "731:\tlearn: 1392.4523039\ttotal: 4m 2s\tremaining: 1m 28s\n",
      "732:\tlearn: 1392.3903145\ttotal: 4m 3s\tremaining: 1m 28s\n",
      "733:\tlearn: 1392.1397590\ttotal: 4m 3s\tremaining: 1m 28s\n",
      "734:\tlearn: 1392.0370674\ttotal: 4m 3s\tremaining: 1m 27s\n",
      "735:\tlearn: 1391.9802419\ttotal: 4m 4s\tremaining: 1m 27s\n",
      "736:\tlearn: 1391.9305347\ttotal: 4m 4s\tremaining: 1m 27s\n",
      "737:\tlearn: 1391.5868949\ttotal: 4m 5s\tremaining: 1m 26s\n",
      "738:\tlearn: 1391.3795839\ttotal: 4m 5s\tremaining: 1m 26s\n",
      "739:\tlearn: 1391.2708144\ttotal: 4m 5s\tremaining: 1m 26s\n",
      "740:\tlearn: 1390.8591323\ttotal: 4m 5s\tremaining: 1m 25s\n",
      "741:\tlearn: 1390.7668427\ttotal: 4m 6s\tremaining: 1m 25s\n",
      "742:\tlearn: 1390.5338140\ttotal: 4m 6s\tremaining: 1m 25s\n",
      "743:\tlearn: 1390.1313722\ttotal: 4m 7s\tremaining: 1m 24s\n",
      "744:\tlearn: 1389.8280304\ttotal: 4m 7s\tremaining: 1m 24s\n",
      "745:\tlearn: 1389.4759400\ttotal: 4m 7s\tremaining: 1m 24s\n",
      "746:\tlearn: 1389.3090911\ttotal: 4m 8s\tremaining: 1m 24s\n",
      "747:\tlearn: 1388.7982731\ttotal: 4m 8s\tremaining: 1m 23s\n",
      "748:\tlearn: 1388.7142202\ttotal: 4m 8s\tremaining: 1m 23s\n",
      "749:\tlearn: 1388.5799143\ttotal: 4m 8s\tremaining: 1m 22s\n",
      "750:\tlearn: 1388.3806155\ttotal: 4m 9s\tremaining: 1m 22s\n",
      "751:\tlearn: 1388.1772464\ttotal: 4m 9s\tremaining: 1m 22s\n",
      "752:\tlearn: 1387.8592730\ttotal: 4m 9s\tremaining: 1m 21s\n",
      "753:\tlearn: 1387.6895801\ttotal: 4m 10s\tremaining: 1m 21s\n",
      "754:\tlearn: 1387.4513022\ttotal: 4m 10s\tremaining: 1m 21s\n",
      "755:\tlearn: 1387.0497131\ttotal: 4m 10s\tremaining: 1m 20s\n",
      "756:\tlearn: 1386.9307251\ttotal: 4m 11s\tremaining: 1m 20s\n",
      "757:\tlearn: 1386.8743214\ttotal: 4m 11s\tremaining: 1m 20s\n",
      "758:\tlearn: 1386.6442167\ttotal: 4m 11s\tremaining: 1m 19s\n",
      "759:\tlearn: 1386.5202831\ttotal: 4m 12s\tremaining: 1m 19s\n",
      "760:\tlearn: 1386.1812866\ttotal: 4m 12s\tremaining: 1m 19s\n",
      "761:\tlearn: 1386.0959429\ttotal: 4m 13s\tremaining: 1m 19s\n",
      "762:\tlearn: 1385.8905265\ttotal: 4m 13s\tremaining: 1m 18s\n",
      "763:\tlearn: 1385.6831486\ttotal: 4m 13s\tremaining: 1m 18s\n",
      "764:\tlearn: 1385.6350518\ttotal: 4m 14s\tremaining: 1m 18s\n",
      "765:\tlearn: 1385.5323304\ttotal: 4m 14s\tremaining: 1m 17s\n",
      "766:\tlearn: 1385.0698775\ttotal: 4m 14s\tremaining: 1m 17s\n",
      "767:\tlearn: 1384.7478192\ttotal: 4m 15s\tremaining: 1m 17s\n",
      "768:\tlearn: 1384.6200743\ttotal: 4m 15s\tremaining: 1m 16s\n",
      "769:\tlearn: 1384.4394102\ttotal: 4m 15s\tremaining: 1m 16s\n",
      "770:\tlearn: 1384.2692692\ttotal: 4m 16s\tremaining: 1m 16s\n",
      "771:\tlearn: 1383.9101180\ttotal: 4m 16s\tremaining: 1m 15s\n",
      "772:\tlearn: 1383.6746578\ttotal: 4m 16s\tremaining: 1m 15s\n",
      "773:\tlearn: 1383.4276741\ttotal: 4m 17s\tremaining: 1m 15s\n",
      "774:\tlearn: 1383.1258711\ttotal: 4m 17s\tremaining: 1m 14s\n",
      "775:\tlearn: 1383.0285462\ttotal: 4m 17s\tremaining: 1m 14s\n",
      "776:\tlearn: 1382.6211651\ttotal: 4m 18s\tremaining: 1m 14s\n",
      "777:\tlearn: 1382.5654641\ttotal: 4m 18s\tremaining: 1m 13s\n",
      "778:\tlearn: 1382.5648989\ttotal: 4m 18s\tremaining: 1m 13s\n",
      "779:\tlearn: 1382.4174582\ttotal: 4m 19s\tremaining: 1m 13s\n",
      "780:\tlearn: 1382.0758761\ttotal: 4m 19s\tremaining: 1m 12s\n",
      "781:\tlearn: 1381.9756953\ttotal: 4m 20s\tremaining: 1m 12s\n",
      "782:\tlearn: 1381.8607537\ttotal: 4m 20s\tremaining: 1m 12s\n",
      "783:\tlearn: 1381.5477255\ttotal: 4m 20s\tremaining: 1m 11s\n",
      "784:\tlearn: 1381.3597646\ttotal: 4m 21s\tremaining: 1m 11s\n",
      "785:\tlearn: 1381.2001264\ttotal: 4m 21s\tremaining: 1m 11s\n",
      "786:\tlearn: 1380.8610869\ttotal: 4m 21s\tremaining: 1m 10s\n",
      "787:\tlearn: 1380.8064594\ttotal: 4m 22s\tremaining: 1m 10s\n",
      "788:\tlearn: 1380.5810201\ttotal: 4m 22s\tremaining: 1m 10s\n",
      "789:\tlearn: 1380.5261929\ttotal: 4m 23s\tremaining: 1m 9s\n",
      "790:\tlearn: 1380.4120520\ttotal: 4m 23s\tremaining: 1m 9s\n",
      "791:\tlearn: 1380.0704398\ttotal: 4m 23s\tremaining: 1m 9s\n",
      "792:\tlearn: 1379.8647709\ttotal: 4m 24s\tremaining: 1m 9s\n",
      "793:\tlearn: 1379.8027441\ttotal: 4m 24s\tremaining: 1m 8s\n",
      "794:\tlearn: 1379.6534666\ttotal: 4m 25s\tremaining: 1m 8s\n",
      "795:\tlearn: 1379.4015678\ttotal: 4m 25s\tremaining: 1m 8s\n",
      "796:\tlearn: 1379.1070363\ttotal: 4m 25s\tremaining: 1m 7s\n",
      "797:\tlearn: 1378.7142422\ttotal: 4m 26s\tremaining: 1m 7s\n",
      "798:\tlearn: 1378.5928149\ttotal: 4m 26s\tremaining: 1m 7s\n",
      "799:\tlearn: 1378.1263995\ttotal: 4m 26s\tremaining: 1m 6s\n",
      "800:\tlearn: 1378.0606370\ttotal: 4m 27s\tremaining: 1m 6s\n",
      "801:\tlearn: 1377.8764457\ttotal: 4m 27s\tremaining: 1m 6s\n",
      "802:\tlearn: 1377.8043365\ttotal: 4m 27s\tremaining: 1m 5s\n",
      "803:\tlearn: 1377.6340525\ttotal: 4m 28s\tremaining: 1m 5s\n",
      "804:\tlearn: 1377.5669800\ttotal: 4m 28s\tremaining: 1m 5s\n",
      "805:\tlearn: 1377.4906948\ttotal: 4m 28s\tremaining: 1m 4s\n",
      "806:\tlearn: 1377.4139506\ttotal: 4m 29s\tremaining: 1m 4s\n",
      "807:\tlearn: 1377.1408355\ttotal: 4m 29s\tremaining: 1m 4s\n",
      "808:\tlearn: 1377.0059419\ttotal: 4m 30s\tremaining: 1m 3s\n",
      "809:\tlearn: 1376.8909286\ttotal: 4m 30s\tremaining: 1m 3s\n",
      "810:\tlearn: 1376.7862957\ttotal: 4m 30s\tremaining: 1m 3s\n",
      "811:\tlearn: 1376.5685389\ttotal: 4m 31s\tremaining: 1m 2s\n",
      "812:\tlearn: 1376.2916382\ttotal: 4m 31s\tremaining: 1m 2s\n",
      "813:\tlearn: 1376.2045872\ttotal: 4m 32s\tremaining: 1m 2s\n",
      "814:\tlearn: 1375.9496740\ttotal: 4m 32s\tremaining: 1m 1s\n",
      "815:\tlearn: 1375.8806708\ttotal: 4m 32s\tremaining: 1m 1s\n",
      "816:\tlearn: 1375.6210338\ttotal: 4m 33s\tremaining: 1m 1s\n",
      "817:\tlearn: 1375.5214885\ttotal: 4m 33s\tremaining: 1m\n",
      "818:\tlearn: 1375.2445242\ttotal: 4m 34s\tremaining: 1m\n",
      "819:\tlearn: 1375.1073941\ttotal: 4m 34s\tremaining: 1m\n",
      "820:\tlearn: 1375.0463770\ttotal: 4m 34s\tremaining: 59.9s\n",
      "821:\tlearn: 1374.8204939\ttotal: 4m 35s\tremaining: 59.6s\n",
      "822:\tlearn: 1374.6533517\ttotal: 4m 35s\tremaining: 59.3s\n",
      "823:\tlearn: 1374.5186677\ttotal: 4m 35s\tremaining: 58.9s\n",
      "824:\tlearn: 1374.5083973\ttotal: 4m 36s\tremaining: 58.6s\n",
      "825:\tlearn: 1374.2060755\ttotal: 4m 36s\tremaining: 58.3s\n",
      "826:\tlearn: 1374.1331699\ttotal: 4m 37s\tremaining: 58s\n",
      "827:\tlearn: 1374.0388169\ttotal: 4m 37s\tremaining: 57.6s\n",
      "828:\tlearn: 1373.9747835\ttotal: 4m 37s\tremaining: 57.3s\n",
      "829:\tlearn: 1373.6173035\ttotal: 4m 38s\tremaining: 57s\n",
      "830:\tlearn: 1373.3892500\ttotal: 4m 38s\tremaining: 56.7s\n",
      "831:\tlearn: 1373.2353506\ttotal: 4m 39s\tremaining: 56.4s\n",
      "832:\tlearn: 1373.1025722\ttotal: 4m 39s\tremaining: 56s\n",
      "833:\tlearn: 1372.8955778\ttotal: 4m 39s\tremaining: 55.7s\n",
      "834:\tlearn: 1372.5326711\ttotal: 4m 40s\tremaining: 55.4s\n",
      "835:\tlearn: 1372.3550010\ttotal: 4m 40s\tremaining: 55.1s\n",
      "836:\tlearn: 1372.1488850\ttotal: 4m 41s\tremaining: 54.7s\n",
      "837:\tlearn: 1372.0673879\ttotal: 4m 41s\tremaining: 54.4s\n",
      "838:\tlearn: 1371.7952987\ttotal: 4m 41s\tremaining: 54.1s\n",
      "839:\tlearn: 1371.4901048\ttotal: 4m 42s\tremaining: 53.8s\n",
      "840:\tlearn: 1371.2591880\ttotal: 4m 42s\tremaining: 53.4s\n",
      "841:\tlearn: 1371.1579391\ttotal: 4m 43s\tremaining: 53.1s\n",
      "842:\tlearn: 1370.8519700\ttotal: 4m 43s\tremaining: 52.8s\n",
      "843:\tlearn: 1370.6424309\ttotal: 4m 43s\tremaining: 52.5s\n",
      "844:\tlearn: 1370.6096842\ttotal: 4m 44s\tremaining: 52.1s\n",
      "845:\tlearn: 1370.2478233\ttotal: 4m 44s\tremaining: 51.8s\n",
      "846:\tlearn: 1369.9702555\ttotal: 4m 45s\tremaining: 51.5s\n",
      "847:\tlearn: 1369.8465882\ttotal: 4m 45s\tremaining: 51.2s\n",
      "848:\tlearn: 1369.5425723\ttotal: 4m 45s\tremaining: 50.8s\n",
      "849:\tlearn: 1369.4351418\ttotal: 4m 46s\tremaining: 50.5s\n",
      "850:\tlearn: 1369.1757595\ttotal: 4m 46s\tremaining: 50.2s\n",
      "851:\tlearn: 1368.9687133\ttotal: 4m 46s\tremaining: 49.8s\n",
      "852:\tlearn: 1368.7421188\ttotal: 4m 47s\tremaining: 49.5s\n",
      "853:\tlearn: 1368.0964623\ttotal: 4m 47s\tremaining: 49.2s\n",
      "854:\tlearn: 1367.9783407\ttotal: 4m 48s\tremaining: 48.9s\n",
      "855:\tlearn: 1367.6737405\ttotal: 4m 48s\tremaining: 48.5s\n",
      "856:\tlearn: 1367.6141327\ttotal: 4m 48s\tremaining: 48.2s\n",
      "857:\tlearn: 1367.5943932\ttotal: 4m 49s\tremaining: 47.9s\n",
      "858:\tlearn: 1367.5609935\ttotal: 4m 49s\tremaining: 47.5s\n",
      "859:\tlearn: 1367.4885590\ttotal: 4m 50s\tremaining: 47.2s\n",
      "860:\tlearn: 1367.3875312\ttotal: 4m 50s\tremaining: 46.9s\n",
      "861:\tlearn: 1367.2547259\ttotal: 4m 50s\tremaining: 46.6s\n",
      "862:\tlearn: 1367.0004464\ttotal: 4m 51s\tremaining: 46.2s\n",
      "863:\tlearn: 1366.7051962\ttotal: 4m 51s\tremaining: 45.9s\n",
      "864:\tlearn: 1366.6773959\ttotal: 4m 52s\tremaining: 45.6s\n",
      "865:\tlearn: 1366.5553812\ttotal: 4m 52s\tremaining: 45.3s\n",
      "866:\tlearn: 1366.4899101\ttotal: 4m 52s\tremaining: 44.9s\n",
      "867:\tlearn: 1366.0851931\ttotal: 4m 53s\tremaining: 44.6s\n",
      "868:\tlearn: 1365.7990413\ttotal: 4m 53s\tremaining: 44.3s\n",
      "869:\tlearn: 1365.5585898\ttotal: 4m 54s\tremaining: 43.9s\n",
      "870:\tlearn: 1365.2571721\ttotal: 4m 54s\tremaining: 43.6s\n",
      "871:\tlearn: 1365.1042961\ttotal: 4m 54s\tremaining: 43.3s\n",
      "872:\tlearn: 1364.8454119\ttotal: 4m 55s\tremaining: 43s\n",
      "873:\tlearn: 1364.5926466\ttotal: 4m 55s\tremaining: 42.6s\n",
      "874:\tlearn: 1364.3546695\ttotal: 4m 56s\tremaining: 42.3s\n",
      "875:\tlearn: 1363.9415509\ttotal: 4m 56s\tremaining: 42s\n",
      "876:\tlearn: 1363.6311862\ttotal: 4m 56s\tremaining: 41.6s\n",
      "877:\tlearn: 1363.4805200\ttotal: 4m 57s\tremaining: 41.3s\n",
      "878:\tlearn: 1363.3441730\ttotal: 4m 57s\tremaining: 41s\n",
      "879:\tlearn: 1363.2083292\ttotal: 4m 58s\tremaining: 40.6s\n",
      "880:\tlearn: 1362.9626203\ttotal: 4m 58s\tremaining: 40.3s\n",
      "881:\tlearn: 1362.5573916\ttotal: 4m 58s\tremaining: 40s\n",
      "882:\tlearn: 1362.5397266\ttotal: 4m 59s\tremaining: 39.6s\n",
      "883:\tlearn: 1362.3881158\ttotal: 4m 59s\tremaining: 39.3s\n",
      "884:\tlearn: 1362.1963470\ttotal: 4m 59s\tremaining: 39s\n",
      "885:\tlearn: 1362.1588235\ttotal: 5m\tremaining: 38.6s\n",
      "886:\tlearn: 1361.9575778\ttotal: 5m\tremaining: 38.3s\n",
      "887:\tlearn: 1361.9190659\ttotal: 5m 1s\tremaining: 38s\n",
      "888:\tlearn: 1361.7261249\ttotal: 5m 1s\tremaining: 37.6s\n",
      "889:\tlearn: 1361.6947434\ttotal: 5m 1s\tremaining: 37.3s\n",
      "890:\tlearn: 1361.5297467\ttotal: 5m 2s\tremaining: 37s\n",
      "891:\tlearn: 1361.4030793\ttotal: 5m 2s\tremaining: 36.7s\n",
      "892:\tlearn: 1361.2813149\ttotal: 5m 3s\tremaining: 36.3s\n",
      "893:\tlearn: 1361.2040670\ttotal: 5m 3s\tremaining: 36s\n",
      "894:\tlearn: 1360.8833315\ttotal: 5m 3s\tremaining: 35.6s\n",
      "895:\tlearn: 1360.7135441\ttotal: 5m 4s\tremaining: 35.3s\n",
      "896:\tlearn: 1360.5490008\ttotal: 5m 4s\tremaining: 35s\n",
      "897:\tlearn: 1360.4305952\ttotal: 5m 5s\tremaining: 34.6s\n",
      "898:\tlearn: 1360.1211414\ttotal: 5m 5s\tremaining: 34.3s\n",
      "899:\tlearn: 1360.0938078\ttotal: 5m 5s\tremaining: 34s\n",
      "900:\tlearn: 1359.8803362\ttotal: 5m 6s\tremaining: 33.6s\n",
      "901:\tlearn: 1359.3767704\ttotal: 5m 6s\tremaining: 33.3s\n",
      "902:\tlearn: 1359.1199461\ttotal: 5m 7s\tremaining: 33s\n",
      "903:\tlearn: 1358.9567165\ttotal: 5m 7s\tremaining: 32.6s\n",
      "904:\tlearn: 1358.8085276\ttotal: 5m 7s\tremaining: 32.3s\n",
      "905:\tlearn: 1358.6694391\ttotal: 5m 8s\tremaining: 32s\n",
      "906:\tlearn: 1358.3960622\ttotal: 5m 8s\tremaining: 31.6s\n",
      "907:\tlearn: 1358.2780059\ttotal: 5m 8s\tremaining: 31.3s\n",
      "908:\tlearn: 1358.1477209\ttotal: 5m 9s\tremaining: 31s\n",
      "909:\tlearn: 1358.0527086\ttotal: 5m 9s\tremaining: 30.6s\n",
      "910:\tlearn: 1357.9758823\ttotal: 5m 10s\tremaining: 30.3s\n",
      "911:\tlearn: 1357.6400346\ttotal: 5m 10s\tremaining: 29.9s\n",
      "912:\tlearn: 1357.5718544\ttotal: 5m 10s\tremaining: 29.6s\n",
      "913:\tlearn: 1357.4180742\ttotal: 5m 11s\tremaining: 29.3s\n",
      "914:\tlearn: 1357.3300454\ttotal: 5m 11s\tremaining: 28.9s\n",
      "915:\tlearn: 1357.0772702\ttotal: 5m 11s\tremaining: 28.6s\n",
      "916:\tlearn: 1357.0014810\ttotal: 5m 12s\tremaining: 28.3s\n",
      "917:\tlearn: 1356.8582404\ttotal: 5m 12s\tremaining: 27.9s\n",
      "918:\tlearn: 1356.7513841\ttotal: 5m 13s\tremaining: 27.6s\n",
      "919:\tlearn: 1356.6764476\ttotal: 5m 13s\tremaining: 27.3s\n",
      "920:\tlearn: 1356.4834563\ttotal: 5m 13s\tremaining: 26.9s\n",
      "921:\tlearn: 1356.2482862\ttotal: 5m 14s\tremaining: 26.6s\n",
      "922:\tlearn: 1356.1027890\ttotal: 5m 14s\tremaining: 26.2s\n",
      "923:\tlearn: 1356.0323692\ttotal: 5m 14s\tremaining: 25.9s\n",
      "924:\tlearn: 1355.8825853\ttotal: 5m 15s\tremaining: 25.6s\n",
      "925:\tlearn: 1355.8112818\ttotal: 5m 15s\tremaining: 25.2s\n",
      "926:\tlearn: 1355.7803771\ttotal: 5m 15s\tremaining: 24.9s\n",
      "927:\tlearn: 1355.5698944\ttotal: 5m 16s\tremaining: 24.5s\n",
      "928:\tlearn: 1355.2556090\ttotal: 5m 16s\tremaining: 24.2s\n",
      "929:\tlearn: 1355.1773648\ttotal: 5m 17s\tremaining: 23.9s\n",
      "930:\tlearn: 1354.8236651\ttotal: 5m 17s\tremaining: 23.5s\n",
      "931:\tlearn: 1354.6815131\ttotal: 5m 17s\tremaining: 23.2s\n",
      "932:\tlearn: 1354.5289742\ttotal: 5m 18s\tremaining: 22.9s\n",
      "933:\tlearn: 1354.4655505\ttotal: 5m 18s\tremaining: 22.5s\n",
      "934:\tlearn: 1354.3303035\ttotal: 5m 18s\tremaining: 22.2s\n",
      "935:\tlearn: 1354.2812553\ttotal: 5m 19s\tremaining: 21.8s\n",
      "936:\tlearn: 1354.2400229\ttotal: 5m 19s\tremaining: 21.5s\n",
      "937:\tlearn: 1353.9258543\ttotal: 5m 20s\tremaining: 21.2s\n",
      "938:\tlearn: 1353.7904991\ttotal: 5m 20s\tremaining: 20.8s\n",
      "939:\tlearn: 1353.6718265\ttotal: 5m 20s\tremaining: 20.5s\n",
      "940:\tlearn: 1353.5954850\ttotal: 5m 21s\tremaining: 20.1s\n",
      "941:\tlearn: 1353.3402137\ttotal: 5m 21s\tremaining: 19.8s\n",
      "942:\tlearn: 1353.2088194\ttotal: 5m 22s\tremaining: 19.5s\n",
      "943:\tlearn: 1353.1413123\ttotal: 5m 22s\tremaining: 19.1s\n",
      "944:\tlearn: 1352.9716807\ttotal: 5m 23s\tremaining: 18.8s\n",
      "945:\tlearn: 1352.8759442\ttotal: 5m 23s\tremaining: 18.5s\n",
      "946:\tlearn: 1352.7525934\ttotal: 5m 23s\tremaining: 18.1s\n",
      "947:\tlearn: 1352.5158087\ttotal: 5m 24s\tremaining: 17.8s\n",
      "948:\tlearn: 1352.4470668\ttotal: 5m 24s\tremaining: 17.4s\n",
      "949:\tlearn: 1352.3737826\ttotal: 5m 24s\tremaining: 17.1s\n",
      "950:\tlearn: 1352.3069841\ttotal: 5m 25s\tremaining: 16.8s\n",
      "951:\tlearn: 1352.1716076\ttotal: 5m 25s\tremaining: 16.4s\n",
      "952:\tlearn: 1351.9765356\ttotal: 5m 26s\tremaining: 16.1s\n",
      "953:\tlearn: 1351.8736696\ttotal: 5m 26s\tremaining: 15.8s\n",
      "954:\tlearn: 1351.7270298\ttotal: 5m 27s\tremaining: 15.4s\n",
      "955:\tlearn: 1351.6023766\ttotal: 5m 27s\tremaining: 15.1s\n",
      "956:\tlearn: 1351.4404171\ttotal: 5m 27s\tremaining: 14.7s\n",
      "957:\tlearn: 1351.3680495\ttotal: 5m 28s\tremaining: 14.4s\n",
      "958:\tlearn: 1351.2481530\ttotal: 5m 28s\tremaining: 14.1s\n",
      "959:\tlearn: 1351.0476441\ttotal: 5m 29s\tremaining: 13.7s\n",
      "960:\tlearn: 1351.0335895\ttotal: 5m 29s\tremaining: 13.4s\n",
      "961:\tlearn: 1350.9374067\ttotal: 5m 29s\tremaining: 13s\n",
      "962:\tlearn: 1350.8388560\ttotal: 5m 30s\tremaining: 12.7s\n",
      "963:\tlearn: 1350.7158516\ttotal: 5m 30s\tremaining: 12.3s\n",
      "964:\tlearn: 1350.6745582\ttotal: 5m 30s\tremaining: 12s\n",
      "965:\tlearn: 1350.4723029\ttotal: 5m 31s\tremaining: 11.7s\n",
      "966:\tlearn: 1350.2663598\ttotal: 5m 31s\tremaining: 11.3s\n",
      "967:\tlearn: 1350.0740752\ttotal: 5m 31s\tremaining: 11s\n",
      "968:\tlearn: 1349.9924552\ttotal: 5m 32s\tremaining: 10.6s\n",
      "969:\tlearn: 1349.8573779\ttotal: 5m 32s\tremaining: 10.3s\n",
      "970:\tlearn: 1349.6800465\ttotal: 5m 33s\tremaining: 9.95s\n",
      "971:\tlearn: 1349.6417852\ttotal: 5m 33s\tremaining: 9.61s\n",
      "972:\tlearn: 1349.3033815\ttotal: 5m 33s\tremaining: 9.27s\n",
      "973:\tlearn: 1349.1816483\ttotal: 5m 34s\tremaining: 8.92s\n",
      "974:\tlearn: 1349.1196149\ttotal: 5m 34s\tremaining: 8.58s\n",
      "975:\tlearn: 1348.9603393\ttotal: 5m 35s\tremaining: 8.24s\n",
      "976:\tlearn: 1348.5886745\ttotal: 5m 35s\tremaining: 7.9s\n",
      "977:\tlearn: 1348.4610567\ttotal: 5m 35s\tremaining: 7.55s\n",
      "978:\tlearn: 1348.2490269\ttotal: 5m 36s\tremaining: 7.21s\n",
      "979:\tlearn: 1347.9609487\ttotal: 5m 36s\tremaining: 6.87s\n",
      "980:\tlearn: 1347.7108791\ttotal: 5m 37s\tremaining: 6.53s\n",
      "981:\tlearn: 1347.5857387\ttotal: 5m 37s\tremaining: 6.19s\n",
      "982:\tlearn: 1347.4631408\ttotal: 5m 37s\tremaining: 5.84s\n",
      "983:\tlearn: 1347.4113187\ttotal: 5m 38s\tremaining: 5.5s\n",
      "984:\tlearn: 1347.2544777\ttotal: 5m 38s\tremaining: 5.16s\n",
      "985:\tlearn: 1347.1736652\ttotal: 5m 39s\tremaining: 4.82s\n",
      "986:\tlearn: 1346.9187692\ttotal: 5m 39s\tremaining: 4.47s\n",
      "987:\tlearn: 1346.8117810\ttotal: 5m 39s\tremaining: 4.13s\n",
      "988:\tlearn: 1346.6410471\ttotal: 5m 40s\tremaining: 3.78s\n",
      "989:\tlearn: 1346.5451172\ttotal: 5m 40s\tremaining: 3.44s\n",
      "990:\tlearn: 1346.4050667\ttotal: 5m 40s\tremaining: 3.1s\n",
      "991:\tlearn: 1346.2556641\ttotal: 5m 41s\tremaining: 2.75s\n",
      "992:\tlearn: 1346.1742137\ttotal: 5m 41s\tremaining: 2.41s\n",
      "993:\tlearn: 1346.0864439\ttotal: 5m 42s\tremaining: 2.06s\n",
      "994:\tlearn: 1345.9981769\ttotal: 5m 42s\tremaining: 1.72s\n",
      "995:\tlearn: 1345.9573853\ttotal: 5m 42s\tremaining: 1.38s\n",
      "996:\tlearn: 1345.8639796\ttotal: 5m 43s\tremaining: 1.03s\n",
      "997:\tlearn: 1345.6035653\ttotal: 5m 43s\tremaining: 689ms\n",
      "998:\tlearn: 1345.5617071\ttotal: 5m 44s\tremaining: 345ms\n",
      "999:\tlearn: 1345.4881617\ttotal: 5m 44s\tremaining: 0us\n",
      "[CV 1/3] END ....................depth=10, learning_rate=0.1; total time= 5.9min\n",
      "0:\tlearn: 4270.4949933\ttotal: 422ms\tremaining: 7m 1s\n",
      "1:\tlearn: 3980.8344503\ttotal: 817ms\tremaining: 6m 47s\n",
      "2:\tlearn: 3725.0172329\ttotal: 1.23s\tremaining: 6m 49s\n",
      "3:\tlearn: 3500.8742324\ttotal: 1.59s\tremaining: 6m 36s\n",
      "4:\tlearn: 3306.4563679\ttotal: 2.01s\tremaining: 6m 39s\n",
      "5:\tlearn: 3131.2009099\ttotal: 2.43s\tremaining: 6m 42s\n",
      "6:\tlearn: 2977.3064736\ttotal: 2.87s\tremaining: 6m 46s\n",
      "7:\tlearn: 2840.1594007\ttotal: 3.24s\tremaining: 6m 42s\n",
      "8:\tlearn: 2721.8504608\ttotal: 3.63s\tremaining: 6m 39s\n",
      "9:\tlearn: 2615.0912549\ttotal: 4s\tremaining: 6m 35s\n",
      "10:\tlearn: 2522.6996828\ttotal: 4.38s\tremaining: 6m 33s\n",
      "11:\tlearn: 2443.8114991\ttotal: 4.74s\tremaining: 6m 30s\n",
      "12:\tlearn: 2372.8532673\ttotal: 5.06s\tremaining: 6m 23s\n",
      "13:\tlearn: 2312.5782011\ttotal: 5.42s\tremaining: 6m 21s\n",
      "14:\tlearn: 2259.9897606\ttotal: 5.8s\tremaining: 6m 20s\n",
      "15:\tlearn: 2210.3751533\ttotal: 6.21s\tremaining: 6m 21s\n",
      "16:\tlearn: 2167.4084564\ttotal: 6.55s\tremaining: 6m 18s\n",
      "17:\tlearn: 2130.8939122\ttotal: 6.92s\tremaining: 6m 17s\n",
      "18:\tlearn: 2097.3164456\ttotal: 7.3s\tremaining: 6m 17s\n",
      "19:\tlearn: 2069.7337419\ttotal: 7.72s\tremaining: 6m 18s\n",
      "20:\tlearn: 2040.0169148\ttotal: 8.22s\tremaining: 6m 23s\n",
      "21:\tlearn: 2015.4380987\ttotal: 8.69s\tremaining: 6m 26s\n",
      "22:\tlearn: 1994.9579949\ttotal: 9.11s\tremaining: 6m 26s\n",
      "23:\tlearn: 1975.6968947\ttotal: 9.57s\tremaining: 6m 29s\n",
      "24:\tlearn: 1959.8264264\ttotal: 10s\tremaining: 6m 30s\n",
      "25:\tlearn: 1945.2620372\ttotal: 10.5s\tremaining: 6m 32s\n",
      "26:\tlearn: 1932.4638452\ttotal: 10.9s\tremaining: 6m 33s\n",
      "27:\tlearn: 1918.5263561\ttotal: 11.4s\tremaining: 6m 35s\n",
      "28:\tlearn: 1906.5549134\ttotal: 11.8s\tremaining: 6m 36s\n",
      "29:\tlearn: 1896.0567000\ttotal: 12.4s\tremaining: 6m 39s\n",
      "30:\tlearn: 1885.9176439\ttotal: 13.1s\tremaining: 6m 48s\n",
      "31:\tlearn: 1877.8169858\ttotal: 13.6s\tremaining: 6m 51s\n",
      "32:\tlearn: 1870.8819265\ttotal: 14s\tremaining: 6m 51s\n",
      "33:\tlearn: 1863.7306553\ttotal: 14.4s\tremaining: 6m 50s\n",
      "34:\tlearn: 1855.3051917\ttotal: 15s\tremaining: 6m 52s\n",
      "35:\tlearn: 1848.1290783\ttotal: 15.5s\tremaining: 6m 56s\n",
      "36:\tlearn: 1841.2882793\ttotal: 15.9s\tremaining: 6m 54s\n",
      "37:\tlearn: 1836.6306392\ttotal: 16.3s\tremaining: 6m 52s\n",
      "38:\tlearn: 1829.7354879\ttotal: 16.6s\tremaining: 6m 49s\n",
      "39:\tlearn: 1826.2154063\ttotal: 17.1s\tremaining: 6m 49s\n",
      "40:\tlearn: 1822.9739946\ttotal: 17.5s\tremaining: 6m 48s\n",
      "41:\tlearn: 1816.5950544\ttotal: 17.8s\tremaining: 6m 45s\n",
      "42:\tlearn: 1810.7688645\ttotal: 18.2s\tremaining: 6m 44s\n",
      "43:\tlearn: 1807.3123959\ttotal: 18.6s\tremaining: 6m 43s\n",
      "44:\tlearn: 1804.0848965\ttotal: 19s\tremaining: 6m 42s\n",
      "45:\tlearn: 1800.2156360\ttotal: 19.4s\tremaining: 6m 42s\n",
      "46:\tlearn: 1797.8285653\ttotal: 19.8s\tremaining: 6m 41s\n",
      "47:\tlearn: 1794.2407808\ttotal: 20.1s\tremaining: 6m 38s\n",
      "48:\tlearn: 1791.3478981\ttotal: 20.4s\tremaining: 6m 36s\n",
      "49:\tlearn: 1787.1677463\ttotal: 20.8s\tremaining: 6m 34s\n",
      "50:\tlearn: 1783.9579341\ttotal: 21.1s\tremaining: 6m 33s\n",
      "51:\tlearn: 1781.0003876\ttotal: 21.5s\tremaining: 6m 31s\n",
      "52:\tlearn: 1776.3617363\ttotal: 21.8s\tremaining: 6m 29s\n",
      "53:\tlearn: 1773.3657872\ttotal: 22.1s\tremaining: 6m 27s\n",
      "54:\tlearn: 1769.9714377\ttotal: 22.6s\tremaining: 6m 27s\n",
      "55:\tlearn: 1767.3159153\ttotal: 22.9s\tremaining: 6m 25s\n",
      "56:\tlearn: 1764.5572153\ttotal: 23.3s\tremaining: 6m 24s\n",
      "57:\tlearn: 1762.2842768\ttotal: 23.7s\tremaining: 6m 24s\n",
      "58:\tlearn: 1758.2827347\ttotal: 24s\tremaining: 6m 23s\n",
      "59:\tlearn: 1755.5283616\ttotal: 24.4s\tremaining: 6m 22s\n",
      "60:\tlearn: 1753.3457859\ttotal: 24.8s\tremaining: 6m 21s\n",
      "61:\tlearn: 1752.2892388\ttotal: 25.2s\tremaining: 6m 20s\n",
      "62:\tlearn: 1750.4281500\ttotal: 25.5s\tremaining: 6m 19s\n",
      "63:\tlearn: 1748.1853848\ttotal: 25.9s\tremaining: 6m 19s\n",
      "64:\tlearn: 1746.5562590\ttotal: 26.3s\tremaining: 6m 17s\n",
      "65:\tlearn: 1745.4558240\ttotal: 26.7s\tremaining: 6m 17s\n",
      "66:\tlearn: 1743.1652654\ttotal: 27.1s\tremaining: 6m 17s\n",
      "67:\tlearn: 1741.3804095\ttotal: 27.5s\tremaining: 6m 16s\n",
      "68:\tlearn: 1738.7350636\ttotal: 27.8s\tremaining: 6m 15s\n",
      "69:\tlearn: 1736.6038526\ttotal: 28.2s\tremaining: 6m 15s\n",
      "70:\tlearn: 1733.4025447\ttotal: 28.6s\tremaining: 6m 14s\n",
      "71:\tlearn: 1731.8711869\ttotal: 29s\tremaining: 6m 13s\n",
      "72:\tlearn: 1729.9191077\ttotal: 29.3s\tremaining: 6m 12s\n",
      "73:\tlearn: 1728.7490597\ttotal: 29.8s\tremaining: 6m 12s\n",
      "74:\tlearn: 1727.5464562\ttotal: 30.2s\tremaining: 6m 12s\n",
      "75:\tlearn: 1724.9810161\ttotal: 30.6s\tremaining: 6m 11s\n",
      "76:\tlearn: 1723.0586420\ttotal: 30.9s\tremaining: 6m 10s\n",
      "77:\tlearn: 1721.9201039\ttotal: 31.3s\tremaining: 6m 10s\n",
      "78:\tlearn: 1719.7706388\ttotal: 31.7s\tremaining: 6m 9s\n",
      "79:\tlearn: 1718.7680979\ttotal: 32.1s\tremaining: 6m 9s\n",
      "80:\tlearn: 1717.2480607\ttotal: 32.5s\tremaining: 6m 8s\n",
      "81:\tlearn: 1715.4272222\ttotal: 32.9s\tremaining: 6m 8s\n",
      "82:\tlearn: 1713.7933049\ttotal: 33.3s\tremaining: 6m 8s\n",
      "83:\tlearn: 1713.1204078\ttotal: 33.7s\tremaining: 6m 7s\n",
      "84:\tlearn: 1712.2178687\ttotal: 34.2s\tremaining: 6m 7s\n",
      "85:\tlearn: 1711.5258660\ttotal: 34.5s\tremaining: 6m 7s\n",
      "86:\tlearn: 1709.8414727\ttotal: 35s\tremaining: 6m 7s\n",
      "87:\tlearn: 1707.4780051\ttotal: 35.6s\tremaining: 6m 8s\n",
      "88:\tlearn: 1706.2932005\ttotal: 36s\tremaining: 6m 8s\n",
      "89:\tlearn: 1705.3066200\ttotal: 36.4s\tremaining: 6m 8s\n",
      "90:\tlearn: 1703.1811336\ttotal: 36.8s\tremaining: 6m 7s\n",
      "91:\tlearn: 1701.1633344\ttotal: 37.2s\tremaining: 6m 6s\n",
      "92:\tlearn: 1699.1298168\ttotal: 37.6s\tremaining: 6m 6s\n",
      "93:\tlearn: 1698.6159297\ttotal: 38s\tremaining: 6m 5s\n",
      "94:\tlearn: 1697.9837779\ttotal: 38.4s\tremaining: 6m 5s\n",
      "95:\tlearn: 1696.4792053\ttotal: 38.7s\tremaining: 6m 4s\n",
      "96:\tlearn: 1694.8054811\ttotal: 39s\tremaining: 6m 3s\n",
      "97:\tlearn: 1692.2415897\ttotal: 39.3s\tremaining: 6m 2s\n",
      "98:\tlearn: 1690.8200384\ttotal: 39.7s\tremaining: 6m 1s\n",
      "99:\tlearn: 1689.5317859\ttotal: 40.1s\tremaining: 6m\n",
      "100:\tlearn: 1688.4079609\ttotal: 40.4s\tremaining: 5m 59s\n",
      "101:\tlearn: 1687.6511719\ttotal: 40.7s\tremaining: 5m 58s\n",
      "102:\tlearn: 1686.2544050\ttotal: 41.1s\tremaining: 5m 58s\n",
      "103:\tlearn: 1684.8852479\ttotal: 41.4s\tremaining: 5m 56s\n",
      "104:\tlearn: 1682.0888482\ttotal: 41.7s\tremaining: 5m 55s\n",
      "105:\tlearn: 1681.1311325\ttotal: 42.1s\tremaining: 5m 55s\n",
      "106:\tlearn: 1680.0721983\ttotal: 42.4s\tremaining: 5m 54s\n",
      "107:\tlearn: 1678.7193816\ttotal: 42.9s\tremaining: 5m 53s\n",
      "108:\tlearn: 1678.0989185\ttotal: 43.2s\tremaining: 5m 53s\n",
      "109:\tlearn: 1676.8982167\ttotal: 43.6s\tremaining: 5m 52s\n",
      "110:\tlearn: 1675.6340645\ttotal: 44s\tremaining: 5m 52s\n",
      "111:\tlearn: 1674.9769921\ttotal: 44.4s\tremaining: 5m 51s\n",
      "112:\tlearn: 1673.2872180\ttotal: 44.9s\tremaining: 5m 52s\n",
      "113:\tlearn: 1672.5690723\ttotal: 45.3s\tremaining: 5m 51s\n",
      "114:\tlearn: 1671.1805502\ttotal: 45.6s\tremaining: 5m 51s\n",
      "115:\tlearn: 1669.7016150\ttotal: 46s\tremaining: 5m 50s\n",
      "116:\tlearn: 1668.1859280\ttotal: 46.3s\tremaining: 5m 49s\n",
      "117:\tlearn: 1666.6953540\ttotal: 46.7s\tremaining: 5m 48s\n",
      "118:\tlearn: 1665.6212540\ttotal: 47.1s\tremaining: 5m 48s\n",
      "119:\tlearn: 1664.3884125\ttotal: 47.5s\tremaining: 5m 48s\n",
      "120:\tlearn: 1663.4098919\ttotal: 47.9s\tremaining: 5m 48s\n",
      "121:\tlearn: 1661.6599615\ttotal: 48.3s\tremaining: 5m 47s\n",
      "122:\tlearn: 1660.8863826\ttotal: 48.6s\tremaining: 5m 46s\n",
      "123:\tlearn: 1659.7784091\ttotal: 49.1s\tremaining: 5m 46s\n",
      "124:\tlearn: 1658.0787902\ttotal: 49.5s\tremaining: 5m 46s\n",
      "125:\tlearn: 1657.0999312\ttotal: 49.9s\tremaining: 5m 46s\n",
      "126:\tlearn: 1656.1212674\ttotal: 50.3s\tremaining: 5m 45s\n",
      "127:\tlearn: 1654.9311041\ttotal: 50.7s\tremaining: 5m 45s\n",
      "128:\tlearn: 1654.3462753\ttotal: 51s\tremaining: 5m 44s\n",
      "129:\tlearn: 1653.0146455\ttotal: 51.3s\tremaining: 5m 43s\n",
      "130:\tlearn: 1652.1781643\ttotal: 51.7s\tremaining: 5m 42s\n",
      "131:\tlearn: 1650.6810017\ttotal: 52s\tremaining: 5m 42s\n",
      "132:\tlearn: 1649.5153985\ttotal: 52.4s\tremaining: 5m 41s\n",
      "133:\tlearn: 1648.3729382\ttotal: 52.8s\tremaining: 5m 40s\n",
      "134:\tlearn: 1647.0544827\ttotal: 53.1s\tremaining: 5m 40s\n",
      "135:\tlearn: 1646.0589283\ttotal: 53.5s\tremaining: 5m 40s\n",
      "136:\tlearn: 1644.4566661\ttotal: 53.9s\tremaining: 5m 39s\n",
      "137:\tlearn: 1643.8705784\ttotal: 54.3s\tremaining: 5m 39s\n",
      "138:\tlearn: 1642.9960588\ttotal: 54.6s\tremaining: 5m 38s\n",
      "139:\tlearn: 1642.4163062\ttotal: 55s\tremaining: 5m 38s\n",
      "140:\tlearn: 1642.0100930\ttotal: 55.4s\tremaining: 5m 37s\n",
      "141:\tlearn: 1641.1102856\ttotal: 55.8s\tremaining: 5m 36s\n",
      "142:\tlearn: 1640.5151996\ttotal: 56.1s\tremaining: 5m 36s\n",
      "143:\tlearn: 1639.4218805\ttotal: 56.4s\tremaining: 5m 35s\n",
      "144:\tlearn: 1638.8979092\ttotal: 56.8s\tremaining: 5m 34s\n",
      "145:\tlearn: 1638.0047624\ttotal: 57.2s\tremaining: 5m 34s\n",
      "146:\tlearn: 1637.0304229\ttotal: 57.6s\tremaining: 5m 34s\n",
      "147:\tlearn: 1635.8911922\ttotal: 58s\tremaining: 5m 33s\n",
      "148:\tlearn: 1635.4188397\ttotal: 58.3s\tremaining: 5m 33s\n",
      "149:\tlearn: 1634.9482615\ttotal: 58.7s\tremaining: 5m 32s\n",
      "150:\tlearn: 1633.2172280\ttotal: 59.1s\tremaining: 5m 32s\n",
      "151:\tlearn: 1631.4370685\ttotal: 59.4s\tremaining: 5m 31s\n",
      "152:\tlearn: 1630.2747191\ttotal: 59.8s\tremaining: 5m 31s\n",
      "153:\tlearn: 1629.2073173\ttotal: 1m\tremaining: 5m 30s\n",
      "154:\tlearn: 1628.3520200\ttotal: 1m\tremaining: 5m 30s\n",
      "155:\tlearn: 1627.3257063\ttotal: 1m\tremaining: 5m 29s\n",
      "156:\tlearn: 1626.3784038\ttotal: 1m 1s\tremaining: 5m 29s\n",
      "157:\tlearn: 1625.4446396\ttotal: 1m 1s\tremaining: 5m 29s\n",
      "158:\tlearn: 1625.2340142\ttotal: 1m 2s\tremaining: 5m 29s\n",
      "159:\tlearn: 1624.0527690\ttotal: 1m 2s\tremaining: 5m 28s\n",
      "160:\tlearn: 1622.6985647\ttotal: 1m 3s\tremaining: 5m 28s\n",
      "161:\tlearn: 1622.1232933\ttotal: 1m 3s\tremaining: 5m 28s\n",
      "162:\tlearn: 1621.1054472\ttotal: 1m 3s\tremaining: 5m 27s\n",
      "163:\tlearn: 1620.7368149\ttotal: 1m 4s\tremaining: 5m 27s\n",
      "164:\tlearn: 1619.4104252\ttotal: 1m 4s\tremaining: 5m 27s\n",
      "165:\tlearn: 1617.9966746\ttotal: 1m 5s\tremaining: 5m 26s\n",
      "166:\tlearn: 1617.2538771\ttotal: 1m 5s\tremaining: 5m 26s\n",
      "167:\tlearn: 1616.0845035\ttotal: 1m 5s\tremaining: 5m 26s\n",
      "168:\tlearn: 1614.9704920\ttotal: 1m 6s\tremaining: 5m 25s\n",
      "169:\tlearn: 1613.9930658\ttotal: 1m 6s\tremaining: 5m 24s\n",
      "170:\tlearn: 1613.0130883\ttotal: 1m 6s\tremaining: 5m 24s\n",
      "171:\tlearn: 1611.6456739\ttotal: 1m 7s\tremaining: 5m 23s\n",
      "172:\tlearn: 1610.9366690\ttotal: 1m 7s\tremaining: 5m 23s\n",
      "173:\tlearn: 1610.6313076\ttotal: 1m 8s\tremaining: 5m 22s\n",
      "174:\tlearn: 1609.3799430\ttotal: 1m 8s\tremaining: 5m 22s\n",
      "175:\tlearn: 1609.0597035\ttotal: 1m 8s\tremaining: 5m 21s\n",
      "176:\tlearn: 1607.9391328\ttotal: 1m 9s\tremaining: 5m 21s\n",
      "177:\tlearn: 1607.4802416\ttotal: 1m 9s\tremaining: 5m 20s\n",
      "178:\tlearn: 1606.5293012\ttotal: 1m 9s\tremaining: 5m 20s\n",
      "179:\tlearn: 1605.1655923\ttotal: 1m 10s\tremaining: 5m 20s\n",
      "180:\tlearn: 1603.9534847\ttotal: 1m 10s\tremaining: 5m 19s\n",
      "181:\tlearn: 1603.1752883\ttotal: 1m 10s\tremaining: 5m 19s\n",
      "182:\tlearn: 1602.5560118\ttotal: 1m 11s\tremaining: 5m 18s\n",
      "183:\tlearn: 1601.7926964\ttotal: 1m 11s\tremaining: 5m 18s\n",
      "184:\tlearn: 1601.3581969\ttotal: 1m 12s\tremaining: 5m 17s\n",
      "185:\tlearn: 1600.9708646\ttotal: 1m 12s\tremaining: 5m 17s\n",
      "186:\tlearn: 1600.4367128\ttotal: 1m 12s\tremaining: 5m 17s\n",
      "187:\tlearn: 1599.2397463\ttotal: 1m 13s\tremaining: 5m 16s\n",
      "188:\tlearn: 1598.6050752\ttotal: 1m 13s\tremaining: 5m 16s\n",
      "189:\tlearn: 1597.4990602\ttotal: 1m 14s\tremaining: 5m 15s\n",
      "190:\tlearn: 1596.8232869\ttotal: 1m 14s\tremaining: 5m 15s\n",
      "191:\tlearn: 1595.4906118\ttotal: 1m 14s\tremaining: 5m 14s\n",
      "192:\tlearn: 1594.3581703\ttotal: 1m 15s\tremaining: 5m 14s\n",
      "193:\tlearn: 1593.6990260\ttotal: 1m 15s\tremaining: 5m 13s\n",
      "194:\tlearn: 1593.2827737\ttotal: 1m 15s\tremaining: 5m 13s\n",
      "195:\tlearn: 1592.1785734\ttotal: 1m 16s\tremaining: 5m 12s\n",
      "196:\tlearn: 1590.7847177\ttotal: 1m 16s\tremaining: 5m 12s\n",
      "197:\tlearn: 1590.1638340\ttotal: 1m 16s\tremaining: 5m 11s\n",
      "198:\tlearn: 1589.3099246\ttotal: 1m 17s\tremaining: 5m 11s\n",
      "199:\tlearn: 1589.0745324\ttotal: 1m 17s\tremaining: 5m 10s\n",
      "200:\tlearn: 1588.5735772\ttotal: 1m 18s\tremaining: 5m 10s\n",
      "201:\tlearn: 1587.5865245\ttotal: 1m 18s\tremaining: 5m 9s\n",
      "202:\tlearn: 1586.9027038\ttotal: 1m 18s\tremaining: 5m 9s\n",
      "203:\tlearn: 1586.1782664\ttotal: 1m 19s\tremaining: 5m 9s\n",
      "204:\tlearn: 1585.5282430\ttotal: 1m 19s\tremaining: 5m 8s\n",
      "205:\tlearn: 1584.5179538\ttotal: 1m 20s\tremaining: 5m 8s\n",
      "206:\tlearn: 1583.7838041\ttotal: 1m 20s\tremaining: 5m 8s\n",
      "207:\tlearn: 1583.0137752\ttotal: 1m 20s\tremaining: 5m 8s\n",
      "208:\tlearn: 1582.5296970\ttotal: 1m 21s\tremaining: 5m 7s\n",
      "209:\tlearn: 1581.7990179\ttotal: 1m 21s\tremaining: 5m 7s\n",
      "210:\tlearn: 1581.3091155\ttotal: 1m 21s\tremaining: 5m 6s\n",
      "211:\tlearn: 1580.6001964\ttotal: 1m 22s\tremaining: 5m 6s\n",
      "212:\tlearn: 1580.2517864\ttotal: 1m 22s\tremaining: 5m 5s\n",
      "213:\tlearn: 1579.6176481\ttotal: 1m 23s\tremaining: 5m 5s\n",
      "214:\tlearn: 1579.1561788\ttotal: 1m 23s\tremaining: 5m 4s\n",
      "215:\tlearn: 1578.5924020\ttotal: 1m 23s\tremaining: 5m 4s\n",
      "216:\tlearn: 1577.3978170\ttotal: 1m 24s\tremaining: 5m 3s\n",
      "217:\tlearn: 1576.9316605\ttotal: 1m 24s\tremaining: 5m 3s\n",
      "218:\tlearn: 1575.9295783\ttotal: 1m 24s\tremaining: 5m 2s\n",
      "219:\tlearn: 1575.0635537\ttotal: 1m 25s\tremaining: 5m 2s\n",
      "220:\tlearn: 1573.9934943\ttotal: 1m 25s\tremaining: 5m 2s\n",
      "221:\tlearn: 1573.5201879\ttotal: 1m 25s\tremaining: 5m 1s\n",
      "222:\tlearn: 1573.1795506\ttotal: 1m 26s\tremaining: 5m\n",
      "223:\tlearn: 1572.7784425\ttotal: 1m 26s\tremaining: 5m\n",
      "224:\tlearn: 1572.2654004\ttotal: 1m 27s\tremaining: 4m 59s\n",
      "225:\tlearn: 1571.6194223\ttotal: 1m 27s\tremaining: 4m 59s\n",
      "226:\tlearn: 1571.2977170\ttotal: 1m 27s\tremaining: 4m 59s\n",
      "227:\tlearn: 1570.2888639\ttotal: 1m 28s\tremaining: 4m 58s\n",
      "228:\tlearn: 1570.1848473\ttotal: 1m 28s\tremaining: 4m 58s\n",
      "229:\tlearn: 1569.4432234\ttotal: 1m 28s\tremaining: 4m 57s\n",
      "230:\tlearn: 1568.7041690\ttotal: 1m 29s\tremaining: 4m 57s\n",
      "231:\tlearn: 1568.2313303\ttotal: 1m 29s\tremaining: 4m 57s\n",
      "232:\tlearn: 1567.2913684\ttotal: 1m 30s\tremaining: 4m 56s\n",
      "233:\tlearn: 1566.8189273\ttotal: 1m 30s\tremaining: 4m 56s\n",
      "234:\tlearn: 1566.4456020\ttotal: 1m 30s\tremaining: 4m 55s\n",
      "235:\tlearn: 1566.1783499\ttotal: 1m 31s\tremaining: 4m 55s\n",
      "236:\tlearn: 1565.8396922\ttotal: 1m 31s\tremaining: 4m 55s\n",
      "237:\tlearn: 1565.5647256\ttotal: 1m 32s\tremaining: 4m 55s\n",
      "238:\tlearn: 1564.7713688\ttotal: 1m 32s\tremaining: 4m 54s\n",
      "239:\tlearn: 1564.0937827\ttotal: 1m 32s\tremaining: 4m 54s\n",
      "240:\tlearn: 1563.6571282\ttotal: 1m 33s\tremaining: 4m 53s\n",
      "241:\tlearn: 1563.0596645\ttotal: 1m 33s\tremaining: 4m 53s\n",
      "242:\tlearn: 1562.6997024\ttotal: 1m 33s\tremaining: 4m 52s\n",
      "243:\tlearn: 1562.3093772\ttotal: 1m 34s\tremaining: 4m 52s\n",
      "244:\tlearn: 1561.6246787\ttotal: 1m 34s\tremaining: 4m 52s\n",
      "245:\tlearn: 1561.2649430\ttotal: 1m 35s\tremaining: 4m 51s\n",
      "246:\tlearn: 1560.4156478\ttotal: 1m 35s\tremaining: 4m 50s\n",
      "247:\tlearn: 1559.4083700\ttotal: 1m 35s\tremaining: 4m 50s\n",
      "248:\tlearn: 1559.1705429\ttotal: 1m 36s\tremaining: 4m 49s\n",
      "249:\tlearn: 1558.7016824\ttotal: 1m 36s\tremaining: 4m 49s\n",
      "250:\tlearn: 1558.4303804\ttotal: 1m 36s\tremaining: 4m 48s\n",
      "251:\tlearn: 1558.0135536\ttotal: 1m 37s\tremaining: 4m 48s\n",
      "252:\tlearn: 1557.6940528\ttotal: 1m 37s\tremaining: 4m 47s\n",
      "253:\tlearn: 1556.9721251\ttotal: 1m 38s\tremaining: 4m 47s\n",
      "254:\tlearn: 1556.7543443\ttotal: 1m 38s\tremaining: 4m 47s\n",
      "255:\tlearn: 1556.4052951\ttotal: 1m 38s\tremaining: 4m 46s\n",
      "256:\tlearn: 1555.8606200\ttotal: 1m 38s\tremaining: 4m 45s\n",
      "257:\tlearn: 1555.8124520\ttotal: 1m 39s\tremaining: 4m 45s\n",
      "258:\tlearn: 1555.4976901\ttotal: 1m 39s\tremaining: 4m 44s\n",
      "259:\tlearn: 1555.0505784\ttotal: 1m 39s\tremaining: 4m 44s\n",
      "260:\tlearn: 1554.7940369\ttotal: 1m 40s\tremaining: 4m 44s\n",
      "261:\tlearn: 1554.0793784\ttotal: 1m 40s\tremaining: 4m 43s\n",
      "262:\tlearn: 1553.3091477\ttotal: 1m 41s\tremaining: 4m 43s\n",
      "263:\tlearn: 1552.3376850\ttotal: 1m 41s\tremaining: 4m 42s\n",
      "264:\tlearn: 1552.1600516\ttotal: 1m 41s\tremaining: 4m 42s\n",
      "265:\tlearn: 1551.8741652\ttotal: 1m 42s\tremaining: 4m 41s\n",
      "266:\tlearn: 1551.2834242\ttotal: 1m 42s\tremaining: 4m 41s\n",
      "267:\tlearn: 1550.7613094\ttotal: 1m 42s\tremaining: 4m 41s\n",
      "268:\tlearn: 1550.6916201\ttotal: 1m 43s\tremaining: 4m 40s\n",
      "269:\tlearn: 1549.9455949\ttotal: 1m 43s\tremaining: 4m 39s\n",
      "270:\tlearn: 1549.1567917\ttotal: 1m 43s\tremaining: 4m 39s\n",
      "271:\tlearn: 1548.6558532\ttotal: 1m 44s\tremaining: 4m 38s\n",
      "272:\tlearn: 1548.3417170\ttotal: 1m 44s\tremaining: 4m 38s\n",
      "273:\tlearn: 1548.0258075\ttotal: 1m 44s\tremaining: 4m 38s\n",
      "274:\tlearn: 1547.7743854\ttotal: 1m 45s\tremaining: 4m 37s\n",
      "275:\tlearn: 1547.5834519\ttotal: 1m 45s\tremaining: 4m 37s\n",
      "276:\tlearn: 1547.1003179\ttotal: 1m 46s\tremaining: 4m 36s\n",
      "277:\tlearn: 1546.8702684\ttotal: 1m 46s\tremaining: 4m 36s\n",
      "278:\tlearn: 1546.6505639\ttotal: 1m 46s\tremaining: 4m 35s\n",
      "279:\tlearn: 1546.0704585\ttotal: 1m 47s\tremaining: 4m 35s\n",
      "280:\tlearn: 1545.5632867\ttotal: 1m 47s\tremaining: 4m 34s\n",
      "281:\tlearn: 1544.6148262\ttotal: 1m 47s\tremaining: 4m 34s\n",
      "282:\tlearn: 1544.1605438\ttotal: 1m 48s\tremaining: 4m 34s\n",
      "283:\tlearn: 1543.3988919\ttotal: 1m 48s\tremaining: 4m 33s\n",
      "284:\tlearn: 1543.1251912\ttotal: 1m 49s\tremaining: 4m 33s\n",
      "285:\tlearn: 1542.2630905\ttotal: 1m 49s\tremaining: 4m 33s\n",
      "286:\tlearn: 1541.6667615\ttotal: 1m 49s\tremaining: 4m 32s\n",
      "287:\tlearn: 1540.9921032\ttotal: 1m 50s\tremaining: 4m 32s\n",
      "288:\tlearn: 1540.4455491\ttotal: 1m 50s\tremaining: 4m 31s\n",
      "289:\tlearn: 1540.0891065\ttotal: 1m 50s\tremaining: 4m 31s\n",
      "290:\tlearn: 1539.6361563\ttotal: 1m 51s\tremaining: 4m 30s\n",
      "291:\tlearn: 1539.2932537\ttotal: 1m 51s\tremaining: 4m 30s\n",
      "292:\tlearn: 1538.5596529\ttotal: 1m 51s\tremaining: 4m 29s\n",
      "293:\tlearn: 1537.3714682\ttotal: 1m 52s\tremaining: 4m 29s\n",
      "294:\tlearn: 1536.6931982\ttotal: 1m 52s\tremaining: 4m 28s\n",
      "295:\tlearn: 1536.3118766\ttotal: 1m 52s\tremaining: 4m 28s\n",
      "296:\tlearn: 1535.6189111\ttotal: 1m 53s\tremaining: 4m 28s\n",
      "297:\tlearn: 1535.5178509\ttotal: 1m 53s\tremaining: 4m 28s\n",
      "298:\tlearn: 1535.0956112\ttotal: 1m 54s\tremaining: 4m 27s\n",
      "299:\tlearn: 1534.8901815\ttotal: 1m 54s\tremaining: 4m 27s\n",
      "300:\tlearn: 1534.5794208\ttotal: 1m 55s\tremaining: 4m 27s\n",
      "301:\tlearn: 1534.3134797\ttotal: 1m 55s\tremaining: 4m 26s\n",
      "302:\tlearn: 1533.6482035\ttotal: 1m 55s\tremaining: 4m 26s\n",
      "303:\tlearn: 1533.0480439\ttotal: 1m 56s\tremaining: 4m 25s\n",
      "304:\tlearn: 1532.4607601\ttotal: 1m 56s\tremaining: 4m 25s\n",
      "305:\tlearn: 1532.1066349\ttotal: 1m 56s\tremaining: 4m 25s\n",
      "306:\tlearn: 1531.5321307\ttotal: 1m 57s\tremaining: 4m 24s\n",
      "307:\tlearn: 1531.0164370\ttotal: 1m 57s\tremaining: 4m 24s\n",
      "308:\tlearn: 1530.7312743\ttotal: 1m 58s\tremaining: 4m 24s\n",
      "309:\tlearn: 1530.0770140\ttotal: 1m 58s\tremaining: 4m 23s\n",
      "310:\tlearn: 1529.7250575\ttotal: 1m 58s\tremaining: 4m 23s\n",
      "311:\tlearn: 1529.3921938\ttotal: 1m 59s\tremaining: 4m 22s\n",
      "312:\tlearn: 1529.0588531\ttotal: 1m 59s\tremaining: 4m 22s\n",
      "313:\tlearn: 1528.7811907\ttotal: 1m 59s\tremaining: 4m 22s\n",
      "314:\tlearn: 1528.1542541\ttotal: 2m\tremaining: 4m 21s\n",
      "315:\tlearn: 1527.4967500\ttotal: 2m\tremaining: 4m 21s\n",
      "316:\tlearn: 1526.6746991\ttotal: 2m 1s\tremaining: 4m 20s\n",
      "317:\tlearn: 1526.3782273\ttotal: 2m 1s\tremaining: 4m 20s\n",
      "318:\tlearn: 1526.1159313\ttotal: 2m 1s\tremaining: 4m 19s\n",
      "319:\tlearn: 1525.6098853\ttotal: 2m 2s\tremaining: 4m 19s\n",
      "320:\tlearn: 1525.4457338\ttotal: 2m 2s\tremaining: 4m 19s\n",
      "321:\tlearn: 1524.9917949\ttotal: 2m 3s\tremaining: 4m 19s\n",
      "322:\tlearn: 1524.6562773\ttotal: 2m 3s\tremaining: 4m 18s\n",
      "323:\tlearn: 1523.8821790\ttotal: 2m 3s\tremaining: 4m 18s\n",
      "324:\tlearn: 1523.3090466\ttotal: 2m 4s\tremaining: 4m 17s\n",
      "325:\tlearn: 1522.9037397\ttotal: 2m 4s\tremaining: 4m 17s\n",
      "326:\tlearn: 1522.4878394\ttotal: 2m 4s\tremaining: 4m 16s\n",
      "327:\tlearn: 1522.1807696\ttotal: 2m 5s\tremaining: 4m 16s\n",
      "328:\tlearn: 1521.9574908\ttotal: 2m 5s\tremaining: 4m 16s\n",
      "329:\tlearn: 1521.3910967\ttotal: 2m 6s\tremaining: 4m 15s\n",
      "330:\tlearn: 1520.8351392\ttotal: 2m 6s\tremaining: 4m 15s\n",
      "331:\tlearn: 1520.1662091\ttotal: 2m 6s\tremaining: 4m 14s\n",
      "332:\tlearn: 1519.7583418\ttotal: 2m 7s\tremaining: 4m 14s\n",
      "333:\tlearn: 1519.3542149\ttotal: 2m 7s\tremaining: 4m 14s\n",
      "334:\tlearn: 1518.8547224\ttotal: 2m 7s\tremaining: 4m 13s\n",
      "335:\tlearn: 1518.4244484\ttotal: 2m 8s\tremaining: 4m 13s\n",
      "336:\tlearn: 1517.7989492\ttotal: 2m 8s\tremaining: 4m 12s\n",
      "337:\tlearn: 1517.0639294\ttotal: 2m 8s\tremaining: 4m 12s\n",
      "338:\tlearn: 1516.2949587\ttotal: 2m 9s\tremaining: 4m 11s\n",
      "339:\tlearn: 1515.9098036\ttotal: 2m 9s\tremaining: 4m 11s\n",
      "340:\tlearn: 1515.1587273\ttotal: 2m 9s\tremaining: 4m 10s\n",
      "341:\tlearn: 1514.5091469\ttotal: 2m 10s\tremaining: 4m 10s\n",
      "342:\tlearn: 1514.2150952\ttotal: 2m 10s\tremaining: 4m 9s\n",
      "343:\tlearn: 1513.8723506\ttotal: 2m 10s\tremaining: 4m 9s\n",
      "344:\tlearn: 1513.4996722\ttotal: 2m 11s\tremaining: 4m 9s\n",
      "345:\tlearn: 1513.2799630\ttotal: 2m 11s\tremaining: 4m 8s\n",
      "346:\tlearn: 1512.9732025\ttotal: 2m 12s\tremaining: 4m 8s\n",
      "347:\tlearn: 1512.7046568\ttotal: 2m 12s\tremaining: 4m 8s\n",
      "348:\tlearn: 1512.1451088\ttotal: 2m 12s\tremaining: 4m 7s\n",
      "349:\tlearn: 1511.5020731\ttotal: 2m 13s\tremaining: 4m 7s\n",
      "350:\tlearn: 1511.3005539\ttotal: 2m 13s\tremaining: 4m 6s\n",
      "351:\tlearn: 1511.0622614\ttotal: 2m 13s\tremaining: 4m 6s\n",
      "352:\tlearn: 1510.6804841\ttotal: 2m 14s\tremaining: 4m 6s\n",
      "353:\tlearn: 1510.6065881\ttotal: 2m 14s\tremaining: 4m 5s\n",
      "354:\tlearn: 1510.4070313\ttotal: 2m 15s\tremaining: 4m 5s\n",
      "355:\tlearn: 1510.0297645\ttotal: 2m 15s\tremaining: 4m 5s\n",
      "356:\tlearn: 1509.6152572\ttotal: 2m 15s\tremaining: 4m 4s\n",
      "357:\tlearn: 1509.1281794\ttotal: 2m 16s\tremaining: 4m 4s\n",
      "358:\tlearn: 1508.9555934\ttotal: 2m 16s\tremaining: 4m 4s\n",
      "359:\tlearn: 1508.7836472\ttotal: 2m 17s\tremaining: 4m 3s\n",
      "360:\tlearn: 1508.1417996\ttotal: 2m 17s\tremaining: 4m 3s\n",
      "361:\tlearn: 1507.4507789\ttotal: 2m 17s\tremaining: 4m 2s\n",
      "362:\tlearn: 1506.8240350\ttotal: 2m 18s\tremaining: 4m 2s\n",
      "363:\tlearn: 1506.4340868\ttotal: 2m 18s\tremaining: 4m 2s\n",
      "364:\tlearn: 1505.5626641\ttotal: 2m 18s\tremaining: 4m 1s\n",
      "365:\tlearn: 1505.0233209\ttotal: 2m 19s\tremaining: 4m 1s\n",
      "366:\tlearn: 1504.6950022\ttotal: 2m 19s\tremaining: 4m\n",
      "367:\tlearn: 1504.3628196\ttotal: 2m 20s\tremaining: 4m\n",
      "368:\tlearn: 1504.1322156\ttotal: 2m 20s\tremaining: 4m\n",
      "369:\tlearn: 1503.8607627\ttotal: 2m 20s\tremaining: 3m 59s\n",
      "370:\tlearn: 1503.7447607\ttotal: 2m 21s\tremaining: 3m 59s\n",
      "371:\tlearn: 1503.4449988\ttotal: 2m 21s\tremaining: 3m 59s\n",
      "372:\tlearn: 1503.1247388\ttotal: 2m 22s\tremaining: 3m 58s\n",
      "373:\tlearn: 1502.6045152\ttotal: 2m 22s\tremaining: 3m 58s\n",
      "374:\tlearn: 1502.0546097\ttotal: 2m 22s\tremaining: 3m 58s\n",
      "375:\tlearn: 1501.5335293\ttotal: 2m 23s\tremaining: 3m 57s\n",
      "376:\tlearn: 1501.0039685\ttotal: 2m 23s\tremaining: 3m 57s\n",
      "377:\tlearn: 1500.6687016\ttotal: 2m 24s\tremaining: 3m 57s\n",
      "378:\tlearn: 1500.2700484\ttotal: 2m 24s\tremaining: 3m 56s\n",
      "379:\tlearn: 1500.0618343\ttotal: 2m 24s\tremaining: 3m 56s\n",
      "380:\tlearn: 1499.8534704\ttotal: 2m 25s\tremaining: 3m 55s\n",
      "381:\tlearn: 1499.1650091\ttotal: 2m 25s\tremaining: 3m 55s\n",
      "382:\tlearn: 1498.7120191\ttotal: 2m 26s\tremaining: 3m 55s\n",
      "383:\tlearn: 1498.0920463\ttotal: 2m 26s\tremaining: 3m 54s\n",
      "384:\tlearn: 1497.8749167\ttotal: 2m 26s\tremaining: 3m 54s\n",
      "385:\tlearn: 1497.4254321\ttotal: 2m 27s\tremaining: 3m 53s\n",
      "386:\tlearn: 1497.0911994\ttotal: 2m 27s\tremaining: 3m 53s\n",
      "387:\tlearn: 1496.9832048\ttotal: 2m 27s\tremaining: 3m 53s\n",
      "388:\tlearn: 1496.6759599\ttotal: 2m 28s\tremaining: 3m 52s\n",
      "389:\tlearn: 1496.2050918\ttotal: 2m 28s\tremaining: 3m 52s\n",
      "390:\tlearn: 1495.4705718\ttotal: 2m 28s\tremaining: 3m 51s\n",
      "391:\tlearn: 1495.1171283\ttotal: 2m 29s\tremaining: 3m 51s\n",
      "392:\tlearn: 1494.6591546\ttotal: 2m 29s\tremaining: 3m 50s\n",
      "393:\tlearn: 1494.0374052\ttotal: 2m 29s\tremaining: 3m 50s\n",
      "394:\tlearn: 1493.5961081\ttotal: 2m 30s\tremaining: 3m 49s\n",
      "395:\tlearn: 1493.4167785\ttotal: 2m 30s\tremaining: 3m 49s\n",
      "396:\tlearn: 1493.0939896\ttotal: 2m 30s\tremaining: 3m 49s\n",
      "397:\tlearn: 1492.6173312\ttotal: 2m 31s\tremaining: 3m 48s\n",
      "398:\tlearn: 1492.3923934\ttotal: 2m 31s\tremaining: 3m 48s\n",
      "399:\tlearn: 1491.8583578\ttotal: 2m 32s\tremaining: 3m 48s\n",
      "400:\tlearn: 1491.2918288\ttotal: 2m 32s\tremaining: 3m 47s\n",
      "401:\tlearn: 1490.9588384\ttotal: 2m 32s\tremaining: 3m 47s\n",
      "402:\tlearn: 1490.8417067\ttotal: 2m 33s\tremaining: 3m 46s\n",
      "403:\tlearn: 1490.5773929\ttotal: 2m 33s\tremaining: 3m 46s\n",
      "404:\tlearn: 1490.1534593\ttotal: 2m 33s\tremaining: 3m 46s\n",
      "405:\tlearn: 1489.8171325\ttotal: 2m 34s\tremaining: 3m 45s\n",
      "406:\tlearn: 1489.5976839\ttotal: 2m 34s\tremaining: 3m 45s\n",
      "407:\tlearn: 1489.1526207\ttotal: 2m 34s\tremaining: 3m 44s\n",
      "408:\tlearn: 1488.8702811\ttotal: 2m 35s\tremaining: 3m 44s\n",
      "409:\tlearn: 1488.1242341\ttotal: 2m 35s\tremaining: 3m 43s\n",
      "410:\tlearn: 1487.8883161\ttotal: 2m 35s\tremaining: 3m 43s\n",
      "411:\tlearn: 1487.6979221\ttotal: 2m 36s\tremaining: 3m 42s\n",
      "412:\tlearn: 1487.3413032\ttotal: 2m 36s\tremaining: 3m 42s\n",
      "413:\tlearn: 1487.2103912\ttotal: 2m 36s\tremaining: 3m 41s\n",
      "414:\tlearn: 1486.5496952\ttotal: 2m 37s\tremaining: 3m 41s\n",
      "415:\tlearn: 1486.2946833\ttotal: 2m 37s\tremaining: 3m 41s\n",
      "416:\tlearn: 1485.8368713\ttotal: 2m 37s\tremaining: 3m 40s\n",
      "417:\tlearn: 1485.7325558\ttotal: 2m 38s\tremaining: 3m 40s\n",
      "418:\tlearn: 1485.5174874\ttotal: 2m 38s\tremaining: 3m 39s\n",
      "419:\tlearn: 1485.4263510\ttotal: 2m 38s\tremaining: 3m 39s\n",
      "420:\tlearn: 1485.2028099\ttotal: 2m 38s\tremaining: 3m 38s\n",
      "421:\tlearn: 1484.8708208\ttotal: 2m 39s\tremaining: 3m 38s\n",
      "422:\tlearn: 1484.5031137\ttotal: 2m 39s\tremaining: 3m 37s\n",
      "423:\tlearn: 1484.1758220\ttotal: 2m 39s\tremaining: 3m 37s\n",
      "424:\tlearn: 1483.8180299\ttotal: 2m 40s\tremaining: 3m 36s\n",
      "425:\tlearn: 1483.4838130\ttotal: 2m 40s\tremaining: 3m 36s\n",
      "426:\tlearn: 1483.0807067\ttotal: 2m 40s\tremaining: 3m 35s\n",
      "427:\tlearn: 1482.5332363\ttotal: 2m 41s\tremaining: 3m 35s\n",
      "428:\tlearn: 1481.9511020\ttotal: 2m 41s\tremaining: 3m 34s\n",
      "429:\tlearn: 1481.8883896\ttotal: 2m 41s\tremaining: 3m 34s\n",
      "430:\tlearn: 1481.4723948\ttotal: 2m 42s\tremaining: 3m 34s\n",
      "431:\tlearn: 1480.9684398\ttotal: 2m 42s\tremaining: 3m 33s\n",
      "432:\tlearn: 1480.8662109\ttotal: 2m 42s\tremaining: 3m 33s\n",
      "433:\tlearn: 1480.7537323\ttotal: 2m 43s\tremaining: 3m 32s\n",
      "434:\tlearn: 1480.6155054\ttotal: 2m 43s\tremaining: 3m 32s\n",
      "435:\tlearn: 1480.1387083\ttotal: 2m 43s\tremaining: 3m 32s\n",
      "436:\tlearn: 1479.6401505\ttotal: 2m 44s\tremaining: 3m 31s\n",
      "437:\tlearn: 1479.3005018\ttotal: 2m 44s\tremaining: 3m 31s\n",
      "438:\tlearn: 1478.9188521\ttotal: 2m 44s\tremaining: 3m 30s\n",
      "439:\tlearn: 1478.6964722\ttotal: 2m 45s\tremaining: 3m 30s\n",
      "440:\tlearn: 1478.5936728\ttotal: 2m 45s\tremaining: 3m 29s\n",
      "441:\tlearn: 1478.4786550\ttotal: 2m 45s\tremaining: 3m 29s\n",
      "442:\tlearn: 1478.2431938\ttotal: 2m 46s\tremaining: 3m 28s\n",
      "443:\tlearn: 1477.9090581\ttotal: 2m 46s\tremaining: 3m 28s\n",
      "444:\tlearn: 1477.7961441\ttotal: 2m 46s\tremaining: 3m 28s\n",
      "445:\tlearn: 1477.3124764\ttotal: 2m 47s\tremaining: 3m 27s\n",
      "446:\tlearn: 1476.7523280\ttotal: 2m 47s\tremaining: 3m 27s\n",
      "447:\tlearn: 1476.1689398\ttotal: 2m 48s\tremaining: 3m 27s\n",
      "448:\tlearn: 1475.1602638\ttotal: 2m 48s\tremaining: 3m 26s\n",
      "449:\tlearn: 1475.1001788\ttotal: 2m 48s\tremaining: 3m 26s\n",
      "450:\tlearn: 1474.6300551\ttotal: 2m 48s\tremaining: 3m 25s\n",
      "451:\tlearn: 1474.1431952\ttotal: 2m 49s\tremaining: 3m 25s\n",
      "452:\tlearn: 1473.7709235\ttotal: 2m 49s\tremaining: 3m 24s\n",
      "453:\tlearn: 1473.5304087\ttotal: 2m 49s\tremaining: 3m 24s\n",
      "454:\tlearn: 1473.0488067\ttotal: 2m 50s\tremaining: 3m 23s\n",
      "455:\tlearn: 1472.7911807\ttotal: 2m 50s\tremaining: 3m 23s\n",
      "456:\tlearn: 1472.5501244\ttotal: 2m 50s\tremaining: 3m 23s\n",
      "457:\tlearn: 1472.3359645\ttotal: 2m 51s\tremaining: 3m 22s\n",
      "458:\tlearn: 1471.9188216\ttotal: 2m 51s\tremaining: 3m 22s\n",
      "459:\tlearn: 1471.8816529\ttotal: 2m 51s\tremaining: 3m 21s\n",
      "460:\tlearn: 1471.2464014\ttotal: 2m 52s\tremaining: 3m 21s\n",
      "461:\tlearn: 1470.6371584\ttotal: 2m 52s\tremaining: 3m 21s\n",
      "462:\tlearn: 1470.4509117\ttotal: 2m 53s\tremaining: 3m 20s\n",
      "463:\tlearn: 1470.2258596\ttotal: 2m 53s\tremaining: 3m 20s\n",
      "464:\tlearn: 1470.0261791\ttotal: 2m 53s\tremaining: 3m 20s\n",
      "465:\tlearn: 1469.5933456\ttotal: 2m 54s\tremaining: 3m 19s\n",
      "466:\tlearn: 1469.4749316\ttotal: 2m 54s\tremaining: 3m 19s\n",
      "467:\tlearn: 1469.2107160\ttotal: 2m 54s\tremaining: 3m 18s\n",
      "468:\tlearn: 1468.9024090\ttotal: 2m 55s\tremaining: 3m 18s\n",
      "469:\tlearn: 1468.6375926\ttotal: 2m 55s\tremaining: 3m 17s\n",
      "470:\tlearn: 1468.3030287\ttotal: 2m 55s\tremaining: 3m 17s\n",
      "471:\tlearn: 1467.9248462\ttotal: 2m 56s\tremaining: 3m 17s\n",
      "472:\tlearn: 1467.7678909\ttotal: 2m 56s\tremaining: 3m 16s\n",
      "473:\tlearn: 1467.6721497\ttotal: 2m 56s\tremaining: 3m 16s\n",
      "474:\tlearn: 1467.4491527\ttotal: 2m 57s\tremaining: 3m 15s\n",
      "475:\tlearn: 1467.3557070\ttotal: 2m 57s\tremaining: 3m 15s\n",
      "476:\tlearn: 1467.2030912\ttotal: 2m 57s\tremaining: 3m 15s\n",
      "477:\tlearn: 1466.8182381\ttotal: 2m 58s\tremaining: 3m 14s\n",
      "478:\tlearn: 1466.7167147\ttotal: 2m 58s\tremaining: 3m 14s\n",
      "479:\tlearn: 1466.1881305\ttotal: 2m 58s\tremaining: 3m 13s\n",
      "480:\tlearn: 1465.8576058\ttotal: 2m 59s\tremaining: 3m 13s\n",
      "481:\tlearn: 1465.7116244\ttotal: 2m 59s\tremaining: 3m 13s\n",
      "482:\tlearn: 1465.1102155\ttotal: 3m\tremaining: 3m 12s\n",
      "483:\tlearn: 1464.7054795\ttotal: 3m\tremaining: 3m 12s\n",
      "484:\tlearn: 1463.8075939\ttotal: 3m\tremaining: 3m 11s\n",
      "485:\tlearn: 1463.6679439\ttotal: 3m 1s\tremaining: 3m 11s\n",
      "486:\tlearn: 1463.2037196\ttotal: 3m 1s\tremaining: 3m 11s\n",
      "487:\tlearn: 1462.7842855\ttotal: 3m 1s\tremaining: 3m 10s\n",
      "488:\tlearn: 1462.4438704\ttotal: 3m 2s\tremaining: 3m 10s\n",
      "489:\tlearn: 1461.9326430\ttotal: 3m 2s\tremaining: 3m 9s\n",
      "490:\tlearn: 1461.8529175\ttotal: 3m 2s\tremaining: 3m 9s\n",
      "491:\tlearn: 1461.7543904\ttotal: 3m 3s\tremaining: 3m 9s\n",
      "492:\tlearn: 1461.6880610\ttotal: 3m 3s\tremaining: 3m 8s\n",
      "493:\tlearn: 1461.2135596\ttotal: 3m 3s\tremaining: 3m 8s\n",
      "494:\tlearn: 1460.7264086\ttotal: 3m 4s\tremaining: 3m 7s\n",
      "495:\tlearn: 1460.3149473\ttotal: 3m 4s\tremaining: 3m 7s\n",
      "496:\tlearn: 1460.0913292\ttotal: 3m 4s\tremaining: 3m 7s\n",
      "497:\tlearn: 1459.9997017\ttotal: 3m 5s\tremaining: 3m 6s\n",
      "498:\tlearn: 1459.6186066\ttotal: 3m 5s\tremaining: 3m 6s\n",
      "499:\tlearn: 1459.2903411\ttotal: 3m 5s\tremaining: 3m 5s\n",
      "500:\tlearn: 1458.8596719\ttotal: 3m 6s\tremaining: 3m 5s\n",
      "501:\tlearn: 1458.7866977\ttotal: 3m 6s\tremaining: 3m 5s\n",
      "502:\tlearn: 1458.5637743\ttotal: 3m 6s\tremaining: 3m 4s\n",
      "503:\tlearn: 1458.4981823\ttotal: 3m 7s\tremaining: 3m 4s\n",
      "504:\tlearn: 1458.4228678\ttotal: 3m 7s\tremaining: 3m 3s\n",
      "505:\tlearn: 1457.9578761\ttotal: 3m 7s\tremaining: 3m 3s\n",
      "506:\tlearn: 1457.6800297\ttotal: 3m 8s\tremaining: 3m 2s\n",
      "507:\tlearn: 1457.6304483\ttotal: 3m 8s\tremaining: 3m 2s\n",
      "508:\tlearn: 1457.2037392\ttotal: 3m 8s\tremaining: 3m 2s\n",
      "509:\tlearn: 1457.0655265\ttotal: 3m 8s\tremaining: 3m 1s\n",
      "510:\tlearn: 1456.7447122\ttotal: 3m 9s\tremaining: 3m 1s\n",
      "511:\tlearn: 1456.3549992\ttotal: 3m 9s\tremaining: 3m\n",
      "512:\tlearn: 1456.1762000\ttotal: 3m 9s\tremaining: 3m\n",
      "513:\tlearn: 1455.7838634\ttotal: 3m 10s\tremaining: 2m 59s\n",
      "514:\tlearn: 1455.6948499\ttotal: 3m 10s\tremaining: 2m 59s\n",
      "515:\tlearn: 1455.5572209\ttotal: 3m 10s\tremaining: 2m 59s\n",
      "516:\tlearn: 1455.4889443\ttotal: 3m 11s\tremaining: 2m 58s\n",
      "517:\tlearn: 1455.1464769\ttotal: 3m 11s\tremaining: 2m 58s\n",
      "518:\tlearn: 1454.9555057\ttotal: 3m 11s\tremaining: 2m 57s\n",
      "519:\tlearn: 1454.8508729\ttotal: 3m 12s\tremaining: 2m 57s\n",
      "520:\tlearn: 1454.5940318\ttotal: 3m 12s\tremaining: 2m 57s\n",
      "521:\tlearn: 1454.4535143\ttotal: 3m 12s\tremaining: 2m 56s\n",
      "522:\tlearn: 1454.2006714\ttotal: 3m 13s\tremaining: 2m 56s\n",
      "523:\tlearn: 1454.0651362\ttotal: 3m 13s\tremaining: 2m 55s\n",
      "524:\tlearn: 1453.6613899\ttotal: 3m 13s\tremaining: 2m 55s\n",
      "525:\tlearn: 1453.4733888\ttotal: 3m 14s\tremaining: 2m 55s\n",
      "526:\tlearn: 1452.8031402\ttotal: 3m 14s\tremaining: 2m 54s\n",
      "527:\tlearn: 1452.5829388\ttotal: 3m 14s\tremaining: 2m 54s\n",
      "528:\tlearn: 1452.2550328\ttotal: 3m 15s\tremaining: 2m 53s\n",
      "529:\tlearn: 1452.0530581\ttotal: 3m 15s\tremaining: 2m 53s\n",
      "530:\tlearn: 1451.6656625\ttotal: 3m 15s\tremaining: 2m 53s\n",
      "531:\tlearn: 1451.6222922\ttotal: 3m 16s\tremaining: 2m 52s\n",
      "532:\tlearn: 1451.4973310\ttotal: 3m 16s\tremaining: 2m 52s\n",
      "533:\tlearn: 1451.3729352\ttotal: 3m 16s\tremaining: 2m 51s\n",
      "534:\tlearn: 1450.8188622\ttotal: 3m 17s\tremaining: 2m 51s\n",
      "535:\tlearn: 1450.7052248\ttotal: 3m 17s\tremaining: 2m 51s\n",
      "536:\tlearn: 1450.6193144\ttotal: 3m 17s\tremaining: 2m 50s\n",
      "537:\tlearn: 1450.5206369\ttotal: 3m 18s\tremaining: 2m 50s\n",
      "538:\tlearn: 1450.3654276\ttotal: 3m 18s\tremaining: 2m 49s\n",
      "539:\tlearn: 1450.0944660\ttotal: 3m 18s\tremaining: 2m 49s\n",
      "540:\tlearn: 1449.9635419\ttotal: 3m 19s\tremaining: 2m 49s\n",
      "541:\tlearn: 1449.7363285\ttotal: 3m 19s\tremaining: 2m 48s\n",
      "542:\tlearn: 1449.3262331\ttotal: 3m 19s\tremaining: 2m 48s\n",
      "543:\tlearn: 1448.9155626\ttotal: 3m 20s\tremaining: 2m 47s\n",
      "544:\tlearn: 1448.8251614\ttotal: 3m 20s\tremaining: 2m 47s\n",
      "545:\tlearn: 1448.4083905\ttotal: 3m 20s\tremaining: 2m 46s\n",
      "546:\tlearn: 1448.1295054\ttotal: 3m 21s\tremaining: 2m 46s\n",
      "547:\tlearn: 1447.6127941\ttotal: 3m 21s\tremaining: 2m 46s\n",
      "548:\tlearn: 1447.5605216\ttotal: 3m 21s\tremaining: 2m 45s\n",
      "549:\tlearn: 1447.4668886\ttotal: 3m 22s\tremaining: 2m 45s\n",
      "550:\tlearn: 1447.1180676\ttotal: 3m 22s\tremaining: 2m 44s\n",
      "551:\tlearn: 1447.0648552\ttotal: 3m 22s\tremaining: 2m 44s\n",
      "552:\tlearn: 1446.6616502\ttotal: 3m 23s\tremaining: 2m 44s\n",
      "553:\tlearn: 1446.4354351\ttotal: 3m 23s\tremaining: 2m 43s\n",
      "554:\tlearn: 1446.3375611\ttotal: 3m 23s\tremaining: 2m 43s\n",
      "555:\tlearn: 1446.0148461\ttotal: 3m 24s\tremaining: 2m 43s\n",
      "556:\tlearn: 1445.8164669\ttotal: 3m 24s\tremaining: 2m 42s\n",
      "557:\tlearn: 1445.3716410\ttotal: 3m 24s\tremaining: 2m 42s\n",
      "558:\tlearn: 1445.0485881\ttotal: 3m 25s\tremaining: 2m 41s\n",
      "559:\tlearn: 1444.9216361\ttotal: 3m 25s\tremaining: 2m 41s\n",
      "560:\tlearn: 1444.4632792\ttotal: 3m 25s\tremaining: 2m 41s\n",
      "561:\tlearn: 1444.2059455\ttotal: 3m 26s\tremaining: 2m 40s\n",
      "562:\tlearn: 1444.1309071\ttotal: 3m 26s\tremaining: 2m 40s\n",
      "563:\tlearn: 1443.8490709\ttotal: 3m 26s\tremaining: 2m 39s\n",
      "564:\tlearn: 1443.5924551\ttotal: 3m 27s\tremaining: 2m 39s\n",
      "565:\tlearn: 1443.1255736\ttotal: 3m 27s\tremaining: 2m 39s\n",
      "566:\tlearn: 1443.0472270\ttotal: 3m 27s\tremaining: 2m 38s\n",
      "567:\tlearn: 1442.9712272\ttotal: 3m 28s\tremaining: 2m 38s\n",
      "568:\tlearn: 1442.7924123\ttotal: 3m 28s\tremaining: 2m 37s\n",
      "569:\tlearn: 1442.6429082\ttotal: 3m 28s\tremaining: 2m 37s\n",
      "570:\tlearn: 1442.1129137\ttotal: 3m 29s\tremaining: 2m 37s\n",
      "571:\tlearn: 1441.9282998\ttotal: 3m 29s\tremaining: 2m 36s\n",
      "572:\tlearn: 1441.7973318\ttotal: 3m 29s\tremaining: 2m 36s\n",
      "573:\tlearn: 1441.3947348\ttotal: 3m 30s\tremaining: 2m 35s\n",
      "574:\tlearn: 1441.0634782\ttotal: 3m 30s\tremaining: 2m 35s\n",
      "575:\tlearn: 1440.9351098\ttotal: 3m 30s\tremaining: 2m 35s\n",
      "576:\tlearn: 1440.6700341\ttotal: 3m 31s\tremaining: 2m 34s\n",
      "577:\tlearn: 1440.4871036\ttotal: 3m 31s\tremaining: 2m 34s\n",
      "578:\tlearn: 1439.9213733\ttotal: 3m 31s\tremaining: 2m 33s\n",
      "579:\tlearn: 1439.7965280\ttotal: 3m 32s\tremaining: 2m 33s\n",
      "580:\tlearn: 1439.5899102\ttotal: 3m 32s\tremaining: 2m 33s\n",
      "581:\tlearn: 1439.3833339\ttotal: 3m 32s\tremaining: 2m 32s\n",
      "582:\tlearn: 1439.2739228\ttotal: 3m 32s\tremaining: 2m 32s\n",
      "583:\tlearn: 1439.2395947\ttotal: 3m 33s\tremaining: 2m 31s\n",
      "584:\tlearn: 1439.1568267\ttotal: 3m 33s\tremaining: 2m 31s\n",
      "585:\tlearn: 1439.0925653\ttotal: 3m 33s\tremaining: 2m 31s\n",
      "586:\tlearn: 1438.7065114\ttotal: 3m 34s\tremaining: 2m 30s\n",
      "587:\tlearn: 1438.2246942\ttotal: 3m 34s\tremaining: 2m 30s\n",
      "588:\tlearn: 1437.9490464\ttotal: 3m 34s\tremaining: 2m 29s\n",
      "589:\tlearn: 1437.8032454\ttotal: 3m 35s\tremaining: 2m 29s\n",
      "590:\tlearn: 1437.4704097\ttotal: 3m 35s\tremaining: 2m 29s\n",
      "591:\tlearn: 1437.2358720\ttotal: 3m 35s\tremaining: 2m 28s\n",
      "592:\tlearn: 1437.1907389\ttotal: 3m 36s\tremaining: 2m 28s\n",
      "593:\tlearn: 1436.9607890\ttotal: 3m 36s\tremaining: 2m 27s\n",
      "594:\tlearn: 1436.8991455\ttotal: 3m 36s\tremaining: 2m 27s\n",
      "595:\tlearn: 1436.4336601\ttotal: 3m 37s\tremaining: 2m 27s\n",
      "596:\tlearn: 1436.2106305\ttotal: 3m 37s\tremaining: 2m 26s\n",
      "597:\tlearn: 1435.8993087\ttotal: 3m 37s\tremaining: 2m 26s\n",
      "598:\tlearn: 1435.6234590\ttotal: 3m 37s\tremaining: 2m 25s\n",
      "599:\tlearn: 1435.3925488\ttotal: 3m 38s\tremaining: 2m 25s\n",
      "600:\tlearn: 1435.2906901\ttotal: 3m 38s\tremaining: 2m 25s\n",
      "601:\tlearn: 1435.0707248\ttotal: 3m 39s\tremaining: 2m 24s\n",
      "602:\tlearn: 1434.9123638\ttotal: 3m 39s\tremaining: 2m 24s\n",
      "603:\tlearn: 1434.6820443\ttotal: 3m 39s\tremaining: 2m 23s\n",
      "604:\tlearn: 1434.4697545\ttotal: 3m 39s\tremaining: 2m 23s\n",
      "605:\tlearn: 1434.2828982\ttotal: 3m 40s\tremaining: 2m 23s\n",
      "606:\tlearn: 1434.1146213\ttotal: 3m 40s\tremaining: 2m 22s\n",
      "607:\tlearn: 1433.8727409\ttotal: 3m 40s\tremaining: 2m 22s\n",
      "608:\tlearn: 1433.7292280\ttotal: 3m 41s\tremaining: 2m 21s\n",
      "609:\tlearn: 1433.6388291\ttotal: 3m 41s\tremaining: 2m 21s\n",
      "610:\tlearn: 1433.3679316\ttotal: 3m 41s\tremaining: 2m 21s\n",
      "611:\tlearn: 1433.0616236\ttotal: 3m 42s\tremaining: 2m 20s\n",
      "612:\tlearn: 1432.9203179\ttotal: 3m 42s\tremaining: 2m 20s\n",
      "613:\tlearn: 1432.6035372\ttotal: 3m 42s\tremaining: 2m 20s\n",
      "614:\tlearn: 1432.3756895\ttotal: 3m 43s\tremaining: 2m 19s\n",
      "615:\tlearn: 1432.3409334\ttotal: 3m 43s\tremaining: 2m 19s\n",
      "616:\tlearn: 1432.1705895\ttotal: 3m 43s\tremaining: 2m 18s\n",
      "617:\tlearn: 1431.9284724\ttotal: 3m 44s\tremaining: 2m 18s\n",
      "618:\tlearn: 1431.6972324\ttotal: 3m 44s\tremaining: 2m 18s\n",
      "619:\tlearn: 1431.5601799\ttotal: 3m 44s\tremaining: 2m 17s\n",
      "620:\tlearn: 1431.3109396\ttotal: 3m 45s\tremaining: 2m 17s\n",
      "621:\tlearn: 1430.7675123\ttotal: 3m 45s\tremaining: 2m 16s\n",
      "622:\tlearn: 1430.4346233\ttotal: 3m 45s\tremaining: 2m 16s\n",
      "623:\tlearn: 1430.4132448\ttotal: 3m 46s\tremaining: 2m 16s\n",
      "624:\tlearn: 1430.0041683\ttotal: 3m 46s\tremaining: 2m 15s\n",
      "625:\tlearn: 1429.9395324\ttotal: 3m 46s\tremaining: 2m 15s\n",
      "626:\tlearn: 1429.5480524\ttotal: 3m 47s\tremaining: 2m 15s\n",
      "627:\tlearn: 1429.2679110\ttotal: 3m 47s\tremaining: 2m 14s\n",
      "628:\tlearn: 1429.2032246\ttotal: 3m 47s\tremaining: 2m 14s\n",
      "629:\tlearn: 1429.1576077\ttotal: 3m 48s\tremaining: 2m 14s\n",
      "630:\tlearn: 1429.0460174\ttotal: 3m 48s\tremaining: 2m 13s\n",
      "631:\tlearn: 1428.9422930\ttotal: 3m 48s\tremaining: 2m 13s\n",
      "632:\tlearn: 1428.8351235\ttotal: 3m 49s\tremaining: 2m 12s\n",
      "633:\tlearn: 1428.6111658\ttotal: 3m 49s\tremaining: 2m 12s\n",
      "634:\tlearn: 1428.4812703\ttotal: 3m 49s\tremaining: 2m 12s\n",
      "635:\tlearn: 1428.2031938\ttotal: 3m 50s\tremaining: 2m 11s\n",
      "636:\tlearn: 1427.8958715\ttotal: 3m 50s\tremaining: 2m 11s\n",
      "637:\tlearn: 1427.5254889\ttotal: 3m 50s\tremaining: 2m 10s\n",
      "638:\tlearn: 1427.1771441\ttotal: 3m 50s\tremaining: 2m 10s\n",
      "639:\tlearn: 1426.6529220\ttotal: 3m 51s\tremaining: 2m 10s\n",
      "640:\tlearn: 1426.5112530\ttotal: 3m 51s\tremaining: 2m 9s\n",
      "641:\tlearn: 1426.2570264\ttotal: 3m 51s\tremaining: 2m 9s\n",
      "642:\tlearn: 1425.8039784\ttotal: 3m 52s\tremaining: 2m 8s\n",
      "643:\tlearn: 1425.6083139\ttotal: 3m 52s\tremaining: 2m 8s\n",
      "644:\tlearn: 1425.5523499\ttotal: 3m 53s\tremaining: 2m 8s\n",
      "645:\tlearn: 1424.9527767\ttotal: 3m 53s\tremaining: 2m 7s\n",
      "646:\tlearn: 1424.6603979\ttotal: 3m 53s\tremaining: 2m 7s\n",
      "647:\tlearn: 1424.5253033\ttotal: 3m 53s\tremaining: 2m 7s\n",
      "648:\tlearn: 1424.3311660\ttotal: 3m 54s\tremaining: 2m 6s\n",
      "649:\tlearn: 1424.1269400\ttotal: 3m 54s\tremaining: 2m 6s\n",
      "650:\tlearn: 1423.6818814\ttotal: 3m 54s\tremaining: 2m 5s\n",
      "651:\tlearn: 1423.5731637\ttotal: 3m 55s\tremaining: 2m 5s\n",
      "652:\tlearn: 1423.3140315\ttotal: 3m 55s\tremaining: 2m 5s\n",
      "653:\tlearn: 1423.1313784\ttotal: 3m 55s\tremaining: 2m 4s\n",
      "654:\tlearn: 1422.6809002\ttotal: 3m 56s\tremaining: 2m 4s\n",
      "655:\tlearn: 1422.1942059\ttotal: 3m 56s\tremaining: 2m 3s\n",
      "656:\tlearn: 1421.9825674\ttotal: 3m 56s\tremaining: 2m 3s\n",
      "657:\tlearn: 1421.8108050\ttotal: 3m 57s\tremaining: 2m 3s\n",
      "658:\tlearn: 1421.6828204\ttotal: 3m 57s\tremaining: 2m 2s\n",
      "659:\tlearn: 1421.5386333\ttotal: 3m 57s\tremaining: 2m 2s\n",
      "660:\tlearn: 1421.4523821\ttotal: 3m 58s\tremaining: 2m 2s\n",
      "661:\tlearn: 1421.4380981\ttotal: 3m 58s\tremaining: 2m 1s\n",
      "662:\tlearn: 1421.1833287\ttotal: 3m 58s\tremaining: 2m 1s\n",
      "663:\tlearn: 1421.1015635\ttotal: 3m 59s\tremaining: 2m\n",
      "664:\tlearn: 1421.0195059\ttotal: 3m 59s\tremaining: 2m\n",
      "665:\tlearn: 1420.4833749\ttotal: 3m 59s\tremaining: 2m\n",
      "666:\tlearn: 1420.3934752\ttotal: 4m\tremaining: 1m 59s\n",
      "667:\tlearn: 1420.0017073\ttotal: 4m\tremaining: 1m 59s\n",
      "668:\tlearn: 1419.9236350\ttotal: 4m\tremaining: 1m 59s\n",
      "669:\tlearn: 1419.8274951\ttotal: 4m\tremaining: 1m 58s\n",
      "670:\tlearn: 1419.6878727\ttotal: 4m 1s\tremaining: 1m 58s\n",
      "671:\tlearn: 1419.6132571\ttotal: 4m 1s\tremaining: 1m 57s\n",
      "672:\tlearn: 1419.4044025\ttotal: 4m 1s\tremaining: 1m 57s\n",
      "673:\tlearn: 1419.1624523\ttotal: 4m 2s\tremaining: 1m 57s\n",
      "674:\tlearn: 1419.0988878\ttotal: 4m 2s\tremaining: 1m 56s\n",
      "675:\tlearn: 1419.0437771\ttotal: 4m 2s\tremaining: 1m 56s\n",
      "676:\tlearn: 1418.9122136\ttotal: 4m 3s\tremaining: 1m 55s\n",
      "677:\tlearn: 1418.7462497\ttotal: 4m 3s\tremaining: 1m 55s\n",
      "678:\tlearn: 1418.3581009\ttotal: 4m 3s\tremaining: 1m 55s\n",
      "679:\tlearn: 1418.0266793\ttotal: 4m 4s\tremaining: 1m 54s\n",
      "680:\tlearn: 1417.7390682\ttotal: 4m 4s\tremaining: 1m 54s\n",
      "681:\tlearn: 1417.6083341\ttotal: 4m 4s\tremaining: 1m 54s\n",
      "682:\tlearn: 1417.4213965\ttotal: 4m 4s\tremaining: 1m 53s\n",
      "683:\tlearn: 1416.9003667\ttotal: 4m 5s\tremaining: 1m 53s\n",
      "684:\tlearn: 1416.7892807\ttotal: 4m 5s\tremaining: 1m 52s\n",
      "685:\tlearn: 1416.4427433\ttotal: 4m 5s\tremaining: 1m 52s\n",
      "686:\tlearn: 1416.0044295\ttotal: 4m 6s\tremaining: 1m 52s\n",
      "687:\tlearn: 1415.6725038\ttotal: 4m 6s\tremaining: 1m 51s\n",
      "688:\tlearn: 1415.5420402\ttotal: 4m 6s\tremaining: 1m 51s\n",
      "689:\tlearn: 1415.3381964\ttotal: 4m 7s\tremaining: 1m 51s\n",
      "690:\tlearn: 1415.1196576\ttotal: 4m 7s\tremaining: 1m 50s\n",
      "691:\tlearn: 1414.8843057\ttotal: 4m 7s\tremaining: 1m 50s\n",
      "692:\tlearn: 1414.7525959\ttotal: 4m 8s\tremaining: 1m 49s\n",
      "693:\tlearn: 1414.5546042\ttotal: 4m 8s\tremaining: 1m 49s\n",
      "694:\tlearn: 1414.3223437\ttotal: 4m 8s\tremaining: 1m 49s\n",
      "695:\tlearn: 1414.1123881\ttotal: 4m 8s\tremaining: 1m 48s\n",
      "696:\tlearn: 1413.7267113\ttotal: 4m 9s\tremaining: 1m 48s\n",
      "697:\tlearn: 1413.6084492\ttotal: 4m 9s\tremaining: 1m 47s\n",
      "698:\tlearn: 1413.3787374\ttotal: 4m 9s\tremaining: 1m 47s\n",
      "699:\tlearn: 1413.0577734\ttotal: 4m 10s\tremaining: 1m 47s\n",
      "700:\tlearn: 1412.9544530\ttotal: 4m 10s\tremaining: 1m 46s\n",
      "701:\tlearn: 1412.5907881\ttotal: 4m 10s\tremaining: 1m 46s\n",
      "702:\tlearn: 1412.4057806\ttotal: 4m 11s\tremaining: 1m 46s\n",
      "703:\tlearn: 1411.7173859\ttotal: 4m 11s\tremaining: 1m 45s\n",
      "704:\tlearn: 1411.5706273\ttotal: 4m 12s\tremaining: 1m 45s\n",
      "705:\tlearn: 1411.2845407\ttotal: 4m 12s\tremaining: 1m 45s\n",
      "706:\tlearn: 1411.0479005\ttotal: 4m 12s\tremaining: 1m 44s\n",
      "707:\tlearn: 1410.9102641\ttotal: 4m 13s\tremaining: 1m 44s\n",
      "708:\tlearn: 1410.7379128\ttotal: 4m 13s\tremaining: 1m 43s\n",
      "709:\tlearn: 1410.6765738\ttotal: 4m 13s\tremaining: 1m 43s\n",
      "710:\tlearn: 1410.2930207\ttotal: 4m 13s\tremaining: 1m 43s\n",
      "711:\tlearn: 1410.1212188\ttotal: 4m 14s\tremaining: 1m 42s\n",
      "712:\tlearn: 1409.7710205\ttotal: 4m 14s\tremaining: 1m 42s\n",
      "713:\tlearn: 1409.4547295\ttotal: 4m 14s\tremaining: 1m 42s\n",
      "714:\tlearn: 1409.2476509\ttotal: 4m 15s\tremaining: 1m 41s\n",
      "715:\tlearn: 1409.2126688\ttotal: 4m 15s\tremaining: 1m 41s\n",
      "716:\tlearn: 1408.8042333\ttotal: 4m 15s\tremaining: 1m 41s\n",
      "717:\tlearn: 1408.7244958\ttotal: 4m 16s\tremaining: 1m 40s\n",
      "718:\tlearn: 1408.6021567\ttotal: 4m 16s\tremaining: 1m 40s\n",
      "719:\tlearn: 1408.4309426\ttotal: 4m 16s\tremaining: 1m 39s\n",
      "720:\tlearn: 1408.1225026\ttotal: 4m 17s\tremaining: 1m 39s\n",
      "721:\tlearn: 1407.7925171\ttotal: 4m 17s\tremaining: 1m 39s\n",
      "722:\tlearn: 1407.6105043\ttotal: 4m 17s\tremaining: 1m 38s\n",
      "723:\tlearn: 1407.4590862\ttotal: 4m 18s\tremaining: 1m 38s\n",
      "724:\tlearn: 1407.1269172\ttotal: 4m 18s\tremaining: 1m 38s\n",
      "725:\tlearn: 1407.1081821\ttotal: 4m 18s\tremaining: 1m 37s\n",
      "726:\tlearn: 1406.8451913\ttotal: 4m 19s\tremaining: 1m 37s\n",
      "727:\tlearn: 1406.6792992\ttotal: 4m 19s\tremaining: 1m 36s\n",
      "728:\tlearn: 1406.5694293\ttotal: 4m 19s\tremaining: 1m 36s\n",
      "729:\tlearn: 1406.4792623\ttotal: 4m 20s\tremaining: 1m 36s\n",
      "730:\tlearn: 1406.0988781\ttotal: 4m 20s\tremaining: 1m 35s\n",
      "731:\tlearn: 1406.0001529\ttotal: 4m 20s\tremaining: 1m 35s\n",
      "732:\tlearn: 1405.8932272\ttotal: 4m 20s\tremaining: 1m 35s\n",
      "733:\tlearn: 1405.8220233\ttotal: 4m 21s\tremaining: 1m 34s\n",
      "734:\tlearn: 1405.6243519\ttotal: 4m 21s\tremaining: 1m 34s\n",
      "735:\tlearn: 1405.4644562\ttotal: 4m 21s\tremaining: 1m 33s\n",
      "736:\tlearn: 1405.4348871\ttotal: 4m 22s\tremaining: 1m 33s\n",
      "737:\tlearn: 1405.0242627\ttotal: 4m 22s\tremaining: 1m 33s\n",
      "738:\tlearn: 1404.7923797\ttotal: 4m 22s\tremaining: 1m 32s\n",
      "739:\tlearn: 1404.6366296\ttotal: 4m 23s\tremaining: 1m 32s\n",
      "740:\tlearn: 1404.5466329\ttotal: 4m 23s\tremaining: 1m 32s\n",
      "741:\tlearn: 1404.3600361\ttotal: 4m 24s\tremaining: 1m 31s\n",
      "742:\tlearn: 1404.1381526\ttotal: 4m 24s\tremaining: 1m 31s\n",
      "743:\tlearn: 1403.9140802\ttotal: 4m 24s\tremaining: 1m 31s\n",
      "744:\tlearn: 1403.5125501\ttotal: 4m 25s\tremaining: 1m 30s\n",
      "745:\tlearn: 1403.1334766\ttotal: 4m 25s\tremaining: 1m 30s\n",
      "746:\tlearn: 1402.7819695\ttotal: 4m 25s\tremaining: 1m 30s\n",
      "747:\tlearn: 1402.6196745\ttotal: 4m 26s\tremaining: 1m 29s\n",
      "748:\tlearn: 1402.3437325\ttotal: 4m 26s\tremaining: 1m 29s\n",
      "749:\tlearn: 1402.1600976\ttotal: 4m 26s\tremaining: 1m 28s\n",
      "750:\tlearn: 1401.9851765\ttotal: 4m 27s\tremaining: 1m 28s\n",
      "751:\tlearn: 1401.6322888\ttotal: 4m 27s\tremaining: 1m 28s\n",
      "752:\tlearn: 1401.4512697\ttotal: 4m 27s\tremaining: 1m 27s\n",
      "753:\tlearn: 1401.2739121\ttotal: 4m 28s\tremaining: 1m 27s\n",
      "754:\tlearn: 1401.1099646\ttotal: 4m 28s\tremaining: 1m 27s\n",
      "755:\tlearn: 1400.8660928\ttotal: 4m 28s\tremaining: 1m 26s\n",
      "756:\tlearn: 1400.8015913\ttotal: 4m 29s\tremaining: 1m 26s\n",
      "757:\tlearn: 1400.6028549\ttotal: 4m 29s\tremaining: 1m 26s\n",
      "758:\tlearn: 1400.4295520\ttotal: 4m 29s\tremaining: 1m 25s\n",
      "759:\tlearn: 1400.2375130\ttotal: 4m 30s\tremaining: 1m 25s\n",
      "760:\tlearn: 1400.1578683\ttotal: 4m 30s\tremaining: 1m 24s\n",
      "761:\tlearn: 1400.0603561\ttotal: 4m 30s\tremaining: 1m 24s\n",
      "762:\tlearn: 1399.8992344\ttotal: 4m 31s\tremaining: 1m 24s\n",
      "763:\tlearn: 1399.6145772\ttotal: 4m 31s\tremaining: 1m 23s\n",
      "764:\tlearn: 1399.4773770\ttotal: 4m 31s\tremaining: 1m 23s\n",
      "765:\tlearn: 1399.2899082\ttotal: 4m 32s\tremaining: 1m 23s\n",
      "766:\tlearn: 1399.0028903\ttotal: 4m 32s\tremaining: 1m 22s\n",
      "767:\tlearn: 1398.8403688\ttotal: 4m 33s\tremaining: 1m 22s\n",
      "768:\tlearn: 1398.6449126\ttotal: 4m 33s\tremaining: 1m 22s\n",
      "769:\tlearn: 1398.1735318\ttotal: 4m 33s\tremaining: 1m 21s\n",
      "770:\tlearn: 1398.0982886\ttotal: 4m 34s\tremaining: 1m 21s\n",
      "771:\tlearn: 1397.7375922\ttotal: 4m 34s\tremaining: 1m 21s\n",
      "772:\tlearn: 1397.6863580\ttotal: 4m 34s\tremaining: 1m 20s\n",
      "773:\tlearn: 1397.4020491\ttotal: 4m 35s\tremaining: 1m 20s\n",
      "774:\tlearn: 1397.1162766\ttotal: 4m 35s\tremaining: 1m 20s\n",
      "775:\tlearn: 1396.9354057\ttotal: 4m 36s\tremaining: 1m 19s\n",
      "776:\tlearn: 1396.8083479\ttotal: 4m 36s\tremaining: 1m 19s\n",
      "777:\tlearn: 1396.7443385\ttotal: 4m 36s\tremaining: 1m 18s\n",
      "778:\tlearn: 1396.5593612\ttotal: 4m 37s\tremaining: 1m 18s\n",
      "779:\tlearn: 1396.4361312\ttotal: 4m 37s\tremaining: 1m 18s\n",
      "780:\tlearn: 1396.3489789\ttotal: 4m 37s\tremaining: 1m 17s\n",
      "781:\tlearn: 1396.0668237\ttotal: 4m 38s\tremaining: 1m 17s\n",
      "782:\tlearn: 1395.7997032\ttotal: 4m 38s\tremaining: 1m 17s\n",
      "783:\tlearn: 1395.7347530\ttotal: 4m 38s\tremaining: 1m 16s\n",
      "784:\tlearn: 1395.6434570\ttotal: 4m 39s\tremaining: 1m 16s\n",
      "785:\tlearn: 1395.2087668\ttotal: 4m 39s\tremaining: 1m 16s\n",
      "786:\tlearn: 1394.8104457\ttotal: 4m 39s\tremaining: 1m 15s\n",
      "787:\tlearn: 1394.6505448\ttotal: 4m 40s\tremaining: 1m 15s\n",
      "788:\tlearn: 1394.5037879\ttotal: 4m 40s\tremaining: 1m 15s\n",
      "789:\tlearn: 1394.2639794\ttotal: 4m 40s\tremaining: 1m 14s\n",
      "790:\tlearn: 1394.1829827\ttotal: 4m 41s\tremaining: 1m 14s\n",
      "791:\tlearn: 1393.9656072\ttotal: 4m 41s\tremaining: 1m 13s\n",
      "792:\tlearn: 1393.9095016\ttotal: 4m 41s\tremaining: 1m 13s\n",
      "793:\tlearn: 1393.8240641\ttotal: 4m 42s\tremaining: 1m 13s\n",
      "794:\tlearn: 1393.5402009\ttotal: 4m 42s\tremaining: 1m 12s\n",
      "795:\tlearn: 1393.1877713\ttotal: 4m 42s\tremaining: 1m 12s\n",
      "796:\tlearn: 1392.8012853\ttotal: 4m 43s\tremaining: 1m 12s\n",
      "797:\tlearn: 1392.7092144\ttotal: 4m 43s\tremaining: 1m 11s\n",
      "798:\tlearn: 1392.5724091\ttotal: 4m 44s\tremaining: 1m 11s\n",
      "799:\tlearn: 1392.4151690\ttotal: 4m 44s\tremaining: 1m 11s\n",
      "800:\tlearn: 1392.1858266\ttotal: 4m 44s\tremaining: 1m 10s\n",
      "801:\tlearn: 1392.0696257\ttotal: 4m 45s\tremaining: 1m 10s\n",
      "802:\tlearn: 1391.9968618\ttotal: 4m 45s\tremaining: 1m 10s\n",
      "803:\tlearn: 1391.8240146\ttotal: 4m 45s\tremaining: 1m 9s\n",
      "804:\tlearn: 1391.4941575\ttotal: 4m 46s\tremaining: 1m 9s\n",
      "805:\tlearn: 1391.3086067\ttotal: 4m 46s\tremaining: 1m 8s\n",
      "806:\tlearn: 1391.0058988\ttotal: 4m 46s\tremaining: 1m 8s\n",
      "807:\tlearn: 1390.7650544\ttotal: 4m 47s\tremaining: 1m 8s\n",
      "808:\tlearn: 1390.4517829\ttotal: 4m 47s\tremaining: 1m 7s\n",
      "809:\tlearn: 1390.2999078\ttotal: 4m 48s\tremaining: 1m 7s\n",
      "810:\tlearn: 1390.1188403\ttotal: 4m 48s\tremaining: 1m 7s\n",
      "811:\tlearn: 1390.0211041\ttotal: 4m 48s\tremaining: 1m 6s\n",
      "812:\tlearn: 1389.6116643\ttotal: 4m 48s\tremaining: 1m 6s\n",
      "813:\tlearn: 1389.4238540\ttotal: 4m 49s\tremaining: 1m 6s\n",
      "814:\tlearn: 1389.1775365\ttotal: 4m 49s\tremaining: 1m 5s\n",
      "815:\tlearn: 1389.0617527\ttotal: 4m 50s\tremaining: 1m 5s\n",
      "816:\tlearn: 1388.9528172\ttotal: 4m 50s\tremaining: 1m 5s\n",
      "817:\tlearn: 1388.7924484\ttotal: 4m 50s\tremaining: 1m 4s\n",
      "818:\tlearn: 1388.6628302\ttotal: 4m 51s\tremaining: 1m 4s\n",
      "819:\tlearn: 1388.2746958\ttotal: 4m 51s\tremaining: 1m 3s\n",
      "820:\tlearn: 1387.9667096\ttotal: 4m 51s\tremaining: 1m 3s\n",
      "821:\tlearn: 1387.5389962\ttotal: 4m 52s\tremaining: 1m 3s\n",
      "822:\tlearn: 1387.2948318\ttotal: 4m 52s\tremaining: 1m 2s\n",
      "823:\tlearn: 1387.2373416\ttotal: 4m 52s\tremaining: 1m 2s\n",
      "824:\tlearn: 1387.1483623\ttotal: 4m 53s\tremaining: 1m 2s\n",
      "825:\tlearn: 1387.1117998\ttotal: 4m 53s\tremaining: 1m 1s\n",
      "826:\tlearn: 1386.9023479\ttotal: 4m 53s\tremaining: 1m 1s\n",
      "827:\tlearn: 1386.6559944\ttotal: 4m 54s\tremaining: 1m 1s\n",
      "828:\tlearn: 1386.5840998\ttotal: 4m 54s\tremaining: 1m\n",
      "829:\tlearn: 1386.2795633\ttotal: 4m 54s\tremaining: 1m\n",
      "830:\tlearn: 1386.1255794\ttotal: 4m 55s\tremaining: 1m\n",
      "831:\tlearn: 1385.9856492\ttotal: 4m 55s\tremaining: 59.7s\n",
      "832:\tlearn: 1385.8651442\ttotal: 4m 56s\tremaining: 59.3s\n",
      "833:\tlearn: 1385.7925192\ttotal: 4m 56s\tremaining: 59s\n",
      "834:\tlearn: 1385.6328590\ttotal: 4m 56s\tremaining: 58.6s\n",
      "835:\tlearn: 1385.5476565\ttotal: 4m 57s\tremaining: 58.3s\n",
      "836:\tlearn: 1385.4032195\ttotal: 4m 57s\tremaining: 57.9s\n",
      "837:\tlearn: 1385.2631649\ttotal: 4m 57s\tremaining: 57.6s\n",
      "838:\tlearn: 1385.0644851\ttotal: 4m 58s\tremaining: 57.2s\n",
      "839:\tlearn: 1384.8788041\ttotal: 4m 58s\tremaining: 56.9s\n",
      "840:\tlearn: 1384.6930896\ttotal: 4m 59s\tremaining: 56.5s\n",
      "841:\tlearn: 1384.4323172\ttotal: 4m 59s\tremaining: 56.2s\n",
      "842:\tlearn: 1384.3548038\ttotal: 4m 59s\tremaining: 55.8s\n",
      "843:\tlearn: 1384.2382967\ttotal: 5m\tremaining: 55.5s\n",
      "844:\tlearn: 1383.9515580\ttotal: 5m\tremaining: 55.1s\n",
      "845:\tlearn: 1383.6095352\ttotal: 5m\tremaining: 54.8s\n",
      "846:\tlearn: 1383.3799551\ttotal: 5m 1s\tremaining: 54.4s\n",
      "847:\tlearn: 1383.1778415\ttotal: 5m 1s\tremaining: 54.1s\n",
      "848:\tlearn: 1382.9462509\ttotal: 5m 2s\tremaining: 53.7s\n",
      "849:\tlearn: 1382.6285317\ttotal: 5m 2s\tremaining: 53.4s\n",
      "850:\tlearn: 1382.3737566\ttotal: 5m 2s\tremaining: 53s\n",
      "851:\tlearn: 1382.2941915\ttotal: 5m 3s\tremaining: 52.7s\n",
      "852:\tlearn: 1382.1302415\ttotal: 5m 3s\tremaining: 52.3s\n",
      "853:\tlearn: 1381.9382106\ttotal: 5m 4s\tremaining: 52s\n",
      "854:\tlearn: 1381.7022820\ttotal: 5m 4s\tremaining: 51.6s\n",
      "855:\tlearn: 1381.5684928\ttotal: 5m 4s\tremaining: 51.3s\n",
      "856:\tlearn: 1381.4617073\ttotal: 5m 5s\tremaining: 50.9s\n",
      "857:\tlearn: 1381.3797302\ttotal: 5m 5s\tremaining: 50.5s\n",
      "858:\tlearn: 1381.0743846\ttotal: 5m 5s\tremaining: 50.2s\n",
      "859:\tlearn: 1380.8720956\ttotal: 5m 6s\tremaining: 49.8s\n",
      "860:\tlearn: 1380.6908960\ttotal: 5m 6s\tremaining: 49.5s\n",
      "861:\tlearn: 1380.5722969\ttotal: 5m 6s\tremaining: 49.1s\n",
      "862:\tlearn: 1380.2256930\ttotal: 5m 7s\tremaining: 48.8s\n",
      "863:\tlearn: 1379.8834738\ttotal: 5m 7s\tremaining: 48.4s\n",
      "864:\tlearn: 1379.7999961\ttotal: 5m 7s\tremaining: 48s\n",
      "865:\tlearn: 1379.6572284\ttotal: 5m 8s\tremaining: 47.7s\n",
      "866:\tlearn: 1379.4942287\ttotal: 5m 8s\tremaining: 47.3s\n",
      "867:\tlearn: 1379.2328838\ttotal: 5m 8s\tremaining: 47s\n",
      "868:\tlearn: 1379.0583959\ttotal: 5m 9s\tremaining: 46.6s\n",
      "869:\tlearn: 1378.9374831\ttotal: 5m 9s\tremaining: 46.2s\n",
      "870:\tlearn: 1378.7271018\ttotal: 5m 9s\tremaining: 45.9s\n",
      "871:\tlearn: 1378.5993477\ttotal: 5m 10s\tremaining: 45.5s\n",
      "872:\tlearn: 1378.4179631\ttotal: 5m 10s\tremaining: 45.1s\n",
      "873:\tlearn: 1378.2057683\ttotal: 5m 10s\tremaining: 44.8s\n",
      "874:\tlearn: 1377.8898024\ttotal: 5m 10s\tremaining: 44.4s\n",
      "875:\tlearn: 1377.6404997\ttotal: 5m 11s\tremaining: 44.1s\n",
      "876:\tlearn: 1377.6022671\ttotal: 5m 11s\tremaining: 43.7s\n",
      "877:\tlearn: 1377.4415661\ttotal: 5m 12s\tremaining: 43.4s\n",
      "878:\tlearn: 1376.9823655\ttotal: 5m 12s\tremaining: 43s\n",
      "879:\tlearn: 1376.8709621\ttotal: 5m 12s\tremaining: 42.7s\n",
      "880:\tlearn: 1376.8088654\ttotal: 5m 13s\tremaining: 42.3s\n",
      "881:\tlearn: 1376.5699883\ttotal: 5m 13s\tremaining: 41.9s\n",
      "882:\tlearn: 1376.4649917\ttotal: 5m 13s\tremaining: 41.6s\n",
      "883:\tlearn: 1376.1588196\ttotal: 5m 14s\tremaining: 41.2s\n",
      "884:\tlearn: 1376.1340647\ttotal: 5m 14s\tremaining: 40.9s\n",
      "885:\tlearn: 1375.9943347\ttotal: 5m 14s\tremaining: 40.5s\n",
      "886:\tlearn: 1375.9238588\ttotal: 5m 15s\tremaining: 40.1s\n",
      "887:\tlearn: 1375.8829935\ttotal: 5m 15s\tremaining: 39.8s\n",
      "888:\tlearn: 1375.7249128\ttotal: 5m 15s\tremaining: 39.4s\n",
      "889:\tlearn: 1375.5239106\ttotal: 5m 16s\tremaining: 39.1s\n",
      "890:\tlearn: 1375.4272769\ttotal: 5m 16s\tremaining: 38.7s\n",
      "891:\tlearn: 1375.2863580\ttotal: 5m 16s\tremaining: 38.4s\n",
      "892:\tlearn: 1375.2393313\ttotal: 5m 17s\tremaining: 38s\n",
      "893:\tlearn: 1375.1378317\ttotal: 5m 17s\tremaining: 37.7s\n",
      "894:\tlearn: 1374.9281487\ttotal: 5m 17s\tremaining: 37.3s\n",
      "895:\tlearn: 1374.9203328\ttotal: 5m 18s\tremaining: 36.9s\n",
      "896:\tlearn: 1374.8461668\ttotal: 5m 18s\tremaining: 36.6s\n",
      "897:\tlearn: 1374.5679687\ttotal: 5m 18s\tremaining: 36.2s\n",
      "898:\tlearn: 1374.3261045\ttotal: 5m 19s\tremaining: 35.9s\n",
      "899:\tlearn: 1374.1382317\ttotal: 5m 19s\tremaining: 35.5s\n",
      "900:\tlearn: 1374.1170948\ttotal: 5m 19s\tremaining: 35.1s\n",
      "901:\tlearn: 1374.0287523\ttotal: 5m 20s\tremaining: 34.8s\n",
      "902:\tlearn: 1373.9326083\ttotal: 5m 20s\tremaining: 34.4s\n",
      "903:\tlearn: 1373.7204028\ttotal: 5m 20s\tremaining: 34.1s\n",
      "904:\tlearn: 1373.6345925\ttotal: 5m 21s\tremaining: 33.7s\n",
      "905:\tlearn: 1373.5853782\ttotal: 5m 21s\tremaining: 33.4s\n",
      "906:\tlearn: 1373.4241743\ttotal: 5m 21s\tremaining: 33s\n",
      "907:\tlearn: 1373.2651429\ttotal: 5m 22s\tremaining: 32.7s\n",
      "908:\tlearn: 1372.9394928\ttotal: 5m 22s\tremaining: 32.3s\n",
      "909:\tlearn: 1372.7763284\ttotal: 5m 23s\tremaining: 31.9s\n",
      "910:\tlearn: 1372.6864075\ttotal: 5m 23s\tremaining: 31.6s\n",
      "911:\tlearn: 1372.6369025\ttotal: 5m 23s\tremaining: 31.2s\n",
      "912:\tlearn: 1372.5281853\ttotal: 5m 24s\tremaining: 30.9s\n",
      "913:\tlearn: 1372.0991905\ttotal: 5m 24s\tremaining: 30.5s\n",
      "914:\tlearn: 1372.0029593\ttotal: 5m 24s\tremaining: 30.2s\n",
      "915:\tlearn: 1371.8993394\ttotal: 5m 24s\tremaining: 29.8s\n",
      "916:\tlearn: 1371.7655685\ttotal: 5m 25s\tremaining: 29.4s\n",
      "917:\tlearn: 1371.6654131\ttotal: 5m 25s\tremaining: 29.1s\n",
      "918:\tlearn: 1371.4583258\ttotal: 5m 25s\tremaining: 28.7s\n",
      "919:\tlearn: 1371.4125425\ttotal: 5m 26s\tremaining: 28.4s\n",
      "920:\tlearn: 1371.1432334\ttotal: 5m 26s\tremaining: 28s\n",
      "921:\tlearn: 1371.0313291\ttotal: 5m 26s\tremaining: 27.7s\n",
      "922:\tlearn: 1370.8678499\ttotal: 5m 27s\tremaining: 27.3s\n",
      "923:\tlearn: 1370.8122947\ttotal: 5m 27s\tremaining: 27s\n",
      "924:\tlearn: 1370.7361557\ttotal: 5m 28s\tremaining: 26.6s\n",
      "925:\tlearn: 1370.5215031\ttotal: 5m 28s\tremaining: 26.2s\n",
      "926:\tlearn: 1370.2421524\ttotal: 5m 28s\tremaining: 25.9s\n",
      "927:\tlearn: 1370.1512896\ttotal: 5m 29s\tremaining: 25.5s\n",
      "928:\tlearn: 1370.0342499\ttotal: 5m 29s\tremaining: 25.2s\n",
      "929:\tlearn: 1369.8707640\ttotal: 5m 29s\tremaining: 24.8s\n",
      "930:\tlearn: 1369.6777216\ttotal: 5m 29s\tremaining: 24.5s\n",
      "931:\tlearn: 1369.3719074\ttotal: 5m 30s\tremaining: 24.1s\n",
      "932:\tlearn: 1369.2257293\ttotal: 5m 30s\tremaining: 23.7s\n",
      "933:\tlearn: 1369.0162213\ttotal: 5m 31s\tremaining: 23.4s\n",
      "934:\tlearn: 1368.7792333\ttotal: 5m 31s\tremaining: 23s\n",
      "935:\tlearn: 1368.5660754\ttotal: 5m 31s\tremaining: 22.7s\n",
      "936:\tlearn: 1368.4835791\ttotal: 5m 32s\tremaining: 22.3s\n",
      "937:\tlearn: 1368.1605442\ttotal: 5m 32s\tremaining: 22s\n",
      "938:\tlearn: 1368.0764090\ttotal: 5m 32s\tremaining: 21.6s\n",
      "939:\tlearn: 1368.0294743\ttotal: 5m 33s\tremaining: 21.3s\n",
      "940:\tlearn: 1367.6890240\ttotal: 5m 33s\tremaining: 20.9s\n",
      "941:\tlearn: 1367.6075874\ttotal: 5m 33s\tremaining: 20.5s\n",
      "942:\tlearn: 1367.4978913\ttotal: 5m 34s\tremaining: 20.2s\n",
      "943:\tlearn: 1367.3484556\ttotal: 5m 34s\tremaining: 19.8s\n",
      "944:\tlearn: 1367.1933931\ttotal: 5m 34s\tremaining: 19.5s\n",
      "945:\tlearn: 1366.9686928\ttotal: 5m 34s\tremaining: 19.1s\n",
      "946:\tlearn: 1366.7187213\ttotal: 5m 35s\tremaining: 18.8s\n",
      "947:\tlearn: 1366.3785431\ttotal: 5m 35s\tremaining: 18.4s\n",
      "948:\tlearn: 1366.2530477\ttotal: 5m 35s\tremaining: 18.1s\n",
      "949:\tlearn: 1366.1799388\ttotal: 5m 36s\tremaining: 17.7s\n",
      "950:\tlearn: 1365.9497037\ttotal: 5m 36s\tremaining: 17.3s\n",
      "951:\tlearn: 1365.7492395\ttotal: 5m 36s\tremaining: 17s\n",
      "952:\tlearn: 1365.5319239\ttotal: 5m 37s\tremaining: 16.6s\n",
      "953:\tlearn: 1365.3815579\ttotal: 5m 37s\tremaining: 16.3s\n",
      "954:\tlearn: 1365.2983055\ttotal: 5m 37s\tremaining: 15.9s\n",
      "955:\tlearn: 1365.1982270\ttotal: 5m 38s\tremaining: 15.6s\n",
      "956:\tlearn: 1364.9843162\ttotal: 5m 38s\tremaining: 15.2s\n",
      "957:\tlearn: 1364.7318778\ttotal: 5m 38s\tremaining: 14.9s\n",
      "958:\tlearn: 1364.6388306\ttotal: 5m 39s\tremaining: 14.5s\n",
      "959:\tlearn: 1364.5616610\ttotal: 5m 39s\tremaining: 14.1s\n",
      "960:\tlearn: 1364.2438846\ttotal: 5m 39s\tremaining: 13.8s\n",
      "961:\tlearn: 1364.0469575\ttotal: 5m 40s\tremaining: 13.4s\n",
      "962:\tlearn: 1364.0168976\ttotal: 5m 40s\tremaining: 13.1s\n",
      "963:\tlearn: 1363.6857561\ttotal: 5m 40s\tremaining: 12.7s\n",
      "964:\tlearn: 1363.3605049\ttotal: 5m 40s\tremaining: 12.4s\n",
      "965:\tlearn: 1363.0479255\ttotal: 5m 41s\tremaining: 12s\n",
      "966:\tlearn: 1362.7733987\ttotal: 5m 41s\tremaining: 11.7s\n",
      "967:\tlearn: 1362.5359251\ttotal: 5m 42s\tremaining: 11.3s\n",
      "968:\tlearn: 1362.4811932\ttotal: 5m 42s\tremaining: 11s\n",
      "969:\tlearn: 1362.2226825\ttotal: 5m 42s\tremaining: 10.6s\n",
      "970:\tlearn: 1362.1500569\ttotal: 5m 43s\tremaining: 10.2s\n",
      "971:\tlearn: 1362.0412545\ttotal: 5m 43s\tremaining: 9.89s\n",
      "972:\tlearn: 1361.8719214\ttotal: 5m 43s\tremaining: 9.54s\n",
      "973:\tlearn: 1361.7143667\ttotal: 5m 44s\tremaining: 9.19s\n",
      "974:\tlearn: 1361.4176346\ttotal: 5m 44s\tremaining: 8.83s\n",
      "975:\tlearn: 1361.3367077\ttotal: 5m 44s\tremaining: 8.48s\n",
      "976:\tlearn: 1361.1410480\ttotal: 5m 45s\tremaining: 8.12s\n",
      "977:\tlearn: 1360.9911848\ttotal: 5m 45s\tremaining: 7.77s\n",
      "978:\tlearn: 1360.9142695\ttotal: 5m 45s\tremaining: 7.42s\n",
      "979:\tlearn: 1360.4955727\ttotal: 5m 46s\tremaining: 7.06s\n",
      "980:\tlearn: 1360.3604644\ttotal: 5m 46s\tremaining: 6.71s\n",
      "981:\tlearn: 1360.1102795\ttotal: 5m 46s\tremaining: 6.36s\n",
      "982:\tlearn: 1359.8455977\ttotal: 5m 47s\tremaining: 6s\n",
      "983:\tlearn: 1359.7649861\ttotal: 5m 47s\tremaining: 5.65s\n",
      "984:\tlearn: 1359.5268121\ttotal: 5m 47s\tremaining: 5.29s\n",
      "985:\tlearn: 1359.5222800\ttotal: 5m 48s\tremaining: 4.94s\n",
      "986:\tlearn: 1359.2414718\ttotal: 5m 48s\tremaining: 4.59s\n",
      "987:\tlearn: 1359.2154911\ttotal: 5m 48s\tremaining: 4.24s\n",
      "988:\tlearn: 1359.0773237\ttotal: 5m 48s\tremaining: 3.88s\n",
      "989:\tlearn: 1359.0070439\ttotal: 5m 49s\tremaining: 3.53s\n",
      "990:\tlearn: 1358.8118575\ttotal: 5m 49s\tremaining: 3.17s\n",
      "991:\tlearn: 1358.5489881\ttotal: 5m 49s\tremaining: 2.82s\n",
      "992:\tlearn: 1358.3997711\ttotal: 5m 50s\tremaining: 2.47s\n",
      "993:\tlearn: 1358.0306531\ttotal: 5m 50s\tremaining: 2.12s\n",
      "994:\tlearn: 1357.8712381\ttotal: 5m 50s\tremaining: 1.76s\n",
      "995:\tlearn: 1357.6271108\ttotal: 5m 51s\tremaining: 1.41s\n",
      "996:\tlearn: 1357.3309331\ttotal: 5m 51s\tremaining: 1.06s\n",
      "997:\tlearn: 1357.1904822\ttotal: 5m 51s\tremaining: 705ms\n",
      "998:\tlearn: 1356.8963798\ttotal: 5m 52s\tremaining: 352ms\n",
      "999:\tlearn: 1356.7853445\ttotal: 5m 52s\tremaining: 0us\n",
      "[CV 2/3] END ....................depth=10, learning_rate=0.1; total time= 6.0min\n",
      "0:\tlearn: 4264.7951944\ttotal: 355ms\tremaining: 5m 54s\n",
      "1:\tlearn: 3975.2622779\ttotal: 652ms\tremaining: 5m 25s\n",
      "2:\tlearn: 3721.0490019\ttotal: 915ms\tremaining: 5m 4s\n",
      "3:\tlearn: 3503.3646608\ttotal: 1.22s\tremaining: 5m 4s\n",
      "4:\tlearn: 3305.6149730\ttotal: 1.55s\tremaining: 5m 7s\n",
      "5:\tlearn: 3134.1407734\ttotal: 1.88s\tremaining: 5m 11s\n",
      "6:\tlearn: 2977.7015527\ttotal: 2.16s\tremaining: 5m 6s\n",
      "7:\tlearn: 2841.7906844\ttotal: 2.49s\tremaining: 5m 8s\n",
      "8:\tlearn: 2720.8282498\ttotal: 2.75s\tremaining: 5m 3s\n",
      "9:\tlearn: 2617.4943598\ttotal: 3.1s\tremaining: 5m 6s\n",
      "10:\tlearn: 2529.1635521\ttotal: 3.4s\tremaining: 5m 5s\n",
      "11:\tlearn: 2447.8507591\ttotal: 3.66s\tremaining: 5m 1s\n",
      "12:\tlearn: 2378.7245744\ttotal: 3.96s\tremaining: 5m\n",
      "13:\tlearn: 2316.0679911\ttotal: 4.27s\tremaining: 5m\n",
      "14:\tlearn: 2261.6517835\ttotal: 4.54s\tremaining: 4m 57s\n",
      "15:\tlearn: 2213.1248343\ttotal: 4.8s\tremaining: 4m 55s\n",
      "16:\tlearn: 2170.5820853\ttotal: 5.15s\tremaining: 4m 57s\n",
      "17:\tlearn: 2135.1831522\ttotal: 5.45s\tremaining: 4m 57s\n",
      "18:\tlearn: 2099.6968730\ttotal: 5.73s\tremaining: 4m 55s\n",
      "19:\tlearn: 2068.8453823\ttotal: 6.13s\tremaining: 5m\n",
      "20:\tlearn: 2040.8924878\ttotal: 6.44s\tremaining: 5m\n",
      "21:\tlearn: 2015.0454598\ttotal: 6.79s\tremaining: 5m 2s\n",
      "22:\tlearn: 1993.5297177\ttotal: 7.12s\tremaining: 5m 2s\n",
      "23:\tlearn: 1974.3125828\ttotal: 7.45s\tremaining: 5m 3s\n",
      "24:\tlearn: 1957.1468683\ttotal: 7.73s\tremaining: 5m 1s\n",
      "25:\tlearn: 1943.3954192\ttotal: 8s\tremaining: 4m 59s\n",
      "26:\tlearn: 1930.3279240\ttotal: 8.27s\tremaining: 4m 57s\n",
      "27:\tlearn: 1918.5011476\ttotal: 8.52s\tremaining: 4m 55s\n",
      "28:\tlearn: 1905.6724029\ttotal: 8.74s\tremaining: 4m 52s\n",
      "29:\tlearn: 1896.6825136\ttotal: 9.04s\tremaining: 4m 52s\n",
      "30:\tlearn: 1886.5554716\ttotal: 9.36s\tremaining: 4m 52s\n",
      "31:\tlearn: 1878.1717988\ttotal: 9.66s\tremaining: 4m 52s\n",
      "32:\tlearn: 1870.8029972\ttotal: 10s\tremaining: 4m 54s\n",
      "33:\tlearn: 1863.6095386\ttotal: 10.4s\tremaining: 4m 56s\n",
      "34:\tlearn: 1857.9534314\ttotal: 10.9s\tremaining: 5m 1s\n",
      "35:\tlearn: 1851.9391013\ttotal: 11.4s\tremaining: 5m 4s\n",
      "36:\tlearn: 1845.7941441\ttotal: 11.7s\tremaining: 5m 4s\n",
      "37:\tlearn: 1840.9604473\ttotal: 11.9s\tremaining: 5m 1s\n",
      "38:\tlearn: 1834.7021617\ttotal: 12.1s\tremaining: 4m 59s\n",
      "39:\tlearn: 1829.8012174\ttotal: 12.4s\tremaining: 4m 58s\n",
      "40:\tlearn: 1824.2789183\ttotal: 12.7s\tremaining: 4m 55s\n",
      "41:\tlearn: 1821.5098817\ttotal: 12.9s\tremaining: 4m 55s\n",
      "42:\tlearn: 1817.1549088\ttotal: 13.2s\tremaining: 4m 54s\n",
      "43:\tlearn: 1813.8882434\ttotal: 13.5s\tremaining: 4m 53s\n",
      "44:\tlearn: 1810.6286360\ttotal: 13.8s\tremaining: 4m 52s\n",
      "45:\tlearn: 1806.5633235\ttotal: 14.1s\tremaining: 4m 53s\n",
      "46:\tlearn: 1802.2088835\ttotal: 14.4s\tremaining: 4m 52s\n",
      "47:\tlearn: 1797.8869525\ttotal: 14.8s\tremaining: 4m 53s\n",
      "48:\tlearn: 1793.2183559\ttotal: 15.1s\tremaining: 4m 53s\n",
      "49:\tlearn: 1790.2237845\ttotal: 15.4s\tremaining: 4m 52s\n",
      "50:\tlearn: 1787.8769667\ttotal: 15.7s\tremaining: 4m 51s\n",
      "51:\tlearn: 1782.6537094\ttotal: 15.9s\tremaining: 4m 50s\n",
      "52:\tlearn: 1777.7124989\ttotal: 16.2s\tremaining: 4m 49s\n",
      "53:\tlearn: 1774.1762077\ttotal: 16.5s\tremaining: 4m 49s\n",
      "54:\tlearn: 1771.3530105\ttotal: 16.7s\tremaining: 4m 47s\n",
      "55:\tlearn: 1767.5494968\ttotal: 17s\tremaining: 4m 47s\n",
      "56:\tlearn: 1765.8721867\ttotal: 17.3s\tremaining: 4m 45s\n",
      "57:\tlearn: 1762.5595038\ttotal: 17.5s\tremaining: 4m 45s\n",
      "58:\tlearn: 1760.0354562\ttotal: 17.9s\tremaining: 4m 44s\n",
      "59:\tlearn: 1757.9088650\ttotal: 18.1s\tremaining: 4m 44s\n",
      "60:\tlearn: 1756.1338879\ttotal: 18.5s\tremaining: 4m 44s\n",
      "61:\tlearn: 1754.0920280\ttotal: 18.7s\tremaining: 4m 42s\n",
      "62:\tlearn: 1751.5340416\ttotal: 19s\tremaining: 4m 42s\n",
      "63:\tlearn: 1748.8572566\ttotal: 19.2s\tremaining: 4m 41s\n",
      "64:\tlearn: 1746.4426482\ttotal: 19.5s\tremaining: 4m 41s\n",
      "65:\tlearn: 1745.0449759\ttotal: 19.9s\tremaining: 4m 41s\n",
      "66:\tlearn: 1743.1865697\ttotal: 20.1s\tremaining: 4m 39s\n",
      "67:\tlearn: 1741.7582093\ttotal: 20.4s\tremaining: 4m 39s\n",
      "68:\tlearn: 1739.4142372\ttotal: 20.7s\tremaining: 4m 39s\n",
      "69:\tlearn: 1737.2262027\ttotal: 21s\tremaining: 4m 39s\n",
      "70:\tlearn: 1736.5336624\ttotal: 21.3s\tremaining: 4m 39s\n",
      "71:\tlearn: 1733.8167747\ttotal: 21.6s\tremaining: 4m 38s\n",
      "72:\tlearn: 1731.5442772\ttotal: 21.9s\tremaining: 4m 38s\n",
      "73:\tlearn: 1729.3199162\ttotal: 22.2s\tremaining: 4m 38s\n",
      "74:\tlearn: 1727.8108173\ttotal: 22.6s\tremaining: 4m 38s\n",
      "75:\tlearn: 1725.3649884\ttotal: 22.9s\tremaining: 4m 38s\n",
      "76:\tlearn: 1723.6266457\ttotal: 23.2s\tremaining: 4m 37s\n",
      "77:\tlearn: 1720.9497954\ttotal: 23.5s\tremaining: 4m 37s\n",
      "78:\tlearn: 1720.5610165\ttotal: 23.8s\tremaining: 4m 37s\n",
      "79:\tlearn: 1717.8500998\ttotal: 24.1s\tremaining: 4m 37s\n",
      "80:\tlearn: 1715.5865618\ttotal: 24.5s\tremaining: 4m 37s\n",
      "81:\tlearn: 1714.3818531\ttotal: 24.8s\tremaining: 4m 38s\n",
      "82:\tlearn: 1713.0085571\ttotal: 25.2s\tremaining: 4m 38s\n",
      "83:\tlearn: 1711.0617971\ttotal: 25.5s\tremaining: 4m 37s\n",
      "84:\tlearn: 1709.8176883\ttotal: 25.8s\tremaining: 4m 37s\n",
      "85:\tlearn: 1706.9781360\ttotal: 26.1s\tremaining: 4m 37s\n",
      "86:\tlearn: 1705.4207626\ttotal: 26.5s\tremaining: 4m 37s\n",
      "87:\tlearn: 1702.5802465\ttotal: 26.8s\tremaining: 4m 37s\n",
      "88:\tlearn: 1700.7459009\ttotal: 27.1s\tremaining: 4m 37s\n",
      "89:\tlearn: 1698.1683375\ttotal: 27.4s\tremaining: 4m 36s\n",
      "90:\tlearn: 1697.2704884\ttotal: 27.6s\tremaining: 4m 36s\n",
      "91:\tlearn: 1695.9365219\ttotal: 28s\tremaining: 4m 35s\n",
      "92:\tlearn: 1695.3240002\ttotal: 28.3s\tremaining: 4m 36s\n",
      "93:\tlearn: 1694.8502171\ttotal: 28.7s\tremaining: 4m 36s\n",
      "94:\tlearn: 1693.7705990\ttotal: 29s\tremaining: 4m 35s\n",
      "95:\tlearn: 1691.7282698\ttotal: 29.2s\tremaining: 4m 35s\n",
      "96:\tlearn: 1690.0716846\ttotal: 29.5s\tremaining: 4m 34s\n",
      "97:\tlearn: 1688.5866894\ttotal: 29.8s\tremaining: 4m 34s\n",
      "98:\tlearn: 1687.1772814\ttotal: 30.2s\tremaining: 4m 34s\n",
      "99:\tlearn: 1684.7821382\ttotal: 30.5s\tremaining: 4m 34s\n",
      "100:\tlearn: 1683.6111377\ttotal: 30.7s\tremaining: 4m 33s\n",
      "101:\tlearn: 1682.0031172\ttotal: 31s\tremaining: 4m 32s\n",
      "102:\tlearn: 1680.5955415\ttotal: 31.3s\tremaining: 4m 32s\n",
      "103:\tlearn: 1679.0923996\ttotal: 31.7s\tremaining: 4m 32s\n",
      "104:\tlearn: 1677.8397783\ttotal: 32s\tremaining: 4m 32s\n",
      "105:\tlearn: 1676.4905424\ttotal: 32.3s\tremaining: 4m 32s\n",
      "106:\tlearn: 1675.0160376\ttotal: 32.6s\tremaining: 4m 31s\n",
      "107:\tlearn: 1673.5928316\ttotal: 32.9s\tremaining: 4m 31s\n",
      "108:\tlearn: 1672.2774865\ttotal: 33.2s\tremaining: 4m 31s\n",
      "109:\tlearn: 1670.6865585\ttotal: 33.5s\tremaining: 4m 30s\n",
      "110:\tlearn: 1668.3816301\ttotal: 33.7s\tremaining: 4m 30s\n",
      "111:\tlearn: 1667.1045579\ttotal: 34s\tremaining: 4m 29s\n",
      "112:\tlearn: 1665.9899084\ttotal: 34.3s\tremaining: 4m 29s\n",
      "113:\tlearn: 1665.1174054\ttotal: 34.6s\tremaining: 4m 28s\n",
      "114:\tlearn: 1663.6400609\ttotal: 34.9s\tremaining: 4m 28s\n",
      "115:\tlearn: 1662.2395016\ttotal: 35.2s\tremaining: 4m 28s\n",
      "116:\tlearn: 1661.3645584\ttotal: 35.5s\tremaining: 4m 28s\n",
      "117:\tlearn: 1660.9069462\ttotal: 35.8s\tremaining: 4m 27s\n",
      "118:\tlearn: 1659.4286419\ttotal: 36.2s\tremaining: 4m 27s\n",
      "119:\tlearn: 1658.1273777\ttotal: 36.5s\tremaining: 4m 27s\n",
      "120:\tlearn: 1656.8401933\ttotal: 36.8s\tremaining: 4m 27s\n",
      "121:\tlearn: 1655.8698506\ttotal: 37.1s\tremaining: 4m 27s\n",
      "122:\tlearn: 1653.7495294\ttotal: 37.5s\tremaining: 4m 27s\n",
      "123:\tlearn: 1653.3040073\ttotal: 37.8s\tremaining: 4m 27s\n",
      "124:\tlearn: 1652.4984078\ttotal: 38.1s\tremaining: 4m 26s\n",
      "125:\tlearn: 1651.8372585\ttotal: 38.4s\tremaining: 4m 26s\n",
      "126:\tlearn: 1650.8696273\ttotal: 38.7s\tremaining: 4m 25s\n",
      "127:\tlearn: 1649.1028427\ttotal: 38.9s\tremaining: 4m 25s\n",
      "128:\tlearn: 1648.4823173\ttotal: 39.2s\tremaining: 4m 24s\n",
      "129:\tlearn: 1646.8952802\ttotal: 39.5s\tremaining: 4m 24s\n",
      "130:\tlearn: 1646.6159667\ttotal: 39.8s\tremaining: 4m 24s\n",
      "131:\tlearn: 1644.9542975\ttotal: 40.1s\tremaining: 4m 23s\n",
      "132:\tlearn: 1643.6519653\ttotal: 40.4s\tremaining: 4m 23s\n",
      "133:\tlearn: 1642.9953549\ttotal: 40.7s\tremaining: 4m 23s\n",
      "134:\tlearn: 1642.2065071\ttotal: 41.1s\tremaining: 4m 23s\n",
      "135:\tlearn: 1641.0656930\ttotal: 41.4s\tremaining: 4m 22s\n",
      "136:\tlearn: 1640.0619288\ttotal: 41.7s\tremaining: 4m 22s\n",
      "137:\tlearn: 1639.5833526\ttotal: 42s\tremaining: 4m 22s\n",
      "138:\tlearn: 1638.5503844\ttotal: 42.3s\tremaining: 4m 22s\n",
      "139:\tlearn: 1637.4826440\ttotal: 42.6s\tremaining: 4m 21s\n",
      "140:\tlearn: 1636.2775351\ttotal: 43s\tremaining: 4m 22s\n",
      "141:\tlearn: 1635.2188082\ttotal: 43.3s\tremaining: 4m 21s\n",
      "142:\tlearn: 1633.5527736\ttotal: 43.6s\tremaining: 4m 21s\n",
      "143:\tlearn: 1632.7173306\ttotal: 43.9s\tremaining: 4m 21s\n",
      "144:\tlearn: 1632.0776878\ttotal: 44.3s\tremaining: 4m 20s\n",
      "145:\tlearn: 1631.0912488\ttotal: 44.6s\tremaining: 4m 20s\n",
      "146:\tlearn: 1630.1421602\ttotal: 44.8s\tremaining: 4m 20s\n",
      "147:\tlearn: 1629.3183047\ttotal: 45.2s\tremaining: 4m 20s\n",
      "148:\tlearn: 1628.4934205\ttotal: 45.6s\tremaining: 4m 20s\n",
      "149:\tlearn: 1627.6592069\ttotal: 45.9s\tremaining: 4m 19s\n",
      "150:\tlearn: 1626.3021059\ttotal: 46.2s\tremaining: 4m 19s\n",
      "151:\tlearn: 1625.3044272\ttotal: 46.5s\tremaining: 4m 19s\n",
      "152:\tlearn: 1624.7242131\ttotal: 46.9s\tremaining: 4m 19s\n",
      "153:\tlearn: 1623.7176173\ttotal: 47.1s\tremaining: 4m 19s\n",
      "154:\tlearn: 1622.6966941\ttotal: 47.5s\tremaining: 4m 18s\n",
      "155:\tlearn: 1621.5362845\ttotal: 47.8s\tremaining: 4m 18s\n",
      "156:\tlearn: 1621.1820652\ttotal: 48.1s\tremaining: 4m 18s\n",
      "157:\tlearn: 1620.1351885\ttotal: 48.4s\tremaining: 4m 18s\n",
      "158:\tlearn: 1618.5970153\ttotal: 48.7s\tremaining: 4m 17s\n",
      "159:\tlearn: 1617.2765133\ttotal: 49.1s\tremaining: 4m 17s\n",
      "160:\tlearn: 1616.2263991\ttotal: 49.4s\tremaining: 4m 17s\n",
      "161:\tlearn: 1615.6738786\ttotal: 49.6s\tremaining: 4m 16s\n",
      "162:\tlearn: 1615.1436164\ttotal: 50s\tremaining: 4m 16s\n",
      "163:\tlearn: 1614.0701440\ttotal: 50.3s\tremaining: 4m 16s\n",
      "164:\tlearn: 1613.0523710\ttotal: 50.7s\tremaining: 4m 16s\n",
      "165:\tlearn: 1612.4241870\ttotal: 50.9s\tremaining: 4m 15s\n",
      "166:\tlearn: 1611.9009456\ttotal: 51.3s\tremaining: 4m 15s\n",
      "167:\tlearn: 1610.6372023\ttotal: 51.6s\tremaining: 4m 15s\n",
      "168:\tlearn: 1609.6149077\ttotal: 51.9s\tremaining: 4m 15s\n",
      "169:\tlearn: 1608.9202402\ttotal: 52.2s\tremaining: 4m 14s\n",
      "170:\tlearn: 1608.3574907\ttotal: 52.5s\tremaining: 4m 14s\n",
      "171:\tlearn: 1607.2104864\ttotal: 52.8s\tremaining: 4m 14s\n",
      "172:\tlearn: 1607.0458686\ttotal: 53.1s\tremaining: 4m 14s\n",
      "173:\tlearn: 1606.4061258\ttotal: 53.5s\tremaining: 4m 13s\n",
      "174:\tlearn: 1606.2787182\ttotal: 53.8s\tremaining: 4m 13s\n",
      "175:\tlearn: 1605.6039982\ttotal: 54.1s\tremaining: 4m 13s\n",
      "176:\tlearn: 1604.2353696\ttotal: 54.5s\tremaining: 4m 13s\n",
      "177:\tlearn: 1603.3380770\ttotal: 54.8s\tremaining: 4m 12s\n",
      "178:\tlearn: 1603.1029251\ttotal: 55.1s\tremaining: 4m 12s\n",
      "179:\tlearn: 1602.6648898\ttotal: 55.4s\tremaining: 4m 12s\n",
      "180:\tlearn: 1601.5745384\ttotal: 55.7s\tremaining: 4m 12s\n",
      "181:\tlearn: 1600.6859272\ttotal: 56.1s\tremaining: 4m 11s\n",
      "182:\tlearn: 1600.4704502\ttotal: 56.3s\tremaining: 4m 11s\n",
      "183:\tlearn: 1599.8637091\ttotal: 56.7s\tremaining: 4m 11s\n",
      "184:\tlearn: 1599.4558746\ttotal: 57s\tremaining: 4m 11s\n",
      "185:\tlearn: 1598.7699051\ttotal: 57.3s\tremaining: 4m 10s\n",
      "186:\tlearn: 1598.0565837\ttotal: 57.6s\tremaining: 4m 10s\n",
      "187:\tlearn: 1597.5732760\ttotal: 57.8s\tremaining: 4m 9s\n",
      "188:\tlearn: 1596.4917946\ttotal: 58.1s\tremaining: 4m 9s\n",
      "189:\tlearn: 1595.7770875\ttotal: 58.4s\tremaining: 4m 9s\n",
      "190:\tlearn: 1595.6206467\ttotal: 58.7s\tremaining: 4m 8s\n",
      "191:\tlearn: 1594.9909034\ttotal: 59.1s\tremaining: 4m 8s\n",
      "192:\tlearn: 1594.0377000\ttotal: 59.4s\tremaining: 4m 8s\n",
      "193:\tlearn: 1592.7382005\ttotal: 59.6s\tremaining: 4m 7s\n",
      "194:\tlearn: 1591.7672202\ttotal: 1m\tremaining: 4m 7s\n",
      "195:\tlearn: 1590.5179317\ttotal: 1m\tremaining: 4m 7s\n",
      "196:\tlearn: 1590.1080570\ttotal: 1m\tremaining: 4m 6s\n",
      "197:\tlearn: 1589.4979677\ttotal: 1m\tremaining: 4m 6s\n",
      "198:\tlearn: 1588.9657704\ttotal: 1m 1s\tremaining: 4m 6s\n",
      "199:\tlearn: 1588.3136728\ttotal: 1m 1s\tremaining: 4m 6s\n",
      "200:\tlearn: 1587.9386812\ttotal: 1m 1s\tremaining: 4m 5s\n",
      "201:\tlearn: 1586.9415932\ttotal: 1m 2s\tremaining: 4m 5s\n",
      "202:\tlearn: 1585.8981609\ttotal: 1m 2s\tremaining: 4m 5s\n",
      "203:\tlearn: 1585.5047388\ttotal: 1m 2s\tremaining: 4m 5s\n",
      "204:\tlearn: 1584.6460089\ttotal: 1m 3s\tremaining: 4m 4s\n",
      "205:\tlearn: 1584.2012808\ttotal: 1m 3s\tremaining: 4m 4s\n",
      "206:\tlearn: 1583.8413046\ttotal: 1m 3s\tremaining: 4m 4s\n",
      "207:\tlearn: 1582.6177962\ttotal: 1m 4s\tremaining: 4m 4s\n",
      "208:\tlearn: 1581.7837032\ttotal: 1m 4s\tremaining: 4m 3s\n",
      "209:\tlearn: 1581.5243089\ttotal: 1m 4s\tremaining: 4m 3s\n",
      "210:\tlearn: 1581.1196967\ttotal: 1m 5s\tremaining: 4m 3s\n",
      "211:\tlearn: 1580.5387662\ttotal: 1m 5s\tremaining: 4m 3s\n",
      "212:\tlearn: 1579.8803427\ttotal: 1m 5s\tremaining: 4m 3s\n",
      "213:\tlearn: 1579.4367303\ttotal: 1m 6s\tremaining: 4m 2s\n",
      "214:\tlearn: 1578.7783465\ttotal: 1m 6s\tremaining: 4m 2s\n",
      "215:\tlearn: 1577.9532472\ttotal: 1m 6s\tremaining: 4m 2s\n",
      "216:\tlearn: 1577.7696691\ttotal: 1m 7s\tremaining: 4m 2s\n",
      "217:\tlearn: 1577.5150344\ttotal: 1m 7s\tremaining: 4m 1s\n",
      "218:\tlearn: 1577.3973055\ttotal: 1m 7s\tremaining: 4m 1s\n",
      "219:\tlearn: 1576.6950162\ttotal: 1m 8s\tremaining: 4m 1s\n",
      "220:\tlearn: 1576.3336936\ttotal: 1m 8s\tremaining: 4m\n",
      "221:\tlearn: 1575.7841380\ttotal: 1m 8s\tremaining: 4m\n",
      "222:\tlearn: 1575.3869336\ttotal: 1m 8s\tremaining: 4m\n",
      "223:\tlearn: 1574.8660399\ttotal: 1m 9s\tremaining: 4m\n",
      "224:\tlearn: 1574.2645110\ttotal: 1m 9s\tremaining: 3m 59s\n",
      "225:\tlearn: 1573.7196646\ttotal: 1m 9s\tremaining: 3m 59s\n",
      "226:\tlearn: 1572.7904537\ttotal: 1m 10s\tremaining: 3m 59s\n",
      "227:\tlearn: 1572.0309758\ttotal: 1m 10s\tremaining: 3m 59s\n",
      "228:\tlearn: 1571.6406327\ttotal: 1m 10s\tremaining: 3m 58s\n",
      "229:\tlearn: 1570.6858676\ttotal: 1m 11s\tremaining: 3m 58s\n",
      "230:\tlearn: 1569.9544663\ttotal: 1m 11s\tremaining: 3m 58s\n",
      "231:\tlearn: 1569.6647844\ttotal: 1m 11s\tremaining: 3m 57s\n",
      "232:\tlearn: 1569.0067396\ttotal: 1m 12s\tremaining: 3m 57s\n",
      "233:\tlearn: 1568.7046169\ttotal: 1m 12s\tremaining: 3m 57s\n",
      "234:\tlearn: 1568.4358286\ttotal: 1m 12s\tremaining: 3m 56s\n",
      "235:\tlearn: 1568.0193061\ttotal: 1m 12s\tremaining: 3m 56s\n",
      "236:\tlearn: 1567.7221695\ttotal: 1m 13s\tremaining: 3m 55s\n",
      "237:\tlearn: 1567.4089384\ttotal: 1m 13s\tremaining: 3m 55s\n",
      "238:\tlearn: 1566.6921138\ttotal: 1m 13s\tremaining: 3m 55s\n",
      "239:\tlearn: 1566.2787796\ttotal: 1m 14s\tremaining: 3m 54s\n",
      "240:\tlearn: 1565.6804674\ttotal: 1m 14s\tremaining: 3m 54s\n",
      "241:\tlearn: 1564.8659321\ttotal: 1m 14s\tremaining: 3m 54s\n",
      "242:\tlearn: 1564.1960087\ttotal: 1m 15s\tremaining: 3m 54s\n",
      "243:\tlearn: 1563.9632065\ttotal: 1m 15s\tremaining: 3m 53s\n",
      "244:\tlearn: 1562.8845486\ttotal: 1m 15s\tremaining: 3m 53s\n",
      "245:\tlearn: 1561.9658808\ttotal: 1m 16s\tremaining: 3m 53s\n",
      "246:\tlearn: 1561.3557789\ttotal: 1m 16s\tremaining: 3m 52s\n",
      "247:\tlearn: 1560.8943093\ttotal: 1m 16s\tremaining: 3m 52s\n",
      "248:\tlearn: 1560.6071668\ttotal: 1m 17s\tremaining: 3m 52s\n",
      "249:\tlearn: 1560.3005435\ttotal: 1m 17s\tremaining: 3m 52s\n"
     ]
    },
    {
     "ename": "KeyboardInterrupt",
     "evalue": "",
     "output_type": "error",
     "traceback": [
      "\u001b[0;31m---------------------------------------------------------------------------\u001b[0m",
      "\u001b[0;31mKeyboardInterrupt\u001b[0m                         Traceback (most recent call last)",
      "\u001b[0;32m/tmp/ipykernel_74/3814070384.py\u001b[0m in \u001b[0;36m<module>\u001b[0;34m\u001b[0m\n\u001b[1;32m      6\u001b[0m                           verbose=3)\n\u001b[1;32m      7\u001b[0m \u001b[0;34m\u001b[0m\u001b[0m\n\u001b[0;32m----> 8\u001b[0;31m gs_cbr.fit(features_train, target_train,cat_features=[\"vehicle_type\",\"gearbox\",\n\u001b[0m\u001b[1;32m      9\u001b[0m                                                              \u001b[0;34m\"model\"\u001b[0m\u001b[0;34m,\u001b[0m\u001b[0;34m\"fuel_type\"\u001b[0m\u001b[0;34m,\u001b[0m\u001b[0;34m\u001b[0m\u001b[0;34m\u001b[0m\u001b[0m\n\u001b[1;32m     10\u001b[0m                                                              \"brand\",\"repaired\"])\n",
      "\u001b[0;32m/opt/conda/lib/python3.9/site-packages/sklearn/utils/validation.py\u001b[0m in \u001b[0;36minner_f\u001b[0;34m(*args, **kwargs)\u001b[0m\n\u001b[1;32m     61\u001b[0m             \u001b[0mextra_args\u001b[0m \u001b[0;34m=\u001b[0m \u001b[0mlen\u001b[0m\u001b[0;34m(\u001b[0m\u001b[0margs\u001b[0m\u001b[0;34m)\u001b[0m \u001b[0;34m-\u001b[0m \u001b[0mlen\u001b[0m\u001b[0;34m(\u001b[0m\u001b[0mall_args\u001b[0m\u001b[0;34m)\u001b[0m\u001b[0;34m\u001b[0m\u001b[0;34m\u001b[0m\u001b[0m\n\u001b[1;32m     62\u001b[0m             \u001b[0;32mif\u001b[0m \u001b[0mextra_args\u001b[0m \u001b[0;34m<=\u001b[0m \u001b[0;36m0\u001b[0m\u001b[0;34m:\u001b[0m\u001b[0;34m\u001b[0m\u001b[0;34m\u001b[0m\u001b[0m\n\u001b[0;32m---> 63\u001b[0;31m                 \u001b[0;32mreturn\u001b[0m \u001b[0mf\u001b[0m\u001b[0;34m(\u001b[0m\u001b[0;34m*\u001b[0m\u001b[0margs\u001b[0m\u001b[0;34m,\u001b[0m \u001b[0;34m**\u001b[0m\u001b[0mkwargs\u001b[0m\u001b[0;34m)\u001b[0m\u001b[0;34m\u001b[0m\u001b[0;34m\u001b[0m\u001b[0m\n\u001b[0m\u001b[1;32m     64\u001b[0m \u001b[0;34m\u001b[0m\u001b[0m\n\u001b[1;32m     65\u001b[0m             \u001b[0;31m# extra_args > 0\u001b[0m\u001b[0;34m\u001b[0m\u001b[0;34m\u001b[0m\u001b[0;34m\u001b[0m\u001b[0m\n",
      "\u001b[0;32m/opt/conda/lib/python3.9/site-packages/sklearn/model_selection/_search.py\u001b[0m in \u001b[0;36mfit\u001b[0;34m(self, X, y, groups, **fit_params)\u001b[0m\n\u001b[1;32m    839\u001b[0m                 \u001b[0;32mreturn\u001b[0m \u001b[0mresults\u001b[0m\u001b[0;34m\u001b[0m\u001b[0;34m\u001b[0m\u001b[0m\n\u001b[1;32m    840\u001b[0m \u001b[0;34m\u001b[0m\u001b[0m\n\u001b[0;32m--> 841\u001b[0;31m             \u001b[0mself\u001b[0m\u001b[0;34m.\u001b[0m\u001b[0m_run_search\u001b[0m\u001b[0;34m(\u001b[0m\u001b[0mevaluate_candidates\u001b[0m\u001b[0;34m)\u001b[0m\u001b[0;34m\u001b[0m\u001b[0;34m\u001b[0m\u001b[0m\n\u001b[0m\u001b[1;32m    842\u001b[0m \u001b[0;34m\u001b[0m\u001b[0m\n\u001b[1;32m    843\u001b[0m             \u001b[0;31m# multimetric is determined here because in the case of a callable\u001b[0m\u001b[0;34m\u001b[0m\u001b[0;34m\u001b[0m\u001b[0;34m\u001b[0m\u001b[0m\n",
      "\u001b[0;32m/opt/conda/lib/python3.9/site-packages/sklearn/model_selection/_search.py\u001b[0m in \u001b[0;36m_run_search\u001b[0;34m(self, evaluate_candidates)\u001b[0m\n\u001b[1;32m   1286\u001b[0m     \u001b[0;32mdef\u001b[0m \u001b[0m_run_search\u001b[0m\u001b[0;34m(\u001b[0m\u001b[0mself\u001b[0m\u001b[0;34m,\u001b[0m \u001b[0mevaluate_candidates\u001b[0m\u001b[0;34m)\u001b[0m\u001b[0;34m:\u001b[0m\u001b[0;34m\u001b[0m\u001b[0;34m\u001b[0m\u001b[0m\n\u001b[1;32m   1287\u001b[0m         \u001b[0;34m\"\"\"Search all candidates in param_grid\"\"\"\u001b[0m\u001b[0;34m\u001b[0m\u001b[0;34m\u001b[0m\u001b[0m\n\u001b[0;32m-> 1288\u001b[0;31m         \u001b[0mevaluate_candidates\u001b[0m\u001b[0;34m(\u001b[0m\u001b[0mParameterGrid\u001b[0m\u001b[0;34m(\u001b[0m\u001b[0mself\u001b[0m\u001b[0;34m.\u001b[0m\u001b[0mparam_grid\u001b[0m\u001b[0;34m)\u001b[0m\u001b[0;34m)\u001b[0m\u001b[0;34m\u001b[0m\u001b[0;34m\u001b[0m\u001b[0m\n\u001b[0m\u001b[1;32m   1289\u001b[0m \u001b[0;34m\u001b[0m\u001b[0m\n\u001b[1;32m   1290\u001b[0m \u001b[0;34m\u001b[0m\u001b[0m\n",
      "\u001b[0;32m/opt/conda/lib/python3.9/site-packages/sklearn/model_selection/_search.py\u001b[0m in \u001b[0;36mevaluate_candidates\u001b[0;34m(candidate_params, cv, more_results)\u001b[0m\n\u001b[1;32m    793\u001b[0m                               n_splits, n_candidates, n_candidates * n_splits))\n\u001b[1;32m    794\u001b[0m \u001b[0;34m\u001b[0m\u001b[0m\n\u001b[0;32m--> 795\u001b[0;31m                 out = parallel(delayed(_fit_and_score)(clone(base_estimator),\n\u001b[0m\u001b[1;32m    796\u001b[0m                                                        \u001b[0mX\u001b[0m\u001b[0;34m,\u001b[0m \u001b[0my\u001b[0m\u001b[0;34m,\u001b[0m\u001b[0;34m\u001b[0m\u001b[0;34m\u001b[0m\u001b[0m\n\u001b[1;32m    797\u001b[0m                                                        \u001b[0mtrain\u001b[0m\u001b[0;34m=\u001b[0m\u001b[0mtrain\u001b[0m\u001b[0;34m,\u001b[0m \u001b[0mtest\u001b[0m\u001b[0;34m=\u001b[0m\u001b[0mtest\u001b[0m\u001b[0;34m,\u001b[0m\u001b[0;34m\u001b[0m\u001b[0;34m\u001b[0m\u001b[0m\n",
      "\u001b[0;32m/opt/conda/lib/python3.9/site-packages/joblib/parallel.py\u001b[0m in \u001b[0;36m__call__\u001b[0;34m(self, iterable)\u001b[0m\n\u001b[1;32m   1044\u001b[0m                 \u001b[0mself\u001b[0m\u001b[0;34m.\u001b[0m\u001b[0m_iterating\u001b[0m \u001b[0;34m=\u001b[0m \u001b[0mself\u001b[0m\u001b[0;34m.\u001b[0m\u001b[0m_original_iterator\u001b[0m \u001b[0;32mis\u001b[0m \u001b[0;32mnot\u001b[0m \u001b[0;32mNone\u001b[0m\u001b[0;34m\u001b[0m\u001b[0;34m\u001b[0m\u001b[0m\n\u001b[1;32m   1045\u001b[0m \u001b[0;34m\u001b[0m\u001b[0m\n\u001b[0;32m-> 1046\u001b[0;31m             \u001b[0;32mwhile\u001b[0m \u001b[0mself\u001b[0m\u001b[0;34m.\u001b[0m\u001b[0mdispatch_one_batch\u001b[0m\u001b[0;34m(\u001b[0m\u001b[0miterator\u001b[0m\u001b[0;34m)\u001b[0m\u001b[0;34m:\u001b[0m\u001b[0;34m\u001b[0m\u001b[0;34m\u001b[0m\u001b[0m\n\u001b[0m\u001b[1;32m   1047\u001b[0m                 \u001b[0;32mpass\u001b[0m\u001b[0;34m\u001b[0m\u001b[0;34m\u001b[0m\u001b[0m\n\u001b[1;32m   1048\u001b[0m \u001b[0;34m\u001b[0m\u001b[0m\n",
      "\u001b[0;32m/opt/conda/lib/python3.9/site-packages/joblib/parallel.py\u001b[0m in \u001b[0;36mdispatch_one_batch\u001b[0;34m(self, iterator)\u001b[0m\n\u001b[1;32m    859\u001b[0m                 \u001b[0;32mreturn\u001b[0m \u001b[0;32mFalse\u001b[0m\u001b[0;34m\u001b[0m\u001b[0;34m\u001b[0m\u001b[0m\n\u001b[1;32m    860\u001b[0m             \u001b[0;32melse\u001b[0m\u001b[0;34m:\u001b[0m\u001b[0;34m\u001b[0m\u001b[0;34m\u001b[0m\u001b[0m\n\u001b[0;32m--> 861\u001b[0;31m                 \u001b[0mself\u001b[0m\u001b[0;34m.\u001b[0m\u001b[0m_dispatch\u001b[0m\u001b[0;34m(\u001b[0m\u001b[0mtasks\u001b[0m\u001b[0;34m)\u001b[0m\u001b[0;34m\u001b[0m\u001b[0;34m\u001b[0m\u001b[0m\n\u001b[0m\u001b[1;32m    862\u001b[0m                 \u001b[0;32mreturn\u001b[0m \u001b[0;32mTrue\u001b[0m\u001b[0;34m\u001b[0m\u001b[0;34m\u001b[0m\u001b[0m\n\u001b[1;32m    863\u001b[0m \u001b[0;34m\u001b[0m\u001b[0m\n",
      "\u001b[0;32m/opt/conda/lib/python3.9/site-packages/joblib/parallel.py\u001b[0m in \u001b[0;36m_dispatch\u001b[0;34m(self, batch)\u001b[0m\n\u001b[1;32m    777\u001b[0m         \u001b[0;32mwith\u001b[0m \u001b[0mself\u001b[0m\u001b[0;34m.\u001b[0m\u001b[0m_lock\u001b[0m\u001b[0;34m:\u001b[0m\u001b[0;34m\u001b[0m\u001b[0;34m\u001b[0m\u001b[0m\n\u001b[1;32m    778\u001b[0m             \u001b[0mjob_idx\u001b[0m \u001b[0;34m=\u001b[0m \u001b[0mlen\u001b[0m\u001b[0;34m(\u001b[0m\u001b[0mself\u001b[0m\u001b[0;34m.\u001b[0m\u001b[0m_jobs\u001b[0m\u001b[0;34m)\u001b[0m\u001b[0;34m\u001b[0m\u001b[0;34m\u001b[0m\u001b[0m\n\u001b[0;32m--> 779\u001b[0;31m             \u001b[0mjob\u001b[0m \u001b[0;34m=\u001b[0m \u001b[0mself\u001b[0m\u001b[0;34m.\u001b[0m\u001b[0m_backend\u001b[0m\u001b[0;34m.\u001b[0m\u001b[0mapply_async\u001b[0m\u001b[0;34m(\u001b[0m\u001b[0mbatch\u001b[0m\u001b[0;34m,\u001b[0m \u001b[0mcallback\u001b[0m\u001b[0;34m=\u001b[0m\u001b[0mcb\u001b[0m\u001b[0;34m)\u001b[0m\u001b[0;34m\u001b[0m\u001b[0;34m\u001b[0m\u001b[0m\n\u001b[0m\u001b[1;32m    780\u001b[0m             \u001b[0;31m# A job can complete so quickly than its callback is\u001b[0m\u001b[0;34m\u001b[0m\u001b[0;34m\u001b[0m\u001b[0;34m\u001b[0m\u001b[0m\n\u001b[1;32m    781\u001b[0m             \u001b[0;31m# called before we get here, causing self._jobs to\u001b[0m\u001b[0;34m\u001b[0m\u001b[0;34m\u001b[0m\u001b[0;34m\u001b[0m\u001b[0m\n",
      "\u001b[0;32m/opt/conda/lib/python3.9/site-packages/joblib/_parallel_backends.py\u001b[0m in \u001b[0;36mapply_async\u001b[0;34m(self, func, callback)\u001b[0m\n\u001b[1;32m    206\u001b[0m     \u001b[0;32mdef\u001b[0m \u001b[0mapply_async\u001b[0m\u001b[0;34m(\u001b[0m\u001b[0mself\u001b[0m\u001b[0;34m,\u001b[0m \u001b[0mfunc\u001b[0m\u001b[0;34m,\u001b[0m \u001b[0mcallback\u001b[0m\u001b[0;34m=\u001b[0m\u001b[0;32mNone\u001b[0m\u001b[0;34m)\u001b[0m\u001b[0;34m:\u001b[0m\u001b[0;34m\u001b[0m\u001b[0;34m\u001b[0m\u001b[0m\n\u001b[1;32m    207\u001b[0m         \u001b[0;34m\"\"\"Schedule a func to be run\"\"\"\u001b[0m\u001b[0;34m\u001b[0m\u001b[0;34m\u001b[0m\u001b[0m\n\u001b[0;32m--> 208\u001b[0;31m         \u001b[0mresult\u001b[0m \u001b[0;34m=\u001b[0m \u001b[0mImmediateResult\u001b[0m\u001b[0;34m(\u001b[0m\u001b[0mfunc\u001b[0m\u001b[0;34m)\u001b[0m\u001b[0;34m\u001b[0m\u001b[0;34m\u001b[0m\u001b[0m\n\u001b[0m\u001b[1;32m    209\u001b[0m         \u001b[0;32mif\u001b[0m \u001b[0mcallback\u001b[0m\u001b[0;34m:\u001b[0m\u001b[0;34m\u001b[0m\u001b[0;34m\u001b[0m\u001b[0m\n\u001b[1;32m    210\u001b[0m             \u001b[0mcallback\u001b[0m\u001b[0;34m(\u001b[0m\u001b[0mresult\u001b[0m\u001b[0;34m)\u001b[0m\u001b[0;34m\u001b[0m\u001b[0;34m\u001b[0m\u001b[0m\n",
      "\u001b[0;32m/opt/conda/lib/python3.9/site-packages/joblib/_parallel_backends.py\u001b[0m in \u001b[0;36m__init__\u001b[0;34m(self, batch)\u001b[0m\n\u001b[1;32m    570\u001b[0m         \u001b[0;31m# Don't delay the application, to avoid keeping the input\u001b[0m\u001b[0;34m\u001b[0m\u001b[0;34m\u001b[0m\u001b[0;34m\u001b[0m\u001b[0m\n\u001b[1;32m    571\u001b[0m         \u001b[0;31m# arguments in memory\u001b[0m\u001b[0;34m\u001b[0m\u001b[0;34m\u001b[0m\u001b[0;34m\u001b[0m\u001b[0m\n\u001b[0;32m--> 572\u001b[0;31m         \u001b[0mself\u001b[0m\u001b[0;34m.\u001b[0m\u001b[0mresults\u001b[0m \u001b[0;34m=\u001b[0m \u001b[0mbatch\u001b[0m\u001b[0;34m(\u001b[0m\u001b[0;34m)\u001b[0m\u001b[0;34m\u001b[0m\u001b[0;34m\u001b[0m\u001b[0m\n\u001b[0m\u001b[1;32m    573\u001b[0m \u001b[0;34m\u001b[0m\u001b[0m\n\u001b[1;32m    574\u001b[0m     \u001b[0;32mdef\u001b[0m \u001b[0mget\u001b[0m\u001b[0;34m(\u001b[0m\u001b[0mself\u001b[0m\u001b[0;34m)\u001b[0m\u001b[0;34m:\u001b[0m\u001b[0;34m\u001b[0m\u001b[0;34m\u001b[0m\u001b[0m\n",
      "\u001b[0;32m/opt/conda/lib/python3.9/site-packages/joblib/parallel.py\u001b[0m in \u001b[0;36m__call__\u001b[0;34m(self)\u001b[0m\n\u001b[1;32m    260\u001b[0m         \u001b[0;31m# change the default number of processes to -1\u001b[0m\u001b[0;34m\u001b[0m\u001b[0;34m\u001b[0m\u001b[0;34m\u001b[0m\u001b[0m\n\u001b[1;32m    261\u001b[0m         \u001b[0;32mwith\u001b[0m \u001b[0mparallel_backend\u001b[0m\u001b[0;34m(\u001b[0m\u001b[0mself\u001b[0m\u001b[0;34m.\u001b[0m\u001b[0m_backend\u001b[0m\u001b[0;34m,\u001b[0m \u001b[0mn_jobs\u001b[0m\u001b[0;34m=\u001b[0m\u001b[0mself\u001b[0m\u001b[0;34m.\u001b[0m\u001b[0m_n_jobs\u001b[0m\u001b[0;34m)\u001b[0m\u001b[0;34m:\u001b[0m\u001b[0;34m\u001b[0m\u001b[0;34m\u001b[0m\u001b[0m\n\u001b[0;32m--> 262\u001b[0;31m             return [func(*args, **kwargs)\n\u001b[0m\u001b[1;32m    263\u001b[0m                     for func, args, kwargs in self.items]\n\u001b[1;32m    264\u001b[0m \u001b[0;34m\u001b[0m\u001b[0m\n",
      "\u001b[0;32m/opt/conda/lib/python3.9/site-packages/joblib/parallel.py\u001b[0m in \u001b[0;36m<listcomp>\u001b[0;34m(.0)\u001b[0m\n\u001b[1;32m    260\u001b[0m         \u001b[0;31m# change the default number of processes to -1\u001b[0m\u001b[0;34m\u001b[0m\u001b[0;34m\u001b[0m\u001b[0;34m\u001b[0m\u001b[0m\n\u001b[1;32m    261\u001b[0m         \u001b[0;32mwith\u001b[0m \u001b[0mparallel_backend\u001b[0m\u001b[0;34m(\u001b[0m\u001b[0mself\u001b[0m\u001b[0;34m.\u001b[0m\u001b[0m_backend\u001b[0m\u001b[0;34m,\u001b[0m \u001b[0mn_jobs\u001b[0m\u001b[0;34m=\u001b[0m\u001b[0mself\u001b[0m\u001b[0;34m.\u001b[0m\u001b[0m_n_jobs\u001b[0m\u001b[0;34m)\u001b[0m\u001b[0;34m:\u001b[0m\u001b[0;34m\u001b[0m\u001b[0;34m\u001b[0m\u001b[0m\n\u001b[0;32m--> 262\u001b[0;31m             return [func(*args, **kwargs)\n\u001b[0m\u001b[1;32m    263\u001b[0m                     for func, args, kwargs in self.items]\n\u001b[1;32m    264\u001b[0m \u001b[0;34m\u001b[0m\u001b[0m\n",
      "\u001b[0;32m/opt/conda/lib/python3.9/site-packages/sklearn/utils/fixes.py\u001b[0m in \u001b[0;36m__call__\u001b[0;34m(self, *args, **kwargs)\u001b[0m\n\u001b[1;32m    220\u001b[0m     \u001b[0;32mdef\u001b[0m \u001b[0m__call__\u001b[0m\u001b[0;34m(\u001b[0m\u001b[0mself\u001b[0m\u001b[0;34m,\u001b[0m \u001b[0;34m*\u001b[0m\u001b[0margs\u001b[0m\u001b[0;34m,\u001b[0m \u001b[0;34m**\u001b[0m\u001b[0mkwargs\u001b[0m\u001b[0;34m)\u001b[0m\u001b[0;34m:\u001b[0m\u001b[0;34m\u001b[0m\u001b[0;34m\u001b[0m\u001b[0m\n\u001b[1;32m    221\u001b[0m         \u001b[0;32mwith\u001b[0m \u001b[0mconfig_context\u001b[0m\u001b[0;34m(\u001b[0m\u001b[0;34m**\u001b[0m\u001b[0mself\u001b[0m\u001b[0;34m.\u001b[0m\u001b[0mconfig\u001b[0m\u001b[0;34m)\u001b[0m\u001b[0;34m:\u001b[0m\u001b[0;34m\u001b[0m\u001b[0;34m\u001b[0m\u001b[0m\n\u001b[0;32m--> 222\u001b[0;31m             \u001b[0;32mreturn\u001b[0m \u001b[0mself\u001b[0m\u001b[0;34m.\u001b[0m\u001b[0mfunction\u001b[0m\u001b[0;34m(\u001b[0m\u001b[0;34m*\u001b[0m\u001b[0margs\u001b[0m\u001b[0;34m,\u001b[0m \u001b[0;34m**\u001b[0m\u001b[0mkwargs\u001b[0m\u001b[0;34m)\u001b[0m\u001b[0;34m\u001b[0m\u001b[0;34m\u001b[0m\u001b[0m\n\u001b[0m",
      "\u001b[0;32m/opt/conda/lib/python3.9/site-packages/sklearn/model_selection/_validation.py\u001b[0m in \u001b[0;36m_fit_and_score\u001b[0;34m(estimator, X, y, scorer, train, test, verbose, parameters, fit_params, return_train_score, return_parameters, return_n_test_samples, return_times, return_estimator, split_progress, candidate_progress, error_score)\u001b[0m\n\u001b[1;32m    591\u001b[0m             \u001b[0mestimator\u001b[0m\u001b[0;34m.\u001b[0m\u001b[0mfit\u001b[0m\u001b[0;34m(\u001b[0m\u001b[0mX_train\u001b[0m\u001b[0;34m,\u001b[0m \u001b[0;34m**\u001b[0m\u001b[0mfit_params\u001b[0m\u001b[0;34m)\u001b[0m\u001b[0;34m\u001b[0m\u001b[0;34m\u001b[0m\u001b[0m\n\u001b[1;32m    592\u001b[0m         \u001b[0;32melse\u001b[0m\u001b[0;34m:\u001b[0m\u001b[0;34m\u001b[0m\u001b[0;34m\u001b[0m\u001b[0m\n\u001b[0;32m--> 593\u001b[0;31m             \u001b[0mestimator\u001b[0m\u001b[0;34m.\u001b[0m\u001b[0mfit\u001b[0m\u001b[0;34m(\u001b[0m\u001b[0mX_train\u001b[0m\u001b[0;34m,\u001b[0m \u001b[0my_train\u001b[0m\u001b[0;34m,\u001b[0m \u001b[0;34m**\u001b[0m\u001b[0mfit_params\u001b[0m\u001b[0;34m)\u001b[0m\u001b[0;34m\u001b[0m\u001b[0;34m\u001b[0m\u001b[0m\n\u001b[0m\u001b[1;32m    594\u001b[0m \u001b[0;34m\u001b[0m\u001b[0m\n\u001b[1;32m    595\u001b[0m     \u001b[0;32mexcept\u001b[0m \u001b[0mException\u001b[0m \u001b[0;32mas\u001b[0m \u001b[0me\u001b[0m\u001b[0;34m:\u001b[0m\u001b[0;34m\u001b[0m\u001b[0;34m\u001b[0m\u001b[0m\n",
      "\u001b[0;32m/opt/conda/lib/python3.9/site-packages/catboost/core.py\u001b[0m in \u001b[0;36mfit\u001b[0;34m(self, X, y, cat_features, sample_weight, baseline, use_best_model, eval_set, verbose, logging_level, plot, column_description, verbose_eval, metric_period, silent, early_stopping_rounds, save_snapshot, snapshot_file, snapshot_interval, init_model, callbacks, log_cout, log_cerr)\u001b[0m\n\u001b[1;32m   5297\u001b[0m             \u001b[0mCatBoostRegressor\u001b[0m\u001b[0;34m.\u001b[0m\u001b[0m_check_is_compatible_loss\u001b[0m\u001b[0;34m(\u001b[0m\u001b[0mparams\u001b[0m\u001b[0;34m[\u001b[0m\u001b[0;34m'loss_function'\u001b[0m\u001b[0;34m]\u001b[0m\u001b[0;34m)\u001b[0m\u001b[0;34m\u001b[0m\u001b[0;34m\u001b[0m\u001b[0m\n\u001b[1;32m   5298\u001b[0m \u001b[0;34m\u001b[0m\u001b[0m\n\u001b[0;32m-> 5299\u001b[0;31m         return self._fit(X, y, cat_features, None, None, None, sample_weight, None, None, None, None, baseline,\n\u001b[0m\u001b[1;32m   5300\u001b[0m                          \u001b[0muse_best_model\u001b[0m\u001b[0;34m,\u001b[0m \u001b[0meval_set\u001b[0m\u001b[0;34m,\u001b[0m \u001b[0mverbose\u001b[0m\u001b[0;34m,\u001b[0m \u001b[0mlogging_level\u001b[0m\u001b[0;34m,\u001b[0m \u001b[0mplot\u001b[0m\u001b[0;34m,\u001b[0m \u001b[0mcolumn_description\u001b[0m\u001b[0;34m,\u001b[0m\u001b[0;34m\u001b[0m\u001b[0;34m\u001b[0m\u001b[0m\n\u001b[1;32m   5301\u001b[0m                          \u001b[0mverbose_eval\u001b[0m\u001b[0;34m,\u001b[0m \u001b[0mmetric_period\u001b[0m\u001b[0;34m,\u001b[0m \u001b[0msilent\u001b[0m\u001b[0;34m,\u001b[0m \u001b[0mearly_stopping_rounds\u001b[0m\u001b[0;34m,\u001b[0m\u001b[0;34m\u001b[0m\u001b[0;34m\u001b[0m\u001b[0m\n",
      "\u001b[0;32m/opt/conda/lib/python3.9/site-packages/catboost/core.py\u001b[0m in \u001b[0;36m_fit\u001b[0;34m(self, X, y, cat_features, text_features, embedding_features, pairs, sample_weight, group_id, group_weight, subgroup_id, pairs_weight, baseline, use_best_model, eval_set, verbose, logging_level, plot, column_description, verbose_eval, metric_period, silent, early_stopping_rounds, save_snapshot, snapshot_file, snapshot_interval, init_model, callbacks, log_cout, log_cerr)\u001b[0m\n\u001b[1;32m   2035\u001b[0m         \u001b[0;32mwith\u001b[0m \u001b[0mlog_fixup\u001b[0m\u001b[0;34m(\u001b[0m\u001b[0mlog_cout\u001b[0m\u001b[0;34m,\u001b[0m \u001b[0mlog_cerr\u001b[0m\u001b[0;34m)\u001b[0m\u001b[0;34m,\u001b[0m\u001b[0;31m \u001b[0m\u001b[0;31m\\\u001b[0m\u001b[0;34m\u001b[0m\u001b[0;34m\u001b[0m\u001b[0m\n\u001b[1;32m   2036\u001b[0m             \u001b[0mplot_wrapper\u001b[0m\u001b[0;34m(\u001b[0m\u001b[0mplot\u001b[0m\u001b[0;34m,\u001b[0m \u001b[0;34m[\u001b[0m\u001b[0m_get_train_dir\u001b[0m\u001b[0;34m(\u001b[0m\u001b[0mself\u001b[0m\u001b[0;34m.\u001b[0m\u001b[0mget_params\u001b[0m\u001b[0;34m(\u001b[0m\u001b[0;34m)\u001b[0m\u001b[0;34m)\u001b[0m\u001b[0;34m]\u001b[0m\u001b[0;34m)\u001b[0m\u001b[0;34m:\u001b[0m\u001b[0;34m\u001b[0m\u001b[0;34m\u001b[0m\u001b[0m\n\u001b[0;32m-> 2037\u001b[0;31m             self._train(\n\u001b[0m\u001b[1;32m   2038\u001b[0m                 \u001b[0mtrain_pool\u001b[0m\u001b[0;34m,\u001b[0m\u001b[0;34m\u001b[0m\u001b[0;34m\u001b[0m\u001b[0m\n\u001b[1;32m   2039\u001b[0m                 \u001b[0mtrain_params\u001b[0m\u001b[0;34m[\u001b[0m\u001b[0;34m\"eval_sets\"\u001b[0m\u001b[0;34m]\u001b[0m\u001b[0;34m,\u001b[0m\u001b[0;34m\u001b[0m\u001b[0;34m\u001b[0m\u001b[0m\n",
      "\u001b[0;32m/opt/conda/lib/python3.9/site-packages/catboost/core.py\u001b[0m in \u001b[0;36m_train\u001b[0;34m(self, train_pool, test_pool, params, allow_clear_pool, init_model)\u001b[0m\n\u001b[1;32m   1462\u001b[0m \u001b[0;34m\u001b[0m\u001b[0m\n\u001b[1;32m   1463\u001b[0m     \u001b[0;32mdef\u001b[0m \u001b[0m_train\u001b[0m\u001b[0;34m(\u001b[0m\u001b[0mself\u001b[0m\u001b[0;34m,\u001b[0m \u001b[0mtrain_pool\u001b[0m\u001b[0;34m,\u001b[0m \u001b[0mtest_pool\u001b[0m\u001b[0;34m,\u001b[0m \u001b[0mparams\u001b[0m\u001b[0;34m,\u001b[0m \u001b[0mallow_clear_pool\u001b[0m\u001b[0;34m,\u001b[0m \u001b[0minit_model\u001b[0m\u001b[0;34m)\u001b[0m\u001b[0;34m:\u001b[0m\u001b[0;34m\u001b[0m\u001b[0;34m\u001b[0m\u001b[0m\n\u001b[0;32m-> 1464\u001b[0;31m         \u001b[0mself\u001b[0m\u001b[0;34m.\u001b[0m\u001b[0m_object\u001b[0m\u001b[0;34m.\u001b[0m\u001b[0m_train\u001b[0m\u001b[0;34m(\u001b[0m\u001b[0mtrain_pool\u001b[0m\u001b[0;34m,\u001b[0m \u001b[0mtest_pool\u001b[0m\u001b[0;34m,\u001b[0m \u001b[0mparams\u001b[0m\u001b[0;34m,\u001b[0m \u001b[0mallow_clear_pool\u001b[0m\u001b[0;34m,\u001b[0m \u001b[0minit_model\u001b[0m\u001b[0;34m.\u001b[0m\u001b[0m_object\u001b[0m \u001b[0;32mif\u001b[0m \u001b[0minit_model\u001b[0m \u001b[0;32melse\u001b[0m \u001b[0;32mNone\u001b[0m\u001b[0;34m)\u001b[0m\u001b[0;34m\u001b[0m\u001b[0;34m\u001b[0m\u001b[0m\n\u001b[0m\u001b[1;32m   1465\u001b[0m         \u001b[0mself\u001b[0m\u001b[0;34m.\u001b[0m\u001b[0m_set_trained_model_attributes\u001b[0m\u001b[0;34m(\u001b[0m\u001b[0;34m)\u001b[0m\u001b[0;34m\u001b[0m\u001b[0;34m\u001b[0m\u001b[0m\n\u001b[1;32m   1466\u001b[0m \u001b[0;34m\u001b[0m\u001b[0m\n",
      "\u001b[0;32m_catboost.pyx\u001b[0m in \u001b[0;36m_catboost._CatBoost._train\u001b[0;34m()\u001b[0m\n",
      "\u001b[0;32m_catboost.pyx\u001b[0m in \u001b[0;36m_catboost._CatBoost._train\u001b[0;34m()\u001b[0m\n",
      "\u001b[0;31mKeyboardInterrupt\u001b[0m: "
     ]
    }
   ],
   "source": [
    "cbr= CatBoostRegressor(loss_function='RMSE',random_state=12345)\n",
    "gs_cbr= GridSearchCV(estimator=cbr,\n",
    "                          param_grid=cbr_param_grid,\n",
    "                          scoring='neg_root_mean_squared_error',\n",
    "                          cv=3,\n",
    "                          verbose=3)\n",
    "\n",
    "gs_cbr.fit(features_train, target_train,cat_features=[\"vehicle_type\",\"gearbox\",\n",
    "                                                             \"model\",\"fuel_type\",\n",
    "                                                             \"brand\",\"repaired\"])\n",
    "display(gs_cbr.best_params_)\n",
    "display(gs_cbr.best_score_*-1)"
   ]
  },
  {
   "cell_type": "markdown",
   "metadata": {
    "id": "FMs9mJcdEKoL"
   },
   "source": [
    "{'depth': 10, 'learning_rate': 0.1}\n",
    "1658.4499129859653"
   ]
  },
  {
   "cell_type": "code",
   "execution_count": null,
   "metadata": {
    "colab": {
     "base_uri": "https://localhost:8080/"
    },
    "id": "chDxJ1FJEYIO",
    "outputId": "f21e4e41-623e-404e-bceb-3650d3337e05"
   },
   "outputs": [],
   "source": [
    "%%time\n",
    "cbr = CatBoostRegressor(loss_function='RMSE',random_state=12345, depth=10, learning_rate=0.1)\n",
    "cbr.fit(features_train, target_train,cat_features=[\"vehicle_type\",\"gearbox\",\n",
    "                                                             \"model\",\"fuel_type\",\n",
    "                                                             \"brand\",\"repaired\"])"
   ]
  },
  {
   "cell_type": "code",
   "execution_count": 1,
   "metadata": {
    "colab": {
     "base_uri": "https://localhost:8080/"
    },
    "id": "YQXNkjhzEYIO",
    "outputId": "d1a5d16b-1020-4f55-b679-4000f3293274"
   },
   "outputs": [
    {
     "name": "stdout",
     "output_type": "stream",
     "text": [
      "CPU times: total: 0 ns\n",
      "Wall time: 0 ns\n"
     ]
    },
    {
     "ename": "NameError",
     "evalue": "name 'cbr' is not defined",
     "output_type": "error",
     "traceback": [
      "\u001b[1;31m---------------------------------------------------------------------------\u001b[0m",
      "\u001b[1;31mNameError\u001b[0m                                 Traceback (most recent call last)",
      "Cell \u001b[1;32mIn[1], line 2\u001b[0m\n\u001b[0;32m      1\u001b[0m get_ipython()\u001b[39m.\u001b[39mrun_line_magic(\u001b[39m'\u001b[39m\u001b[39mtime\u001b[39m\u001b[39m'\u001b[39m, \u001b[39m'\u001b[39m\u001b[39m'\u001b[39m)\n\u001b[1;32m----> 2\u001b[0m cbr_predicted \u001b[39m=\u001b[39m cbr\u001b[39m.\u001b[39mpredict(features_train_oe)\n\u001b[0;32m      3\u001b[0m \u001b[39mprint\u001b[39m(mean_squared_error(target_train_oe,lgbm_predicted,squared\u001b[39m=\u001b[39m\u001b[39mFalse\u001b[39;00m))\n",
      "\u001b[1;31mNameError\u001b[0m: name 'cbr' is not defined"
     ]
    }
   ],
   "source": [
    "%time\n",
    "cbr_predicted = cbr.predict(features_train_oe)\n",
    "print(mean_squared_error(target_train_oe,lgbm_predicted,squared=False))"
   ]
  },
  {
   "cell_type": "markdown",
   "metadata": {
    "id": "WomSXHkdUzZH"
   },
   "source": [
    "На тренировочной выборке CatBoost показала скорость оубчения 2мин 6с, RMSE при этом 1336.8322918623821"
   ]
  },
  {
   "cell_type": "markdown",
   "metadata": {
    "id": "hgrmvgC71UYM"
   },
   "source": [
    "## Анализ моделей"
   ]
  },
  {
   "cell_type": "code",
   "execution_count": null,
   "metadata": {
    "colab": {
     "base_uri": "https://localhost:8080/",
     "height": 175
    },
    "id": "vH9Tpp1yagP_",
    "outputId": "734abef0-574c-4ac7-866b-018353303af7"
   },
   "outputs": [],
   "source": [
    "tabledata = [['линейная регрессия','21.7 s', '494 ms', '2779'],\n",
    "        ['случайный лес', '7m 20s', '50.2 s','1068'],\n",
    "        ['LightGBM','15 s', '20.2 s', '1336'],\n",
    "        ['CatBoost','2m 6s', '7ms', '1336']]\n",
    "df= pd.DataFrame(tabledata, columns=['модель','Время обучения','Время предсказания', 'RMSE'])\n",
    "df = df.set_index('модель')\n",
    "df.index.names = [None]\n",
    "df"
   ]
  },
  {
   "cell_type": "markdown",
   "metadata": {
    "id": "R1ijM-8ecmSW"
   },
   "source": [
    "Согласно результатов тестов: LightGBM показала одинаковый RMSE с CatBoost, но скорость обучения у LightGBM оказалсь быстрее чем у CatBoost  Поверим на тестовой выборке модель LightGBM"
   ]
  },
  {
   "cell_type": "code",
   "execution_count": null,
   "metadata": {
    "colab": {
     "base_uri": "https://localhost:8080/",
     "height": 111
    },
    "id": "Y6syaR7Nec7s",
    "outputId": "03b4cc92-0e03-4048-9c9d-d5a9424df24d"
   },
   "outputs": [],
   "source": [
    "%%time\n",
    "lgbm = lgb.LGBMRegressor(random_state=12345,\n",
    "                          n_estimators=500,\n",
    "                          num_leaves=120)\n",
    "lgbm.fit(features_train, target_train,categorical_feature =[\"vehicle_type\",\"gearbox\",\n",
    "                                                             \"model\",\"fuel_type\",\n",
    "                                                             \"brand\",\"repaired\"])"
   ]
  },
  {
   "cell_type": "code",
   "execution_count": null,
   "metadata": {
    "colab": {
     "base_uri": "https://localhost:8080/"
    },
    "id": "gvg83FBDec7s",
    "outputId": "317ed20b-8caf-4bd0-86e1-5afa0263a3ca"
   },
   "outputs": [],
   "source": [
    "%%time\n",
    "lgbm_predicted = lgbm.predict(features_test)\n",
    "print(mean_squared_error(target_test, lgbm_predicted ,squared=False))"
   ]
  },
  {
   "cell_type": "code",
   "execution_count": null,
   "metadata": {
    "colab": {
     "base_uri": "https://localhost:8080/",
     "height": 461
    },
    "id": "1Diixg1zZ78T",
    "outputId": "68e38b51-0afe-4ac4-ddd6-3cb958d14481"
   },
   "outputs": [],
   "source": [
    "x_ax = range(len(target_test))\n",
    "plt.figure(figsize=(20, 10))\n",
    "plt.plot(x_ax, target_test, label='original')\n",
    "plt.plot(x_ax, lgbm_predicted, label='Предсказание LightGBM')\n",
    "plt.title('Определение стоимости автомобилей: тестовые и предсказанные данные')\n",
    "plt.xlabel('features')\n",
    "plt.ylabel('Price')\n",
    "plt.legend(loc='best',fancybox=True, shadow=True)\n",
    "plt.grid(True)\n",
    "plt.show()  "
   ]
  },
  {
   "cell_type": "markdown",
   "metadata": {
    "id": "p1kgHH0vHpzU"
   },
   "source": [
    "На граффике выше изображена различия предсказания цены моделью от цены из датасета"
   ]
  },
  {
   "cell_type": "markdown",
   "metadata": {
    "id": "h8ZLA581OrnX"
   },
   "source": [
    "## Вывод\n"
   ]
  },
  {
   "cell_type": "markdown",
   "metadata": {
    "id": "jsoAYiuNn339"
   },
   "source": [
    "В даной работе мы перевели названия столбцов в более удобочитаемый нижний и змеиный регистр, удалили неинформативные столбцы, заполнили пропуски, избавились от аномалий. Удалили дубликаты.\n",
    "\n",
    "Мы обучили разные модели, подобрали гиперпараметры для них и обнаружили что  модель LightGBM с гиперпараметрами 'n_estimators'= 500, 'num_leaves'= 120 на тренировочной выборке выдает наименьшее значение RMSE 1336\n",
    "\n",
    "Мы проанализировали модели и обнаружили, что дольше всего учится модель случайного леса: 4m 8s \t,а меньше всего училась линейная регрессия но результат ее пердсказания относительно других моделей низок.Самую высокую точность  пердсказания показали модель Случайный лес.  Модель LightGBM имеет приемлемую скорость обучения (в пределах 40 сек.) и при этом RMSE на относительно низком уровне из всех моделей: на тестовой выборке результат 1621.\n",
    "\n",
    "Исходя из требований заказчика по скорости обучения, придсказания и качества модели, рекомендуем модель LightGBM, поскольку она имеет самые оптимальные характеристики\n",
    "\n"
   ]
  }
 ],
 "metadata": {
  "ExecuteTimeLog": [
   {
    "duration": 65,
    "start_time": "2023-05-20T05:11:52.503Z"
   },
   {
    "duration": 2365,
    "start_time": "2023-05-20T05:11:52.570Z"
   },
   {
    "duration": 1611,
    "start_time": "2023-05-20T05:11:54.938Z"
   },
   {
    "duration": 2769,
    "start_time": "2023-05-20T05:11:56.551Z"
   },
   {
    "duration": 4,
    "start_time": "2023-05-20T05:11:59.322Z"
   },
   {
    "duration": 324,
    "start_time": "2023-05-20T05:11:59.327Z"
   },
   {
    "duration": 5,
    "start_time": "2023-05-20T05:11:59.652Z"
   },
   {
    "duration": 9,
    "start_time": "2023-05-20T05:11:59.658Z"
   },
   {
    "duration": 38,
    "start_time": "2023-05-20T05:11:59.669Z"
   },
   {
    "duration": 45,
    "start_time": "2023-05-20T05:11:59.709Z"
   },
   {
    "duration": 49,
    "start_time": "2023-05-20T05:11:59.755Z"
   },
   {
    "duration": 29,
    "start_time": "2023-05-20T05:11:59.806Z"
   },
   {
    "duration": 16,
    "start_time": "2023-05-20T05:11:59.850Z"
   },
   {
    "duration": 35,
    "start_time": "2023-05-20T05:11:59.869Z"
   },
   {
    "duration": 19,
    "start_time": "2023-05-20T05:11:59.906Z"
   },
   {
    "duration": 44,
    "start_time": "2023-05-20T05:11:59.927Z"
   },
   {
    "duration": 77,
    "start_time": "2023-05-20T05:11:59.973Z"
   },
   {
    "duration": 6,
    "start_time": "2023-05-20T05:12:00.052Z"
   },
   {
    "duration": 183,
    "start_time": "2023-05-20T05:12:00.059Z"
   },
   {
    "duration": 40,
    "start_time": "2023-05-20T05:12:00.244Z"
   },
   {
    "duration": 10,
    "start_time": "2023-05-20T05:12:00.285Z"
   },
   {
    "duration": 327,
    "start_time": "2023-05-20T05:12:00.297Z"
   },
   {
    "duration": 44,
    "start_time": "2023-05-20T05:12:00.626Z"
   },
   {
    "duration": 68,
    "start_time": "2023-05-20T05:12:00.672Z"
   },
   {
    "duration": 227,
    "start_time": "2023-05-20T05:12:00.742Z"
   },
   {
    "duration": 283,
    "start_time": "2023-05-20T05:12:00.970Z"
   },
   {
    "duration": 81,
    "start_time": "2023-05-20T05:12:01.254Z"
   },
   {
    "duration": 276,
    "start_time": "2023-05-20T05:12:01.337Z"
   },
   {
    "duration": 201,
    "start_time": "2023-05-20T05:12:01.615Z"
   },
   {
    "duration": 174,
    "start_time": "2023-05-20T05:12:01.819Z"
   },
   {
    "duration": 329,
    "start_time": "2023-05-20T05:12:01.995Z"
   },
   {
    "duration": 663,
    "start_time": "2023-05-20T05:12:02.325Z"
   },
   {
    "duration": 480,
    "start_time": "2023-05-20T05:12:02.990Z"
   },
   {
    "duration": 3,
    "start_time": "2023-05-20T05:12:03.472Z"
   },
   {
    "duration": 69,
    "start_time": "2023-05-20T05:12:53.833Z"
   },
   {
    "duration": 2164,
    "start_time": "2023-05-20T05:12:53.904Z"
   },
   {
    "duration": 1498,
    "start_time": "2023-05-20T05:12:56.070Z"
   },
   {
    "duration": 3098,
    "start_time": "2023-05-20T05:12:57.570Z"
   },
   {
    "duration": 3,
    "start_time": "2023-05-20T05:13:00.669Z"
   },
   {
    "duration": 356,
    "start_time": "2023-05-20T05:13:00.674Z"
   },
   {
    "duration": 4,
    "start_time": "2023-05-20T05:13:01.031Z"
   },
   {
    "duration": 31,
    "start_time": "2023-05-20T05:13:01.037Z"
   },
   {
    "duration": 54,
    "start_time": "2023-05-20T05:13:01.070Z"
   },
   {
    "duration": 41,
    "start_time": "2023-05-20T05:13:01.127Z"
   },
   {
    "duration": 71,
    "start_time": "2023-05-20T05:13:01.169Z"
   },
   {
    "duration": 39,
    "start_time": "2023-05-20T05:13:01.242Z"
   },
   {
    "duration": 25,
    "start_time": "2023-05-20T05:13:01.283Z"
   },
   {
    "duration": 60,
    "start_time": "2023-05-20T05:13:01.310Z"
   },
   {
    "duration": 38,
    "start_time": "2023-05-20T05:13:01.371Z"
   },
   {
    "duration": 50,
    "start_time": "2023-05-20T05:13:01.411Z"
   },
   {
    "duration": 69,
    "start_time": "2023-05-20T05:13:01.466Z"
   },
   {
    "duration": 22,
    "start_time": "2023-05-20T05:13:01.536Z"
   },
   {
    "duration": 176,
    "start_time": "2023-05-20T05:13:01.560Z"
   },
   {
    "duration": 41,
    "start_time": "2023-05-20T05:13:01.738Z"
   },
   {
    "duration": 10,
    "start_time": "2023-05-20T05:13:01.781Z"
   },
   {
    "duration": 276,
    "start_time": "2023-05-20T05:13:01.792Z"
   },
   {
    "duration": 31,
    "start_time": "2023-05-20T05:13:02.069Z"
   },
   {
    "duration": 95,
    "start_time": "2023-05-20T05:13:02.101Z"
   },
   {
    "duration": 338,
    "start_time": "2023-05-20T05:13:02.198Z"
   },
   {
    "duration": 263,
    "start_time": "2023-05-20T05:13:02.538Z"
   },
   {
    "duration": 91,
    "start_time": "2023-05-20T05:13:02.803Z"
   },
   {
    "duration": 262,
    "start_time": "2023-05-20T05:13:02.898Z"
   },
   {
    "duration": 159,
    "start_time": "2023-05-20T05:13:03.165Z"
   },
   {
    "duration": 159,
    "start_time": "2023-05-20T05:13:03.326Z"
   },
   {
    "duration": 321,
    "start_time": "2023-05-20T05:13:03.487Z"
   },
   {
    "duration": 730,
    "start_time": "2023-05-20T05:13:03.809Z"
   },
   {
    "duration": 487,
    "start_time": "2023-05-20T05:13:04.541Z"
   },
   {
    "duration": 4,
    "start_time": "2023-05-20T05:13:05.030Z"
   },
   {
    "duration": 56,
    "start_time": "2023-05-20T05:13:31.221Z"
   },
   {
    "duration": 0,
    "start_time": "2023-05-20T05:13:31.279Z"
   },
   {
    "duration": 0,
    "start_time": "2023-05-20T05:13:31.280Z"
   },
   {
    "duration": 0,
    "start_time": "2023-05-20T05:13:31.281Z"
   },
   {
    "duration": 0,
    "start_time": "2023-05-20T05:13:31.282Z"
   },
   {
    "duration": 0,
    "start_time": "2023-05-20T05:13:31.283Z"
   },
   {
    "duration": 0,
    "start_time": "2023-05-20T05:13:31.284Z"
   },
   {
    "duration": 0,
    "start_time": "2023-05-20T05:13:31.285Z"
   },
   {
    "duration": 0,
    "start_time": "2023-05-20T05:13:31.287Z"
   },
   {
    "duration": 0,
    "start_time": "2023-05-20T05:13:31.288Z"
   },
   {
    "duration": 0,
    "start_time": "2023-05-20T05:13:31.289Z"
   },
   {
    "duration": 0,
    "start_time": "2023-05-20T05:13:31.290Z"
   },
   {
    "duration": 0,
    "start_time": "2023-05-20T05:13:31.291Z"
   },
   {
    "duration": 0,
    "start_time": "2023-05-20T05:13:31.292Z"
   },
   {
    "duration": 0,
    "start_time": "2023-05-20T05:13:31.293Z"
   },
   {
    "duration": 0,
    "start_time": "2023-05-20T05:13:31.294Z"
   },
   {
    "duration": 0,
    "start_time": "2023-05-20T05:13:31.295Z"
   },
   {
    "duration": 0,
    "start_time": "2023-05-20T05:13:31.296Z"
   },
   {
    "duration": 0,
    "start_time": "2023-05-20T05:13:31.297Z"
   },
   {
    "duration": 1,
    "start_time": "2023-05-20T05:13:31.297Z"
   },
   {
    "duration": 0,
    "start_time": "2023-05-20T05:13:31.299Z"
   },
   {
    "duration": 0,
    "start_time": "2023-05-20T05:13:31.300Z"
   },
   {
    "duration": 0,
    "start_time": "2023-05-20T05:13:31.301Z"
   },
   {
    "duration": 0,
    "start_time": "2023-05-20T05:13:31.302Z"
   },
   {
    "duration": 65,
    "start_time": "2023-05-20T05:13:44.030Z"
   },
   {
    "duration": 2100,
    "start_time": "2023-05-20T05:13:44.097Z"
   },
   {
    "duration": 1429,
    "start_time": "2023-05-20T05:13:46.199Z"
   },
   {
    "duration": 2853,
    "start_time": "2023-05-20T05:13:47.631Z"
   },
   {
    "duration": 4,
    "start_time": "2023-05-20T05:13:50.485Z"
   },
   {
    "duration": 344,
    "start_time": "2023-05-20T05:13:50.490Z"
   },
   {
    "duration": 17,
    "start_time": "2023-05-20T05:13:50.836Z"
   },
   {
    "duration": 14,
    "start_time": "2023-05-20T05:13:50.855Z"
   },
   {
    "duration": 46,
    "start_time": "2023-05-20T05:13:50.870Z"
   },
   {
    "duration": 42,
    "start_time": "2023-05-20T05:13:50.918Z"
   },
   {
    "duration": 56,
    "start_time": "2023-05-20T05:13:50.962Z"
   },
   {
    "duration": 29,
    "start_time": "2023-05-20T05:13:51.020Z"
   },
   {
    "duration": 30,
    "start_time": "2023-05-20T05:13:51.050Z"
   },
   {
    "duration": 43,
    "start_time": "2023-05-20T05:13:51.082Z"
   },
   {
    "duration": 22,
    "start_time": "2023-05-20T05:13:51.127Z"
   },
   {
    "duration": 42,
    "start_time": "2023-05-20T05:13:51.151Z"
   },
   {
    "duration": 82,
    "start_time": "2023-05-20T05:13:51.195Z"
   },
   {
    "duration": 8,
    "start_time": "2023-05-20T05:13:51.279Z"
   },
   {
    "duration": 186,
    "start_time": "2023-05-20T05:13:51.289Z"
   },
   {
    "duration": 35,
    "start_time": "2023-05-20T05:13:51.477Z"
   },
   {
    "duration": 9,
    "start_time": "2023-05-20T05:13:51.514Z"
   },
   {
    "duration": 271,
    "start_time": "2023-05-20T05:13:51.525Z"
   },
   {
    "duration": 30,
    "start_time": "2023-05-20T05:13:51.798Z"
   },
   {
    "duration": 87,
    "start_time": "2023-05-20T05:13:51.829Z"
   },
   {
    "duration": 338,
    "start_time": "2023-05-20T05:13:51.918Z"
   },
   {
    "duration": 271,
    "start_time": "2023-05-20T05:13:52.262Z"
   },
   {
    "duration": 97,
    "start_time": "2023-05-20T05:13:52.535Z"
   },
   {
    "duration": 262,
    "start_time": "2023-05-20T05:13:52.636Z"
   },
   {
    "duration": 172,
    "start_time": "2023-05-20T05:13:52.900Z"
   },
   {
    "duration": 165,
    "start_time": "2023-05-20T05:13:53.074Z"
   },
   {
    "duration": 330,
    "start_time": "2023-05-20T05:13:53.240Z"
   },
   {
    "duration": 650,
    "start_time": "2023-05-20T05:13:53.571Z"
   },
   {
    "duration": 516,
    "start_time": "2023-05-20T05:13:54.222Z"
   },
   {
    "duration": 6,
    "start_time": "2023-05-20T05:13:54.753Z"
   },
   {
    "duration": 60,
    "start_time": "2023-05-20T05:18:17.088Z"
   },
   {
    "duration": 1982,
    "start_time": "2023-05-20T05:18:17.150Z"
   },
   {
    "duration": 1426,
    "start_time": "2023-05-20T05:18:19.134Z"
   },
   {
    "duration": 2727,
    "start_time": "2023-05-20T05:18:20.562Z"
   },
   {
    "duration": 4,
    "start_time": "2023-05-20T05:18:23.291Z"
   },
   {
    "duration": 345,
    "start_time": "2023-05-20T05:18:23.296Z"
   },
   {
    "duration": 7,
    "start_time": "2023-05-20T05:18:23.643Z"
   },
   {
    "duration": 6,
    "start_time": "2023-05-20T05:18:23.652Z"
   },
   {
    "duration": 42,
    "start_time": "2023-05-20T05:18:23.659Z"
   },
   {
    "duration": 31,
    "start_time": "2023-05-20T05:18:23.703Z"
   },
   {
    "duration": 46,
    "start_time": "2023-05-20T05:18:23.750Z"
   },
   {
    "duration": 27,
    "start_time": "2023-05-20T05:18:23.798Z"
   },
   {
    "duration": 36,
    "start_time": "2023-05-20T05:18:23.826Z"
   },
   {
    "duration": 34,
    "start_time": "2023-05-20T05:18:23.865Z"
   },
   {
    "duration": 15,
    "start_time": "2023-05-20T05:18:23.901Z"
   },
   {
    "duration": 43,
    "start_time": "2023-05-20T05:18:23.919Z"
   },
   {
    "duration": 73,
    "start_time": "2023-05-20T05:18:23.964Z"
   },
   {
    "duration": 15,
    "start_time": "2023-05-20T05:18:24.039Z"
   },
   {
    "duration": 224,
    "start_time": "2023-05-20T05:18:24.056Z"
   },
   {
    "duration": 35,
    "start_time": "2023-05-20T05:18:24.282Z"
   },
   {
    "duration": 10,
    "start_time": "2023-05-20T05:18:24.319Z"
   },
   {
    "duration": 257,
    "start_time": "2023-05-20T05:18:24.330Z"
   },
   {
    "duration": 30,
    "start_time": "2023-05-20T05:18:24.589Z"
   },
   {
    "duration": 78,
    "start_time": "2023-05-20T05:18:24.620Z"
   },
   {
    "duration": 282,
    "start_time": "2023-05-20T05:18:24.700Z"
   },
   {
    "duration": 243,
    "start_time": "2023-05-20T05:18:24.984Z"
   },
   {
    "duration": 89,
    "start_time": "2023-05-20T05:18:25.228Z"
   },
   {
    "duration": 254,
    "start_time": "2023-05-20T05:18:25.319Z"
   },
   {
    "duration": 158,
    "start_time": "2023-05-20T05:18:25.575Z"
   },
   {
    "duration": 144,
    "start_time": "2023-05-20T05:18:25.734Z"
   },
   {
    "duration": 311,
    "start_time": "2023-05-20T05:18:25.879Z"
   },
   {
    "duration": 691,
    "start_time": "2023-05-20T05:18:26.192Z"
   },
   {
    "duration": 487,
    "start_time": "2023-05-20T05:18:26.885Z"
   },
   {
    "duration": 3,
    "start_time": "2023-05-20T05:18:27.374Z"
   },
   {
    "duration": 47,
    "start_time": "2023-05-20T05:53:53.230Z"
   },
   {
    "duration": 62,
    "start_time": "2023-05-20T05:56:10.844Z"
   },
   {
    "duration": 1959,
    "start_time": "2023-05-20T05:56:10.907Z"
   },
   {
    "duration": 1440,
    "start_time": "2023-05-20T05:56:12.868Z"
   },
   {
    "duration": 2702,
    "start_time": "2023-05-20T05:56:14.311Z"
   },
   {
    "duration": 3,
    "start_time": "2023-05-20T05:56:17.015Z"
   },
   {
    "duration": 346,
    "start_time": "2023-05-20T05:56:17.020Z"
   },
   {
    "duration": 4,
    "start_time": "2023-05-20T05:56:17.368Z"
   },
   {
    "duration": 9,
    "start_time": "2023-05-20T05:56:17.374Z"
   },
   {
    "duration": 41,
    "start_time": "2023-05-20T05:56:17.384Z"
   },
   {
    "duration": 46,
    "start_time": "2023-05-20T05:56:17.427Z"
   },
   {
    "duration": 49,
    "start_time": "2023-05-20T05:56:17.475Z"
   },
   {
    "duration": 37,
    "start_time": "2023-05-20T05:56:17.526Z"
   },
   {
    "duration": 17,
    "start_time": "2023-05-20T05:56:17.564Z"
   },
   {
    "duration": 32,
    "start_time": "2023-05-20T05:56:17.583Z"
   },
   {
    "duration": 34,
    "start_time": "2023-05-20T05:56:17.616Z"
   },
   {
    "duration": 33,
    "start_time": "2023-05-20T05:56:17.652Z"
   },
   {
    "duration": 77,
    "start_time": "2023-05-20T05:56:17.687Z"
   },
   {
    "duration": 6,
    "start_time": "2023-05-20T05:56:17.765Z"
   },
   {
    "duration": 187,
    "start_time": "2023-05-20T05:56:17.773Z"
   },
   {
    "duration": 36,
    "start_time": "2023-05-20T05:56:17.962Z"
   },
   {
    "duration": 11,
    "start_time": "2023-05-20T05:56:18.000Z"
   },
   {
    "duration": 272,
    "start_time": "2023-05-20T05:56:18.013Z"
   },
   {
    "duration": 33,
    "start_time": "2023-05-20T05:56:18.287Z"
   },
   {
    "duration": 79,
    "start_time": "2023-05-20T05:56:18.322Z"
   },
   {
    "duration": 300,
    "start_time": "2023-05-20T05:56:18.403Z"
   },
   {
    "duration": 255,
    "start_time": "2023-05-20T05:56:18.705Z"
   },
   {
    "duration": 76,
    "start_time": "2023-05-20T05:56:18.962Z"
   },
   {
    "duration": 251,
    "start_time": "2023-05-20T05:56:19.049Z"
   },
   {
    "duration": 155,
    "start_time": "2023-05-20T05:56:19.302Z"
   },
   {
    "duration": 155,
    "start_time": "2023-05-20T05:56:19.458Z"
   },
   {
    "duration": 303,
    "start_time": "2023-05-20T05:56:19.615Z"
   },
   {
    "duration": 635,
    "start_time": "2023-05-20T05:56:19.920Z"
   },
   {
    "duration": 465,
    "start_time": "2023-05-20T05:56:20.556Z"
   },
   {
    "duration": 3,
    "start_time": "2023-05-20T05:56:21.023Z"
   },
   {
    "duration": 67,
    "start_time": "2023-05-20T06:07:16.887Z"
   },
   {
    "duration": 1955,
    "start_time": "2023-05-20T06:07:16.956Z"
   },
   {
    "duration": 1376,
    "start_time": "2023-05-20T06:07:18.912Z"
   },
   {
    "duration": 2684,
    "start_time": "2023-05-20T06:07:20.290Z"
   },
   {
    "duration": 3,
    "start_time": "2023-05-20T06:07:22.976Z"
   },
   {
    "duration": 319,
    "start_time": "2023-05-20T06:07:22.980Z"
   },
   {
    "duration": 4,
    "start_time": "2023-05-20T06:07:23.301Z"
   },
   {
    "duration": 16,
    "start_time": "2023-05-20T06:07:23.307Z"
   },
   {
    "duration": 49,
    "start_time": "2023-05-20T06:07:23.324Z"
   },
   {
    "duration": 32,
    "start_time": "2023-05-20T06:07:23.376Z"
   },
   {
    "duration": 51,
    "start_time": "2023-05-20T06:07:23.409Z"
   },
   {
    "duration": 30,
    "start_time": "2023-05-20T06:07:23.462Z"
   },
   {
    "duration": 15,
    "start_time": "2023-05-20T06:07:23.494Z"
   },
   {
    "duration": 43,
    "start_time": "2023-05-20T06:07:23.510Z"
   },
   {
    "duration": 14,
    "start_time": "2023-05-20T06:07:23.555Z"
   },
   {
    "duration": 40,
    "start_time": "2023-05-20T06:07:23.570Z"
   },
   {
    "duration": 66,
    "start_time": "2023-05-20T06:07:23.611Z"
   },
   {
    "duration": 5,
    "start_time": "2023-05-20T06:07:23.679Z"
   },
   {
    "duration": 177,
    "start_time": "2023-05-20T06:07:23.686Z"
   },
   {
    "duration": 35,
    "start_time": "2023-05-20T06:07:23.864Z"
   },
   {
    "duration": 9,
    "start_time": "2023-05-20T06:07:23.901Z"
   },
   {
    "duration": 304,
    "start_time": "2023-05-20T06:07:23.912Z"
   },
   {
    "duration": 41,
    "start_time": "2023-05-20T06:07:24.218Z"
   },
   {
    "duration": 75,
    "start_time": "2023-05-20T06:07:24.261Z"
   },
   {
    "duration": 295,
    "start_time": "2023-05-20T06:07:24.337Z"
   },
   {
    "duration": 251,
    "start_time": "2023-05-20T06:07:24.633Z"
   },
   {
    "duration": 82,
    "start_time": "2023-05-20T06:07:24.886Z"
   },
   {
    "duration": 249,
    "start_time": "2023-05-20T06:07:24.971Z"
   },
   {
    "duration": 157,
    "start_time": "2023-05-20T06:07:25.222Z"
   },
   {
    "duration": 146,
    "start_time": "2023-05-20T06:07:25.380Z"
   },
   {
    "duration": 332,
    "start_time": "2023-05-20T06:07:25.528Z"
   },
   {
    "duration": 659,
    "start_time": "2023-05-20T06:07:25.862Z"
   },
   {
    "duration": 471,
    "start_time": "2023-05-20T06:07:26.523Z"
   },
   {
    "duration": 16,
    "start_time": "2023-05-20T06:07:26.996Z"
   },
   {
    "duration": 4,
    "start_time": "2023-05-20T06:07:27.014Z"
   },
   {
    "duration": 0,
    "start_time": "2023-05-20T06:07:27.019Z"
   },
   {
    "duration": 0,
    "start_time": "2023-05-20T06:07:27.020Z"
   },
   {
    "duration": 0,
    "start_time": "2023-05-20T06:07:27.021Z"
   },
   {
    "duration": 0,
    "start_time": "2023-05-20T06:07:27.023Z"
   },
   {
    "duration": 0,
    "start_time": "2023-05-20T06:07:27.024Z"
   },
   {
    "duration": 0,
    "start_time": "2023-05-20T06:07:27.025Z"
   },
   {
    "duration": 0,
    "start_time": "2023-05-20T06:07:27.050Z"
   },
   {
    "duration": 0,
    "start_time": "2023-05-20T06:07:27.051Z"
   },
   {
    "duration": 0,
    "start_time": "2023-05-20T06:07:27.052Z"
   },
   {
    "duration": 0,
    "start_time": "2023-05-20T06:07:27.053Z"
   },
   {
    "duration": 0,
    "start_time": "2023-05-20T06:07:27.053Z"
   },
   {
    "duration": 0,
    "start_time": "2023-05-20T06:07:27.054Z"
   },
   {
    "duration": 0,
    "start_time": "2023-05-20T06:07:27.055Z"
   },
   {
    "duration": 0,
    "start_time": "2023-05-20T06:07:27.056Z"
   },
   {
    "duration": 0,
    "start_time": "2023-05-20T06:07:27.057Z"
   },
   {
    "duration": 0,
    "start_time": "2023-05-20T06:07:27.058Z"
   },
   {
    "duration": 0,
    "start_time": "2023-05-20T06:07:27.059Z"
   },
   {
    "duration": 0,
    "start_time": "2023-05-20T06:07:27.060Z"
   },
   {
    "duration": 0,
    "start_time": "2023-05-20T06:07:27.061Z"
   },
   {
    "duration": 0,
    "start_time": "2023-05-20T06:07:27.062Z"
   },
   {
    "duration": 0,
    "start_time": "2023-05-20T06:07:27.063Z"
   },
   {
    "duration": 1239,
    "start_time": "2023-05-20T06:07:54.352Z"
   },
   {
    "duration": 64,
    "start_time": "2023-05-20T06:07:55.593Z"
   },
   {
    "duration": 3,
    "start_time": "2023-05-20T06:07:55.659Z"
   },
   {
    "duration": 751020,
    "start_time": "2023-05-20T06:07:55.663Z"
   },
   {
    "duration": 73,
    "start_time": "2023-05-20T06:20:26.686Z"
   },
   {
    "duration": 105907,
    "start_time": "2023-05-20T06:20:26.761Z"
   },
   {
    "duration": 2,
    "start_time": "2023-05-20T06:22:12.670Z"
   },
   {
    "duration": 234485,
    "start_time": "2023-05-20T06:22:12.673Z"
   },
   {
    "duration": 0,
    "start_time": "2023-05-20T06:26:07.159Z"
   },
   {
    "duration": 0,
    "start_time": "2023-05-20T06:26:07.161Z"
   },
   {
    "duration": 0,
    "start_time": "2023-05-20T06:26:07.161Z"
   },
   {
    "duration": 0,
    "start_time": "2023-05-20T06:26:07.163Z"
   },
   {
    "duration": 0,
    "start_time": "2023-05-20T06:26:07.163Z"
   },
   {
    "duration": 1,
    "start_time": "2023-05-20T06:26:07.164Z"
   },
   {
    "duration": 0,
    "start_time": "2023-05-20T06:26:07.166Z"
   },
   {
    "duration": 0,
    "start_time": "2023-05-20T06:26:07.167Z"
   },
   {
    "duration": 0,
    "start_time": "2023-05-20T06:26:07.168Z"
   },
   {
    "duration": 0,
    "start_time": "2023-05-20T06:26:07.169Z"
   },
   {
    "duration": 0,
    "start_time": "2023-05-20T06:26:07.170Z"
   },
   {
    "duration": 0,
    "start_time": "2023-05-20T06:26:07.171Z"
   },
   {
    "duration": 0,
    "start_time": "2023-05-20T06:26:07.172Z"
   },
   {
    "duration": 73,
    "start_time": "2023-05-22T13:42:57.156Z"
   },
   {
    "duration": 2872,
    "start_time": "2023-05-22T13:42:57.232Z"
   },
   {
    "duration": 1799,
    "start_time": "2023-05-22T13:43:00.107Z"
   },
   {
    "duration": 3702,
    "start_time": "2023-05-22T13:43:01.908Z"
   },
   {
    "duration": 3,
    "start_time": "2023-05-22T13:43:05.613Z"
   },
   {
    "duration": 413,
    "start_time": "2023-05-22T13:43:05.618Z"
   },
   {
    "duration": 5,
    "start_time": "2023-05-22T13:43:06.032Z"
   },
   {
    "duration": 30,
    "start_time": "2023-05-22T13:43:06.039Z"
   },
   {
    "duration": 26,
    "start_time": "2023-05-22T13:43:06.071Z"
   },
   {
    "duration": 48,
    "start_time": "2023-05-22T13:43:06.100Z"
   },
   {
    "duration": 57,
    "start_time": "2023-05-22T13:43:06.150Z"
   },
   {
    "duration": 44,
    "start_time": "2023-05-22T13:43:06.210Z"
   },
   {
    "duration": 50,
    "start_time": "2023-05-22T13:43:06.256Z"
   },
   {
    "duration": 34,
    "start_time": "2023-05-22T13:43:06.310Z"
   },
   {
    "duration": 56,
    "start_time": "2023-05-22T13:43:06.346Z"
   },
   {
    "duration": 27,
    "start_time": "2023-05-22T13:43:06.404Z"
   },
   {
    "duration": 73,
    "start_time": "2023-05-22T13:43:06.434Z"
   },
   {
    "duration": 126,
    "start_time": "2023-05-22T13:43:06.510Z"
   },
   {
    "duration": 34,
    "start_time": "2023-05-22T13:43:06.638Z"
   },
   {
    "duration": 43,
    "start_time": "2023-05-22T13:43:06.673Z"
   },
   {
    "duration": 14,
    "start_time": "2023-05-22T13:43:06.718Z"
   },
   {
    "duration": 348,
    "start_time": "2023-05-22T13:43:06.734Z"
   },
   {
    "duration": 37,
    "start_time": "2023-05-22T13:43:07.086Z"
   },
   {
    "duration": 112,
    "start_time": "2023-05-22T13:43:07.125Z"
   },
   {
    "duration": 300,
    "start_time": "2023-05-22T13:43:07.240Z"
   },
   {
    "duration": 25,
    "start_time": "2023-05-22T13:43:07.542Z"
   },
   {
    "duration": 289,
    "start_time": "2023-05-22T13:43:07.576Z"
   },
   {
    "duration": 41,
    "start_time": "2023-05-22T13:43:07.867Z"
   },
   {
    "duration": 11,
    "start_time": "2023-05-22T13:43:07.910Z"
   },
   {
    "duration": 499,
    "start_time": "2023-05-22T13:43:07.923Z"
   },
   {
    "duration": 247,
    "start_time": "2023-05-22T13:43:08.426Z"
   },
   {
    "duration": 245,
    "start_time": "2023-05-22T13:43:08.675Z"
   },
   {
    "duration": 400,
    "start_time": "2023-05-22T13:43:08.922Z"
   },
   {
    "duration": 1190,
    "start_time": "2023-05-22T13:43:09.324Z"
   },
   {
    "duration": 556,
    "start_time": "2023-05-22T13:43:10.517Z"
   },
   {
    "duration": 12,
    "start_time": "2023-05-22T13:43:11.075Z"
   },
   {
    "duration": 139,
    "start_time": "2023-05-22T13:43:11.091Z"
   },
   {
    "duration": 37,
    "start_time": "2023-05-22T13:43:11.232Z"
   },
   {
    "duration": 65791,
    "start_time": "2023-05-22T13:43:11.272Z"
   },
   {
    "duration": 436,
    "start_time": "2023-05-22T13:44:17.082Z"
   },
   {
    "duration": 2277,
    "start_time": "2023-05-22T13:44:17.577Z"
   },
   {
    "duration": 123,
    "start_time": "2023-05-22T13:44:19.862Z"
   },
   {
    "duration": 9,
    "start_time": "2023-05-22T13:44:19.990Z"
   },
   {
    "duration": 1004794,
    "start_time": "2023-05-22T13:44:20.009Z"
   },
   {
    "duration": 72,
    "start_time": "2023-05-22T14:32:03.825Z"
   },
   {
    "duration": 54,
    "start_time": "2023-05-22T14:32:08.993Z"
   },
   {
    "duration": 2379,
    "start_time": "2023-05-22T14:32:09.050Z"
   },
   {
    "duration": 1650,
    "start_time": "2023-05-22T14:32:11.430Z"
   },
   {
    "duration": 3613,
    "start_time": "2023-05-22T14:32:13.082Z"
   },
   {
    "duration": 4,
    "start_time": "2023-05-22T14:32:16.697Z"
   },
   {
    "duration": 413,
    "start_time": "2023-05-22T14:32:16.703Z"
   },
   {
    "duration": 5,
    "start_time": "2023-05-22T14:32:17.118Z"
   },
   {
    "duration": 15,
    "start_time": "2023-05-22T14:32:17.125Z"
   },
   {
    "duration": 33,
    "start_time": "2023-05-22T14:32:17.142Z"
   },
   {
    "duration": 44,
    "start_time": "2023-05-22T14:32:17.177Z"
   },
   {
    "duration": 64,
    "start_time": "2023-05-22T14:32:17.223Z"
   },
   {
    "duration": 51,
    "start_time": "2023-05-22T14:32:17.292Z"
   },
   {
    "duration": 58,
    "start_time": "2023-05-22T14:32:17.348Z"
   },
   {
    "duration": 18,
    "start_time": "2023-05-22T14:32:17.410Z"
   },
   {
    "duration": 63,
    "start_time": "2023-05-22T14:32:17.430Z"
   },
   {
    "duration": 18,
    "start_time": "2023-05-22T14:32:17.495Z"
   },
   {
    "duration": 51,
    "start_time": "2023-05-22T14:32:17.516Z"
   },
   {
    "duration": 72,
    "start_time": "2023-05-22T14:32:17.569Z"
   },
   {
    "duration": 36,
    "start_time": "2023-05-22T14:32:17.643Z"
   },
   {
    "duration": 41,
    "start_time": "2023-05-22T14:32:17.686Z"
   },
   {
    "duration": 10,
    "start_time": "2023-05-22T14:32:17.729Z"
   },
   {
    "duration": 281,
    "start_time": "2023-05-22T14:32:17.741Z"
   },
   {
    "duration": 52,
    "start_time": "2023-05-22T14:32:18.024Z"
   },
   {
    "duration": 74,
    "start_time": "2023-05-22T14:32:18.081Z"
   },
   {
    "duration": 252,
    "start_time": "2023-05-22T14:32:18.157Z"
   },
   {
    "duration": 11,
    "start_time": "2023-05-22T14:32:18.411Z"
   },
   {
    "duration": 415,
    "start_time": "2023-05-22T14:32:18.424Z"
   },
   {
    "duration": 63,
    "start_time": "2023-05-22T14:32:18.841Z"
   },
   {
    "duration": 17,
    "start_time": "2023-05-22T14:32:18.909Z"
   },
   {
    "duration": 426,
    "start_time": "2023-05-22T14:32:18.929Z"
   },
   {
    "duration": 234,
    "start_time": "2023-05-22T14:32:19.357Z"
   },
   {
    "duration": 159,
    "start_time": "2023-05-22T14:32:19.594Z"
   },
   {
    "duration": 359,
    "start_time": "2023-05-22T14:32:19.755Z"
   },
   {
    "duration": 869,
    "start_time": "2023-05-22T14:32:20.116Z"
   },
   {
    "duration": 518,
    "start_time": "2023-05-22T14:32:20.988Z"
   },
   {
    "duration": 4,
    "start_time": "2023-05-22T14:32:21.508Z"
   },
   {
    "duration": 119,
    "start_time": "2023-05-22T14:32:21.513Z"
   },
   {
    "duration": 25,
    "start_time": "2023-05-22T14:32:21.634Z"
   },
   {
    "duration": 72037,
    "start_time": "2023-05-22T14:32:21.670Z"
   },
   {
    "duration": 419,
    "start_time": "2023-05-22T14:33:33.756Z"
   },
   {
    "duration": 1738,
    "start_time": "2023-05-22T14:33:34.188Z"
   },
   {
    "duration": 86,
    "start_time": "2023-05-22T14:33:35.929Z"
   },
   {
    "duration": 3,
    "start_time": "2023-05-22T14:33:36.018Z"
   },
   {
    "duration": 187930,
    "start_time": "2023-05-22T14:33:36.023Z"
   },
   {
    "duration": 0,
    "start_time": "2023-05-22T14:36:43.956Z"
   },
   {
    "duration": 0,
    "start_time": "2023-05-22T14:36:43.957Z"
   },
   {
    "duration": 0,
    "start_time": "2023-05-22T14:36:43.957Z"
   },
   {
    "duration": 0,
    "start_time": "2023-05-22T14:36:43.958Z"
   },
   {
    "duration": 0,
    "start_time": "2023-05-22T14:36:43.961Z"
   },
   {
    "duration": 0,
    "start_time": "2023-05-22T14:36:43.962Z"
   },
   {
    "duration": 0,
    "start_time": "2023-05-22T14:36:43.963Z"
   },
   {
    "duration": 0,
    "start_time": "2023-05-22T14:36:43.964Z"
   },
   {
    "duration": 0,
    "start_time": "2023-05-22T14:36:43.964Z"
   },
   {
    "duration": 0,
    "start_time": "2023-05-22T14:36:43.965Z"
   },
   {
    "duration": 0,
    "start_time": "2023-05-22T14:36:43.967Z"
   },
   {
    "duration": 0,
    "start_time": "2023-05-22T14:36:43.968Z"
   },
   {
    "duration": 0,
    "start_time": "2023-05-22T14:36:43.969Z"
   },
   {
    "duration": 0,
    "start_time": "2023-05-22T14:36:43.971Z"
   },
   {
    "duration": 0,
    "start_time": "2023-05-22T14:36:43.971Z"
   },
   {
    "duration": 62,
    "start_time": "2023-05-22T14:54:10.376Z"
   },
   {
    "duration": 2471,
    "start_time": "2023-05-22T14:54:10.440Z"
   },
   {
    "duration": 1726,
    "start_time": "2023-05-22T14:54:12.913Z"
   },
   {
    "duration": 3974,
    "start_time": "2023-05-22T14:54:14.641Z"
   },
   {
    "duration": 3,
    "start_time": "2023-05-22T14:54:18.618Z"
   },
   {
    "duration": 704,
    "start_time": "2023-05-22T14:54:18.623Z"
   },
   {
    "duration": 7,
    "start_time": "2023-05-22T14:54:19.330Z"
   },
   {
    "duration": 28,
    "start_time": "2023-05-22T14:54:19.340Z"
   },
   {
    "duration": 19,
    "start_time": "2023-05-22T14:54:19.371Z"
   },
   {
    "duration": 76,
    "start_time": "2023-05-22T14:54:19.393Z"
   },
   {
    "duration": 47,
    "start_time": "2023-05-22T14:54:19.472Z"
   },
   {
    "duration": 90,
    "start_time": "2023-05-22T14:54:19.522Z"
   },
   {
    "duration": 48,
    "start_time": "2023-05-22T14:54:19.620Z"
   },
   {
    "duration": 37,
    "start_time": "2023-05-22T14:54:19.674Z"
   },
   {
    "duration": 35,
    "start_time": "2023-05-22T14:54:19.714Z"
   },
   {
    "duration": 48,
    "start_time": "2023-05-22T14:54:19.751Z"
   },
   {
    "duration": 30,
    "start_time": "2023-05-22T14:54:19.806Z"
   },
   {
    "duration": 90,
    "start_time": "2023-05-22T14:54:19.837Z"
   },
   {
    "duration": 6,
    "start_time": "2023-05-22T14:54:19.929Z"
   },
   {
    "duration": 59,
    "start_time": "2023-05-22T14:54:19.936Z"
   },
   {
    "duration": 12,
    "start_time": "2023-05-22T14:54:19.996Z"
   },
   {
    "duration": 323,
    "start_time": "2023-05-22T14:54:20.009Z"
   },
   {
    "duration": 56,
    "start_time": "2023-05-22T14:54:20.334Z"
   },
   {
    "duration": 77,
    "start_time": "2023-05-22T14:54:20.392Z"
   },
   {
    "duration": 274,
    "start_time": "2023-05-22T14:54:20.470Z"
   },
   {
    "duration": 22,
    "start_time": "2023-05-22T14:54:20.746Z"
   },
   {
    "duration": 305,
    "start_time": "2023-05-22T14:54:20.773Z"
   },
   {
    "duration": 32,
    "start_time": "2023-05-22T14:54:21.081Z"
   },
   {
    "duration": 8,
    "start_time": "2023-05-22T14:54:21.115Z"
   },
   {
    "duration": 421,
    "start_time": "2023-05-22T14:54:21.125Z"
   },
   {
    "duration": 177,
    "start_time": "2023-05-22T14:54:21.548Z"
   },
   {
    "duration": 171,
    "start_time": "2023-05-22T14:54:21.727Z"
   },
   {
    "duration": 352,
    "start_time": "2023-05-22T14:54:21.899Z"
   },
   {
    "duration": 855,
    "start_time": "2023-05-22T14:54:22.253Z"
   },
   {
    "duration": 565,
    "start_time": "2023-05-22T14:54:23.110Z"
   },
   {
    "duration": 17,
    "start_time": "2023-05-22T14:54:23.682Z"
   },
   {
    "duration": 121,
    "start_time": "2023-05-22T14:54:23.704Z"
   },
   {
    "duration": 17,
    "start_time": "2023-05-22T14:54:23.827Z"
   },
   {
    "duration": 78,
    "start_time": "2023-05-22T14:54:50.252Z"
   },
   {
    "duration": 2408,
    "start_time": "2023-05-22T14:54:50.332Z"
   },
   {
    "duration": 1669,
    "start_time": "2023-05-22T14:54:52.743Z"
   },
   {
    "duration": 981,
    "start_time": "2023-05-22T14:54:54.414Z"
   },
   {
    "duration": 6,
    "start_time": "2023-05-22T14:54:55.398Z"
   },
   {
    "duration": 479,
    "start_time": "2023-05-22T14:54:55.408Z"
   },
   {
    "duration": 12,
    "start_time": "2023-05-22T14:54:55.894Z"
   },
   {
    "duration": 11,
    "start_time": "2023-05-22T14:54:55.909Z"
   },
   {
    "duration": 60,
    "start_time": "2023-05-22T14:54:55.922Z"
   },
   {
    "duration": 63,
    "start_time": "2023-05-22T14:54:55.990Z"
   },
   {
    "duration": 62,
    "start_time": "2023-05-22T14:54:56.054Z"
   },
   {
    "duration": 110,
    "start_time": "2023-05-22T14:54:56.119Z"
   },
   {
    "duration": 37,
    "start_time": "2023-05-22T14:54:56.231Z"
   },
   {
    "duration": 47,
    "start_time": "2023-05-22T14:54:56.272Z"
   },
   {
    "duration": 79,
    "start_time": "2023-05-22T14:54:56.321Z"
   },
   {
    "duration": 27,
    "start_time": "2023-05-22T14:54:56.407Z"
   },
   {
    "duration": 66,
    "start_time": "2023-05-22T14:54:56.437Z"
   },
   {
    "duration": 101,
    "start_time": "2023-05-22T14:54:56.506Z"
   },
   {
    "duration": 18,
    "start_time": "2023-05-22T14:54:56.609Z"
   },
   {
    "duration": 65,
    "start_time": "2023-05-22T14:54:56.629Z"
   },
   {
    "duration": 16,
    "start_time": "2023-05-22T14:54:56.696Z"
   },
   {
    "duration": 321,
    "start_time": "2023-05-22T14:54:56.714Z"
   },
   {
    "duration": 49,
    "start_time": "2023-05-22T14:54:57.038Z"
   },
   {
    "duration": 99,
    "start_time": "2023-05-22T14:54:57.095Z"
   },
   {
    "duration": 295,
    "start_time": "2023-05-22T14:54:57.197Z"
   },
   {
    "duration": 13,
    "start_time": "2023-05-22T14:54:57.498Z"
   },
   {
    "duration": 289,
    "start_time": "2023-05-22T14:54:57.513Z"
   },
   {
    "duration": 31,
    "start_time": "2023-05-22T14:54:57.804Z"
   },
   {
    "duration": 38,
    "start_time": "2023-05-22T14:54:57.836Z"
   },
   {
    "duration": 415,
    "start_time": "2023-05-22T14:54:57.880Z"
   },
   {
    "duration": 175,
    "start_time": "2023-05-22T14:54:58.300Z"
   },
   {
    "duration": 170,
    "start_time": "2023-05-22T14:54:58.481Z"
   },
   {
    "duration": 380,
    "start_time": "2023-05-22T14:54:58.659Z"
   },
   {
    "duration": 986,
    "start_time": "2023-05-22T14:54:59.041Z"
   },
   {
    "duration": 572,
    "start_time": "2023-05-22T14:55:00.029Z"
   },
   {
    "duration": 5,
    "start_time": "2023-05-22T14:55:00.606Z"
   },
   {
    "duration": 168,
    "start_time": "2023-05-22T14:55:00.613Z"
   },
   {
    "duration": 35,
    "start_time": "2023-05-22T14:55:00.783Z"
   },
   {
    "duration": 86946,
    "start_time": "2023-05-22T14:55:00.820Z"
   },
   {
    "duration": 498,
    "start_time": "2023-05-22T14:56:27.773Z"
   },
   {
    "duration": 1898,
    "start_time": "2023-05-22T14:56:28.294Z"
   },
   {
    "duration": 74,
    "start_time": "2023-05-22T14:56:30.196Z"
   },
   {
    "duration": 13,
    "start_time": "2023-05-22T14:56:30.278Z"
   },
   {
    "duration": 24535,
    "start_time": "2023-05-22T14:56:30.293Z"
   },
   {
    "duration": 0,
    "start_time": "2023-05-22T14:56:54.830Z"
   },
   {
    "duration": 0,
    "start_time": "2023-05-22T14:56:54.831Z"
   },
   {
    "duration": 0,
    "start_time": "2023-05-22T14:56:54.832Z"
   },
   {
    "duration": 0,
    "start_time": "2023-05-22T14:56:54.833Z"
   },
   {
    "duration": 0,
    "start_time": "2023-05-22T14:56:54.835Z"
   },
   {
    "duration": 0,
    "start_time": "2023-05-22T14:56:54.836Z"
   },
   {
    "duration": 0,
    "start_time": "2023-05-22T14:56:54.837Z"
   },
   {
    "duration": 0,
    "start_time": "2023-05-22T14:56:54.838Z"
   },
   {
    "duration": 0,
    "start_time": "2023-05-22T14:56:54.839Z"
   },
   {
    "duration": 0,
    "start_time": "2023-05-22T14:56:54.840Z"
   },
   {
    "duration": 0,
    "start_time": "2023-05-22T14:56:54.841Z"
   },
   {
    "duration": 0,
    "start_time": "2023-05-22T14:56:54.842Z"
   },
   {
    "duration": 0,
    "start_time": "2023-05-22T14:56:54.844Z"
   },
   {
    "duration": 0,
    "start_time": "2023-05-22T14:56:54.859Z"
   },
   {
    "duration": 0,
    "start_time": "2023-05-22T14:56:54.862Z"
   },
   {
    "duration": 19,
    "start_time": "2023-05-22T14:57:01.909Z"
   },
   {
    "duration": 131,
    "start_time": "2023-05-22T14:57:34.978Z"
   },
   {
    "duration": 15,
    "start_time": "2023-05-22T14:57:41.577Z"
   },
   {
    "duration": 14,
    "start_time": "2023-05-22T14:57:50.013Z"
   },
   {
    "duration": 885698,
    "start_time": "2023-05-22T14:58:28.030Z"
   },
   {
    "duration": 59,
    "start_time": "2023-05-23T05:47:36.246Z"
   },
   {
    "duration": 18,
    "start_time": "2023-05-23T05:48:16.080Z"
   },
   {
    "duration": 57,
    "start_time": "2023-05-23T05:48:21.207Z"
   },
   {
    "duration": 14,
    "start_time": "2023-05-23T05:50:44.360Z"
   },
   {
    "duration": 12,
    "start_time": "2023-05-23T05:50:51.702Z"
   },
   {
    "duration": 49,
    "start_time": "2023-05-23T05:52:22.624Z"
   },
   {
    "duration": 1943,
    "start_time": "2023-05-23T05:52:22.675Z"
   },
   {
    "duration": 1416,
    "start_time": "2023-05-23T05:52:24.620Z"
   },
   {
    "duration": 805,
    "start_time": "2023-05-23T05:52:26.038Z"
   },
   {
    "duration": 3,
    "start_time": "2023-05-23T05:52:26.845Z"
   },
   {
    "duration": 359,
    "start_time": "2023-05-23T05:52:26.849Z"
   },
   {
    "duration": 5,
    "start_time": "2023-05-23T05:52:27.210Z"
   },
   {
    "duration": 8,
    "start_time": "2023-05-23T05:52:27.217Z"
   },
   {
    "duration": 8,
    "start_time": "2023-05-23T05:52:27.227Z"
   },
   {
    "duration": 64,
    "start_time": "2023-05-23T05:52:27.238Z"
   },
   {
    "duration": 38,
    "start_time": "2023-05-23T05:52:27.304Z"
   },
   {
    "duration": 61,
    "start_time": "2023-05-23T05:52:27.344Z"
   },
   {
    "duration": 30,
    "start_time": "2023-05-23T05:52:27.407Z"
   },
   {
    "duration": 18,
    "start_time": "2023-05-23T05:52:27.438Z"
   },
   {
    "duration": 28,
    "start_time": "2023-05-23T05:52:27.458Z"
   },
   {
    "duration": 29,
    "start_time": "2023-05-23T05:52:27.488Z"
   },
   {
    "duration": 29,
    "start_time": "2023-05-23T05:52:27.518Z"
   },
   {
    "duration": 61,
    "start_time": "2023-05-23T05:52:27.549Z"
   },
   {
    "duration": 6,
    "start_time": "2023-05-23T05:52:27.612Z"
   },
   {
    "duration": 52,
    "start_time": "2023-05-23T05:52:27.619Z"
   },
   {
    "duration": 10,
    "start_time": "2023-05-23T05:52:27.673Z"
   },
   {
    "duration": 247,
    "start_time": "2023-05-23T05:52:27.684Z"
   },
   {
    "duration": 45,
    "start_time": "2023-05-23T05:52:27.932Z"
   },
   {
    "duration": 66,
    "start_time": "2023-05-23T05:52:27.979Z"
   },
   {
    "duration": 223,
    "start_time": "2023-05-23T05:52:28.047Z"
   },
   {
    "duration": 15,
    "start_time": "2023-05-23T05:52:28.272Z"
   },
   {
    "duration": 268,
    "start_time": "2023-05-23T05:52:28.289Z"
   },
   {
    "duration": 30,
    "start_time": "2023-05-23T05:52:28.561Z"
   },
   {
    "duration": 9,
    "start_time": "2023-05-23T05:52:28.593Z"
   },
   {
    "duration": 378,
    "start_time": "2023-05-23T05:52:28.603Z"
   },
   {
    "duration": 143,
    "start_time": "2023-05-23T05:52:28.983Z"
   },
   {
    "duration": 143,
    "start_time": "2023-05-23T05:52:29.127Z"
   },
   {
    "duration": 297,
    "start_time": "2023-05-23T05:52:29.272Z"
   },
   {
    "duration": 841,
    "start_time": "2023-05-23T05:52:29.571Z"
   },
   {
    "duration": 494,
    "start_time": "2023-05-23T05:52:30.413Z"
   },
   {
    "duration": 4,
    "start_time": "2023-05-23T05:52:30.909Z"
   },
   {
    "duration": 157,
    "start_time": "2023-05-23T05:52:30.914Z"
   },
   {
    "duration": 17,
    "start_time": "2023-05-23T05:52:31.073Z"
   },
   {
    "duration": 20666,
    "start_time": "2023-05-23T05:52:31.092Z"
   },
   {
    "duration": 398,
    "start_time": "2023-05-23T05:52:51.760Z"
   },
   {
    "duration": 1582,
    "start_time": "2023-05-23T05:52:52.160Z"
   },
   {
    "duration": 63,
    "start_time": "2023-05-23T05:52:53.743Z"
   },
   {
    "duration": 3,
    "start_time": "2023-05-23T05:52:53.807Z"
   },
   {
    "duration": 21445,
    "start_time": "2023-05-23T05:52:53.812Z"
   },
   {
    "duration": 0,
    "start_time": "2023-05-23T05:53:15.259Z"
   },
   {
    "duration": 0,
    "start_time": "2023-05-23T05:53:15.260Z"
   },
   {
    "duration": 0,
    "start_time": "2023-05-23T05:53:15.261Z"
   },
   {
    "duration": 0,
    "start_time": "2023-05-23T05:53:15.262Z"
   },
   {
    "duration": 0,
    "start_time": "2023-05-23T05:53:15.263Z"
   },
   {
    "duration": 0,
    "start_time": "2023-05-23T05:53:15.264Z"
   },
   {
    "duration": 0,
    "start_time": "2023-05-23T05:53:15.264Z"
   },
   {
    "duration": 0,
    "start_time": "2023-05-23T05:53:15.265Z"
   },
   {
    "duration": 0,
    "start_time": "2023-05-23T05:53:15.266Z"
   },
   {
    "duration": 0,
    "start_time": "2023-05-23T05:53:15.267Z"
   },
   {
    "duration": 0,
    "start_time": "2023-05-23T05:53:15.269Z"
   },
   {
    "duration": 0,
    "start_time": "2023-05-23T05:53:15.269Z"
   },
   {
    "duration": 0,
    "start_time": "2023-05-23T05:53:15.271Z"
   },
   {
    "duration": 0,
    "start_time": "2023-05-23T05:53:15.271Z"
   },
   {
    "duration": 0,
    "start_time": "2023-05-23T05:53:15.272Z"
   },
   {
    "duration": 0,
    "start_time": "2023-05-23T05:53:15.273Z"
   },
   {
    "duration": 0,
    "start_time": "2023-05-23T05:53:15.274Z"
   },
   {
    "duration": 10,
    "start_time": "2023-05-23T05:53:19.476Z"
   },
   {
    "duration": 20,
    "start_time": "2023-05-23T05:53:30.137Z"
   },
   {
    "duration": 9,
    "start_time": "2023-05-23T05:53:35.494Z"
   },
   {
    "duration": 68,
    "start_time": "2023-05-23T05:53:39.095Z"
   },
   {
    "duration": 18,
    "start_time": "2023-05-23T05:53:41.526Z"
   },
   {
    "duration": 11991,
    "start_time": "2023-05-23T05:55:12.224Z"
   },
   {
    "duration": 3,
    "start_time": "2023-05-23T05:55:26.288Z"
   },
   {
    "duration": 28,
    "start_time": "2023-05-23T05:58:52.171Z"
   },
   {
    "duration": 49,
    "start_time": "2023-05-23T05:59:00.971Z"
   },
   {
    "duration": 1998,
    "start_time": "2023-05-23T05:59:01.022Z"
   },
   {
    "duration": 1480,
    "start_time": "2023-05-23T05:59:03.022Z"
   },
   {
    "duration": 937,
    "start_time": "2023-05-23T05:59:04.505Z"
   },
   {
    "duration": 4,
    "start_time": "2023-05-23T05:59:05.444Z"
   },
   {
    "duration": 370,
    "start_time": "2023-05-23T05:59:05.455Z"
   },
   {
    "duration": 5,
    "start_time": "2023-05-23T05:59:05.827Z"
   },
   {
    "duration": 9,
    "start_time": "2023-05-23T05:59:05.833Z"
   },
   {
    "duration": 19,
    "start_time": "2023-05-23T05:59:05.844Z"
   },
   {
    "duration": 56,
    "start_time": "2023-05-23T05:59:05.865Z"
   },
   {
    "duration": 46,
    "start_time": "2023-05-23T05:59:05.923Z"
   },
   {
    "duration": 60,
    "start_time": "2023-05-23T05:59:05.971Z"
   },
   {
    "duration": 34,
    "start_time": "2023-05-23T05:59:06.033Z"
   },
   {
    "duration": 16,
    "start_time": "2023-05-23T05:59:06.070Z"
   },
   {
    "duration": 32,
    "start_time": "2023-05-23T05:59:06.088Z"
   },
   {
    "duration": 49,
    "start_time": "2023-05-23T05:59:06.122Z"
   },
   {
    "duration": 47,
    "start_time": "2023-05-23T05:59:06.173Z"
   },
   {
    "duration": 67,
    "start_time": "2023-05-23T05:59:06.222Z"
   },
   {
    "duration": 8,
    "start_time": "2023-05-23T05:59:06.291Z"
   },
   {
    "duration": 61,
    "start_time": "2023-05-23T05:59:06.301Z"
   },
   {
    "duration": 12,
    "start_time": "2023-05-23T05:59:06.364Z"
   },
   {
    "duration": 274,
    "start_time": "2023-05-23T05:59:06.378Z"
   },
   {
    "duration": 34,
    "start_time": "2023-05-23T05:59:06.656Z"
   },
   {
    "duration": 82,
    "start_time": "2023-05-23T05:59:06.692Z"
   },
   {
    "duration": 232,
    "start_time": "2023-05-23T05:59:06.776Z"
   },
   {
    "duration": 9,
    "start_time": "2023-05-23T05:59:07.010Z"
   },
   {
    "duration": 257,
    "start_time": "2023-05-23T05:59:07.020Z"
   },
   {
    "duration": 30,
    "start_time": "2023-05-23T05:59:07.281Z"
   },
   {
    "duration": 9,
    "start_time": "2023-05-23T05:59:07.313Z"
   },
   {
    "duration": 377,
    "start_time": "2023-05-23T05:59:07.324Z"
   },
   {
    "duration": 147,
    "start_time": "2023-05-23T05:59:07.703Z"
   },
   {
    "duration": 135,
    "start_time": "2023-05-23T05:59:07.856Z"
   },
   {
    "duration": 298,
    "start_time": "2023-05-23T05:59:07.993Z"
   },
   {
    "duration": 799,
    "start_time": "2023-05-23T05:59:08.293Z"
   },
   {
    "duration": 479,
    "start_time": "2023-05-23T05:59:09.093Z"
   },
   {
    "duration": 3,
    "start_time": "2023-05-23T05:59:09.573Z"
   },
   {
    "duration": 110,
    "start_time": "2023-05-23T05:59:09.578Z"
   },
   {
    "duration": 14,
    "start_time": "2023-05-23T05:59:09.690Z"
   },
   {
    "duration": 21452,
    "start_time": "2023-05-23T05:59:09.705Z"
   },
   {
    "duration": 497,
    "start_time": "2023-05-23T05:59:31.159Z"
   },
   {
    "duration": 1607,
    "start_time": "2023-05-23T05:59:31.659Z"
   },
   {
    "duration": 59,
    "start_time": "2023-05-23T05:59:33.268Z"
   },
   {
    "duration": 3,
    "start_time": "2023-05-23T05:59:33.329Z"
   },
   {
    "duration": 99436,
    "start_time": "2023-05-23T05:59:33.334Z"
   },
   {
    "duration": 0,
    "start_time": "2023-05-23T06:01:12.772Z"
   },
   {
    "duration": 1,
    "start_time": "2023-05-23T06:01:12.773Z"
   },
   {
    "duration": 0,
    "start_time": "2023-05-23T06:01:12.775Z"
   },
   {
    "duration": 0,
    "start_time": "2023-05-23T06:01:12.776Z"
   },
   {
    "duration": 0,
    "start_time": "2023-05-23T06:01:12.777Z"
   },
   {
    "duration": 0,
    "start_time": "2023-05-23T06:01:12.778Z"
   },
   {
    "duration": 0,
    "start_time": "2023-05-23T06:01:12.780Z"
   },
   {
    "duration": 0,
    "start_time": "2023-05-23T06:01:12.781Z"
   },
   {
    "duration": 0,
    "start_time": "2023-05-23T06:01:12.782Z"
   },
   {
    "duration": 0,
    "start_time": "2023-05-23T06:01:12.783Z"
   },
   {
    "duration": 0,
    "start_time": "2023-05-23T06:01:12.784Z"
   },
   {
    "duration": 0,
    "start_time": "2023-05-23T06:01:12.786Z"
   },
   {
    "duration": 3,
    "start_time": "2023-05-23T06:01:16.606Z"
   },
   {
    "duration": 50,
    "start_time": "2023-05-23T06:04:12.354Z"
   },
   {
    "duration": 2044,
    "start_time": "2023-05-23T06:04:12.406Z"
   },
   {
    "duration": 1547,
    "start_time": "2023-05-23T06:04:14.452Z"
   },
   {
    "duration": 2887,
    "start_time": "2023-05-23T06:04:16.001Z"
   },
   {
    "duration": 5,
    "start_time": "2023-05-23T06:04:18.890Z"
   },
   {
    "duration": 368,
    "start_time": "2023-05-23T06:04:18.897Z"
   },
   {
    "duration": 5,
    "start_time": "2023-05-23T06:04:19.267Z"
   },
   {
    "duration": 10,
    "start_time": "2023-05-23T06:04:19.274Z"
   },
   {
    "duration": 14,
    "start_time": "2023-05-23T06:04:19.286Z"
   },
   {
    "duration": 63,
    "start_time": "2023-05-23T06:04:19.303Z"
   },
   {
    "duration": 30,
    "start_time": "2023-05-23T06:04:19.368Z"
   },
   {
    "duration": 61,
    "start_time": "2023-05-23T06:04:19.400Z"
   },
   {
    "duration": 31,
    "start_time": "2023-05-23T06:04:19.463Z"
   },
   {
    "duration": 20,
    "start_time": "2023-05-23T06:04:19.496Z"
   },
   {
    "duration": 42,
    "start_time": "2023-05-23T06:04:19.518Z"
   },
   {
    "duration": 25,
    "start_time": "2023-05-23T06:04:19.562Z"
   },
   {
    "duration": 37,
    "start_time": "2023-05-23T06:04:19.589Z"
   },
   {
    "duration": 73,
    "start_time": "2023-05-23T06:04:19.628Z"
   },
   {
    "duration": 6,
    "start_time": "2023-05-23T06:04:19.703Z"
   },
   {
    "duration": 56,
    "start_time": "2023-05-23T06:04:19.711Z"
   },
   {
    "duration": 11,
    "start_time": "2023-05-23T06:04:19.769Z"
   },
   {
    "duration": 268,
    "start_time": "2023-05-23T06:04:19.782Z"
   },
   {
    "duration": 34,
    "start_time": "2023-05-23T06:04:20.056Z"
   },
   {
    "duration": 79,
    "start_time": "2023-05-23T06:04:20.092Z"
   },
   {
    "duration": 225,
    "start_time": "2023-05-23T06:04:20.173Z"
   },
   {
    "duration": 9,
    "start_time": "2023-05-23T06:04:20.399Z"
   },
   {
    "duration": 263,
    "start_time": "2023-05-23T06:04:20.410Z"
   },
   {
    "duration": 31,
    "start_time": "2023-05-23T06:04:20.677Z"
   },
   {
    "duration": 11,
    "start_time": "2023-05-23T06:04:20.710Z"
   },
   {
    "duration": 365,
    "start_time": "2023-05-23T06:04:20.723Z"
   },
   {
    "duration": 162,
    "start_time": "2023-05-23T06:04:21.090Z"
   },
   {
    "duration": 150,
    "start_time": "2023-05-23T06:04:21.257Z"
   },
   {
    "duration": 308,
    "start_time": "2023-05-23T06:04:21.409Z"
   },
   {
    "duration": 800,
    "start_time": "2023-05-23T06:04:21.719Z"
   },
   {
    "duration": 488,
    "start_time": "2023-05-23T06:04:22.521Z"
   },
   {
    "duration": 4,
    "start_time": "2023-05-23T06:04:23.011Z"
   },
   {
    "duration": 113,
    "start_time": "2023-05-23T06:04:23.016Z"
   },
   {
    "duration": 17,
    "start_time": "2023-05-23T06:04:23.130Z"
   },
   {
    "duration": 21600,
    "start_time": "2023-05-23T06:04:23.157Z"
   },
   {
    "duration": 407,
    "start_time": "2023-05-23T06:04:44.758Z"
   },
   {
    "duration": 1515,
    "start_time": "2023-05-23T06:04:45.258Z"
   },
   {
    "duration": 54,
    "start_time": "2023-05-23T06:04:46.775Z"
   },
   {
    "duration": 3,
    "start_time": "2023-05-23T06:04:46.830Z"
   },
   {
    "duration": 707428,
    "start_time": "2023-05-23T06:04:46.835Z"
   },
   {
    "duration": 61,
    "start_time": "2023-05-23T06:16:34.265Z"
   },
   {
    "duration": 3,
    "start_time": "2023-05-23T06:16:34.328Z"
   },
   {
    "duration": 117026,
    "start_time": "2023-05-23T06:16:34.332Z"
   },
   {
    "duration": 132,
    "start_time": "2023-05-23T06:18:31.359Z"
   },
   {
    "duration": 0,
    "start_time": "2023-05-23T06:18:31.493Z"
   },
   {
    "duration": 0,
    "start_time": "2023-05-23T06:18:31.494Z"
   },
   {
    "duration": 0,
    "start_time": "2023-05-23T06:18:31.495Z"
   },
   {
    "duration": 0,
    "start_time": "2023-05-23T06:18:31.496Z"
   },
   {
    "duration": 0,
    "start_time": "2023-05-23T06:18:31.497Z"
   },
   {
    "duration": 0,
    "start_time": "2023-05-23T06:18:31.498Z"
   },
   {
    "duration": 0,
    "start_time": "2023-05-23T06:18:31.499Z"
   },
   {
    "duration": 5,
    "start_time": "2023-05-23T06:47:11.908Z"
   },
   {
    "duration": 90,
    "start_time": "2023-05-23T06:47:15.799Z"
   },
   {
    "duration": 31560,
    "start_time": "2023-05-23T06:47:38.621Z"
   },
   {
    "duration": 16,
    "start_time": "2023-05-23T06:52:05.972Z"
   },
   {
    "duration": 19684,
    "start_time": "2023-05-23T06:52:42.434Z"
   },
   {
    "duration": 51,
    "start_time": "2023-05-23T06:53:07.646Z"
   },
   {
    "duration": 2219,
    "start_time": "2023-05-23T06:53:07.700Z"
   },
   {
    "duration": 1486,
    "start_time": "2023-05-23T06:53:09.921Z"
   },
   {
    "duration": 891,
    "start_time": "2023-05-23T06:53:11.410Z"
   },
   {
    "duration": 4,
    "start_time": "2023-05-23T06:53:12.302Z"
   },
   {
    "duration": 372,
    "start_time": "2023-05-23T06:53:12.308Z"
   },
   {
    "duration": 4,
    "start_time": "2023-05-23T06:53:12.682Z"
   },
   {
    "duration": 9,
    "start_time": "2023-05-23T06:53:12.688Z"
   },
   {
    "duration": 10,
    "start_time": "2023-05-23T06:53:12.699Z"
   },
   {
    "duration": 69,
    "start_time": "2023-05-23T06:53:12.711Z"
   },
   {
    "duration": 49,
    "start_time": "2023-05-23T06:53:12.781Z"
   },
   {
    "duration": 46,
    "start_time": "2023-05-23T06:53:12.831Z"
   },
   {
    "duration": 27,
    "start_time": "2023-05-23T06:53:12.879Z"
   },
   {
    "duration": 20,
    "start_time": "2023-05-23T06:53:12.907Z"
   },
   {
    "duration": 40,
    "start_time": "2023-05-23T06:53:12.929Z"
   },
   {
    "duration": 20,
    "start_time": "2023-05-23T06:53:12.970Z"
   },
   {
    "duration": 27,
    "start_time": "2023-05-23T06:53:12.992Z"
   },
   {
    "duration": 77,
    "start_time": "2023-05-23T06:53:13.021Z"
   },
   {
    "duration": 5,
    "start_time": "2023-05-23T06:53:13.100Z"
   },
   {
    "duration": 55,
    "start_time": "2023-05-23T06:53:13.107Z"
   },
   {
    "duration": 10,
    "start_time": "2023-05-23T06:53:13.163Z"
   },
   {
    "duration": 276,
    "start_time": "2023-05-23T06:53:13.174Z"
   },
   {
    "duration": 33,
    "start_time": "2023-05-23T06:53:13.456Z"
   },
   {
    "duration": 79,
    "start_time": "2023-05-23T06:53:13.491Z"
   },
   {
    "duration": 231,
    "start_time": "2023-05-23T06:53:13.572Z"
   },
   {
    "duration": 9,
    "start_time": "2023-05-23T06:53:13.806Z"
   },
   {
    "duration": 265,
    "start_time": "2023-05-23T06:53:13.817Z"
   },
   {
    "duration": 31,
    "start_time": "2023-05-23T06:53:14.087Z"
   },
   {
    "duration": 13,
    "start_time": "2023-05-23T06:53:14.120Z"
   },
   {
    "duration": 382,
    "start_time": "2023-05-23T06:53:14.134Z"
   },
   {
    "duration": 149,
    "start_time": "2023-05-23T06:53:14.518Z"
   },
   {
    "duration": 146,
    "start_time": "2023-05-23T06:53:14.669Z"
   },
   {
    "duration": 300,
    "start_time": "2023-05-23T06:53:14.817Z"
   },
   {
    "duration": 723,
    "start_time": "2023-05-23T06:53:15.118Z"
   },
   {
    "duration": 479,
    "start_time": "2023-05-23T06:53:15.842Z"
   },
   {
    "duration": 4,
    "start_time": "2023-05-23T06:53:16.323Z"
   },
   {
    "duration": 109,
    "start_time": "2023-05-23T06:53:16.329Z"
   },
   {
    "duration": 18,
    "start_time": "2023-05-23T06:53:16.440Z"
   },
   {
    "duration": 21398,
    "start_time": "2023-05-23T06:53:16.460Z"
   },
   {
    "duration": 405,
    "start_time": "2023-05-23T06:53:37.860Z"
   },
   {
    "duration": 1709,
    "start_time": "2023-05-23T06:53:38.357Z"
   },
   {
    "duration": 57,
    "start_time": "2023-05-23T06:53:40.068Z"
   },
   {
    "duration": 3,
    "start_time": "2023-05-23T06:53:40.128Z"
   },
   {
    "duration": 747627,
    "start_time": "2023-05-23T06:53:40.132Z"
   },
   {
    "duration": 31890,
    "start_time": "2023-05-23T07:06:07.761Z"
   },
   {
    "duration": 67,
    "start_time": "2023-05-23T07:06:39.655Z"
   },
   {
    "duration": 5,
    "start_time": "2023-05-23T07:06:39.725Z"
   },
   {
    "duration": 671237,
    "start_time": "2023-05-23T07:06:39.732Z"
   },
   {
    "duration": 130,
    "start_time": "2023-05-23T07:17:50.970Z"
   },
   {
    "duration": 0,
    "start_time": "2023-05-23T07:17:51.102Z"
   },
   {
    "duration": 0,
    "start_time": "2023-05-23T07:17:51.103Z"
   },
   {
    "duration": 0,
    "start_time": "2023-05-23T07:17:51.105Z"
   },
   {
    "duration": 0,
    "start_time": "2023-05-23T07:17:51.106Z"
   },
   {
    "duration": 0,
    "start_time": "2023-05-23T07:17:51.107Z"
   },
   {
    "duration": 0,
    "start_time": "2023-05-23T07:17:51.108Z"
   },
   {
    "duration": 0,
    "start_time": "2023-05-23T07:17:51.109Z"
   },
   {
    "duration": 11,
    "start_time": "2023-05-23T07:20:27.060Z"
   },
   {
    "duration": 22,
    "start_time": "2023-05-23T07:20:37.409Z"
   },
   {
    "duration": 10,
    "start_time": "2023-05-23T07:20:55.992Z"
   },
   {
    "duration": 12,
    "start_time": "2023-05-23T07:31:12.911Z"
   },
   {
    "duration": 3,
    "start_time": "2023-05-23T07:31:23.423Z"
   },
   {
    "duration": 13,
    "start_time": "2023-05-23T07:31:24.829Z"
   },
   {
    "duration": 54,
    "start_time": "2023-05-23T07:32:30.906Z"
   },
   {
    "duration": 54,
    "start_time": "2023-05-23T07:33:21.809Z"
   },
   {
    "duration": 3021,
    "start_time": "2023-05-23T07:33:33.134Z"
   },
   {
    "duration": 15,
    "start_time": "2023-05-23T07:34:21.390Z"
   },
   {
    "duration": 83581,
    "start_time": "2023-05-23T07:35:02.202Z"
   },
   {
    "duration": 0,
    "start_time": "2023-05-23T07:36:25.857Z"
   },
   {
    "duration": 62,
    "start_time": "2023-05-23T07:36:29.000Z"
   },
   {
    "duration": 15,
    "start_time": "2023-05-23T07:36:32.548Z"
   },
   {
    "duration": 46,
    "start_time": "2023-05-23T07:37:03.290Z"
   },
   {
    "duration": 2088,
    "start_time": "2023-05-23T07:37:03.339Z"
   },
   {
    "duration": 1523,
    "start_time": "2023-05-23T07:37:05.429Z"
   },
   {
    "duration": 862,
    "start_time": "2023-05-23T07:37:06.955Z"
   },
   {
    "duration": 4,
    "start_time": "2023-05-23T07:37:07.819Z"
   },
   {
    "duration": 383,
    "start_time": "2023-05-23T07:37:07.825Z"
   },
   {
    "duration": 5,
    "start_time": "2023-05-23T07:37:08.210Z"
   },
   {
    "duration": 42,
    "start_time": "2023-05-23T07:37:08.216Z"
   },
   {
    "duration": 32,
    "start_time": "2023-05-23T07:37:08.260Z"
   },
   {
    "duration": 71,
    "start_time": "2023-05-23T07:37:08.295Z"
   },
   {
    "duration": 50,
    "start_time": "2023-05-23T07:37:08.368Z"
   },
   {
    "duration": 61,
    "start_time": "2023-05-23T07:37:08.420Z"
   },
   {
    "duration": 33,
    "start_time": "2023-05-23T07:37:08.482Z"
   },
   {
    "duration": 24,
    "start_time": "2023-05-23T07:37:08.517Z"
   },
   {
    "duration": 46,
    "start_time": "2023-05-23T07:37:08.544Z"
   },
   {
    "duration": 23,
    "start_time": "2023-05-23T07:37:08.592Z"
   },
   {
    "duration": 35,
    "start_time": "2023-05-23T07:37:08.617Z"
   },
   {
    "duration": 65,
    "start_time": "2023-05-23T07:37:08.653Z"
   },
   {
    "duration": 5,
    "start_time": "2023-05-23T07:37:08.720Z"
   },
   {
    "duration": 61,
    "start_time": "2023-05-23T07:37:08.727Z"
   },
   {
    "duration": 11,
    "start_time": "2023-05-23T07:37:08.790Z"
   },
   {
    "duration": 357,
    "start_time": "2023-05-23T07:37:08.803Z"
   },
   {
    "duration": 34,
    "start_time": "2023-05-23T07:37:09.162Z"
   },
   {
    "duration": 80,
    "start_time": "2023-05-23T07:37:09.198Z"
   },
   {
    "duration": 222,
    "start_time": "2023-05-23T07:37:09.280Z"
   },
   {
    "duration": 9,
    "start_time": "2023-05-23T07:37:09.504Z"
   },
   {
    "duration": 251,
    "start_time": "2023-05-23T07:37:09.514Z"
   },
   {
    "duration": 31,
    "start_time": "2023-05-23T07:37:09.768Z"
   },
   {
    "duration": 9,
    "start_time": "2023-05-23T07:37:09.801Z"
   },
   {
    "duration": 369,
    "start_time": "2023-05-23T07:37:09.812Z"
   },
   {
    "duration": 161,
    "start_time": "2023-05-23T07:37:10.183Z"
   },
   {
    "duration": 161,
    "start_time": "2023-05-23T07:37:10.346Z"
   },
   {
    "duration": 324,
    "start_time": "2023-05-23T07:37:10.509Z"
   },
   {
    "duration": 875,
    "start_time": "2023-05-23T07:37:10.835Z"
   },
   {
    "duration": 495,
    "start_time": "2023-05-23T07:37:11.712Z"
   },
   {
    "duration": 4,
    "start_time": "2023-05-23T07:37:12.209Z"
   },
   {
    "duration": 120,
    "start_time": "2023-05-23T07:37:12.214Z"
   },
   {
    "duration": 21,
    "start_time": "2023-05-23T07:37:12.336Z"
   },
   {
    "duration": 24104,
    "start_time": "2023-05-23T07:37:12.359Z"
   },
   {
    "duration": 399,
    "start_time": "2023-05-23T07:37:36.465Z"
   },
   {
    "duration": 1687,
    "start_time": "2023-05-23T07:37:36.865Z"
   },
   {
    "duration": 59,
    "start_time": "2023-05-23T07:37:38.557Z"
   },
   {
    "duration": 2,
    "start_time": "2023-05-23T07:37:38.618Z"
   },
   {
    "duration": 768782,
    "start_time": "2023-05-23T07:37:38.622Z"
   },
   {
    "duration": 33951,
    "start_time": "2023-05-23T07:50:27.407Z"
   },
   {
    "duration": 63,
    "start_time": "2023-05-23T07:51:01.360Z"
   },
   {
    "duration": 33,
    "start_time": "2023-05-23T07:51:01.426Z"
   },
   {
    "duration": 31,
    "start_time": "2023-05-23T07:51:01.462Z"
   },
   {
    "duration": 130569,
    "start_time": "2023-05-23T07:51:01.495Z"
   },
   {
    "duration": 0,
    "start_time": "2023-05-23T07:53:12.067Z"
   },
   {
    "duration": 0,
    "start_time": "2023-05-23T07:53:12.069Z"
   },
   {
    "duration": 0,
    "start_time": "2023-05-23T07:53:12.070Z"
   },
   {
    "duration": 0,
    "start_time": "2023-05-23T07:53:12.072Z"
   },
   {
    "duration": 0,
    "start_time": "2023-05-23T07:53:12.074Z"
   },
   {
    "duration": 0,
    "start_time": "2023-05-23T07:53:12.075Z"
   },
   {
    "duration": 0,
    "start_time": "2023-05-23T07:53:12.077Z"
   },
   {
    "duration": 0,
    "start_time": "2023-05-23T07:53:12.078Z"
   },
   {
    "duration": 0,
    "start_time": "2023-05-23T07:53:12.080Z"
   },
   {
    "duration": 52,
    "start_time": "2023-05-23T07:53:37.255Z"
   },
   {
    "duration": 2331,
    "start_time": "2023-05-23T07:53:37.310Z"
   },
   {
    "duration": 1551,
    "start_time": "2023-05-23T07:53:39.643Z"
   },
   {
    "duration": 936,
    "start_time": "2023-05-23T07:53:41.197Z"
   },
   {
    "duration": 4,
    "start_time": "2023-05-23T07:53:42.135Z"
   },
   {
    "duration": 372,
    "start_time": "2023-05-23T07:53:42.141Z"
   },
   {
    "duration": 6,
    "start_time": "2023-05-23T07:53:42.515Z"
   },
   {
    "duration": 26,
    "start_time": "2023-05-23T07:53:42.523Z"
   },
   {
    "duration": 32,
    "start_time": "2023-05-23T07:53:42.552Z"
   },
   {
    "duration": 49,
    "start_time": "2023-05-23T07:53:42.587Z"
   },
   {
    "duration": 32,
    "start_time": "2023-05-23T07:53:42.639Z"
   },
   {
    "duration": 52,
    "start_time": "2023-05-23T07:53:42.673Z"
   },
   {
    "duration": 44,
    "start_time": "2023-05-23T07:53:42.727Z"
   },
   {
    "duration": 18,
    "start_time": "2023-05-23T07:53:42.772Z"
   },
   {
    "duration": 30,
    "start_time": "2023-05-23T07:53:42.792Z"
   },
   {
    "duration": 51,
    "start_time": "2023-05-23T07:53:42.824Z"
   },
   {
    "duration": 51,
    "start_time": "2023-05-23T07:53:42.878Z"
   },
   {
    "duration": 82,
    "start_time": "2023-05-23T07:53:42.935Z"
   },
   {
    "duration": 7,
    "start_time": "2023-05-23T07:53:43.020Z"
   },
   {
    "duration": 58,
    "start_time": "2023-05-23T07:53:43.028Z"
   },
   {
    "duration": 15,
    "start_time": "2023-05-23T07:53:43.089Z"
   },
   {
    "duration": 299,
    "start_time": "2023-05-23T07:53:43.106Z"
   },
   {
    "duration": 49,
    "start_time": "2023-05-23T07:53:43.407Z"
   },
   {
    "duration": 73,
    "start_time": "2023-05-23T07:53:43.458Z"
   },
   {
    "duration": 271,
    "start_time": "2023-05-23T07:53:43.533Z"
   },
   {
    "duration": 9,
    "start_time": "2023-05-23T07:53:43.806Z"
   },
   {
    "duration": 299,
    "start_time": "2023-05-23T07:53:43.817Z"
   },
   {
    "duration": 44,
    "start_time": "2023-05-23T07:53:44.119Z"
   },
   {
    "duration": 10,
    "start_time": "2023-05-23T07:53:44.165Z"
   },
   {
    "duration": 383,
    "start_time": "2023-05-23T07:53:44.176Z"
   },
   {
    "duration": 166,
    "start_time": "2023-05-23T07:53:44.561Z"
   },
   {
    "duration": 205,
    "start_time": "2023-05-23T07:53:44.729Z"
   },
   {
    "duration": 439,
    "start_time": "2023-05-23T07:53:44.936Z"
   },
   {
    "duration": 973,
    "start_time": "2023-05-23T07:53:45.377Z"
   },
   {
    "duration": 505,
    "start_time": "2023-05-23T07:53:46.352Z"
   },
   {
    "duration": 5,
    "start_time": "2023-05-23T07:53:46.859Z"
   },
   {
    "duration": 158,
    "start_time": "2023-05-23T07:53:46.866Z"
   },
   {
    "duration": 34,
    "start_time": "2023-05-23T07:53:47.027Z"
   },
   {
    "duration": 33207,
    "start_time": "2023-05-23T07:53:47.063Z"
   },
   {
    "duration": 500,
    "start_time": "2023-05-23T07:54:20.357Z"
   },
   {
    "duration": 1640,
    "start_time": "2023-05-23T07:54:20.859Z"
   },
   {
    "duration": 91,
    "start_time": "2023-05-23T07:54:22.501Z"
   },
   {
    "duration": 4,
    "start_time": "2023-05-23T07:54:22.594Z"
   },
   {
    "duration": 761481,
    "start_time": "2023-05-23T07:54:22.600Z"
   },
   {
    "duration": 51,
    "start_time": "2023-05-23T08:08:31.894Z"
   },
   {
    "duration": 2161,
    "start_time": "2023-05-23T08:08:31.947Z"
   },
   {
    "duration": 1493,
    "start_time": "2023-05-23T08:08:34.111Z"
   },
   {
    "duration": 2877,
    "start_time": "2023-05-23T08:08:35.606Z"
   },
   {
    "duration": 4,
    "start_time": "2023-05-23T08:08:38.485Z"
   },
   {
    "duration": 424,
    "start_time": "2023-05-23T08:08:38.491Z"
   },
   {
    "duration": 7,
    "start_time": "2023-05-23T08:08:38.917Z"
   },
   {
    "duration": 6,
    "start_time": "2023-05-23T08:08:38.927Z"
   },
   {
    "duration": 12,
    "start_time": "2023-05-23T08:08:38.956Z"
   },
   {
    "duration": 63,
    "start_time": "2023-05-23T08:08:38.972Z"
   },
   {
    "duration": 52,
    "start_time": "2023-05-23T08:08:39.058Z"
   },
   {
    "duration": 60,
    "start_time": "2023-05-23T08:08:39.112Z"
   },
   {
    "duration": 34,
    "start_time": "2023-05-23T08:08:39.174Z"
   },
   {
    "duration": 31,
    "start_time": "2023-05-23T08:08:39.210Z"
   },
   {
    "duration": 52,
    "start_time": "2023-05-23T08:08:39.256Z"
   },
   {
    "duration": 30,
    "start_time": "2023-05-23T08:08:39.310Z"
   },
   {
    "duration": 43,
    "start_time": "2023-05-23T08:08:39.343Z"
   },
   {
    "duration": 84,
    "start_time": "2023-05-23T08:08:39.388Z"
   },
   {
    "duration": 6,
    "start_time": "2023-05-23T08:08:39.474Z"
   },
   {
    "duration": 45,
    "start_time": "2023-05-23T08:08:39.482Z"
   },
   {
    "duration": 28,
    "start_time": "2023-05-23T08:08:39.529Z"
   },
   {
    "duration": 276,
    "start_time": "2023-05-23T08:08:39.559Z"
   },
   {
    "duration": 43,
    "start_time": "2023-05-23T08:08:39.836Z"
   },
   {
    "duration": 77,
    "start_time": "2023-05-23T08:08:39.881Z"
   },
   {
    "duration": 251,
    "start_time": "2023-05-23T08:08:39.959Z"
   },
   {
    "duration": 11,
    "start_time": "2023-05-23T08:08:40.212Z"
   },
   {
    "duration": 279,
    "start_time": "2023-05-23T08:08:40.224Z"
   },
   {
    "duration": 32,
    "start_time": "2023-05-23T08:08:40.507Z"
   },
   {
    "duration": 19,
    "start_time": "2023-05-23T08:08:40.542Z"
   },
   {
    "duration": 379,
    "start_time": "2023-05-23T08:08:40.563Z"
   },
   {
    "duration": 158,
    "start_time": "2023-05-23T08:08:40.944Z"
   },
   {
    "duration": 153,
    "start_time": "2023-05-23T08:08:41.104Z"
   },
   {
    "duration": 325,
    "start_time": "2023-05-23T08:08:41.259Z"
   },
   {
    "duration": 753,
    "start_time": "2023-05-23T08:08:41.586Z"
   },
   {
    "duration": 494,
    "start_time": "2023-05-23T08:08:42.341Z"
   },
   {
    "duration": 4,
    "start_time": "2023-05-23T08:08:42.838Z"
   },
   {
    "duration": 112,
    "start_time": "2023-05-23T08:08:42.844Z"
   },
   {
    "duration": 16,
    "start_time": "2023-05-23T08:08:42.958Z"
   },
   {
    "duration": 21687,
    "start_time": "2023-05-23T08:08:42.976Z"
   },
   {
    "duration": 499,
    "start_time": "2023-05-23T08:09:04.665Z"
   },
   {
    "duration": 1545,
    "start_time": "2023-05-23T08:09:05.256Z"
   },
   {
    "duration": 66,
    "start_time": "2023-05-23T08:09:06.802Z"
   },
   {
    "duration": 248837,
    "start_time": "2023-05-23T08:09:06.870Z"
   },
   {
    "duration": 31778,
    "start_time": "2023-05-23T08:13:15.709Z"
   },
   {
    "duration": 70,
    "start_time": "2023-05-23T08:13:47.489Z"
   },
   {
    "duration": 3,
    "start_time": "2023-05-23T08:13:47.561Z"
   },
   {
    "duration": 168500,
    "start_time": "2023-05-23T08:13:47.566Z"
   },
   {
    "duration": 47,
    "start_time": "2023-05-23T08:16:36.068Z"
   },
   {
    "duration": 0,
    "start_time": "2023-05-23T08:16:36.116Z"
   },
   {
    "duration": 0,
    "start_time": "2023-05-23T08:16:36.118Z"
   },
   {
    "duration": 0,
    "start_time": "2023-05-23T08:16:36.118Z"
   },
   {
    "duration": 0,
    "start_time": "2023-05-23T08:16:36.119Z"
   },
   {
    "duration": 0,
    "start_time": "2023-05-23T08:16:36.120Z"
   },
   {
    "duration": 0,
    "start_time": "2023-05-23T08:16:36.121Z"
   },
   {
    "duration": 0,
    "start_time": "2023-05-23T08:16:36.122Z"
   },
   {
    "duration": 0,
    "start_time": "2023-05-23T08:16:36.123Z"
   },
   {
    "duration": 0,
    "start_time": "2023-05-23T08:16:36.124Z"
   },
   {
    "duration": 1,
    "start_time": "2023-05-23T08:16:36.125Z"
   },
   {
    "duration": 0,
    "start_time": "2023-05-23T08:16:36.127Z"
   },
   {
    "duration": 41974,
    "start_time": "2023-05-23T08:17:14.397Z"
   },
   {
    "duration": 20769,
    "start_time": "2023-05-23T08:18:01.303Z"
   },
   {
    "duration": 20253,
    "start_time": "2023-05-23T08:19:10.628Z"
   },
   {
    "duration": 119,
    "start_time": "2023-05-23T08:19:48.181Z"
   },
   {
    "duration": 189,
    "start_time": "2023-05-23T08:19:58.166Z"
   },
   {
    "duration": 2,
    "start_time": "2023-05-23T08:20:04.511Z"
   },
   {
    "duration": 3632,
    "start_time": "2023-05-23T08:20:15.157Z"
   },
   {
    "duration": 16,
    "start_time": "2023-05-23T08:22:07.202Z"
   },
   {
    "duration": 3485,
    "start_time": "2023-05-23T08:22:20.455Z"
   },
   {
    "duration": 3102,
    "start_time": "2023-05-23T08:22:44.120Z"
   },
   {
    "duration": 2146,
    "start_time": "2023-05-23T08:23:12.994Z"
   },
   {
    "duration": 67993,
    "start_time": "2023-05-23T08:23:27.062Z"
   },
   {
    "duration": 999,
    "start_time": "2023-05-23T08:25:03.158Z"
   },
   {
    "duration": 1026,
    "start_time": "2023-05-23T08:29:36.217Z"
   },
   {
    "duration": 56,
    "start_time": "2023-05-23T08:30:06.361Z"
   },
   {
    "duration": 2365,
    "start_time": "2023-05-23T08:30:06.418Z"
   },
   {
    "duration": 1544,
    "start_time": "2023-05-23T08:30:08.785Z"
   },
   {
    "duration": 946,
    "start_time": "2023-05-23T08:30:10.332Z"
   },
   {
    "duration": 5,
    "start_time": "2023-05-23T08:30:11.280Z"
   },
   {
    "duration": 387,
    "start_time": "2023-05-23T08:30:11.288Z"
   },
   {
    "duration": 5,
    "start_time": "2023-05-23T08:30:11.677Z"
   },
   {
    "duration": 22,
    "start_time": "2023-05-23T08:30:11.684Z"
   },
   {
    "duration": 18,
    "start_time": "2023-05-23T08:30:11.708Z"
   },
   {
    "duration": 58,
    "start_time": "2023-05-23T08:30:11.729Z"
   },
   {
    "duration": 43,
    "start_time": "2023-05-23T08:30:11.789Z"
   },
   {
    "duration": 68,
    "start_time": "2023-05-23T08:30:11.835Z"
   },
   {
    "duration": 35,
    "start_time": "2023-05-23T08:30:11.905Z"
   },
   {
    "duration": 18,
    "start_time": "2023-05-23T08:30:11.957Z"
   },
   {
    "duration": 31,
    "start_time": "2023-05-23T08:30:11.977Z"
   },
   {
    "duration": 23,
    "start_time": "2023-05-23T08:30:12.010Z"
   },
   {
    "duration": 56,
    "start_time": "2023-05-23T08:30:12.035Z"
   },
   {
    "duration": 81,
    "start_time": "2023-05-23T08:30:12.093Z"
   },
   {
    "duration": 10,
    "start_time": "2023-05-23T08:30:12.176Z"
   },
   {
    "duration": 53,
    "start_time": "2023-05-23T08:30:12.188Z"
   },
   {
    "duration": 13,
    "start_time": "2023-05-23T08:30:12.257Z"
   },
   {
    "duration": 297,
    "start_time": "2023-05-23T08:30:12.272Z"
   },
   {
    "duration": 34,
    "start_time": "2023-05-23T08:30:12.570Z"
   },
   {
    "duration": 87,
    "start_time": "2023-05-23T08:30:12.606Z"
   },
   {
    "duration": 243,
    "start_time": "2023-05-23T08:30:12.695Z"
   },
   {
    "duration": 22,
    "start_time": "2023-05-23T08:30:12.940Z"
   },
   {
    "duration": 281,
    "start_time": "2023-05-23T08:30:12.963Z"
   },
   {
    "duration": 37,
    "start_time": "2023-05-23T08:30:13.249Z"
   },
   {
    "duration": 30,
    "start_time": "2023-05-23T08:30:13.288Z"
   },
   {
    "duration": 379,
    "start_time": "2023-05-23T08:30:13.320Z"
   },
   {
    "duration": 162,
    "start_time": "2023-05-23T08:30:13.701Z"
   },
   {
    "duration": 157,
    "start_time": "2023-05-23T08:30:13.864Z"
   },
   {
    "duration": 358,
    "start_time": "2023-05-23T08:30:14.023Z"
   },
   {
    "duration": 1080,
    "start_time": "2023-05-23T08:30:14.383Z"
   },
   {
    "duration": 508,
    "start_time": "2023-05-23T08:30:15.465Z"
   },
   {
    "duration": 12,
    "start_time": "2023-05-23T08:30:15.975Z"
   },
   {
    "duration": 132,
    "start_time": "2023-05-23T08:30:15.990Z"
   },
   {
    "duration": 18,
    "start_time": "2023-05-23T08:30:16.124Z"
   },
   {
    "duration": 26610,
    "start_time": "2023-05-23T08:30:16.156Z"
   },
   {
    "duration": 492,
    "start_time": "2023-05-23T08:30:42.768Z"
   },
   {
    "duration": 1702,
    "start_time": "2023-05-23T08:30:43.262Z"
   },
   {
    "duration": 62,
    "start_time": "2023-05-23T08:30:44.966Z"
   },
   {
    "duration": 268659,
    "start_time": "2023-05-23T08:30:45.030Z"
   },
   {
    "duration": 34849,
    "start_time": "2023-05-23T08:35:13.691Z"
   },
   {
    "duration": 74,
    "start_time": "2023-05-23T08:35:48.542Z"
   },
   {
    "duration": 865762,
    "start_time": "2023-05-23T08:35:48.618Z"
   },
   {
    "duration": 87,
    "start_time": "2023-05-23T08:50:14.381Z"
   },
   {
    "duration": 16,
    "start_time": "2023-05-23T08:50:14.471Z"
   },
   {
    "duration": 0,
    "start_time": "2023-05-23T08:50:14.489Z"
   },
   {
    "duration": 0,
    "start_time": "2023-05-23T08:50:14.490Z"
   },
   {
    "duration": 0,
    "start_time": "2023-05-23T08:50:14.491Z"
   },
   {
    "duration": 0,
    "start_time": "2023-05-23T08:50:14.493Z"
   },
   {
    "duration": 0,
    "start_time": "2023-05-23T08:50:14.494Z"
   },
   {
    "duration": 0,
    "start_time": "2023-05-23T08:50:14.495Z"
   },
   {
    "duration": 0,
    "start_time": "2023-05-23T08:50:14.496Z"
   },
   {
    "duration": 0,
    "start_time": "2023-05-23T08:50:14.497Z"
   },
   {
    "duration": 0,
    "start_time": "2023-05-23T08:50:14.498Z"
   },
   {
    "duration": 23037,
    "start_time": "2023-05-23T08:50:16.922Z"
   },
   {
    "duration": 173809,
    "start_time": "2023-05-23T08:50:53.569Z"
   },
   {
    "duration": 110997,
    "start_time": "2023-05-23T08:54:14.473Z"
   },
   {
    "duration": 142021,
    "start_time": "2023-05-23T08:56:25.746Z"
   },
   {
    "duration": 22396,
    "start_time": "2023-05-23T09:01:12.698Z"
   },
   {
    "duration": 59,
    "start_time": "2023-05-23T09:11:55.424Z"
   },
   {
    "duration": 2323,
    "start_time": "2023-05-23T09:11:55.485Z"
   },
   {
    "duration": 1673,
    "start_time": "2023-05-23T09:11:57.810Z"
   },
   {
    "duration": 929,
    "start_time": "2023-05-23T09:11:59.485Z"
   },
   {
    "duration": 4,
    "start_time": "2023-05-23T09:12:00.415Z"
   },
   {
    "duration": 606,
    "start_time": "2023-05-23T09:12:00.421Z"
   },
   {
    "duration": 5,
    "start_time": "2023-05-23T09:12:01.029Z"
   },
   {
    "duration": 72,
    "start_time": "2023-05-23T09:12:01.037Z"
   },
   {
    "duration": 95,
    "start_time": "2023-05-23T09:12:01.111Z"
   },
   {
    "duration": 89,
    "start_time": "2023-05-23T09:12:01.209Z"
   },
   {
    "duration": 93,
    "start_time": "2023-05-23T09:12:01.300Z"
   },
   {
    "duration": 101,
    "start_time": "2023-05-23T09:12:01.395Z"
   },
   {
    "duration": 85,
    "start_time": "2023-05-23T09:12:01.497Z"
   },
   {
    "duration": 78,
    "start_time": "2023-05-23T09:12:01.585Z"
   },
   {
    "duration": 106,
    "start_time": "2023-05-23T09:12:01.666Z"
   },
   {
    "duration": 188,
    "start_time": "2023-05-23T09:12:01.774Z"
   },
   {
    "duration": 75,
    "start_time": "2023-05-23T09:12:01.964Z"
   },
   {
    "duration": 83,
    "start_time": "2023-05-23T09:12:02.041Z"
   },
   {
    "duration": 25,
    "start_time": "2023-05-23T09:12:02.126Z"
   },
   {
    "duration": 89,
    "start_time": "2023-05-23T09:12:02.153Z"
   },
   {
    "duration": 11,
    "start_time": "2023-05-23T09:12:02.243Z"
   },
   {
    "duration": 342,
    "start_time": "2023-05-23T09:12:02.259Z"
   },
   {
    "duration": 36,
    "start_time": "2023-05-23T09:12:02.603Z"
   },
   {
    "duration": 90,
    "start_time": "2023-05-23T09:12:02.642Z"
   },
   {
    "duration": 260,
    "start_time": "2023-05-23T09:12:02.735Z"
   },
   {
    "duration": 12,
    "start_time": "2023-05-23T09:12:02.997Z"
   },
   {
    "duration": 349,
    "start_time": "2023-05-23T09:12:03.010Z"
   },
   {
    "duration": 31,
    "start_time": "2023-05-23T09:12:03.363Z"
   },
   {
    "duration": 13,
    "start_time": "2023-05-23T09:12:03.396Z"
   },
   {
    "duration": 407,
    "start_time": "2023-05-23T09:12:03.412Z"
   },
   {
    "duration": 240,
    "start_time": "2023-05-23T09:12:03.821Z"
   },
   {
    "duration": 180,
    "start_time": "2023-05-23T09:12:04.063Z"
   },
   {
    "duration": 348,
    "start_time": "2023-05-23T09:12:04.245Z"
   },
   {
    "duration": 1030,
    "start_time": "2023-05-23T09:12:04.595Z"
   },
   {
    "duration": 494,
    "start_time": "2023-05-23T09:12:05.627Z"
   },
   {
    "duration": 4,
    "start_time": "2023-05-23T09:12:06.123Z"
   },
   {
    "duration": 125,
    "start_time": "2023-05-23T09:12:06.129Z"
   },
   {
    "duration": 18,
    "start_time": "2023-05-23T09:12:06.256Z"
   },
   {
    "duration": 29981,
    "start_time": "2023-05-23T09:12:06.277Z"
   },
   {
    "duration": 498,
    "start_time": "2023-05-23T09:12:36.260Z"
   },
   {
    "duration": 1645,
    "start_time": "2023-05-23T09:12:36.761Z"
   },
   {
    "duration": 71,
    "start_time": "2023-05-23T09:12:38.408Z"
   },
   {
    "duration": 258729,
    "start_time": "2023-05-23T09:12:38.481Z"
   },
   {
    "duration": 34286,
    "start_time": "2023-05-23T09:16:57.212Z"
   },
   {
    "duration": 74,
    "start_time": "2023-05-23T09:17:31.500Z"
   },
   {
    "duration": 476196,
    "start_time": "2023-05-23T09:17:31.576Z"
   },
   {
    "duration": 17196,
    "start_time": "2023-05-23T09:25:27.773Z"
   },
   {
    "duration": 201,
    "start_time": "2023-05-23T09:25:44.971Z"
   },
   {
    "duration": 24229,
    "start_time": "2023-05-23T09:25:45.173Z"
   },
   {
    "duration": 16,
    "start_time": "2023-05-23T09:26:09.404Z"
   },
   {
    "duration": 0,
    "start_time": "2023-05-23T09:26:09.422Z"
   },
   {
    "duration": 0,
    "start_time": "2023-05-23T09:26:09.423Z"
   },
   {
    "duration": 0,
    "start_time": "2023-05-23T09:26:09.424Z"
   },
   {
    "duration": 0,
    "start_time": "2023-05-23T09:26:09.425Z"
   },
   {
    "duration": 0,
    "start_time": "2023-05-23T09:26:09.427Z"
   },
   {
    "duration": 1608631,
    "start_time": "2023-05-23T09:26:17.041Z"
   },
   {
    "duration": 85,
    "start_time": "2023-05-23T11:21:10.915Z"
   },
   {
    "duration": 2640,
    "start_time": "2023-05-23T11:21:11.007Z"
   },
   {
    "duration": 1737,
    "start_time": "2023-05-23T11:21:13.649Z"
   },
   {
    "duration": 1022,
    "start_time": "2023-05-23T11:21:15.389Z"
   },
   {
    "duration": 4,
    "start_time": "2023-05-23T11:21:16.421Z"
   },
   {
    "duration": 473,
    "start_time": "2023-05-23T11:21:16.428Z"
   },
   {
    "duration": 14,
    "start_time": "2023-05-23T11:21:16.903Z"
   },
   {
    "duration": 7,
    "start_time": "2023-05-23T11:21:16.919Z"
   },
   {
    "duration": 16,
    "start_time": "2023-05-23T11:21:16.928Z"
   },
   {
    "duration": 76,
    "start_time": "2023-05-23T11:21:16.948Z"
   },
   {
    "duration": 53,
    "start_time": "2023-05-23T11:21:17.026Z"
   },
   {
    "duration": 78,
    "start_time": "2023-05-23T11:21:17.083Z"
   },
   {
    "duration": 52,
    "start_time": "2023-05-23T11:21:17.163Z"
   },
   {
    "duration": 22,
    "start_time": "2023-05-23T11:21:17.219Z"
   },
   {
    "duration": 75,
    "start_time": "2023-05-23T11:21:17.244Z"
   },
   {
    "duration": 18,
    "start_time": "2023-05-23T11:21:17.321Z"
   },
   {
    "duration": 62,
    "start_time": "2023-05-23T11:21:17.341Z"
   },
   {
    "duration": 119,
    "start_time": "2023-05-23T11:21:17.405Z"
   },
   {
    "duration": 8,
    "start_time": "2023-05-23T11:21:17.526Z"
   },
   {
    "duration": 47,
    "start_time": "2023-05-23T11:21:17.535Z"
   },
   {
    "duration": 11,
    "start_time": "2023-05-23T11:21:17.584Z"
   },
   {
    "duration": 318,
    "start_time": "2023-05-23T11:21:17.597Z"
   },
   {
    "duration": 55,
    "start_time": "2023-05-23T11:21:17.919Z"
   },
   {
    "duration": 149,
    "start_time": "2023-05-23T11:21:17.976Z"
   },
   {
    "duration": 394,
    "start_time": "2023-05-23T11:21:18.128Z"
   },
   {
    "duration": 19,
    "start_time": "2023-05-23T11:21:18.530Z"
   },
   {
    "duration": 411,
    "start_time": "2023-05-23T11:21:18.552Z"
   },
   {
    "duration": 33,
    "start_time": "2023-05-23T11:21:18.966Z"
   },
   {
    "duration": 20,
    "start_time": "2023-05-23T11:21:19.001Z"
   },
   {
    "duration": 494,
    "start_time": "2023-05-23T11:21:19.023Z"
   },
   {
    "duration": 223,
    "start_time": "2023-05-23T11:21:19.520Z"
   },
   {
    "duration": 192,
    "start_time": "2023-05-23T11:21:19.746Z"
   },
   {
    "duration": 396,
    "start_time": "2023-05-23T11:21:19.940Z"
   },
   {
    "duration": 1049,
    "start_time": "2023-05-23T11:21:20.338Z"
   },
   {
    "duration": 537,
    "start_time": "2023-05-23T11:21:21.401Z"
   },
   {
    "duration": 5,
    "start_time": "2023-05-23T11:21:21.940Z"
   },
   {
    "duration": 74567,
    "start_time": "2023-05-23T11:23:31.301Z"
   },
   {
    "duration": 60,
    "start_time": "2023-05-23T11:24:45.872Z"
   },
   {
    "duration": 2578,
    "start_time": "2023-05-23T11:24:45.934Z"
   },
   {
    "duration": 6,
    "start_time": "2023-05-23T11:24:48.515Z"
   },
   {
    "duration": 1086,
    "start_time": "2023-05-23T11:24:48.524Z"
   },
   {
    "duration": 11,
    "start_time": "2023-05-23T11:24:49.621Z"
   },
   {
    "duration": 447,
    "start_time": "2023-05-23T11:24:49.634Z"
   },
   {
    "duration": 14,
    "start_time": "2023-05-23T11:24:50.087Z"
   },
   {
    "duration": 8,
    "start_time": "2023-05-23T11:24:50.112Z"
   },
   {
    "duration": 14,
    "start_time": "2023-05-23T11:24:50.121Z"
   },
   {
    "duration": 66,
    "start_time": "2023-05-23T11:24:50.137Z"
   },
   {
    "duration": 35,
    "start_time": "2023-05-23T11:24:50.205Z"
   },
   {
    "duration": 57,
    "start_time": "2023-05-23T11:24:50.242Z"
   },
   {
    "duration": 35,
    "start_time": "2023-05-23T11:24:50.308Z"
   },
   {
    "duration": 46,
    "start_time": "2023-05-23T11:24:50.345Z"
   },
   {
    "duration": 53,
    "start_time": "2023-05-23T11:24:50.396Z"
   },
   {
    "duration": 37,
    "start_time": "2023-05-23T11:24:50.451Z"
   },
   {
    "duration": 50,
    "start_time": "2023-05-23T11:24:50.490Z"
   },
   {
    "duration": 97,
    "start_time": "2023-05-23T11:24:50.542Z"
   },
   {
    "duration": 20,
    "start_time": "2023-05-23T11:24:50.641Z"
   },
   {
    "duration": 59,
    "start_time": "2023-05-23T11:24:50.663Z"
   },
   {
    "duration": 12,
    "start_time": "2023-05-23T11:24:50.724Z"
   },
   {
    "duration": 370,
    "start_time": "2023-05-23T11:24:50.738Z"
   },
   {
    "duration": 35,
    "start_time": "2023-05-23T11:24:51.116Z"
   },
   {
    "duration": 126,
    "start_time": "2023-05-23T11:24:51.153Z"
   },
   {
    "duration": 390,
    "start_time": "2023-05-23T11:24:51.281Z"
   },
   {
    "duration": 15,
    "start_time": "2023-05-23T11:24:51.678Z"
   },
   {
    "duration": 323,
    "start_time": "2023-05-23T11:24:51.698Z"
   },
   {
    "duration": 40,
    "start_time": "2023-05-23T11:24:52.023Z"
   },
   {
    "duration": 14,
    "start_time": "2023-05-23T11:24:52.065Z"
   },
   {
    "duration": 312,
    "start_time": "2023-05-23T11:24:52.081Z"
   },
   {
    "duration": 176,
    "start_time": "2023-05-23T11:24:52.394Z"
   },
   {
    "duration": 229,
    "start_time": "2023-05-23T11:24:52.572Z"
   },
   {
    "duration": 360,
    "start_time": "2023-05-23T11:24:52.811Z"
   },
   {
    "duration": 1012,
    "start_time": "2023-05-23T11:24:53.176Z"
   },
   {
    "duration": 544,
    "start_time": "2023-05-23T11:24:54.198Z"
   },
   {
    "duration": 35,
    "start_time": "2023-05-23T11:24:54.744Z"
   },
   {
    "duration": 122,
    "start_time": "2023-05-23T11:24:54.791Z"
   },
   {
    "duration": 94,
    "start_time": "2023-05-23T11:25:20.721Z"
   },
   {
    "duration": 2619,
    "start_time": "2023-05-23T11:25:20.818Z"
   },
   {
    "duration": 1835,
    "start_time": "2023-05-23T11:25:23.439Z"
   },
   {
    "duration": 1044,
    "start_time": "2023-05-23T11:25:25.276Z"
   },
   {
    "duration": 5,
    "start_time": "2023-05-23T11:25:26.326Z"
   },
   {
    "duration": 453,
    "start_time": "2023-05-23T11:25:26.338Z"
   },
   {
    "duration": 8,
    "start_time": "2023-05-23T11:25:26.797Z"
   },
   {
    "duration": 9,
    "start_time": "2023-05-23T11:25:26.809Z"
   },
   {
    "duration": 8,
    "start_time": "2023-05-23T11:25:26.820Z"
   },
   {
    "duration": 79,
    "start_time": "2023-05-23T11:25:26.829Z"
   },
   {
    "duration": 31,
    "start_time": "2023-05-23T11:25:26.916Z"
   },
   {
    "duration": 80,
    "start_time": "2023-05-23T11:25:26.949Z"
   },
   {
    "duration": 41,
    "start_time": "2023-05-23T11:25:27.030Z"
   },
   {
    "duration": 30,
    "start_time": "2023-05-23T11:25:27.078Z"
   },
   {
    "duration": 30,
    "start_time": "2023-05-23T11:25:27.110Z"
   },
   {
    "duration": 39,
    "start_time": "2023-05-23T11:25:27.142Z"
   },
   {
    "duration": 46,
    "start_time": "2023-05-23T11:25:27.191Z"
   },
   {
    "duration": 93,
    "start_time": "2023-05-23T11:25:27.239Z"
   },
   {
    "duration": 20,
    "start_time": "2023-05-23T11:25:27.334Z"
   },
   {
    "duration": 73,
    "start_time": "2023-05-23T11:25:27.364Z"
   },
   {
    "duration": 11,
    "start_time": "2023-05-23T11:25:27.439Z"
   },
   {
    "duration": 424,
    "start_time": "2023-05-23T11:25:27.452Z"
   },
   {
    "duration": 45,
    "start_time": "2023-05-23T11:25:27.878Z"
   },
   {
    "duration": 118,
    "start_time": "2023-05-23T11:25:27.925Z"
   },
   {
    "duration": 277,
    "start_time": "2023-05-23T11:25:28.045Z"
   },
   {
    "duration": 9,
    "start_time": "2023-05-23T11:25:28.325Z"
   },
   {
    "duration": 349,
    "start_time": "2023-05-23T11:25:28.336Z"
   },
   {
    "duration": 37,
    "start_time": "2023-05-23T11:25:28.691Z"
   },
   {
    "duration": 10,
    "start_time": "2023-05-23T11:25:28.730Z"
   },
   {
    "duration": 461,
    "start_time": "2023-05-23T11:25:28.742Z"
   },
   {
    "duration": 217,
    "start_time": "2023-05-23T11:25:29.205Z"
   },
   {
    "duration": 192,
    "start_time": "2023-05-23T11:25:29.423Z"
   },
   {
    "duration": 399,
    "start_time": "2023-05-23T11:25:29.618Z"
   },
   {
    "duration": 942,
    "start_time": "2023-05-23T11:25:30.019Z"
   },
   {
    "duration": 535,
    "start_time": "2023-05-23T11:25:30.967Z"
   },
   {
    "duration": 8,
    "start_time": "2023-05-23T11:25:31.503Z"
   },
   {
    "duration": 166,
    "start_time": "2023-05-23T11:31:28.939Z"
   },
   {
    "duration": 23,
    "start_time": "2023-05-23T11:31:32.502Z"
   },
   {
    "duration": 69345,
    "start_time": "2023-05-23T11:31:36.437Z"
   },
   {
    "duration": 411,
    "start_time": "2023-05-23T11:32:53.153Z"
   },
   {
    "duration": 1540,
    "start_time": "2023-05-23T11:33:20.140Z"
   },
   {
    "duration": 65,
    "start_time": "2023-05-23T11:33:28.282Z"
   },
   {
    "duration": 4,
    "start_time": "2023-05-23T11:33:30.339Z"
   },
   {
    "duration": 858053,
    "start_time": "2023-05-23T11:34:37.059Z"
   },
   {
    "duration": 9,
    "start_time": "2023-05-23T12:00:18.669Z"
   },
   {
    "duration": 179,
    "start_time": "2023-05-23T12:00:20.907Z"
   },
   {
    "duration": 4,
    "start_time": "2023-05-23T12:00:30.701Z"
   },
   {
    "duration": 11,
    "start_time": "2023-05-23T12:00:33.937Z"
   },
   {
    "duration": 11,
    "start_time": "2023-05-23T12:01:10.322Z"
   },
   {
    "duration": 99,
    "start_time": "2023-05-23T12:01:17.314Z"
   },
   {
    "duration": 5,
    "start_time": "2023-05-23T12:01:19.019Z"
   },
   {
    "duration": 1383,
    "start_time": "2023-05-23T12:01:31.900Z"
   },
   {
    "duration": 82,
    "start_time": "2023-05-23T12:01:35.201Z"
   },
   {
    "duration": 3,
    "start_time": "2023-05-23T12:01:36.207Z"
   },
   {
    "duration": 3226,
    "start_time": "2023-05-23T12:01:36.681Z"
   },
   {
    "duration": 6209,
    "start_time": "2023-05-23T12:01:43.326Z"
   },
   {
    "duration": 83,
    "start_time": "2023-05-23T12:01:54.251Z"
   },
   {
    "duration": 3,
    "start_time": "2023-05-23T12:01:58.852Z"
   },
   {
    "duration": 19,
    "start_time": "2023-05-23T12:02:01.358Z"
   },
   {
    "duration": 3322,
    "start_time": "2023-05-23T12:02:37.116Z"
   },
   {
    "duration": 2794,
    "start_time": "2023-05-23T12:03:13.812Z"
   },
   {
    "duration": 3156,
    "start_time": "2023-05-23T12:03:22.286Z"
   },
   {
    "duration": 2804,
    "start_time": "2023-05-23T12:03:33.212Z"
   },
   {
    "duration": 22,
    "start_time": "2023-05-23T12:03:46.029Z"
   },
   {
    "duration": 241131,
    "start_time": "2023-05-23T12:04:04.878Z"
   },
   {
    "duration": 58,
    "start_time": "2023-05-23T12:30:58.344Z"
   },
   {
    "duration": 7,
    "start_time": "2023-05-23T12:31:01.065Z"
   },
   {
    "duration": 14,
    "start_time": "2023-05-23T12:31:06.739Z"
   },
   {
    "duration": 0,
    "start_time": "2023-05-23T12:31:18.170Z"
   },
   {
    "duration": 47,
    "start_time": "2023-05-23T12:34:22.506Z"
   },
   {
    "duration": 2226,
    "start_time": "2023-05-23T12:34:22.555Z"
   },
   {
    "duration": 1893,
    "start_time": "2023-05-23T12:34:24.786Z"
   },
   {
    "duration": 904,
    "start_time": "2023-05-23T12:34:26.681Z"
   },
   {
    "duration": 3,
    "start_time": "2023-05-23T12:34:27.587Z"
   },
   {
    "duration": 379,
    "start_time": "2023-05-23T12:34:27.592Z"
   },
   {
    "duration": 5,
    "start_time": "2023-05-23T12:34:27.973Z"
   },
   {
    "duration": 15,
    "start_time": "2023-05-23T12:34:27.980Z"
   },
   {
    "duration": 12,
    "start_time": "2023-05-23T12:34:27.998Z"
   },
   {
    "duration": 70,
    "start_time": "2023-05-23T12:34:28.012Z"
   },
   {
    "duration": 32,
    "start_time": "2023-05-23T12:34:28.084Z"
   },
   {
    "duration": 63,
    "start_time": "2023-05-23T12:34:28.119Z"
   },
   {
    "duration": 29,
    "start_time": "2023-05-23T12:34:28.184Z"
   },
   {
    "duration": 18,
    "start_time": "2023-05-23T12:34:28.214Z"
   },
   {
    "duration": 55,
    "start_time": "2023-05-23T12:34:28.234Z"
   },
   {
    "duration": 19,
    "start_time": "2023-05-23T12:34:28.292Z"
   },
   {
    "duration": 47,
    "start_time": "2023-05-23T12:34:28.313Z"
   },
   {
    "duration": 77,
    "start_time": "2023-05-23T12:34:28.361Z"
   },
   {
    "duration": 21,
    "start_time": "2023-05-23T12:34:28.441Z"
   },
   {
    "duration": 51,
    "start_time": "2023-05-23T12:34:28.465Z"
   },
   {
    "duration": 10,
    "start_time": "2023-05-23T12:34:28.518Z"
   },
   {
    "duration": 339,
    "start_time": "2023-05-23T12:34:28.529Z"
   },
   {
    "duration": 44,
    "start_time": "2023-05-23T12:34:28.873Z"
   },
   {
    "duration": 118,
    "start_time": "2023-05-23T12:34:28.919Z"
   },
   {
    "duration": 277,
    "start_time": "2023-05-23T12:34:29.039Z"
   },
   {
    "duration": 9,
    "start_time": "2023-05-23T12:34:29.318Z"
   },
   {
    "duration": 280,
    "start_time": "2023-05-23T12:34:29.330Z"
   },
   {
    "duration": 30,
    "start_time": "2023-05-23T12:34:29.612Z"
   },
   {
    "duration": 21,
    "start_time": "2023-05-23T12:34:29.656Z"
   },
   {
    "duration": 384,
    "start_time": "2023-05-23T12:34:29.679Z"
   },
   {
    "duration": 151,
    "start_time": "2023-05-23T12:34:30.074Z"
   },
   {
    "duration": 154,
    "start_time": "2023-05-23T12:34:30.227Z"
   },
   {
    "duration": 320,
    "start_time": "2023-05-23T12:34:30.384Z"
   },
   {
    "duration": 1065,
    "start_time": "2023-05-23T12:34:30.706Z"
   },
   {
    "duration": 503,
    "start_time": "2023-05-23T12:34:31.776Z"
   },
   {
    "duration": 4,
    "start_time": "2023-05-23T12:34:32.280Z"
   },
   {
    "duration": 186,
    "start_time": "2023-05-23T12:34:32.286Z"
   },
   {
    "duration": 17,
    "start_time": "2023-05-23T12:34:32.474Z"
   },
   {
    "duration": 44184,
    "start_time": "2023-05-23T12:34:32.493Z"
   },
   {
    "duration": 492,
    "start_time": "2023-05-23T12:35:16.679Z"
   },
   {
    "duration": 1661,
    "start_time": "2023-05-23T12:35:17.173Z"
   },
   {
    "duration": 67,
    "start_time": "2023-05-23T12:35:18.836Z"
   },
   {
    "duration": 3,
    "start_time": "2023-05-23T12:35:18.904Z"
   },
   {
    "duration": 775907,
    "start_time": "2023-05-23T12:35:18.909Z"
   },
   {
    "duration": 52,
    "start_time": "2023-05-23T12:53:27.075Z"
   },
   {
    "duration": 2583,
    "start_time": "2023-05-23T12:53:27.130Z"
   },
   {
    "duration": 1780,
    "start_time": "2023-05-23T12:53:29.715Z"
   },
   {
    "duration": 3433,
    "start_time": "2023-05-23T12:53:31.497Z"
   },
   {
    "duration": 4,
    "start_time": "2023-05-23T12:53:34.933Z"
   },
   {
    "duration": 403,
    "start_time": "2023-05-23T12:53:34.939Z"
   },
   {
    "duration": 15,
    "start_time": "2023-05-23T12:53:35.344Z"
   },
   {
    "duration": 21,
    "start_time": "2023-05-23T12:53:35.367Z"
   },
   {
    "duration": 7,
    "start_time": "2023-05-23T12:53:35.390Z"
   },
   {
    "duration": 59,
    "start_time": "2023-05-23T12:53:35.398Z"
   },
   {
    "duration": 55,
    "start_time": "2023-05-23T12:53:35.458Z"
   },
   {
    "duration": 62,
    "start_time": "2023-05-23T12:53:35.515Z"
   },
   {
    "duration": 36,
    "start_time": "2023-05-23T12:53:35.578Z"
   },
   {
    "duration": 34,
    "start_time": "2023-05-23T12:53:35.617Z"
   },
   {
    "duration": 55,
    "start_time": "2023-05-23T12:53:35.653Z"
   },
   {
    "duration": 39,
    "start_time": "2023-05-23T12:53:35.711Z"
   },
   {
    "duration": 66,
    "start_time": "2023-05-23T12:53:35.752Z"
   },
   {
    "duration": 100,
    "start_time": "2023-05-23T12:53:35.820Z"
   },
   {
    "duration": 15,
    "start_time": "2023-05-23T12:53:35.922Z"
   },
   {
    "duration": 65,
    "start_time": "2023-05-23T12:53:35.939Z"
   },
   {
    "duration": 20,
    "start_time": "2023-05-23T12:53:36.006Z"
   },
   {
    "duration": 309,
    "start_time": "2023-05-23T12:53:36.028Z"
   },
   {
    "duration": 50,
    "start_time": "2023-05-23T12:53:36.339Z"
   },
   {
    "duration": 88,
    "start_time": "2023-05-23T12:53:36.391Z"
   },
   {
    "duration": 261,
    "start_time": "2023-05-23T12:53:36.485Z"
   },
   {
    "duration": 16,
    "start_time": "2023-05-23T12:53:36.748Z"
   },
   {
    "duration": 311,
    "start_time": "2023-05-23T12:53:36.765Z"
   },
   {
    "duration": 34,
    "start_time": "2023-05-23T12:53:37.083Z"
   },
   {
    "duration": 11,
    "start_time": "2023-05-23T12:53:37.119Z"
   },
   {
    "duration": 432,
    "start_time": "2023-05-23T12:53:37.132Z"
   },
   {
    "duration": 167,
    "start_time": "2023-05-23T12:53:37.572Z"
   },
   {
    "duration": 178,
    "start_time": "2023-05-23T12:53:37.741Z"
   },
   {
    "duration": 370,
    "start_time": "2023-05-23T12:53:37.921Z"
   },
   {
    "duration": 1070,
    "start_time": "2023-05-23T12:53:38.293Z"
   },
   {
    "duration": 524,
    "start_time": "2023-05-23T12:53:39.372Z"
   },
   {
    "duration": 4,
    "start_time": "2023-05-23T12:53:39.899Z"
   },
   {
    "duration": 131,
    "start_time": "2023-05-23T12:53:39.905Z"
   },
   {
    "duration": 41,
    "start_time": "2023-05-23T12:53:40.038Z"
   },
   {
    "duration": 60591,
    "start_time": "2023-05-23T12:53:40.086Z"
   },
   {
    "duration": 495,
    "start_time": "2023-05-23T12:54:40.679Z"
   },
   {
    "duration": 1716,
    "start_time": "2023-05-23T12:54:41.182Z"
   },
   {
    "duration": 73,
    "start_time": "2023-05-23T12:54:42.900Z"
   },
   {
    "duration": 376696,
    "start_time": "2023-05-23T13:43:25.390Z"
   },
   {
    "duration": 381,
    "start_time": "2023-05-23T13:51:55.030Z"
   },
   {
    "duration": 57,
    "start_time": "2023-05-23T13:52:11.507Z"
   },
   {
    "duration": 4205,
    "start_time": "2023-05-23T13:52:11.570Z"
   },
   {
    "duration": 6226,
    "start_time": "2023-05-23T13:52:15.777Z"
   },
   {
    "duration": 4097,
    "start_time": "2023-05-23T13:52:22.009Z"
   },
   {
    "duration": 5,
    "start_time": "2023-05-23T13:52:26.109Z"
   },
   {
    "duration": 530,
    "start_time": "2023-05-23T13:52:26.116Z"
   },
   {
    "duration": 17,
    "start_time": "2023-05-23T13:52:26.647Z"
   },
   {
    "duration": 41,
    "start_time": "2023-05-23T13:52:26.666Z"
   },
   {
    "duration": 15,
    "start_time": "2023-05-23T13:52:26.709Z"
   },
   {
    "duration": 69,
    "start_time": "2023-05-23T13:52:26.726Z"
   },
   {
    "duration": 45,
    "start_time": "2023-05-23T13:52:26.798Z"
   },
   {
    "duration": 90,
    "start_time": "2023-05-23T13:52:26.845Z"
   },
   {
    "duration": 55,
    "start_time": "2023-05-23T13:52:26.937Z"
   },
   {
    "duration": 39,
    "start_time": "2023-05-23T13:52:26.997Z"
   },
   {
    "duration": 53,
    "start_time": "2023-05-23T13:52:27.039Z"
   },
   {
    "duration": 47,
    "start_time": "2023-05-23T13:52:27.095Z"
   },
   {
    "duration": 50,
    "start_time": "2023-05-23T13:52:27.146Z"
   },
   {
    "duration": 130,
    "start_time": "2023-05-23T13:52:27.199Z"
   },
   {
    "duration": 10,
    "start_time": "2023-05-23T13:52:27.331Z"
   },
   {
    "duration": 73,
    "start_time": "2023-05-23T13:52:27.343Z"
   },
   {
    "duration": 17,
    "start_time": "2023-05-23T13:52:27.418Z"
   },
   {
    "duration": 403,
    "start_time": "2023-05-23T13:52:27.438Z"
   },
   {
    "duration": 57,
    "start_time": "2023-05-23T13:52:27.843Z"
   },
   {
    "duration": 102,
    "start_time": "2023-05-23T13:52:27.903Z"
   },
   {
    "duration": 310,
    "start_time": "2023-05-23T13:52:28.008Z"
   },
   {
    "duration": 10,
    "start_time": "2023-05-23T13:52:28.319Z"
   },
   {
    "duration": 371,
    "start_time": "2023-05-23T13:52:28.330Z"
   },
   {
    "duration": 42,
    "start_time": "2023-05-23T13:52:28.705Z"
   },
   {
    "duration": 13,
    "start_time": "2023-05-23T13:52:28.751Z"
   },
   {
    "duration": 559,
    "start_time": "2023-05-23T13:52:28.766Z"
   },
   {
    "duration": 230,
    "start_time": "2023-05-23T13:52:29.328Z"
   },
   {
    "duration": 184,
    "start_time": "2023-05-23T13:52:29.559Z"
   },
   {
    "duration": 397,
    "start_time": "2023-05-23T13:52:29.745Z"
   },
   {
    "duration": 1927,
    "start_time": "2023-05-23T13:52:30.144Z"
   },
   {
    "duration": 922,
    "start_time": "2023-05-23T13:52:32.073Z"
   },
   {
    "duration": 5,
    "start_time": "2023-05-23T13:52:32.997Z"
   },
   {
    "duration": 134,
    "start_time": "2023-05-23T13:52:33.004Z"
   },
   {
    "duration": 23,
    "start_time": "2023-05-23T13:52:33.140Z"
   },
   {
    "duration": 45003,
    "start_time": "2023-05-23T13:52:33.165Z"
   },
   {
    "duration": 1050,
    "start_time": "2023-05-23T13:53:18.175Z"
   },
   {
    "duration": 2061,
    "start_time": "2023-05-23T13:53:19.232Z"
   },
   {
    "duration": 314,
    "start_time": "2023-05-23T14:11:53.732Z"
   },
   {
    "duration": 160,
    "start_time": "2023-05-23T14:12:08.087Z"
   },
   {
    "duration": 145,
    "start_time": "2023-05-23T14:12:15.463Z"
   },
   {
    "duration": 6,
    "start_time": "2023-05-23T14:12:16.452Z"
   },
   {
    "duration": 16730,
    "start_time": "2023-05-23T14:12:20.052Z"
   },
   {
    "duration": 33,
    "start_time": "2023-05-23T14:13:32.652Z"
   },
   {
    "duration": 4,
    "start_time": "2023-05-23T14:14:15.901Z"
   },
   {
    "duration": 14283,
    "start_time": "2023-05-23T14:14:17.352Z"
   },
   {
    "duration": 188,
    "start_time": "2023-05-23T14:14:41.452Z"
   },
   {
    "duration": 14409,
    "start_time": "2023-05-23T14:14:46.946Z"
   },
   {
    "duration": 42492,
    "start_time": "2023-05-23T14:15:05.808Z"
   },
   {
    "duration": 18,
    "start_time": "2023-05-23T14:16:08.955Z"
   },
   {
    "duration": 7634,
    "start_time": "2023-05-23T14:16:09.806Z"
   },
   {
    "duration": 9,
    "start_time": "2023-05-23T14:16:26.009Z"
   },
   {
    "duration": 946461,
    "start_time": "2023-05-23T14:16:26.476Z"
   },
   {
    "duration": 75,
    "start_time": "2023-05-23T14:34:12.917Z"
   },
   {
    "duration": 5479,
    "start_time": "2023-05-23T14:34:12.994Z"
   },
   {
    "duration": 6129,
    "start_time": "2023-05-23T14:34:18.476Z"
   },
   {
    "duration": 4601,
    "start_time": "2023-05-23T14:34:24.617Z"
   },
   {
    "duration": 5,
    "start_time": "2023-05-23T14:34:29.220Z"
   },
   {
    "duration": 683,
    "start_time": "2023-05-23T14:34:29.227Z"
   },
   {
    "duration": 6,
    "start_time": "2023-05-23T14:34:29.916Z"
   },
   {
    "duration": 18,
    "start_time": "2023-05-23T14:34:29.928Z"
   },
   {
    "duration": 21,
    "start_time": "2023-05-23T14:34:29.948Z"
   },
   {
    "duration": 95,
    "start_time": "2023-05-23T14:34:29.973Z"
   },
   {
    "duration": 76,
    "start_time": "2023-05-23T14:34:30.070Z"
   },
   {
    "duration": 83,
    "start_time": "2023-05-23T14:34:30.155Z"
   },
   {
    "duration": 67,
    "start_time": "2023-05-23T14:34:30.241Z"
   },
   {
    "duration": 28,
    "start_time": "2023-05-23T14:34:30.317Z"
   },
   {
    "duration": 99,
    "start_time": "2023-05-23T14:34:30.347Z"
   },
   {
    "duration": 62,
    "start_time": "2023-05-23T14:34:30.448Z"
   },
   {
    "duration": 138,
    "start_time": "2023-05-23T14:34:30.512Z"
   },
   {
    "duration": 192,
    "start_time": "2023-05-23T14:34:30.653Z"
   },
   {
    "duration": 43,
    "start_time": "2023-05-23T14:34:30.847Z"
   },
   {
    "duration": 104,
    "start_time": "2023-05-23T14:34:30.893Z"
   },
   {
    "duration": 28,
    "start_time": "2023-05-23T14:34:30.999Z"
   },
   {
    "duration": 366,
    "start_time": "2023-05-23T14:34:31.030Z"
   },
   {
    "duration": 70,
    "start_time": "2023-05-23T14:34:31.398Z"
   },
   {
    "duration": 120,
    "start_time": "2023-05-23T14:34:31.471Z"
   },
   {
    "duration": 344,
    "start_time": "2023-05-23T14:34:31.600Z"
   },
   {
    "duration": 38,
    "start_time": "2023-05-23T14:34:31.946Z"
   },
   {
    "duration": 410,
    "start_time": "2023-05-23T14:34:31.988Z"
   },
   {
    "duration": 40,
    "start_time": "2023-05-23T14:34:32.402Z"
   },
   {
    "duration": 26,
    "start_time": "2023-05-23T14:34:32.445Z"
   },
   {
    "duration": 473,
    "start_time": "2023-05-23T14:34:32.473Z"
   },
   {
    "duration": 237,
    "start_time": "2023-05-23T14:34:32.948Z"
   },
   {
    "duration": 199,
    "start_time": "2023-05-23T14:34:33.200Z"
   },
   {
    "duration": 389,
    "start_time": "2023-05-23T14:34:33.406Z"
   },
   {
    "duration": 994,
    "start_time": "2023-05-23T14:34:33.797Z"
   },
   {
    "duration": 600,
    "start_time": "2023-05-23T14:34:34.795Z"
   },
   {
    "duration": 14,
    "start_time": "2023-05-23T14:34:35.398Z"
   },
   {
    "duration": 214,
    "start_time": "2023-05-23T14:34:35.417Z"
   },
   {
    "duration": 19,
    "start_time": "2023-05-23T14:34:35.634Z"
   },
   {
    "duration": 60755,
    "start_time": "2023-05-23T14:34:35.656Z"
   },
   {
    "duration": 451,
    "start_time": "2023-05-23T14:35:36.414Z"
   },
   {
    "duration": 2042,
    "start_time": "2023-05-23T14:35:36.879Z"
   },
   {
    "duration": 80,
    "start_time": "2023-05-23T14:35:38.929Z"
   },
   {
    "duration": 84,
    "start_time": "2023-05-24T07:34:50.109Z"
   },
   {
    "duration": 2870,
    "start_time": "2023-05-24T07:34:50.195Z"
   },
   {
    "duration": 1934,
    "start_time": "2023-05-24T07:34:53.067Z"
   },
   {
    "duration": 971,
    "start_time": "2023-05-24T07:34:55.003Z"
   },
   {
    "duration": 4,
    "start_time": "2023-05-24T07:34:55.976Z"
   },
   {
    "duration": 497,
    "start_time": "2023-05-24T07:34:55.981Z"
   },
   {
    "duration": 4,
    "start_time": "2023-05-24T07:34:56.480Z"
   },
   {
    "duration": 11,
    "start_time": "2023-05-24T07:34:56.486Z"
   },
   {
    "duration": 12,
    "start_time": "2023-05-24T07:34:56.498Z"
   },
   {
    "duration": 58,
    "start_time": "2023-05-24T07:34:56.524Z"
   },
   {
    "duration": 53,
    "start_time": "2023-05-24T07:34:56.585Z"
   },
   {
    "duration": 106,
    "start_time": "2023-05-24T07:34:56.639Z"
   },
   {
    "duration": 44,
    "start_time": "2023-05-24T07:34:56.755Z"
   },
   {
    "duration": 21,
    "start_time": "2023-05-24T07:34:56.800Z"
   },
   {
    "duration": 63,
    "start_time": "2023-05-24T07:34:56.822Z"
   },
   {
    "duration": 23,
    "start_time": "2023-05-24T07:34:56.887Z"
   },
   {
    "duration": 63,
    "start_time": "2023-05-24T07:34:56.912Z"
   },
   {
    "duration": 103,
    "start_time": "2023-05-24T07:34:56.977Z"
   },
   {
    "duration": 8,
    "start_time": "2023-05-24T07:34:57.082Z"
   },
   {
    "duration": 71,
    "start_time": "2023-05-24T07:34:57.092Z"
   },
   {
    "duration": 10,
    "start_time": "2023-05-24T07:34:57.170Z"
   },
   {
    "duration": 294,
    "start_time": "2023-05-24T07:34:57.182Z"
   },
   {
    "duration": 29,
    "start_time": "2023-05-24T07:34:57.478Z"
   },
   {
    "duration": 107,
    "start_time": "2023-05-24T07:34:57.509Z"
   },
   {
    "duration": 261,
    "start_time": "2023-05-24T07:34:57.623Z"
   },
   {
    "duration": 9,
    "start_time": "2023-05-24T07:34:57.886Z"
   },
   {
    "duration": 295,
    "start_time": "2023-05-24T07:34:57.898Z"
   },
   {
    "duration": 38,
    "start_time": "2023-05-24T07:34:58.196Z"
   },
   {
    "duration": 55,
    "start_time": "2023-05-24T07:34:58.242Z"
   },
   {
    "duration": 352,
    "start_time": "2023-05-24T07:34:58.299Z"
   },
   {
    "duration": 193,
    "start_time": "2023-05-24T07:34:58.657Z"
   },
   {
    "duration": 186,
    "start_time": "2023-05-24T07:34:58.856Z"
   },
   {
    "duration": 368,
    "start_time": "2023-05-24T07:34:59.043Z"
   },
   {
    "duration": 745,
    "start_time": "2023-05-24T07:34:59.413Z"
   },
   {
    "duration": 514,
    "start_time": "2023-05-24T07:35:00.160Z"
   },
   {
    "duration": 3,
    "start_time": "2023-05-24T07:35:00.676Z"
   },
   {
    "duration": 217,
    "start_time": "2023-05-24T07:35:00.681Z"
   },
   {
    "duration": 15,
    "start_time": "2023-05-24T07:35:00.900Z"
   },
   {
    "duration": 84655,
    "start_time": "2023-05-24T07:35:00.931Z"
   },
   {
    "duration": 468,
    "start_time": "2023-05-24T07:36:25.589Z"
   },
   {
    "duration": 1635,
    "start_time": "2023-05-24T07:36:26.062Z"
   },
   {
    "duration": 97,
    "start_time": "2023-05-24T07:36:27.699Z"
   },
   {
    "duration": 51,
    "start_time": "2023-05-24T09:37:23.464Z"
   },
   {
    "duration": 45,
    "start_time": "2023-05-24T09:37:56.360Z"
   },
   {
    "duration": 2325,
    "start_time": "2023-05-24T09:37:56.407Z"
   },
   {
    "duration": 1590,
    "start_time": "2023-05-24T09:37:58.734Z"
   },
   {
    "duration": 1013,
    "start_time": "2023-05-24T09:38:00.326Z"
   },
   {
    "duration": 3,
    "start_time": "2023-05-24T09:38:01.341Z"
   },
   {
    "duration": 351,
    "start_time": "2023-05-24T09:38:01.345Z"
   },
   {
    "duration": 3,
    "start_time": "2023-05-24T09:38:01.698Z"
   },
   {
    "duration": 24,
    "start_time": "2023-05-24T09:38:01.703Z"
   },
   {
    "duration": 33,
    "start_time": "2023-05-24T09:38:01.728Z"
   },
   {
    "duration": 56,
    "start_time": "2023-05-24T09:38:01.762Z"
   },
   {
    "duration": 77,
    "start_time": "2023-05-24T09:38:01.820Z"
   },
   {
    "duration": 68,
    "start_time": "2023-05-24T09:38:01.899Z"
   },
   {
    "duration": 32,
    "start_time": "2023-05-24T09:38:01.968Z"
   },
   {
    "duration": 39,
    "start_time": "2023-05-24T09:38:02.003Z"
   },
   {
    "duration": 42,
    "start_time": "2023-05-24T09:38:02.043Z"
   },
   {
    "duration": 45,
    "start_time": "2023-05-24T09:38:02.087Z"
   },
   {
    "duration": 64,
    "start_time": "2023-05-24T09:38:02.133Z"
   },
   {
    "duration": 190,
    "start_time": "2023-05-24T09:38:02.199Z"
   },
   {
    "duration": 27,
    "start_time": "2023-05-24T09:38:02.390Z"
   },
   {
    "duration": 42,
    "start_time": "2023-05-24T09:38:02.419Z"
   },
   {
    "duration": 9,
    "start_time": "2023-05-24T09:38:02.463Z"
   },
   {
    "duration": 258,
    "start_time": "2023-05-24T09:38:02.474Z"
   },
   {
    "duration": 29,
    "start_time": "2023-05-24T09:38:02.733Z"
   },
   {
    "duration": 80,
    "start_time": "2023-05-24T09:38:02.763Z"
   },
   {
    "duration": 215,
    "start_time": "2023-05-24T09:38:02.845Z"
   },
   {
    "duration": 9,
    "start_time": "2023-05-24T09:38:03.062Z"
   },
   {
    "duration": 298,
    "start_time": "2023-05-24T09:38:03.072Z"
   },
   {
    "duration": 26,
    "start_time": "2023-05-24T09:38:03.372Z"
   },
   {
    "duration": 22,
    "start_time": "2023-05-24T09:38:03.400Z"
   },
   {
    "duration": 242,
    "start_time": "2023-05-24T09:38:03.423Z"
   },
   {
    "duration": 152,
    "start_time": "2023-05-24T09:38:03.667Z"
   },
   {
    "duration": 146,
    "start_time": "2023-05-24T09:38:03.820Z"
   },
   {
    "duration": 319,
    "start_time": "2023-05-24T09:38:03.968Z"
   },
   {
    "duration": 503,
    "start_time": "2023-05-24T09:38:04.289Z"
   },
   {
    "duration": 325,
    "start_time": "2023-05-24T09:38:04.793Z"
   },
   {
    "duration": 3,
    "start_time": "2023-05-24T09:38:05.120Z"
   },
   {
    "duration": 93,
    "start_time": "2023-05-24T09:38:05.124Z"
   },
   {
    "duration": 14,
    "start_time": "2023-05-24T09:38:05.219Z"
   },
   {
    "duration": 14990,
    "start_time": "2023-05-24T09:38:05.234Z"
   },
   {
    "duration": 395,
    "start_time": "2023-05-24T09:38:20.225Z"
   },
   {
    "duration": 29,
    "start_time": "2023-05-24T09:38:45.868Z"
   },
   {
    "duration": 2040,
    "start_time": "2023-05-24T09:38:45.899Z"
   },
   {
    "duration": 5,
    "start_time": "2023-05-24T09:38:47.942Z"
   },
   {
    "duration": 757,
    "start_time": "2023-05-24T09:38:47.949Z"
   },
   {
    "duration": 3,
    "start_time": "2023-05-24T09:38:48.708Z"
   },
   {
    "duration": 321,
    "start_time": "2023-05-24T09:38:48.716Z"
   },
   {
    "duration": 5,
    "start_time": "2023-05-24T09:38:49.038Z"
   },
   {
    "duration": 7,
    "start_time": "2023-05-24T09:38:49.045Z"
   },
   {
    "duration": 9,
    "start_time": "2023-05-24T09:38:49.053Z"
   },
   {
    "duration": 55,
    "start_time": "2023-05-24T09:38:49.064Z"
   },
   {
    "duration": 32,
    "start_time": "2023-05-24T09:38:49.121Z"
   },
   {
    "duration": 44,
    "start_time": "2023-05-24T09:38:49.155Z"
   },
   {
    "duration": 47,
    "start_time": "2023-05-24T09:38:49.201Z"
   },
   {
    "duration": 16,
    "start_time": "2023-05-24T09:38:49.252Z"
   },
   {
    "duration": 48,
    "start_time": "2023-05-24T09:38:49.269Z"
   },
   {
    "duration": 17,
    "start_time": "2023-05-24T09:38:49.319Z"
   },
   {
    "duration": 40,
    "start_time": "2023-05-24T09:38:49.338Z"
   },
   {
    "duration": 93,
    "start_time": "2023-05-24T09:38:49.380Z"
   },
   {
    "duration": 7,
    "start_time": "2023-05-24T09:38:49.475Z"
   },
   {
    "duration": 52,
    "start_time": "2023-05-24T09:38:49.483Z"
   },
   {
    "duration": 9,
    "start_time": "2023-05-24T09:38:49.537Z"
   },
   {
    "duration": 248,
    "start_time": "2023-05-24T09:38:49.547Z"
   },
   {
    "duration": 37,
    "start_time": "2023-05-24T09:38:49.797Z"
   },
   {
    "duration": 65,
    "start_time": "2023-05-24T09:38:49.836Z"
   },
   {
    "duration": 222,
    "start_time": "2023-05-24T09:38:49.903Z"
   },
   {
    "duration": 10,
    "start_time": "2023-05-24T09:38:50.127Z"
   },
   {
    "duration": 241,
    "start_time": "2023-05-24T09:38:50.138Z"
   },
   {
    "duration": 24,
    "start_time": "2023-05-24T09:38:50.381Z"
   },
   {
    "duration": 10,
    "start_time": "2023-05-24T09:38:50.417Z"
   },
   {
    "duration": 242,
    "start_time": "2023-05-24T09:38:50.429Z"
   },
   {
    "duration": 158,
    "start_time": "2023-05-24T09:38:50.672Z"
   },
   {
    "duration": 170,
    "start_time": "2023-05-24T09:38:50.831Z"
   },
   {
    "duration": 301,
    "start_time": "2023-05-24T09:38:51.004Z"
   },
   {
    "duration": 444,
    "start_time": "2023-05-24T09:38:51.307Z"
   },
   {
    "duration": 321,
    "start_time": "2023-05-24T09:38:51.753Z"
   },
   {
    "duration": 3,
    "start_time": "2023-05-24T09:38:52.076Z"
   },
   {
    "duration": 102,
    "start_time": "2023-05-24T09:38:52.081Z"
   },
   {
    "duration": 15,
    "start_time": "2023-05-24T09:38:52.185Z"
   },
   {
    "duration": 47,
    "start_time": "2023-05-24T09:39:59.465Z"
   },
   {
    "duration": 2097,
    "start_time": "2023-05-24T09:39:59.513Z"
   },
   {
    "duration": 1724,
    "start_time": "2023-05-24T09:40:01.612Z"
   },
   {
    "duration": 749,
    "start_time": "2023-05-24T09:40:03.337Z"
   },
   {
    "duration": 3,
    "start_time": "2023-05-24T09:40:04.088Z"
   },
   {
    "duration": 396,
    "start_time": "2023-05-24T09:40:04.093Z"
   },
   {
    "duration": 5,
    "start_time": "2023-05-24T09:40:04.491Z"
   },
   {
    "duration": 24,
    "start_time": "2023-05-24T09:40:04.498Z"
   },
   {
    "duration": 27,
    "start_time": "2023-05-24T09:40:04.524Z"
   },
   {
    "duration": 66,
    "start_time": "2023-05-24T09:40:04.553Z"
   },
   {
    "duration": 73,
    "start_time": "2023-05-24T09:40:04.621Z"
   },
   {
    "duration": 76,
    "start_time": "2023-05-24T09:40:04.695Z"
   },
   {
    "duration": 155,
    "start_time": "2023-05-24T09:40:04.773Z"
   },
   {
    "duration": 21,
    "start_time": "2023-05-24T09:40:04.930Z"
   },
   {
    "duration": 38,
    "start_time": "2023-05-24T09:40:04.952Z"
   },
   {
    "duration": 33,
    "start_time": "2023-05-24T09:40:04.991Z"
   },
   {
    "duration": 68,
    "start_time": "2023-05-24T09:40:05.026Z"
   },
   {
    "duration": 82,
    "start_time": "2023-05-24T09:40:05.096Z"
   },
   {
    "duration": 5,
    "start_time": "2023-05-24T09:40:05.180Z"
   },
   {
    "duration": 55,
    "start_time": "2023-05-24T09:40:05.186Z"
   },
   {
    "duration": 10,
    "start_time": "2023-05-24T09:40:05.243Z"
   },
   {
    "duration": 249,
    "start_time": "2023-05-24T09:40:05.254Z"
   },
   {
    "duration": 33,
    "start_time": "2023-05-24T09:40:05.505Z"
   },
   {
    "duration": 66,
    "start_time": "2023-05-24T09:40:05.539Z"
   },
   {
    "duration": 218,
    "start_time": "2023-05-24T09:40:05.606Z"
   },
   {
    "duration": 8,
    "start_time": "2023-05-24T09:40:05.826Z"
   },
   {
    "duration": 238,
    "start_time": "2023-05-24T09:40:05.835Z"
   },
   {
    "duration": 26,
    "start_time": "2023-05-24T09:40:06.075Z"
   },
   {
    "duration": 16,
    "start_time": "2023-05-24T09:40:06.102Z"
   },
   {
    "duration": 313,
    "start_time": "2023-05-24T09:40:06.120Z"
   },
   {
    "duration": 148,
    "start_time": "2023-05-24T09:40:06.434Z"
   },
   {
    "duration": 153,
    "start_time": "2023-05-24T09:40:06.583Z"
   },
   {
    "duration": 305,
    "start_time": "2023-05-24T09:40:06.738Z"
   },
   {
    "duration": 433,
    "start_time": "2023-05-24T09:40:07.045Z"
   },
   {
    "duration": 334,
    "start_time": "2023-05-24T09:40:07.480Z"
   },
   {
    "duration": 4,
    "start_time": "2023-05-24T09:40:07.815Z"
   },
   {
    "duration": 113,
    "start_time": "2023-05-24T09:40:07.820Z"
   },
   {
    "duration": 14,
    "start_time": "2023-05-24T09:40:07.935Z"
   },
   {
    "duration": 15976,
    "start_time": "2023-05-24T09:40:07.950Z"
   },
   {
    "duration": 300,
    "start_time": "2023-05-24T09:40:24.018Z"
   },
   {
    "duration": 21,
    "start_time": "2023-05-24T09:40:28.660Z"
   },
   {
    "duration": 879,
    "start_time": "2023-05-24T09:42:07.829Z"
   },
   {
    "duration": 25,
    "start_time": "2023-05-24T09:42:08.710Z"
   },
   {
    "duration": 60,
    "start_time": "2023-05-24T09:43:02.575Z"
   },
   {
    "duration": 2197,
    "start_time": "2023-05-24T09:43:02.637Z"
   },
   {
    "duration": 1358,
    "start_time": "2023-05-24T09:43:04.836Z"
   },
   {
    "duration": 787,
    "start_time": "2023-05-24T09:43:06.196Z"
   },
   {
    "duration": 5,
    "start_time": "2023-05-24T09:43:06.985Z"
   },
   {
    "duration": 351,
    "start_time": "2023-05-24T09:43:06.992Z"
   },
   {
    "duration": 4,
    "start_time": "2023-05-24T09:43:07.344Z"
   },
   {
    "duration": 13,
    "start_time": "2023-05-24T09:43:07.349Z"
   },
   {
    "duration": 22,
    "start_time": "2023-05-24T09:43:07.364Z"
   },
   {
    "duration": 42,
    "start_time": "2023-05-24T09:43:07.388Z"
   },
   {
    "duration": 33,
    "start_time": "2023-05-24T09:43:07.432Z"
   },
   {
    "duration": 70,
    "start_time": "2023-05-24T09:43:07.466Z"
   },
   {
    "duration": 31,
    "start_time": "2023-05-24T09:43:07.538Z"
   },
   {
    "duration": 18,
    "start_time": "2023-05-24T09:43:07.573Z"
   },
   {
    "duration": 51,
    "start_time": "2023-05-24T09:43:07.592Z"
   },
   {
    "duration": 25,
    "start_time": "2023-05-24T09:43:07.645Z"
   },
   {
    "duration": 37,
    "start_time": "2023-05-24T09:43:07.672Z"
   },
   {
    "duration": 75,
    "start_time": "2023-05-24T09:43:07.711Z"
   },
   {
    "duration": 10,
    "start_time": "2023-05-24T09:43:07.788Z"
   },
   {
    "duration": 50,
    "start_time": "2023-05-24T09:43:07.799Z"
   },
   {
    "duration": 8,
    "start_time": "2023-05-24T09:43:07.851Z"
   },
   {
    "duration": 258,
    "start_time": "2023-05-24T09:43:07.860Z"
   },
   {
    "duration": 38,
    "start_time": "2023-05-24T09:43:08.124Z"
   },
   {
    "duration": 78,
    "start_time": "2023-05-24T09:43:08.163Z"
   },
   {
    "duration": 221,
    "start_time": "2023-05-24T09:43:08.243Z"
   },
   {
    "duration": 10,
    "start_time": "2023-05-24T09:43:08.466Z"
   },
   {
    "duration": 267,
    "start_time": "2023-05-24T09:43:08.478Z"
   },
   {
    "duration": 28,
    "start_time": "2023-05-24T09:43:08.746Z"
   },
   {
    "duration": 9,
    "start_time": "2023-05-24T09:43:08.775Z"
   },
   {
    "duration": 349,
    "start_time": "2023-05-24T09:43:08.785Z"
   },
   {
    "duration": 155,
    "start_time": "2023-05-24T09:43:09.135Z"
   },
   {
    "duration": 152,
    "start_time": "2023-05-24T09:43:09.292Z"
   },
   {
    "duration": 323,
    "start_time": "2023-05-24T09:43:09.446Z"
   },
   {
    "duration": 459,
    "start_time": "2023-05-24T09:43:09.770Z"
   },
   {
    "duration": 329,
    "start_time": "2023-05-24T09:43:10.231Z"
   },
   {
    "duration": 3,
    "start_time": "2023-05-24T09:43:10.562Z"
   },
   {
    "duration": 95,
    "start_time": "2023-05-24T09:43:10.566Z"
   },
   {
    "duration": 14,
    "start_time": "2023-05-24T09:43:10.663Z"
   },
   {
    "duration": 34945,
    "start_time": "2023-05-24T09:43:10.678Z"
   },
   {
    "duration": 299,
    "start_time": "2023-05-24T09:43:45.625Z"
   },
   {
    "duration": 997,
    "start_time": "2023-05-24T09:43:45.931Z"
   },
   {
    "duration": 26,
    "start_time": "2023-05-24T09:43:46.930Z"
   },
   {
    "duration": 123,
    "start_time": "2023-05-24T09:55:39.974Z"
   },
   {
    "duration": 36,
    "start_time": "2023-05-24T09:55:45.371Z"
   },
   {
    "duration": 460,
    "start_time": "2023-05-24T09:55:46.786Z"
   },
   {
    "duration": 81761,
    "start_time": "2023-05-24T09:56:08.385Z"
   },
   {
    "duration": 531,
    "start_time": "2023-05-24T09:57:31.464Z"
   },
   {
    "duration": 149288,
    "start_time": "2023-05-24T09:57:36.216Z"
   },
   {
    "duration": 96,
    "start_time": "2023-05-24T10:00:29.990Z"
   },
   {
    "duration": 35,
    "start_time": "2023-05-24T10:01:08.893Z"
   },
   {
    "duration": 4,
    "start_time": "2023-05-24T10:01:15.160Z"
   },
   {
    "duration": 77627,
    "start_time": "2023-05-24T10:01:16.416Z"
   },
   {
    "duration": 85,
    "start_time": "2023-05-24T10:05:03.735Z"
   },
   {
    "duration": 2380,
    "start_time": "2023-05-24T10:05:03.822Z"
   },
   {
    "duration": 7,
    "start_time": "2023-05-24T10:05:06.204Z"
   },
   {
    "duration": 818,
    "start_time": "2023-05-24T10:05:06.213Z"
   },
   {
    "duration": 3,
    "start_time": "2023-05-24T10:05:07.033Z"
   },
   {
    "duration": 337,
    "start_time": "2023-05-24T10:05:07.038Z"
   },
   {
    "duration": 4,
    "start_time": "2023-05-24T10:05:07.377Z"
   },
   {
    "duration": 12,
    "start_time": "2023-05-24T10:05:07.382Z"
   },
   {
    "duration": 25,
    "start_time": "2023-05-24T10:05:07.395Z"
   },
   {
    "duration": 36,
    "start_time": "2023-05-24T10:05:07.422Z"
   },
   {
    "duration": 32,
    "start_time": "2023-05-24T10:05:07.459Z"
   },
   {
    "duration": 83,
    "start_time": "2023-05-24T10:05:07.492Z"
   },
   {
    "duration": 32,
    "start_time": "2023-05-24T10:05:07.576Z"
   },
   {
    "duration": 23,
    "start_time": "2023-05-24T10:05:07.613Z"
   },
   {
    "duration": 35,
    "start_time": "2023-05-24T10:05:07.637Z"
   },
   {
    "duration": 17,
    "start_time": "2023-05-24T10:05:07.674Z"
   },
   {
    "duration": 38,
    "start_time": "2023-05-24T10:05:07.692Z"
   },
   {
    "duration": 89,
    "start_time": "2023-05-24T10:05:07.731Z"
   },
   {
    "duration": 5,
    "start_time": "2023-05-24T10:05:07.822Z"
   },
   {
    "duration": 37,
    "start_time": "2023-05-24T10:05:07.829Z"
   },
   {
    "duration": 8,
    "start_time": "2023-05-24T10:05:07.867Z"
   },
   {
    "duration": 264,
    "start_time": "2023-05-24T10:05:07.876Z"
   },
   {
    "duration": 39,
    "start_time": "2023-05-24T10:05:08.142Z"
   },
   {
    "duration": 76,
    "start_time": "2023-05-24T10:05:08.183Z"
   },
   {
    "duration": 249,
    "start_time": "2023-05-24T10:05:08.260Z"
   },
   {
    "duration": 11,
    "start_time": "2023-05-24T10:05:08.511Z"
   },
   {
    "duration": 251,
    "start_time": "2023-05-24T10:05:08.523Z"
   },
   {
    "duration": 25,
    "start_time": "2023-05-24T10:05:08.775Z"
   },
   {
    "duration": 17,
    "start_time": "2023-05-24T10:05:08.801Z"
   },
   {
    "duration": 242,
    "start_time": "2023-05-24T10:05:08.820Z"
   },
   {
    "duration": 146,
    "start_time": "2023-05-24T10:05:09.064Z"
   },
   {
    "duration": 164,
    "start_time": "2023-05-24T10:05:09.212Z"
   },
   {
    "duration": 313,
    "start_time": "2023-05-24T10:05:09.378Z"
   },
   {
    "duration": 585,
    "start_time": "2023-05-24T10:05:09.693Z"
   },
   {
    "duration": 330,
    "start_time": "2023-05-24T10:05:10.280Z"
   },
   {
    "duration": 8,
    "start_time": "2023-05-24T10:05:10.611Z"
   },
   {
    "duration": 93,
    "start_time": "2023-05-24T10:05:10.620Z"
   },
   {
    "duration": 14,
    "start_time": "2023-05-24T10:05:10.718Z"
   },
   {
    "duration": 106,
    "start_time": "2023-05-24T10:06:56.574Z"
   },
   {
    "duration": 2116,
    "start_time": "2023-05-24T10:06:56.682Z"
   },
   {
    "duration": 1459,
    "start_time": "2023-05-24T10:06:58.800Z"
   },
   {
    "duration": 1213,
    "start_time": "2023-05-24T10:07:00.261Z"
   },
   {
    "duration": 4,
    "start_time": "2023-05-24T10:07:01.477Z"
   },
   {
    "duration": 538,
    "start_time": "2023-05-24T10:07:01.483Z"
   },
   {
    "duration": 6,
    "start_time": "2023-05-24T10:07:02.023Z"
   },
   {
    "duration": 34,
    "start_time": "2023-05-24T10:07:02.031Z"
   },
   {
    "duration": 41,
    "start_time": "2023-05-24T10:07:02.067Z"
   },
   {
    "duration": 83,
    "start_time": "2023-05-24T10:07:02.110Z"
   },
   {
    "duration": 55,
    "start_time": "2023-05-24T10:07:02.195Z"
   },
   {
    "duration": 74,
    "start_time": "2023-05-24T10:07:02.252Z"
   },
   {
    "duration": 53,
    "start_time": "2023-05-24T10:07:02.328Z"
   },
   {
    "duration": 30,
    "start_time": "2023-05-24T10:07:02.384Z"
   },
   {
    "duration": 55,
    "start_time": "2023-05-24T10:07:02.415Z"
   },
   {
    "duration": 43,
    "start_time": "2023-05-24T10:07:02.472Z"
   },
   {
    "duration": 72,
    "start_time": "2023-05-24T10:07:02.517Z"
   },
   {
    "duration": 75,
    "start_time": "2023-05-24T10:07:02.590Z"
   },
   {
    "duration": 18,
    "start_time": "2023-05-24T10:07:02.666Z"
   },
   {
    "duration": 90,
    "start_time": "2023-05-24T10:07:02.687Z"
   },
   {
    "duration": 10,
    "start_time": "2023-05-24T10:07:02.779Z"
   },
   {
    "duration": 377,
    "start_time": "2023-05-24T10:07:02.790Z"
   },
   {
    "duration": 31,
    "start_time": "2023-05-24T10:07:03.169Z"
   },
   {
    "duration": 77,
    "start_time": "2023-05-24T10:07:03.202Z"
   },
   {
    "duration": 276,
    "start_time": "2023-05-24T10:07:03.281Z"
   },
   {
    "duration": 11,
    "start_time": "2023-05-24T10:07:03.558Z"
   },
   {
    "duration": 265,
    "start_time": "2023-05-24T10:07:03.571Z"
   },
   {
    "duration": 30,
    "start_time": "2023-05-24T10:07:03.838Z"
   },
   {
    "duration": 11,
    "start_time": "2023-05-24T10:07:03.870Z"
   },
   {
    "duration": 367,
    "start_time": "2023-05-24T10:07:03.882Z"
   },
   {
    "duration": 219,
    "start_time": "2023-05-24T10:07:04.251Z"
   },
   {
    "duration": 208,
    "start_time": "2023-05-24T10:07:04.472Z"
   },
   {
    "duration": 335,
    "start_time": "2023-05-24T10:07:04.682Z"
   },
   {
    "duration": 496,
    "start_time": "2023-05-24T10:07:05.019Z"
   },
   {
    "duration": 347,
    "start_time": "2023-05-24T10:07:05.518Z"
   },
   {
    "duration": 4,
    "start_time": "2023-05-24T10:07:05.867Z"
   },
   {
    "duration": 107,
    "start_time": "2023-05-24T10:07:05.873Z"
   },
   {
    "duration": 16,
    "start_time": "2023-05-24T10:07:05.982Z"
   },
   {
    "duration": 34130,
    "start_time": "2023-05-24T10:07:05.999Z"
   },
   {
    "duration": 489,
    "start_time": "2023-05-24T10:07:40.131Z"
   },
   {
    "duration": 60,
    "start_time": "2023-05-24T10:13:26.964Z"
   },
   {
    "duration": 324,
    "start_time": "2023-05-24T10:13:36.402Z"
   },
   {
    "duration": 56,
    "start_time": "2023-05-24T10:14:46.564Z"
   },
   {
    "duration": 267,
    "start_time": "2023-05-24T10:14:47.377Z"
   },
   {
    "duration": 375,
    "start_time": "2023-05-24T10:14:55.011Z"
   },
   {
    "duration": 222,
    "start_time": "2023-05-24T10:15:05.630Z"
   },
   {
    "duration": 173,
    "start_time": "2023-05-24T10:16:16.176Z"
   },
   {
    "duration": 626,
    "start_time": "2023-05-24T10:16:26.252Z"
   },
   {
    "duration": 37,
    "start_time": "2023-05-24T10:18:57.657Z"
   },
   {
    "duration": 2079,
    "start_time": "2023-05-24T10:18:57.696Z"
   },
   {
    "duration": 1359,
    "start_time": "2023-05-24T10:18:59.777Z"
   },
   {
    "duration": 823,
    "start_time": "2023-05-24T10:19:01.138Z"
   },
   {
    "duration": 3,
    "start_time": "2023-05-24T10:19:01.964Z"
   },
   {
    "duration": 406,
    "start_time": "2023-05-24T10:19:01.968Z"
   },
   {
    "duration": 5,
    "start_time": "2023-05-24T10:19:02.375Z"
   },
   {
    "duration": 77,
    "start_time": "2023-05-24T10:19:02.381Z"
   },
   {
    "duration": 22,
    "start_time": "2023-05-24T10:19:02.460Z"
   },
   {
    "duration": 48,
    "start_time": "2023-05-24T10:19:02.484Z"
   },
   {
    "duration": 47,
    "start_time": "2023-05-24T10:19:02.533Z"
   },
   {
    "duration": 59,
    "start_time": "2023-05-24T10:19:02.581Z"
   },
   {
    "duration": 43,
    "start_time": "2023-05-24T10:19:02.641Z"
   },
   {
    "duration": 48,
    "start_time": "2023-05-24T10:19:02.687Z"
   },
   {
    "duration": 36,
    "start_time": "2023-05-24T10:19:02.737Z"
   },
   {
    "duration": 49,
    "start_time": "2023-05-24T10:19:02.776Z"
   },
   {
    "duration": 35,
    "start_time": "2023-05-24T10:19:02.826Z"
   },
   {
    "duration": 168,
    "start_time": "2023-05-24T10:19:02.863Z"
   },
   {
    "duration": 6,
    "start_time": "2023-05-24T10:19:03.033Z"
   },
   {
    "duration": 72,
    "start_time": "2023-05-24T10:19:03.040Z"
   },
   {
    "duration": 11,
    "start_time": "2023-05-24T10:19:03.114Z"
   },
   {
    "duration": 328,
    "start_time": "2023-05-24T10:19:03.126Z"
   },
   {
    "duration": 33,
    "start_time": "2023-05-24T10:19:03.456Z"
   },
   {
    "duration": 86,
    "start_time": "2023-05-24T10:19:03.491Z"
   },
   {
    "duration": 221,
    "start_time": "2023-05-24T10:19:03.578Z"
   },
   {
    "duration": 17,
    "start_time": "2023-05-24T10:19:03.801Z"
   },
   {
    "duration": 271,
    "start_time": "2023-05-24T10:19:03.820Z"
   },
   {
    "duration": 38,
    "start_time": "2023-05-24T10:19:04.093Z"
   },
   {
    "duration": 9,
    "start_time": "2023-05-24T10:19:04.133Z"
   },
   {
    "duration": 327,
    "start_time": "2023-05-24T10:19:04.144Z"
   },
   {
    "duration": 175,
    "start_time": "2023-05-24T10:19:04.472Z"
   },
   {
    "duration": 191,
    "start_time": "2023-05-24T10:19:04.649Z"
   },
   {
    "duration": 316,
    "start_time": "2023-05-24T10:19:04.842Z"
   },
   {
    "duration": 448,
    "start_time": "2023-05-24T10:19:05.159Z"
   },
   {
    "duration": 322,
    "start_time": "2023-05-24T10:19:05.609Z"
   },
   {
    "duration": 4,
    "start_time": "2023-05-24T10:19:05.933Z"
   },
   {
    "duration": 102,
    "start_time": "2023-05-24T10:19:05.939Z"
   },
   {
    "duration": 16,
    "start_time": "2023-05-24T10:19:06.042Z"
   },
   {
    "duration": 21362,
    "start_time": "2023-05-24T10:19:06.060Z"
   },
   {
    "duration": 301,
    "start_time": "2023-05-24T10:19:27.424Z"
   },
   {
    "duration": 146,
    "start_time": "2023-05-24T10:19:27.730Z"
   },
   {
    "duration": 319,
    "start_time": "2023-05-24T10:19:31.610Z"
   },
   {
    "duration": 294,
    "start_time": "2023-05-24T10:21:02.153Z"
   },
   {
    "duration": 616,
    "start_time": "2023-05-24T10:21:54.596Z"
   },
   {
    "duration": 34,
    "start_time": "2023-05-24T10:22:39.649Z"
   },
   {
    "duration": 2131,
    "start_time": "2023-05-24T10:22:39.685Z"
   },
   {
    "duration": 1352,
    "start_time": "2023-05-24T10:22:41.819Z"
   },
   {
    "duration": 758,
    "start_time": "2023-05-24T10:22:43.173Z"
   },
   {
    "duration": 3,
    "start_time": "2023-05-24T10:22:43.933Z"
   },
   {
    "duration": 347,
    "start_time": "2023-05-24T10:22:43.937Z"
   },
   {
    "duration": 4,
    "start_time": "2023-05-24T10:22:44.286Z"
   },
   {
    "duration": 10,
    "start_time": "2023-05-24T10:22:44.291Z"
   },
   {
    "duration": 20,
    "start_time": "2023-05-24T10:22:44.303Z"
   },
   {
    "duration": 43,
    "start_time": "2023-05-24T10:22:44.325Z"
   },
   {
    "duration": 48,
    "start_time": "2023-05-24T10:22:44.370Z"
   },
   {
    "duration": 59,
    "start_time": "2023-05-24T10:22:44.420Z"
   },
   {
    "duration": 48,
    "start_time": "2023-05-24T10:22:44.482Z"
   },
   {
    "duration": 33,
    "start_time": "2023-05-24T10:22:44.533Z"
   },
   {
    "duration": 40,
    "start_time": "2023-05-24T10:22:44.568Z"
   },
   {
    "duration": 26,
    "start_time": "2023-05-24T10:22:44.618Z"
   },
   {
    "duration": 58,
    "start_time": "2023-05-24T10:22:44.646Z"
   },
   {
    "duration": 76,
    "start_time": "2023-05-24T10:22:44.706Z"
   },
   {
    "duration": 6,
    "start_time": "2023-05-24T10:22:44.784Z"
   },
   {
    "duration": 58,
    "start_time": "2023-05-24T10:22:44.792Z"
   },
   {
    "duration": 9,
    "start_time": "2023-05-24T10:22:44.852Z"
   },
   {
    "duration": 257,
    "start_time": "2023-05-24T10:22:44.862Z"
   },
   {
    "duration": 28,
    "start_time": "2023-05-24T10:22:45.121Z"
   },
   {
    "duration": 74,
    "start_time": "2023-05-24T10:22:45.151Z"
   },
   {
    "duration": 225,
    "start_time": "2023-05-24T10:22:45.226Z"
   },
   {
    "duration": 9,
    "start_time": "2023-05-24T10:22:45.452Z"
   },
   {
    "duration": 250,
    "start_time": "2023-05-24T10:22:45.463Z"
   },
   {
    "duration": 26,
    "start_time": "2023-05-24T10:22:45.715Z"
   },
   {
    "duration": 8,
    "start_time": "2023-05-24T10:22:45.743Z"
   },
   {
    "duration": 321,
    "start_time": "2023-05-24T10:22:45.753Z"
   },
   {
    "duration": 157,
    "start_time": "2023-05-24T10:22:46.076Z"
   },
   {
    "duration": 152,
    "start_time": "2023-05-24T10:22:46.235Z"
   },
   {
    "duration": 314,
    "start_time": "2023-05-24T10:22:46.388Z"
   },
   {
    "duration": 448,
    "start_time": "2023-05-24T10:22:46.703Z"
   },
   {
    "duration": 336,
    "start_time": "2023-05-24T10:22:47.152Z"
   },
   {
    "duration": 4,
    "start_time": "2023-05-24T10:22:47.489Z"
   },
   {
    "duration": 116,
    "start_time": "2023-05-24T10:22:47.495Z"
   },
   {
    "duration": 17,
    "start_time": "2023-05-24T10:22:47.613Z"
   },
   {
    "duration": 20991,
    "start_time": "2023-05-24T10:22:47.632Z"
   },
   {
    "duration": 394,
    "start_time": "2023-05-24T10:23:08.625Z"
   },
   {
    "duration": 153,
    "start_time": "2023-05-24T10:23:09.022Z"
   },
   {
    "duration": 23,
    "start_time": "2023-05-24T10:23:14.464Z"
   },
   {
    "duration": 50,
    "start_time": "2023-05-24T10:23:15.756Z"
   },
   {
    "duration": 678,
    "start_time": "2023-05-24T10:23:17.760Z"
   },
   {
    "duration": 148,
    "start_time": "2023-05-24T10:25:36.709Z"
   },
   {
    "duration": 25,
    "start_time": "2023-05-24T10:26:04.064Z"
   },
   {
    "duration": 43,
    "start_time": "2023-05-24T10:26:05.056Z"
   },
   {
    "duration": 137,
    "start_time": "2023-05-24T10:26:14.500Z"
   },
   {
    "duration": 78,
    "start_time": "2023-05-24T10:26:28.301Z"
   },
   {
    "duration": 46,
    "start_time": "2023-05-24T10:26:56.115Z"
   },
   {
    "duration": 2095,
    "start_time": "2023-05-24T10:26:56.163Z"
   },
   {
    "duration": 1403,
    "start_time": "2023-05-24T10:26:58.260Z"
   },
   {
    "duration": 850,
    "start_time": "2023-05-24T10:26:59.665Z"
   },
   {
    "duration": 4,
    "start_time": "2023-05-24T10:27:00.518Z"
   },
   {
    "duration": 394,
    "start_time": "2023-05-24T10:27:00.524Z"
   },
   {
    "duration": 5,
    "start_time": "2023-05-24T10:27:00.921Z"
   },
   {
    "duration": 37,
    "start_time": "2023-05-24T10:27:00.928Z"
   },
   {
    "duration": 57,
    "start_time": "2023-05-24T10:27:00.967Z"
   },
   {
    "duration": 96,
    "start_time": "2023-05-24T10:27:01.026Z"
   },
   {
    "duration": 72,
    "start_time": "2023-05-24T10:27:01.124Z"
   },
   {
    "duration": 73,
    "start_time": "2023-05-24T10:27:01.198Z"
   },
   {
    "duration": 37,
    "start_time": "2023-05-24T10:27:01.272Z"
   },
   {
    "duration": 44,
    "start_time": "2023-05-24T10:27:01.312Z"
   },
   {
    "duration": 100,
    "start_time": "2023-05-24T10:27:01.358Z"
   },
   {
    "duration": 31,
    "start_time": "2023-05-24T10:27:01.460Z"
   },
   {
    "duration": 59,
    "start_time": "2023-05-24T10:27:01.492Z"
   },
   {
    "duration": 108,
    "start_time": "2023-05-24T10:27:01.553Z"
   },
   {
    "duration": 31,
    "start_time": "2023-05-24T10:27:01.663Z"
   },
   {
    "duration": 54,
    "start_time": "2023-05-24T10:27:01.696Z"
   },
   {
    "duration": 39,
    "start_time": "2023-05-24T10:27:01.752Z"
   },
   {
    "duration": 269,
    "start_time": "2023-05-24T10:27:01.793Z"
   },
   {
    "duration": 29,
    "start_time": "2023-05-24T10:27:02.064Z"
   },
   {
    "duration": 85,
    "start_time": "2023-05-24T10:27:02.095Z"
   },
   {
    "duration": 244,
    "start_time": "2023-05-24T10:27:02.182Z"
   },
   {
    "duration": 9,
    "start_time": "2023-05-24T10:27:02.428Z"
   },
   {
    "duration": 254,
    "start_time": "2023-05-24T10:27:02.438Z"
   },
   {
    "duration": 36,
    "start_time": "2023-05-24T10:27:02.693Z"
   },
   {
    "duration": 10,
    "start_time": "2023-05-24T10:27:02.731Z"
   },
   {
    "duration": 450,
    "start_time": "2023-05-24T10:27:02.743Z"
   },
   {
    "duration": 153,
    "start_time": "2023-05-24T10:27:03.195Z"
   },
   {
    "duration": 155,
    "start_time": "2023-05-24T10:27:03.349Z"
   },
   {
    "duration": 312,
    "start_time": "2023-05-24T10:27:03.505Z"
   },
   {
    "duration": 454,
    "start_time": "2023-05-24T10:27:03.818Z"
   },
   {
    "duration": 327,
    "start_time": "2023-05-24T10:27:04.274Z"
   },
   {
    "duration": 3,
    "start_time": "2023-05-24T10:27:04.603Z"
   },
   {
    "duration": 119,
    "start_time": "2023-05-24T10:27:04.607Z"
   },
   {
    "duration": 17,
    "start_time": "2023-05-24T10:27:04.729Z"
   },
   {
    "duration": 14770,
    "start_time": "2023-05-24T10:27:04.749Z"
   },
   {
    "duration": 306,
    "start_time": "2023-05-24T10:27:19.520Z"
   },
   {
    "duration": 96,
    "start_time": "2023-05-24T10:27:19.830Z"
   },
   {
    "duration": 52,
    "start_time": "2023-05-24T10:27:37.064Z"
   },
   {
    "duration": 181,
    "start_time": "2023-05-24T10:27:39.717Z"
   },
   {
    "duration": 125,
    "start_time": "2023-05-24T10:27:46.360Z"
   },
   {
    "duration": 70,
    "start_time": "2023-05-24T10:34:00.568Z"
   },
   {
    "duration": 17,
    "start_time": "2023-05-24T10:34:10.460Z"
   },
   {
    "duration": 48,
    "start_time": "2023-05-24T10:34:11.169Z"
   },
   {
    "duration": 74,
    "start_time": "2023-05-24T10:34:13.393Z"
   },
   {
    "duration": 560,
    "start_time": "2023-05-24T10:34:42.619Z"
   },
   {
    "duration": 148,
    "start_time": "2023-05-24T10:34:53.382Z"
   },
   {
    "duration": 11,
    "start_time": "2023-05-24T10:35:47.579Z"
   },
   {
    "duration": 128,
    "start_time": "2023-05-24T10:37:09.571Z"
   },
   {
    "duration": 118,
    "start_time": "2023-05-24T10:37:42.901Z"
   },
   {
    "duration": 211,
    "start_time": "2023-05-24T10:38:24.485Z"
   },
   {
    "duration": 48,
    "start_time": "2023-05-24T10:38:37.400Z"
   },
   {
    "duration": 2051,
    "start_time": "2023-05-24T10:38:37.450Z"
   },
   {
    "duration": 1382,
    "start_time": "2023-05-24T10:38:39.503Z"
   },
   {
    "duration": 755,
    "start_time": "2023-05-24T10:38:40.887Z"
   },
   {
    "duration": 3,
    "start_time": "2023-05-24T10:38:41.644Z"
   },
   {
    "duration": 329,
    "start_time": "2023-05-24T10:38:41.648Z"
   },
   {
    "duration": 5,
    "start_time": "2023-05-24T10:38:41.979Z"
   },
   {
    "duration": 9,
    "start_time": "2023-05-24T10:38:41.985Z"
   },
   {
    "duration": 11,
    "start_time": "2023-05-24T10:38:41.995Z"
   },
   {
    "duration": 39,
    "start_time": "2023-05-24T10:38:42.016Z"
   },
   {
    "duration": 40,
    "start_time": "2023-05-24T10:38:42.056Z"
   },
   {
    "duration": 63,
    "start_time": "2023-05-24T10:38:42.097Z"
   },
   {
    "duration": 30,
    "start_time": "2023-05-24T10:38:42.162Z"
   },
   {
    "duration": 29,
    "start_time": "2023-05-24T10:38:42.193Z"
   },
   {
    "duration": 36,
    "start_time": "2023-05-24T10:38:42.224Z"
   },
   {
    "duration": 16,
    "start_time": "2023-05-24T10:38:42.262Z"
   },
   {
    "duration": 38,
    "start_time": "2023-05-24T10:38:42.279Z"
   },
   {
    "duration": 69,
    "start_time": "2023-05-24T10:38:42.318Z"
   },
   {
    "duration": 6,
    "start_time": "2023-05-24T10:38:42.388Z"
   },
   {
    "duration": 51,
    "start_time": "2023-05-24T10:38:42.395Z"
   },
   {
    "duration": 10,
    "start_time": "2023-05-24T10:38:42.448Z"
   },
   {
    "duration": 256,
    "start_time": "2023-05-24T10:38:42.460Z"
   },
   {
    "duration": 27,
    "start_time": "2023-05-24T10:38:42.717Z"
   },
   {
    "duration": 74,
    "start_time": "2023-05-24T10:38:42.746Z"
   },
   {
    "duration": 212,
    "start_time": "2023-05-24T10:38:42.821Z"
   },
   {
    "duration": 8,
    "start_time": "2023-05-24T10:38:43.035Z"
   },
   {
    "duration": 239,
    "start_time": "2023-05-24T10:38:43.045Z"
   },
   {
    "duration": 31,
    "start_time": "2023-05-24T10:38:43.287Z"
   },
   {
    "duration": 9,
    "start_time": "2023-05-24T10:38:43.320Z"
   },
   {
    "duration": 299,
    "start_time": "2023-05-24T10:38:43.330Z"
   },
   {
    "duration": 158,
    "start_time": "2023-05-24T10:38:43.631Z"
   },
   {
    "duration": 141,
    "start_time": "2023-05-24T10:38:43.791Z"
   },
   {
    "duration": 331,
    "start_time": "2023-05-24T10:38:43.933Z"
   },
   {
    "duration": 437,
    "start_time": "2023-05-24T10:38:44.266Z"
   },
   {
    "duration": 353,
    "start_time": "2023-05-24T10:38:44.705Z"
   },
   {
    "duration": 3,
    "start_time": "2023-05-24T10:38:45.059Z"
   },
   {
    "duration": 127,
    "start_time": "2023-05-24T10:38:45.063Z"
   },
   {
    "duration": 16,
    "start_time": "2023-05-24T10:38:45.191Z"
   },
   {
    "duration": 15011,
    "start_time": "2023-05-24T10:38:45.208Z"
   },
   {
    "duration": 301,
    "start_time": "2023-05-24T10:39:00.220Z"
   },
   {
    "duration": 103,
    "start_time": "2023-05-24T10:39:00.525Z"
   },
   {
    "duration": 105,
    "start_time": "2023-05-24T10:39:00.630Z"
   },
   {
    "duration": 10,
    "start_time": "2023-05-24T10:39:24.748Z"
   },
   {
    "duration": 433,
    "start_time": "2023-05-24T10:39:28.279Z"
   },
   {
    "duration": 15,
    "start_time": "2023-05-24T10:39:34.548Z"
   },
   {
    "duration": 185,
    "start_time": "2023-05-24T10:41:10.560Z"
   },
   {
    "duration": 185,
    "start_time": "2023-05-24T10:41:23.376Z"
   },
   {
    "duration": 166,
    "start_time": "2023-05-24T10:47:41.983Z"
   },
   {
    "duration": 128,
    "start_time": "2023-05-24T10:52:19.360Z"
   },
   {
    "duration": 125,
    "start_time": "2023-05-24T10:52:49.255Z"
   },
   {
    "duration": 112,
    "start_time": "2023-05-24T10:54:11.585Z"
   },
   {
    "duration": 212,
    "start_time": "2023-05-24T10:54:59.983Z"
   },
   {
    "duration": 10,
    "start_time": "2023-05-24T10:56:01.460Z"
   },
   {
    "duration": 312,
    "start_time": "2023-05-24T10:56:13.640Z"
   },
   {
    "duration": 154,
    "start_time": "2023-05-24T10:56:18.208Z"
   },
   {
    "duration": 85362,
    "start_time": "2023-05-24T10:56:23.519Z"
   },
   {
    "duration": 314,
    "start_time": "2023-05-24T10:57:48.882Z"
   },
   {
    "duration": 12,
    "start_time": "2023-05-24T10:57:50.463Z"
   },
   {
    "duration": 350,
    "start_time": "2023-05-24T10:57:58.191Z"
   },
   {
    "duration": 61,
    "start_time": "2023-05-24T11:00:08.869Z"
   },
   {
    "duration": 2221,
    "start_time": "2023-05-24T11:00:08.931Z"
   },
   {
    "duration": 1468,
    "start_time": "2023-05-24T11:00:11.155Z"
   },
   {
    "duration": 786,
    "start_time": "2023-05-24T11:00:12.626Z"
   },
   {
    "duration": 4,
    "start_time": "2023-05-24T11:00:13.414Z"
   },
   {
    "duration": 371,
    "start_time": "2023-05-24T11:00:13.420Z"
   },
   {
    "duration": 5,
    "start_time": "2023-05-24T11:00:13.792Z"
   },
   {
    "duration": 15,
    "start_time": "2023-05-24T11:00:13.798Z"
   },
   {
    "duration": 27,
    "start_time": "2023-05-24T11:00:13.818Z"
   },
   {
    "duration": 52,
    "start_time": "2023-05-24T11:00:13.847Z"
   },
   {
    "duration": 31,
    "start_time": "2023-05-24T11:00:13.901Z"
   },
   {
    "duration": 64,
    "start_time": "2023-05-24T11:00:13.934Z"
   },
   {
    "duration": 30,
    "start_time": "2023-05-24T11:00:14.000Z"
   },
   {
    "duration": 40,
    "start_time": "2023-05-24T11:00:14.032Z"
   },
   {
    "duration": 56,
    "start_time": "2023-05-24T11:00:14.073Z"
   },
   {
    "duration": 43,
    "start_time": "2023-05-24T11:00:14.130Z"
   },
   {
    "duration": 45,
    "start_time": "2023-05-24T11:00:14.175Z"
   },
   {
    "duration": 70,
    "start_time": "2023-05-24T11:00:14.221Z"
   },
   {
    "duration": 19,
    "start_time": "2023-05-24T11:00:14.292Z"
   },
   {
    "duration": 50,
    "start_time": "2023-05-24T11:00:14.313Z"
   },
   {
    "duration": 11,
    "start_time": "2023-05-24T11:00:14.365Z"
   },
   {
    "duration": 266,
    "start_time": "2023-05-24T11:00:14.377Z"
   },
   {
    "duration": 30,
    "start_time": "2023-05-24T11:00:14.644Z"
   },
   {
    "duration": 82,
    "start_time": "2023-05-24T11:00:14.676Z"
   },
   {
    "duration": 225,
    "start_time": "2023-05-24T11:00:14.760Z"
   },
   {
    "duration": 8,
    "start_time": "2023-05-24T11:00:14.986Z"
   },
   {
    "duration": 262,
    "start_time": "2023-05-24T11:00:14.996Z"
   },
   {
    "duration": 28,
    "start_time": "2023-05-24T11:00:15.261Z"
   },
   {
    "duration": 9,
    "start_time": "2023-05-24T11:00:15.290Z"
   },
   {
    "duration": 337,
    "start_time": "2023-05-24T11:00:15.300Z"
   },
   {
    "duration": 157,
    "start_time": "2023-05-24T11:00:15.638Z"
   },
   {
    "duration": 150,
    "start_time": "2023-05-24T11:00:15.797Z"
   },
   {
    "duration": 381,
    "start_time": "2023-05-24T11:00:15.949Z"
   },
   {
    "duration": 474,
    "start_time": "2023-05-24T11:00:16.332Z"
   },
   {
    "duration": 329,
    "start_time": "2023-05-24T11:00:16.808Z"
   },
   {
    "duration": 3,
    "start_time": "2023-05-24T11:00:17.139Z"
   },
   {
    "duration": 101,
    "start_time": "2023-05-24T11:00:17.144Z"
   },
   {
    "duration": 19,
    "start_time": "2023-05-24T11:00:17.247Z"
   },
   {
    "duration": 24751,
    "start_time": "2023-05-24T11:00:17.268Z"
   },
   {
    "duration": 310,
    "start_time": "2023-05-24T11:00:42.021Z"
   },
   {
    "duration": 13,
    "start_time": "2023-05-24T11:00:42.418Z"
   },
   {
    "duration": 52,
    "start_time": "2023-05-24T11:00:42.432Z"
   },
   {
    "duration": 11,
    "start_time": "2023-05-24T11:00:46.648Z"
   },
   {
    "duration": 460,
    "start_time": "2023-05-24T11:01:58.052Z"
   },
   {
    "duration": 146236,
    "start_time": "2023-05-24T11:02:02.311Z"
   },
   {
    "duration": 241,
    "start_time": "2023-05-24T11:04:46.173Z"
   },
   {
    "duration": 11,
    "start_time": "2023-05-24T11:05:01.452Z"
   },
   {
    "duration": 10,
    "start_time": "2023-05-24T11:05:13.659Z"
   },
   {
    "duration": 25152,
    "start_time": "2023-05-24T11:05:26.302Z"
   },
   {
    "duration": 25118,
    "start_time": "2023-05-24T11:06:13.199Z"
   },
   {
    "duration": 167,
    "start_time": "2023-05-24T11:07:16.878Z"
   },
   {
    "duration": 3,
    "start_time": "2023-05-24T11:07:19.986Z"
   },
   {
    "duration": 156922,
    "start_time": "2023-05-24T11:07:20.703Z"
   },
   {
    "duration": 37364,
    "start_time": "2023-05-24T11:10:50.260Z"
   },
   {
    "duration": 16193,
    "start_time": "2023-05-24T11:11:27.626Z"
   },
   {
    "duration": 3,
    "start_time": "2023-05-24T11:12:23.704Z"
   },
   {
    "duration": 1616,
    "start_time": "2023-05-24T11:12:25.408Z"
   },
   {
    "duration": 1878,
    "start_time": "2023-05-24T11:12:48.851Z"
   },
   {
    "duration": 169,
    "start_time": "2023-05-24T11:13:10.475Z"
   },
   {
    "duration": 67,
    "start_time": "2023-05-24T11:15:38.560Z"
   },
   {
    "duration": 2134,
    "start_time": "2023-05-24T11:15:38.629Z"
   },
   {
    "duration": 1319,
    "start_time": "2023-05-24T11:15:40.765Z"
   },
   {
    "duration": 781,
    "start_time": "2023-05-24T11:15:42.086Z"
   },
   {
    "duration": 3,
    "start_time": "2023-05-24T11:15:42.869Z"
   },
   {
    "duration": 330,
    "start_time": "2023-05-24T11:15:42.873Z"
   },
   {
    "duration": 4,
    "start_time": "2023-05-24T11:15:43.205Z"
   },
   {
    "duration": 10,
    "start_time": "2023-05-24T11:15:43.216Z"
   },
   {
    "duration": 11,
    "start_time": "2023-05-24T11:15:43.227Z"
   },
   {
    "duration": 44,
    "start_time": "2023-05-24T11:15:43.240Z"
   },
   {
    "duration": 41,
    "start_time": "2023-05-24T11:15:43.286Z"
   },
   {
    "duration": 46,
    "start_time": "2023-05-24T11:15:43.328Z"
   },
   {
    "duration": 43,
    "start_time": "2023-05-24T11:15:43.376Z"
   },
   {
    "duration": 17,
    "start_time": "2023-05-24T11:15:43.422Z"
   },
   {
    "duration": 30,
    "start_time": "2023-05-24T11:15:43.440Z"
   },
   {
    "duration": 25,
    "start_time": "2023-05-24T11:15:43.472Z"
   },
   {
    "duration": 40,
    "start_time": "2023-05-24T11:15:43.498Z"
   },
   {
    "duration": 79,
    "start_time": "2023-05-24T11:15:43.540Z"
   },
   {
    "duration": 6,
    "start_time": "2023-05-24T11:15:43.621Z"
   },
   {
    "duration": 43,
    "start_time": "2023-05-24T11:15:43.628Z"
   },
   {
    "duration": 10,
    "start_time": "2023-05-24T11:15:43.673Z"
   },
   {
    "duration": 269,
    "start_time": "2023-05-24T11:15:43.685Z"
   },
   {
    "duration": 30,
    "start_time": "2023-05-24T11:15:43.956Z"
   },
   {
    "duration": 79,
    "start_time": "2023-05-24T11:15:43.988Z"
   },
   {
    "duration": 232,
    "start_time": "2023-05-24T11:15:44.069Z"
   },
   {
    "duration": 18,
    "start_time": "2023-05-24T11:15:44.303Z"
   },
   {
    "duration": 236,
    "start_time": "2023-05-24T11:15:44.322Z"
   },
   {
    "duration": 29,
    "start_time": "2023-05-24T11:15:44.559Z"
   },
   {
    "duration": 9,
    "start_time": "2023-05-24T11:15:44.590Z"
   },
   {
    "duration": 401,
    "start_time": "2023-05-24T11:15:44.600Z"
   },
   {
    "duration": 165,
    "start_time": "2023-05-24T11:15:45.003Z"
   },
   {
    "duration": 157,
    "start_time": "2023-05-24T11:15:45.170Z"
   },
   {
    "duration": 324,
    "start_time": "2023-05-24T11:15:45.329Z"
   },
   {
    "duration": 464,
    "start_time": "2023-05-24T11:15:45.655Z"
   },
   {
    "duration": 329,
    "start_time": "2023-05-24T11:15:46.121Z"
   },
   {
    "duration": 3,
    "start_time": "2023-05-24T11:15:46.452Z"
   },
   {
    "duration": 110,
    "start_time": "2023-05-24T11:15:46.457Z"
   },
   {
    "duration": 16,
    "start_time": "2023-05-24T11:15:46.569Z"
   },
   {
    "duration": 21437,
    "start_time": "2023-05-24T11:15:46.586Z"
   },
   {
    "duration": 300,
    "start_time": "2023-05-24T11:16:08.025Z"
   },
   {
    "duration": 97,
    "start_time": "2023-05-24T11:16:08.329Z"
   },
   {
    "duration": 258,
    "start_time": "2023-05-24T11:16:08.428Z"
   },
   {
    "duration": 0,
    "start_time": "2023-05-24T11:16:08.688Z"
   },
   {
    "duration": 0,
    "start_time": "2023-05-24T11:16:08.689Z"
   },
   {
    "duration": 0,
    "start_time": "2023-05-24T11:16:08.690Z"
   },
   {
    "duration": 58,
    "start_time": "2023-05-24T11:16:36.809Z"
   },
   {
    "duration": 11,
    "start_time": "2023-05-24T11:16:38.456Z"
   },
   {
    "duration": 444,
    "start_time": "2023-05-24T11:16:41.456Z"
   },
   {
    "duration": 111,
    "start_time": "2023-05-24T11:16:45.995Z"
   },
   {
    "duration": 147584,
    "start_time": "2023-05-24T11:16:59.802Z"
   },
   {
    "duration": 52,
    "start_time": "2023-05-24T11:19:27.388Z"
   },
   {
    "duration": 0,
    "start_time": "2023-05-24T11:19:27.441Z"
   },
   {
    "duration": 3,
    "start_time": "2023-05-24T11:19:36.101Z"
   },
   {
    "duration": 10,
    "start_time": "2023-05-24T11:19:38.657Z"
   },
   {
    "duration": 1098,
    "start_time": "2023-05-24T11:20:17.855Z"
   },
   {
    "duration": 148112,
    "start_time": "2023-05-24T11:20:35.670Z"
   },
   {
    "duration": 64,
    "start_time": "2023-05-24T11:23:26.752Z"
   },
   {
    "duration": 2122,
    "start_time": "2023-05-24T11:23:26.818Z"
   },
   {
    "duration": 1498,
    "start_time": "2023-05-24T11:23:28.942Z"
   },
   {
    "duration": 823,
    "start_time": "2023-05-24T11:23:30.442Z"
   },
   {
    "duration": 3,
    "start_time": "2023-05-24T11:23:31.267Z"
   },
   {
    "duration": 352,
    "start_time": "2023-05-24T11:23:31.271Z"
   },
   {
    "duration": 5,
    "start_time": "2023-05-24T11:23:31.625Z"
   },
   {
    "duration": 23,
    "start_time": "2023-05-24T11:23:31.632Z"
   },
   {
    "duration": 42,
    "start_time": "2023-05-24T11:23:31.657Z"
   },
   {
    "duration": 69,
    "start_time": "2023-05-24T11:23:31.701Z"
   },
   {
    "duration": 58,
    "start_time": "2023-05-24T11:23:31.772Z"
   },
   {
    "duration": 81,
    "start_time": "2023-05-24T11:23:31.831Z"
   },
   {
    "duration": 31,
    "start_time": "2023-05-24T11:23:31.913Z"
   },
   {
    "duration": 16,
    "start_time": "2023-05-24T11:23:31.948Z"
   },
   {
    "duration": 56,
    "start_time": "2023-05-24T11:23:31.966Z"
   },
   {
    "duration": 20,
    "start_time": "2023-05-24T11:23:32.024Z"
   },
   {
    "duration": 39,
    "start_time": "2023-05-24T11:23:32.046Z"
   },
   {
    "duration": 74,
    "start_time": "2023-05-24T11:23:32.087Z"
   },
   {
    "duration": 14,
    "start_time": "2023-05-24T11:23:32.162Z"
   },
   {
    "duration": 51,
    "start_time": "2023-05-24T11:23:32.178Z"
   },
   {
    "duration": 11,
    "start_time": "2023-05-24T11:23:32.231Z"
   },
   {
    "duration": 256,
    "start_time": "2023-05-24T11:23:32.244Z"
   },
   {
    "duration": 40,
    "start_time": "2023-05-24T11:23:32.502Z"
   },
   {
    "duration": 76,
    "start_time": "2023-05-24T11:23:32.544Z"
   },
   {
    "duration": 220,
    "start_time": "2023-05-24T11:23:32.622Z"
   },
   {
    "duration": 10,
    "start_time": "2023-05-24T11:23:32.844Z"
   },
   {
    "duration": 251,
    "start_time": "2023-05-24T11:23:32.856Z"
   },
   {
    "duration": 31,
    "start_time": "2023-05-24T11:23:33.108Z"
   },
   {
    "duration": 9,
    "start_time": "2023-05-24T11:23:33.140Z"
   },
   {
    "duration": 325,
    "start_time": "2023-05-24T11:23:33.151Z"
   },
   {
    "duration": 157,
    "start_time": "2023-05-24T11:23:33.478Z"
   },
   {
    "duration": 156,
    "start_time": "2023-05-24T11:23:33.637Z"
   },
   {
    "duration": 318,
    "start_time": "2023-05-24T11:23:33.794Z"
   },
   {
    "duration": 476,
    "start_time": "2023-05-24T11:23:34.114Z"
   },
   {
    "duration": 390,
    "start_time": "2023-05-24T11:23:34.591Z"
   },
   {
    "duration": 3,
    "start_time": "2023-05-24T11:23:34.983Z"
   },
   {
    "duration": 103,
    "start_time": "2023-05-24T11:23:34.988Z"
   },
   {
    "duration": 24,
    "start_time": "2023-05-24T11:23:35.093Z"
   },
   {
    "duration": 23506,
    "start_time": "2023-05-24T11:23:35.119Z"
   },
   {
    "duration": 392,
    "start_time": "2023-05-24T11:23:58.627Z"
   },
   {
    "duration": 95,
    "start_time": "2023-05-24T11:23:59.024Z"
   },
   {
    "duration": 87,
    "start_time": "2023-05-24T11:23:59.121Z"
   },
   {
    "duration": 10,
    "start_time": "2023-05-24T11:23:59.218Z"
   },
   {
    "duration": 462,
    "start_time": "2023-05-24T11:23:59.229Z"
   },
   {
    "duration": 2,
    "start_time": "2023-05-24T11:23:59.693Z"
   },
   {
    "duration": 15470,
    "start_time": "2023-05-24T11:24:17.561Z"
   },
   {
    "duration": 53,
    "start_time": "2023-05-25T06:13:08.549Z"
   },
   {
    "duration": 2184,
    "start_time": "2023-05-25T06:13:08.604Z"
   },
   {
    "duration": 1527,
    "start_time": "2023-05-25T06:13:10.790Z"
   },
   {
    "duration": 2742,
    "start_time": "2023-05-25T06:13:12.319Z"
   },
   {
    "duration": 3,
    "start_time": "2023-05-25T06:13:15.063Z"
   },
   {
    "duration": 339,
    "start_time": "2023-05-25T06:13:15.067Z"
   },
   {
    "duration": 4,
    "start_time": "2023-05-25T06:13:15.408Z"
   },
   {
    "duration": 18,
    "start_time": "2023-05-25T06:13:15.413Z"
   },
   {
    "duration": 33,
    "start_time": "2023-05-25T06:13:15.432Z"
   },
   {
    "duration": 50,
    "start_time": "2023-05-25T06:13:15.467Z"
   },
   {
    "duration": 41,
    "start_time": "2023-05-25T06:13:15.518Z"
   },
   {
    "duration": 49,
    "start_time": "2023-05-25T06:13:15.561Z"
   },
   {
    "duration": 38,
    "start_time": "2023-05-25T06:13:15.612Z"
   },
   {
    "duration": 32,
    "start_time": "2023-05-25T06:13:15.651Z"
   },
   {
    "duration": 29,
    "start_time": "2023-05-25T06:13:15.685Z"
   },
   {
    "duration": 25,
    "start_time": "2023-05-25T06:13:15.715Z"
   },
   {
    "duration": 33,
    "start_time": "2023-05-25T06:13:15.742Z"
   },
   {
    "duration": 74,
    "start_time": "2023-05-25T06:13:15.776Z"
   },
   {
    "duration": 6,
    "start_time": "2023-05-25T06:13:15.852Z"
   },
   {
    "duration": 38,
    "start_time": "2023-05-25T06:13:15.859Z"
   },
   {
    "duration": 9,
    "start_time": "2023-05-25T06:13:15.898Z"
   },
   {
    "duration": 268,
    "start_time": "2023-05-25T06:13:15.908Z"
   },
   {
    "duration": 29,
    "start_time": "2023-05-25T06:13:16.177Z"
   },
   {
    "duration": 74,
    "start_time": "2023-05-25T06:13:16.208Z"
   },
   {
    "duration": 221,
    "start_time": "2023-05-25T06:13:16.284Z"
   },
   {
    "duration": 8,
    "start_time": "2023-05-25T06:13:16.507Z"
   },
   {
    "duration": 316,
    "start_time": "2023-05-25T06:13:16.517Z"
   },
   {
    "duration": 37,
    "start_time": "2023-05-25T06:13:16.836Z"
   },
   {
    "duration": 8,
    "start_time": "2023-05-25T06:13:16.875Z"
   },
   {
    "duration": 252,
    "start_time": "2023-05-25T06:13:16.885Z"
   },
   {
    "duration": 144,
    "start_time": "2023-05-25T06:13:17.139Z"
   },
   {
    "duration": 147,
    "start_time": "2023-05-25T06:13:17.285Z"
   },
   {
    "duration": 312,
    "start_time": "2023-05-25T06:13:17.434Z"
   },
   {
    "duration": 606,
    "start_time": "2023-05-25T06:13:17.747Z"
   },
   {
    "duration": 454,
    "start_time": "2023-05-25T06:13:18.355Z"
   },
   {
    "duration": 3,
    "start_time": "2023-05-25T06:13:18.811Z"
   },
   {
    "duration": 137,
    "start_time": "2023-05-25T06:13:18.815Z"
   },
   {
    "duration": 15,
    "start_time": "2023-05-25T06:13:18.954Z"
   },
   {
    "duration": 21186,
    "start_time": "2023-05-25T06:13:18.970Z"
   },
   {
    "duration": 494,
    "start_time": "2023-05-25T06:13:40.157Z"
   },
   {
    "duration": 16,
    "start_time": "2023-05-25T06:13:40.654Z"
   },
   {
    "duration": 139,
    "start_time": "2023-05-25T06:13:40.672Z"
   },
   {
    "duration": 11,
    "start_time": "2023-05-25T06:13:40.813Z"
   },
   {
    "duration": 439,
    "start_time": "2023-05-25T06:13:40.826Z"
   },
   {
    "duration": 12,
    "start_time": "2023-05-25T06:13:41.267Z"
   },
   {
    "duration": 3,
    "start_time": "2023-05-25T06:13:41.281Z"
   },
   {
    "duration": 33,
    "start_time": "2023-05-25T09:00:40.862Z"
   },
   {
    "duration": 2232,
    "start_time": "2023-05-25T09:00:40.897Z"
   },
   {
    "duration": 1463,
    "start_time": "2023-05-25T09:00:43.131Z"
   },
   {
    "duration": 1083,
    "start_time": "2023-05-25T09:00:44.597Z"
   },
   {
    "duration": 5,
    "start_time": "2023-05-25T09:00:45.681Z"
   },
   {
    "duration": 368,
    "start_time": "2023-05-25T09:00:45.687Z"
   },
   {
    "duration": 4,
    "start_time": "2023-05-25T09:00:46.056Z"
   },
   {
    "duration": 20,
    "start_time": "2023-05-25T09:00:46.062Z"
   },
   {
    "duration": 24,
    "start_time": "2023-05-25T09:00:46.083Z"
   },
   {
    "duration": 50,
    "start_time": "2023-05-25T09:00:46.109Z"
   },
   {
    "duration": 41,
    "start_time": "2023-05-25T09:00:46.161Z"
   },
   {
    "duration": 62,
    "start_time": "2023-05-25T09:00:46.203Z"
   },
   {
    "duration": 31,
    "start_time": "2023-05-25T09:00:46.267Z"
   },
   {
    "duration": 33,
    "start_time": "2023-05-25T09:00:46.300Z"
   },
   {
    "duration": 34,
    "start_time": "2023-05-25T09:00:46.334Z"
   },
   {
    "duration": 34,
    "start_time": "2023-05-25T09:00:46.369Z"
   },
   {
    "duration": 36,
    "start_time": "2023-05-25T09:00:46.405Z"
   },
   {
    "duration": 79,
    "start_time": "2023-05-25T09:00:46.443Z"
   },
   {
    "duration": 6,
    "start_time": "2023-05-25T09:00:46.525Z"
   },
   {
    "duration": 38,
    "start_time": "2023-05-25T09:00:46.533Z"
   },
   {
    "duration": 8,
    "start_time": "2023-05-25T09:00:46.573Z"
   },
   {
    "duration": 251,
    "start_time": "2023-05-25T09:00:46.582Z"
   },
   {
    "duration": 30,
    "start_time": "2023-05-25T09:00:46.835Z"
   },
   {
    "duration": 91,
    "start_time": "2023-05-25T09:00:46.867Z"
   },
   {
    "duration": 275,
    "start_time": "2023-05-25T09:00:46.960Z"
   },
   {
    "duration": 10,
    "start_time": "2023-05-25T09:00:47.237Z"
   },
   {
    "duration": 333,
    "start_time": "2023-05-25T09:00:47.249Z"
   },
   {
    "duration": 30,
    "start_time": "2023-05-25T09:00:47.585Z"
   },
   {
    "duration": 8,
    "start_time": "2023-05-25T09:00:47.617Z"
   },
   {
    "duration": 252,
    "start_time": "2023-05-25T09:00:47.626Z"
   },
   {
    "duration": 142,
    "start_time": "2023-05-25T09:00:47.880Z"
   },
   {
    "duration": 135,
    "start_time": "2023-05-25T09:00:48.024Z"
   },
   {
    "duration": 366,
    "start_time": "2023-05-25T09:00:48.160Z"
   },
   {
    "duration": 653,
    "start_time": "2023-05-25T09:00:48.527Z"
   },
   {
    "duration": 553,
    "start_time": "2023-05-25T09:00:49.181Z"
   },
   {
    "duration": 4,
    "start_time": "2023-05-25T09:00:49.736Z"
   },
   {
    "duration": 94,
    "start_time": "2023-05-25T09:00:49.741Z"
   },
   {
    "duration": 15,
    "start_time": "2023-05-25T09:00:49.837Z"
   },
   {
    "duration": 18048,
    "start_time": "2023-05-25T09:00:49.854Z"
   },
   {
    "duration": 395,
    "start_time": "2023-05-25T09:01:07.904Z"
   },
   {
    "duration": 100,
    "start_time": "2023-05-25T09:01:08.302Z"
   },
   {
    "duration": 65,
    "start_time": "2023-05-25T09:01:08.404Z"
   },
   {
    "duration": 27,
    "start_time": "2023-05-25T09:01:08.470Z"
   },
   {
    "duration": 423,
    "start_time": "2023-05-25T09:01:08.499Z"
   },
   {
    "duration": 10,
    "start_time": "2023-05-25T09:01:08.924Z"
   },
   {
    "duration": 9,
    "start_time": "2023-05-25T09:01:08.936Z"
   },
   {
    "duration": 1292434,
    "start_time": "2023-05-25T09:01:08.946Z"
   },
   {
    "duration": 126006,
    "start_time": "2023-05-25T09:22:41.382Z"
   },
   {
    "duration": 22172,
    "start_time": "2023-05-25T09:24:47.390Z"
   },
   {
    "duration": 181,
    "start_time": "2023-05-25T09:25:09.563Z"
   },
   {
    "duration": 2,
    "start_time": "2023-05-25T09:25:09.746Z"
   },
   {
    "duration": 100,
    "start_time": "2023-05-25T09:29:08.411Z"
   },
   {
    "duration": 2087,
    "start_time": "2023-05-25T09:29:08.513Z"
   },
   {
    "duration": 1352,
    "start_time": "2023-05-25T09:29:10.602Z"
   },
   {
    "duration": 1002,
    "start_time": "2023-05-25T09:29:11.956Z"
   },
   {
    "duration": 3,
    "start_time": "2023-05-25T09:29:12.960Z"
   },
   {
    "duration": 369,
    "start_time": "2023-05-25T09:29:12.964Z"
   },
   {
    "duration": 4,
    "start_time": "2023-05-25T09:29:13.334Z"
   },
   {
    "duration": 8,
    "start_time": "2023-05-25T09:29:13.340Z"
   },
   {
    "duration": 11,
    "start_time": "2023-05-25T09:29:13.349Z"
   },
   {
    "duration": 56,
    "start_time": "2023-05-25T09:29:13.362Z"
   },
   {
    "duration": 35,
    "start_time": "2023-05-25T09:29:13.420Z"
   },
   {
    "duration": 49,
    "start_time": "2023-05-25T09:29:13.457Z"
   },
   {
    "duration": 32,
    "start_time": "2023-05-25T09:29:13.507Z"
   },
   {
    "duration": 20,
    "start_time": "2023-05-25T09:29:13.540Z"
   },
   {
    "duration": 43,
    "start_time": "2023-05-25T09:29:13.561Z"
   },
   {
    "duration": 19,
    "start_time": "2023-05-25T09:29:13.605Z"
   },
   {
    "duration": 34,
    "start_time": "2023-05-25T09:29:13.625Z"
   },
   {
    "duration": 85,
    "start_time": "2023-05-25T09:29:13.660Z"
   },
   {
    "duration": 9,
    "start_time": "2023-05-25T09:29:13.747Z"
   },
   {
    "duration": 42,
    "start_time": "2023-05-25T09:29:13.758Z"
   },
   {
    "duration": 10,
    "start_time": "2023-05-25T09:29:13.801Z"
   },
   {
    "duration": 232,
    "start_time": "2023-05-25T09:29:13.812Z"
   },
   {
    "duration": 27,
    "start_time": "2023-05-25T09:29:14.046Z"
   },
   {
    "duration": 78,
    "start_time": "2023-05-25T09:29:14.075Z"
   },
   {
    "duration": 198,
    "start_time": "2023-05-25T09:29:14.154Z"
   },
   {
    "duration": 7,
    "start_time": "2023-05-25T09:29:14.354Z"
   },
   {
    "duration": 271,
    "start_time": "2023-05-25T09:29:14.363Z"
   },
   {
    "duration": 27,
    "start_time": "2023-05-25T09:29:14.638Z"
   },
   {
    "duration": 9,
    "start_time": "2023-05-25T09:29:14.667Z"
   },
   {
    "duration": 353,
    "start_time": "2023-05-25T09:29:14.678Z"
   },
   {
    "duration": 145,
    "start_time": "2023-05-25T09:29:15.033Z"
   },
   {
    "duration": 136,
    "start_time": "2023-05-25T09:29:15.180Z"
   },
   {
    "duration": 309,
    "start_time": "2023-05-25T09:29:15.318Z"
   },
   {
    "duration": 542,
    "start_time": "2023-05-25T09:29:15.628Z"
   },
   {
    "duration": 428,
    "start_time": "2023-05-25T09:29:16.172Z"
   },
   {
    "duration": 3,
    "start_time": "2023-05-25T09:29:16.602Z"
   },
   {
    "duration": 98,
    "start_time": "2023-05-25T09:29:16.606Z"
   },
   {
    "duration": 14,
    "start_time": "2023-05-25T09:29:16.706Z"
   },
   {
    "duration": 18279,
    "start_time": "2023-05-25T09:29:16.722Z"
   },
   {
    "duration": 397,
    "start_time": "2023-05-25T09:29:35.003Z"
   },
   {
    "duration": 98,
    "start_time": "2023-05-25T09:29:35.402Z"
   },
   {
    "duration": 63,
    "start_time": "2023-05-25T09:29:35.502Z"
   },
   {
    "duration": 10,
    "start_time": "2023-05-25T09:29:35.566Z"
   },
   {
    "duration": 455,
    "start_time": "2023-05-25T09:29:35.597Z"
   },
   {
    "duration": 12,
    "start_time": "2023-05-25T09:29:36.054Z"
   },
   {
    "duration": 129138,
    "start_time": "2023-05-25T09:29:36.067Z"
   },
   {
    "duration": 22608,
    "start_time": "2023-05-25T09:31:45.207Z"
   },
   {
    "duration": 165,
    "start_time": "2023-05-25T09:32:07.817Z"
   },
   {
    "duration": 3,
    "start_time": "2023-05-25T09:32:07.984Z"
   },
   {
    "duration": 178404,
    "start_time": "2023-05-25T09:32:07.996Z"
   },
   {
    "duration": 37212,
    "start_time": "2023-05-25T09:35:06.401Z"
   },
   {
    "duration": 22888,
    "start_time": "2023-05-25T09:35:43.615Z"
   },
   {
    "duration": 2,
    "start_time": "2023-05-25T09:36:06.505Z"
   },
   {
    "duration": 3204,
    "start_time": "2023-05-25T09:36:06.509Z"
   },
   {
    "duration": 0,
    "start_time": "2023-05-25T09:36:09.714Z"
   },
   {
    "duration": 0,
    "start_time": "2023-05-25T09:36:09.715Z"
   },
   {
    "duration": 0,
    "start_time": "2023-05-25T09:36:09.716Z"
   },
   {
    "duration": 0,
    "start_time": "2023-05-25T09:36:09.717Z"
   },
   {
    "duration": 0,
    "start_time": "2023-05-25T09:36:09.718Z"
   },
   {
    "duration": 0,
    "start_time": "2023-05-25T09:36:09.719Z"
   },
   {
    "duration": 36209,
    "start_time": "2023-05-25T09:56:53.791Z"
   },
   {
    "duration": 20529,
    "start_time": "2023-05-25T09:58:02.925Z"
   },
   {
    "duration": 3,
    "start_time": "2023-05-25T09:58:40.261Z"
   },
   {
    "duration": 1549,
    "start_time": "2023-05-25T09:58:41.919Z"
   },
   {
    "duration": 87,
    "start_time": "2023-05-25T09:59:44.300Z"
   },
   {
    "duration": 11,
    "start_time": "2023-05-25T09:59:49.101Z"
   },
   {
    "duration": 10,
    "start_time": "2023-05-25T09:59:52.324Z"
   },
   {
    "duration": 10,
    "start_time": "2023-05-25T10:01:17.734Z"
   },
   {
    "duration": 1575859,
    "start_time": "2023-05-25T10:01:46.420Z"
   },
   {
    "duration": 484581,
    "start_time": "2023-05-25T10:57:27.548Z"
   },
   {
    "duration": 4216,
    "start_time": "2023-05-25T11:05:45.897Z"
   },
   {
    "duration": 13,
    "start_time": "2023-05-25T11:27:41.981Z"
   },
   {
    "duration": 59957,
    "start_time": "2023-05-25T11:28:14.955Z"
   },
   {
    "duration": 7304,
    "start_time": "2023-05-25T11:29:45.610Z"
   },
   {
    "duration": 3564,
    "start_time": "2023-05-25T11:30:01.925Z"
   },
   {
    "duration": 61,
    "start_time": "2023-05-25T12:08:21.423Z"
   },
   {
    "duration": 4954,
    "start_time": "2023-05-25T12:08:21.486Z"
   },
   {
    "duration": 1485,
    "start_time": "2023-05-25T12:08:26.442Z"
   },
   {
    "duration": 2807,
    "start_time": "2023-05-25T12:08:27.928Z"
   },
   {
    "duration": 4,
    "start_time": "2023-05-25T12:08:30.737Z"
   },
   {
    "duration": 319,
    "start_time": "2023-05-25T12:08:30.742Z"
   },
   {
    "duration": 4,
    "start_time": "2023-05-25T12:08:31.063Z"
   },
   {
    "duration": 29,
    "start_time": "2023-05-25T12:08:31.068Z"
   },
   {
    "duration": 29,
    "start_time": "2023-05-25T12:08:31.099Z"
   },
   {
    "duration": 66,
    "start_time": "2023-05-25T12:08:31.129Z"
   },
   {
    "duration": 53,
    "start_time": "2023-05-25T12:08:31.197Z"
   },
   {
    "duration": 77,
    "start_time": "2023-05-25T12:08:31.251Z"
   },
   {
    "duration": 36,
    "start_time": "2023-05-25T12:08:31.330Z"
   },
   {
    "duration": 61,
    "start_time": "2023-05-25T12:08:31.369Z"
   },
   {
    "duration": 70,
    "start_time": "2023-05-25T12:08:31.432Z"
   },
   {
    "duration": 59,
    "start_time": "2023-05-25T12:08:31.504Z"
   },
   {
    "duration": 55,
    "start_time": "2023-05-25T12:08:31.564Z"
   },
   {
    "duration": 94,
    "start_time": "2023-05-25T12:08:31.621Z"
   },
   {
    "duration": 11,
    "start_time": "2023-05-25T12:08:31.717Z"
   },
   {
    "duration": 61,
    "start_time": "2023-05-25T12:08:31.730Z"
   },
   {
    "duration": 11,
    "start_time": "2023-05-25T12:08:31.793Z"
   },
   {
    "duration": 264,
    "start_time": "2023-05-25T12:08:31.805Z"
   },
   {
    "duration": 33,
    "start_time": "2023-05-25T12:08:32.070Z"
   },
   {
    "duration": 72,
    "start_time": "2023-05-25T12:08:32.104Z"
   },
   {
    "duration": 214,
    "start_time": "2023-05-25T12:08:32.177Z"
   },
   {
    "duration": 10,
    "start_time": "2023-05-25T12:08:32.393Z"
   },
   {
    "duration": 254,
    "start_time": "2023-05-25T12:08:32.405Z"
   },
   {
    "duration": 30,
    "start_time": "2023-05-25T12:08:32.661Z"
   },
   {
    "duration": 10,
    "start_time": "2023-05-25T12:08:32.692Z"
   },
   {
    "duration": 331,
    "start_time": "2023-05-25T12:08:32.703Z"
   },
   {
    "duration": 133,
    "start_time": "2023-05-25T12:08:33.036Z"
   },
   {
    "duration": 133,
    "start_time": "2023-05-25T12:08:33.171Z"
   },
   {
    "duration": 279,
    "start_time": "2023-05-25T12:08:33.306Z"
   },
   {
    "duration": 599,
    "start_time": "2023-05-25T12:08:33.587Z"
   },
   {
    "duration": 459,
    "start_time": "2023-05-25T12:08:34.188Z"
   },
   {
    "duration": 4,
    "start_time": "2023-05-25T12:08:34.649Z"
   },
   {
    "duration": 111,
    "start_time": "2023-05-25T12:08:34.655Z"
   },
   {
    "duration": 26,
    "start_time": "2023-05-25T12:08:34.768Z"
   },
   {
    "duration": 18183,
    "start_time": "2023-05-25T12:08:34.796Z"
   },
   {
    "duration": 399,
    "start_time": "2023-05-25T12:08:52.981Z"
   },
   {
    "duration": 101,
    "start_time": "2023-05-25T12:08:53.384Z"
   },
   {
    "duration": 63,
    "start_time": "2023-05-25T12:08:53.487Z"
   },
   {
    "duration": 26,
    "start_time": "2023-05-25T12:08:53.552Z"
   },
   {
    "duration": 394,
    "start_time": "2023-05-25T12:08:53.580Z"
   },
   {
    "duration": 12,
    "start_time": "2023-05-25T12:08:53.976Z"
   },
   {
    "duration": 136434,
    "start_time": "2023-05-25T12:08:53.990Z"
   },
   {
    "duration": 23841,
    "start_time": "2023-05-25T12:11:10.425Z"
   },
   {
    "duration": 175,
    "start_time": "2023-05-25T12:11:34.267Z"
   },
   {
    "duration": 2,
    "start_time": "2023-05-25T12:11:34.444Z"
   },
   {
    "duration": 158245,
    "start_time": "2023-05-25T12:11:34.448Z"
   },
   {
    "duration": 38201,
    "start_time": "2023-05-25T12:14:12.694Z"
   },
   {
    "duration": 19101,
    "start_time": "2023-05-25T12:14:50.896Z"
   },
   {
    "duration": 3,
    "start_time": "2023-05-25T12:15:09.999Z"
   },
   {
    "duration": 789385,
    "start_time": "2023-05-25T12:15:10.003Z"
   },
   {
    "duration": 0,
    "start_time": "2023-05-25T12:28:19.390Z"
   },
   {
    "duration": 0,
    "start_time": "2023-05-25T12:28:19.391Z"
   },
   {
    "duration": 0,
    "start_time": "2023-05-25T12:28:19.392Z"
   },
   {
    "duration": 0,
    "start_time": "2023-05-25T12:28:19.393Z"
   },
   {
    "duration": 0,
    "start_time": "2023-05-25T12:28:19.394Z"
   },
   {
    "duration": 0,
    "start_time": "2023-05-25T12:28:19.395Z"
   }
  ],
  "colab": {
   "provenance": [],
   "toc_visible": true
  },
  "kernelspec": {
   "display_name": "Python 3 (ipykernel)",
   "language": "python",
   "name": "python3"
  },
  "language_info": {
   "codemirror_mode": {
    "name": "ipython",
    "version": 3
   },
   "file_extension": ".py",
   "mimetype": "text/x-python",
   "name": "python",
   "nbconvert_exporter": "python",
   "pygments_lexer": "ipython3",
   "version": "3.10.11"
  },
  "toc": {
   "base_numbering": 1,
   "nav_menu": {
    "height": "385px",
    "width": "266px"
   },
   "number_sections": true,
   "sideBar": true,
   "skip_h1_title": true,
   "title_cell": "Table of Contents",
   "title_sidebar": "Contents",
   "toc_cell": false,
   "toc_position": {},
   "toc_section_display": true,
   "toc_window_display": false
  }
 },
 "nbformat": 4,
 "nbformat_minor": 1
}
