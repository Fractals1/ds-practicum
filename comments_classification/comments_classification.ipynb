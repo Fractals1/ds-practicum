{
 "cells": [
  {
   "cell_type": "markdown",
   "metadata": {
    "toc": true
   },
   "source": [
    "<h1>Содержание<span class=\"tocSkip\"></span></h1>\n",
    "<div class=\"toc\"><ul class=\"toc-item\"><li><span><a href=\"#Подготовка\" data-toc-modified-id=\"Подготовка-1\"><span class=\"toc-item-num\">1&nbsp;&nbsp;</span>Подготовка</a></span></li><li><span><a href=\"#Обучение\" data-toc-modified-id=\"Обучение-2\"><span class=\"toc-item-num\">2&nbsp;&nbsp;</span>Обучение</a></span><ul class=\"toc-item\"><li><span><a href=\"#Логистическая-регрессия\" data-toc-modified-id=\"Логистическая-регрессия-2.1\"><span class=\"toc-item-num\">2.1&nbsp;&nbsp;</span>Логистическая регрессия</a></span></li><li><span><a href=\"#Случайны-лес\" data-toc-modified-id=\"Случайны-лес-2.2\"><span class=\"toc-item-num\">2.2&nbsp;&nbsp;</span>Случайны лес</a></span></li><li><span><a href=\"#Тестирование-лучше-модели\" data-toc-modified-id=\"Тестирование-лучше-модели-2.3\"><span class=\"toc-item-num\">2.3&nbsp;&nbsp;</span>Тестирование лучше модели</a></span></li></ul></li><li><span><a href=\"#Выводы\" data-toc-modified-id=\"Выводы-3\"><span class=\"toc-item-num\">3&nbsp;&nbsp;</span>Выводы</a></span></li><li><span><a href=\"#Чек-лист-проверки\" data-toc-modified-id=\"Чек-лист-проверки-4\"><span class=\"toc-item-num\">4&nbsp;&nbsp;</span>Чек-лист проверки</a></span></li></ul></div>"
   ]
  },
  {
   "cell_type": "markdown",
   "metadata": {},
   "source": [
    "# Проект для «Викишоп»"
   ]
  },
  {
   "cell_type": "markdown",
   "metadata": {},
   "source": [
    "Интернет-магазин «Викишоп» запускает новый сервис. Теперь пользователи могут редактировать и дополнять описания товаров, как в вики-сообществах. То есть клиенты предлагают свои правки и комментируют изменения других. Магазину нужен инструмент, который будет искать токсичные комментарии и отправлять их на модерацию. \n",
    "\n",
    "Обучите модель классифицировать комментарии на позитивные и негативные. В вашем распоряжении набор данных с разметкой о токсичности правок.\n",
    "\n",
    "Постройте модель со значением метрики качества *F1* не меньше 0.75. \n",
    "\n",
    "**Инструкция по выполнению проекта**\n",
    "\n",
    "1. Загрузите и подготовьте данные.\n",
    "2. Обучите разные модели. \n",
    "3. Сделайте выводы.\n",
    "\n",
    "Для выполнения проекта применять *BERT* необязательно, но вы можете попробовать.\n",
    "\n",
    "**Описание данных**\n",
    "\n",
    "Данные находятся в файле `toxic_comments.csv`. Столбец *text* в нём содержит текст комментария, а *toxic* — целевой признак."
   ]
  },
  {
   "cell_type": "code",
   "execution_count": 1,
   "metadata": {},
   "outputs": [
    {
     "data": {
      "text/html": [
       "<style>.container { width:90% !important; }</style>"
      ],
      "text/plain": [
       "<IPython.core.display.HTML object>"
      ]
     },
     "metadata": {},
     "output_type": "display_data"
    }
   ],
   "source": [
    "from IPython.core.display import display, HTML\n",
    "display(HTML('<style>.container { width:90% !important; }</style>'))"
   ]
  },
  {
   "cell_type": "code",
   "execution_count": 2,
   "metadata": {},
   "outputs": [
    {
     "name": "stderr",
     "output_type": "stream",
     "text": [
      "[nltk_data] Downloading package stopwords to /home/jovyan/nltk_data...\n",
      "[nltk_data]   Package stopwords is already up-to-date!\n",
      "[nltk_data] Downloading package wordnet to /home/jovyan/nltk_data...\n",
      "[nltk_data]   Package wordnet is already up-to-date!\n",
      "[nltk_data] Downloading package punkt to /home/jovyan/nltk_data...\n",
      "[nltk_data]   Package punkt is already up-to-date!\n",
      "[nltk_data] Downloading package averaged_perceptron_tagger to\n",
      "[nltk_data]     /home/jovyan/nltk_data...\n",
      "[nltk_data]   Package averaged_perceptron_tagger is already up-to-\n",
      "[nltk_data]       date!\n"
     ]
    }
   ],
   "source": [
    "import pandas as pd\n",
    "import numpy as np\n",
    "import nltk\n",
    "from nltk.corpus import stopwords\n",
    "from nltk.stem import WordNetLemmatizer\n",
    "from nltk.corpus import wordnet\n",
    "nltk.download('stopwords')\n",
    "nltk.download('wordnet')\n",
    "nltk.download('punkt')\n",
    "nltk.download('averaged_perceptron_tagger')\n",
    "stopwords = stopwords.words('english')\n",
    "\n",
    "pd.set_option('display.max_colwidth', 1000)\n",
    "import re\n",
    "\n",
    "\n",
    "from sklearn.ensemble import RandomForestClassifier\n",
    "from sklearn.feature_extraction.text import TfidfVectorizer\n",
    "from sklearn.linear_model import LogisticRegression\n",
    "from sklearn.pipeline import Pipeline\n",
    "from sklearn.model_selection import train_test_split, cross_val_score, GridSearchCV\n",
    "from sklearn.metrics import f1_score\n",
    "from sklearn import metrics\n",
    "\n",
    "import warnings\n",
    "warnings.filterwarnings('ignore')"
   ]
  },
  {
   "cell_type": "markdown",
   "metadata": {},
   "source": [
    "## Подготовка"
   ]
  },
  {
   "cell_type": "code",
   "execution_count": 3,
   "metadata": {},
   "outputs": [],
   "source": [
    "comments = pd.read_csv('/datasets/toxic_comments.csv')"
   ]
  },
  {
   "cell_type": "code",
   "execution_count": 4,
   "metadata": {},
   "outputs": [
    {
     "data": {
      "text/html": [
       "<div>\n",
       "<style scoped>\n",
       "    .dataframe tbody tr th:only-of-type {\n",
       "        vertical-align: middle;\n",
       "    }\n",
       "\n",
       "    .dataframe tbody tr th {\n",
       "        vertical-align: top;\n",
       "    }\n",
       "\n",
       "    .dataframe thead th {\n",
       "        text-align: right;\n",
       "    }\n",
       "</style>\n",
       "<table border=\"1\" class=\"dataframe\">\n",
       "  <thead>\n",
       "    <tr style=\"text-align: right;\">\n",
       "      <th></th>\n",
       "      <th>Unnamed: 0</th>\n",
       "      <th>text</th>\n",
       "      <th>toxic</th>\n",
       "    </tr>\n",
       "  </thead>\n",
       "  <tbody>\n",
       "    <tr>\n",
       "      <th>0</th>\n",
       "      <td>0</td>\n",
       "      <td>Explanation\\nWhy the edits made under my username Hardcore Metallica Fan were reverted? They weren't vandalisms, just closure on some GAs after I voted at New York Dolls FAC. And please don't remove the template from the talk page since I'm retired now.89.205.38.27</td>\n",
       "      <td>0</td>\n",
       "    </tr>\n",
       "    <tr>\n",
       "      <th>1</th>\n",
       "      <td>1</td>\n",
       "      <td>D'aww! He matches this background colour I'm seemingly stuck with. Thanks.  (talk) 21:51, January 11, 2016 (UTC)</td>\n",
       "      <td>0</td>\n",
       "    </tr>\n",
       "    <tr>\n",
       "      <th>2</th>\n",
       "      <td>2</td>\n",
       "      <td>Hey man, I'm really not trying to edit war. It's just that this guy is constantly removing relevant information and talking to me through edits instead of my talk page. He seems to care more about the formatting than the actual info.</td>\n",
       "      <td>0</td>\n",
       "    </tr>\n",
       "    <tr>\n",
       "      <th>3</th>\n",
       "      <td>3</td>\n",
       "      <td>\"\\nMore\\nI can't make any real suggestions on improvement - I wondered if the section statistics should be later on, or a subsection of \"\"types of accidents\"\"  -I think the references may need tidying so that they are all in the exact same format ie date format etc. I can do that later on, if no-one else does first - if you have any preferences for formatting style on references or want to do it yourself please let me know.\\n\\nThere appears to be a backlog on articles for review so I guess there may be a delay until a reviewer turns up. It's listed in the relevant form eg Wikipedia:Good_article_nominations#Transport  \"</td>\n",
       "      <td>0</td>\n",
       "    </tr>\n",
       "    <tr>\n",
       "      <th>4</th>\n",
       "      <td>4</td>\n",
       "      <td>You, sir, are my hero. Any chance you remember what page that's on?</td>\n",
       "      <td>0</td>\n",
       "    </tr>\n",
       "    <tr>\n",
       "      <th>5</th>\n",
       "      <td>5</td>\n",
       "      <td>\"\\n\\nCongratulations from me as well, use the tools well.  · talk \"</td>\n",
       "      <td>0</td>\n",
       "    </tr>\n",
       "    <tr>\n",
       "      <th>6</th>\n",
       "      <td>6</td>\n",
       "      <td>COCKSUCKER BEFORE YOU PISS AROUND ON MY WORK</td>\n",
       "      <td>1</td>\n",
       "    </tr>\n",
       "    <tr>\n",
       "      <th>7</th>\n",
       "      <td>7</td>\n",
       "      <td>Your vandalism to the Matt Shirvington article has been reverted.  Please don't do it again, or you will be banned.</td>\n",
       "      <td>0</td>\n",
       "    </tr>\n",
       "    <tr>\n",
       "      <th>8</th>\n",
       "      <td>8</td>\n",
       "      <td>Sorry if the word 'nonsense' was offensive to you. Anyway, I'm not intending to write anything in the article(wow they would jump on me for vandalism), I'm merely requesting that it be more encyclopedic so one can use it for school as a reference. I have been to the selective breeding page but it's almost a stub. It points to 'animal breeding' which is a short messy article that gives you no info. There must be someone around with expertise in eugenics? 93.161.107.169</td>\n",
       "      <td>0</td>\n",
       "    </tr>\n",
       "    <tr>\n",
       "      <th>9</th>\n",
       "      <td>9</td>\n",
       "      <td>alignment on this subject and which are contrary to those of DuLithgow</td>\n",
       "      <td>0</td>\n",
       "    </tr>\n",
       "  </tbody>\n",
       "</table>\n",
       "</div>"
      ],
      "text/plain": [
       "   Unnamed: 0  \\\n",
       "0           0   \n",
       "1           1   \n",
       "2           2   \n",
       "3           3   \n",
       "4           4   \n",
       "5           5   \n",
       "6           6   \n",
       "7           7   \n",
       "8           8   \n",
       "9           9   \n",
       "\n",
       "                                                                                                                                                                                                                                                                                                                                                                                                                                                                                                                                                                                                                                                 text  \\\n",
       "0                                                                                                                                                                                                                                                                                                                                                                           Explanation\\nWhy the edits made under my username Hardcore Metallica Fan were reverted? They weren't vandalisms, just closure on some GAs after I voted at New York Dolls FAC. And please don't remove the template from the talk page since I'm retired now.89.205.38.27   \n",
       "1                                                                                                                                                                                                                                                                                                                                                                                                                                                                                                                                    D'aww! He matches this background colour I'm seemingly stuck with. Thanks.  (talk) 21:51, January 11, 2016 (UTC)   \n",
       "2                                                                                                                                                                                                                                                                                                                                                                                                           Hey man, I'm really not trying to edit war. It's just that this guy is constantly removing relevant information and talking to me through edits instead of my talk page. He seems to care more about the formatting than the actual info.   \n",
       "3  \"\\nMore\\nI can't make any real suggestions on improvement - I wondered if the section statistics should be later on, or a subsection of \"\"types of accidents\"\"  -I think the references may need tidying so that they are all in the exact same format ie date format etc. I can do that later on, if no-one else does first - if you have any preferences for formatting style on references or want to do it yourself please let me know.\\n\\nThere appears to be a backlog on articles for review so I guess there may be a delay until a reviewer turns up. It's listed in the relevant form eg Wikipedia:Good_article_nominations#Transport  \"   \n",
       "4                                                                                                                                                                                                                                                                                                                                                                                                                                                                                                                                                                                 You, sir, are my hero. Any chance you remember what page that's on?   \n",
       "5                                                                                                                                                                                                                                                                                                                                                                                                                                                                                                                                                                                 \"\\n\\nCongratulations from me as well, use the tools well.  · talk \"   \n",
       "6                                                                                                                                                                                                                                                                                                                                                                                                                                                                                                                                                                                                        COCKSUCKER BEFORE YOU PISS AROUND ON MY WORK   \n",
       "7                                                                                                                                                                                                                                                                                                                                                                                                                                                                                                                                 Your vandalism to the Matt Shirvington article has been reverted.  Please don't do it again, or you will be banned.   \n",
       "8                                                                                                                                                            Sorry if the word 'nonsense' was offensive to you. Anyway, I'm not intending to write anything in the article(wow they would jump on me for vandalism), I'm merely requesting that it be more encyclopedic so one can use it for school as a reference. I have been to the selective breeding page but it's almost a stub. It points to 'animal breeding' which is a short messy article that gives you no info. There must be someone around with expertise in eugenics? 93.161.107.169   \n",
       "9                                                                                                                                                                                                                                                                                                                                                                                                                                                                                                                                                                              alignment on this subject and which are contrary to those of DuLithgow   \n",
       "\n",
       "   toxic  \n",
       "0      0  \n",
       "1      0  \n",
       "2      0  \n",
       "3      0  \n",
       "4      0  \n",
       "5      0  \n",
       "6      1  \n",
       "7      0  \n",
       "8      0  \n",
       "9      0  "
      ]
     },
     "execution_count": 4,
     "metadata": {},
     "output_type": "execute_result"
    }
   ],
   "source": [
    "comments.head(10)"
   ]
  },
  {
   "cell_type": "code",
   "execution_count": 5,
   "metadata": {
    "scrolled": true
   },
   "outputs": [
    {
     "name": "stdout",
     "output_type": "stream",
     "text": [
      "<class 'pandas.core.frame.DataFrame'>\n",
      "RangeIndex: 159292 entries, 0 to 159291\n",
      "Data columns (total 3 columns):\n",
      " #   Column      Non-Null Count   Dtype \n",
      "---  ------      --------------   ----- \n",
      " 0   Unnamed: 0  159292 non-null  int64 \n",
      " 1   text        159292 non-null  object\n",
      " 2   toxic       159292 non-null  int64 \n",
      "dtypes: int64(2), object(1)\n",
      "memory usage: 3.6+ MB\n"
     ]
    }
   ],
   "source": [
    "comments.info()"
   ]
  },
  {
   "cell_type": "code",
   "execution_count": 6,
   "metadata": {},
   "outputs": [
    {
     "name": "stdout",
     "output_type": "stream",
     "text": [
      "Количество дубликатов: 0\n"
     ]
    }
   ],
   "source": [
    "print(f'Количество дубликатов: {comments.duplicated().sum()}')"
   ]
  },
  {
   "cell_type": "markdown",
   "metadata": {},
   "source": [
    "В данных есть столбец Unnamed: 0 - похоже это нумерация. удалим его"
   ]
  },
  {
   "cell_type": "code",
   "execution_count": 7,
   "metadata": {},
   "outputs": [],
   "source": [
    "comments = comments.drop('Unnamed: 0', axis=1)"
   ]
  },
  {
   "cell_type": "code",
   "execution_count": 8,
   "metadata": {
    "scrolled": true
   },
   "outputs": [
    {
     "data": {
      "text/html": [
       "<div>\n",
       "<style scoped>\n",
       "    .dataframe tbody tr th:only-of-type {\n",
       "        vertical-align: middle;\n",
       "    }\n",
       "\n",
       "    .dataframe tbody tr th {\n",
       "        vertical-align: top;\n",
       "    }\n",
       "\n",
       "    .dataframe thead th {\n",
       "        text-align: right;\n",
       "    }\n",
       "</style>\n",
       "<table border=\"1\" class=\"dataframe\">\n",
       "  <thead>\n",
       "    <tr style=\"text-align: right;\">\n",
       "      <th></th>\n",
       "      <th>text</th>\n",
       "      <th>toxic</th>\n",
       "    </tr>\n",
       "  </thead>\n",
       "  <tbody>\n",
       "    <tr>\n",
       "      <th>0</th>\n",
       "      <td>Explanation\\nWhy the edits made under my username Hardcore Metallica Fan were reverted? They weren't vandalisms, just closure on some GAs after I voted at New York Dolls FAC. And please don't remove the template from the talk page since I'm retired now.89.205.38.27</td>\n",
       "      <td>0</td>\n",
       "    </tr>\n",
       "    <tr>\n",
       "      <th>1</th>\n",
       "      <td>D'aww! He matches this background colour I'm seemingly stuck with. Thanks.  (talk) 21:51, January 11, 2016 (UTC)</td>\n",
       "      <td>0</td>\n",
       "    </tr>\n",
       "    <tr>\n",
       "      <th>2</th>\n",
       "      <td>Hey man, I'm really not trying to edit war. It's just that this guy is constantly removing relevant information and talking to me through edits instead of my talk page. He seems to care more about the formatting than the actual info.</td>\n",
       "      <td>0</td>\n",
       "    </tr>\n",
       "    <tr>\n",
       "      <th>3</th>\n",
       "      <td>\"\\nMore\\nI can't make any real suggestions on improvement - I wondered if the section statistics should be later on, or a subsection of \"\"types of accidents\"\"  -I think the references may need tidying so that they are all in the exact same format ie date format etc. I can do that later on, if no-one else does first - if you have any preferences for formatting style on references or want to do it yourself please let me know.\\n\\nThere appears to be a backlog on articles for review so I guess there may be a delay until a reviewer turns up. It's listed in the relevant form eg Wikipedia:Good_article_nominations#Transport  \"</td>\n",
       "      <td>0</td>\n",
       "    </tr>\n",
       "    <tr>\n",
       "      <th>4</th>\n",
       "      <td>You, sir, are my hero. Any chance you remember what page that's on?</td>\n",
       "      <td>0</td>\n",
       "    </tr>\n",
       "    <tr>\n",
       "      <th>5</th>\n",
       "      <td>\"\\n\\nCongratulations from me as well, use the tools well.  · talk \"</td>\n",
       "      <td>0</td>\n",
       "    </tr>\n",
       "    <tr>\n",
       "      <th>6</th>\n",
       "      <td>COCKSUCKER BEFORE YOU PISS AROUND ON MY WORK</td>\n",
       "      <td>1</td>\n",
       "    </tr>\n",
       "    <tr>\n",
       "      <th>7</th>\n",
       "      <td>Your vandalism to the Matt Shirvington article has been reverted.  Please don't do it again, or you will be banned.</td>\n",
       "      <td>0</td>\n",
       "    </tr>\n",
       "    <tr>\n",
       "      <th>8</th>\n",
       "      <td>Sorry if the word 'nonsense' was offensive to you. Anyway, I'm not intending to write anything in the article(wow they would jump on me for vandalism), I'm merely requesting that it be more encyclopedic so one can use it for school as a reference. I have been to the selective breeding page but it's almost a stub. It points to 'animal breeding' which is a short messy article that gives you no info. There must be someone around with expertise in eugenics? 93.161.107.169</td>\n",
       "      <td>0</td>\n",
       "    </tr>\n",
       "    <tr>\n",
       "      <th>9</th>\n",
       "      <td>alignment on this subject and which are contrary to those of DuLithgow</td>\n",
       "      <td>0</td>\n",
       "    </tr>\n",
       "  </tbody>\n",
       "</table>\n",
       "</div>"
      ],
      "text/plain": [
       "                                                                                                                                                                                                                                                                                                                                                                                                                                                                                                                                                                                                                                                 text  \\\n",
       "0                                                                                                                                                                                                                                                                                                                                                                           Explanation\\nWhy the edits made under my username Hardcore Metallica Fan were reverted? They weren't vandalisms, just closure on some GAs after I voted at New York Dolls FAC. And please don't remove the template from the talk page since I'm retired now.89.205.38.27   \n",
       "1                                                                                                                                                                                                                                                                                                                                                                                                                                                                                                                                    D'aww! He matches this background colour I'm seemingly stuck with. Thanks.  (talk) 21:51, January 11, 2016 (UTC)   \n",
       "2                                                                                                                                                                                                                                                                                                                                                                                                           Hey man, I'm really not trying to edit war. It's just that this guy is constantly removing relevant information and talking to me through edits instead of my talk page. He seems to care more about the formatting than the actual info.   \n",
       "3  \"\\nMore\\nI can't make any real suggestions on improvement - I wondered if the section statistics should be later on, or a subsection of \"\"types of accidents\"\"  -I think the references may need tidying so that they are all in the exact same format ie date format etc. I can do that later on, if no-one else does first - if you have any preferences for formatting style on references or want to do it yourself please let me know.\\n\\nThere appears to be a backlog on articles for review so I guess there may be a delay until a reviewer turns up. It's listed in the relevant form eg Wikipedia:Good_article_nominations#Transport  \"   \n",
       "4                                                                                                                                                                                                                                                                                                                                                                                                                                                                                                                                                                                 You, sir, are my hero. Any chance you remember what page that's on?   \n",
       "5                                                                                                                                                                                                                                                                                                                                                                                                                                                                                                                                                                                 \"\\n\\nCongratulations from me as well, use the tools well.  · talk \"   \n",
       "6                                                                                                                                                                                                                                                                                                                                                                                                                                                                                                                                                                                                        COCKSUCKER BEFORE YOU PISS AROUND ON MY WORK   \n",
       "7                                                                                                                                                                                                                                                                                                                                                                                                                                                                                                                                 Your vandalism to the Matt Shirvington article has been reverted.  Please don't do it again, or you will be banned.   \n",
       "8                                                                                                                                                            Sorry if the word 'nonsense' was offensive to you. Anyway, I'm not intending to write anything in the article(wow they would jump on me for vandalism), I'm merely requesting that it be more encyclopedic so one can use it for school as a reference. I have been to the selective breeding page but it's almost a stub. It points to 'animal breeding' which is a short messy article that gives you no info. There must be someone around with expertise in eugenics? 93.161.107.169   \n",
       "9                                                                                                                                                                                                                                                                                                                                                                                                                                                                                                                                                                              alignment on this subject and which are contrary to those of DuLithgow   \n",
       "\n",
       "   toxic  \n",
       "0      0  \n",
       "1      0  \n",
       "2      0  \n",
       "3      0  \n",
       "4      0  \n",
       "5      0  \n",
       "6      1  \n",
       "7      0  \n",
       "8      0  \n",
       "9      0  "
      ]
     },
     "execution_count": 8,
     "metadata": {},
     "output_type": "execute_result"
    }
   ],
   "source": [
    "comments.head(10)"
   ]
  },
  {
   "cell_type": "markdown",
   "metadata": {},
   "source": [
    "В данных присутствуют разделители строки, заглавные символы. Очистим и произведем лемматизацию"
   ]
  },
  {
   "cell_type": "code",
   "execution_count": 9,
   "metadata": {},
   "outputs": [
    {
     "name": "stdout",
     "output_type": "stream",
     "text": [
      "CPU times: user 24min 4s, sys: 2min 12s, total: 26min 17s\n",
      "Wall time: 26min 32s\n"
     ]
    }
   ],
   "source": [
    "%%time\n",
    "m = WordNetLemmatizer()\n",
    "\n",
    "def get_wordnet_pos(word):\n",
    "    \"\"\"Map POS tag to first character lemmatize() accepts\"\"\"\n",
    "    tag = nltk.pos_tag([word])[0][1][0].upper()\n",
    "    tag_dict = {\"J\": wordnet.ADJ,\n",
    "                \"N\": wordnet.NOUN,\n",
    "                \"V\": wordnet.VERB,\n",
    "                \"R\": wordnet.ADV}\n",
    "    return tag_dict.get(tag, wordnet.NOUN)\n",
    "\n",
    "def clear_lemmatize(text):\n",
    "    text = text.lower()\n",
    "    lemm_text = \" \".join(m.lemmatize(w ,get_wordnet_pos(w)) for w in nltk.word_tokenize(text))\n",
    "    cleared_text = re.sub(r'[^a-zA-Z]', ' ', lemm_text) \n",
    "    return \" \".join(cleared_text.split())\n",
    "\n",
    "comments['lemm_text'] = comments['text'].apply(clear_lemmatize)\n",
    "\n",
    "del m"
   ]
  },
  {
   "cell_type": "code",
   "execution_count": 10,
   "metadata": {},
   "outputs": [
    {
     "data": {
      "text/html": [
       "<div>\n",
       "<style scoped>\n",
       "    .dataframe tbody tr th:only-of-type {\n",
       "        vertical-align: middle;\n",
       "    }\n",
       "\n",
       "    .dataframe tbody tr th {\n",
       "        vertical-align: top;\n",
       "    }\n",
       "\n",
       "    .dataframe thead th {\n",
       "        text-align: right;\n",
       "    }\n",
       "</style>\n",
       "<table border=\"1\" class=\"dataframe\">\n",
       "  <thead>\n",
       "    <tr style=\"text-align: right;\">\n",
       "      <th></th>\n",
       "      <th>text</th>\n",
       "      <th>toxic</th>\n",
       "      <th>lemm_text</th>\n",
       "    </tr>\n",
       "  </thead>\n",
       "  <tbody>\n",
       "    <tr>\n",
       "      <th>0</th>\n",
       "      <td>Explanation\\nWhy the edits made under my username Hardcore Metallica Fan were reverted? They weren't vandalisms, just closure on some GAs after I voted at New York Dolls FAC. And please don't remove the template from the talk page since I'm retired now.89.205.38.27</td>\n",
       "      <td>0</td>\n",
       "      <td>explanation why the edits make under my username hardcore metallica fan be revert they be n t vandalism just closure on some gas after i vote at new york doll fac and please do n t remove the template from the talk page since i m retire now</td>\n",
       "    </tr>\n",
       "    <tr>\n",
       "      <th>1</th>\n",
       "      <td>D'aww! He matches this background colour I'm seemingly stuck with. Thanks.  (talk) 21:51, January 11, 2016 (UTC)</td>\n",
       "      <td>0</td>\n",
       "      <td>d aww he match this background colour i m seemingly stuck with thanks talk january utc</td>\n",
       "    </tr>\n",
       "    <tr>\n",
       "      <th>2</th>\n",
       "      <td>Hey man, I'm really not trying to edit war. It's just that this guy is constantly removing relevant information and talking to me through edits instead of my talk page. He seems to care more about the formatting than the actual info.</td>\n",
       "      <td>0</td>\n",
       "      <td>hey man i m really not try to edit war it s just that this guy be constantly remove relevant information and talk to me through edits instead of my talk page he seem to care more about the format than the actual info</td>\n",
       "    </tr>\n",
       "    <tr>\n",
       "      <th>3</th>\n",
       "      <td>\"\\nMore\\nI can't make any real suggestions on improvement - I wondered if the section statistics should be later on, or a subsection of \"\"types of accidents\"\"  -I think the references may need tidying so that they are all in the exact same format ie date format etc. I can do that later on, if no-one else does first - if you have any preferences for formatting style on references or want to do it yourself please let me know.\\n\\nThere appears to be a backlog on articles for review so I guess there may be a delay until a reviewer turns up. It's listed in the relevant form eg Wikipedia:Good_article_nominations#Transport  \"</td>\n",
       "      <td>0</td>\n",
       "      <td>more i ca n t make any real suggestion on improvement i wonder if the section statistic should be later on or a subsection of type of accident i think the reference may need tidy so that they be all in the exact same format ie date format etc i can do that later on if no one else do first if you have any preference for format style on reference or want to do it yourself please let me know there appear to be a backlog on article for review so i guess there may be a delay until a reviewer turn up it s list in the relevant form eg wikipedia good article nominations transport</td>\n",
       "    </tr>\n",
       "    <tr>\n",
       "      <th>4</th>\n",
       "      <td>You, sir, are my hero. Any chance you remember what page that's on?</td>\n",
       "      <td>0</td>\n",
       "      <td>you sir be my hero any chance you remember what page that s on</td>\n",
       "    </tr>\n",
       "    <tr>\n",
       "      <th>5</th>\n",
       "      <td>\"\\n\\nCongratulations from me as well, use the tools well.  · talk \"</td>\n",
       "      <td>0</td>\n",
       "      <td>congratulation from me a well use the tool well talk</td>\n",
       "    </tr>\n",
       "    <tr>\n",
       "      <th>6</th>\n",
       "      <td>COCKSUCKER BEFORE YOU PISS AROUND ON MY WORK</td>\n",
       "      <td>1</td>\n",
       "      <td>cocksucker before you piss around on my work</td>\n",
       "    </tr>\n",
       "    <tr>\n",
       "      <th>7</th>\n",
       "      <td>Your vandalism to the Matt Shirvington article has been reverted.  Please don't do it again, or you will be banned.</td>\n",
       "      <td>0</td>\n",
       "      <td>your vandalism to the matt shirvington article have be revert please do n t do it again or you will be ban</td>\n",
       "    </tr>\n",
       "    <tr>\n",
       "      <th>8</th>\n",
       "      <td>Sorry if the word 'nonsense' was offensive to you. Anyway, I'm not intending to write anything in the article(wow they would jump on me for vandalism), I'm merely requesting that it be more encyclopedic so one can use it for school as a reference. I have been to the selective breeding page but it's almost a stub. It points to 'animal breeding' which is a short messy article that gives you no info. There must be someone around with expertise in eugenics? 93.161.107.169</td>\n",
       "      <td>0</td>\n",
       "      <td>sorry if the word nonsense be offensive to you anyway i m not intend to write anything in the article wow they would jump on me for vandalism i m merely request that it be more encyclopedic so one can use it for school a a reference i have be to the selective breeding page but it s almost a stub it point to animal breeding which be a short messy article that give you no info there must be someone around with expertise in eugenics</td>\n",
       "    </tr>\n",
       "    <tr>\n",
       "      <th>9</th>\n",
       "      <td>alignment on this subject and which are contrary to those of DuLithgow</td>\n",
       "      <td>0</td>\n",
       "      <td>alignment on this subject and which be contrary to those of dulithgow</td>\n",
       "    </tr>\n",
       "  </tbody>\n",
       "</table>\n",
       "</div>"
      ],
      "text/plain": [
       "                                                                                                                                                                                                                                                                                                                                                                                                                                                                                                                                                                                                                                                 text  \\\n",
       "0                                                                                                                                                                                                                                                                                                                                                                           Explanation\\nWhy the edits made under my username Hardcore Metallica Fan were reverted? They weren't vandalisms, just closure on some GAs after I voted at New York Dolls FAC. And please don't remove the template from the talk page since I'm retired now.89.205.38.27   \n",
       "1                                                                                                                                                                                                                                                                                                                                                                                                                                                                                                                                    D'aww! He matches this background colour I'm seemingly stuck with. Thanks.  (talk) 21:51, January 11, 2016 (UTC)   \n",
       "2                                                                                                                                                                                                                                                                                                                                                                                                           Hey man, I'm really not trying to edit war. It's just that this guy is constantly removing relevant information and talking to me through edits instead of my talk page. He seems to care more about the formatting than the actual info.   \n",
       "3  \"\\nMore\\nI can't make any real suggestions on improvement - I wondered if the section statistics should be later on, or a subsection of \"\"types of accidents\"\"  -I think the references may need tidying so that they are all in the exact same format ie date format etc. I can do that later on, if no-one else does first - if you have any preferences for formatting style on references or want to do it yourself please let me know.\\n\\nThere appears to be a backlog on articles for review so I guess there may be a delay until a reviewer turns up. It's listed in the relevant form eg Wikipedia:Good_article_nominations#Transport  \"   \n",
       "4                                                                                                                                                                                                                                                                                                                                                                                                                                                                                                                                                                                 You, sir, are my hero. Any chance you remember what page that's on?   \n",
       "5                                                                                                                                                                                                                                                                                                                                                                                                                                                                                                                                                                                 \"\\n\\nCongratulations from me as well, use the tools well.  · talk \"   \n",
       "6                                                                                                                                                                                                                                                                                                                                                                                                                                                                                                                                                                                                        COCKSUCKER BEFORE YOU PISS AROUND ON MY WORK   \n",
       "7                                                                                                                                                                                                                                                                                                                                                                                                                                                                                                                                 Your vandalism to the Matt Shirvington article has been reverted.  Please don't do it again, or you will be banned.   \n",
       "8                                                                                                                                                            Sorry if the word 'nonsense' was offensive to you. Anyway, I'm not intending to write anything in the article(wow they would jump on me for vandalism), I'm merely requesting that it be more encyclopedic so one can use it for school as a reference. I have been to the selective breeding page but it's almost a stub. It points to 'animal breeding' which is a short messy article that gives you no info. There must be someone around with expertise in eugenics? 93.161.107.169   \n",
       "9                                                                                                                                                                                                                                                                                                                                                                                                                                                                                                                                                                              alignment on this subject and which are contrary to those of DuLithgow   \n",
       "\n",
       "   toxic  \\\n",
       "0      0   \n",
       "1      0   \n",
       "2      0   \n",
       "3      0   \n",
       "4      0   \n",
       "5      0   \n",
       "6      1   \n",
       "7      0   \n",
       "8      0   \n",
       "9      0   \n",
       "\n",
       "                                                                                                                                                                                                                                                                                                                                                                                                                                                                                                                                                                                            lemm_text  \n",
       "0                                                                                                                                                                                                                                                                                                                                                    explanation why the edits make under my username hardcore metallica fan be revert they be n t vandalism just closure on some gas after i vote at new york doll fac and please do n t remove the template from the talk page since i m retire now  \n",
       "1                                                                                                                                                                                                                                                                                                                                                                                                                                                                                                              d aww he match this background colour i m seemingly stuck with thanks talk january utc  \n",
       "2                                                                                                                                                                                                                                                                                                                                                                            hey man i m really not try to edit war it s just that this guy be constantly remove relevant information and talk to me through edits instead of my talk page he seem to care more about the format than the actual info  \n",
       "3  more i ca n t make any real suggestion on improvement i wonder if the section statistic should be later on or a subsection of type of accident i think the reference may need tidy so that they be all in the exact same format ie date format etc i can do that later on if no one else do first if you have any preference for format style on reference or want to do it yourself please let me know there appear to be a backlog on article for review so i guess there may be a delay until a reviewer turn up it s list in the relevant form eg wikipedia good article nominations transport  \n",
       "4                                                                                                                                                                                                                                                                                                                                                                                                                                                                                                                                      you sir be my hero any chance you remember what page that s on  \n",
       "5                                                                                                                                                                                                                                                                                                                                                                                                                                                                                                                                                congratulation from me a well use the tool well talk  \n",
       "6                                                                                                                                                                                                                                                                                                                                                                                                                                                                                                                                                        cocksucker before you piss around on my work  \n",
       "7                                                                                                                                                                                                                                                                                                                                                                                                                                                                                          your vandalism to the matt shirvington article have be revert please do n t do it again or you will be ban  \n",
       "8                                                                                                                                                   sorry if the word nonsense be offensive to you anyway i m not intend to write anything in the article wow they would jump on me for vandalism i m merely request that it be more encyclopedic so one can use it for school a a reference i have be to the selective breeding page but it s almost a stub it point to animal breeding which be a short messy article that give you no info there must be someone around with expertise in eugenics  \n",
       "9                                                                                                                                                                                                                                                                                                                                                                                                                                                                                                                               alignment on this subject and which be contrary to those of dulithgow  "
      ]
     },
     "metadata": {},
     "output_type": "display_data"
    }
   ],
   "source": [
    "display(comments.head(10))"
   ]
  },
  {
   "cell_type": "markdown",
   "metadata": {},
   "source": [
    "Удалим исходные комментарии после лематизации они нам не понадобятся"
   ]
  },
  {
   "cell_type": "code",
   "execution_count": 11,
   "metadata": {},
   "outputs": [],
   "source": [
    "comments = comments.drop(['text'], axis=1)"
   ]
  },
  {
   "cell_type": "markdown",
   "metadata": {},
   "source": [
    "## Обучение"
   ]
  },
  {
   "cell_type": "markdown",
   "metadata": {},
   "source": [
    "Подготовим данные"
   ]
  },
  {
   "cell_type": "code",
   "execution_count": 12,
   "metadata": {},
   "outputs": [],
   "source": [
    "features = comments.drop(['toxic'], axis=1)\n",
    "target = comments['toxic']"
   ]
  },
  {
   "cell_type": "markdown",
   "metadata": {},
   "source": [
    "Разобьем выборку по отношению 60/20/20. Уменьшим количество кроссвалидаций до 3 из-за размера выборки."
   ]
  },
  {
   "cell_type": "code",
   "execution_count": 13,
   "metadata": {},
   "outputs": [],
   "source": [
    "features_train, features_valid, target_train, target_valid = train_test_split(features, \n",
    "                                                                              target, \n",
    "                                                                              test_size=0.4, \n",
    "                                                                              random_state=12345)\n",
    "features_valid, features_test, target_valid, target_test = train_test_split(features_valid, \n",
    "                                                                            target_valid, \n",
    "                                                                            test_size=0.5,\n",
    "                                                                            random_state=12345)\n"
   ]
  },
  {
   "cell_type": "code",
   "execution_count": 14,
   "metadata": {
    "scrolled": true
   },
   "outputs": [
    {
     "name": "stdout",
     "output_type": "stream",
     "text": [
      "(95575, 114770)\n",
      "(31858, 114770)\n",
      "(31859, 114770)\n"
     ]
    }
   ],
   "source": [
    "count_tf_idf = TfidfVectorizer(stop_words=stopwords)\n",
    "\n",
    "features_train = count_tf_idf.fit_transform(features_train['lemm_text'])\n",
    "features_valid = count_tf_idf.transform(features_valid['lemm_text'])\n",
    "features_test = count_tf_idf.transform(features_test['lemm_text'])\n",
    "print(features_train.shape)\n",
    "print(features_valid.shape)\n",
    "print(features_test.shape)\n",
    "cv_counts = 3"
   ]
  },
  {
   "cell_type": "markdown",
   "metadata": {},
   "source": [
    "### Логистическая регрессия"
   ]
  },
  {
   "cell_type": "code",
   "execution_count": 15,
   "metadata": {},
   "outputs": [],
   "source": [
    "pipe = Pipeline([\n",
    "    (\n",
    "    ('model', LogisticRegression(random_state=12345, solver='liblinear', max_iter=200))\n",
    "    )\n",
    "    ])\n",
    "param_grid = [\n",
    "        {\n",
    "\n",
    "            'model': [LogisticRegression(random_state=12345, solver='liblinear')],\n",
    "            'model__penalty' : ['l1', 'l2'],\n",
    "            'model__C': list(range(1,15,3))\n",
    "        }]"
   ]
  },
  {
   "cell_type": "code",
   "execution_count": 16,
   "metadata": {},
   "outputs": [
    {
     "name": "stdout",
     "output_type": "stream",
     "text": [
      "Fitting 3 folds for each of 10 candidates, totalling 30 fits\n",
      "Best parameters is: {'model': LogisticRegression(C=4, penalty='l1', random_state=12345, solver='liblinear'), 'model__C': 4, 'model__penalty': 'l1'}\n",
      "Best score is: 0.7616208246030859\n"
     ]
    }
   ],
   "source": [
    "lr_grid = GridSearchCV(pipe, param_grid=param_grid, scoring='f1', cv=cv_counts, verbose=True, n_jobs=-1)\n",
    "best_grid = lr_grid.fit(features_train, target_train)\n",
    "print('Best parameters is:', lr_grid.best_params_)\n",
    "print('Best score is:', lr_grid.best_score_)"
   ]
  },
  {
   "cell_type": "markdown",
   "metadata": {},
   "source": [
    "Модель логистической регресси на тренировочной выборке показала F1 0.7616208246030859"
   ]
  },
  {
   "cell_type": "markdown",
   "metadata": {},
   "source": [
    "### Случайны лес"
   ]
  },
  {
   "cell_type": "code",
   "execution_count": 17,
   "metadata": {},
   "outputs": [
    {
     "name": "stdout",
     "output_type": "stream",
     "text": [
      "Fitting 3 folds for each of 10 candidates, totalling 30 fits\n",
      "Best parameters is: {'max_depth': 15, 'n_estimators': 50}\n",
      "Best score is: 0.00041433602651750565\n"
     ]
    }
   ],
   "source": [
    "params_forest = {\n",
    "    'n_estimators': list(range(50,300,50)),\n",
    "    'max_depth':[5,15]\n",
    "}\n",
    "rfc = RandomForestClassifier(random_state=12345)\n",
    "                                 \n",
    "grid = GridSearchCV(rfc, param_grid=params_forest, scoring='f1', cv=cv_counts, verbose=True, n_jobs=-1)\n",
    "best_grid = grid.fit(features_train, target_train)\n",
    "print('Best parameters is:', grid.best_params_)\n",
    "print('Best score is:', grid.best_score_)"
   ]
  },
  {
   "cell_type": "markdown",
   "metadata": {},
   "source": [
    " Случайный лес с ппараметрами 'max_depth': 15, 'n_estimators': 50 показал результат 0.00041433602651750565"
   ]
  },
  {
   "cell_type": "markdown",
   "metadata": {},
   "source": [
    "### Тестирование лучше модели"
   ]
  },
  {
   "cell_type": "markdown",
   "metadata": {},
   "source": [
    "проверим Логистическую регрессию на валидационной выборке"
   ]
  },
  {
   "cell_type": "code",
   "execution_count": 18,
   "metadata": {},
   "outputs": [
    {
     "name": "stdout",
     "output_type": "stream",
     "text": [
      "F1 0.781962338949455\n"
     ]
    }
   ],
   "source": [
    "lr = LogisticRegression(random_state=12345, C = 4, penalty = 'l1', solver='liblinear', max_iter=200)\n",
    "lr.fit(features_train, target_train)\n",
    "valid_pred = lr.predict(features_valid)\n",
    "print('F1',f1_score(target_valid, valid_pred))"
   ]
  },
  {
   "cell_type": "code",
   "execution_count": 19,
   "metadata": {},
   "outputs": [
    {
     "name": "stdout",
     "output_type": "stream",
     "text": [
      "              precision    recall  f1-score   support\n",
      "\n",
      "           0       0.97      0.99      0.98     28639\n",
      "           1       0.85      0.70      0.77      3220\n",
      "\n",
      "    accuracy                           0.96     31859\n",
      "   macro avg       0.91      0.84      0.87     31859\n",
      "weighted avg       0.96      0.96      0.96     31859\n",
      " 0.7687051588657329\n"
     ]
    }
   ],
   "source": [
    "test_pred = lr.predict(features_test)\n",
    "print(metrics.classification_report(target_test, test_pred), metrics.f1_score(target_test, test_pred))"
   ]
  },
  {
   "cell_type": "markdown",
   "metadata": {},
   "source": [
    "На тестовой выборке модель Логистической ргегресси показала F1: 0.7687051588657329"
   ]
  },
  {
   "cell_type": "markdown",
   "metadata": {},
   "source": [
    "## Выводы"
   ]
  },
  {
   "cell_type": "markdown",
   "metadata": {},
   "source": [
    "В данном проекте мы провели подготовку данных для обучения моделец. Произвели лематизацию, сентимент анализ. Далее раздели данные на тренировочную, валидацилнную и тестовую выборки.\n",
    "Произвели кросс-валидацию Логистической регресси и случаного леса. Во время кроссавалидации лучший результат показала логистическая леегрессия f1:  0.7687051588657329\n",
    "    \n",
    "На тестовой выборке Наша модель показалал 0.7710925515595705 что уклдаывается в тербования задачи."
   ]
  }
 ],
 "metadata": {
  "ExecuteTimeLog": [
   {
    "duration": 50,
    "start_time": "2023-06-11T06:24:19.086Z"
   },
   {
    "duration": 39,
    "start_time": "2023-06-11T06:24:30.080Z"
   },
   {
    "duration": 2056,
    "start_time": "2023-06-11T06:24:32.141Z"
   },
   {
    "duration": 182,
    "start_time": "2023-06-11T06:24:43.833Z"
   },
   {
    "duration": 2341,
    "start_time": "2023-06-11T06:25:45.688Z"
   },
   {
    "duration": 11,
    "start_time": "2023-06-11T06:25:49.453Z"
   },
   {
    "duration": 35,
    "start_time": "2023-06-11T06:26:23.977Z"
   },
   {
    "duration": 12,
    "start_time": "2023-06-11T06:26:58.801Z"
   },
   {
    "duration": 242,
    "start_time": "2023-06-11T06:27:09.009Z"
   },
   {
    "duration": 2399,
    "start_time": "2023-06-11T06:29:36.094Z"
   },
   {
    "duration": 7,
    "start_time": "2023-06-11T06:30:40.540Z"
   },
   {
    "duration": 1841,
    "start_time": "2023-06-11T06:31:12.913Z"
   },
   {
    "duration": 7,
    "start_time": "2023-06-11T06:33:41.331Z"
   },
   {
    "duration": 717,
    "start_time": "2023-06-11T06:33:44.827Z"
   },
   {
    "duration": 8,
    "start_time": "2023-06-11T06:33:45.588Z"
   },
   {
    "duration": 39,
    "start_time": "2023-06-11T06:33:48.453Z"
   },
   {
    "duration": 241,
    "start_time": "2023-06-11T06:33:49.597Z"
   },
   {
    "duration": 2268,
    "start_time": "2023-06-11T06:33:51.884Z"
   },
   {
    "duration": 8,
    "start_time": "2023-06-11T06:33:55.614Z"
   },
   {
    "duration": 1783,
    "start_time": "2023-06-11T06:36:38.858Z"
   },
   {
    "duration": 71,
    "start_time": "2023-06-11T06:43:28.807Z"
   },
   {
    "duration": 36,
    "start_time": "2023-06-11T06:43:38.638Z"
   },
   {
    "duration": 20,
    "start_time": "2023-06-11T06:43:39.751Z"
   },
   {
    "duration": 12,
    "start_time": "2023-06-11T06:44:25.878Z"
   },
   {
    "duration": 2555,
    "start_time": "2023-06-11T06:44:28.366Z"
   },
   {
    "duration": 13,
    "start_time": "2023-06-11T06:44:30.923Z"
   },
   {
    "duration": 39,
    "start_time": "2023-06-11T06:44:31.985Z"
   },
   {
    "duration": 295,
    "start_time": "2023-06-11T06:44:34.160Z"
   },
   {
    "duration": 2600,
    "start_time": "2023-06-11T06:44:37.663Z"
   },
   {
    "duration": 9,
    "start_time": "2023-06-11T06:44:40.265Z"
   },
   {
    "duration": 60,
    "start_time": "2023-06-11T06:44:42.689Z"
   },
   {
    "duration": 2106,
    "start_time": "2023-06-11T06:44:51.458Z"
   },
   {
    "duration": 54,
    "start_time": "2023-06-11T06:47:03.971Z"
   },
   {
    "duration": 39,
    "start_time": "2023-06-11T06:47:13.834Z"
   },
   {
    "duration": 1543,
    "start_time": "2023-06-11T06:47:13.876Z"
   },
   {
    "duration": 2287,
    "start_time": "2023-06-11T06:47:15.421Z"
   },
   {
    "duration": 11,
    "start_time": "2023-06-11T06:47:17.711Z"
   },
   {
    "duration": 36,
    "start_time": "2023-06-11T06:47:17.724Z"
   },
   {
    "duration": 255,
    "start_time": "2023-06-11T06:47:17.762Z"
   },
   {
    "duration": 2399,
    "start_time": "2023-06-11T06:47:18.019Z"
   },
   {
    "duration": 8,
    "start_time": "2023-06-11T06:47:20.419Z"
   },
   {
    "duration": 2071,
    "start_time": "2023-06-11T06:47:20.428Z"
   },
   {
    "duration": 48,
    "start_time": "2023-06-11T06:54:35.903Z"
   },
   {
    "duration": 39,
    "start_time": "2023-06-11T06:54:48.439Z"
   },
   {
    "duration": 1758,
    "start_time": "2023-06-11T06:54:48.480Z"
   },
   {
    "duration": 2515,
    "start_time": "2023-06-11T06:54:50.240Z"
   },
   {
    "duration": 12,
    "start_time": "2023-06-11T06:54:52.758Z"
   },
   {
    "duration": 42,
    "start_time": "2023-06-11T06:54:52.772Z"
   },
   {
    "duration": 291,
    "start_time": "2023-06-11T06:54:52.816Z"
   },
   {
    "duration": 2535,
    "start_time": "2023-06-11T06:54:53.109Z"
   },
   {
    "duration": 8,
    "start_time": "2023-06-11T06:54:55.647Z"
   },
   {
    "duration": 152,
    "start_time": "2023-06-11T06:54:55.658Z"
   },
   {
    "duration": 2,
    "start_time": "2023-06-11T06:57:55.110Z"
   },
   {
    "duration": 1185,
    "start_time": "2023-06-11T06:57:56.240Z"
   },
   {
    "duration": 4,
    "start_time": "2023-06-11T06:59:02.334Z"
   },
   {
    "duration": 17,
    "start_time": "2023-06-11T06:59:08.766Z"
   },
   {
    "duration": 1916,
    "start_time": "2023-06-11T06:59:57.072Z"
   },
   {
    "duration": 17,
    "start_time": "2023-06-11T07:00:04.207Z"
   },
   {
    "duration": 13,
    "start_time": "2023-06-11T07:00:15.216Z"
   },
   {
    "duration": 48,
    "start_time": "2023-06-11T07:01:00.540Z"
   },
   {
    "duration": 39,
    "start_time": "2023-06-11T07:01:13.740Z"
   },
   {
    "duration": 1573,
    "start_time": "2023-06-11T07:01:13.781Z"
   },
   {
    "duration": 2300,
    "start_time": "2023-06-11T07:01:15.355Z"
   },
   {
    "duration": 10,
    "start_time": "2023-06-11T07:01:17.657Z"
   },
   {
    "duration": 40,
    "start_time": "2023-06-11T07:01:17.668Z"
   },
   {
    "duration": 252,
    "start_time": "2023-06-11T07:01:17.710Z"
   },
   {
    "duration": 2457,
    "start_time": "2023-06-11T07:01:17.964Z"
   },
   {
    "duration": 7,
    "start_time": "2023-06-11T07:01:20.423Z"
   },
   {
    "duration": 12,
    "start_time": "2023-06-11T07:01:20.431Z"
   },
   {
    "duration": 1932,
    "start_time": "2023-06-11T07:01:27.878Z"
   },
   {
    "duration": 134,
    "start_time": "2023-06-11T07:01:44.907Z"
   },
   {
    "duration": 303,
    "start_time": "2023-06-11T07:04:47.592Z"
   },
   {
    "duration": 7,
    "start_time": "2023-06-11T07:05:36.913Z"
   },
   {
    "duration": 33475,
    "start_time": "2023-06-11T07:05:41.980Z"
   },
   {
    "duration": 79651,
    "start_time": "2023-06-11T07:06:38.637Z"
   },
   {
    "duration": 8,
    "start_time": "2023-06-11T07:20:02.980Z"
   },
   {
    "duration": 4,
    "start_time": "2023-06-11T07:21:59.441Z"
   },
   {
    "duration": 45,
    "start_time": "2023-06-13T09:08:01.455Z"
   },
   {
    "duration": 55,
    "start_time": "2023-06-13T09:08:09.008Z"
   },
   {
    "duration": 1856,
    "start_time": "2023-06-13T09:08:09.065Z"
   },
   {
    "duration": 3237,
    "start_time": "2023-06-13T09:08:10.923Z"
   },
   {
    "duration": 10,
    "start_time": "2023-06-13T09:08:14.162Z"
   },
   {
    "duration": 34,
    "start_time": "2023-06-13T09:08:14.174Z"
   },
   {
    "duration": 228,
    "start_time": "2023-06-13T09:08:14.210Z"
   },
   {
    "duration": 129548,
    "start_time": "2023-06-13T09:08:14.439Z"
   },
   {
    "duration": 8,
    "start_time": "2023-06-13T09:10:23.988Z"
   },
   {
    "duration": 9,
    "start_time": "2023-06-13T09:10:23.997Z"
   },
   {
    "duration": 126,
    "start_time": "2023-06-13T09:10:24.008Z"
   },
   {
    "duration": 0,
    "start_time": "2023-06-13T09:10:24.136Z"
   },
   {
    "duration": 3,
    "start_time": "2023-06-13T09:26:00.414Z"
   },
   {
    "duration": 80,
    "start_time": "2023-06-13T09:26:01.891Z"
   },
   {
    "duration": 1027,
    "start_time": "2023-06-13T09:26:04.791Z"
   },
   {
    "duration": 2326,
    "start_time": "2023-06-13T09:26:47.089Z"
   },
   {
    "duration": 4,
    "start_time": "2023-06-13T09:27:27.900Z"
   },
   {
    "duration": 101,
    "start_time": "2023-06-13T09:27:37.590Z"
   },
   {
    "duration": 6,
    "start_time": "2023-06-13T09:27:41.954Z"
   },
   {
    "duration": 15,
    "start_time": "2023-06-13T09:28:01.126Z"
   },
   {
    "duration": 59,
    "start_time": "2023-06-13T09:31:55.414Z"
   },
   {
    "duration": 1768,
    "start_time": "2023-06-13T09:31:55.476Z"
   },
   {
    "duration": 3210,
    "start_time": "2023-06-13T09:31:57.245Z"
   },
   {
    "duration": 9,
    "start_time": "2023-06-13T09:32:00.457Z"
   },
   {
    "duration": 58,
    "start_time": "2023-06-13T09:32:00.469Z"
   },
   {
    "duration": 337,
    "start_time": "2023-06-13T09:32:00.529Z"
   },
   {
    "duration": 129567,
    "start_time": "2023-06-13T09:32:00.868Z"
   },
   {
    "duration": 9,
    "start_time": "2023-06-13T09:34:10.436Z"
   },
   {
    "duration": 113,
    "start_time": "2023-06-13T09:34:38.853Z"
   },
   {
    "duration": 32,
    "start_time": "2023-06-13T09:34:45.125Z"
   },
   {
    "duration": 21,
    "start_time": "2023-06-13T09:34:53.206Z"
   },
   {
    "duration": 41,
    "start_time": "2023-06-13T09:34:56.826Z"
   },
   {
    "duration": 48,
    "start_time": "2023-06-13T09:37:48.730Z"
   },
   {
    "duration": 59,
    "start_time": "2023-06-13T09:37:56.120Z"
   },
   {
    "duration": 2018,
    "start_time": "2023-06-13T09:37:56.181Z"
   },
   {
    "duration": 3641,
    "start_time": "2023-06-13T09:37:58.201Z"
   },
   {
    "duration": 12,
    "start_time": "2023-06-13T09:38:01.844Z"
   },
   {
    "duration": 125,
    "start_time": "2023-06-13T09:38:01.858Z"
   },
   {
    "duration": 255,
    "start_time": "2023-06-13T09:38:01.985Z"
   },
   {
    "duration": 128979,
    "start_time": "2023-06-13T09:38:02.242Z"
   },
   {
    "duration": 7,
    "start_time": "2023-06-13T09:40:11.223Z"
   },
   {
    "duration": 32,
    "start_time": "2023-06-13T09:40:11.232Z"
   },
   {
    "duration": 16,
    "start_time": "2023-06-13T09:40:11.266Z"
   },
   {
    "duration": 72,
    "start_time": "2023-06-13T09:40:11.284Z"
   },
   {
    "duration": 45,
    "start_time": "2023-06-13T09:41:49.564Z"
   },
   {
    "duration": 69,
    "start_time": "2023-06-13T09:44:29.164Z"
   },
   {
    "duration": 1992,
    "start_time": "2023-06-13T09:44:29.236Z"
   },
   {
    "duration": 3712,
    "start_time": "2023-06-13T09:44:31.237Z"
   },
   {
    "duration": 8,
    "start_time": "2023-06-13T09:44:34.951Z"
   },
   {
    "duration": 37,
    "start_time": "2023-06-13T09:44:34.961Z"
   },
   {
    "duration": 223,
    "start_time": "2023-06-13T09:44:34.999Z"
   },
   {
    "duration": 134674,
    "start_time": "2023-06-13T09:44:35.223Z"
   },
   {
    "duration": 22,
    "start_time": "2023-06-13T09:46:49.898Z"
   },
   {
    "duration": 41,
    "start_time": "2023-06-13T09:46:49.927Z"
   },
   {
    "duration": 11,
    "start_time": "2023-06-13T09:46:49.970Z"
   },
   {
    "duration": 65,
    "start_time": "2023-06-13T09:46:49.982Z"
   },
   {
    "duration": 13,
    "start_time": "2023-06-13T09:46:50.049Z"
   },
   {
    "duration": 149,
    "start_time": "2023-06-13T09:48:29.779Z"
   },
   {
    "duration": 12,
    "start_time": "2023-06-13T09:48:36.651Z"
   },
   {
    "duration": 66,
    "start_time": "2023-06-13T09:49:26.884Z"
   },
   {
    "duration": 7,
    "start_time": "2023-06-13T09:49:27.776Z"
   },
   {
    "duration": 739,
    "start_time": "2023-06-13T09:49:32.113Z"
   },
   {
    "duration": 9,
    "start_time": "2023-06-13T09:49:33.285Z"
   },
   {
    "duration": 31,
    "start_time": "2023-06-13T09:49:35.313Z"
   },
   {
    "duration": 227,
    "start_time": "2023-06-13T09:49:36.565Z"
   },
   {
    "duration": 1743,
    "start_time": "2023-06-13T09:49:38.021Z"
   },
   {
    "duration": 81,
    "start_time": "2023-06-13T09:50:21.498Z"
   },
   {
    "duration": 2102,
    "start_time": "2023-06-13T09:50:22.252Z"
   },
   {
    "duration": 3546,
    "start_time": "2023-06-13T09:50:26.258Z"
   },
   {
    "duration": 12,
    "start_time": "2023-06-13T09:50:30.962Z"
   },
   {
    "duration": 42,
    "start_time": "2023-06-13T09:50:34.286Z"
   },
   {
    "duration": 231,
    "start_time": "2023-06-13T09:50:35.338Z"
   },
   {
    "duration": 80,
    "start_time": "2023-06-13T09:52:16.305Z"
   },
   {
    "duration": 2033,
    "start_time": "2023-06-13T09:52:17.184Z"
   },
   {
    "duration": 10,
    "start_time": "2023-06-13T09:52:43.963Z"
   },
   {
    "duration": 3850,
    "start_time": "2023-06-13T09:52:48.038Z"
   },
   {
    "duration": 10,
    "start_time": "2023-06-13T09:52:51.890Z"
   },
   {
    "duration": 7,
    "start_time": "2023-06-13T09:53:34.990Z"
   },
   {
    "duration": 777,
    "start_time": "2023-06-13T09:53:36.088Z"
   },
   {
    "duration": 7,
    "start_time": "2023-06-13T09:53:37.745Z"
   },
   {
    "duration": 44,
    "start_time": "2023-06-13T09:53:40.116Z"
   },
   {
    "duration": 231,
    "start_time": "2023-06-13T09:53:43.422Z"
   },
   {
    "duration": 62307,
    "start_time": "2023-06-13T09:53:50.186Z"
   },
   {
    "duration": 16,
    "start_time": "2023-06-13T09:56:00.949Z"
   },
   {
    "duration": 21,
    "start_time": "2023-06-13T09:56:17.224Z"
   },
   {
    "duration": 96731,
    "start_time": "2023-06-13T09:56:20.778Z"
   },
   {
    "duration": 14,
    "start_time": "2023-06-13T09:57:59.031Z"
   },
   {
    "duration": 1718,
    "start_time": "2023-06-13T09:58:04.338Z"
   },
   {
    "duration": 9,
    "start_time": "2023-06-13T09:58:45.749Z"
   },
   {
    "duration": 14,
    "start_time": "2023-06-13T09:58:49.815Z"
   },
   {
    "duration": 75,
    "start_time": "2023-06-13T09:59:17.490Z"
   },
   {
    "duration": 1610,
    "start_time": "2023-06-13T09:59:17.567Z"
   },
   {
    "duration": 824,
    "start_time": "2023-06-13T09:59:19.178Z"
   },
   {
    "duration": 21,
    "start_time": "2023-06-13T09:59:20.004Z"
   },
   {
    "duration": 53,
    "start_time": "2023-06-13T09:59:20.027Z"
   },
   {
    "duration": 256,
    "start_time": "2023-06-13T09:59:20.082Z"
   },
   {
    "duration": 18,
    "start_time": "2023-06-13T09:59:20.340Z"
   },
   {
    "duration": 2015,
    "start_time": "2023-06-13T09:59:32.772Z"
   },
   {
    "duration": 9,
    "start_time": "2023-06-13T09:59:54.476Z"
   },
   {
    "duration": 9,
    "start_time": "2023-06-13T10:00:04.353Z"
   },
   {
    "duration": 49,
    "start_time": "2023-06-13T10:00:15.042Z"
   },
   {
    "duration": 16,
    "start_time": "2023-06-13T10:00:16.025Z"
   },
   {
    "duration": 812,
    "start_time": "2023-06-13T10:00:19.434Z"
   },
   {
    "duration": 8,
    "start_time": "2023-06-13T10:00:20.497Z"
   },
   {
    "duration": 39,
    "start_time": "2023-06-13T10:00:22.614Z"
   },
   {
    "duration": 217,
    "start_time": "2023-06-13T10:00:24.578Z"
   },
   {
    "duration": 9,
    "start_time": "2023-06-13T10:00:27.182Z"
   },
   {
    "duration": 9,
    "start_time": "2023-06-13T10:00:28.400Z"
   },
   {
    "duration": 30,
    "start_time": "2023-06-13T10:00:41.428Z"
   },
   {
    "duration": 1736,
    "start_time": "2023-06-13T10:02:09.775Z"
   },
   {
    "duration": 19,
    "start_time": "2023-06-13T10:02:12.106Z"
   },
   {
    "duration": 12,
    "start_time": "2023-06-13T10:02:21.754Z"
   },
   {
    "duration": 9,
    "start_time": "2023-06-13T10:02:37.545Z"
   },
   {
    "duration": 826,
    "start_time": "2023-06-13T10:02:41.486Z"
   },
   {
    "duration": 18,
    "start_time": "2023-06-13T10:02:42.315Z"
   },
   {
    "duration": 38,
    "start_time": "2023-06-13T10:02:43.943Z"
   },
   {
    "duration": 208,
    "start_time": "2023-06-13T10:02:44.656Z"
   },
   {
    "duration": 15,
    "start_time": "2023-06-13T10:02:46.088Z"
   },
   {
    "duration": 45,
    "start_time": "2023-06-13T10:03:40.864Z"
   },
   {
    "duration": 6,
    "start_time": "2023-06-13T10:07:28.378Z"
   },
   {
    "duration": 97,
    "start_time": "2023-06-13T10:07:33.887Z"
   },
   {
    "duration": 1798,
    "start_time": "2023-06-13T10:07:35.274Z"
   },
   {
    "duration": 3563,
    "start_time": "2023-06-13T10:07:39.378Z"
   },
   {
    "duration": 10,
    "start_time": "2023-06-13T10:07:42.943Z"
   },
   {
    "duration": 37,
    "start_time": "2023-06-13T10:07:45.104Z"
   },
   {
    "duration": 208,
    "start_time": "2023-06-13T10:07:46.807Z"
   },
   {
    "duration": 9,
    "start_time": "2023-06-13T10:07:49.278Z"
   },
   {
    "duration": 1694,
    "start_time": "2023-06-13T10:07:52.959Z"
   },
   {
    "duration": 8,
    "start_time": "2023-06-13T10:08:03.578Z"
   },
   {
    "duration": 126713,
    "start_time": "2023-06-13T10:08:10.849Z"
   },
   {
    "duration": 82,
    "start_time": "2023-06-13T10:10:31.895Z"
   },
   {
    "duration": 4,
    "start_time": "2023-06-13T10:10:45.584Z"
   },
   {
    "duration": 4,
    "start_time": "2023-06-13T10:11:46.350Z"
   },
   {
    "duration": 16,
    "start_time": "2023-06-13T10:12:00.303Z"
   },
   {
    "duration": 8,
    "start_time": "2023-06-13T10:12:26.902Z"
   },
   {
    "duration": 72,
    "start_time": "2023-06-13T10:15:56.301Z"
   },
   {
    "duration": 1821,
    "start_time": "2023-06-13T10:15:56.375Z"
   },
   {
    "duration": 3958,
    "start_time": "2023-06-13T10:15:58.198Z"
   },
   {
    "duration": 8,
    "start_time": "2023-06-13T10:16:02.158Z"
   },
   {
    "duration": 58,
    "start_time": "2023-06-13T10:16:02.168Z"
   },
   {
    "duration": 248,
    "start_time": "2023-06-13T10:16:02.228Z"
   },
   {
    "duration": 10,
    "start_time": "2023-06-13T10:16:02.478Z"
   },
   {
    "duration": 28,
    "start_time": "2023-06-13T10:16:02.489Z"
   },
   {
    "duration": 50,
    "start_time": "2023-06-13T10:16:02.520Z"
   },
   {
    "duration": 163,
    "start_time": "2023-06-13T10:16:02.573Z"
   },
   {
    "duration": 0,
    "start_time": "2023-06-13T10:16:02.737Z"
   },
   {
    "duration": 0,
    "start_time": "2023-06-13T10:16:02.738Z"
   },
   {
    "duration": 0,
    "start_time": "2023-06-13T10:16:02.740Z"
   },
   {
    "duration": 0,
    "start_time": "2023-06-13T10:16:02.741Z"
   },
   {
    "duration": 0,
    "start_time": "2023-06-13T10:16:02.742Z"
   },
   {
    "duration": 0,
    "start_time": "2023-06-13T10:16:02.749Z"
   },
   {
    "duration": 0,
    "start_time": "2023-06-13T10:16:02.750Z"
   },
   {
    "duration": 6778,
    "start_time": "2023-06-13T10:16:09.778Z"
   },
   {
    "duration": 7,
    "start_time": "2023-06-13T10:16:23.989Z"
   },
   {
    "duration": 7,
    "start_time": "2023-06-13T10:16:29.087Z"
   },
   {
    "duration": 36,
    "start_time": "2023-06-13T10:16:31.779Z"
   },
   {
    "duration": 50,
    "start_time": "2023-06-13T10:16:33.061Z"
   },
   {
    "duration": 9,
    "start_time": "2023-06-13T10:16:34.578Z"
   },
   {
    "duration": 10,
    "start_time": "2023-06-13T10:16:50.769Z"
   },
   {
    "duration": 10450,
    "start_time": "2023-06-13T10:16:59.287Z"
   },
   {
    "duration": 4,
    "start_time": "2023-06-13T10:17:13.359Z"
   },
   {
    "duration": 9,
    "start_time": "2023-06-13T10:17:55.480Z"
   },
   {
    "duration": 6,
    "start_time": "2023-06-13T10:18:58.950Z"
   },
   {
    "duration": 91553,
    "start_time": "2023-06-13T10:19:03.978Z"
   },
   {
    "duration": 94,
    "start_time": "2023-06-13T10:23:45.023Z"
   },
   {
    "duration": 3,
    "start_time": "2023-06-13T10:24:04.604Z"
   },
   {
    "duration": 29,
    "start_time": "2023-06-13T10:24:05.460Z"
   },
   {
    "duration": 2,
    "start_time": "2023-06-13T10:25:07.944Z"
   },
   {
    "duration": 27,
    "start_time": "2023-06-13T10:25:09.845Z"
   },
   {
    "duration": 2,
    "start_time": "2023-06-13T10:26:31.596Z"
   },
   {
    "duration": 23,
    "start_time": "2023-06-13T10:26:32.343Z"
   },
   {
    "duration": 18,
    "start_time": "2023-06-13T10:27:14.519Z"
   },
   {
    "duration": 139025,
    "start_time": "2023-06-13T10:27:24.025Z"
   },
   {
    "duration": 10,
    "start_time": "2023-06-13T10:32:47.445Z"
   },
   {
    "duration": 30,
    "start_time": "2023-06-13T10:33:19.547Z"
   },
   {
    "duration": 14781,
    "start_time": "2023-06-13T10:33:26.554Z"
   },
   {
    "duration": 43274,
    "start_time": "2023-06-13T10:33:43.252Z"
   },
   {
    "duration": 447874,
    "start_time": "2023-06-13T10:34:46.196Z"
   },
   {
    "duration": 1414,
    "start_time": "2023-06-13T10:54:04.472Z"
   },
   {
    "duration": 1444,
    "start_time": "2023-06-13T10:54:20.560Z"
   },
   {
    "duration": 12,
    "start_time": "2023-06-13T10:55:34.888Z"
   },
   {
    "duration": 7,
    "start_time": "2023-06-13T10:56:09.745Z"
   },
   {
    "duration": 56,
    "start_time": "2023-06-13T10:56:19.027Z"
   },
   {
    "duration": 21,
    "start_time": "2023-06-13T10:59:02.532Z"
   },
   {
    "duration": 14,
    "start_time": "2023-06-13T10:59:23.878Z"
   },
   {
    "duration": 126,
    "start_time": "2023-06-13T11:10:54.501Z"
   },
   {
    "duration": 4,
    "start_time": "2023-06-13T11:11:01.253Z"
   },
   {
    "duration": 44,
    "start_time": "2023-06-13T11:11:02.552Z"
   },
   {
    "duration": 3,
    "start_time": "2023-06-13T11:11:45.396Z"
   },
   {
    "duration": 15,
    "start_time": "2023-06-13T11:11:46.138Z"
   },
   {
    "duration": 119,
    "start_time": "2023-06-13T11:11:57.352Z"
   },
   {
    "duration": 28,
    "start_time": "2023-06-13T11:11:57.822Z"
   },
   {
    "duration": 4,
    "start_time": "2023-06-13T11:12:04.149Z"
   },
   {
    "duration": 135861,
    "start_time": "2023-06-13T11:12:05.832Z"
   },
   {
    "duration": 57,
    "start_time": "2023-06-13T11:15:44.488Z"
   },
   {
    "duration": 21,
    "start_time": "2023-06-13T11:23:55.926Z"
   },
   {
    "duration": 6,
    "start_time": "2023-06-13T11:24:02.351Z"
   },
   {
    "duration": 6,
    "start_time": "2023-06-13T11:35:28.730Z"
   },
   {
    "duration": 146690,
    "start_time": "2023-06-13T11:35:29.537Z"
   },
   {
    "duration": 77,
    "start_time": "2023-06-14T05:40:17.423Z"
   },
   {
    "duration": 1796,
    "start_time": "2023-06-14T05:40:17.505Z"
   },
   {
    "duration": 1439,
    "start_time": "2023-06-14T05:40:19.306Z"
   },
   {
    "duration": 14,
    "start_time": "2023-06-14T05:40:20.747Z"
   },
   {
    "duration": 52,
    "start_time": "2023-06-14T05:40:20.764Z"
   },
   {
    "duration": 269,
    "start_time": "2023-06-14T05:40:20.817Z"
   },
   {
    "duration": 24,
    "start_time": "2023-06-14T05:40:21.088Z"
   },
   {
    "duration": 36,
    "start_time": "2023-06-14T05:40:21.114Z"
   },
   {
    "duration": 604,
    "start_time": "2023-06-14T05:40:36.974Z"
   },
   {
    "duration": 518,
    "start_time": "2023-06-14T05:41:07.661Z"
   },
   {
    "duration": 2481,
    "start_time": "2023-06-14T05:41:12.669Z"
   },
   {
    "duration": 358,
    "start_time": "2023-06-14T05:41:27.556Z"
   },
   {
    "duration": 838,
    "start_time": "2023-06-14T05:57:30.805Z"
   },
   {
    "duration": 29840,
    "start_time": "2023-06-14T05:59:09.428Z"
   },
   {
    "duration": 11,
    "start_time": "2023-06-14T05:59:44.564Z"
   },
   {
    "duration": 38,
    "start_time": "2023-06-14T06:00:13.050Z"
   },
   {
    "duration": 66,
    "start_time": "2023-06-14T06:00:14.491Z"
   },
   {
    "duration": 8000,
    "start_time": "2023-06-14T06:00:17.179Z"
   },
   {
    "duration": 4,
    "start_time": "2023-06-14T06:00:35.154Z"
   },
   {
    "duration": 147567,
    "start_time": "2023-06-14T06:00:45.187Z"
   },
   {
    "duration": 571724,
    "start_time": "2023-06-14T06:04:47.466Z"
   },
   {
    "duration": 14695,
    "start_time": "2023-06-14T06:16:13.193Z"
   },
   {
    "duration": 12,
    "start_time": "2023-06-14T06:16:36.554Z"
   },
   {
    "duration": 21,
    "start_time": "2023-06-14T06:17:07.043Z"
   },
   {
    "duration": 12149,
    "start_time": "2023-06-14T06:17:40.715Z"
   },
   {
    "duration": 2871,
    "start_time": "2023-06-14T06:18:02.149Z"
   },
   {
    "duration": 684,
    "start_time": "2023-06-14T06:18:14.563Z"
   },
   {
    "duration": 101,
    "start_time": "2023-06-14T06:18:25.911Z"
   },
   {
    "duration": 11,
    "start_time": "2023-06-14T06:18:26.714Z"
   },
   {
    "duration": 815,
    "start_time": "2023-06-14T06:18:29.212Z"
   },
   {
    "duration": 9,
    "start_time": "2023-06-14T06:18:30.029Z"
   },
   {
    "duration": 34,
    "start_time": "2023-06-14T06:18:36.569Z"
   },
   {
    "duration": 238,
    "start_time": "2023-06-14T06:18:40.711Z"
   },
   {
    "duration": 12,
    "start_time": "2023-06-14T06:18:45.465Z"
   },
   {
    "duration": 7,
    "start_time": "2023-06-14T06:18:52.273Z"
   },
   {
    "duration": 1196,
    "start_time": "2023-06-14T06:18:56.898Z"
   },
   {
    "duration": 29447,
    "start_time": "2023-06-14T06:19:07.280Z"
   },
   {
    "duration": 12,
    "start_time": "2023-06-14T06:19:41.303Z"
   },
   {
    "duration": 6013,
    "start_time": "2023-06-14T06:21:53.856Z"
   },
   {
    "duration": 9,
    "start_time": "2023-06-14T06:22:27.240Z"
   },
   {
    "duration": 83,
    "start_time": "2023-06-14T06:23:06.289Z"
   },
   {
    "duration": 8,
    "start_time": "2023-06-14T06:23:07.012Z"
   },
   {
    "duration": 958,
    "start_time": "2023-06-14T06:23:09.584Z"
   },
   {
    "duration": 8,
    "start_time": "2023-06-14T06:23:13.520Z"
   },
   {
    "duration": 37,
    "start_time": "2023-06-14T06:23:15.216Z"
   },
   {
    "duration": 254,
    "start_time": "2023-06-14T06:23:16.712Z"
   },
   {
    "duration": 11,
    "start_time": "2023-06-14T06:23:18.232Z"
   },
   {
    "duration": 8,
    "start_time": "2023-06-14T06:23:21.687Z"
   },
   {
    "duration": 6107,
    "start_time": "2023-06-14T06:23:26.144Z"
   },
   {
    "duration": 11,
    "start_time": "2023-06-14T06:23:35.417Z"
   },
   {
    "duration": 129,
    "start_time": "2023-06-14T06:24:11.833Z"
   },
   {
    "duration": 6756,
    "start_time": "2023-06-14T06:24:39.171Z"
   },
   {
    "duration": 1636,
    "start_time": "2023-06-14T06:25:02.047Z"
   },
   {
    "duration": 756,
    "start_time": "2023-06-14T06:25:22.307Z"
   },
   {
    "duration": 1672,
    "start_time": "2023-06-14T06:26:38.759Z"
   },
   {
    "duration": 30547,
    "start_time": "2023-06-14T06:27:09.241Z"
   },
   {
    "duration": 8,
    "start_time": "2023-06-14T06:27:57.048Z"
   },
   {
    "duration": 84,
    "start_time": "2023-06-14T06:46:46.761Z"
   },
   {
    "duration": 84065,
    "start_time": "2023-06-14T06:47:18.274Z"
   },
   {
    "duration": 4698,
    "start_time": "2023-06-14T06:48:47.092Z"
   },
   {
    "duration": 60,
    "start_time": "2023-06-14T06:49:01.359Z"
   },
   {
    "duration": 1719,
    "start_time": "2023-06-14T06:49:01.422Z"
   },
   {
    "duration": 917,
    "start_time": "2023-06-14T06:49:03.142Z"
   },
   {
    "duration": 13,
    "start_time": "2023-06-14T06:49:04.060Z"
   },
   {
    "duration": 51,
    "start_time": "2023-06-14T06:49:04.075Z"
   },
   {
    "duration": 249,
    "start_time": "2023-06-14T06:49:04.128Z"
   },
   {
    "duration": 28,
    "start_time": "2023-06-14T06:49:04.378Z"
   },
   {
    "duration": 19,
    "start_time": "2023-06-14T06:49:04.408Z"
   },
   {
    "duration": 1361969,
    "start_time": "2023-06-14T06:49:14.481Z"
   },
   {
    "duration": 4631,
    "start_time": "2023-06-14T07:13:15.199Z"
   },
   {
    "duration": 4,
    "start_time": "2023-06-14T07:14:27.731Z"
   },
   {
    "duration": 33306,
    "start_time": "2023-06-14T07:14:36.178Z"
   },
   {
    "duration": 1260633,
    "start_time": "2023-06-14T07:15:31.875Z"
   },
   {
    "duration": 4,
    "start_time": "2023-06-14T07:36:32.512Z"
   },
   {
    "duration": 32,
    "start_time": "2023-06-14T07:36:32.518Z"
   },
   {
    "duration": 33,
    "start_time": "2023-06-14T07:39:33.822Z"
   },
   {
    "duration": 61,
    "start_time": "2023-06-14T07:39:36.670Z"
   },
   {
    "duration": 6939,
    "start_time": "2023-06-14T07:39:38.230Z"
   },
   {
    "duration": 4,
    "start_time": "2023-06-14T07:39:51.718Z"
   },
   {
    "duration": 159352,
    "start_time": "2023-06-14T07:39:54.021Z"
   },
   {
    "duration": 515936,
    "start_time": "2023-06-14T07:45:19.909Z"
   },
   {
    "duration": 1718,
    "start_time": "2023-06-14T07:54:19.973Z"
   },
   {
    "duration": 61,
    "start_time": "2023-06-14T07:54:23.454Z"
   },
   {
    "duration": 63,
    "start_time": "2023-06-14T07:55:34.909Z"
   },
   {
    "duration": 1637,
    "start_time": "2023-06-14T07:55:34.973Z"
   },
   {
    "duration": 901,
    "start_time": "2023-06-14T07:55:36.612Z"
   },
   {
    "duration": 9,
    "start_time": "2023-06-14T07:55:37.516Z"
   },
   {
    "duration": 31,
    "start_time": "2023-06-14T07:55:37.527Z"
   },
   {
    "duration": 255,
    "start_time": "2023-06-14T07:55:37.559Z"
   },
   {
    "duration": 11,
    "start_time": "2023-06-14T07:55:37.816Z"
   },
   {
    "duration": 20,
    "start_time": "2023-06-14T07:55:37.828Z"
   },
   {
    "duration": 1388554,
    "start_time": "2023-06-14T07:55:37.849Z"
   },
   {
    "duration": 37,
    "start_time": "2023-06-14T08:18:46.409Z"
   },
   {
    "duration": 62,
    "start_time": "2023-06-14T08:18:46.448Z"
   },
   {
    "duration": 69,
    "start_time": "2023-06-14T08:18:46.512Z"
   },
   {
    "duration": 5967,
    "start_time": "2023-06-14T08:18:46.583Z"
   },
   {
    "duration": 3,
    "start_time": "2023-06-14T08:18:52.553Z"
   },
   {
    "duration": 458206,
    "start_time": "2023-06-14T08:18:52.558Z"
   },
   {
    "duration": 0,
    "start_time": "2023-06-14T08:26:30.766Z"
   },
   {
    "duration": 0,
    "start_time": "2023-06-14T08:26:30.767Z"
   },
   {
    "duration": 0,
    "start_time": "2023-06-14T08:26:30.767Z"
   },
   {
    "duration": 0,
    "start_time": "2023-06-14T08:26:30.770Z"
   },
   {
    "duration": 0,
    "start_time": "2023-06-14T08:26:30.771Z"
   },
   {
    "duration": 1385320,
    "start_time": "2023-06-14T08:32:42.540Z"
   },
   {
    "duration": 7,
    "start_time": "2023-06-14T08:55:47.862Z"
   },
   {
    "duration": 72,
    "start_time": "2023-06-14T09:33:08.880Z"
   },
   {
    "duration": 1933,
    "start_time": "2023-06-14T09:33:08.954Z"
   },
   {
    "duration": 1068,
    "start_time": "2023-06-14T09:33:10.889Z"
   },
   {
    "duration": 10,
    "start_time": "2023-06-14T09:33:11.959Z"
   },
   {
    "duration": 63,
    "start_time": "2023-06-14T09:33:11.970Z"
   },
   {
    "duration": 270,
    "start_time": "2023-06-14T09:33:12.036Z"
   },
   {
    "duration": 16,
    "start_time": "2023-06-14T09:33:12.308Z"
   },
   {
    "duration": 40,
    "start_time": "2023-06-14T09:33:12.326Z"
   },
   {
    "duration": 1445571,
    "start_time": "2023-06-14T09:33:12.368Z"
   },
   {
    "duration": 8,
    "start_time": "2023-06-14T09:57:17.941Z"
   },
   {
    "duration": 52,
    "start_time": "2023-06-14T09:57:17.950Z"
   },
   {
    "duration": 20,
    "start_time": "2023-06-14T09:57:18.006Z"
   },
   {
    "duration": 38,
    "start_time": "2023-06-14T09:57:18.034Z"
   },
   {
    "duration": 8435,
    "start_time": "2023-06-14T09:57:18.074Z"
   },
   {
    "duration": 9,
    "start_time": "2023-06-14T09:57:26.511Z"
   },
   {
    "duration": 175901,
    "start_time": "2023-06-14T09:57:26.521Z"
   },
   {
    "duration": 648528,
    "start_time": "2023-06-14T10:00:22.423Z"
   },
   {
    "duration": 1607,
    "start_time": "2023-06-14T10:11:10.952Z"
   },
   {
    "duration": 76,
    "start_time": "2023-06-14T10:11:12.561Z"
   },
   {
    "duration": 61,
    "start_time": "2023-06-14T10:32:37.913Z"
   },
   {
    "duration": 1892,
    "start_time": "2023-06-14T10:32:37.976Z"
   },
   {
    "duration": 1074,
    "start_time": "2023-06-14T10:32:39.870Z"
   },
   {
    "duration": 17,
    "start_time": "2023-06-14T10:32:40.946Z"
   },
   {
    "duration": 129,
    "start_time": "2023-06-14T10:32:40.965Z"
   },
   {
    "duration": 322,
    "start_time": "2023-06-14T10:32:41.095Z"
   },
   {
    "duration": 24,
    "start_time": "2023-06-14T10:32:41.421Z"
   },
   {
    "duration": 30,
    "start_time": "2023-06-14T10:32:41.446Z"
   },
   {
    "duration": 1592489,
    "start_time": "2023-06-14T10:32:41.477Z"
   },
   {
    "duration": 10,
    "start_time": "2023-06-14T10:59:13.969Z"
   },
   {
    "duration": 55,
    "start_time": "2023-06-14T10:59:13.981Z"
   },
   {
    "duration": 26,
    "start_time": "2023-06-14T10:59:14.038Z"
   },
   {
    "duration": 60,
    "start_time": "2023-06-14T10:59:14.067Z"
   },
   {
    "duration": 7872,
    "start_time": "2023-06-14T10:59:14.128Z"
   },
   {
    "duration": 4,
    "start_time": "2023-06-14T10:59:22.001Z"
   },
   {
    "duration": 174010,
    "start_time": "2023-06-14T10:59:22.006Z"
   },
   {
    "duration": 623740,
    "start_time": "2023-06-14T11:02:16.019Z"
   },
   {
    "duration": 1544,
    "start_time": "2023-06-14T11:12:39.761Z"
   },
   {
    "duration": 59,
    "start_time": "2023-06-14T11:12:41.307Z"
   }
  ],
  "kernelspec": {
   "display_name": "Python 3 (ipykernel)",
   "language": "python",
   "name": "python3"
  },
  "language_info": {
   "codemirror_mode": {
    "name": "ipython",
    "version": 3
   },
   "file_extension": ".py",
   "mimetype": "text/x-python",
   "name": "python",
   "nbconvert_exporter": "python",
   "pygments_lexer": "ipython3",
   "version": "3.9.5"
  },
  "toc": {
   "base_numbering": 1,
   "nav_menu": {},
   "number_sections": true,
   "sideBar": true,
   "skip_h1_title": true,
   "title_cell": "Содержание",
   "title_sidebar": "Contents",
   "toc_cell": true,
   "toc_position": {
    "height": "calc(100% - 180px)",
    "left": "10px",
    "top": "150px",
    "width": "302.391px"
   },
   "toc_section_display": true,
   "toc_window_display": false
  }
 },
 "nbformat": 4,
 "nbformat_minor": 2
}
