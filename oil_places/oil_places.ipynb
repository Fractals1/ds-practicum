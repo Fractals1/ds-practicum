{
 "cells": [
  {
   "cell_type": "markdown",
   "metadata": {},
   "source": [
    "# Выбор локации для скважины"
   ]
  },
  {
   "cell_type": "markdown",
   "metadata": {},
   "source": [
    "Допустим, вы работаете в добывающей компании «ГлавРосГосНефть». Нужно решить, где бурить новую скважину.\n",
    "\n",
    "Вам предоставлены пробы нефти в трёх регионах: в каждом 10 000 месторождений, где измерили качество нефти и объём её запасов. Постройте модель машинного обучения, которая поможет определить регион, где добыча принесёт наибольшую прибыль. Проанализируйте возможную прибыль и риски техникой *Bootstrap.*\n",
    "\n",
    "Шаги для выбора локации:\n",
    "\n",
    "- В избранном регионе ищут месторождения, для каждого определяют значения признаков;\n",
    "- Строят модель и оценивают объём запасов;\n",
    "- Выбирают месторождения с самым высокими оценками значений. Количество месторождений зависит от бюджета компании и стоимости разработки одной скважины;\n",
    "- Прибыль равна суммарной прибыли отобранных месторождений."
   ]
  },
  {
   "cell_type": "code",
   "execution_count": 1,
   "metadata": {},
   "outputs": [
    {
     "data": {
      "text/html": [
       "<style>.container { width:90% !important; }</style>"
      ],
      "text/plain": [
       "<IPython.core.display.HTML object>"
      ]
     },
     "metadata": {},
     "output_type": "display_data"
    }
   ],
   "source": [
    "from IPython.core.display import display, HTML\n",
    "display(HTML(\"<style>.container { width:90% !important; }</style>\"))"
   ]
  },
  {
   "cell_type": "markdown",
   "metadata": {},
   "source": [
    "## Загрузка и подготовка данных"
   ]
  },
  {
   "cell_type": "code",
   "execution_count": 2,
   "metadata": {},
   "outputs": [],
   "source": [
    "import pandas as pd\n",
    "import numpy as np\n",
    "import scipy.stats as st\n",
    "\n",
    "from math import sqrt\n",
    "from sklearn.linear_model import LinearRegression\n",
    "from sklearn.model_selection import cross_val_score\n",
    "from sklearn.metrics import mean_squared_error\n",
    "from sklearn.model_selection import train_test_split\n",
    "from sklearn.preprocessing import MinMaxScaler\n",
    "\n",
    "import matplotlib.pyplot as plt\n",
    "from numpy.random import RandomState\n",
    "\n",
    "STATE = RandomState(12345)\n",
    "\n",
    "import warnings\n",
    "warnings.filterwarnings('ignore')\n",
    "\n"
   ]
  },
  {
   "cell_type": "code",
   "execution_count": 3,
   "metadata": {},
   "outputs": [],
   "source": [
    "df1 = pd.read_csv('/datasets/geo_data_0.csv')\n",
    "df2 = pd.read_csv('/datasets/geo_data_1.csv')\n",
    "df3 = pd.read_csv('/datasets/geo_data_2.csv')\n",
    "\n",
    "all_df=(df1, df2, df3)"
   ]
  },
  {
   "cell_type": "code",
   "execution_count": 4,
   "metadata": {},
   "outputs": [
    {
     "data": {
      "text/html": [
       "<div>\n",
       "<style scoped>\n",
       "    .dataframe tbody tr th:only-of-type {\n",
       "        vertical-align: middle;\n",
       "    }\n",
       "\n",
       "    .dataframe tbody tr th {\n",
       "        vertical-align: top;\n",
       "    }\n",
       "\n",
       "    .dataframe thead th {\n",
       "        text-align: right;\n",
       "    }\n",
       "</style>\n",
       "<table border=\"1\" class=\"dataframe\">\n",
       "  <thead>\n",
       "    <tr style=\"text-align: right;\">\n",
       "      <th></th>\n",
       "      <th>id</th>\n",
       "      <th>f0</th>\n",
       "      <th>f1</th>\n",
       "      <th>f2</th>\n",
       "      <th>product</th>\n",
       "    </tr>\n",
       "  </thead>\n",
       "  <tbody>\n",
       "    <tr>\n",
       "      <th>0</th>\n",
       "      <td>txEyH</td>\n",
       "      <td>0.705745</td>\n",
       "      <td>-0.497823</td>\n",
       "      <td>1.22117</td>\n",
       "      <td>105.280062</td>\n",
       "    </tr>\n",
       "  </tbody>\n",
       "</table>\n",
       "</div>"
      ],
      "text/plain": [
       "      id        f0        f1       f2     product\n",
       "0  txEyH  0.705745 -0.497823  1.22117  105.280062"
      ]
     },
     "execution_count": 4,
     "metadata": {},
     "output_type": "execute_result"
    }
   ],
   "source": [
    "df1.head(1)"
   ]
  },
  {
   "cell_type": "code",
   "execution_count": 5,
   "metadata": {},
   "outputs": [],
   "source": [
    "def df_analyse(data):\n",
    "    data.info()\n",
    "    display(data.head(10))\n",
    "    print(f'размер:    {data.shape}')\n",
    "    print('пропусков:         ', data.isna().sum().sum())\n",
    "    print('дубликатов:   ', data.duplicated().sum())\n",
    "    display(data.describe())\n",
    "    print('\\nРаспределение признаков:')\n",
    "    plt.figure(figsize=(20, 10))\n",
    "    data[['f0','f1','f2']].hist()\n",
    "    \n",
    "    plt.show()"
   ]
  },
  {
   "cell_type": "code",
   "execution_count": 6,
   "metadata": {},
   "outputs": [
    {
     "name": "stdout",
     "output_type": "stream",
     "text": [
      "<class 'pandas.core.frame.DataFrame'>\n",
      "RangeIndex: 100000 entries, 0 to 99999\n",
      "Data columns (total 5 columns):\n",
      " #   Column   Non-Null Count   Dtype  \n",
      "---  ------   --------------   -----  \n",
      " 0   id       100000 non-null  object \n",
      " 1   f0       100000 non-null  float64\n",
      " 2   f1       100000 non-null  float64\n",
      " 3   f2       100000 non-null  float64\n",
      " 4   product  100000 non-null  float64\n",
      "dtypes: float64(4), object(1)\n",
      "memory usage: 3.8+ MB\n"
     ]
    },
    {
     "data": {
      "text/html": [
       "<div>\n",
       "<style scoped>\n",
       "    .dataframe tbody tr th:only-of-type {\n",
       "        vertical-align: middle;\n",
       "    }\n",
       "\n",
       "    .dataframe tbody tr th {\n",
       "        vertical-align: top;\n",
       "    }\n",
       "\n",
       "    .dataframe thead th {\n",
       "        text-align: right;\n",
       "    }\n",
       "</style>\n",
       "<table border=\"1\" class=\"dataframe\">\n",
       "  <thead>\n",
       "    <tr style=\"text-align: right;\">\n",
       "      <th></th>\n",
       "      <th>id</th>\n",
       "      <th>f0</th>\n",
       "      <th>f1</th>\n",
       "      <th>f2</th>\n",
       "      <th>product</th>\n",
       "    </tr>\n",
       "  </thead>\n",
       "  <tbody>\n",
       "    <tr>\n",
       "      <th>0</th>\n",
       "      <td>txEyH</td>\n",
       "      <td>0.705745</td>\n",
       "      <td>-0.497823</td>\n",
       "      <td>1.221170</td>\n",
       "      <td>105.280062</td>\n",
       "    </tr>\n",
       "    <tr>\n",
       "      <th>1</th>\n",
       "      <td>2acmU</td>\n",
       "      <td>1.334711</td>\n",
       "      <td>-0.340164</td>\n",
       "      <td>4.365080</td>\n",
       "      <td>73.037750</td>\n",
       "    </tr>\n",
       "    <tr>\n",
       "      <th>2</th>\n",
       "      <td>409Wp</td>\n",
       "      <td>1.022732</td>\n",
       "      <td>0.151990</td>\n",
       "      <td>1.419926</td>\n",
       "      <td>85.265647</td>\n",
       "    </tr>\n",
       "    <tr>\n",
       "      <th>3</th>\n",
       "      <td>iJLyR</td>\n",
       "      <td>-0.032172</td>\n",
       "      <td>0.139033</td>\n",
       "      <td>2.978566</td>\n",
       "      <td>168.620776</td>\n",
       "    </tr>\n",
       "    <tr>\n",
       "      <th>4</th>\n",
       "      <td>Xdl7t</td>\n",
       "      <td>1.988431</td>\n",
       "      <td>0.155413</td>\n",
       "      <td>4.751769</td>\n",
       "      <td>154.036647</td>\n",
       "    </tr>\n",
       "    <tr>\n",
       "      <th>5</th>\n",
       "      <td>wX4Hy</td>\n",
       "      <td>0.969570</td>\n",
       "      <td>0.489775</td>\n",
       "      <td>-0.735383</td>\n",
       "      <td>64.741541</td>\n",
       "    </tr>\n",
       "    <tr>\n",
       "      <th>6</th>\n",
       "      <td>tL6pL</td>\n",
       "      <td>0.645075</td>\n",
       "      <td>0.530656</td>\n",
       "      <td>1.780266</td>\n",
       "      <td>49.055285</td>\n",
       "    </tr>\n",
       "    <tr>\n",
       "      <th>7</th>\n",
       "      <td>BYPU6</td>\n",
       "      <td>-0.400648</td>\n",
       "      <td>0.808337</td>\n",
       "      <td>-5.624670</td>\n",
       "      <td>72.943292</td>\n",
       "    </tr>\n",
       "    <tr>\n",
       "      <th>8</th>\n",
       "      <td>j9Oui</td>\n",
       "      <td>0.643105</td>\n",
       "      <td>-0.551583</td>\n",
       "      <td>2.372141</td>\n",
       "      <td>113.356160</td>\n",
       "    </tr>\n",
       "    <tr>\n",
       "      <th>9</th>\n",
       "      <td>OLuZU</td>\n",
       "      <td>2.173381</td>\n",
       "      <td>0.563698</td>\n",
       "      <td>9.441852</td>\n",
       "      <td>127.910945</td>\n",
       "    </tr>\n",
       "  </tbody>\n",
       "</table>\n",
       "</div>"
      ],
      "text/plain": [
       "      id        f0        f1        f2     product\n",
       "0  txEyH  0.705745 -0.497823  1.221170  105.280062\n",
       "1  2acmU  1.334711 -0.340164  4.365080   73.037750\n",
       "2  409Wp  1.022732  0.151990  1.419926   85.265647\n",
       "3  iJLyR -0.032172  0.139033  2.978566  168.620776\n",
       "4  Xdl7t  1.988431  0.155413  4.751769  154.036647\n",
       "5  wX4Hy  0.969570  0.489775 -0.735383   64.741541\n",
       "6  tL6pL  0.645075  0.530656  1.780266   49.055285\n",
       "7  BYPU6 -0.400648  0.808337 -5.624670   72.943292\n",
       "8  j9Oui  0.643105 -0.551583  2.372141  113.356160\n",
       "9  OLuZU  2.173381  0.563698  9.441852  127.910945"
      ]
     },
     "metadata": {},
     "output_type": "display_data"
    },
    {
     "name": "stdout",
     "output_type": "stream",
     "text": [
      "размер:    (100000, 5)\n",
      "пропусков:          0\n",
      "дубликатов:    0\n"
     ]
    },
    {
     "data": {
      "text/html": [
       "<div>\n",
       "<style scoped>\n",
       "    .dataframe tbody tr th:only-of-type {\n",
       "        vertical-align: middle;\n",
       "    }\n",
       "\n",
       "    .dataframe tbody tr th {\n",
       "        vertical-align: top;\n",
       "    }\n",
       "\n",
       "    .dataframe thead th {\n",
       "        text-align: right;\n",
       "    }\n",
       "</style>\n",
       "<table border=\"1\" class=\"dataframe\">\n",
       "  <thead>\n",
       "    <tr style=\"text-align: right;\">\n",
       "      <th></th>\n",
       "      <th>f0</th>\n",
       "      <th>f1</th>\n",
       "      <th>f2</th>\n",
       "      <th>product</th>\n",
       "    </tr>\n",
       "  </thead>\n",
       "  <tbody>\n",
       "    <tr>\n",
       "      <th>count</th>\n",
       "      <td>100000.000000</td>\n",
       "      <td>100000.000000</td>\n",
       "      <td>100000.000000</td>\n",
       "      <td>100000.000000</td>\n",
       "    </tr>\n",
       "    <tr>\n",
       "      <th>mean</th>\n",
       "      <td>0.500419</td>\n",
       "      <td>0.250143</td>\n",
       "      <td>2.502647</td>\n",
       "      <td>92.500000</td>\n",
       "    </tr>\n",
       "    <tr>\n",
       "      <th>std</th>\n",
       "      <td>0.871832</td>\n",
       "      <td>0.504433</td>\n",
       "      <td>3.248248</td>\n",
       "      <td>44.288691</td>\n",
       "    </tr>\n",
       "    <tr>\n",
       "      <th>min</th>\n",
       "      <td>-1.408605</td>\n",
       "      <td>-0.848218</td>\n",
       "      <td>-12.088328</td>\n",
       "      <td>0.000000</td>\n",
       "    </tr>\n",
       "    <tr>\n",
       "      <th>25%</th>\n",
       "      <td>-0.072580</td>\n",
       "      <td>-0.200881</td>\n",
       "      <td>0.287748</td>\n",
       "      <td>56.497507</td>\n",
       "    </tr>\n",
       "    <tr>\n",
       "      <th>50%</th>\n",
       "      <td>0.502360</td>\n",
       "      <td>0.250252</td>\n",
       "      <td>2.515969</td>\n",
       "      <td>91.849972</td>\n",
       "    </tr>\n",
       "    <tr>\n",
       "      <th>75%</th>\n",
       "      <td>1.073581</td>\n",
       "      <td>0.700646</td>\n",
       "      <td>4.715088</td>\n",
       "      <td>128.564089</td>\n",
       "    </tr>\n",
       "    <tr>\n",
       "      <th>max</th>\n",
       "      <td>2.362331</td>\n",
       "      <td>1.343769</td>\n",
       "      <td>16.003790</td>\n",
       "      <td>185.364347</td>\n",
       "    </tr>\n",
       "  </tbody>\n",
       "</table>\n",
       "</div>"
      ],
      "text/plain": [
       "                  f0             f1             f2        product\n",
       "count  100000.000000  100000.000000  100000.000000  100000.000000\n",
       "mean        0.500419       0.250143       2.502647      92.500000\n",
       "std         0.871832       0.504433       3.248248      44.288691\n",
       "min        -1.408605      -0.848218     -12.088328       0.000000\n",
       "25%        -0.072580      -0.200881       0.287748      56.497507\n",
       "50%         0.502360       0.250252       2.515969      91.849972\n",
       "75%         1.073581       0.700646       4.715088     128.564089\n",
       "max         2.362331       1.343769      16.003790     185.364347"
      ]
     },
     "metadata": {},
     "output_type": "display_data"
    },
    {
     "name": "stdout",
     "output_type": "stream",
     "text": [
      "\n",
      "Распределение признаков:\n"
     ]
    },
    {
     "data": {
      "text/plain": [
       "<Figure size 1440x720 with 0 Axes>"
      ]
     },
     "metadata": {},
     "output_type": "display_data"
    },
    {
     "data": {
      "image/png": "[encoded data removed]",
      "text/plain": [
       "<Figure size 432x288 with 4 Axes>"
      ]
     },
     "metadata": {
      "needs_background": "light"
     },
     "output_type": "display_data"
    }
   ],
   "source": [
    "df_analyse(df1)"
   ]
  },
  {
   "cell_type": "code",
   "execution_count": 7,
   "metadata": {},
   "outputs": [
    {
     "name": "stdout",
     "output_type": "stream",
     "text": [
      "<class 'pandas.core.frame.DataFrame'>\n",
      "RangeIndex: 100000 entries, 0 to 99999\n",
      "Data columns (total 5 columns):\n",
      " #   Column   Non-Null Count   Dtype  \n",
      "---  ------   --------------   -----  \n",
      " 0   id       100000 non-null  object \n",
      " 1   f0       100000 non-null  float64\n",
      " 2   f1       100000 non-null  float64\n",
      " 3   f2       100000 non-null  float64\n",
      " 4   product  100000 non-null  float64\n",
      "dtypes: float64(4), object(1)\n",
      "memory usage: 3.8+ MB\n"
     ]
    },
    {
     "data": {
      "text/html": [
       "<div>\n",
       "<style scoped>\n",
       "    .dataframe tbody tr th:only-of-type {\n",
       "        vertical-align: middle;\n",
       "    }\n",
       "\n",
       "    .dataframe tbody tr th {\n",
       "        vertical-align: top;\n",
       "    }\n",
       "\n",
       "    .dataframe thead th {\n",
       "        text-align: right;\n",
       "    }\n",
       "</style>\n",
       "<table border=\"1\" class=\"dataframe\">\n",
       "  <thead>\n",
       "    <tr style=\"text-align: right;\">\n",
       "      <th></th>\n",
       "      <th>id</th>\n",
       "      <th>f0</th>\n",
       "      <th>f1</th>\n",
       "      <th>f2</th>\n",
       "      <th>product</th>\n",
       "    </tr>\n",
       "  </thead>\n",
       "  <tbody>\n",
       "    <tr>\n",
       "      <th>0</th>\n",
       "      <td>kBEdx</td>\n",
       "      <td>-15.001348</td>\n",
       "      <td>-8.276000</td>\n",
       "      <td>-0.005876</td>\n",
       "      <td>3.179103</td>\n",
       "    </tr>\n",
       "    <tr>\n",
       "      <th>1</th>\n",
       "      <td>62mP7</td>\n",
       "      <td>14.272088</td>\n",
       "      <td>-3.475083</td>\n",
       "      <td>0.999183</td>\n",
       "      <td>26.953261</td>\n",
       "    </tr>\n",
       "    <tr>\n",
       "      <th>2</th>\n",
       "      <td>vyE1P</td>\n",
       "      <td>6.263187</td>\n",
       "      <td>-5.948386</td>\n",
       "      <td>5.001160</td>\n",
       "      <td>134.766305</td>\n",
       "    </tr>\n",
       "    <tr>\n",
       "      <th>3</th>\n",
       "      <td>KcrkZ</td>\n",
       "      <td>-13.081196</td>\n",
       "      <td>-11.506057</td>\n",
       "      <td>4.999415</td>\n",
       "      <td>137.945408</td>\n",
       "    </tr>\n",
       "    <tr>\n",
       "      <th>4</th>\n",
       "      <td>AHL4O</td>\n",
       "      <td>12.702195</td>\n",
       "      <td>-8.147433</td>\n",
       "      <td>5.004363</td>\n",
       "      <td>134.766305</td>\n",
       "    </tr>\n",
       "    <tr>\n",
       "      <th>5</th>\n",
       "      <td>HHckp</td>\n",
       "      <td>-3.327590</td>\n",
       "      <td>-2.205276</td>\n",
       "      <td>3.003647</td>\n",
       "      <td>84.038886</td>\n",
       "    </tr>\n",
       "    <tr>\n",
       "      <th>6</th>\n",
       "      <td>h5Ujo</td>\n",
       "      <td>-11.142655</td>\n",
       "      <td>-10.133399</td>\n",
       "      <td>4.002382</td>\n",
       "      <td>110.992147</td>\n",
       "    </tr>\n",
       "    <tr>\n",
       "      <th>7</th>\n",
       "      <td>muH9x</td>\n",
       "      <td>4.234715</td>\n",
       "      <td>-0.001354</td>\n",
       "      <td>2.004588</td>\n",
       "      <td>53.906522</td>\n",
       "    </tr>\n",
       "    <tr>\n",
       "      <th>8</th>\n",
       "      <td>YiRkx</td>\n",
       "      <td>13.355129</td>\n",
       "      <td>-0.332068</td>\n",
       "      <td>4.998647</td>\n",
       "      <td>134.766305</td>\n",
       "    </tr>\n",
       "    <tr>\n",
       "      <th>9</th>\n",
       "      <td>jG6Gi</td>\n",
       "      <td>1.069227</td>\n",
       "      <td>-11.025667</td>\n",
       "      <td>4.997844</td>\n",
       "      <td>137.945408</td>\n",
       "    </tr>\n",
       "  </tbody>\n",
       "</table>\n",
       "</div>"
      ],
      "text/plain": [
       "      id         f0         f1        f2     product\n",
       "0  kBEdx -15.001348  -8.276000 -0.005876    3.179103\n",
       "1  62mP7  14.272088  -3.475083  0.999183   26.953261\n",
       "2  vyE1P   6.263187  -5.948386  5.001160  134.766305\n",
       "3  KcrkZ -13.081196 -11.506057  4.999415  137.945408\n",
       "4  AHL4O  12.702195  -8.147433  5.004363  134.766305\n",
       "5  HHckp  -3.327590  -2.205276  3.003647   84.038886\n",
       "6  h5Ujo -11.142655 -10.133399  4.002382  110.992147\n",
       "7  muH9x   4.234715  -0.001354  2.004588   53.906522\n",
       "8  YiRkx  13.355129  -0.332068  4.998647  134.766305\n",
       "9  jG6Gi   1.069227 -11.025667  4.997844  137.945408"
      ]
     },
     "metadata": {},
     "output_type": "display_data"
    },
    {
     "name": "stdout",
     "output_type": "stream",
     "text": [
      "размер:    (100000, 5)\n",
      "пропусков:          0\n",
      "дубликатов:    0\n"
     ]
    },
    {
     "data": {
      "text/html": [
       "<div>\n",
       "<style scoped>\n",
       "    .dataframe tbody tr th:only-of-type {\n",
       "        vertical-align: middle;\n",
       "    }\n",
       "\n",
       "    .dataframe tbody tr th {\n",
       "        vertical-align: top;\n",
       "    }\n",
       "\n",
       "    .dataframe thead th {\n",
       "        text-align: right;\n",
       "    }\n",
       "</style>\n",
       "<table border=\"1\" class=\"dataframe\">\n",
       "  <thead>\n",
       "    <tr style=\"text-align: right;\">\n",
       "      <th></th>\n",
       "      <th>f0</th>\n",
       "      <th>f1</th>\n",
       "      <th>f2</th>\n",
       "      <th>product</th>\n",
       "    </tr>\n",
       "  </thead>\n",
       "  <tbody>\n",
       "    <tr>\n",
       "      <th>count</th>\n",
       "      <td>100000.000000</td>\n",
       "      <td>100000.000000</td>\n",
       "      <td>100000.000000</td>\n",
       "      <td>100000.000000</td>\n",
       "    </tr>\n",
       "    <tr>\n",
       "      <th>mean</th>\n",
       "      <td>1.141296</td>\n",
       "      <td>-4.796579</td>\n",
       "      <td>2.494541</td>\n",
       "      <td>68.825000</td>\n",
       "    </tr>\n",
       "    <tr>\n",
       "      <th>std</th>\n",
       "      <td>8.965932</td>\n",
       "      <td>5.119872</td>\n",
       "      <td>1.703572</td>\n",
       "      <td>45.944423</td>\n",
       "    </tr>\n",
       "    <tr>\n",
       "      <th>min</th>\n",
       "      <td>-31.609576</td>\n",
       "      <td>-26.358598</td>\n",
       "      <td>-0.018144</td>\n",
       "      <td>0.000000</td>\n",
       "    </tr>\n",
       "    <tr>\n",
       "      <th>25%</th>\n",
       "      <td>-6.298551</td>\n",
       "      <td>-8.267985</td>\n",
       "      <td>1.000021</td>\n",
       "      <td>26.953261</td>\n",
       "    </tr>\n",
       "    <tr>\n",
       "      <th>50%</th>\n",
       "      <td>1.153055</td>\n",
       "      <td>-4.813172</td>\n",
       "      <td>2.011479</td>\n",
       "      <td>57.085625</td>\n",
       "    </tr>\n",
       "    <tr>\n",
       "      <th>75%</th>\n",
       "      <td>8.621015</td>\n",
       "      <td>-1.332816</td>\n",
       "      <td>3.999904</td>\n",
       "      <td>107.813044</td>\n",
       "    </tr>\n",
       "    <tr>\n",
       "      <th>max</th>\n",
       "      <td>29.421755</td>\n",
       "      <td>18.734063</td>\n",
       "      <td>5.019721</td>\n",
       "      <td>137.945408</td>\n",
       "    </tr>\n",
       "  </tbody>\n",
       "</table>\n",
       "</div>"
      ],
      "text/plain": [
       "                  f0             f1             f2        product\n",
       "count  100000.000000  100000.000000  100000.000000  100000.000000\n",
       "mean        1.141296      -4.796579       2.494541      68.825000\n",
       "std         8.965932       5.119872       1.703572      45.944423\n",
       "min       -31.609576     -26.358598      -0.018144       0.000000\n",
       "25%        -6.298551      -8.267985       1.000021      26.953261\n",
       "50%         1.153055      -4.813172       2.011479      57.085625\n",
       "75%         8.621015      -1.332816       3.999904     107.813044\n",
       "max        29.421755      18.734063       5.019721     137.945408"
      ]
     },
     "metadata": {},
     "output_type": "display_data"
    },
    {
     "name": "stdout",
     "output_type": "stream",
     "text": [
      "\n",
      "Распределение признаков:\n"
     ]
    },
    {
     "data": {
      "text/plain": [
       "<Figure size 1440x720 with 0 Axes>"
      ]
     },
     "metadata": {},
     "output_type": "display_data"
    },
    {
     "data": {
      "image/png": "[encoded data removed]",
      "text/plain": [
       "<Figure size 432x288 with 4 Axes>"
      ]
     },
     "metadata": {
      "needs_background": "light"
     },
     "output_type": "display_data"
    }
   ],
   "source": [
    "df_analyse(df2)"
   ]
  },
  {
   "cell_type": "code",
   "execution_count": 8,
   "metadata": {},
   "outputs": [
    {
     "name": "stdout",
     "output_type": "stream",
     "text": [
      "<class 'pandas.core.frame.DataFrame'>\n",
      "RangeIndex: 100000 entries, 0 to 99999\n",
      "Data columns (total 5 columns):\n",
      " #   Column   Non-Null Count   Dtype  \n",
      "---  ------   --------------   -----  \n",
      " 0   id       100000 non-null  object \n",
      " 1   f0       100000 non-null  float64\n",
      " 2   f1       100000 non-null  float64\n",
      " 3   f2       100000 non-null  float64\n",
      " 4   product  100000 non-null  float64\n",
      "dtypes: float64(4), object(1)\n",
      "memory usage: 3.8+ MB\n"
     ]
    },
    {
     "data": {
      "text/html": [
       "<div>\n",
       "<style scoped>\n",
       "    .dataframe tbody tr th:only-of-type {\n",
       "        vertical-align: middle;\n",
       "    }\n",
       "\n",
       "    .dataframe tbody tr th {\n",
       "        vertical-align: top;\n",
       "    }\n",
       "\n",
       "    .dataframe thead th {\n",
       "        text-align: right;\n",
       "    }\n",
       "</style>\n",
       "<table border=\"1\" class=\"dataframe\">\n",
       "  <thead>\n",
       "    <tr style=\"text-align: right;\">\n",
       "      <th></th>\n",
       "      <th>id</th>\n",
       "      <th>f0</th>\n",
       "      <th>f1</th>\n",
       "      <th>f2</th>\n",
       "      <th>product</th>\n",
       "    </tr>\n",
       "  </thead>\n",
       "  <tbody>\n",
       "    <tr>\n",
       "      <th>0</th>\n",
       "      <td>fwXo0</td>\n",
       "      <td>-1.146987</td>\n",
       "      <td>0.963328</td>\n",
       "      <td>-0.828965</td>\n",
       "      <td>27.758673</td>\n",
       "    </tr>\n",
       "    <tr>\n",
       "      <th>1</th>\n",
       "      <td>WJtFt</td>\n",
       "      <td>0.262778</td>\n",
       "      <td>0.269839</td>\n",
       "      <td>-2.530187</td>\n",
       "      <td>56.069697</td>\n",
       "    </tr>\n",
       "    <tr>\n",
       "      <th>2</th>\n",
       "      <td>ovLUW</td>\n",
       "      <td>0.194587</td>\n",
       "      <td>0.289035</td>\n",
       "      <td>-5.586433</td>\n",
       "      <td>62.871910</td>\n",
       "    </tr>\n",
       "    <tr>\n",
       "      <th>3</th>\n",
       "      <td>q6cA6</td>\n",
       "      <td>2.236060</td>\n",
       "      <td>-0.553760</td>\n",
       "      <td>0.930038</td>\n",
       "      <td>114.572842</td>\n",
       "    </tr>\n",
       "    <tr>\n",
       "      <th>4</th>\n",
       "      <td>WPMUX</td>\n",
       "      <td>-0.515993</td>\n",
       "      <td>1.716266</td>\n",
       "      <td>5.899011</td>\n",
       "      <td>149.600746</td>\n",
       "    </tr>\n",
       "    <tr>\n",
       "      <th>5</th>\n",
       "      <td>LzZXx</td>\n",
       "      <td>-0.758092</td>\n",
       "      <td>0.710691</td>\n",
       "      <td>2.585887</td>\n",
       "      <td>90.222465</td>\n",
       "    </tr>\n",
       "    <tr>\n",
       "      <th>6</th>\n",
       "      <td>WBHRv</td>\n",
       "      <td>-0.574891</td>\n",
       "      <td>0.317727</td>\n",
       "      <td>1.773745</td>\n",
       "      <td>45.641478</td>\n",
       "    </tr>\n",
       "    <tr>\n",
       "      <th>7</th>\n",
       "      <td>XO8fn</td>\n",
       "      <td>-1.906649</td>\n",
       "      <td>-2.458350</td>\n",
       "      <td>-0.177097</td>\n",
       "      <td>72.480640</td>\n",
       "    </tr>\n",
       "    <tr>\n",
       "      <th>8</th>\n",
       "      <td>ybmQ5</td>\n",
       "      <td>1.776292</td>\n",
       "      <td>-0.279356</td>\n",
       "      <td>3.004156</td>\n",
       "      <td>106.616832</td>\n",
       "    </tr>\n",
       "    <tr>\n",
       "      <th>9</th>\n",
       "      <td>OilcN</td>\n",
       "      <td>-1.214452</td>\n",
       "      <td>-0.439314</td>\n",
       "      <td>5.922514</td>\n",
       "      <td>52.954532</td>\n",
       "    </tr>\n",
       "  </tbody>\n",
       "</table>\n",
       "</div>"
      ],
      "text/plain": [
       "      id        f0        f1        f2     product\n",
       "0  fwXo0 -1.146987  0.963328 -0.828965   27.758673\n",
       "1  WJtFt  0.262778  0.269839 -2.530187   56.069697\n",
       "2  ovLUW  0.194587  0.289035 -5.586433   62.871910\n",
       "3  q6cA6  2.236060 -0.553760  0.930038  114.572842\n",
       "4  WPMUX -0.515993  1.716266  5.899011  149.600746\n",
       "5  LzZXx -0.758092  0.710691  2.585887   90.222465\n",
       "6  WBHRv -0.574891  0.317727  1.773745   45.641478\n",
       "7  XO8fn -1.906649 -2.458350 -0.177097   72.480640\n",
       "8  ybmQ5  1.776292 -0.279356  3.004156  106.616832\n",
       "9  OilcN -1.214452 -0.439314  5.922514   52.954532"
      ]
     },
     "metadata": {},
     "output_type": "display_data"
    },
    {
     "name": "stdout",
     "output_type": "stream",
     "text": [
      "размер:    (100000, 5)\n",
      "пропусков:          0\n",
      "дубликатов:    0\n"
     ]
    },
    {
     "data": {
      "text/html": [
       "<div>\n",
       "<style scoped>\n",
       "    .dataframe tbody tr th:only-of-type {\n",
       "        vertical-align: middle;\n",
       "    }\n",
       "\n",
       "    .dataframe tbody tr th {\n",
       "        vertical-align: top;\n",
       "    }\n",
       "\n",
       "    .dataframe thead th {\n",
       "        text-align: right;\n",
       "    }\n",
       "</style>\n",
       "<table border=\"1\" class=\"dataframe\">\n",
       "  <thead>\n",
       "    <tr style=\"text-align: right;\">\n",
       "      <th></th>\n",
       "      <th>f0</th>\n",
       "      <th>f1</th>\n",
       "      <th>f2</th>\n",
       "      <th>product</th>\n",
       "    </tr>\n",
       "  </thead>\n",
       "  <tbody>\n",
       "    <tr>\n",
       "      <th>count</th>\n",
       "      <td>100000.000000</td>\n",
       "      <td>100000.000000</td>\n",
       "      <td>100000.000000</td>\n",
       "      <td>100000.000000</td>\n",
       "    </tr>\n",
       "    <tr>\n",
       "      <th>mean</th>\n",
       "      <td>0.002023</td>\n",
       "      <td>-0.002081</td>\n",
       "      <td>2.495128</td>\n",
       "      <td>95.000000</td>\n",
       "    </tr>\n",
       "    <tr>\n",
       "      <th>std</th>\n",
       "      <td>1.732045</td>\n",
       "      <td>1.730417</td>\n",
       "      <td>3.473445</td>\n",
       "      <td>44.749921</td>\n",
       "    </tr>\n",
       "    <tr>\n",
       "      <th>min</th>\n",
       "      <td>-8.760004</td>\n",
       "      <td>-7.084020</td>\n",
       "      <td>-11.970335</td>\n",
       "      <td>0.000000</td>\n",
       "    </tr>\n",
       "    <tr>\n",
       "      <th>25%</th>\n",
       "      <td>-1.162288</td>\n",
       "      <td>-1.174820</td>\n",
       "      <td>0.130359</td>\n",
       "      <td>59.450441</td>\n",
       "    </tr>\n",
       "    <tr>\n",
       "      <th>50%</th>\n",
       "      <td>0.009424</td>\n",
       "      <td>-0.009482</td>\n",
       "      <td>2.484236</td>\n",
       "      <td>94.925613</td>\n",
       "    </tr>\n",
       "    <tr>\n",
       "      <th>75%</th>\n",
       "      <td>1.158535</td>\n",
       "      <td>1.163678</td>\n",
       "      <td>4.858794</td>\n",
       "      <td>130.595027</td>\n",
       "    </tr>\n",
       "    <tr>\n",
       "      <th>max</th>\n",
       "      <td>7.238262</td>\n",
       "      <td>7.844801</td>\n",
       "      <td>16.739402</td>\n",
       "      <td>190.029838</td>\n",
       "    </tr>\n",
       "  </tbody>\n",
       "</table>\n",
       "</div>"
      ],
      "text/plain": [
       "                  f0             f1             f2        product\n",
       "count  100000.000000  100000.000000  100000.000000  100000.000000\n",
       "mean        0.002023      -0.002081       2.495128      95.000000\n",
       "std         1.732045       1.730417       3.473445      44.749921\n",
       "min        -8.760004      -7.084020     -11.970335       0.000000\n",
       "25%        -1.162288      -1.174820       0.130359      59.450441\n",
       "50%         0.009424      -0.009482       2.484236      94.925613\n",
       "75%         1.158535       1.163678       4.858794     130.595027\n",
       "max         7.238262       7.844801      16.739402     190.029838"
      ]
     },
     "metadata": {},
     "output_type": "display_data"
    },
    {
     "name": "stdout",
     "output_type": "stream",
     "text": [
      "\n",
      "Распределение признаков:\n"
     ]
    },
    {
     "data": {
      "text/plain": [
       "<Figure size 1440x720 with 0 Axes>"
      ]
     },
     "metadata": {},
     "output_type": "display_data"
    },
    {
     "data": {
      "image/png": "[encoded data removed]",
      "text/plain": [
       "<Figure size 432x288 with 4 Axes>"
      ]
     },
     "metadata": {
      "needs_background": "light"
     },
     "output_type": "display_data"
    }
   ],
   "source": [
    "df_analyse(df3)"
   ]
  },
  {
   "cell_type": "markdown",
   "metadata": {},
   "source": [
    "Во всех датасетах нет пропусков и дубликатов"
   ]
  },
  {
   "cell_type": "code",
   "execution_count": 9,
   "metadata": {},
   "outputs": [
    {
     "name": "stdout",
     "output_type": "stream",
     "text": [
      "Регион 1: \n"
     ]
    },
    {
     "data": {
      "text/html": [
       "<div>\n",
       "<style scoped>\n",
       "    .dataframe tbody tr th:only-of-type {\n",
       "        vertical-align: middle;\n",
       "    }\n",
       "\n",
       "    .dataframe tbody tr th {\n",
       "        vertical-align: top;\n",
       "    }\n",
       "\n",
       "    .dataframe thead th {\n",
       "        text-align: right;\n",
       "    }\n",
       "</style>\n",
       "<table border=\"1\" class=\"dataframe\">\n",
       "  <thead>\n",
       "    <tr style=\"text-align: right;\">\n",
       "      <th></th>\n",
       "      <th>f0</th>\n",
       "      <th>f1</th>\n",
       "      <th>f2</th>\n",
       "      <th>product</th>\n",
       "    </tr>\n",
       "  </thead>\n",
       "  <tbody>\n",
       "    <tr>\n",
       "      <th>0</th>\n",
       "      <td>0.705745</td>\n",
       "      <td>-0.497823</td>\n",
       "      <td>1.221170</td>\n",
       "      <td>105.280062</td>\n",
       "    </tr>\n",
       "    <tr>\n",
       "      <th>1</th>\n",
       "      <td>1.334711</td>\n",
       "      <td>-0.340164</td>\n",
       "      <td>4.365080</td>\n",
       "      <td>73.037750</td>\n",
       "    </tr>\n",
       "    <tr>\n",
       "      <th>2</th>\n",
       "      <td>1.022732</td>\n",
       "      <td>0.151990</td>\n",
       "      <td>1.419926</td>\n",
       "      <td>85.265647</td>\n",
       "    </tr>\n",
       "    <tr>\n",
       "      <th>3</th>\n",
       "      <td>-0.032172</td>\n",
       "      <td>0.139033</td>\n",
       "      <td>2.978566</td>\n",
       "      <td>168.620776</td>\n",
       "    </tr>\n",
       "    <tr>\n",
       "      <th>4</th>\n",
       "      <td>1.988431</td>\n",
       "      <td>0.155413</td>\n",
       "      <td>4.751769</td>\n",
       "      <td>154.036647</td>\n",
       "    </tr>\n",
       "  </tbody>\n",
       "</table>\n",
       "</div>"
      ],
      "text/plain": [
       "         f0        f1        f2     product\n",
       "0  0.705745 -0.497823  1.221170  105.280062\n",
       "1  1.334711 -0.340164  4.365080   73.037750\n",
       "2  1.022732  0.151990  1.419926   85.265647\n",
       "3 -0.032172  0.139033  2.978566  168.620776\n",
       "4  1.988431  0.155413  4.751769  154.036647"
      ]
     },
     "metadata": {},
     "output_type": "display_data"
    },
    {
     "name": "stdout",
     "output_type": "stream",
     "text": [
      "-----------------------\n",
      "\n",
      "\n",
      "Регион 2: \n"
     ]
    },
    {
     "data": {
      "text/html": [
       "<div>\n",
       "<style scoped>\n",
       "    .dataframe tbody tr th:only-of-type {\n",
       "        vertical-align: middle;\n",
       "    }\n",
       "\n",
       "    .dataframe tbody tr th {\n",
       "        vertical-align: top;\n",
       "    }\n",
       "\n",
       "    .dataframe thead th {\n",
       "        text-align: right;\n",
       "    }\n",
       "</style>\n",
       "<table border=\"1\" class=\"dataframe\">\n",
       "  <thead>\n",
       "    <tr style=\"text-align: right;\">\n",
       "      <th></th>\n",
       "      <th>f0</th>\n",
       "      <th>f1</th>\n",
       "      <th>f2</th>\n",
       "      <th>product</th>\n",
       "    </tr>\n",
       "  </thead>\n",
       "  <tbody>\n",
       "    <tr>\n",
       "      <th>0</th>\n",
       "      <td>-15.001348</td>\n",
       "      <td>-8.276000</td>\n",
       "      <td>-0.005876</td>\n",
       "      <td>3.179103</td>\n",
       "    </tr>\n",
       "    <tr>\n",
       "      <th>1</th>\n",
       "      <td>14.272088</td>\n",
       "      <td>-3.475083</td>\n",
       "      <td>0.999183</td>\n",
       "      <td>26.953261</td>\n",
       "    </tr>\n",
       "    <tr>\n",
       "      <th>2</th>\n",
       "      <td>6.263187</td>\n",
       "      <td>-5.948386</td>\n",
       "      <td>5.001160</td>\n",
       "      <td>134.766305</td>\n",
       "    </tr>\n",
       "    <tr>\n",
       "      <th>3</th>\n",
       "      <td>-13.081196</td>\n",
       "      <td>-11.506057</td>\n",
       "      <td>4.999415</td>\n",
       "      <td>137.945408</td>\n",
       "    </tr>\n",
       "    <tr>\n",
       "      <th>4</th>\n",
       "      <td>12.702195</td>\n",
       "      <td>-8.147433</td>\n",
       "      <td>5.004363</td>\n",
       "      <td>134.766305</td>\n",
       "    </tr>\n",
       "  </tbody>\n",
       "</table>\n",
       "</div>"
      ],
      "text/plain": [
       "          f0         f1        f2     product\n",
       "0 -15.001348  -8.276000 -0.005876    3.179103\n",
       "1  14.272088  -3.475083  0.999183   26.953261\n",
       "2   6.263187  -5.948386  5.001160  134.766305\n",
       "3 -13.081196 -11.506057  4.999415  137.945408\n",
       "4  12.702195  -8.147433  5.004363  134.766305"
      ]
     },
     "metadata": {},
     "output_type": "display_data"
    },
    {
     "name": "stdout",
     "output_type": "stream",
     "text": [
      "-----------------------\n",
      "\n",
      "\n",
      "Регион 3: \n"
     ]
    },
    {
     "data": {
      "text/html": [
       "<div>\n",
       "<style scoped>\n",
       "    .dataframe tbody tr th:only-of-type {\n",
       "        vertical-align: middle;\n",
       "    }\n",
       "\n",
       "    .dataframe tbody tr th {\n",
       "        vertical-align: top;\n",
       "    }\n",
       "\n",
       "    .dataframe thead th {\n",
       "        text-align: right;\n",
       "    }\n",
       "</style>\n",
       "<table border=\"1\" class=\"dataframe\">\n",
       "  <thead>\n",
       "    <tr style=\"text-align: right;\">\n",
       "      <th></th>\n",
       "      <th>f0</th>\n",
       "      <th>f1</th>\n",
       "      <th>f2</th>\n",
       "      <th>product</th>\n",
       "    </tr>\n",
       "  </thead>\n",
       "  <tbody>\n",
       "    <tr>\n",
       "      <th>0</th>\n",
       "      <td>-1.146987</td>\n",
       "      <td>0.963328</td>\n",
       "      <td>-0.828965</td>\n",
       "      <td>27.758673</td>\n",
       "    </tr>\n",
       "    <tr>\n",
       "      <th>1</th>\n",
       "      <td>0.262778</td>\n",
       "      <td>0.269839</td>\n",
       "      <td>-2.530187</td>\n",
       "      <td>56.069697</td>\n",
       "    </tr>\n",
       "    <tr>\n",
       "      <th>2</th>\n",
       "      <td>0.194587</td>\n",
       "      <td>0.289035</td>\n",
       "      <td>-5.586433</td>\n",
       "      <td>62.871910</td>\n",
       "    </tr>\n",
       "    <tr>\n",
       "      <th>3</th>\n",
       "      <td>2.236060</td>\n",
       "      <td>-0.553760</td>\n",
       "      <td>0.930038</td>\n",
       "      <td>114.572842</td>\n",
       "    </tr>\n",
       "    <tr>\n",
       "      <th>4</th>\n",
       "      <td>-0.515993</td>\n",
       "      <td>1.716266</td>\n",
       "      <td>5.899011</td>\n",
       "      <td>149.600746</td>\n",
       "    </tr>\n",
       "  </tbody>\n",
       "</table>\n",
       "</div>"
      ],
      "text/plain": [
       "         f0        f1        f2     product\n",
       "0 -1.146987  0.963328 -0.828965   27.758673\n",
       "1  0.262778  0.269839 -2.530187   56.069697\n",
       "2  0.194587  0.289035 -5.586433   62.871910\n",
       "3  2.236060 -0.553760  0.930038  114.572842\n",
       "4 -0.515993  1.716266  5.899011  149.600746"
      ]
     },
     "metadata": {},
     "output_type": "display_data"
    },
    {
     "name": "stdout",
     "output_type": "stream",
     "text": [
      "-----------------------\n",
      "\n",
      "\n"
     ]
    }
   ],
   "source": [
    "# удалим столбец id из всех наборов\n",
    "i = 1\n",
    "for region in [df1, df2, df3]:\n",
    "    print(f'Регион {i}: ')\n",
    "    region=region.drop(['id'],axis=1)\n",
    "    display(region.head(5))\n",
    "    print('-----------------------\\n\\n')\n",
    "    i+=1"
   ]
  },
  {
   "cell_type": "markdown",
   "metadata": {},
   "source": [
    "## Обучение и проверка модели"
   ]
  },
  {
   "cell_type": "code",
   "execution_count": 10,
   "metadata": {},
   "outputs": [],
   "source": [
    "def split(data):\n",
    "    features = data.drop(['product', 'id'], axis=1)\n",
    "    target = data['product']\n",
    "    features_train, features_valid, target_train, target_valid = train_test_split(features, \n",
    "                                                                                  target, \n",
    "                                                                                  test_size=0.25, \n",
    "                                                                                  random_state=STATE)\n",
    "    scaler = MinMaxScaler()\n",
    "    features_train = scaler.fit_transform(features_train)\n",
    "    features_valid = scaler.transform(features_valid)\n",
    "    \n",
    "    return features_train, features_valid, target_train, target_valid"
   ]
  },
  {
   "cell_type": "code",
   "execution_count": 11,
   "metadata": {},
   "outputs": [],
   "source": [
    "def train(data):\n",
    "    features_train, features_valid, target_train, target_valid = split(data)\n",
    "    lr = LinearRegression(normalize=False)\n",
    "    lr.fit(features_train, target_train)\n",
    "    predictions = lr.predict(features_valid)\n",
    "    predictions = pd.Series(predictions)\n",
    "    rmse = mean_squared_error(predictions, target_valid,squared=False)\n",
    "    average_product = sum(predictions) / len(predictions)\n",
    "    \n",
    "    print('RMSE: {0:.2f}'.format(rmse))\n",
    "    print('Average product: {0:.2f}'.format(average_product))\n",
    "    \n",
    "    return (predictions, target_valid.reset_index(drop=True), rmse)"
   ]
  },
  {
   "cell_type": "code",
   "execution_count": 12,
   "metadata": {},
   "outputs": [
    {
     "name": "stdout",
     "output_type": "stream",
     "text": [
      "Регион 1: \n",
      "RMSE: 37.58\n",
      "Average product: 92.59\n",
      "-----------------------\n",
      "\n",
      "\n",
      "Регион 2: \n",
      "RMSE: 0.89\n",
      "Average product: 68.77\n",
      "-----------------------\n",
      "\n",
      "\n",
      "Регион 3: \n",
      "RMSE: 39.96\n",
      "Average product: 95.09\n",
      "-----------------------\n",
      "\n",
      "\n"
     ]
    }
   ],
   "source": [
    "i = 1\n",
    "for region in [df1, df2, df3]:\n",
    "    print(f'Регион {i}: ')\n",
    "    train(region)\n",
    "    print('-----------------------\\n\\n')\n",
    "    i+=1"
   ]
  },
  {
   "cell_type": "code",
   "execution_count": 13,
   "metadata": {},
   "outputs": [
    {
     "name": "stdout",
     "output_type": "stream",
     "text": [
      "RMSE: 37.58\n",
      "Average product: 92.66\n",
      "RMSE: 0.89\n",
      "Average product: 69.22\n",
      "RMSE: 40.03\n",
      "Average product: 95.05\n"
     ]
    }
   ],
   "source": [
    "predict_1, valid_1, rmse_1 = train(df1)\n",
    "predict_2, valid_2, rmse_2 = train(df2)\n",
    "predict_3, valid_3, rmse_3 = train(df3)"
   ]
  },
  {
   "cell_type": "markdown",
   "metadata": {},
   "source": [
    "Из вывода видно, что в регионе 1 и 3 предсказанные значение в районе 92 и 95 баррелей но возможность ошибки 37 и 40, А вот уже по региону №2 выходу предсказание продукции получатеся 69 баррелей, квадратичная ошибка предсказания тут уже меньше 1."
   ]
  },
  {
   "cell_type": "markdown",
   "metadata": {},
   "source": [
    "## Подготовка к расчёту прибыли"
   ]
  },
  {
   "cell_type": "code",
   "execution_count": 14,
   "metadata": {},
   "outputs": [],
   "source": [
    "RES_POINTS = 500\n",
    "TOP_RES_POINTS = 200\n",
    "BARREL_PRICE = 450\n",
    "PRODUCT_PRICE = BARREL_PRICE * 1000\n",
    "REG_BUDGET = 10**10\n",
    "MAX_LOSS = 0.025"
   ]
  },
  {
   "cell_type": "code",
   "execution_count": 15,
   "metadata": {},
   "outputs": [
    {
     "data": {
      "text/plain": [
       "50000000.0"
      ]
     },
     "execution_count": 15,
     "metadata": {},
     "output_type": "execute_result"
    }
   ],
   "source": [
    "budget_per_point = REG_BUDGET / TOP_RES_POINTS\n",
    "budget_per_point"
   ]
  },
  {
   "cell_type": "markdown",
   "metadata": {},
   "source": [
    "Средняя прибыль на лучшие точки 50 млн. руб"
   ]
  },
  {
   "cell_type": "code",
   "execution_count": 16,
   "metadata": {},
   "outputs": [
    {
     "data": {
      "text/plain": [
       "111.11111111111111"
      ]
     },
     "execution_count": 16,
     "metadata": {},
     "output_type": "execute_result"
    }
   ],
   "source": [
    "min_product = budget_per_point / PRODUCT_PRICE\n",
    "min_product"
   ]
  },
  {
   "cell_type": "markdown",
   "metadata": {},
   "source": [
    "Мимнимальное кол-во баррелей для безубыточности на точку 111\n",
    "Запас сырья в скважинах меньше, чем точка безубыточности."
   ]
  },
  {
   "cell_type": "markdown",
   "metadata": {},
   "source": [
    "## Расчёт прибыли и рисков "
   ]
  },
  {
   "cell_type": "code",
   "execution_count": 17,
   "metadata": {},
   "outputs": [],
   "source": [
    "def profit(predictions, target):\n",
    "    top_preds = predictions.sort_values(ascending=False)\n",
    "    top_target = target[top_preds.index][:TOP_RES_POINTS]\n",
    "    revenue = top_target.sum() * PRODUCT_PRICE\n",
    "    return revenue - REG_BUDGET"
   ]
  },
  {
   "cell_type": "code",
   "execution_count": 18,
   "metadata": {},
   "outputs": [],
   "source": [
    "def find_conf_interval_and_loss_risk(predictions, target):\n",
    "    revenue = []\n",
    "    for count in range(1000):\n",
    "        target_sample = target.sample(RES_POINTS, replace=True, random_state=STATE)\n",
    "        predictions_sample = predictions[target_sample.index]\n",
    "        revenue.append(profit(predictions_sample, target_sample)) \n",
    "        \n",
    "    lower = int(np.percentile(revenue, 2.5))\n",
    "    higher = int(np.percentile(revenue, 97.5))\n",
    "    mean_revenue = int(sum(revenue) / len(revenue))\n",
    "    risk = st.percentileofscore(revenue, 0)\n",
    "\n",
    "    return ((lower, higher), mean_revenue, risk)"
   ]
  },
  {
   "cell_type": "code",
   "execution_count": 19,
   "metadata": {},
   "outputs": [
    {
     "name": "stdout",
     "output_type": "stream",
     "text": [
      "Регион 1:\n",
      "\n",
      "-----------------------------------------\n",
      "средня прибыль: 429391603\n",
      "95% Доверительный интервал: (-84479358, 937137724)\n",
      "Риск потери: 5.300000000000001\n",
      "-----------------------------------------\n",
      "\n",
      "\n",
      "Регион 2:\n",
      "\n",
      "-----------------------------------------\n",
      "средня прибыль: 545654352\n",
      "95% Доверительный интервал: (163077982, 976343911)\n",
      "Риск потери: 0.2\n",
      "-----------------------------------------\n",
      "\n",
      "\n",
      "Регион 3:\n",
      "\n",
      "-----------------------------------------\n",
      "средня прибыль: 432511156\n",
      "95% Доверительный интервал: (-153555072, 967178973)\n",
      "Риск потери: 6.4\n",
      "-----------------------------------------\n",
      "\n",
      "\n"
     ]
    }
   ],
   "source": [
    "i = 1\n",
    "for preds, target in zip([predict_1, predict_2, predict_3], \n",
    "                         [valid_1, valid_2, valid_3]):\n",
    "    interval, mean_revenue, risk = find_conf_interval_and_loss_risk(preds, target)\n",
    "    print(f'Регион {i}:')\n",
    "    print(\"\\n-----------------------------------------\")\n",
    "    print(f'средня прибыль: {mean_revenue}')\n",
    "    print(f'95% Доверительный интервал: {interval}')\n",
    "    print(f'Риск потери: {risk}')\n",
    "    print('-----------------------------------------\\n\\n')\n",
    "    i+=1"
   ]
  },
  {
   "cell_type": "markdown",
   "metadata": {},
   "source": [
    "\n",
    "Вывод:\n",
    "\n",
    "1. В начале мы провели исследовательский анализ данных, проверили датасеты на наличие пропусков, дупликатов, а также посмотрели на распределения признаков, которые, в общем, оказались распределены не нормально.\n",
    "2. Построили линейную модель, для предсказания объемов нефти в скважинах.\n",
    "3. Затем мы выполнили процедуру бутстрэпа и нашли 95% доверительный интервал для среднего объема нефти в скважинах. Наиболее перспективным для разработки представляется регион № 2, поскольку риски убытков наименьшие, а средняя прибыль наибольшая.\n"
   ]
  }
 ],
 "metadata": {
  "ExecuteTimeLog": [
   {
    "duration": 87,
    "start_time": "2023-03-28T19:39:28.406Z"
   },
   {
    "duration": 1853,
    "start_time": "2023-03-28T19:39:32.312Z"
   },
   {
    "duration": 2682,
    "start_time": "2023-03-28T19:39:34.172Z"
   },
   {
    "duration": 23,
    "start_time": "2023-03-28T19:39:36.855Z"
   },
   {
    "duration": 32,
    "start_time": "2023-03-28T19:39:36.879Z"
   },
   {
    "duration": 384,
    "start_time": "2023-03-28T19:39:36.914Z"
   },
   {
    "duration": 1434,
    "start_time": "2023-03-28T19:41:09.447Z"
   },
   {
    "duration": 431,
    "start_time": "2023-03-28T19:41:10.883Z"
   },
   {
    "duration": 15,
    "start_time": "2023-03-28T19:41:11.315Z"
   },
   {
    "duration": 3,
    "start_time": "2023-03-28T19:41:11.332Z"
   },
   {
    "duration": 367,
    "start_time": "2023-03-28T19:41:11.337Z"
   },
   {
    "duration": 317,
    "start_time": "2023-03-28T19:41:11.706Z"
   },
   {
    "duration": 359,
    "start_time": "2023-03-28T19:41:12.025Z"
   },
   {
    "duration": 6,
    "start_time": "2023-03-28T19:51:26.599Z"
   },
   {
    "duration": 447,
    "start_time": "2023-03-28T19:51:28.628Z"
   },
   {
    "duration": 1432,
    "start_time": "2023-03-28T19:51:41.011Z"
   },
   {
    "duration": 462,
    "start_time": "2023-03-28T19:51:42.445Z"
   },
   {
    "duration": 12,
    "start_time": "2023-03-28T19:51:42.908Z"
   },
   {
    "duration": 4,
    "start_time": "2023-03-28T19:51:42.922Z"
   },
   {
    "duration": 403,
    "start_time": "2023-03-28T19:51:42.927Z"
   },
   {
    "duration": 369,
    "start_time": "2023-03-28T19:51:43.332Z"
   },
   {
    "duration": 377,
    "start_time": "2023-03-28T19:51:43.713Z"
   },
   {
    "duration": 10,
    "start_time": "2023-03-28T19:52:15.549Z"
   },
   {
    "duration": 468,
    "start_time": "2023-03-28T19:52:16.023Z"
   },
   {
    "duration": 9,
    "start_time": "2023-03-28T19:52:42.045Z"
   },
   {
    "duration": 447,
    "start_time": "2023-03-28T19:52:42.678Z"
   },
   {
    "duration": 417,
    "start_time": "2023-03-28T19:52:52.191Z"
   },
   {
    "duration": 426,
    "start_time": "2023-03-28T19:53:13.278Z"
   },
   {
    "duration": 88,
    "start_time": "2023-03-28T19:56:10.411Z"
   },
   {
    "duration": 3,
    "start_time": "2023-03-28T19:56:24.037Z"
   },
   {
    "duration": 7,
    "start_time": "2023-03-28T19:56:38.492Z"
   },
   {
    "duration": 13,
    "start_time": "2023-03-28T19:56:50.091Z"
   },
   {
    "duration": 11,
    "start_time": "2023-03-28T19:57:05.732Z"
   },
   {
    "duration": 10,
    "start_time": "2023-03-28T19:57:34.325Z"
   },
   {
    "duration": 11,
    "start_time": "2023-03-28T19:57:45.917Z"
   },
   {
    "duration": 455,
    "start_time": "2023-03-28T19:57:55.945Z"
   },
   {
    "duration": 9,
    "start_time": "2023-03-28T19:58:37.483Z"
   },
   {
    "duration": 398,
    "start_time": "2023-03-28T20:00:38.642Z"
   },
   {
    "duration": 108,
    "start_time": "2023-03-28T20:00:45.788Z"
   },
   {
    "duration": 12,
    "start_time": "2023-03-28T20:01:25.229Z"
   },
   {
    "duration": 409,
    "start_time": "2023-03-28T20:01:37.116Z"
   },
   {
    "duration": 3,
    "start_time": "2023-03-28T20:02:16.493Z"
   },
   {
    "duration": 438,
    "start_time": "2023-03-28T20:02:18.187Z"
   },
   {
    "duration": 5,
    "start_time": "2023-03-28T20:02:26.917Z"
   },
   {
    "duration": 456,
    "start_time": "2023-03-28T20:02:27.535Z"
   },
   {
    "duration": 3,
    "start_time": "2023-03-28T20:04:45.842Z"
   },
   {
    "duration": 475,
    "start_time": "2023-03-28T20:04:46.888Z"
   },
   {
    "duration": 639,
    "start_time": "2023-03-28T20:05:04.918Z"
   },
   {
    "duration": 5,
    "start_time": "2023-03-28T20:06:05.609Z"
   },
   {
    "duration": 726,
    "start_time": "2023-03-28T20:06:06.268Z"
   },
   {
    "duration": 743,
    "start_time": "2023-03-28T20:06:13.292Z"
   },
   {
    "duration": 584,
    "start_time": "2023-03-28T20:06:16.463Z"
   },
   {
    "duration": 10,
    "start_time": "2023-03-28T20:06:34.780Z"
   },
   {
    "duration": 35,
    "start_time": "2023-03-28T20:06:35.912Z"
   },
   {
    "duration": 15,
    "start_time": "2023-03-28T20:06:37.321Z"
   },
   {
    "duration": 19,
    "start_time": "2023-03-28T20:06:37.976Z"
   },
   {
    "duration": 17,
    "start_time": "2023-03-28T20:17:10.074Z"
   },
   {
    "duration": 125,
    "start_time": "2023-03-28T20:17:34.508Z"
   },
   {
    "duration": 78,
    "start_time": "2023-03-28T20:18:13.342Z"
   },
   {
    "duration": 1786,
    "start_time": "2023-03-28T20:18:37.481Z"
   },
   {
    "duration": 455,
    "start_time": "2023-03-28T20:18:39.268Z"
   },
   {
    "duration": 11,
    "start_time": "2023-03-28T20:18:39.728Z"
   },
   {
    "duration": 50,
    "start_time": "2023-03-28T20:18:39.741Z"
   },
   {
    "duration": 669,
    "start_time": "2023-03-28T20:18:39.794Z"
   },
   {
    "duration": 647,
    "start_time": "2023-03-28T20:18:40.464Z"
   },
   {
    "duration": 590,
    "start_time": "2023-03-28T20:18:41.113Z"
   },
   {
    "duration": 3,
    "start_time": "2023-03-28T20:18:41.720Z"
   },
   {
    "duration": 23,
    "start_time": "2023-03-28T20:18:41.725Z"
   },
   {
    "duration": 45,
    "start_time": "2023-03-28T20:18:41.763Z"
   },
   {
    "duration": 17,
    "start_time": "2023-03-28T20:18:41.810Z"
   },
   {
    "duration": 3,
    "start_time": "2023-03-28T20:18:41.829Z"
   },
   {
    "duration": 199,
    "start_time": "2023-03-28T20:18:41.833Z"
   },
   {
    "duration": 52,
    "start_time": "2023-03-28T20:19:38.687Z"
   },
   {
    "duration": 3,
    "start_time": "2023-03-28T20:20:04.919Z"
   },
   {
    "duration": 37,
    "start_time": "2023-03-28T20:20:05.418Z"
   },
   {
    "duration": 5,
    "start_time": "2023-03-28T20:20:13.108Z"
   },
   {
    "duration": 12,
    "start_time": "2023-03-28T20:20:14.417Z"
   },
   {
    "duration": 7,
    "start_time": "2023-03-28T20:20:55.634Z"
   },
   {
    "duration": 33,
    "start_time": "2023-03-28T20:21:04.532Z"
   },
   {
    "duration": 8,
    "start_time": "2023-03-28T20:22:02.779Z"
   },
   {
    "duration": 42,
    "start_time": "2023-03-28T20:22:14.332Z"
   },
   {
    "duration": 16,
    "start_time": "2023-03-28T20:22:49.951Z"
   },
   {
    "duration": 63,
    "start_time": "2023-03-28T20:22:51.236Z"
   },
   {
    "duration": 7,
    "start_time": "2023-03-28T20:23:03.718Z"
   },
   {
    "duration": 21,
    "start_time": "2023-03-28T20:23:04.311Z"
   },
   {
    "duration": 5,
    "start_time": "2023-03-28T20:23:18.135Z"
   },
   {
    "duration": 47,
    "start_time": "2023-03-28T20:23:19.991Z"
   },
   {
    "duration": 11,
    "start_time": "2023-03-28T20:23:51.108Z"
   },
   {
    "duration": 31,
    "start_time": "2023-03-28T20:23:56.386Z"
   },
   {
    "duration": 1637,
    "start_time": "2023-03-29T05:30:23.927Z"
   },
   {
    "duration": 878,
    "start_time": "2023-03-29T05:30:25.567Z"
   },
   {
    "duration": 13,
    "start_time": "2023-03-29T05:30:26.447Z"
   },
   {
    "duration": 4,
    "start_time": "2023-03-29T05:30:26.462Z"
   },
   {
    "duration": 514,
    "start_time": "2023-03-29T05:30:26.467Z"
   },
   {
    "duration": 545,
    "start_time": "2023-03-29T05:30:26.983Z"
   },
   {
    "duration": 498,
    "start_time": "2023-03-29T05:30:27.530Z"
   },
   {
    "duration": 4,
    "start_time": "2023-03-29T05:30:28.030Z"
   },
   {
    "duration": 140,
    "start_time": "2023-03-29T05:30:28.035Z"
   },
   {
    "duration": 49,
    "start_time": "2023-03-29T18:36:01.257Z"
   },
   {
    "duration": 1192,
    "start_time": "2023-03-29T18:36:16.363Z"
   },
   {
    "duration": 0,
    "start_time": "2023-03-29T18:36:17.557Z"
   },
   {
    "duration": 0,
    "start_time": "2023-03-29T18:36:17.558Z"
   },
   {
    "duration": 0,
    "start_time": "2023-03-29T18:36:17.560Z"
   },
   {
    "duration": 0,
    "start_time": "2023-03-29T18:36:17.561Z"
   },
   {
    "duration": 0,
    "start_time": "2023-03-29T18:36:17.562Z"
   },
   {
    "duration": 0,
    "start_time": "2023-03-29T18:36:17.564Z"
   },
   {
    "duration": 0,
    "start_time": "2023-03-29T18:36:17.565Z"
   },
   {
    "duration": 0,
    "start_time": "2023-03-29T18:36:17.566Z"
   },
   {
    "duration": 0,
    "start_time": "2023-03-29T18:36:17.567Z"
   },
   {
    "duration": 0,
    "start_time": "2023-03-29T18:36:17.568Z"
   },
   {
    "duration": 462,
    "start_time": "2023-03-29T18:37:01.661Z"
   },
   {
    "duration": 941,
    "start_time": "2023-03-29T18:37:03.744Z"
   },
   {
    "duration": 14,
    "start_time": "2023-03-29T18:37:05.690Z"
   },
   {
    "duration": 5,
    "start_time": "2023-03-29T18:37:09.344Z"
   },
   {
    "duration": 502,
    "start_time": "2023-03-29T18:37:16.191Z"
   },
   {
    "duration": 527,
    "start_time": "2023-03-29T18:37:16.786Z"
   },
   {
    "duration": 513,
    "start_time": "2023-03-29T18:37:21.140Z"
   },
   {
    "duration": 60,
    "start_time": "2023-03-29T18:37:26.096Z"
   },
   {
    "duration": 14,
    "start_time": "2023-03-29T18:37:52.818Z"
   },
   {
    "duration": 12,
    "start_time": "2023-03-29T18:38:05.785Z"
   },
   {
    "duration": 3,
    "start_time": "2023-03-29T18:39:15.028Z"
   },
   {
    "duration": 3,
    "start_time": "2023-03-29T18:39:38.972Z"
   },
   {
    "duration": 13,
    "start_time": "2023-03-29T18:39:39.583Z"
   },
   {
    "duration": 10,
    "start_time": "2023-03-29T18:39:53.118Z"
   },
   {
    "duration": 3,
    "start_time": "2023-03-29T18:42:09.170Z"
   },
   {
    "duration": 15,
    "start_time": "2023-03-29T18:42:10.993Z"
   },
   {
    "duration": 3,
    "start_time": "2023-03-29T18:42:29.803Z"
   },
   {
    "duration": 10,
    "start_time": "2023-03-29T18:42:31.825Z"
   },
   {
    "duration": 10,
    "start_time": "2023-03-29T18:42:38.347Z"
   },
   {
    "duration": 15,
    "start_time": "2023-03-29T18:42:46.220Z"
   },
   {
    "duration": 3,
    "start_time": "2023-03-29T18:44:33.612Z"
   },
   {
    "duration": 23,
    "start_time": "2023-03-29T18:44:34.166Z"
   },
   {
    "duration": 20,
    "start_time": "2023-03-29T18:44:50.926Z"
   },
   {
    "duration": 39,
    "start_time": "2023-03-29T18:44:55.614Z"
   },
   {
    "duration": 3,
    "start_time": "2023-03-29T18:48:43.429Z"
   },
   {
    "duration": 36115,
    "start_time": "2023-03-29T18:48:44.800Z"
   },
   {
    "duration": 9,
    "start_time": "2023-03-29T18:49:20.917Z"
   },
   {
    "duration": 3,
    "start_time": "2023-03-29T18:49:33.389Z"
   },
   {
    "duration": 24402,
    "start_time": "2023-03-29T18:49:34.230Z"
   },
   {
    "duration": 10,
    "start_time": "2023-03-29T18:49:58.634Z"
   },
   {
    "duration": 30,
    "start_time": "2023-03-29T18:50:23.824Z"
   },
   {
    "duration": 1462,
    "start_time": "2023-03-29T18:50:33.761Z"
   },
   {
    "duration": 364,
    "start_time": "2023-03-29T18:50:35.225Z"
   },
   {
    "duration": 14,
    "start_time": "2023-03-29T18:50:35.591Z"
   },
   {
    "duration": 8,
    "start_time": "2023-03-29T18:50:35.607Z"
   },
   {
    "duration": 504,
    "start_time": "2023-03-29T18:50:35.617Z"
   },
   {
    "duration": 489,
    "start_time": "2023-03-29T18:50:36.122Z"
   },
   {
    "duration": 493,
    "start_time": "2023-03-29T18:50:36.613Z"
   },
   {
    "duration": 3,
    "start_time": "2023-03-29T18:50:37.108Z"
   },
   {
    "duration": 134,
    "start_time": "2023-03-29T18:50:37.114Z"
   },
   {
    "duration": 0,
    "start_time": "2023-03-29T18:50:37.250Z"
   },
   {
    "duration": 0,
    "start_time": "2023-03-29T18:50:37.252Z"
   },
   {
    "duration": 0,
    "start_time": "2023-03-29T18:50:37.261Z"
   },
   {
    "duration": 0,
    "start_time": "2023-03-29T18:50:37.264Z"
   },
   {
    "duration": 33,
    "start_time": "2023-03-29T18:51:10.296Z"
   },
   {
    "duration": 24757,
    "start_time": "2023-03-29T18:51:17.633Z"
   },
   {
    "duration": 9,
    "start_time": "2023-03-29T18:51:42.392Z"
   },
   {
    "duration": 2,
    "start_time": "2023-03-29T18:52:18.412Z"
   },
   {
    "duration": 21,
    "start_time": "2023-03-29T18:52:19.787Z"
   },
   {
    "duration": 9,
    "start_time": "2023-03-29T18:52:29.195Z"
   },
   {
    "duration": 2,
    "start_time": "2023-03-29T18:52:37.091Z"
   },
   {
    "duration": 25,
    "start_time": "2023-03-29T18:52:38.635Z"
   },
   {
    "duration": 9,
    "start_time": "2023-03-29T18:52:45.427Z"
   },
   {
    "duration": 3,
    "start_time": "2023-03-29T18:59:17.758Z"
   },
   {
    "duration": 29,
    "start_time": "2023-03-29T18:59:19.813Z"
   },
   {
    "duration": 3,
    "start_time": "2023-03-29T18:59:24.279Z"
   },
   {
    "duration": 24,
    "start_time": "2023-03-29T18:59:25.590Z"
   },
   {
    "duration": 4,
    "start_time": "2023-03-29T18:59:43.364Z"
   },
   {
    "duration": 3,
    "start_time": "2023-03-29T18:59:51.064Z"
   },
   {
    "duration": 28,
    "start_time": "2023-03-29T18:59:52.263Z"
   },
   {
    "duration": 38034,
    "start_time": "2023-03-29T19:00:09.824Z"
   },
   {
    "duration": 10,
    "start_time": "2023-03-29T19:00:47.862Z"
   },
   {
    "duration": 35787,
    "start_time": "2023-03-29T19:00:56.848Z"
   },
   {
    "duration": 10,
    "start_time": "2023-03-29T19:01:32.637Z"
   },
   {
    "duration": 35139,
    "start_time": "2023-03-29T19:01:59.195Z"
   },
   {
    "duration": 11,
    "start_time": "2023-03-29T19:02:35.509Z"
   },
   {
    "duration": 3,
    "start_time": "2023-03-29T19:04:00.647Z"
   },
   {
    "duration": 21,
    "start_time": "2023-03-29T19:04:02.996Z"
   },
   {
    "duration": 1381,
    "start_time": "2023-03-29T19:04:18.625Z"
   },
   {
    "duration": 375,
    "start_time": "2023-03-29T19:04:20.008Z"
   },
   {
    "duration": 13,
    "start_time": "2023-03-29T19:04:20.385Z"
   },
   {
    "duration": 5,
    "start_time": "2023-03-29T19:04:20.400Z"
   },
   {
    "duration": 522,
    "start_time": "2023-03-29T19:04:20.406Z"
   },
   {
    "duration": 520,
    "start_time": "2023-03-29T19:04:20.930Z"
   },
   {
    "duration": 494,
    "start_time": "2023-03-29T19:04:21.451Z"
   },
   {
    "duration": 4,
    "start_time": "2023-03-29T19:04:21.947Z"
   },
   {
    "duration": 24501,
    "start_time": "2023-03-29T19:04:21.962Z"
   },
   {
    "duration": 5,
    "start_time": "2023-03-29T19:04:46.465Z"
   },
   {
    "duration": 98,
    "start_time": "2023-03-29T19:04:46.472Z"
   },
   {
    "duration": 0,
    "start_time": "2023-03-29T19:04:46.571Z"
   },
   {
    "duration": 0,
    "start_time": "2023-03-29T19:04:46.573Z"
   },
   {
    "duration": 0,
    "start_time": "2023-03-29T19:04:46.574Z"
   },
   {
    "duration": 3,
    "start_time": "2023-03-29T19:04:57.921Z"
   },
   {
    "duration": 480,
    "start_time": "2023-03-29T19:04:59.942Z"
   },
   {
    "duration": 2,
    "start_time": "2023-03-29T19:05:06.491Z"
   },
   {
    "duration": 303,
    "start_time": "2023-03-29T19:05:08.033Z"
   },
   {
    "duration": 5,
    "start_time": "2023-03-29T19:05:21.659Z"
   },
   {
    "duration": 1316,
    "start_time": "2023-03-29T19:05:36.302Z"
   },
   {
    "duration": 359,
    "start_time": "2023-03-29T19:05:37.620Z"
   },
   {
    "duration": 14,
    "start_time": "2023-03-29T19:05:37.981Z"
   },
   {
    "duration": 4,
    "start_time": "2023-03-29T19:05:37.998Z"
   },
   {
    "duration": 485,
    "start_time": "2023-03-29T19:05:38.004Z"
   },
   {
    "duration": 464,
    "start_time": "2023-03-29T19:05:38.491Z"
   },
   {
    "duration": 476,
    "start_time": "2023-03-29T19:05:38.957Z"
   },
   {
    "duration": 3,
    "start_time": "2023-03-29T19:05:39.435Z"
   },
   {
    "duration": 35263,
    "start_time": "2023-03-29T19:05:39.439Z"
   },
   {
    "duration": 9,
    "start_time": "2023-03-29T19:06:14.704Z"
   },
   {
    "duration": 79,
    "start_time": "2023-03-29T19:06:14.715Z"
   },
   {
    "duration": 0,
    "start_time": "2023-03-29T19:06:14.796Z"
   },
   {
    "duration": 0,
    "start_time": "2023-03-29T19:06:14.798Z"
   },
   {
    "duration": 0,
    "start_time": "2023-03-29T19:06:14.799Z"
   },
   {
    "duration": 1373,
    "start_time": "2023-03-29T19:07:46.339Z"
   },
   {
    "duration": 358,
    "start_time": "2023-03-29T19:07:47.714Z"
   },
   {
    "duration": 14,
    "start_time": "2023-03-29T19:07:48.074Z"
   },
   {
    "duration": 5,
    "start_time": "2023-03-29T19:07:48.090Z"
   },
   {
    "duration": 520,
    "start_time": "2023-03-29T19:07:48.097Z"
   },
   {
    "duration": 504,
    "start_time": "2023-03-29T19:07:48.619Z"
   },
   {
    "duration": 480,
    "start_time": "2023-03-29T19:07:49.124Z"
   },
   {
    "duration": 3,
    "start_time": "2023-03-29T19:07:49.606Z"
   },
   {
    "duration": 9,
    "start_time": "2023-03-29T19:07:49.610Z"
   },
   {
    "duration": 10,
    "start_time": "2023-03-29T19:07:49.621Z"
   },
   {
    "duration": 34367,
    "start_time": "2023-03-29T19:07:49.633Z"
   },
   {
    "duration": 0,
    "start_time": "2023-03-29T19:08:24.002Z"
   },
   {
    "duration": 0,
    "start_time": "2023-03-29T19:08:24.004Z"
   },
   {
    "duration": 0,
    "start_time": "2023-03-29T19:08:24.005Z"
   },
   {
    "duration": 1362,
    "start_time": "2023-03-29T19:09:45.743Z"
   },
   {
    "duration": 357,
    "start_time": "2023-03-29T19:09:47.107Z"
   },
   {
    "duration": 12,
    "start_time": "2023-03-29T19:09:47.466Z"
   },
   {
    "duration": 5,
    "start_time": "2023-03-29T19:09:47.480Z"
   },
   {
    "duration": 500,
    "start_time": "2023-03-29T19:09:47.486Z"
   },
   {
    "duration": 474,
    "start_time": "2023-03-29T19:09:47.988Z"
   },
   {
    "duration": 469,
    "start_time": "2023-03-29T19:09:48.463Z"
   },
   {
    "duration": 16,
    "start_time": "2023-03-29T19:09:48.933Z"
   },
   {
    "duration": 14,
    "start_time": "2023-03-29T19:09:48.950Z"
   },
   {
    "duration": 128,
    "start_time": "2023-03-29T19:09:48.967Z"
   },
   {
    "duration": 0,
    "start_time": "2023-03-29T19:09:49.096Z"
   },
   {
    "duration": 1425,
    "start_time": "2023-03-29T19:11:57.595Z"
   },
   {
    "duration": 1544,
    "start_time": "2023-03-29T19:12:50.792Z"
   },
   {
    "duration": 1544,
    "start_time": "2023-03-29T19:13:13.841Z"
   },
   {
    "duration": 13,
    "start_time": "2023-03-29T19:13:42.132Z"
   },
   {
    "duration": 1455,
    "start_time": "2023-03-29T19:13:53.398Z"
   },
   {
    "duration": 11,
    "start_time": "2023-03-29T19:19:04.386Z"
   },
   {
    "duration": 20,
    "start_time": "2023-03-29T19:19:10.438Z"
   },
   {
    "duration": 4,
    "start_time": "2023-03-29T19:20:32.670Z"
   },
   {
    "duration": 24,
    "start_time": "2023-03-29T19:20:33.283Z"
   },
   {
    "duration": 14,
    "start_time": "2023-03-29T19:21:32.531Z"
   },
   {
    "duration": 10,
    "start_time": "2023-03-29T19:21:44.707Z"
   },
   {
    "duration": 9,
    "start_time": "2023-03-29T19:21:53.372Z"
   },
   {
    "duration": 69,
    "start_time": "2023-03-29T19:23:42.709Z"
   },
   {
    "duration": 105,
    "start_time": "2023-03-29T19:26:42.133Z"
   },
   {
    "duration": 4,
    "start_time": "2023-03-29T19:26:48.539Z"
   },
   {
    "duration": 13,
    "start_time": "2023-03-29T19:26:59.725Z"
   },
   {
    "duration": 4,
    "start_time": "2023-03-29T19:27:26.924Z"
   },
   {
    "duration": 10,
    "start_time": "2023-03-29T19:27:32.097Z"
   },
   {
    "duration": 5,
    "start_time": "2023-03-29T19:27:48.741Z"
   },
   {
    "duration": 28,
    "start_time": "2023-03-29T19:27:51.917Z"
   },
   {
    "duration": 5,
    "start_time": "2023-03-29T19:31:42.074Z"
   },
   {
    "duration": 5,
    "start_time": "2023-03-29T19:31:51.128Z"
   },
   {
    "duration": 5,
    "start_time": "2023-03-29T19:31:55.147Z"
   },
   {
    "duration": 5,
    "start_time": "2023-03-29T19:32:08.203Z"
   },
   {
    "duration": 6,
    "start_time": "2023-03-29T19:33:07.454Z"
   },
   {
    "duration": 106,
    "start_time": "2023-03-29T19:33:08.855Z"
   },
   {
    "duration": 4,
    "start_time": "2023-03-29T19:33:40.256Z"
   },
   {
    "duration": 57,
    "start_time": "2023-03-29T19:33:41.105Z"
   },
   {
    "duration": 409,
    "start_time": "2023-03-29T19:34:47.258Z"
   },
   {
    "duration": 11,
    "start_time": "2023-03-29T19:37:52.368Z"
   },
   {
    "duration": 402,
    "start_time": "2023-03-29T19:38:02.469Z"
   },
   {
    "duration": 330,
    "start_time": "2023-03-29T19:38:37.641Z"
   },
   {
    "duration": 414,
    "start_time": "2023-03-29T19:38:46.247Z"
   },
   {
    "duration": 365,
    "start_time": "2023-03-29T19:38:55.399Z"
   },
   {
    "duration": 418,
    "start_time": "2023-03-29T19:47:02.349Z"
   },
   {
    "duration": 4,
    "start_time": "2023-03-29T19:47:17.475Z"
   },
   {
    "duration": 94,
    "start_time": "2023-03-29T19:47:47.531Z"
   },
   {
    "duration": 73,
    "start_time": "2023-03-29T19:47:58.987Z"
   },
   {
    "duration": 180,
    "start_time": "2023-03-29T19:48:12.163Z"
   },
   {
    "duration": 83,
    "start_time": "2023-03-29T19:50:06.272Z"
   },
   {
    "duration": 125,
    "start_time": "2023-03-29T19:50:15.032Z"
   },
   {
    "duration": 13,
    "start_time": "2023-03-29T19:55:54.488Z"
   },
   {
    "duration": 600,
    "start_time": "2023-03-29T19:56:00.561Z"
   },
   {
    "duration": 255,
    "start_time": "2023-03-29T19:57:08.722Z"
   },
   {
    "duration": 3,
    "start_time": "2023-03-29T20:02:32.356Z"
   },
   {
    "duration": 4,
    "start_time": "2023-03-29T20:02:44.195Z"
   },
   {
    "duration": 4,
    "start_time": "2023-03-29T20:06:10.994Z"
   },
   {
    "duration": 5,
    "start_time": "2023-03-29T20:06:53.162Z"
   },
   {
    "duration": 5,
    "start_time": "2023-03-29T20:07:02.314Z"
   },
   {
    "duration": 9,
    "start_time": "2023-03-29T20:15:50.713Z"
   },
   {
    "duration": 102,
    "start_time": "2023-03-29T20:15:53.521Z"
   },
   {
    "duration": 3,
    "start_time": "2023-03-29T20:16:03.169Z"
   },
   {
    "duration": 4,
    "start_time": "2023-03-29T20:16:04.665Z"
   },
   {
    "duration": 4,
    "start_time": "2023-03-29T20:16:10.690Z"
   },
   {
    "duration": 3,
    "start_time": "2023-03-29T20:17:06.491Z"
   },
   {
    "duration": 4,
    "start_time": "2023-03-29T20:17:14.195Z"
   },
   {
    "duration": 7,
    "start_time": "2023-03-29T20:17:52.100Z"
   },
   {
    "duration": 1359,
    "start_time": "2023-03-29T20:18:31.606Z"
   },
   {
    "duration": 374,
    "start_time": "2023-03-29T20:18:32.967Z"
   },
   {
    "duration": 25,
    "start_time": "2023-03-29T20:18:33.343Z"
   },
   {
    "duration": 5,
    "start_time": "2023-03-29T20:18:33.370Z"
   },
   {
    "duration": 545,
    "start_time": "2023-03-29T20:18:33.377Z"
   },
   {
    "duration": 524,
    "start_time": "2023-03-29T20:18:33.925Z"
   },
   {
    "duration": 525,
    "start_time": "2023-03-29T20:18:34.451Z"
   },
   {
    "duration": 23,
    "start_time": "2023-03-29T20:18:34.978Z"
   },
   {
    "duration": 21,
    "start_time": "2023-03-29T20:18:35.004Z"
   },
   {
    "duration": 42,
    "start_time": "2023-03-29T20:18:35.029Z"
   },
   {
    "duration": 4,
    "start_time": "2023-03-29T20:18:35.073Z"
   },
   {
    "duration": 394,
    "start_time": "2023-03-29T20:18:35.080Z"
   },
   {
    "duration": 499,
    "start_time": "2023-03-29T20:18:35.476Z"
   },
   {
    "duration": 4,
    "start_time": "2023-03-29T20:18:35.977Z"
   },
   {
    "duration": 110,
    "start_time": "2023-03-29T20:18:36.062Z"
   },
   {
    "duration": 16,
    "start_time": "2023-03-29T20:18:36.174Z"
   },
   {
    "duration": 1629,
    "start_time": "2023-03-30T19:53:55.272Z"
   },
   {
    "duration": 2100,
    "start_time": "2023-03-30T19:53:56.904Z"
   },
   {
    "duration": 14,
    "start_time": "2023-03-30T19:53:59.006Z"
   },
   {
    "duration": 4,
    "start_time": "2023-03-30T19:53:59.022Z"
   },
   {
    "duration": 499,
    "start_time": "2023-03-30T19:53:59.028Z"
   },
   {
    "duration": 493,
    "start_time": "2023-03-30T19:53:59.533Z"
   },
   {
    "duration": 530,
    "start_time": "2023-03-30T19:54:00.028Z"
   },
   {
    "duration": 18,
    "start_time": "2023-03-30T19:54:00.560Z"
   },
   {
    "duration": 43,
    "start_time": "2023-03-30T19:54:00.580Z"
   },
   {
    "duration": 37,
    "start_time": "2023-03-30T19:54:00.626Z"
   },
   {
    "duration": 383,
    "start_time": "2023-03-30T19:54:00.665Z"
   },
   {
    "duration": 491,
    "start_time": "2023-03-30T19:54:01.051Z"
   },
   {
    "duration": 92,
    "start_time": "2023-03-30T19:54:01.544Z"
   },
   {
    "duration": 97,
    "start_time": "2023-03-30T19:54:01.639Z"
   },
   {
    "duration": 34,
    "start_time": "2023-03-30T19:54:01.738Z"
   },
   {
    "duration": 43,
    "start_time": "2023-03-30T19:54:01.773Z"
   },
   {
    "duration": 51,
    "start_time": "2023-03-30T19:54:01.818Z"
   },
   {
    "duration": 122,
    "start_time": "2023-03-30T19:54:44.732Z"
   },
   {
    "duration": 9,
    "start_time": "2023-03-30T19:57:04.728Z"
   },
   {
    "duration": 487,
    "start_time": "2023-03-30T19:57:45.154Z"
   },
   {
    "duration": 14,
    "start_time": "2023-03-30T19:57:50.618Z"
   },
   {
    "duration": 3,
    "start_time": "2023-03-30T19:58:55.003Z"
   },
   {
    "duration": 12,
    "start_time": "2023-03-30T19:58:57.071Z"
   },
   {
    "duration": 4,
    "start_time": "2023-03-30T19:59:08.187Z"
   },
   {
    "duration": 4,
    "start_time": "2023-03-30T19:59:08.668Z"
   },
   {
    "duration": 4,
    "start_time": "2023-03-30T19:59:35.684Z"
   },
   {
    "duration": 5,
    "start_time": "2023-03-30T19:59:36.365Z"
   },
   {
    "duration": 15,
    "start_time": "2023-03-30T19:59:37.005Z"
   },
   {
    "duration": 4,
    "start_time": "2023-03-30T20:00:10.573Z"
   },
   {
    "duration": 13,
    "start_time": "2023-03-30T20:00:13.169Z"
   },
   {
    "duration": 11,
    "start_time": "2023-03-30T20:01:24.623Z"
   },
   {
    "duration": 3,
    "start_time": "2023-03-30T20:01:27.432Z"
   },
   {
    "duration": 4,
    "start_time": "2023-03-30T20:01:27.832Z"
   },
   {
    "duration": 5,
    "start_time": "2023-03-30T20:01:28.290Z"
   },
   {
    "duration": 4,
    "start_time": "2023-03-30T20:01:28.824Z"
   },
   {
    "duration": 20,
    "start_time": "2023-03-30T20:01:31.337Z"
   },
   {
    "duration": 4,
    "start_time": "2023-03-30T20:02:20.705Z"
   },
   {
    "duration": 5,
    "start_time": "2023-03-30T20:02:21.601Z"
   },
   {
    "duration": 5,
    "start_time": "2023-03-30T20:03:14.917Z"
   },
   {
    "duration": 15,
    "start_time": "2023-03-30T20:03:15.603Z"
   },
   {
    "duration": 3,
    "start_time": "2023-03-30T20:04:00.268Z"
   },
   {
    "duration": 4,
    "start_time": "2023-03-30T20:04:00.740Z"
   },
   {
    "duration": 5,
    "start_time": "2023-03-30T20:04:01.135Z"
   },
   {
    "duration": 4,
    "start_time": "2023-03-30T20:04:03.236Z"
   },
   {
    "duration": 5,
    "start_time": "2023-03-30T20:04:05.037Z"
   },
   {
    "duration": 1741,
    "start_time": "2023-03-30T20:05:04.053Z"
   },
   {
    "duration": 482,
    "start_time": "2023-03-30T20:05:05.796Z"
   },
   {
    "duration": 13,
    "start_time": "2023-03-30T20:05:06.280Z"
   },
   {
    "duration": 23,
    "start_time": "2023-03-30T20:05:06.295Z"
   },
   {
    "duration": 671,
    "start_time": "2023-03-30T20:05:06.321Z"
   },
   {
    "duration": 588,
    "start_time": "2023-03-30T20:05:06.994Z"
   },
   {
    "duration": 592,
    "start_time": "2023-03-30T20:05:07.584Z"
   },
   {
    "duration": 16,
    "start_time": "2023-03-30T20:05:08.178Z"
   },
   {
    "duration": 9,
    "start_time": "2023-03-30T20:05:08.196Z"
   },
   {
    "duration": 22,
    "start_time": "2023-03-30T20:05:08.207Z"
   },
   {
    "duration": 428,
    "start_time": "2023-03-30T20:05:08.231Z"
   },
   {
    "duration": 593,
    "start_time": "2023-03-30T20:05:08.661Z"
   },
   {
    "duration": 3,
    "start_time": "2023-03-30T20:05:09.257Z"
   },
   {
    "duration": 7,
    "start_time": "2023-03-30T20:05:09.336Z"
   },
   {
    "duration": 110,
    "start_time": "2023-03-30T20:05:09.347Z"
   },
   {
    "duration": 12,
    "start_time": "2023-03-30T20:05:09.459Z"
   },
   {
    "duration": 30,
    "start_time": "2023-03-30T20:05:09.473Z"
   },
   {
    "duration": 20,
    "start_time": "2023-03-30T20:05:09.504Z"
   },
   {
    "duration": 4,
    "start_time": "2023-03-30T20:05:36.858Z"
   },
   {
    "duration": 3,
    "start_time": "2023-03-30T20:05:50.392Z"
   },
   {
    "duration": 4,
    "start_time": "2023-03-30T20:05:50.801Z"
   },
   {
    "duration": 3,
    "start_time": "2023-03-30T20:05:51.520Z"
   },
   {
    "duration": 4,
    "start_time": "2023-03-30T20:05:52.471Z"
   },
   {
    "duration": 5,
    "start_time": "2023-03-30T20:05:54.375Z"
   },
   {
    "duration": 3,
    "start_time": "2023-03-30T20:06:18.503Z"
   },
   {
    "duration": 3,
    "start_time": "2023-03-30T20:07:28.130Z"
   },
   {
    "duration": 121,
    "start_time": "2023-03-30T20:07:29.322Z"
   },
   {
    "duration": 4,
    "start_time": "2023-03-30T20:07:32.209Z"
   },
   {
    "duration": 15,
    "start_time": "2023-03-30T20:07:35.402Z"
   },
   {
    "duration": 3,
    "start_time": "2023-03-30T20:07:39.130Z"
   },
   {
    "duration": 4,
    "start_time": "2023-03-30T20:07:40.299Z"
   },
   {
    "duration": 4,
    "start_time": "2023-03-30T20:07:41.795Z"
   },
   {
    "duration": 4,
    "start_time": "2023-03-30T20:07:43.314Z"
   },
   {
    "duration": 6,
    "start_time": "2023-03-30T20:07:44.547Z"
   },
   {
    "duration": 6,
    "start_time": "2023-03-30T20:07:49.699Z"
   },
   {
    "duration": 6,
    "start_time": "2023-03-30T20:07:52.421Z"
   },
   {
    "duration": 6,
    "start_time": "2023-03-30T20:07:54.691Z"
   },
   {
    "duration": 3,
    "start_time": "2023-03-30T20:08:56.252Z"
   },
   {
    "duration": 4,
    "start_time": "2023-03-30T20:08:56.917Z"
   },
   {
    "duration": 5,
    "start_time": "2023-03-30T20:08:57.621Z"
   },
   {
    "duration": 3,
    "start_time": "2023-03-30T20:09:08.212Z"
   },
   {
    "duration": 6,
    "start_time": "2023-03-30T20:09:09.981Z"
   },
   {
    "duration": 5,
    "start_time": "2023-03-30T20:09:12.246Z"
   },
   {
    "duration": 1775,
    "start_time": "2023-04-04T11:26:42.149Z"
   },
   {
    "duration": 1201,
    "start_time": "2023-04-04T11:26:43.927Z"
   },
   {
    "duration": 13,
    "start_time": "2023-04-04T11:26:45.131Z"
   },
   {
    "duration": 5,
    "start_time": "2023-04-04T11:26:45.146Z"
   },
   {
    "duration": 580,
    "start_time": "2023-04-04T11:26:45.152Z"
   },
   {
    "duration": 579,
    "start_time": "2023-04-04T11:26:45.734Z"
   },
   {
    "duration": 567,
    "start_time": "2023-04-04T11:26:46.316Z"
   },
   {
    "duration": 26,
    "start_time": "2023-04-04T11:26:46.885Z"
   },
   {
    "duration": 5,
    "start_time": "2023-04-04T11:26:46.914Z"
   },
   {
    "duration": 9,
    "start_time": "2023-04-04T11:26:46.922Z"
   },
   {
    "duration": 433,
    "start_time": "2023-04-04T11:26:46.933Z"
   },
   {
    "duration": 490,
    "start_time": "2023-04-04T11:26:47.377Z"
   },
   {
    "duration": 79,
    "start_time": "2023-04-04T11:26:47.882Z"
   },
   {
    "duration": 32,
    "start_time": "2023-04-04T11:26:47.977Z"
   },
   {
    "duration": 11,
    "start_time": "2023-04-04T11:26:48.011Z"
   },
   {
    "duration": 7,
    "start_time": "2023-04-04T11:26:48.024Z"
   },
   {
    "duration": 14,
    "start_time": "2023-04-04T11:26:48.032Z"
   },
   {
    "duration": 12,
    "start_time": "2023-04-04T11:26:48.048Z"
   },
   {
    "duration": 5,
    "start_time": "2023-04-04T11:30:39.104Z"
   },
   {
    "duration": 425,
    "start_time": "2023-04-04T11:30:39.751Z"
   },
   {
    "duration": 518,
    "start_time": "2023-04-04T11:30:47.734Z"
   },
   {
    "duration": 446,
    "start_time": "2023-04-04T11:31:02.687Z"
   },
   {
    "duration": 23,
    "start_time": "2023-04-04T11:34:16.142Z"
   },
   {
    "duration": 34,
    "start_time": "2023-04-04T11:34:21.734Z"
   },
   {
    "duration": 5,
    "start_time": "2023-04-04T11:34:22.695Z"
   },
   {
    "duration": 23,
    "start_time": "2023-04-04T11:34:28.318Z"
   },
   {
    "duration": 5,
    "start_time": "2023-04-04T11:34:36.378Z"
   },
   {
    "duration": 485,
    "start_time": "2023-04-04T11:34:57.983Z"
   },
   {
    "duration": 419,
    "start_time": "2023-04-04T11:35:00.561Z"
   },
   {
    "duration": 364,
    "start_time": "2023-04-04T11:35:03.508Z"
   },
   {
    "duration": 348,
    "start_time": "2023-04-04T11:35:06.534Z"
   },
   {
    "duration": 4,
    "start_time": "2023-04-04T11:37:01.129Z"
   },
   {
    "duration": 4,
    "start_time": "2023-04-04T11:37:01.682Z"
   },
   {
    "duration": 6,
    "start_time": "2023-04-04T11:37:02.590Z"
   },
   {
    "duration": 6,
    "start_time": "2023-04-04T11:37:03.679Z"
   },
   {
    "duration": 5,
    "start_time": "2023-04-04T11:37:04.441Z"
   },
   {
    "duration": 4,
    "start_time": "2023-04-04T11:37:24.563Z"
   },
   {
    "duration": 5,
    "start_time": "2023-04-04T11:50:58.643Z"
   },
   {
    "duration": 5,
    "start_time": "2023-04-04T11:51:04.921Z"
   },
   {
    "duration": 81,
    "start_time": "2023-04-04T11:51:53.676Z"
   },
   {
    "duration": 89,
    "start_time": "2023-04-04T11:52:18.234Z"
   },
   {
    "duration": 112,
    "start_time": "2023-04-04T11:52:27.379Z"
   },
   {
    "duration": 129,
    "start_time": "2023-04-04T11:52:39.188Z"
   },
   {
    "duration": 8,
    "start_time": "2023-04-04T11:53:23.003Z"
   },
   {
    "duration": 8,
    "start_time": "2023-04-04T11:53:26.459Z"
   },
   {
    "duration": 9,
    "start_time": "2023-04-04T11:53:28.691Z"
   },
   {
    "duration": 9,
    "start_time": "2023-04-04T11:53:30.488Z"
   },
   {
    "duration": 4,
    "start_time": "2023-04-04T12:00:10.106Z"
   },
   {
    "duration": 6,
    "start_time": "2023-04-04T12:00:14.323Z"
   },
   {
    "duration": 1680,
    "start_time": "2023-04-04T12:00:41.596Z"
   },
   {
    "duration": 939,
    "start_time": "2023-04-04T12:00:43.278Z"
   },
   {
    "duration": 20,
    "start_time": "2023-04-04T12:00:44.220Z"
   },
   {
    "duration": 31,
    "start_time": "2023-04-04T12:00:44.242Z"
   },
   {
    "duration": 515,
    "start_time": "2023-04-04T12:00:44.289Z"
   },
   {
    "duration": 502,
    "start_time": "2023-04-04T12:00:44.806Z"
   },
   {
    "duration": 517,
    "start_time": "2023-04-04T12:00:45.310Z"
   },
   {
    "duration": 17,
    "start_time": "2023-04-04T12:00:45.829Z"
   },
   {
    "duration": 25,
    "start_time": "2023-04-04T12:00:45.862Z"
   },
   {
    "duration": 57,
    "start_time": "2023-04-04T12:00:45.890Z"
   },
   {
    "duration": 521,
    "start_time": "2023-04-04T12:00:45.950Z"
   },
   {
    "duration": 528,
    "start_time": "2023-04-04T12:00:46.478Z"
   },
   {
    "duration": 4,
    "start_time": "2023-04-04T12:00:47.007Z"
   },
   {
    "duration": 72,
    "start_time": "2023-04-04T12:00:47.013Z"
   },
   {
    "duration": 71,
    "start_time": "2023-04-04T12:00:47.099Z"
   },
   {
    "duration": 12,
    "start_time": "2023-04-04T12:00:47.175Z"
   },
   {
    "duration": 37,
    "start_time": "2023-04-04T12:00:47.189Z"
   },
   {
    "duration": 8,
    "start_time": "2023-04-04T12:03:44.248Z"
   },
   {
    "duration": 160,
    "start_time": "2023-04-04T12:04:03.706Z"
   },
   {
    "duration": 4,
    "start_time": "2023-04-04T12:27:50.945Z"
   },
   {
    "duration": 9,
    "start_time": "2023-04-04T12:28:09.060Z"
   },
   {
    "duration": 17,
    "start_time": "2023-04-04T12:28:24.746Z"
   },
   {
    "duration": 24,
    "start_time": "2023-04-04T12:29:00.875Z"
   },
   {
    "duration": 27,
    "start_time": "2023-04-04T12:29:09.752Z"
   },
   {
    "duration": 18,
    "start_time": "2023-04-04T12:29:14.634Z"
   },
   {
    "duration": 6,
    "start_time": "2023-04-04T12:29:33.825Z"
   },
   {
    "duration": 38,
    "start_time": "2023-04-04T12:29:34.400Z"
   },
   {
    "duration": 3,
    "start_time": "2023-04-04T12:29:37.344Z"
   },
   {
    "duration": 9,
    "start_time": "2023-04-04T12:29:37.893Z"
   },
   {
    "duration": 35,
    "start_time": "2023-04-04T12:29:38.449Z"
   },
   {
    "duration": 5,
    "start_time": "2023-04-04T12:30:43.504Z"
   },
   {
    "duration": 11,
    "start_time": "2023-04-04T12:30:44.008Z"
   },
   {
    "duration": 28,
    "start_time": "2023-04-04T12:30:44.492Z"
   },
   {
    "duration": 4,
    "start_time": "2023-04-04T12:31:24.254Z"
   },
   {
    "duration": 5,
    "start_time": "2023-04-04T12:31:24.808Z"
   },
   {
    "duration": 28,
    "start_time": "2023-04-04T12:31:25.256Z"
   },
   {
    "duration": 4,
    "start_time": "2023-04-04T12:31:32.405Z"
   },
   {
    "duration": 8,
    "start_time": "2023-04-04T12:31:32.888Z"
   },
   {
    "duration": 5381,
    "start_time": "2023-04-04T12:31:33.336Z"
   },
   {
    "duration": 5067,
    "start_time": "2023-04-04T12:32:01.252Z"
   },
   {
    "duration": 5280,
    "start_time": "2023-04-04T12:32:11.632Z"
   },
   {
    "duration": 94,
    "start_time": "2023-04-04T13:26:55.350Z"
   },
   {
    "duration": 78,
    "start_time": "2023-04-04T13:27:07.844Z"
   },
   {
    "duration": 68,
    "start_time": "2023-04-04T13:27:12.124Z"
   },
   {
    "duration": 4311,
    "start_time": "2023-04-04T13:27:21.083Z"
   },
   {
    "duration": 4699,
    "start_time": "2023-04-04T13:51:47.126Z"
   },
   {
    "duration": 4876,
    "start_time": "2023-04-04T13:52:44.008Z"
   },
   {
    "duration": 15,
    "start_time": "2023-04-04T13:54:05.437Z"
   },
   {
    "duration": 12,
    "start_time": "2023-04-04T13:54:13.684Z"
   },
   {
    "duration": 4440,
    "start_time": "2023-04-04T13:54:20.053Z"
   },
   {
    "duration": 341,
    "start_time": "2023-04-04T14:11:31.736Z"
   },
   {
    "duration": 406,
    "start_time": "2023-04-04T14:11:34.687Z"
   },
   {
    "duration": 546,
    "start_time": "2023-04-04T14:11:37.216Z"
   },
   {
    "duration": 4,
    "start_time": "2023-04-04T14:18:27.639Z"
   },
   {
    "duration": 183,
    "start_time": "2023-04-04T14:18:28.679Z"
   },
   {
    "duration": 5,
    "start_time": "2023-04-04T14:18:58.247Z"
   },
   {
    "duration": 402,
    "start_time": "2023-04-04T14:19:07.967Z"
   },
   {
    "duration": 434,
    "start_time": "2023-04-04T14:19:12.847Z"
   },
   {
    "duration": 412,
    "start_time": "2023-04-04T14:19:15.852Z"
   },
   {
    "duration": 1493,
    "start_time": "2023-04-04T14:19:21.543Z"
   },
   {
    "duration": 725,
    "start_time": "2023-04-04T14:19:23.038Z"
   },
   {
    "duration": 15,
    "start_time": "2023-04-04T14:19:23.765Z"
   },
   {
    "duration": 7,
    "start_time": "2023-04-04T14:19:23.783Z"
   },
   {
    "duration": 565,
    "start_time": "2023-04-04T14:19:23.792Z"
   },
   {
    "duration": 508,
    "start_time": "2023-04-04T14:19:24.364Z"
   },
   {
    "duration": 500,
    "start_time": "2023-04-04T14:19:24.874Z"
   },
   {
    "duration": 33,
    "start_time": "2023-04-04T14:19:25.376Z"
   },
   {
    "duration": 6,
    "start_time": "2023-04-04T14:19:25.411Z"
   },
   {
    "duration": 33,
    "start_time": "2023-04-04T14:19:25.419Z"
   },
   {
    "duration": 409,
    "start_time": "2023-04-04T14:19:25.454Z"
   },
   {
    "duration": 699,
    "start_time": "2023-04-04T14:19:25.864Z"
   },
   {
    "duration": 5,
    "start_time": "2023-04-04T14:19:26.565Z"
   },
   {
    "duration": 93,
    "start_time": "2023-04-04T14:19:26.572Z"
   },
   {
    "duration": 5,
    "start_time": "2023-04-04T14:19:26.669Z"
   },
   {
    "duration": 15,
    "start_time": "2023-04-04T14:19:26.676Z"
   },
   {
    "duration": 120,
    "start_time": "2023-04-04T14:19:26.694Z"
   },
   {
    "duration": 0,
    "start_time": "2023-04-04T14:19:26.816Z"
   },
   {
    "duration": 1570,
    "start_time": "2023-04-04T14:20:37.863Z"
   },
   {
    "duration": 467,
    "start_time": "2023-04-04T14:20:39.435Z"
   },
   {
    "duration": 17,
    "start_time": "2023-04-04T14:20:39.904Z"
   },
   {
    "duration": 13,
    "start_time": "2023-04-04T14:20:39.924Z"
   },
   {
    "duration": 638,
    "start_time": "2023-04-04T14:20:39.939Z"
   },
   {
    "duration": 474,
    "start_time": "2023-04-04T14:20:40.579Z"
   },
   {
    "duration": 527,
    "start_time": "2023-04-04T14:20:41.062Z"
   },
   {
    "duration": 21,
    "start_time": "2023-04-04T14:20:41.591Z"
   },
   {
    "duration": 7,
    "start_time": "2023-04-04T14:20:41.614Z"
   },
   {
    "duration": 24,
    "start_time": "2023-04-04T14:20:41.625Z"
   },
   {
    "duration": 432,
    "start_time": "2023-04-04T14:20:41.651Z"
   },
   {
    "duration": 776,
    "start_time": "2023-04-04T14:20:42.085Z"
   },
   {
    "duration": 4,
    "start_time": "2023-04-04T14:20:42.864Z"
   },
   {
    "duration": 91,
    "start_time": "2023-04-04T14:20:42.871Z"
   },
   {
    "duration": 4,
    "start_time": "2023-04-04T14:20:42.964Z"
   },
   {
    "duration": 6,
    "start_time": "2023-04-04T14:20:42.970Z"
   },
   {
    "duration": 22,
    "start_time": "2023-04-04T14:20:42.977Z"
   },
   {
    "duration": 4837,
    "start_time": "2023-04-04T14:20:43.001Z"
   },
   {
    "duration": 77,
    "start_time": "2023-04-04T14:25:10.254Z"
   },
   {
    "duration": 4832,
    "start_time": "2023-04-04T14:25:35.191Z"
   },
   {
    "duration": 5,
    "start_time": "2023-04-04T14:30:02.773Z"
   },
   {
    "duration": 4437,
    "start_time": "2023-04-04T14:30:03.684Z"
   },
   {
    "duration": 4461,
    "start_time": "2023-04-04T14:30:12.476Z"
   },
   {
    "duration": 1760,
    "start_time": "2023-04-10T09:20:46.673Z"
   },
   {
    "duration": 2434,
    "start_time": "2023-04-10T09:20:48.435Z"
   },
   {
    "duration": 39,
    "start_time": "2023-04-10T09:20:50.872Z"
   },
   {
    "duration": 45,
    "start_time": "2023-04-10T09:20:50.915Z"
   },
   {
    "duration": 590,
    "start_time": "2023-04-10T09:20:50.962Z"
   },
   {
    "duration": 581,
    "start_time": "2023-04-10T09:20:51.554Z"
   },
   {
    "duration": 620,
    "start_time": "2023-04-10T09:20:52.136Z"
   },
   {
    "duration": 19,
    "start_time": "2023-04-10T09:20:52.758Z"
   },
   {
    "duration": 68,
    "start_time": "2023-04-10T09:20:52.786Z"
   },
   {
    "duration": 29,
    "start_time": "2023-04-10T09:20:52.856Z"
   },
   {
    "duration": 414,
    "start_time": "2023-04-10T09:20:52.887Z"
   },
   {
    "duration": 577,
    "start_time": "2023-04-10T09:20:53.312Z"
   },
   {
    "duration": 4,
    "start_time": "2023-04-10T09:20:53.892Z"
   },
   {
    "duration": 51,
    "start_time": "2023-04-10T09:20:53.900Z"
   },
   {
    "duration": 5,
    "start_time": "2023-04-10T09:20:53.988Z"
   },
   {
    "duration": 46,
    "start_time": "2023-04-10T09:20:53.995Z"
   },
   {
    "duration": 9,
    "start_time": "2023-04-10T09:20:54.044Z"
   },
   {
    "duration": 5140,
    "start_time": "2023-04-10T09:20:54.055Z"
   },
   {
    "duration": 2263,
    "start_time": "2023-04-11T08:21:10.280Z"
   },
   {
    "duration": 417,
    "start_time": "2023-04-11T08:21:12.545Z"
   },
   {
    "duration": 23,
    "start_time": "2023-04-11T08:21:12.965Z"
   },
   {
    "duration": 5,
    "start_time": "2023-04-11T08:21:12.991Z"
   },
   {
    "duration": 459,
    "start_time": "2023-04-11T08:21:12.997Z"
   },
   {
    "duration": 472,
    "start_time": "2023-04-11T08:21:13.458Z"
   },
   {
    "duration": 526,
    "start_time": "2023-04-11T08:21:13.932Z"
   },
   {
    "duration": 27,
    "start_time": "2023-04-11T08:21:14.461Z"
   },
   {
    "duration": 13,
    "start_time": "2023-04-11T08:21:14.490Z"
   },
   {
    "duration": 13,
    "start_time": "2023-04-11T08:21:14.505Z"
   },
   {
    "duration": 483,
    "start_time": "2023-04-11T08:21:14.520Z"
   },
   {
    "duration": 515,
    "start_time": "2023-04-11T08:21:15.088Z"
   },
   {
    "duration": 82,
    "start_time": "2023-04-11T08:21:15.606Z"
   },
   {
    "duration": 98,
    "start_time": "2023-04-11T08:21:15.691Z"
   },
   {
    "duration": 13,
    "start_time": "2023-04-11T08:21:15.791Z"
   },
   {
    "duration": 8,
    "start_time": "2023-04-11T08:21:15.806Z"
   },
   {
    "duration": 11,
    "start_time": "2023-04-11T08:21:15.816Z"
   },
   {
    "duration": 4403,
    "start_time": "2023-04-11T08:21:15.829Z"
   },
   {
    "duration": 1785,
    "start_time": "2023-04-11T10:31:08.179Z"
   },
   {
    "duration": 1722,
    "start_time": "2023-04-11T10:31:09.967Z"
   },
   {
    "duration": 16,
    "start_time": "2023-04-11T10:31:11.692Z"
   },
   {
    "duration": 9,
    "start_time": "2023-04-11T10:31:11.710Z"
   },
   {
    "duration": 530,
    "start_time": "2023-04-11T10:31:11.721Z"
   },
   {
    "duration": 508,
    "start_time": "2023-04-11T10:31:12.254Z"
   },
   {
    "duration": 659,
    "start_time": "2023-04-11T10:31:12.766Z"
   },
   {
    "duration": 43,
    "start_time": "2023-04-11T10:31:13.427Z"
   },
   {
    "duration": 44,
    "start_time": "2023-04-11T10:31:13.474Z"
   },
   {
    "duration": 55,
    "start_time": "2023-04-11T10:31:13.521Z"
   },
   {
    "duration": 481,
    "start_time": "2023-04-11T10:31:13.578Z"
   },
   {
    "duration": 428,
    "start_time": "2023-04-11T10:31:14.140Z"
   },
   {
    "duration": 72,
    "start_time": "2023-04-11T10:31:14.571Z"
   },
   {
    "duration": 128,
    "start_time": "2023-04-11T10:31:14.646Z"
   },
   {
    "duration": 35,
    "start_time": "2023-04-11T10:31:14.776Z"
   },
   {
    "duration": 15,
    "start_time": "2023-04-11T10:31:14.814Z"
   },
   {
    "duration": 43,
    "start_time": "2023-04-11T10:31:14.831Z"
   },
   {
    "duration": 4751,
    "start_time": "2023-04-11T10:31:14.876Z"
   },
   {
    "duration": 41,
    "start_time": "2023-04-11T10:31:51.868Z"
   },
   {
    "duration": 65,
    "start_time": "2023-04-11T10:33:16.138Z"
   },
   {
    "duration": 4,
    "start_time": "2023-04-11T10:39:20.465Z"
   },
   {
    "duration": 315,
    "start_time": "2023-04-11T10:39:21.936Z"
   },
   {
    "duration": 4,
    "start_time": "2023-04-11T10:40:43.704Z"
   },
   {
    "duration": 420,
    "start_time": "2023-04-11T10:40:44.929Z"
   },
   {
    "duration": 346,
    "start_time": "2023-04-11T10:40:53.905Z"
   },
   {
    "duration": 5,
    "start_time": "2023-04-11T10:41:02.759Z"
   },
   {
    "duration": 430,
    "start_time": "2023-04-11T10:41:05.531Z"
   },
   {
    "duration": 378,
    "start_time": "2023-04-11T10:41:09.871Z"
   },
   {
    "duration": 6,
    "start_time": "2023-04-11T10:41:16.693Z"
   },
   {
    "duration": 5,
    "start_time": "2023-04-11T10:41:55.912Z"
   },
   {
    "duration": 531,
    "start_time": "2023-04-11T10:41:56.912Z"
   },
   {
    "duration": 298,
    "start_time": "2023-04-11T10:42:30.863Z"
   },
   {
    "duration": 5,
    "start_time": "2023-04-11T10:42:37.197Z"
   },
   {
    "duration": 350,
    "start_time": "2023-04-11T10:42:38.197Z"
   },
   {
    "duration": 483,
    "start_time": "2023-04-11T10:42:47.263Z"
   },
   {
    "duration": 5,
    "start_time": "2023-04-11T10:52:19.277Z"
   },
   {
    "duration": 4186,
    "start_time": "2023-04-11T10:52:26.175Z"
   },
   {
    "duration": 3,
    "start_time": "2023-04-11T10:52:54.966Z"
   },
   {
    "duration": 6,
    "start_time": "2023-04-11T10:52:56.255Z"
   },
   {
    "duration": 4234,
    "start_time": "2023-04-11T10:53:13.158Z"
   },
   {
    "duration": 368,
    "start_time": "2023-04-11T11:00:17.490Z"
   },
   {
    "duration": 46,
    "start_time": "2023-04-11T11:02:34.271Z"
   },
   {
    "duration": 1536,
    "start_time": "2023-04-11T11:02:34.319Z"
   },
   {
    "duration": 944,
    "start_time": "2023-04-11T11:02:35.857Z"
   },
   {
    "duration": 12,
    "start_time": "2023-04-11T11:02:36.803Z"
   },
   {
    "duration": 14,
    "start_time": "2023-04-11T11:02:36.818Z"
   },
   {
    "duration": 506,
    "start_time": "2023-04-11T11:02:36.835Z"
   },
   {
    "duration": 472,
    "start_time": "2023-04-11T11:02:37.342Z"
   },
   {
    "duration": 614,
    "start_time": "2023-04-11T11:02:37.816Z"
   },
   {
    "duration": 44,
    "start_time": "2023-04-11T11:02:38.432Z"
   },
   {
    "duration": 18,
    "start_time": "2023-04-11T11:02:38.478Z"
   },
   {
    "duration": 11,
    "start_time": "2023-04-11T11:02:38.499Z"
   },
   {
    "duration": 464,
    "start_time": "2023-04-11T11:02:38.512Z"
   },
   {
    "duration": 500,
    "start_time": "2023-04-11T11:02:38.978Z"
   },
   {
    "duration": 65,
    "start_time": "2023-04-11T11:02:39.481Z"
   },
   {
    "duration": 120,
    "start_time": "2023-04-11T11:02:39.549Z"
   },
   {
    "duration": 10,
    "start_time": "2023-04-11T11:02:39.671Z"
   },
   {
    "duration": 20,
    "start_time": "2023-04-11T11:02:39.683Z"
   },
   {
    "duration": 8,
    "start_time": "2023-04-11T11:02:39.705Z"
   },
   {
    "duration": 4599,
    "start_time": "2023-04-11T11:02:39.715Z"
   },
   {
    "duration": 56,
    "start_time": "2023-04-11T11:03:37.236Z"
   },
   {
    "duration": 1610,
    "start_time": "2023-04-11T11:03:37.294Z"
   },
   {
    "duration": 452,
    "start_time": "2023-04-11T11:03:38.906Z"
   },
   {
    "duration": 14,
    "start_time": "2023-04-11T11:03:39.360Z"
   },
   {
    "duration": 29,
    "start_time": "2023-04-11T11:03:39.376Z"
   },
   {
    "duration": 525,
    "start_time": "2023-04-11T11:03:39.407Z"
   },
   {
    "duration": 490,
    "start_time": "2023-04-11T11:03:39.934Z"
   },
   {
    "duration": 585,
    "start_time": "2023-04-11T11:03:40.426Z"
   },
   {
    "duration": 57,
    "start_time": "2023-04-11T11:03:41.013Z"
   },
   {
    "duration": 5,
    "start_time": "2023-04-11T11:03:41.073Z"
   },
   {
    "duration": 36,
    "start_time": "2023-04-11T11:03:41.079Z"
   },
   {
    "duration": 454,
    "start_time": "2023-04-11T11:03:41.117Z"
   },
   {
    "duration": 506,
    "start_time": "2023-04-11T11:03:41.574Z"
   },
   {
    "duration": 14,
    "start_time": "2023-04-11T11:03:42.149Z"
   },
   {
    "duration": 40,
    "start_time": "2023-04-11T11:03:42.247Z"
   },
   {
    "duration": 20,
    "start_time": "2023-04-11T11:03:42.289Z"
   },
   {
    "duration": 15,
    "start_time": "2023-04-11T11:03:42.312Z"
   },
   {
    "duration": 74,
    "start_time": "2023-04-11T11:03:42.329Z"
   },
   {
    "duration": 4863,
    "start_time": "2023-04-11T11:03:42.405Z"
   }
  ],
  "kernelspec": {
   "display_name": "Python 3 (ipykernel)",
   "language": "python",
   "name": "python3"
  },
  "language_info": {
   "codemirror_mode": {
    "name": "ipython",
    "version": 3
   },
   "file_extension": ".py",
   "mimetype": "text/x-python",
   "name": "python",
   "nbconvert_exporter": "python",
   "pygments_lexer": "ipython3",
   "version": "3.9.5"
  },
  "toc": {
   "base_numbering": 1,
   "nav_menu": {},
   "number_sections": true,
   "sideBar": true,
   "skip_h1_title": true,
   "title_cell": "Table of Contents",
   "title_sidebar": "Contents",
   "toc_cell": false,
   "toc_position": {},
   "toc_section_display": true,
   "toc_window_display": false
  }
 },
 "nbformat": 4,
 "nbformat_minor": 2
}
